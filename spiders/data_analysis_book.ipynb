{
 "cells": [
  {
   "cell_type": "code",
   "execution_count": 1,
   "id": "d3d3b34f",
   "metadata": {},
   "outputs": [
    {
     "name": "stdout",
     "output_type": "stream",
     "text": [
      "Collecting scrapy-fake-useragent\n",
      "  Downloading scrapy_fake_useragent-1.4.4-py2.py3-none-any.whl (6.8 kB)\n",
      "Collecting faker\n",
      "  Downloading Faker-14.2.0-py3-none-any.whl (1.6 MB)\n",
      "Collecting fake-useragent\n",
      "  Downloading fake-useragent-0.1.11.tar.gz (13 kB)\n",
      "Requirement already satisfied: python-dateutil>=2.4 in c:\\users\\diego\\anaconda3\\envs\\env1_cloned_tf\\lib\\site-packages (from faker->scrapy-fake-useragent) (2.8.1)\n",
      "Requirement already satisfied: six>=1.5 in c:\\users\\diego\\anaconda3\\envs\\env1_cloned_tf\\lib\\site-packages (from python-dateutil>=2.4->faker->scrapy-fake-useragent) (1.16.0)\n",
      "Building wheels for collected packages: fake-useragent\n",
      "  Building wheel for fake-useragent (setup.py): started\n",
      "  Building wheel for fake-useragent (setup.py): finished with status 'done'\n",
      "  Created wheel for fake-useragent: filename=fake_useragent-0.1.11-py3-none-any.whl size=13489 sha256=ce4d127febb5e2ab87b4e7f13c1d9cec99ced67420e5d0585f5ba4ff154d3046\n",
      "  Stored in directory: c:\\users\\diego\\appdata\\local\\pip\\cache\\wheels\\ae\\e7\\76\\7dd44644d065268ab0e1b4fa2e802fa4bb0157717b7d6c6d92\n",
      "Successfully built fake-useragent\n",
      "Installing collected packages: faker, fake-useragent, scrapy-fake-useragent\n",
      "Successfully installed fake-useragent-0.1.11 faker-14.2.0 scrapy-fake-useragent-1.4.4\n"
     ]
    }
   ],
   "source": [
    "#!pip install scrapy_proxies\n",
    "!pip install scrapy-fake-useragent"
   ]
  },
  {
   "cell_type": "code",
   "execution_count": 1,
   "id": "4502b396",
   "metadata": {},
   "outputs": [
    {
     "name": "stderr",
     "output_type": "stream",
     "text": [
      "2022-09-18 00:43:16 [scrapy.utils.log] INFO: Scrapy 2.6.2 started (bot: scrapybot)\n",
      "2022-09-18 00:43:16 [scrapy.utils.log] INFO: Versions: lxml 4.8.0.0, libxml2 2.9.12, cssselect 1.1.0, parsel 1.6.0, w3lib 1.22.0, Twisted 22.4.0, Python 3.9.5 (default, May 18 2021, 14:42:02) [MSC v.1916 64 bit (AMD64)], pyOpenSSL 20.0.1 (OpenSSL 1.1.1q  5 Jul 2022), cryptography 3.4.7, Platform Windows-10-10.0.22000-SP0\n",
      "2022-09-18 00:43:16 [scrapy.crawler] INFO: Overridden settings:\n",
      "{'USER_AGENT': 'Mozilla/5.0 (Macintosh; Intel Mac OS X 10_15_7) '\n",
      "               'AppleWebKit/605.1.15 (KHTML, like Gecko) Version/14.0 '\n",
      "               'Safari/605.1.15'}\n",
      "2022-09-18 00:43:16 [scrapy.utils.log] DEBUG: Using reactor: twisted.internet.selectreactor.SelectReactor\n",
      "2022-09-18 00:43:16 [scrapy.extensions.telnet] INFO: Telnet Password: c825d94408f71051\n",
      "2022-09-18 00:43:16 [scrapy.middleware] INFO: Enabled extensions:\n",
      "['scrapy.extensions.corestats.CoreStats',\n",
      " 'scrapy.extensions.telnet.TelnetConsole',\n",
      " 'scrapy.extensions.logstats.LogStats']\n",
      "2022-09-18 00:43:16 [scrapy.middleware] INFO: Enabled downloader middlewares:\n",
      "['scrapy.downloadermiddlewares.httpauth.HttpAuthMiddleware',\n",
      " 'scrapy.downloadermiddlewares.downloadtimeout.DownloadTimeoutMiddleware',\n",
      " 'scrapy.downloadermiddlewares.defaultheaders.DefaultHeadersMiddleware',\n",
      " 'scrapy.downloadermiddlewares.useragent.UserAgentMiddleware',\n",
      " 'scrapy.downloadermiddlewares.retry.RetryMiddleware',\n",
      " 'scrapy.downloadermiddlewares.redirect.MetaRefreshMiddleware',\n",
      " 'scrapy.downloadermiddlewares.httpcompression.HttpCompressionMiddleware',\n",
      " 'scrapy.downloadermiddlewares.redirect.RedirectMiddleware',\n",
      " 'scrapy.downloadermiddlewares.cookies.CookiesMiddleware',\n",
      " 'scrapy.downloadermiddlewares.httpproxy.HttpProxyMiddleware',\n",
      " 'scrapy.downloadermiddlewares.stats.DownloaderStats']\n",
      "2022-09-18 00:43:16 [scrapy.middleware] INFO: Enabled spider middlewares:\n",
      "['scrapy.spidermiddlewares.httperror.HttpErrorMiddleware',\n",
      " 'scrapy.spidermiddlewares.offsite.OffsiteMiddleware',\n",
      " 'scrapy.spidermiddlewares.referer.RefererMiddleware',\n",
      " 'scrapy.spidermiddlewares.urllength.UrlLengthMiddleware',\n",
      " 'scrapy.spidermiddlewares.depth.DepthMiddleware']\n",
      "2022-09-18 00:43:16 [scrapy.middleware] INFO: Enabled item pipelines:\n",
      "[]\n",
      "2022-09-18 00:43:16 [scrapy.core.engine] INFO: Spider opened\n",
      "2022-09-18 00:43:16 [scrapy.extensions.logstats] INFO: Crawled 0 pages (at 0 pages/min), scraped 0 items (at 0 items/min)\n",
      "2022-09-18 00:43:16 [scrapy.extensions.telnet] INFO: Telnet console listening on 127.0.0.1:6024\n",
      "2022-09-18 00:43:18 [filelock] DEBUG: Attempting to acquire lock 1778534564768 on C:\\Users\\diego\\anaconda3\\envs\\env1_cloned_tf\\lib\\site-packages\\tldextract\\.suffix_cache/publicsuffix.org-tlds\\de84b5ca2167d4c83e38fb162f2e8738.tldextract.json.lock\n",
      "2022-09-18 00:43:18 [filelock] DEBUG: Lock 1778534564768 acquired on C:\\Users\\diego\\anaconda3\\envs\\env1_cloned_tf\\lib\\site-packages\\tldextract\\.suffix_cache/publicsuffix.org-tlds\\de84b5ca2167d4c83e38fb162f2e8738.tldextract.json.lock\n",
      "2022-09-18 00:43:18 [filelock] DEBUG: Attempting to release lock 1778534564768 on C:\\Users\\diego\\anaconda3\\envs\\env1_cloned_tf\\lib\\site-packages\\tldextract\\.suffix_cache/publicsuffix.org-tlds\\de84b5ca2167d4c83e38fb162f2e8738.tldextract.json.lock\n",
      "2022-09-18 00:43:18 [filelock] DEBUG: Lock 1778534564768 released on C:\\Users\\diego\\anaconda3\\envs\\env1_cloned_tf\\lib\\site-packages\\tldextract\\.suffix_cache/publicsuffix.org-tlds\\de84b5ca2167d4c83e38fb162f2e8738.tldextract.json.lock\n",
      "2022-09-18 00:43:18 [scrapy.core.engine] DEBUG: Crawled (200) <GET https://www.amazon.com/s?k=data+analysis&ref=nb_sb_noss> (referer: None)\n"
     ]
    },
    {
     "name": "stdout",
     "output_type": "stream",
     "text": [
      "1\n",
      "SQL QuickStart Guide: The Simplified Beginner's Guide to Managing, Analyzing, and Manipulating Data With SQL\n",
      "How To Win With Your Data Visualizations: The 5 Part Guide for Junior Analysts to Create Effective Data Visualizations and Engaging Data Stories ... Data Visualization, and Communicating Data)\n",
      "Python for ArcGIS Pro: Automate cartography and data analysis using ArcPy, ArcGIS API for Python, Notebooks, and pandas\n",
      "Mastering Tableau 2021: Implement advanced business intelligence techniques and analytics with Tableau, 3rd Edition\n",
      "Python for Data Analysis: Data Wrangling with Pandas, NumPy, and IPython\n",
      "Python for Data Analysis: Data Wrangling with pandas, NumPy, and Jupyter\n",
      "Everything Data Analytics-A Beginner's Guide to Data Literacy: Understanding the Processes That Turn Data Into Insights (Guides for Data Analytics, Data Visualization, and Communicating Data)\n",
      "R Cookbook: Proven Recipes for Data Analysis, Statistics, and Graphics\n",
      "SQL for Data Analysis: Advanced Techniques for Transforming Data into Insights\n",
      "Microsoft Excel Data Analysis and Business Modeling (Office 2021 and Microsoft 365) (Business Skills)\n",
      "Qualitative Data Analysis: A Methods Sourcebook\n",
      "Guerrilla Data Analysis Using Microsoft Excel: Overcoming Crap Data and Excel Skirmishes\n",
      "Excel Data Analysis For Dummies (For Dummies (Computer/Tech))\n",
      "Data Analysis for Social Science: A Friendly and Practical Introduction\n",
      "Python Data Analysis: Perform data collection, data processing, wrangling, visualization, and model building using Python, 3rd Edition\n",
      "SQL for Data Scientists: A Beginner's Guide for Building Datasets for Analysis\n",
      "Excel 2022: Your Step-By-Step Beginners Guide To Master Excel By Discovering The Best Formulas And Functions, Pivot Tables, Business Modeling, Data Analysis and Macros\n",
      "Excel Formulas (Quick Study Computer)\n",
      "Data Science Projects with Python: A case study approach to gaining valuable insights from real data with machine learning, 2nd Edition\n",
      "Excel 2022: The Essential Guide to Excel Mastery. Learn +100 Shortcuts & Formulas. Discover Advanced Strategies & Tips to Master Datasets, Pivot Tables & Charts | With Step-by-Step Tutorials & Videos\n",
      "Excel Data Analysis For Dummies (For Dummies (Computer/Tech))\n",
      "Microsoft Excel 2019 Data Analysis and Business Modeling (Business Skills)\n",
      "Murach's Python for Data Analysis (Training & Reference)\n",
      "The Art of Data Analysis: Non-Technical Skills for Data Analysts\n",
      "Optimization for Data Analysis\n",
      "Head First Data Analysis: A learner's guide to big numbers, statistics, and good decisions\n",
      "Primer to Analysis of Genomic Data Using R (Use R!)\n",
      "Statistics and Data Analysis: From Elementary to Intermediate\n",
      "Data Analysis Using SQL and Excel\n",
      "Data Analysis for Social Scientists: A Foundational Crash Course\n",
      "Data Analysis for Business, Economics, and Policy\n",
      "Machine Learning in Bio-Signal Analysis and Diagnostic Imaging\n",
      "DATA ANALYTICS: A Comprehensive Beginner’s Guide To Learn About The Realms Of Data Analytics From A-Z\n",
      "Business Intelligence Guidebook: From Data Integration to Analytics\n",
      "Data Analysis for Business, Economics, and Policy\n",
      "The Kaggle Book: Data analysis and machine learning for competitive data science\n",
      "The Data Analysis Workshop: Solve business problems with state-of-the-art data analysis models, developing expert data analysis skills along the way\n",
      "Practical Statistics for Data Scientists: 50+ Essential Concepts Using R and Python\n",
      "Topological Data Analysis with Applications\n",
      "SQL for Data Analytics: Perform fast and efficient data analysis with the power of SQL\n",
      "Storytelling with Data: A Data Visualization Guide for Business Professionals\n",
      "Python for Data Science: A Hands-On Introduction\n",
      "SQL QuickStart Guide: The Simplified Beginner's Guide to Managing, Analyzing, and Manipulating Data With SQL\n",
      "Thinking Clearly with Data: A Guide to Quantitative Reasoning and Analysis\n",
      "Cleaning Data for Effective Data Science: Doing the other 80% of the work with Python, R, and command-line tools\n",
      "Ace the Data Science Interview: 201 Real Interview Questions Asked By FAANG, Tech Startups, & Wall Street\n",
      "Hands-On Data Preprocessing in Python: Learn how to effectively prepare data for successful data analytics\n",
      "Scalable Data Analytics with Azure Data Explorer: Modern ways to query, analyze, and perform real-time data analysis on large volumes of data\n",
      "Problems for \"Data Analysis for Social Scientists: A Foundational Crash Course\"\n",
      "MASTERING EXCEL DATA & STATISTICAL ANALYSIS: All-In-One Practical Approach to Creating and Analyzing Data, Charts And Pivot Tables for Better Business ... Tricks on Data Analysis & Business Modelling\n",
      "Essential R For Data Analysis: Data manipulation and visualization using R for beginning and intermediate users\n",
      "Data Analysis: Easy Methods To Process Data Into Useful Input For Fact-Based Decision-Making (Decision-making, Data collection, Data cleaning, Data visualization, Data interpretation,)\n",
      "Data Driven Fire Administration: An Introduction to Research Methods, Statistical Analysis and Analytic Management for the Fire Service\n",
      "How To Win With Your Data Visualizations: The 5 Part Guide for Junior Analysts to Create Effective Data Visualizations and Engaging Data Stories ... Data Visualization, and Communicating Data)\n",
      "Data Analysis in Qualitative Research: Theorizing with Abductive Analysis\n",
      "Regression Analysis: An Intuitive Guide for Using and Interpreting Linear Models\n",
      "Python for Excel: A Modern Environment for Automation and Data Analysis\n",
      "Data Visualization with Excel Dashboards and Reports\n",
      "Time Series Analysis with Python Cookbook: Practical recipes for exploratory data analysis, data preparation, forecasting, and model evaluation\n",
      "Storytelling with Data: Let's Practice!\n"
     ]
    },
    {
     "name": "stderr",
     "output_type": "stream",
     "text": [
      "2022-09-18 00:43:19 [scrapy.downloadermiddlewares.redirect] DEBUG: Redirecting (302) to <GET https://www.amazon.com/SQL-QuickStart-Guide-Simplified-Manipulating/dp/1945051752/ref=sr_1_1_sspa?keywords=data+analysis&qid=1663454597&sr=8-1-spons&psc=1&spLa=ZW5jcnlwdGVkUXVhbGlmaWVyPUExNDRNSks5NFNUWjZEJmVuY3J5cHRlZElkPUEwNDM5MjU4Rjk4T1JYNVhBUERRJmVuY3J5cHRlZEFkSWQ9QTAwNTkyNDEyTDdLVTdPWVJOVU5QJndpZGdldE5hbWU9c3BfYXRmJmFjdGlvbj1jbGlja1JlZGlyZWN0JmRvTm90TG9nQ2xpY2s9dHJ1ZQ==> from <GET https://www.amazon.com/gp/slredirect/picassoRedirect.html/ref=pa_sp_atf_aps_sr_pg1_1?ie=UTF8&adId=A00592412L7KU7OYRNUNP&url=%2FSQL-QuickStart-Guide-Simplified-Manipulating%2Fdp%2F1945051752%2Fref%3Dsr_1_1_sspa%3Fkeywords%3Ddata%2Banalysis%26qid%3D1663454597%26sr%3D8-1-spons%26psc%3D1&qualifier=1663454597&id=8970470033616320&widgetName=sp_atf>\n",
      "2022-09-18 00:43:19 [scrapy.downloadermiddlewares.redirect] DEBUG: Redirecting (302) to <GET https://www.amazon.com/How-Win-Your-Data-Visualizations/dp/1777967104/ref=sr_1_2_sspa?keywords=data+analysis&qid=1663454597&sr=8-2-spons&psc=1&spLa=ZW5jcnlwdGVkUXVhbGlmaWVyPUExNDRNSks5NFNUWjZEJmVuY3J5cHRlZElkPUEwNDM5MjU4Rjk4T1JYNVhBUERRJmVuY3J5cHRlZEFkSWQ9QTEwMzQ2MTgzTlNJMklFVUdRSzNaJndpZGdldE5hbWU9c3BfYXRmJmFjdGlvbj1jbGlja1JlZGlyZWN0JmRvTm90TG9nQ2xpY2s9dHJ1ZQ==> from <GET https://www.amazon.com/gp/slredirect/picassoRedirect.html/ref=pa_sp_atf_aps_sr_pg1_1?ie=UTF8&adId=A10346183NSI2IEUGQK3Z&url=%2FHow-Win-Your-Data-Visualizations%2Fdp%2F1777967104%2Fref%3Dsr_1_2_sspa%3Fkeywords%3Ddata%2Banalysis%26qid%3D1663454597%26sr%3D8-2-spons%26psc%3D1&qualifier=1663454597&id=8970470033616320&widgetName=sp_atf>\n",
      "2022-09-18 00:43:19 [scrapy.downloadermiddlewares.redirect] DEBUG: Redirecting (302) to <GET https://www.amazon.com/Python-ArcGIS-Pro-Automate-cartography/dp/1803241667/ref=sr_1_3_sspa?keywords=data+analysis&qid=1663454597&sr=8-3-spons&psc=1&spLa=ZW5jcnlwdGVkUXVhbGlmaWVyPUExNDRNSks5NFNUWjZEJmVuY3J5cHRlZElkPUEwNDM5MjU4Rjk4T1JYNVhBUERRJmVuY3J5cHRlZEFkSWQ9QTAwNjIyNDFBOUIyUThNSTFTMDUmd2lkZ2V0TmFtZT1zcF9hdGYmYWN0aW9uPWNsaWNrUmVkaXJlY3QmZG9Ob3RMb2dDbGljaz10cnVl> from <GET https://www.amazon.com/gp/slredirect/picassoRedirect.html/ref=pa_sp_atf_aps_sr_pg1_1?ie=UTF8&adId=A0062241A9B2Q8MI1S05&url=%2FPython-ArcGIS-Pro-Automate-cartography%2Fdp%2F1803241667%2Fref%3Dsr_1_3_sspa%3Fkeywords%3Ddata%2Banalysis%26qid%3D1663454597%26sr%3D8-3-spons%26psc%3D1&qualifier=1663454597&id=8970470033616320&widgetName=sp_atf>\n",
      "2022-09-18 00:43:19 [scrapy.downloadermiddlewares.redirect] DEBUG: Redirecting (302) to <GET https://www.amazon.com/Mastering-Tableau-2021-intelligence-techniques/dp/1800561644/ref=sr_1_4_sspa?keywords=data+analysis&qid=1663454597&sr=8-4-spons&psc=1&spLa=ZW5jcnlwdGVkUXVhbGlmaWVyPUExNDRNSks5NFNUWjZEJmVuY3J5cHRlZElkPUEwNDM5MjU4Rjk4T1JYNVhBUERRJmVuY3J5cHRlZEFkSWQ9QTA5MjQzMTJQRlVUUDNNU1BNWDkmd2lkZ2V0TmFtZT1zcF9hdGYmYWN0aW9uPWNsaWNrUmVkaXJlY3QmZG9Ob3RMb2dDbGljaz10cnVl> from <GET https://www.amazon.com/gp/slredirect/picassoRedirect.html/ref=pa_sp_atf_aps_sr_pg1_1?ie=UTF8&adId=A0924312PFUTP3MSPMX9&url=%2FMastering-Tableau-2021-intelligence-techniques%2Fdp%2F1800561644%2Fref%3Dsr_1_4_sspa%3Fkeywords%3Ddata%2Banalysis%26qid%3D1663454597%26sr%3D8-4-spons%26psc%3D1&qualifier=1663454597&id=8970470033616320&widgetName=sp_atf>\n",
      "2022-09-18 00:43:20 [scrapy.core.engine] DEBUG: Crawled (200) <GET https://www.amazon.com/Python-Data-Analysis-Wrangling-IPython/dp/1491957662/ref=sr_1_5?keywords=data+analysis&qid=1663454597&sr=8-5> (referer: https://www.amazon.com/s?k=data+analysis&ref=nb_sb_noss)\n",
      "2022-09-18 00:43:20 [scrapy.core.engine] DEBUG: Crawled (200) <GET https://www.amazon.com/Everything-Analytics-Beginners-Guide-Literacy/dp/1777967139/ref=sr_1_7?keywords=data+analysis&qid=1663454597&sr=8-7> (referer: https://www.amazon.com/s?k=data+analysis&ref=nb_sb_noss)\n",
      "2022-09-18 00:43:20 [scrapy.core.engine] DEBUG: Crawled (200) <GET https://www.amazon.com/Python-Data-Analysis-Wrangling-Jupyter/dp/109810403X/ref=sr_1_6?keywords=data+analysis&qid=1663454597&sr=8-6> (referer: https://www.amazon.com/s?k=data+analysis&ref=nb_sb_noss)\n",
      "2022-09-18 00:43:21 [scrapy.core.engine] DEBUG: Crawled (200) <GET https://www.amazon.com/Python-Data-Analysis-collection-visualization/dp/1789955246/ref=sr_1_15?keywords=data+analysis&qid=1663454597&sr=8-15> (referer: https://www.amazon.com/s?k=data+analysis&ref=nb_sb_noss)\n",
      "2022-09-18 00:43:21 [scrapy.core.engine] DEBUG: Crawled (200) <GET https://www.amazon.com/Cookbook-Recipes-Analysis-Statistics-Graphics/dp/1492040681/ref=sr_1_8?keywords=data+analysis&qid=1663454597&sr=8-8> (referer: https://www.amazon.com/s?k=data+analysis&ref=nb_sb_noss)\n"
     ]
    },
    {
     "name": "stdout",
     "output_type": "stream",
     "text": [
      "1\n",
      "['\\n            \\n              76%\\n            \\n          '] 4.6 out of 5 stars 7 x 1.11 x 9.19 inches\n",
      "2\n",
      "['\\n            \\n              55%\\n            \\n          '] 4.2 out of 5 stars 5.5 x 0.37 x 8.5 inches\n",
      "3\n",
      "['\\n            \\n              100%\\n            \\n          '] 5.0 out of 5 stars 9.1 x 1.2 x 6.9 inches\n"
     ]
    },
    {
     "name": "stderr",
     "output_type": "stream",
     "text": [
      "2022-09-18 00:43:21 [scrapy.core.engine] DEBUG: Crawled (200) <GET https://www.amazon.com/Microsoft-Analysis-Business-Modeling-Office/dp/0137613660/ref=sr_1_10?keywords=data+analysis&qid=1663454597&sr=8-10> (referer: https://www.amazon.com/s?k=data+analysis&ref=nb_sb_noss)\n",
      "2022-09-18 00:43:21 [scrapy.core.engine] DEBUG: Crawled (200) <GET https://www.amazon.com/SQL-Data-Analysis-Techniques-Transforming/dp/1492088781/ref=sr_1_9?keywords=data+analysis&qid=1663454597&sr=8-9> (referer: https://www.amazon.com/s?k=data+analysis&ref=nb_sb_noss)\n",
      "2022-09-18 00:43:21 [scrapy.core.engine] DEBUG: Crawled (200) <GET https://www.amazon.com/Data-Analysis-Social-Science-Introduction/dp/0691199434/ref=sr_1_14?keywords=data+analysis&qid=1663454597&sr=8-14> (referer: https://www.amazon.com/s?k=data+analysis&ref=nb_sb_noss)\n"
     ]
    },
    {
     "name": "stdout",
     "output_type": "stream",
     "text": [
      "4\n",
      "['\\n            \\n              84%\\n            \\n          '] 4.7 out of 5 stars 7.5 x 1.08 x 9.25 inches\n",
      "5\n",
      "['\\n            \\n              71%\\n            \\n          '] 4.5 out of 5 stars 7 x 1.21 x 9.19 inches\n",
      "6\n",
      "['\\n            \\n              75%\\n            \\n          '] 4.6 out of 5 stars 7.4 x 2.3 x 9.1 inches\n",
      "7\n",
      "['\\n            \\n              78%\\n            \\n          '] 4.7 out of 5 stars 6.75 x 0.75 x 8.75 inches\n"
     ]
    },
    {
     "name": "stderr",
     "output_type": "stream",
     "text": [
      "2022-09-18 00:43:23 [scrapy.core.engine] DEBUG: Crawled (200) <GET https://www.amazon.com/Guerrilla-Analysis-Using-Microsoft-Excel/dp/1615470743/ref=sr_1_12?keywords=data+analysis&qid=1663454597&sr=8-12> (referer: https://www.amazon.com/s?k=data+analysis&ref=nb_sb_noss)\n",
      "2022-09-18 00:43:23 [scrapy.core.engine] DEBUG: Crawled (200) <GET https://www.amazon.com/Qualitative-Data-Analysis-Methods-Sourcebook/dp/150635307X/ref=sr_1_11?keywords=data+analysis&qid=1663454597&sr=8-11> (referer: https://www.amazon.com/s?k=data+analysis&ref=nb_sb_noss)\n",
      "2022-09-18 00:43:23 [scrapy.core.engine] DEBUG: Crawled (200) <GET https://www.amazon.com/Excel-Data-Analysis-Dummies-Computer/dp/1119844428/ref=sr_1_13?keywords=data+analysis&qid=1663454597&sr=8-13> (referer: https://www.amazon.com/s?k=data+analysis&ref=nb_sb_noss)\n"
     ]
    },
    {
     "name": "stdout",
     "output_type": "stream",
     "text": [
      "8\n",
      "[] None None\n"
     ]
    },
    {
     "name": "stderr",
     "output_type": "stream",
     "text": [
      "2022-09-18 00:43:23 [scrapy.core.engine] DEBUG: Crawled (200) <GET https://www.amazon.com/Data-Analysis-Using-SQL-Excel/dp/111902143X/ref=sr_1_29?keywords=data+analysis&qid=1663454597&sr=8-29> (referer: https://www.amazon.com/s?k=data+analysis&ref=nb_sb_noss)\n"
     ]
    },
    {
     "name": "stdout",
     "output_type": "stream",
     "text": [
      "9\n",
      "['\\n            \\n              100%\\n            \\n          '] 5.0 out of 5 stars 8.25 x 0.6 x 10.75 inches\n",
      "10\n",
      "['\\n            \\n              84%\\n            \\n          '] 4.7 out of 5 stars 8.5 x 0.92 x 11 inches\n",
      "11\n",
      "['\\n            \\n              46%\\n            \\n          '] 4.0 out of 5 stars 7.3 x 1 x 9.1 inches\n"
     ]
    },
    {
     "name": "stderr",
     "output_type": "stream",
     "text": [
      "2022-09-18 00:43:24 [scrapy.core.engine] DEBUG: Crawled (200) <GET https://www.amazon.com/SQL-QuickStart-Guide-Simplified-Manipulating/dp/1945051752/ref=sr_1_1_sspa?keywords=data+analysis&qid=1663454597&sr=8-1-spons&psc=1&spLa=ZW5jcnlwdGVkUXVhbGlmaWVyPUExNDRNSks5NFNUWjZEJmVuY3J5cHRlZElkPUEwNDM5MjU4Rjk4T1JYNVhBUERRJmVuY3J5cHRlZEFkSWQ9QTAwNTkyNDEyTDdLVTdPWVJOVU5QJndpZGdldE5hbWU9c3BfYXRmJmFjdGlvbj1jbGlja1JlZGlyZWN0JmRvTm90TG9nQ2xpY2s9dHJ1ZQ==> (referer: https://www.amazon.com/s?k=data+analysis&ref=nb_sb_noss)\n",
      "2022-09-18 00:43:24 [scrapy.core.engine] DEBUG: Crawled (200) <GET https://www.amazon.com/Python-ArcGIS-Pro-Automate-cartography/dp/1803241667/ref=sr_1_3_sspa?keywords=data+analysis&qid=1663454597&sr=8-3-spons&psc=1&spLa=ZW5jcnlwdGVkUXVhbGlmaWVyPUExNDRNSks5NFNUWjZEJmVuY3J5cHRlZElkPUEwNDM5MjU4Rjk4T1JYNVhBUERRJmVuY3J5cHRlZEFkSWQ9QTAwNjIyNDFBOUIyUThNSTFTMDUmd2lkZ2V0TmFtZT1zcF9hdGYmYWN0aW9uPWNsaWNrUmVkaXJlY3QmZG9Ob3RMb2dDbGljaz10cnVl> (referer: https://www.amazon.com/s?k=data+analysis&ref=nb_sb_noss)\n",
      "2022-09-18 00:43:24 [scrapy.core.engine] DEBUG: Crawled (200) <GET https://www.amazon.com/How-Win-Your-Data-Visualizations/dp/1777967104/ref=sr_1_2_sspa?keywords=data+analysis&qid=1663454597&sr=8-2-spons&psc=1&spLa=ZW5jcnlwdGVkUXVhbGlmaWVyPUExNDRNSks5NFNUWjZEJmVuY3J5cHRlZElkPUEwNDM5MjU4Rjk4T1JYNVhBUERRJmVuY3J5cHRlZEFkSWQ9QTEwMzQ2MTgzTlNJMklFVUdRSzNaJndpZGdldE5hbWU9c3BfYXRmJmFjdGlvbj1jbGlja1JlZGlyZWN0JmRvTm90TG9nQ2xpY2s9dHJ1ZQ==> (referer: https://www.amazon.com/s?k=data+analysis&ref=nb_sb_noss)\n"
     ]
    },
    {
     "name": "stdout",
     "output_type": "stream",
     "text": [
      "12\n",
      "['\\n            \\n              61%\\n            \\n          '] 4.4 out of 5 stars 7.4 x 1.7 x 9.2 inches\n"
     ]
    },
    {
     "name": "stderr",
     "output_type": "stream",
     "text": [
      "2022-09-18 00:43:24 [scrapy.core.engine] DEBUG: Crawled (200) <GET https://www.amazon.com/Mastering-Tableau-2021-intelligence-techniques/dp/1800561644/ref=sr_1_4_sspa?keywords=data+analysis&qid=1663454597&sr=8-4-spons&psc=1&spLa=ZW5jcnlwdGVkUXVhbGlmaWVyPUExNDRNSks5NFNUWjZEJmVuY3J5cHRlZElkPUEwNDM5MjU4Rjk4T1JYNVhBUERRJmVuY3J5cHRlZEFkSWQ9QTA5MjQzMTJQRlVUUDNNU1BNWDkmd2lkZ2V0TmFtZT1zcF9hdGYmYWN0aW9uPWNsaWNrUmVkaXJlY3QmZG9Ob3RMb2dDbGljaz10cnVl> (referer: https://www.amazon.com/s?k=data+analysis&ref=nb_sb_noss)\n"
     ]
    },
    {
     "name": "stdout",
     "output_type": "stream",
     "text": [
      "13\n",
      "['\\n            \\n              73%\\n            \\n          '] 4.6 out of 5 stars 7.5 x 0.57 x 9.25 inches\n",
      "14\n",
      "['\\n            \\n              84%\\n            \\n          '] 4.7 out of 5 stars 7.5 x 1.32 x 9.25 inches\n"
     ]
    },
    {
     "name": "stderr",
     "output_type": "stream",
     "text": [
      "2022-09-18 00:43:25 [scrapy.core.engine] DEBUG: Crawled (200) <GET https://www.amazon.com/Data-Visualization-Excel-Dashboards-Reports/dp/1119698723/ref=sr_1_58?keywords=data+analysis&qid=1663454597&sr=8-58> (referer: https://www.amazon.com/s?k=data+analysis&ref=nb_sb_noss)\n"
     ]
    },
    {
     "name": "stdout",
     "output_type": "stream",
     "text": [
      "15\n",
      "['\\n            \\n              66%\\n            \\n          '] 4.5 out of 5 stars 5.5 x 0.48 x 8.5 inches\n"
     ]
    },
    {
     "name": "stderr",
     "output_type": "stream",
     "text": [
      "2022-09-18 00:43:25 [scrapy.core.engine] DEBUG: Crawled (200) <GET https://www.amazon.com/Python-Excel-Environment-Automation-Analysis/dp/1492081000/ref=sr_1_57?keywords=data+analysis&qid=1663454597&sr=8-57> (referer: https://www.amazon.com/s?k=data+analysis&ref=nb_sb_noss)\n",
      "2022-09-18 00:43:25 [scrapy.core.engine] DEBUG: Crawled (200) <GET https://www.amazon.com/Storytelling-Data-Cole-Nussbaumer-Knaflic/dp/1119621496/ref=sr_1_60?keywords=data+analysis&qid=1663454597&sr=8-60> (referer: https://www.amazon.com/s?k=data+analysis&ref=nb_sb_noss)\n",
      "2022-09-18 00:43:25 [scrapy.core.engine] DEBUG: Crawled (200) <GET https://www.amazon.com/Time-Analysis-Python-Cookbook-exploratory/dp/1801075549/ref=sr_1_59?keywords=data+analysis&qid=1663454597&sr=8-59> (referer: https://www.amazon.com/s?k=data+analysis&ref=nb_sb_noss)\n"
     ]
    },
    {
     "name": "stdout",
     "output_type": "stream",
     "text": [
      "16\n",
      "['\\n            \\n              70%\\n            \\n          '] 4.4 out of 5 stars 7.5 x 1.79 x 9.25 inches\n",
      "17\n",
      "['\\n            \\n              63%\\n            \\n          '] 4.4 out of 5 stars 7.2 x 0.8 x 9 inches\n",
      "18\n",
      "['\\n            \\n              72%\\n            \\n          '] 4.5 out of 5 stars 7 x 0.7 x 9.19 inches\n",
      "19\n",
      "['\\n            \\n              79%\\n            \\n          '] 4.7 out of 5 stars 7.9 x 0.9 x 9.8 inches\n",
      "start_new_page\n"
     ]
    },
    {
     "name": "stderr",
     "output_type": "stream",
     "text": [
      "2022-09-18 00:43:29 [scrapy.core.engine] DEBUG: Crawled (200) <GET https://www.amazon.com/Data-Driven-Fire-Administration-Introduction/dp/B0B92L7VMZ/ref=sr_1_53?keywords=data+analysis&qid=1663454597&sr=8-53> (referer: https://www.amazon.com/s?k=data+analysis&ref=nb_sb_noss)\n",
      "2022-09-18 00:43:29 [scrapy.core.engine] DEBUG: Crawled (200) <GET https://www.amazon.com/Regression-Analysis-Intuitive-Interpreting-Linear/dp/1735431184/ref=sr_1_56?keywords=data+analysis&qid=1663454597&sr=8-56> (referer: https://www.amazon.com/s?k=data+analysis&ref=nb_sb_noss)\n",
      "2022-09-18 00:43:29 [scrapy.core.engine] DEBUG: Crawled (200) <GET https://www.amazon.com/How-Win-Your-Data-Visualizations/dp/1777967104/ref=sr_1_54?keywords=data+analysis&qid=1663454597&sr=8-54> (referer: https://www.amazon.com/s?k=data+analysis&ref=nb_sb_noss)\n",
      "2022-09-18 00:43:29 [scrapy.core.engine] DEBUG: Crawled (200) <GET https://www.amazon.com/Data-Analysis-Qualitative-Research-Theorizing/dp/0226817733/ref=sr_1_55?keywords=data+analysis&qid=1663454597&sr=8-55> (referer: https://www.amazon.com/s?k=data+analysis&ref=nb_sb_noss)\n",
      "2022-09-18 00:43:29 [scrapy.core.engine] DEBUG: Crawled (200) <GET https://www.amazon.com/Data-Analysis-Decision-Making-Decision-making-interpretation-ebook/dp/B079MC33KV/ref=sr_1_52?keywords=data+analysis&qid=1663454597&sr=8-52> (referer: https://www.amazon.com/s?k=data+analysis&ref=nb_sb_noss)\n",
      "2022-09-18 00:43:29 [scrapy.core.engine] DEBUG: Crawled (200) <GET https://www.amazon.com/Essential-Data-Analysis-manipulation-visualization-ebook/dp/B074YG6KZN/ref=sr_1_51?keywords=data+analysis&qid=1663454597&sr=8-51> (referer: https://www.amazon.com/s?k=data+analysis&ref=nb_sb_noss)\n"
     ]
    },
    {
     "name": "stdout",
     "output_type": "stream",
     "text": [
      "20\n",
      "['\\n            \\n              86%\\n            \\n          '] 4.9 out of 5 stars 7.5 x 1.42 x 9.25 inches\n"
     ]
    },
    {
     "name": "stderr",
     "output_type": "stream",
     "text": [
      "2022-09-18 00:43:29 [scrapy.core.engine] DEBUG: Crawled (200) <GET https://www.amazon.com/MASTERING-EXCEL-DATA-STATISTICAL-ANALYSIS/dp/B09WQBH95J/ref=sr_1_50?keywords=data+analysis&qid=1663454597&sr=8-50> (referer: https://www.amazon.com/s?k=data+analysis&ref=nb_sb_noss)\n",
      "2022-09-18 00:43:29 [scrapy.core.engine] DEBUG: Crawled (200) <GET https://www.amazon.com/Problems-Data-Analysis-Social-Scientists/dp/B0B289MMY8/ref=sr_1_49?keywords=data+analysis&qid=1663454597&sr=8-49> (referer: https://www.amazon.com/s?k=data+analysis&ref=nb_sb_noss)\n"
     ]
    },
    {
     "name": "stdout",
     "output_type": "stream",
     "text": [
      "21\n",
      "[] None 8 x 1.1 x 10 inches\n",
      "22\n",
      "['\\n            \\n              77%\\n            \\n          '] 4.6 out of 5 stars 6 x 0.8 x 9 inches\n",
      "23\n",
      "['\\n            \\n              66%\\n            \\n          '] 4.5 out of 5 stars 5.5 x 0.48 x 8.5 inches\n",
      "24\n",
      "['\\n            \\n              37%\\n            \\n          '] 4.4 out of 5 stars 6 x 0.7 x 9 inches\n",
      "25\n",
      "[] None None\n",
      "26\n",
      "['\\n            \\n              63%\\n            \\n          '] 4.6 out of 5 stars None\n",
      "27\n",
      "[] None 7.44 x 1.6 x 9.69 inches\n",
      "28\n",
      "['\\n            \\n              63%\\n            \\n          '] 3.5 out of 5 stars 8.27 x 0.29 x 11.69 inches\n"
     ]
    },
    {
     "name": "stderr",
     "output_type": "stream",
     "text": [
      "2022-09-18 00:43:31 [scrapy.core.engine] DEBUG: Crawled (200) <GET https://www.amazon.com/s?k=data+analysis&page=2&qid=1663453432&ref=sr_pg_2> (referer: https://www.amazon.com/Storytelling-Data-Cole-Nussbaumer-Knaflic/dp/1119621496/ref=sr_1_60?keywords=data+analysis&qid=1663454597&sr=8-60)\n",
      "2022-09-18 00:43:31 [scrapy.core.engine] DEBUG: Crawled (200) <GET https://www.amazon.com/Ace-Data-Science-Interview-Questions/dp/0578973839/ref=sr_1_46?keywords=data+analysis&qid=1663454597&sr=8-46> (referer: https://www.amazon.com/s?k=data+analysis&ref=nb_sb_noss)\n",
      "2022-09-18 00:43:31 [scrapy.core.engine] DEBUG: Crawled (200) <GET https://www.amazon.com/Scalable-Data-Analytics-Azure-Explorer-ebook/dp/B09M6V1TYQ/ref=sr_1_48?keywords=data+analysis&qid=1663454597&sr=8-48> (referer: https://www.amazon.com/s?k=data+analysis&ref=nb_sb_noss)\n",
      "2022-09-18 00:43:31 [scrapy.core.engine] DEBUG: Crawled (200) <GET https://www.amazon.com/Hands-Data-Preprocessing-Python-effectively-ebook/dp/B09F6R8V2L/ref=sr_1_47?keywords=data+analysis&qid=1663454597&sr=8-47> (referer: https://www.amazon.com/s?k=data+analysis&ref=nb_sb_noss)\n",
      "2022-09-18 00:43:31 [scrapy.core.engine] DEBUG: Crawled (200) <GET https://www.amazon.com/Cleaning-Data-Effective-Science-command-line/dp/1801071292/ref=sr_1_45?keywords=data+analysis&qid=1663454597&sr=8-45> (referer: https://www.amazon.com/s?k=data+analysis&ref=nb_sb_noss)\n"
     ]
    },
    {
     "name": "stdout",
     "output_type": "stream",
     "text": [
      "2\n",
      "Data Visualization in Python with Pandas and Matplotlib\n",
      "Digital Forensics and Incident Response: Incident response techniques and procedures to respond to modern cyber threats, 2nd Edition\n",
      "Data Visualization in Python\n",
      "Threat Modeling: Designing for Security\n",
      "Hands-On Data Analysis with Pandas: Efficiently perform data collection, wrangling, analysis, and visualization using Python\n",
      "Essential Math for Data Science: Take Control of Your Data with Fundamental Linear Algebra, Probability, and Statistics\n",
      "Statistical Analysis with Excel For Dummies (For Dummies (Computer/Tech))\n",
      "Python for Data Analysis: A Beginners Guide to Master the Fundamentals of Data Science and Data Analysis by Using Pandas, Numpy and Ipython (Programming Languages for Beginners)\n",
      "Automate the Boring Stuff with Python, 2nd Edition: Practical Programming for Total Beginners\n",
      "Listening to People: A Practical Guide to Interviewing, Participant Observation, Data Analysis, and Writing It All Up (Chicago Guides to Writing, Editing, and Publishing)\n",
      "Data Analysis for Corporate Finance: Building financial models using SQL, Python, and MS PowerBI\n",
      "Data Analysis with Python and PySpark\n",
      "Data Analytics: Introduction and Guide to Data Science, Analysis, Artificial Intelligence and Machine Learning\n",
      "High-Dimensional Data Analysis with Low-Dimensional Models: Principles, Computation, and Applications\n",
      "Hands-On Data Analysis with Pandas: A Python data science handbook for data collection, wrangling, analysis, and visualization, 2nd Edition\n",
      "Introduction to Statistical and Machine Learning Methods for Data Science\n",
      "Building Big Data Pipelines with Apache Beam: Use a single programming model for both batch and stream data processing\n",
      "Essential Statistics for Non-STEM Data Analysts: Get to grips with the statistics and math knowledge needed to enter the world of data science with Python\n",
      "Microsoft Power BI Quick Start Guide: Bring your data to life through data modeling, visualization, digital storytelling, and more, 2nd Edition\n",
      "Excel: Pivot Tables & Charts (Quick Study Computer)\n",
      "29\n",
      "['\\n            \\n              77%\\n            \\n          '] 4.5 out of 5 stars 7 x 0.68 x 10 inches\n",
      "Software Architecture: The Hard Parts: Modern Trade-Off Analyses for Distributed Architectures\n",
      "Analysis of Economics Data: An Introduction to Econometrics\n",
      "Microsoft 365 Excel: The Only App That Matters: Calculations, Analytics, Modeling, Data Analysis and Dashboard Reporting for the New Era of Dynamic Data Driven Decision Making & Insight\n",
      "Data Analysis with R - Second Edition: A comprehensive guide to manipulating, analyzing, and visualizing data in R\n",
      "Mastering Tableau 2021: Implement advanced business intelligence techniques and analytics with Tableau, 3rd Edition\n",
      "Python for Geospatial Data Analysis: Theory, Tools, and Practice for Location Intelligence\n"
     ]
    },
    {
     "name": "stderr",
     "output_type": "stream",
     "text": [
      "2022-09-18 00:43:31 [scrapy.core.engine] DEBUG: Crawled (200) <GET https://www.amazon.com/Thinking-Clearly-Data-Quantitative-Reasoning/dp/0691214352/ref=sr_1_44?keywords=data+analysis&qid=1663454597&sr=8-44> (referer: https://www.amazon.com/s?k=data+analysis&ref=nb_sb_noss)\n",
      "2022-09-18 00:43:31 [scrapy.core.engine] DEBUG: Crawled (200) <GET https://www.amazon.com/Python-Data-Science-Example-Vasiliev/dp/1718502206/ref=sr_1_42?keywords=data+analysis&qid=1663454597&sr=8-42> (referer: https://www.amazon.com/s?k=data+analysis&ref=nb_sb_noss)\n"
     ]
    },
    {
     "name": "stdout",
     "output_type": "stream",
     "text": [
      "30\n",
      "['\\n            \\n              100%\\n            \\n          '] 5.0 out of 5 stars None\n",
      "Python for Data Analysis: A Step by Step Guide to Master the Basics of Data Analysis in Python Using Pandas, Numpy and Ipython (Data Science)\n",
      "SQL: 3 books 1 - The Ultimate Beginner, Intermediate & Expert Guides To Master SQL Programming Quickly with Practical Exercises\n",
      "Qualitative Data Analysis with NVivo\n",
      "Data Analysis: For Continuous School Improvement\n",
      "The Kaggle Book: Data analysis and machine learning for competitive data science\n",
      "31\n",
      "['\\n            \\n              100%\\n            \\n          '] 5.0 out of 5 stars None\n",
      "32\n",
      "['\\n            \\n              92%\\n            \\n          '] 4.8 out of 5 stars 7.5 x 1.13 x 9.25 inches\n",
      "R in Action: Data Analysis and Graphics with R\n"
     ]
    },
    {
     "name": "stderr",
     "output_type": "stream",
     "text": [
      "2022-09-18 00:43:32 [scrapy.core.engine] DEBUG: Crawled (200) <GET https://www.amazon.com/SQL-QuickStart-Guide-Simplified-Manipulating/dp/1945051752/ref=sr_1_43?keywords=data+analysis&qid=1663454597&sr=8-43> (referer: https://www.amazon.com/s?k=data+analysis&ref=nb_sb_noss)\n"
     ]
    },
    {
     "name": "stdout",
     "output_type": "stream",
     "text": [
      "Data Analytics: Advanced Guide to Learn the Realms of Data Analytics Effectively\n",
      "Data Engineering with Alteryx: Helping data engineers apply DataOps practices with Alteryx\n",
      "Hypothesis Testing: An Intuitive Guide for Making Data Driven Decisions\n",
      "Intelligent Reliability Analysis Using MATLAB and AI: Perform Failure Analysis and Reliability Engineering using MATLAB and Artificial Intelligence (English Edition)\n",
      "Cluster Analysis, 5th Edition\n",
      "Excel 2022: The Most Comprehensive Guide to Learn All Formulas and Functions in Just One Week with Step-by-Step Explanations, Practical Examples, & Picture Demonstrations.\n",
      "33\n",
      "['\\n            \\n              73%\\n            \\n          '] 4.3 out of 5 stars 7 x 1 x 9.75 inches\n"
     ]
    },
    {
     "name": "stderr",
     "output_type": "stream",
     "text": [
      "2022-09-18 00:43:32 [scrapy.core.engine] DEBUG: Crawled (200) <GET https://www.amazon.com/SQL-Data-Analytics-efficient-analysis/dp/1789807352/ref=sr_1_40?keywords=data+analysis&qid=1663454597&sr=8-40> (referer: https://www.amazon.com/s?k=data+analysis&ref=nb_sb_noss)\n",
      "2022-09-18 00:43:32 [scrapy.downloadermiddlewares.redirect] DEBUG: Redirecting (302) to <GET https://www.amazon.com/Data-Analysis-Business-Economics-Policy/dp/1108716202/ref=sr_1_35_sspa?keywords=data+analysis&qid=1663454597&sr=8-35-spons&psc=1&spLa=ZW5jcnlwdGVkUXVhbGlmaWVyPUExNDRNSks5NFNUWjZEJmVuY3J5cHRlZElkPUEwNDM5MjU4Rjk4T1JYNVhBUERRJmVuY3J5cHRlZEFkSWQ9QTAzNDAzMzIyQ0ZRWU8zVVFaSEJJJndpZGdldE5hbWU9c3BfbXRmJmFjdGlvbj1jbGlja1JlZGlyZWN0JmRvTm90TG9nQ2xpY2s9dHJ1ZQ==> from <GET https://www.amazon.com/gp/slredirect/picassoRedirect.html/ref=pa_sp_mtf_aps_sr_pg1_1?ie=UTF8&adId=A03403322CFQYO3UQZHBI&url=%2FData-Analysis-Business-Economics-Policy%2Fdp%2F1108716202%2Fref%3Dsr_1_35_sspa%3Fkeywords%3Ddata%2Banalysis%26qid%3D1663454597%26sr%3D8-35-spons%26psc%3D1&qualifier=1663454597&id=8970470033616320&widgetName=sp_mtf>\n",
      "2022-09-18 00:43:32 [scrapy.downloadermiddlewares.redirect] DEBUG: Redirecting (302) to <GET https://www.amazon.com/Data-Analysis-Machine-Learning-Kaggle/dp/1801817472/ref=sr_1_36_sspa?keywords=data+analysis&qid=1663454597&sr=8-36-spons&psc=1&spLa=ZW5jcnlwdGVkUXVhbGlmaWVyPUExNDRNSks5NFNUWjZEJmVuY3J5cHRlZElkPUEwNDM5MjU4Rjk4T1JYNVhBUERRJmVuY3J5cHRlZEFkSWQ9QTA0Mjc5NDQxNFJVRlRZSTg0WDVLJndpZGdldE5hbWU9c3BfbXRmJmFjdGlvbj1jbGlja1JlZGlyZWN0JmRvTm90TG9nQ2xpY2s9dHJ1ZQ==> from <GET https://www.amazon.com/gp/slredirect/picassoRedirect.html/ref=pa_sp_mtf_aps_sr_pg1_1?ie=UTF8&adId=A042794414RUFTYI84X5K&url=%2FData-Analysis-Machine-Learning-Kaggle%2Fdp%2F1801817472%2Fref%3Dsr_1_36_sspa%3Fkeywords%3Ddata%2Banalysis%26qid%3D1663454597%26sr%3D8-36-spons%26psc%3D1&qualifier=1663454597&id=8970470033616320&widgetName=sp_mtf>\n"
     ]
    },
    {
     "name": "stdout",
     "output_type": "stream",
     "text": [
      "34\n",
      "['\\n            \\n              78%\\n            \\n          '] 4.3 out of 5 stars 7 x 0.71 x 9.25 inches\n",
      "Computational Topology for Data Analysis\n",
      "Supervised Machine Learning for Text Analysis in R (Chapman & Hall/CRC Data Science Series)\n",
      "Python Data Science Handbook: Essential Tools for Working with Data\n",
      "Python Data Cleaning Cookbook: Modern techniques and Python tools to detect and remove dirty data and extract key insights\n",
      "Data Analysis: A Bayesian Tutorial\n",
      "Secondary Data in Mixed Methods Research (Mixed Methods Research Series)\n",
      "Regression Analysis of Count Data (Econometric Society Monographs, Series Number 30)\n",
      "Bayesian Ideas and Data Analysis: An Introduction for Scientists and Statisticians (Chapman & Hall/CRC Texts in Statistical Science)\n",
      "Longitudinal Analysis: Modeling Within-Person Fluctuation and Change (Multivariate Applications Series)\n"
     ]
    },
    {
     "name": "stderr",
     "output_type": "stream",
     "text": [
      "2022-09-18 00:43:33 [scrapy.core.engine] DEBUG: Crawled (200) <GET https://www.amazon.com/Topological-Analysis-Applications-Gunnar-Carlsson/dp/1108838650/ref=sr_1_39?keywords=data+analysis&qid=1663454597&sr=8-39> (referer: https://www.amazon.com/s?k=data+analysis&ref=nb_sb_noss)\n",
      "2022-09-18 00:43:33 [scrapy.core.engine] DEBUG: Crawled (200) <GET https://www.amazon.com/Storytelling-Data-Visualization-Business-Professionals/dp/1119002257/ref=sr_1_41?keywords=data+analysis&qid=1663454597&sr=8-41> (referer: https://www.amazon.com/s?k=data+analysis&ref=nb_sb_noss)\n",
      "2022-09-18 00:43:33 [scrapy.downloadermiddlewares.redirect] DEBUG: Redirecting (302) to <GET https://www.amazon.com/Business-Intelligence-Guidebook-Integration-Analytics/dp/012411461X/ref=sr_1_34_sspa?keywords=data+analysis&qid=1663454597&sr=8-34-spons&psc=1&spLa=ZW5jcnlwdGVkUXVhbGlmaWVyPUExNDRNSks5NFNUWjZEJmVuY3J5cHRlZElkPUEwNDM5MjU4Rjk4T1JYNVhBUERRJmVuY3J5cHRlZEFkSWQ9QTAwMDgwNDAyRTQzQzdKRlJJOVY2JndpZGdldE5hbWU9c3BfbXRmJmFjdGlvbj1jbGlja1JlZGlyZWN0JmRvTm90TG9nQ2xpY2s9dHJ1ZQ==> from <GET https://www.amazon.com/gp/slredirect/picassoRedirect.html/ref=pa_sp_mtf_aps_sr_pg1_1?ie=UTF8&adId=A00080402E43C7JFRI9V6&url=%2FBusiness-Intelligence-Guidebook-Integration-Analytics%2Fdp%2F012411461X%2Fref%3Dsr_1_34_sspa%3Fkeywords%3Ddata%2Banalysis%26qid%3D1663454597%26sr%3D8-34-spons%26psc%3D1&qualifier=1663454597&id=8970470033616320&widgetName=sp_mtf>\n"
     ]
    },
    {
     "name": "stdout",
     "output_type": "stream",
     "text": [
      "35\n",
      "['\\n            \\n              73%\\n            \\n          '] 4.6 out of 5 stars 7.5 x 0.57 x 9.25 inches\n",
      "Hypothesis Testing: An Intuitive Guide for Making Data Driven Decisions\n",
      "Bayesian Data Analysis (Chapman & Hall/CRC Texts in Statistical Science)\n",
      "Computational Topology for Biomedical Image and Data Analysis (Focus Series in Medical Physics and Biomedical Engineering)\n",
      "R for Data Analysis in easy steps - R Programming essentials\n",
      "Introduction to Categorical Data Analysis (Easy Statistics)\n",
      "Excel Pivot Tables: Basic Beginners Guide to Learn Excel Pivot Tables for Data Analysis and Modeling\n",
      "Lab Manual for Statistical Analysis\n",
      "Qualitative Data Analysis: Practical Strategies\n",
      "Julia for Data Analysis\n",
      "Econometric Analysis of Cross Section and Panel Data, second edition (The MIT Press)\n",
      "Data Flow Diagrams - Simply Put!: Process Modeling Techniques for Requirements Elicitation and Workflow Analysis (Advanced Business Analysis Topics)\n",
      "Machine Learning: 4 Books in 1: The #1 Beginner's Guide to Master the Basics of Python Programming, Learn the Art of Data Science and Build Artificial Intelligence\n",
      "Statistics & Statistical Analysis Illustrated: Foundations You Should Know\n"
     ]
    },
    {
     "name": "stderr",
     "output_type": "stream",
     "text": [
      "2022-09-18 00:43:33 [scrapy.core.engine] DEBUG: Crawled (200) <GET https://www.amazon.com/Data-Analysis-Workshop-state-art-ebook/dp/B08Q8HXRQ4/ref=sr_1_37?keywords=data+analysis&qid=1663454597&sr=8-37> (referer: https://www.amazon.com/s?k=data+analysis&ref=nb_sb_noss)\n",
      "2022-09-18 00:43:33 [scrapy.downloadermiddlewares.redirect] DEBUG: Redirecting (302) to <GET https://www.amazon.com/Data-Visualization-Python-Pandas-Matplotlib/dp/B0972TFYN8/ref=sr_1_49_sspa?keywords=data+analysis&qid=1663454609&sr=8-49-spons&psc=1&spLa=ZW5jcnlwdGVkUXVhbGlmaWVyPUFZTElVTlEzODFDRzUmZW5jcnlwdGVkSWQ9QTAxMTE5ODQyR0JUM0lXTTkwQjZUJmVuY3J5cHRlZEFkSWQ9QTA0NzE0OTUyNjg3N1Y3UU82TU43JndpZGdldE5hbWU9c3BfYXRmX25leHQmYWN0aW9uPWNsaWNrUmVkaXJlY3QmZG9Ob3RMb2dDbGljaz10cnVl> from <GET https://www.amazon.com/gp/slredirect/picassoRedirect.html/ref=pa_sp_atf_next_aps_sr_pg2_1?ie=UTF8&adId=A047149526877V7QO6MN7&url=%2FData-Visualization-Python-Pandas-Matplotlib%2Fdp%2FB0972TFYN8%2Fref%3Dsr_1_49_sspa%3Fkeywords%3Ddata%2Banalysis%26qid%3D1663454609%26sr%3D8-49-spons%26psc%3D1&qualifier=1663454609&id=565449148708087&widgetName=sp_atf_next>\n",
      "2022-09-18 00:43:33 [scrapy.downloadermiddlewares.redirect] DEBUG: Redirecting (302) to <GET https://www.amazon.com/DATA-ANALYTICS-Comprehensive-Beginners-Analytics/dp/B087L36G1T/ref=sr_1_33_sspa?keywords=data+analysis&qid=1663454597&sr=8-33-spons&psc=1&spLa=ZW5jcnlwdGVkUXVhbGlmaWVyPUExNDRNSks5NFNUWjZEJmVuY3J5cHRlZElkPUEwNDM5MjU4Rjk4T1JYNVhBUERRJmVuY3J5cHRlZEFkSWQ9QTA4MDU3MzExN0JZRTFSQlFSSDhVJndpZGdldE5hbWU9c3BfbXRmJmFjdGlvbj1jbGlja1JlZGlyZWN0JmRvTm90TG9nQ2xpY2s9dHJ1ZQ==> from <GET https://www.amazon.com/gp/slredirect/picassoRedirect.html/ref=pa_sp_mtf_aps_sr_pg1_1?ie=UTF8&adId=A080573117BYE1RBQRH8U&url=%2FDATA-ANALYTICS-Comprehensive-Beginners-Analytics%2Fdp%2FB087L36G1T%2Fref%3Dsr_1_33_sspa%3Fkeywords%3Ddata%2Banalysis%26qid%3D1663454597%26sr%3D8-33-spons%26psc%3D1&qualifier=1663454597&id=8970470033616320&widgetName=sp_mtf>\n"
     ]
    },
    {
     "name": "stdout",
     "output_type": "stream",
     "text": [
      "36\n",
      "['\\n            \\n              68%\\n            \\n          '] 4.4 out of 5 stars 7.5 x 0.87 x 9.25 inches\n",
      "37\n",
      "['\\n            \\n              100%\\n            \\n          '] 5.0 out of 5 stars 6.75 x 0.75 x 9.75 inches\n",
      "38\n",
      "['\\n            \\n              76%\\n            \\n          '] 4.6 out of 5 stars 7.4 x 0.9 x 9.2 inches\n"
     ]
    },
    {
     "name": "stderr",
     "output_type": "stream",
     "text": [
      "2022-09-18 00:43:33 [scrapy.core.engine] DEBUG: Crawled (200) <GET https://www.amazon.com/Practical-Statistics-Data-Scientists-Essential/dp/149207294X/ref=sr_1_38?keywords=data+analysis&qid=1663454597&sr=8-38> (referer: https://www.amazon.com/s?k=data+analysis&ref=nb_sb_noss)\n"
     ]
    },
    {
     "name": "stdout",
     "output_type": "stream",
     "text": [
      "39\n",
      "['\\n            \\n              50%\\n            \\n          '] 4.1 out of 5 stars None\n",
      "40\n",
      "['\\n            \\n              76%\\n            \\n          '] 4.6 out of 5 stars 7 x 0.9 x 9.1 inches\n"
     ]
    },
    {
     "name": "stderr",
     "output_type": "stream",
     "text": [
      "2022-09-18 00:43:35 [scrapy.core.engine] DEBUG: Crawled (200) <GET https://www.amazon.com/Action-Data-Analysis-Graphics/dp/1617291382/ref=sr_1_80?keywords=data+analysis&qid=1663454609&sr=8-80> (referer: https://www.amazon.com/s?k=data+analysis&page=2&qid=1663453432&ref=sr_pg_2)\n",
      "2022-09-18 00:43:35 [scrapy.core.engine] DEBUG: Crawled (200) <GET https://www.amazon.com/Data-Analysis-Machine-Learning-Kaggle/dp/1801817472/ref=sr_1_36_sspa?keywords=data+analysis&qid=1663454597&sr=8-36-spons&psc=1&spLa=ZW5jcnlwdGVkUXVhbGlmaWVyPUExNDRNSks5NFNUWjZEJmVuY3J5cHRlZElkPUEwNDM5MjU4Rjk4T1JYNVhBUERRJmVuY3J5cHRlZEFkSWQ9QTA0Mjc5NDQxNFJVRlRZSTg0WDVLJndpZGdldE5hbWU9c3BfbXRmJmFjdGlvbj1jbGlja1JlZGlyZWN0JmRvTm90TG9nQ2xpY2s9dHJ1ZQ==> (referer: https://www.amazon.com/s?k=data+analysis&ref=nb_sb_noss)\n",
      "2022-09-18 00:43:35 [scrapy.core.engine] DEBUG: Crawled (200) <GET https://www.amazon.com/Machine-Learning-Bio-Signal-Analysis-Diagnostic-ebook/dp/B07L29N8NG/ref=sr_1_32?keywords=data+analysis&qid=1663454597&sr=8-32> (referer: https://www.amazon.com/s?k=data+analysis&ref=nb_sb_noss)\n",
      "2022-09-18 00:43:35 [scrapy.core.engine] DEBUG: Crawled (200) <GET https://www.amazon.com/Excel-2022-Step-Step-Demonstrations/dp/B09ZVB5Y7G/ref=sr_1_86?keywords=data+analysis&qid=1663454609&sr=8-86> (referer: https://www.amazon.com/s?k=data+analysis&page=2&qid=1663453432&ref=sr_pg_2)\n",
      "2022-09-18 00:43:35 [scrapy.core.engine] DEBUG: Crawled (200) <GET https://www.amazon.com/Data-Analysis-Continuous-School-Improvement/dp/1138294624/ref=sr_1_78?keywords=data+analysis&qid=1663454609&sr=8-78> (referer: https://www.amazon.com/s?k=data+analysis&page=2&qid=1663453432&ref=sr_pg_2)\n"
     ]
    },
    {
     "name": "stdout",
     "output_type": "stream",
     "text": [
      "41\n",
      "['\\n            \\n              77%\\n            \\n          '] 4.6 out of 5 stars 7.38 x 1.3 x 9.25 inches\n",
      "42\n",
      "['\\n            \\n              81%\\n            \\n          '] 4.6 out of 5 stars 7.5 x 1.2 x 9.25 inches\n",
      "43\n",
      "[] None None\n",
      "44\n",
      "['\\n            \\n              95%\\n            \\n          '] 4.9 out of 5 stars 8.5 x 0.38 x 11 inches\n"
     ]
    },
    {
     "name": "stderr",
     "output_type": "stream",
     "text": [
      "2022-09-18 00:43:36 [scrapy.core.engine] DEBUG: Crawled (200) <GET https://www.amazon.com/Data-Analysis-Business-Economics-Policy/dp/1108716202/ref=sr_1_31?keywords=data+analysis&qid=1663454597&sr=8-31> (referer: https://www.amazon.com/s?k=data+analysis&ref=nb_sb_noss)\n",
      "2022-09-18 00:43:36 [scrapy.core.engine] DEBUG: Crawled (200) <GET https://www.amazon.com/Data-Analysis-Business-Economics-Policy/dp/1108716202/ref=sr_1_35_sspa?keywords=data+analysis&qid=1663454597&sr=8-35-spons&psc=1&spLa=ZW5jcnlwdGVkUXVhbGlmaWVyPUExNDRNSks5NFNUWjZEJmVuY3J5cHRlZElkPUEwNDM5MjU4Rjk4T1JYNVhBUERRJmVuY3J5cHRlZEFkSWQ9QTAzNDAzMzIyQ0ZRWU8zVVFaSEJJJndpZGdldE5hbWU9c3BfbXRmJmFjdGlvbj1jbGlja1JlZGlyZWN0JmRvTm90TG9nQ2xpY2s9dHJ1ZQ==> (referer: https://www.amazon.com/s?k=data+analysis&ref=nb_sb_noss)\n",
      "2022-09-18 00:43:36 [scrapy.core.engine] DEBUG: Crawled (200) <GET https://www.amazon.com/Data-Analysis-Machine-Learning-Kaggle/dp/1801817472/ref=sr_1_79?keywords=data+analysis&qid=1663454609&sr=8-79> (referer: https://www.amazon.com/s?k=data+analysis&page=2&qid=1663453432&ref=sr_pg_2)\n"
     ]
    },
    {
     "name": "stdout",
     "output_type": "stream",
     "text": [
      "45\n",
      "['\\n            \\n              75%\\n            \\n          '] 4.6 out of 5 stars 8.46 x 0.96 x 10.98 inches\n",
      "46\n",
      "['\\n            \\n              70%\\n            \\n          '] 4.4 out of 5 stars 7.5 x 1.74 x 9.25 inches\n",
      "47\n",
      "['\\n            \\n              70%\\n            \\n          '] 4.4 out of 5 stars 7.5 x 1.74 x 9.25 inches\n"
     ]
    },
    {
     "name": "stderr",
     "output_type": "stream",
     "text": [
      "2022-09-18 00:43:37 [scrapy.core.engine] DEBUG: Crawled (200) <GET https://www.amazon.com/Statistics-Statistical-Analysis-Illustrated-Foundations-ebook/dp/B09QD64XSW/ref=sr_1_108?keywords=data+analysis&qid=1663454609&sr=8-108> (referer: https://www.amazon.com/s?k=data+analysis&page=2&qid=1663453432&ref=sr_pg_2)\n",
      "2022-09-18 00:43:37 [scrapy.core.engine] DEBUG: Crawled (200) <GET https://www.amazon.com/Manual-Statistical-Analysis-Dawn-McBride/dp/1506325173/ref=sr_1_102?keywords=data+analysis&qid=1663454609&sr=8-102> (referer: https://www.amazon.com/s?k=data+analysis&page=2&qid=1663453432&ref=sr_pg_2)\n",
      "2022-09-18 00:43:37 [scrapy.core.engine] DEBUG: Crawled (200) <GET https://www.amazon.com/Longitudinal-Analysis-Within-Person-Multivariate-Applications/dp/0415876028/ref=sr_1_95?keywords=data+analysis&qid=1663454609&sr=8-95> (referer: https://www.amazon.com/s?k=data+analysis&page=2&qid=1663453432&ref=sr_pg_2)\n"
     ]
    },
    {
     "name": "stdout",
     "output_type": "stream",
     "text": [
      "48\n",
      "['\\n            \\n              81%\\n            \\n          '] 4.6 out of 5 stars 7.5 x 1.2 x 9.25 inches\n",
      "49\n",
      "['\\n            \\n              57%\\n            \\n          '] 3.9 out of 5 stars None\n"
     ]
    },
    {
     "name": "stderr",
     "output_type": "stream",
     "text": [
      "2022-09-18 00:43:40 [scrapy.core.engine] DEBUG: Crawled (200) <GET https://www.amazon.com/Business-Intelligence-Guidebook-Integration-Analytics/dp/012411461X/ref=sr_1_34_sspa?keywords=data+analysis&qid=1663454597&sr=8-34-spons&psc=1&spLa=ZW5jcnlwdGVkUXVhbGlmaWVyPUExNDRNSks5NFNUWjZEJmVuY3J5cHRlZElkPUEwNDM5MjU4Rjk4T1JYNVhBUERRJmVuY3J5cHRlZEFkSWQ9QTAwMDgwNDAyRTQzQzdKRlJJOVY2JndpZGdldE5hbWU9c3BfbXRmJmFjdGlvbj1jbGlja1JlZGlyZWN0JmRvTm90TG9nQ2xpY2s9dHJ1ZQ==> (referer: https://www.amazon.com/s?k=data+analysis&ref=nb_sb_noss)\n",
      "2022-09-18 00:43:40 [scrapy.core.engine] DEBUG: Crawled (200) <GET https://www.amazon.com/Machine-Learning-Programming-Artificial-Intelligence/dp/B0B6XLFWPL/ref=sr_1_107?keywords=data+analysis&qid=1663454609&sr=8-107> (referer: https://www.amazon.com/s?k=data+analysis&page=2&qid=1663453432&ref=sr_pg_2)\n"
     ]
    },
    {
     "name": "stdout",
     "output_type": "stream",
     "text": [
      "start_new_page\n",
      "50\n",
      "['\\n            \\n              90%\\n            \\n          '] 4.8 out of 5 stars 8.5 x 0.29 x 11 inches\n"
     ]
    },
    {
     "name": "stderr",
     "output_type": "stream",
     "text": [
      "2022-09-18 00:43:41 [scrapy.core.engine] DEBUG: Crawled (200) <GET https://www.amazon.com/Data-Visualization-Python-Pandas-Matplotlib/dp/B0972TFYN8/ref=sr_1_49_sspa?keywords=data+analysis&qid=1663454609&sr=8-49-spons&psc=1&spLa=ZW5jcnlwdGVkUXVhbGlmaWVyPUFZTElVTlEzODFDRzUmZW5jcnlwdGVkSWQ9QTAxMTE5ODQyR0JUM0lXTTkwQjZUJmVuY3J5cHRlZEFkSWQ9QTA0NzE0OTUyNjg3N1Y3UU82TU43JndpZGdldE5hbWU9c3BfYXRmX25leHQmYWN0aW9uPWNsaWNrUmVkaXJlY3QmZG9Ob3RMb2dDbGljaz10cnVl> (referer: https://www.amazon.com/s?k=data+analysis&page=2&qid=1663453432&ref=sr_pg_2)\n",
      "2022-09-18 00:43:41 [scrapy.core.engine] DEBUG: Crawled (200) <GET https://www.amazon.com/Data-Flow-Diagrams-Requirements-Elicitation/dp/1535110139/ref=sr_1_106?keywords=data+analysis&qid=1663454609&sr=8-106> (referer: https://www.amazon.com/s?k=data+analysis&page=2&qid=1663453432&ref=sr_pg_2)\n",
      "2022-09-18 00:43:41 [scrapy.core.engine] DEBUG: Crawled (200) <GET https://www.amazon.com/DATA-ANALYTICS-Comprehensive-Beginners-Analytics/dp/B087L36G1T/ref=sr_1_33_sspa?keywords=data+analysis&qid=1663454597&sr=8-33-spons&psc=1&spLa=ZW5jcnlwdGVkUXVhbGlmaWVyPUExNDRNSks5NFNUWjZEJmVuY3J5cHRlZElkPUEwNDM5MjU4Rjk4T1JYNVhBUERRJmVuY3J5cHRlZEFkSWQ9QTA4MDU3MzExN0JZRTFSQlFSSDhVJndpZGdldE5hbWU9c3BfbXRmJmFjdGlvbj1jbGlja1JlZGlyZWN0JmRvTm90TG9nQ2xpY2s9dHJ1ZQ==> (referer: https://www.amazon.com/s?k=data+analysis&ref=nb_sb_noss)\n",
      "2022-09-18 00:43:41 [scrapy.core.engine] DEBUG: Crawled (200) <GET https://www.amazon.com/Julia-Data-Analysis-Bogumil-Kaminski/dp/1633439364/ref=sr_1_104?keywords=data+analysis&qid=1663454609&sr=8-104> (referer: https://www.amazon.com/s?k=data+analysis&page=2&qid=1663453432&ref=sr_pg_2)\n"
     ]
    },
    {
     "name": "stdout",
     "output_type": "stream",
     "text": [
      "51\n",
      "['\\n            \\n              70%\\n            \\n          '] 4.6 out of 5 stars 7 x 1.48 x 10 inches\n"
     ]
    },
    {
     "name": "stderr",
     "output_type": "stream",
     "text": [
      "2022-09-18 00:43:41 [scrapy.core.engine] DEBUG: Crawled (200) <GET https://www.amazon.com/Qualitative-Data-Analysis-Practical-Strategies/dp/1526404761/ref=sr_1_103?keywords=data+analysis&qid=1663454609&sr=8-103> (referer: https://www.amazon.com/s?k=data+analysis&page=2&qid=1663453432&ref=sr_pg_2)\n"
     ]
    },
    {
     "name": "stdout",
     "output_type": "stream",
     "text": [
      "52\n",
      "['\\n            \\n              69%\\n            \\n          '] 4.4 out of 5 stars 7.5 x 1.24 x 9.25 inches\n"
     ]
    },
    {
     "name": "stderr",
     "output_type": "stream",
     "text": [
      "2022-09-18 00:43:41 [scrapy.core.engine] DEBUG: Crawled (200) <GET https://www.amazon.com/Econometric-Analysis-Cross-Section-Panel/dp/0262232588/ref=sr_1_105?keywords=data+analysis&qid=1663454609&sr=8-105> (referer: https://www.amazon.com/s?k=data+analysis&page=2&qid=1663453432&ref=sr_pg_2)\n"
     ]
    },
    {
     "name": "stdout",
     "output_type": "stream",
     "text": [
      "53\n",
      "['\\n            \\n              81%\\n            \\n          '] 4.6 out of 5 stars 6 x 0.78 x 9 inches\n",
      "54\n",
      "['\\n            \\n              67%\\n            \\n          '] 4.1 out of 5 stars 7.44 x 1.05 x 9.69 inches\n",
      "55\n",
      "['\\n            \\n              52%\\n            \\n          '] 4.2 out of 5 stars 6 x 0.27 x 9 inches\n",
      "56\n",
      "['\\n            \\n              59%\\n            \\n          '] 4.2 out of 5 stars 6 x 0.35 x 9 inches\n",
      "57\n",
      "[] None 7.38 x 0.81 x 9.25 inches\n",
      "58\n",
      "['\\n            \\n              61%\\n            \\n          '] 4.5 out of 5 stars 7.32 x 1.32 x 9.13 inches\n"
     ]
    },
    {
     "name": "stderr",
     "output_type": "stream",
     "text": [
      "2022-09-18 00:43:43 [scrapy.core.engine] DEBUG: Crawled (200) <GET https://www.amazon.com/Excel-Pivot-Tables-Beginners-Analysis/dp/B07VGL7S7V/ref=sr_1_101?keywords=data+analysis&qid=1663454609&sr=8-101> (referer: https://www.amazon.com/s?k=data+analysis&page=2&qid=1663453432&ref=sr_pg_2)\n",
      "2022-09-18 00:43:43 [scrapy.core.engine] DEBUG: Crawled (200) <GET https://www.amazon.com/Introduction-Categorical-Data-Analysis-Statistics-ebook/dp/B094NXY543/ref=sr_1_100?keywords=data+analysis&qid=1663454609&sr=8-100> (referer: https://www.amazon.com/s?k=data+analysis&page=2&qid=1663453432&ref=sr_pg_2)\n",
      "2022-09-18 00:43:43 [scrapy.core.engine] DEBUG: Crawled (200) <GET https://www.amazon.com/Computational-Topology-Biomedical-Analysis-Engineering/dp/0367787873/ref=sr_1_98?keywords=data+analysis&qid=1663454609&sr=8-98> (referer: https://www.amazon.com/s?k=data+analysis&page=2&qid=1663453432&ref=sr_pg_2)\n",
      "2022-09-18 00:43:43 [scrapy.core.engine] DEBUG: Crawled (200) <GET https://www.amazon.com/Data-Analysis-easy-steps-Programming/dp/1840787953/ref=sr_1_99?keywords=data+analysis&qid=1663454609&sr=8-99> (referer: https://www.amazon.com/s?k=data+analysis&page=2&qid=1663453432&ref=sr_pg_2)\n"
     ]
    },
    {
     "name": "stdout",
     "output_type": "stream",
     "text": [
      "59\n",
      "['\\n            \\n              75%\\n            \\n          '] 4.5 out of 5 stars 8.25 x 1.72 x 9.31 inches\n",
      "60\n",
      "['\\n            \\n              51%\\n            \\n          '] 3.9 out of 5 stars None\n"
     ]
    },
    {
     "name": "stderr",
     "output_type": "stream",
     "text": [
      "2022-09-18 00:43:48 [scrapy.core.engine] DEBUG: Crawled (200) <GET https://www.amazon.com/Regression-Analysis-Econometric-Society-Monographs/dp/0521632013/ref=sr_1_93?keywords=data+analysis&qid=1663454609&sr=8-93> (referer: https://www.amazon.com/s?k=data+analysis&page=2&qid=1663453432&ref=sr_pg_2)\n",
      "2022-09-18 00:43:48 [scrapy.core.engine] DEBUG: Crawled (200) <GET https://www.amazon.com/Hypothesis-Testing-Intuitive-Making-Decisions/dp/173543115X/ref=sr_1_96?keywords=data+analysis&qid=1663454609&sr=8-96> (referer: https://www.amazon.com/s?k=data+analysis&page=2&qid=1663453432&ref=sr_pg_2)\n",
      "2022-09-18 00:43:48 [scrapy.core.engine] DEBUG: Crawled (200) <GET https://www.amazon.com/Bayesian-Analysis-Chapman-Statistical-Science/dp/1439840954/ref=sr_1_97?keywords=data+analysis&qid=1663454609&sr=8-97> (referer: https://www.amazon.com/s?k=data+analysis&page=2&qid=1663453432&ref=sr_pg_2)\n",
      "2022-09-18 00:43:48 [scrapy.core.engine] DEBUG: Crawled (200) <GET https://www.amazon.com/Bayesian-Ideas-Data-Analysis-Statisticians/dp/1439803544/ref=sr_1_94?keywords=data+analysis&qid=1663454609&sr=8-94> (referer: https://www.amazon.com/s?k=data+analysis&page=2&qid=1663453432&ref=sr_pg_2)\n"
     ]
    },
    {
     "name": "stdout",
     "output_type": "stream",
     "text": [
      "[['Python for Data Analysis: Data Wrangling with Pandas, NumPy, and IPython', ['by ', 'William McKinney'], '$53.99', '547 pages', '4.6 out of 5 stars', '1,631 ratings', ['\\n            \\n              76%\\n            \\n          '], ['\\n            \\n              15%\\n            \\n          '], ['\\n            \\n              5%\\n            \\n          '], ['\\n            \\n              2%\\n            \\n          '], ['\\n            \\n              2%\\n            \\n          '], '7 x 1.11 x 9.19 inches', '2.08 pounds', 'English', \"O'Reilly Media; 2nd edition (November 14, 2017)\", ' 978-1491957660', '/Python-Data-Analysis-Wrangling-IPython/dp/1491957662/ref=sr_1_5?keywords=data+analysis&qid=1663454597&sr=8-5'], [\"Everything Data Analytics-A Beginner's Guide to Data Literacy: Understanding the Processes That Turn Data Into Insights (Guides for Data Analytics, Data Visualization, and Communicating Data)\", [' '], '$14.49', '148 pages', '4.2 out of 5 stars', '17 ratings', ['\\n            \\n              55%\\n            \\n          '], ['\\n            \\n              24%\\n            \\n          '], ['\\n            \\n              13%\\n            \\n          '], ['\\n            \\n              8%\\n            \\n          '], [], '5.5 x 0.37 x 8.5 inches', '8.8 ounces', 'English', 'Kenneth Michael Fornari (May 24, 2022)', ' 978-1777967130', '/Everything-Analytics-Beginners-Guide-Literacy/dp/1777967139/ref=sr_1_7?keywords=data+analysis&qid=1663454597&sr=8-7'], ['Python for Data Analysis: Data Wrangling with pandas, NumPy, and Jupyter', ['by ', 'Wes McKinney'], '$62.99', '579 pages', '5.0 out of 5 stars', '1 rating', ['\\n            \\n              100%\\n            \\n          '], [], [], [], [], '9.1 x 1.2 x 6.9 inches', '2.07 pounds', 'English', \"O'Reilly Media; 3rd edition (September 20, 2022)\", ' 978-1098104030', '/Python-Data-Analysis-Wrangling-Jupyter/dp/109810403X/ref=sr_1_6?keywords=data+analysis&qid=1663454597&sr=8-6'], ['Python Data Analysis: Perform data collection, data processing, wrangling, visualization, and model building using Python, 3rd Edition', ['by ', 'Avinash Navlani', ', ', 'Armando Fandango', ', et al.'], '$34.99', '478 pages', '4.7 out of 5 stars', '45 ratings', ['\\n            \\n              84%\\n            \\n          '], ['\\n            \\n              9%\\n            \\n          '], ['\\n            \\n              4%\\n            \\n          '], ['\\n            \\n              3%\\n            \\n          '], [], '7.5 x 1.08 x 9.25 inches', '1.79 pounds', 'English', 'Packt Publishing; 3rd ed. edition (February 5, 2021)', ' 978-1789955248', '/Python-Data-Analysis-collection-visualization/dp/1789955246/ref=sr_1_15?keywords=data+analysis&qid=1663454597&sr=8-15'], ['R Cookbook: Proven Recipes for Data Analysis, Statistics, and Graphics', ['by ', 'JD Long', ' and ', 'Paul Teetor'], '$52.39', '600 pages', '4.5 out of 5 stars', '104 ratings', ['\\n            \\n              71%\\n            \\n          '], ['\\n            \\n              16%\\n            \\n          '], ['\\n            \\n              9%\\n            \\n          '], ['\\n            \\n              4%\\n            \\n          '], [], '7 x 1.21 x 9.19 inches', '2.08 pounds', 'English', \"O'Reilly Media; 2nd edition (July 16, 2019)\", ' 978-1492040682', '/Cookbook-Recipes-Analysis-Statistics-Graphics/dp/1492040681/ref=sr_1_8?keywords=data+analysis&qid=1663454597&sr=8-8'], ['Microsoft Excel Data Analysis and Business Modeling (Office 2021 and Microsoft 365) (Business Skills)', ['by ', 'Wayne Winston'], '$40.99', '1168 pages', '4.6 out of 5 stars', '51 ratings', ['\\n            \\n              75%\\n            \\n          '], ['\\n            \\n              17%\\n            \\n          '], ['\\n            \\n              3%\\n            \\n          '], ['\\n            \\n              5%\\n            \\n          '], [], '7.4 x 2.3 x 9.1 inches', '4.12 pounds', 'English', 'Microsoft Press; 7th edition (December 16, 2021)', ' 978-0137613663', '/Microsoft-Analysis-Business-Modeling-Office/dp/0137613660/ref=sr_1_10?keywords=data+analysis&qid=1663454597&sr=8-10'], ['SQL for Data Analysis: Advanced Techniques for Transforming Data into Insights', ['by ', 'Cathy Tanimura'], '$40.49', '360 pages', '4.7 out of 5 stars', '50 ratings', ['\\n            \\n              78%\\n            \\n          '], ['\\n            \\n              19%\\n            \\n          '], ['\\n            \\n              3%\\n            \\n          '], [], [], '6.75 x 0.75 x 8.75 inches', '1.2 pounds', 'English', \"O'Reilly Media; 1st edition (October 5, 2021)\", ' 978-1492088783', '/SQL-Data-Analysis-Techniques-Transforming/dp/1492088781/ref=sr_1_9?keywords=data+analysis&qid=1663454597&sr=8-9'], ['Data Analysis for Social Science: A Friendly and Practical Introduction', ['by ', 'Elena Llaudet', ' and ', 'Kosuke Imai'], '$39.95', '256 pages', None, None, [], [], [], [], [], None, '1.11 pounds', 'English', 'Princeton University Press (November 29, 2022)', ' 978-0691199436', '/Data-Analysis-Social-Science-Introduction/dp/0691199434/ref=sr_1_14?keywords=data+analysis&qid=1663454597&sr=8-14'], ['Guerrilla Data Analysis Using Microsoft Excel: Overcoming Crap Data and Excel Skirmishes', ['by ', 'Oz du Soleil', ' and ', 'Bill Jelen'], '$34.95', '274 pages', '5.0 out of 5 stars', '3 ratings', ['\\n            \\n              100%\\n            \\n          '], [], [], [], [], '8.25 x 0.6 x 10.75 inches', '1.4 pounds', 'English', 'Holy Macro! Books; Third edition (August 1, 2022)', ' 978-1615470747', '/Guerrilla-Analysis-Using-Microsoft-Excel/dp/1615470743/ref=sr_1_12?keywords=data+analysis&qid=1663454597&sr=8-12'], ['Qualitative Data Analysis: A Methods Sourcebook', ['by ', 'Matthew B. Miles', ', ', 'A. Michael Huberman', ', et al.'], '$85.50', '408 pages', '4.7 out of 5 stars', '197 ratings', ['\\n            \\n              84%\\n            \\n          '], ['\\n            \\n              10%\\n            \\n          '], ['\\n            \\n              4%\\n            \\n          '], ['\\n            \\n              2%\\n            \\n          '], [], '8.5 x 0.92 x 11 inches', '2.15 pounds', 'English', 'SAGE Publications, Inc; 4th edition (January 22, 2019)', ' 978-1506353074', '/Qualitative-Data-Analysis-Methods-Sourcebook/dp/150635307X/ref=sr_1_11?keywords=data+analysis&qid=1663454597&sr=8-11'], ['Excel Data Analysis For Dummies (For Dummies (Computer/Tech))', ['by ', 'Paul McFedries'], '$24.49', '368 pages', '4.0 out of 5 stars', '8 ratings', ['\\n            \\n              46%\\n            \\n          '], ['\\n            \\n              24%\\n            \\n          '], ['\\n            \\n              15%\\n            \\n          '], ['\\n            \\n              15%\\n            \\n          '], [], '7.3 x 1 x 9.1 inches', '1.3 pounds', 'English', 'For Dummies; 5th edition (February 3, 2022)', ' 978-1119844426', '/Excel-Data-Analysis-Dummies-Computer/dp/1119844428/ref=sr_1_13?keywords=data+analysis&qid=1663454597&sr=8-13'], ['Data Analysis Using SQL and Excel', ['by ', 'Gordon S. Linoff'], '$38.54', '800 pages', '4.4 out of 5 stars', '92 ratings', ['\\n            \\n              61%\\n            \\n          '], ['\\n            \\n              25%\\n            \\n          '], ['\\n            \\n              11%\\n            \\n          '], ['\\n            \\n              3%\\n            \\n          '], [], '7.4 x 1.7 x 9.2 inches', '2.81 pounds', 'English', 'Wiley; 2nd edition (December 14, 2015)', ' 978-1119021438', '/Data-Analysis-Using-SQL-Excel/dp/111902143X/ref=sr_1_29?keywords=data+analysis&qid=1663454597&sr=8-29'], [\"SQL QuickStart Guide: The Simplified Beginner's Guide to Managing, Analyzing, and Manipulating Data With SQL\", ['by ', 'Walter Shields'], ' $22.49 ', '249 pages', '4.6 out of 5 stars', '1,300 ratings', ['\\n            \\n              73%\\n            \\n          '], ['\\n            \\n              17%\\n            \\n          '], ['\\n            \\n              7%\\n            \\n          '], ['\\n            \\n              1%\\n            \\n          '], ['\\n            \\n              2%\\n            \\n          '], '7.5 x 0.57 x 9.25 inches', '15.5 ounces', 'English', 'ClydeBank Media LLC; Illustrated edition (November 18, 2019)', None, '/gp/slredirect/picassoRedirect.html/ref=pa_sp_atf_aps_sr_pg1_1?ie=UTF8&adId=A00592412L7KU7OYRNUNP&url=%2FSQL-QuickStart-Guide-Simplified-Manipulating%2Fdp%2F1945051752%2Fref%3Dsr_1_1_sspa%3Fkeywords%3Ddata%2Banalysis%26qid%3D1663454597%26sr%3D8-1-spons%26psc%3D1&qualifier=1663454597&id=8970470033616320&widgetName=sp_atf'], ['Python for ArcGIS Pro: Automate cartography and data analysis using ArcPy, ArcGIS API for Python, Notebooks, and pandas', ['by ', 'Silas Toms', ', ', 'Bill Parker', ', et al.'], None, '586 pages', '4.7 out of 5 stars', '50 ratings', ['\\n            \\n              84%\\n            \\n          '], ['\\n            \\n              10%\\n            \\n          '], ['\\n            \\n              4%\\n            \\n          '], ['\\n            \\n              3%\\n            \\n          '], [], '7.5 x 1.32 x 9.25 inches', '2.19 pounds', 'English', 'Packt Publishing (April 29, 2022)', ' 978-1803241661', '/gp/slredirect/picassoRedirect.html/ref=pa_sp_atf_aps_sr_pg1_1?ie=UTF8&adId=A0062241A9B2Q8MI1S05&url=%2FPython-ArcGIS-Pro-Automate-cartography%2Fdp%2F1803241667%2Fref%3Dsr_1_3_sspa%3Fkeywords%3Ddata%2Banalysis%26qid%3D1663454597%26sr%3D8-3-spons%26psc%3D1&qualifier=1663454597&id=8970470033616320&widgetName=sp_atf'], ['How To Win With Your Data Visualizations: The 5 Part Guide for Junior Analysts to Create Effective Data Visualizations and Engaging Data Stories ... Data Visualization, and Communicating Data)', ['by ', 'Elizabeth Clarke'], ' $15.49 ', '188 pages', '4.5 out of 5 stars', '48 ratings', ['\\n            \\n              66%\\n            \\n          '], ['\\n            \\n              23%\\n            \\n          '], ['\\n            \\n              7%\\n            \\n          '], ['\\n            \\n              4%\\n            \\n          '], [], '5.5 x 0.48 x 8.5 inches', '9.9 ounces', 'English', 'Ken Fornari (November 9, 2021)', None, '/gp/slredirect/picassoRedirect.html/ref=pa_sp_atf_aps_sr_pg1_1?ie=UTF8&adId=A10346183NSI2IEUGQK3Z&url=%2FHow-Win-Your-Data-Visualizations%2Fdp%2F1777967104%2Fref%3Dsr_1_2_sspa%3Fkeywords%3Ddata%2Banalysis%26qid%3D1663454597%26sr%3D8-2-spons%26psc%3D1&qualifier=1663454597&id=8970470033616320&widgetName=sp_atf'], ['Mastering Tableau 2021: Implement advanced business intelligence techniques and analytics with Tableau, 3rd Edition', ['by ', 'Marleen Meier', ', ', 'David Baldwin', ', et al.'], '$46.99', '792 pages', '4.4 out of 5 stars', '83 ratings', ['\\n            \\n              70%\\n            \\n          '], ['\\n            \\n              14%\\n            \\n          '], ['\\n            \\n              6%\\n            \\n          '], ['\\n            \\n              2%\\n            \\n          '], ['\\n            \\n              8%\\n            \\n          '], '7.5 x 1.79 x 9.25 inches', '2.42 pounds', 'English', 'Packt Publishing (May 31, 2021)', ' 978-1800561649', '/gp/slredirect/picassoRedirect.html/ref=pa_sp_atf_aps_sr_pg1_1?ie=UTF8&adId=A0924312PFUTP3MSPMX9&url=%2FMastering-Tableau-2021-intelligence-techniques%2Fdp%2F1800561644%2Fref%3Dsr_1_4_sspa%3Fkeywords%3Ddata%2Banalysis%26qid%3D1663454597%26sr%3D8-4-spons%26psc%3D1&qualifier=1663454597&id=8970470033616320&widgetName=sp_atf'], ['Data Visualization with Excel Dashboards and Reports', ['by ', 'Dick Kusleika'], '$22.99', '352 pages', '4.4 out of 5 stars', '77 ratings', ['\\n            \\n              63%\\n            \\n          '], ['\\n            \\n              27%\\n            \\n          '], ['\\n            \\n              3%\\n            \\n          '], ['\\n            \\n              4%\\n            \\n          '], ['\\n            \\n              2%\\n            \\n          '], '7.2 x 0.8 x 9 inches', '1.27 pounds', 'English', 'Wiley; 1st edition (January 29, 2021)', ' 978-1119698722', '/Data-Visualization-Excel-Dashboards-Reports/dp/1119698723/ref=sr_1_58?keywords=data+analysis&qid=1663454597&sr=8-58'], ['Python for Excel: A Modern Environment for Automation and Data Analysis', ['by ', 'Felix Zumstein'], '$32.99', '335 pages', '4.5 out of 5 stars', '178 ratings', ['\\n            \\n              72%\\n            \\n          '], ['\\n            \\n              18%\\n            \\n          '], ['\\n            \\n              3%\\n            \\n          '], ['\\n            \\n              4%\\n            \\n          '], ['\\n            \\n              2%\\n            \\n          '], '7 x 0.7 x 9.19 inches', '1.19 pounds', 'English', \"O'Reilly Media; 1st edition (April 13, 2021)\", ' 978-1492081005', '/Python-Excel-Environment-Automation-Analysis/dp/1492081000/ref=sr_1_57?keywords=data+analysis&qid=1663454597&sr=8-57'], [\"Storytelling with Data: Let's Practice!\", ['by ', 'Cole Nussbaumer Knaflic'], '$24.49', '448 pages', '4.7 out of 5 stars', '555 ratings', ['\\n            \\n              79%\\n            \\n          '], ['\\n            \\n              13%\\n            \\n          '], ['\\n            \\n              5%\\n            \\n          '], ['\\n            \\n              1%\\n            \\n          '], ['\\n            \\n              1%\\n            \\n          '], '7.9 x 0.9 x 9.8 inches', '2.27 pounds', 'English', 'Wiley; 1st edition (October 22, 2019)', ' 978-1119621492', '/Storytelling-Data-Cole-Nussbaumer-Knaflic/dp/1119621496/ref=sr_1_60?keywords=data+analysis&qid=1663454597&sr=8-60'], ['Time Series Analysis with Python Cookbook: Practical recipes for exploratory data analysis, data preparation, forecasting, and model evaluation', ['by ', 'Tarek A. Atwan'], '$47.49', '630 pages', '4.9 out of 5 stars', '10 ratings', ['\\n            \\n              86%\\n            \\n          '], ['\\n            \\n              14%\\n            \\n          '], [], [], [], '7.5 x 1.42 x 9.25 inches', '2.35 pounds', 'English', 'Packt Publishing (June 30, 2022)', ' 978-1801075541', '/Time-Analysis-Python-Cookbook-exploratory/dp/1801075549/ref=sr_1_59?keywords=data+analysis&qid=1663454597&sr=8-59'], ['Data Driven Fire Administration: An Introduction to Research Methods, Statistical Analysis and Analytic Management for the Fire Service', ['by ', 'H Scott Walker', ' and ', 'Karen L. Sears'], '$59.99', '467 pages', None, None, [], [], [], [], [], '8 x 1.1 x 10 inches', '2.73 pounds', 'English', 'Parkwood publications (August 19, 2022)', ' 979-8986589800', '/Data-Driven-Fire-Administration-Introduction/dp/B0B92L7VMZ/ref=sr_1_53?keywords=data+analysis&qid=1663454597&sr=8-53'], ['Regression Analysis: An Intuitive Guide for Using and Interpreting Linear Models', ['by ', 'Jim Frost'], '$23.74', '355 pages', '4.6 out of 5 stars', '127 ratings', ['\\n            \\n              77%\\n            \\n          '], ['\\n            \\n              12%\\n            \\n          '], ['\\n            \\n              7%\\n            \\n          '], ['\\n            \\n              2%\\n            \\n          '], ['\\n            \\n              3%\\n            \\n          '], '6 x 0.8 x 9 inches', '1.05 pounds', 'English', 'Statistics By Jim Publishing (October 16, 2020)', ' 978-1735431185', '/Regression-Analysis-Intuitive-Interpreting-Linear/dp/1735431184/ref=sr_1_56?keywords=data+analysis&qid=1663454597&sr=8-56'], ['How To Win With Your Data Visualizations: The 5 Part Guide for Junior Analysts to Create Effective Data Visualizations and Engaging Data Stories ... Data Visualization, and Communicating Data)', [' '], ' $15.49 ', '188 pages', '4.5 out of 5 stars', '48 ratings', ['\\n            \\n              66%\\n            \\n          '], ['\\n            \\n              23%\\n            \\n          '], ['\\n            \\n              7%\\n            \\n          '], ['\\n            \\n              4%\\n            \\n          '], [], '5.5 x 0.48 x 8.5 inches', '9.9 ounces', 'English', 'Ken Fornari (November 9, 2021)', None, '/How-Win-Your-Data-Visualizations/dp/1777967104/ref=sr_1_54?keywords=data+analysis&qid=1663454597&sr=8-54'], ['Data Analysis in Qualitative Research: Theorizing with Abductive Analysis', ['by ', 'Stefan Timmermans', ' and ', 'Iddo Tavory'], '$20.00', '208 pages', '4.4 out of 5 stars', '3 ratings', ['\\n            \\n              37%\\n            \\n          '], ['\\n            \\n              63%\\n            \\n          '], [], [], [], '6 x 0.7 x 9 inches', '9.6 ounces', 'English', 'University of Chicago Press; First edition (June 6, 2022)', ' 978-0226817736', '/Data-Analysis-Qualitative-Research-Theorizing/dp/0226817733/ref=sr_1_55?keywords=data+analysis&qid=1663454597&sr=8-55'], ['Data Analysis: Easy Methods To Process Data Into Useful Input For Fact-Based Decision-Making (Decision-making, Data collection, Data cleaning, Data visualization, Data interpretation,)', ['by ', 'Paul Martin'], None, '30 pages', None, None, [], [], [], [], [], None, None, 'English', None, None, '/Data-Analysis-Decision-Making-Decision-making-interpretation-ebook/dp/B079MC33KV/ref=sr_1_52?keywords=data+analysis&qid=1663454597&sr=8-52'], ['Essential R For Data Analysis: Data manipulation and visualization using R for beginning and intermediate users', ['by ', 'PBR Books'], None, '146 pages', '4.6 out of 5 stars', '3 ratings', ['\\n            \\n              63%\\n            \\n          '], ['\\n            \\n              37%\\n            \\n          '], [], [], [], None, None, 'English', None, None, '/Essential-Data-Analysis-manipulation-visualization-ebook/dp/B074YG6KZN/ref=sr_1_51?keywords=data+analysis&qid=1663454597&sr=8-51'], ['MASTERING EXCEL DATA & STATISTICAL ANALYSIS: All-In-One Practical Approach to Creating and Analyzing Data, Charts And Pivot Tables for Better Business ... Tricks on Data Analysis & Business Modelling', ['by ', 'CARTY BINN'], '$23.37', '708 pages', None, None, [], [], [], [], [], '7.44 x 1.6 x 9.69 inches', '3.38 pounds', 'English', 'Independently published (March 31, 2022)', ' 979-8443868455', '/MASTERING-EXCEL-DATA-STATISTICAL-ANALYSIS/dp/B09WQBH95J/ref=sr_1_50?keywords=data+analysis&qid=1663454597&sr=8-50'], ['Problems for \"Data Analysis for Social Scientists: A Foundational Crash Course\"', ['by ', 'Sara Fisher Ellison'], '$10.00', '127 pages', '3.5 out of 5 stars', '3 ratings', ['\\n            \\n              63%\\n            \\n          '], ['\\n            \\n              37%\\n            \\n          '], [], [], [], '8.27 x 0.29 x 11.69 inches', '14.4 ounces', 'English', 'Independently published (May 24, 2022)', ' 979-8831603576', '/Problems-Data-Analysis-Social-Scientists/dp/B0B289MMY8/ref=sr_1_49?keywords=data+analysis&qid=1663454597&sr=8-49'], ['Ace the Data Science Interview: 201 Real Interview Questions Asked By FAANG, Tech Startups, & Wall Street', ['by ', 'Nick Singh', ' and ', 'Kevin Huo'], '$26.00', '301 pages', '4.5 out of 5 stars', '599 ratings', ['\\n            \\n              77%\\n            \\n          '], ['\\n            \\n              10%\\n            \\n          '], ['\\n            \\n              6%\\n            \\n          '], ['\\n            \\n              3%\\n            \\n          '], ['\\n            \\n              4%\\n            \\n          '], '7 x 0.68 x 10 inches', '1.28 pounds', 'English', 'Ace the Data Science Interview (August 16, 2021)', ' 978-0578973838', '/Ace-Data-Science-Interview-Questions/dp/0578973839/ref=sr_1_46?keywords=data+analysis&qid=1663454597&sr=8-46'], ['Scalable Data Analytics with Azure Data Explorer: Modern ways to query, analyze, and perform real-time data analysis on large volumes of data', ['by ', 'Jason Myerscough', ' and ', 'Arunee Singhchawla'], None, '364 pages', '5.0 out of 5 stars', '8 ratings', ['\\n            \\n              100%\\n            \\n          '], [], [], [], [], None, None, 'English', 'Packt Publishing; 1st edition (March 17, 2022)', None, '/Scalable-Data-Analytics-Azure-Explorer-ebook/dp/B09M6V1TYQ/ref=sr_1_48?keywords=data+analysis&qid=1663454597&sr=8-48'], ['Hands-On Data Preprocessing in Python: Learn how to effectively prepare data for successful data analytics', ['by ', 'Roy Jafari'], None, '602 pages', '5.0 out of 5 stars', '17 ratings', ['\\n            \\n              100%\\n            \\n          '], [], [], [], [], None, None, 'English', 'Packt Publishing; 1st edition (January 21, 2022)', None, '/Hands-Data-Preprocessing-Python-effectively-ebook/dp/B09F6R8V2L/ref=sr_1_47?keywords=data+analysis&qid=1663454597&sr=8-47'], ['Cleaning Data for Effective Data Science: Doing the other 80% of the work with Python, R, and command-line tools', ['by ', 'David Mertz'], '$39.99', '498 pages', '4.8 out of 5 stars', '27 ratings', ['\\n            \\n              92%\\n            \\n          '], ['\\n            \\n              8%\\n            \\n          '], [], [], [], '7.5 x 1.13 x 9.25 inches', '1.85 pounds', 'English', 'Packt Publishing (March 31, 2021)', ' 978-1801071291', '/Cleaning-Data-Effective-Science-command-line/dp/1801071292/ref=sr_1_45?keywords=data+analysis&qid=1663454597&sr=8-45'], ['Thinking Clearly with Data: A Guide to Quantitative Reasoning and Analysis', ['by ', 'Ethan Bueno de Mesquita', ' and ', 'Anthony Fowler'], '$28.45', '400 pages', '4.3 out of 5 stars', '34 ratings', ['\\n            \\n              73%\\n            \\n          '], ['\\n            \\n              7%\\n            \\n          '], ['\\n            \\n              4%\\n            \\n          '], ['\\n            \\n              6%\\n            \\n          '], ['\\n            \\n              9%\\n            \\n          '], '7 x 1 x 9.75 inches', '1.55 pounds', 'English', 'Princeton University Press (November 16, 2021)', ' 978-0691214351', '/Thinking-Clearly-Data-Quantitative-Reasoning/dp/0691214352/ref=sr_1_44?keywords=data+analysis&qid=1663454597&sr=8-44'], ['Python for Data Science: A Hands-On Introduction', ['by ', 'Yuli Vasiliev'], '$28.49', '240 pages', '4.3 out of 5 stars', '6 ratings', ['\\n            \\n              78%\\n            \\n          '], ['\\n            \\n              22%\\n            \\n          '], [], [], [], '7 x 0.71 x 9.25 inches', '13 ounces', 'English', 'No Starch Press (August 2, 2022)', ' 978-1718502208', '/Python-Data-Science-Example-Vasiliev/dp/1718502206/ref=sr_1_42?keywords=data+analysis&qid=1663454597&sr=8-42'], [\"SQL QuickStart Guide: The Simplified Beginner's Guide to Managing, Analyzing, and Manipulating Data With SQL\", ['by ', 'Walter Shields'], ' $22.49 ', '249 pages', '4.6 out of 5 stars', '1,300 ratings', ['\\n            \\n              73%\\n            \\n          '], ['\\n            \\n              17%\\n            \\n          '], ['\\n            \\n              7%\\n            \\n          '], ['\\n            \\n              1%\\n            \\n          '], ['\\n            \\n              2%\\n            \\n          '], '7.5 x 0.57 x 9.25 inches', '15.5 ounces', 'English', 'ClydeBank Media LLC; Illustrated edition (November 18, 2019)', None, '/SQL-QuickStart-Guide-Simplified-Manipulating/dp/1945051752/ref=sr_1_43?keywords=data+analysis&qid=1663454597&sr=8-43'], ['SQL for Data Analytics: Perform fast and efficient data analysis with the power of SQL', ['by ', 'Upom Malik', ', ', 'Matt Goldwasser', ', et al.'], '$27.89', '386 pages', '4.4 out of 5 stars', '226 ratings', ['\\n            \\n              68%\\n            \\n          '], ['\\n            \\n              14%\\n            \\n          '], ['\\n            \\n              11%\\n            \\n          '], ['\\n            \\n              4%\\n            \\n          '], ['\\n            \\n              3%\\n            \\n          '], '7.5 x 0.87 x 9.25 inches', '1.46 pounds', 'English', 'Packt Publishing (August 23, 2019)', ' 978-1789807356', '/SQL-Data-Analytics-efficient-analysis/dp/1789807352/ref=sr_1_40?keywords=data+analysis&qid=1663454597&sr=8-40'], ['Topological Data Analysis with Applications', ['by ', 'Gunnar Carlsson', ' and ', 'Mikael Vejdemo-Johansson'], '$42.58', '230 pages', '5.0 out of 5 stars', '4 ratings', ['\\n            \\n              100%\\n            \\n          '], [], [], [], [], '6.75 x 0.75 x 9.75 inches', '1.28 pounds', 'English', 'Cambridge University Press; 1st edition (March 24, 2022)', ' 978-1108838658', '/Topological-Analysis-Applications-Gunnar-Carlsson/dp/1108838650/ref=sr_1_39?keywords=data+analysis&qid=1663454597&sr=8-39'], ['Storytelling with Data: A Data Visualization Guide for Business Professionals', ['by ', 'Cole Nussbaumer Knaflic'], '$28.49', '288 pages', '4.6 out of 5 stars', '3,313 ratings', ['\\n            \\n              76%\\n            \\n          '], ['\\n            \\n              15%\\n            \\n          '], ['\\n            \\n              5%\\n            \\n          '], ['\\n            \\n              1%\\n            \\n          '], ['\\n            \\n              2%\\n            \\n          '], '7.4 x 0.9 x 9.2 inches', '1.46 pounds', 'English', 'Wiley; 1st edition (November 2, 2015)', ' 978-1119002253', '/Storytelling-Data-Visualization-Business-Professionals/dp/1119002257/ref=sr_1_41?keywords=data+analysis&qid=1663454597&sr=8-41'], ['The Data Analysis Workshop: Solve business problems with state-of-the-art data analysis models, developing expert data analysis skills along the way', ['by ', 'Gururajan Govindan', ', ', 'Shubhangi Hora', ', et al.'], ' $16.49 ', '675 pages', '4.1 out of 5 stars', '27 ratings', ['\\n            \\n              50%\\n            \\n          '], ['\\n            \\n              23%\\n            \\n          '], ['\\n            \\n              18%\\n            \\n          '], ['\\n            \\n              9%\\n            \\n          '], [], None, None, 'English', 'Packt Publishing; 1st edition (July 29, 2020)', None, '/Data-Analysis-Workshop-state-art-ebook/dp/B08Q8HXRQ4/ref=sr_1_37?keywords=data+analysis&qid=1663454597&sr=8-37'], ['Practical Statistics for Data Scientists: 50+ Essential Concepts Using R and Python', ['by ', 'Peter Bruce', ', ', 'Andrew Bruce', ', et al.'], '$24.88', '368 pages', '4.6 out of 5 stars', '655 ratings', ['\\n            \\n              76%\\n            \\n          '], ['\\n            \\n              14%\\n            \\n          '], ['\\n            \\n              6%\\n            \\n          '], ['\\n            \\n              2%\\n            \\n          '], ['\\n            \\n              2%\\n            \\n          '], '7 x 0.9 x 9.1 inches', '1.3 pounds', 'English', \"O'Reilly Media; 2nd edition (June 2, 2020)\", ' 978-1492072942', '/Practical-Statistics-Data-Scientists-Essential/dp/149207294X/ref=sr_1_38?keywords=data+analysis&qid=1663454597&sr=8-38'], ['R in Action: Data Analysis and Graphics with R', ['by ', 'Dr. Rob Kabacoff'], '$51.96', '608 pages', '4.6 out of 5 stars', '247 ratings', ['\\n            \\n              77%\\n            \\n          '], ['\\n            \\n              13%\\n            \\n          '], ['\\n            \\n              5%\\n            \\n          '], ['\\n            \\n              2%\\n            \\n          '], ['\\n            \\n              3%\\n            \\n          '], '7.38 x 1.3 x 9.25 inches', '1.98 pounds', 'English', 'Manning; 2nd edition (June 6, 2015)', ' 978-1617291388', '/Action-Data-Analysis-Graphics/dp/1617291382/ref=sr_1_80?keywords=data+analysis&qid=1663454609&sr=8-80'], ['The Kaggle Book: Data analysis and machine learning for competitive data science', ['by ', 'Konrad Banachewicz', ', ', 'Luca Massaron', ', et al.'], '$39.94', '530 pages', '4.6 out of 5 stars', '68 ratings', ['\\n            \\n              81%\\n            \\n          '], ['\\n            \\n              5%\\n            \\n          '], ['\\n            \\n              5%\\n            \\n          '], ['\\n            \\n              7%\\n            \\n          '], ['\\n            \\n              2%\\n            \\n          '], '7.5 x 1.2 x 9.25 inches', '1.98 pounds', 'English', 'Packt Publishing (April 22, 2022)', ' 978-1801817479', '/gp/slredirect/picassoRedirect.html/ref=pa_sp_mtf_aps_sr_pg1_1?ie=UTF8&adId=A042794414RUFTYI84X5K&url=%2FData-Analysis-Machine-Learning-Kaggle%2Fdp%2F1801817472%2Fref%3Dsr_1_36_sspa%3Fkeywords%3Ddata%2Banalysis%26qid%3D1663454597%26sr%3D8-36-spons%26psc%3D1&qualifier=1663454597&id=8970470033616320&widgetName=sp_mtf'], ['Machine Learning in Bio-Signal Analysis and Diagnostic Imaging', ['by ', 'Nilanjan Dey', ', ', 'Surekha Borra', ', et al.'], None, '313 pages', None, None, [], [], [], [], [], None, None, 'English', 'Academic Press; 1st edition (November 30, 2018)', None, '/Machine-Learning-Bio-Signal-Analysis-Diagnostic-ebook/dp/B07L29N8NG/ref=sr_1_32?keywords=data+analysis&qid=1663454597&sr=8-32'], ['Excel 2022: The Most Comprehensive Guide to Learn All Formulas and Functions in Just One Week with Step-by-Step Explanations, Practical Examples, & Picture Demonstrations.', ['by ', 'Kevin Cooper'], '$19.62', '168 pages', '4.9 out of 5 stars', '89 ratings', ['\\n            \\n              95%\\n            \\n          '], ['\\n            \\n              2%\\n            \\n          '], ['\\n            \\n              3%\\n            \\n          '], [], [], '8.5 x 0.38 x 11 inches', '15.8 ounces', 'English', 'Independently published (May 9, 2022)', ' 979-8821580115', '/Excel-2022-Step-Step-Demonstrations/dp/B09ZVB5Y7G/ref=sr_1_86?keywords=data+analysis&qid=1663454609&sr=8-86'], ['Data Analysis: For Continuous School Improvement', ['by ', 'Victoria L. Bernhardt'], '$39.96', '426 pages', '4.6 out of 5 stars', '242 ratings', ['\\n            \\n              75%\\n            \\n          '], ['\\n            \\n              13%\\n            \\n          '], ['\\n            \\n              9%\\n            \\n          '], ['\\n            \\n              1%\\n            \\n          '], ['\\n            \\n              2%\\n            \\n          '], '8.46 x 0.96 x 10.98 inches', '2.54 pounds', 'English', 'Routledge; 4th edition (August 8, 2017)', ' 978-1138294622', '/Data-Analysis-Continuous-School-Improvement/dp/1138294624/ref=sr_1_78?keywords=data+analysis&qid=1663454609&sr=8-78'], ['Data Analysis for Business, Economics, and Policy', ['by ', 'Gábor Békés', ' and ', 'Gábor Kézdi'], '$61.74', '738 pages', '4.4 out of 5 stars', '26 ratings', ['\\n            \\n              70%\\n            \\n          '], ['\\n            \\n              13%\\n            \\n          '], ['\\n            \\n              6%\\n            \\n          '], ['\\n            \\n              6%\\n            \\n          '], ['\\n            \\n              5%\\n            \\n          '], '7.5 x 1.74 x 9.25 inches', '3.51 pounds', 'English', 'Cambridge University Press (May 6, 2021)', ' 978-1108716208', '/Data-Analysis-Business-Economics-Policy/dp/1108716202/ref=sr_1_31?keywords=data+analysis&qid=1663454597&sr=8-31'], ['Data Analysis for Business, Economics, and Policy', ['by ', 'Gábor Békés', ' and ', 'Gábor Kézdi'], '$61.74', '738 pages', '4.4 out of 5 stars', '26 ratings', ['\\n            \\n              70%\\n            \\n          '], ['\\n            \\n              13%\\n            \\n          '], ['\\n            \\n              6%\\n            \\n          '], ['\\n            \\n              6%\\n            \\n          '], ['\\n            \\n              5%\\n            \\n          '], '7.5 x 1.74 x 9.25 inches', '3.51 pounds', 'English', 'Cambridge University Press (May 6, 2021)', ' 978-1108716208', '/gp/slredirect/picassoRedirect.html/ref=pa_sp_mtf_aps_sr_pg1_1?ie=UTF8&adId=A03403322CFQYO3UQZHBI&url=%2FData-Analysis-Business-Economics-Policy%2Fdp%2F1108716202%2Fref%3Dsr_1_35_sspa%3Fkeywords%3Ddata%2Banalysis%26qid%3D1663454597%26sr%3D8-35-spons%26psc%3D1&qualifier=1663454597&id=8970470033616320&widgetName=sp_mtf'], ['The Kaggle Book: Data analysis and machine learning for competitive data science', ['by ', 'Konrad Banachewicz', ', ', 'Luca Massaron', ', et al.'], '$39.94', '530 pages', '4.6 out of 5 stars', '68 ratings', ['\\n            \\n              81%\\n            \\n          '], ['\\n            \\n              5%\\n            \\n          '], ['\\n            \\n              5%\\n            \\n          '], ['\\n            \\n              7%\\n            \\n          '], ['\\n            \\n              2%\\n            \\n          '], '7.5 x 1.2 x 9.25 inches', '1.98 pounds', 'English', 'Packt Publishing (April 22, 2022)', ' 978-1801817479', '/Data-Analysis-Machine-Learning-Kaggle/dp/1801817472/ref=sr_1_79?keywords=data+analysis&qid=1663454609&sr=8-79'], ['Statistics & Statistical Analysis Illustrated: Foundations You Should Know', [' '], ' $3.79 ', '120 pages', '3.9 out of 5 stars', '12 ratings', ['\\n            \\n              57%\\n            \\n          '], ['\\n            \\n              11%\\n            \\n          '], ['\\n            \\n              11%\\n            \\n          '], ['\\n            \\n              11%\\n            \\n          '], ['\\n            \\n              11%\\n            \\n          '], None, None, 'English', None, None, '/Statistics-Statistical-Analysis-Illustrated-Foundations-ebook/dp/B09QD64XSW/ref=sr_1_108?keywords=data+analysis&qid=1663454609&sr=8-108'], ['Lab Manual for Statistical Analysis', ['by ', 'Dawn M. McBride', ' and ', 'J. Cooper Cutting'], '$30.00', '128 pages', '4.8 out of 5 stars', '14 ratings', ['\\n            \\n              90%\\n            \\n          '], ['\\n            \\n              10%\\n            \\n          '], [], [], [], '8.5 x 0.29 x 11 inches', '11.3 ounces', 'English', 'SAGE Publications, Inc; 1st edition (October 4, 2017)', ' 978-1506325170', '/Manual-Statistical-Analysis-Dawn-McBride/dp/1506325173/ref=sr_1_102?keywords=data+analysis&qid=1663454609&sr=8-102'], ['Longitudinal Analysis: Modeling Within-Person Fluctuation and Change (Multivariate Applications Series)', [' '], '$76.98', '626 pages', '4.6 out of 5 stars', '14 ratings', ['\\n            \\n              70%\\n            \\n          '], ['\\n            \\n              18%\\n            \\n          '], ['\\n            \\n              12%\\n            \\n          '], [], [], '7 x 1.48 x 10 inches', '2.5 pounds', 'English', 'Routledge; 1st edition (December 4, 2014)', ' 978-0415876025', '/Longitudinal-Analysis-Within-Person-Multivariate-Applications/dp/0415876028/ref=sr_1_95?keywords=data+analysis&qid=1663454609&sr=8-95'], ['Business Intelligence Guidebook: From Data Integration to Analytics', ['by ', 'Rick Sherman'], '$54.95', '550 pages', '4.4 out of 5 stars', '92 ratings', ['\\n            \\n              69%\\n            \\n          '], ['\\n            \\n              15%\\n            \\n          '], ['\\n            \\n              6%\\n            \\n          '], ['\\n            \\n              6%\\n            \\n          '], ['\\n            \\n              5%\\n            \\n          '], '7.5 x 1.24 x 9.25 inches', '2.12 pounds', 'English', 'Morgan Kaufmann; 1st edition (November 21, 2014)', ' 978-0124114616', '/gp/slredirect/picassoRedirect.html/ref=pa_sp_mtf_aps_sr_pg1_1?ie=UTF8&adId=A00080402E43C7JFRI9V6&url=%2FBusiness-Intelligence-Guidebook-Integration-Analytics%2Fdp%2F012411461X%2Fref%3Dsr_1_34_sspa%3Fkeywords%3Ddata%2Banalysis%26qid%3D1663454597%26sr%3D8-34-spons%26psc%3D1&qualifier=1663454597&id=8970470033616320&widgetName=sp_mtf'], [\"Machine Learning: 4 Books in 1: The #1 Beginner's Guide to Master the Basics of Python Programming, Learn the Art of Data Science and Build Artificial Intelligence\", ['by ', 'Andrew Park'], '$25.97', '342 pages', '4.6 out of 5 stars', '344 ratings', ['\\n            \\n              81%\\n            \\n          '], ['\\n            \\n              10%\\n            \\n          '], ['\\n            \\n              3%\\n            \\n          '], ['\\n            \\n              1%\\n            \\n          '], ['\\n            \\n              5%\\n            \\n          '], '6 x 0.78 x 9 inches', '1.29 pounds', 'English', 'Independently published (July 20, 2022)', ' 979-8841495048', '/Machine-Learning-Programming-Artificial-Intelligence/dp/B0B6XLFWPL/ref=sr_1_107?keywords=data+analysis&qid=1663454609&sr=8-107'], ['Data Visualization in Python with Pandas and Matplotlib', ['by ', 'David Landup'], ' $45.93 ', '447 pages', '4.1 out of 5 stars', '19 ratings', ['\\n            \\n              67%\\n            \\n          '], ['\\n            \\n              7%\\n            \\n          '], ['\\n            \\n              7%\\n            \\n          '], ['\\n            \\n              7%\\n            \\n          '], ['\\n            \\n              12%\\n            \\n          '], '7.44 x 1.05 x 9.69 inches', '1.92 pounds', 'English', 'Independently published (June 16, 2021)', None, '/gp/slredirect/picassoRedirect.html/ref=pa_sp_atf_next_aps_sr_pg2_1?ie=UTF8&adId=A047149526877V7QO6MN7&url=%2FData-Visualization-Python-Pandas-Matplotlib%2Fdp%2FB0972TFYN8%2Fref%3Dsr_1_49_sspa%3Fkeywords%3Ddata%2Banalysis%26qid%3D1663454609%26sr%3D8-49-spons%26psc%3D1&qualifier=1663454609&id=565449148708087&widgetName=sp_atf_next'], ['Data Flow Diagrams - Simply Put!: Process Modeling Techniques for Requirements Elicitation and Workflow Analysis (Advanced Business Analysis Topics)', [' '], '$11.97', '118 pages', '4.2 out of 5 stars', '33 ratings', ['\\n            \\n              52%\\n            \\n          '], ['\\n            \\n              31%\\n            \\n          '], ['\\n            \\n              10%\\n            \\n          '], ['\\n            \\n              8%\\n            \\n          '], [], '6 x 0.27 x 9 inches', '5.9 ounces', 'English', 'CreateSpace Independent Publishing Platform (August 1, 2016)', ' 978-1535110136', '/Data-Flow-Diagrams-Requirements-Elicitation/dp/1535110139/ref=sr_1_106?keywords=data+analysis&qid=1663454609&sr=8-106'], ['DATA ANALYTICS: A Comprehensive Beginner’s Guide To Learn About The Realms Of Data Analytics From A-Z', ['by ', 'Mr Benjamin Smith'], '$19.99', '153 pages', '4.2 out of 5 stars', '37 ratings', ['\\n            \\n              59%\\n            \\n          '], ['\\n            \\n              15%\\n            \\n          '], ['\\n            \\n              20%\\n            \\n          '], ['\\n            \\n              6%\\n            \\n          '], [], '6 x 0.35 x 9 inches', '7.5 ounces', 'English', 'Independently published (April 26, 2020)', ' 979-8640455267', '/gp/slredirect/picassoRedirect.html/ref=pa_sp_mtf_aps_sr_pg1_1?ie=UTF8&adId=A080573117BYE1RBQRH8U&url=%2FDATA-ANALYTICS-Comprehensive-Beginners-Analytics%2Fdp%2FB087L36G1T%2Fref%3Dsr_1_33_sspa%3Fkeywords%3Ddata%2Banalysis%26qid%3D1663454597%26sr%3D8-33-spons%26psc%3D1&qualifier=1663454597&id=8970470033616320&widgetName=sp_mtf'], ['Julia for Data Analysis', ['by ', 'Bogumil Kaminski'], '$59.99', '246 pages', None, None, [], [], [], [], [], '7.38 x 0.81 x 9.25 inches', '13.6 ounces', 'English', 'Manning (December 20, 2022)', ' 978-1633439368', '/Julia-Data-Analysis-Bogumil-Kaminski/dp/1633439364/ref=sr_1_104?keywords=data+analysis&qid=1663454609&sr=8-104'], ['Qualitative Data Analysis: Practical Strategies', ['by ', 'Pat Bazeley'], '$45.00', '584 pages', '4.5 out of 5 stars', '9 ratings', ['\\n            \\n              61%\\n            \\n          '], ['\\n            \\n              24%\\n            \\n          '], ['\\n            \\n              15%\\n            \\n          '], [], [], '7.32 x 1.32 x 9.13 inches', '2.29 pounds', 'English', 'SAGE Publications Ltd; Second edition (December 15, 2020)', ' 978-1526404763', '/Qualitative-Data-Analysis-Practical-Strategies/dp/1526404761/ref=sr_1_103?keywords=data+analysis&qid=1663454609&sr=8-103'], ['Econometric Analysis of Cross Section and Panel Data, second edition (The MIT Press)', ['by ', 'Jeffrey M. Wooldridge'], '$115.00', '1096 pages', '4.5 out of 5 stars', '115 ratings', ['\\n            \\n              75%\\n            \\n          '], ['\\n            \\n              13%\\n            \\n          '], ['\\n            \\n              4%\\n            \\n          '], ['\\n            \\n              3%\\n            \\n          '], ['\\n            \\n              4%\\n            \\n          '], '8.25 x 1.72 x 9.31 inches', '4.1 pounds', 'English', 'The MIT Press; second edition (October 1, 2010)', ' 978-0262232586', '/Econometric-Analysis-Cross-Section-Panel/dp/0262232588/ref=sr_1_105?keywords=data+analysis&qid=1663454609&sr=8-105'], ['Excel Pivot Tables: Basic Beginners Guide to Learn Excel Pivot Tables for Data Analysis and Modeling', ['by ', 'MG Martin', ', ', 'Peter Prova', ', et al.'], None, None, '3.9 out of 5 stars', '56 ratings', ['\\n            \\n              51%\\n            \\n          '], ['\\n            \\n              24%\\n            \\n          '], ['\\n            \\n              8%\\n            \\n          '], ['\\n            \\n              17%\\n            \\n          '], [], None, None, None, None, None, '/Excel-Pivot-Tables-Beginners-Analysis/dp/B07VGL7S7V/ref=sr_1_101?keywords=data+analysis&qid=1663454609&sr=8-101']]\n"
     ]
    },
    {
     "name": "stdout",
     "output_type": "stream",
     "text": [
      "61\n",
      "['\\n            \\n              100%\\n            \\n          '] 5.0 out of 5 stars None\n",
      "62\n",
      "[] None 5.5 x 0.3 x 8.5 inches\n"
     ]
    },
    {
     "name": "stderr",
     "output_type": "stream",
     "text": [
      "2022-09-18 00:43:49 [scrapy.core.engine] DEBUG: Crawled (200) <GET https://www.amazon.com/s?k=data+analysis&page=3&qid=1663453432&ref=sr_pg_3> (referer: https://www.amazon.com/Statistics-Statistical-Analysis-Illustrated-Foundations-ebook/dp/B09QD64XSW/ref=sr_1_108?keywords=data+analysis&qid=1663454609&sr=8-108)\n"
     ]
    },
    {
     "name": "stdout",
     "output_type": "stream",
     "text": [
      "63\n",
      "['\\n            \\n              59%\\n            \\n          '] 4.3 out of 5 stars 7.2 x 0.5 x 8.8 inches\n"
     ]
    },
    {
     "name": "stderr",
     "output_type": "stream",
     "text": [
      "2022-09-18 00:43:49 [scrapy.core.engine] DEBUG: Crawled (200) <GET https://www.amazon.com/Python-Data-Cleaning-Cookbook-techniques/dp/1800565666/ref=sr_1_90?keywords=data+analysis&qid=1663454609&sr=8-90> (referer: https://www.amazon.com/s?k=data+analysis&page=2&qid=1663453432&ref=sr_pg_2)\n",
      "2022-09-18 00:43:49 [scrapy.core.engine] DEBUG: Crawled (200) <GET https://www.amazon.com/Secondary-Data-Mixed-Methods-Research/dp/1506389570/ref=sr_1_92?keywords=data+analysis&qid=1663454609&sr=8-92> (referer: https://www.amazon.com/s?k=data+analysis&page=2&qid=1663453432&ref=sr_pg_2)\n",
      "2022-09-18 00:43:49 [scrapy.core.engine] DEBUG: Crawled (200) <GET https://www.amazon.com/Data-Analysis-Bayesian-Devinderjit-Sivia/dp/0198568320/ref=sr_1_91?keywords=data+analysis&qid=1663454609&sr=8-91> (referer: https://www.amazon.com/s?k=data+analysis&page=2&qid=1663453432&ref=sr_pg_2)\n"
     ]
    },
    {
     "name": "stdout",
     "output_type": "stream",
     "text": [
      "64\n",
      "['\\n            \\n              49%\\n            \\n          '] 4.5 out of 5 stars 5.98 x 1.13 x 9.02 inches\n",
      "65\n",
      "['\\n            \\n              78%\\n            \\n          '] 4.6 out of 5 stars 6 x 0.86 x 9 inches\n",
      "66\n",
      "['\\n            \\n              55%\\n            \\n          '] 4.0 out of 5 stars 6.9 x 1.1 x 10 inches\n"
     ]
    },
    {
     "name": "stderr",
     "output_type": "stream",
     "text": [
      "2022-09-18 00:43:50 [scrapy.downloadermiddlewares.redirect] DEBUG: Redirecting (302) to <GET https://www.amazon.com/Intelligent-Reliability-Analysis-Using-MATLAB/dp/939068465X/ref=sr_1_84_sspa?keywords=data+analysis&qid=1663454609&sr=8-84-spons&psc=1&spLa=ZW5jcnlwdGVkUXVhbGlmaWVyPUFZTElVTlEzODFDRzUmZW5jcnlwdGVkSWQ9QTAxMTE5ODQyR0JUM0lXTTkwQjZUJmVuY3J5cHRlZEFkSWQ9QTA0NTM1OTMzUTVFOFVIT0lYSzhaJndpZGdldE5hbWU9c3BfbXRmJmFjdGlvbj1jbGlja1JlZGlyZWN0JmRvTm90TG9nQ2xpY2s9dHJ1ZQ==> from <GET https://www.amazon.com/gp/slredirect/picassoRedirect.html/ref=pa_sp_mtf_aps_sr_pg2_1?ie=UTF8&adId=A04535933Q5E8UHOIXK8Z&url=%2FIntelligent-Reliability-Analysis-Using-MATLAB%2Fdp%2F939068465X%2Fref%3Dsr_1_84_sspa%3Fkeywords%3Ddata%2Banalysis%26qid%3D1663454609%26sr%3D8-84-spons%26psc%3D1&qualifier=1663454609&id=565449148708087&widgetName=sp_mtf>\n"
     ]
    },
    {
     "name": "stdout",
     "output_type": "stream",
     "text": [
      "67\n",
      "['\\n            \\n              81%\\n            \\n          '] 4.7 out of 5 stars 7.5 x 1.25 x 10.25 inches\n",
      "3\n",
      "R in Action: Data Analysis and Graphics with R\n",
      "68\n",
      "['\\n            \\n              83%\\n            \\n          '] 4.8 out of 5 stars 7.5 x 0.99 x 9.25 inches\n",
      "69\n",
      "['\\n            \\n              70%\\n            \\n          '] 4.4 out of 5 stars 6 x 0.75 x 9 inches\n"
     ]
    },
    {
     "name": "stderr",
     "output_type": "stream",
     "text": [
      "2022-09-18 00:43:51 [scrapy.downloadermiddlewares.redirect] DEBUG: Redirecting (302) to <GET https://www.amazon.com/Hypothesis-Testing-Intuitive-Making-Decisions/dp/173543115X/ref=sr_1_83_sspa?keywords=data+analysis&qid=1663454609&sr=8-83-spons&psc=1&spLa=ZW5jcnlwdGVkUXVhbGlmaWVyPUFZTElVTlEzODFDRzUmZW5jcnlwdGVkSWQ9QTAxMTE5ODQyR0JUM0lXTTkwQjZUJmVuY3J5cHRlZEFkSWQ9QTAyMTExODEzTUI2U0hUOEk4VVRHJndpZGdldE5hbWU9c3BfbXRmJmFjdGlvbj1jbGlja1JlZGlyZWN0JmRvTm90TG9nQ2xpY2s9dHJ1ZQ==> from <GET https://www.amazon.com/gp/slredirect/picassoRedirect.html/ref=pa_sp_mtf_aps_sr_pg2_1?ie=UTF8&adId=A02111813MB6SHT8I8UTG&url=%2FHypothesis-Testing-Intuitive-Making-Decisions%2Fdp%2F173543115X%2Fref%3Dsr_1_83_sspa%3Fkeywords%3Ddata%2Banalysis%26qid%3D1663454609%26sr%3D8-83-spons%26psc%3D1&qualifier=1663454609&id=565449148708087&widgetName=sp_mtf>\n",
      "2022-09-18 00:43:51 [scrapy.downloadermiddlewares.redirect] DEBUG: Redirecting (302) to <GET https://www.amazon.com/Data-Analytics-Advanced-Realms-Effectively/dp/B08RYK6549/ref=sr_1_81_sspa?keywords=data+analysis&qid=1663454609&sr=8-81-spons&psc=1&spLa=ZW5jcnlwdGVkUXVhbGlmaWVyPUFZTElVTlEzODFDRzUmZW5jcnlwdGVkSWQ9QTAxMTE5ODQyR0JUM0lXTTkwQjZUJmVuY3J5cHRlZEFkSWQ9QTAwNDQ2NzVTVzNWNkwyNE9BUDMmd2lkZ2V0TmFtZT1zcF9tdGYmYWN0aW9uPWNsaWNrUmVkaXJlY3QmZG9Ob3RMb2dDbGljaz10cnVl> from <GET https://www.amazon.com/gp/slredirect/picassoRedirect.html/ref=pa_sp_mtf_aps_sr_pg2_1?ie=UTF8&adId=A0044675SW3V6L24OAP3&url=%2FData-Analytics-Advanced-Realms-Effectively%2Fdp%2FB08RYK6549%2Fref%3Dsr_1_81_sspa%3Fkeywords%3Ddata%2Banalysis%26qid%3D1663454609%26sr%3D8-81-spons%26psc%3D1&qualifier=1663454609&id=565449148708087&widgetName=sp_mtf>\n",
      "2022-09-18 00:43:51 [scrapy.core.engine] DEBUG: Crawled (200) <GET https://www.amazon.com/Python-Data-Science-Handbook-Essential/dp/1491912057/ref=sr_1_89?keywords=data+analysis&qid=1663454609&sr=8-89> (referer: https://www.amazon.com/s?k=data+analysis&page=2&qid=1663453432&ref=sr_pg_2)\n",
      "2022-09-18 00:43:51 [scrapy.core.engine] DEBUG: Crawled (200) <GET https://www.amazon.com/Supervised-Machine-Learning-Analysis-Chapman/dp/0367554194/ref=sr_1_88?keywords=data+analysis&qid=1663454609&sr=8-88> (referer: https://www.amazon.com/s?k=data+analysis&page=2&qid=1663453432&ref=sr_pg_2)\n",
      "2022-09-18 00:43:51 [scrapy.core.engine] DEBUG: Crawled (200) <GET https://www.amazon.com/Computational-Topology-Analysis-Tamal-Krishna/dp/1009098160/ref=sr_1_87?keywords=data+analysis&qid=1663454609&sr=8-87> (referer: https://www.amazon.com/s?k=data+analysis&page=2&qid=1663453432&ref=sr_pg_2)\n"
     ]
    },
    {
     "name": "stdout",
     "output_type": "stream",
     "text": [
      "70\n",
      "['\\n            \\n              74%\\n            \\n          '] 4.6 out of 5 stars 9.14 x 7.56 x 0.57 inches\n",
      "Excel Tips & Tricks (Quick Study Computer)\n",
      "Pandas 1.x Cookbook: Practical recipes for scientific computing, time series analysis, and exploratory data analysis using Python, 2nd Edition\n",
      "Advanced Algorithms and Data Structures\n",
      "Foundations of Crime Analysis: Data, Analyses, and Mapping\n",
      "Statistics & Statistical Analysis Illustrated: Foundations You Should Know\n",
      "SAS and R: Data Management, Statistical Analysis, and Graphics\n",
      "The Data Detective: Ten Easy Rules to Make Sense of Statistics\n",
      "The Book of Dash: Build Dashboards with Python and Plotly\n",
      "Big Data in Practice: How 45 Successful Companies Used Big Data Analytics to Deliver Extraordinary Results\n",
      "Python Programming for Beginners: The Ultimate Crash Course to Learn Python in 7 Days with Step-by-Step Guidance and Hands-On Exercises\n"
     ]
    },
    {
     "name": "stderr",
     "output_type": "stream",
     "text": [
      "2022-09-18 00:43:51 [scrapy.core.engine] DEBUG: Crawled (200) <GET https://www.amazon.com/Cluster-Analysis-Brian-S-Everitt/dp/0470749911/ref=sr_1_85?keywords=data+analysis&qid=1663454609&sr=8-85> (referer: https://www.amazon.com/s?k=data+analysis&page=2&qid=1663453432&ref=sr_pg_2)\n",
      "2022-09-18 00:43:51 [scrapy.downloadermiddlewares.redirect] DEBUG: Redirecting (302) to <GET https://www.amazon.com/Data-Engineering-Alteryx-engineers-practices/dp/1803236485/ref=sr_1_82_sspa?keywords=data+analysis&qid=1663454609&sr=8-82-spons&psc=1&spLa=ZW5jcnlwdGVkUXVhbGlmaWVyPUFZTElVTlEzODFDRzUmZW5jcnlwdGVkSWQ9QTAxMTE5ODQyR0JUM0lXTTkwQjZUJmVuY3J5cHRlZEFkSWQ9QTAwOTYwODFQWFRIWkJISVdDOVAmd2lkZ2V0TmFtZT1zcF9tdGYmYWN0aW9uPWNsaWNrUmVkaXJlY3QmZG9Ob3RMb2dDbGljaz10cnVl> from <GET https://www.amazon.com/gp/slredirect/picassoRedirect.html/ref=pa_sp_mtf_aps_sr_pg2_1?ie=UTF8&adId=A0096081PXTHZBHIWC9P&url=%2FData-Engineering-Alteryx-engineers-practices%2Fdp%2F1803236485%2Fref%3Dsr_1_82_sspa%3Fkeywords%3Ddata%2Banalysis%26qid%3D1663454609%26sr%3D8-82-spons%26psc%3D1&qualifier=1663454609&id=565449148708087&widgetName=sp_mtf>\n"
     ]
    },
    {
     "name": "stdout",
     "output_type": "stream",
     "text": [
      "Introduction to Statistics: An Intuitive Guide for Analyzing Data and Unlocking Discoveries\n",
      "Practical Time Series Analysis: Prediction with Statistics and Machine Learning\n",
      "Excel Pivot Tables: Basic Beginners Guide to Learn Excel Pivot Tables for Data Analysis and Modeling\n",
      "Data Mesh: Delivering Data-Driven Value at Scale\n",
      "The Data Guidebook for Teachers and Leaders: Tools for Continuous Improvement\n",
      "Hands-On Data Science with R: Techniques to perform data manipulation and mining to build smart analytical models using R\n",
      "Learning Geospatial Analysis with Python: Understand GIS fundamentals and perform remote sensing data analysis using Python 3.7, 3rd Edition\n",
      "Using Data to Focus Instructional Improvement\n",
      "Python for Programmers: with Big Data and Artificial Intelligence Case Studies\n",
      "The Esri Guide to GIS Analysis, Volume 3: Modeling Suitability, Movement, and Interaction (The ESRI Guide to GIS Analysis, 3)\n",
      "Categorical Data Analysis\n",
      "Functional Data Analysis (Springer Series in Statistics)\n",
      "71\n",
      "['\\n            \\n              75%\\n            \\n          '] 4.6 out of 5 stars 7 x 1.11 x 9.19 inches\n",
      "Data Literacy Fundamentals: Understanding the Power & Value of Data (The Data Literacy Series)\n",
      "PYTHON FOR DATA ANALYSIS: A PRACTICAL GUIDE YOU CAN’T MISS TO MASTER DATA USING PYTHON. KEY TOOLS FOR DATA SCIENCE, INTRODUCING YOU INTO DATA MANIPULATION, DATA VISUALIZATION, MACHINE LEARNING.\n",
      "Applying Quantitative Bias Analysis to Epidemiologic Data (Statistics for Biology and Health)\n",
      "Pandas 1.x Cookbook: Practical recipes for scientific computing, time series analysis, and exploratory data analysis using Python, 2nd Edition\n",
      "Business Analysis For Dummies\n",
      "SPSS Survival Manual: A Step by Step Guide to Data Analysis Using IBM SPSS\n",
      "MASTERING EXCEL DATA ANALYSIS: All-In-One Practical Approach to Creating and Analyzing Data, Charts And Pivot Tables + Secret Tips and Tricks on Data Analysis & Business Modelling\n",
      "72\n",
      "['\\n            \\n              75%\\n            \\n          '] 4.5 out of 5 stars 6.14 x 0.91 x 9.21 inches\n",
      "Inferential Network Analysis (Analytical Methods for Social Research)\n",
      "Categorical Data Analysis for the Behavioral and Social Sciences\n",
      "Hands-On Graph Analytics with Neo4j: Perform graph processing and visualization techniques using connected data across your enterprise\n",
      "73\n",
      "[] None 6 x 1 x 9 inches\n"
     ]
    },
    {
     "name": "stderr",
     "output_type": "stream",
     "text": [
      "2022-09-18 00:43:52 [scrapy.downloadermiddlewares.redirect] DEBUG: Redirecting (302) to <GET https://www.amazon.com/Advanced-Algorithms-Structures-Marcello-Rocca/dp/1617295485/ref=sr_1_100_sspa?keywords=data+analysis&qid=1663454623&sr=8-100-spons&psc=1&spLa=ZW5jcnlwdGVkUXVhbGlmaWVyPUEyM05IQU5UNVVIVUVSJmVuY3J5cHRlZElkPUEwMDA5ODg4MlJGUFhNTkU2QkIyRiZlbmNyeXB0ZWRBZElkPUEwMjkzNDY3MzkxMENVQlVWNjBENyZ3aWRnZXROYW1lPXNwX2F0Zl9uZXh0JmFjdGlvbj1jbGlja1JlZGlyZWN0JmRvTm90TG9nQ2xpY2s9dHJ1ZQ==> from <GET https://www.amazon.com/gp/slredirect/picassoRedirect.html/ref=pa_sp_atf_next_aps_sr_pg3_1?ie=UTF8&adId=A02934673910CUBUV60D7&url=%2FAdvanced-Algorithms-Structures-Marcello-Rocca%2Fdp%2F1617295485%2Fref%3Dsr_1_100_sspa%3Fkeywords%3Ddata%2Banalysis%26qid%3D1663454623%26sr%3D8-100-spons%26psc%3D1&qualifier=1663454623&id=4535904647139976&widgetName=sp_atf_next>\n",
      "2022-09-18 00:43:52 [scrapy.downloadermiddlewares.redirect] DEBUG: Redirecting (302) to <GET https://www.amazon.com/Pandas-1-x-Cookbook-scientific-exploratory/dp/1839213108/ref=sr_1_99_sspa?keywords=data+analysis&qid=1663454623&sr=8-99-spons&psc=1&spLa=ZW5jcnlwdGVkUXVhbGlmaWVyPUEyM05IQU5UNVVIVUVSJmVuY3J5cHRlZElkPUEwMDA5ODg4MlJGUFhNTkU2QkIyRiZlbmNyeXB0ZWRBZElkPUEwNjczNDI3MVFZSTA0M0xWSzZKWiZ3aWRnZXROYW1lPXNwX2F0Zl9uZXh0JmFjdGlvbj1jbGlja1JlZGlyZWN0JmRvTm90TG9nQ2xpY2s9dHJ1ZQ==> from <GET https://www.amazon.com/gp/slredirect/picassoRedirect.html/ref=pa_sp_atf_next_aps_sr_pg3_1?ie=UTF8&adId=A06734271QYI043LVK6JZ&url=%2FPandas-1-x-Cookbook-scientific-exploratory%2Fdp%2F1839213108%2Fref%3Dsr_1_99_sspa%3Fkeywords%3Ddata%2Banalysis%26qid%3D1663454623%26sr%3D8-99-spons%26psc%3D1&qualifier=1663454623&id=4535904647139976&widgetName=sp_atf_next>\n",
      "2022-09-18 00:43:52 [scrapy.downloadermiddlewares.redirect] DEBUG: Redirecting (302) to <GET https://www.amazon.com/Excel-Tricks-Quick-Study-Computer/dp/1423205421/ref=sr_1_98_sspa?keywords=data+analysis&qid=1663454623&sr=8-98-spons&psc=1&spLa=ZW5jcnlwdGVkUXVhbGlmaWVyPUEyM05IQU5UNVVIVUVSJmVuY3J5cHRlZElkPUEwMDA5ODg4MlJGUFhNTkU2QkIyRiZlbmNyeXB0ZWRBZElkPUExMDI1MDQwWUJIWEpSV1ZGRFJGJndpZGdldE5hbWU9c3BfYXRmX25leHQmYWN0aW9uPWNsaWNrUmVkaXJlY3QmZG9Ob3RMb2dDbGljaz10cnVl> from <GET https://www.amazon.com/gp/slredirect/picassoRedirect.html/ref=pa_sp_atf_next_aps_sr_pg3_1?ie=UTF8&adId=A1025040YBHXJRWVFDRF&url=%2FExcel-Tricks-Quick-Study-Computer%2Fdp%2F1423205421%2Fref%3Dsr_1_98_sspa%3Fkeywords%3Ddata%2Banalysis%26qid%3D1663454623%26sr%3D8-98-spons%26psc%3D1&qualifier=1663454623&id=4535904647139976&widgetName=sp_atf_next>\n"
     ]
    },
    {
     "name": "stdout",
     "output_type": "stream",
     "text": [
      "74\n",
      "['\\n            \\n              55%\\n            \\n          '] 4.2 out of 5 stars 6 x 0.97 x 9 inches\n",
      "Data Engineering with AWS: Learn how to design and build cloud-based data transformation pipelines using AWS\n",
      "Data Science for Marketing Analytics: A practical guide to forming a killer marketing strategy through data analysis with Python, 2nd Edition\n",
      "Time Series Analysis with Python Cookbook: Practical recipes for exploratory data analysis, data preparation, forecasting, and model evaluation\n",
      "Think Bayes: Bayesian Statistics in Python (O'reilly)\n",
      "Experimental Design and Practical Data Analysis in POSITRON EMISSION TOMOGRAPHY\n",
      "Video Data Analysis: How to Use 21st Century Video in the Social Sciences\n",
      "Undergraduate Lectures on Measurements and Data Analysis (2nd Printing)\n",
      "Data Structures and Algorithm Analysis in C++, Third Edition (Dover Books on Computer Science)\n",
      "The Dropout Multi-Millionaire: 37 Business Lessons on How to Succeed in Business With No Money, No Education and No Clue\n",
      "An Introduction to Analysis of Financial Data with R\n",
      "Social Statistics: Managing Data, Conducting Analyses, Presenting Results (Sociology Re-Wired)\n",
      "Excel Formulas (Quick Study Computer)\n",
      "Intro to Python for Computer Science and Data Science: Learning to Program with AI, Big Data and The Cloud\n",
      "Python for Finance Cookbook: Over 60 powerful recipes for effective financial data analysis, 2nd Edition\n",
      "The Art of Statistics: How to Learn from Data\n",
      "Advanced Statistics in Research: Reading, Understanding, and Writing Up Data Analysis Results\n",
      "Analysis of Panel Data (Econometric Society Monographs)\n",
      "Learning R: A Step-by-Step Function Guide to Data Analysis\n",
      "Python for Data Analysis: Data Wrangling with Pandas, NumPy, and IPython\n",
      "Qualitative and Mixed Methods Data Analysis Using Dedoose: A Practical Approach for Research Across the Social Sciences\n",
      "Doing Bayesian Data Analysis: A Tutorial with R, JAGS, and Stan\n",
      "Multivariate Data Analysis, 8th edition\n",
      "Data Analysis with SPSS: A First Course in Applied Statistics\n",
      "Adventures in Social Research: Data Analysis Using IBM SPSS Statistics\n",
      "Data Analysis: A Model Comparison Approach to Regression, ANOVA, and Beyond\n",
      "Recovering Black Storytelling in Qualitative Research (Futures of Data Analysis in Qualitative Research)\n",
      "Statistics 101: From Data Analysis and Predictive Modeling to Measuring Distribution and Determining Probability, Your Essential Guide to Statistics (Adams 101)\n"
     ]
    },
    {
     "name": "stderr",
     "output_type": "stream",
     "text": [
      "2022-09-18 00:43:52 [scrapy.downloadermiddlewares.redirect] DEBUG: Redirecting (302) to <GET https://www.amazon.com/Action-Data-Analysis-Graphics/dp/1617291382/ref=sr_1_97_sspa?keywords=data+analysis&qid=1663454623&sr=8-97-spons&psc=1&spLa=ZW5jcnlwdGVkUXVhbGlmaWVyPUEyM05IQU5UNVVIVUVSJmVuY3J5cHRlZElkPUEwMDA5ODg4MlJGUFhNTkU2QkIyRiZlbmNyeXB0ZWRBZElkPUEwMDUxMzQ1MkFJTjZCN1ZDMFFGRiZ3aWRnZXROYW1lPXNwX2F0Zl9uZXh0JmFjdGlvbj1jbGlja1JlZGlyZWN0JmRvTm90TG9nQ2xpY2s9dHJ1ZQ==> from <GET https://www.amazon.com/gp/slredirect/picassoRedirect.html/ref=pa_sp_atf_next_aps_sr_pg3_1?ie=UTF8&adId=A00513452AIN6B7VC0QFF&url=%2FAction-Data-Analysis-Graphics%2Fdp%2F1617291382%2Fref%3Dsr_1_97_sspa%3Fkeywords%3Ddata%2Banalysis%26qid%3D1663454623%26sr%3D8-97-spons%26psc%3D1&qualifier=1663454623&id=4535904647139976&widgetName=sp_atf_next>\n",
      "2022-09-18 00:43:53 [scrapy.core.engine] DEBUG: Crawled (200) <GET https://www.amazon.com/Hypothesis-Testing-Intuitive-Making-Decisions/dp/173543115X/ref=sr_1_83_sspa?keywords=data+analysis&qid=1663454609&sr=8-83-spons&psc=1&spLa=ZW5jcnlwdGVkUXVhbGlmaWVyPUFZTElVTlEzODFDRzUmZW5jcnlwdGVkSWQ9QTAxMTE5ODQyR0JUM0lXTTkwQjZUJmVuY3J5cHRlZEFkSWQ9QTAyMTExODEzTUI2U0hUOEk4VVRHJndpZGdldE5hbWU9c3BfbXRmJmFjdGlvbj1jbGlja1JlZGlyZWN0JmRvTm90TG9nQ2xpY2s9dHJ1ZQ==> (referer: https://www.amazon.com/s?k=data+analysis&page=2&qid=1663453432&ref=sr_pg_2)\n",
      "2022-09-18 00:43:53 [scrapy.core.engine] DEBUG: Crawled (200) <GET https://www.amazon.com/Intelligent-Reliability-Analysis-Using-MATLAB/dp/939068465X/ref=sr_1_84_sspa?keywords=data+analysis&qid=1663454609&sr=8-84-spons&psc=1&spLa=ZW5jcnlwdGVkUXVhbGlmaWVyPUFZTElVTlEzODFDRzUmZW5jcnlwdGVkSWQ9QTAxMTE5ODQyR0JUM0lXTTkwQjZUJmVuY3J5cHRlZEFkSWQ9QTA0NTM1OTMzUTVFOFVIT0lYSzhaJndpZGdldE5hbWU9c3BfbXRmJmFjdGlvbj1jbGlja1JlZGlyZWN0JmRvTm90TG9nQ2xpY2s9dHJ1ZQ==> (referer: https://www.amazon.com/s?k=data+analysis&page=2&qid=1663453432&ref=sr_pg_2)\n",
      "2022-09-18 00:43:53 [scrapy.core.engine] DEBUG: Crawled (200) <GET https://www.amazon.com/Data-Analytics-Advanced-Realms-Effectively/dp/B08RYK6549/ref=sr_1_81_sspa?keywords=data+analysis&qid=1663454609&sr=8-81-spons&psc=1&spLa=ZW5jcnlwdGVkUXVhbGlmaWVyPUFZTElVTlEzODFDRzUmZW5jcnlwdGVkSWQ9QTAxMTE5ODQyR0JUM0lXTTkwQjZUJmVuY3J5cHRlZEFkSWQ9QTAwNDQ2NzVTVzNWNkwyNE9BUDMmd2lkZ2V0TmFtZT1zcF9tdGYmYWN0aW9uPWNsaWNrUmVkaXJlY3QmZG9Ob3RMb2dDbGljaz10cnVl> (referer: https://www.amazon.com/s?k=data+analysis&page=2&qid=1663453432&ref=sr_pg_2)\n",
      "2022-09-18 00:43:53 [scrapy.core.engine] DEBUG: Crawled (200) <GET https://www.amazon.com/Foundations-Crime-Analysis-Analyses-Mapping/dp/1138860492/ref=sr_1_101?keywords=data+analysis&qid=1663454623&sr=8-101> (referer: https://www.amazon.com/s?k=data+analysis&page=3&qid=1663453432&ref=sr_pg_3)\n"
     ]
    },
    {
     "name": "stdout",
     "output_type": "stream",
     "text": [
      "75\n",
      "['\\n            \\n              78%\\n            \\n          '] 4.6 out of 5 stars 6 x 0.86 x 9 inches\n",
      "76\n",
      "[] None 6 x 0.45 x 9 inches\n",
      "77\n",
      "[] None 6 x 0.47 x 9 inches\n",
      "78\n",
      "['\\n            \\n              57%\\n            \\n          '] 4.1 out of 5 stars 6.85 x 0.66 x 9.69 inches\n"
     ]
    },
    {
     "name": "stderr",
     "output_type": "stream",
     "text": [
      "2022-09-18 00:43:54 [scrapy.core.engine] DEBUG: Crawled (200) <GET https://www.amazon.com/SQL-Intermediate-Programming-Practical-Exercises/dp/B0B5MM3RMK/ref=sr_1_76?keywords=data+analysis&qid=1663454609&sr=8-76> (referer: https://www.amazon.com/s?k=data+analysis&page=2&qid=1663453432&ref=sr_pg_2)\n",
      "2022-09-18 00:43:54 [scrapy.core.engine] DEBUG: Crawled (200) <GET https://www.amazon.com/Qualitative-Data-Analysis-with-NVivo/dp/1526449943/ref=sr_1_77?keywords=data+analysis&qid=1663454609&sr=8-77> (referer: https://www.amazon.com/s?k=data+analysis&page=2&qid=1663453432&ref=sr_pg_2)\n",
      "2022-09-18 00:43:54 [scrapy.core.engine] DEBUG: Crawled (200) <GET https://www.amazon.com/Python-Data-Analysis-Ipython-Science/dp/B08689LKX6/ref=sr_1_75?keywords=data+analysis&qid=1663454609&sr=8-75> (referer: https://www.amazon.com/s?k=data+analysis&page=2&qid=1663453432&ref=sr_pg_2)\n",
      "2022-09-18 00:43:54 [scrapy.core.engine] DEBUG: Crawled (200) <GET https://www.amazon.com/Data-Engineering-Alteryx-engineers-practices/dp/1803236485/ref=sr_1_82_sspa?keywords=data+analysis&qid=1663454609&sr=8-82-spons&psc=1&spLa=ZW5jcnlwdGVkUXVhbGlmaWVyPUFZTElVTlEzODFDRzUmZW5jcnlwdGVkSWQ9QTAxMTE5ODQyR0JUM0lXTTkwQjZUJmVuY3J5cHRlZEFkSWQ9QTAwOTYwODFQWFRIWkJISVdDOVAmd2lkZ2V0TmFtZT1zcF9tdGYmYWN0aW9uPWNsaWNrUmVkaXJlY3QmZG9Ob3RMb2dDbGljaz10cnVl> (referer: https://www.amazon.com/s?k=data+analysis&page=2&qid=1663453432&ref=sr_pg_2)\n"
     ]
    },
    {
     "name": "stdout",
     "output_type": "stream",
     "text": [
      "79\n",
      "['\\n            \\n              93%\\n            \\n          '] 4.9 out of 5 stars 7 x 0.78 x 10 inches\n"
     ]
    },
    {
     "name": "stderr",
     "output_type": "stream",
     "text": [
      "2022-09-18 00:43:55 [scrapy.core.engine] DEBUG: Crawled (200) <GET https://www.amazon.com/MASTERING-EXCEL-DATA-ANALYSIS-All-ebook/dp/B09VL7BTS6/ref=sr_1_126?keywords=data+analysis&qid=1663454623&sr=8-126> (referer: https://www.amazon.com/s?k=data+analysis&page=3&qid=1663453432&ref=sr_pg_3)\n"
     ]
    },
    {
     "name": "stdout",
     "output_type": "stream",
     "text": [
      "80\n",
      "['\\n            \\n              77%\\n            \\n          '] 4.6 out of 5 stars 6.69 x 0.78 x 9.61 inches\n",
      "81\n",
      "['\\n            \\n              60%\\n            \\n          '] 4.1 out of 5 stars None\n",
      "82\n",
      "['\\n            \\n              83%\\n            \\n          '] 4.8 out of 5 stars 7.5 x 0.83 x 9.25 inches\n"
     ]
    },
    {
     "name": "stderr",
     "output_type": "stream",
     "text": [
      "2022-09-18 00:43:55 [scrapy.core.engine] DEBUG: Crawled (200) <GET https://www.amazon.com/Pandas-1-x-Cookbook-scientific-exploratory/dp/1839213108/ref=sr_1_123?keywords=data+analysis&qid=1663454623&sr=8-123> (referer: https://www.amazon.com/s?k=data+analysis&page=3&qid=1663453432&ref=sr_pg_3)\n",
      "2022-09-18 00:43:55 [scrapy.core.engine] DEBUG: Crawled (200) <GET https://www.amazon.com/SPSS-Survival-Manual-Guide-Analysis/dp/0335249493/ref=sr_1_125?keywords=data+analysis&qid=1663454623&sr=8-125> (referer: https://www.amazon.com/s?k=data+analysis&page=3&qid=1663453432&ref=sr_pg_3)\n"
     ]
    },
    {
     "name": "stdout",
     "output_type": "stream",
     "text": [
      "83\n",
      "[] None None\n"
     ]
    },
    {
     "name": "stderr",
     "output_type": "stream",
     "text": [
      "2022-09-18 00:43:56 [scrapy.core.engine] DEBUG: Crawled (200) <GET https://www.amazon.com/Business-Analysis-Dummies-Kupe-Kupersmith/dp/1118510585/ref=sr_1_124?keywords=data+analysis&qid=1663454623&sr=8-124> (referer: https://www.amazon.com/s?k=data+analysis&page=3&qid=1663453432&ref=sr_pg_3)\n"
     ]
    },
    {
     "name": "stdout",
     "output_type": "stream",
     "text": [
      "84\n",
      "['\\n            \\n              63%\\n            \\n          '] 4.3 out of 5 stars 7.5 x 1.41 x 9.25 inches\n",
      "85\n",
      "['\\n            \\n              80%\\n            \\n          '] 4.7 out of 5 stars 7.87 x 0.86 x 9.96 inches\n"
     ]
    },
    {
     "name": "stderr",
     "output_type": "stream",
     "text": [
      "2022-09-18 00:43:56 [scrapy.core.engine] DEBUG: Crawled (200) <GET https://www.amazon.com/Pandas-1-x-Cookbook-scientific-exploratory/dp/1839213108/ref=sr_1_99_sspa?keywords=data+analysis&qid=1663454623&sr=8-99-spons&psc=1&spLa=ZW5jcnlwdGVkUXVhbGlmaWVyPUEyM05IQU5UNVVIVUVSJmVuY3J5cHRlZElkPUEwMDA5ODg4MlJGUFhNTkU2QkIyRiZlbmNyeXB0ZWRBZElkPUEwNjczNDI3MVFZSTA0M0xWSzZKWiZ3aWRnZXROYW1lPXNwX2F0Zl9uZXh0JmFjdGlvbj1jbGlja1JlZGlyZWN0JmRvTm90TG9nQ2xpY2s9dHJ1ZQ==> (referer: https://www.amazon.com/s?k=data+analysis&page=3&qid=1663453432&ref=sr_pg_3)\n",
      "2022-09-18 00:43:56 [scrapy.core.engine] DEBUG: Crawled (200) <GET https://www.amazon.com/Excel-Tricks-Quick-Study-Computer/dp/1423205421/ref=sr_1_98_sspa?keywords=data+analysis&qid=1663454623&sr=8-98-spons&psc=1&spLa=ZW5jcnlwdGVkUXVhbGlmaWVyPUEyM05IQU5UNVVIVUVSJmVuY3J5cHRlZElkPUEwMDA5ODg4MlJGUFhNTkU2QkIyRiZlbmNyeXB0ZWRBZElkPUExMDI1MDQwWUJIWEpSV1ZGRFJGJndpZGdldE5hbWU9c3BfYXRmX25leHQmYWN0aW9uPWNsaWNrUmVkaXJlY3QmZG9Ob3RMb2dDbGljaz10cnVl> (referer: https://www.amazon.com/s?k=data+analysis&page=3&qid=1663453432&ref=sr_pg_3)\n"
     ]
    },
    {
     "name": "stdout",
     "output_type": "stream",
     "text": [
      "86\n",
      "['\\n            \\n              69%\\n            \\n          '] 4.4 out of 5 stars 7.3 x 0.9 x 9.2 inches\n",
      "87\n",
      "['\\n            \\n              63%\\n            \\n          '] 4.3 out of 5 stars 7.5 x 1.41 x 9.25 inches\n"
     ]
    },
    {
     "name": "stderr",
     "output_type": "stream",
     "text": [
      "2022-09-18 00:43:57 [scrapy.core.engine] DEBUG: Crawled (200) <GET https://www.amazon.com/Advanced-Algorithms-Structures-Marcello-Rocca/dp/1617295485/ref=sr_1_100_sspa?keywords=data+analysis&qid=1663454623&sr=8-100-spons&psc=1&spLa=ZW5jcnlwdGVkUXVhbGlmaWVyPUEyM05IQU5UNVVIVUVSJmVuY3J5cHRlZElkPUEwMDA5ODg4MlJGUFhNTkU2QkIyRiZlbmNyeXB0ZWRBZElkPUEwMjkzNDY3MzkxMENVQlVWNjBENyZ3aWRnZXROYW1lPXNwX2F0Zl9uZXh0JmFjdGlvbj1jbGlja1JlZGlyZWN0JmRvTm90TG9nQ2xpY2s9dHJ1ZQ==> (referer: https://www.amazon.com/s?k=data+analysis&page=3&qid=1663453432&ref=sr_pg_3)\n"
     ]
    },
    {
     "name": "stdout",
     "output_type": "stream",
     "text": [
      "88\n",
      "['\\n            \\n              72%\\n            \\n          '] 4.5 out of 5 stars 8.5 x 11 x 0.06 inches\n"
     ]
    },
    {
     "name": "stderr",
     "output_type": "stream",
     "text": [
      "2022-09-18 00:43:57 [scrapy.core.engine] DEBUG: Crawled (200) <GET https://www.amazon.com/Statistics-101-Distribution-Determining-Probability/dp/1507208170/ref=sr_1_156?keywords=data+analysis&qid=1663454623&sr=8-156> (referer: https://www.amazon.com/s?k=data+analysis&page=3&qid=1663453432&ref=sr_pg_3)\n",
      "2022-09-18 00:43:57 [scrapy.core.engine] DEBUG: Crawled (200) <GET https://www.amazon.com/Action-Data-Analysis-Graphics/dp/1617291382/ref=sr_1_97_sspa?keywords=data+analysis&qid=1663454623&sr=8-97-spons&psc=1&spLa=ZW5jcnlwdGVkUXVhbGlmaWVyPUEyM05IQU5UNVVIVUVSJmVuY3J5cHRlZElkPUEwMDA5ODg4MlJGUFhNTkU2QkIyRiZlbmNyeXB0ZWRBZElkPUEwMDUxMzQ1MkFJTjZCN1ZDMFFGRiZ3aWRnZXROYW1lPXNwX2F0Zl9uZXh0JmFjdGlvbj1jbGlja1JlZGlyZWN0JmRvTm90TG9nQ2xpY2s9dHJ1ZQ==> (referer: https://www.amazon.com/s?k=data+analysis&page=3&qid=1663453432&ref=sr_pg_3)\n"
     ]
    },
    {
     "name": "stdout",
     "output_type": "stream",
     "text": [
      "89\n",
      "['\\n            \\n              62%\\n            \\n          '] 4.2 out of 5 stars 7.38 x 1.5 x 9.25 inches\n",
      "90\n",
      "['\\n            \\n              67%\\n            \\n          '] 4.4 out of 5 stars 5.25 x 0.8 x 7.13 inches\n"
     ]
    },
    {
     "name": "stderr",
     "output_type": "stream",
     "text": [
      "2022-09-18 00:44:00 [scrapy.core.engine] DEBUG: Crawled (200) <GET https://www.amazon.com/Recovering-Storytelling-Qualitative-Research-Analysis/dp/0367747332/ref=sr_1_155?keywords=data+analysis&qid=1663454623&sr=8-155> (referer: https://www.amazon.com/s?k=data+analysis&page=3&qid=1663453432&ref=sr_pg_3)\n",
      "2022-09-18 00:44:01 [scrapy.core.engine] DEBUG: Crawled (200) <GET https://www.amazon.com/Adventures-Social-Research-Analysis-Statistics/dp/150636277X/ref=sr_1_153?keywords=data+analysis&qid=1663454623&sr=8-153> (referer: https://www.amazon.com/s?k=data+analysis&page=3&qid=1663453432&ref=sr_pg_3)\n",
      "2022-09-18 00:44:01 [scrapy.core.engine] DEBUG: Crawled (200) <GET https://www.amazon.com/Data-Analysis-Comparison-Approach-Regression/dp/1138819832/ref=sr_1_154?keywords=data+analysis&qid=1663454623&sr=8-154> (referer: https://www.amazon.com/s?k=data+analysis&page=3&qid=1663453432&ref=sr_pg_3)\n"
     ]
    },
    {
     "name": "stdout",
     "output_type": "stream",
     "text": [
      "start_new_page\n"
     ]
    },
    {
     "name": "stderr",
     "output_type": "stream",
     "text": [
      "2022-09-18 00:44:01 [scrapy.core.engine] DEBUG: Crawled (200) <GET https://www.amazon.com/Data-Analysis-SPSS-Applied-Statistics/dp/0205019676/ref=sr_1_152?keywords=data+analysis&qid=1663454623&sr=8-152> (referer: https://www.amazon.com/s?k=data+analysis&page=3&qid=1663453432&ref=sr_pg_3)\n",
      "2022-09-18 00:44:01 [scrapy.core.engine] DEBUG: Crawled (200) <GET https://www.amazon.com/Multivariate-Analysis-Joseph-Anderson-William/dp/9353501350/ref=sr_1_151?keywords=data+analysis&qid=1663454623&sr=8-151> (referer: https://www.amazon.com/s?k=data+analysis&page=3&qid=1663453432&ref=sr_pg_3)\n",
      "2022-09-18 00:44:01 [scrapy.core.engine] DEBUG: Crawled (200) <GET https://www.amazon.com/Qualitative-Mixed-Methods-Analysis-Dedoose/dp/1506397816/ref=sr_1_149?keywords=data+analysis&qid=1663454623&sr=8-149> (referer: https://www.amazon.com/s?k=data+analysis&page=3&qid=1663453432&ref=sr_pg_3)\n",
      "2022-09-18 00:44:01 [scrapy.core.engine] DEBUG: Crawled (200) <GET https://www.amazon.com/Python-Data-Analysis-Wrangling-IPython/dp/1449319793/ref=sr_1_148?keywords=data+analysis&qid=1663454623&sr=8-148> (referer: https://www.amazon.com/s?k=data+analysis&page=3&qid=1663453432&ref=sr_pg_3)\n"
     ]
    },
    {
     "name": "stdout",
     "output_type": "stream",
     "text": [
      "91\n",
      "['\\n            \\n              77%\\n            \\n          '] 4.6 out of 5 stars 7.38 x 1.3 x 9.25 inches\n",
      "92\n",
      "['\\n            \\n              82%\\n            \\n          '] 4.5 out of 5 stars 6.14 x 0.53 x 9.21 inches\n"
     ]
    },
    {
     "name": "stderr",
     "output_type": "stream",
     "text": [
      "2022-09-18 00:44:01 [scrapy.core.engine] DEBUG: Crawled (200) <GET https://www.amazon.com/Doing-Bayesian-Data-Analysis-Tutorial/dp/0124058884/ref=sr_1_150?keywords=data+analysis&qid=1663454623&sr=8-150> (referer: https://www.amazon.com/s?k=data+analysis&page=3&qid=1663453432&ref=sr_pg_3)\n"
     ]
    },
    {
     "name": "stdout",
     "output_type": "stream",
     "text": [
      "93\n",
      "['\\n            \\n              73%\\n            \\n          '] 4.4 out of 5 stars 8.5 x 1.16 x 11 inches\n",
      "94\n",
      "['\\n            \\n              73%\\n            \\n          '] 4.4 out of 5 stars 7 x 0.86 x 10 inches\n",
      "95\n",
      "['\\n            \\n              61%\\n            \\n          '] 4.2 out of 5 stars 0.8 x 8.4 x 10.8 inches\n",
      "96\n",
      "['\\n            \\n              68%\\n            \\n          '] 4.4 out of 5 stars 7.99 x 10 x 1.85 inches\n",
      "97\n",
      "['\\n            \\n              62%\\n            \\n          '] 4.3 out of 5 stars 7.38 x 0.64 x 9.13 inches\n",
      "98\n",
      "['\\n            \\n              56%\\n            \\n          '] 4.2 out of 5 stars 7 x 0.9 x 9.19 inches\n"
     ]
    },
    {
     "name": "stderr",
     "output_type": "stream",
     "text": [
      "2022-09-18 00:44:03 [scrapy.core.engine] DEBUG: Crawled (200) <GET https://www.amazon.com/Learning-Step-Step-Function-Analysis/dp/1449357105/ref=sr_1_147?keywords=data+analysis&qid=1663454623&sr=8-147> (referer: https://www.amazon.com/s?k=data+analysis&page=3&qid=1663453432&ref=sr_pg_3)\n"
     ]
    },
    {
     "name": "stdout",
     "output_type": "stream",
     "text": [
      "99\n",
      "['\\n            \\n              79%\\n            \\n          '] 4.6 out of 5 stars 7.8 x 1.7 x 9.3 inches\n"
     ]
    },
    {
     "name": "stderr",
     "output_type": "stream",
     "text": [
      "2022-09-18 00:44:03 [scrapy.core.engine] DEBUG: Crawled (200) <GET https://www.amazon.com/Python-Finance-Cookbook-effective-financial-ebook/dp/B09XDTFV7Q/ref=sr_1_143?keywords=data+analysis&qid=1663454623&sr=8-143> (referer: https://www.amazon.com/s?k=data+analysis&page=3&qid=1663453432&ref=sr_pg_3)\n",
      "2022-09-18 00:44:03 [scrapy.core.engine] DEBUG: Crawled (200) <GET https://www.amazon.com/Analysis-Panel-Econometric-Society-Monographs/dp/1009060759/ref=sr_1_146?keywords=data+analysis&qid=1663454623&sr=8-146> (referer: https://www.amazon.com/s?k=data+analysis&page=3&qid=1663453432&ref=sr_pg_3)\n",
      "2022-09-18 00:44:03 [scrapy.core.engine] DEBUG: Crawled (200) <GET https://www.amazon.com/Advanced-Statistics-Research-Understanding-Analysis/dp/0985867000/ref=sr_1_145?keywords=data+analysis&qid=1663454623&sr=8-145> (referer: https://www.amazon.com/s?k=data+analysis&page=3&qid=1663453432&ref=sr_pg_3)\n",
      "2022-09-18 00:44:03 [scrapy.core.engine] DEBUG: Crawled (200) <GET https://www.amazon.com/Art-Statistics-How-Learn-Data/dp/1541675703/ref=sr_1_144?keywords=data+analysis&qid=1663454623&sr=8-144> (referer: https://www.amazon.com/s?k=data+analysis&page=3&qid=1663453432&ref=sr_pg_3)\n"
     ]
    },
    {
     "name": "stdout",
     "output_type": "stream",
     "text": [
      "100\n",
      "['\\n            \\n              66%\\n            \\n          '] 4.4 out of 5 stars 7 x 0.82 x 9.19 inches\n",
      "101\n",
      "[] None None\n",
      "102\n",
      "[] None 6.69 x 1.09 x 9.61 inches\n",
      "103\n",
      "['\\n            \\n              82%\\n            \\n          '] 4.7 out of 5 stars 7 x 1.46 x 10 inches\n"
     ]
    },
    {
     "name": "stderr",
     "output_type": "stream",
     "text": [
      "2022-09-18 00:44:04 [scrapy.core.engine] DEBUG: Crawled (200) <GET https://www.amazon.com/Intro-Python-Computer-Science-Data/dp/0135404673/ref=sr_1_142?keywords=data+analysis&qid=1663454623&sr=8-142> (referer: https://www.amazon.com/s?k=data+analysis&page=3&qid=1663453432&ref=sr_pg_3)\n",
      "2022-09-18 00:44:04 [scrapy.core.engine] DEBUG: Crawled (200) <GET https://www.amazon.com/Excel-Formulas-Quick-Study-Computer/dp/1423221699/ref=sr_1_141?keywords=data+analysis&qid=1663454623&sr=8-141> (referer: https://www.amazon.com/s?k=data+analysis&page=3&qid=1663453432&ref=sr_pg_3)\n",
      "2022-09-18 00:44:04 [scrapy.core.engine] DEBUG: Crawled (200) <GET https://www.amazon.com/s?k=data+analysis&page=4&qid=1663453432&ref=sr_pg_4> (referer: https://www.amazon.com/Statistics-101-Distribution-Determining-Probability/dp/1507208170/ref=sr_1_156?keywords=data+analysis&qid=1663454623&sr=8-156)\n",
      "2022-09-18 00:44:04 [scrapy.core.engine] DEBUG: Crawled (200) <GET https://www.amazon.com/Social-Statistics-Conducting-Presenting-Sociology/dp/1032115289/ref=sr_1_140?keywords=data+analysis&qid=1663454623&sr=8-140> (referer: https://www.amazon.com/s?k=data+analysis&page=3&qid=1663453432&ref=sr_pg_3)\n"
     ]
    },
    {
     "name": "stdout",
     "output_type": "stream",
     "text": [
      "104\n",
      "['\\n            \\n              73%\\n            \\n          '] 4.6 out of 5 stars 5.4 x 1.3 x 8.2 inches\n",
      "105\n",
      "['\\n            \\n              82%\\n            \\n          '] 4.7 out of 5 stars 7 x 1.45 x 9.1 inches\n",
      "106\n",
      "['\\n            \\n              74%\\n            \\n          '] 4.6 out of 5 stars 8.5 x 11 x 0.06 inches\n"
     ]
    },
    {
     "name": "stderr",
     "output_type": "stream",
     "text": [
      "2022-09-18 00:44:05 [scrapy.core.engine] DEBUG: Crawled (200) <GET https://www.amazon.com/Dropout-Multi-Millionaire-Business-Lessons-Education-ebook/dp/B093Y3BFCF/ref=sr_1_138?keywords=data+analysis&qid=1663454623&sr=8-138> (referer: https://www.amazon.com/s?k=data+analysis&page=3&qid=1663453432&ref=sr_pg_3)\n",
      "2022-09-18 00:44:05 [scrapy.downloadermiddlewares.redirect] DEBUG: Redirecting (302) to <GET https://www.amazon.com/Time-Analysis-Python-Cookbook-exploratory/dp/1801075549/ref=sr_1_132_sspa?keywords=data+analysis&qid=1663454623&sr=8-132-spons&psc=1&spLa=ZW5jcnlwdGVkUXVhbGlmaWVyPUEyM05IQU5UNVVIVUVSJmVuY3J5cHRlZElkPUEwMDA5ODg4MlJGUFhNTkU2QkIyRiZlbmNyeXB0ZWRBZElkPUEwMzk1MjA1SDlITVZJNTZFVTJLJndpZGdldE5hbWU9c3BfbXRmJmFjdGlvbj1jbGlja1JlZGlyZWN0JmRvTm90TG9nQ2xpY2s9dHJ1ZQ==> from <GET https://www.amazon.com/gp/slredirect/picassoRedirect.html/ref=pa_sp_mtf_aps_sr_pg3_1?ie=UTF8&adId=A0395205H9HMVI56EU2K&url=%2FTime-Analysis-Python-Cookbook-exploratory%2Fdp%2F1801075549%2Fref%3Dsr_1_132_sspa%3Fkeywords%3Ddata%2Banalysis%26qid%3D1663454623%26sr%3D8-132-spons%26psc%3D1&qualifier=1663454623&id=4535904647139976&widgetName=sp_mtf>\n"
     ]
    },
    {
     "name": "stdout",
     "output_type": "stream",
     "text": [
      "4\n",
      "Learn T-SQL Querying: A guide to developing efficient and elegant T-SQL code\n"
     ]
    },
    {
     "name": "stderr",
     "output_type": "stream",
     "text": [
      "2022-09-18 00:44:05 [scrapy.core.engine] DEBUG: Crawled (200) <GET https://www.amazon.com/Introduction-Analysis-Financial-Data/dp/0470890819/ref=sr_1_139?keywords=data+analysis&qid=1663454623&sr=8-139> (referer: https://www.amazon.com/s?k=data+analysis&page=3&qid=1663453432&ref=sr_pg_3)\n",
      "2022-09-18 00:44:05 [scrapy.core.engine] DEBUG: Crawled (200) <GET https://www.amazon.com/Undergraduate-Lectures-Measurements-Analysis-Printing/dp/B0B2J24TQ6/ref=sr_1_136?keywords=data+analysis&qid=1663454623&sr=8-136> (referer: https://www.amazon.com/s?k=data+analysis&page=3&qid=1663453432&ref=sr_pg_3)\n"
     ]
    },
    {
     "name": "stdout",
     "output_type": "stream",
     "text": [
      "107\n",
      "['\\n            \\n              100%\\n            \\n          '] 5.0 out of 5 stars 7.75 x 1.25 x 9.5 inches\n",
      "Python Data Cleaning Cookbook: Modern techniques and Python tools to detect and remove dirty data and extract key insights\n",
      "VBA Automation for Excel 2019 Cookbook: Solutions to automate routine tasks and increase productivity with Excel and other MS Office applications\n",
      "The Only Bitcoin Investing Book You’ll Ever Need: An Absolute Beginner’s Guide to the Cryptocurrency Which Is Changing the World and Your Finances in 2021 & Beyond\n",
      "An Introduction to Statistical Genetic Data Analysis\n",
      "Excel 2022: Your Step-By-Step Beginners Guide To Master Excel By Discovering The Best Formulas And Functions, Pivot Tables, Business Modeling, Data Analysis and Macros\n",
      "Data Analysis: An Introduction (Quantitative Applications in the Social Sciences)\n"
     ]
    },
    {
     "name": "stderr",
     "output_type": "stream",
     "text": [
      "2022-09-18 00:44:05 [scrapy.downloadermiddlewares.redirect] DEBUG: Redirecting (302) to <GET https://www.amazon.com/Data-Science-Marketing-Analytics-practical/dp/1800560478/ref=sr_1_131_sspa?keywords=data+analysis&qid=1663454623&sr=8-131-spons&psc=1&spLa=ZW5jcnlwdGVkUXVhbGlmaWVyPUEyM05IQU5UNVVIVUVSJmVuY3J5cHRlZElkPUEwMDA5ODg4MlJGUFhNTkU2QkIyRiZlbmNyeXB0ZWRBZElkPUEwMzIyNjI1M05DMEhOUUNYVERNJndpZGdldE5hbWU9c3BfbXRmJmFjdGlvbj1jbGlja1JlZGlyZWN0JmRvTm90TG9nQ2xpY2s9dHJ1ZQ==> from <GET https://www.amazon.com/gp/slredirect/picassoRedirect.html/ref=pa_sp_mtf_aps_sr_pg3_1?ie=UTF8&adId=A03226253NC0HNQCXTDM&url=%2FData-Science-Marketing-Analytics-practical%2Fdp%2F1800560478%2Fref%3Dsr_1_131_sspa%3Fkeywords%3Ddata%2Banalysis%26qid%3D1663454623%26sr%3D8-131-spons%26psc%3D1&qualifier=1663454623&id=4535904647139976&widgetName=sp_mtf>\n",
      "2022-09-18 00:44:05 [scrapy.downloadermiddlewares.redirect] DEBUG: Redirecting (302) to <GET https://www.amazon.com/Hands-Graph-Analytics-Neo4j-visualization/dp/1839212616/ref=sr_1_129_sspa?keywords=data+analysis&qid=1663454623&sr=8-129-spons&psc=1&spLa=ZW5jcnlwdGVkUXVhbGlmaWVyPUEyM05IQU5UNVVIVUVSJmVuY3J5cHRlZElkPUEwMDA5ODg4MlJGUFhNTkU2QkIyRiZlbmNyeXB0ZWRBZElkPUEwOTg3NjE4M01FTk9JWVJCRzc2NCZ3aWRnZXROYW1lPXNwX210ZiZhY3Rpb249Y2xpY2tSZWRpcmVjdCZkb05vdExvZ0NsaWNrPXRydWU=> from <GET https://www.amazon.com/gp/slredirect/picassoRedirect.html/ref=pa_sp_mtf_aps_sr_pg3_1?ie=UTF8&adId=A09876183MENOIYRBG764&url=%2FHands-Graph-Analytics-Neo4j-visualization%2Fdp%2F1839212616%2Fref%3Dsr_1_129_sspa%3Fkeywords%3Ddata%2Banalysis%26qid%3D1663454623%26sr%3D8-129-spons%26psc%3D1&qualifier=1663454623&id=4535904647139976&widgetName=sp_mtf>\n",
      "2022-09-18 00:44:05 [scrapy.core.engine] DEBUG: Crawled (200) <GET https://www.amazon.com/Structures-Algorithm-Analysis-Computer-Science/dp/048648582X/ref=sr_1_137?keywords=data+analysis&qid=1663454623&sr=8-137> (referer: https://www.amazon.com/s?k=data+analysis&page=3&qid=1663453432&ref=sr_pg_3)\n"
     ]
    },
    {
     "name": "stdout",
     "output_type": "stream",
     "text": [
      "108\n",
      "['\\n            \\n              74%\\n            \\n          '] 4.6 out of 5 stars None\n",
      "CompTIA Data+ Study Guide: Exam DA0-001\n",
      "Bayesian Statistics the Fun Way: Understanding Statistics and Probability with Star Wars, LEGO, and Rubber Ducks\n",
      "Financial Theory with Python: A Gentle Introduction\n",
      "SQL for Data Analytics: Harness the power of SQL to extract insights from data, 3rd Edition\n",
      "Data Structures and Algorithm Analysis in Java\n",
      "The Data Revolution: A Critical Analysis of Big Data, Open Data and Data Infrastructures\n",
      "Machine Learning and Big Data Analytics Paradigms: Analysis, Applications and Challenges (Studies in Big Data, 77)\n",
      "The Applied SQL Data Analytics Workshop: Develop your practical skills and prepare to become a professional data analyst, 2nd Edition\n",
      "Data Mesh in Action\n",
      "109\n",
      "['\\n            \\n              51%\\n            \\n          '] 4.2 out of 5 stars 6.14 x 1.13 x 9.21 inches\n"
     ]
    },
    {
     "name": "stderr",
     "output_type": "stream",
     "text": [
      "2022-09-18 00:44:06 [scrapy.core.engine] DEBUG: Crawled (200) <GET https://www.amazon.com/Experimental-Practical-Analysis-POSITRON-TOMOGRAPHY/dp/1499295820/ref=sr_1_134?keywords=data+analysis&qid=1663454623&sr=8-134> (referer: https://www.amazon.com/s?k=data+analysis&page=3&qid=1663453432&ref=sr_pg_3)\n",
      "2022-09-18 00:44:06 [scrapy.core.engine] DEBUG: Crawled (200) <GET https://www.amazon.com/Think-Bayes-Bayesian-Statistics-Python/dp/149208946X/ref=sr_1_133?keywords=data+analysis&qid=1663454623&sr=8-133> (referer: https://www.amazon.com/s?k=data+analysis&page=3&qid=1663453432&ref=sr_pg_3)\n"
     ]
    },
    {
     "name": "stdout",
     "output_type": "stream",
     "text": [
      "110\n",
      "[] None 7.44 x 0.5 x 9.69 inches\n",
      "Essential PySpark for Scalable Data Analytics: A beginner's guide to harnessing the power and ease of PySpark 3\n",
      "Azure Synapse Analytics Cookbook: Implement a limitless analytical platform using effective recipes for Azure Synapse\n",
      "Data Analytics for Absolute Beginners: A Deconstructed Guide to Data Literacy: (Introduction to Data, Data Visualization, Business Intelligence & ... Science, Python & Statistics for Beginners)\n",
      "Software Architecture Patterns for Serverless Systems: Architecting for innovation with events, autonomous services, and micro frontends\n",
      "Python for Data Science For Dummies\n",
      "DATA ANALYTICS: A Comprehensive Beginner’s Guide To Learn About The Realms Of Data Analytics From A-Z\n",
      "The Handbook for Collaborative Common Assessments: Tools for Design, Delivery, and Data Analysis (Practical Measures for Improving Your Collaborative Common Assessment Process)\n",
      "Maximize Your Book Sales With Data Analysis: The Cure for Authorship Analysis Paralysis\n",
      "R in Action, Third Edition: Data analysis and graphics with R and Tidyverse\n",
      "Data Structures & Algorithm Analysis in C++\n",
      "The Esri Guide to GIS Analysis, Volume 2: Spatial Measurements and Statistics\n",
      "Problem Solving and Data Analysis: Sat Math Practice Test\n"
     ]
    },
    {
     "name": "stderr",
     "output_type": "stream",
     "text": [
      "2022-09-18 00:44:06 [scrapy.core.engine] DEBUG: Crawled (200) <GET https://www.amazon.com/Video-Data-Analysis-Century-Sciences-ebook/dp/B09F3GWJ1T/ref=sr_1_135?keywords=data+analysis&qid=1663454623&sr=8-135> (referer: https://www.amazon.com/s?k=data+analysis&page=3&qid=1663453432&ref=sr_pg_3)\n"
     ]
    },
    {
     "name": "stdout",
     "output_type": "stream",
     "text": [
      "111\n",
      "['\\n            \\n              64%\\n            \\n          '] 4.4 out of 5 stars 6.9 x 1.3 x 10 inches\n",
      "The Data Wrangling Workshop: Create your own actionable insights using data from multiple raw sources\n",
      "Think Stats: Exploratory Data Analysis\n",
      "Hands on Azure Data Studio: Microsoft's Open Platform for Data Engineering and Analytics\n",
      "Bayesian Analysis with Excel and R (Addison-Wesley Data & Analytics Series)\n",
      "The Tableau Workshop: A practical guide to the art of data visualization with Tableau\n",
      "The Data Vault Guru: a pragmatic guide on building a data vault\n",
      "Effective Pandas: Patterns for Data Manipulation (Treading on Python)\n",
      "Text Analytics with Python: A Practitioner's Guide to Natural Language Processing\n",
      "Start with Why: How Great Leaders Inspire Everyone to Take Action\n",
      "Be Data Driven: How Organizations Can Harness the Power of Data\n",
      "Hands-On Exploratory Data Analysis with Python: Perform EDA techniques to understand, summarize, and investigate your data\n",
      "112\n",
      "['\\n            \\n              74%\\n            \\n          '] 4.5 out of 5 stars 7.38 x 0.27 x 9.84 inches\n"
     ]
    },
    {
     "name": "stderr",
     "output_type": "stream",
     "text": [
      "2022-09-18 00:44:07 [scrapy.downloadermiddlewares.redirect] DEBUG: Redirecting (302) to <GET https://www.amazon.com/Learn-T-SQL-Querying-developing-efficient/dp/1789348811/ref=sr_1_145_sspa?keywords=data+analysis&qid=1663454642&sr=8-145-spons&psc=1&spLa=ZW5jcnlwdGVkUXVhbGlmaWVyPUEyVEVXRDQ2VFNQTUNYJmVuY3J5cHRlZElkPUEwOTMzNDY1VUpMUTFDRk5VQTVLJmVuY3J5cHRlZEFkSWQ9QTAxMzc4NTExV1NKNEhNWlNIUjVMJndpZGdldE5hbWU9c3BfYXRmX25leHQmYWN0aW9uPWNsaWNrUmVkaXJlY3QmZG9Ob3RMb2dDbGljaz10cnVl> from <GET https://www.amazon.com/gp/slredirect/picassoRedirect.html/ref=pa_sp_atf_next_aps_sr_pg4_1?ie=UTF8&adId=A01378511WSJ4HMZSHR5L&url=%2FLearn-T-SQL-Querying-developing-efficient%2Fdp%2F1789348811%2Fref%3Dsr_1_145_sspa%3Fkeywords%3Ddata%2Banalysis%26qid%3D1663454642%26sr%3D8-145-spons%26psc%3D1&qualifier=1663454642&id=7777943298696266&widgetName=sp_atf_next>\n",
      "2022-09-18 00:44:07 [scrapy.downloadermiddlewares.redirect] DEBUG: Redirecting (302) to <GET https://www.amazon.com/Data-Engineering-AWS-Gareth-Eagar/dp/1800560419/ref=sr_1_130_sspa?keywords=data+analysis&qid=1663454623&sr=8-130-spons&psc=1&spLa=ZW5jcnlwdGVkUXVhbGlmaWVyPUEyM05IQU5UNVVIVUVSJmVuY3J5cHRlZElkPUEwMDA5ODg4MlJGUFhNTkU2QkIyRiZlbmNyeXB0ZWRBZElkPUEwMTIyNjczMk5WVk1NUUYyUUFWWSZ3aWRnZXROYW1lPXNwX210ZiZhY3Rpb249Y2xpY2tSZWRpcmVjdCZkb05vdExvZ0NsaWNrPXRydWU=> from <GET https://www.amazon.com/gp/slredirect/picassoRedirect.html/ref=pa_sp_mtf_aps_sr_pg3_1?ie=UTF8&adId=A01226732NVVMMQF2QAVY&url=%2FData-Engineering-AWS-Gareth-Eagar%2Fdp%2F1800560419%2Fref%3Dsr_1_130_sspa%3Fkeywords%3Ddata%2Banalysis%26qid%3D1663454623%26sr%3D8-130-spons%26psc%3D1&qualifier=1663454623&id=4535904647139976&widgetName=sp_mtf>\n"
     ]
    },
    {
     "name": "stdout",
     "output_type": "stream",
     "text": [
      "113\n",
      "['\\n            \\n              79%\\n            \\n          '] 4.5 out of 5 stars 7 x 0.75 x 9 inches\n",
      "A Primer in Biological Data Analysis and Visualization Using R\n",
      "HBR Guide to Data Analytics Basics for Managers (HBR Guide Series)\n",
      "Behavioral Data Analysis with R and Python: Customer-Driven Data for Real Business Results\n",
      "A Step By Step Guide PLS-SEM Data Analysis Using SmartPLS 4 (Partial least squares structural equation modeling)\n",
      "Network Security Through Data Analysis: From Data to Action\n",
      "Tableau Prep Cookbook: Use Tableau Prep to clean, combine, and transform your data for analysis\n",
      "An Introduction to Statistics and Data Analysis Using Stata®: From Research Design to Final Report\n",
      "Statistical Analysis and Data Display: An Intermediate Course with Examples in R (Springer Texts in Statistics)\n",
      "Codeless Time Series Analysis with KNIME: A practical guide to implementing forecasting models for time series analysis applications\n",
      "Spatial Data Analysis: Models, Methods and Techniques (SpringerBriefs in Regional Science)\n",
      "The Good, the Bad, and the Data: Shane the Lone Ethnographer’s Basic Guide to Qualitative Data Analysis\n",
      "Unstructured Data Analysis: Entity Resolution and Regular Expressions in SAS\n",
      "Data Analysis with Mplus (Methodology in the Social Sciences)\n",
      "Fuzzy Transforms for Image Processing and Data Analysis: Core Concepts, Processes and Applications\n",
      "114\n",
      "['\\n            \\n              100%\\n            \\n          '] 5.0 out of 5 stars None\n",
      "Analytics Stories: Using Data to Make Good Things Happen\n",
      "An Introduction to Data Analysis: Quantitative, Qualitative and Mixed Methods\n",
      "Exploratory Data Analysis with R\n",
      "Qualitative Data Analysis: An Introduction\n",
      "Statistics and Data Analysis for Nursing Research\n",
      "Analysis of Categorical Data with R (Chapman & Hall/CRC Texts in Statistical Science)\n",
      "Introduction to Machine Learning with R: Rigorous Mathematical Analysis\n"
     ]
    },
    {
     "name": "stderr",
     "output_type": "stream",
     "text": [
      "2022-09-18 00:44:07 [scrapy.core.engine] DEBUG: Crawled (200) <GET https://www.amazon.com/Inferential-Network-Analysis-Analytical-Research/dp/1316610853/ref=sr_1_127?keywords=data+analysis&qid=1663454623&sr=8-127> (referer: https://www.amazon.com/s?k=data+analysis&page=3&qid=1663453432&ref=sr_pg_3)\n",
      "2022-09-18 00:44:07 [scrapy.core.engine] DEBUG: Crawled (200) <GET https://www.amazon.com/Applying-Quantitative-Bias-Analysis-to-Epidemiologic-Data-_Statistics-for-Biology-and-Health_/dp/3030826724/ref=sr_1_122?keywords=data+analysis&qid=1663454623&sr=8-122> (referer: https://www.amazon.com/s?k=data+analysis&page=3&qid=1663453432&ref=sr_pg_3)\n",
      "2022-09-18 00:44:07 [scrapy.core.engine] DEBUG: Crawled (200) <GET https://www.amazon.com/Categorical-Analysis-Behavioral-Social-Sciences/dp/0367352761/ref=sr_1_128?keywords=data+analysis&qid=1663454623&sr=8-128> (referer: https://www.amazon.com/s?k=data+analysis&page=3&qid=1663453432&ref=sr_pg_3)\n",
      "2022-09-18 00:44:07 [scrapy.core.engine] DEBUG: Crawled (200) <GET https://www.amazon.com/PYTHON-DATA-ANALYSIS-MANIPULATION-VISUALIZATION/dp/B08K3WF1PS/ref=sr_1_121?keywords=data+analysis&qid=1663454623&sr=8-121> (referer: https://www.amazon.com/s?k=data+analysis&page=3&qid=1663453432&ref=sr_pg_3)\n"
     ]
    },
    {
     "name": "stdout",
     "output_type": "stream",
     "text": [
      "115\n",
      "['\\n            \\n              69%\\n            \\n          '] 4.7 out of 5 stars 6 x 0.75 x 8.75 inches\n"
     ]
    },
    {
     "name": "stderr",
     "output_type": "stream",
     "text": [
      "2022-09-18 00:44:08 [scrapy.core.engine] DEBUG: Crawled (200) <GET https://www.amazon.com/Data-Literacy-Fundamentals-Understanding-Power/dp/173326342X/ref=sr_1_120?keywords=data+analysis&qid=1663454623&sr=8-120> (referer: https://www.amazon.com/s?k=data+analysis&page=3&qid=1663453432&ref=sr_pg_3)\n"
     ]
    },
    {
     "name": "stdout",
     "output_type": "stream",
     "text": [
      "116\n",
      "['\\n            \\n              100%\\n            \\n          '] 5.0 out of 5 stars 6.14 x 1.06 x 9.21 inches\n",
      "117\n",
      "[] None 7.01 x 0.74 x 10 inches\n"
     ]
    },
    {
     "name": "stderr",
     "output_type": "stream",
     "text": [
      "2022-09-18 00:44:08 [scrapy.core.engine] DEBUG: Crawled (200) <GET https://www.amazon.com/Time-Analysis-Python-Cookbook-exploratory/dp/1801075549/ref=sr_1_132_sspa?keywords=data+analysis&qid=1663454623&sr=8-132-spons&psc=1&spLa=ZW5jcnlwdGVkUXVhbGlmaWVyPUEyM05IQU5UNVVIVUVSJmVuY3J5cHRlZElkPUEwMDA5ODg4MlJGUFhNTkU2QkIyRiZlbmNyeXB0ZWRBZElkPUEwMzk1MjA1SDlITVZJNTZFVTJLJndpZGdldE5hbWU9c3BfbXRmJmFjdGlvbj1jbGlja1JlZGlyZWN0JmRvTm90TG9nQ2xpY2s9dHJ1ZQ==> (referer: https://www.amazon.com/s?k=data+analysis&page=3&qid=1663453432&ref=sr_pg_3)\n"
     ]
    },
    {
     "name": "stdout",
     "output_type": "stream",
     "text": [
      "118\n",
      "['\\n            \\n              81%\\n            \\n          '] 4.6 out of 5 stars 6 x 0.27 x 9 inches\n"
     ]
    },
    {
     "name": "stderr",
     "output_type": "stream",
     "text": [
      "2022-09-18 00:44:09 [scrapy.core.engine] DEBUG: Crawled (200) <GET https://www.amazon.com/Data-Analysis-Introduction-Quantitative-Applications/dp/0803957726/ref=sr_1_151?keywords=data+analysis&qid=1663454642&sr=8-151> (referer: https://www.amazon.com/s?k=data+analysis&page=4&qid=1663453432&ref=sr_pg_4)\n"
     ]
    },
    {
     "name": "stdout",
     "output_type": "stream",
     "text": [
      "119\n",
      "['\\n            \\n              62%\\n            \\n          '] 4.4 out of 5 stars 6 x 0.41 x 9 inches\n",
      "120\n",
      "['\\n            \\n              86%\\n            \\n          '] 4.9 out of 5 stars 7.5 x 1.42 x 9.25 inches\n",
      "121\n",
      "['\\n            \\n              48%\\n            \\n          '] 4.3 out of 5 stars 5.5 x 0.2 x 8.5 inches\n"
     ]
    },
    {
     "name": "stderr",
     "output_type": "stream",
     "text": [
      "2022-09-18 00:44:09 [scrapy.core.engine] DEBUG: Crawled (200) <GET https://www.amazon.com/Hands-Graph-Analytics-Neo4j-visualization/dp/1839212616/ref=sr_1_129_sspa?keywords=data+analysis&qid=1663454623&sr=8-129-spons&psc=1&spLa=ZW5jcnlwdGVkUXVhbGlmaWVyPUEyM05IQU5UNVVIVUVSJmVuY3J5cHRlZElkPUEwMDA5ODg4MlJGUFhNTkU2QkIyRiZlbmNyeXB0ZWRBZElkPUEwOTg3NjE4M01FTk9JWVJCRzc2NCZ3aWRnZXROYW1lPXNwX210ZiZhY3Rpb249Y2xpY2tSZWRpcmVjdCZkb05vdExvZ0NsaWNrPXRydWU=> (referer: https://www.amazon.com/s?k=data+analysis&page=3&qid=1663453432&ref=sr_pg_3)\n",
      "2022-09-18 00:44:09 [scrapy.core.engine] DEBUG: Crawled (200) <GET https://www.amazon.com/Data-Science-Marketing-Analytics-practical/dp/1800560478/ref=sr_1_131_sspa?keywords=data+analysis&qid=1663454623&sr=8-131-spons&psc=1&spLa=ZW5jcnlwdGVkUXVhbGlmaWVyPUEyM05IQU5UNVVIVUVSJmVuY3J5cHRlZElkPUEwMDA5ODg4MlJGUFhNTkU2QkIyRiZlbmNyeXB0ZWRBZElkPUEwMzIyNjI1M05DMEhOUUNYVERNJndpZGdldE5hbWU9c3BfbXRmJmFjdGlvbj1jbGlja1JlZGlyZWN0JmRvTm90TG9nQ2xpY2s9dHJ1ZQ==> (referer: https://www.amazon.com/s?k=data+analysis&page=3&qid=1663453432&ref=sr_pg_3)\n",
      "2022-09-18 00:44:09 [scrapy.core.engine] DEBUG: Crawled (200) <GET https://www.amazon.com/Data-Mesh-Action-Jacek-Majchrzak/dp/1633439976/ref=sr_1_160?keywords=data+analysis&qid=1663454642&sr=8-160> (referer: https://www.amazon.com/s?k=data+analysis&page=4&qid=1663453432&ref=sr_pg_4)\n"
     ]
    },
    {
     "name": "stdout",
     "output_type": "stream",
     "text": [
      "122\n",
      "['\\n            \\n              54%\\n            \\n          '] 4.2 out of 5 stars 7.5 x 1.15 x 9.25 inches\n",
      "123\n",
      "['\\n            \\n              61%\\n            \\n          '] 4.6 out of 5 stars 7.5 x 1.44 x 9.25 inches\n",
      "124\n",
      "[] None 7.38 x 0.75 x 9.25 inches\n"
     ]
    },
    {
     "name": "stderr",
     "output_type": "stream",
     "text": [
      "2022-09-18 00:44:10 [scrapy.core.engine] DEBUG: Crawled (200) <GET https://www.amazon.com/Python-Data-Science-Dummies-Computer/dp/1119547628/ref=sr_1_165?keywords=data+analysis&qid=1663454642&sr=8-165> (referer: https://www.amazon.com/s?k=data+analysis&page=4&qid=1663453432&ref=sr_pg_4)\n",
      "2022-09-18 00:44:10 [scrapy.core.engine] DEBUG: Crawled (200) <GET https://www.amazon.com/Problem-Solving-Data-Analysis-Practice/dp/171779369X/ref=sr_1_172?keywords=data+analysis&qid=1663454642&sr=8-172> (referer: https://www.amazon.com/s?k=data+analysis&page=4&qid=1663453432&ref=sr_pg_4)\n",
      "2022-09-18 00:44:10 [scrapy.core.engine] DEBUG: Crawled (200) <GET https://www.amazon.com/Financial-Theory-Python-Gentle-Introduction/dp/1098104358/ref=sr_1_154?keywords=data+analysis&qid=1663454642&sr=8-154> (referer: https://www.amazon.com/s?k=data+analysis&page=4&qid=1663453432&ref=sr_pg_4)\n"
     ]
    },
    {
     "name": "stdout",
     "output_type": "stream",
     "text": [
      "125\n",
      "['\\n            \\n              62%\\n            \\n          '] 4.4 out of 5 stars 7.4 x 1.2 x 9.2 inches\n"
     ]
    },
    {
     "name": "stderr",
     "output_type": "stream",
     "text": [
      "2022-09-18 00:44:10 [scrapy.core.engine] DEBUG: Crawled (200) <GET https://www.amazon.com/Think-Stats-Exploratory-Data-Analysis/dp/1491907339/ref=sr_1_174?keywords=data+analysis&qid=1663454642&sr=8-174> (referer: https://www.amazon.com/s?k=data+analysis&page=4&qid=1663453432&ref=sr_pg_4)\n",
      "2022-09-18 00:44:10 [scrapy.core.engine] DEBUG: Crawled (200) <GET https://www.amazon.com/Learn-T-SQL-Querying-developing-efficient/dp/1789348811/ref=sr_1_145_sspa?keywords=data+analysis&qid=1663454642&sr=8-145-spons&psc=1&spLa=ZW5jcnlwdGVkUXVhbGlmaWVyPUEyVEVXRDQ2VFNQTUNYJmVuY3J5cHRlZElkPUEwOTMzNDY1VUpMUTFDRk5VQTVLJmVuY3J5cHRlZEFkSWQ9QTAxMzc4NTExV1NKNEhNWlNIUjVMJndpZGdldE5hbWU9c3BfYXRmX25leHQmYWN0aW9uPWNsaWNrUmVkaXJlY3QmZG9Ob3RMb2dDbGljaz10cnVl> (referer: https://www.amazon.com/s?k=data+analysis&page=4&qid=1663453432&ref=sr_pg_4)\n"
     ]
    },
    {
     "name": "stdout",
     "output_type": "stream",
     "text": [
      "126\n",
      "['\\n            \\n              100%\\n            \\n          '] 5.0 out of 5 stars 8.5 x 0.6 x 11 inches\n"
     ]
    },
    {
     "name": "stderr",
     "output_type": "stream",
     "text": [
      "2022-09-18 00:44:11 [scrapy.core.engine] DEBUG: Crawled (200) <GET https://www.amazon.com/Data-Engineering-AWS-Gareth-Eagar/dp/1800560419/ref=sr_1_130_sspa?keywords=data+analysis&qid=1663454623&sr=8-130-spons&psc=1&spLa=ZW5jcnlwdGVkUXVhbGlmaWVyPUEyM05IQU5UNVVIVUVSJmVuY3J5cHRlZElkPUEwMDA5ODg4MlJGUFhNTkU2QkIyRiZlbmNyeXB0ZWRBZElkPUEwMTIyNjczMk5WVk1NUUYyUUFWWSZ3aWRnZXROYW1lPXNwX210ZiZhY3Rpb249Y2xpY2tSZWRpcmVjdCZkb05vdExvZ0NsaWNrPXRydWU=> (referer: https://www.amazon.com/s?k=data+analysis&page=3&qid=1663453432&ref=sr_pg_3)\n",
      "2022-09-18 00:44:11 [scrapy.core.engine] DEBUG: Crawled (200) <GET https://www.amazon.com/Introduction-Machine-Learning-Rigorous-Mathematical/dp/1491976446/ref=sr_1_204?keywords=data+analysis&qid=1663454642&sr=8-204> (referer: https://www.amazon.com/s?k=data+analysis&page=4&qid=1663453432&ref=sr_pg_4)\n"
     ]
    },
    {
     "name": "stdout",
     "output_type": "stream",
     "text": [
      "127\n",
      "['\\n            \\n              58%\\n            \\n          '] 4.3 out of 5 stars 6.75 x 0.5 x 8.75 inches\n",
      "128\n",
      "['\\n            \\n              64%\\n            \\n          '] 4.2 out of 5 stars 7 x 0.51 x 9.19 inches\n",
      "129\n",
      "['\\n            \\n              86%\\n            \\n          '] 4.7 out of 5 stars 7.5 x 1.09 x 9.25 inches\n"
     ]
    },
    {
     "name": "stderr",
     "output_type": "stream",
     "text": [
      "2022-09-18 00:44:11 [scrapy.core.engine] DEBUG: Crawled (200) <GET https://www.amazon.com/Analysis-Categorical-Chapman-Statistical-Science/dp/1439855676/ref=sr_1_203?keywords=data+analysis&qid=1663454642&sr=8-203> (referer: https://www.amazon.com/s?k=data+analysis&page=4&qid=1663453432&ref=sr_pg_4)\n"
     ]
    },
    {
     "name": "stdout",
     "output_type": "stream",
     "text": [
      "130\n",
      "['\\n            \\n              63%\\n            \\n          '] 4.4 out of 5 stars 7.5 x 1.09 x 9.25 inches\n",
      "131\n",
      "['\\n            \\n              59%\\n            \\n          '] 4.1 out of 5 stars 7 x 0.48 x 9.19 inches\n"
     ]
    },
    {
     "name": "stderr",
     "output_type": "stream",
     "text": [
      "2022-09-18 00:44:15 [scrapy.core.engine] DEBUG: Crawled (200) <GET https://www.amazon.com/Qualitative-Data-Analysis-Carol-Grbich/dp/1446202976/ref=sr_1_201?keywords=data+analysis&qid=1663454642&sr=8-201> (referer: https://www.amazon.com/s?k=data+analysis&page=4&qid=1663453432&ref=sr_pg_4)\n",
      "2022-09-18 00:44:15 [scrapy.core.engine] DEBUG: Crawled (200) <GET https://www.amazon.com/Exploratory-Data-Analysis-Roger-Peng/dp/1365060063/ref=sr_1_200?keywords=data+analysis&qid=1663454642&sr=8-200> (referer: https://www.amazon.com/s?k=data+analysis&page=4&qid=1663453432&ref=sr_pg_4)\n",
      "2022-09-18 00:44:15 [scrapy.core.engine] DEBUG: Crawled (200) <GET https://www.amazon.com/Statistics-Data-Analysis-Nursing-Research/dp/0135085071/ref=sr_1_202?keywords=data+analysis&qid=1663454642&sr=8-202> (referer: https://www.amazon.com/s?k=data+analysis&page=4&qid=1663453432&ref=sr_pg_4)\n"
     ]
    },
    {
     "name": "stdout",
     "output_type": "stream",
     "text": [
      "start_new_page\n"
     ]
    },
    {
     "name": "stderr",
     "output_type": "stream",
     "text": [
      "2022-09-18 00:44:15 [scrapy.core.engine] DEBUG: Crawled (200) <GET https://www.amazon.com/Introduction-Data-Analysis-Quantitative-Qualitative/dp/144629515X/ref=sr_1_199?keywords=data+analysis&qid=1663454642&sr=8-199> (referer: https://www.amazon.com/s?k=data+analysis&page=4&qid=1663453432&ref=sr_pg_4)\n",
      "2022-09-18 00:44:15 [scrapy.core.engine] DEBUG: Crawled (200) <GET https://www.amazon.com/Analytics-Stories-Using-Things-Happen/dp/1119646030/ref=sr_1_198?keywords=data+analysis&qid=1663454642&sr=8-198> (referer: https://www.amazon.com/s?k=data+analysis&page=4&qid=1663453432&ref=sr_pg_4)\n",
      "2022-09-18 00:44:15 [scrapy.core.engine] DEBUG: Crawled (200) <GET https://www.amazon.com/Fuzzy-Transforms-Image-Processing-Analysis/dp/3030446123/ref=sr_1_197?keywords=data+analysis&qid=1663454642&sr=8-197> (referer: https://www.amazon.com/s?k=data+analysis&page=4&qid=1663453432&ref=sr_pg_4)\n",
      "2022-09-18 00:44:15 [scrapy.core.engine] DEBUG: Crawled (200) <GET https://www.amazon.com/Analysis-Mplus-Methodology-Social-Sciences/dp/1462502458/ref=sr_1_196?keywords=data+analysis&qid=1663454642&sr=8-196> (referer: https://www.amazon.com/s?k=data+analysis&page=4&qid=1663453432&ref=sr_pg_4)\n"
     ]
    },
    {
     "name": "stdout",
     "output_type": "stream",
     "text": [
      "132\n",
      "['\\n            \\n              72%\\n            \\n          '] 4.6 out of 5 stars 7 x 1.43 x 10 inches\n",
      "133\n",
      "['\\n            \\n              72%\\n            \\n          '] 4.5 out of 5 stars 6.6 x 0.8 x 9.4 inches\n",
      "134\n",
      "['\\n            \\n              44%\\n            \\n          '] 4.3 out of 5 stars 8.5 x 0.47 x 11 inches\n",
      "135\n",
      "['\\n            \\n              67%\\n            \\n          '] 4.3 out of 5 stars 8 x 0.9 x 9.95 inches\n",
      "136\n",
      "['\\n            \\n              71%\\n            \\n          '] 4.6 out of 5 stars 6.69 x 0.67 x 9.53 inches\n",
      "137\n",
      "['\\n            \\n              83%\\n            \\n          '] 4.8 out of 5 stars 7.38 x 1.19 x 9.25 inches\n",
      "138\n",
      "[] None 6.14 x 0.56 x 9.21 inches\n"
     ]
    },
    {
     "name": "stderr",
     "output_type": "stream",
     "text": [
      "2022-09-18 00:44:17 [scrapy.extensions.logstats] INFO: Crawled 143 pages (at 143 pages/min), scraped 0 items (at 0 items/min)\n",
      "2022-09-18 00:44:17 [scrapy.core.engine] DEBUG: Crawled (200) <GET https://www.amazon.com/Unstructured-Data-Analysis-Resolution-Expressions/dp/1629598429/ref=sr_1_195?keywords=data+analysis&qid=1663454642&sr=8-195> (referer: https://www.amazon.com/s?k=data+analysis&page=4&qid=1663453432&ref=sr_pg_4)\n",
      "2022-09-18 00:44:17 [scrapy.core.engine] DEBUG: Crawled (200) <GET https://www.amazon.com/Spatial-Data-Analysis-Techniques-SpringerBriefs/dp/3642217192/ref=sr_1_193?keywords=data+analysis&qid=1663454642&sr=8-193> (referer: https://www.amazon.com/s?k=data+analysis&page=4&qid=1663453432&ref=sr_pg_4)\n"
     ]
    },
    {
     "name": "stdout",
     "output_type": "stream",
     "text": [
      "139\n",
      "['\\n            \\n              78%\\n            \\n          '] 4.8 out of 5 stars 6 x 0.75 x 9.25 inches\n"
     ]
    },
    {
     "name": "stderr",
     "output_type": "stream",
     "text": [
      "2022-09-18 00:44:17 [scrapy.core.engine] DEBUG: Crawled (200) <GET https://www.amazon.com/Good-Data-Sally-Campbell-Galman/dp/1598746324/ref=sr_1_194?keywords=data+analysis&qid=1663454642&sr=8-194> (referer: https://www.amazon.com/s?k=data+analysis&page=4&qid=1663453432&ref=sr_pg_4)\n",
      "2022-09-18 00:44:17 [scrapy.core.engine] DEBUG: Crawled (200) <GET https://www.amazon.com/Codeless-Time-Analysis-KNIME-implementing/dp/1803232064/ref=sr_1_192?keywords=data+analysis&qid=1663454642&sr=8-192> (referer: https://www.amazon.com/s?k=data+analysis&page=4&qid=1663453432&ref=sr_pg_4)\n",
      "2022-09-18 00:44:17 [scrapy.core.engine] DEBUG: Crawled (200) <GET https://www.amazon.com/s?k=data+analysis&page=5&qid=1663453432&ref=sr_pg_5> (referer: https://www.amazon.com/Introduction-Machine-Learning-Rigorous-Mathematical/dp/1491976446/ref=sr_1_204?keywords=data+analysis&qid=1663454642&sr=8-204)\n"
     ]
    },
    {
     "name": "stdout",
     "output_type": "stream",
     "text": [
      "140\n",
      "['\\n            \\n              50%\\n            \\n          '] 4.5 out of 5 stars 7.5 x 0.38 x 9.25 inches\n",
      "141\n",
      "['\\n            \\n              100%\\n            \\n          '] 5.0 out of 5 stars 6.1 x 0.21 x 9.25 inches\n",
      "142\n",
      "['\\n            \\n              88%\\n            \\n          '] 4.7 out of 5 stars 8.5 x 0.24 x 10.98 inches\n"
     ]
    },
    {
     "name": "stderr",
     "output_type": "stream",
     "text": [
      "2022-09-18 00:44:18 [scrapy.core.engine] DEBUG: Crawled (200) <GET https://www.amazon.com/Introduction-Statistics-Analysis-Using-Stata%C2%AE/dp/1506371833/ref=sr_1_190?keywords=data+analysis&qid=1663454642&sr=8-190> (referer: https://www.amazon.com/s?k=data+analysis&page=4&qid=1663453432&ref=sr_pg_4)\n",
      "2022-09-18 00:44:18 [scrapy.core.engine] DEBUG: Crawled (200) <GET https://www.amazon.com/Tableau-Prep-Cookbook-transform-analysis/dp/1800563760/ref=sr_1_189?keywords=data+analysis&qid=1663454642&sr=8-189> (referer: https://www.amazon.com/s?k=data+analysis&page=4&qid=1663453432&ref=sr_pg_4)\n"
     ]
    },
    {
     "name": "stdout",
     "output_type": "stream",
     "text": [
      "143\n",
      "['\\n            \\n              75%\\n            \\n          '] 4.7 out of 5 stars 7.5 x 0.89 x 9.25 inches\n",
      "5\n",
      "Practical Data Science with Python: Learn tools and techniques from hands-on examples to extract insights from data\n",
      "Regression Analysis: An Intuitive Guide for Using and Interpreting Linear Models\n",
      "Learn Microsoft PowerApps: Build customized business applications without writing any code\n",
      "Excel 2022: The #1 Guide To Master Microsoft Excel in Less Than 5 Minutes For Day | Discover All the Functions, Tools and Formulas Through Simple Step-by-Step Tutorials and Examples\n",
      "Exploratory Data Analysis with R\n",
      "Qualitative Data Analysis: An Introduction\n",
      "Statistics and Data Analysis for Nursing Research\n",
      "Introduction to Machine Learning with R: Rigorous Mathematical Analysis\n",
      "Geographical Data Science and Spatial Data Analysis: An Introduction in R (Spatial Analytics and GIS)\n",
      "Adjustment Computations: Spatial Data Analysis\n",
      "Easy Data Analysis: Classification or Regression Machine Learning Project: A flowchart for organising and carrying out your project with explanation\n",
      "Statistical Rethinking: A Bayesian Course with Examples in R and STAN (Chapman & Hall/CRC Texts in Statistical Science)\n",
      "Python: 3 books in 1- Your complete guide to python programming with Python for Beginners, Python Data Analysis and Python Machine Learning (Programming Languages for Beginners)\n",
      "Real World Health Care Data Analysis: Causal Methods and Implementation Using SAS®: Causal Methods and Implementation Using SAS®\n",
      "Statistical Methods for Survival Data Analysis (Wiley Series in Probability and Statistics)\n",
      "Introduction to Functional Data Analysis (Chapman & Hall/CRC Texts in Statistical Science)\n",
      "Artificial Intelligence with Power BI: Take your data analytics skills to the next level by leveraging the AI capabilities in Power BI\n",
      "Data Modeling for Azure Data Services: Implement professional data design and structures in Azure\n",
      "Foundational Python for Data Science (Addison-Wesley Data & Analytics Series)\n",
      "DATA ANALYTICS: Simple and Effective Tips and Tricks to Learn Data Analytics Effectively\n",
      "Pandas for Everyone: Python Data Analysis (Addison-Wesley Data & Analytics Series)\n",
      "Data Analysis with Microsoft Power BI\n",
      "Fundamentals of Data Visualization: A Primer on Making Informative and Compelling Figures\n",
      "Data Analysis in Sports Science\n",
      "Text Data Management and Analysis: A Practical Introduction to Information Retrieval and Text Mining (ACM Books)\n",
      "Applied Survey Data Analysis (Chapman & Hall/CRC Statistics in the Social and Behavioral Sciences)\n",
      "Mathematical Foundations for Data Analysis (Springer Series in the Data Sciences)\n",
      "Numerical Methods Using Java: For Data Science, Analysis, and Engineering\n",
      "Qualitative Data Analysis: A Methods Sourcebook\n",
      "Applied Longitudinal Analysis\n",
      "Epidemiology: Study Design and Data Analysis, Third Edition (Chapman & Hall/CRC Texts in Statistical Science)\n",
      "Easy Data Analysis: Qualitative Analysis Project : A flowchart for organising and carrying out your project with explanation\n",
      "In-Memory Analytics with Apache Arrow: Perform fast and efficient data analytics on both flat and hierarchical structured data\n",
      "Cloud Scale Analytics with Azure Data Services: Build modern data warehouses on Microsoft Azure\n",
      "Hands-On Data Structures and Algorithms with Kotlin: Level up your programming skills by understanding how Kotlin's data structure works\n",
      "Scalable Data Analytics with Azure Data Explorer: Modern ways to query, analyze, and perform real-time data analysis on large volumes of data\n",
      "Crime Analysis with Crime Mapping\n",
      "SPSS For Beginners in 45 Minutes: A 2021 Quick Reference Guide to Research Methods, Data Analysis and Interpretation of Statistical Data\n",
      "Data Analytics for Absolute Beginners: Make Decisions Using Every Variable: (Introduction to Data, Data Visualization, Business Intelligence & Machine ... Python & Statistics for Beginners Book 1)\n",
      "Time Series (Chapman & Hall/CRC Texts in Statistical Science)\n",
      "Python Programming Language\n",
      "The Pandas Workshop: A comprehensive guide to using Python for data analysis with real-world case studies\n",
      "Handbook of Graphs and Networks in People Analytics: With Examples in R and Python\n",
      "ggplot2: Elegant Graphics for Data Analysis (Use R)\n",
      "Survival Analysis: Techniques for Censored and Truncated Data (Statistics for Biology and Health)\n",
      "Python for Everybody: Exploring Data in Python 3\n",
      "Easy Data Analysis: Correlation: Understanding Relationships between Variables\n",
      "Python Coding 2022: Data Analysis: 5 Ways To Learn Python Programming Language - Data Analysis\n",
      "Disrupting Data Governance: A Call to Action\n",
      "Statistical Analysis with Missing Data (Wiley Series in Probability and Statistics)\n",
      "Hierarchical Modeling and Analysis for Spatial Data (Chapman & Hall/CRC Monographs on Statistics and Applied Probability)\n",
      "Adverse Impact Analysis: Understanding Data, Statistics, and Risk\n",
      "Data Analysis Using Regression and Multilevel/Hierarchical Models\n",
      "Introduction to Data Analytics for Accounting (International edition) Textbook only\n",
      "Spectrum | Data Analysis and Probability Workbook | Grades 6-8, Printable\n",
      "Essentials of Qualitative Meta-Analysis (Essentials of Qualitative Methods)\n",
      "Data Science from Scratch: First Principles with Python\n",
      "Microsoft Excel Data Analysis and Business Modeling (Business Skills)\n",
      "Student Solutions Manual for Ott/Longnecker's An Introduction to Statistical Methods and Data Analysis, 7th\n",
      "An Introduction to Categorical Data Analysis, 3rd Edition (Wiley Series in Probability and Statistics)\n"
     ]
    },
    {
     "name": "stderr",
     "output_type": "stream",
     "text": [
      "2022-09-18 00:44:18 [scrapy.core.engine] DEBUG: Crawled (200) <GET https://www.amazon.com/Statistical-Analysis-Data-Display-Intermediate-ebook/dp/B019WSG3B0/ref=sr_1_191?keywords=data+analysis&qid=1663454642&sr=8-191> (referer: https://www.amazon.com/s?k=data+analysis&page=4&qid=1663453432&ref=sr_pg_4)\n"
     ]
    },
    {
     "name": "stdout",
     "output_type": "stream",
     "text": [
      "144\n",
      "['\\n            \\n              74%\\n            \\n          '] 4.6 out of 5 stars 7.38 x 0.89 x 9.13 inches\n",
      "145\n",
      "['\\n            \\n              75%\\n            \\n          '] 4.7 out of 5 stars 7.5 x 0.65 x 9.25 inches\n"
     ]
    },
    {
     "name": "stderr",
     "output_type": "stream",
     "text": [
      "2022-09-18 00:44:19 [scrapy.core.engine] DEBUG: Crawled (200) <GET https://www.amazon.com/Analysis-SmartPLS-structural-equation-modeling/dp/B0B9R26B5C/ref=sr_1_187?keywords=data+analysis&qid=1663454642&sr=8-187> (referer: https://www.amazon.com/s?k=data+analysis&page=4&qid=1663453432&ref=sr_pg_4)\n",
      "2022-09-18 00:44:19 [scrapy.core.engine] DEBUG: Crawled (200) <GET https://www.amazon.com/Network-Security-Through-Data-Analysis/dp/1491962844/ref=sr_1_188?keywords=data+analysis&qid=1663454642&sr=8-188> (referer: https://www.amazon.com/s?k=data+analysis&page=4&qid=1663453432&ref=sr_pg_4)\n"
     ]
    },
    {
     "name": "stdout",
     "output_type": "stream",
     "text": [
      "146\n",
      "['\\n            \\n              91%\\n            \\n          '] 4.9 out of 5 stars None\n"
     ]
    },
    {
     "name": "stderr",
     "output_type": "stream",
     "text": [
      "2022-09-18 00:44:19 [scrapy.downloadermiddlewares.redirect] DEBUG: Redirecting (302) to <GET https://www.amazon.com/Effective-Pandas-Patterns-Manipulation-Treading/dp/B09MYXXSFM/ref=sr_1_179_sspa?keywords=data+analysis&qid=1663454642&sr=8-179-spons&psc=1&spLa=ZW5jcnlwdGVkUXVhbGlmaWVyPUEyVEVXRDQ2VFNQTUNYJmVuY3J5cHRlZElkPUEwOTMzNDY1VUpMUTFDRk5VQTVLJmVuY3J5cHRlZEFkSWQ9QTAyMjY5NTkxUlpHV1FTSlFEMTJaJndpZGdldE5hbWU9c3BfbXRmJmFjdGlvbj1jbGlja1JlZGlyZWN0JmRvTm90TG9nQ2xpY2s9dHJ1ZQ==> from <GET https://www.amazon.com/gp/slredirect/picassoRedirect.html/ref=pa_sp_mtf_aps_sr_pg4_1?ie=UTF8&adId=A02269591RZGWQSJQD12Z&url=%2FEffective-Pandas-Patterns-Manipulation-Treading%2Fdp%2FB09MYXXSFM%2Fref%3Dsr_1_179_sspa%3Fkeywords%3Ddata%2Banalysis%26qid%3D1663454642%26sr%3D8-179-spons%26psc%3D1&qualifier=1663454642&id=7777943298696266&widgetName=sp_mtf>\n",
      "2022-09-18 00:44:19 [scrapy.downloadermiddlewares.redirect] DEBUG: Redirecting (302) to <GET https://www.amazon.com/Text-Analytics-Python-Practitioners-Processing/dp/1484243536/ref=sr_1_180_sspa?keywords=data+analysis&qid=1663454642&sr=8-180-spons&psc=1&spLa=ZW5jcnlwdGVkUXVhbGlmaWVyPUEyVEVXRDQ2VFNQTUNYJmVuY3J5cHRlZElkPUEwOTMzNDY1VUpMUTFDRk5VQTVLJmVuY3J5cHRlZEFkSWQ9QTA5OTE0MzIxREdBS0NNVk9IUjlOJndpZGdldE5hbWU9c3BfbXRmJmFjdGlvbj1jbGlja1JlZGlyZWN0JmRvTm90TG9nQ2xpY2s9dHJ1ZQ==> from <GET https://www.amazon.com/gp/slredirect/picassoRedirect.html/ref=pa_sp_mtf_aps_sr_pg4_1?ie=UTF8&adId=A09914321DGAKCMVOHR9N&url=%2FText-Analytics-Python-Practitioners-Processing%2Fdp%2F1484243536%2Fref%3Dsr_1_180_sspa%3Fkeywords%3Ddata%2Banalysis%26qid%3D1663454642%26sr%3D8-180-spons%26psc%3D1&qualifier=1663454642&id=7777943298696266&widgetName=sp_mtf>\n"
     ]
    },
    {
     "name": "stdout",
     "output_type": "stream",
     "text": [
      "147\n",
      "[] None 6 x 0.75 x 9 inches\n"
     ]
    },
    {
     "name": "stderr",
     "output_type": "stream",
     "text": [
      "2022-09-18 00:44:19 [scrapy.core.engine] DEBUG: Crawled (200) <GET https://www.amazon.com/Primer-Biological-Analysis-Visualization-Using/dp/023120213X/ref=sr_1_184?keywords=data+analysis&qid=1663454642&sr=8-184> (referer: https://www.amazon.com/s?k=data+analysis&page=4&qid=1663453432&ref=sr_pg_4)\n",
      "2022-09-18 00:44:19 [scrapy.core.engine] DEBUG: Crawled (200) <GET https://www.amazon.com/Guide-Data-Analytics-Basics-Managers/dp/1633694283/ref=sr_1_185?keywords=data+analysis&qid=1663454642&sr=8-185> (referer: https://www.amazon.com/s?k=data+analysis&page=4&qid=1663453432&ref=sr_pg_4)\n",
      "2022-09-18 00:44:19 [scrapy.core.engine] DEBUG: Crawled (200) <GET https://www.amazon.com/Behavioral-Data-Analysis-Python-Customer-Driven/dp/1492061379/ref=sr_1_186?keywords=data+analysis&qid=1663454642&sr=8-186> (referer: https://www.amazon.com/s?k=data+analysis&page=4&qid=1663453432&ref=sr_pg_4)\n"
     ]
    },
    {
     "name": "stdout",
     "output_type": "stream",
     "text": [
      "148\n",
      "['\\n            \\n              72%\\n            \\n          '] 4.5 out of 5 stars 7.01 x 0.87 x 9.17 inches\n"
     ]
    },
    {
     "name": "stderr",
     "output_type": "stream",
     "text": [
      "2022-09-18 00:44:19 [scrapy.core.engine] DEBUG: Crawled (200) <GET https://www.amazon.com/Hands-Exploratory-Data-Analysis-Python-ebook/dp/B0862CNFLZ/ref=sr_1_183?keywords=data+analysis&qid=1663454642&sr=8-183> (referer: https://www.amazon.com/s?k=data+analysis&page=4&qid=1663453432&ref=sr_pg_4)\n",
      "2022-09-18 00:44:19 [scrapy.core.engine] DEBUG: Crawled (200) <GET https://www.amazon.com/Be-Data-Driven-Organizations-Harness/dp/139860612X/ref=sr_1_182?keywords=data+analysis&qid=1663454642&sr=8-182> (referer: https://www.amazon.com/s?k=data+analysis&page=4&qid=1663453432&ref=sr_pg_4)\n"
     ]
    },
    {
     "name": "stdout",
     "output_type": "stream",
     "text": [
      "149\n",
      "['\\n            \\n              59%\\n            \\n          '] 4.3 out of 5 stars 6.93 x 0.79 x 9.84 inches\n",
      "150\n",
      "['\\n            \\n              70%\\n            \\n          '] 4.5 out of 5 stars 5 x 0.75 x 9 inches\n",
      "151\n",
      "['\\n            \\n              68%\\n            \\n          '] 4.4 out of 5 stars 7 x 0.75 x 9.19 inches\n",
      "152\n",
      "['\\n            \\n              58%\\n            \\n          '] 3.8 out of 5 stars None\n"
     ]
    },
    {
     "name": "stderr",
     "output_type": "stream",
     "text": [
      "2022-09-18 00:44:20 [scrapy.downloadermiddlewares.redirect] DEBUG: Redirecting (302) to <GET https://www.amazon.com/Tableau-Workshop-practical-guide-visualization/dp/1800207654/ref=sr_1_177_sspa?keywords=data+analysis&qid=1663454642&sr=8-177-spons&psc=1&spLa=ZW5jcnlwdGVkUXVhbGlmaWVyPUEyVEVXRDQ2VFNQTUNYJmVuY3J5cHRlZElkPUEwOTMzNDY1VUpMUTFDRk5VQTVLJmVuY3J5cHRlZEFkSWQ9QTAyOTMzOTExNEo3Q0U2VFlRWjhBJndpZGdldE5hbWU9c3BfbXRmJmFjdGlvbj1jbGlja1JlZGlyZWN0JmRvTm90TG9nQ2xpY2s9dHJ1ZQ==> from <GET https://www.amazon.com/gp/slredirect/picassoRedirect.html/ref=pa_sp_mtf_aps_sr_pg4_1?ie=UTF8&adId=A029339114J7CE6TYQZ8A&url=%2FTableau-Workshop-practical-guide-visualization%2Fdp%2F1800207654%2Fref%3Dsr_1_177_sspa%3Fkeywords%3Ddata%2Banalysis%26qid%3D1663454642%26sr%3D8-177-spons%26psc%3D1&qualifier=1663454642&id=7777943298696266&widgetName=sp_mtf>\n",
      "2022-09-18 00:44:20 [scrapy.downloadermiddlewares.redirect] DEBUG: Redirecting (302) to <GET https://www.amazon.com/Data-Vault-Guru-pragmatic-building/dp/B08KJLJW9Q/ref=sr_1_178_sspa?keywords=data+analysis&qid=1663454642&sr=8-178-spons&psc=1&spLa=ZW5jcnlwdGVkUXVhbGlmaWVyPUEyVEVXRDQ2VFNQTUNYJmVuY3J5cHRlZElkPUEwOTMzNDY1VUpMUTFDRk5VQTVLJmVuY3J5cHRlZEFkSWQ9QTAwNjk0NjUxMEIxQkw3UjE5SElUJndpZGdldE5hbWU9c3BfbXRmJmFjdGlvbj1jbGlja1JlZGlyZWN0JmRvTm90TG9nQ2xpY2s9dHJ1ZQ==> from <GET https://www.amazon.com/gp/slredirect/picassoRedirect.html/ref=pa_sp_mtf_aps_sr_pg4_1?ie=UTF8&adId=A006946510B1BL7R19HIT&url=%2FData-Vault-Guru-pragmatic-building%2Fdp%2FB08KJLJW9Q%2Fref%3Dsr_1_178_sspa%3Fkeywords%3Ddata%2Banalysis%26qid%3D1663454642%26sr%3D8-178-spons%26psc%3D1&qualifier=1663454642&id=7777943298696266&widgetName=sp_mtf>\n",
      "2022-09-18 00:44:20 [scrapy.core.engine] DEBUG: Crawled (200) <GET https://www.amazon.com/Start-with-Why-Simon-Sinek-audiobook/dp/B074VF6ZLM/ref=sr_1_181?keywords=data+analysis&qid=1663454642&sr=8-181> (referer: https://www.amazon.com/s?k=data+analysis&page=4&qid=1663453432&ref=sr_pg_4)\n"
     ]
    },
    {
     "name": "stdout",
     "output_type": "stream",
     "text": [
      "153\n",
      "['\\n            \\n              100%\\n            \\n          '] 5.0 out of 5 stars 6.14 x 0.55 x 9.21 inches\n"
     ]
    },
    {
     "name": "stderr",
     "output_type": "stream",
     "text": [
      "2022-09-18 00:44:21 [scrapy.core.engine] DEBUG: Crawled (200) <GET https://www.amazon.com/Bayesian-Analysis-Excel-Addison-Wesley-Analytics-ebook/dp/B0B81VD71Y/ref=sr_1_176?keywords=data+analysis&qid=1663454642&sr=8-176> (referer: https://www.amazon.com/s?k=data+analysis&page=4&qid=1663453432&ref=sr_pg_4)\n"
     ]
    },
    {
     "name": "stdout",
     "output_type": "stream",
     "text": [
      "154\n",
      "['\\n            \\n              77%\\n            \\n          '] 4.6 out of 5 stars None\n"
     ]
    },
    {
     "name": "stderr",
     "output_type": "stream",
     "text": [
      "2022-09-18 00:44:21 [scrapy.core.engine] DEBUG: Crawled (200) <GET https://www.amazon.com/Mathematical-Foundations-Analysis-Springer-Sciences/dp/3030623408/ref=sr_1_219?keywords=data+analysis&qid=1663454656&sr=8-219> (referer: https://www.amazon.com/s?k=data+analysis&page=5&qid=1663453432&ref=sr_pg_5)\n"
     ]
    },
    {
     "name": "stdout",
     "output_type": "stream",
     "text": [
      "155\n",
      "[] None None\n"
     ]
    },
    {
     "name": "stderr",
     "output_type": "stream",
     "text": [
      "2022-09-18 00:44:21 [scrapy.core.engine] DEBUG: Crawled (200) <GET https://www.amazon.com/Statistical-Rethinking-Bayesian-Examples-Chapman/dp/036713991X/ref=sr_1_204?keywords=data+analysis&qid=1663454656&sr=8-204> (referer: https://www.amazon.com/s?k=data+analysis&page=5&qid=1663453432&ref=sr_pg_5)\n",
      "2022-09-18 00:44:22 [scrapy.core.engine] DEBUG: Crawled (200) <GET https://www.amazon.com/Introduction-Categorical-Analysis-Probability-Statistics/dp/1119405262/ref=sr_1_252?keywords=data+analysis&qid=1663454656&sr=8-252> (referer: https://www.amazon.com/s?k=data+analysis&page=5&qid=1663453432&ref=sr_pg_5)\n",
      "2022-09-18 00:44:22 [scrapy.core.engine] DEBUG: Crawled (200) <GET https://www.amazon.com/Solutions-Longneckers-Introduction-Statistical-Analysis/dp/1305269489/ref=sr_1_251?keywords=data+analysis&qid=1663454656&sr=8-251> (referer: https://www.amazon.com/s?k=data+analysis&page=5&qid=1663453432&ref=sr_pg_5)\n"
     ]
    },
    {
     "name": "stdout",
     "output_type": "stream",
     "text": [
      "156\n",
      "[] None 7.8 x 0.8 x 9.4 inches\n",
      "157\n",
      "['\\n            \\n              88%\\n            \\n          '] 4.8 out of 5 stars 7.4 x 0.9 x 10.1 inches\n",
      "158\n",
      "['\\n            \\n              68%\\n            \\n          '] 4.5 out of 5 stars 7.2 x 1.1 x 10.1 inches\n",
      "start_new_page\n",
      "159\n",
      "['\\n            \\n              62%\\n            \\n          '] 3.5 out of 5 stars"
     ]
    },
    {
     "name": "stderr",
     "output_type": "stream",
     "text": [
      "2022-09-18 00:44:25 [scrapy.core.engine] DEBUG: Crawled (200) <GET https://www.amazon.com/Data-Science-Scratch-Principles-Python/dp/1492041130/ref=sr_1_249?keywords=data+analysis&qid=1663454656&sr=8-249> (referer: https://www.amazon.com/s?k=data+analysis&page=5&qid=1663453432&ref=sr_pg_5)\n",
      "2022-09-18 00:44:25 [scrapy.core.engine] DEBUG: Crawled (200) <GET https://www.amazon.com/Effective-Pandas-Patterns-Manipulation-Treading/dp/B09MYXXSFM/ref=sr_1_179_sspa?keywords=data+analysis&qid=1663454642&sr=8-179-spons&psc=1&spLa=ZW5jcnlwdGVkUXVhbGlmaWVyPUEyVEVXRDQ2VFNQTUNYJmVuY3J5cHRlZElkPUEwOTMzNDY1VUpMUTFDRk5VQTVLJmVuY3J5cHRlZEFkSWQ9QTAyMjY5NTkxUlpHV1FTSlFEMTJaJndpZGdldE5hbWU9c3BfbXRmJmFjdGlvbj1jbGlja1JlZGlyZWN0JmRvTm90TG9nQ2xpY2s9dHJ1ZQ==> (referer: https://www.amazon.com/s?k=data+analysis&page=4&qid=1663453432&ref=sr_pg_4)\n",
      "2022-09-18 00:44:25 [scrapy.core.engine] DEBUG: Crawled (200) <GET https://www.amazon.com/Microsoft-Excel-Analysis-Business-Modeling/dp/1509304215/ref=sr_1_250?keywords=data+analysis&qid=1663454656&sr=8-250> (referer: https://www.amazon.com/s?k=data+analysis&page=5&qid=1663453432&ref=sr_pg_5)\n",
      "2022-09-18 00:44:25 [scrapy.core.engine] DEBUG: Crawled (200) <GET https://www.amazon.com/Text-Analytics-Python-Practitioners-Processing/dp/1484243536/ref=sr_1_180_sspa?keywords=data+analysis&qid=1663454642&sr=8-180-spons&psc=1&spLa=ZW5jcnlwdGVkUXVhbGlmaWVyPUEyVEVXRDQ2VFNQTUNYJmVuY3J5cHRlZElkPUEwOTMzNDY1VUpMUTFDRk5VQTVLJmVuY3J5cHRlZEFkSWQ9QTA5OTE0MzIxREdBS0NNVk9IUjlOJndpZGdldE5hbWU9c3BfbXRmJmFjdGlvbj1jbGlja1JlZGlyZWN0JmRvTm90TG9nQ2xpY2s9dHJ1ZQ==> (referer: https://www.amazon.com/s?k=data+analysis&page=4&qid=1663453432&ref=sr_pg_4)\n",
      "2022-09-18 00:44:25 [scrapy.core.engine] DEBUG: Crawled (200) <GET https://www.amazon.com/Essentials-Qualitative-Meta-Analysis-Methods/dp/1433838486/ref=sr_1_248?keywords=data+analysis&qid=1663454656&sr=8-248> (referer: https://www.amazon.com/s?k=data+analysis&page=5&qid=1663453432&ref=sr_pg_5)\n",
      "2022-09-18 00:44:25 [scrapy.core.engine] DEBUG: Crawled (200) <GET https://www.amazon.com/Spectrum-Data-Analysis-and-Probability/dp/B082FNJ3PT/ref=sr_1_247?keywords=data+analysis&qid=1663454656&sr=8-247> (referer: https://www.amazon.com/s?k=data+analysis&page=5&qid=1663453432&ref=sr_pg_5)\n"
     ]
    },
    {
     "name": "stdout",
     "output_type": "stream",
     "text": [
      " 8.4 x 0.6 x 10.7 inches\n",
      "160\n",
      "['\\n            \\n              65%\\n            \\n          '] 4.4 out of 5 stars 6.9 x 0.9 x 9.1 inches\n"
     ]
    },
    {
     "name": "stderr",
     "output_type": "stream",
     "text": [
      "2022-09-18 00:44:26 [scrapy.core.engine] DEBUG: Crawled (200) <GET https://www.amazon.com/Analysis-Regression-Multilevel-Hierarchical-Models/dp/052168689X/ref=sr_1_245?keywords=data+analysis&qid=1663454656&sr=8-245> (referer: https://www.amazon.com/s?k=data+analysis&page=5&qid=1663453432&ref=sr_pg_5)\n"
     ]
    },
    {
     "name": "stdout",
     "output_type": "stream",
     "text": [
      "161\n",
      "['\\n            \\n              85%\\n            \\n          '] 4.7 out of 5 stars 7 x 1.17 x 9 inches\n",
      "162\n",
      "['\\n            \\n              75%\\n            \\n          '] 4.5 out of 5 stars 7.4 x 1.75 x 9 inches\n",
      "163\n",
      "['\\n            \\n              70%\\n            \\n          '] 4.6 out of 5 stars 7.01 x 1.58 x 10 inches\n"
     ]
    },
    {
     "name": "stderr",
     "output_type": "stream",
     "text": [
      "2022-09-18 00:44:27 [scrapy.core.engine] DEBUG: Crawled (200) <GET https://www.amazon.com/Introduction-Analytics-Accounting-International-Textbook/dp/1260590836/ref=sr_1_246?keywords=data+analysis&qid=1663454656&sr=8-246> (referer: https://www.amazon.com/s?k=data+analysis&page=5&qid=1663453432&ref=sr_pg_5)\n"
     ]
    },
    {
     "name": "stdout",
     "output_type": "stream",
     "text": [
      "164\n",
      "[] None None\n",
      "165\n",
      "['\\n            \\n              76%\\n            \\n          '] 4.6 out of 5 stars None\n"
     ]
    },
    {
     "name": "stderr",
     "output_type": "stream",
     "text": [
      "2022-09-18 00:44:27 [scrapy.core.engine] DEBUG: Crawled (200) <GET https://www.amazon.com/Tableau-Workshop-practical-guide-visualization/dp/1800207654/ref=sr_1_177_sspa?keywords=data+analysis&qid=1663454642&sr=8-177-spons&psc=1&spLa=ZW5jcnlwdGVkUXVhbGlmaWVyPUEyVEVXRDQ2VFNQTUNYJmVuY3J5cHRlZElkPUEwOTMzNDY1VUpMUTFDRk5VQTVLJmVuY3J5cHRlZEFkSWQ9QTAyOTMzOTExNEo3Q0U2VFlRWjhBJndpZGdldE5hbWU9c3BfbXRmJmFjdGlvbj1jbGlja1JlZGlyZWN0JmRvTm90TG9nQ2xpY2s9dHJ1ZQ==> (referer: https://www.amazon.com/s?k=data+analysis&page=4&qid=1663453432&ref=sr_pg_4)\n"
     ]
    },
    {
     "name": "stdout",
     "output_type": "stream",
     "text": [
      "166\n",
      "['\\n            \\n              65%\\n            \\n          '] 4.4 out of 5 stars 6.97 x 1.38 x 9.96 inches\n"
     ]
    },
    {
     "name": "stderr",
     "output_type": "stream",
     "text": [
      "2022-09-18 00:44:27 [scrapy.core.engine] DEBUG: Crawled (200) <GET https://www.amazon.com/Data-Vault-Guru-pragmatic-building/dp/B08KJLJW9Q/ref=sr_1_178_sspa?keywords=data+analysis&qid=1663454642&sr=8-178-spons&psc=1&spLa=ZW5jcnlwdGVkUXVhbGlmaWVyPUEyVEVXRDQ2VFNQTUNYJmVuY3J5cHRlZElkPUEwOTMzNDY1VUpMUTFDRk5VQTVLJmVuY3J5cHRlZEFkSWQ9QTAwNjk0NjUxMEIxQkw3UjE5SElUJndpZGdldE5hbWU9c3BfbXRmJmFjdGlvbj1jbGlja1JlZGlyZWN0JmRvTm90TG9nQ2xpY2s9dHJ1ZQ==> (referer: https://www.amazon.com/s?k=data+analysis&page=4&qid=1663453432&ref=sr_pg_4)\n",
      "2022-09-18 00:44:27 [scrapy.core.engine] DEBUG: Crawled (200) <GET https://www.amazon.com/Statistical-Analysis-Missing-Probability-Statistics/dp/0470526793/ref=sr_1_242?keywords=data+analysis&qid=1663454656&sr=8-242> (referer: https://www.amazon.com/s?k=data+analysis&page=5&qid=1663453432&ref=sr_pg_5)\n"
     ]
    },
    {
     "name": "stdout",
     "output_type": "stream",
     "text": [
      "167\n",
      "['\\n            \\n              100%\\n            \\n          '] 5.0 out of 5 stars 7.99 x 0.83 x 9.96 inches\n"
     ]
    },
    {
     "name": "stderr",
     "output_type": "stream",
     "text": [
      "2022-09-18 00:44:28 [scrapy.core.engine] DEBUG: Crawled (200) <GET https://www.amazon.com/Adverse-Impact-Analysis-Understanding-Statistics/dp/1138855855/ref=sr_1_244?keywords=data+analysis&qid=1663454656&sr=8-244> (referer: https://www.amazon.com/s?k=data+analysis&page=5&qid=1663453432&ref=sr_pg_5)\n",
      "2022-09-18 00:44:28 [scrapy.core.engine] DEBUG: Crawled (200) <GET https://www.amazon.com/Hierarchical-Modeling-Monographs-Statistics-Probability/dp/1439819173/ref=sr_1_243?keywords=data+analysis&qid=1663454656&sr=8-243> (referer: https://www.amazon.com/s?k=data+analysis&page=5&qid=1663453432&ref=sr_pg_5)\n",
      "2022-09-18 00:44:28 [scrapy.core.engine] DEBUG: Crawled (200) <GET https://www.amazon.com/Python-Coding-2022-Analysis-Programming-ebook/dp/B09T7YP43Y/ref=sr_1_240?keywords=data+analysis&qid=1663454656&sr=8-240> (referer: https://www.amazon.com/s?k=data+analysis&page=5&qid=1663453432&ref=sr_pg_5)\n",
      "2022-09-18 00:44:28 [scrapy.core.engine] DEBUG: Crawled (200) <GET https://www.amazon.com/Disrupting-Data-Governance-Call-Action/dp/1634626532/ref=sr_1_241?keywords=data+analysis&qid=1663454656&sr=8-241> (referer: https://www.amazon.com/s?k=data+analysis&page=5&qid=1663453432&ref=sr_pg_5)\n"
     ]
    },
    {
     "name": "stdout",
     "output_type": "stream",
     "text": [
      "168\n",
      "['\\n            \\n              85%\\n            \\n          '] 4.8 out of 5 stars 7.5 x 1.86 x 9.25 inches\n",
      "169\n",
      "['\\n            \\n              57%\\n            \\n          '] 4.1 out of 5 stars 8 x 1.59 x 10 inches\n",
      "170\n",
      "['\\n            \\n              47%\\n            \\n          '] 4.0 out of 5 stars 6 x 1.23 x 9 inches\n",
      "171\n",
      "['\\n            \\n              100%\\n            \\n          '] 5.0 out of 5 stars 6 x 0.91 x 9 inches\n",
      "172\n",
      "['\\n            \\n              62%\\n            \\n          '] 4.1 out of 5 stars 7.2 x 1 x 10.1 inches\n",
      "173\n",
      "[] None None\n"
     ]
    },
    {
     "name": "stderr",
     "output_type": "stream",
     "text": [
      "2022-09-18 00:44:29 [scrapy.core.engine] DEBUG: Crawled (200) <GET https://www.amazon.com/Python-Everybody-Exploring-Data/dp/1530051126/ref=sr_1_238?keywords=data+analysis&qid=1663454656&sr=8-238> (referer: https://www.amazon.com/s?k=data+analysis&page=5&qid=1663453432&ref=sr_pg_5)\n",
      "2022-09-18 00:44:29 [scrapy.core.engine] DEBUG: Crawled (200) <GET https://www.amazon.com/s?k=data+analysis&page=6&qid=1663453432&ref=sr_pg_6> (referer: https://www.amazon.com/Introduction-Categorical-Analysis-Probability-Statistics/dp/1119405262/ref=sr_1_252?keywords=data+analysis&qid=1663454656&sr=8-252)\n"
     ]
    },
    {
     "name": "stdout",
     "output_type": "stream",
     "text": [
      "174\n",
      "['\\n            \\n              69%\\n            \\n          '] 4.4 out of 5 stars 6 x 0.41 x 9 inches\n"
     ]
    },
    {
     "name": "stderr",
     "output_type": "stream",
     "text": [
      "2022-09-18 00:44:29 [scrapy.core.engine] DEBUG: Crawled (200) <GET https://www.amazon.com/Handbook-Graphs-Networks-People-Analytics-ebook/dp/B0B7J2DD8C/ref=sr_1_235?keywords=data+analysis&qid=1663454656&sr=8-235> (referer: https://www.amazon.com/s?k=data+analysis&page=5&qid=1663453432&ref=sr_pg_5)\n",
      "2022-09-18 00:44:29 [scrapy.core.engine] DEBUG: Crawled (200) <GET https://www.amazon.com/ggplot2-Elegant-Graphics-Data-Analysis/dp/331924275X/ref=sr_1_236?keywords=data+analysis&qid=1663454656&sr=8-236> (referer: https://www.amazon.com/s?k=data+analysis&page=5&qid=1663453432&ref=sr_pg_5)\n"
     ]
    },
    {
     "name": "stdout",
     "output_type": "stream",
     "text": [
      "175\n",
      "['\\n            \\n              76%\\n            \\n          '] 4.6 out of 5 stars 7 x 0.56 x 10 inches\n",
      "6\n",
      "Hands-On Network Forensics: Investigate network attacks and find evidence using common network forensic tools\n",
      "Python: - The Bible- 3 Manuscripts in 1 book: -Python Programming For Beginners -Python Programming For Intermediates -Python Programming for Advanced (Your place to learn Python with ease)\n",
      "Mastering Vim: Build a software development environment with Vim and Neovim\n",
      "Python: 3 books in 1- Your complete guide to python programming with Python for Beginners, Python Data Analysis and Python Machine Learning (Programming Languages for Beginners)\n",
      "Student Solutions Manual for Ott/Longnecker's An Introduction to Statistical Methods and Data Analysis, 7th\n",
      "An Introduction to Categorical Data Analysis, 3rd Edition (Wiley Series in Probability and Statistics)\n",
      "Applied Longitudinal Data Analysis: Modeling Change and Event Occurrence\n",
      "Exploratory Data Analysis with MATLAB® (Chapman & Hall/CRC Computer Science & Data Analysis)\n",
      "Performing Data Analysis Using IBM SPSS\n",
      "Hands-On Time Series Analysis with R: Perform time series analysis and forecasting using R\n",
      "Mathematical Statistics and Data Analysis (with CD Data Sets) (Available 2010 Titles Enhanced Web Assign)\n",
      "Topological Data Analysis for Genomics and Evolution: Topology in Biology\n",
      "A Common-Sense Guide to Data Structures and Algorithms, Second Edition: Level Up Your Core Programming Skills\n",
      "Thematic Analysis: A Practical Guide\n",
      "Modes of Thinking for Qualitative Data Analysis\n",
      "Eco-Stats: Data Analysis in Ecology: From t-tests to Multivariate Abundances (Methods in Statistical Ecology)\n",
      "Pivot Tables (Easy Excel Essentials)\n",
      "Next Generation Data Management: Using Your Data Assets to Drive Mission Success\n",
      "The Pandas Workshop: A comprehensive guide to using Python for data analysis with real-world case studies\n",
      "Data Science: Advanced Guide to Learn the Realms of Data Science Effectively\n",
      "Introduction to Data Science: Data Analysis and Prediction Algorithms with R (Chapman & Hall/CRC Data Science Series)\n",
      "Microsoft Excel: Advanced Microsoft Excel Data Analysis for Business\n",
      "Quantitative Social Science: An Introduction in tidyverse\n",
      "Data Analytics: Practical Guide to Leveraging the Power of Algorithms, Data Science, Data Mining, Statistics, Big Data, and Predictive Analysis to Improve Business, Work, and Life\n",
      "176\n",
      "[] None None\n",
      "Python for ArcGIS Pro: Automate cartography and data analysis using ArcPy, ArcGIS API for Python, Notebooks, and pandas\n",
      "Data Envelopment Analysis: Let the Data Speak for Themselves\n",
      "Python Crash Course for Data Analysis: A Complete Beginner Guide for Python Coding, NumPy, Pandas and Data Visualization (Machine Learning & Data Science for Beginners)\n",
      "Bayesian Modeling and Computation in Python (Chapman & Hall/CRC Texts in Statistical Science)\n",
      "Random Data: Analysis and Measurement Procedures\n",
      "Practical SQL, 2nd Edition: A Beginner's Guide to Storytelling with Data\n",
      "Longitudinal Data Analysis for the Behavioral Sciences Using R\n",
      "Data Science: The Ultimate Guide to Data Analytics, Data Mining, Data Warehousing, Data Visualization, Regression Analysis, Database Querying, Big Data for Business and Machine Learning for Beginners\n",
      "Statistics for Machine Learning: Implement Statistical methods used in Machine Learning using Python (English Edition)\n",
      "Hands-On Financial Modeling with Microsoft Excel 2019: Build practical models for forecasting, valuation, trading, and growth analysis using Excel 2019\n"
     ]
    },
    {
     "name": "stderr",
     "output_type": "stream",
     "text": [
      "2022-09-18 00:44:30 [scrapy.core.engine] DEBUG: Crawled (200) <GET https://www.amazon.com/Survival-Analysis-Techniques-Truncated-Statistics/dp/1441929851/ref=sr_1_237?keywords=data+analysis&qid=1663454656&sr=8-237> (referer: https://www.amazon.com/s?k=data+analysis&page=5&qid=1663453432&ref=sr_pg_5)\n",
      "2022-09-18 00:44:30 [scrapy.core.engine] DEBUG: Crawled (200) <GET https://www.amazon.com/Pandas-Workshop-comprehensive-analysis-real-world/dp/1800208936/ref=sr_1_234?keywords=data+analysis&qid=1663454656&sr=8-234> (referer: https://www.amazon.com/s?k=data+analysis&page=5&qid=1663453432&ref=sr_pg_5)\n",
      "2022-09-18 00:44:30 [scrapy.core.engine] DEBUG: Crawled (200) <GET https://www.amazon.com/Easy-Data-Analysis-Understanding-Relationships-ebook/dp/B09MMB8H34/ref=sr_1_239?keywords=data+analysis&qid=1663454656&sr=8-239> (referer: https://www.amazon.com/s?k=data+analysis&page=5&qid=1663453432&ref=sr_pg_5)\n",
      "2022-09-18 00:44:30 [scrapy.core.engine] DEBUG: Crawled (200) <GET https://www.amazon.com/Python-Programming-Language-Berajah-Jayne/dp/1423241886/ref=sr_1_233?keywords=data+analysis&qid=1663454656&sr=8-233> (referer: https://www.amazon.com/s?k=data+analysis&page=5&qid=1663453432&ref=sr_pg_5)\n"
     ]
    },
    {
     "name": "stdout",
     "output_type": "stream",
     "text": [
      "177\n",
      "['\\n            \\n              70%\\n            \\n          '] 4.4 out of 5 stars 6.1 x 0.65 x 9.25 inches\n",
      "R Statistics Cookbook: Over 100 recipes for performing complex statistical operations with R 3.5\n",
      "Effective Data Science Infrastructure: How to make data scientists productive\n",
      "Regression Analysis with Python\n",
      "Analysis of Economic Data\n",
      "Qualitative Data Analysis with ATLAS.ti\n",
      "Easy Data Analysis: Quantitative Analysis Project: A flowchart for organising and carrying out your project with explanation\n",
      "C++ Programming: Program Design Including Data Structures (MindTap Course List)\n",
      "Data Science for Supply Chain Forecasting\n",
      "The Self-Taught Computer Scientist: The Beginner's Guide to Data Structures & Algorithms\n",
      "Hands-On Exploratory Data Analysis with R: Become an expert in exploratory data analysis using R packages\n",
      "The Data Collection Toolkit: Everything You Need to Organize, Manage, and Monitor Classroom Data\n",
      "Effective Pandas: Patterns for Data Manipulation (Treading on Python)\n",
      "Python for Finance: Mastering Data-Driven Finance\n",
      "Practical Data Analysis with JMP, Third Edition\n",
      "Analytics: Data Science, Data Analysis and Predictive Analytics for Business\n",
      "Data Mining for Business Analytics: Concepts, Techniques and Applications in Python\n",
      "Applied Spatial Data Analysis with R (Use R!, 10)\n",
      "BUSINESS ANALYSIS IN DATA PROJECTS: Business Analyst Role and Activities in Data Projects\n",
      "Learning Spark: Lightning-Fast Data Analytics\n",
      "Practical Guide to Cluster Analysis in R: Unsupervised Machine Learning (Multivariate Analysis Book 1)\n"
     ]
    },
    {
     "name": "stderr",
     "output_type": "stream",
     "text": [
      "2022-09-18 00:44:30 [scrapy.downloadermiddlewares.redirect] DEBUG: Redirecting (302) to <GET https://www.amazon.com/Hands-Data-Structures-Algorithms-Kotlin/dp/1788994019/ref=sr_1_227_sspa?keywords=data+analysis&qid=1663454656&sr=8-227-spons&psc=1&spLa=ZW5jcnlwdGVkUXVhbGlmaWVyPUEyTTMxOTVKTzFLQVc4JmVuY3J5cHRlZElkPUEwMjM4Mzg1M08wRUFENEtGQ1FINiZlbmNyeXB0ZWRBZElkPUEwNDY4NDM1QUNTRURNVVBJQTUxJndpZGdldE5hbWU9c3BfbXRmJmFjdGlvbj1jbGlja1JlZGlyZWN0JmRvTm90TG9nQ2xpY2s9dHJ1ZQ==> from <GET https://www.amazon.com/gp/slredirect/picassoRedirect.html/ref=pa_sp_mtf_aps_sr_pg5_1?ie=UTF8&adId=A0468435ACSEDMUPIA51&url=%2FHands-Data-Structures-Algorithms-Kotlin%2Fdp%2F1788994019%2Fref%3Dsr_1_227_sspa%3Fkeywords%3Ddata%2Banalysis%26qid%3D1663454656%26sr%3D8-227-spons%26psc%3D1&qualifier=1663454656&id=8998586767692949&widgetName=sp_mtf>\n",
      "2022-09-18 00:44:30 [scrapy.downloadermiddlewares.redirect] DEBUG: Redirecting (302) to <GET https://www.amazon.com/Cloud-Scale-Analytics-Azure-Services/dp/1800562934/ref=sr_1_226_sspa?keywords=data+analysis&qid=1663454656&sr=8-226-spons&psc=1&spLa=ZW5jcnlwdGVkUXVhbGlmaWVyPUEyTTMxOTVKTzFLQVc4JmVuY3J5cHRlZElkPUEwMjM4Mzg1M08wRUFENEtGQ1FINiZlbmNyeXB0ZWRBZElkPUEwNjk0NTQ3MUJPMjhCS0VIRjNNQSZ3aWRnZXROYW1lPXNwX210ZiZhY3Rpb249Y2xpY2tSZWRpcmVjdCZkb05vdExvZ0NsaWNrPXRydWU=> from <GET https://www.amazon.com/gp/slredirect/picassoRedirect.html/ref=pa_sp_mtf_aps_sr_pg5_1?ie=UTF8&adId=A06945471BO28BKEHF3MA&url=%2FCloud-Scale-Analytics-Azure-Services%2Fdp%2F1800562934%2Fref%3Dsr_1_226_sspa%3Fkeywords%3Ddata%2Banalysis%26qid%3D1663454656%26sr%3D8-226-spons%26psc%3D1&qualifier=1663454656&id=8998586767692949&widgetName=sp_mtf>\n",
      "2022-09-18 00:44:30 [scrapy.downloadermiddlewares.redirect] DEBUG: Redirecting (302) to <GET https://www.amazon.com/Scalable-Data-Analytics-Azure-Explorer/dp/1801078548/ref=sr_1_228_sspa?keywords=data+analysis&qid=1663454656&sr=8-228-spons&psc=1&spLa=ZW5jcnlwdGVkUXVhbGlmaWVyPUEyTTMxOTVKTzFLQVc4JmVuY3J5cHRlZElkPUEwMjM4Mzg1M08wRUFENEtGQ1FINiZlbmNyeXB0ZWRBZElkPUEwNTQwMDIzMTE3NjlZRE5YTEVZOSZ3aWRnZXROYW1lPXNwX210ZiZhY3Rpb249Y2xpY2tSZWRpcmVjdCZkb05vdExvZ0NsaWNrPXRydWU=> from <GET https://www.amazon.com/gp/slredirect/picassoRedirect.html/ref=pa_sp_mtf_aps_sr_pg5_1?ie=UTF8&adId=A054002311769YDNXLEY9&url=%2FScalable-Data-Analytics-Azure-Explorer%2Fdp%2F1801078548%2Fref%3Dsr_1_228_sspa%3Fkeywords%3Ddata%2Banalysis%26qid%3D1663454656%26sr%3D8-228-spons%26psc%3D1&qualifier=1663454656&id=8998586767692949&widgetName=sp_mtf>\n",
      "2022-09-18 00:44:30 [scrapy.downloadermiddlewares.redirect] DEBUG: Redirecting (302) to <GET https://www.amazon.com/Memory-Analytics-Apache-Arrow-hierarchical/dp/1801071039/ref=sr_1_225_sspa?keywords=data+analysis&qid=1663454656&sr=8-225-spons&psc=1&spLa=ZW5jcnlwdGVkUXVhbGlmaWVyPUEyTTMxOTVKTzFLQVc4JmVuY3J5cHRlZElkPUEwMjM4Mzg1M08wRUFENEtGQ1FINiZlbmNyeXB0ZWRBZElkPUEwOTcyODgwM1JKS1pLM0JUOEtPMiZ3aWRnZXROYW1lPXNwX210ZiZhY3Rpb249Y2xpY2tSZWRpcmVjdCZkb05vdExvZ0NsaWNrPXRydWU=> from <GET https://www.amazon.com/gp/slredirect/picassoRedirect.html/ref=pa_sp_mtf_aps_sr_pg5_1?ie=UTF8&adId=A09728803RJKZK3BT8KO2&url=%2FMemory-Analytics-Apache-Arrow-hierarchical%2Fdp%2F1801071039%2Fref%3Dsr_1_225_sspa%3Fkeywords%3Ddata%2Banalysis%26qid%3D1663454656%26sr%3D8-225-spons%26psc%3D1&qualifier=1663454656&id=8998586767692949&widgetName=sp_mtf>\n"
     ]
    },
    {
     "name": "stdout",
     "output_type": "stream",
     "text": [
      "178\n",
      "['\\n            \\n              63%\\n            \\n          '] 4.2 out of 5 stars 8.27 x 1.26 x 10.98 inches\n",
      "Functional Data Analysis with R and MATLAB (Use R!)\n",
      "Deep Learning for Biomedical Data Analysis: Techniques, Approaches, and Applications\n",
      "Dyadic Data Analysis (Methodology in the Social Sciences)\n",
      "The 4-Step Thematic Data Analysis With MAXQDA\n",
      "Data Analysis from Scratch with Python: The Complete Beginner's Guide for Machine Learning Techniques and A Step By Step NLP using Python Guide To Expert (Including Programming Interview Questions)\n",
      "Python Data Science Handbook: Essential Tools for Working with Data\n",
      "179\n",
      "['\\n            \\n              73%\\n            \\n          '] 4.6 out of 5 stars 7.5 x 1.68 x 9.25 inches\n",
      "180\n",
      "[] None None\n"
     ]
    },
    {
     "name": "stderr",
     "output_type": "stream",
     "text": [
      "2022-09-18 00:44:31 [scrapy.core.engine] DEBUG: Crawled (200) <GET https://www.amazon.com/Time-Analysis-Approach-Chapman-Statistical/dp/0367221098/ref=sr_1_232?keywords=data+analysis&qid=1663454656&sr=8-232> (referer: https://www.amazon.com/s?k=data+analysis&page=5&qid=1663453432&ref=sr_pg_5)\n",
      "2022-09-18 00:44:31 [scrapy.core.engine] DEBUG: Crawled (200) <GET https://www.amazon.com/Data-Mining-beginners-introduction-analytics-ebook/dp/B01N9PL553/ref=sr_1_231?keywords=data+analysis&qid=1663454656&sr=8-231> (referer: https://www.amazon.com/s?k=data+analysis&page=5&qid=1663453432&ref=sr_pg_5)\n",
      "2022-09-18 00:44:31 [scrapy.core.engine] DEBUG: Crawled (200) <GET https://www.amazon.com/SPSS-Beginners-Minutes-Interpretation-Statistical/dp/B09K1Z32FG/ref=sr_1_230?keywords=data+analysis&qid=1663454656&sr=8-230> (referer: https://www.amazon.com/s?k=data+analysis&page=5&qid=1663453432&ref=sr_pg_5)\n"
     ]
    },
    {
     "name": "stdout",
     "output_type": "stream",
     "text": [
      "181\n",
      "['\\n            \\n              75%\\n            \\n          '] 4.6 out of 5 stars 8.5 x 0.2 x 11.1 inches\n"
     ]
    },
    {
     "name": "stderr",
     "output_type": "stream",
     "text": [
      "2022-09-18 00:44:32 [scrapy.core.engine] DEBUG: Crawled (200) <GET https://www.amazon.com/Crime-Analysis-Mapping-Rachel-Santos/dp/1071831402/ref=sr_1_229?keywords=data+analysis&qid=1663454656&sr=8-229> (referer: https://www.amazon.com/s?k=data+analysis&page=5&qid=1663453432&ref=sr_pg_5)\n"
     ]
    },
    {
     "name": "stdout",
     "output_type": "stream",
     "text": [
      "182\n",
      "['\\n            \\n              58%\\n            \\n          '] 4.1 out of 5 stars 6 x 0.83 x 9 inches\n"
     ]
    },
    {
     "name": "stderr",
     "output_type": "stream",
     "text": [
      "2022-09-18 00:44:32 [scrapy.core.engine] DEBUG: Crawled (200) <GET https://www.amazon.com/Easy-Data-Analysis-Qualitative-explanation-ebook/dp/B08WCCVW9F/ref=sr_1_224?keywords=data+analysis&qid=1663454656&sr=8-224> (referer: https://www.amazon.com/s?k=data+analysis&page=5&qid=1663453432&ref=sr_pg_5)\n"
     ]
    },
    {
     "name": "stdout",
     "output_type": "stream",
     "text": [
      "183\n",
      "['\\n            \\n              67%\\n            \\n          '] 4.4 out of 5 stars None\n",
      "184\n",
      "['\\n            \\n              62%\\n            \\n          '] 3.5 out of 5 stars 5.5 x 0.3 x 8.5 inches\n",
      "185\n",
      "['\\n            \\n              63%\\n            \\n          '] 4.6 out of 5 stars 7 x 1.14 x 10 inches\n"
     ]
    },
    {
     "name": "stderr",
     "output_type": "stream",
     "text": [
      "2022-09-18 00:44:32 [scrapy.core.engine] DEBUG: Crawled (200) <GET https://www.amazon.com/Applied-Longitudinal-Analysis-Garrett-Fitzmaurice/dp/0470380276/ref=sr_1_222?keywords=data+analysis&qid=1663454656&sr=8-222> (referer: https://www.amazon.com/s?k=data+analysis&page=5&qid=1663453432&ref=sr_pg_5)\n"
     ]
    },
    {
     "name": "stdout",
     "output_type": "stream",
     "text": [
      "186\n",
      "[] None None\n"
     ]
    },
    {
     "name": "stderr",
     "output_type": "stream",
     "text": [
      "2022-09-18 00:44:33 [scrapy.core.engine] DEBUG: Crawled (200) <GET https://www.amazon.com/Epidemiology-Analysis-Chapman-Statistical-Science/dp/1439839700/ref=sr_1_223?keywords=data+analysis&qid=1663454656&sr=8-223> (referer: https://www.amazon.com/s?k=data+analysis&page=5&qid=1663453432&ref=sr_pg_5)\n"
     ]
    },
    {
     "name": "stdout",
     "output_type": "stream",
     "text": [
      "187\n",
      "['\\n            \\n              64%\\n            \\n          '] 4.3 out of 5 stars 6 x 1.3 x 9.2 inches\n"
     ]
    },
    {
     "name": "stderr",
     "output_type": "stream",
     "text": [
      "2022-09-18 00:44:33 [scrapy.core.engine] DEBUG: Crawled (200) <GET https://www.amazon.com/Data-Analytics-Leveraging-Algorithms-Statistics-ebook/dp/B06XHR9TJC/ref=sr_1_264?keywords=data+analysis&qid=1663454667&sr=8-264> (referer: https://www.amazon.com/s?k=data+analysis&page=6&qid=1663453432&ref=sr_pg_6)\n",
      "2022-09-18 00:44:33 [scrapy.core.engine] DEBUG: Crawled (200) <GET https://www.amazon.com/Scalable-Data-Analytics-Azure-Explorer/dp/1801078548/ref=sr_1_228_sspa?keywords=data+analysis&qid=1663454656&sr=8-228-spons&psc=1&spLa=ZW5jcnlwdGVkUXVhbGlmaWVyPUEyTTMxOTVKTzFLQVc4JmVuY3J5cHRlZElkPUEwMjM4Mzg1M08wRUFENEtGQ1FINiZlbmNyeXB0ZWRBZElkPUEwNTQwMDIzMTE3NjlZRE5YTEVZOSZ3aWRnZXROYW1lPXNwX210ZiZhY3Rpb249Y2xpY2tSZWRpcmVjdCZkb05vdExvZ0NsaWNrPXRydWU=> (referer: https://www.amazon.com/s?k=data+analysis&page=5&qid=1663453432&ref=sr_pg_5)\n",
      "2022-09-18 00:44:33 [scrapy.core.engine] DEBUG: Crawled (200) <GET https://www.amazon.com/Analysis-Economic-Data-Gary-Koop/dp/1118472535/ref=sr_1_278?keywords=data+analysis&qid=1663454667&sr=8-278> (referer: https://www.amazon.com/s?k=data+analysis&page=6&qid=1663453432&ref=sr_pg_6)\n"
     ]
    },
    {
     "name": "stdout",
     "output_type": "stream",
     "text": [
      "188\n",
      "['\\n            \\n              61%\\n            \\n          '] 4.4 out of 5 stars 7 x 1.75 x 10 inches\n"
     ]
    },
    {
     "name": "stderr",
     "output_type": "stream",
     "text": [
      "2022-09-18 00:44:33 [scrapy.core.engine] DEBUG: Crawled (200) <GET https://www.amazon.com/Memory-Analytics-Apache-Arrow-hierarchical/dp/1801071039/ref=sr_1_225_sspa?keywords=data+analysis&qid=1663454656&sr=8-225-spons&psc=1&spLa=ZW5jcnlwdGVkUXVhbGlmaWVyPUEyTTMxOTVKTzFLQVc4JmVuY3J5cHRlZElkPUEwMjM4Mzg1M08wRUFENEtGQ1FINiZlbmNyeXB0ZWRBZElkPUEwOTcyODgwM1JKS1pLM0JUOEtPMiZ3aWRnZXROYW1lPXNwX210ZiZhY3Rpb249Y2xpY2tSZWRpcmVjdCZkb05vdExvZ0NsaWNrPXRydWU=> (referer: https://www.amazon.com/s?k=data+analysis&page=5&qid=1663453432&ref=sr_pg_5)\n",
      "2022-09-18 00:44:33 [scrapy.core.engine] DEBUG: Crawled (200) <GET https://www.amazon.com/Cloud-Scale-Analytics-Azure-Services/dp/1800562934/ref=sr_1_226_sspa?keywords=data+analysis&qid=1663454656&sr=8-226-spons&psc=1&spLa=ZW5jcnlwdGVkUXVhbGlmaWVyPUEyTTMxOTVKTzFLQVc4JmVuY3J5cHRlZElkPUEwMjM4Mzg1M08wRUFENEtGQ1FINiZlbmNyeXB0ZWRBZElkPUEwNjk0NTQ3MUJPMjhCS0VIRjNNQSZ3aWRnZXROYW1lPXNwX210ZiZhY3Rpb249Y2xpY2tSZWRpcmVjdCZkb05vdExvZ0NsaWNrPXRydWU=> (referer: https://www.amazon.com/s?k=data+analysis&page=5&qid=1663453432&ref=sr_pg_5)\n"
     ]
    },
    {
     "name": "stdout",
     "output_type": "stream",
     "text": [
      "189\n",
      "['\\n            \\n              50%\\n            \\n          '] 3.7 out of 5 stars None\n",
      "190\n",
      "['\\n            \\n              100%\\n            \\n          '] 5.0 out of 5 stars 7.5 x 0.82 x 9.25 inches\n",
      "191\n",
      "['\\n            \\n              68%\\n            \\n          '] 4.1 out of 5 stars 6.4 x 0.7 x 9.4 inches\n",
      "192\n",
      "['\\n            \\n              100%\\n            \\n          '] 5.0 out of 5 stars 7.5 x 0.92 x 9.25 inches\n"
     ]
    },
    {
     "name": "stderr",
     "output_type": "stream",
     "text": [
      "2022-09-18 00:44:34 [scrapy.core.engine] DEBUG: Crawled (200) <GET https://www.amazon.com/Hands-Data-Structures-Algorithms-Kotlin/dp/1788994019/ref=sr_1_227_sspa?keywords=data+analysis&qid=1663454656&sr=8-227-spons&psc=1&spLa=ZW5jcnlwdGVkUXVhbGlmaWVyPUEyTTMxOTVKTzFLQVc4JmVuY3J5cHRlZElkPUEwMjM4Mzg1M08wRUFENEtGQ1FINiZlbmNyeXB0ZWRBZElkPUEwNDY4NDM1QUNTRURNVVBJQTUxJndpZGdldE5hbWU9c3BfbXRmJmFjdGlvbj1jbGlja1JlZGlyZWN0JmRvTm90TG9nQ2xpY2s9dHJ1ZQ==> (referer: https://www.amazon.com/s?k=data+analysis&page=5&qid=1663453432&ref=sr_pg_5)\n",
      "2022-09-18 00:44:34 [scrapy.core.engine] DEBUG: Crawled (200) <GET https://www.amazon.com/Python-Data-Science-Handbook-Essential/dp/1098121228/ref=sr_1_300?keywords=data+analysis&qid=1663454667&sr=8-300> (referer: https://www.amazon.com/s?k=data+analysis&page=6&qid=1663453432&ref=sr_pg_6)\n"
     ]
    },
    {
     "name": "stdout",
     "output_type": "stream",
     "text": [
      "193\n",
      "['\\n            \\n              82%\\n            \\n          '] 4.8 out of 5 stars 7.5 x 1.18 x 9.25 inches\n",
      "194\n",
      "['\\n            \\n              65%\\n            \\n          '] 3.6 out of 5 stars 7.5 x 0.5 x 9.25 inches\n",
      "195\n",
      "[] None None\n"
     ]
    },
    {
     "name": "stderr",
     "output_type": "stream",
     "text": [
      "2022-09-18 00:44:38 [scrapy.core.engine] DEBUG: Crawled (200) <GET https://www.amazon.com/Deep-Learning-Biomedical-Data-Analysis-ebook/dp/B099DWL6NP/ref=sr_1_296?keywords=data+analysis&qid=1663454667&sr=8-296> (referer: https://www.amazon.com/s?k=data+analysis&page=6&qid=1663453432&ref=sr_pg_6)\n",
      "2022-09-18 00:44:38 [scrapy.core.engine] DEBUG: Crawled (200) <GET https://www.amazon.com/Data-Analysis-Scratch-Python-Programming/dp/1688979719/ref=sr_1_299?keywords=data+analysis&qid=1663454667&sr=8-299> (referer: https://www.amazon.com/s?k=data+analysis&page=6&qid=1663453432&ref=sr_pg_6)\n",
      "2022-09-18 00:44:38 [scrapy.core.engine] DEBUG: Crawled (200) <GET https://www.amazon.com/Functional-Data-Analysis-MATLAB-Use/dp/0387981845/ref=sr_1_295?keywords=data+analysis&qid=1663454667&sr=8-295> (referer: https://www.amazon.com/s?k=data+analysis&page=6&qid=1663453432&ref=sr_pg_6)\n",
      "2022-09-18 00:44:38 [scrapy.core.engine] DEBUG: Crawled (200) <GET https://www.amazon.com/Dyadic-Analysis-Methodology-Social-Sciences/dp/1572309865/ref=sr_1_297?keywords=data+analysis&qid=1663454667&sr=8-297> (referer: https://www.amazon.com/s?k=data+analysis&page=6&qid=1663453432&ref=sr_pg_6)\n",
      "2022-09-18 00:44:38 [scrapy.core.engine] DEBUG: Crawled (200) <GET https://www.amazon.com/4-Step-Thematic-Data-Analysis-MAXQDA/dp/1089377541/ref=sr_1_298?keywords=data+analysis&qid=1663454667&sr=8-298> (referer: https://www.amazon.com/s?k=data+analysis&page=6&qid=1663453432&ref=sr_pg_6)\n",
      "2022-09-18 00:44:38 [scrapy.core.engine] DEBUG: Crawled (200) <GET https://www.amazon.com/Practical-Guide-Cluster-Analysis-Unsupervised-ebook/dp/B077KQBXTN/ref=sr_1_294?keywords=data+analysis&qid=1663454667&sr=8-294> (referer: https://www.amazon.com/s?k=data+analysis&page=6&qid=1663453432&ref=sr_pg_6)\n"
     ]
    },
    {
     "name": "stdout",
     "output_type": "stream",
     "text": [
      "196\n",
      "[] None None\n",
      "197\n",
      "['\\n            \\n              74%\\n            \\n          '] 4.4 out of 5 stars 6 x 0.39 x 9 inches\n"
     ]
    },
    {
     "name": "stderr",
     "output_type": "stream",
     "text": [
      "2022-09-18 00:44:38 [scrapy.core.engine] DEBUG: Crawled (200) <GET https://www.amazon.com/Learning-Spark-Jules-Damji/dp/1492050040/ref=sr_1_293?keywords=data+analysis&qid=1663454667&sr=8-293> (referer: https://www.amazon.com/s?k=data+analysis&page=6&qid=1663453432&ref=sr_pg_6)\n",
      "2022-09-18 00:44:39 [scrapy.core.engine] DEBUG: Crawled (200) <GET https://www.amazon.com/BUSINESS-ANALYSIS-DATA-PROJECTS-Activities-ebook/dp/B07X7NYTPQ/ref=sr_1_292?keywords=data+analysis&qid=1663454667&sr=8-292> (referer: https://www.amazon.com/s?k=data+analysis&page=6&qid=1663453432&ref=sr_pg_6)\n"
     ]
    },
    {
     "name": "stdout",
     "output_type": "stream",
     "text": [
      "198\n",
      "['\\n            \\n              93%\\n            \\n          '] 4.7 out of 5 stars 6.1 x 0.51 x 9.25 inches\n",
      "199\n",
      "['\\n            \\n              73%\\n            \\n          '] 4.4 out of 5 stars 6.25 x 1.25 x 9.25 inches\n",
      "200\n",
      "['\\n            \\n              85%\\n            \\n          '] 4.8 out of 5 stars 8.5 x 0.34 x 11 inches\n",
      "201\n",
      "['\\n            \\n              53%\\n            \\n          '] 4.2 out of 5 stars None\n",
      "202\n",
      "['\\n            \\n              80%\\n            \\n          '] 4.7 out of 5 stars 7.25 x 1 x 9.25 inches\n",
      "203\n",
      "['\\n            \\n              62%\\n            \\n          '] 4.6 out of 5 stars None\n"
     ]
    },
    {
     "name": "stderr",
     "output_type": "stream",
     "text": [
      "2022-09-18 00:44:40 [scrapy.core.engine] DEBUG: Crawled (200) <GET https://www.amazon.com/Analytics-Science-Analysis-Predictive-Business/dp/1530135605/ref=sr_1_289?keywords=data+analysis&qid=1663454667&sr=8-289> (referer: https://www.amazon.com/s?k=data+analysis&page=6&qid=1663453432&ref=sr_pg_6)\n",
      "2022-09-18 00:44:40 [scrapy.core.engine] DEBUG: Crawled (200) <GET https://www.amazon.com/Practical-Data-Analysis-JMP-Third/dp/1642956104/ref=sr_1_288?keywords=data+analysis&qid=1663454667&sr=8-288> (referer: https://www.amazon.com/s?k=data+analysis&page=6&qid=1663453432&ref=sr_pg_6)\n",
      "2022-09-18 00:44:40 [scrapy.core.engine] DEBUG: Crawled (200) <GET https://www.amazon.com/Python-Finance-Mastering-Data-Driven/dp/1492024333/ref=sr_1_287?keywords=data+analysis&qid=1663454667&sr=8-287> (referer: https://www.amazon.com/s?k=data+analysis&page=6&qid=1663453432&ref=sr_pg_6)\n",
      "2022-09-18 00:44:40 [scrapy.core.engine] DEBUG: Crawled (200) <GET https://www.amazon.com/Applied-Spatial-Data-Analysis-Use/dp/1461476178/ref=sr_1_291?keywords=data+analysis&qid=1663454667&sr=8-291> (referer: https://www.amazon.com/s?k=data+analysis&page=6&qid=1663453432&ref=sr_pg_6)\n",
      "2022-09-18 00:44:40 [scrapy.core.engine] DEBUG: Crawled (200) <GET https://www.amazon.com/Data-Mining-Business-Analytics-Applications/dp/1119549841/ref=sr_1_290?keywords=data+analysis&qid=1663454667&sr=8-290> (referer: https://www.amazon.com/s?k=data+analysis&page=6&qid=1663453432&ref=sr_pg_6)\n"
     ]
    },
    {
     "name": "stdout",
     "output_type": "stream",
     "text": [
      "204\n",
      "['\\n            \\n              46%\\n            \\n          '] 3.9 out of 5 stars 6 x 0.66 x 9 inches\n"
     ]
    },
    {
     "name": "stderr",
     "output_type": "stream",
     "text": [
      "2022-09-18 00:44:41 [scrapy.core.engine] DEBUG: Crawled (200) <GET https://www.amazon.com/Effective-Pandas-Patterns-Manipulation-Treading/dp/B09MYXXSFM/ref=sr_1_286?keywords=data+analysis&qid=1663454667&sr=8-286> (referer: https://www.amazon.com/s?k=data+analysis&page=6&qid=1663453432&ref=sr_pg_6)\n"
     ]
    },
    {
     "name": "stdout",
     "output_type": "stream",
     "text": [
      "205\n",
      "['\\n            \\n              63%\\n            \\n          '] 3.5 out of 5 stars 7.5 x 1 x 9.25 inches\n",
      "206\n",
      "['\\n            \\n              76%\\n            \\n          '] 4.6 out of 5 stars 7 x 1.6 x 9.1 inches\n",
      "207\n",
      "['\\n            \\n              65%\\n            \\n          '] 4.5 out of 5 stars 6.1 x 0.96 x 9.25 inches\n"
     ]
    },
    {
     "name": "stderr",
     "output_type": "stream",
     "text": [
      "2022-09-18 00:44:41 [scrapy.core.engine] DEBUG: Crawled (200) <GET https://www.amazon.com/Hands-Exploratory-Data-Analysis-exploratory/dp/178980437X/ref=sr_1_284?keywords=data+analysis&qid=1663454667&sr=8-284> (referer: https://www.amazon.com/s?k=data+analysis&page=6&qid=1663453432&ref=sr_pg_6)\n",
      "2022-09-18 00:44:41 [scrapy.core.engine] DEBUG: Crawled (200) <GET https://www.amazon.com/Data-Collection-Toolkit-Everything-Classroom/dp/159857924X/ref=sr_1_285?keywords=data+analysis&qid=1663454667&sr=8-285> (referer: https://www.amazon.com/s?k=data+analysis&page=6&qid=1663453432&ref=sr_pg_6)\n"
     ]
    },
    {
     "name": "stdout",
     "output_type": "stream",
     "text": [
      "208\n",
      "['\\n            \\n              76%\\n            \\n          '] 4.5 out of 5 stars 7.2 x 1.2 x 10.1 inches\n"
     ]
    },
    {
     "name": "stderr",
     "output_type": "stream",
     "text": [
      "2022-09-18 00:44:42 [scrapy.core.engine] DEBUG: Crawled (200) <GET https://www.amazon.com/Easy-Data-Analysis-Quantitative-explanation-ebook/dp/B08LL3J9V2/ref=sr_1_280?keywords=data+analysis&qid=1663454667&sr=8-280> (referer: https://www.amazon.com/s?k=data+analysis&page=6&qid=1663453432&ref=sr_pg_6)\n"
     ]
    },
    {
     "name": "stdout",
     "output_type": "stream",
     "text": [
      "209\n",
      "['\\n            \\n              85%\\n            \\n          '] 4.7 out of 5 stars 7 x 1.17 x 9 inches\n",
      "210\n",
      "['\\n            \\n              25%\\n            \\n          '] 3.2 out of 5 stars 7.5 x 0.6 x 9.25 inches\n"
     ]
    },
    {
     "name": "stderr",
     "output_type": "stream",
     "text": [
      "2022-09-18 00:44:42 [scrapy.downloadermiddlewares.redirect] DEBUG: Redirecting (302) to <GET https://www.amazon.com/Statistics-Cookbook-performing-statistical-operations/dp/1789802563/ref=sr_1_275_sspa?keywords=data+analysis&qid=1663454667&sr=8-275-spons&psc=1&spLa=ZW5jcnlwdGVkUXVhbGlmaWVyPUExWVBZNllVNE83UU0mZW5jcnlwdGVkSWQ9QTAyODIxMjkxTFJINEkyVTBRQUhHJmVuY3J5cHRlZEFkSWQ9QTA1NzU5MDUzQllYRE5DMFRMQzRSJndpZGdldE5hbWU9c3BfbXRmJmFjdGlvbj1jbGlja1JlZGlyZWN0JmRvTm90TG9nQ2xpY2s9dHJ1ZQ==> from <GET https://www.amazon.com/gp/slredirect/picassoRedirect.html/ref=pa_sp_mtf_aps_sr_pg6_1?ie=UTF8&adId=A05759053BYXDNC0TLC4R&url=%2FStatistics-Cookbook-performing-statistical-operations%2Fdp%2F1789802563%2Fref%3Dsr_1_275_sspa%3Fkeywords%3Ddata%2Banalysis%26qid%3D1663454667%26sr%3D8-275-spons%26psc%3D1&qualifier=1663454667&id=2044351928424363&widgetName=sp_mtf>\n",
      "2022-09-18 00:44:42 [scrapy.core.engine] DEBUG: Crawled (200) <GET https://www.amazon.com/Data-Science-Supply-Chain-Forecasting/dp/3110671107/ref=sr_1_282?keywords=data+analysis&qid=1663454667&sr=8-282> (referer: https://www.amazon.com/s?k=data+analysis&page=6&qid=1663453432&ref=sr_pg_6)\n",
      "2022-09-18 00:44:42 [scrapy.core.engine] DEBUG: Crawled (200) <GET https://www.amazon.com/Self-Taught-Computer-Scientist-Structures-Algorithms-ebook/dp/B09GPSWNYR/ref=sr_1_283?keywords=data+analysis&qid=1663454667&sr=8-283> (referer: https://www.amazon.com/s?k=data+analysis&page=6&qid=1663453432&ref=sr_pg_6)\n",
      "2022-09-18 00:44:42 [scrapy.core.engine] DEBUG: Crawled (200) <GET https://www.amazon.com/Qualitative-Data-Analysis-with-ATLAS-ti/dp/1526458926/ref=sr_1_279?keywords=data+analysis&qid=1663454667&sr=8-279> (referer: https://www.amazon.com/s?k=data+analysis&page=6&qid=1663453432&ref=sr_pg_6)\n",
      "2022-09-18 00:44:42 [scrapy.downloadermiddlewares.redirect] DEBUG: Redirecting (302) to <GET https://www.amazon.com/Effective-Data-Science-Infrastructure-scientists/dp/1617299197/ref=sr_1_276_sspa?keywords=data+analysis&qid=1663454667&sr=8-276-spons&psc=1&spLa=ZW5jcnlwdGVkUXVhbGlmaWVyPUExWVBZNllVNE83UU0mZW5jcnlwdGVkSWQ9QTAyODIxMjkxTFJINEkyVTBRQUhHJmVuY3J5cHRlZEFkSWQ9QTA0MjQzOTIyTTI5VVlSTE9TSkFLJndpZGdldE5hbWU9c3BfbXRmJmFjdGlvbj1jbGlja1JlZGlyZWN0JmRvTm90TG9nQ2xpY2s9dHJ1ZQ==> from <GET https://www.amazon.com/gp/slredirect/picassoRedirect.html/ref=pa_sp_mtf_aps_sr_pg6_1?ie=UTF8&adId=A04243922M29UYRLOSJAK&url=%2FEffective-Data-Science-Infrastructure-scientists%2Fdp%2F1617299197%2Fref%3Dsr_1_276_sspa%3Fkeywords%3Ddata%2Banalysis%26qid%3D1663454667%26sr%3D8-276-spons%26psc%3D1&qualifier=1663454667&id=2044351928424363&widgetName=sp_mtf>\n"
     ]
    },
    {
     "name": "stdout",
     "output_type": "stream",
     "text": [
      "211\n",
      "['\\n            \\n              72%\\n            \\n          '] 4.5 out of 5 stars 8.4 x 0.7 x 10.9 inches\n"
     ]
    },
    {
     "name": "stderr",
     "output_type": "stream",
     "text": [
      "2022-09-18 00:44:42 [scrapy.core.engine] DEBUG: Crawled (200) <GET https://www.amazon.com/Programming-Program-Design-Including-Structures/dp/1337117560/ref=sr_1_281?keywords=data+analysis&qid=1663454667&sr=8-281> (referer: https://www.amazon.com/s?k=data+analysis&page=6&qid=1663453432&ref=sr_pg_6)\n",
      "2022-09-18 00:44:42 [scrapy.downloadermiddlewares.redirect] DEBUG: Redirecting (302) to <GET https://www.amazon.com/Statistics-Machine-Learning-Implement-Statistical/dp/9388511972/ref=sr_1_273_sspa?keywords=data+analysis&qid=1663454667&sr=8-273-spons&psc=1&spLa=ZW5jcnlwdGVkUXVhbGlmaWVyPUExWVBZNllVNE83UU0mZW5jcnlwdGVkSWQ9QTAyODIxMjkxTFJINEkyVTBRQUhHJmVuY3J5cHRlZEFkSWQ9QTA2ODE2NjVUVkxLQ1ZUTFhURTMmd2lkZ2V0TmFtZT1zcF9tdGYmYWN0aW9uPWNsaWNrUmVkaXJlY3QmZG9Ob3RMb2dDbGljaz10cnVl> from <GET https://www.amazon.com/gp/slredirect/picassoRedirect.html/ref=pa_sp_mtf_aps_sr_pg6_1?ie=UTF8&adId=A0681665TVLKCVTLXTE3&url=%2FStatistics-Machine-Learning-Implement-Statistical%2Fdp%2F9388511972%2Fref%3Dsr_1_273_sspa%3Fkeywords%3Ddata%2Banalysis%26qid%3D1663454667%26sr%3D8-273-spons%26psc%3D1&qualifier=1663454667&id=2044351928424363&widgetName=sp_mtf>\n",
      "2022-09-18 00:44:42 [scrapy.downloadermiddlewares.redirect] DEBUG: Redirecting (302) to <GET https://www.amazon.com/Hands-Financial-Modeling-Microsoft-Excel/dp/1789534623/ref=sr_1_274_sspa?keywords=data+analysis&qid=1663454667&sr=8-274-spons&psc=1&spLa=ZW5jcnlwdGVkUXVhbGlmaWVyPUExWVBZNllVNE83UU0mZW5jcnlwdGVkSWQ9QTAyODIxMjkxTFJINEkyVTBRQUhHJmVuY3J5cHRlZEFkSWQ9QTA3NjM1MTRNVzhSS0hGNlM2NUMmd2lkZ2V0TmFtZT1zcF9tdGYmYWN0aW9uPWNsaWNrUmVkaXJlY3QmZG9Ob3RMb2dDbGljaz10cnVl> from <GET https://www.amazon.com/gp/slredirect/picassoRedirect.html/ref=pa_sp_mtf_aps_sr_pg6_1?ie=UTF8&adId=A0763514MW8RKHF6S65C&url=%2FHands-Financial-Modeling-Microsoft-Excel%2Fdp%2F1789534623%2Fref%3Dsr_1_274_sspa%3Fkeywords%3Ddata%2Banalysis%26qid%3D1663454667%26sr%3D8-274-spons%26psc%3D1&qualifier=1663454667&id=2044351928424363&widgetName=sp_mtf>\n"
     ]
    },
    {
     "name": "stdout",
     "output_type": "stream",
     "text": [
      "212\n",
      "[] None None\n",
      "213\n",
      "['\\n            \\n              71%\\n            \\n          '] 4.6 out of 5 stars 6.69 x 0.65 x 9.61 inches\n",
      "214\n",
      "['\\n            \\n              75%\\n            \\n          '] 4.5 out of 5 stars None\n",
      "215\n",
      "['\\n            \\n              81%\\n            \\n          '] 4.7 out of 5 stars 6.69 x 0.78 x 9.53 inches\n"
     ]
    },
    {
     "name": "stderr",
     "output_type": "stream",
     "text": [
      "2022-09-18 00:44:43 [scrapy.core.engine] DEBUG: Crawled (200) <GET https://www.amazon.com/Regression-Analysis-Python-Luca-Massaron/dp/1785286315/ref=sr_1_277?keywords=data+analysis&qid=1663454667&sr=8-277> (referer: https://www.amazon.com/s?k=data+analysis&page=6&qid=1663453432&ref=sr_pg_6)\n"
     ]
    },
    {
     "name": "stdout",
     "output_type": "stream",
     "text": [
      "216\n",
      "['\\n            \\n              72%\\n            \\n          '] 4.4 out of 5 stars 7.75 x 2.5 x 9.25 inches\n",
      "217\n",
      "['\\n            \\n              44%\\n            \\n          '] 4.1 out of 5 stars 7.5 x 0.71 x 9.25 inches\n"
     ]
    },
    {
     "name": "stderr",
     "output_type": "stream",
     "text": [
      "2022-09-18 00:44:44 [scrapy.core.engine] DEBUG: Crawled (200) <GET https://www.amazon.com/Data-Science-Warehousing-Visualization-Regression/dp/B07KWDVPVB/ref=sr_1_272?keywords=data+analysis&qid=1663454667&sr=8-272> (referer: https://www.amazon.com/s?k=data+analysis&page=6&qid=1663453432&ref=sr_pg_6)\n",
      "2022-09-18 00:44:44 [scrapy.core.engine] DEBUG: Crawled (200) <GET https://www.amazon.com/Longitudinal-Analysis-Behavioral-Sciences-Using/dp/1412982685/ref=sr_1_271?keywords=data+analysis&qid=1663454667&sr=8-271> (referer: https://www.amazon.com/s?k=data+analysis&page=6&qid=1663453432&ref=sr_pg_6)\n"
     ]
    },
    {
     "name": "stdout",
     "output_type": "stream",
     "text": [
      "218\n",
      "['\\n            \\n              64%\\n            \\n          '] 4.2 out of 5 stars None\n"
     ]
    },
    {
     "name": "stderr",
     "output_type": "stream",
     "text": [
      "2022-09-18 00:44:45 [scrapy.core.engine] DEBUG: Crawled (200) <GET https://www.amazon.com/Practical-SQL-2nd-Beginners-Storytelling/dp/1718501064/ref=sr_1_270?keywords=data+analysis&qid=1663454667&sr=8-270> (referer: https://www.amazon.com/s?k=data+analysis&page=6&qid=1663453432&ref=sr_pg_6)\n",
      "2022-09-18 00:44:45 [scrapy.core.engine] DEBUG: Crawled (200) <GET https://www.amazon.com/Python-Crash-Course-Data-Analysis/dp/1733042644/ref=sr_1_267?keywords=data+analysis&qid=1663454667&sr=8-267> (referer: https://www.amazon.com/s?k=data+analysis&page=6&qid=1663453432&ref=sr_pg_6)\n",
      "2022-09-18 00:44:45 [scrapy.core.engine] DEBUG: Crawled (200) <GET https://www.amazon.com/Bayesian-Modeling-Computation-Chapman-Statistical/dp/036789436X/ref=sr_1_268?keywords=data+analysis&qid=1663454667&sr=8-268> (referer: https://www.amazon.com/s?k=data+analysis&page=6&qid=1663453432&ref=sr_pg_6)\n"
     ]
    },
    {
     "name": "stdout",
     "output_type": "stream",
     "text": [
      "219\n",
      "['\\n            \\n              70%\\n            \\n          '] 4.4 out of 5 stars 7 x 1.25 x 10 inches\n"
     ]
    },
    {
     "name": "stderr",
     "output_type": "stream",
     "text": [
      "2022-09-18 00:44:45 [scrapy.core.engine] DEBUG: Crawled (200) <GET https://www.amazon.com/Statistics-Cookbook-performing-statistical-operations/dp/1789802563/ref=sr_1_275_sspa?keywords=data+analysis&qid=1663454667&sr=8-275-spons&psc=1&spLa=ZW5jcnlwdGVkUXVhbGlmaWVyPUExWVBZNllVNE83UU0mZW5jcnlwdGVkSWQ9QTAyODIxMjkxTFJINEkyVTBRQUhHJmVuY3J5cHRlZEFkSWQ9QTA1NzU5MDUzQllYRE5DMFRMQzRSJndpZGdldE5hbWU9c3BfbXRmJmFjdGlvbj1jbGlja1JlZGlyZWN0JmRvTm90TG9nQ2xpY2s9dHJ1ZQ==> (referer: https://www.amazon.com/s?k=data+analysis&page=6&qid=1663453432&ref=sr_pg_6)\n"
     ]
    },
    {
     "name": "stdout",
     "output_type": "stream",
     "text": [
      "220\n",
      "['\\n            \\n              85%\\n            \\n          '] 4.7 out of 5 stars 7.08 x 1.09 x 9.32 inches\n",
      "221\n",
      "['\\n            \\n              57%\\n            \\n          '] 4.1 out of 5 stars 6 x 0.4 x 9 inches\n",
      "222\n",
      "['\\n            \\n              70%\\n            \\n          '] 4.2 out of 5 stars 7 x 0.94 x 10 inches\n"
     ]
    },
    {
     "name": "stderr",
     "output_type": "stream",
     "text": [
      "2022-09-18 00:44:45 [scrapy.core.engine] DEBUG: Crawled (200) <GET https://www.amazon.com/Random-Data-Analysis-Measurement-Procedures/dp/0470248777/ref=sr_1_269?keywords=data+analysis&qid=1663454667&sr=8-269> (referer: https://www.amazon.com/s?k=data+analysis&page=6&qid=1663453432&ref=sr_pg_6)\n",
      "2022-09-18 00:44:45 [scrapy.core.engine] DEBUG: Crawled (200) <GET https://www.amazon.com/Data-Envelopment-Analysis-Speak-Themselves/dp/1497591341/ref=sr_1_266?keywords=data+analysis&qid=1663454667&sr=8-266> (referer: https://www.amazon.com/s?k=data+analysis&page=6&qid=1663453432&ref=sr_pg_6)\n",
      "2022-09-18 00:44:45 [scrapy.core.engine] DEBUG: Crawled (200) <GET https://www.amazon.com/Python-ArcGIS-Pro-Automate-cartography/dp/1803241667/ref=sr_1_265?keywords=data+analysis&qid=1663454667&sr=8-265> (referer: https://www.amazon.com/s?k=data+analysis&page=6&qid=1663453432&ref=sr_pg_6)\n"
     ]
    },
    {
     "name": "stdout",
     "output_type": "stream",
     "text": [
      "223\n",
      "['\\n            \\n              64%\\n            \\n          '] 4.6 out of 5 stars 7.5 x 1.01 x 9.25 inches\n",
      "224\n",
      "['\\n            \\n              69%\\n            \\n          '] 4.2 out of 5 stars 6.5 x 1.5 x 9.6 inches\n",
      "225\n",
      "['\\n            \\n              82%\\n            \\n          '] 4.6 out of 5 stars 6.14 x 0.43 x 9.21 inches\n",
      "226\n",
      "['\\n            \\n              84%\\n            \\n          '] 4.7 out of 5 stars 7.5 x 1.32 x 9.25 inches\n"
     ]
    },
    {
     "name": "stderr",
     "output_type": "stream",
     "text": [
      "2022-09-18 00:44:46 [scrapy.core.engine] DEBUG: Crawled (200) <GET https://www.amazon.com/Effective-Data-Science-Infrastructure-scientists/dp/1617299197/ref=sr_1_276_sspa?keywords=data+analysis&qid=1663454667&sr=8-276-spons&psc=1&spLa=ZW5jcnlwdGVkUXVhbGlmaWVyPUExWVBZNllVNE83UU0mZW5jcnlwdGVkSWQ9QTAyODIxMjkxTFJINEkyVTBRQUhHJmVuY3J5cHRlZEFkSWQ9QTA0MjQzOTIyTTI5VVlSTE9TSkFLJndpZGdldE5hbWU9c3BfbXRmJmFjdGlvbj1jbGlja1JlZGlyZWN0JmRvTm90TG9nQ2xpY2s9dHJ1ZQ==> (referer: https://www.amazon.com/s?k=data+analysis&page=6&qid=1663453432&ref=sr_pg_6)\n",
      "2022-09-18 00:44:46 [scrapy.downloadermiddlewares.redirect] DEBUG: Redirecting (302) to <GET https://www.amazon.com/Data-Science-Advanced-Realms-Effectively/dp/B08RTQRC1C/ref=sr_1_260_sspa?keywords=data+analysis&qid=1663454667&sr=8-260-spons&psc=1&spLa=ZW5jcnlwdGVkUXVhbGlmaWVyPUExWVBZNllVNE83UU0mZW5jcnlwdGVkSWQ9QTAyODIxMjkxTFJINEkyVTBRQUhHJmVuY3J5cHRlZEFkSWQ9QTAwNDQ4NjMxTU8xOUZZRThYTDVWJndpZGdldE5hbWU9c3BfbXRmJmFjdGlvbj1jbGlja1JlZGlyZWN0JmRvTm90TG9nQ2xpY2s9dHJ1ZQ==> from <GET https://www.amazon.com/gp/slredirect/picassoRedirect.html/ref=pa_sp_mtf_aps_sr_pg6_1?ie=UTF8&adId=A00448631MO19FYE8XL5V&url=%2FData-Science-Advanced-Realms-Effectively%2Fdp%2FB08RTQRC1C%2Fref%3Dsr_1_260_sspa%3Fkeywords%3Ddata%2Banalysis%26qid%3D1663454667%26sr%3D8-260-spons%26psc%3D1&qualifier=1663454667&id=2044351928424363&widgetName=sp_mtf>\n",
      "2022-09-18 00:44:46 [scrapy.downloadermiddlewares.redirect] DEBUG: Redirecting (302) to <GET https://www.amazon.com/Pandas-Workshop-comprehensive-analysis-real-world/dp/1800208936/ref=sr_1_259_sspa?keywords=data+analysis&qid=1663454667&sr=8-259-spons&psc=1&spLa=ZW5jcnlwdGVkUXVhbGlmaWVyPUExWVBZNllVNE83UU0mZW5jcnlwdGVkSWQ9QTAyODIxMjkxTFJINEkyVTBRQUhHJmVuY3J5cHRlZEFkSWQ9QTA0OTUxMzExNUY2V0Y5SVNMRlFEJndpZGdldE5hbWU9c3BfbXRmJmFjdGlvbj1jbGlja1JlZGlyZWN0JmRvTm90TG9nQ2xpY2s9dHJ1ZQ==> from <GET https://www.amazon.com/gp/slredirect/picassoRedirect.html/ref=pa_sp_mtf_aps_sr_pg6_1?ie=UTF8&adId=A049513115F6WF9ISLFQD&url=%2FPandas-Workshop-comprehensive-analysis-real-world%2Fdp%2F1800208936%2Fref%3Dsr_1_259_sspa%3Fkeywords%3Ddata%2Banalysis%26qid%3D1663454667%26sr%3D8-259-spons%26psc%3D1&qualifier=1663454667&id=2044351928424363&widgetName=sp_mtf>\n",
      "2022-09-18 00:44:46 [scrapy.core.engine] DEBUG: Crawled (200) <GET https://www.amazon.com/Microsoft-Excel-Advanced-Analysis-Business/dp/B07RDMGJX3/ref=sr_1_262?keywords=data+analysis&qid=1663454667&sr=8-262> (referer: https://www.amazon.com/s?k=data+analysis&page=6&qid=1663453432&ref=sr_pg_6)\n",
      "2022-09-18 00:44:46 [scrapy.core.engine] DEBUG: Crawled (200) <GET https://www.amazon.com/Quantitative-Social-Science-Introduction-tidyverse/dp/0691222282/ref=sr_1_263?keywords=data+analysis&qid=1663454667&sr=8-263> (referer: https://www.amazon.com/s?k=data+analysis&page=6&qid=1663453432&ref=sr_pg_6)\n",
      "2022-09-18 00:44:47 [scrapy.downloadermiddlewares.redirect] DEBUG: Redirecting (302) to <GET https://www.amazon.com/Next-Generation-Data-Management-Mission/dp/0578392186/ref=sr_1_258_sspa?keywords=data+analysis&qid=1663454667&sr=8-258-spons&psc=1&spLa=ZW5jcnlwdGVkUXVhbGlmaWVyPUExWVBZNllVNE83UU0mZW5jcnlwdGVkSWQ9QTAyODIxMjkxTFJINEkyVTBRQUhHJmVuY3J5cHRlZEFkSWQ9QTA4MDMxOTgyU0FQM05FS1RSQk0xJndpZGdldE5hbWU9c3BfbXRmJmFjdGlvbj1jbGlja1JlZGlyZWN0JmRvTm90TG9nQ2xpY2s9dHJ1ZQ==> from <GET https://www.amazon.com/gp/slredirect/picassoRedirect.html/ref=pa_sp_mtf_aps_sr_pg6_1?ie=UTF8&adId=A08031982SAP3NEKTRBM1&url=%2FNext-Generation-Data-Management-Mission%2Fdp%2F0578392186%2Fref%3Dsr_1_258_sspa%3Fkeywords%3Ddata%2Banalysis%26qid%3D1663454667%26sr%3D8-258-spons%26psc%3D1&qualifier=1663454667&id=2044351928424363&widgetName=sp_mtf>\n",
      "2022-09-18 00:44:47 [scrapy.downloadermiddlewares.redirect] DEBUG: Redirecting (302) to <GET https://www.amazon.com/Pivot-Tables-Easy-Excel-Essentials/dp/1720561532/ref=sr_1_257_sspa?keywords=data+analysis&qid=1663454667&sr=8-257-spons&psc=1&spLa=ZW5jcnlwdGVkUXVhbGlmaWVyPUExWVBZNllVNE83UU0mZW5jcnlwdGVkSWQ9QTAyODIxMjkxTFJINEkyVTBRQUhHJmVuY3J5cHRlZEFkSWQ9QTA4NTM2NThJOUhLSEtWVUhZQVcmd2lkZ2V0TmFtZT1zcF9tdGYmYWN0aW9uPWNsaWNrUmVkaXJlY3QmZG9Ob3RMb2dDbGljaz10cnVl> from <GET https://www.amazon.com/gp/slredirect/picassoRedirect.html/ref=pa_sp_mtf_aps_sr_pg6_1?ie=UTF8&adId=A0853658I9HKHKVUHYAW&url=%2FPivot-Tables-Easy-Excel-Essentials%2Fdp%2F1720561532%2Fref%3Dsr_1_257_sspa%3Fkeywords%3Ddata%2Banalysis%26qid%3D1663454667%26sr%3D8-257-spons%26psc%3D1&qualifier=1663454667&id=2044351928424363&widgetName=sp_mtf>\n",
      "2022-09-18 00:44:47 [scrapy.core.engine] DEBUG: Crawled (200) <GET https://www.amazon.com/Hands-Financial-Modeling-Microsoft-Excel/dp/1789534623/ref=sr_1_274_sspa?keywords=data+analysis&qid=1663454667&sr=8-274-spons&psc=1&spLa=ZW5jcnlwdGVkUXVhbGlmaWVyPUExWVBZNllVNE83UU0mZW5jcnlwdGVkSWQ9QTAyODIxMjkxTFJINEkyVTBRQUhHJmVuY3J5cHRlZEFkSWQ9QTA3NjM1MTRNVzhSS0hGNlM2NUMmd2lkZ2V0TmFtZT1zcF9tdGYmYWN0aW9uPWNsaWNrUmVkaXJlY3QmZG9Ob3RMb2dDbGljaz10cnVl> (referer: https://www.amazon.com/s?k=data+analysis&page=6&qid=1663453432&ref=sr_pg_6)\n"
     ]
    },
    {
     "name": "stdout",
     "output_type": "stream",
     "text": [
      "227\n",
      "['\\n            \\n              100%\\n            \\n          '] 5.0 out of 5 stars 7.38 x 0.8 x 9.25 inches\n",
      "228\n",
      "['\\n            \\n              24%\\n            \\n          '] 2.8 out of 5 stars None\n"
     ]
    },
    {
     "name": "stderr",
     "output_type": "stream",
     "text": [
      "2022-09-18 00:44:47 [scrapy.core.engine] DEBUG: Crawled (200) <GET https://www.amazon.com/Statistics-Machine-Learning-Implement-Statistical/dp/9388511972/ref=sr_1_273_sspa?keywords=data+analysis&qid=1663454667&sr=8-273-spons&psc=1&spLa=ZW5jcnlwdGVkUXVhbGlmaWVyPUExWVBZNllVNE83UU0mZW5jcnlwdGVkSWQ9QTAyODIxMjkxTFJINEkyVTBRQUhHJmVuY3J5cHRlZEFkSWQ9QTA2ODE2NjVUVkxLQ1ZUTFhURTMmd2lkZ2V0TmFtZT1zcF9tdGYmYWN0aW9uPWNsaWNrUmVkaXJlY3QmZG9Ob3RMb2dDbGljaz10cnVl> (referer: https://www.amazon.com/s?k=data+analysis&page=6&qid=1663453432&ref=sr_pg_6)\n"
     ]
    },
    {
     "name": "stdout",
     "output_type": "stream",
     "text": [
      "229\n",
      "['\\n            \\n              61%\\n            \\n          '] 3.8 out of 5 stars 6.75 x 1 x 9.75 inches\n"
     ]
    },
    {
     "name": "stderr",
     "output_type": "stream",
     "text": [
      "2022-09-18 00:44:47 [scrapy.core.engine] DEBUG: Crawled (200) <GET https://www.amazon.com/Introduction-Data-Science-Prediction-Algorithms/dp/0367357984/ref=sr_1_261?keywords=data+analysis&qid=1663454667&sr=8-261> (referer: https://www.amazon.com/s?k=data+analysis&page=6&qid=1663453432&ref=sr_pg_6)\n"
     ]
    },
    {
     "name": "stdout",
     "output_type": "stream",
     "text": [
      "230\n",
      "['\\n            \\n              60%\\n            \\n          '] 4.2 out of 5 stars 7.5 x 0.66 x 9.25 inches\n",
      "231\n",
      "['\\n            \\n              50%\\n            \\n          '] 4.0 out of 5 stars 7.5 x 0.63 x 9.25 inches\n"
     ]
    },
    {
     "name": "stderr",
     "output_type": "stream",
     "text": [
      "2022-09-18 00:44:48 [scrapy.core.engine] DEBUG: Crawled (200) <GET https://www.amazon.com/Modern-Regression-Analysis-in-Ecology-_Methods-in-Statistical-Ecology_/dp/3030884422/ref=sr_1_256?keywords=data+analysis&qid=1663454667&sr=8-256> (referer: https://www.amazon.com/s?k=data+analysis&page=6&qid=1663453432&ref=sr_pg_6)\n"
     ]
    },
    {
     "name": "stdout",
     "output_type": "stream",
     "text": [
      "232\n",
      "['\\n            \\n              86%\\n            \\n          '] 4.8 out of 5 stars 7 x 1.6 x 10.1 inches\n"
     ]
    },
    {
     "name": "stderr",
     "output_type": "stream",
     "text": [
      "2022-09-18 00:44:48 [scrapy.core.engine] DEBUG: Crawled (200) <GET https://www.amazon.com/Thematic-Analysis-Practical-Virginia-Braun/dp/1473953243/ref=sr_1_254?keywords=data+analysis&qid=1663454667&sr=8-254> (referer: https://www.amazon.com/s?k=data+analysis&page=6&qid=1663453432&ref=sr_pg_6)\n",
      "2022-09-18 00:44:48 [scrapy.core.engine] DEBUG: Crawled (200) <GET https://www.amazon.com/Modes-Thinking-Qualitative-Data-Analysis/dp/1629581798/ref=sr_1_255?keywords=data+analysis&qid=1663454667&sr=8-255> (referer: https://www.amazon.com/s?k=data+analysis&page=6&qid=1663453432&ref=sr_pg_6)\n"
     ]
    },
    {
     "name": "stdout",
     "output_type": "stream",
     "text": [
      "233\n",
      "[] None 6.14 x 1 x 9.21 inches\n"
     ]
    },
    {
     "name": "stderr",
     "output_type": "stream",
     "text": [
      "2022-09-18 00:44:49 [scrapy.core.engine] DEBUG: Crawled (200) <GET https://www.amazon.com/Common-Sense-Guide-Structures-Algorithms-Second/dp/1680507222/ref=sr_1_253?keywords=data+analysis&qid=1663454667&sr=8-253> (referer: https://www.amazon.com/s?k=data+analysis&page=6&qid=1663453432&ref=sr_pg_6)\n",
      "2022-09-18 00:44:49 [scrapy.core.engine] DEBUG: Crawled (200) <GET https://www.amazon.com/Topological-Data-Analysis-Genomics-Evolution/dp/1107159547/ref=sr_1_252?keywords=data+analysis&qid=1663454667&sr=8-252> (referer: https://www.amazon.com/s?k=data+analysis&page=6&qid=1663453432&ref=sr_pg_6)\n"
     ]
    },
    {
     "name": "stdout",
     "output_type": "stream",
     "text": [
      "234\n",
      "['\\n            \\n              90%\\n            \\n          '] 4.9 out of 5 stars 6.69 x 0.78 x 9.61 inches\n"
     ]
    },
    {
     "name": "stderr",
     "output_type": "stream",
     "text": [
      "2022-09-18 00:44:49 [scrapy.core.engine] DEBUG: Crawled (200) <GET https://www.amazon.com/Pandas-Workshop-comprehensive-analysis-real-world/dp/1800208936/ref=sr_1_259_sspa?keywords=data+analysis&qid=1663454667&sr=8-259-spons&psc=1&spLa=ZW5jcnlwdGVkUXVhbGlmaWVyPUExWVBZNllVNE83UU0mZW5jcnlwdGVkSWQ9QTAyODIxMjkxTFJINEkyVTBRQUhHJmVuY3J5cHRlZEFkSWQ9QTA0OTUxMzExNUY2V0Y5SVNMRlFEJndpZGdldE5hbWU9c3BfbXRmJmFjdGlvbj1jbGlja1JlZGlyZWN0JmRvTm90TG9nQ2xpY2s9dHJ1ZQ==> (referer: https://www.amazon.com/s?k=data+analysis&page=6&qid=1663453432&ref=sr_pg_6)\n"
     ]
    },
    {
     "name": "stdout",
     "output_type": "stream",
     "text": [
      "235\n",
      "['\\n            \\n              92%\\n            \\n          '] 4.9 out of 5 stars 6 x 0.35 x 9 inches\n"
     ]
    },
    {
     "name": "stderr",
     "output_type": "stream",
     "text": [
      "2022-09-18 00:44:49 [scrapy.core.engine] DEBUG: Crawled (200) <GET https://www.amazon.com/Data-Science-Advanced-Realms-Effectively/dp/B08RTQRC1C/ref=sr_1_260_sspa?keywords=data+analysis&qid=1663454667&sr=8-260-spons&psc=1&spLa=ZW5jcnlwdGVkUXVhbGlmaWVyPUExWVBZNllVNE83UU0mZW5jcnlwdGVkSWQ9QTAyODIxMjkxTFJINEkyVTBRQUhHJmVuY3J5cHRlZEFkSWQ9QTAwNDQ4NjMxTU8xOUZZRThYTDVWJndpZGdldE5hbWU9c3BfbXRmJmFjdGlvbj1jbGlja1JlZGlyZWN0JmRvTm90TG9nQ2xpY2s9dHJ1ZQ==> (referer: https://www.amazon.com/s?k=data+analysis&page=6&qid=1663453432&ref=sr_pg_6)\n",
      "2022-09-18 00:44:49 [scrapy.core.engine] DEBUG: Crawled (200) <GET https://www.amazon.com/Mathematical-Statistics-Analysis-Available-Enhanced/dp/0534399428/ref=sr_1_251?keywords=data+analysis&qid=1663454667&sr=8-251> (referer: https://www.amazon.com/s?k=data+analysis&page=6&qid=1663453432&ref=sr_pg_6)\n"
     ]
    },
    {
     "name": "stdout",
     "output_type": "stream",
     "text": [
      "236\n",
      "['\\n            \\n              81%\\n            \\n          '] 4.7 out of 5 stars 7.5 x 1.25 x 9.25 inches\n",
      "237\n",
      "['\\n            \\n              75%\\n            \\n          '] 4.5 out of 5 stars 7 x 1.25 x 10 inches\n",
      "238\n",
      "['\\n            \\n              73%\\n            \\n          '] 4.6 out of 5 stars 7.5 x 1.68 x 9.25 inches\n",
      "239\n",
      "[] None 6 x 0.48 x 9 inches\n"
     ]
    },
    {
     "name": "stderr",
     "output_type": "stream",
     "text": [
      "2022-09-18 00:44:50 [scrapy.core.engine] DEBUG: Crawled (200) <GET https://www.amazon.com/Hands-Time-Analysis-forecasting-visualization/dp/1788629159/ref=sr_1_250?keywords=data+analysis&qid=1663454667&sr=8-250> (referer: https://www.amazon.com/s?k=data+analysis&page=6&qid=1663453432&ref=sr_pg_6)\n",
      "2022-09-18 00:44:50 [scrapy.core.engine] DEBUG: Crawled (200) <GET https://www.amazon.com/Exploratory-Analysis-MATLAB-Wendy-Martinez/dp/1032179058/ref=sr_1_248?keywords=data+analysis&qid=1663454667&sr=8-248> (referer: https://www.amazon.com/s?k=data+analysis&page=6&qid=1663453432&ref=sr_pg_6)\n",
      "2022-09-18 00:44:50 [scrapy.core.engine] DEBUG: Crawled (200) <GET https://www.amazon.com/Performing-Data-Analysis-Using-SPSS/dp/1118357019/ref=sr_1_249?keywords=data+analysis&qid=1663454667&sr=8-249> (referer: https://www.amazon.com/s?k=data+analysis&page=6&qid=1663453432&ref=sr_pg_6)\n"
     ]
    },
    {
     "name": "stdout",
     "output_type": "stream",
     "text": [
      "240\n",
      "['\\n            \\n              58%\\n            \\n          '] 3.8 out of 5 stars 7.56 x 1.32 x 9.36 inches\n"
     ]
    },
    {
     "name": "stderr",
     "output_type": "stream",
     "text": [
      "2022-09-18 00:44:50 [scrapy.downloadermiddlewares.redirect] DEBUG: Redirecting (302) to <GET https://www.amazon.com/Python-Manuscripts-Programming-Beginners-Intermediates/dp/1980953902/ref=sr_1_242_sspa?keywords=data+analysis&qid=1663454667&sr=8-242-spons&psc=1&spLa=ZW5jcnlwdGVkUXVhbGlmaWVyPUExWVBZNllVNE83UU0mZW5jcnlwdGVkSWQ9QTAyODIxMjkxTFJINEkyVTBRQUhHJmVuY3J5cHRlZEFkSWQ9QTA3MDM4MDAyU05YRlpJWERKTkZJJndpZGdldE5hbWU9c3BfYXRmX25leHQmYWN0aW9uPWNsaWNrUmVkaXJlY3QmZG9Ob3RMb2dDbGljaz10cnVl> from <GET https://www.amazon.com/gp/slredirect/picassoRedirect.html/ref=pa_sp_atf_next_aps_sr_pg6_1?ie=UTF8&adId=A07038002SNXFZIXDJNFI&url=%2FPython-Manuscripts-Programming-Beginners-Intermediates%2Fdp%2F1980953902%2Fref%3Dsr_1_242_sspa%3Fkeywords%3Ddata%2Banalysis%26qid%3D1663454667%26sr%3D8-242-spons%26psc%3D1&qualifier=1663454667&id=2044351928424363&widgetName=sp_atf_next>\n",
      "2022-09-18 00:44:50 [scrapy.downloadermiddlewares.redirect] DEBUG: Redirecting (302) to <GET https://www.amazon.com/Python-programming-Beginners-Programming-Languages/dp/B09RLRHNGS/ref=sr_1_244_sspa?keywords=data+analysis&qid=1663454667&sr=8-244-spons&psc=1&spLa=ZW5jcnlwdGVkUXVhbGlmaWVyPUExWVBZNllVNE83UU0mZW5jcnlwdGVkSWQ9QTAyODIxMjkxTFJINEkyVTBRQUhHJmVuY3J5cHRlZEFkSWQ9QTAwMzc0ODY0SE42VjFXRlk2Q1Qmd2lkZ2V0TmFtZT1zcF9hdGZfbmV4dCZhY3Rpb249Y2xpY2tSZWRpcmVjdCZkb05vdExvZ0NsaWNrPXRydWU=> from <GET https://www.amazon.com/gp/slredirect/picassoRedirect.html/ref=pa_sp_atf_next_aps_sr_pg6_1?ie=UTF8&adId=A00374864HN6V1WFY6CT&url=%2FPython-programming-Beginners-Programming-Languages%2Fdp%2FB09RLRHNGS%2Fref%3Dsr_1_244_sspa%3Fkeywords%3Ddata%2Banalysis%26qid%3D1663454667%26sr%3D8-244-spons%26psc%3D1&qualifier=1663454667&id=2044351928424363&widgetName=sp_atf_next>\n",
      "2022-09-18 00:44:50 [scrapy.downloadermiddlewares.redirect] DEBUG: Redirecting (302) to <GET https://www.amazon.com/Mastering-Vim-software-development-environment/dp/1789341094/ref=sr_1_243_sspa?keywords=data+analysis&qid=1663454667&sr=8-243-spons&psc=1&spLa=ZW5jcnlwdGVkUXVhbGlmaWVyPUExWVBZNllVNE83UU0mZW5jcnlwdGVkSWQ9QTAyODIxMjkxTFJINEkyVTBRQUhHJmVuY3J5cHRlZEFkSWQ9QTA5MTc1MTEyTUM4QlQxWTc1VzlMJndpZGdldE5hbWU9c3BfYXRmX25leHQmYWN0aW9uPWNsaWNrUmVkaXJlY3QmZG9Ob3RMb2dDbGljaz10cnVl> from <GET https://www.amazon.com/gp/slredirect/picassoRedirect.html/ref=pa_sp_atf_next_aps_sr_pg6_1?ie=UTF8&adId=A09175112MC8BT1Y75W9L&url=%2FMastering-Vim-software-development-environment%2Fdp%2F1789341094%2Fref%3Dsr_1_243_sspa%3Fkeywords%3Ddata%2Banalysis%26qid%3D1663454667%26sr%3D8-243-spons%26psc%3D1&qualifier=1663454667&id=2044351928424363&widgetName=sp_atf_next>\n"
     ]
    },
    {
     "name": "stdout",
     "output_type": "stream",
     "text": [
      "241\n",
      "['\\n            \\n              66%\\n            \\n          '] 4.4 out of 5 stars 7.5 x 1.01 x 9.25 inches\n",
      "242\n",
      "['\\n            \\n              34%\\n            \\n          '] 4.0 out of 5 stars None\n"
     ]
    },
    {
     "name": "stderr",
     "output_type": "stream",
     "text": [
      "2022-09-18 00:44:51 [scrapy.core.engine] DEBUG: Crawled (200) <GET https://www.amazon.com/Next-Generation-Data-Management-Mission/dp/0578392186/ref=sr_1_258_sspa?keywords=data+analysis&qid=1663454667&sr=8-258-spons&psc=1&spLa=ZW5jcnlwdGVkUXVhbGlmaWVyPUExWVBZNllVNE83UU0mZW5jcnlwdGVkSWQ9QTAyODIxMjkxTFJINEkyVTBRQUhHJmVuY3J5cHRlZEFkSWQ9QTA4MDMxOTgyU0FQM05FS1RSQk0xJndpZGdldE5hbWU9c3BfbXRmJmFjdGlvbj1jbGlja1JlZGlyZWN0JmRvTm90TG9nQ2xpY2s9dHJ1ZQ==> (referer: https://www.amazon.com/s?k=data+analysis&page=6&qid=1663453432&ref=sr_pg_6)\n",
      "2022-09-18 00:44:51 [scrapy.downloadermiddlewares.redirect] DEBUG: Redirecting (302) to <GET https://www.amazon.com/Hands-Network-Forensics-Investigate-evidences/dp/1789344522/ref=sr_1_241_sspa?keywords=data+analysis&qid=1663454667&sr=8-241-spons&psc=1&spLa=ZW5jcnlwdGVkUXVhbGlmaWVyPUExWVBZNllVNE83UU0mZW5jcnlwdGVkSWQ9QTAyODIxMjkxTFJINEkyVTBRQUhHJmVuY3J5cHRlZEFkSWQ9QTA1NDI3NzBINllLWUhJRFpETlAmd2lkZ2V0TmFtZT1zcF9hdGZfbmV4dCZhY3Rpb249Y2xpY2tSZWRpcmVjdCZkb05vdExvZ0NsaWNrPXRydWU=> from <GET https://www.amazon.com/gp/slredirect/picassoRedirect.html/ref=pa_sp_atf_next_aps_sr_pg6_1?ie=UTF8&adId=A0542770H6YKYHIDZDNP&url=%2FHands-Network-Forensics-Investigate-evidences%2Fdp%2F1789344522%2Fref%3Dsr_1_241_sspa%3Fkeywords%3Ddata%2Banalysis%26qid%3D1663454667%26sr%3D8-241-spons%26psc%3D1&qualifier=1663454667&id=2044351928424363&widgetName=sp_atf_next>\n",
      "2022-09-18 00:44:51 [scrapy.core.engine] DEBUG: Crawled (200) <GET https://www.amazon.com/Pivot-Tables-Easy-Excel-Essentials/dp/1720561532/ref=sr_1_257_sspa?keywords=data+analysis&qid=1663454667&sr=8-257-spons&psc=1&spLa=ZW5jcnlwdGVkUXVhbGlmaWVyPUExWVBZNllVNE83UU0mZW5jcnlwdGVkSWQ9QTAyODIxMjkxTFJINEkyVTBRQUhHJmVuY3J5cHRlZEFkSWQ9QTA4NTM2NThJOUhLSEtWVUhZQVcmd2lkZ2V0TmFtZT1zcF9tdGYmYWN0aW9uPWNsaWNrUmVkaXJlY3QmZG9Ob3RMb2dDbGljaz10cnVl> (referer: https://www.amazon.com/s?k=data+analysis&page=6&qid=1663453432&ref=sr_pg_6)\n"
     ]
    },
    {
     "name": "stdout",
     "output_type": "stream",
     "text": [
      "243\n",
      "['\\n            \\n              73%\\n            \\n          '] 4.5 out of 5 stars 8.6 x 1.54 x 11.05 inches\n"
     ]
    },
    {
     "name": "stderr",
     "output_type": "stream",
     "text": [
      "2022-09-18 00:44:51 [scrapy.core.engine] DEBUG: Crawled (200) <GET https://www.amazon.com/Solutions-Longneckers-Introduction-Statistical-Analysis/dp/1305269489/ref=sr_1_245?keywords=data+analysis&qid=1663454667&sr=8-245> (referer: https://www.amazon.com/s?k=data+analysis&page=6&qid=1663453432&ref=sr_pg_6)\n"
     ]
    },
    {
     "name": "stdout",
     "output_type": "stream",
     "text": [
      "244\n",
      "[] None 6 x 0.76 x 9 inches\n"
     ]
    },
    {
     "name": "stderr",
     "output_type": "stream",
     "text": [
      "2022-09-18 00:44:52 [scrapy.core.engine] DEBUG: Crawled (200) <GET https://www.amazon.com/Introduction-Categorical-Analysis-Probability-Statistics/dp/1119405262/ref=sr_1_246?keywords=data+analysis&qid=1663454667&sr=8-246> (referer: https://www.amazon.com/s?k=data+analysis&page=6&qid=1663453432&ref=sr_pg_6)\n",
      "2022-09-18 00:44:52 [scrapy.core.engine] DEBUG: Crawled (200) <GET https://www.amazon.com/Applied-Longitudinal-Data-Analysis-Occurrence/dp/0195152964/ref=sr_1_247?keywords=data+analysis&qid=1663454667&sr=8-247> (referer: https://www.amazon.com/s?k=data+analysis&page=6&qid=1663453432&ref=sr_pg_6)\n"
     ]
    },
    {
     "name": "stdout",
     "output_type": "stream",
     "text": [
      "245\n",
      "['\\n            \\n              43%\\n            \\n          '] 3.9 out of 5 stars 5 x 0.08 x 8 inches\n",
      "246\n",
      "['\\n            \\n              62%\\n            \\n          '] 3.5 out of 5 stars 8.4 x 0.6 x 10.7 inches\n",
      "247\n",
      "['\\n            \\n              68%\\n            \\n          '] 4.5 out of 5 stars 7.2 x 1.1 x 10.1 inches\n",
      "248\n",
      "['\\n            \\n              78%\\n            \\n          '] 4.5 out of 5 stars 9.54 x 6.46 x 1.41 inches\n"
     ]
    },
    {
     "name": "stderr",
     "output_type": "stream",
     "text": [
      "2022-09-18 00:44:53 [scrapy.core.engine] DEBUG: Crawled (200) <GET https://www.amazon.com/Analysis-Sports-Science-Gabriel-Sanders/dp/1718077580/ref=sr_1_216?keywords=data+analysis&qid=1663454656&sr=8-216> (referer: https://www.amazon.com/s?k=data+analysis&page=5&qid=1663453432&ref=sr_pg_5)\n",
      "2022-09-18 00:44:53 [scrapy.core.engine] DEBUG: Crawled (200) <GET https://www.amazon.com/Text-Data-Management-Analysis-Introduction/dp/197000116X/ref=sr_1_217?keywords=data+analysis&qid=1663454656&sr=8-217> (referer: https://www.amazon.com/s?k=data+analysis&page=5&qid=1663453432&ref=sr_pg_5)\n",
      "2022-09-18 00:44:53 [scrapy.core.engine] DEBUG: Crawled (200) <GET https://www.amazon.com/Applied-Analysis-Chapman-Statistics-Behavioral/dp/036773611X/ref=sr_1_218?keywords=data+analysis&qid=1663454656&sr=8-218> (referer: https://www.amazon.com/s?k=data+analysis&page=5&qid=1663453432&ref=sr_pg_5)\n"
     ]
    },
    {
     "name": "stdout",
     "output_type": "stream",
     "text": [
      "249\n",
      "['\\n            \\n              68%\\n            \\n          '] 4.7 out of 5 stars 6 x 0.31 x 9 inches\n",
      "250\n",
      "['\\n            \\n              67%\\n            \\n          '] 4.3 out of 5 stars 7.5 x 1.07 x 9.25 inches\n"
     ]
    },
    {
     "name": "stderr",
     "output_type": "stream",
     "text": [
      "2022-09-18 00:44:53 [scrapy.core.engine] DEBUG: Crawled (200) <GET https://www.amazon.com/Qualitative-Data-Analysis-Methods-Sourcebook/dp/1452257876/ref=sr_1_221?keywords=data+analysis&qid=1663454656&sr=8-221> (referer: https://www.amazon.com/s?k=data+analysis&page=5&qid=1663453432&ref=sr_pg_5)\n",
      "2022-09-18 00:44:53 [scrapy.core.engine] DEBUG: Crawled (200) <GET https://www.amazon.com/Fundamentals-Data-Visualization-Informative-Compelling/dp/1492031089/ref=sr_1_215?keywords=data+analysis&qid=1663454656&sr=8-215> (referer: https://www.amazon.com/s?k=data+analysis&page=5&qid=1663453432&ref=sr_pg_5)\n",
      "2022-09-18 00:44:54 [scrapy.core.engine] DEBUG: Crawled (200) <GET https://www.amazon.com/Numerical-Methods-Using-Java-Engineering/dp/1484267966/ref=sr_1_220?keywords=data+analysis&qid=1663454656&sr=8-220> (referer: https://www.amazon.com/s?k=data+analysis&page=5&qid=1663453432&ref=sr_pg_5)\n"
     ]
    },
    {
     "name": "stdout",
     "output_type": "stream",
     "text": [
      "251\n",
      "['\\n            \\n              87%\\n            \\n          '] 4.8 out of 5 stars 6.14 x 1.34 x 9.21 inches\n"
     ]
    },
    {
     "name": "stderr",
     "output_type": "stream",
     "text": [
      "2022-09-18 00:44:54 [scrapy.core.engine] DEBUG: Crawled (200) <GET https://www.amazon.com/Data-Analysis-Microsoft-Power-BI/dp/126045861X/ref=sr_1_214?keywords=data+analysis&qid=1663454656&sr=8-214> (referer: https://www.amazon.com/s?k=data+analysis&page=5&qid=1663453432&ref=sr_pg_5)\n",
      "2022-09-18 00:44:54 [scrapy.core.engine] DEBUG: Crawled (200) <GET https://www.amazon.com/Python-Manuscripts-Programming-Beginners-Intermediates/dp/1980953902/ref=sr_1_242_sspa?keywords=data+analysis&qid=1663454667&sr=8-242-spons&psc=1&spLa=ZW5jcnlwdGVkUXVhbGlmaWVyPUExWVBZNllVNE83UU0mZW5jcnlwdGVkSWQ9QTAyODIxMjkxTFJINEkyVTBRQUhHJmVuY3J5cHRlZEFkSWQ9QTA3MDM4MDAyU05YRlpJWERKTkZJJndpZGdldE5hbWU9c3BfYXRmX25leHQmYWN0aW9uPWNsaWNrUmVkaXJlY3QmZG9Ob3RMb2dDbGljaz10cnVl> (referer: https://www.amazon.com/s?k=data+analysis&page=6&qid=1663453432&ref=sr_pg_6)\n",
      "2022-09-18 00:44:54 [scrapy.downloadermiddlewares.redirect] DEBUG: Redirecting (302) to <GET https://www.amazon.com/DATA-ANALYTICS-Effective-Analytics-Effectively/dp/B08GLWB38K/ref=sr_1_212_sspa?keywords=data+analysis&qid=1663454656&sr=8-212-spons&psc=1&spLa=ZW5jcnlwdGVkUXVhbGlmaWVyPUEyTTMxOTVKTzFLQVc4JmVuY3J5cHRlZElkPUEwMjM4Mzg1M08wRUFENEtGQ1FINiZlbmNyeXB0ZWRBZElkPUEwMTI4MzgyMU9VTVFNQVJZVjlNWiZ3aWRnZXROYW1lPXNwX210ZiZhY3Rpb249Y2xpY2tSZWRpcmVjdCZkb05vdExvZ0NsaWNrPXRydWU=> from <GET https://www.amazon.com/gp/slredirect/picassoRedirect.html/ref=pa_sp_mtf_aps_sr_pg5_1?ie=UTF8&adId=A01283821OUMQMARYV9MZ&url=%2FDATA-ANALYTICS-Effective-Analytics-Effectively%2Fdp%2FB08GLWB38K%2Fref%3Dsr_1_212_sspa%3Fkeywords%3Ddata%2Banalysis%26qid%3D1663454656%26sr%3D8-212-spons%26psc%3D1&qualifier=1663454656&id=8998586767692949&widgetName=sp_mtf>\n"
     ]
    },
    {
     "name": "stdout",
     "output_type": "stream",
     "text": [
      "252\n",
      "['\\n            \\n              71%\\n            \\n          '] 4.5 out of 5 stars 8.5 x 0.75 x 11 inches\n"
     ]
    },
    {
     "name": "stderr",
     "output_type": "stream",
     "text": [
      "2022-09-18 00:44:54 [scrapy.downloadermiddlewares.redirect] DEBUG: Redirecting (302) to <GET https://www.amazon.com/Data-Modeling-Azure-Services-professional/dp/1801077347/ref=sr_1_210_sspa?keywords=data+analysis&qid=1663454656&sr=8-210-spons&psc=1&spLa=ZW5jcnlwdGVkUXVhbGlmaWVyPUEyTTMxOTVKTzFLQVc4JmVuY3J5cHRlZElkPUEwMjM4Mzg1M08wRUFENEtGQ1FINiZlbmNyeXB0ZWRBZElkPUEwMDkzOTU3MVQwTjJQSlZZSlFTMCZ3aWRnZXROYW1lPXNwX210ZiZhY3Rpb249Y2xpY2tSZWRpcmVjdCZkb05vdExvZ0NsaWNrPXRydWU=> from <GET https://www.amazon.com/gp/slredirect/picassoRedirect.html/ref=pa_sp_mtf_aps_sr_pg5_1?ie=UTF8&adId=A00939571T0N2PJVYJQS0&url=%2FData-Modeling-Azure-Services-professional%2Fdp%2F1801077347%2Fref%3Dsr_1_210_sspa%3Fkeywords%3Ddata%2Banalysis%26qid%3D1663454656%26sr%3D8-210-spons%26psc%3D1&qualifier=1663454656&id=8998586767692949&widgetName=sp_mtf>\n",
      "2022-09-18 00:44:54 [scrapy.downloadermiddlewares.redirect] DEBUG: Redirecting (302) to <GET https://www.amazon.com/Foundational-Python-Science-Addison-Wesley-Analytics/dp/0136624359/ref=sr_1_211_sspa?keywords=data+analysis&qid=1663454656&sr=8-211-spons&psc=1&spLa=ZW5jcnlwdGVkUXVhbGlmaWVyPUEyTTMxOTVKTzFLQVc4JmVuY3J5cHRlZElkPUEwMjM4Mzg1M08wRUFENEtGQ1FINiZlbmNyeXB0ZWRBZElkPUEwMTIzNDY5MjkzS09HWFJVMFdEWSZ3aWRnZXROYW1lPXNwX210ZiZhY3Rpb249Y2xpY2tSZWRpcmVjdCZkb05vdExvZ0NsaWNrPXRydWU=> from <GET https://www.amazon.com/gp/slredirect/picassoRedirect.html/ref=pa_sp_mtf_aps_sr_pg5_1?ie=UTF8&adId=A0123469293KOGXRU0WDY&url=%2FFoundational-Python-Science-Addison-Wesley-Analytics%2Fdp%2F0136624359%2Fref%3Dsr_1_211_sspa%3Fkeywords%3Ddata%2Banalysis%26qid%3D1663454656%26sr%3D8-211-spons%26psc%3D1&qualifier=1663454656&id=8998586767692949&widgetName=sp_mtf>\n"
     ]
    },
    {
     "name": "stdout",
     "output_type": "stream",
     "text": [
      "253\n",
      "['\\n            \\n              78%\\n            \\n          '] 4.6 out of 5 stars 7 x 0.7 x 9.1 inches\n",
      "254\n",
      "['\\n            \\n              100%\\n            \\n          '] 5.0 out of 5 stars 6.9 x 1.7 x 10.1 inches\n"
     ]
    },
    {
     "name": "stderr",
     "output_type": "stream",
     "text": [
      "2022-09-18 00:44:54 [scrapy.core.engine] DEBUG: Crawled (200) <GET https://www.amazon.com/Mastering-Vim-software-development-environment/dp/1789341094/ref=sr_1_243_sspa?keywords=data+analysis&qid=1663454667&sr=8-243-spons&psc=1&spLa=ZW5jcnlwdGVkUXVhbGlmaWVyPUExWVBZNllVNE83UU0mZW5jcnlwdGVkSWQ9QTAyODIxMjkxTFJINEkyVTBRQUhHJmVuY3J5cHRlZEFkSWQ9QTA5MTc1MTEyTUM4QlQxWTc1VzlMJndpZGdldE5hbWU9c3BfYXRmX25leHQmYWN0aW9uPWNsaWNrUmVkaXJlY3QmZG9Ob3RMb2dDbGljaz10cnVl> (referer: https://www.amazon.com/s?k=data+analysis&page=6&qid=1663453432&ref=sr_pg_6)\n"
     ]
    },
    {
     "name": "stdout",
     "output_type": "stream",
     "text": [
      "255\n",
      "['\\n            \\n              47%\\n            \\n          '] 3.8 out of 5 stars 7.2 x 1.3 x 9.1 inches\n"
     ]
    },
    {
     "name": "stderr",
     "output_type": "stream",
     "text": [
      "2022-09-18 00:44:55 [scrapy.core.engine] DEBUG: Crawled (200) <GET https://www.amazon.com/Hands-Network-Forensics-Investigate-evidences/dp/1789344522/ref=sr_1_241_sspa?keywords=data+analysis&qid=1663454667&sr=8-241-spons&psc=1&spLa=ZW5jcnlwdGVkUXVhbGlmaWVyPUExWVBZNllVNE83UU0mZW5jcnlwdGVkSWQ9QTAyODIxMjkxTFJINEkyVTBRQUhHJmVuY3J5cHRlZEFkSWQ9QTA1NDI3NzBINllLWUhJRFpETlAmd2lkZ2V0TmFtZT1zcF9hdGZfbmV4dCZhY3Rpb249Y2xpY2tSZWRpcmVjdCZkb05vdExvZ0NsaWNrPXRydWU=> (referer: https://www.amazon.com/s?k=data+analysis&page=6&qid=1663453432&ref=sr_pg_6)\n",
      "2022-09-18 00:44:55 [scrapy.core.engine] DEBUG: Crawled (200) <GET https://www.amazon.com/Python-programming-Beginners-Programming-Languages/dp/B09RLRHNGS/ref=sr_1_244_sspa?keywords=data+analysis&qid=1663454667&sr=8-244-spons&psc=1&spLa=ZW5jcnlwdGVkUXVhbGlmaWVyPUExWVBZNllVNE83UU0mZW5jcnlwdGVkSWQ9QTAyODIxMjkxTFJINEkyVTBRQUhHJmVuY3J5cHRlZEFkSWQ9QTAwMzc0ODY0SE42VjFXRlk2Q1Qmd2lkZ2V0TmFtZT1zcF9hdGZfbmV4dCZhY3Rpb249Y2xpY2tSZWRpcmVjdCZkb05vdExvZ0NsaWNrPXRydWU=> (referer: https://www.amazon.com/s?k=data+analysis&page=6&qid=1663453432&ref=sr_pg_6)\n",
      "2022-09-18 00:44:55 [scrapy.downloadermiddlewares.redirect] DEBUG: Redirecting (302) to <GET https://www.amazon.com/Artificial-Intelligence-Power-leveraging-capabilities/dp/1801814635/ref=sr_1_209_sspa?keywords=data+analysis&qid=1663454656&sr=8-209-spons&psc=1&spLa=ZW5jcnlwdGVkUXVhbGlmaWVyPUEyTTMxOTVKTzFLQVc4JmVuY3J5cHRlZElkPUEwMjM4Mzg1M08wRUFENEtGQ1FINiZlbmNyeXB0ZWRBZElkPUEwOTI1NDcyMVFNOTM0TTA0WjlPUiZ3aWRnZXROYW1lPXNwX210ZiZhY3Rpb249Y2xpY2tSZWRpcmVjdCZkb05vdExvZ0NsaWNrPXRydWU=> from <GET https://www.amazon.com/gp/slredirect/picassoRedirect.html/ref=pa_sp_mtf_aps_sr_pg5_1?ie=UTF8&adId=A09254721QM934M04Z9OR&url=%2FArtificial-Intelligence-Power-leveraging-capabilities%2Fdp%2F1801814635%2Fref%3Dsr_1_209_sspa%3Fkeywords%3Ddata%2Banalysis%26qid%3D1663454656%26sr%3D8-209-spons%26psc%3D1&qualifier=1663454656&id=8998586767692949&widgetName=sp_mtf>\n"
     ]
    },
    {
     "name": "stdout",
     "output_type": "stream",
     "text": [
      "256\n",
      "['\\n            \\n              64%\\n            \\n          '] 4.3 out of 5 stars 6 x 0.85 x 9 inches\n",
      "257\n",
      "['\\n            \\n              85%\\n            \\n          '] 4.8 out of 5 stars 7.5 x 0.75 x 9.25 inches\n",
      "258\n",
      "['\\n            \\n              58%\\n            \\n          '] 4.4 out of 5 stars 7.5 x 0.81 x 9.25 inches\n"
     ]
    },
    {
     "name": "stderr",
     "output_type": "stream",
     "text": [
      "2022-09-18 00:44:56 [scrapy.core.engine] DEBUG: Crawled (200) <GET https://www.amazon.com/Pandas-Everyone-Analysis-Addison-Wesley-Analytics/dp/0134546938/ref=sr_1_213?keywords=data+analysis&qid=1663454656&sr=8-213> (referer: https://www.amazon.com/s?k=data+analysis&page=5&qid=1663453432&ref=sr_pg_5)\n"
     ]
    },
    {
     "name": "stdout",
     "output_type": "stream",
     "text": [
      "259\n",
      "['\\n            \\n              82%\\n            \\n          '] 4.7 out of 5 stars 6 x 1.07 x 9 inches\n"
     ]
    },
    {
     "name": "stderr",
     "output_type": "stream",
     "text": [
      "2022-09-18 00:44:56 [scrapy.core.engine] DEBUG: Crawled (200) <GET https://www.amazon.com/Statistical-Survival-Analysis-Probability-Statistics-ebook/dp/B00FF644L0/ref=sr_1_207?keywords=data+analysis&qid=1663454656&sr=8-207> (referer: https://www.amazon.com/s?k=data+analysis&page=5&qid=1663453432&ref=sr_pg_5)\n",
      "2022-09-18 00:44:56 [scrapy.core.engine] DEBUG: Crawled (200) <GET https://www.amazon.com/Real-World-Health-Care-Analysis/dp/1642957984/ref=sr_1_206?keywords=data+analysis&qid=1663454656&sr=8-206> (referer: https://www.amazon.com/s?k=data+analysis&page=5&qid=1663453432&ref=sr_pg_5)\n",
      "2022-09-18 00:44:56 [scrapy.core.engine] DEBUG: Crawled (200) <GET https://www.amazon.com/Python-programming-Beginners-Programming-Languages/dp/B09RLRHNGS/ref=sr_1_205?keywords=data+analysis&qid=1663454656&sr=8-205> (referer: https://www.amazon.com/s?k=data+analysis&page=5&qid=1663453432&ref=sr_pg_5)\n"
     ]
    },
    {
     "name": "stdout",
     "output_type": "stream",
     "text": [
      "260\n",
      "['\\n            \\n              71%\\n            \\n          '] 4.5 out of 5 stars 7 x 1 x 8.9 inches\n"
     ]
    },
    {
     "name": "stderr",
     "output_type": "stream",
     "text": [
      "2022-09-18 00:44:56 [scrapy.core.engine] DEBUG: Crawled (200) <GET https://www.amazon.com/Introduction-Functional-Analysis-Chapman-Statistical/dp/1032096594/ref=sr_1_208?keywords=data+analysis&qid=1663454656&sr=8-208> (referer: https://www.amazon.com/s?k=data+analysis&page=5&qid=1663453432&ref=sr_pg_5)\n"
     ]
    },
    {
     "name": "stdout",
     "output_type": "stream",
     "text": [
      "261\n",
      "['\\n            \\n              76%\\n            \\n          '] 4.0 out of 5 stars None\n",
      "262\n",
      "['\\n            \\n              59%\\n            \\n          '] 4.2 out of 5 stars 8.25 x 0.99 x 11 inches\n"
     ]
    },
    {
     "name": "stderr",
     "output_type": "stream",
     "text": [
      "2022-09-18 00:44:57 [scrapy.core.engine] DEBUG: Crawled (200) <GET https://www.amazon.com/Easy-Data-Analysis-Classification-explanation-ebook/dp/B08WBYFWTN/ref=sr_1_203?keywords=data+analysis&qid=1663454656&sr=8-203> (referer: https://www.amazon.com/s?k=data+analysis&page=5&qid=1663453432&ref=sr_pg_5)\n"
     ]
    },
    {
     "name": "stdout",
     "output_type": "stream",
     "text": [
      "263\n",
      "['\\n            \\n              82%\\n            \\n          '] 4.7 out of 5 stars 6 x 1.07 x 9 inches\n",
      "264\n",
      "['\\n            \\n              43%\\n            \\n          '] 3.8 out of 5 stars 6.25 x 0.5 x 9.25 inches\n"
     ]
    },
    {
     "name": "stderr",
     "output_type": "stream",
     "text": [
      "2022-09-18 00:44:57 [scrapy.core.engine] DEBUG: Crawled (200) <GET https://www.amazon.com/Adjustment-Computations-Spatial-Data-Analysis/dp/1119385989/ref=sr_1_202?keywords=data+analysis&qid=1663454656&sr=8-202> (referer: https://www.amazon.com/s?k=data+analysis&page=5&qid=1663453432&ref=sr_pg_5)\n",
      "2022-09-18 00:44:57 [scrapy.core.engine] DEBUG: Crawled (200) <GET https://www.amazon.com/Foundational-Python-Science-Addison-Wesley-Analytics/dp/0136624359/ref=sr_1_211_sspa?keywords=data+analysis&qid=1663454656&sr=8-211-spons&psc=1&spLa=ZW5jcnlwdGVkUXVhbGlmaWVyPUEyTTMxOTVKTzFLQVc4JmVuY3J5cHRlZElkPUEwMjM4Mzg1M08wRUFENEtGQ1FINiZlbmNyeXB0ZWRBZElkPUEwMTIzNDY5MjkzS09HWFJVMFdEWSZ3aWRnZXROYW1lPXNwX210ZiZhY3Rpb249Y2xpY2tSZWRpcmVjdCZkb05vdExvZ0NsaWNrPXRydWU=> (referer: https://www.amazon.com/s?k=data+analysis&page=5&qid=1663453432&ref=sr_pg_5)\n"
     ]
    },
    {
     "name": "stdout",
     "output_type": "stream",
     "text": [
      "265\n",
      "[] None None\n",
      "266\n",
      "['\\n            \\n              66%\\n            \\n          '] 4.5 out of 5 stars 6.3 x 1.8 x 9 inches\n"
     ]
    },
    {
     "name": "stderr",
     "output_type": "stream",
     "text": [
      "2022-09-18 00:44:58 [scrapy.core.engine] DEBUG: Crawled (200) <GET https://www.amazon.com/Introduction-Machine-Learning-Rigorous-Mathematical/dp/1491976446/ref=sr_1_200?keywords=data+analysis&qid=1663454656&sr=8-200> (referer: https://www.amazon.com/s?k=data+analysis&page=5&qid=1663453432&ref=sr_pg_5)\n",
      "2022-09-18 00:44:58 [scrapy.core.engine] DEBUG: Crawled (200) <GET https://www.amazon.com/Geographical-Data-Science-Spatial-Analysis/dp/1526449366/ref=sr_1_201?keywords=data+analysis&qid=1663454656&sr=8-201> (referer: https://www.amazon.com/s?k=data+analysis&page=5&qid=1663453432&ref=sr_pg_5)\n",
      "2022-09-18 00:44:58 [scrapy.core.engine] DEBUG: Crawled (200) <GET https://www.amazon.com/DATA-ANALYTICS-Effective-Analytics-Effectively/dp/B08GLWB38K/ref=sr_1_212_sspa?keywords=data+analysis&qid=1663454656&sr=8-212-spons&psc=1&spLa=ZW5jcnlwdGVkUXVhbGlmaWVyPUEyTTMxOTVKTzFLQVc4JmVuY3J5cHRlZElkPUEwMjM4Mzg1M08wRUFENEtGQ1FINiZlbmNyeXB0ZWRBZElkPUEwMTI4MzgyMU9VTVFNQVJZVjlNWiZ3aWRnZXROYW1lPXNwX210ZiZhY3Rpb249Y2xpY2tSZWRpcmVjdCZkb05vdExvZ0NsaWNrPXRydWU=> (referer: https://www.amazon.com/s?k=data+analysis&page=5&qid=1663453432&ref=sr_pg_5)\n"
     ]
    },
    {
     "name": "stdout",
     "output_type": "stream",
     "text": [
      "267\n",
      "['\\n            \\n              50%\\n            \\n          '] 4.3 out of 5 stars 7 x 0.6 x 9 inches\n"
     ]
    },
    {
     "name": "stderr",
     "output_type": "stream",
     "text": [
      "2022-09-18 00:44:58 [scrapy.core.engine] DEBUG: Crawled (200) <GET https://www.amazon.com/Data-Modeling-Azure-Services-professional/dp/1801077347/ref=sr_1_210_sspa?keywords=data+analysis&qid=1663454656&sr=8-210-spons&psc=1&spLa=ZW5jcnlwdGVkUXVhbGlmaWVyPUEyTTMxOTVKTzFLQVc4JmVuY3J5cHRlZElkPUEwMjM4Mzg1M08wRUFENEtGQ1FINiZlbmNyeXB0ZWRBZElkPUEwMDkzOTU3MVQwTjJQSlZZSlFTMCZ3aWRnZXROYW1lPXNwX210ZiZhY3Rpb249Y2xpY2tSZWRpcmVjdCZkb05vdExvZ0NsaWNrPXRydWU=> (referer: https://www.amazon.com/s?k=data+analysis&page=5&qid=1663453432&ref=sr_pg_5)\n",
      "2022-09-18 00:44:58 [scrapy.downloadermiddlewares.redirect] DEBUG: Redirecting (302) to <GET https://www.amazon.com/Excel-2022-Microsoft-Step-Step/dp/B0BD2CQKBB/ref=sr_1_196_sspa?keywords=data+analysis&qid=1663454656&sr=8-196-spons&psc=1&spLa=ZW5jcnlwdGVkUXVhbGlmaWVyPUEyTTMxOTVKTzFLQVc4JmVuY3J5cHRlZElkPUEwMjM4Mzg1M08wRUFENEtGQ1FINiZlbmNyeXB0ZWRBZElkPUEwMzYwMDM3MUo2NjVWNUFXT1lDMCZ3aWRnZXROYW1lPXNwX2F0Zl9uZXh0JmFjdGlvbj1jbGlja1JlZGlyZWN0JmRvTm90TG9nQ2xpY2s9dHJ1ZQ==> from <GET https://www.amazon.com/gp/slredirect/picassoRedirect.html/ref=pa_sp_atf_next_aps_sr_pg5_1?ie=UTF8&adId=A03600371J665V5AWOYC0&url=%2FExcel-2022-Microsoft-Step-Step%2Fdp%2FB0BD2CQKBB%2Fref%3Dsr_1_196_sspa%3Fkeywords%3Ddata%2Banalysis%26qid%3D1663454656%26sr%3D8-196-spons%26psc%3D1&qualifier=1663454656&id=8998586767692949&widgetName=sp_atf_next>\n",
      "2022-09-18 00:44:58 [scrapy.downloadermiddlewares.redirect] DEBUG: Redirecting (302) to <GET https://www.amazon.com/Learn-Microsoft-PowerApps-customized-applications/dp/1789805821/ref=sr_1_195_sspa?keywords=data+analysis&qid=1663454656&sr=8-195-spons&psc=1&spLa=ZW5jcnlwdGVkUXVhbGlmaWVyPUEyTTMxOTVKTzFLQVc4JmVuY3J5cHRlZElkPUEwMjM4Mzg1M08wRUFENEtGQ1FINiZlbmNyeXB0ZWRBZElkPUEwMTEwMzM2MUtTUjNGV0E2NlE2NiZ3aWRnZXROYW1lPXNwX2F0Zl9uZXh0JmFjdGlvbj1jbGlja1JlZGlyZWN0JmRvTm90TG9nQ2xpY2s9dHJ1ZQ==> from <GET https://www.amazon.com/gp/slredirect/picassoRedirect.html/ref=pa_sp_atf_next_aps_sr_pg5_1?ie=UTF8&adId=A01103361KSR3FWA66Q66&url=%2FLearn-Microsoft-PowerApps-customized-applications%2Fdp%2F1789805821%2Fref%3Dsr_1_195_sspa%3Fkeywords%3Ddata%2Banalysis%26qid%3D1663454656%26sr%3D8-195-spons%26psc%3D1&qualifier=1663454656&id=8998586767692949&widgetName=sp_atf_next>\n",
      "2022-09-18 00:44:58 [scrapy.core.engine] DEBUG: Crawled (200) <GET https://www.amazon.com/Statistics-Data-Analysis-Nursing-Research/dp/0135085071/ref=sr_1_199?keywords=data+analysis&qid=1663454656&sr=8-199> (referer: https://www.amazon.com/s?k=data+analysis&page=5&qid=1663453432&ref=sr_pg_5)\n"
     ]
    },
    {
     "name": "stdout",
     "output_type": "stream",
     "text": [
      "268\n",
      "['\\n            \\n              59%\\n            \\n          '] 4.1 out of 5 stars 7 x 0.48 x 9.19 inches\n",
      "269\n",
      "['\\n            \\n              49%\\n            \\n          '] 4.5 out of 5 stars 6.69 x 0.75 x 9.61 inches\n"
     ]
    },
    {
     "name": "stderr",
     "output_type": "stream",
     "text": [
      "2022-09-18 00:44:59 [scrapy.downloadermiddlewares.redirect] DEBUG: Redirecting (302) to <GET https://www.amazon.com/Regression-Analysis-Intuitive-Interpreting-Linear/dp/1735431184/ref=sr_1_194_sspa?keywords=data+analysis&qid=1663454656&sr=8-194-spons&psc=1&spLa=ZW5jcnlwdGVkUXVhbGlmaWVyPUEyTTMxOTVKTzFLQVc4JmVuY3J5cHRlZElkPUEwMjM4Mzg1M08wRUFENEtGQ1FINiZlbmNyeXB0ZWRBZElkPUEwOTM3NzEzMzFHMVhSMkJaUzEwUyZ3aWRnZXROYW1lPXNwX2F0Zl9uZXh0JmFjdGlvbj1jbGlja1JlZGlyZWN0JmRvTm90TG9nQ2xpY2s9dHJ1ZQ==> from <GET https://www.amazon.com/gp/slredirect/picassoRedirect.html/ref=pa_sp_atf_next_aps_sr_pg5_1?ie=UTF8&adId=A093771331G1XR2BZS10S&url=%2FRegression-Analysis-Intuitive-Interpreting-Linear%2Fdp%2F1735431184%2Fref%3Dsr_1_194_sspa%3Fkeywords%3Ddata%2Banalysis%26qid%3D1663454656%26sr%3D8-194-spons%26psc%3D1&qualifier=1663454656&id=8998586767692949&widgetName=sp_atf_next>\n",
      "2022-09-18 00:44:59 [scrapy.core.engine] DEBUG: Crawled (200) <GET https://www.amazon.com/Artificial-Intelligence-Power-leveraging-capabilities/dp/1801814635/ref=sr_1_209_sspa?keywords=data+analysis&qid=1663454656&sr=8-209-spons&psc=1&spLa=ZW5jcnlwdGVkUXVhbGlmaWVyPUEyTTMxOTVKTzFLQVc4JmVuY3J5cHRlZElkPUEwMjM4Mzg1M08wRUFENEtGQ1FINiZlbmNyeXB0ZWRBZElkPUEwOTI1NDcyMVFNOTM0TTA0WjlPUiZ3aWRnZXROYW1lPXNwX210ZiZhY3Rpb249Y2xpY2tSZWRpcmVjdCZkb05vdExvZ0NsaWNrPXRydWU=> (referer: https://www.amazon.com/s?k=data+analysis&page=5&qid=1663453432&ref=sr_pg_5)\n"
     ]
    },
    {
     "name": "stdout",
     "output_type": "stream",
     "text": [
      "270\n",
      "['\\n            \\n              100%\\n            \\n          '] 5.0 out of 5 stars 6 x 0.38 x 9 inches\n",
      "271\n",
      "['\\n            \\n              58%\\n            \\n          '] 4.6 out of 5 stars 7.5 x 0.97 x 9.25 inches\n"
     ]
    },
    {
     "name": "stderr",
     "output_type": "stream",
     "text": [
      "2022-09-18 00:44:59 [scrapy.downloadermiddlewares.redirect] DEBUG: Redirecting (302) to <GET https://www.amazon.com/Practical-Data-Science-Python-hands/dp/1801071977/ref=sr_1_193_sspa?keywords=data+analysis&qid=1663454656&sr=8-193-spons&psc=1&spLa=ZW5jcnlwdGVkUXVhbGlmaWVyPUEyTTMxOTVKTzFLQVc4JmVuY3J5cHRlZElkPUEwMjM4Mzg1M08wRUFENEtGQ1FINiZlbmNyeXB0ZWRBZElkPUEwMzkwNTEyMVU2WEpYUE5CSElGRyZ3aWRnZXROYW1lPXNwX2F0Zl9uZXh0JmFjdGlvbj1jbGlja1JlZGlyZWN0JmRvTm90TG9nQ2xpY2s9dHJ1ZQ==> from <GET https://www.amazon.com/gp/slredirect/picassoRedirect.html/ref=pa_sp_atf_next_aps_sr_pg5_1?ie=UTF8&adId=A03905121U6XJXPNBHIFG&url=%2FPractical-Data-Science-Python-hands%2Fdp%2F1801071977%2Fref%3Dsr_1_193_sspa%3Fkeywords%3Ddata%2Banalysis%26qid%3D1663454656%26sr%3D8-193-spons%26psc%3D1&qualifier=1663454656&id=8998586767692949&widgetName=sp_atf_next>\n",
      "2022-09-18 00:44:59 [scrapy.core.engine] DEBUG: Crawled (200) <GET https://www.amazon.com/Qualitative-Data-Analysis-Carol-Grbich/dp/1446202976/ref=sr_1_198?keywords=data+analysis&qid=1663454656&sr=8-198> (referer: https://www.amazon.com/s?k=data+analysis&page=5&qid=1663453432&ref=sr_pg_5)\n"
     ]
    },
    {
     "name": "stdout",
     "output_type": "stream",
     "text": [
      "272\n",
      "['\\n            \\n              67%\\n            \\n          '] 4.3 out of 5 stars 8 x 0.9 x 9.95 inches\n"
     ]
    },
    {
     "name": "stderr",
     "output_type": "stream",
     "text": [
      "2022-09-18 00:44:59 [scrapy.core.engine] DEBUG: Crawled (200) <GET https://www.amazon.com/Exploratory-Data-Analysis-Roger-Peng/dp/1365060063/ref=sr_1_197?keywords=data+analysis&qid=1663454656&sr=8-197> (referer: https://www.amazon.com/s?k=data+analysis&page=5&qid=1663453432&ref=sr_pg_5)\n"
     ]
    },
    {
     "name": "stdout",
     "output_type": "stream",
     "text": [
      "273\n",
      "['\\n            \\n              58%\\n            \\n          '] 4.4 out of 5 stars 7.5 x 0.79 x 9.25 inches\n",
      "274\n",
      "['\\n            \\n              72%\\n            \\n          '] 4.5 out of 5 stars 6.6 x 0.8 x 9.4 inches\n"
     ]
    },
    {
     "name": "stderr",
     "output_type": "stream",
     "text": [
      "2022-09-18 00:45:00 [scrapy.core.engine] DEBUG: Crawled (200) <GET https://www.amazon.com/Data-Wrangling-Workshop-actionable-insights-ebook/dp/B08Q8FHSZC/ref=sr_1_173?keywords=data+analysis&qid=1663454642&sr=8-173> (referer: https://www.amazon.com/s?k=data+analysis&page=4&qid=1663453432&ref=sr_pg_4)\n"
     ]
    },
    {
     "name": "stdout",
     "output_type": "stream",
     "text": [
      "275\n",
      "['\\n            \\n              44%\\n            \\n          '] 4.3 out of 5 stars 8.5 x 0.47 x 11 inches\n"
     ]
    },
    {
     "name": "stderr",
     "output_type": "stream",
     "text": [
      "2022-09-18 00:45:01 [scrapy.core.engine] DEBUG: Crawled (200) <GET https://www.amazon.com/Hands-Azure-Data-Studio-Engineering/dp/B0915M613P/ref=sr_1_175?keywords=data+analysis&qid=1663454642&sr=8-175> (referer: https://www.amazon.com/s?k=data+analysis&page=4&qid=1663453432&ref=sr_pg_4)\n",
      "2022-09-18 00:45:01 [scrapy.core.engine] DEBUG: Crawled (200) <GET https://www.amazon.com/Data-Structures-Algorithm-Analysis-C/dp/013284737X/ref=sr_1_170?keywords=data+analysis&qid=1663454642&sr=8-170> (referer: https://www.amazon.com/s?k=data+analysis&page=4&qid=1663453432&ref=sr_pg_4)\n",
      "2022-09-18 00:45:01 [scrapy.core.engine] DEBUG: Crawled (200) <GET https://www.amazon.com/Esri-Guide-GIS-Analysis-Measurements/dp/1589486080/ref=sr_1_171?keywords=data+analysis&qid=1663454642&sr=8-171> (referer: https://www.amazon.com/s?k=data+analysis&page=4&qid=1663453432&ref=sr_pg_4)\n"
     ]
    },
    {
     "name": "stdout",
     "output_type": "stream",
     "text": [
      "276\n",
      "['\\n            \\n              66%\\n            \\n          '] 4.6 out of 5 stars None\n"
     ]
    },
    {
     "name": "stderr",
     "output_type": "stream",
     "text": [
      "2022-09-18 00:45:01 [scrapy.core.engine] DEBUG: Crawled (200) <GET https://www.amazon.com/Regression-Analysis-Intuitive-Interpreting-Linear/dp/1735431184/ref=sr_1_194_sspa?keywords=data+analysis&qid=1663454656&sr=8-194-spons&psc=1&spLa=ZW5jcnlwdGVkUXVhbGlmaWVyPUEyTTMxOTVKTzFLQVc4JmVuY3J5cHRlZElkPUEwMjM4Mzg1M08wRUFENEtGQ1FINiZlbmNyeXB0ZWRBZElkPUEwOTM3NzEzMzFHMVhSMkJaUzEwUyZ3aWRnZXROYW1lPXNwX2F0Zl9uZXh0JmFjdGlvbj1jbGlja1JlZGlyZWN0JmRvTm90TG9nQ2xpY2s9dHJ1ZQ==> (referer: https://www.amazon.com/s?k=data+analysis&page=5&qid=1663453432&ref=sr_pg_5)\n",
      "2022-09-18 00:45:01 [scrapy.downloadermiddlewares.redirect] DEBUG: Redirecting (302) to <GET https://www.amazon.com/Software-Architecture-Patterns-Serverless-Systems/dp/1800207034/ref=sr_1_164_sspa?keywords=data+analysis&qid=1663454642&sr=8-164-spons&psc=1&spLa=ZW5jcnlwdGVkUXVhbGlmaWVyPUEyVEVXRDQ2VFNQTUNYJmVuY3J5cHRlZElkPUEwOTMzNDY1VUpMUTFDRk5VQTVLJmVuY3J5cHRlZEFkSWQ9QTA3ODkzNzAzREdGV0JBREdUWlgxJndpZGdldE5hbWU9c3BfbXRmJmFjdGlvbj1jbGlja1JlZGlyZWN0JmRvTm90TG9nQ2xpY2s9dHJ1ZQ==> from <GET https://www.amazon.com/gp/slredirect/picassoRedirect.html/ref=pa_sp_mtf_aps_sr_pg4_1?ie=UTF8&adId=A07893703DGFWBADGTZX1&url=%2FSoftware-Architecture-Patterns-Serverless-Systems%2Fdp%2F1800207034%2Fref%3Dsr_1_164_sspa%3Fkeywords%3Ddata%2Banalysis%26qid%3D1663454642%26sr%3D8-164-spons%26psc%3D1&qualifier=1663454642&id=7777943298696266&widgetName=sp_mtf>\n"
     ]
    },
    {
     "name": "stdout",
     "output_type": "stream",
     "text": [
      "277\n",
      "['\\n            \\n              54%\\n            \\n          '] 4.3 out of 5 stars 6 x 0.32 x 9 inches\n",
      "278\n",
      "['\\n            \\n              64%\\n            \\n          '] 4.2 out of 5 stars 1.1 x 7.5 x 9.2 inches\n"
     ]
    },
    {
     "name": "stderr",
     "output_type": "stream",
     "text": [
      "2022-09-18 00:45:01 [scrapy.core.engine] DEBUG: Crawled (200) <GET https://www.amazon.com/Maximize-Your-Book-Sales-Analysis-ebook/dp/B07GXC8SGG/ref=sr_1_168?keywords=data+analysis&qid=1663454642&sr=8-168> (referer: https://www.amazon.com/s?k=data+analysis&page=4&qid=1663453432&ref=sr_pg_4)\n",
      "2022-09-18 00:45:01 [scrapy.core.engine] DEBUG: Crawled (200) <GET https://www.amazon.com/Action-Third-Robert-I-Kabacoff/dp/1617296058/ref=sr_1_169?keywords=data+analysis&qid=1663454642&sr=8-169> (referer: https://www.amazon.com/s?k=data+analysis&page=4&qid=1663453432&ref=sr_pg_4)\n",
      "2022-09-18 00:45:02 [scrapy.core.engine] DEBUG: Crawled (200) <GET https://www.amazon.com/Handbook-Collaborative-Common-Assessments-Assessment/dp/1942496869/ref=sr_1_167?keywords=data+analysis&qid=1663454642&sr=8-167> (referer: https://www.amazon.com/s?k=data+analysis&page=4&qid=1663453432&ref=sr_pg_4)\n"
     ]
    },
    {
     "name": "stdout",
     "output_type": "stream",
     "text": [
      "279\n",
      "['\\n            \\n              75%\\n            \\n          '] 4.7 out of 5 stars 7.5 x 0.65 x 9.25 inches\n"
     ]
    },
    {
     "name": "stderr",
     "output_type": "stream",
     "text": [
      "2022-09-18 00:45:02 [scrapy.downloadermiddlewares.redirect] DEBUG: Redirecting (302) to <GET https://www.amazon.com/Azure-Synapse-Analytics-Cookbook-analytical/dp/1803231505/ref=sr_1_162_sspa?keywords=data+analysis&qid=1663454642&sr=8-162-spons&psc=1&spLa=ZW5jcnlwdGVkUXVhbGlmaWVyPUEyVEVXRDQ2VFNQTUNYJmVuY3J5cHRlZElkPUEwOTMzNDY1VUpMUTFDRk5VQTVLJmVuY3J5cHRlZEFkSWQ9QTEwNDAzMzQxQjRWRFpNOEhGNzhXJndpZGdldE5hbWU9c3BfbXRmJmFjdGlvbj1jbGlja1JlZGlyZWN0JmRvTm90TG9nQ2xpY2s9dHJ1ZQ==> from <GET https://www.amazon.com/gp/slredirect/picassoRedirect.html/ref=pa_sp_mtf_aps_sr_pg4_1?ie=UTF8&adId=A10403341B4VDZM8HF78W&url=%2FAzure-Synapse-Analytics-Cookbook-analytical%2Fdp%2F1803231505%2Fref%3Dsr_1_162_sspa%3Fkeywords%3Ddata%2Banalysis%26qid%3D1663454642%26sr%3D8-162-spons%26psc%3D1&qualifier=1663454642&id=7777943298696266&widgetName=sp_mtf>\n",
      "2022-09-18 00:45:02 [scrapy.downloadermiddlewares.redirect] DEBUG: Redirecting (302) to <GET https://www.amazon.com/Data-Analytics-Absolute-Beginners-Deconstructed/dp/1081762462/ref=sr_1_163_sspa?keywords=data+analysis&qid=1663454642&sr=8-163-spons&psc=1&spLa=ZW5jcnlwdGVkUXVhbGlmaWVyPUEyVEVXRDQ2VFNQTUNYJmVuY3J5cHRlZElkPUEwOTMzNDY1VUpMUTFDRk5VQTVLJmVuY3J5cHRlZEFkSWQ9QTAxNDQyMDYzNUdNSzFHNlhMN0hUJndpZGdldE5hbWU9c3BfbXRmJmFjdGlvbj1jbGlja1JlZGlyZWN0JmRvTm90TG9nQ2xpY2s9dHJ1ZQ==> from <GET https://www.amazon.com/gp/slredirect/picassoRedirect.html/ref=pa_sp_mtf_aps_sr_pg4_1?ie=UTF8&adId=A014420635GMK1G6XL7HT&url=%2FData-Analytics-Absolute-Beginners-Deconstructed%2Fdp%2F1081762462%2Fref%3Dsr_1_163_sspa%3Fkeywords%3Ddata%2Banalysis%26qid%3D1663454642%26sr%3D8-163-spons%26psc%3D1&qualifier=1663454642&id=7777943298696266&widgetName=sp_mtf>\n"
     ]
    },
    {
     "name": "stdout",
     "output_type": "stream",
     "text": [
      "280\n",
      "['\\n            \\n              77%\\n            \\n          '] 4.6 out of 5 stars 6 x 0.8 x 9 inches\n",
      "281\n",
      "['\\n            \\n              59%\\n            \\n          '] 4.2 out of 5 stars None\n",
      "282\n",
      "['\\n            \\n              82%\\n            \\n          '] 4.6 out of 5 stars 7.38 x 1.5 x 9.25 inches\n"
     ]
    },
    {
     "name": "stderr",
     "output_type": "stream",
     "text": [
      "2022-09-18 00:45:02 [scrapy.downloadermiddlewares.redirect] DEBUG: Redirecting (302) to <GET https://www.amazon.com/Essential-PySpark-Scalable-Data-Analytics/dp/1800568878/ref=sr_1_161_sspa?keywords=data+analysis&qid=1663454642&sr=8-161-spons&psc=1&spLa=ZW5jcnlwdGVkUXVhbGlmaWVyPUEyVEVXRDQ2VFNQTUNYJmVuY3J5cHRlZElkPUEwOTMzNDY1VUpMUTFDRk5VQTVLJmVuY3J5cHRlZEFkSWQ9QTA1NjYxNTdDN0FPVkNKUFpJQjUmd2lkZ2V0TmFtZT1zcF9tdGYmYWN0aW9uPWNsaWNrUmVkaXJlY3QmZG9Ob3RMb2dDbGljaz10cnVl> from <GET https://www.amazon.com/gp/slredirect/picassoRedirect.html/ref=pa_sp_mtf_aps_sr_pg4_1?ie=UTF8&adId=A0566157C7AOVCJPZIB5&url=%2FEssential-PySpark-Scalable-Data-Analytics%2Fdp%2F1800568878%2Fref%3Dsr_1_161_sspa%3Fkeywords%3Ddata%2Banalysis%26qid%3D1663454642%26sr%3D8-161-spons%26psc%3D1&qualifier=1663454642&id=7777943298696266&widgetName=sp_mtf>\n",
      "2022-09-18 00:45:02 [scrapy.core.engine] DEBUG: Crawled (200) <GET https://www.amazon.com/DATA-ANALYTICS-Comprehensive-Beginners-Analytics/dp/B087L36G1T/ref=sr_1_166?keywords=data+analysis&qid=1663454642&sr=8-166> (referer: https://www.amazon.com/s?k=data+analysis&page=4&qid=1663453432&ref=sr_pg_4)\n",
      "2022-09-18 00:45:03 [scrapy.core.engine] DEBUG: Crawled (200) <GET https://www.amazon.com/Learn-Microsoft-PowerApps-customized-applications/dp/1789805821/ref=sr_1_195_sspa?keywords=data+analysis&qid=1663454656&sr=8-195-spons&psc=1&spLa=ZW5jcnlwdGVkUXVhbGlmaWVyPUEyTTMxOTVKTzFLQVc4JmVuY3J5cHRlZElkPUEwMjM4Mzg1M08wRUFENEtGQ1FINiZlbmNyeXB0ZWRBZElkPUEwMTEwMzM2MUtTUjNGV0E2NlE2NiZ3aWRnZXROYW1lPXNwX2F0Zl9uZXh0JmFjdGlvbj1jbGlja1JlZGlyZWN0JmRvTm90TG9nQ2xpY2s9dHJ1ZQ==> (referer: https://www.amazon.com/s?k=data+analysis&page=5&qid=1663453432&ref=sr_pg_5)\n"
     ]
    },
    {
     "name": "stdout",
     "output_type": "stream",
     "text": [
      "283\n",
      "['\\n            \\n              80%\\n            \\n          '] 4.8 out of 5 stars 8.75 x 0.75 x 11.25 inches\n"
     ]
    },
    {
     "name": "stderr",
     "output_type": "stream",
     "text": [
      "2022-09-18 00:45:03 [scrapy.core.engine] DEBUG: Crawled (200) <GET https://www.amazon.com/Excel-2022-Microsoft-Step-Step/dp/B0BD2CQKBB/ref=sr_1_196_sspa?keywords=data+analysis&qid=1663454656&sr=8-196-spons&psc=1&spLa=ZW5jcnlwdGVkUXVhbGlmaWVyPUEyTTMxOTVKTzFLQVc4JmVuY3J5cHRlZElkPUEwMjM4Mzg1M08wRUFENEtGQ1FINiZlbmNyeXB0ZWRBZElkPUEwMzYwMDM3MUo2NjVWNUFXT1lDMCZ3aWRnZXROYW1lPXNwX2F0Zl9uZXh0JmFjdGlvbj1jbGlja1JlZGlyZWN0JmRvTm90TG9nQ2xpY2s9dHJ1ZQ==> (referer: https://www.amazon.com/s?k=data+analysis&page=5&qid=1663453432&ref=sr_pg_5)\n"
     ]
    },
    {
     "name": "stdout",
     "output_type": "stream",
     "text": [
      "284\n",
      "['\\n            \\n              59%\\n            \\n          '] 4.2 out of 5 stars 6 x 0.35 x 9 inches\n"
     ]
    },
    {
     "name": "stderr",
     "output_type": "stream",
     "text": [
      "2022-09-18 00:45:03 [scrapy.core.engine] DEBUG: Crawled (200) <GET https://www.amazon.com/Practical-Data-Science-Python-hands/dp/1801071977/ref=sr_1_193_sspa?keywords=data+analysis&qid=1663454656&sr=8-193-spons&psc=1&spLa=ZW5jcnlwdGVkUXVhbGlmaWVyPUEyTTMxOTVKTzFLQVc4JmVuY3J5cHRlZElkPUEwMjM4Mzg1M08wRUFENEtGQ1FINiZlbmNyeXB0ZWRBZElkPUEwMzkwNTEyMVU2WEpYUE5CSElGRyZ3aWRnZXROYW1lPXNwX2F0Zl9uZXh0JmFjdGlvbj1jbGlja1JlZGlyZWN0JmRvTm90TG9nQ2xpY2s9dHJ1ZQ==> (referer: https://www.amazon.com/s?k=data+analysis&page=5&qid=1663453432&ref=sr_pg_5)\n"
     ]
    },
    {
     "name": "stdout",
     "output_type": "stream",
     "text": [
      "285\n",
      "['\\n            \\n              55%\\n            \\n          '] 4.2 out of 5 stars 7.5 x 1.27 x 9.25 inches\n",
      "286\n",
      "['\\n            \\n              96%\\n            \\n          '] 5.0 out of 5 stars 8.5 x 0.22 x 11 inches\n"
     ]
    },
    {
     "name": "stderr",
     "output_type": "stream",
     "text": [
      "2022-09-18 00:45:04 [scrapy.core.engine] DEBUG: Crawled (200) <GET https://www.amazon.com/Applied-SQL-Data-Analytics-Workshop/dp/1800203675/ref=sr_1_159?keywords=data+analysis&qid=1663454642&sr=8-159> (referer: https://www.amazon.com/s?k=data+analysis&page=4&qid=1663453432&ref=sr_pg_4)\n"
     ]
    },
    {
     "name": "stdout",
     "output_type": "stream",
     "text": [
      "287\n",
      "['\\n            \\n              82%\\n            \\n          '] 4.7 out of 5 stars 7.5 x 1.4 x 9.25 inches\n"
     ]
    },
    {
     "name": "stderr",
     "output_type": "stream",
     "text": [
      "2022-09-18 00:45:04 [scrapy.core.engine] DEBUG: Crawled (200) <GET https://www.amazon.com/Machine-Learning-Data-Analytics-Paradigms/dp/3030593371/ref=sr_1_158?keywords=data+analysis&qid=1663454642&sr=8-158> (referer: https://www.amazon.com/s?k=data+analysis&page=4&qid=1663453432&ref=sr_pg_4)\n"
     ]
    },
    {
     "name": "stdout",
     "output_type": "stream",
     "text": [
      "288\n",
      "['\\n            \\n              71%\\n            \\n          '] 4.6 out of 5 stars 7.5 x 1.09 x 9.25 inches\n",
      "289\n",
      "[] None 6.14 x 1.44 x 9.21 inches\n"
     ]
    },
    {
     "name": "stderr",
     "output_type": "stream",
     "text": [
      "2022-09-18 00:45:05 [scrapy.core.engine] DEBUG: Crawled (200) <GET https://www.amazon.com/Software-Architecture-Patterns-Serverless-Systems/dp/1800207034/ref=sr_1_164_sspa?keywords=data+analysis&qid=1663454642&sr=8-164-spons&psc=1&spLa=ZW5jcnlwdGVkUXVhbGlmaWVyPUEyVEVXRDQ2VFNQTUNYJmVuY3J5cHRlZElkPUEwOTMzNDY1VUpMUTFDRk5VQTVLJmVuY3J5cHRlZEFkSWQ9QTA3ODkzNzAzREdGV0JBREdUWlgxJndpZGdldE5hbWU9c3BfbXRmJmFjdGlvbj1jbGlja1JlZGlyZWN0JmRvTm90TG9nQ2xpY2s9dHJ1ZQ==> (referer: https://www.amazon.com/s?k=data+analysis&page=4&qid=1663453432&ref=sr_pg_4)\n",
      "2022-09-18 00:45:05 [scrapy.core.engine] DEBUG: Crawled (200) <GET https://www.amazon.com/Bayesian-Statistics-Fun-Will-Kurt/dp/1593279566/ref=sr_1_153?keywords=data+analysis&qid=1663454642&sr=8-153> (referer: https://www.amazon.com/s?k=data+analysis&page=4&qid=1663453432&ref=sr_pg_4)\n",
      "2022-09-18 00:45:05 [scrapy.core.engine] DEBUG: Crawled (200) <GET https://www.amazon.com/SQL-Data-Analytics-Harness-insights/dp/180181287X/ref=sr_1_155?keywords=data+analysis&qid=1663454642&sr=8-155> (referer: https://www.amazon.com/s?k=data+analysis&page=4&qid=1663453432&ref=sr_pg_4)\n",
      "2022-09-18 00:45:05 [scrapy.core.engine] DEBUG: Crawled (200) <GET https://www.amazon.com/Data-Revolution-Critical-Analysis-Infrastructures/dp/1529733758/ref=sr_1_157?keywords=data+analysis&qid=1663454642&sr=8-157> (referer: https://www.amazon.com/s?k=data+analysis&page=4&qid=1663453432&ref=sr_pg_4)\n",
      "2022-09-18 00:45:05 [scrapy.core.engine] DEBUG: Crawled (200) <GET https://www.amazon.com/Data-Structures-Algorithm-Analysis-Java/dp/0132576279/ref=sr_1_156?keywords=data+analysis&qid=1663454642&sr=8-156> (referer: https://www.amazon.com/s?k=data+analysis&page=4&qid=1663453432&ref=sr_pg_4)\n"
     ]
    },
    {
     "name": "stdout",
     "output_type": "stream",
     "text": [
      "290\n",
      "['\\n            \\n              81%\\n            \\n          '] 4.8 out of 5 stars 7.5 x 0.99 x 9.25 inches\n"
     ]
    },
    {
     "name": "stderr",
     "output_type": "stream",
     "text": [
      "2022-09-18 00:45:05 [scrapy.core.engine] DEBUG: Crawled (200) <GET https://www.amazon.com/Data-Analytics-Absolute-Beginners-Deconstructed/dp/1081762462/ref=sr_1_163_sspa?keywords=data+analysis&qid=1663454642&sr=8-163-spons&psc=1&spLa=ZW5jcnlwdGVkUXVhbGlmaWVyPUEyVEVXRDQ2VFNQTUNYJmVuY3J5cHRlZElkPUEwOTMzNDY1VUpMUTFDRk5VQTVLJmVuY3J5cHRlZEFkSWQ9QTAxNDQyMDYzNUdNSzFHNlhMN0hUJndpZGdldE5hbWU9c3BfbXRmJmFjdGlvbj1jbGlja1JlZGlyZWN0JmRvTm90TG9nQ2xpY2s9dHJ1ZQ==> (referer: https://www.amazon.com/s?k=data+analysis&page=4&qid=1663453432&ref=sr_pg_4)\n"
     ]
    },
    {
     "name": "stdout",
     "output_type": "stream",
     "text": [
      "291\n",
      "['\\n            \\n              74%\\n            \\n          '] 4.6 out of 5 stars 7 x 0.66 x 9.25 inches\n",
      "292\n",
      "['\\n            \\n              100%\\n            \\n          '] 5.0 out of 5 stars 7.5 x 1.22 x 9.25 inches\n"
     ]
    },
    {
     "name": "stderr",
     "output_type": "stream",
     "text": [
      "2022-09-18 00:45:06 [scrapy.downloadermiddlewares.redirect] DEBUG: Redirecting (302) to <GET https://www.amazon.com/VBA-Automation-Excel-2019-Cookbook/dp/1789610036/ref=sr_1_147_sspa?keywords=data+analysis&qid=1663454642&sr=8-147-spons&psc=1&spLa=ZW5jcnlwdGVkUXVhbGlmaWVyPUEyVEVXRDQ2VFNQTUNYJmVuY3J5cHRlZElkPUEwOTMzNDY1VUpMUTFDRk5VQTVLJmVuY3J5cHRlZEFkSWQ9QTAyNzk1ODYzM1pQN004TFNIWlRUJndpZGdldE5hbWU9c3BfYXRmX25leHQmYWN0aW9uPWNsaWNrUmVkaXJlY3QmZG9Ob3RMb2dDbGljaz10cnVl> from <GET https://www.amazon.com/gp/slredirect/picassoRedirect.html/ref=pa_sp_atf_next_aps_sr_pg4_1?ie=UTF8&adId=A027958633ZP7M8LSHZTT&url=%2FVBA-Automation-Excel-2019-Cookbook%2Fdp%2F1789610036%2Fref%3Dsr_1_147_sspa%3Fkeywords%3Ddata%2Banalysis%26qid%3D1663454642%26sr%3D8-147-spons%26psc%3D1&qualifier=1663454642&id=7777943298696266&widgetName=sp_atf_next>\n",
      "2022-09-18 00:45:06 [scrapy.downloadermiddlewares.redirect] DEBUG: Redirecting (302) to <GET https://www.amazon.com/Only-Bitcoin-Investing-Book-Youll/dp/B08WZ4P1DY/ref=sr_1_148_sspa?keywords=data+analysis&qid=1663454642&sr=8-148-spons&psc=1&spLa=ZW5jcnlwdGVkUXVhbGlmaWVyPUEyVEVXRDQ2VFNQTUNYJmVuY3J5cHRlZElkPUEwOTMzNDY1VUpMUTFDRk5VQTVLJmVuY3J5cHRlZEFkSWQ9QTAzOTA4MDkxS1FXVDdJNks4TFhMJndpZGdldE5hbWU9c3BfYXRmX25leHQmYWN0aW9uPWNsaWNrUmVkaXJlY3QmZG9Ob3RMb2dDbGljaz10cnVl> from <GET https://www.amazon.com/gp/slredirect/picassoRedirect.html/ref=pa_sp_atf_next_aps_sr_pg4_1?ie=UTF8&adId=A03908091KQWT7I6K8LXL&url=%2FOnly-Bitcoin-Investing-Book-Youll%2Fdp%2FB08WZ4P1DY%2Fref%3Dsr_1_148_sspa%3Fkeywords%3Ddata%2Banalysis%26qid%3D1663454642%26sr%3D8-148-spons%26psc%3D1&qualifier=1663454642&id=7777943298696266&widgetName=sp_atf_next>\n",
      "2022-09-18 00:45:06 [scrapy.core.engine] DEBUG: Crawled (200) <GET https://www.amazon.com/Azure-Synapse-Analytics-Cookbook-analytical/dp/1803231505/ref=sr_1_162_sspa?keywords=data+analysis&qid=1663454642&sr=8-162-spons&psc=1&spLa=ZW5jcnlwdGVkUXVhbGlmaWVyPUEyVEVXRDQ2VFNQTUNYJmVuY3J5cHRlZElkPUEwOTMzNDY1VUpMUTFDRk5VQTVLJmVuY3J5cHRlZEFkSWQ9QTEwNDAzMzQxQjRWRFpNOEhGNzhXJndpZGdldE5hbWU9c3BfbXRmJmFjdGlvbj1jbGlja1JlZGlyZWN0JmRvTm90TG9nQ2xpY2s9dHJ1ZQ==> (referer: https://www.amazon.com/s?k=data+analysis&page=4&qid=1663453432&ref=sr_pg_4)\n"
     ]
    },
    {
     "name": "stdout",
     "output_type": "stream",
     "text": [
      "293\n",
      "['\\n            \\n              100%\\n            \\n          '] 5.0 out of 5 stars 6.69 x 0.85 x 9.53 inches\n",
      "294\n",
      "['\\n            \\n              72%\\n            \\n          '] 4.4 out of 5 stars 7.75 x 1.65 x 9.4 inches\n"
     ]
    },
    {
     "name": "stderr",
     "output_type": "stream",
     "text": [
      "2022-09-18 00:45:06 [scrapy.downloadermiddlewares.redirect] DEBUG: Redirecting (302) to <GET https://www.amazon.com/Python-Data-Cleaning-Cookbook-techniques/dp/1800565666/ref=sr_1_146_sspa?keywords=data+analysis&qid=1663454642&sr=8-146-spons&psc=1&spLa=ZW5jcnlwdGVkUXVhbGlmaWVyPUEyVEVXRDQ2VFNQTUNYJmVuY3J5cHRlZElkPUEwOTMzNDY1VUpMUTFDRk5VQTVLJmVuY3J5cHRlZEFkSWQ9QTAxNTE2NTkxMVBLQ0RBR1ZKM0JVJndpZGdldE5hbWU9c3BfYXRmX25leHQmYWN0aW9uPWNsaWNrUmVkaXJlY3QmZG9Ob3RMb2dDbGljaz10cnVl> from <GET https://www.amazon.com/gp/slredirect/picassoRedirect.html/ref=pa_sp_atf_next_aps_sr_pg4_1?ie=UTF8&adId=A015165911PKCDAGVJ3BU&url=%2FPython-Data-Cleaning-Cookbook-techniques%2Fdp%2F1800565666%2Fref%3Dsr_1_146_sspa%3Fkeywords%3Ddata%2Banalysis%26qid%3D1663454642%26sr%3D8-146-spons%26psc%3D1&qualifier=1663454642&id=7777943298696266&widgetName=sp_atf_next>\n"
     ]
    },
    {
     "name": "stdout",
     "output_type": "stream",
     "text": [
      "295\n",
      "['\\n            \\n              67%\\n            \\n          '] 4.4 out of 5 stars 6 x 0.39 x 9 inches\n",
      "296\n",
      "['\\n            \\n              82%\\n            \\n          '] 4.3 out of 5 stars 7.5 x 0.54 x 9.25 inches\n"
     ]
    },
    {
     "name": "stderr",
     "output_type": "stream",
     "text": [
      "2022-09-18 00:45:06 [scrapy.core.engine] DEBUG: Crawled (200) <GET https://www.amazon.com/CompTIA-Data-Study-Guide-DA0-001/dp/1119845254/ref=sr_1_152?keywords=data+analysis&qid=1663454642&sr=8-152> (referer: https://www.amazon.com/s?k=data+analysis&page=4&qid=1663453432&ref=sr_pg_4)\n",
      "2022-09-18 00:45:06 [scrapy.downloadermiddlewares.redirect] DEBUG: Redirecting (302) to <GET https://www.amazon.com/Using-Data-Focus-Instructional-Improvement/dp/1416614842/ref=sr_1_115_sspa?keywords=data+analysis&qid=1663454623&sr=8-115-spons&psc=1&spLa=ZW5jcnlwdGVkUXVhbGlmaWVyPUEyM05IQU5UNVVIVUVSJmVuY3J5cHRlZElkPUEwMDA5ODg4MlJGUFhNTkU2QkIyRiZlbmNyeXB0ZWRBZElkPUEwMjI0ODEyMUpXTVZCNjdaU09NOCZ3aWRnZXROYW1lPXNwX210ZiZhY3Rpb249Y2xpY2tSZWRpcmVjdCZkb05vdExvZ0NsaWNrPXRydWU=> from <GET https://www.amazon.com/gp/slredirect/picassoRedirect.html/ref=pa_sp_mtf_aps_sr_pg3_1?ie=UTF8&adId=A02248121JWMVB67ZSOM8&url=%2FUsing-Data-Focus-Instructional-Improvement%2Fdp%2F1416614842%2Fref%3Dsr_1_115_sspa%3Fkeywords%3Ddata%2Banalysis%26qid%3D1663454623%26sr%3D8-115-spons%26psc%3D1&qualifier=1663454623&id=4535904647139976&widgetName=sp_mtf>\n",
      "2022-09-18 00:45:06 [scrapy.core.engine] DEBUG: Crawled (200) <GET https://www.amazon.com/Excel-2022-Step-Step-Discovering-ebook/dp/B0B9HV4Q5C/ref=sr_1_150?keywords=data+analysis&qid=1663454642&sr=8-150> (referer: https://www.amazon.com/s?k=data+analysis&page=4&qid=1663453432&ref=sr_pg_4)\n",
      "2022-09-18 00:45:07 [scrapy.core.engine] DEBUG: Crawled (200) <GET https://www.amazon.com/Introduction-Statistical-Genetic-Data-Analysis-ebook/dp/B08PF43LTP/ref=sr_1_149?keywords=data+analysis&qid=1663454642&sr=8-149> (referer: https://www.amazon.com/s?k=data+analysis&page=4&qid=1663453432&ref=sr_pg_4)\n"
     ]
    },
    {
     "name": "stdout",
     "output_type": "stream",
     "text": [
      "297\n",
      "['\\n            \\n              78%\\n            \\n          '] 4.7 out of 5 stars 7.32 x 0.87 x 9.13 inches\n"
     ]
    },
    {
     "name": "stderr",
     "output_type": "stream",
     "text": [
      "2022-09-18 00:45:07 [scrapy.core.engine] DEBUG: Crawled (200) <GET https://www.amazon.com/Essential-PySpark-Scalable-Data-Analytics/dp/1800568878/ref=sr_1_161_sspa?keywords=data+analysis&qid=1663454642&sr=8-161-spons&psc=1&spLa=ZW5jcnlwdGVkUXVhbGlmaWVyPUEyVEVXRDQ2VFNQTUNYJmVuY3J5cHRlZElkPUEwOTMzNDY1VUpMUTFDRk5VQTVLJmVuY3J5cHRlZEFkSWQ9QTA1NjYxNTdDN0FPVkNKUFpJQjUmd2lkZ2V0TmFtZT1zcF9tdGYmYWN0aW9uPWNsaWNrUmVkaXJlY3QmZG9Ob3RMb2dDbGljaz10cnVl> (referer: https://www.amazon.com/s?k=data+analysis&page=4&qid=1663453432&ref=sr_pg_4)\n",
      "2022-09-18 00:45:07 [scrapy.downloadermiddlewares.redirect] DEBUG: Redirecting (302) to <GET https://www.amazon.com/Learning-Geospatial-Analysis-Python-fundamentals/dp/1789959276/ref=sr_1_114_sspa?keywords=data+analysis&qid=1663454623&sr=8-114-spons&psc=1&spLa=ZW5jcnlwdGVkUXVhbGlmaWVyPUEyM05IQU5UNVVIVUVSJmVuY3J5cHRlZElkPUEwMDA5ODg4MlJGUFhNTkU2QkIyRiZlbmNyeXB0ZWRBZElkPUEwOTk4NTg2MzZLVThTMURHR0NWNiZ3aWRnZXROYW1lPXNwX210ZiZhY3Rpb249Y2xpY2tSZWRpcmVjdCZkb05vdExvZ0NsaWNrPXRydWU=> from <GET https://www.amazon.com/gp/slredirect/picassoRedirect.html/ref=pa_sp_mtf_aps_sr_pg3_1?ie=UTF8&adId=A099858636KU8S1DGGCV6&url=%2FLearning-Geospatial-Analysis-Python-fundamentals%2Fdp%2F1789959276%2Fref%3Dsr_1_114_sspa%3Fkeywords%3Ddata%2Banalysis%26qid%3D1663454623%26sr%3D8-114-spons%26psc%3D1&qualifier=1663454623&id=4535904647139976&widgetName=sp_mtf>\n",
      "2022-09-18 00:45:07 [scrapy.downloadermiddlewares.redirect] DEBUG: Redirecting (302) to <GET https://www.amazon.com/Hands-Data-Science-Techniques-manipulation/dp/1789139406/ref=sr_1_113_sspa?keywords=data+analysis&qid=1663454623&sr=8-113-spons&psc=1&spLa=ZW5jcnlwdGVkUXVhbGlmaWVyPUEyM05IQU5UNVVIVUVSJmVuY3J5cHRlZElkPUEwMDA5ODg4MlJGUFhNTkU2QkIyRiZlbmNyeXB0ZWRBZElkPUEwOTY4NDE5MTNMTDQ3T0pBTlYwQiZ3aWRnZXROYW1lPXNwX210ZiZhY3Rpb249Y2xpY2tSZWRpcmVjdCZkb05vdExvZ0NsaWNrPXRydWU=> from <GET https://www.amazon.com/gp/slredirect/picassoRedirect.html/ref=pa_sp_mtf_aps_sr_pg3_1?ie=UTF8&adId=A096841913LL47OJANV0B&url=%2FHands-Data-Science-Techniques-manipulation%2Fdp%2F1789139406%2Fref%3Dsr_1_113_sspa%3Fkeywords%3Ddata%2Banalysis%26qid%3D1663454623%26sr%3D8-113-spons%26psc%3D1&qualifier=1663454623&id=4535904647139976&widgetName=sp_mtf>\n"
     ]
    },
    {
     "name": "stdout",
     "output_type": "stream",
     "text": [
      "298\n",
      "['\\n            \\n              90%\\n            \\n          '] 4.9 out of 5 stars None\n",
      "299\n",
      "['\\n            \\n              65%\\n            \\n          '] 4.3 out of 5 stars None\n"
     ]
    },
    {
     "name": "stderr",
     "output_type": "stream",
     "text": [
      "2022-09-18 00:45:07 [scrapy.core.engine] DEBUG: Crawled (200) <GET https://www.amazon.com/Functional-Data-Analysis-Springer-Statistics/dp/038740080X/ref=sr_1_119?keywords=data+analysis&qid=1663454623&sr=8-119> (referer: https://www.amazon.com/s?k=data+analysis&page=3&qid=1663453432&ref=sr_pg_3)\n",
      "2022-09-18 00:45:07 [scrapy.core.engine] DEBUG: Crawled (200) <GET https://www.amazon.com/Categorical-Data-Analysis-Alan-Agresti/dp/0470463635/ref=sr_1_118?keywords=data+analysis&qid=1663454623&sr=8-118> (referer: https://www.amazon.com/s?k=data+analysis&page=3&qid=1663453432&ref=sr_pg_3)\n"
     ]
    },
    {
     "name": "stdout",
     "output_type": "stream",
     "text": [
      "300\n",
      "['\\n            \\n              74%\\n            \\n          '] 4.5 out of 5 stars 7.5 x 0.73 x 9.25 inches\n"
     ]
    },
    {
     "name": "stderr",
     "output_type": "stream",
     "text": [
      "2022-09-18 00:45:08 [scrapy.downloadermiddlewares.redirect] DEBUG: Redirecting (302) to <GET https://www.amazon.com/Python-Programmers-Artificial-Intelligence-Studies/dp/0135224330/ref=sr_1_116_sspa?keywords=data+analysis&qid=1663454623&sr=8-116-spons&psc=1&spLa=ZW5jcnlwdGVkUXVhbGlmaWVyPUEyM05IQU5UNVVIVUVSJmVuY3J5cHRlZElkPUEwMDA5ODg4MlJGUFhNTkU2QkIyRiZlbmNyeXB0ZWRBZElkPUEwMTIzNjI1M0lKSkdSRkFHUDdPNCZ3aWRnZXROYW1lPXNwX210ZiZhY3Rpb249Y2xpY2tSZWRpcmVjdCZkb05vdExvZ0NsaWNrPXRydWU=> from <GET https://www.amazon.com/gp/slredirect/picassoRedirect.html/ref=pa_sp_mtf_aps_sr_pg3_1?ie=UTF8&adId=A01236253IJJGRFAGP7O4&url=%2FPython-Programmers-Artificial-Intelligence-Studies%2Fdp%2F0135224330%2Fref%3Dsr_1_116_sspa%3Fkeywords%3Ddata%2Banalysis%26qid%3D1663454623%26sr%3D8-116-spons%26psc%3D1&qualifier=1663454623&id=4535904647139976&widgetName=sp_mtf>\n"
     ]
    },
    {
     "name": "stdout",
     "output_type": "stream",
     "text": [
      "301\n",
      "['\\n            \\n              89%\\n            \\n          '] 4.9 out of 5 stars 6.14 x 1 x 9.21 inches\n"
     ]
    },
    {
     "name": "stderr",
     "output_type": "stream",
     "text": [
      "2022-09-18 00:45:08 [scrapy.core.engine] DEBUG: Crawled (200) <GET https://www.amazon.com/Esri-Guide-GIS-Analysis-Suitability/dp/1589483057/ref=sr_1_117?keywords=data+analysis&qid=1663454623&sr=8-117> (referer: https://www.amazon.com/s?k=data+analysis&page=3&qid=1663453432&ref=sr_pg_3)\n"
     ]
    },
    {
     "name": "stdout",
     "output_type": "stream",
     "text": [
      "302\n",
      "['\\n            \\n              85%\\n            \\n          '] 4.7 out of 5 stars 7 x 1.5 x 10.1 inches\n"
     ]
    },
    {
     "name": "stderr",
     "output_type": "stream",
     "text": [
      "2022-09-18 00:45:08 [scrapy.core.engine] DEBUG: Crawled (200) <GET https://www.amazon.com/Data-Guidebook-Teachers-Leaders-Improvement/dp/1412917557/ref=sr_1_112?keywords=data+analysis&qid=1663454623&sr=8-112> (referer: https://www.amazon.com/s?k=data+analysis&page=3&qid=1663453432&ref=sr_pg_3)\n"
     ]
    },
    {
     "name": "stdout",
     "output_type": "stream",
     "text": [
      "303\n",
      "['\\n            \\n              70%\\n            \\n          '] 4.4 out of 5 stars 9.5 x 1 x 7.75 inches\n"
     ]
    },
    {
     "name": "stderr",
     "output_type": "stream",
     "text": [
      "2022-09-18 00:45:09 [scrapy.core.engine] DEBUG: Crawled (200) <GET https://www.amazon.com/Python-Data-Cleaning-Cookbook-techniques/dp/1800565666/ref=sr_1_146_sspa?keywords=data+analysis&qid=1663454642&sr=8-146-spons&psc=1&spLa=ZW5jcnlwdGVkUXVhbGlmaWVyPUEyVEVXRDQ2VFNQTUNYJmVuY3J5cHRlZElkPUEwOTMzNDY1VUpMUTFDRk5VQTVLJmVuY3J5cHRlZEFkSWQ9QTAxNTE2NTkxMVBLQ0RBR1ZKM0JVJndpZGdldE5hbWU9c3BfYXRmX25leHQmYWN0aW9uPWNsaWNrUmVkaXJlY3QmZG9Ob3RMb2dDbGljaz10cnVl> (referer: https://www.amazon.com/s?k=data+analysis&page=4&qid=1663453432&ref=sr_pg_4)\n",
      "2022-09-18 00:45:09 [scrapy.core.engine] DEBUG: Crawled (200) <GET https://www.amazon.com/Data-Mesh-Delivering-Data-Driven-Value/dp/1492092398/ref=sr_1_111?keywords=data+analysis&qid=1663454623&sr=8-111> (referer: https://www.amazon.com/s?k=data+analysis&page=3&qid=1663453432&ref=sr_pg_3)\n",
      "2022-09-18 00:45:09 [scrapy.core.engine] DEBUG: Crawled (200) <GET https://www.amazon.com/Excel-Pivot-Tables-Beginners-Analysis/dp/B07VGL7S7V/ref=sr_1_110?keywords=data+analysis&qid=1663454623&sr=8-110> (referer: https://www.amazon.com/s?k=data+analysis&page=3&qid=1663453432&ref=sr_pg_3)\n"
     ]
    },
    {
     "name": "stdout",
     "output_type": "stream",
     "text": [
      "304\n",
      "['\\n            \\n              100%\\n            \\n          '] 5.0 out of 5 stars 8.5 x 0.26 x 11 inches\n"
     ]
    },
    {
     "name": "stderr",
     "output_type": "stream",
     "text": [
      "2022-09-18 00:45:09 [scrapy.core.engine] DEBUG: Crawled (200) <GET https://www.amazon.com/Only-Bitcoin-Investing-Book-Youll/dp/B08WZ4P1DY/ref=sr_1_148_sspa?keywords=data+analysis&qid=1663454642&sr=8-148-spons&psc=1&spLa=ZW5jcnlwdGVkUXVhbGlmaWVyPUEyVEVXRDQ2VFNQTUNYJmVuY3J5cHRlZElkPUEwOTMzNDY1VUpMUTFDRk5VQTVLJmVuY3J5cHRlZEFkSWQ9QTAzOTA4MDkxS1FXVDdJNks4TFhMJndpZGdldE5hbWU9c3BfYXRmX25leHQmYWN0aW9uPWNsaWNrUmVkaXJlY3QmZG9Ob3RMb2dDbGljaz10cnVl> (referer: https://www.amazon.com/s?k=data+analysis&page=4&qid=1663453432&ref=sr_pg_4)\n"
     ]
    },
    {
     "name": "stdout",
     "output_type": "stream",
     "text": [
      "305\n",
      "['\\n            \\n              83%\\n            \\n          '] 4.8 out of 5 stars 7.5 x 0.99 x 9.25 inches\n",
      "306\n",
      "['\\n            \\n              71%\\n            \\n          '] 4.5 out of 5 stars 6.75 x 1 x 9 inches\n"
     ]
    },
    {
     "name": "stderr",
     "output_type": "stream",
     "text": [
      "2022-09-18 00:45:10 [scrapy.core.engine] DEBUG: Crawled (200) <GET https://www.amazon.com/VBA-Automation-Excel-2019-Cookbook/dp/1789610036/ref=sr_1_147_sspa?keywords=data+analysis&qid=1663454642&sr=8-147-spons&psc=1&spLa=ZW5jcnlwdGVkUXVhbGlmaWVyPUEyVEVXRDQ2VFNQTUNYJmVuY3J5cHRlZElkPUEwOTMzNDY1VUpMUTFDRk5VQTVLJmVuY3J5cHRlZEFkSWQ9QTAyNzk1ODYzM1pQN004TFNIWlRUJndpZGdldE5hbWU9c3BfYXRmX25leHQmYWN0aW9uPWNsaWNrUmVkaXJlY3QmZG9Ob3RMb2dDbGljaz10cnVl> (referer: https://www.amazon.com/s?k=data+analysis&page=4&qid=1663453432&ref=sr_pg_4)\n"
     ]
    },
    {
     "name": "stdout",
     "output_type": "stream",
     "text": [
      "307\n",
      "['\\n            \\n              51%\\n            \\n          '] 3.9 out of 5 stars None\n"
     ]
    },
    {
     "name": "stderr",
     "output_type": "stream",
     "text": [
      "2022-09-18 00:45:10 [scrapy.core.engine] DEBUG: Crawled (200) <GET https://www.amazon.com/Using-Data-Focus-Instructional-Improvement/dp/1416614842/ref=sr_1_115_sspa?keywords=data+analysis&qid=1663454623&sr=8-115-spons&psc=1&spLa=ZW5jcnlwdGVkUXVhbGlmaWVyPUEyM05IQU5UNVVIVUVSJmVuY3J5cHRlZElkPUEwMDA5ODg4MlJGUFhNTkU2QkIyRiZlbmNyeXB0ZWRBZElkPUEwMjI0ODEyMUpXTVZCNjdaU09NOCZ3aWRnZXROYW1lPXNwX210ZiZhY3Rpb249Y2xpY2tSZWRpcmVjdCZkb05vdExvZ0NsaWNrPXRydWU=> (referer: https://www.amazon.com/s?k=data+analysis&page=3&qid=1663453432&ref=sr_pg_3)\n",
      "2022-09-18 00:45:10 [scrapy.core.engine] DEBUG: Crawled (200) <GET https://www.amazon.com/Practical-Time-Analysis-Prediction-Statistics/dp/1492041653/ref=sr_1_109?keywords=data+analysis&qid=1663454623&sr=8-109> (referer: https://www.amazon.com/s?k=data+analysis&page=3&qid=1663453432&ref=sr_pg_3)\n"
     ]
    },
    {
     "name": "stdout",
     "output_type": "stream",
     "text": [
      "308\n",
      "['\\n            \\n              65%\\n            \\n          '] 4.4 out of 5 stars 6 x 0.3 x 9 inches\n"
     ]
    },
    {
     "name": "stderr",
     "output_type": "stream",
     "text": [
      "2022-09-18 00:45:10 [scrapy.core.engine] DEBUG: Crawled (200) <GET https://www.amazon.com/Big-Data-Practice-Successful-Extraordinary/dp/1119231388/ref=sr_1_106?keywords=data+analysis&qid=1663454623&sr=8-106> (referer: https://www.amazon.com/s?k=data+analysis&page=3&qid=1663453432&ref=sr_pg_3)\n",
      "2022-09-18 00:45:10 [scrapy.core.engine] DEBUG: Crawled (200) <GET https://www.amazon.com/Introduction-Statistics-Intuitive-Analyzing-Discoveries/dp/1735431109/ref=sr_1_108?keywords=data+analysis&qid=1663454623&sr=8-108> (referer: https://www.amazon.com/s?k=data+analysis&page=3&qid=1663453432&ref=sr_pg_3)\n"
     ]
    },
    {
     "name": "stdout",
     "output_type": "stream",
     "text": [
      "309\n",
      "['\\n            \\n              52%\\n            \\n          '] 4.0 out of 5 stars 7.5 x 0.82 x 9.25 inches\n",
      "310\n",
      "['\\n            \\n              75%\\n            \\n          '] 4.6 out of 5 stars 7.9 x 0.3 x 9.8 inches\n"
     ]
    },
    {
     "name": "stderr",
     "output_type": "stream",
     "text": [
      "2022-09-18 00:45:11 [scrapy.core.engine] DEBUG: Crawled (200) <GET https://www.amazon.com/Learning-Geospatial-Analysis-Python-fundamentals/dp/1789959276/ref=sr_1_114_sspa?keywords=data+analysis&qid=1663454623&sr=8-114-spons&psc=1&spLa=ZW5jcnlwdGVkUXVhbGlmaWVyPUEyM05IQU5UNVVIVUVSJmVuY3J5cHRlZElkPUEwMDA5ODg4MlJGUFhNTkU2QkIyRiZlbmNyeXB0ZWRBZElkPUEwOTk4NTg2MzZLVThTMURHR0NWNiZ3aWRnZXROYW1lPXNwX210ZiZhY3Rpb249Y2xpY2tSZWRpcmVjdCZkb05vdExvZ0NsaWNrPXRydWU=> (referer: https://www.amazon.com/s?k=data+analysis&page=3&qid=1663453432&ref=sr_pg_3)\n",
      "2022-09-18 00:45:11 [scrapy.core.engine] DEBUG: Crawled (200) <GET https://www.amazon.com/Hands-Data-Science-Techniques-manipulation/dp/1789139406/ref=sr_1_113_sspa?keywords=data+analysis&qid=1663454623&sr=8-113-spons&psc=1&spLa=ZW5jcnlwdGVkUXVhbGlmaWVyPUEyM05IQU5UNVVIVUVSJmVuY3J5cHRlZElkPUEwMDA5ODg4MlJGUFhNTkU2QkIyRiZlbmNyeXB0ZWRBZElkPUEwOTY4NDE5MTNMTDQ3T0pBTlYwQiZ3aWRnZXROYW1lPXNwX210ZiZhY3Rpb249Y2xpY2tSZWRpcmVjdCZkb05vdExvZ0NsaWNrPXRydWU=> (referer: https://www.amazon.com/s?k=data+analysis&page=3&qid=1663453432&ref=sr_pg_3)\n"
     ]
    },
    {
     "name": "stdout",
     "output_type": "stream",
     "text": [
      "311\n",
      "['\\n            \\n              56%\\n            \\n          '] 4.1 out of 5 stars 7 x 1 x 9.25 inches\n",
      "312\n",
      "[] None None\n"
     ]
    },
    {
     "name": "stderr",
     "output_type": "stream",
     "text": [
      "2022-09-18 00:45:11 [scrapy.core.engine] DEBUG: Crawled (200) <GET https://www.amazon.com/Python-Programming-Beginners-Step-Hands/dp/B0B3S3RFQT/ref=sr_1_107?keywords=data+analysis&qid=1663454623&sr=8-107> (referer: https://www.amazon.com/s?k=data+analysis&page=3&qid=1663453432&ref=sr_pg_3)\n"
     ]
    },
    {
     "name": "stdout",
     "output_type": "stream",
     "text": [
      "313\n",
      "['\\n            \\n              72%\\n            \\n          '] 4.5 out of 5 stars 6 x 0.58 x 9 inches\n"
     ]
    },
    {
     "name": "stderr",
     "output_type": "stream",
     "text": [
      "2022-09-18 00:45:12 [scrapy.core.engine] DEBUG: Crawled (200) <GET https://www.amazon.com/Python-Dash-Analysis-Visualization-Plotly/dp/1718502222/ref=sr_1_105?keywords=data+analysis&qid=1663454623&sr=8-105> (referer: https://www.amazon.com/s?k=data+analysis&page=3&qid=1663453432&ref=sr_pg_3)\n"
     ]
    },
    {
     "name": "stdout",
     "output_type": "stream",
     "text": [
      "314\n",
      "['\\n            \\n              62%\\n            \\n          '] 4.4 out of 5 stars 7.5 x 1.03 x 9.25 inches\n",
      "315\n",
      "['\\n            \\n              37%\\n            \\n          '] 4.1 out of 5 stars 7.5 x 0.95 x 9.25 inches\n",
      "316\n",
      "['\\n            \\n              77%\\n            \\n          '] 4.5 out of 5 stars 8 x 0.28 x 10 inches\n",
      "317\n",
      "[] None 6.89 x 0.57 x 9.06 inches\n"
     ]
    },
    {
     "name": "stderr",
     "output_type": "stream",
     "text": [
      "2022-09-18 00:45:12 [scrapy.core.engine] DEBUG: Crawled (200) <GET https://www.amazon.com/Statistics-Statistical-Analysis-Illustrated-Foundations-ebook/dp/B09QD64XSW/ref=sr_1_102?keywords=data+analysis&qid=1663454623&sr=8-102> (referer: https://www.amazon.com/s?k=data+analysis&page=3&qid=1663453432&ref=sr_pg_3)\n",
      "2022-09-18 00:45:12 [scrapy.core.engine] DEBUG: Crawled (200) <GET https://www.amazon.com/Python-Programmers-Artificial-Intelligence-Studies/dp/0135224330/ref=sr_1_116_sspa?keywords=data+analysis&qid=1663454623&sr=8-116-spons&psc=1&spLa=ZW5jcnlwdGVkUXVhbGlmaWVyPUEyM05IQU5UNVVIVUVSJmVuY3J5cHRlZElkPUEwMDA5ODg4MlJGUFhNTkU2QkIyRiZlbmNyeXB0ZWRBZElkPUEwMTIzNjI1M0lKSkdSRkFHUDdPNCZ3aWRnZXROYW1lPXNwX210ZiZhY3Rpb249Y2xpY2tSZWRpcmVjdCZkb05vdExvZ0NsaWNrPXRydWU=> (referer: https://www.amazon.com/s?k=data+analysis&page=3&qid=1663453432&ref=sr_pg_3)\n",
      "2022-09-18 00:45:13 [scrapy.core.engine] DEBUG: Crawled (200) <GET https://www.amazon.com/SAS-Management-Statistical-Analysis-Graphics/dp/1420070576/ref=sr_1_103?keywords=data+analysis&qid=1663454623&sr=8-103> (referer: https://www.amazon.com/s?k=data+analysis&page=3&qid=1663453432&ref=sr_pg_3)\n",
      "2022-09-18 00:45:13 [scrapy.core.engine] DEBUG: Crawled (200) <GET https://www.amazon.com/Data-Detective-Rules-Sense-Statistics-ebook/dp/B089425N6D/ref=sr_1_104?keywords=data+analysis&qid=1663454623&sr=8-104> (referer: https://www.amazon.com/s?k=data+analysis&page=3&qid=1663453432&ref=sr_pg_3)\n",
      "2022-09-18 00:45:13 [scrapy.core.engine] DEBUG: Crawled (200) <GET https://www.amazon.com/Python-Geospatial-Data-Analysis-Intelligence/dp/109810479X/ref=sr_1_74?keywords=data+analysis&qid=1663454609&sr=8-74> (referer: https://www.amazon.com/s?k=data+analysis&page=2&qid=1663453432&ref=sr_pg_2)\n"
     ]
    },
    {
     "name": "stdout",
     "output_type": "stream",
     "text": [
      "318\n",
      "['\\n            \\n              57%\\n            \\n          '] 3.9 out of 5 stars None\n",
      "319\n",
      "['\\n            \\n              70%\\n            \\n          '] "
     ]
    },
    {
     "name": "stderr",
     "output_type": "stream",
     "text": [
      "2022-09-18 00:45:13 [scrapy.core.engine] DEBUG: Crawled (200) <GET https://www.amazon.com/Mastering-Tableau-2021-intelligence-techniques/dp/1800561644/ref=sr_1_73?keywords=data+analysis&qid=1663454609&sr=8-73> (referer: https://www.amazon.com/s?k=data+analysis&page=2&qid=1663453432&ref=sr_pg_2)\n"
     ]
    },
    {
     "name": "stdout",
     "output_type": "stream",
     "text": [
      "4.4 out of 5 stars 7.1 x 1.2 x 9.1 inches\n",
      "320\n",
      "['\\n            \\n              40%\\n            \\n          '] 3.8 out of 5 stars 7 x 1 x 10 inches\n",
      "321\n",
      "['\\n            \\n              63%\\n            \\n          '] 4.5 out of 5 stars None\n"
     ]
    },
    {
     "name": "stderr",
     "output_type": "stream",
     "text": [
      "2022-09-18 00:45:14 [scrapy.downloadermiddlewares.redirect] DEBUG: Redirecting (302) to <GET https://www.amazon.com/Excel-Pivot-Tables-Charts-Computer/dp/1423216431/ref=sr_1_68_sspa?keywords=data+analysis&qid=1663454609&sr=8-68-spons&psc=1&spLa=ZW5jcnlwdGVkUXVhbGlmaWVyPUFZTElVTlEzODFDRzUmZW5jcnlwdGVkSWQ9QTAxMTE5ODQyR0JUM0lXTTkwQjZUJmVuY3J5cHRlZEFkSWQ9QTEwMjUxNDAyWTZUVUMwUjQ4RTFLJndpZGdldE5hbWU9c3BfbXRmJmFjdGlvbj1jbGlja1JlZGlyZWN0JmRvTm90TG9nQ2xpY2s9dHJ1ZQ==> from <GET https://www.amazon.com/gp/slredirect/picassoRedirect.html/ref=pa_sp_mtf_aps_sr_pg2_1?ie=UTF8&adId=A10251402Y6TUC0R48E1K&url=%2FExcel-Pivot-Tables-Charts-Computer%2Fdp%2F1423216431%2Fref%3Dsr_1_68_sspa%3Fkeywords%3Ddata%2Banalysis%26qid%3D1663454609%26sr%3D8-68-spons%26psc%3D1&qualifier=1663454609&id=565449148708087&widgetName=sp_mtf>\n",
      "2022-09-18 00:45:14 [scrapy.downloadermiddlewares.redirect] DEBUG: Redirecting (302) to <GET https://www.amazon.com/Microsoft-Power-Quick-Start-Guide/dp/1800561571/ref=sr_1_67_sspa?keywords=data+analysis&qid=1663454609&sr=8-67-spons&psc=1&spLa=ZW5jcnlwdGVkUXVhbGlmaWVyPUFZTElVTlEzODFDRzUmZW5jcnlwdGVkSWQ9QTAxMTE5ODQyR0JUM0lXTTkwQjZUJmVuY3J5cHRlZEFkSWQ9QTA4NjAyODAyNVZKNUpJN1A3Q1JEJndpZGdldE5hbWU9c3BfbXRmJmFjdGlvbj1jbGlja1JlZGlyZWN0JmRvTm90TG9nQ2xpY2s9dHJ1ZQ==> from <GET https://www.amazon.com/gp/slredirect/picassoRedirect.html/ref=pa_sp_mtf_aps_sr_pg2_1?ie=UTF8&adId=A086028025VJ5JI7P7CRD&url=%2FMicrosoft-Power-Quick-Start-Guide%2Fdp%2F1800561571%2Fref%3Dsr_1_67_sspa%3Fkeywords%3Ddata%2Banalysis%26qid%3D1663454609%26sr%3D8-67-spons%26psc%3D1&qualifier=1663454609&id=565449148708087&widgetName=sp_mtf>\n",
      "2022-09-18 00:45:14 [scrapy.core.engine] DEBUG: Crawled (200) <GET https://www.amazon.com/Microsoft-365-Excel-Calculations-Analytics/dp/1615470700/ref=sr_1_71?keywords=data+analysis&qid=1663454609&sr=8-71> (referer: https://www.amazon.com/s?k=data+analysis&page=2&qid=1663453432&ref=sr_pg_2)\n",
      "2022-09-18 00:45:14 [scrapy.core.engine] DEBUG: Crawled (200) <GET https://www.amazon.com/Data-Analysis-comprehensive-manipulating-visualizing/dp/1788393724/ref=sr_1_72?keywords=data+analysis&qid=1663454609&sr=8-72> (referer: https://www.amazon.com/s?k=data+analysis&page=2&qid=1663453432&ref=sr_pg_2)\n",
      "2022-09-18 00:45:14 [scrapy.downloadermiddlewares.redirect] DEBUG: Redirecting (302) to <GET https://www.amazon.com/Essential-Statistics-Non-STEM-Data-Analysts/dp/1838984844/ref=sr_1_66_sspa?keywords=data+analysis&qid=1663454609&sr=8-66-spons&psc=1&spLa=ZW5jcnlwdGVkUXVhbGlmaWVyPUFZTElVTlEzODFDRzUmZW5jcnlwdGVkSWQ9QTAxMTE5ODQyR0JUM0lXTTkwQjZUJmVuY3J5cHRlZEFkSWQ9QTA0NzA2NDdXRU5SR1kxMUlFN1cmd2lkZ2V0TmFtZT1zcF9tdGYmYWN0aW9uPWNsaWNrUmVkaXJlY3QmZG9Ob3RMb2dDbGljaz10cnVl> from <GET https://www.amazon.com/gp/slredirect/picassoRedirect.html/ref=pa_sp_mtf_aps_sr_pg2_1?ie=UTF8&adId=A0470647WENRGY11IE7W&url=%2FEssential-Statistics-Non-STEM-Data-Analysts%2Fdp%2F1838984844%2Fref%3Dsr_1_66_sspa%3Fkeywords%3Ddata%2Banalysis%26qid%3D1663454609%26sr%3D8-66-spons%26psc%3D1&qualifier=1663454609&id=565449148708087&widgetName=sp_mtf>\n"
     ]
    },
    {
     "name": "stdout",
     "output_type": "stream",
     "text": [
      "322\n",
      "[] None None\n"
     ]
    },
    {
     "name": "stderr",
     "output_type": "stream",
     "text": [
      "2022-09-18 00:45:14 [scrapy.downloadermiddlewares.redirect] DEBUG: Redirecting (302) to <GET https://www.amazon.com/Building-Data-Pipelines-Apache-Beam/dp/1800564937/ref=sr_1_65_sspa?keywords=data+analysis&qid=1663454609&sr=8-65-spons&psc=1&spLa=ZW5jcnlwdGVkUXVhbGlmaWVyPUFZTElVTlEzODFDRzUmZW5jcnlwdGVkSWQ9QTAxMTE5ODQyR0JUM0lXTTkwQjZUJmVuY3J5cHRlZEFkSWQ9QTA3OTkyMDdFVk5XQkgxWFo3U1Mmd2lkZ2V0TmFtZT1zcF9tdGYmYWN0aW9uPWNsaWNrUmVkaXJlY3QmZG9Ob3RMb2dDbGljaz10cnVl> from <GET https://www.amazon.com/gp/slredirect/picassoRedirect.html/ref=pa_sp_mtf_aps_sr_pg2_1?ie=UTF8&adId=A0799207EVNWBH1XZ7SS&url=%2FBuilding-Data-Pipelines-Apache-Beam%2Fdp%2F1800564937%2Fref%3Dsr_1_65_sspa%3Fkeywords%3Ddata%2Banalysis%26qid%3D1663454609%26sr%3D8-65-spons%26psc%3D1&qualifier=1663454609&id=565449148708087&widgetName=sp_mtf>\n",
      "2022-09-18 00:45:14 [scrapy.core.engine] DEBUG: Crawled (200) <GET https://www.amazon.com/Analysis-Economics-Data-Introduction-Econometrics-ebook/dp/B09Q9CT5GN/ref=sr_1_70?keywords=data+analysis&qid=1663454609&sr=8-70> (referer: https://www.amazon.com/s?k=data+analysis&page=2&qid=1663453432&ref=sr_pg_2)\n"
     ]
    },
    {
     "name": "stdout",
     "output_type": "stream",
     "text": [
      "323\n",
      "['\\n            \\n              70%\\n            \\n          '] 4.4 out of 5 stars 7.5 x 1.79 x 9.25 inches\n",
      "324\n",
      "['\\n            \\n              100%\\n            \\n          '] 5.0 out of 5 stars 8 x 1.86 x 10.75 inches\n"
     ]
    },
    {
     "name": "stderr",
     "output_type": "stream",
     "text": [
      "2022-09-18 00:45:14 [scrapy.core.engine] DEBUG: Crawled (200) <GET https://www.amazon.com/High-Dimensional-Data-Analysis-Low-Dimensional-Models/dp/1108489737/ref=sr_1_62?keywords=data+analysis&qid=1663454609&sr=8-62> (referer: https://www.amazon.com/s?k=data+analysis&page=2&qid=1663453432&ref=sr_pg_2)\n"
     ]
    },
    {
     "name": "stdout",
     "output_type": "stream",
     "text": [
      "325\n",
      "['\\n            \\n              74%\\n            \\n          '] 4.4 out of 5 stars 7.5 x 1.29 x 9.25 inches\n"
     ]
    },
    {
     "name": "stderr",
     "output_type": "stream",
     "text": [
      "2022-09-18 00:45:15 [scrapy.core.engine] DEBUG: Crawled (200) <GET https://www.amazon.com/Software-Architecture-Trade-Off-Distributed-Architectures/dp/1492086894/ref=sr_1_69?keywords=data+analysis&qid=1663454609&sr=8-69> (referer: https://www.amazon.com/s?k=data+analysis&page=2&qid=1663453432&ref=sr_pg_2)\n"
     ]
    },
    {
     "name": "stdout",
     "output_type": "stream",
     "text": [
      "326\n",
      "['\\n            \\n              78%\\n            \\n          '] 4.1 out of 5 stars None\n",
      "327\n",
      "[] None None\n"
     ]
    },
    {
     "name": "stderr",
     "output_type": "stream",
     "text": [
      "2022-09-18 00:45:15 [scrapy.core.engine] DEBUG: Crawled (200) <GET https://www.amazon.com/Listening-People-Interviewing-Participant-Observation/dp/022680643X/ref=sr_1_58?keywords=data+analysis&qid=1663454609&sr=8-58> (referer: https://www.amazon.com/s?k=data+analysis&page=2&qid=1663453432&ref=sr_pg_2)\n"
     ]
    },
    {
     "name": "stdout",
     "output_type": "stream",
     "text": [
      "328\n",
      "['\\n            \\n              76%\\n            \\n          '] 4.6 out of 5 stars 7 x 0.75 x 9.25 inches\n",
      "329\n",
      "[] None None\n"
     ]
    },
    {
     "name": "stderr",
     "output_type": "stream",
     "text": [
      "2022-09-18 00:45:15 [scrapy.core.engine] DEBUG: Crawled (200) <GET https://www.amazon.com/Introduction-Statistical-Machine-Learning-Methods/dp/1953329608/ref=sr_1_64?keywords=data+analysis&qid=1663454609&sr=8-64> (referer: https://www.amazon.com/s?k=data+analysis&page=2&qid=1663453432&ref=sr_pg_2)\n",
      "2022-09-18 00:45:16 [scrapy.core.engine] DEBUG: Crawled (200) <GET https://www.amazon.com/Data-Analytics-Markus-Schellander-audiobook/dp/B08176WPYJ/ref=sr_1_61?keywords=data+analysis&qid=1663454609&sr=8-61> (referer: https://www.amazon.com/s?k=data+analysis&page=2&qid=1663453432&ref=sr_pg_2)\n",
      "2022-09-18 00:45:16 [scrapy.core.engine] DEBUG: Crawled (200) <GET https://www.amazon.com/Data-Analysis-Corporate-Finance-financial-ebook/dp/B09P8TD5RK/ref=sr_1_59?keywords=data+analysis&qid=1663454609&sr=8-59> (referer: https://www.amazon.com/s?k=data+analysis&page=2&qid=1663453432&ref=sr_pg_2)\n",
      "2022-09-18 00:45:16 [scrapy.core.engine] DEBUG: Crawled (200) <GET https://www.amazon.com/Hands-Data-Analysis-Pandas-visualization/dp/1800563450/ref=sr_1_63?keywords=data+analysis&qid=1663454609&sr=8-63> (referer: https://www.amazon.com/s?k=data+analysis&page=2&qid=1663453432&ref=sr_pg_2)\n"
     ]
    },
    {
     "name": "stdout",
     "output_type": "stream",
     "text": [
      "330\n",
      "['\\n            \\n              100%\\n            \\n          '] 5.0 out of 5 stars 7.5 x 0.39 x 9.25 inches\n"
     ]
    },
    {
     "name": "stderr",
     "output_type": "stream",
     "text": [
      "2022-09-18 00:45:16 [scrapy.core.engine] DEBUG: Crawled (200) <GET https://www.amazon.com/Python-Data-Analysis-Beginners-Fundamentals/dp/B09DMP86NY/ref=sr_1_56?keywords=data+analysis&qid=1663454609&sr=8-56> (referer: https://www.amazon.com/s?k=data+analysis&page=2&qid=1663453432&ref=sr_pg_2)\n",
      "2022-09-18 00:45:16 [scrapy.core.engine] DEBUG: Crawled (200) <GET https://www.amazon.com/Microsoft-Power-Quick-Start-Guide/dp/1800561571/ref=sr_1_67_sspa?keywords=data+analysis&qid=1663454609&sr=8-67-spons&psc=1&spLa=ZW5jcnlwdGVkUXVhbGlmaWVyPUFZTElVTlEzODFDRzUmZW5jcnlwdGVkSWQ9QTAxMTE5ODQyR0JUM0lXTTkwQjZUJmVuY3J5cHRlZEFkSWQ9QTA4NjAyODAyNVZKNUpJN1A3Q1JEJndpZGdldE5hbWU9c3BfbXRmJmFjdGlvbj1jbGlja1JlZGlyZWN0JmRvTm90TG9nQ2xpY2s9dHJ1ZQ==> (referer: https://www.amazon.com/s?k=data+analysis&page=2&qid=1663453432&ref=sr_pg_2)\n"
     ]
    },
    {
     "name": "stdout",
     "output_type": "stream",
     "text": [
      "331\n",
      "[] None None\n",
      "332\n",
      "['\\n            \\n              100%\\n            \\n          '] 5.0 out of 5 stars None\n"
     ]
    },
    {
     "name": "stderr",
     "output_type": "stream",
     "text": [
      "2022-09-18 00:45:16 [scrapy.core.engine] DEBUG: Crawled (200) <GET https://www.amazon.com/Essential-Math-Data-Science-Fundamental/dp/1098102932/ref=sr_1_54?keywords=data+analysis&qid=1663454609&sr=8-54> (referer: https://www.amazon.com/s?k=data+analysis&page=2&qid=1663453432&ref=sr_pg_2)\n",
      "2022-09-18 00:45:16 [scrapy.core.engine] DEBUG: Crawled (200) <GET https://www.amazon.com/Excel-Pivot-Tables-Charts-Computer/dp/1423216431/ref=sr_1_68_sspa?keywords=data+analysis&qid=1663454609&sr=8-68-spons&psc=1&spLa=ZW5jcnlwdGVkUXVhbGlmaWVyPUFZTElVTlEzODFDRzUmZW5jcnlwdGVkSWQ9QTAxMTE5ODQyR0JUM0lXTTkwQjZUJmVuY3J5cHRlZEFkSWQ9QTEwMjUxNDAyWTZUVUMwUjQ4RTFLJndpZGdldE5hbWU9c3BfbXRmJmFjdGlvbj1jbGlja1JlZGlyZWN0JmRvTm90TG9nQ2xpY2s9dHJ1ZQ==> (referer: https://www.amazon.com/s?k=data+analysis&page=2&qid=1663453432&ref=sr_pg_2)\n"
     ]
    },
    {
     "name": "stdout",
     "output_type": "stream",
     "text": [
      "333\n",
      "['\\n            \\n              67%\\n            \\n          '] 4.3 out of 5 stars 7.5 x 1.78 x 9.25 inches\n",
      "334\n",
      "[] None None\n"
     ]
    },
    {
     "name": "stderr",
     "output_type": "stream",
     "text": [
      "2022-09-18 00:45:17 [scrapy.extensions.logstats] INFO: Crawled 343 pages (at 200 pages/min), scraped 0 items (at 0 items/min)\n",
      "2022-09-18 00:45:17 [scrapy.core.engine] DEBUG: Crawled (200) <GET https://www.amazon.com/Analysis-Python-PySpark-Jonathan-Rioux/dp/1617297208/ref=sr_1_60?keywords=data+analysis&qid=1663454609&sr=8-60> (referer: https://www.amazon.com/s?k=data+analysis&page=2&qid=1663453432&ref=sr_pg_2)\n",
      "2022-09-18 00:45:17 [scrapy.downloadermiddlewares.redirect] DEBUG: Redirecting (302) to <GET https://www.amazon.com/Threat-Modeling-Designing-Adam-Shostack/dp/1118809998/ref=sr_1_52_sspa?keywords=data+analysis&qid=1663454609&sr=8-52-spons&psc=1&spLa=ZW5jcnlwdGVkUXVhbGlmaWVyPUFZTElVTlEzODFDRzUmZW5jcnlwdGVkSWQ9QTAxMTE5ODQyR0JUM0lXTTkwQjZUJmVuY3J5cHRlZEFkSWQ9QTAzMDE1NTNFSTM1N0VDM1lMOVQmd2lkZ2V0TmFtZT1zcF9hdGZfbmV4dCZhY3Rpb249Y2xpY2tSZWRpcmVjdCZkb05vdExvZ0NsaWNrPXRydWU=> from <GET https://www.amazon.com/gp/slredirect/picassoRedirect.html/ref=pa_sp_atf_next_aps_sr_pg2_1?ie=UTF8&adId=A0301553EI357EC3YL9T&url=%2FThreat-Modeling-Designing-Adam-Shostack%2Fdp%2F1118809998%2Fref%3Dsr_1_52_sspa%3Fkeywords%3Ddata%2Banalysis%26qid%3D1663454609%26sr%3D8-52-spons%26psc%3D1&qualifier=1663454609&id=565449148708087&widgetName=sp_atf_next>\n"
     ]
    },
    {
     "name": "stdout",
     "output_type": "stream",
     "text": [
      "335\n",
      "['\\n            \\n              57%\\n            \\n          '] 4.3 out of 5 stars 7.5 x 0.67 x 9.25 inches\n",
      "336\n",
      "[] None None\n"
     ]
    },
    {
     "name": "stderr",
     "output_type": "stream",
     "text": [
      "2022-09-18 00:45:17 [scrapy.core.engine] DEBUG: Crawled (200) <GET https://www.amazon.com/Essential-Statistics-Non-STEM-Data-Analysts/dp/1838984844/ref=sr_1_66_sspa?keywords=data+analysis&qid=1663454609&sr=8-66-spons&psc=1&spLa=ZW5jcnlwdGVkUXVhbGlmaWVyPUFZTElVTlEzODFDRzUmZW5jcnlwdGVkSWQ9QTAxMTE5ODQyR0JUM0lXTTkwQjZUJmVuY3J5cHRlZEFkSWQ9QTA0NzA2NDdXRU5SR1kxMUlFN1cmd2lkZ2V0TmFtZT1zcF9tdGYmYWN0aW9uPWNsaWNrUmVkaXJlY3QmZG9Ob3RMb2dDbGljaz10cnVl> (referer: https://www.amazon.com/s?k=data+analysis&page=2&qid=1663453432&ref=sr_pg_2)\n",
      "2022-09-18 00:45:17 [scrapy.core.engine] DEBUG: Crawled (200) <GET https://www.amazon.com/Automate-Boring-Stuff-Python-2nd/dp/1593279922/ref=sr_1_57?keywords=data+analysis&qid=1663454609&sr=8-57> (referer: https://www.amazon.com/s?k=data+analysis&page=2&qid=1663453432&ref=sr_pg_2)\n",
      "2022-09-18 00:45:17 [scrapy.downloadermiddlewares.redirect] DEBUG: Redirecting (302) to <GET https://www.amazon.com/Data-Visualization-Python-Daniel-Nelson/dp/B08TZ9LWWX/ref=sr_1_51_sspa?keywords=data+analysis&qid=1663454609&sr=8-51-spons&psc=1&spLa=ZW5jcnlwdGVkUXVhbGlmaWVyPUFZTElVTlEzODFDRzUmZW5jcnlwdGVkSWQ9QTAxMTE5ODQyR0JUM0lXTTkwQjZUJmVuY3J5cHRlZEFkSWQ9QTA5NDkzNTJWUkVaV1JIVDNITjcmd2lkZ2V0TmFtZT1zcF9hdGZfbmV4dCZhY3Rpb249Y2xpY2tSZWRpcmVjdCZkb05vdExvZ0NsaWNrPXRydWU=> from <GET https://www.amazon.com/gp/slredirect/picassoRedirect.html/ref=pa_sp_atf_next_aps_sr_pg2_1?ie=UTF8&adId=A0949352VREZWRHT3HN7&url=%2FData-Visualization-Python-Daniel-Nelson%2Fdp%2FB08TZ9LWWX%2Fref%3Dsr_1_51_sspa%3Fkeywords%3Ddata%2Banalysis%26qid%3D1663454609%26sr%3D8-51-spons%26psc%3D1&qualifier=1663454609&id=565449148708087&widgetName=sp_atf_next>\n"
     ]
    },
    {
     "name": "stdout",
     "output_type": "stream",
     "text": [
      "337\n",
      "['\\n            \\n              74%\\n            \\n          '] 4.6 out of 5 stars 8.5 x 11 x 0.06 inches\n"
     ]
    },
    {
     "name": "stderr",
     "output_type": "stream",
     "text": [
      "2022-09-18 00:45:18 [scrapy.core.engine] DEBUG: Crawled (200) <GET https://www.amazon.com/Statistical-Analysis-Excel-Dummies-Computer/dp/1119844541/ref=sr_1_55?keywords=data+analysis&qid=1663454609&sr=8-55> (referer: https://www.amazon.com/s?k=data+analysis&page=2&qid=1663453432&ref=sr_pg_2)\n",
      "2022-09-18 00:45:18 [scrapy.core.engine] DEBUG: Crawled (200) <GET https://www.amazon.com/Hands-Data-Analysis-Pandas-visualization/dp/1789615321/ref=sr_1_53?keywords=data+analysis&qid=1663454609&sr=8-53> (referer: https://www.amazon.com/s?k=data+analysis&page=2&qid=1663453432&ref=sr_pg_2)\n",
      "2022-09-18 00:45:18 [scrapy.downloadermiddlewares.redirect] DEBUG: Redirecting (302) to <GET https://www.amazon.com/Digital-Forensics-Incident-Response-techniques/dp/183864900X/ref=sr_1_50_sspa?keywords=data+analysis&qid=1663454609&sr=8-50-spons&psc=1&spLa=ZW5jcnlwdGVkUXVhbGlmaWVyPUFZTElVTlEzODFDRzUmZW5jcnlwdGVkSWQ9QTAxMTE5ODQyR0JUM0lXTTkwQjZUJmVuY3J5cHRlZEFkSWQ9QTAxMDM5NTEyWEZHRDBNRkJQUFRMJndpZGdldE5hbWU9c3BfYXRmX25leHQmYWN0aW9uPWNsaWNrUmVkaXJlY3QmZG9Ob3RMb2dDbGljaz10cnVl> from <GET https://www.amazon.com/gp/slredirect/picassoRedirect.html/ref=pa_sp_atf_next_aps_sr_pg2_1?ie=UTF8&adId=A01039512XFGD0MFBPPTL&url=%2FDigital-Forensics-Incident-Response-techniques%2Fdp%2F183864900X%2Fref%3Dsr_1_50_sspa%3Fkeywords%3Ddata%2Banalysis%26qid%3D1663454609%26sr%3D8-50-spons%26psc%3D1&qualifier=1663454609&id=565449148708087&widgetName=sp_atf_next>\n"
     ]
    },
    {
     "name": "stdout",
     "output_type": "stream",
     "text": [
      "338\n",
      "['\\n            \\n              80%\\n            \\n          '] 4.8 out of 5 stars 7.38 x 1 x 9.25 inches\n",
      "339\n",
      "['\\n            \\n              61%\\n            \\n          '] 4.3 out of 5 stars 7.5 x 0.89 x 9.25 inches\n",
      "340\n",
      "['\\n            \\n              82%\\n            \\n          '] 4.7 out of 5 stars 7 x 1.31 x 9.31 inches\n"
     ]
    },
    {
     "name": "stderr",
     "output_type": "stream",
     "text": [
      "2022-09-18 00:45:18 [scrapy.core.engine] DEBUG: Crawled (200) <GET https://www.amazon.com/Building-Data-Pipelines-Apache-Beam/dp/1800564937/ref=sr_1_65_sspa?keywords=data+analysis&qid=1663454609&sr=8-65-spons&psc=1&spLa=ZW5jcnlwdGVkUXVhbGlmaWVyPUFZTElVTlEzODFDRzUmZW5jcnlwdGVkSWQ9QTAxMTE5ODQyR0JUM0lXTTkwQjZUJmVuY3J5cHRlZEFkSWQ9QTA3OTkyMDdFVk5XQkgxWFo3U1Mmd2lkZ2V0TmFtZT1zcF9tdGYmYWN0aW9uPWNsaWNrUmVkaXJlY3QmZG9Ob3RMb2dDbGljaz10cnVl> (referer: https://www.amazon.com/s?k=data+analysis&page=2&qid=1663453432&ref=sr_pg_2)\n"
     ]
    },
    {
     "name": "stdout",
     "output_type": "stream",
     "text": [
      "341\n",
      "['\\n            \\n              35%\\n            \\n          '] 3.7 out of 5 stars 7.38 x 1.3 x 9.25 inches\n"
     ]
    },
    {
     "name": "stderr",
     "output_type": "stream",
     "text": [
      "2022-09-18 00:45:18 [scrapy.core.engine] DEBUG: Crawled (200) <GET https://www.amazon.com/Optimization-Data-Analysis-Stephen-Wright/dp/1316518981/ref=sr_1_25?keywords=data+analysis&qid=1663454597&sr=8-25> (referer: https://www.amazon.com/s?k=data+analysis&ref=nb_sb_noss)\n",
      "2022-09-18 00:45:18 [scrapy.core.engine] DEBUG: Crawled (200) <GET https://www.amazon.com/Art-Data-Analysis-Non-Technical-Analysts-ebook/dp/B08G1ZQBG2/ref=sr_1_24?keywords=data+analysis&qid=1663454597&sr=8-24> (referer: https://www.amazon.com/s?k=data+analysis&ref=nb_sb_noss)\n"
     ]
    },
    {
     "name": "stdout",
     "output_type": "stream",
     "text": [
      "342\n",
      "['\\n            \\n              76%\\n            \\n          '] 4.4 out of 5 stars 7.5 x 1.67 x 9.25 inches\n",
      "343\n",
      "['\\n            \\n              55%\\n            \\n          '] 3.9 out of 5 stars 7.5 x 0.78 x 9.25 inches\n",
      "344\n",
      "[] None None\n"
     ]
    },
    {
     "name": "stderr",
     "output_type": "stream",
     "text": [
      "2022-09-18 00:45:19 [scrapy.core.engine] DEBUG: Crawled (200) <GET https://www.amazon.com/Statistics-Data-Analysis-Elementary-Intermediate/dp/0137444265/ref=sr_1_28?keywords=data+analysis&qid=1663454597&sr=8-28> (referer: https://www.amazon.com/s?k=data+analysis&ref=nb_sb_noss)\n"
     ]
    },
    {
     "name": "stdout",
     "output_type": "stream",
     "text": [
      "345\n",
      "[] None None\n",
      "346\n",
      "['\\n            \\n              69%\\n            \\n          '] 4.4 out of 5 stars 7 x 1.5 x 9.2 inches\n"
     ]
    },
    {
     "name": "stderr",
     "output_type": "stream",
     "text": [
      "2022-09-18 00:45:19 [scrapy.core.engine] DEBUG: Crawled (200) <GET https://www.amazon.com/Primer-Analysis-Genomic-Data-Using-ebook/dp/B00XWDQR40/ref=sr_1_27?keywords=data+analysis&qid=1663454597&sr=8-27> (referer: https://www.amazon.com/s?k=data+analysis&ref=nb_sb_noss)\n",
      "2022-09-18 00:45:20 [scrapy.downloadermiddlewares.redirect] DEBUG: Redirecting (302) to <GET https://www.amazon.com/Excel-2022-Strategies-Step-Step/dp/B0B6LDS15N/ref=sr_1_20_sspa?keywords=data+analysis&qid=1663454597&sr=8-20-spons&psc=1&spLa=ZW5jcnlwdGVkUXVhbGlmaWVyPUExNDRNSks5NFNUWjZEJmVuY3J5cHRlZElkPUEwNDM5MjU4Rjk4T1JYNVhBUERRJmVuY3J5cHRlZEFkSWQ9QTA1MjUzNzAxQTFaTlI5VklDSlRaJndpZGdldE5hbWU9c3BfbXRmJmFjdGlvbj1jbGlja1JlZGlyZWN0JmRvTm90TG9nQ2xpY2s9dHJ1ZQ==> from <GET https://www.amazon.com/gp/slredirect/picassoRedirect.html/ref=pa_sp_mtf_aps_sr_pg1_1?ie=UTF8&adId=A05253701A1ZNR9VICJTZ&url=%2FExcel-2022-Strategies-Step-Step%2Fdp%2FB0B6LDS15N%2Fref%3Dsr_1_20_sspa%3Fkeywords%3Ddata%2Banalysis%26qid%3D1663454597%26sr%3D8-20-spons%26psc%3D1&qualifier=1663454597&id=8970470033616320&widgetName=sp_mtf>\n",
      "2022-09-18 00:45:20 [scrapy.core.engine] DEBUG: Crawled (200) <GET https://www.amazon.com/Excel-Data-Analysis-Dummies-Computer/dp/1119518164/ref=sr_1_21?keywords=data+analysis&qid=1663454597&sr=8-21> (referer: https://www.amazon.com/s?k=data+analysis&ref=nb_sb_noss)\n",
      "2022-09-18 00:45:20 [scrapy.core.engine] DEBUG: Crawled (200) <GET https://www.amazon.com/Threat-Modeling-Designing-Adam-Shostack/dp/1118809998/ref=sr_1_52_sspa?keywords=data+analysis&qid=1663454609&sr=8-52-spons&psc=1&spLa=ZW5jcnlwdGVkUXVhbGlmaWVyPUFZTElVTlEzODFDRzUmZW5jcnlwdGVkSWQ9QTAxMTE5ODQyR0JUM0lXTTkwQjZUJmVuY3J5cHRlZEFkSWQ9QTAzMDE1NTNFSTM1N0VDM1lMOVQmd2lkZ2V0TmFtZT1zcF9hdGZfbmV4dCZhY3Rpb249Y2xpY2tSZWRpcmVjdCZkb05vdExvZ0NsaWNrPXRydWU=> (referer: https://www.amazon.com/s?k=data+analysis&page=2&qid=1663453432&ref=sr_pg_2)\n",
      "2022-09-18 00:45:20 [scrapy.core.engine] DEBUG: Crawled (200) <GET https://www.amazon.com/Data-Analysis-Social-Scientists-Foundational/dp/B0B28N722F/ref=sr_1_30?keywords=data+analysis&qid=1663454597&sr=8-30> (referer: https://www.amazon.com/s?k=data+analysis&ref=nb_sb_noss)\n"
     ]
    },
    {
     "name": "stdout",
     "output_type": "stream",
     "text": [
      "347\n",
      "['\\n            \\n              69%\\n            \\n          '] 4.0 out of 5 stars None\n"
     ]
    },
    {
     "name": "stderr",
     "output_type": "stream",
     "text": [
      "2022-09-18 00:45:20 [scrapy.core.engine] DEBUG: Crawled (200) <GET https://www.amazon.com/Microsoft-Analysis-Business-Modeling-Skills/dp/1509305882/ref=sr_1_22?keywords=data+analysis&qid=1663454597&sr=8-22> (referer: https://www.amazon.com/s?k=data+analysis&ref=nb_sb_noss)\n",
      "2022-09-18 00:45:20 [scrapy.core.engine] DEBUG: Crawled (200) <GET https://www.amazon.com/Murachs-Python-Analysis-Scott-McCoy/dp/1943872767/ref=sr_1_23?keywords=data+analysis&qid=1663454597&sr=8-23> (referer: https://www.amazon.com/s?k=data+analysis&ref=nb_sb_noss)\n",
      "2022-09-18 00:45:20 [scrapy.downloadermiddlewares.redirect] DEBUG: Redirecting (302) to <GET https://www.amazon.com/Excel-2022-Step-Step-Discovering/dp/B0B92V1R18/ref=sr_1_17_sspa?keywords=data+analysis&qid=1663454597&sr=8-17-spons&psc=1&spLa=ZW5jcnlwdGVkUXVhbGlmaWVyPUExNDRNSks5NFNUWjZEJmVuY3J5cHRlZElkPUEwNDM5MjU4Rjk4T1JYNVhBUERRJmVuY3J5cHRlZEFkSWQ9QTA5ODM1MTlVNFMzWDRFUElCUVQmd2lkZ2V0TmFtZT1zcF9tdGYmYWN0aW9uPWNsaWNrUmVkaXJlY3QmZG9Ob3RMb2dDbGljaz10cnVl> from <GET https://www.amazon.com/gp/slredirect/picassoRedirect.html/ref=pa_sp_mtf_aps_sr_pg1_1?ie=UTF8&adId=A0983519U4S3X4EPIBQT&url=%2FExcel-2022-Step-Step-Discovering%2Fdp%2FB0B92V1R18%2Fref%3Dsr_1_17_sspa%3Fkeywords%3Ddata%2Banalysis%26qid%3D1663454597%26sr%3D8-17-spons%26psc%3D1&qualifier=1663454597&id=8970470033616320&widgetName=sp_mtf>\n",
      "2022-09-18 00:45:20 [scrapy.downloadermiddlewares.redirect] DEBUG: Redirecting (302) to <GET https://www.amazon.com/Excel-Formulas-Quick-Study-Computer/dp/1423221699/ref=sr_1_18_sspa?keywords=data+analysis&qid=1663454597&sr=8-18-spons&psc=1&spLa=ZW5jcnlwdGVkUXVhbGlmaWVyPUExNDRNSks5NFNUWjZEJmVuY3J5cHRlZElkPUEwNDM5MjU4Rjk4T1JYNVhBUERRJmVuY3J5cHRlZEFkSWQ9QTEwMjQ5ODQySFNIQjcwRkZCU0o3JndpZGdldE5hbWU9c3BfbXRmJmFjdGlvbj1jbGlja1JlZGlyZWN0JmRvTm90TG9nQ2xpY2s9dHJ1ZQ==> from <GET https://www.amazon.com/gp/slredirect/picassoRedirect.html/ref=pa_sp_mtf_aps_sr_pg1_1?ie=UTF8&adId=A10249842HSHB70FFBSJ7&url=%2FExcel-Formulas-Quick-Study-Computer%2Fdp%2F1423221699%2Fref%3Dsr_1_18_sspa%3Fkeywords%3Ddata%2Banalysis%26qid%3D1663454597%26sr%3D8-18-spons%26psc%3D1&qualifier=1663454597&id=8970470033616320&widgetName=sp_mtf>\n",
      "2022-09-18 00:45:20 [scrapy.downloadermiddlewares.redirect] DEBUG: Redirecting (302) to <GET https://www.amazon.com/Data-Science-Projects-Python-approach/dp/1800564481/ref=sr_1_19_sspa?keywords=data+analysis&qid=1663454597&sr=8-19-spons&psc=1&spLa=ZW5jcnlwdGVkUXVhbGlmaWVyPUExNDRNSks5NFNUWjZEJmVuY3J5cHRlZElkPUEwNDM5MjU4Rjk4T1JYNVhBUERRJmVuY3J5cHRlZEFkSWQ9QTEwMDYyODZJSVROUTRENFRLOFUmd2lkZ2V0TmFtZT1zcF9tdGYmYWN0aW9uPWNsaWNrUmVkaXJlY3QmZG9Ob3RMb2dDbGljaz10cnVl> from <GET https://www.amazon.com/gp/slredirect/picassoRedirect.html/ref=pa_sp_mtf_aps_sr_pg1_1?ie=UTF8&adId=A1006286IITNQ4D4TK8U&url=%2FData-Science-Projects-Python-approach%2Fdp%2F1800564481%2Fref%3Dsr_1_19_sspa%3Fkeywords%3Ddata%2Banalysis%26qid%3D1663454597%26sr%3D8-19-spons%26psc%3D1&qualifier=1663454597&id=8970470033616320&widgetName=sp_mtf>\n"
     ]
    },
    {
     "name": "stdout",
     "output_type": "stream",
     "text": [
      "348\n",
      "['\\n            \\n              69%\\n            \\n          '] 4.5 out of 5 stars 7.32 x 0.87 x 9.21 inches\n",
      "349\n",
      "['\\n            \\n              70%\\n            \\n          '] 4.5 out of 5 stars 7.4 x 1.3 x 9.2 inches\n"
     ]
    },
    {
     "name": "stderr",
     "output_type": "stream",
     "text": [
      "2022-09-18 00:45:21 [scrapy.core.engine] DEBUG: Crawled (200) <GET https://www.amazon.com/Data-Visualization-Python-Daniel-Nelson/dp/B08TZ9LWWX/ref=sr_1_51_sspa?keywords=data+analysis&qid=1663454609&sr=8-51-spons&psc=1&spLa=ZW5jcnlwdGVkUXVhbGlmaWVyPUFZTElVTlEzODFDRzUmZW5jcnlwdGVkSWQ9QTAxMTE5ODQyR0JUM0lXTTkwQjZUJmVuY3J5cHRlZEFkSWQ9QTA5NDkzNTJWUkVaV1JIVDNITjcmd2lkZ2V0TmFtZT1zcF9hdGZfbmV4dCZhY3Rpb249Y2xpY2tSZWRpcmVjdCZkb05vdExvZ0NsaWNrPXRydWU=> (referer: https://www.amazon.com/s?k=data+analysis&page=2&qid=1663453432&ref=sr_pg_2)\n",
      "2022-09-18 00:45:21 [scrapy.core.engine] DEBUG: Crawled (200) <GET https://www.amazon.com/Head-First-Data-Analysis-statistics/dp/0596153937/ref=sr_1_26?keywords=data+analysis&qid=1663454597&sr=8-26> (referer: https://www.amazon.com/s?k=data+analysis&ref=nb_sb_noss)\n"
     ]
    },
    {
     "name": "stdout",
     "output_type": "stream",
     "text": [
      "350\n",
      "['\\n            \\n              100%\\n            \\n          '] 5.0 out of 5 stars 8.27 x 0.52 x 11.69 inches\n",
      "351\n",
      "['\\n            \\n              73%\\n            \\n          '] 4.5 out of 5 stars 7.4 x 1.9 x 9.1 inches\n",
      "352\n",
      "['\\n            \\n              69%\\n            \\n          '] 4.6 out of 5 stars 7.75 x 1.5 x 9.75 inches\n",
      "353\n",
      "['\\n            \\n              55%\\n            \\n          '] 3.3 out of 5 stars 8.5 x 0.81 x 11 inches\n",
      "354\n",
      "['\\n            \\n              60%\\n            \\n          '] 4.2 out of 5 stars 8 x 0.98 x 9.25 inches\n"
     ]
    },
    {
     "name": "stderr",
     "output_type": "stream",
     "text": [
      "2022-09-18 00:45:22 [scrapy.core.engine] DEBUG: Crawled (200) <GET https://www.amazon.com/SQL-Data-Scientists-Beginners-Building/dp/1119669367/ref=sr_1_16?keywords=data+analysis&qid=1663454597&sr=8-16> (referer: https://www.amazon.com/s?k=data+analysis&ref=nb_sb_noss)\n"
     ]
    },
    {
     "name": "stdout",
     "output_type": "stream",
     "text": [
      "355\n",
      "['\\n            \\n              75%\\n            \\n          '] 4.7 out of 5 stars 7.38 x 0.65 x 9.25 inches\n"
     ]
    },
    {
     "name": "stderr",
     "output_type": "stream",
     "text": [
      "2022-09-18 00:45:23 [scrapy.core.engine] DEBUG: Crawled (200) <GET https://www.amazon.com/Data-Science-Projects-Python-approach/dp/1800564481/ref=sr_1_19_sspa?keywords=data+analysis&qid=1663454597&sr=8-19-spons&psc=1&spLa=ZW5jcnlwdGVkUXVhbGlmaWVyPUExNDRNSks5NFNUWjZEJmVuY3J5cHRlZElkPUEwNDM5MjU4Rjk4T1JYNVhBUERRJmVuY3J5cHRlZEFkSWQ9QTEwMDYyODZJSVROUTRENFRLOFUmd2lkZ2V0TmFtZT1zcF9tdGYmYWN0aW9uPWNsaWNrUmVkaXJlY3QmZG9Ob3RMb2dDbGljaz10cnVl> (referer: https://www.amazon.com/s?k=data+analysis&ref=nb_sb_noss)\n",
      "2022-09-18 00:45:23 [scrapy.core.engine] DEBUG: Crawled (200) <GET https://www.amazon.com/Excel-Formulas-Quick-Study-Computer/dp/1423221699/ref=sr_1_18_sspa?keywords=data+analysis&qid=1663454597&sr=8-18-spons&psc=1&spLa=ZW5jcnlwdGVkUXVhbGlmaWVyPUExNDRNSks5NFNUWjZEJmVuY3J5cHRlZElkPUEwNDM5MjU4Rjk4T1JYNVhBUERRJmVuY3J5cHRlZEFkSWQ9QTEwMjQ5ODQySFNIQjcwRkZCU0o3JndpZGdldE5hbWU9c3BfbXRmJmFjdGlvbj1jbGlja1JlZGlyZWN0JmRvTm90TG9nQ2xpY2s9dHJ1ZQ==> (referer: https://www.amazon.com/s?k=data+analysis&ref=nb_sb_noss)\n",
      "2022-09-18 00:45:23 [scrapy.core.engine] DEBUG: Crawled (200) <GET https://www.amazon.com/Digital-Forensics-Incident-Response-techniques/dp/183864900X/ref=sr_1_50_sspa?keywords=data+analysis&qid=1663454609&sr=8-50-spons&psc=1&spLa=ZW5jcnlwdGVkUXVhbGlmaWVyPUFZTElVTlEzODFDRzUmZW5jcnlwdGVkSWQ9QTAxMTE5ODQyR0JUM0lXTTkwQjZUJmVuY3J5cHRlZEFkSWQ9QTAxMDM5NTEyWEZHRDBNRkJQUFRMJndpZGdldE5hbWU9c3BfYXRmX25leHQmYWN0aW9uPWNsaWNrUmVkaXJlY3QmZG9Ob3RMb2dDbGljaz10cnVl> (referer: https://www.amazon.com/s?k=data+analysis&page=2&qid=1663453432&ref=sr_pg_2)\n",
      "2022-09-18 00:45:23 [scrapy.core.engine] DEBUG: Crawled (200) <GET https://www.amazon.com/Excel-2022-Strategies-Step-Step/dp/B0B6LDS15N/ref=sr_1_20_sspa?keywords=data+analysis&qid=1663454597&sr=8-20-spons&psc=1&spLa=ZW5jcnlwdGVkUXVhbGlmaWVyPUExNDRNSks5NFNUWjZEJmVuY3J5cHRlZElkPUEwNDM5MjU4Rjk4T1JYNVhBUERRJmVuY3J5cHRlZEFkSWQ9QTA1MjUzNzAxQTFaTlI5VklDSlRaJndpZGdldE5hbWU9c3BfbXRmJmFjdGlvbj1jbGlja1JlZGlyZWN0JmRvTm90TG9nQ2xpY2s9dHJ1ZQ==> (referer: https://www.amazon.com/s?k=data+analysis&ref=nb_sb_noss)\n"
     ]
    },
    {
     "name": "stdout",
     "output_type": "stream",
     "text": [
      "356\n",
      "['\\n            \\n              79%\\n            \\n          '] 4.6 out of 5 stars 7.5 x 0.98 x 9.25 inches\n"
     ]
    },
    {
     "name": "stderr",
     "output_type": "stream",
     "text": [
      "2022-09-18 00:45:23 [scrapy.core.engine] DEBUG: Crawled (200) <GET https://www.amazon.com/Excel-2022-Step-Step-Discovering/dp/B0B92V1R18/ref=sr_1_17_sspa?keywords=data+analysis&qid=1663454597&sr=8-17-spons&psc=1&spLa=ZW5jcnlwdGVkUXVhbGlmaWVyPUExNDRNSks5NFNUWjZEJmVuY3J5cHRlZElkPUEwNDM5MjU4Rjk4T1JYNVhBUERRJmVuY3J5cHRlZEFkSWQ9QTA5ODM1MTlVNFMzWDRFUElCUVQmd2lkZ2V0TmFtZT1zcF9tdGYmYWN0aW9uPWNsaWNrUmVkaXJlY3QmZG9Ob3RMb2dDbGljaz10cnVl> (referer: https://www.amazon.com/s?k=data+analysis&ref=nb_sb_noss)\n"
     ]
    },
    {
     "name": "stdout",
     "output_type": "stream",
     "text": [
      "357\n",
      "['\\n            \\n              74%\\n            \\n          '] 4.6 out of 5 stars 8.5 x 11 x 0.06 inches\n",
      "358\n",
      "['\\n            \\n              75%\\n            \\n          '] 4.6 out of 5 stars 7.5 x 1.01 x 9.25 inches\n",
      "359\n",
      "['\\n            \\n              92%\\n            \\n          '] 4.9 out of 5 stars 8.5 x 0.35 x 11 inches\n"
     ]
    },
    {
     "name": "stderr",
     "output_type": "stream",
     "text": [
      "2022-09-18 00:45:24 [scrapy.core.engine] INFO: Closing spider (finished)\n",
      "2022-09-18 00:45:24 [scrapy.statscollectors] INFO: Dumping Scrapy stats:\n",
      "{'downloader/request_bytes': 406028,\n",
      " 'downloader/request_count': 438,\n",
      " 'downloader/request_method_count/GET': 438,\n",
      " 'downloader/response_bytes': 89437645,\n",
      " 'downloader/response_count': 438,\n",
      " 'downloader/response_status_count/200': 366,\n",
      " 'downloader/response_status_count/302': 72,\n",
      " 'elapsed_time_seconds': 127.698454,\n",
      " 'finish_reason': 'finished',\n",
      " 'finish_time': datetime.datetime(2022, 9, 17, 22, 45, 24, 601146),\n",
      " 'httpcompression/response_bytes': 454670590,\n",
      " 'httpcompression/response_count': 366,\n",
      " 'log_count/DEBUG': 443,\n",
      " 'log_count/INFO': 12,\n",
      " 'request_depth_max': 11,\n",
      " 'response_received_count': 366,\n",
      " 'scheduler/dequeued': 438,\n",
      " 'scheduler/dequeued/memory': 438,\n",
      " 'scheduler/enqueued': 438,\n",
      " 'scheduler/enqueued/memory': 438,\n",
      " 'start_time': datetime.datetime(2022, 9, 17, 22, 43, 16, 902692)}\n",
      "2022-09-18 00:45:24 [scrapy.core.engine] INFO: Spider closed (finished)\n"
     ]
    },
    {
     "name": "stdout",
     "output_type": "stream",
     "text": [
      "360\n",
      "['\\n            \\n              90%\\n            \\n          '] 4.9 out of 5 stars 8.5 x 0.35 x 11 inches\n"
     ]
    }
   ],
   "source": [
    "import scrapy\n",
    "import csv\n",
    "import time\n",
    "import scrapy_proxies\n",
    "from scrapy.crawler import CrawlerProcess\n",
    "import pandas as pd\n",
    "#import scrapy-fake-useragent\n",
    "class FirstWebsiteSpider(scrapy.Spider):\n",
    "    \n",
    "    rotate_user_agent = True   \n",
    "    name = 'first_website'\n",
    "    #https://www.amazon.com/s?k=data+science&i=stripbooks-intl-ship&page=3&crid=1YWU6OJK4L3BA&qid=1662895059&sprefix=data+science%2Cstripbooks-intl-ship%2C247&ref=sr_pg_3\n",
    "    allowed_domains = [\"www.amazon.com\"] #, \"https://www.amazon.com\"\n",
    "    handle_httpstatus_list = [503]\n",
    "    start_urls = [\"https://www.amazon.com/s?k=data+analysis&ref=nb_sb_noss\"]\n",
    "    list_items=[]\n",
    "    j=1\n",
    "    #download_delay = 3 #The number you write here will be how many seconds scrapy waits before sending another request.\n",
    "    #x=pd.DataFrame([])\n",
    "    n_page_to_scrape=7\n",
    "    items_in_page=60\n",
    "    RETRY_TIMES=20\n",
    "    #DOWNLOADER_MIDDLEWARES = {\n",
    "    #'scrapy.downloadermiddlewares.useragent.UserAgentMiddleware': None,\n",
    "    #'scrapy.downloadermiddlewares.retry.RetryMiddleware': None,\n",
    "    #'scrapy_fake_useragent.middleware.RandomUserAgentMiddleware': 400,\n",
    "    #'scrapy_fake_useragent.middleware.RetryUserAgentMiddleware': 401,\n",
    "    #}\n",
    "    FAKEUSERAGENT_PROVIDERS = [\n",
    "    'scrapy_fake_useragent.providers.FakeUserAgentProvider',  # this is the first provider we'll try\n",
    "    'scrapy_fake_useragent.providers.FakerProvider',  # if FakeUserAgentProvider fails, we'll use faker to generate a user-agent string for us\n",
    "    'scrapy_fake_useragent.providers.FixedUserAgentProvider',  # fall back to USER_AGENT value\n",
    "]\n",
    "    def parse(self, response):\n",
    "        print (response.request.headers['User-Agent'])\n",
    "    def parse(self, response):\n",
    "        #self.j=j\n",
    "        print(self.j)\n",
    "        #time.sleep(3)\n",
    "        next_page_url=f\"https://www.amazon.com/s?k=data+analysis&page={self.j}&qid=1663453432&ref=sr_pg_{self.j}\"\n",
    "        box=response.xpath(\"//div[@class='a-section a-spacing-small puis-padding-left-small puis-padding-right-small']\")             #(\"//h2[@class='a-size-mini a-spacing-none a-color-base s-line-clamp-3']\")\n",
    "        #print(box)\n",
    "                                 \n",
    "        #links=[]\n",
    "        #titles=[]\n",
    "        item={}\n",
    "        \n",
    "        for ind,i in enumerate(box):\n",
    "            #print('g')\n",
    "            #country_name = country.xpath(\".//text()\").get()\n",
    "            #title=i.xpath(\"//span[@class='a-size-base a-color-base a-text-normal']/text()\").getall()\n",
    "            title=i.xpath(\".//a[@class='a-link-normal s-underline-text s-underline-link-text s-link-style a-text-normal']/span/text()\").get()\n",
    "            link = i.xpath(\".//a[@class='a-link-normal s-underline-text s-underline-link-text s-link-style a-text-normal']/@href\").get()\n",
    "            author=i.xpath(\".//div[@class='a-row a-size-base a-color-secondary']/a[@class='a-size-base a-link-normal s-underline-text s-underline-link-text s-link-style']/text() | (.//div[@class='a-row a-size-base a-color-secondary']/a[@class='a-link-normal s-underline-text s-underline-link-text s-link-style']/text()) | (.//div[@class='a-row a-size-base a-color-secondary']/span[@class='a-size-base']/text())\").getall()\n",
    "            \n",
    "            #links.append(link)\n",
    "            #'a-link-normal s-underline-text s-underline-link-text s-link-style'\n",
    "            #titles.append(title)\n",
    "            print(title)\n",
    "            #//div[@class='a-section a-spacing-small puis-padding-left-small puis-padding-right-small']/*/*/a[@class='a-link-normal s-underline-text s-underline-link-text s-link-style a-text-normal']/@href  #print(title)\n",
    "            yield response.follow(url=link, callback=self.parse_book, meta={'ind':ind,'title':title,'author':author,'link':link})\n",
    "    \n",
    "  \n",
    "    # Getting data inside the \"link\" website\n",
    "    def parse_book(self, response):\n",
    "        #time.sleep(4)\n",
    "        # Getting country names and each row element inside the population table\n",
    "        title = response.request.meta['title']\n",
    "        ind = response.request.meta['ind']\n",
    "        link = response.request.meta['link']\n",
    "        author = response.request.meta['author']\n",
    "        #if author==[' ']:\n",
    "        price=response.xpath(\"//div[@id='buyNew_cbb']/div[@class='a-row']/div[@class='a-column a-span12 a-text-left']/span/text() | ((//a[@class='a-link-normal']/span[@class='a-color-price']/text())[1]) | (//a[@class='a-button-text']/span[@class='a-color-base']/span[@class='a-size-base a-color-price a-color-price']/text())\").get()\n",
    "        #//div[@id='buyNew_cbb']/div[@class='a-row']/div[@class='a-column a-span12 a-text-left']/span/text() | ((//a[@class='a-link-normal']/span[@class='a-color-price']/text())[1]) \n",
    "        #pages=response.xpath(\"//span[@class='a-list-item']/*[contains(text(),'pages')/text()\").get()\n",
    "        pages=response.xpath(\"//span[@class='a-list-item']/span[contains( text(),'pages')]/text()\").get()\n",
    "        language=response.xpath(\"//span[@class='a-text-bold'][contains(text(),'Language')]/following-sibling::span[1]/text()\").get()\n",
    "        publisher=response.xpath(\"//span[@class='a-text-bold'][contains(text(),'Publisher')]/following-sibling::span[1]/text()\").get()\n",
    "        dimensions=response.xpath(\"//span[@class='a-text-bold'][contains(text(),'Dimensions')]/following-sibling::span[1]/text()\").get()\n",
    "        weight=response.xpath(\"//span[@class='a-text-bold'][contains(text(),'Weight')]/following-sibling::span[1]/text()\").get()\n",
    "        avg_reviews=response.xpath(\"(//a[@class='a-popover-trigger a-declarative']/i[@class='a-icon a-icon-star a-star-5']/span[@class='a-icon-alt']/text())[1] | ((//a[@class='a-popover-trigger a-declarative']/i/span[@class='a-icon-alt'])[1]/text())\").get()\n",
    "        time.sleep(0.1)\n",
    "        star5=response.xpath(\"(//span[@class='a-size-base']/a[contains(text(),'%')])[1]/text()\").getall()\n",
    "        star4=response.xpath(\"(//span[@class='a-size-base']/a[contains(text(),'%')])[2]/text()\").getall()\n",
    "        star3=response.xpath(\"(//span[@class='a-size-base']/a[contains(text(),'%')])[3]/text()\").getall()\n",
    "        star2=response.xpath(\"(//span[@class='a-size-base']/a[contains(text(),'%')])[4]/text()\").getall()\n",
    "        star1=response.xpath(\"(//span[@class='a-size-base']/a[contains(text(),'%')])[5]/text()\").getall()\n",
    "        ISBN_13=response.xpath(\"//div[@id='isbn_feature_div']/div/div/span[contains(text(),'13')]/following-sibling::span[1]/text()\").get()\n",
    "        n_reviews=response.xpath(\"(//span[@class='a-declarative']/a[@class='a-link-normal']/span[@id='acrCustomerReviewText']/text())[1]\").get()\n",
    "        \n",
    "        #print(title)\n",
    "        #author= response.xpath(\"//span[@class='a-declarative']/a[@class='a-link-normal contributorNameID']/text()\").get()  # You can also use the whole class value  --> response.xpath('(//table[@class=\"table table-striped table-bordered table-hover table-condensed table-list\"])[1]/tbody/tr')\n",
    "            # Return data extracted\n",
    "        keys=['title','author','price','pages','avg_reviews','n_reviews','star5','star4','star3','star2','star1','dimensions','weight','language','publisher','ISBN_13','link']\n",
    "        values= [title,author,price,pages,avg_reviews,n_reviews,star5,star4,star3,star2,star1,dimensions,weight,language,publisher,ISBN_13,link]    #  {'title': title, 'author':author}\n",
    "        self.list_items.append(values)\n",
    "        item=dict(zip(keys, values))\n",
    "        print(len(self.list_items))\n",
    "        print(star5,avg_reviews,dimensions)\n",
    "        #print(title,author)\n",
    "        \n",
    "      \n",
    "        #if self.j >1:\n",
    "          #  next_page_url=f\"https://www.amazon.com/s?k=data+science&s=relevanceblender&page={self.j}&crid=2YKZLS0CJFDGI&qid=1663103507&sprefix=data+science%2Caps%2C828&ref=sr_pg_{self.j}\"\n",
    "        #else:\n",
    "            #next_page_url=self.start_urls[0]\n",
    "        #yield scrapy.Request(url=next_page_url, callback=self.parse_pagination, meta={'title':title,'author':author})\n",
    "        \n",
    "        #   def parse_pagination(self,response):\n",
    "        #title = response.request.meta['title']  \n",
    "        #author=response.request.meta['author'] \n",
    "        #print('va beeeeeneeeeeeeeeeeeeeeeeeeeeeeeeeeeeeeeeeeeeeeeeeeeeeeeeeeeeeeeeeeeeeeeeeeeeeeeeeeeeeeeeeeeeeeeeeee')\n",
    "        #if ind==\n",
    "        #print(ind)\n",
    "        \n",
    "        if ind==59:\n",
    "            time.sleep(3)\n",
    "            self.j+=1\n",
    "            next_page_url=f\"https://www.amazon.com/s?k=data+analysis&page={self.j}&qid=1663453432&ref=sr_pg_{self.j}\"               \n",
    "            if next_page_url and self.j<self.n_page_to_scrape:\n",
    "                print('start_new_page')\n",
    "            \n",
    "                yield scrapy.Request(url=next_page_url, callback=self.parse)#,self.j \n",
    "            #time.sleep(10)\n",
    "         #,'authors','dates'      \n",
    "        if len(self.list_items)==(self.items_in_page): #self.j==self.n_page_to_scrape:\n",
    "            time.sleep(5)\n",
    "            print(self.list_items)\n",
    "            x=pd.DataFrame(self.list_items,columns=keys)\n",
    "            #print(x)\n",
    "            yield x.to_csv(\"outputfile2_data_analysis.csv\",sep=\",\")\n",
    "            #with open(\"outputfile.csv\", \"w\", newline=\"\") as f:\n",
    "                #writer = csv.DictWriter(f, ['titles','authors','dates'])\n",
    "                #writer.writeheader()           \n",
    "                #writer.writerows(self.list_items)\n",
    "                #print(self.list_items) #\n",
    "        if len(self.list_items)==300:#(self.n_page_to_scrape-2)*(self.items_in_page): #self.j==self.n_page_to_scrape:\n",
    "            #time.sleep(70)\n",
    "            #print(self.list_items)\n",
    "            y=pd.DataFrame(self.list_items,columns=keys)\n",
    "            #print(x)\n",
    "            yield y.to_csv(\"outputfile_final_data_analysis.csv\",sep=\",\")\n",
    "            #with open(\"outputfile.csv\", \"w\", newline=\"\") as f:\n",
    "                #writer = csv.DictWriter(f, ['titles','authors','dates'])\n",
    "                #writer.writeheader()           \n",
    "                #writer.writerows(self.list_items)\n",
    "                #print(self.list_items) #\n",
    "                \n",
    "#//div[@class='a-row']/a[@class='a-size-base a-link-normal s-underline-text s-underline-link-text s-link-style']/text() | ( //div[@class='a-#row']/span[@class='a-size-base']/text()\n",
    "process = CrawlerProcess({\n",
    "     #'USER_AGENT':'USER_AGENT':\"Mozilla/5.0 (Windows NT 10.0; Win64; x64) AppleWebKit/537.36 (KHTML, like Gecko) Chrome/105.0.0.0 Safari/537.36\"\n",
    "    #'USER_AGENT':\"Mozilla/5.0 (Macintosh; Intel Mac OS X 10_15) AppleWebKit/605.1.15 (KHTML, like Gecko) Version/13.0.5 Safari/605.1.15\"#\n",
    "    #'USER_AGENT':'Mozilla/5.0 (compatible; MSIE 7.0; Windows NT 5.1)'\n",
    "  #'USER_AGENT':  \"Mozilla/4.0 (X11; Linux x86_64) AppleWebKit/537.36 (KHTML, like Gecko) Chrome/103.0.5060.53 Safari/537.36\",\n",
    "  #'USER_AGENT':  \"Mozilla/5.0 (Windows NT 10.0; Windows; x64) AppleWebKit/537.36 (KHTML, like Gecko) Chrome/103.0.5060.114 Safari/537.36\",\n",
    "  #'USER_AGENT':  \"Mozilla/5.0 (Macintosh; Intel Mac OS X 10_10_5) AppleWebKit/603.3.8 (KHTML, like Gecko) Version/10.1.2 Safari/603.3.8\",\n",
    "  'USER_AGENT':  \"Mozilla/5.0 (Macintosh; Intel Mac OS X 10_15_7) AppleWebKit/605.1.15 (KHTML, like Gecko) Version/14.0 Safari/605.1.15\"\n",
    "  #'USER_AGENT':  \"Mozilla/5.0 (Macintosh; Intel Mac OS X 10_15_6) AppleWebKit/605.1.15 (KHTML, like Gecko) Version/14.0 Safari/605.1.15\"\n",
    "  #'USER_AGENT':  \"Mozilla/5.0 (Windows NT 10.0; Windows; x64) AppleWebKit/537.36 (KHTML, like Gecko) Chrome/103.0.5060.114 Safari/537.36\"\n",
    "  #'USER_AGENT':  \"Mozilla/5.0 (X11; Linux x86_64) AppleWebKit/537.36 (KHTML, like Gecko) Chrome/103.0.5060.53 Safari/537.36\"\n",
    "\n",
    "\n",
    "\n",
    "\n",
    "})\n",
    "\n",
    "process.crawl(FirstWebsiteSpider)\n",
    "process.start()\n"
   ]
  },
  {
   "cell_type": "code",
   "execution_count": 2,
   "id": "e13533af",
   "metadata": {},
   "outputs": [
    {
     "ename": "NameError",
     "evalue": "name 'response' is not defined",
     "output_type": "error",
     "traceback": [
      "\u001b[1;31m---------------------------------------------------------------------------\u001b[0m",
      "\u001b[1;31mNameError\u001b[0m                                 Traceback (most recent call last)",
      "\u001b[1;32m<ipython-input-2-38d765480056>\u001b[0m in \u001b[0;36m<module>\u001b[1;34m\u001b[0m\n\u001b[1;32m----> 1\u001b[1;33m \u001b[0mauthors\u001b[0m\u001b[1;33m,\u001b[0m\u001b[0mtitles\u001b[0m\u001b[1;33m=\u001b[0m\u001b[0mFirstWebsiteSpider\u001b[0m\u001b[1;33m.\u001b[0m\u001b[0mparse\u001b[0m\u001b[1;33m(\u001b[0m\u001b[0mscrapy\u001b[0m\u001b[1;33m.\u001b[0m\u001b[0mSpider\u001b[0m\u001b[1;33m,\u001b[0m\u001b[0mresponse\u001b[0m\u001b[1;33m)\u001b[0m\u001b[1;33m\u001b[0m\u001b[1;33m\u001b[0m\u001b[0m\n\u001b[0m",
      "\u001b[1;31mNameError\u001b[0m: name 'response' is not defined"
     ]
    }
   ],
   "source": [
    "authors,titles=FirstWebsiteSpider.parse(scrapy.Spider,response)"
   ]
  },
  {
   "cell_type": "code",
   "execution_count": null,
   "id": "08551c28",
   "metadata": {},
   "outputs": [],
   "source": [
    "@href='/s?k=data+science&amp;i=stripbooks-intl-ship&amp;page=3&amp;crid=20YNDMUXOLCJ6&amp;qid=1663030048&amp;sprefix=data+science%2Cstripbooks-intl-ship%2C314&amp;ref=sr_pg_3' "
   ]
  },
  {
   "cell_type": "code",
   "execution_count": 2,
   "id": "004de66d",
   "metadata": {},
   "outputs": [],
   "source": [
    "j=1\n",
    "p=f'/s?k=data+science&amp;i=stripbooks-intl-ship&amp;page={j}&amp;crid=20YNDMUXOLCJ6&amp;qid=1663030048&amp;sprefix=data+science%2Cstripbooks-intl-ship%2C314&amp;ref=sr_pg_{j}'"
   ]
  },
  {
   "cell_type": "code",
   "execution_count": 3,
   "id": "e413f5a4",
   "metadata": {},
   "outputs": [
    {
     "data": {
      "text/plain": [
       "'/s?k=data+science&amp;i=stripbooks-intl-ship&amp;page=1&amp;crid=20YNDMUXOLCJ6&amp;qid=1663030048&amp;sprefix=data+science%2Cstripbooks-intl-ship%2C314&amp;ref=sr_pg_1'"
      ]
     },
     "execution_count": 3,
     "metadata": {},
     "output_type": "execute_result"
    }
   ],
   "source": [
    "p"
   ]
  },
  {
   "cell_type": "code",
   "execution_count": null,
   "id": "25e7e5b4",
   "metadata": {},
   "outputs": [],
   "source": [
    "<a href=>3</a>"
   ]
  },
  {
   "cell_type": "code",
   "execution_count": 3,
   "id": "35f1fcab",
   "metadata": {},
   "outputs": [
    {
     "data": {
      "text/plain": [
       "'rit0'"
      ]
     },
     "execution_count": 3,
     "metadata": {},
     "output_type": "execute_result"
    }
   ],
   "source": [
    "u=0\n",
    "a=f'rit{u}'\n",
    "a"
   ]
  },
  {
   "cell_type": "code",
   "execution_count": 4,
   "id": "7acad823",
   "metadata": {},
   "outputs": [
    {
     "data": {
      "text/plain": [
       "'rit0'"
      ]
     },
     "execution_count": 4,
     "metadata": {},
     "output_type": "execute_result"
    }
   ],
   "source": [
    "u=1\n",
    "a"
   ]
  },
  {
   "cell_type": "code",
   "execution_count": 2,
   "id": "40f5e1b3",
   "metadata": {},
   "outputs": [],
   "source": []
  },
  {
   "cell_type": "code",
   "execution_count": 3,
   "id": "2c2ed70b",
   "metadata": {},
   "outputs": [
    {
     "data": {
      "text/plain": [
       "[3]"
      ]
     },
     "execution_count": 3,
     "metadata": {},
     "output_type": "execute_result"
    }
   ],
   "source": []
  },
  {
   "cell_type": "code",
   "execution_count": null,
   "id": "c9b908ea",
   "metadata": {},
   "outputs": [],
   "source": [
    "#print(item)    \n",
    "        self.j+=1\n",
    "        print(self.j)\n",
    "        next_page_url=f\"https://www.amazon.com/s?k=data+science&s=relevanceblender&page={self.j}&crid=2YKZLS0CJFDGI&qid=1663103507&sprefix=data+science%2Caps%2C828&ref=sr_pg_{self.j}\"\n",
    "        if next_page_url and self.j<self.n_page_to_scrape:\n",
    "            print('non va bene')\n",
    "            yield response.follow(url=next_page_url, callback=self.parse)#,self.j  \n",
    "         #,'authors','dates'\n",
    "        if self.j==self.n_page_to_scrape:\n",
    "            #print(self.list_items)\n",
    "            x=pd.DataFrame(self.list_items,columns=['title','author'])\n",
    "            #print(x)\n",
    "            yield x.to_csv(\"outputfile2.csv\",sep=\",\")\n",
    "        #yield response.follow(url=next_page_url, callback=self.parse_pagination, meta=item )"
   ]
  }
 ],
 "metadata": {
  "kernelspec": {
   "display_name": "Python 3",
   "language": "python",
   "name": "python3"
  },
  "language_info": {
   "codemirror_mode": {
    "name": "ipython",
    "version": 3
   },
   "file_extension": ".py",
   "mimetype": "text/x-python",
   "name": "python",
   "nbconvert_exporter": "python",
   "pygments_lexer": "ipython3",
   "version": "3.9.5"
  }
 },
 "nbformat": 4,
 "nbformat_minor": 5
}
