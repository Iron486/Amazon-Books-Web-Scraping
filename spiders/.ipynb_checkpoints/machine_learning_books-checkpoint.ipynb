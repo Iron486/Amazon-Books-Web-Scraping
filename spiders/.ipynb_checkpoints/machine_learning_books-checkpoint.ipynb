{
 "cells": [
  {
   "cell_type": "code",
   "execution_count": 1,
   "id": "d3d3b34f",
   "metadata": {},
   "outputs": [
    {
     "name": "stdout",
     "output_type": "stream",
     "text": [
      "Collecting scrapy-fake-useragent\n",
      "  Downloading scrapy_fake_useragent-1.4.4-py2.py3-none-any.whl (6.8 kB)\n",
      "Collecting faker\n",
      "  Downloading Faker-14.2.0-py3-none-any.whl (1.6 MB)\n",
      "Collecting fake-useragent\n",
      "  Downloading fake-useragent-0.1.11.tar.gz (13 kB)\n",
      "Requirement already satisfied: python-dateutil>=2.4 in c:\\users\\diego\\anaconda3\\envs\\env1_cloned_tf\\lib\\site-packages (from faker->scrapy-fake-useragent) (2.8.1)\n",
      "Requirement already satisfied: six>=1.5 in c:\\users\\diego\\anaconda3\\envs\\env1_cloned_tf\\lib\\site-packages (from python-dateutil>=2.4->faker->scrapy-fake-useragent) (1.16.0)\n",
      "Building wheels for collected packages: fake-useragent\n",
      "  Building wheel for fake-useragent (setup.py): started\n",
      "  Building wheel for fake-useragent (setup.py): finished with status 'done'\n",
      "  Created wheel for fake-useragent: filename=fake_useragent-0.1.11-py3-none-any.whl size=13489 sha256=ce4d127febb5e2ab87b4e7f13c1d9cec99ced67420e5d0585f5ba4ff154d3046\n",
      "  Stored in directory: c:\\users\\diego\\appdata\\local\\pip\\cache\\wheels\\ae\\e7\\76\\7dd44644d065268ab0e1b4fa2e802fa4bb0157717b7d6c6d92\n",
      "Successfully built fake-useragent\n",
      "Installing collected packages: faker, fake-useragent, scrapy-fake-useragent\n",
      "Successfully installed fake-useragent-0.1.11 faker-14.2.0 scrapy-fake-useragent-1.4.4\n"
     ]
    }
   ],
   "source": [
    "#!pip install scrapy_proxies\n",
    "!pip install scrapy-fake-useragent"
   ]
  },
  {
   "cell_type": "code",
   "execution_count": 1,
   "id": "4502b396",
   "metadata": {},
   "outputs": [
    {
     "name": "stderr",
     "output_type": "stream",
     "text": [
      "2022-09-18 03:36:23 [scrapy.utils.log] INFO: Scrapy 2.6.2 started (bot: scrapybot)\n",
      "2022-09-18 03:36:23 [scrapy.utils.log] INFO: Versions: lxml 4.8.0.0, libxml2 2.9.12, cssselect 1.1.0, parsel 1.6.0, w3lib 1.22.0, Twisted 22.4.0, Python 3.9.5 (default, May 18 2021, 14:42:02) [MSC v.1916 64 bit (AMD64)], pyOpenSSL 20.0.1 (OpenSSL 1.1.1q  5 Jul 2022), cryptography 3.4.7, Platform Windows-10-10.0.22000-SP0\n",
      "2022-09-18 03:36:23 [scrapy.crawler] INFO: Overridden settings:\n",
      "{'USER_AGENT': 'Mozilla/5.0 (Windows NT 10.0; Windows; x64) AppleWebKit/537.36 '\n",
      "               '(KHTML, like Gecko) Chrome/103.0.5060.114 Safari/537.36'}\n",
      "2022-09-18 03:36:23 [scrapy.utils.log] DEBUG: Using reactor: twisted.internet.selectreactor.SelectReactor\n",
      "2022-09-18 03:36:23 [scrapy.extensions.telnet] INFO: Telnet Password: acafe5731f8c4d25\n",
      "2022-09-18 03:36:23 [scrapy.middleware] INFO: Enabled extensions:\n",
      "['scrapy.extensions.corestats.CoreStats',\n",
      " 'scrapy.extensions.telnet.TelnetConsole',\n",
      " 'scrapy.extensions.logstats.LogStats']\n",
      "2022-09-18 03:36:23 [scrapy.middleware] INFO: Enabled downloader middlewares:\n",
      "['scrapy.downloadermiddlewares.httpauth.HttpAuthMiddleware',\n",
      " 'scrapy.downloadermiddlewares.downloadtimeout.DownloadTimeoutMiddleware',\n",
      " 'scrapy.downloadermiddlewares.defaultheaders.DefaultHeadersMiddleware',\n",
      " 'scrapy.downloadermiddlewares.useragent.UserAgentMiddleware',\n",
      " 'scrapy.downloadermiddlewares.retry.RetryMiddleware',\n",
      " 'scrapy.downloadermiddlewares.redirect.MetaRefreshMiddleware',\n",
      " 'scrapy.downloadermiddlewares.httpcompression.HttpCompressionMiddleware',\n",
      " 'scrapy.downloadermiddlewares.redirect.RedirectMiddleware',\n",
      " 'scrapy.downloadermiddlewares.cookies.CookiesMiddleware',\n",
      " 'scrapy.downloadermiddlewares.httpproxy.HttpProxyMiddleware',\n",
      " 'scrapy.downloadermiddlewares.stats.DownloaderStats']\n",
      "2022-09-18 03:36:23 [scrapy.middleware] INFO: Enabled spider middlewares:\n",
      "['scrapy.spidermiddlewares.httperror.HttpErrorMiddleware',\n",
      " 'scrapy.spidermiddlewares.offsite.OffsiteMiddleware',\n",
      " 'scrapy.spidermiddlewares.referer.RefererMiddleware',\n",
      " 'scrapy.spidermiddlewares.urllength.UrlLengthMiddleware',\n",
      " 'scrapy.spidermiddlewares.depth.DepthMiddleware']\n",
      "2022-09-18 03:36:23 [scrapy.middleware] INFO: Enabled item pipelines:\n",
      "[]\n",
      "2022-09-18 03:36:23 [scrapy.core.engine] INFO: Spider opened\n",
      "2022-09-18 03:36:23 [scrapy.extensions.logstats] INFO: Crawled 0 pages (at 0 pages/min), scraped 0 items (at 0 items/min)\n",
      "2022-09-18 03:36:23 [scrapy.extensions.telnet] INFO: Telnet console listening on 127.0.0.1:6024\n",
      "2022-09-18 03:36:27 [filelock] DEBUG: Attempting to acquire lock 1423817479072 on C:\\Users\\diego\\anaconda3\\envs\\env1_cloned_tf\\lib\\site-packages\\tldextract\\.suffix_cache/publicsuffix.org-tlds\\de84b5ca2167d4c83e38fb162f2e8738.tldextract.json.lock\n",
      "2022-09-18 03:36:27 [filelock] DEBUG: Lock 1423817479072 acquired on C:\\Users\\diego\\anaconda3\\envs\\env1_cloned_tf\\lib\\site-packages\\tldextract\\.suffix_cache/publicsuffix.org-tlds\\de84b5ca2167d4c83e38fb162f2e8738.tldextract.json.lock\n",
      "2022-09-18 03:36:27 [filelock] DEBUG: Attempting to release lock 1423817479072 on C:\\Users\\diego\\anaconda3\\envs\\env1_cloned_tf\\lib\\site-packages\\tldextract\\.suffix_cache/publicsuffix.org-tlds\\de84b5ca2167d4c83e38fb162f2e8738.tldextract.json.lock\n",
      "2022-09-18 03:36:27 [filelock] DEBUG: Lock 1423817479072 released on C:\\Users\\diego\\anaconda3\\envs\\env1_cloned_tf\\lib\\site-packages\\tldextract\\.suffix_cache/publicsuffix.org-tlds\\de84b5ca2167d4c83e38fb162f2e8738.tldextract.json.lock\n",
      "2022-09-18 03:36:27 [scrapy.core.engine] DEBUG: Crawled (200) <GET https://www.amazon.com/s?k=machine+learning&crid=27NSKOKLZAT5L&sprefix=deep+learning%2Caps%2C627&ref=nb_sb_noss_2> (referer: None)\n"
     ]
    },
    {
     "name": "stdout",
     "output_type": "stream",
     "text": [
      "1\n",
      "Machine Learning Fundamentals\n",
      "Python Machine Learning for Beginners: Learning from scratch NumPy, Pandas, Matplotlib, Seaborn, Scikitlearn, and TensorFlow for Machine Learning and ... Learning & Data Science for Beginners)\n",
      "Applied Machine Learning Explainability Techniques: Make ML models explainable and trustworthy for practical applications using LIME, SHAP, and more\n",
      "Feature Store for Machine Learning: Curate, discover, share and serve ML features at scale\n",
      "Designing Machine Learning Systems: An Iterative Process for Production-Ready Applications\n",
      "Hands-On Machine Learning with Scikit-Learn, Keras, and TensorFlow: Concepts, Tools, and Techniques to Build Intelligent Systems\n",
      "Machine Learning: 4 Books in 1: A Complete Overview for Beginners to Master the Basics of Python Programming and Understand How to Build Artificial Intelligence Through Data Science\n",
      "Probabilistic Machine Learning: An Introduction (Adaptive Computation and Machine Learning series)\n",
      "The Hundred-Page Machine Learning Book\n",
      "Introduction to Machine Learning with Python: A Guide for Data Scientists\n",
      "The StatQuest Illustrated Guide To Machine Learning\n",
      "Machine Learning for Absolute Beginners: A Plain English Introduction (Third Edition) (Machine Learning with Python for Beginners Book 1)\n",
      "Hands-On Machine Learning with Scikit-Learn, Keras, and TensorFlow: Concepts, Tools, and Techniques to Build Intelligent Systems\n",
      "Mathematics for Machine Learning\n",
      "AI and Machine Learning for Coders: A Programmer's Guide to Artificial Intelligence\n",
      "Machine Learning Design Patterns: Solutions to Common Challenges in Data Preparation, Model Building, and MLOps\n",
      "Machine Learning: A First Course for Engineers and Scientists\n",
      "Python Programming for Beginners: The Ultimate Crash Course to Learn Python in 7 Days with Step-by-Step Guidance and Hands-On Exercises\n",
      "Machine Learning For Absolute Beginners: A Plain English Introduction (Machine Learning from Scratch)\n",
      "The Kaggle Book: Data analysis and machine learning for competitive data science\n",
      "Machine Learning Fundamentals\n",
      "Machine Learning Engineering\n",
      "Deep Learning (Adaptive Computation and Machine Learning series)\n",
      "Machine Learning Design Interview: Machine Learning System Design Interview\n",
      "Machine Learning from Weak Supervision: An Empirical Risk Minimization Approach (Adaptive Computation and Machine Learning series)\n",
      "Pattern Recognition and Machine Learning (Information Science and Statistics)\n",
      "Text as Data: A New Framework for Machine Learning and the Social Sciences\n",
      "Introduction to Machine Learning, fourth edition (Adaptive Computation and Machine Learning series)\n",
      "Machine Learning for Algorithmic Trading: Predictive models to extract signals from market and alternative data for systematic trading strategies with Python, 2nd Edition\n",
      "Python Machine Learning Project\n",
      "The Machine Learning Simplified: A Gentle Introduction to Supervised Learning\n",
      "Machine Learning: A Constraint-Based Approach\n",
      "Machine Learning for Absolute Beginners: A Plain English Introduction (Third Edition) (Machine Learning with Python for Beginners)\n",
      "Excel 2022: The Most Comprehensive Guide to Learn All Formulas and Functions in Just One Week with Step-by-Step Explanations, Practical Examples, & Picture Demonstrations.\n",
      "Python Machine Learning: Machine Learning and Deep Learning with Python, scikit-learn, and TensorFlow 2, 3rd Edition\n",
      "Pattern Recognition and Machine Learning (Information Science and Statistics)\n",
      "Approaching (Almost) Any Machine Learning Problem\n",
      "Machine Learning: A Probabilistic Perspective (Adaptive Computation and Machine Learning series)\n",
      "Machine Learning Bookcamp: Build a portfolio of real-life projects\n",
      "Python Machine Learning for Beginners: Learning from scratch NumPy, Pandas, Matplotlib, Seaborn, Scikitlearn, and TensorFlow for Machine Learning and ... Learning & Data Science for Beginners)\n",
      "Python Machine Learning: Machine Learning and Deep Learning with Python, scikit-learn, and TensorFlow 2, 3rd Edition\n",
      "Math for Machine Learning | Machine Learning Online Course | AWS Training & Certification\n",
      "Essential Math for Data Science: Take Control of Your Data with Fundamental Linear Algebra, Probability, and Statistics\n",
      "Ace the Data Science Interview: 201 Real Interview Questions Asked By FAANG, Tech Startups, & Wall Street\n",
      "Continuous Machine Learning with Kubeflow: Performing Reliable MLOps with Capabilities of TFX, Sagemaker and Kubernetes (English Edition)\n",
      "The Alignment Problem: Machine Learning and Human Values\n",
      "Hands-On Machine Learning with Scikit-Learn, Keras, and TensorFlow: Concepts, Tools, and Techniques to Build Intelligent Systems\n",
      "Machine Learning with PyTorch and Scikit-Learn: Develop machine learning and deep learning models with Python\n",
      "Advances in Financial Machine Learning\n",
      "Fundamentals of Data Engineering: Plan and Build Robust Data Systems\n",
      "Deep Learning with Python, Second Edition\n",
      "The Kaggle Book: Data analysis and machine learning for competitive data science\n",
      "Journey to Become a Google Cloud Machine Learning Engineer: Build the mind and hand of a Google Certified ML professional\n",
      "Python for Finance and Algorithmic trading (2nd edition): Machine Learning, Deep Learning, Time series Analysis, Risk and Portfolio Management for MetaTrader™5 Live Trading\n",
      "The Machine Learning Solutions Architect Handbook: Create machine learning platforms to run solutions in an enterprise setting\n",
      "Machine Learning For Dummies\n",
      "Machine Learning in the Oil and Gas Industry: Including Geosciences, Reservoir Engineering, and Production Engineering with Python\n",
      "Machine Learning: 4 Books in 1: The #1 Beginner's Guide to Master the Basics of Python Programming, Learn the Art of Data Science and Build Artificial Intelligence\n",
      "Introduction to Machine Learning\n",
      "Programming Machine Learning: From Coding to Deep Learning\n"
     ]
    },
    {
     "name": "stderr",
     "output_type": "stream",
     "text": [
      "2022-09-18 03:36:28 [scrapy.downloadermiddlewares.redirect] DEBUG: Redirecting (302) to <GET https://www.amazon.com/Machine-Learning-Fundamentals-Concise-Introduction/dp/1108940021/ref=sr_1_1_sspa?crid=27NSKOKLZAT5L&keywords=machine+learning&qid=1663464985&sprefix=deep+learning%2Caps%2C627&sr=8-1-spons&psc=1> from <GET https://www.amazon.com/sspa/click?ie=UTF8&spc=MTo1MjMzODUwNDM1MTQ1NjU2OjE2NjM0NjQ5ODU6c3BfYXRmOjIwMDA0NDMyODY1Mjk5ODo6MDo6&sp_csd=d2lkZ2V0TmFtZT1zcF9hdGY&url=%2FMachine-Learning-Fundamentals-Concise-Introduction%2Fdp%2F1108940021%2Fref%3Dsr_1_1_sspa%3Fcrid%3D27NSKOKLZAT5L%26keywords%3Dmachine%2Blearning%26qid%3D1663464985%26sprefix%3Ddeep%2Blearning%252Caps%252C627%26sr%3D8-1-spons%26psc%3D1>\n",
      "2022-09-18 03:36:28 [scrapy.downloadermiddlewares.redirect] DEBUG: Redirecting (302) to <GET https://www.amazon.com/Applied-Machine-Learning-Explainability-Techniques/dp/1803246154/ref=sr_1_3_sspa?crid=27NSKOKLZAT5L&keywords=machine+learning&qid=1663464985&sprefix=deep+learning%2Caps%2C627&sr=8-3-spons&psc=1> from <GET https://www.amazon.com/sspa/click?ie=UTF8&spc=MTo1MjMzODUwNDM1MTQ1NjU2OjE2NjM0NjQ5ODU6c3BfYXRmOjIwMDA3NzczNjQ3Mjg5ODo6MDo6&sp_csd=d2lkZ2V0TmFtZT1zcF9hdGY&url=%2FApplied-Machine-Learning-Explainability-Techniques%2Fdp%2F1803246154%2Fref%3Dsr_1_3_sspa%3Fcrid%3D27NSKOKLZAT5L%26keywords%3Dmachine%2Blearning%26qid%3D1663464985%26sprefix%3Ddeep%2Blearning%252Caps%252C627%26sr%3D8-3-spons%26psc%3D1>\n",
      "2022-09-18 03:36:28 [scrapy.downloadermiddlewares.redirect] DEBUG: Redirecting (302) to <GET https://www.amazon.com/Feature-Store-Machine-Learning-discover/dp/1803230061/ref=sr_1_4_sspa?crid=27NSKOKLZAT5L&keywords=machine+learning&qid=1663464985&sprefix=deep+learning%2Caps%2C627&sr=8-4-spons&psc=1> from <GET https://www.amazon.com/sspa/click?ie=UTF8&spc=MTo1MjMzODUwNDM1MTQ1NjU2OjE2NjM0NjQ5ODU6c3BfYXRmOjIwMDA2NTU3ODcyMzM5ODo6MDo6&sp_csd=d2lkZ2V0TmFtZT1zcF9hdGY&url=%2FFeature-Store-Machine-Learning-discover%2Fdp%2F1803230061%2Fref%3Dsr_1_4_sspa%3Fcrid%3D27NSKOKLZAT5L%26keywords%3Dmachine%2Blearning%26qid%3D1663464985%26sprefix%3Ddeep%2Blearning%252Caps%252C627%26sr%3D8-4-spons%26psc%3D1>\n",
      "2022-09-18 03:36:28 [scrapy.downloadermiddlewares.redirect] DEBUG: Redirecting (302) to <GET https://www.amazon.com/Python-Machine-Learning-Beginners-Scikitlearn/dp/1734790156/ref=sr_1_2_sspa?crid=27NSKOKLZAT5L&keywords=machine+learning&qid=1663464985&sprefix=deep+learning%2Caps%2C627&sr=8-2-spons&psc=1> from <GET https://www.amazon.com/sspa/click?ie=UTF8&spc=MTo1MjMzODUwNDM1MTQ1NjU2OjE2NjM0NjQ5ODU6c3BfYXRmOjIwMDAzNjc0MTgzOTQ2MTo6MDo6&sp_csd=d2lkZ2V0TmFtZT1zcF9hdGY&url=%2FPython-Machine-Learning-Beginners-Scikitlearn%2Fdp%2F1734790156%2Fref%3Dsr_1_2_sspa%3Fcrid%3D27NSKOKLZAT5L%26keywords%3Dmachine%2Blearning%26qid%3D1663464985%26sprefix%3Ddeep%2Blearning%252Caps%252C627%26sr%3D8-2-spons%26psc%3D1>\n",
      "2022-09-18 03:36:30 [scrapy.core.engine] DEBUG: Crawled (200) <GET https://www.amazon.com/Machine-Learning-Programming-Understand-Intelligence/dp/B086R6JFLW/ref=sr_1_7?crid=27NSKOKLZAT5L&keywords=machine+learning&qid=1663464985&sprefix=deep+learning%2Caps%2C627&sr=8-7> (referer: https://www.amazon.com/s?k=machine+learning&crid=27NSKOKLZAT5L&sprefix=deep+learning%2Caps%2C627&ref=nb_sb_noss_2)\n",
      "2022-09-18 03:36:30 [scrapy.core.engine] DEBUG: Crawled (200) <GET https://www.amazon.com/Introduction-Machine-Learning-Python-Scientists/dp/1449369413/ref=sr_1_10?crid=27NSKOKLZAT5L&keywords=machine+learning&qid=1663464985&sprefix=deep+learning%2Caps%2C627&sr=8-10> (referer: https://www.amazon.com/s?k=machine+learning&crid=27NSKOKLZAT5L&sprefix=deep+learning%2Caps%2C627&ref=nb_sb_noss_2)\n",
      "2022-09-18 03:36:30 [scrapy.core.engine] DEBUG: Crawled (200) <GET https://www.amazon.com/Hundred-Page-Machine-Learning-Book/dp/199957950X/ref=sr_1_9?crid=27NSKOKLZAT5L&keywords=machine+learning&qid=1663464985&sprefix=deep+learning%2Caps%2C627&sr=8-9> (referer: https://www.amazon.com/s?k=machine+learning&crid=27NSKOKLZAT5L&sprefix=deep+learning%2Caps%2C627&ref=nb_sb_noss_2)\n",
      "2022-09-18 03:36:30 [scrapy.core.engine] DEBUG: Crawled (200) <GET https://www.amazon.com/Probabilistic-Machine-Learning-Introduction-Computation/dp/0262046822/ref=sr_1_8?crid=27NSKOKLZAT5L&keywords=machine+learning&qid=1663464985&sprefix=deep+learning%2Caps%2C627&sr=8-8> (referer: https://www.amazon.com/s?k=machine+learning&crid=27NSKOKLZAT5L&sprefix=deep+learning%2Caps%2C627&ref=nb_sb_noss_2)\n",
      "2022-09-18 03:36:30 [scrapy.core.engine] DEBUG: Crawled (200) <GET https://www.amazon.com/Hands-Machine-Learning-Scikit-Learn-TensorFlow/dp/1492032646/ref=sr_1_6?crid=27NSKOKLZAT5L&keywords=machine+learning&qid=1663464985&sprefix=deep+learning%2Caps%2C627&sr=8-6> (referer: https://www.amazon.com/s?k=machine+learning&crid=27NSKOKLZAT5L&sprefix=deep+learning%2Caps%2C627&ref=nb_sb_noss_2)\n",
      "2022-09-18 03:36:30 [scrapy.core.engine] DEBUG: Crawled (200) <GET https://www.amazon.com/Designing-Machine-Learning-Systems-Production-Ready/dp/1098107969/ref=sr_1_5?crid=27NSKOKLZAT5L&keywords=machine+learning&qid=1663464985&sprefix=deep+learning%2Caps%2C627&sr=8-5> (referer: https://www.amazon.com/s?k=machine+learning&crid=27NSKOKLZAT5L&sprefix=deep+learning%2Caps%2C627&ref=nb_sb_noss_2)\n"
     ]
    },
    {
     "name": "stdout",
     "output_type": "stream",
     "text": [
      "1\n",
      "['\\n            \\n              31%\\n            \\n          '] 3.1 out of 5 stars None\n"
     ]
    },
    {
     "name": "stderr",
     "output_type": "stream",
     "text": [
      "2022-09-18 03:36:31 [scrapy.downloadermiddlewares.redirect] DEBUG: Redirecting (302) to <GET https://www.amazon.com/Data-Analysis-Machine-Learning-Kaggle/dp/1801817472/ref=sr_1_20_sspa?crid=27NSKOKLZAT5L&keywords=machine+learning&qid=1663464985&sprefix=deep+learning%2Caps%2C627&sr=8-20-spons&psc=1> from <GET https://www.amazon.com/sspa/click?ie=UTF8&spc=MTo1MjMzODUwNDM1MTQ1NjU2OjE2NjM0NjQ5ODU6c3BfbXRmOjIwMDA1OTE0Mzk4MjA5ODo6MDo6&sp_csd=d2lkZ2V0TmFtZT1zcF9tdGY&url=%2FData-Analysis-Machine-Learning-Kaggle%2Fdp%2F1801817472%2Fref%3Dsr_1_20_sspa%3Fcrid%3D27NSKOKLZAT5L%26keywords%3Dmachine%2Blearning%26qid%3D1663464985%26sprefix%3Ddeep%2Blearning%252Caps%252C627%26sr%3D8-20-spons%26psc%3D1>\n",
      "2022-09-18 03:36:31 [scrapy.core.engine] DEBUG: Crawled (200) <GET https://www.amazon.com/Machine-Learning-Design-Interview-System/dp/B09YQWX59Z/ref=sr_1_24?crid=27NSKOKLZAT5L&keywords=machine+learning&qid=1663464985&sprefix=deep+learning%2Caps%2C627&sr=8-24> (referer: https://www.amazon.com/s?k=machine+learning&crid=27NSKOKLZAT5L&sprefix=deep+learning%2Caps%2C627&ref=nb_sb_noss_2)\n"
     ]
    },
    {
     "name": "stdout",
     "output_type": "stream",
     "text": [
      "2\n",
      "['\\n            \\n              76%\\n            \\n          '] 4.5 out of 5 stars 7 x 0.82 x 9.19 inches\n",
      "3\n",
      "['\\n            \\n              81%\\n            \\n          '] 4.6 out of 5 stars 7.5 x 0.38 x 9.25 inches\n",
      "4\n",
      "['\\n            \\n              76%\\n            \\n          '] 4.4 out of 5 stars 8.25 x 1.44 x 9.29 inches\n",
      "5\n",
      "['\\n            \\n              85%\\n            \\n          '] 4.8 out of 5 stars 7 x 1.2 x 9.2 inches\n"
     ]
    },
    {
     "name": "stderr",
     "output_type": "stream",
     "text": [
      "2022-09-18 03:36:31 [scrapy.downloadermiddlewares.redirect] DEBUG: Redirecting (302) to <GET https://www.amazon.com/Machine-Learning-Absolute-Beginners-Introduction/dp/1549617214/ref=sr_1_19_sspa?crid=27NSKOKLZAT5L&keywords=machine+learning&qid=1663464985&sprefix=deep+learning%2Caps%2C627&sr=8-19-spons&psc=1> from <GET https://www.amazon.com/sspa/click?ie=UTF8&spc=MTo1MjMzODUwNDM1MTQ1NjU2OjE2NjM0NjQ5ODU6c3BfbXRmOjIwMDA2MDM2NTc3NDQ4MTo6MDo6&sp_csd=d2lkZ2V0TmFtZT1zcF9tdGY&url=%2FMachine-Learning-Absolute-Beginners-Introduction%2Fdp%2F1549617214%2Fref%3Dsr_1_19_sspa%3Fcrid%3D27NSKOKLZAT5L%26keywords%3Dmachine%2Blearning%26qid%3D1663464985%26sprefix%3Ddeep%2Blearning%252Caps%252C627%26sr%3D8-19-spons%26psc%3D1>\n",
      "2022-09-18 03:36:31 [scrapy.core.engine] DEBUG: Crawled (200) <GET https://www.amazon.com/Deep-Learning-Adaptive-Computation-Machine/dp/0262035618/ref=sr_1_23?crid=27NSKOKLZAT5L&keywords=machine+learning&qid=1663464985&sprefix=deep+learning%2Caps%2C627&sr=8-23> (referer: https://www.amazon.com/s?k=machine+learning&crid=27NSKOKLZAT5L&sprefix=deep+learning%2Caps%2C627&ref=nb_sb_noss_2)\n"
     ]
    },
    {
     "name": "stdout",
     "output_type": "stream",
     "text": [
      "6\n",
      "['\\n            \\n              79%\\n            \\n          '] 4.7 out of 5 stars 7 x 0.75 x 9 inches\n",
      "7\n",
      "['\\n            \\n              47%\\n            \\n          '] 3.6 out of 5 stars 6 x 0.48 x 9 inches\n",
      "8\n",
      "['\\n            \\n              73%\\n            \\n          '] 4.3 out of 5 stars 9.1 x 7.2 x 1.1 inches\n"
     ]
    },
    {
     "name": "stderr",
     "output_type": "stream",
     "text": [
      "2022-09-18 03:36:32 [scrapy.core.engine] DEBUG: Crawled (200) <GET https://www.amazon.com/Machine-Learning-Engineering-Andriy-Burkov/dp/1999579577/ref=sr_1_22?crid=27NSKOKLZAT5L&keywords=machine+learning&qid=1663464985&sprefix=deep+learning%2Caps%2C627&sr=8-22> (referer: https://www.amazon.com/s?k=machine+learning&crid=27NSKOKLZAT5L&sprefix=deep+learning%2Caps%2C627&ref=nb_sb_noss_2)\n",
      "2022-09-18 03:36:33 [scrapy.core.engine] DEBUG: Crawled (200) <GET https://www.amazon.com/Feature-Store-Machine-Learning-discover/dp/1803230061/ref=sr_1_4_sspa?crid=27NSKOKLZAT5L&keywords=machine+learning&qid=1663464985&sprefix=deep+learning%2Caps%2C627&sr=8-4-spons&psc=1> (referer: https://www.amazon.com/s?k=machine+learning&crid=27NSKOKLZAT5L&sprefix=deep+learning%2Caps%2C627&ref=nb_sb_noss_2)\n",
      "2022-09-18 03:36:33 [scrapy.core.engine] DEBUG: Crawled (200) <GET https://www.amazon.com/Machine-Learning-Fundamentals-Concise-Introduction/dp/1108940021/ref=sr_1_1_sspa?crid=27NSKOKLZAT5L&keywords=machine+learning&qid=1663464985&sprefix=deep+learning%2Caps%2C627&sr=8-1-spons&psc=1> (referer: https://www.amazon.com/s?k=machine+learning&crid=27NSKOKLZAT5L&sprefix=deep+learning%2Caps%2C627&ref=nb_sb_noss_2)\n"
     ]
    },
    {
     "name": "stdout",
     "output_type": "stream",
     "text": [
      "9\n",
      "['\\n            \\n              87%\\n            \\n          '] 4.7 out of 5 stars 7.5 x 0.73 x 9.25 inches\n"
     ]
    },
    {
     "name": "stderr",
     "output_type": "stream",
     "text": [
      "2022-09-18 03:36:33 [scrapy.core.engine] DEBUG: Crawled (200) <GET https://www.amazon.com/Machine-Learning-Fundamentals-Concise-Introduction/dp/1108940021/ref=sr_1_21?crid=27NSKOKLZAT5L&keywords=machine+learning&qid=1663464985&sprefix=deep+learning%2Caps%2C627&sr=8-21> (referer: https://www.amazon.com/s?k=machine+learning&crid=27NSKOKLZAT5L&sprefix=deep+learning%2Caps%2C627&ref=nb_sb_noss_2)\n",
      "2022-09-18 03:36:33 [scrapy.core.engine] DEBUG: Crawled (200) <GET https://www.amazon.com/Applied-Machine-Learning-Explainability-Techniques/dp/1803246154/ref=sr_1_3_sspa?crid=27NSKOKLZAT5L&keywords=machine+learning&qid=1663464985&sprefix=deep+learning%2Caps%2C627&sr=8-3-spons&psc=1> (referer: https://www.amazon.com/s?k=machine+learning&crid=27NSKOKLZAT5L&sprefix=deep+learning%2Caps%2C627&ref=nb_sb_noss_2)\n"
     ]
    },
    {
     "name": "stdout",
     "output_type": "stream",
     "text": [
      "10\n",
      "['\\n            \\n              100%\\n            \\n          '] 5.0 out of 5 stars 7.5 x 0.64 x 9.25 inches\n",
      "11\n",
      "['\\n            \\n              65%\\n            \\n          '] 4.3 out of 5 stars 8 x 1 x 10 inches\n"
     ]
    },
    {
     "name": "stderr",
     "output_type": "stream",
     "text": [
      "2022-09-18 03:36:33 [scrapy.core.engine] DEBUG: Crawled (200) <GET https://www.amazon.com/Python-Machine-Learning-Beginners-Scikitlearn/dp/1734790156/ref=sr_1_2_sspa?crid=27NSKOKLZAT5L&keywords=machine+learning&qid=1663464985&sprefix=deep+learning%2Caps%2C627&sr=8-2-spons&psc=1> (referer: https://www.amazon.com/s?k=machine+learning&crid=27NSKOKLZAT5L&sprefix=deep+learning%2Caps%2C627&ref=nb_sb_noss_2)\n"
     ]
    },
    {
     "name": "stdout",
     "output_type": "stream",
     "text": [
      "12\n",
      "['\\n            \\n              65%\\n            \\n          '] 4.3 out of 5 stars 8 x 1 x 10 inches\n",
      "13\n",
      "['\\n            \\n              100%\\n            \\n          '] 5.0 out of 5 stars 7.5 x 0.69 x 9.25 inches\n"
     ]
    },
    {
     "name": "stderr",
     "output_type": "stream",
     "text": [
      "2022-09-18 03:36:34 [scrapy.core.engine] DEBUG: Crawled (200) <GET https://www.amazon.com/Programming-Machine-Learning-Zero-Deep/dp/1680506609/ref=sr_1_60?crid=27NSKOKLZAT5L&keywords=machine+learning&qid=1663464985&sprefix=deep+learning%2Caps%2C627&sr=8-60> (referer: https://www.amazon.com/s?k=machine+learning&crid=27NSKOKLZAT5L&sprefix=deep+learning%2Caps%2C627&ref=nb_sb_noss_2)\n"
     ]
    },
    {
     "name": "stdout",
     "output_type": "stream",
     "text": [
      "14\n",
      "['\\n            \\n              73%\\n            \\n          '] 4.5 out of 5 stars 6 x 0.69 x 9 inches\n",
      "15\n",
      "['\\n            \\n              83%\\n            \\n          '] 4.8 out of 5 stars 7.5 x 0.71 x 9.25 inches\n"
     ]
    },
    {
     "name": "stderr",
     "output_type": "stream",
     "text": [
      "2022-09-18 03:36:37 [scrapy.core.engine] DEBUG: Crawled (200) <GET https://www.amazon.com/Machine-Learning-Programming-Artificial-Intelligence/dp/B0B6XLFWPL/ref=sr_1_58?crid=27NSKOKLZAT5L&keywords=machine+learning&qid=1663464985&sprefix=deep+learning%2Caps%2C627&sr=8-58> (referer: https://www.amazon.com/s?k=machine+learning&crid=27NSKOKLZAT5L&sprefix=deep+learning%2Caps%2C627&ref=nb_sb_noss_2)\n",
      "2022-09-18 03:36:37 [scrapy.core.engine] DEBUG: Crawled (200) <GET https://www.amazon.com/Introduction-Machine-Learning-Etienne-Bernard/dp/1579550487/ref=sr_1_59?crid=27NSKOKLZAT5L&keywords=machine+learning&qid=1663464985&sprefix=deep+learning%2Caps%2C627&sr=8-59> (referer: https://www.amazon.com/s?k=machine+learning&crid=27NSKOKLZAT5L&sprefix=deep+learning%2Caps%2C627&ref=nb_sb_noss_2)\n",
      "2022-09-18 03:36:37 [scrapy.core.engine] DEBUG: Crawled (200) <GET https://www.amazon.com/Machine-Learning-Absolute-Beginners-Introduction/dp/1549617214/ref=sr_1_19_sspa?crid=27NSKOKLZAT5L&keywords=machine+learning&qid=1663464985&sprefix=deep+learning%2Caps%2C627&sr=8-19-spons&psc=1> (referer: https://www.amazon.com/s?k=machine+learning&crid=27NSKOKLZAT5L&sprefix=deep+learning%2Caps%2C627&ref=nb_sb_noss_2)\n",
      "2022-09-18 03:36:37 [scrapy.core.engine] DEBUG: Crawled (200) <GET https://www.amazon.com/Data-Analysis-Machine-Learning-Kaggle/dp/1801817472/ref=sr_1_20_sspa?crid=27NSKOKLZAT5L&keywords=machine+learning&qid=1663464985&sprefix=deep+learning%2Caps%2C627&sr=8-20-spons&psc=1> (referer: https://www.amazon.com/s?k=machine+learning&crid=27NSKOKLZAT5L&sprefix=deep+learning%2Caps%2C627&ref=nb_sb_noss_2)\n",
      "2022-09-18 03:36:37 [scrapy.core.engine] DEBUG: Crawled (200) <GET https://www.amazon.com/Machine-Learning-Oil-Gas-Industry/dp/1484260937/ref=sr_1_57?crid=27NSKOKLZAT5L&keywords=machine+learning&qid=1663464985&sprefix=deep+learning%2Caps%2C627&sr=8-57> (referer: https://www.amazon.com/s?k=machine+learning&crid=27NSKOKLZAT5L&sprefix=deep+learning%2Caps%2C627&ref=nb_sb_noss_2)\n",
      "2022-09-18 03:36:37 [scrapy.core.engine] DEBUG: Crawled (200) <GET https://www.amazon.com/Machine-Learning-Dummies-Computer-Tech/dp/1119724015/ref=sr_1_56?crid=27NSKOKLZAT5L&keywords=machine+learning&qid=1663464985&sprefix=deep+learning%2Caps%2C627&sr=8-56> (referer: https://www.amazon.com/s?k=machine+learning&crid=27NSKOKLZAT5L&sprefix=deep+learning%2Caps%2C627&ref=nb_sb_noss_2)\n"
     ]
    },
    {
     "name": "stdout",
     "output_type": "stream",
     "text": [
      "start_new_page\n"
     ]
    },
    {
     "name": "stderr",
     "output_type": "stream",
     "text": [
      "2022-09-18 03:36:37 [scrapy.core.engine] DEBUG: Crawled (200) <GET https://www.amazon.com/Machine-Learning-Solutions-Architect-Handbook/dp/1801072167/ref=sr_1_55?crid=27NSKOKLZAT5L&keywords=machine+learning&qid=1663464985&sprefix=deep+learning%2Caps%2C627&sr=8-55> (referer: https://www.amazon.com/s?k=machine+learning&crid=27NSKOKLZAT5L&sprefix=deep+learning%2Caps%2C627&ref=nb_sb_noss_2)\n",
      "2022-09-18 03:36:37 [scrapy.core.engine] DEBUG: Crawled (200) <GET https://www.amazon.com/Python-Finance-Algorithmic-trading-MetaTraderTM5/dp/B0BB5DDB1Q/ref=sr_1_54?crid=27NSKOKLZAT5L&keywords=machine+learning&qid=1663464985&sprefix=deep+learning%2Caps%2C627&sr=8-54> (referer: https://www.amazon.com/s?k=machine+learning&crid=27NSKOKLZAT5L&sprefix=deep+learning%2Caps%2C627&ref=nb_sb_noss_2)\n"
     ]
    },
    {
     "name": "stdout",
     "output_type": "stream",
     "text": [
      "16\n",
      "['\\n            \\n              81%\\n            \\n          '] 4.6 out of 5 stars 6 x 0.78 x 9 inches\n",
      "17\n",
      "['\\n            \\n              70%\\n            \\n          '] 4.4 out of 5 stars 7 x 0.86 x 10 inches\n",
      "18\n",
      "['\\n            \\n              69%\\n            \\n          '] 4.5 out of 5 stars 6 x 0.41 x 9 inches\n",
      "19\n",
      "['\\n            \\n              81%\\n            \\n          '] 4.6 out of 5 stars 7.5 x 1.2 x 9.25 inches\n",
      "20\n",
      "['\\n            \\n              87%\\n            \\n          '] 4.9 out of 5 stars 6.1 x 0.73 x 9.25 inches\n",
      "21\n",
      "['\\n            \\n              63%\\n            \\n          '] 4.2 out of 5 stars 7.38 x 1.05 x 9.25 inches\n",
      "22\n",
      "['\\n            \\n              82%\\n            \\n          '] 4.7 out of 5 stars 7.5 x 1 x 9.25 inches\n",
      "23\n",
      "['\\n            \\n              63%\\n            \\n          '] 4.6 out of 5 stars 6.69 x 0.74 x 9.61 inches\n"
     ]
    },
    {
     "name": "stderr",
     "output_type": "stream",
     "text": [
      "2022-09-18 03:36:39 [scrapy.core.engine] DEBUG: Crawled (200) <GET https://www.amazon.com/Data-Analysis-Machine-Learning-Kaggle/dp/1801817472/ref=sr_1_52?crid=27NSKOKLZAT5L&keywords=machine+learning&qid=1663464985&sprefix=deep+learning%2Caps%2C627&sr=8-52> (referer: https://www.amazon.com/s?k=machine+learning&crid=27NSKOKLZAT5L&sprefix=deep+learning%2Caps%2C627&ref=nb_sb_noss_2)\n",
      "2022-09-18 03:36:39 [scrapy.core.engine] DEBUG: Crawled (200) <GET https://www.amazon.com/Journey-Become-Machine-Learning-Engineer/dp/1803233729/ref=sr_1_53?crid=27NSKOKLZAT5L&keywords=machine+learning&qid=1663464985&sprefix=deep+learning%2Caps%2C627&sr=8-53> (referer: https://www.amazon.com/s?k=machine+learning&crid=27NSKOKLZAT5L&sprefix=deep+learning%2Caps%2C627&ref=nb_sb_noss_2)\n",
      "2022-09-18 03:36:39 [scrapy.core.engine] DEBUG: Crawled (200) <GET https://www.amazon.com/Hands-Machine-Learning-Scikit-Learn-TensorFlow/dp/1098125975/ref=sr_1_47?crid=27NSKOKLZAT5L&keywords=machine+learning&qid=1663464985&sprefix=deep+learning%2Caps%2C627&sr=8-47> (referer: https://www.amazon.com/s?k=machine+learning&crid=27NSKOKLZAT5L&sprefix=deep+learning%2Caps%2C627&ref=nb_sb_noss_2)\n"
     ]
    },
    {
     "name": "stdout",
     "output_type": "stream",
     "text": [
      "24\n",
      "['\\n            \\n              81%\\n            \\n          '] 4.6 out of 5 stars 7.5 x 1.2 x 9.25 inches\n"
     ]
    },
    {
     "name": "stderr",
     "output_type": "stream",
     "text": [
      "2022-09-18 03:36:40 [scrapy.core.engine] DEBUG: Crawled (200) <GET https://www.amazon.com/Machine-Learning-PyTorch-Scikit-Learn-learning/dp/1801819319/ref=sr_1_48?crid=27NSKOKLZAT5L&keywords=machine+learning&qid=1663464985&sprefix=deep+learning%2Caps%2C627&sr=8-48> (referer: https://www.amazon.com/s?k=machine+learning&crid=27NSKOKLZAT5L&sprefix=deep+learning%2Caps%2C627&ref=nb_sb_noss_2)\n"
     ]
    },
    {
     "name": "stdout",
     "output_type": "stream",
     "text": [
      "25\n",
      "[] None 7.5 x 0.75 x 9.25 inches\n",
      "26\n",
      "[] None None\n"
     ]
    },
    {
     "name": "stderr",
     "output_type": "stream",
     "text": [
      "2022-09-18 03:36:40 [scrapy.core.engine] DEBUG: Crawled (200) <GET https://www.amazon.com/Learning-Python-Second-Fran%C3%A7ois-Chollet/dp/1617296864/ref=sr_1_51?crid=27NSKOKLZAT5L&keywords=machine+learning&qid=1663464985&sprefix=deep+learning%2Caps%2C627&sr=8-51> (referer: https://www.amazon.com/s?k=machine+learning&crid=27NSKOKLZAT5L&sprefix=deep+learning%2Caps%2C627&ref=nb_sb_noss_2)\n",
      "2022-09-18 03:36:40 [scrapy.core.engine] DEBUG: Crawled (200) <GET https://www.amazon.com/Fundamentals-Data-Engineering-Robust-Systems/dp/1098108302/ref=sr_1_50?crid=27NSKOKLZAT5L&keywords=machine+learning&qid=1663464985&sprefix=deep+learning%2Caps%2C627&sr=8-50> (referer: https://www.amazon.com/s?k=machine+learning&crid=27NSKOKLZAT5L&sprefix=deep+learning%2Caps%2C627&ref=nb_sb_noss_2)\n",
      "2022-09-18 03:36:40 [scrapy.core.engine] DEBUG: Crawled (200) <GET https://www.amazon.com/Advances-Financial-Machine-Learning-Marcos/dp/1119482089/ref=sr_1_49?crid=27NSKOKLZAT5L&keywords=machine+learning&qid=1663464985&sprefix=deep+learning%2Caps%2C627&sr=8-49> (referer: https://www.amazon.com/s?k=machine+learning&crid=27NSKOKLZAT5L&sprefix=deep+learning%2Caps%2C627&ref=nb_sb_noss_2)\n"
     ]
    },
    {
     "name": "stdout",
     "output_type": "stream",
     "text": [
      "27\n",
      "['\\n            \\n              82%\\n            \\n          '] 4.7 out of 5 stars 7.5 x 1.74 x 9.25 inches\n",
      "28\n",
      "['\\n            \\n              82%\\n            \\n          '] 4.6 out of 5 stars 7.38 x 1.4 x 9.25 inches\n",
      "29\n",
      "['\\n            \\n              96%\\n            \\n          '] 5.0 out of 5 stars 7 x 1 x 9.25 inches\n"
     ]
    },
    {
     "name": "stderr",
     "output_type": "stream",
     "text": [
      "2022-09-18 03:36:40 [scrapy.core.engine] DEBUG: Crawled (200) <GET https://www.amazon.com/Machine-Learning-Online-Training-Certification/dp/B09HSL8L4V/ref=sr_1_42?crid=27NSKOKLZAT5L&keywords=machine+learning&qid=1663464985&sprefix=deep+learning%2Caps%2C627&sr=8-42> (referer: https://www.amazon.com/s?k=machine+learning&crid=27NSKOKLZAT5L&sprefix=deep+learning%2Caps%2C627&ref=nb_sb_noss_2)\n"
     ]
    },
    {
     "name": "stdout",
     "output_type": "stream",
     "text": [
      "30\n",
      "['\\n            \\n              76%\\n            \\n          '] 4.5 out of 5 stars 6.1 x 1.1 x 9 inches\n"
     ]
    },
    {
     "name": "stderr",
     "output_type": "stream",
     "text": [
      "2022-09-18 03:36:41 [scrapy.core.engine] DEBUG: Crawled (200) <GET https://www.amazon.com/s?k=machine+learning&page=2&crid=27NSKOKLZAT5L&qid=1663463991&sprefix=deep+learning%2Caps%2C627&ref=sr_pg_2> (referer: https://www.amazon.com/Programming-Machine-Learning-Zero-Deep/dp/1680506609/ref=sr_1_60?crid=27NSKOKLZAT5L&keywords=machine+learning&qid=1663464985&sprefix=deep+learning%2Caps%2C627&sr=8-60)\n"
     ]
    },
    {
     "name": "stdout",
     "output_type": "stream",
     "text": [
      "31\n",
      "[] 4.6 out of 5 stars None\n",
      "2\n",
      "Computer Programming for Beginners: Fundamentals of Programming Terms and Concepts\n",
      "Machine Learning: Master Machine Learning Fundamentals For Beginners\n",
      "Quantum Computing for Programmers\n",
      "Python: Programming Basics for Absolute Beginners (Step-By-Step Python)\n",
      "Grokking Machine Learning\n",
      "Machine Learning For Absolute Beginners: A Plain English Introduction (Machine Learning from Scratch)\n",
      "Practical Simulations for Machine Learning: Using Synthetic Data for AI\n",
      "Learning Deep Learning: Theory and Practice of Neural Networks, Computer Vision, Natural Language Processing, and Transformers Using TensorFlow\n",
      "The Master Algorithm: How the Quest for the Ultimate Learning Machine Will Remake Our World\n",
      "Introduction to Machine Learning\n",
      "Patterns, Predictions, and Actions: Foundations of Machine Learning\n",
      "Math for Deep Learning: What You Need to Know to Understand Neural Networks\n",
      "Artificial Intelligence in Practice: How 50 Successful Companies Used AI and Machine Learning to Solve Problems\n",
      "Amazon Basics Portable Foldable Photo Studio Box with LED Light - 25 x 30 x 25 Inches\n",
      "Machine Learning: New and Collected Stories\n",
      "Advanced Statistics for Health Research\n",
      "Python Feature Engineering Cookbook: Over 70 recipes for creating, engineering, and transforming features to build machine learning models\n",
      "Machine Learning: Master Supervised and Unsupervised Learning Algorithms with Real Examples (English Edition)\n",
      "The Machine Learning Solutions Architect Handbook: Create machine learning platforms to run solutions in an enterprise setting\n",
      "Data-Driven Science and Engineering: Machine Learning, Dynamical Systems, and Control\n",
      "Inside Deep Learning: Math, Algorithms, Models\n",
      "Optimization for Data Analysis\n",
      "Machine Learning for Time-Series with Python: Forecast, predict, and detect anomalies with state-of-the-art machine learning methods\n",
      "The Elements of Statistical Learning: Data Mining, Inference, and Prediction, Second Edition (Springer Series in Statistics)\n",
      "Python Machine Learning By Example: Build intelligent systems using Python, TensorFlow 2, PyTorch, and scikit-learn, 3rd Edition\n",
      "Learn Machine Learning: Crash Course for Beginners\n",
      "Practical MLOps: Operationalizing Machine Learning Models\n",
      "Machine Learning: 4 Books in 1: Basic Concepts + Artificial Intelligence + Python Programming + Python Machine Learning. A Comprehensive Guide to Build Intelligent Systems Using Python Libraries\n",
      "An Introduction to Statistical Learning: with Applications in R (Springer Texts in Statistics)\n",
      "Machine Learning: An Applied Mathematics Introduction\n",
      "AWS DeepRacer TV\n",
      "Machine Learning in Bio-Signal Analysis and Diagnostic Imaging\n",
      "Hey Cyba\n",
      "Python Programming for Beginners: The #1 Python Programming Crash Course for Beginners to Learn Python Coding Well & Fast (with Hands-On Exercises)\n",
      "Data Engineering with AWS: Learn how to design and build cloud-based data transformation pipelines using AWS\n",
      "The Data Vault Guru: a pragmatic guide on building a data vault\n",
      "Data-Driven Science and Engineering: Machine Learning, Dynamical Systems, and Control\n",
      "Building Machine Learning Pipelines: Automating Model Life Cycles with TensorFlow\n",
      "Machine Learning with R: Expert techniques for predictive modeling, 3rd Edition\n",
      "The Art of Machine Learning: Algorithms + Data + R\n",
      "Scaling Machine Learning with Spark: Distributed ML with MLlib, TensorFlow, and PyTorch\n",
      "Data-Driven Science and Engineering: Machine Learning, Dynamical Systems, and Control\n",
      "Knowledge Graphs: Fundamentals, Techniques, and Applications (Adaptive Computation and Machine Learning series)\n",
      "Probabilistic Numerics: Computation as Machine Learning\n",
      "Introduction to Statistical and Machine Learning Methods for Data Science\n",
      "Machine Learning with Amazon SageMaker Cookbook: 80 proven recipes for data scientists and developers to perform machine learning experiments and deployments\n",
      "Art in the Age of Machine Learning (Leonardo)\n",
      "Gaussian Processes for Machine Learning (Adaptive Computation and Machine Learning series)\n",
      "Machine Learning Engineering in Action\n",
      "Ultimate Step by Step Guide to Machine Learning Using Python: Predictive modelling concepts explained in simple terms for beginners\n",
      "Interpretable Machine Learning: A Guide For Making Black Box Models Explainable\n",
      "Understanding Machine Learning: From Theory to Algorithms\n",
      "Machine Learning in Finance: From Theory to Practice\n",
      "Machine Learning for Streaming Data with Python: Rapidly build practical online machine learning solutions using River and other top key frameworks\n",
      "Interpretable Machine Learning with Python: Learn to build interpretable high-performance models with hands-on real-world examples\n",
      "Human-in-the-Loop Machine Learning: Active learning and annotation for human-centered AI\n",
      "Machine Learning for Asset Managers (Elements in Quantitative Finance)\n",
      "Fundamentals of Machine Learning for Predictive Data Analytics, second edition: Algorithms, Worked Examples, and Case Studies\n",
      "Machine Learning in the Cloud with AWS Batch | Machine Learning Online Course | AWS Training & Certification\n",
      "AWS Certified Machine Learning Specialty: MLS-C01 Certification Guide: The definitive guide to passing the MLS-C01 exam on the very first attempt\n"
     ]
    },
    {
     "name": "stderr",
     "output_type": "stream",
     "text": [
      "2022-09-18 03:36:41 [scrapy.core.engine] DEBUG: Crawled (200) <GET https://www.amazon.com/Alignment-Problem-Machine-Learning-Values/dp/B085DTXC59/ref=sr_1_46?crid=27NSKOKLZAT5L&keywords=machine+learning&qid=1663464985&sprefix=deep+learning%2Caps%2C627&sr=8-46> (referer: https://www.amazon.com/s?k=machine+learning&crid=27NSKOKLZAT5L&sprefix=deep+learning%2Caps%2C627&ref=nb_sb_noss_2)\n",
      "2022-09-18 03:36:41 [scrapy.core.engine] DEBUG: Crawled (200) <GET https://www.amazon.com/Continuous-Machine-Learning-Kubeflow-Capabilities-ebook/dp/B09M9TPVRN/ref=sr_1_45?crid=27NSKOKLZAT5L&keywords=machine+learning&qid=1663464985&sprefix=deep+learning%2Caps%2C627&sr=8-45> (referer: https://www.amazon.com/s?k=machine+learning&crid=27NSKOKLZAT5L&sprefix=deep+learning%2Caps%2C627&ref=nb_sb_noss_2)\n"
     ]
    },
    {
     "name": "stdout",
     "output_type": "stream",
     "text": [
      "32\n",
      "['\\n            \\n              72%\\n            \\n          '] 4.6 out of 5 stars None\n"
     ]
    },
    {
     "name": "stderr",
     "output_type": "stream",
     "text": [
      "2022-09-18 03:36:42 [scrapy.downloadermiddlewares.redirect] DEBUG: Redirecting (302) to <GET https://www.amazon.com/Pattern-Recognition-Learning-Information-Statistics/dp/0387310738/ref=sr_1_36_sspa?crid=27NSKOKLZAT5L&keywords=machine+learning&qid=1663464985&sprefix=deep+learning%2Caps%2C627&sr=8-36-spons&psc=1> from <GET https://www.amazon.com/sspa/click?ie=UTF8&spc=MTo1MjMzODUwNDM1MTQ1NjU2OjE2NjM0NjQ5ODU6c3BfbXRmOjIwMDA3MzgxNTU4MjA5ODo6MDo6&sp_csd=d2lkZ2V0TmFtZT1zcF9tdGY&url=%2FPattern-Recognition-Learning-Information-Statistics%2Fdp%2F0387310738%2Fref%3Dsr_1_36_sspa%3Fcrid%3D27NSKOKLZAT5L%26keywords%3Dmachine%2Blearning%26qid%3D1663464985%26sprefix%3Ddeep%2Blearning%252Caps%252C627%26sr%3D8-36-spons%26psc%3D1>\n",
      "2022-09-18 03:36:42 [scrapy.core.engine] DEBUG: Crawled (200) <GET https://www.amazon.com/Ace-Data-Science-Interview-Questions/dp/0578973839/ref=sr_1_44?crid=27NSKOKLZAT5L&keywords=machine+learning&qid=1663464985&sprefix=deep+learning%2Caps%2C627&sr=8-44> (referer: https://www.amazon.com/s?k=machine+learning&crid=27NSKOKLZAT5L&sprefix=deep+learning%2Caps%2C627&ref=nb_sb_noss_2)\n"
     ]
    },
    {
     "name": "stdout",
     "output_type": "stream",
     "text": [
      "33\n",
      "['\\n            \\n              63%\\n            \\n          '] 4.6 out of 5 stars None\n"
     ]
    },
    {
     "name": "stderr",
     "output_type": "stream",
     "text": [
      "2022-09-18 03:36:42 [scrapy.downloadermiddlewares.redirect] DEBUG: Redirecting (302) to <GET https://www.amazon.com/Python-Machine-Learning-scikit-learn-TensorFlow/dp/1789955750/ref=sr_1_35_sspa?crid=27NSKOKLZAT5L&keywords=machine+learning&qid=1663464985&sprefix=deep+learning%2Caps%2C627&sr=8-35-spons&psc=1> from <GET https://www.amazon.com/sspa/click?ie=UTF8&spc=MTo1MjMzODUwNDM1MTQ1NjU2OjE2NjM0NjQ5ODU6c3BfbXRmOjIwMDAxOTY0MjMzMzc3MTo6MDo6&sp_csd=d2lkZ2V0TmFtZT1zcF9tdGY&url=%2FPython-Machine-Learning-scikit-learn-TensorFlow%2Fdp%2F1789955750%2Fref%3Dsr_1_35_sspa%3Fcrid%3D27NSKOKLZAT5L%26keywords%3Dmachine%2Blearning%26qid%3D1663464985%26sprefix%3Ddeep%2Blearning%252Caps%252C627%26sr%3D8-35-spons%26psc%3D1>\n",
      "2022-09-18 03:36:42 [scrapy.downloadermiddlewares.redirect] DEBUG: Redirecting (302) to <GET https://www.amazon.com/Excel-2022-Step-Step-Demonstrations/dp/B09ZVB5Y7G/ref=sr_1_34_sspa?crid=27NSKOKLZAT5L&keywords=machine+learning&qid=1663464985&sprefix=deep+learning%2Caps%2C627&sr=8-34-spons&psc=1> from <GET https://www.amazon.com/sspa/click?ie=UTF8&spc=MTo1MjMzODUwNDM1MTQ1NjU2OjE2NjM0NjQ5ODU6c3BfbXRmOjIwMDA4NjUzMzc5ODg5ODo6MDo6&sp_csd=d2lkZ2V0TmFtZT1zcF9tdGY&url=%2FExcel-2022-Step-Step-Demonstrations%2Fdp%2FB09ZVB5Y7G%2Fref%3Dsr_1_34_sspa%3Fcrid%3D27NSKOKLZAT5L%26keywords%3Dmachine%2Blearning%26qid%3D1663464985%26sprefix%3Ddeep%2Blearning%252Caps%252C627%26sr%3D8-34-spons%26psc%3D1>\n",
      "2022-09-18 03:36:42 [scrapy.core.engine] DEBUG: Crawled (200) <GET https://www.amazon.com/Python-Machine-Learning-Beginners-Scikitlearn/dp/1734790156/ref=sr_1_40?crid=27NSKOKLZAT5L&keywords=machine+learning&qid=1663464985&sprefix=deep+learning%2Caps%2C627&sr=8-40> (referer: https://www.amazon.com/s?k=machine+learning&crid=27NSKOKLZAT5L&sprefix=deep+learning%2Caps%2C627&ref=nb_sb_noss_2)\n",
      "2022-09-18 03:36:42 [scrapy.core.engine] DEBUG: Crawled (200) <GET https://www.amazon.com/Essential-Math-Data-Science-Fundamental/dp/1098102932/ref=sr_1_43?crid=27NSKOKLZAT5L&keywords=machine+learning&qid=1663464985&sprefix=deep+learning%2Caps%2C627&sr=8-43> (referer: https://www.amazon.com/s?k=machine+learning&crid=27NSKOKLZAT5L&sprefix=deep+learning%2Caps%2C627&ref=nb_sb_noss_2)\n"
     ]
    },
    {
     "name": "stdout",
     "output_type": "stream",
     "text": [
      "34\n",
      "['\\n            \\n              77%\\n            \\n          '] 4.5 out of 5 stars 7 x 0.68 x 10 inches\n"
     ]
    },
    {
     "name": "stderr",
     "output_type": "stream",
     "text": [
      "2022-09-18 03:36:42 [scrapy.downloadermiddlewares.redirect] DEBUG: Redirecting (302) to <GET https://www.amazon.com/Machine-Learning-Absolute-Beginners-Introduction/dp/B08RR7GC3C/ref=sr_1_33_sspa?crid=27NSKOKLZAT5L&keywords=machine+learning&qid=1663464985&sprefix=deep+learning%2Caps%2C627&sr=8-33-spons&psc=1> from <GET https://www.amazon.com/sspa/click?ie=UTF8&spc=MTo1MjMzODUwNDM1MTQ1NjU2OjE2NjM0NjQ5ODU6c3BfbXRmOjIwMDA0NTUyNjQ5OTA5ODo6MDo6&sp_csd=d2lkZ2V0TmFtZT1zcF9tdGY&url=%2FMachine-Learning-Absolute-Beginners-Introduction%2Fdp%2FB08RR7GC3C%2Fref%3Dsr_1_33_sspa%3Fcrid%3D27NSKOKLZAT5L%26keywords%3Dmachine%2Blearning%26qid%3D1663464985%26sprefix%3Ddeep%2Blearning%252Caps%252C627%26sr%3D8-33-spons%26psc%3D1>\n"
     ]
    },
    {
     "name": "stdout",
     "output_type": "stream",
     "text": [
      "35\n",
      "['\\n            \\n              73%\\n            \\n          '] 4.5 out of 5 stars 6 x 0.69 x 9 inches\n",
      "36\n",
      "['\\n            \\n              79%\\n            \\n          '] 4.5 out of 5 stars 7 x 0.75 x 9 inches\n"
     ]
    },
    {
     "name": "stderr",
     "output_type": "stream",
     "text": [
      "2022-09-18 03:36:43 [scrapy.core.engine] DEBUG: Crawled (200) <GET https://www.amazon.com/Python-Machine-Learning-scikit-learn-TensorFlow/dp/1789955750/ref=sr_1_41?crid=27NSKOKLZAT5L&keywords=machine+learning&qid=1663464985&sprefix=deep+learning%2Caps%2C627&sr=8-41> (referer: https://www.amazon.com/s?k=machine+learning&crid=27NSKOKLZAT5L&sprefix=deep+learning%2Caps%2C627&ref=nb_sb_noss_2)\n",
      "2022-09-18 03:36:43 [scrapy.core.engine] DEBUG: Crawled (200) <GET https://www.amazon.com/Machine-Learning-Probabilistic-Perspective-Computation/dp/0262018020/ref=sr_1_38?crid=27NSKOKLZAT5L&keywords=machine+learning&qid=1663464985&sprefix=deep+learning%2Caps%2C627&sr=8-38> (referer: https://www.amazon.com/s?k=machine+learning&crid=27NSKOKLZAT5L&sprefix=deep+learning%2Caps%2C627&ref=nb_sb_noss_2)\n",
      "2022-09-18 03:36:43 [scrapy.core.engine] DEBUG: Crawled (200) <GET https://www.amazon.com/Machine-Learning-Bookcamp-portfolio-real-life/dp/1617296813/ref=sr_1_39?crid=27NSKOKLZAT5L&keywords=machine+learning&qid=1663464985&sprefix=deep+learning%2Caps%2C627&sr=8-39> (referer: https://www.amazon.com/s?k=machine+learning&crid=27NSKOKLZAT5L&sprefix=deep+learning%2Caps%2C627&ref=nb_sb_noss_2)\n"
     ]
    },
    {
     "name": "stdout",
     "output_type": "stream",
     "text": [
      "37\n",
      "['\\n            \\n              71%\\n            \\n          '] 4.5 out of 5 stars 7.5 x 1.74 x 9.25 inches\n"
     ]
    },
    {
     "name": "stderr",
     "output_type": "stream",
     "text": [
      "2022-09-18 03:36:43 [scrapy.core.engine] DEBUG: Crawled (200) <GET https://www.amazon.com/Machine-Learning-Online-Training-Certification/dp/B09HZJCL57/ref=sr_1_107?crid=27NSKOKLZAT5L&keywords=machine+learning&qid=1663464998&sprefix=deep+learning%2Caps%2C627&sr=8-107> (referer: https://www.amazon.com/s?k=machine+learning&page=2&crid=27NSKOKLZAT5L&qid=1663463991&sprefix=deep+learning%2Caps%2C627&ref=sr_pg_2)\n"
     ]
    },
    {
     "name": "stdout",
     "output_type": "stream",
     "text": [
      "38\n",
      "['\\n            \\n              72%\\n            \\n          '] 4.4 out of 5 stars 8.25 x 1.79 x 9.27 inches\n",
      "39\n",
      "['\\n            \\n              100%\\n            \\n          '] 5.0 out of 5 stars 7.38 x 0.6 x 9.25 inches\n"
     ]
    },
    {
     "name": "stderr",
     "output_type": "stream",
     "text": [
      "2022-09-18 03:36:44 [scrapy.core.engine] DEBUG: Crawled (200) <GET https://www.amazon.com/Approaching-Almost-Machine-Learning-Problem/dp/8269211508/ref=sr_1_37?crid=27NSKOKLZAT5L&keywords=machine+learning&qid=1663464985&sprefix=deep+learning%2Caps%2C627&sr=8-37> (referer: https://www.amazon.com/s?k=machine+learning&crid=27NSKOKLZAT5L&sprefix=deep+learning%2Caps%2C627&ref=nb_sb_noss_2)\n"
     ]
    },
    {
     "name": "stdout",
     "output_type": "stream",
     "text": [
      "40\n",
      "[] 4.4 out of 5 stars None\n"
     ]
    },
    {
     "name": "stderr",
     "output_type": "stream",
     "text": [
      "2022-09-18 03:36:44 [scrapy.core.engine] DEBUG: Crawled (200) <GET https://www.amazon.com/Python-Machine-Learning-Project-RANDY-ebook/dp/B084Q4BJB4/ref=sr_1_30?crid=27NSKOKLZAT5L&keywords=machine+learning&qid=1663464985&sprefix=deep+learning%2Caps%2C627&sr=8-30> (referer: https://www.amazon.com/s?k=machine+learning&crid=27NSKOKLZAT5L&sprefix=deep+learning%2Caps%2C627&ref=nb_sb_noss_2)\n"
     ]
    },
    {
     "name": "stdout",
     "output_type": "stream",
     "text": [
      "41\n",
      "['\\n            \\n              73%\\n            \\n          '] 4.5 out of 5 stars 6 x 0.68 x 9 inches\n"
     ]
    },
    {
     "name": "stderr",
     "output_type": "stream",
     "text": [
      "2022-09-18 03:36:44 [scrapy.core.engine] DEBUG: Crawled (200) <GET https://www.amazon.com/Machine-Learning-Simplified-Introduction-Supervised-ebook/dp/B0B216KMM4/ref=sr_1_31?crid=27NSKOKLZAT5L&keywords=machine+learning&qid=1663464985&sprefix=deep+learning%2Caps%2C627&sr=8-31> (referer: https://www.amazon.com/s?k=machine+learning&crid=27NSKOKLZAT5L&sprefix=deep+learning%2Caps%2C627&ref=nb_sb_noss_2)\n",
      "2022-09-18 03:36:44 [scrapy.core.engine] DEBUG: Crawled (200) <GET https://www.amazon.com/Machine-Learning-Constraint-Based-Marco-Gori/dp/0323898599/ref=sr_1_32?crid=27NSKOKLZAT5L&keywords=machine+learning&qid=1663464985&sprefix=deep+learning%2Caps%2C627&sr=8-32> (referer: https://www.amazon.com/s?k=machine+learning&crid=27NSKOKLZAT5L&sprefix=deep+learning%2Caps%2C627&ref=nb_sb_noss_2)\n"
     ]
    },
    {
     "name": "stdout",
     "output_type": "stream",
     "text": [
      "42\n",
      "[] None None\n",
      "43\n",
      "['\\n            \\n              88%\\n            \\n          '] 4.8 out of 5 stars None\n",
      "44\n",
      "[] None None\n"
     ]
    },
    {
     "name": "stderr",
     "output_type": "stream",
     "text": [
      "2022-09-18 03:36:45 [scrapy.core.engine] DEBUG: Crawled (200) <GET https://www.amazon.com/Certified-Machine-Learning-Specialty-Certification/dp/1800569009/ref=sr_1_108?crid=27NSKOKLZAT5L&keywords=machine+learning&qid=1663464998&sprefix=deep+learning%2Caps%2C627&sr=8-108> (referer: https://www.amazon.com/s?k=machine+learning&page=2&crid=27NSKOKLZAT5L&qid=1663463991&sprefix=deep+learning%2Caps%2C627&ref=sr_pg_2)\n"
     ]
    },
    {
     "name": "stdout",
     "output_type": "stream",
     "text": [
      "45\n",
      "['\\n            \\n              49%\\n            \\n          '] 4.2 out of 5 stars 7.5 x 0.77 x 9.25 inches\n"
     ]
    },
    {
     "name": "stderr",
     "output_type": "stream",
     "text": [
      "2022-09-18 03:36:48 [scrapy.core.engine] DEBUG: Crawled (200) <GET https://www.amazon.com/Pattern-Recognition-Learning-Information-Statistics/dp/0387310738/ref=sr_1_36_sspa?crid=27NSKOKLZAT5L&keywords=machine+learning&qid=1663464985&sprefix=deep+learning%2Caps%2C627&sr=8-36-spons&psc=1> (referer: https://www.amazon.com/s?k=machine+learning&crid=27NSKOKLZAT5L&sprefix=deep+learning%2Caps%2C627&ref=nb_sb_noss_2)\n",
      "2022-09-18 03:36:48 [scrapy.core.engine] DEBUG: Crawled (200) <GET https://www.amazon.com/Fundamentals-Machine-Learning-Predictive-Analytics/dp/0262044692/ref=sr_1_106?crid=27NSKOKLZAT5L&keywords=machine+learning&qid=1663464998&sprefix=deep+learning%2Caps%2C627&sr=8-106> (referer: https://www.amazon.com/s?k=machine+learning&page=2&crid=27NSKOKLZAT5L&qid=1663463991&sprefix=deep+learning%2Caps%2C627&ref=sr_pg_2)\n",
      "2022-09-18 03:36:48 [scrapy.core.engine] DEBUG: Crawled (200) <GET https://www.amazon.com/Python-Machine-Learning-scikit-learn-TensorFlow/dp/1789955750/ref=sr_1_35_sspa?crid=27NSKOKLZAT5L&keywords=machine+learning&qid=1663464985&sprefix=deep+learning%2Caps%2C627&sr=8-35-spons&psc=1> (referer: https://www.amazon.com/s?k=machine+learning&crid=27NSKOKLZAT5L&sprefix=deep+learning%2Caps%2C627&ref=nb_sb_noss_2)\n",
      "2022-09-18 03:36:48 [scrapy.core.engine] DEBUG: Crawled (200) <GET https://www.amazon.com/Excel-2022-Step-Step-Demonstrations/dp/B09ZVB5Y7G/ref=sr_1_34_sspa?crid=27NSKOKLZAT5L&keywords=machine+learning&qid=1663464985&sprefix=deep+learning%2Caps%2C627&sr=8-34-spons&psc=1> (referer: https://www.amazon.com/s?k=machine+learning&crid=27NSKOKLZAT5L&sprefix=deep+learning%2Caps%2C627&ref=nb_sb_noss_2)\n",
      "2022-09-18 03:36:48 [scrapy.core.engine] DEBUG: Crawled (200) <GET https://www.amazon.com/Machine-Learning-Managers-Elements-Quantitative/dp/1108792898/ref=sr_1_105?crid=27NSKOKLZAT5L&keywords=machine+learning&qid=1663464998&sprefix=deep+learning%2Caps%2C627&sr=8-105> (referer: https://www.amazon.com/s?k=machine+learning&page=2&crid=27NSKOKLZAT5L&qid=1663463991&sprefix=deep+learning%2Caps%2C627&ref=sr_pg_2)\n",
      "2022-09-18 03:36:48 [scrapy.core.engine] DEBUG: Crawled (200) <GET https://www.amazon.com/Human-Loop-Machine-Learning-human-computer/dp/1617296740/ref=sr_1_104?crid=27NSKOKLZAT5L&keywords=machine+learning&qid=1663464998&sprefix=deep+learning%2Caps%2C627&sr=8-104> (referer: https://www.amazon.com/s?k=machine+learning&page=2&crid=27NSKOKLZAT5L&qid=1663463991&sprefix=deep+learning%2Caps%2C627&ref=sr_pg_2)\n",
      "2022-09-18 03:36:48 [scrapy.core.engine] DEBUG: Crawled (200) <GET https://www.amazon.com/Machine-Learning-Absolute-Beginners-Introduction/dp/B08RR7GC3C/ref=sr_1_33_sspa?crid=27NSKOKLZAT5L&keywords=machine+learning&qid=1663464985&sprefix=deep+learning%2Caps%2C627&sr=8-33-spons&psc=1> (referer: https://www.amazon.com/s?k=machine+learning&crid=27NSKOKLZAT5L&sprefix=deep+learning%2Caps%2C627&ref=nb_sb_noss_2)\n"
     ]
    },
    {
     "name": "stdout",
     "output_type": "stream",
     "text": [
      "start_new_page\n",
      "46\n",
      "['\\n            \\n              76%\\n            \\n          '] 4.6 out of 5 stars 7.7 x 1.3 x 10.2 inches\n",
      "47\n",
      "['\\n            \\n              87%\\n            \\n          '] 4.8 out of 5 stars 7.81 x 1.31 x 9.56 inches\n",
      "48\n",
      "['\\n            \\n              71%\\n            \\n          '] 4.5 out of 5 stars 7.5 x 1.74 x 9.25 inches\n",
      "49\n",
      "['\\n            \\n              95%\\n            \\n          '] 4.9 out of 5 stars 8.5 x 0.38 x 11 inches\n",
      "50\n",
      "['\\n            \\n              77%\\n            \\n          '] 4.5 out of 5 stars 6 x 0.36 x 9 inches\n",
      "51\n",
      "['\\n            \\n              79%\\n            \\n          '] 4.4 out of 5 stars 7.38 x 1 x 9.25 inches\n"
     ]
    },
    {
     "name": "stderr",
     "output_type": "stream",
     "text": [
      "2022-09-18 03:36:49 [scrapy.core.engine] DEBUG: Crawled (200) <GET https://www.amazon.com/Interpretable-Machine-Learning-Python-hands/dp/180020390X/ref=sr_1_103?crid=27NSKOKLZAT5L&keywords=machine+learning&qid=1663464998&sprefix=deep+learning%2Caps%2C627&sr=8-103> (referer: https://www.amazon.com/s?k=machine+learning&page=2&crid=27NSKOKLZAT5L&qid=1663463991&sprefix=deep+learning%2Caps%2C627&ref=sr_pg_2)\n"
     ]
    },
    {
     "name": "stdout",
     "output_type": "stream",
     "text": [
      "52\n",
      "['\\n            \\n              68%\\n            \\n          '] 4.5 out of 5 stars 6 x 0.45 x 9 inches\n",
      "53\n",
      "['\\n            \\n              76%\\n            \\n          '] 4.6 out of 5 stars 7.5 x 1.66 x 9.25 inches\n"
     ]
    },
    {
     "name": "stderr",
     "output_type": "stream",
     "text": [
      "2022-09-18 03:36:50 [scrapy.core.engine] DEBUG: Crawled (200) <GET https://www.amazon.com/Ultimate-Guide-Machine-Learning-Python-ebook/dp/B084WGCMG1/ref=sr_1_98?crid=27NSKOKLZAT5L&keywords=machine+learning&qid=1663464998&sprefix=deep+learning%2Caps%2C627&sr=8-98> (referer: https://www.amazon.com/s?k=machine+learning&page=2&crid=27NSKOKLZAT5L&qid=1663463991&sprefix=deep+learning%2Caps%2C627&ref=sr_pg_2)\n",
      "2022-09-18 03:36:50 [scrapy.core.engine] DEBUG: Crawled (200) <GET https://www.amazon.com/Machine-Learning-Streaming-Data-Python/dp/180324836X/ref=sr_1_102?crid=27NSKOKLZAT5L&keywords=machine+learning&qid=1663464998&sprefix=deep+learning%2Caps%2C627&sr=8-102> (referer: https://www.amazon.com/s?k=machine+learning&page=2&crid=27NSKOKLZAT5L&qid=1663463991&sprefix=deep+learning%2Caps%2C627&ref=sr_pg_2)\n",
      "2022-09-18 03:36:51 [scrapy.core.engine] DEBUG: Crawled (200) <GET https://www.amazon.com/Machine-Learning-Engineering-Action-Wilson/dp/1617298719/ref=sr_1_97?crid=27NSKOKLZAT5L&keywords=machine+learning&qid=1663464998&sprefix=deep+learning%2Caps%2C627&sr=8-97> (referer: https://www.amazon.com/s?k=machine+learning&page=2&crid=27NSKOKLZAT5L&qid=1663463991&sprefix=deep+learning%2Caps%2C627&ref=sr_pg_2)\n",
      "2022-09-18 03:36:51 [scrapy.core.engine] DEBUG: Crawled (200) <GET https://www.amazon.com/Gaussian-Processes-Learning-Adaptive-Computation/dp/026218253X/ref=sr_1_96?crid=27NSKOKLZAT5L&keywords=machine+learning&qid=1663464998&sprefix=deep+learning%2Caps%2C627&sr=8-96> (referer: https://www.amazon.com/s?k=machine+learning&page=2&crid=27NSKOKLZAT5L&qid=1663463991&sprefix=deep+learning%2Caps%2C627&ref=sr_pg_2)\n",
      "2022-09-18 03:36:51 [scrapy.core.engine] DEBUG: Crawled (200) <GET https://www.amazon.com/Understanding-Machine-Learning-Theory-Algorithms/dp/1107057132/ref=sr_1_100?crid=27NSKOKLZAT5L&keywords=machine+learning&qid=1663464998&sprefix=deep+learning%2Caps%2C627&sr=8-100> (referer: https://www.amazon.com/s?k=machine+learning&page=2&crid=27NSKOKLZAT5L&qid=1663463991&sprefix=deep+learning%2Caps%2C627&ref=sr_pg_2)\n"
     ]
    },
    {
     "name": "stdout",
     "output_type": "stream",
     "text": [
      "54\n",
      "['\\n            \\n              62%\\n            \\n          '] 4.2 out of 5 stars None\n",
      "55\n",
      "['\\n            \\n              100%\\n            \\n          '] 5.0 out of 5 stars 7.5 x 0.59 x 9.25 inches\n"
     ]
    },
    {
     "name": "stderr",
     "output_type": "stream",
     "text": [
      "2022-09-18 03:36:51 [scrapy.core.engine] DEBUG: Crawled (200) <GET https://www.amazon.com/Interpretable-Machine-Learning-Making-Explainable/dp/B09TMWHVB4/ref=sr_1_99?crid=27NSKOKLZAT5L&keywords=machine+learning&qid=1663464998&sprefix=deep+learning%2Caps%2C627&sr=8-99> (referer: https://www.amazon.com/s?k=machine+learning&page=2&crid=27NSKOKLZAT5L&qid=1663463991&sprefix=deep+learning%2Caps%2C627&ref=sr_pg_2)\n",
      "2022-09-18 03:36:51 [scrapy.core.engine] DEBUG: Crawled (200) <GET https://www.amazon.com/Machine-Learning-Finance-Theory-Practice/dp/3030410676/ref=sr_1_101?crid=27NSKOKLZAT5L&keywords=machine+learning&qid=1663464998&sprefix=deep+learning%2Caps%2C627&sr=8-101> (referer: https://www.amazon.com/s?k=machine+learning&page=2&crid=27NSKOKLZAT5L&qid=1663463991&sprefix=deep+learning%2Caps%2C627&ref=sr_pg_2)\n"
     ]
    },
    {
     "name": "stdout",
     "output_type": "stream",
     "text": [
      "56\n",
      "['\\n            \\n              100%\\n            \\n          '] 5.0 out of 5 stars 7.38 x 1.2 x 9.25 inches\n",
      "57\n",
      "['\\n            \\n              82%\\n            \\n          '] 4.7 out of 5 stars 10.22 x 8.26 x 0.73 inches\n"
     ]
    },
    {
     "name": "stderr",
     "output_type": "stream",
     "text": [
      "2022-09-18 03:36:51 [scrapy.core.engine] DEBUG: Crawled (200) <GET https://www.amazon.com/s?k=machine+learning&page=3&crid=27NSKOKLZAT5L&qid=1663463991&sprefix=deep+learning%2Caps%2C627&ref=sr_pg_3> (referer: https://www.amazon.com/Certified-Machine-Learning-Specialty-Certification/dp/1800569009/ref=sr_1_108?crid=27NSKOKLZAT5L&keywords=machine+learning&qid=1663464998&sprefix=deep+learning%2Caps%2C627&sr=8-108)\n"
     ]
    },
    {
     "name": "stdout",
     "output_type": "stream",
     "text": [
      "58\n",
      "['\\n            \\n              68%\\n            \\n          '] 4.4 out of 5 stars 7 x 0.94 x 10 inches\n",
      "59\n",
      "['\\n            \\n              57%\\n            \\n          '] 4.1 out of 5 stars 7.44 x 0.78 x 9.69 inches\n",
      "60\n",
      "['\\n            \\n              79%\\n            \\n          '] 4.5 out of 5 stars 6.14 x 1.25 x 9.21 inches\n"
     ]
    },
    {
     "name": "stderr",
     "output_type": "stream",
     "text": [
      "2022-09-18 03:36:57 [scrapy.core.engine] DEBUG: Crawled (200) <GET https://www.amazon.com/Machine-Learning-Amazon-SageMaker-Cookbook/dp/1800567030/ref=sr_1_94?crid=27NSKOKLZAT5L&keywords=machine+learning&qid=1663464998&sprefix=deep+learning%2Caps%2C627&sr=8-94> (referer: https://www.amazon.com/s?k=machine+learning&page=2&crid=27NSKOKLZAT5L&qid=1663463991&sprefix=deep+learning%2Caps%2C627&ref=sr_pg_2)\n",
      "2022-09-18 03:36:57 [scrapy.core.engine] DEBUG: Crawled (200) <GET https://www.amazon.com/Art-Age-Machine-Learning-Leonardo/dp/0262046180/ref=sr_1_95?crid=27NSKOKLZAT5L&keywords=machine+learning&qid=1663464998&sprefix=deep+learning%2Caps%2C627&sr=8-95> (referer: https://www.amazon.com/s?k=machine+learning&page=2&crid=27NSKOKLZAT5L&qid=1663463991&sprefix=deep+learning%2Caps%2C627&ref=sr_pg_2)\n",
      "2022-09-18 03:36:57 [scrapy.core.engine] DEBUG: Crawled (200) <GET https://www.amazon.com/Introduction-Statistical-Machine-Learning-Methods/dp/1953329608/ref=sr_1_93?crid=27NSKOKLZAT5L&keywords=machine+learning&qid=1663464998&sprefix=deep+learning%2Caps%2C627&sr=8-93> (referer: https://www.amazon.com/s?k=machine+learning&page=2&crid=27NSKOKLZAT5L&qid=1663463991&sprefix=deep+learning%2Caps%2C627&ref=sr_pg_2)\n",
      "2022-09-18 03:36:57 [scrapy.core.engine] DEBUG: Crawled (200) <GET https://www.amazon.com/Probabilistic-Numerics-Computation-Machine-Learning/dp/1107163447/ref=sr_1_92?crid=27NSKOKLZAT5L&keywords=machine+learning&qid=1663464998&sprefix=deep+learning%2Caps%2C627&sr=8-92> (referer: https://www.amazon.com/s?k=machine+learning&page=2&crid=27NSKOKLZAT5L&qid=1663463991&sprefix=deep+learning%2Caps%2C627&ref=sr_pg_2)\n",
      "2022-09-18 03:36:57 [scrapy.core.engine] DEBUG: Crawled (200) <GET https://www.amazon.com/Knowledge-Graphs-Fundamentals-Applications-Computation/dp/0262045095/ref=sr_1_91?crid=27NSKOKLZAT5L&keywords=machine+learning&qid=1663464998&sprefix=deep+learning%2Caps%2C627&sr=8-91> (referer: https://www.amazon.com/s?k=machine+learning&page=2&crid=27NSKOKLZAT5L&qid=1663463991&sprefix=deep+learning%2Caps%2C627&ref=sr_pg_2)\n"
     ]
    },
    {
     "name": "stdout",
     "output_type": "stream",
     "text": [
      "[['Machine Learning: 4 Books in 1: A Complete Overview for Beginners to Master the Basics of Python Programming and Understand How to Build Artificial Intelligence Through Data Science', ['by ', 'Samuel Hack', ' and ', 'Sean Antony'], None, None, '3.1 out of 5 stars', '13 ratings', ['\\n            \\n              31%\\n            \\n          '], ['\\n            \\n              10%\\n            \\n          '], ['\\n            \\n              18%\\n            \\n          '], ['\\n            \\n              17%\\n            \\n          '], ['\\n            \\n              24%\\n            \\n          '], None, None, None, None, None, '/Machine-Learning-Programming-Understand-Intelligence/dp/B086R6JFLW/ref=sr_1_7?crid=27NSKOKLZAT5L&keywords=machine+learning&qid=1663464985&sprefix=deep+learning%2Caps%2C627&sr=8-7'], ['Introduction to Machine Learning with Python: A Guide for Data Scientists', [' '], '$45.00', '398 pages', '4.5 out of 5 stars', '565 ratings', ['\\n            \\n              76%\\n            \\n          '], ['\\n            \\n              14%\\n            \\n          '], ['\\n            \\n              3%\\n            \\n          '], ['\\n            \\n              3%\\n            \\n          '], ['\\n            \\n              4%\\n            \\n          '], '7 x 0.82 x 9.19 inches', '1.3 pounds', 'English', \"O'Reilly Media; 1st edition (November 15, 2016)\", ' 978-1449369415', '/Introduction-Machine-Learning-Python-Scientists/dp/1449369413/ref=sr_1_10?crid=27NSKOKLZAT5L&keywords=machine+learning&qid=1663464985&sprefix=deep+learning%2Caps%2C627&sr=8-10'], ['The Hundred-Page Machine Learning Book', ['by ', 'Andriy Burkov'], '$31.99', '160 pages', '4.6 out of 5 stars', '816 ratings', ['\\n            \\n              81%\\n            \\n          '], ['\\n            \\n              10%\\n            \\n          '], ['\\n            \\n              4%\\n            \\n          '], ['\\n            \\n              2%\\n            \\n          '], ['\\n            \\n              3%\\n            \\n          '], '7.5 x 0.38 x 9.25 inches', '13.8 ounces', 'English', 'Andriy Burkov (January 13, 2019)', ' 978-1999579500', '/Hundred-Page-Machine-Learning-Book/dp/199957950X/ref=sr_1_9?crid=27NSKOKLZAT5L&keywords=machine+learning&qid=1663464985&sprefix=deep+learning%2Caps%2C627&sr=8-9'], ['Probabilistic Machine Learning: An Introduction (Adaptive Computation and Machine Learning series)', [' '], '$99.00', '864 pages', '4.4 out of 5 stars', '73 ratings', ['\\n            \\n              76%\\n            \\n          '], ['\\n            \\n              5%\\n            \\n          '], ['\\n            \\n              8%\\n            \\n          '], ['\\n            \\n              2%\\n            \\n          '], ['\\n            \\n              8%\\n            \\n          '], '8.25 x 1.44 x 9.29 inches', '3.4 pounds', 'English', 'The MIT Press (March 1, 2022)', ' 978-0262046824', '/Probabilistic-Machine-Learning-Introduction-Computation/dp/0262046822/ref=sr_1_8?crid=27NSKOKLZAT5L&keywords=machine+learning&qid=1663464985&sprefix=deep+learning%2Caps%2C627&sr=8-8'], ['Hands-On Machine Learning with Scikit-Learn, Keras, and TensorFlow: Concepts, Tools, and Techniques to Build Intelligent Systems', ['by ', 'Aurélien Géron'], '$56.16', '856 pages', '4.8 out of 5 stars', '3,277 ratings', ['\\n            \\n              85%\\n            \\n          '], ['\\n            \\n              10%\\n            \\n          '], ['\\n            \\n              3%\\n            \\n          '], ['\\n            \\n              1%\\n            \\n          '], ['\\n            \\n              2%\\n            \\n          '], '7 x 1.2 x 9.2 inches', '2.53 pounds', 'English', \"O'Reilly Media; 2nd edition (October 15, 2019)\", ' 978-1492032649', '/Hands-Machine-Learning-Scikit-Learn-TensorFlow/dp/1492032646/ref=sr_1_6?crid=27NSKOKLZAT5L&keywords=machine+learning&qid=1663464985&sprefix=deep+learning%2Caps%2C627&sr=8-6'], ['Designing Machine Learning Systems: An Iterative Process for Production-Ready Applications', ['by ', 'Chip Huyen'], '$43.49', '386 pages', '4.7 out of 5 stars', '118 ratings', ['\\n            \\n              79%\\n            \\n          '], ['\\n            \\n              14%\\n            \\n          '], ['\\n            \\n              5%\\n            \\n          '], ['\\n            \\n              2%\\n            \\n          '], ['\\n            \\n              1%\\n            \\n          '], '7 x 0.75 x 9 inches', '1.36 pounds', 'English', \"O'Reilly Media; 1st edition (June 21, 2022)\", ' 978-1098107963', '/Designing-Machine-Learning-Systems-Production-Ready/dp/1098107969/ref=sr_1_5?crid=27NSKOKLZAT5L&keywords=machine+learning&qid=1663464985&sprefix=deep+learning%2Caps%2C627&sr=8-5'], ['Machine Learning Design Interview: Machine Learning System Design Interview', ['by ', 'Khang Pham'], ' $34.15 ', '210 pages', '3.6 out of 5 stars', '57 ratings', ['\\n            \\n              47%\\n            \\n          '], ['\\n            \\n              15%\\n            \\n          '], ['\\n            \\n              8%\\n            \\n          '], ['\\n            \\n              7%\\n            \\n          '], ['\\n            \\n              22%\\n            \\n          '], '6 x 0.48 x 9 inches', '11.8 ounces', 'English', 'Independently published (April 29, 2022)', None, '/Machine-Learning-Design-Interview-System/dp/B09YQWX59Z/ref=sr_1_24?crid=27NSKOKLZAT5L&keywords=machine+learning&qid=1663464985&sprefix=deep+learning%2Caps%2C627&sr=8-24'], ['Deep Learning (Adaptive Computation and Machine Learning series)', [' '], '$54.25', '800 pages', '4.3 out of 5 stars', '1,862 ratings', ['\\n            \\n              73%\\n            \\n          '], ['\\n            \\n              10%\\n            \\n          '], ['\\n            \\n              5%\\n            \\n          '], ['\\n            \\n              4%\\n            \\n          '], ['\\n            \\n              8%\\n            \\n          '], '9.1 x 7.2 x 1.1 inches', '2.54 pounds', 'English', 'The MIT Press; Illustrated edition (November 18, 2016)', ' 978-0262035613', '/Deep-Learning-Adaptive-Computation-Machine/dp/0262035618/ref=sr_1_23?crid=27NSKOKLZAT5L&keywords=machine+learning&qid=1663464985&sprefix=deep+learning%2Caps%2C627&sr=8-23'], ['Machine Learning Engineering', ['by ', 'Andriy Burkov'], '$39.49', '310 pages', '4.7 out of 5 stars', '222 ratings', ['\\n            \\n              87%\\n            \\n          '], ['\\n            \\n              6%\\n            \\n          '], ['\\n            \\n              3%\\n            \\n          '], ['\\n            \\n              3%\\n            \\n          '], ['\\n            \\n              3%\\n            \\n          '], '7.5 x 0.73 x 9.25 inches', '1.18 pounds', 'English', 'True Positive Inc. (September 5, 2020)', ' 978-1999579579', '/Machine-Learning-Engineering-Andriy-Burkov/dp/1999579577/ref=sr_1_22?crid=27NSKOKLZAT5L&keywords=machine+learning&qid=1663464985&sprefix=deep+learning%2Caps%2C627&sr=8-22'], ['Feature Store for Machine Learning: Curate, discover, share and serve ML features at scale', ['by ', 'Jayanth Kumar M J'], '$39.99', '280 pages', '5.0 out of 5 stars', '3 ratings', ['\\n            \\n              100%\\n            \\n          '], [], [], [], [], '7.5 x 0.64 x 9.25 inches', '1.07 pounds', 'English', 'Packt Publishing (June 30, 2022)', ' 978-1803230061', '/sspa/click?ie=UTF8&spc=MTo1MjMzODUwNDM1MTQ1NjU2OjE2NjM0NjQ5ODU6c3BfYXRmOjIwMDA2NTU3ODcyMzM5ODo6MDo6&sp_csd=d2lkZ2V0TmFtZT1zcF9hdGY&url=%2FFeature-Store-Machine-Learning-discover%2Fdp%2F1803230061%2Fref%3Dsr_1_4_sspa%3Fcrid%3D27NSKOKLZAT5L%26keywords%3Dmachine%2Blearning%26qid%3D1663464985%26sprefix%3Ddeep%2Blearning%252Caps%252C627%26sr%3D8-4-spons%26psc%3D1'], ['Machine Learning Fundamentals', ['by ', 'Hui Jiang'], '$47.49', '418 pages', '4.3 out of 5 stars', '6 ratings', ['\\n            \\n              65%\\n            \\n          '], ['\\n            \\n              35%\\n            \\n          '], [], [], [], '8 x 1 x 10 inches', '2.01 pounds', 'English', 'Cambridge University Press; New edition (March 24, 2022)', ' 978-1108940023', '/sspa/click?ie=UTF8&spc=MTo1MjMzODUwNDM1MTQ1NjU2OjE2NjM0NjQ5ODU6c3BfYXRmOjIwMDA0NDMyODY1Mjk5ODo6MDo6&sp_csd=d2lkZ2V0TmFtZT1zcF9hdGY&url=%2FMachine-Learning-Fundamentals-Concise-Introduction%2Fdp%2F1108940021%2Fref%3Dsr_1_1_sspa%3Fcrid%3D27NSKOKLZAT5L%26keywords%3Dmachine%2Blearning%26qid%3D1663464985%26sprefix%3Ddeep%2Blearning%252Caps%252C627%26sr%3D8-1-spons%26psc%3D1'], ['Machine Learning Fundamentals', ['by ', 'Hui Jiang'], '$47.49', '418 pages', '4.3 out of 5 stars', '6 ratings', ['\\n            \\n              65%\\n            \\n          '], ['\\n            \\n              35%\\n            \\n          '], [], [], [], '8 x 1 x 10 inches', '2.01 pounds', 'English', 'Cambridge University Press; New edition (March 24, 2022)', ' 978-1108940023', '/Machine-Learning-Fundamentals-Concise-Introduction/dp/1108940021/ref=sr_1_21?crid=27NSKOKLZAT5L&keywords=machine+learning&qid=1663464985&sprefix=deep+learning%2Caps%2C627&sr=8-21'], ['Applied Machine Learning Explainability Techniques: Make ML models explainable and trustworthy for practical applications using LIME, SHAP, and more', ['by ', 'Aditya Bhattacharya'], '$44.99', '306 pages', '5.0 out of 5 stars', '2 ratings', ['\\n            \\n              100%\\n            \\n          '], [], [], [], [], '7.5 x 0.69 x 9.25 inches', '1.16 pounds', 'English', 'Packt Publishing (July 29, 2022)', ' 978-1803246154', '/sspa/click?ie=UTF8&spc=MTo1MjMzODUwNDM1MTQ1NjU2OjE2NjM0NjQ5ODU6c3BfYXRmOjIwMDA3NzczNjQ3Mjg5ODo6MDo6&sp_csd=d2lkZ2V0TmFtZT1zcF9hdGY&url=%2FApplied-Machine-Learning-Explainability-Techniques%2Fdp%2F1803246154%2Fref%3Dsr_1_3_sspa%3Fcrid%3D27NSKOKLZAT5L%26keywords%3Dmachine%2Blearning%26qid%3D1663464985%26sprefix%3Ddeep%2Blearning%252Caps%252C627%26sr%3D8-3-spons%26psc%3D1'], ['Python Machine Learning for Beginners: Learning from scratch NumPy, Pandas, Matplotlib, Seaborn, Scikitlearn, and TensorFlow for Machine Learning and ... Learning & Data Science for Beginners)', ['by ', 'AI Publishing'], '$19.99', '304 pages', '4.5 out of 5 stars', '55 ratings', ['\\n            \\n              73%\\n            \\n          '], ['\\n            \\n              11%\\n            \\n          '], ['\\n            \\n              11%\\n            \\n          '], ['\\n            \\n              2%\\n            \\n          '], ['\\n            \\n              3%\\n            \\n          '], '6 x 0.69 x 9 inches', '14.6 ounces', 'English', 'AI Publishing LLC (October 23, 2020)', ' 978-1734790153', '/sspa/click?ie=UTF8&spc=MTo1MjMzODUwNDM1MTQ1NjU2OjE2NjM0NjQ5ODU6c3BfYXRmOjIwMDAzNjc0MTgzOTQ2MTo6MDo6&sp_csd=d2lkZ2V0TmFtZT1zcF9hdGY&url=%2FPython-Machine-Learning-Beginners-Scikitlearn%2Fdp%2F1734790156%2Fref%3Dsr_1_2_sspa%3Fcrid%3D27NSKOKLZAT5L%26keywords%3Dmachine%2Blearning%26qid%3D1663464985%26sprefix%3Ddeep%2Blearning%252Caps%252C627%26sr%3D8-2-spons%26psc%3D1'], ['Programming Machine Learning: From Coding to Deep Learning', ['by ', 'Paolo Perrotta'], '$33.49', '342 pages', '4.8 out of 5 stars', '42 ratings', ['\\n            \\n              83%\\n            \\n          '], ['\\n            \\n              12%\\n            \\n          '], ['\\n            \\n              5%\\n            \\n          '], [], [], '7.5 x 0.71 x 9.25 inches', '1.41 pounds', 'English', 'Pragmatic Bookshelf; 1st edition (May 5, 2020)', ' 978-1680506600', '/Programming-Machine-Learning-Zero-Deep/dp/1680506609/ref=sr_1_60?crid=27NSKOKLZAT5L&keywords=machine+learning&qid=1663464985&sprefix=deep+learning%2Caps%2C627&sr=8-60'], [\"Machine Learning: 4 Books in 1: The #1 Beginner's Guide to Master the Basics of Python Programming, Learn the Art of Data Science and Build Artificial Intelligence\", [' '], '$25.97', '342 pages', '4.6 out of 5 stars', '344 ratings', ['\\n            \\n              81%\\n            \\n          '], ['\\n            \\n              10%\\n            \\n          '], ['\\n            \\n              3%\\n            \\n          '], ['\\n            \\n              1%\\n            \\n          '], ['\\n            \\n              5%\\n            \\n          '], '6 x 0.78 x 9 inches', '1.29 pounds', 'English', 'Independently published (July 20, 2022)', ' 979-8841495048', '/Machine-Learning-Programming-Artificial-Intelligence/dp/B0B6XLFWPL/ref=sr_1_58?crid=27NSKOKLZAT5L&keywords=machine+learning&qid=1663464985&sprefix=deep+learning%2Caps%2C627&sr=8-58'], ['Introduction to Machine Learning', ['by ', 'Etienne Bernard'], '$29.60', '424 pages', '4.4 out of 5 stars', '11 ratings', ['\\n            \\n              70%\\n            \\n          '], ['\\n            \\n              17%\\n            \\n          '], ['\\n            \\n              13%\\n            \\n          '], [], [], '7 x 0.86 x 10 inches', '1.61 pounds', 'English', 'Wolfram Media Inc (December 20, 2021)', ' 978-1579550486', '/Introduction-Machine-Learning-Etienne-Bernard/dp/1579550487/ref=sr_1_59?crid=27NSKOKLZAT5L&keywords=machine+learning&qid=1663464985&sprefix=deep+learning%2Caps%2C627&sr=8-59'], ['Machine Learning For Absolute Beginners: A Plain English Introduction (Machine Learning from Scratch)', ['by ', 'Oliver Theobald'], ' $16.90 ', '162 pages', '4.5 out of 5 stars', '1,110 ratings', ['\\n            \\n              69%\\n            \\n          '], ['\\n            \\n              17%\\n            \\n          '], ['\\n            \\n              8%\\n            \\n          '], ['\\n            \\n              3%\\n            \\n          '], ['\\n            \\n              2%\\n            \\n          '], '6 x 0.41 x 9 inches', '8.8 ounces', 'English', 'Independently published (January 1, 2018)', None, '/sspa/click?ie=UTF8&spc=MTo1MjMzODUwNDM1MTQ1NjU2OjE2NjM0NjQ5ODU6c3BfbXRmOjIwMDA2MDM2NTc3NDQ4MTo6MDo6&sp_csd=d2lkZ2V0TmFtZT1zcF9tdGY&url=%2FMachine-Learning-Absolute-Beginners-Introduction%2Fdp%2F1549617214%2Fref%3Dsr_1_19_sspa%3Fcrid%3D27NSKOKLZAT5L%26keywords%3Dmachine%2Blearning%26qid%3D1663464985%26sprefix%3Ddeep%2Blearning%252Caps%252C627%26sr%3D8-19-spons%26psc%3D1'], ['The Kaggle Book: Data analysis and machine learning for competitive data science', ['by ', 'Konrad Banachewicz', ', ', 'Luca Massaron', ', et al.'], '$39.94', '530 pages', '4.6 out of 5 stars', '68 ratings', ['\\n            \\n              81%\\n            \\n          '], ['\\n            \\n              5%\\n            \\n          '], ['\\n            \\n              5%\\n            \\n          '], ['\\n            \\n              7%\\n            \\n          '], ['\\n            \\n              2%\\n            \\n          '], '7.5 x 1.2 x 9.25 inches', '1.98 pounds', 'English', 'Packt Publishing (April 22, 2022)', ' 978-1801817479', '/sspa/click?ie=UTF8&spc=MTo1MjMzODUwNDM1MTQ1NjU2OjE2NjM0NjQ5ODU6c3BfbXRmOjIwMDA1OTE0Mzk4MjA5ODo6MDo6&sp_csd=d2lkZ2V0TmFtZT1zcF9tdGY&url=%2FData-Analysis-Machine-Learning-Kaggle%2Fdp%2F1801817472%2Fref%3Dsr_1_20_sspa%3Fcrid%3D27NSKOKLZAT5L%26keywords%3Dmachine%2Blearning%26qid%3D1663464985%26sprefix%3Ddeep%2Blearning%252Caps%252C627%26sr%3D8-20-spons%26psc%3D1'], ['Machine Learning in the Oil and Gas Industry: Including Geosciences, Reservoir Engineering, and Production Engineering with Python', ['by ', 'Yogendra Narayan Pandey', ', ', 'Ayush Rastogi', ', et al.'], '$26.99', '320 pages', '4.9 out of 5 stars', '20 ratings', ['\\n            \\n              87%\\n            \\n          '], ['\\n            \\n              13%\\n            \\n          '], [], [], [], '6.1 x 0.73 x 9.25 inches', '1.08 pounds', 'English', 'Apress; 1st ed. edition (November 3, 2020)', ' 978-1484260937', '/Machine-Learning-Oil-Gas-Industry/dp/1484260937/ref=sr_1_57?crid=27NSKOKLZAT5L&keywords=machine+learning&qid=1663464985&sprefix=deep+learning%2Caps%2C627&sr=8-57'], ['Machine Learning For Dummies', ['by ', 'John Paul Mueller'], '$20.49', '464 pages', '4.2 out of 5 stars', '56 ratings', ['\\n            \\n              63%\\n            \\n          '], ['\\n            \\n              15%\\n            \\n          '], ['\\n            \\n              10%\\n            \\n          '], ['\\n            \\n              6%\\n            \\n          '], ['\\n            \\n              6%\\n            \\n          '], '7.38 x 1.05 x 9.25 inches', '1.34 pounds', 'English', 'For Dummies; 2nd edition (January 22, 2021)', ' 978-1119724018', '/Machine-Learning-Dummies-Computer-Tech/dp/1119724015/ref=sr_1_56?crid=27NSKOKLZAT5L&keywords=machine+learning&qid=1663464985&sprefix=deep+learning%2Caps%2C627&sr=8-56'], ['The Machine Learning Solutions Architect Handbook: Create machine learning platforms to run solutions in an enterprise setting', ['by ', 'David Ping'], '$43.97', '442 pages', '4.7 out of 5 stars', '39 ratings', ['\\n            \\n              82%\\n            \\n          '], ['\\n            \\n              12%\\n            \\n          '], ['\\n            \\n              6%\\n            \\n          '], [], [], '7.5 x 1 x 9.25 inches', '1.66 pounds', 'English', 'Packt Publishing (January 21, 2022)', ' 978-1801072168', '/Machine-Learning-Solutions-Architect-Handbook/dp/1801072167/ref=sr_1_55?crid=27NSKOKLZAT5L&keywords=machine+learning&qid=1663464985&sprefix=deep+learning%2Caps%2C627&sr=8-55'], ['Python for Finance and Algorithmic trading (2nd edition): Machine Learning, Deep Learning, Time series Analysis, Risk and Portfolio Management for MetaTrader™5 Live Trading', ['by ', 'Lucas Inglese'], ' $35.99 ', '325 pages', '4.6 out of 5 stars', '3 ratings', ['\\n            \\n              63%\\n            \\n          '], ['\\n            \\n              37%\\n            \\n          '], [], [], [], '6.69 x 0.74 x 9.61 inches', '1.45 pounds', 'English', 'Independently published (August 18, 2022)', None, '/Python-Finance-Algorithmic-trading-MetaTraderTM5/dp/B0BB5DDB1Q/ref=sr_1_54?crid=27NSKOKLZAT5L&keywords=machine+learning&qid=1663464985&sprefix=deep+learning%2Caps%2C627&sr=8-54'], ['The Kaggle Book: Data analysis and machine learning for competitive data science', ['by ', 'Konrad Banachewicz', ', ', 'Luca Massaron', ', et al.'], '$39.94', '530 pages', '4.6 out of 5 stars', '68 ratings', ['\\n            \\n              81%\\n            \\n          '], ['\\n            \\n              5%\\n            \\n          '], ['\\n            \\n              5%\\n            \\n          '], ['\\n            \\n              7%\\n            \\n          '], ['\\n            \\n              2%\\n            \\n          '], '7.5 x 1.2 x 9.25 inches', '1.98 pounds', 'English', 'Packt Publishing (April 22, 2022)', ' 978-1801817479', '/Data-Analysis-Machine-Learning-Kaggle/dp/1801817472/ref=sr_1_52?crid=27NSKOKLZAT5L&keywords=machine+learning&qid=1663464985&sprefix=deep+learning%2Caps%2C627&sr=8-52'], ['Journey to Become a Google Cloud Machine Learning Engineer: Build the mind and hand of a Google Certified ML professional', ['by ', 'Dr. Logan Song'], '$42.74', '330 pages', None, None, [], [], [], [], [], '7.5 x 0.75 x 9.25 inches', '1.26 pounds', 'English', 'Packt Publishing (September 20, 2022)', ' 978-1803233727', '/Journey-Become-Machine-Learning-Engineer/dp/1803233729/ref=sr_1_53?crid=27NSKOKLZAT5L&keywords=machine+learning&qid=1663464985&sprefix=deep+learning%2Caps%2C627&sr=8-53'], ['Hands-On Machine Learning with Scikit-Learn, Keras, and TensorFlow: Concepts, Tools, and Techniques to Build Intelligent Systems', ['by ', 'Aurélien Géron'], '$75.99', '850 pages', None, None, [], [], [], [], [], None, '1.11 pounds', 'English', \"O'Reilly Media; 3rd edition (November 15, 2022)\", ' 978-1098125974', '/Hands-Machine-Learning-Scikit-Learn-TensorFlow/dp/1098125975/ref=sr_1_47?crid=27NSKOKLZAT5L&keywords=machine+learning&qid=1663464985&sprefix=deep+learning%2Caps%2C627&sr=8-47'], ['Machine Learning with PyTorch and Scikit-Learn: Develop machine learning and deep learning models with Python', ['by ', 'Sebastian Raschka', ', ', 'Yuxi (Hayden) Liu', ', et al.'], '$46.79', '770 pages', '4.7 out of 5 stars', '135 ratings', ['\\n            \\n              82%\\n            \\n          '], ['\\n            \\n              10%\\n            \\n          '], ['\\n            \\n              5%\\n            \\n          '], ['\\n            \\n              1%\\n            \\n          '], ['\\n            \\n              2%\\n            \\n          '], '7.5 x 1.74 x 9.25 inches', '2.86 pounds', 'English', 'Packt Publishing (February 25, 2022)', ' 978-1801819312', '/Machine-Learning-PyTorch-Scikit-Learn-learning/dp/1801819319/ref=sr_1_48?crid=27NSKOKLZAT5L&keywords=machine+learning&qid=1663464985&sprefix=deep+learning%2Caps%2C627&sr=8-48'], ['Deep Learning with Python, Second Edition', ['by ', 'Francois Chollet'], '$37.23', '504 pages', '4.6 out of 5 stars', '148 ratings', ['\\n            \\n              82%\\n            \\n          '], ['\\n            \\n              9%\\n            \\n          '], ['\\n            \\n              3%\\n            \\n          '], ['\\n            \\n              3%\\n            \\n          '], ['\\n            \\n              3%\\n            \\n          '], '7.38 x 1.4 x 9.25 inches', '2.3 pounds', 'English', 'Manning; 2nd edition (December 21, 2021)', ' 978-1617296864', '/Learning-Python-Second-Fran%C3%A7ois-Chollet/dp/1617296864/ref=sr_1_51?crid=27NSKOKLZAT5L&keywords=machine+learning&qid=1663464985&sprefix=deep+learning%2Caps%2C627&sr=8-51'], ['Fundamentals of Data Engineering: Plan and Build Robust Data Systems', ['by ', 'Joe Reis', ' and ', 'Matt Housley'], '$50.76', '446 pages', '5.0 out of 5 stars', '33 ratings', ['\\n            \\n              96%\\n            \\n          '], ['\\n            \\n              4%\\n            \\n          '], [], [], [], '7 x 1 x 9.25 inches', '1.57 pounds', 'English', \"O'Reilly Media; 1st edition (July 26, 2022)\", ' 978-1098108304', '/Fundamentals-Data-Engineering-Robust-Systems/dp/1098108302/ref=sr_1_50?crid=27NSKOKLZAT5L&keywords=machine+learning&qid=1663464985&sprefix=deep+learning%2Caps%2C627&sr=8-50'], ['Advances in Financial Machine Learning', ['by ', 'Marcos Lopez de Prado'], '$40.49', '400 pages', '4.5 out of 5 stars', '514 ratings', ['\\n            \\n              76%\\n            \\n          '], ['\\n            \\n              9%\\n            \\n          '], ['\\n            \\n              7%\\n            \\n          '], ['\\n            \\n              3%\\n            \\n          '], ['\\n            \\n              5%\\n            \\n          '], '6.1 x 1.1 x 9 inches', '1.6 pounds', 'English', 'Wiley; 1st edition (February 21, 2018)', ' 978-1119482086', '/Advances-Financial-Machine-Learning-Marcos/dp/1119482089/ref=sr_1_49?crid=27NSKOKLZAT5L&keywords=machine+learning&qid=1663464985&sprefix=deep+learning%2Caps%2C627&sr=8-49'], ['Math for Machine Learning | Machine Learning Online Course | AWS Training & Certification', ['by ', 'AWS Training & Certification'], None, None, '4.6 out of 5 stars', None, [], [], [], [], [], None, None, None, None, None, '/Machine-Learning-Online-Training-Certification/dp/B09HSL8L4V/ref=sr_1_42?crid=27NSKOKLZAT5L&keywords=machine+learning&qid=1663464985&sprefix=deep+learning%2Caps%2C627&sr=8-42'], ['The Alignment Problem: Machine Learning and Human Values', ['by ', 'Brian Christian', ' and ', 'Brilliance Audio'], None, None, '4.6 out of 5 stars', '235 ratings', ['\\n            \\n              72%\\n            \\n          '], ['\\n            \\n              22%\\n            \\n          '], ['\\n            \\n              5%\\n            \\n          '], ['\\n            \\n              1%\\n            \\n          '], ['\\n            \\n              1%\\n            \\n          '], None, None, None, None, None, '/Alignment-Problem-Machine-Learning-Values/dp/B085DTXC59/ref=sr_1_46?crid=27NSKOKLZAT5L&keywords=machine+learning&qid=1663464985&sprefix=deep+learning%2Caps%2C627&sr=8-46'], ['Continuous Machine Learning with Kubeflow: Performing Reliable MLOps with Capabilities of TFX, Sagemaker and Kubernetes (English Edition)', ['by ', 'Aniruddha Choudhury'], None, '452 pages', '4.6 out of 5 stars', '3 ratings', ['\\n            \\n              63%\\n            \\n          '], ['\\n            \\n              37%\\n            \\n          '], [], [], [], None, None, 'English', 'BPB Publications; 1st edition (November 19, 2021)', None, '/Continuous-Machine-Learning-Kubeflow-Capabilities-ebook/dp/B09M9TPVRN/ref=sr_1_45?crid=27NSKOKLZAT5L&keywords=machine+learning&qid=1663464985&sprefix=deep+learning%2Caps%2C627&sr=8-45'], ['Ace the Data Science Interview: 201 Real Interview Questions Asked By FAANG, Tech Startups, & Wall Street', ['by ', 'Nick Singh', ' and ', 'Kevin Huo'], '$26.00', '301 pages', '4.5 out of 5 stars', '599 ratings', ['\\n            \\n              77%\\n            \\n          '], ['\\n            \\n              10%\\n            \\n          '], ['\\n            \\n              6%\\n            \\n          '], ['\\n            \\n              3%\\n            \\n          '], ['\\n            \\n              4%\\n            \\n          '], '7 x 0.68 x 10 inches', '1.28 pounds', 'English', 'Ace the Data Science Interview (August 16, 2021)', ' 978-0578973838', '/Ace-Data-Science-Interview-Questions/dp/0578973839/ref=sr_1_44?crid=27NSKOKLZAT5L&keywords=machine+learning&qid=1663464985&sprefix=deep+learning%2Caps%2C627&sr=8-44'], ['Python Machine Learning for Beginners: Learning from scratch NumPy, Pandas, Matplotlib, Seaborn, Scikitlearn, and TensorFlow for Machine Learning and ... Learning & Data Science for Beginners)', [' '], '$19.99', '304 pages', '4.5 out of 5 stars', '55 ratings', ['\\n            \\n              73%\\n            \\n          '], ['\\n            \\n              11%\\n            \\n          '], ['\\n            \\n              11%\\n            \\n          '], ['\\n            \\n              2%\\n            \\n          '], ['\\n            \\n              3%\\n            \\n          '], '6 x 0.69 x 9 inches', '14.6 ounces', 'English', 'AI Publishing LLC (October 23, 2020)', ' 978-1734790153', '/Python-Machine-Learning-Beginners-Scikitlearn/dp/1734790156/ref=sr_1_40?crid=27NSKOKLZAT5L&keywords=machine+learning&qid=1663464985&sprefix=deep+learning%2Caps%2C627&sr=8-40'], ['Essential Math for Data Science: Take Control of Your Data with Fundamental Linear Algebra, Probability, and Statistics', ['by ', 'Thomas Nield'], '$44.80', '347 pages', '4.5 out of 5 stars', '27 ratings', ['\\n            \\n              79%\\n            \\n          '], ['\\n            \\n              5%\\n            \\n          '], ['\\n            \\n              5%\\n            \\n          '], ['\\n            \\n              5%\\n            \\n          '], ['\\n            \\n              5%\\n            \\n          '], '7 x 0.75 x 9 inches', '1.23 pounds', 'English', \"O'Reilly Media; 1st edition (July 5, 2022)\", ' 978-1098102937', '/Essential-Math-Data-Science-Fundamental/dp/1098102932/ref=sr_1_43?crid=27NSKOKLZAT5L&keywords=machine+learning&qid=1663464985&sprefix=deep+learning%2Caps%2C627&sr=8-43'], ['Python Machine Learning: Machine Learning and Deep Learning with Python, scikit-learn, and TensorFlow 2, 3rd Edition', ['by ', 'Sebastian Raschka', ' and ', 'Vahid Mirjalili'], '$49.39', '770 pages', '4.5 out of 5 stars', '387 ratings', ['\\n            \\n              71%\\n            \\n          '], ['\\n            \\n              20%\\n            \\n          '], ['\\n            \\n              4%\\n            \\n          '], ['\\n            \\n              3%\\n            \\n          '], ['\\n            \\n              3%\\n            \\n          '], '7.5 x 1.74 x 9.25 inches', '2.86 pounds', 'English', 'Packt Publishing; 3rd edition (December 12, 2019)', ' 978-1789955750', '/Python-Machine-Learning-scikit-learn-TensorFlow/dp/1789955750/ref=sr_1_41?crid=27NSKOKLZAT5L&keywords=machine+learning&qid=1663464985&sprefix=deep+learning%2Caps%2C627&sr=8-41'], ['Machine Learning: A Probabilistic Perspective (Adaptive Computation and Machine Learning series)', [' '], '$96.46', '1104 pages', '4.4 out of 5 stars', '314 ratings', ['\\n            \\n              72%\\n            \\n          '], ['\\n            \\n              11%\\n            \\n          '], ['\\n            \\n              7%\\n            \\n          '], ['\\n            \\n              6%\\n            \\n          '], ['\\n            \\n              4%\\n            \\n          '], '8.25 x 1.79 x 9.27 inches', '4.2 pounds', 'English', 'The MIT Press; Illustrated edition (August 24, 2012)', ' 978-0262018029', '/Machine-Learning-Probabilistic-Perspective-Computation/dp/0262018020/ref=sr_1_38?crid=27NSKOKLZAT5L&keywords=machine+learning&qid=1663464985&sprefix=deep+learning%2Caps%2C627&sr=8-38'], ['Machine Learning Bookcamp: Build a portfolio of real-life projects', ['by ', 'Alexey Grigorev'], '$35.99', '472 pages', '5.0 out of 5 stars', '7 ratings', ['\\n            \\n              100%\\n            \\n          '], [], [], [], [], '7.38 x 0.6 x 9.25 inches', '1.85 pounds', 'English', 'Manning (November 23, 2021)', ' 978-1617296819', '/Machine-Learning-Bookcamp-portfolio-real-life/dp/1617296813/ref=sr_1_39?crid=27NSKOKLZAT5L&keywords=machine+learning&qid=1663464985&sprefix=deep+learning%2Caps%2C627&sr=8-39'], ['Machine Learning in the Cloud with AWS Batch | Machine Learning Online Course | AWS Training & Certification', ['by ', 'AWS Training & Certification'], None, None, '4.4 out of 5 stars', None, [], [], [], [], [], None, None, None, None, None, '/Machine-Learning-Online-Training-Certification/dp/B09HZJCL57/ref=sr_1_107?crid=27NSKOKLZAT5L&keywords=machine+learning&qid=1663464998&sprefix=deep+learning%2Caps%2C627&sr=8-107'], ['Approaching (Almost) Any Machine Learning Problem', ['by ', 'Abhishek Thakur'], ' $14.99 ', '300 pages', '4.5 out of 5 stars', '637 ratings', ['\\n            \\n              73%\\n            \\n          '], ['\\n            \\n              14%\\n            \\n          '], ['\\n            \\n              6%\\n            \\n          '], ['\\n            \\n              3%\\n            \\n          '], ['\\n            \\n              4%\\n            \\n          '], '6 x 0.68 x 9 inches', '14.2 ounces', 'English', 'Abhishek Thakur (June 30, 2020)', None, '/Approaching-Almost-Machine-Learning-Problem/dp/8269211508/ref=sr_1_37?crid=27NSKOKLZAT5L&keywords=machine+learning&qid=1663464985&sprefix=deep+learning%2Caps%2C627&sr=8-37'], ['Python Machine Learning Project', ['by ', 'RANDY MOORE'], None, '132 pages', None, None, [], [], [], [], [], None, None, 'English', None, None, '/Python-Machine-Learning-Project-RANDY-ebook/dp/B084Q4BJB4/ref=sr_1_30?crid=27NSKOKLZAT5L&keywords=machine+learning&qid=1663464985&sprefix=deep+learning%2Caps%2C627&sr=8-30'], ['The Machine Learning Simplified: A Gentle Introduction to Supervised Learning', ['by ', 'Andrew Wolf'], ' $1.86 ', '199 pages', '4.8 out of 5 stars', '97 ratings', ['\\n            \\n              88%\\n            \\n          '], ['\\n            \\n              6%\\n            \\n          '], ['\\n            \\n              3%\\n            \\n          '], ['\\n            \\n              2%\\n            \\n          '], [], None, None, 'English', None, None, '/Machine-Learning-Simplified-Introduction-Supervised-ebook/dp/B0B216KMM4/ref=sr_1_31?crid=27NSKOKLZAT5L&keywords=machine+learning&qid=1663464985&sprefix=deep+learning%2Caps%2C627&sr=8-31'], ['Machine Learning: A Constraint-Based Approach', ['by ', 'Marco Gori', ', ', 'Alessandro Betti', ', et al.'], '$105.00', None, None, None, [], [], [], [], [], None, '1.11 pounds', 'English', 'Morgan Kaufmann; 2nd edition (April 15, 2023)', ' 978-0323898591', '/Machine-Learning-Constraint-Based-Marco-Gori/dp/0323898599/ref=sr_1_32?crid=27NSKOKLZAT5L&keywords=machine+learning&qid=1663464985&sprefix=deep+learning%2Caps%2C627&sr=8-32'], ['AWS Certified Machine Learning Specialty: MLS-C01 Certification Guide: The definitive guide to passing the MLS-C01 exam on the very first attempt', ['by ', 'Somanath Nanda', ' and ', 'Weslley Moura'], '$49.99', '338 pages', '4.2 out of 5 stars', '31 ratings', ['\\n            \\n              49%\\n            \\n          '], ['\\n            \\n              29%\\n            \\n          '], ['\\n            \\n              14%\\n            \\n          '], ['\\n            \\n              5%\\n            \\n          '], ['\\n            \\n              3%\\n            \\n          '], '7.5 x 0.77 x 9.25 inches', '1.28 pounds', 'English', 'Packt Publishing (March 19, 2021)', ' 978-1800569003', '/Certified-Machine-Learning-Specialty-Certification/dp/1800569009/ref=sr_1_108?crid=27NSKOKLZAT5L&keywords=machine+learning&qid=1663464998&sprefix=deep+learning%2Caps%2C627&sr=8-108'], ['Pattern Recognition and Machine Learning (Information Science and Statistics)', ['by ', 'Christopher M. Bishop'], '$76.10', '738 pages', '4.6 out of 5 stars', '663 ratings', ['\\n            \\n              76%\\n            \\n          '], ['\\n            \\n              13%\\n            \\n          '], ['\\n            \\n              6%\\n            \\n          '], ['\\n            \\n              3%\\n            \\n          '], ['\\n            \\n              2%\\n            \\n          '], '7.7 x 1.3 x 10.2 inches', '4.73 pounds', 'English', 'Springer (August 17, 2006)', ' 978-0387310732', '/sspa/click?ie=UTF8&spc=MTo1MjMzODUwNDM1MTQ1NjU2OjE2NjM0NjQ5ODU6c3BfbXRmOjIwMDA3MzgxNTU4MjA5ODo6MDo6&sp_csd=d2lkZ2V0TmFtZT1zcF9tdGY&url=%2FPattern-Recognition-Learning-Information-Statistics%2Fdp%2F0387310738%2Fref%3Dsr_1_36_sspa%3Fcrid%3D27NSKOKLZAT5L%26keywords%3Dmachine%2Blearning%26qid%3D1663464985%26sprefix%3Ddeep%2Blearning%252Caps%252C627%26sr%3D8-36-spons%26psc%3D1'], ['Fundamentals of Machine Learning for Predictive Data Analytics, second edition: Algorithms, Worked Examples, and Case Studies', ['by ', 'John D. Kelleher', ', ', 'Brian Mac Namee', ', et al.'], '$80.00', '856 pages', '4.8 out of 5 stars', '48 ratings', ['\\n            \\n              87%\\n            \\n          '], ['\\n            \\n              10%\\n            \\n          '], ['\\n            \\n              3%\\n            \\n          '], [], [], '7.81 x 1.31 x 9.56 inches', '3.8 pounds', 'English', 'The MIT Press; 2nd edition (October 20, 2020)', ' 978-0262044691', '/Fundamentals-Machine-Learning-Predictive-Analytics/dp/0262044692/ref=sr_1_106?crid=27NSKOKLZAT5L&keywords=machine+learning&qid=1663464998&sprefix=deep+learning%2Caps%2C627&sr=8-106'], ['Python Machine Learning: Machine Learning and Deep Learning with Python, scikit-learn, and TensorFlow 2, 3rd Edition', ['by ', 'Sebastian Raschka', ' and ', 'Vahid Mirjalili'], '$49.39', '770 pages', '4.5 out of 5 stars', '387 ratings', ['\\n            \\n              71%\\n            \\n          '], ['\\n            \\n              20%\\n            \\n          '], ['\\n            \\n              4%\\n            \\n          '], ['\\n            \\n              3%\\n            \\n          '], ['\\n            \\n              3%\\n            \\n          '], '7.5 x 1.74 x 9.25 inches', '2.86 pounds', 'English', 'Packt Publishing; 3rd edition (December 12, 2019)', ' 978-1789955750', '/sspa/click?ie=UTF8&spc=MTo1MjMzODUwNDM1MTQ1NjU2OjE2NjM0NjQ5ODU6c3BfbXRmOjIwMDAxOTY0MjMzMzc3MTo6MDo6&sp_csd=d2lkZ2V0TmFtZT1zcF9tdGY&url=%2FPython-Machine-Learning-scikit-learn-TensorFlow%2Fdp%2F1789955750%2Fref%3Dsr_1_35_sspa%3Fcrid%3D27NSKOKLZAT5L%26keywords%3Dmachine%2Blearning%26qid%3D1663464985%26sprefix%3Ddeep%2Blearning%252Caps%252C627%26sr%3D8-35-spons%26psc%3D1'], ['Excel 2022: The Most Comprehensive Guide to Learn All Formulas and Functions in Just One Week with Step-by-Step Explanations, Practical Examples, & Picture Demonstrations.', ['by ', 'Kevin Cooper'], '$19.62', '168 pages', '4.9 out of 5 stars', '89 ratings', ['\\n            \\n              95%\\n            \\n          '], ['\\n            \\n              2%\\n            \\n          '], ['\\n            \\n              3%\\n            \\n          '], [], [], '8.5 x 0.38 x 11 inches', '15.8 ounces', 'English', 'Independently published (May 9, 2022)', ' 979-8821580115', '/sspa/click?ie=UTF8&spc=MTo1MjMzODUwNDM1MTQ1NjU2OjE2NjM0NjQ5ODU6c3BfbXRmOjIwMDA4NjUzMzc5ODg5ODo6MDo6&sp_csd=d2lkZ2V0TmFtZT1zcF9tdGY&url=%2FExcel-2022-Step-Step-Demonstrations%2Fdp%2FB09ZVB5Y7G%2Fref%3Dsr_1_34_sspa%3Fcrid%3D27NSKOKLZAT5L%26keywords%3Dmachine%2Blearning%26qid%3D1663464985%26sprefix%3Ddeep%2Blearning%252Caps%252C627%26sr%3D8-34-spons%26psc%3D1'], ['Machine Learning for Asset Managers (Elements in Quantitative Finance)', [' '], '$20.00', '152 pages', '4.5 out of 5 stars', '101 ratings', ['\\n            \\n              77%\\n            \\n          '], ['\\n            \\n              8%\\n            \\n          '], ['\\n            \\n              8%\\n            \\n          '], ['\\n            \\n              4%\\n            \\n          '], ['\\n            \\n              3%\\n            \\n          '], '6 x 0.36 x 9 inches', '8.8 ounces', 'English', 'Cambridge University Press (April 30, 2020)', ' 978-1108792899', '/Machine-Learning-Managers-Elements-Quantitative/dp/1108792898/ref=sr_1_105?crid=27NSKOKLZAT5L&keywords=machine+learning&qid=1663464998&sprefix=deep+learning%2Caps%2C627&sr=8-105'], ['Human-in-the-Loop Machine Learning: Active learning and annotation for human-centered AI', ['by ', 'Robert (Munro) Monarch'], '$42.49', '424 pages', '4.4 out of 5 stars', '16 ratings', ['\\n            \\n              79%\\n            \\n          '], ['\\n            \\n              11%\\n            \\n          '], ['\\n            \\n              11%\\n            \\n          '], [], [], '7.38 x 1 x 9.25 inches', '1.68 pounds', 'English', 'Manning (July 20, 2021)', ' 978-1617296741', '/Human-Loop-Machine-Learning-human-computer/dp/1617296740/ref=sr_1_104?crid=27NSKOKLZAT5L&keywords=machine+learning&qid=1663464998&sprefix=deep+learning%2Caps%2C627&sr=8-104'], ['Machine Learning for Absolute Beginners: A Plain English Introduction (Third Edition) (Machine Learning with Python for Beginners)', ['by ', 'Oliver Theobald'], ' $15.90 ', '179 pages', '4.5 out of 5 stars', '157 ratings', ['\\n            \\n              68%\\n            \\n          '], ['\\n            \\n              18%\\n            \\n          '], ['\\n            \\n              10%\\n            \\n          '], ['\\n            \\n              3%\\n            \\n          '], ['\\n            \\n              1%\\n            \\n          '], '6 x 0.45 x 9 inches', '9.6 ounces', 'English', 'Independently published (January 1, 2021)', None, '/sspa/click?ie=UTF8&spc=MTo1MjMzODUwNDM1MTQ1NjU2OjE2NjM0NjQ5ODU6c3BfbXRmOjIwMDA0NTUyNjQ5OTA5ODo6MDo6&sp_csd=d2lkZ2V0TmFtZT1zcF9tdGY&url=%2FMachine-Learning-Absolute-Beginners-Introduction%2Fdp%2FB08RR7GC3C%2Fref%3Dsr_1_33_sspa%3Fcrid%3D27NSKOKLZAT5L%26keywords%3Dmachine%2Blearning%26qid%3D1663464985%26sprefix%3Ddeep%2Blearning%252Caps%252C627%26sr%3D8-33-spons%26psc%3D1'], ['Interpretable Machine Learning with Python: Learn to build interpretable high-performance models with hands-on real-world examples', ['by ', 'Serg Masís'], '$40.41', '736 pages', '4.6 out of 5 stars', '47 ratings', ['\\n            \\n              76%\\n            \\n          '], ['\\n            \\n              14%\\n            \\n          '], ['\\n            \\n              4%\\n            \\n          '], ['\\n            \\n              6%\\n            \\n          '], [], '7.5 x 1.66 x 9.25 inches', '2.74 pounds', 'English', 'Packt Publishing (March 26, 2021)', ' 978-1800203907', '/Interpretable-Machine-Learning-Python-hands/dp/180020390X/ref=sr_1_103?crid=27NSKOKLZAT5L&keywords=machine+learning&qid=1663464998&sprefix=deep+learning%2Caps%2C627&sr=8-103'], ['Ultimate Step by Step Guide to Machine Learning Using Python: Predictive modelling concepts explained in simple terms for beginners', [' '], None, '70 pages', '4.2 out of 5 stars', '265 ratings', ['\\n            \\n              62%\\n            \\n          '], ['\\n            \\n              15%\\n            \\n          '], ['\\n            \\n              13%\\n            \\n          '], ['\\n            \\n              4%\\n            \\n          '], ['\\n            \\n              6%\\n            \\n          '], None, None, 'English', None, None, '/Ultimate-Guide-Machine-Learning-Python-ebook/dp/B084WGCMG1/ref=sr_1_98?crid=27NSKOKLZAT5L&keywords=machine+learning&qid=1663464998&sprefix=deep+learning%2Caps%2C627&sr=8-98'], ['Machine Learning for Streaming Data with Python: Rapidly build practical online machine learning solutions using River and other top key frameworks', ['by ', 'Joos Korstanje'], '$44.99', '258 pages', '5.0 out of 5 stars', '2 ratings', ['\\n            \\n              100%\\n            \\n          '], [], [], [], [], '7.5 x 0.59 x 9.25 inches', '15.8 ounces', 'English', 'Packt Publishing (July 15, 2022)', ' 978-1803248363', '/Machine-Learning-Streaming-Data-Python/dp/180324836X/ref=sr_1_102?crid=27NSKOKLZAT5L&keywords=machine+learning&qid=1663464998&sprefix=deep+learning%2Caps%2C627&sr=8-102'], ['Machine Learning Engineering in Action', ['by ', 'Ben Wilson'], '$52.24', '576 pages', '5.0 out of 5 stars', '6 ratings', ['\\n            \\n              100%\\n            \\n          '], [], [], [], [], '7.38 x 1.2 x 9.25 inches', '2.09 pounds', 'English', 'Manning (April 26, 2022)', ' 978-1617298714', '/Machine-Learning-Engineering-Action-Wilson/dp/1617298719/ref=sr_1_97?crid=27NSKOKLZAT5L&keywords=machine+learning&qid=1663464998&sprefix=deep+learning%2Caps%2C627&sr=8-97'], ['Gaussian Processes for Machine Learning (Adaptive Computation and Machine Learning series)', ['by ', 'Carl Edward Rasmussen', ' and ', 'Christopher K. I. Williams'], '$50.00', '272 pages', '4.7 out of 5 stars', '56 ratings', ['\\n            \\n              82%\\n            \\n          '], ['\\n            \\n              9%\\n            \\n          '], ['\\n            \\n              3%\\n            \\n          '], ['\\n            \\n              2%\\n            \\n          '], ['\\n            \\n              3%\\n            \\n          '], '10.22 x 8.26 x 0.73 inches', '1.6 pounds', 'English', 'The MIT Press (November 23, 2005)', ' 978-0262182539', '/Gaussian-Processes-Learning-Adaptive-Computation/dp/026218253X/ref=sr_1_96?crid=27NSKOKLZAT5L&keywords=machine+learning&qid=1663464998&sprefix=deep+learning%2Caps%2C627&sr=8-96'], ['Understanding Machine Learning: From Theory to Algorithms', ['by ', 'Shai Shalev-Shwartz', ' and ', 'Shai Ben-David'], '$62.99', '410 pages', '4.4 out of 5 stars', '218 ratings', ['\\n            \\n              68%\\n            \\n          '], ['\\n            \\n              14%\\n            \\n          '], ['\\n            \\n              10%\\n            \\n          '], ['\\n            \\n              4%\\n            \\n          '], ['\\n            \\n              4%\\n            \\n          '], '7 x 0.94 x 10 inches', '2.01 pounds', 'English', 'Cambridge University Press; 1st edition (May 19, 2014)', ' 978-1107057135', '/Understanding-Machine-Learning-Theory-Algorithms/dp/1107057132/ref=sr_1_100?crid=27NSKOKLZAT5L&keywords=machine+learning&qid=1663464998&sprefix=deep+learning%2Caps%2C627&sr=8-100'], ['Interpretable Machine Learning: A Guide For Making Black Box Models Explainable', ['by ', 'Christoph Molnar'], ' $50.00 ', '329 pages', '4.1 out of 5 stars', '21 ratings', ['\\n            \\n              57%\\n            \\n          '], ['\\n            \\n              25%\\n            \\n          '], ['\\n            \\n              7%\\n            \\n          '], ['\\n            \\n              12%\\n            \\n          '], [], '7.44 x 0.78 x 9.69 inches', '1.63 pounds', 'English', 'Independently published (February 28, 2022)', None, '/Interpretable-Machine-Learning-Making-Explainable/dp/B09TMWHVB4/ref=sr_1_99?crid=27NSKOKLZAT5L&keywords=machine+learning&qid=1663464998&sprefix=deep+learning%2Caps%2C627&sr=8-99'], ['Machine Learning in Finance: From Theory to Practice', ['by ', 'Matthew F. Dixon', ', ', 'Igor Halperin', ', et al.'], '$83.80', '573 pages', '4.5 out of 5 stars', '92 ratings', ['\\n            \\n              79%\\n            \\n          '], ['\\n            \\n              7%\\n            \\n          '], ['\\n            \\n              8%\\n            \\n          '], ['\\n            \\n              3%\\n            \\n          '], ['\\n            \\n              4%\\n            \\n          '], '6.14 x 1.25 x 9.21 inches', '2.25 pounds', 'English', 'Springer; 1st ed. 2020 edition (July 2, 2020)', ' 978-3030410674', '/Machine-Learning-Finance-Theory-Practice/dp/3030410676/ref=sr_1_101?crid=27NSKOKLZAT5L&keywords=machine+learning&qid=1663464998&sprefix=deep+learning%2Caps%2C627&sr=8-101']]\n",
      "3\n",
      "Advanced Algorithms and Data Structures\n",
      "Artificial Intelligence: A Textbook\n",
      "PYTHON CRASH COURSE: A PRACTICAL BEGINNER'S GUIDE TO LEARN PYTHON IN 7 DAYS OR LESS, INTRODUCING YOU INTO THE WORLD OF DATA SCIENCE, ARTIFICIAL INTELLIGENCE AND MACHINE LEARNING, WITH HANDS-ON PROJECT\n",
      "Python Programming for Beginners: 2 Books in 1 - The Ultimate Step-by-Step Guide To Learn Python Programming Quickly with Practical Exercises (Computer Programming)\n",
      "Machine Learning in the Cloud with AWS Batch | Machine Learning Online Course | AWS Training & Certification\n",
      "Machine Learning: Architecture in the age of Artificial Intelligence\n",
      "Advances in Financial Machine Learning, 1st Edition, Paperback\n",
      "Machine Learning with Dynamics 365 and Power Platform: The Ultimate Guide to Apply Predictive Analytics\n",
      "Machine Learning in Biotechnology and Life Sciences: Build machine learning models using Python and deploy them on the cloud\n",
      "Machine Learning with TensorFlow, Second Edition\n",
      "Interpretable AI: Building explainable machine learning systems\n",
      "Machine Learning for Computer Scientists and Data Analysts: From an Applied Perspective\n",
      "Automated Machine Learning with Microsoft Azure: Build highly accurate and scalable end-to-end AI solutions with Azure AutoML\n",
      "Machine Learning and Probabilistic Graphical Models for Decision Support Systems\n",
      "Serverless Architectures on AWS, Second Edition\n",
      "Data Science (The MIT Press Essential Knowledge series)\n",
      "Interpretable AI: Building explainable machine learning systems\n",
      "Machine Learning in Biotechnology and Life Sciences: Build machine learning models using Python and deploy them on the cloud\n",
      "Data Science Projects with Python: A case study approach to gaining valuable insights from real data with machine learning, 2nd Edition\n",
      "Think AI: Explore the flavours of Machine Learning, Neural Networks, Computer Vision and NLP with powerful python libraries (English Edition)\n",
      "Machine Learning for Time Series Forecasting with Python\n",
      "Transformers for Machine Learning: A Deep Dive (Chapman & Hall/CRC Machine Learning & Pattern Recognition)\n",
      "Adversarial Robustness for Machine Learning\n",
      "Power and Prediction: The Disruptive Economics of Artificial Intelligence\n",
      "Machine Learning Engineering with Python: Manage the production life cycle of machine learning models using MLOps with practical examples\n",
      "Learn Coding Basics in Hours with JavaScript\n",
      "Machine Learning - Getting Started: Launch yourself into machine learning!\n",
      "Machine Learning: Make Your Own Recommender System (Machine Learning with Python for Beginners Book 3)\n",
      "Effective Data Science Infrastructure: How to make data scientists productive\n",
      "Graph-Powered Machine Learning\n",
      "Building Intelligent Systems: A Guide to Machine Learning Engineering\n",
      "Practical Machine Learning: A New Look at Anomaly Detection\n",
      "Building Smart Robots Using ROS: Design, Build, Simulate, Prototype and Control Smart Robots Using ROS, Machine Learning and React Native Platform (English Edition)\n",
      "Machine Learning at Scale with H2O: A practical guide to building and deploying machine learning models on enterprise systems\n",
      "Build Your Own Programming Language: A programmer's guide to designing compilers, interpreters, and DSLs for solving modern computing problems\n",
      "Getting Started with Natural Language Processing\n",
      "Machine Learning for Cybersecurity\n",
      "Mastering Azure Machine Learning: Execute large-scale end-to-end machine learning with Azure, 2nd Edition\n",
      "Artificial Intelligence in Healthcare: AI, Machine Learning, and Deep and Intelligent Medicine Simplified for Everyone\n",
      "The Principles of Deep Learning Theory: An Effective Theory Approach to Understanding Neural Networks\n",
      "The Elements of Data Science | Machine Learning Online Course | AWS Training & Certification\n",
      "Elliptical Assembly\n",
      "Natural Language Processing with Transformers, Revised Edition\n",
      "Data Mining: Concepts and Techniques (The Morgan Kaufmann Series in Data Management Systems)\n",
      "Machine Learning Guide for Oil and Gas Using Python: A Step-by-Step Breakdown with Data, Algorithms, Codes, and Applications\n",
      "Automated Machine Learning for Business\n",
      "Machine Learning, revised and updated edition (The MIT Press Essential Knowledge series)\n",
      "Hands-On Machine Learning with C++: Build, train, and deploy end-to-end machine learning and deep learning pipelines\n",
      "Machine Learning for Beginners 2019: The Ultimate Guide to Artificial Intelligence, Neural Networks, Predictive Modelling, and Python: Including Data Mining Algorithms and Its Applications for Finance, Business and Marketing\n",
      "Machine Learning for Text\n",
      "Real-World Machine Learning\n",
      "Practical Statistics for Data Scientists: 50+ Essential Concepts Using R and Python\n",
      "Learning From Data\n",
      "Machine Learning: A Quantitative Approach\n",
      "Deep Learning: Machine Learning and Data Analytics Explained\n",
      "Machine Learning Mathematics: Study Deep Learning Through Data Science: How to Build Artificial Intelligence Through Concepts of Statistics, Algorithms, Analysis and Data Mining\n",
      "Introduction to Machine Learning with Applications in Information Security\n"
     ]
    },
    {
     "name": "stderr",
     "output_type": "stream",
     "text": [
      "2022-09-18 03:36:57 [scrapy.core.engine] DEBUG: Crawled (200) <GET https://www.amazon.com/Scaling-Machine-Learning-Spark-Distributed/dp/1098106822/ref=sr_1_89?crid=27NSKOKLZAT5L&keywords=machine+learning&qid=1663464998&sprefix=deep+learning%2Caps%2C627&sr=8-89> (referer: https://www.amazon.com/s?k=machine+learning&page=2&crid=27NSKOKLZAT5L&qid=1663463991&sprefix=deep+learning%2Caps%2C627&ref=sr_pg_2)\n",
      "2022-09-18 03:36:57 [scrapy.core.engine] DEBUG: Crawled (200) <GET https://www.amazon.com/Data-Driven-Science-Engineering-Learning-Dynamical/dp/1108422098/ref=sr_1_90?crid=27NSKOKLZAT5L&keywords=machine+learning&qid=1663464998&sprefix=deep+learning%2Caps%2C627&sr=8-90> (referer: https://www.amazon.com/s?k=machine+learning&page=2&crid=27NSKOKLZAT5L&qid=1663463991&sprefix=deep+learning%2Caps%2C627&ref=sr_pg_2)\n"
     ]
    },
    {
     "name": "stdout",
     "output_type": "stream",
     "text": [
      "61\n",
      "['\\n            \\n              86%\\n            \\n          '] 4.9 out of 5 stars 7.5 x 1.72 x 9.25 inches\n",
      "Cracking The Machine Learning Interview\n",
      "Machine Learning: A Bayesian and Optimization Perspective\n",
      "Modern Deep Learning for Tabular Data: Novel Approaches to Common Modeling Problems\n",
      "62\n",
      "['\\n            \\n              100%\\n            \\n          '] 5.0 out of 5 stars 7.25 x 0.73 x 10.25 inches\n",
      "63\n",
      "['\\n            \\n              100%\\n            \\n          '] 5.0 out of 5 stars 7.5 x 0.39 x 9.25 inches\n"
     ]
    },
    {
     "name": "stderr",
     "output_type": "stream",
     "text": [
      "2022-09-18 03:36:58 [scrapy.downloadermiddlewares.redirect] DEBUG: Redirecting (302) to <GET https://www.amazon.com/Python-Programming-Beginners-Hands-Exercises/dp/B09TYJY819/ref=sr_1_82_sspa?crid=27NSKOKLZAT5L&keywords=machine+learning&qid=1663464998&sprefix=deep+learning%2Caps%2C627&sr=8-82-spons&psc=1> from <GET https://www.amazon.com/sspa/click?ie=UTF8&spc=MToyMzMwNzQzNTcxMjUxMTk3OjE2NjM0NjQ5OTg6c3BfbXRmOjIwMDA0NDc5OTM5MzE5ODo6MDo6&sp_csd=d2lkZ2V0TmFtZT1zcF9tdGY&url=%2FPython-Programming-Beginners-Hands-Exercises%2Fdp%2FB09TYJY819%2Fref%3Dsr_1_82_sspa%3Fcrid%3D27NSKOKLZAT5L%26keywords%3Dmachine%2Blearning%26qid%3D1663464998%26sprefix%3Ddeep%2Blearning%252Caps%252C627%26sr%3D8-82-spons%26psc%3D1>\n",
      "2022-09-18 03:36:58 [scrapy.downloadermiddlewares.redirect] DEBUG: Redirecting (302) to <GET https://www.amazon.com/Hey-Cyba-Steve-Young/dp/1108972365/ref=sr_1_81_sspa?crid=27NSKOKLZAT5L&keywords=machine+learning&qid=1663464998&sprefix=deep+learning%2Caps%2C627&sr=8-81-spons&psc=1> from <GET https://www.amazon.com/sspa/click?ie=UTF8&spc=MToyMzMwNzQzNTcxMjUxMTk3OjE2NjM0NjQ5OTg6c3BfbXRmOjIwMDA2OTYzMzA3NTg5ODo6MDo6&sp_csd=d2lkZ2V0TmFtZT1zcF9tdGY&url=%2FHey-Cyba-Steve-Young%2Fdp%2F1108972365%2Fref%3Dsr_1_81_sspa%3Fcrid%3D27NSKOKLZAT5L%26keywords%3Dmachine%2Blearning%26qid%3D1663464998%26sprefix%3Ddeep%2Blearning%252Caps%252C627%26sr%3D8-81-spons%26psc%3D1>\n",
      "2022-09-18 03:36:58 [scrapy.downloadermiddlewares.redirect] DEBUG: Redirecting (302) to <GET https://www.amazon.com/Data-Vault-Guru-pragmatic-building/dp/B08KJLJW9Q/ref=sr_1_84_sspa?crid=27NSKOKLZAT5L&keywords=machine+learning&qid=1663464998&sprefix=deep+learning%2Caps%2C627&sr=8-84-spons&psc=1> from <GET https://www.amazon.com/sspa/click?ie=UTF8&spc=MToyMzMwNzQzNTcxMjUxMTk3OjE2NjM0NjQ5OTg6c3BfbXRmOjIwMDA2NTk0MzAwNzA3MTo6MDo6&sp_csd=d2lkZ2V0TmFtZT1zcF9tdGY&url=%2FData-Vault-Guru-pragmatic-building%2Fdp%2FB08KJLJW9Q%2Fref%3Dsr_1_84_sspa%3Fcrid%3D27NSKOKLZAT5L%26keywords%3Dmachine%2Blearning%26qid%3D1663464998%26sprefix%3Ddeep%2Blearning%252Caps%252C627%26sr%3D8-84-spons%26psc%3D1>\n",
      "2022-09-18 03:36:58 [scrapy.downloadermiddlewares.redirect] DEBUG: Redirecting (302) to <GET https://www.amazon.com/Data-Engineering-AWS-Gareth-Eagar/dp/1800560419/ref=sr_1_83_sspa?crid=27NSKOKLZAT5L&keywords=machine+learning&qid=1663464998&sprefix=deep+learning%2Caps%2C627&sr=8-83-spons&psc=1> from <GET https://www.amazon.com/sspa/click?ie=UTF8&spc=MToyMzMwNzQzNTcxMjUxMTk3OjE2NjM0NjQ5OTg6c3BfbXRmOjIwMDAzMTc1MjM1MTQ5ODo6MDo6&sp_csd=d2lkZ2V0TmFtZT1zcF9tdGY&url=%2FData-Engineering-AWS-Gareth-Eagar%2Fdp%2F1800560419%2Fref%3Dsr_1_83_sspa%3Fcrid%3D27NSKOKLZAT5L%26keywords%3Dmachine%2Blearning%26qid%3D1663464998%26sprefix%3Ddeep%2Blearning%252Caps%252C627%26sr%3D8-83-spons%26psc%3D1>\n"
     ]
    },
    {
     "name": "stdout",
     "output_type": "stream",
     "text": [
      "64\n",
      "[] None 8.03 x 0.94 x 10 inches\n",
      "65\n",
      "['\\n            \\n              62%\\n            \\n          '] 4.3 out of 5 stars 7.31 x 1.18 x 9.31 inches\n",
      "66\n",
      "[] None None\n",
      "67\n",
      "['\\n            \\n              81%\\n            \\n          '] 4.7 out of 5 stars 7.25 x 1 x 10.25 inches\n"
     ]
    },
    {
     "name": "stderr",
     "output_type": "stream",
     "text": [
      "2022-09-18 03:36:58 [scrapy.downloadermiddlewares.redirect] DEBUG: Redirecting (302) to <GET https://www.amazon.com/Advanced-Algorithms-Structures-Marcello-Rocca/dp/1617295485/ref=sr_1_97_sspa?crid=27NSKOKLZAT5L&keywords=machine+learning&qid=1663465010&sprefix=deep+learning%2Caps%2C627&sr=8-97-spons&psc=1> from <GET https://www.amazon.com/sspa/click?ie=UTF8&spc=MTo3NTQ1Mzg1NzIyNDcxMDIxOjE2NjM0NjUwMTA6c3BfYXRmX25leHQ6MjAwMDY4Mjg0MTI3NDQxOjowOjo&sp_csd=d2lkZ2V0TmFtZT1zcF9hdGZfbmV4dA&url=%2FAdvanced-Algorithms-Structures-Marcello-Rocca%2Fdp%2F1617295485%2Fref%3Dsr_1_97_sspa%3Fcrid%3D27NSKOKLZAT5L%26keywords%3Dmachine%2Blearning%26qid%3D1663465010%26sprefix%3Ddeep%2Blearning%252Caps%252C627%26sr%3D8-97-spons%26psc%3D1>\n",
      "2022-09-18 03:36:59 [scrapy.core.engine] DEBUG: Crawled (200) <GET https://www.amazon.com/Sydney/dp/B07TVNF5TD/ref=sr_1_79?crid=27NSKOKLZAT5L&keywords=machine+learning&qid=1663464998&sprefix=deep+learning%2Caps%2C627&sr=8-79> (referer: https://www.amazon.com/s?k=machine+learning&page=2&crid=27NSKOKLZAT5L&qid=1663463991&sprefix=deep+learning%2Caps%2C627&ref=sr_pg_2)\n"
     ]
    },
    {
     "name": "stdout",
     "output_type": "stream",
     "text": [
      "68\n",
      "[] None None\n"
     ]
    },
    {
     "name": "stderr",
     "output_type": "stream",
     "text": [
      "2022-09-18 03:37:00 [scrapy.core.engine] DEBUG: Crawled (200) <GET https://www.amazon.com/Machine-Learning-techniques-predictive-modeling/dp/1788295862/ref=sr_1_87?crid=27NSKOKLZAT5L&keywords=machine+learning&qid=1663464998&sprefix=deep+learning%2Caps%2C627&sr=8-87> (referer: https://www.amazon.com/s?k=machine+learning&page=2&crid=27NSKOKLZAT5L&qid=1663463991&sprefix=deep+learning%2Caps%2C627&ref=sr_pg_2)\n",
      "2022-09-18 03:37:00 [scrapy.core.engine] DEBUG: Crawled (200) <GET https://www.amazon.com/Art-Machine-Learning-Algorithms-Data-ebook/dp/B09BKK9K48/ref=sr_1_88?crid=27NSKOKLZAT5L&keywords=machine+learning&qid=1663464998&sprefix=deep+learning%2Caps%2C627&sr=8-88> (referer: https://www.amazon.com/s?k=machine+learning&page=2&crid=27NSKOKLZAT5L&qid=1663463991&sprefix=deep+learning%2Caps%2C627&ref=sr_pg_2)\n",
      "2022-09-18 03:37:00 [scrapy.core.engine] DEBUG: Crawled (200) <GET https://www.amazon.com/Building-Machine-Learning-Pipelines-Automating/dp/1492053198/ref=sr_1_86?crid=27NSKOKLZAT5L&keywords=machine+learning&qid=1663464998&sprefix=deep+learning%2Caps%2C627&sr=8-86> (referer: https://www.amazon.com/s?k=machine+learning&page=2&crid=27NSKOKLZAT5L&qid=1663463991&sprefix=deep+learning%2Caps%2C627&ref=sr_pg_2)\n",
      "2022-09-18 03:37:00 [scrapy.core.engine] DEBUG: Crawled (200) <GET https://www.amazon.com/Machine-Learning-Bio-Signal-Analysis-Diagnostic-ebook/dp/B07L29N8NG/ref=sr_1_80?crid=27NSKOKLZAT5L&keywords=machine+learning&qid=1663464998&sprefix=deep+learning%2Caps%2C627&sr=8-80> (referer: https://www.amazon.com/s?k=machine+learning&page=2&crid=27NSKOKLZAT5L&qid=1663463991&sprefix=deep+learning%2Caps%2C627&ref=sr_pg_2)\n"
     ]
    },
    {
     "name": "stdout",
     "output_type": "stream",
     "text": [
      "69\n",
      "['\\n            \\n              78%\\n            \\n          '] 4.6 out of 5 stars 7.5 x 1.04 x 9.25 inches\n",
      "70\n",
      "[] None None\n",
      "71\n",
      "['\\n            \\n              74%\\n            \\n          '] 4.5 out of 5 stars 7 x 0.76 x 9.19 inches\n"
     ]
    },
    {
     "name": "stderr",
     "output_type": "stream",
     "text": [
      "2022-09-18 03:37:01 [scrapy.core.engine] DEBUG: Crawled (200) <GET https://www.amazon.com/Data-Driven-Science-Engineering-Learning-Dynamical/dp/1009098489/ref=sr_1_85?crid=27NSKOKLZAT5L&keywords=machine+learning&qid=1663464998&sprefix=deep+learning%2Caps%2C627&sr=8-85> (referer: https://www.amazon.com/s?k=machine+learning&page=2&crid=27NSKOKLZAT5L&qid=1663463991&sprefix=deep+learning%2Caps%2C627&ref=sr_pg_2)\n",
      "2022-09-18 03:37:01 [scrapy.core.engine] DEBUG: Crawled (200) <GET https://www.amazon.com/Data-Engineering-AWS-Gareth-Eagar/dp/1800560419/ref=sr_1_83_sspa?crid=27NSKOKLZAT5L&keywords=machine+learning&qid=1663464998&sprefix=deep+learning%2Caps%2C627&sr=8-83-spons&psc=1> (referer: https://www.amazon.com/s?k=machine+learning&page=2&crid=27NSKOKLZAT5L&qid=1663463991&sprefix=deep+learning%2Caps%2C627&ref=sr_pg_2)\n"
     ]
    },
    {
     "name": "stdout",
     "output_type": "stream",
     "text": [
      "72\n",
      "[] None None\n",
      "73\n",
      "['\\n            \\n              90%\\n            \\n          '] 4.6 out of 5 stars 7.1 x 1.1 x 10.1 inches\n",
      "74\n",
      "['\\n            \\n              63%\\n            \\n          '] 4.4 out of 5 stars 7.5 x 1.09 x 9.25 inches\n"
     ]
    },
    {
     "name": "stderr",
     "output_type": "stream",
     "text": [
      "2022-09-18 03:37:01 [scrapy.core.engine] DEBUG: Crawled (200) <GET https://www.amazon.com/Hey-Cyba-Steve-Young/dp/1108972365/ref=sr_1_81_sspa?crid=27NSKOKLZAT5L&keywords=machine+learning&qid=1663464998&sprefix=deep+learning%2Caps%2C627&sr=8-81-spons&psc=1> (referer: https://www.amazon.com/s?k=machine+learning&page=2&crid=27NSKOKLZAT5L&qid=1663463991&sprefix=deep+learning%2Caps%2C627&ref=sr_pg_2)\n",
      "2022-09-18 03:37:02 [scrapy.core.engine] DEBUG: Crawled (200) <GET https://www.amazon.com/Data-Vault-Guru-pragmatic-building/dp/B08KJLJW9Q/ref=sr_1_84_sspa?crid=27NSKOKLZAT5L&keywords=machine+learning&qid=1663464998&sprefix=deep+learning%2Caps%2C627&sr=8-84-spons&psc=1> (referer: https://www.amazon.com/s?k=machine+learning&page=2&crid=27NSKOKLZAT5L&qid=1663463991&sprefix=deep+learning%2Caps%2C627&ref=sr_pg_2)\n"
     ]
    },
    {
     "name": "stdout",
     "output_type": "stream",
     "text": [
      "75\n",
      "['\\n            \\n              53%\\n            \\n          '] 4.3 out of 5 stars 6 x 0.58 x 9 inches\n",
      "76\n",
      "['\\n            \\n              57%\\n            \\n          '] 4.1 out of 5 stars 8 x 1.59 x 10 inches\n"
     ]
    },
    {
     "name": "stderr",
     "output_type": "stream",
     "text": [
      "2022-09-18 03:37:03 [scrapy.core.engine] DEBUG: Crawled (200) <GET https://www.amazon.com/Python-Programming-Beginners-Hands-Exercises/dp/B09TYJY819/ref=sr_1_82_sspa?crid=27NSKOKLZAT5L&keywords=machine+learning&qid=1663464998&sprefix=deep+learning%2Caps%2C627&sr=8-82-spons&psc=1> (referer: https://www.amazon.com/s?k=machine+learning&page=2&crid=27NSKOKLZAT5L&qid=1663463991&sprefix=deep+learning%2Caps%2C627&ref=sr_pg_2)\n",
      "2022-09-18 03:37:03 [scrapy.core.engine] DEBUG: Crawled (200) <GET https://www.amazon.com/Modern-Deep-Learning-Tabular-Data/dp/148428691X/ref=sr_1_156?crid=27NSKOKLZAT5L&keywords=machine+learning&qid=1663465010&sprefix=deep+learning%2Caps%2C627&sr=8-156> (referer: https://www.amazon.com/s?k=machine+learning&page=3&crid=27NSKOKLZAT5L&qid=1663463991&sprefix=deep+learning%2Caps%2C627&ref=sr_pg_3)\n",
      "2022-09-18 03:37:03 [scrapy.core.engine] DEBUG: Crawled (200) <GET https://www.amazon.com/Introduction-Learning-Applications-Information-Security-ebook/dp/B0BBQ8Z697/ref=sr_1_153?crid=27NSKOKLZAT5L&keywords=machine+learning&qid=1663465010&sprefix=deep+learning%2Caps%2C627&sr=8-153> (referer: https://www.amazon.com/s?k=machine+learning&page=3&crid=27NSKOKLZAT5L&qid=1663463991&sprefix=deep+learning%2Caps%2C627&ref=sr_pg_3)\n"
     ]
    },
    {
     "name": "stdout",
     "output_type": "stream",
     "text": [
      "77\n",
      "['\\n            \\n              66%\\n            \\n          '] 4.3 out of 5 stars 8 x 0.29 x 10 inches\n",
      "78\n",
      "[] None None\n"
     ]
    },
    {
     "name": "stderr",
     "output_type": "stream",
     "text": [
      "2022-09-18 03:37:06 [scrapy.core.engine] DEBUG: Crawled (200) <GET https://www.amazon.com/Cracking-Machine-Learning-Interview-Nitin/dp/1729223605/ref=sr_1_154?crid=27NSKOKLZAT5L&keywords=machine+learning&qid=1663465010&sprefix=deep+learning%2Caps%2C627&sr=8-154> (referer: https://www.amazon.com/s?k=machine+learning&page=3&crid=27NSKOKLZAT5L&qid=1663463991&sprefix=deep+learning%2Caps%2C627&ref=sr_pg_3)\n",
      "2022-09-18 03:37:06 [scrapy.core.engine] DEBUG: Crawled (200) <GET https://www.amazon.com/Machine-Learning-Bayesian-Optimization-Perspective/dp/0128188030/ref=sr_1_155?crid=27NSKOKLZAT5L&keywords=machine+learning&qid=1663465010&sprefix=deep+learning%2Caps%2C627&sr=8-155> (referer: https://www.amazon.com/s?k=machine+learning&page=3&crid=27NSKOKLZAT5L&qid=1663463991&sprefix=deep+learning%2Caps%2C627&ref=sr_pg_3)\n",
      "2022-09-18 03:37:06 [scrapy.core.engine] DEBUG: Crawled (200) <GET https://www.amazon.com/Machine-Learning-Mathematics-Artificial-Intelligence/dp/B084BY1LDW/ref=sr_1_152?crid=27NSKOKLZAT5L&keywords=machine+learning&qid=1663465010&sprefix=deep+learning%2Caps%2C627&sr=8-152> (referer: https://www.amazon.com/s?k=machine+learning&page=3&crid=27NSKOKLZAT5L&qid=1663463991&sprefix=deep+learning%2Caps%2C627&ref=sr_pg_3)\n",
      "2022-09-18 03:37:06 [scrapy.core.engine] DEBUG: Crawled (200) <GET https://www.amazon.com/Advanced-Algorithms-Structures-Marcello-Rocca/dp/1617295485/ref=sr_1_97_sspa?crid=27NSKOKLZAT5L&keywords=machine+learning&qid=1663465010&sprefix=deep+learning%2Caps%2C627&sr=8-97-spons&psc=1> (referer: https://www.amazon.com/s?k=machine+learning&page=3&crid=27NSKOKLZAT5L&qid=1663463991&sprefix=deep+learning%2Caps%2C627&ref=sr_pg_3)\n",
      "2022-09-18 03:37:06 [scrapy.core.engine] DEBUG: Crawled (200) <GET https://www.amazon.com/Deep-Learning-David-Feldspar-audiobook/dp/B07DP3MSXR/ref=sr_1_151?crid=27NSKOKLZAT5L&keywords=machine+learning&qid=1663465010&sprefix=deep+learning%2Caps%2C627&sr=8-151> (referer: https://www.amazon.com/s?k=machine+learning&page=3&crid=27NSKOKLZAT5L&qid=1663463991&sprefix=deep+learning%2Caps%2C627&ref=sr_pg_3)\n"
     ]
    },
    {
     "name": "stdout",
     "output_type": "stream",
     "text": [
      "start_new_page\n",
      "79\n",
      "[] None None\n",
      "80\n",
      "['\\n            \\n              51%\\n            \\n          '] 4.1 out of 5 stars 6 x 0.26 x 9 inches\n",
      "81\n",
      "['\\n            \\n              81%\\n            \\n          '] 4.6 out of 5 stars 7.5 x 2.25 x 9.25 inches\n",
      "82\n",
      "['\\n            \\n              50%\\n            \\n          '] 4.0 out of 5 stars None\n"
     ]
    },
    {
     "name": "stderr",
     "output_type": "stream",
     "text": [
      "2022-09-18 03:37:07 [scrapy.core.engine] DEBUG: Crawled (200) <GET https://www.amazon.com/Machine-Learning-Quantitative-Henry-Liu/dp/1986487520/ref=sr_1_150?crid=27NSKOKLZAT5L&keywords=machine+learning&qid=1663465010&sprefix=deep+learning%2Caps%2C627&sr=8-150> (referer: https://www.amazon.com/s?k=machine+learning&page=3&crid=27NSKOKLZAT5L&qid=1663463991&sprefix=deep+learning%2Caps%2C627&ref=sr_pg_3)\n",
      "2022-09-18 03:37:07 [scrapy.core.engine] DEBUG: Crawled (200) <GET https://www.amazon.com/Practical-Statistics-Data-Scientists-Essential/dp/149207294X/ref=sr_1_148?crid=27NSKOKLZAT5L&keywords=machine+learning&qid=1663465010&sprefix=deep+learning%2Caps%2C627&sr=8-148> (referer: https://www.amazon.com/s?k=machine+learning&page=3&crid=27NSKOKLZAT5L&qid=1663463991&sprefix=deep+learning%2Caps%2C627&ref=sr_pg_3)\n",
      "2022-09-18 03:37:07 [scrapy.core.engine] DEBUG: Crawled (200) <GET https://www.amazon.com/Learning-Data-Yaser-S-Abu-Mostafa/dp/1600490069/ref=sr_1_149?crid=27NSKOKLZAT5L&keywords=machine+learning&qid=1663465010&sprefix=deep+learning%2Caps%2C627&sr=8-149> (referer: https://www.amazon.com/s?k=machine+learning&page=3&crid=27NSKOKLZAT5L&qid=1663463991&sprefix=deep+learning%2Caps%2C627&ref=sr_pg_3)\n"
     ]
    },
    {
     "name": "stdout",
     "output_type": "stream",
     "text": [
      "83\n",
      "['\\n            \\n              63%\\n            \\n          '] 4.3 out of 5 stars None\n",
      "84\n",
      "['\\n            \\n              62%\\n            \\n          '] 4.2 out of 5 stars 7.38 x 1.5 x 9.25 inches\n",
      "85\n",
      "['\\n            \\n              80%\\n            \\n          '] 4.8 out of 5 stars 7.5 x 1.08 x 9.25 inches\n",
      "86\n",
      "['\\n            \\n              76%\\n            \\n          '] 4.6 out of 5 stars 7 x 0.9 x 9.1 inches\n",
      "87\n",
      "['\\n            \\n              73%\\n            \\n          '] 4.6 out of 5 stars 9.45 x 6.69 x 0.39 inches\n"
     ]
    },
    {
     "name": "stderr",
     "output_type": "stream",
     "text": [
      "2022-09-18 03:37:08 [scrapy.core.engine] DEBUG: Crawled (200) <GET https://www.amazon.com/Machine-Learning-Text-Charu-Aggarwal/dp/3030966224/ref=sr_1_146?crid=27NSKOKLZAT5L&keywords=machine+learning&qid=1663465010&sprefix=deep+learning%2Caps%2C627&sr=8-146> (referer: https://www.amazon.com/s?k=machine+learning&page=3&crid=27NSKOKLZAT5L&qid=1663463991&sprefix=deep+learning%2Caps%2C627&ref=sr_pg_3)\n",
      "2022-09-18 03:37:08 [scrapy.core.engine] DEBUG: Crawled (200) <GET https://www.amazon.com/Real-World-Machine-Learning-Henrik-Brink-ebook/dp/B097834SKF/ref=sr_1_147?crid=27NSKOKLZAT5L&keywords=machine+learning&qid=1663465010&sprefix=deep+learning%2Caps%2C627&sr=8-147> (referer: https://www.amazon.com/s?k=machine+learning&page=3&crid=27NSKOKLZAT5L&qid=1663463991&sprefix=deep+learning%2Caps%2C627&ref=sr_pg_3)\n",
      "2022-09-18 03:37:08 [scrapy.core.engine] DEBUG: Crawled (200) <GET https://www.amazon.com/Hands-Machine-Learning-end-end/dp/1789955335/ref=sr_1_144?crid=27NSKOKLZAT5L&keywords=machine+learning&qid=1663465010&sprefix=deep+learning%2Caps%2C627&sr=8-144> (referer: https://www.amazon.com/s?k=machine+learning&page=3&crid=27NSKOKLZAT5L&qid=1663463991&sprefix=deep+learning%2Caps%2C627&ref=sr_pg_3)\n",
      "2022-09-18 03:37:09 [scrapy.core.engine] DEBUG: Crawled (200) <GET https://www.amazon.com/Machine-Learning-Beginners-2019-Intelligence/dp/B07QGX3GK9/ref=sr_1_145?crid=27NSKOKLZAT5L&keywords=machine+learning&qid=1663465010&sprefix=deep+learning%2Caps%2C627&sr=8-145> (referer: https://www.amazon.com/s?k=machine+learning&page=3&crid=27NSKOKLZAT5L&qid=1663463991&sprefix=deep+learning%2Caps%2C627&ref=sr_pg_3)\n"
     ]
    },
    {
     "name": "stdout",
     "output_type": "stream",
     "text": [
      "88\n",
      "[] None 7 x 1.5 x 10 inches\n",
      "89\n",
      "['\\n            \\n              58%\\n            \\n          '] 4.2 out of 5 stars None\n"
     ]
    },
    {
     "name": "stderr",
     "output_type": "stream",
     "text": [
      "2022-09-18 03:37:09 [scrapy.core.engine] DEBUG: Crawled (200) <GET https://www.amazon.com/Machine-Learning-revised-Essential-Knowledge/dp/0262542528/ref=sr_1_143?crid=27NSKOKLZAT5L&keywords=machine+learning&qid=1663465010&sprefix=deep+learning%2Caps%2C627&sr=8-143> (referer: https://www.amazon.com/s?k=machine+learning&page=3&crid=27NSKOKLZAT5L&qid=1663463991&sprefix=deep+learning%2Caps%2C627&ref=sr_pg_3)\n"
     ]
    },
    {
     "name": "stdout",
     "output_type": "stream",
     "text": [
      "90\n",
      "['\\n            \\n              64%\\n            \\n          '] 4.3 out of 5 stars 7.5 x 1.2 x 9.25 inches\n",
      "91\n",
      "['\\n            \\n              40%\\n            \\n          '] 3.9 out of 5 stars None\n"
     ]
    },
    {
     "name": "stderr",
     "output_type": "stream",
     "text": [
      "2022-09-18 03:37:09 [scrapy.core.engine] DEBUG: Crawled (200) <GET https://www.amazon.com/Machine-Learning-Guide-Using-Python/dp/0128219297/ref=sr_1_141?crid=27NSKOKLZAT5L&keywords=machine+learning&qid=1663465010&sprefix=deep+learning%2Caps%2C627&sr=8-141> (referer: https://www.amazon.com/s?k=machine+learning&page=3&crid=27NSKOKLZAT5L&qid=1663463991&sprefix=deep+learning%2Caps%2C627&ref=sr_pg_3)\n"
     ]
    },
    {
     "name": "stdout",
     "output_type": "stream",
     "text": [
      "92\n",
      "['\\n            \\n              47%\\n            \\n          '] 4.1 out of 5 stars 5.06 x 0.57 x 7 inches\n"
     ]
    },
    {
     "name": "stderr",
     "output_type": "stream",
     "text": [
      "2022-09-18 03:37:09 [scrapy.core.engine] DEBUG: Crawled (200) <GET https://www.amazon.com/Elements-Science-Learning-Training-Certification/dp/B09HSKPLHL/ref=sr_1_137?crid=27NSKOKLZAT5L&keywords=machine+learning&qid=1663465010&sprefix=deep+learning%2Caps%2C627&sr=8-137> (referer: https://www.amazon.com/s?k=machine+learning&page=3&crid=27NSKOKLZAT5L&qid=1663463991&sprefix=deep+learning%2Caps%2C627&ref=sr_pg_3)\n",
      "2022-09-18 03:37:10 [scrapy.core.engine] DEBUG: Crawled (200) <GET https://www.amazon.com/Automated-Machine-Learning-Business-Larsen/dp/0190941669/ref=sr_1_142?crid=27NSKOKLZAT5L&keywords=machine+learning&qid=1663465010&sprefix=deep+learning%2Caps%2C627&sr=8-142> (referer: https://www.amazon.com/s?k=machine+learning&page=3&crid=27NSKOKLZAT5L&qid=1663463991&sprefix=deep+learning%2Caps%2C627&ref=sr_pg_3)\n",
      "2022-09-18 03:37:10 [scrapy.core.engine] DEBUG: Crawled (200) <GET https://www.amazon.com/s?k=machine+learning&page=4&crid=27NSKOKLZAT5L&qid=1663463991&sprefix=deep+learning%2Caps%2C627&ref=sr_pg_4> (referer: https://www.amazon.com/Modern-Deep-Learning-Tabular-Data/dp/148428691X/ref=sr_1_156?crid=27NSKOKLZAT5L&keywords=machine+learning&qid=1663465010&sprefix=deep+learning%2Caps%2C627&sr=8-156)\n",
      "2022-09-18 03:37:10 [scrapy.core.engine] DEBUG: Crawled (200) <GET https://www.amazon.com/Data-Mining-Concepts-Techniques-Management/dp/0123814790/ref=sr_1_140?crid=27NSKOKLZAT5L&keywords=machine+learning&qid=1663465010&sprefix=deep+learning%2Caps%2C627&sr=8-140> (referer: https://www.amazon.com/s?k=machine+learning&page=3&crid=27NSKOKLZAT5L&qid=1663463991&sprefix=deep+learning%2Caps%2C627&ref=sr_pg_3)\n"
     ]
    },
    {
     "name": "stdout",
     "output_type": "stream",
     "text": [
      "93\n",
      "['\\n            \\n              100%\\n            \\n          '] 5.0 out of 5 stars 5.98 x 1.08 x 9.02 inches\n",
      "94\n",
      "[] 4.6 out of 5 stars None\n"
     ]
    },
    {
     "name": "stderr",
     "output_type": "stream",
     "text": [
      "2022-09-18 03:37:10 [scrapy.downloadermiddlewares.redirect] DEBUG: Redirecting (302) to <GET https://www.amazon.com/Getting-Started-Natural-Language-Processing/dp/1617296767/ref=sr_1_132_sspa?crid=27NSKOKLZAT5L&keywords=machine+learning&qid=1663465010&sprefix=deep+learning%2Caps%2C627&sr=8-132-spons&psc=1> from <GET https://www.amazon.com/sspa/click?ie=UTF8&spc=MTo3NTQ1Mzg1NzIyNDcxMDIxOjE2NjM0NjUwMTA6c3BfbXRmOjIwMDA2ODI4NTYwNzQ0MTo6MDo6&sp_csd=d2lkZ2V0TmFtZT1zcF9tdGY&url=%2FGetting-Started-Natural-Language-Processing%2Fdp%2F1617296767%2Fref%3Dsr_1_132_sspa%3Fcrid%3D27NSKOKLZAT5L%26keywords%3Dmachine%2Blearning%26qid%3D1663465010%26sprefix%3Ddeep%2Blearning%252Caps%252C627%26sr%3D8-132-spons%26psc%3D1>\n",
      "2022-09-18 03:37:10 [scrapy.core.engine] DEBUG: Crawled (200) <GET https://www.amazon.com/Elliptical-Assembly/dp/B00STOHPMU/ref=sr_1_138?crid=27NSKOKLZAT5L&keywords=machine+learning&qid=1663465010&sprefix=deep+learning%2Caps%2C627&sr=8-138> (referer: https://www.amazon.com/s?k=machine+learning&page=3&crid=27NSKOKLZAT5L&qid=1663463991&sprefix=deep+learning%2Caps%2C627&ref=sr_pg_3)\n"
     ]
    },
    {
     "name": "stdout",
     "output_type": "stream",
     "text": [
      "95\n",
      "['\\n            \\n              100%\\n            \\n          '] 5.0 out of 5 stars 9.9 x 0.8 x 6.8 inches\n",
      "4\n",
      "NFT FOR BEGINNERS: How to Create, Sell, Buy, Non-Fungible Tokens and Make Money from Scratch\n",
      "96\n",
      "['\\n            \\n              66%\\n            \\n          '] 4.3 out of 5 stars 7.6 x 1.5 x 9.4 inches\n"
     ]
    },
    {
     "name": "stderr",
     "output_type": "stream",
     "text": [
      "2022-09-18 03:37:10 [scrapy.downloadermiddlewares.redirect] DEBUG: Redirecting (302) to <GET https://www.amazon.com/Build-Your-Own-Programming-Language/dp/1800204809/ref=sr_1_131_sspa?crid=27NSKOKLZAT5L&keywords=machine+learning&qid=1663465010&sprefix=deep+learning%2Caps%2C627&sr=8-131-spons&psc=1> from <GET https://www.amazon.com/sspa/click?ie=UTF8&spc=MTo3NTQ1Mzg1NzIyNDcxMDIxOjE2NjM0NjUwMTA6c3BfbXRmOjIwMDAzNDA3Njc1MTM5ODo6MDo6&sp_csd=d2lkZ2V0TmFtZT1zcF9tdGY&url=%2FBuild-Your-Own-Programming-Language%2Fdp%2F1800204809%2Fref%3Dsr_1_131_sspa%3Fcrid%3D27NSKOKLZAT5L%26keywords%3Dmachine%2Blearning%26qid%3D1663465010%26sprefix%3Ddeep%2Blearning%252Caps%252C627%26sr%3D8-131-spons%26psc%3D1>\n",
      "2022-09-18 03:37:10 [scrapy.downloadermiddlewares.redirect] DEBUG: Redirecting (302) to <GET https://www.amazon.com/Machine-Learning-Scale-H2O-enterprise/dp/1800566018/ref=sr_1_130_sspa?crid=27NSKOKLZAT5L&keywords=machine+learning&qid=1663465010&sprefix=deep+learning%2Caps%2C627&sr=8-130-spons&psc=1> from <GET https://www.amazon.com/sspa/click?ie=UTF8&spc=MTo3NTQ1Mzg1NzIyNDcxMDIxOjE2NjM0NjUwMTA6c3BfbXRmOjIwMDA3Nzc5ODg1NzA5ODo6MDo6&sp_csd=d2lkZ2V0TmFtZT1zcF9tdGY&url=%2FMachine-Learning-Scale-H2O-enterprise%2Fdp%2F1800566018%2Fref%3Dsr_1_130_sspa%3Fcrid%3D27NSKOKLZAT5L%26keywords%3Dmachine%2Blearning%26qid%3D1663465010%26sprefix%3Ddeep%2Blearning%252Caps%252C627%26sr%3D8-130-spons%26psc%3D1>\n"
     ]
    },
    {
     "name": "stdout",
     "output_type": "stream",
     "text": [
      "Algorithms and Data Structures for Massive Datasets\n",
      "Practical Robotics in C++: Build and Program Real Autonomous Robots Using Raspberry Pi (English Edition)\n",
      "Python Programming: 3 Books in 1: The Complete Beginner’s Guide to Learning the Most Popular Programming Language\n",
      "Distributed Machine Learning with Python: Accelerating model training and serving with distributed systems\n",
      "Machine Learning Pocket Reference: Working with Structured Data in Python\n",
      "Data Science on AWS: Implementing End-to-End, Continuous AI and Machine Learning Pipelines\n",
      "Graph Machine Learning: Take graph data to the next level by applying machine learning techniques and algorithms\n",
      "Deep Learning: A Visual Approach\n",
      "Becoming a Data Head: How to Think, Speak and Understand Data Science, Statistics and Machine Learning\n",
      "Machine Learning and Big Data Analytics Paradigms: Analysis, Applications and Challenges (Studies in Big Data, 77)\n",
      "Data Algorithms with Spark: Recipes and Design Patterns for Scaling Up using PySpark\n",
      "Data Mining with Rattle and R: The Art of Excavating Data for Knowledge Discovery (Use R!)\n",
      "Linear Algebra and Optimization for Machine Learning: A Textbook\n",
      "Machine Learning: Theory to Applications\n",
      "Deep Learning with R, Second Edition\n",
      "Learn Coding Basics in Hours with JavaScript\n",
      "Learn python programming for beginners: A beginner's guide comprehending python. Develop your programming skills and learn all the tricks with this crash course.\n",
      "Getting Started with Amazon SageMaker Studio: Learn to build end-to-end machine learning projects in the SageMaker machine learning IDE\n",
      "Learn Power BI: A comprehensive, step-by-step guide for beginners to learn real-world business intelligence, 2nd Edition\n",
      "Practical Big Data Analytics: Hands-on techniques to implement enterprise analytics and machine learning using Hadoop, Spark, NoSQL and R\n",
      "Data Science Capstone: Real World ML Decisions | Machine Learning Online Course | AWS Training & Certification\n",
      "Machine Learning for Financial Risk Management with Python: Algorithms for Modeling Risk\n",
      "Trustworthy Machine Learning\n",
      "Math for Programmers: 3D graphics, machine learning, and simulations with Python\n",
      "Data Mining: Practical Machine Learning Tools and Techniques (Morgan Kaufmann Series in Data Management Systems)\n",
      "Introducing Machine Learning (Developer Reference)\n",
      "Machine Learning Interviews\n",
      "Machine Learning with Python Cookbook: Practical Solutions from Preprocessing to Deep Learning\n",
      "Machine Learning And Artificial Intelligence for Beginners and Dummies: Machine Learning for Dummies, Machine Learning, Machine Learning for Beginners, Machine Learning and Artificial Intelligence\n",
      "The Complete Recession Proof Excel, Machine Learning, Python Online Course\n",
      "Tree-Based Methods for Statistical Learning in R: A Practical Introduction with Applications in R (Chapman & Hall/CRC Data Science Series)\n",
      "Machine Learning: Master Machine Learning Fundamentals for Beginners, Business Leaders and Aspiring Data Scientists\n",
      "Data Science and Machine Learning Interview Questions Using R: Crack the Data Scientist and Machine Learning Engineers Interviews with Ease (English Edition)\n",
      "Building Machine Learning Systems Using Python: Practice to Train Predictive Models and Analyze Machine Learning Results with Real Use-Cases (English Edition)\n",
      "Machine Learning: Master Machine Learning For Aspiring Data Scientists\n",
      "Mighty Machines: Learning, Lifting and Towing\n",
      "Python for Data Science: A Hands-On Introduction\n",
      "Deep Learning for Coders with Fastai and PyTorch: AI Applications Without a PhD\n",
      "Kubeflow for Machine Learning: From Lab to Production\n",
      "Reinforcement Learning, second edition: An Introduction (Adaptive Computation and Machine Learning series)\n",
      "Envisioning Information\n",
      "How Smart Machines Think (The MIT Press)\n",
      "AWS Certified Machine Learning Study Guide: Specialty (MLS-C01) Exam\n",
      "Data Engineering with Google Cloud Platform: A practical guide to operationalizing scalable data analytics systems on GCP\n",
      "Machine Learning and Data Science Blueprints for Finance: From Building Trading Strategies to Robo-Advisors Using Python\n",
      "Instant HEPA Quiet Air Purifier, From the Makers of Instant Pot with Plasma Ion Technology for Rooms up to 1,940ft2, removes 99% of Dust, Smoke, Odors, Pollen & Pet Hair, for Bedrooms, Offices, Pearl\n",
      "Machine Learning Engineering on AWS: Building, Scaling, and Securing Machine Learning Systems and MLOps Pipelines in Production\n",
      "Getting Started with Amazon SageMaker Studio: Learn to build end-to-end machine learning projects in the SageMaker machine learning IDE\n",
      "Data Cleaning and Exploration with Machine Learning: Get to grips with machine learning techniques to achieve sparkling-clean data quickly\n",
      "Practical Machine Learning for Computer Vision: End-to-End Machine Learning for Images\n",
      "Python Machine Learning - Second Edition: Machine Learning and Deep Learning with Python, scikit-learn, and TensorFlow\n",
      "The Future Is Faster Than You Think: How Converging Technologies Are Disrupting Business, Industries, and Our Lives\n",
      "Machine Learning for Business Challenges | Machine Learning Online Course | AWS Training & Certification\n",
      "Deep Learning with PyTorch: Build, train, and tune neural networks using Python tools\n",
      "Python Programming Notebook for Computer Programmers & Developers, Python / Data Analysis / For Kids / Machine Learning / Finance: A Notebook for Python Software developers\n",
      "Unpacking AI Ethics: Practical Advances In Artificial Intelligence And Machine Learning\n",
      "Introduction to Online Convex Optimization, second edition (Adaptive Computation and Machine Learning series)\n",
      "Machine Learning in Asset Pricing (Princeton Lectures in Finance, 1)\n",
      "Machine Learning: The New AI (MIT Press Essential Knowledge series)\n"
     ]
    },
    {
     "name": "stderr",
     "output_type": "stream",
     "text": [
      "2022-09-18 03:37:10 [scrapy.downloadermiddlewares.redirect] DEBUG: Redirecting (302) to <GET https://www.amazon.com/Building-Smart-Robots-Using-ROS/dp/939139227X/ref=sr_1_129_sspa?crid=27NSKOKLZAT5L&keywords=machine+learning&qid=1663465010&sprefix=deep+learning%2Caps%2C627&sr=8-129-spons&psc=1> from <GET https://www.amazon.com/sspa/click?ie=UTF8&spc=MTo3NTQ1Mzg1NzIyNDcxMDIxOjE2NjM0NjUwMTA6c3BfbXRmOjIwMDA0OTU5OTcxNTI5ODo6MDo6&sp_csd=d2lkZ2V0TmFtZT1zcF9tdGY&url=%2FBuilding-Smart-Robots-Using-ROS%2Fdp%2F939139227X%2Fref%3Dsr_1_129_sspa%3Fcrid%3D27NSKOKLZAT5L%26keywords%3Dmachine%2Blearning%26qid%3D1663465010%26sprefix%3Ddeep%2Blearning%252Caps%252C627%26sr%3D8-129-spons%26psc%3D1>\n",
      "2022-09-18 03:37:10 [scrapy.core.engine] DEBUG: Crawled (200) <GET https://www.amazon.com/Natural-Language-Processing-Transformers-Revised/dp/1098136799/ref=sr_1_139?crid=27NSKOKLZAT5L&keywords=machine+learning&qid=1663465010&sprefix=deep+learning%2Caps%2C627&sr=8-139> (referer: https://www.amazon.com/s?k=machine+learning&page=3&crid=27NSKOKLZAT5L&qid=1663463991&sprefix=deep+learning%2Caps%2C627&ref=sr_pg_3)\n"
     ]
    },
    {
     "name": "stdout",
     "output_type": "stream",
     "text": [
      "97\n",
      "[] None None\n",
      "98\n",
      "['\\n            \\n              56%\\n            \\n          '] 4.1 out of 5 stars 7 x 1 x 9.25 inches\n"
     ]
    },
    {
     "name": "stderr",
     "output_type": "stream",
     "text": [
      "2022-09-18 03:37:11 [scrapy.core.engine] DEBUG: Crawled (200) <GET https://www.amazon.com/Principles-Deep-Learning-Theory-Understanding/dp/1316519333/ref=sr_1_136?crid=27NSKOKLZAT5L&keywords=machine+learning&qid=1663465010&sprefix=deep+learning%2Caps%2C627&sr=8-136> (referer: https://www.amazon.com/s?k=machine+learning&page=3&crid=27NSKOKLZAT5L&qid=1663463991&sprefix=deep+learning%2Caps%2C627&ref=sr_pg_3)\n",
      "2022-09-18 03:37:11 [scrapy.core.engine] DEBUG: Crawled (200) <GET https://www.amazon.com/Mastering-Azure-Machine-Learning-end/dp/1803232412/ref=sr_1_134?crid=27NSKOKLZAT5L&keywords=machine+learning&qid=1663465010&sprefix=deep+learning%2Caps%2C627&sr=8-134> (referer: https://www.amazon.com/s?k=machine+learning&page=3&crid=27NSKOKLZAT5L&qid=1663463991&sprefix=deep+learning%2Caps%2C627&ref=sr_pg_3)\n",
      "2022-09-18 03:37:11 [scrapy.core.engine] DEBUG: Crawled (200) <GET https://www.amazon.com/Machine-Learning-for-Cybersecurity/dp/B07VBH71ZT/ref=sr_1_133?crid=27NSKOKLZAT5L&keywords=machine+learning&qid=1663465010&sprefix=deep+learning%2Caps%2C627&sr=8-133> (referer: https://www.amazon.com/s?k=machine+learning&page=3&crid=27NSKOKLZAT5L&qid=1663463991&sprefix=deep+learning%2Caps%2C627&ref=sr_pg_3)\n"
     ]
    },
    {
     "name": "stdout",
     "output_type": "stream",
     "text": [
      "99\n",
      "['\\n            \\n              86%\\n            \\n          '] 4.7 out of 5 stars 7 x 1 x 10 inches\n"
     ]
    },
    {
     "name": "stderr",
     "output_type": "stream",
     "text": [
      "2022-09-18 03:37:12 [scrapy.core.engine] DEBUG: Crawled (200) <GET https://www.amazon.com/Artificial-Intelligence-Healthcare-Intelligent-Simplified/dp/1954612028/ref=sr_1_135?crid=27NSKOKLZAT5L&keywords=machine+learning&qid=1663465010&sprefix=deep+learning%2Caps%2C627&sr=8-135> (referer: https://www.amazon.com/s?k=machine+learning&page=3&crid=27NSKOKLZAT5L&qid=1663463991&sprefix=deep+learning%2Caps%2C627&ref=sr_pg_3)\n"
     ]
    },
    {
     "name": "stdout",
     "output_type": "stream",
     "text": [
      "100\n",
      "['\\n            \\n              100%\\n            \\n          '] 5.0 out of 5 stars 7.5 x 1.41 x 9.25 inches\n",
      "101\n",
      "[] None 7.5 x 5.5 x 0.5 inches; 3.5 Ounces\n"
     ]
    },
    {
     "name": "stderr",
     "output_type": "stream",
     "text": [
      "2022-09-18 03:37:12 [scrapy.core.engine] DEBUG: Crawled (200) <GET https://www.amazon.com/Practical-Machine-Learning-Anomaly-Detection-ebook/dp/B00MQ6RJZA/ref=sr_1_128?crid=27NSKOKLZAT5L&keywords=machine+learning&qid=1663465010&sprefix=deep+learning%2Caps%2C627&sr=8-128> (referer: https://www.amazon.com/s?k=machine+learning&page=3&crid=27NSKOKLZAT5L&qid=1663463991&sprefix=deep+learning%2Caps%2C627&ref=sr_pg_3)\n"
     ]
    },
    {
     "name": "stdout",
     "output_type": "stream",
     "text": [
      "102\n",
      "['\\n            \\n              76%\\n            \\n          '] 4.7 out of 5 stars 6 x 1.33 x 9 inches\n"
     ]
    },
    {
     "name": "stderr",
     "output_type": "stream",
     "text": [
      "2022-09-18 03:37:12 [scrapy.downloadermiddlewares.redirect] DEBUG: Redirecting (302) to <GET https://www.amazon.com/Learn-Coding-Basics-Hours-JavaScript/dp/0997326468/ref=sr_1_161_sspa?crid=27NSKOKLZAT5L&keywords=machine+learning&qid=1663465028&sprefix=deep+learning%2Caps%2C627&sr=8-161-spons&psc=1> from <GET https://www.amazon.com/sspa/click?ie=UTF8&spc=MTo2NzAyMjkyOTM3MTY0NzU3OjE2NjM0NjUwMjg6c3BfbXRmOjIwMDAyNjcyODEzNzc0MTo6MDo6&sp_csd=d2lkZ2V0TmFtZT1zcF9tdGY&url=%2FLearn-Coding-Basics-Hours-JavaScript%2Fdp%2F0997326468%2Fref%3Dsr_1_161_sspa%3Fcrid%3D27NSKOKLZAT5L%26keywords%3Dmachine%2Blearning%26qid%3D1663465028%26sprefix%3Ddeep%2Blearning%252Caps%252C627%26sr%3D8-161-spons%26psc%3D1>\n"
     ]
    },
    {
     "name": "stdout",
     "output_type": "stream",
     "text": [
      "103\n",
      "['\\n            \\n              35%\\n            \\n          '] 3.0 out of 5 stars None\n"
     ]
    },
    {
     "name": "stderr",
     "output_type": "stream",
     "text": [
      "2022-09-18 03:37:13 [scrapy.core.engine] DEBUG: Crawled (200) <GET https://www.amazon.com/Effective-Data-Science-Infrastructure-scientists/dp/1617299197/ref=sr_1_125?crid=27NSKOKLZAT5L&keywords=machine+learning&qid=1663465010&sprefix=deep+learning%2Caps%2C627&sr=8-125> (referer: https://www.amazon.com/s?k=machine+learning&page=3&crid=27NSKOKLZAT5L&qid=1663463991&sprefix=deep+learning%2Caps%2C627&ref=sr_pg_3)\n",
      "2022-09-18 03:37:13 [scrapy.core.engine] DEBUG: Crawled (200) <GET https://www.amazon.com/Audible-Graph-Powered-Machine-Learning/dp/B09V7RQV37/ref=sr_1_126?crid=27NSKOKLZAT5L&keywords=machine+learning&qid=1663465010&sprefix=deep+learning%2Caps%2C627&sr=8-126> (referer: https://www.amazon.com/s?k=machine+learning&page=3&crid=27NSKOKLZAT5L&qid=1663463991&sprefix=deep+learning%2Caps%2C627&ref=sr_pg_3)\n",
      "2022-09-18 03:37:13 [scrapy.core.engine] DEBUG: Crawled (200) <GET https://www.amazon.com/Building-Intelligent-Systems-audiobook/dp/B07D443GLB/ref=sr_1_127?crid=27NSKOKLZAT5L&keywords=machine+learning&qid=1663465010&sprefix=deep+learning%2Caps%2C627&sr=8-127> (referer: https://www.amazon.com/s?k=machine+learning&page=3&crid=27NSKOKLZAT5L&qid=1663463991&sprefix=deep+learning%2Caps%2C627&ref=sr_pg_3)\n"
     ]
    },
    {
     "name": "stdout",
     "output_type": "stream",
     "text": [
      "104\n",
      "['\\n            \\n              100%\\n            \\n          '] 5.0 out of 5 stars 7.38 x 0.8 x 9.25 inches\n",
      "105\n",
      "['\\n            \\n              74%\\n            \\n          '] 4.4 out of 5 stars None\n",
      "106\n",
      "['\\n            \\n              66%\\n            \\n          '] 4.2 out of 5 stars None\n"
     ]
    },
    {
     "name": "stderr",
     "output_type": "stream",
     "text": [
      "2022-09-18 03:37:13 [scrapy.core.engine] DEBUG: Crawled (200) <GET https://www.amazon.com/Machine-Learning-Recommender-System-Beginners-ebook/dp/B07DWS346Y/ref=sr_1_124?crid=27NSKOKLZAT5L&keywords=machine+learning&qid=1663465010&sprefix=deep+learning%2Caps%2C627&sr=8-124> (referer: https://www.amazon.com/s?k=machine+learning&page=3&crid=27NSKOKLZAT5L&qid=1663463991&sprefix=deep+learning%2Caps%2C627&ref=sr_pg_3)\n",
      "2022-09-18 03:37:14 [scrapy.core.engine] DEBUG: Crawled (200) <GET https://www.amazon.com/Getting-Started-Natural-Language-Processing/dp/1617296767/ref=sr_1_132_sspa?crid=27NSKOKLZAT5L&keywords=machine+learning&qid=1663465010&sprefix=deep+learning%2Caps%2C627&sr=8-132-spons&psc=1> (referer: https://www.amazon.com/s?k=machine+learning&page=3&crid=27NSKOKLZAT5L&qid=1663463991&sprefix=deep+learning%2Caps%2C627&ref=sr_pg_3)\n"
     ]
    },
    {
     "name": "stdout",
     "output_type": "stream",
     "text": [
      "107\n",
      "['\\n            \\n              54%\\n            \\n          '] 4.2 out of 5 stars None\n"
     ]
    },
    {
     "name": "stderr",
     "output_type": "stream",
     "text": [
      "2022-09-18 03:37:14 [scrapy.core.engine] DEBUG: Crawled (200) <GET https://www.amazon.com/Build-Your-Own-Programming-Language/dp/1800204809/ref=sr_1_131_sspa?crid=27NSKOKLZAT5L&keywords=machine+learning&qid=1663465010&sprefix=deep+learning%2Caps%2C627&sr=8-131-spons&psc=1> (referer: https://www.amazon.com/s?k=machine+learning&page=3&crid=27NSKOKLZAT5L&qid=1663463991&sprefix=deep+learning%2Caps%2C627&ref=sr_pg_3)\n"
     ]
    },
    {
     "name": "stdout",
     "output_type": "stream",
     "text": [
      "108\n",
      "[] None 7.38 x 0.81 x 9.25 inches\n"
     ]
    },
    {
     "name": "stderr",
     "output_type": "stream",
     "text": [
      "2022-09-18 03:37:14 [scrapy.core.engine] DEBUG: Crawled (200) <GET https://www.amazon.com/Machine-Learning-Getting-yourself-learning/dp/B0B8BRNH2W/ref=sr_1_123?crid=27NSKOKLZAT5L&keywords=machine+learning&qid=1663465010&sprefix=deep+learning%2Caps%2C627&sr=8-123> (referer: https://www.amazon.com/s?k=machine+learning&page=3&crid=27NSKOKLZAT5L&qid=1663463991&sprefix=deep+learning%2Caps%2C627&ref=sr_pg_3)\n"
     ]
    },
    {
     "name": "stdout",
     "output_type": "stream",
     "text": [
      "109\n",
      "['\\n            \\n              57%\\n            \\n          '] 4.3 out of 5 stars 7.5 x 1.12 x 9.25 inches\n"
     ]
    },
    {
     "name": "stderr",
     "output_type": "stream",
     "text": [
      "2022-09-18 03:37:14 [scrapy.core.engine] DEBUG: Crawled (200) <GET https://www.amazon.com/Machine-Learning-Scale-H2O-enterprise/dp/1800566018/ref=sr_1_130_sspa?crid=27NSKOKLZAT5L&keywords=machine+learning&qid=1663465010&sprefix=deep+learning%2Caps%2C627&sr=8-130-spons&psc=1> (referer: https://www.amazon.com/s?k=machine+learning&page=3&crid=27NSKOKLZAT5L&qid=1663463991&sprefix=deep+learning%2Caps%2C627&ref=sr_pg_3)\n"
     ]
    },
    {
     "name": "stdout",
     "output_type": "stream",
     "text": [
      "110\n",
      "['\\n            \\n              100%\\n            \\n          '] 5.0 out of 5 stars 6 x 0.44 x 9 inches\n",
      "111\n",
      "['\\n            \\n              100%\\n            \\n          '] 5.0 out of 5 stars 7.5 x 0.9 x 9.25 inches\n"
     ]
    },
    {
     "name": "stderr",
     "output_type": "stream",
     "text": [
      "2022-09-18 03:37:15 [scrapy.core.engine] DEBUG: Crawled (200) <GET https://www.amazon.com/Machine-Learning-Press-Essential-Knowledge/dp/0262529513/ref=sr_1_204?crid=27NSKOKLZAT5L&keywords=machine+learning&qid=1663465028&sprefix=deep+learning%2Caps%2C627&sr=8-204> (referer: https://www.amazon.com/s?k=machine+learning&page=4&crid=27NSKOKLZAT5L&qid=1663463991&sprefix=deep+learning%2Caps%2C627&ref=sr_pg_4)\n"
     ]
    },
    {
     "name": "stdout",
     "output_type": "stream",
     "text": [
      "112\n",
      "['\\n            \\n              59%\\n            \\n          '] 4.2 out of 5 stars 5 x 0.44 x 7 inches\n"
     ]
    },
    {
     "name": "stderr",
     "output_type": "stream",
     "text": [
      "2022-09-18 03:37:18 [scrapy.core.engine] DEBUG: Crawled (200) <GET https://www.amazon.com/Building-Smart-Robots-Using-ROS/dp/939139227X/ref=sr_1_129_sspa?crid=27NSKOKLZAT5L&keywords=machine+learning&qid=1663465010&sprefix=deep+learning%2Caps%2C627&sr=8-129-spons&psc=1> (referer: https://www.amazon.com/s?k=machine+learning&page=3&crid=27NSKOKLZAT5L&qid=1663463991&sprefix=deep+learning%2Caps%2C627&ref=sr_pg_3)\n",
      "2022-09-18 03:37:18 [scrapy.core.engine] DEBUG: Crawled (200) <GET https://www.amazon.com/Unpacking-Ethics-Practical-Artificial-Intelligence/dp/1957386118/ref=sr_1_201?crid=27NSKOKLZAT5L&keywords=machine+learning&qid=1663465028&sprefix=deep+learning%2Caps%2C627&sr=8-201> (referer: https://www.amazon.com/s?k=machine+learning&page=4&crid=27NSKOKLZAT5L&qid=1663463991&sprefix=deep+learning%2Caps%2C627&ref=sr_pg_4)\n",
      "2022-09-18 03:37:18 [scrapy.core.engine] DEBUG: Crawled (200) <GET https://www.amazon.com/Introduction-Optimization-Adaptive-Computation-Learning/dp/0262046989/ref=sr_1_202?crid=27NSKOKLZAT5L&keywords=machine+learning&qid=1663465028&sprefix=deep+learning%2Caps%2C627&sr=8-202> (referer: https://www.amazon.com/s?k=machine+learning&page=4&crid=27NSKOKLZAT5L&qid=1663463991&sprefix=deep+learning%2Caps%2C627&ref=sr_pg_4)\n",
      "2022-09-18 03:37:18 [scrapy.core.engine] DEBUG: Crawled (200) <GET https://www.amazon.com/Machine-Learning-Pricing-Princeton-Lectures/dp/0691218706/ref=sr_1_203?crid=27NSKOKLZAT5L&keywords=machine+learning&qid=1663465028&sprefix=deep+learning%2Caps%2C627&sr=8-203> (referer: https://www.amazon.com/s?k=machine+learning&page=4&crid=27NSKOKLZAT5L&qid=1663463991&sprefix=deep+learning%2Caps%2C627&ref=sr_pg_4)\n",
      "2022-09-18 03:37:18 [scrapy.core.engine] DEBUG: Crawled (200) <GET https://www.amazon.com/Programming-Notebook-Computer-Programmers-Developers/dp/1655292218/ref=sr_1_200?crid=27NSKOKLZAT5L&keywords=machine+learning&qid=1663465028&sprefix=deep+learning%2Caps%2C627&sr=8-200> (referer: https://www.amazon.com/s?k=machine+learning&page=4&crid=27NSKOKLZAT5L&qid=1663463991&sprefix=deep+learning%2Caps%2C627&ref=sr_pg_4)\n",
      "2022-09-18 03:37:18 [scrapy.core.engine] DEBUG: Crawled (200) <GET https://www.amazon.com/Learning-Business-Challenges-Training-Certification/dp/B09HY3RS6M/ref=sr_1_198?crid=27NSKOKLZAT5L&keywords=machine+learning&qid=1663465028&sprefix=deep+learning%2Caps%2C627&sr=8-198> (referer: https://www.amazon.com/s?k=machine+learning&page=4&crid=27NSKOKLZAT5L&qid=1663463991&sprefix=deep+learning%2Caps%2C627&ref=sr_pg_4)\n",
      "2022-09-18 03:37:18 [scrapy.core.engine] DEBUG: Crawled (200) <GET https://www.amazon.com/Learn-Coding-Basics-Hours-JavaScript/dp/0997326468/ref=sr_1_161_sspa?crid=27NSKOKLZAT5L&keywords=machine+learning&qid=1663465028&sprefix=deep+learning%2Caps%2C627&sr=8-161-spons&psc=1> (referer: https://www.amazon.com/s?k=machine+learning&page=4&crid=27NSKOKLZAT5L&qid=1663463991&sprefix=deep+learning%2Caps%2C627&ref=sr_pg_4)\n",
      "2022-09-18 03:37:18 [scrapy.core.engine] DEBUG: Crawled (200) <GET https://www.amazon.com/Deep-Learning-PyTorch-Eli-Stevens/dp/1617295264/ref=sr_1_199?crid=27NSKOKLZAT5L&keywords=machine+learning&qid=1663465028&sprefix=deep+learning%2Caps%2C627&sr=8-199> (referer: https://www.amazon.com/s?k=machine+learning&page=4&crid=27NSKOKLZAT5L&qid=1663463991&sprefix=deep+learning%2Caps%2C627&ref=sr_pg_4)\n"
     ]
    },
    {
     "name": "stdout",
     "output_type": "stream",
     "text": [
      "start_new_page\n",
      "113\n",
      "['\\n            \\n              80%\\n            \\n          '] 4.8 out of 5 stars 6 x 0.5 x 9 inches\n",
      "114\n",
      "[] None 6 x 0.81 x 9 inches\n",
      "115\n",
      "[] None 6.19 x 0.66 x 9.25 inches\n",
      "116\n",
      "['\\n            \\n              81%\\n            \\n          '] 4.3 out of 5 stars 6 x 0.9 x 9.3 inches\n",
      "117\n",
      "['\\n            \\n              72%\\n            \\n          '] 4.4 out of 5 stars 7.38 x 1 x 9.25 inches\n",
      "118\n",
      "['\\n            \\n              74%\\n            \\n          '] 4.5 out of 5 stars 8.5 x 0.27 x 11 inches\n",
      "119\n",
      "[] None 6 x 0.28 x 9 inches\n",
      "120\n",
      "[] 4.6 out of 5 stars None\n"
     ]
    },
    {
     "name": "stderr",
     "output_type": "stream",
     "text": [
      "2022-09-18 03:37:20 [scrapy.core.engine] DEBUG: Crawled (200) <GET https://www.amazon.com/Data-Cleaning-Exploration-Machine-Learning/dp/1803241675/ref=sr_1_194?crid=27NSKOKLZAT5L&keywords=machine+learning&qid=1663465028&sprefix=deep+learning%2Caps%2C627&sr=8-194> (referer: https://www.amazon.com/s?k=machine+learning&page=4&crid=27NSKOKLZAT5L&qid=1663463991&sprefix=deep+learning%2Caps%2C627&ref=sr_pg_4)\n",
      "2022-09-18 03:37:20 [scrapy.core.engine] DEBUG: Crawled (200) <GET https://www.amazon.com/Machine-Learning-Engineering-AWS-Production/dp/1803247592/ref=sr_1_192?crid=27NSKOKLZAT5L&keywords=machine+learning&qid=1663465028&sprefix=deep+learning%2Caps%2C627&sr=8-192> (referer: https://www.amazon.com/s?k=machine+learning&page=4&crid=27NSKOKLZAT5L&qid=1663463991&sprefix=deep+learning%2Caps%2C627&ref=sr_pg_4)\n",
      "2022-09-18 03:37:21 [scrapy.core.engine] DEBUG: Crawled (200) <GET https://www.amazon.com/Practical-Machine-Learning-Computer-Vision/dp/1098102363/ref=sr_1_195?crid=27NSKOKLZAT5L&keywords=machine+learning&qid=1663465028&sprefix=deep+learning%2Caps%2C627&sr=8-195> (referer: https://www.amazon.com/s?k=machine+learning&page=4&crid=27NSKOKLZAT5L&qid=1663463991&sprefix=deep+learning%2Caps%2C627&ref=sr_pg_4)\n",
      "2022-09-18 03:37:21 [scrapy.core.engine] DEBUG: Crawled (200) <GET https://www.amazon.com/Getting-Started-Amazon-SageMaker-Studio/dp/1801070156/ref=sr_1_193?crid=27NSKOKLZAT5L&keywords=machine+learning&qid=1663465028&sprefix=deep+learning%2Caps%2C627&sr=8-193> (referer: https://www.amazon.com/s?k=machine+learning&page=4&crid=27NSKOKLZAT5L&qid=1663463991&sprefix=deep+learning%2Caps%2C627&ref=sr_pg_4)\n"
     ]
    },
    {
     "name": "stdout",
     "output_type": "stream",
     "text": [
      "121\n",
      "['\\n            \\n              100%\\n            \\n          '] 5.0 out of 5 stars 7.5 x 1.23 x 9.25 inches\n",
      "122\n",
      "[] None None\n"
     ]
    },
    {
     "name": "stderr",
     "output_type": "stream",
     "text": [
      "2022-09-18 03:37:21 [scrapy.core.engine] DEBUG: Crawled (200) <GET https://www.amazon.com/Python-Machine-Learning-scikit-learn-TensorFlow/dp/1787125939/ref=sr_1_196?crid=27NSKOKLZAT5L&keywords=machine+learning&qid=1663465028&sprefix=deep+learning%2Caps%2C627&sr=8-196> (referer: https://www.amazon.com/s?k=machine+learning&page=4&crid=27NSKOKLZAT5L&qid=1663463991&sprefix=deep+learning%2Caps%2C627&ref=sr_pg_4)\n",
      "2022-09-18 03:37:21 [scrapy.core.engine] DEBUG: Crawled (200) <GET https://www.amazon.com/Instant-Purifier-allergens-filtration-technology/dp/B08YRZ6G1N/ref=sr_1_191?crid=27NSKOKLZAT5L&keywords=machine+learning&qid=1663465028&sprefix=deep+learning%2Caps%2C627&sr=8-191> (referer: https://www.amazon.com/s?k=machine+learning&page=4&crid=27NSKOKLZAT5L&qid=1663463991&sprefix=deep+learning%2Caps%2C627&ref=sr_pg_4)\n",
      "2022-09-18 03:37:21 [scrapy.core.engine] DEBUG: Crawled (200) <GET https://www.amazon.com/Machine-Learning-Science-Blueprints-Finance/dp/1492073059/ref=sr_1_190?crid=27NSKOKLZAT5L&keywords=machine+learning&qid=1663465028&sprefix=deep+learning%2Caps%2C627&sr=8-190> (referer: https://www.amazon.com/s?k=machine+learning&page=4&crid=27NSKOKLZAT5L&qid=1663463991&sprefix=deep+learning%2Caps%2C627&ref=sr_pg_4)\n"
     ]
    },
    {
     "name": "stdout",
     "output_type": "stream",
     "text": [
      "123\n",
      "['\\n            \\n              62%\\n            \\n          '] 4.1 out of 5 stars 6.93 x 1.1 x 9.06 inches\n",
      "124\n",
      "['\\n            \\n              83%\\n            \\n          '] 4.8 out of 5 stars 7.5 x 0.74 x 9.25 inches\n",
      "125\n",
      "['\\n            \\n              69%\\n            \\n          '] 4.5 out of 5 stars 7.5 x 1.41 x 9.25 inches\n"
     ]
    },
    {
     "name": "stderr",
     "output_type": "stream",
     "text": [
      "2022-09-18 03:37:22 [scrapy.core.engine] DEBUG: Crawled (200) <GET https://www.amazon.com/Future-Faster-Than-You-Think/dp/B07TSQF4RX/ref=sr_1_197?crid=27NSKOKLZAT5L&keywords=machine+learning&qid=1663465028&sprefix=deep+learning%2Caps%2C627&sr=8-197> (referer: https://www.amazon.com/s?k=machine+learning&page=4&crid=27NSKOKLZAT5L&qid=1663463991&sprefix=deep+learning%2Caps%2C627&ref=sr_pg_4)\n",
      "2022-09-18 03:37:22 [scrapy.core.engine] DEBUG: Crawled (200) <GET https://www.amazon.com/s?k=machine+learning&page=5&crid=27NSKOKLZAT5L&qid=1663463991&sprefix=deep+learning%2Caps%2C627&ref=sr_pg_5> (referer: https://www.amazon.com/Machine-Learning-Press-Essential-Knowledge/dp/0262529513/ref=sr_1_204?crid=27NSKOKLZAT5L&keywords=machine+learning&qid=1663465028&sprefix=deep+learning%2Caps%2C627&sr=8-204)\n"
     ]
    },
    {
     "name": "stdout",
     "output_type": "stream",
     "text": [
      "126\n",
      "['\\n            \\n              81%\\n            \\n          '] 4.7 out of 5 stars None\n",
      "127\n",
      "['\\n            \\n              66%\\n            \\n          '] 4.3 out of 5 stars 7 x 1 x 9.1 inches\n",
      "128\n",
      "['\\n            \\n              77%\\n            \\n          '] 4.6 out of 5 stars None\n",
      "5\n",
      "Python Programming For Beginners: The Most Updated Bible to Master Python From Scratch in Less Than 7 Minutes a Day | Learn How to Program With Hands-On Exercises\n",
      "Hands-On Julia Programming: An Authoritative Guide to the Production-Ready Systems in Julia (English Edition)\n",
      "Building Big Data Pipelines with Apache Beam: Use a single programming model for both batch and stream data processing\n",
      "System Design Interview – An insider's guide\n",
      "Python Programming Notebook for Computer Programmers & Developers, Python / Data Analysis / For Kids / Machine Learning / Finance: A Notebook for Python Software developers\n",
      "Unpacking AI Ethics: Practical Advances In Artificial Intelligence And Machine Learning\n",
      "Introduction to Online Convex Optimization, second edition (Adaptive Computation and Machine Learning series)\n",
      "Machine Learning in Asset Pricing (Princeton Lectures in Finance, 1)\n",
      "Machine Learning: The New AI (MIT Press Essential Knowledge series)\n",
      "Deep Learning Interviews: Hundreds of fully solved job interview questions from a wide range of key topics in AI.\n",
      "Machine Learning\n",
      "Tensorflow Machine Learning: 3 in 1: Beginner's Guide + Simple and Effective Tips and Tricks + Advanced Guide to Learn Machine Learning with Scikit-Learn, Keras and TensorFlow\n",
      "Deep Learning In Biology And Medicine\n",
      "Supervised Machine Learning for Text Analysis in R (Chapman & Hall/CRC Data Science Series)\n",
      "Hypothesis Testing: An Intuitive Guide for Making Data Driven Decisions\n",
      "Building Machine Learning Powered Applications: Going from Idea to Product\n",
      "Excel 2022: The Complete Illustrative Guide for Beginners to Learning any Fundamental, Formula, Function and Chart in Less than 5 Minutes with Simple and Real-Life Examples\n",
      "Exploring GPT-3: An unofficial first look at the general-purpose language processing API from OpenAI\n",
      "PYTHON: 2 books in 1 : Learn python programming for beginners and machine learning\n",
      "Python machine learning: the complete beginner's guide to deep learning with python. Learn to use Scikit-learn and Pandas\n",
      "Data Science Projects with Python: A case study approach to gaining valuable insights from real data with machine learning, 2nd Edition\n",
      "Linear and Logistic Regression | Machine Learning Online Course | AWS Training & Certification\n",
      "Deep Learning for the Life Sciences: Applying Deep Learning to Genomics, Microscopy, Drug Discovery, and More\n",
      "Python & Machine Learning for Financial Analysis Online Course\n",
      "Data Mining: (The Morgan Kaufmann Series in Data Management Systems)\n",
      "Deep Learning with PyTorch Step-by-Step: A Beginner's Guide: Volume II: Computer Vision\n",
      "Start with Why: How Great Leaders Inspire Everyone to Take Action\n",
      "Machine Learning Refined: Foundations, Algorithms, and Applications\n",
      "Hands-On Unsupervised Learning Using Python: How to Build Applied Machine Learning Solutions from Unlabeled Data\n",
      "Reliable Machine Learning: Applying SRE Principles to ML in Production\n",
      "MACHINE LEARNING SYSTEM DESIGN INTERVIEW: The Complete User Guide for Beginners and Seniors on Machine Learning Design Interview\n",
      "A Primer on Machine Learning in Subsurface Geosciences (SpringerBriefs in Petroleum Geoscience & Engineering)\n",
      "PYTHON FOR DATA ANALYSIS: A PRACTICAL GUIDE YOU CAN’T MISS TO MASTER DATA USING PYTHON. KEY TOOLS FOR DATA SCIENCE, INTRODUCING YOU INTO DATA MANIPULATION, DATA VISUALIZATION, MACHINE LEARNING.\n",
      "Deep Learning for Vision Systems\n",
      "Machine Learning for Beginners: Learn to Build Machine Learning Systems Using Python (English Edition)\n",
      "Python for Data Science: 2 Books in 1. A Practical Beginner’s Guide to learn Python Programming, introducing into Data Analytics, Machine learning, Web Development, with Hands-on Projects\n",
      "Build Your Own AI Investor: Third Edition (AI Investor Series)\n",
      "Practical Deep Learning: A Python-Based Introduction\n",
      "Modeling Change and Uncertainty: Machine Learning and Other Techniques (Textbooks in Mathematics)\n",
      "Leapfrog Learning Collection: The Letter Machine Rescue Team/Let's go to School/ Numberland/ Phonic Farm/ Magnificent Museum of Opposite Words [DVD]\n",
      "Feature Engineering Bookcamp\n",
      "Fundamentals of Data Science Part III: Machine Learning\n",
      "Fundamentals of Machine Learning for Predictive Data Analytics: Algorithms, Worked Examples, and Case Studies (The MIT Press)\n",
      "Feature Engineering for Machine Learning: Principles and Techniques for Data Scientists\n",
      "Introduction to Machine Learning with R: Rigorous Mathematical Analysis\n",
      "Linear Algebra and Learning from Data\n",
      "Machine Learning Methods for Signal, Image and Speech Processing\n",
      "Applied Machine Learning and AI for Engineers: Solve Business Problems That Can't Be Solved Algorithmically\n",
      "An Introduction to Machine Learning\n",
      "TensorFlow Machine Learning Projects: Build 13 real-world projects with advanced numerical computations using the Python ecosystem\n",
      "Quantum Machine Learning with Python: Using Cirq from Google Research and IBM Qiskit\n",
      "Machine Learning Under a Modern Optimization Lens\n",
      "Algorithms to Live By: The Computer Science of Human Decisions\n",
      "Exam Ref 70-774 Perform Cloud Data Science with Azure Machine Learning\n",
      "Business Data Science: Combining Machine Learning and Economics to Optimize, Automate, and Accelerate Business Decisions\n",
      "Automated Machine Learning on AWS: Fast-track the development of your production-ready machine learning applications the AWS way\n",
      "Azure Machine Learning Studio A Complete Guide - 2021 Edition\n",
      "Python Machine Learning Workbook for Beginners: 10 Machine Learning Projects Explained from Scratch\n",
      "Machine Learning for Kids: A Project-Based Introduction to Artificial Intelligence\n",
      "The Pragmatic Programmer: Your Journey To Mastery, 20th Anniversary Edition (2nd Edition)\n"
     ]
    },
    {
     "name": "stderr",
     "output_type": "stream",
     "text": [
      "2022-09-18 03:37:23 [scrapy.core.engine] DEBUG: Crawled (200) <GET https://www.amazon.com/Data-Engineering-Google-Cloud-Platform/dp/1800561326/ref=sr_1_189?crid=27NSKOKLZAT5L&keywords=machine+learning&qid=1663465028&sprefix=deep+learning%2Caps%2C627&sr=8-189> (referer: https://www.amazon.com/s?k=machine+learning&page=4&crid=27NSKOKLZAT5L&qid=1663463991&sprefix=deep+learning%2Caps%2C627&ref=sr_pg_4)\n",
      "2022-09-18 03:37:23 [scrapy.core.engine] DEBUG: Crawled (200) <GET https://www.amazon.com/Certified-Machine-Learning-Study-Guide/dp/1119821002/ref=sr_1_188?crid=27NSKOKLZAT5L&keywords=machine+learning&qid=1663465028&sprefix=deep+learning%2Caps%2C627&sr=8-188> (referer: https://www.amazon.com/s?k=machine+learning&page=4&crid=27NSKOKLZAT5L&qid=1663463991&sprefix=deep+learning%2Caps%2C627&ref=sr_pg_4)\n"
     ]
    },
    {
     "name": "stdout",
     "output_type": "stream",
     "text": [
      "129\n",
      "['\\n            \\n              61%\\n            \\n          '] 4.6 out of 5 stars 7.5 x 1 x 9.25 inches\n"
     ]
    },
    {
     "name": "stderr",
     "output_type": "stream",
     "text": [
      "2022-09-18 03:37:23 [scrapy.extensions.logstats] INFO: Crawled 135 pages (at 135 pages/min), scraped 0 items (at 0 items/min)\n",
      "2022-09-18 03:37:23 [scrapy.downloadermiddlewares.redirect] DEBUG: Redirecting (302) to <GET https://www.amazon.com/Machine-Learning-Master-Aspiring-Scientists/dp/169265957X/ref=sr_1_180_sspa?crid=27NSKOKLZAT5L&keywords=machine+learning&qid=1663465028&sprefix=deep+learning%2Caps%2C627&sr=8-180-spons&psc=1> from <GET https://www.amazon.com/sspa/click?ie=UTF8&spc=MTo2NzAyMjkyOTM3MTY0NzU3OjE2NjM0NjUwMjg6c3BfbXRmOjIwMDAxODkzODkxMjExMTo6MDo6&sp_csd=d2lkZ2V0TmFtZT1zcF9tdGY&url=%2FMachine-Learning-Master-Aspiring-Scientists%2Fdp%2F169265957X%2Fref%3Dsr_1_180_sspa%3Fcrid%3D27NSKOKLZAT5L%26keywords%3Dmachine%2Blearning%26qid%3D1663465028%26sprefix%3Ddeep%2Blearning%252Caps%252C627%26sr%3D8-180-spons%26psc%3D1>\n",
      "2022-09-18 03:37:23 [scrapy.core.engine] DEBUG: Crawled (200) <GET https://www.amazon.com/Reinforcement-Learning-Introduction-Adaptive-Computation/dp/0262039249/ref=sr_1_185?crid=27NSKOKLZAT5L&keywords=machine+learning&qid=1663465028&sprefix=deep+learning%2Caps%2C627&sr=8-185> (referer: https://www.amazon.com/s?k=machine+learning&page=4&crid=27NSKOKLZAT5L&qid=1663463991&sprefix=deep+learning%2Caps%2C627&ref=sr_pg_4)\n",
      "2022-09-18 03:37:23 [scrapy.core.engine] DEBUG: Crawled (200) <GET https://www.amazon.com/How-Smart-Machines-Think-Press/dp/0262537974/ref=sr_1_187?crid=27NSKOKLZAT5L&keywords=machine+learning&qid=1663465028&sprefix=deep+learning%2Caps%2C627&sr=8-187> (referer: https://www.amazon.com/s?k=machine+learning&page=4&crid=27NSKOKLZAT5L&qid=1663463991&sprefix=deep+learning%2Caps%2C627&ref=sr_pg_4)\n"
     ]
    },
    {
     "name": "stdout",
     "output_type": "stream",
     "text": [
      "130\n",
      "['\\n            \\n              91%\\n            \\n          '] 4.9 out of 5 stars 7.3 x 0.8 x 9.1 inches\n"
     ]
    },
    {
     "name": "stderr",
     "output_type": "stream",
     "text": [
      "2022-09-18 03:37:24 [scrapy.downloadermiddlewares.redirect] DEBUG: Redirecting (302) to <GET https://www.amazon.com/Building-Machine-Learning-Systems-Python/dp/9389423619/ref=sr_1_179_sspa?crid=27NSKOKLZAT5L&keywords=machine+learning&qid=1663465028&sprefix=deep+learning%2Caps%2C627&sr=8-179-spons&psc=1> from <GET https://www.amazon.com/sspa/click?ie=UTF8&spc=MTo2NzAyMjkyOTM3MTY0NzU3OjE2NjM0NjUwMjg6c3BfbXRmOjIwMDA3NzY2NTkxNDQ4MTo6MDo6&sp_csd=d2lkZ2V0TmFtZT1zcF9tdGY&url=%2FBuilding-Machine-Learning-Systems-Python%2Fdp%2F9389423619%2Fref%3Dsr_1_179_sspa%3Fcrid%3D27NSKOKLZAT5L%26keywords%3Dmachine%2Blearning%26qid%3D1663465028%26sprefix%3Ddeep%2Blearning%252Caps%252C627%26sr%3D8-179-spons%26psc%3D1>\n",
      "2022-09-18 03:37:24 [scrapy.downloadermiddlewares.redirect] DEBUG: Redirecting (302) to <GET https://www.amazon.com/Machine-Learning-Fundamentals-Beginners-Scientists/dp/1697453856/ref=sr_1_177_sspa?crid=27NSKOKLZAT5L&keywords=machine+learning&qid=1663465028&sprefix=deep+learning%2Caps%2C627&sr=8-177-spons&psc=1> from <GET https://www.amazon.com/sspa/click?ie=UTF8&spc=MTo2NzAyMjkyOTM3MTY0NzU3OjE2NjM0NjUwMjg6c3BfbXRmOjIwMDAyMDEwNTUzNjcxMTo6MDo6&sp_csd=d2lkZ2V0TmFtZT1zcF9tdGY&url=%2FMachine-Learning-Fundamentals-Beginners-Scientists%2Fdp%2F1697453856%2Fref%3Dsr_1_177_sspa%3Fcrid%3D27NSKOKLZAT5L%26keywords%3Dmachine%2Blearning%26qid%3D1663465028%26sprefix%3Ddeep%2Blearning%252Caps%252C627%26sr%3D8-177-spons%26psc%3D1>\n",
      "2022-09-18 03:37:24 [scrapy.downloadermiddlewares.redirect] DEBUG: Redirecting (302) to <GET https://www.amazon.com/Science-Machine-Learning-Interview-Questions/dp/938984584X/ref=sr_1_178_sspa?crid=27NSKOKLZAT5L&keywords=machine+learning&qid=1663465028&sprefix=deep+learning%2Caps%2C627&sr=8-178-spons&psc=1> from <GET https://www.amazon.com/sspa/click?ie=UTF8&spc=MTo2NzAyMjkyOTM3MTY0NzU3OjE2NjM0NjUwMjg6c3BfbXRmOjIwMDA2NTQ3OTA5NDY4MTo6MDo6&sp_csd=d2lkZ2V0TmFtZT1zcF9tdGY&url=%2FScience-Machine-Learning-Interview-Questions%2Fdp%2F938984584X%2Fref%3Dsr_1_178_sspa%3Fcrid%3D27NSKOKLZAT5L%26keywords%3Dmachine%2Blearning%26qid%3D1663465028%26sprefix%3Ddeep%2Blearning%252Caps%252C627%26sr%3D8-178-spons%26psc%3D1>\n",
      "2022-09-18 03:37:24 [scrapy.core.engine] DEBUG: Crawled (200) <GET https://www.amazon.com/Envisioning-Information-Edward-R-Tufte/dp/0961392118/ref=sr_1_186?crid=27NSKOKLZAT5L&keywords=machine+learning&qid=1663465028&sprefix=deep+learning%2Caps%2C627&sr=8-186> (referer: https://www.amazon.com/s?k=machine+learning&page=4&crid=27NSKOKLZAT5L&qid=1663463991&sprefix=deep+learning%2Caps%2C627&ref=sr_pg_4)\n"
     ]
    },
    {
     "name": "stdout",
     "output_type": "stream",
     "text": [
      "131\n",
      "['\\n            \\n              82%\\n            \\n          '] 4.6 out of 5 stars 7.25 x 1.48 x 9.31 inches\n",
      "132\n",
      "['\\n            \\n              59%\\n            \\n          '] 4.2 out of 5 stars 6.06 x 0.79 x 9 inches\n"
     ]
    },
    {
     "name": "stderr",
     "output_type": "stream",
     "text": [
      "2022-09-18 03:37:24 [scrapy.core.engine] DEBUG: Crawled (200) <GET https://www.amazon.com/Kubeflow-Machine-Learning-Lab-Production/dp/1492050121/ref=sr_1_184?crid=27NSKOKLZAT5L&keywords=machine+learning&qid=1663465028&sprefix=deep+learning%2Caps%2C627&sr=8-184> (referer: https://www.amazon.com/s?k=machine+learning&page=4&crid=27NSKOKLZAT5L&qid=1663463991&sprefix=deep+learning%2Caps%2C627&ref=sr_pg_4)\n"
     ]
    },
    {
     "name": "stdout",
     "output_type": "stream",
     "text": [
      "133\n",
      "['\\n            \\n              76%\\n            \\n          '] 4.6 out of 5 stars 8.75 x 0.75 x 10.75 inches\n"
     ]
    },
    {
     "name": "stderr",
     "output_type": "stream",
     "text": [
      "2022-09-18 03:37:24 [scrapy.core.engine] DEBUG: Crawled (200) <GET https://www.amazon.com/Python-Data-Science-Example-Vasiliev/dp/1718502206/ref=sr_1_182?crid=27NSKOKLZAT5L&keywords=machine+learning&qid=1663465028&sprefix=deep+learning%2Caps%2C627&sr=8-182> (referer: https://www.amazon.com/s?k=machine+learning&page=4&crid=27NSKOKLZAT5L&qid=1663463991&sprefix=deep+learning%2Caps%2C627&ref=sr_pg_4)\n",
      "2022-09-18 03:37:25 [scrapy.core.engine] DEBUG: Crawled (200) <GET https://www.amazon.com/Deep-Learning-Coders-fastai-PyTorch/dp/1492045527/ref=sr_1_183?crid=27NSKOKLZAT5L&keywords=machine+learning&qid=1663465028&sprefix=deep+learning%2Caps%2C627&sr=8-183> (referer: https://www.amazon.com/s?k=machine+learning&page=4&crid=27NSKOKLZAT5L&qid=1663463991&sprefix=deep+learning%2Caps%2C627&ref=sr_pg_4)\n"
     ]
    },
    {
     "name": "stdout",
     "output_type": "stream",
     "text": [
      "134\n",
      "['\\n            \\n              55%\\n            \\n          '] 4.1 out of 5 stars 7 x 0.75 x 9 inches\n",
      "135\n",
      "['\\n            \\n              78%\\n            \\n          '] 4.3 out of 5 stars 7 x 0.71 x 9.25 inches\n",
      "136\n",
      "['\\n            \\n              86%\\n            \\n          '] 4.8 out of 5 stars 6.9 x 1.1 x 9.1 inches\n"
     ]
    },
    {
     "name": "stderr",
     "output_type": "stream",
     "text": [
      "2022-09-18 03:37:25 [scrapy.core.engine] DEBUG: Crawled (200) <GET https://www.amazon.com/Complete-Recession-Machine-Learning-Python/dp/B0B94YBTRH/ref=sr_1_175?crid=27NSKOKLZAT5L&keywords=machine+learning&qid=1663465028&sprefix=deep+learning%2Caps%2C627&sr=8-175> (referer: https://www.amazon.com/s?k=machine+learning&page=4&crid=27NSKOKLZAT5L&qid=1663463991&sprefix=deep+learning%2Caps%2C627&ref=sr_pg_4)\n"
     ]
    },
    {
     "name": "stdout",
     "output_type": "stream",
     "text": [
      "137\n",
      "[] None None\n"
     ]
    },
    {
     "name": "stderr",
     "output_type": "stream",
     "text": [
      "2022-09-18 03:37:26 [scrapy.core.engine] DEBUG: Crawled (200) <GET https://www.amazon.com/Mighty-Machines-Learning-Lifting-Towing/dp/B002ZSUEPG/ref=sr_1_181?crid=27NSKOKLZAT5L&keywords=machine+learning&qid=1663465028&sprefix=deep+learning%2Caps%2C627&sr=8-181> (referer: https://www.amazon.com/s?k=machine+learning&page=4&crid=27NSKOKLZAT5L&qid=1663463991&sprefix=deep+learning%2Caps%2C627&ref=sr_pg_4)\n"
     ]
    },
    {
     "name": "stdout",
     "output_type": "stream",
     "text": [
      "138\n",
      "['\\n            \\n              83%\\n            \\n          '] 4.8 out of 5 stars 7.1 x 5.42 x 0.58 inches; 3.2 Ounces\n"
     ]
    },
    {
     "name": "stderr",
     "output_type": "stream",
     "text": [
      "2022-09-18 03:37:26 [scrapy.core.engine] DEBUG: Crawled (200) <GET https://www.amazon.com/Tree-Based-Methods-Statistical-Learning-Chapman/dp/0367532468/ref=sr_1_176?crid=27NSKOKLZAT5L&keywords=machine+learning&qid=1663465028&sprefix=deep+learning%2Caps%2C627&sr=8-176> (referer: https://www.amazon.com/s?k=machine+learning&page=4&crid=27NSKOKLZAT5L&qid=1663463991&sprefix=deep+learning%2Caps%2C627&ref=sr_pg_4)\n",
      "2022-09-18 03:37:26 [scrapy.core.engine] DEBUG: Crawled (200) <GET https://www.amazon.com/Machine-Learning-Artificial-Intelligence-Beginners-ebook/dp/B09BZVNQVD/ref=sr_1_174?crid=27NSKOKLZAT5L&keywords=machine+learning&qid=1663465028&sprefix=deep+learning%2Caps%2C627&sr=8-174> (referer: https://www.amazon.com/s?k=machine+learning&page=4&crid=27NSKOKLZAT5L&qid=1663463991&sprefix=deep+learning%2Caps%2C627&ref=sr_pg_4)\n"
     ]
    },
    {
     "name": "stdout",
     "output_type": "stream",
     "text": [
      "139\n",
      "[] None 6.14 x 0.94 x 9.21 inches\n",
      "140\n",
      "['\\n            \\n              39%\\n            \\n          '] 4.2 out of 5 stars None\n"
     ]
    },
    {
     "name": "stderr",
     "output_type": "stream",
     "text": [
      "2022-09-18 03:37:27 [scrapy.core.engine] DEBUG: Crawled (200) <GET https://www.amazon.com/Pragmatic-Programmer-journey-mastery-Anniversary/dp/0135957052/ref=sr_1_252?crid=27NSKOKLZAT5L&keywords=machine+learning&qid=1663465040&sprefix=deep+learning%2Caps%2C627&sr=8-252> (referer: https://www.amazon.com/s?k=machine+learning&page=5&crid=27NSKOKLZAT5L&qid=1663463991&sprefix=deep+learning%2Caps%2C627&ref=sr_pg_5)\n"
     ]
    },
    {
     "name": "stdout",
     "output_type": "stream",
     "text": [
      "141\n",
      "['\\n            \\n              85%\\n            \\n          '] 4.8 out of 5 stars 7.7 x 1.1 x 9.35 inches\n"
     ]
    },
    {
     "name": "stderr",
     "output_type": "stream",
     "text": [
      "2022-09-18 03:37:30 [scrapy.core.engine] DEBUG: Crawled (200) <GET https://www.amazon.com/Python-Machine-Learning-Workbook-Beginners/dp/1734790172/ref=sr_1_250?crid=27NSKOKLZAT5L&keywords=machine+learning&qid=1663465040&sprefix=deep+learning%2Caps%2C627&sr=8-250> (referer: https://www.amazon.com/s?k=machine+learning&page=5&crid=27NSKOKLZAT5L&qid=1663463991&sprefix=deep+learning%2Caps%2C627&ref=sr_pg_5)\n",
      "2022-09-18 03:37:30 [scrapy.core.engine] DEBUG: Crawled (200) <GET https://www.amazon.com/Machine-Learning-Master-Aspiring-Scientists/dp/169265957X/ref=sr_1_180_sspa?crid=27NSKOKLZAT5L&keywords=machine+learning&qid=1663465028&sprefix=deep+learning%2Caps%2C627&sr=8-180-spons&psc=1> (referer: https://www.amazon.com/s?k=machine+learning&page=4&crid=27NSKOKLZAT5L&qid=1663463991&sprefix=deep+learning%2Caps%2C627&ref=sr_pg_4)\n",
      "2022-09-18 03:37:30 [scrapy.core.engine] DEBUG: Crawled (200) <GET https://www.amazon.com/Machine-Learning-Kids-Project-Based-Introduction/dp/1718500564/ref=sr_1_251?crid=27NSKOKLZAT5L&keywords=machine+learning&qid=1663465040&sprefix=deep+learning%2Caps%2C627&sr=8-251> (referer: https://www.amazon.com/s?k=machine+learning&page=5&crid=27NSKOKLZAT5L&qid=1663463991&sprefix=deep+learning%2Caps%2C627&ref=sr_pg_5)\n",
      "2022-09-18 03:37:30 [scrapy.core.engine] DEBUG: Crawled (200) <GET https://www.amazon.com/Azure-Machine-Learning-Studio-Complete/dp/1867449730/ref=sr_1_249?crid=27NSKOKLZAT5L&keywords=machine+learning&qid=1663465040&sprefix=deep+learning%2Caps%2C627&sr=8-249> (referer: https://www.amazon.com/s?k=machine+learning&page=5&crid=27NSKOKLZAT5L&qid=1663463991&sprefix=deep+learning%2Caps%2C627&ref=sr_pg_5)\n",
      "2022-09-18 03:37:30 [scrapy.core.engine] DEBUG: Crawled (200) <GET https://www.amazon.com/Science-Machine-Learning-Interview-Questions/dp/938984584X/ref=sr_1_178_sspa?crid=27NSKOKLZAT5L&keywords=machine+learning&qid=1663465028&sprefix=deep+learning%2Caps%2C627&sr=8-178-spons&psc=1> (referer: https://www.amazon.com/s?k=machine+learning&page=4&crid=27NSKOKLZAT5L&qid=1663463991&sprefix=deep+learning%2Caps%2C627&ref=sr_pg_4)\n",
      "2022-09-18 03:37:30 [scrapy.core.engine] DEBUG: Crawled (200) <GET https://www.amazon.com/Machine-Learning-Fundamentals-Beginners-Scientists/dp/1697453856/ref=sr_1_177_sspa?crid=27NSKOKLZAT5L&keywords=machine+learning&qid=1663465028&sprefix=deep+learning%2Caps%2C627&sr=8-177-spons&psc=1> (referer: https://www.amazon.com/s?k=machine+learning&page=4&crid=27NSKOKLZAT5L&qid=1663463991&sprefix=deep+learning%2Caps%2C627&ref=sr_pg_4)\n",
      "2022-09-18 03:37:30 [scrapy.core.engine] DEBUG: Crawled (200) <GET https://www.amazon.com/Automated-Machine-Learning-AWS-production-ready/dp/1801811822/ref=sr_1_248?crid=27NSKOKLZAT5L&keywords=machine+learning&qid=1663465040&sprefix=deep+learning%2Caps%2C627&sr=8-248> (referer: https://www.amazon.com/s?k=machine+learning&page=5&crid=27NSKOKLZAT5L&qid=1663463991&sprefix=deep+learning%2Caps%2C627&ref=sr_pg_5)\n"
     ]
    },
    {
     "name": "stdout",
     "output_type": "stream",
     "text": [
      "start_new_page\n"
     ]
    },
    {
     "name": "stderr",
     "output_type": "stream",
     "text": [
      "2022-09-18 03:37:30 [scrapy.core.engine] DEBUG: Crawled (200) <GET https://www.amazon.com/Building-Machine-Learning-Systems-Python/dp/9389423619/ref=sr_1_179_sspa?crid=27NSKOKLZAT5L&keywords=machine+learning&qid=1663465028&sprefix=deep+learning%2Caps%2C627&sr=8-179-spons&psc=1> (referer: https://www.amazon.com/s?k=machine+learning&page=4&crid=27NSKOKLZAT5L&qid=1663463991&sprefix=deep+learning%2Caps%2C627&ref=sr_pg_4)\n"
     ]
    },
    {
     "name": "stdout",
     "output_type": "stream",
     "text": [
      "142\n",
      "['\\n            \\n              73%\\n            \\n          '] 4.6 out of 5 stars 6 x 0.64 x 9 inches\n",
      "143\n",
      "['\\n            \\n              22%\\n            \\n          '] 3.3 out of 5 stars 6 x 0.15 x 9 inches\n",
      "144\n",
      "['\\n            \\n              94%\\n            \\n          '] 4.8 out of 5 stars 7 x 0.71 x 9.31 inches\n",
      "145\n",
      "[] None 6 x 0.79 x 9 inches\n",
      "146\n",
      "['\\n            \\n              53%\\n            \\n          '] 4.3 out of 5 stars 6 x 0.3 x 9 inches\n",
      "147\n",
      "['\\n            \\n              36%\\n            \\n          '] 3.1 out of 5 stars 6 x 0.4 x 9 inches\n",
      "148\n",
      "['\\n            \\n              82%\\n            \\n          '] 4.8 out of 5 stars 7.5 x 0.95 x 9.25 inches\n",
      "149\n",
      "['\\n            \\n              100%\\n            \\n          '] 5.0 out of 5 stars 6 x 0.31 x 9 inches\n"
     ]
    },
    {
     "name": "stderr",
     "output_type": "stream",
     "text": [
      "2022-09-18 03:37:32 [scrapy.core.engine] DEBUG: Crawled (200) <GET https://www.amazon.com/Quantum-Machine-Learning-Python-Research/dp/1484265211/ref=sr_1_243?crid=27NSKOKLZAT5L&keywords=machine+learning&qid=1663465040&sprefix=deep+learning%2Caps%2C627&sr=8-243> (referer: https://www.amazon.com/s?k=machine+learning&page=5&crid=27NSKOKLZAT5L&qid=1663463991&sprefix=deep+learning%2Caps%2C627&ref=sr_pg_5)\n",
      "2022-09-18 03:37:33 [scrapy.core.engine] DEBUG: Crawled (200) <GET https://www.amazon.com/TensorFlow-Machine-Learning-Projects-computations/dp/1789132215/ref=sr_1_242?crid=27NSKOKLZAT5L&keywords=machine+learning&qid=1663465040&sprefix=deep+learning%2Caps%2C627&sr=8-242> (referer: https://www.amazon.com/s?k=machine+learning&page=5&crid=27NSKOKLZAT5L&qid=1663463991&sprefix=deep+learning%2Caps%2C627&ref=sr_pg_5)\n",
      "2022-09-18 03:37:33 [scrapy.core.engine] DEBUG: Crawled (200) <GET https://www.amazon.com/Applied-Machine-Learning-Engineers-Algorithmically/dp/1492098051/ref=sr_1_240?crid=27NSKOKLZAT5L&keywords=machine+learning&qid=1663465040&sprefix=deep+learning%2Caps%2C627&sr=8-240> (referer: https://www.amazon.com/s?k=machine+learning&page=5&crid=27NSKOKLZAT5L&qid=1663463991&sprefix=deep+learning%2Caps%2C627&ref=sr_pg_5)\n",
      "2022-09-18 03:37:33 [scrapy.core.engine] DEBUG: Crawled (200) <GET https://www.amazon.com/An-Introduction-to-Machine-Learning/dp/3030819345/ref=sr_1_241?crid=27NSKOKLZAT5L&keywords=machine+learning&qid=1663465040&sprefix=deep+learning%2Caps%2C627&sr=8-241> (referer: https://www.amazon.com/s?k=machine+learning&page=5&crid=27NSKOKLZAT5L&qid=1663463991&sprefix=deep+learning%2Caps%2C627&ref=sr_pg_5)\n",
      "2022-09-18 03:37:33 [scrapy.core.engine] DEBUG: Crawled (200) <GET https://www.amazon.com/70-774-Perform-Science-Machine-Learning-ebook/dp/B07B263ZVP/ref=sr_1_246?crid=27NSKOKLZAT5L&keywords=machine+learning&qid=1663465040&sprefix=deep+learning%2Caps%2C627&sr=8-246> (referer: https://www.amazon.com/s?k=machine+learning&page=5&crid=27NSKOKLZAT5L&qid=1663463991&sprefix=deep+learning%2Caps%2C627&ref=sr_pg_5)\n",
      "2022-09-18 03:37:33 [scrapy.core.engine] DEBUG: Crawled (200) <GET https://www.amazon.com/Machine-Learning-Under-Modern-Optimization/dp/1733788506/ref=sr_1_244?crid=27NSKOKLZAT5L&keywords=machine+learning&qid=1663465040&sprefix=deep+learning%2Caps%2C627&sr=8-244> (referer: https://www.amazon.com/s?k=machine+learning&page=5&crid=27NSKOKLZAT5L&qid=1663463991&sprefix=deep+learning%2Caps%2C627&ref=sr_pg_5)\n"
     ]
    },
    {
     "name": "stdout",
     "output_type": "stream",
     "text": [
      "150\n",
      "['\\n            \\n              53%\\n            \\n          '] 3.9 out of 5 stars 7.01 x 0.87 x 10 inches\n",
      "151\n",
      "['\\n            \\n              56%\\n            \\n          '] 4.0 out of 5 stars 7.5 x 0.73 x 9.25 inches\n"
     ]
    },
    {
     "name": "stderr",
     "output_type": "stream",
     "text": [
      "2022-09-18 03:37:33 [scrapy.core.engine] DEBUG: Crawled (200) <GET https://www.amazon.com/Algorithms-to-Live-By-audiobook/dp/B01D24NAL6/ref=sr_1_245?crid=27NSKOKLZAT5L&keywords=machine+learning&qid=1663465040&sprefix=deep+learning%2Caps%2C627&sr=8-245> (referer: https://www.amazon.com/s?k=machine+learning&page=5&crid=27NSKOKLZAT5L&qid=1663463991&sprefix=deep+learning%2Caps%2C627&ref=sr_pg_5)\n"
     ]
    },
    {
     "name": "stdout",
     "output_type": "stream",
     "text": [
      "152\n",
      "[] None 7 x 0.2 x 9 inches\n",
      "153\n",
      "[] None 6.5 x 1.25 x 9.75 inches\n",
      "154\n",
      "['\\n            \\n              54%\\n            \\n          '] 4.1 out of 5 stars None\n",
      "155\n",
      "['\\n            \\n              100%\\n            \\n          '] 5.0 out of 5 stars None\n"
     ]
    },
    {
     "name": "stderr",
     "output_type": "stream",
     "text": [
      "2022-09-18 03:37:34 [scrapy.core.engine] DEBUG: Crawled (200) <GET https://www.amazon.com/s?k=machine+learning&page=6&crid=27NSKOKLZAT5L&qid=1663463991&sprefix=deep+learning%2Caps%2C627&ref=sr_pg_6> (referer: https://www.amazon.com/Pragmatic-Programmer-journey-mastery-Anniversary/dp/0135957052/ref=sr_1_252?crid=27NSKOKLZAT5L&keywords=machine+learning&qid=1663465040&sprefix=deep+learning%2Caps%2C627&sr=8-252)\n"
     ]
    },
    {
     "name": "stdout",
     "output_type": "stream",
     "text": [
      "156\n",
      "['\\n            \\n              70%\\n            \\n          '] 4.5 out of 5 stars None\n",
      "6\n",
      "Hands-on Programmatic In-house Digital Advertising: Learn Data Design, AI Implementation, Bidding Strategies, and Strategic Thinking (English Edition)\n",
      "Effective Data Science Infrastructure: How to make data scientists productive\n",
      "Text Analytics with Python: A Practitioner's Guide to Natural Language Processing\n",
      "Programming for Data Science: 4 Books in 1. The Complete Beginners Guide you Can’t Miss to Master the Era of the Data Economy, using Python, Java, SQL Coding\n",
      "Automated Machine Learning in Action\n",
      "Machine Learning (McGraw-Hill International Editions Computer Science Series)\n",
      "An Introduction to Machine Learning\n",
      "Tree-based Machine Learning Algorithms: Decision Trees, Random Forests, and Boosting\n",
      "Machine Learning for Hackers: Case Studies and Algorithms to Get You Started\n",
      "Introduction to Data Mining and Analytics\n",
      "Apple MacBook Air MJVM2LL/A 11.6-Inch 128GB Laptop (Renewed)\n",
      "Algorithms to Live By: The Computer Science of Human Decisions\n",
      "Introduction to Deep Learning (The MIT Press)\n",
      "Machine Learning: An Algorithmic Perspective (Chapman & Hall/CRC Machine Learning & Pattern Recognition)\n",
      "Google BigQuery: The Definitive Guide: Data Warehousing, Analytics, and Machine Learning at Scale\n",
      "The Pragmatic Programmer: Your Journey To Mastery, 20th Anniversary Edition (2nd Edition)\n",
      "Time Series Forecasting using Deep Learning: Combining PyTorch, RNN, TCN, and Deep Neural Network Models to Provide Production-Ready Prediction Solutions (English Edition)\n",
      "Machine Learning for Streaming Data with Python: Rapidly build practical online machine learning solutions using River and other top key frameworks\n",
      "Python Machine Learning: A Step by Step Beginner’s Guide to Learn Machine Learning Using Python (Programming Languages for Beginners)\n",
      "SQL FOR BEGINNERS: THE FUNDAMENTAL LANGUAGE FOR DATA SCIENCE TO MASTERING DATABASES. AN ESSENTIAL GUIDE YOU CAN’T MISS TO LEARN SQL IN 7 DAYS OR LESS, WITH HANDS-ON PROJECTS.\n",
      "IPython Interactive Computing and Visualization Cookbook: Over 100 hands-on recipes to sharpen your skills in high-performance numerical computing and ... in the Jupyter Notebook, 2nd Edition\n",
      "Statistics, Data Mining, and Machine Learning in Astronomy: A Practical Python Guide for the Analysis of Survey Data, Updated Edition (Princeton Series in Modern Observational Astronomy, 13)\n",
      "Applied Machine Learning Explainability Techniques: Make ML models explainable and trustworthy for practical applications using LIME, SHAP, and more\n",
      "Machine Learning in Business: An Introduction to the World of Data Science\n",
      "A First Course in Machine Learning (Chapman & Hall/CRC Machine Learning & Pattern Recognition)\n",
      "Time Series Forecasting using Deep Learning: Combining PyTorch, RNN, TCN, and Deep Neural Network Models to Provide Production-Ready Prediction Solutions (English Edition)\n",
      "Machine Learning at Scale with H2O: A practical guide to building and deploying machine learning models on enterprise systems\n",
      "De-Mystifying Math and Stats for Machine Learning: Learn from an application perspective rather than the theoretical perspective\n",
      "Artificial Intelligence and Machine Learning for Business: A No-Nonsense Guide to Data Driven Technologies\n",
      "Machine Learning: Step-by-Step Guide To Implement Machine Learning Algorithms with Python (Artificial Intelligence Book 2)\n",
      "Random Matrix Methods for Machine Learning\n",
      "Data Analysis from Scratch with Python: The Complete Beginner's Guide for Machine Learning Techniques and A Step By Step NLP using Python Guide To Expert (Including Programming Interview Questions)\n",
      "Grokking Machine Learning\n",
      "Mastering Azure Machine Learning: Execute large-scale end-to-end machine learning with Azure, 2nd Edition\n",
      "Excel 2022: The Ultimate all-in-one crash course for beginners to master Everything of Excel 2022. The Step-by-Step Advanced skills workbook on how to create & manipulate Power Excel Formulas & Grids\n",
      "Practical Machine Learning with Spark: Uncover Apache Spark’s Scalable Performance with High-Quality Algorithms Across NLP, Computer Vision and ML(English Edition)\n",
      "Data Mining and Machine Learning: Fundamental Concepts and Algorithms\n",
      "Think Bayes: Bayesian Statistics in Python (O'reilly)\n",
      "Deep Learning: Convolutional Neural Networks with Tensorflow 2 Online Course\n",
      "Introduction To Machine Learning In Quantitative Finance, An (Advanced Textbooks In Mathematics)\n",
      "Machine Learning: The Ultimate Guide for Beginners to Programming and Deep Learning With Python.\n",
      "Data Science, Analytics and Machine Learning with R\n",
      "Neural Networks And Learning Machines\n",
      "Data Science Interview: Prep for SQL, Panda, Python, R Language, Machine Learning, DBMS and RDBMS – And More – The Full Data Scientist Interview Handbook\n",
      "Bayesian Optimization\n",
      "AWS DeepRacer: Driven by Reinforcement Learning | Machine Learning Online Course | AWS Training & Certification\n",
      "Welcome to the Learning Zone - an Introduction to the Learning Machine (Zygon)\n",
      "Graph Neural Networks: Foundations, Frontiers, and Applications\n",
      "Bayesian Reasoning and Machine Learning\n",
      "Machine Learning With Boosting: A Beginner's Guide\n",
      "Data Mining: Concepts and Techniques (The Morgan Kaufmann Series in Data Management Systems)\n",
      "Adaptive Machine Learning Algorithms with Python: Solve Data Analytics and Machine Learning Problems on Edge Devices\n",
      "The Machine Learning Workshop: Get ready to develop your own high-performance machine learning algorithms with scikit-learn, 2nd Edition\n",
      "Ethical Machines: Your Concise Guide to Totally Unbiased, Transparent, and Respectful AI\n",
      "Computer Vision with GluonCV | Machine Learning Online Course | AWS Training & Certification\n",
      "Distributed Machine Learning Patterns\n",
      "Predictive Analytics: Data Mining, Machine Learning and Data Science for Practitioners (Pearson Business Analytics Series)\n",
      "Mathematics for Machine Technology\n",
      "Machine Learning and Security: Protecting Systems with Data and Algorithms\n",
      "Text Data Mining\n"
     ]
    },
    {
     "name": "stderr",
     "output_type": "stream",
     "text": [
      "2022-09-18 03:37:34 [scrapy.core.engine] DEBUG: Crawled (200) <GET https://www.amazon.com/Machine-Learning-Methods-Signal-Processing-ebook/dp/B0BCYNT434/ref=sr_1_239?crid=27NSKOKLZAT5L&keywords=machine+learning&qid=1663465040&sprefix=deep+learning%2Caps%2C627&sr=8-239> (referer: https://www.amazon.com/s?k=machine+learning&page=5&crid=27NSKOKLZAT5L&qid=1663463991&sprefix=deep+learning%2Caps%2C627&ref=sr_pg_5)\n"
     ]
    },
    {
     "name": "stdout",
     "output_type": "stream",
     "text": [
      "157\n",
      "[] None None\n"
     ]
    },
    {
     "name": "stderr",
     "output_type": "stream",
     "text": [
      "2022-09-18 03:37:35 [scrapy.core.engine] DEBUG: Crawled (200) <GET https://www.amazon.com/Business-Data-Science-Combining-Accelerate/dp/1260452778/ref=sr_1_247?crid=27NSKOKLZAT5L&keywords=machine+learning&qid=1663465040&sprefix=deep+learning%2Caps%2C627&sr=8-247> (referer: https://www.amazon.com/s?k=machine+learning&page=5&crid=27NSKOKLZAT5L&qid=1663463991&sprefix=deep+learning%2Caps%2C627&ref=sr_pg_5)\n",
      "2022-09-18 03:37:35 [scrapy.core.engine] DEBUG: Crawled (200) <GET https://www.amazon.com/Linear-Algebra-Learning-Gilbert-Strang/dp/0692196382/ref=sr_1_238?crid=27NSKOKLZAT5L&keywords=machine+learning&qid=1663465040&sprefix=deep+learning%2Caps%2C627&sr=8-238> (referer: https://www.amazon.com/s?k=machine+learning&page=5&crid=27NSKOKLZAT5L&qid=1663463991&sprefix=deep+learning%2Caps%2C627&ref=sr_pg_5)\n",
      "2022-09-18 03:37:35 [scrapy.core.engine] DEBUG: Crawled (200) <GET https://www.amazon.com/Introduction-Machine-Learning-Rigorous-Mathematical/dp/1491976446/ref=sr_1_237?crid=27NSKOKLZAT5L&keywords=machine+learning&qid=1663465040&sprefix=deep+learning%2Caps%2C627&sr=8-237> (referer: https://www.amazon.com/s?k=machine+learning&page=5&crid=27NSKOKLZAT5L&qid=1663463991&sprefix=deep+learning%2Caps%2C627&ref=sr_pg_5)\n"
     ]
    },
    {
     "name": "stdout",
     "output_type": "stream",
     "text": [
      "158\n",
      "['\\n            \\n              76%\\n            \\n          '] 4.5 out of 5 stars 1.19 x 7.38 x 9.25 inches\n"
     ]
    },
    {
     "name": "stderr",
     "output_type": "stream",
     "text": [
      "2022-09-18 03:37:35 [scrapy.core.engine] DEBUG: Crawled (200) <GET https://www.amazon.com/Feature-Engineering-Machine-Learning-Principles/dp/1491953241/ref=sr_1_236?crid=27NSKOKLZAT5L&keywords=machine+learning&qid=1663465040&sprefix=deep+learning%2Caps%2C627&sr=8-236> (referer: https://www.amazon.com/s?k=machine+learning&page=5&crid=27NSKOKLZAT5L&qid=1663463991&sprefix=deep+learning%2Caps%2C627&ref=sr_pg_5)\n",
      "2022-09-18 03:37:35 [scrapy.core.engine] DEBUG: Crawled (200) <GET https://www.amazon.com/Fundamentals-Machine-Learning-Predictive-Analytics/dp/0262029448/ref=sr_1_235?crid=27NSKOKLZAT5L&keywords=machine+learning&qid=1663465040&sprefix=deep+learning%2Caps%2C627&sr=8-235> (referer: https://www.amazon.com/s?k=machine+learning&page=5&crid=27NSKOKLZAT5L&qid=1663463991&sprefix=deep+learning%2Caps%2C627&ref=sr_pg_5)\n"
     ]
    },
    {
     "name": "stdout",
     "output_type": "stream",
     "text": [
      "159\n",
      "['\\n            \\n              82%\\n            \\n          '] 4.6 out of 5 stars 7.72 x 0.98 x 9.53 inches\n",
      "160\n",
      "['\\n            \\n              59%\\n            \\n          '] 4.1 out of 5 stars 7 x 0.48 x 9.19 inches\n"
     ]
    },
    {
     "name": "stderr",
     "output_type": "stream",
     "text": [
      "2022-09-18 03:37:36 [scrapy.core.engine] DEBUG: Crawled (200) <GET https://www.amazon.com/Fundamentals-Data-Science-Part-III/dp/1941043135/ref=sr_1_234?crid=27NSKOKLZAT5L&keywords=machine+learning&qid=1663465040&sprefix=deep+learning%2Caps%2C627&sr=8-234> (referer: https://www.amazon.com/s?k=machine+learning&page=5&crid=27NSKOKLZAT5L&qid=1663463991&sprefix=deep+learning%2Caps%2C627&ref=sr_pg_5)\n",
      "2022-09-18 03:37:36 [scrapy.downloadermiddlewares.redirect] DEBUG: Redirecting (302) to <GET https://www.amazon.com/Python-Data-Science-Programming-Hands/dp/B08M8DHZ34/ref=sr_1_228_sspa?crid=27NSKOKLZAT5L&keywords=machine+learning&qid=1663465040&sprefix=deep+learning%2Caps%2C627&sr=8-228-spons&psc=1> from <GET https://www.amazon.com/sspa/click?ie=UTF8&spc=MTo1MzAxOTQ0NzI0MTIzNzkxOjE2NjM0NjUwNDA6c3BfbXRmOjIwMDA1NDM3NTcyODUxMTo6MDo6&sp_csd=d2lkZ2V0TmFtZT1zcF9tdGY&url=%2FPython-Data-Science-Programming-Hands%2Fdp%2FB08M8DHZ34%2Fref%3Dsr_1_228_sspa%3Fcrid%3D27NSKOKLZAT5L%26keywords%3Dmachine%2Blearning%26qid%3D1663465040%26sprefix%3Ddeep%2Blearning%252Caps%252C627%26sr%3D8-228-spons%26psc%3D1>\n",
      "2022-09-18 03:37:36 [scrapy.downloadermiddlewares.redirect] DEBUG: Redirecting (302) to <GET https://www.amazon.com/Machine-Learning-Beginners-Systems-English/dp/9389845424/ref=sr_1_227_sspa?crid=27NSKOKLZAT5L&keywords=machine+learning&qid=1663465040&sprefix=deep+learning%2Caps%2C627&sr=8-227-spons&psc=1> from <GET https://www.amazon.com/sspa/click?ie=UTF8&spc=MTo1MzAxOTQ0NzI0MTIzNzkxOjE2NjM0NjUwNDA6c3BfbXRmOjIwMDA2NTQ3OTA5NDc4MTo6MDo6&sp_csd=d2lkZ2V0TmFtZT1zcF9tdGY&url=%2FMachine-Learning-Beginners-Systems-English%2Fdp%2F9389845424%2Fref%3Dsr_1_227_sspa%3Fcrid%3D27NSKOKLZAT5L%26keywords%3Dmachine%2Blearning%26qid%3D1663465040%26sprefix%3Ddeep%2Blearning%252Caps%252C627%26sr%3D8-227-spons%26psc%3D1>\n",
      "2022-09-18 03:37:36 [scrapy.downloadermiddlewares.redirect] DEBUG: Redirecting (302) to <GET https://www.amazon.com/Learning-Vision-Systems-Mohamed-Elgendy/dp/1617296198/ref=sr_1_226_sspa?crid=27NSKOKLZAT5L&keywords=machine+learning&qid=1663465040&sprefix=deep+learning%2Caps%2C627&sr=8-226-spons&psc=1> from <GET https://www.amazon.com/sspa/click?ie=UTF8&spc=MTo1MzAxOTQ0NzI0MTIzNzkxOjE2NjM0NjUwNDA6c3BfbXRmOjIwMDA3NDM1NjY2NzA5ODo6MDo6&sp_csd=d2lkZ2V0TmFtZT1zcF9tdGY&url=%2FLearning-Vision-Systems-Mohamed-Elgendy%2Fdp%2F1617296198%2Fref%3Dsr_1_226_sspa%3Fcrid%3D27NSKOKLZAT5L%26keywords%3Dmachine%2Blearning%26qid%3D1663465040%26sprefix%3Ddeep%2Blearning%252Caps%252C627%26sr%3D8-226-spons%26psc%3D1>\n",
      "2022-09-18 03:37:36 [scrapy.core.engine] DEBUG: Crawled (200) <GET https://www.amazon.com/Feature-Engineering-Bookcamp-Sinan-Ozdemir/dp/1617299790/ref=sr_1_233?crid=27NSKOKLZAT5L&keywords=machine+learning&qid=1663465040&sprefix=deep+learning%2Caps%2C627&sr=8-233> (referer: https://www.amazon.com/s?k=machine+learning&page=5&crid=27NSKOKLZAT5L&qid=1663463991&sprefix=deep+learning%2Caps%2C627&ref=sr_pg_5)\n"
     ]
    },
    {
     "name": "stdout",
     "output_type": "stream",
     "text": [
      "161\n",
      "['\\n            \\n              65%\\n            \\n          '] 4.5 out of 5 stars 7 x 0.4 x 9.1 inches\n",
      "162\n",
      "['\\n            \\n              79%\\n            \\n          '] 4.6 out of 5 stars 7 x 1.13 x 9 inches\n"
     ]
    },
    {
     "name": "stderr",
     "output_type": "stream",
     "text": [
      "2022-09-18 03:37:36 [scrapy.core.engine] DEBUG: Crawled (200) <GET https://www.amazon.com/Leapfrog-10-DVD-Mega-Pack-Numberland/dp/B07J2RN4KG/ref=sr_1_232?crid=27NSKOKLZAT5L&keywords=machine+learning&qid=1663465040&sprefix=deep+learning%2Caps%2C627&sr=8-232> (referer: https://www.amazon.com/s?k=machine+learning&page=5&crid=27NSKOKLZAT5L&qid=1663463991&sprefix=deep+learning%2Caps%2C627&ref=sr_pg_5)\n",
      "2022-09-18 03:37:36 [scrapy.downloadermiddlewares.redirect] DEBUG: Redirecting (302) to <GET https://www.amazon.com/PYTHON-DATA-ANALYSIS-MANIPULATION-VISUALIZATION/dp/B08K3WF1PS/ref=sr_1_225_sspa?crid=27NSKOKLZAT5L&keywords=machine+learning&qid=1663465040&sprefix=deep+learning%2Caps%2C627&sr=8-225-spons&psc=1> from <GET https://www.amazon.com/sspa/click?ie=UTF8&spc=MTo1MzAxOTQ0NzI0MTIzNzkxOjE2NjM0NjUwNDA6c3BfbXRmOjIwMDA0ODE2NTgyODUxMTo6MDo6&sp_csd=d2lkZ2V0TmFtZT1zcF9tdGY&url=%2FPYTHON-DATA-ANALYSIS-MANIPULATION-VISUALIZATION%2Fdp%2FB08K3WF1PS%2Fref%3Dsr_1_225_sspa%3Fcrid%3D27NSKOKLZAT5L%26keywords%3Dmachine%2Blearning%26qid%3D1663465040%26sprefix%3Ddeep%2Blearning%252Caps%252C627%26sr%3D8-225-spons%26psc%3D1>\n"
     ]
    },
    {
     "name": "stdout",
     "output_type": "stream",
     "text": [
      "163\n",
      "[] None 6.14 x 0.66 x 9.21 inches\n",
      "164\n",
      "[] None 7.38 x 0.7 x 9.25 inches\n",
      "165\n",
      "['\\n            \\n              90%\\n            \\n          '] 4.9 out of 5 stars 7.72 x 5.39 x 3.94 inches; 1.27 Pounds\n"
     ]
    },
    {
     "name": "stderr",
     "output_type": "stream",
     "text": [
      "2022-09-18 03:37:37 [scrapy.core.engine] DEBUG: Crawled (200) <GET https://www.amazon.com/Modeling-Change-Uncertainty-Techniques-Mathematics-ebook/dp/B0B1S3GPXV/ref=sr_1_231?crid=27NSKOKLZAT5L&keywords=machine+learning&qid=1663465040&sprefix=deep+learning%2Caps%2C627&sr=8-231> (referer: https://www.amazon.com/s?k=machine+learning&page=5&crid=27NSKOKLZAT5L&qid=1663463991&sprefix=deep+learning%2Caps%2C627&ref=sr_pg_5)\n",
      "2022-09-18 03:37:38 [scrapy.core.engine] DEBUG: Crawled (200) <GET https://www.amazon.com/Build-Your-Own-AI-Investor/dp/1739661516/ref=sr_1_229?crid=27NSKOKLZAT5L&keywords=machine+learning&qid=1663465040&sprefix=deep+learning%2Caps%2C627&sr=8-229> (referer: https://www.amazon.com/s?k=machine+learning&page=5&crid=27NSKOKLZAT5L&qid=1663463991&sprefix=deep+learning%2Caps%2C627&ref=sr_pg_5)\n",
      "2022-09-18 03:37:38 [scrapy.core.engine] DEBUG: Crawled (200) <GET https://www.amazon.com/Deep-Learning-Beginners-Python-Based-Introduction/dp/1718500742/ref=sr_1_230?crid=27NSKOKLZAT5L&keywords=machine+learning&qid=1663465040&sprefix=deep+learning%2Caps%2C627&sr=8-230> (referer: https://www.amazon.com/s?k=machine+learning&page=5&crid=27NSKOKLZAT5L&qid=1663463991&sprefix=deep+learning%2Caps%2C627&ref=sr_pg_5)\n"
     ]
    },
    {
     "name": "stdout",
     "output_type": "stream",
     "text": [
      "166\n",
      "[] None None\n"
     ]
    },
    {
     "name": "stderr",
     "output_type": "stream",
     "text": [
      "2022-09-18 03:37:38 [scrapy.core.engine] DEBUG: Crawled (200) <GET https://www.amazon.com/Computer-GluonCV-Learning-Training-Certification/dp/B09HSNB1G1/ref=sr_1_295?crid=27NSKOKLZAT5L&keywords=machine+learning&qid=1663465052&sprefix=deep+learning%2Caps%2C627&sr=8-295> (referer: https://www.amazon.com/s?k=machine+learning&page=6&crid=27NSKOKLZAT5L&qid=1663463991&sprefix=deep+learning%2Caps%2C627&ref=sr_pg_6)\n",
      "2022-09-18 03:37:38 [scrapy.core.engine] DEBUG: Crawled (200) <GET https://www.amazon.com/Text-Data-Mining-Chengqing-Zong/dp/9811600996/ref=sr_1_300?crid=27NSKOKLZAT5L&keywords=machine+learning&qid=1663465052&sprefix=deep+learning%2Caps%2C627&sr=8-300> (referer: https://www.amazon.com/s?k=machine+learning&page=6&crid=27NSKOKLZAT5L&qid=1663463991&sprefix=deep+learning%2Caps%2C627&ref=sr_pg_6)\n"
     ]
    },
    {
     "name": "stdout",
     "output_type": "stream",
     "text": [
      "167\n",
      "['\\n            \\n              62%\\n            \\n          '] 4.2 out of 5 stars 6.69 x 0.75 x 9.61 inches\n",
      "168\n",
      "['\\n            \\n              85%\\n            \\n          '] 4.8 out of 5 stars 7.06 x 1.13 x 9.25 inches\n",
      "169\n",
      "[] 4.7 out of 5 stars None\n",
      "170\n",
      "['\\n            \\n              100%\\n            \\n          '] 5.0 out of 5 stars 7.8 x 0.9 x 9.4 inches\n"
     ]
    },
    {
     "name": "stderr",
     "output_type": "stream",
     "text": [
      "2022-09-18 03:37:42 [scrapy.core.engine] DEBUG: Crawled (200) <GET https://www.amazon.com/Mathematics-Machine-Technology-John-Peterson/dp/1337798312/ref=sr_1_298?crid=27NSKOKLZAT5L&keywords=machine+learning&qid=1663465052&sprefix=deep+learning%2Caps%2C627&sr=8-298> (referer: https://www.amazon.com/s?k=machine+learning&page=6&crid=27NSKOKLZAT5L&qid=1663463991&sprefix=deep+learning%2Caps%2C627&ref=sr_pg_6)\n",
      "2022-09-18 03:37:42 [scrapy.core.engine] DEBUG: Crawled (200) <GET https://www.amazon.com/Distributed-Machine-Learning-Patterns-Yuan/dp/1617299022/ref=sr_1_296?crid=27NSKOKLZAT5L&keywords=machine+learning&qid=1663465052&sprefix=deep+learning%2Caps%2C627&sr=8-296> (referer: https://www.amazon.com/s?k=machine+learning&page=6&crid=27NSKOKLZAT5L&qid=1663463991&sprefix=deep+learning%2Caps%2C627&ref=sr_pg_6)\n",
      "2022-09-18 03:37:42 [scrapy.core.engine] DEBUG: Crawled (200) <GET https://www.amazon.com/Machine-Learning-Security-Protecting-Algorithms/dp/1491979909/ref=sr_1_299?crid=27NSKOKLZAT5L&keywords=machine+learning&qid=1663465052&sprefix=deep+learning%2Caps%2C627&sr=8-299> (referer: https://www.amazon.com/s?k=machine+learning&page=6&crid=27NSKOKLZAT5L&qid=1663463991&sprefix=deep+learning%2Caps%2C627&ref=sr_pg_6)\n",
      "2022-09-18 03:37:42 [scrapy.core.engine] DEBUG: Crawled (200) <GET https://www.amazon.com/Predictive-Analytics-Machine-Learning-Practitioners/dp/0136738516/ref=sr_1_297?crid=27NSKOKLZAT5L&keywords=machine+learning&qid=1663465052&sprefix=deep+learning%2Caps%2C627&sr=8-297> (referer: https://www.amazon.com/s?k=machine+learning&page=6&crid=27NSKOKLZAT5L&qid=1663463991&sprefix=deep+learning%2Caps%2C627&ref=sr_pg_6)\n",
      "2022-09-18 03:37:42 [scrapy.core.engine] DEBUG: Crawled (200) <GET https://www.amazon.com/Ethical-Machines-Unbiased-Transparent-Respectful/dp/1647822815/ref=sr_1_294?crid=27NSKOKLZAT5L&keywords=machine+learning&qid=1663465052&sprefix=deep+learning%2Caps%2C627&sr=8-294> (referer: https://www.amazon.com/s?k=machine+learning&page=6&crid=27NSKOKLZAT5L&qid=1663463991&sprefix=deep+learning%2Caps%2C627&ref=sr_pg_6)\n",
      "2022-09-18 03:37:42 [scrapy.core.engine] DEBUG: Crawled (200) <GET https://www.amazon.com/Machine-Learning-Beginners-Systems-English/dp/9389845424/ref=sr_1_227_sspa?crid=27NSKOKLZAT5L&keywords=machine+learning&qid=1663465040&sprefix=deep+learning%2Caps%2C627&sr=8-227-spons&psc=1> (referer: https://www.amazon.com/s?k=machine+learning&page=5&crid=27NSKOKLZAT5L&qid=1663463991&sprefix=deep+learning%2Caps%2C627&ref=sr_pg_5)\n",
      "2022-09-18 03:37:42 [scrapy.core.engine] DEBUG: Crawled (200) <GET https://www.amazon.com/Learning-Vision-Systems-Mohamed-Elgendy/dp/1617296198/ref=sr_1_226_sspa?crid=27NSKOKLZAT5L&keywords=machine+learning&qid=1663465040&sprefix=deep+learning%2Caps%2C627&sr=8-226-spons&psc=1> (referer: https://www.amazon.com/s?k=machine+learning&page=5&crid=27NSKOKLZAT5L&qid=1663463991&sprefix=deep+learning%2Caps%2C627&ref=sr_pg_5)\n",
      "2022-09-18 03:37:42 [scrapy.core.engine] DEBUG: Crawled (200) <GET https://www.amazon.com/Python-Data-Science-Programming-Hands/dp/B08M8DHZ34/ref=sr_1_228_sspa?crid=27NSKOKLZAT5L&keywords=machine+learning&qid=1663465040&sprefix=deep+learning%2Caps%2C627&sr=8-228-spons&psc=1> (referer: https://www.amazon.com/s?k=machine+learning&page=5&crid=27NSKOKLZAT5L&qid=1663463991&sprefix=deep+learning%2Caps%2C627&ref=sr_pg_5)\n"
     ]
    },
    {
     "name": "stdout",
     "output_type": "stream",
     "text": [
      "171\n",
      "['\\n            \\n              76%\\n            \\n          '] 4.6 out of 5 stars 8.25 x 1 x 10.5 inches\n",
      "172\n",
      "[] None 7.38 x 0.94 x 9.25 inches\n",
      "173\n",
      "['\\n            \\n              72%\\n            \\n          '] 4.5 out of 5 stars 7 x 0.8 x 9.19 inches\n",
      "174\n",
      "['\\n            \\n              60%\\n            \\n          '] 4.1 out of 5 stars 5.95 x 1.1 x 8.9 inches\n",
      "175\n",
      "['\\n            \\n              81%\\n            \\n          '] 4.8 out of 5 stars 6.25 x 1 x 9.5 inches\n",
      "176\n",
      "['\\n            \\n              52%\\n            \\n          '] 3.9 out of 5 stars 7.5 x 0.6 x 9.25 inches\n",
      "177\n",
      "['\\n            \\n              85%\\n            \\n          '] 4.8 out of 5 stars 7.38 x 1 x 9.25 inches\n",
      "178\n",
      "['\\n            \\n              60%\\n            \\n          '] 3.5 out of 5 stars 6 x 0.6 x 9 inches\n"
     ]
    },
    {
     "name": "stderr",
     "output_type": "stream",
     "text": [
      "2022-09-18 03:37:43 [scrapy.core.engine] DEBUG: Crawled (200) <GET https://www.amazon.com/Welcome-Learning-Zone-Introduction-Machine/dp/B002KFE3QU/ref=sr_1_287?crid=27NSKOKLZAT5L&keywords=machine+learning&qid=1663465052&sprefix=deep+learning%2Caps%2C627&sr=8-287> (referer: https://www.amazon.com/s?k=machine+learning&page=6&crid=27NSKOKLZAT5L&qid=1663463991&sprefix=deep+learning%2Caps%2C627&ref=sr_pg_6)\n",
      "2022-09-18 03:37:43 [scrapy.core.engine] DEBUG: Crawled (200) <GET https://www.amazon.com/Adaptive-Machine-Learning-Algorithms-Python-ebook/dp/B09VFCS9NK/ref=sr_1_292?crid=27NSKOKLZAT5L&keywords=machine+learning&qid=1663465052&sprefix=deep+learning%2Caps%2C627&sr=8-292> (referer: https://www.amazon.com/s?k=machine+learning&page=6&crid=27NSKOKLZAT5L&qid=1663463991&sprefix=deep+learning%2Caps%2C627&ref=sr_pg_6)\n",
      "2022-09-18 03:37:44 [scrapy.core.engine] DEBUG: Crawled (200) <GET https://www.amazon.com/PYTHON-DATA-ANALYSIS-MANIPULATION-VISUALIZATION/dp/B08K3WF1PS/ref=sr_1_225_sspa?crid=27NSKOKLZAT5L&keywords=machine+learning&qid=1663465040&sprefix=deep+learning%2Caps%2C627&sr=8-225-spons&psc=1> (referer: https://www.amazon.com/s?k=machine+learning&page=5&crid=27NSKOKLZAT5L&qid=1663463991&sprefix=deep+learning%2Caps%2C627&ref=sr_pg_5)\n",
      "2022-09-18 03:37:44 [scrapy.core.engine] DEBUG: Crawled (200) <GET https://www.amazon.com/Machine-Learning-Workshop-high-performance-scikit-learn/dp/1839219068/ref=sr_1_293?crid=27NSKOKLZAT5L&keywords=machine+learning&qid=1663465052&sprefix=deep+learning%2Caps%2C627&sr=8-293> (referer: https://www.amazon.com/s?k=machine+learning&page=6&crid=27NSKOKLZAT5L&qid=1663463991&sprefix=deep+learning%2Caps%2C627&ref=sr_pg_6)\n"
     ]
    },
    {
     "name": "stdout",
     "output_type": "stream",
     "text": [
      "179\n",
      "[] None None\n",
      "180\n",
      "[] None None\n"
     ]
    },
    {
     "name": "stderr",
     "output_type": "stream",
     "text": [
      "2022-09-18 03:37:44 [scrapy.core.engine] DEBUG: Crawled (200) <GET https://www.amazon.com/AWS-DeepRacer-Reinforcement-Learning-Certification/dp/B09HSQHCVK/ref=sr_1_286?crid=27NSKOKLZAT5L&keywords=machine+learning&qid=1663465052&sprefix=deep+learning%2Caps%2C627&sr=8-286> (referer: https://www.amazon.com/s?k=machine+learning&page=6&crid=27NSKOKLZAT5L&qid=1663463991&sprefix=deep+learning%2Caps%2C627&ref=sr_pg_6)\n",
      "2022-09-18 03:37:44 [scrapy.core.engine] DEBUG: Crawled (200) <GET https://www.amazon.com/Data-Mining-Concepts-Techniques-Management-ebook/dp/B0B5X1XRP3/ref=sr_1_291?crid=27NSKOKLZAT5L&keywords=machine+learning&qid=1663465052&sprefix=deep+learning%2Caps%2C627&sr=8-291> (referer: https://www.amazon.com/s?k=machine+learning&page=6&crid=27NSKOKLZAT5L&qid=1663463991&sprefix=deep+learning%2Caps%2C627&ref=sr_pg_6)\n",
      "2022-09-18 03:37:44 [scrapy.core.engine] DEBUG: Crawled (200) <GET https://www.amazon.com/Graph-Neural-Networks-Foundations-Applications/dp/9811660530/ref=sr_1_288?crid=27NSKOKLZAT5L&keywords=machine+learning&qid=1663465052&sprefix=deep+learning%2Caps%2C627&sr=8-288> (referer: https://www.amazon.com/s?k=machine+learning&page=6&crid=27NSKOKLZAT5L&qid=1663463991&sprefix=deep+learning%2Caps%2C627&ref=sr_pg_6)\n",
      "2022-09-18 03:37:44 [scrapy.core.engine] DEBUG: Crawled (200) <GET https://www.amazon.com/Machine-Learning-Boosting-Beginners-Guide-ebook/dp/B074S14FPD/ref=sr_1_290?crid=27NSKOKLZAT5L&keywords=machine+learning&qid=1663465052&sprefix=deep+learning%2Caps%2C627&sr=8-290> (referer: https://www.amazon.com/s?k=machine+learning&page=6&crid=27NSKOKLZAT5L&qid=1663463991&sprefix=deep+learning%2Caps%2C627&ref=sr_pg_6)\n"
     ]
    },
    {
     "name": "stdout",
     "output_type": "stream",
     "text": [
      "181\n",
      "['\\n            \\n              81%\\n            \\n          '] 4.6 out of 5 stars 6 x 0.27 x 9 inches\n",
      "182\n",
      "['\\n            \\n              75%\\n            \\n          '] 4.6 out of 5 stars 7.5 x 0.65 x 9.25 inches\n",
      "183\n",
      "[] 3.9 out of 5 stars None\n",
      "184\n",
      "['\\n            \\n              54%\\n            \\n          '] 4.1 out of 5 stars None\n"
     ]
    },
    {
     "name": "stderr",
     "output_type": "stream",
     "text": [
      "2022-09-18 03:37:45 [scrapy.core.engine] DEBUG: Crawled (200) <GET https://www.amazon.com/Bayesian-Reasoning-Machine-Learning-Barber/dp/0521518148/ref=sr_1_289?crid=27NSKOKLZAT5L&keywords=machine+learning&qid=1663465052&sprefix=deep+learning%2Caps%2C627&sr=8-289> (referer: https://www.amazon.com/s?k=machine+learning&page=6&crid=27NSKOKLZAT5L&qid=1663463991&sprefix=deep+learning%2Caps%2C627&ref=sr_pg_6)\n"
     ]
    },
    {
     "name": "stdout",
     "output_type": "stream",
     "text": [
      "185\n",
      "['\\n            \\n              64%\\n            \\n          '] 4.6 out of 5 stars 6.25 x 1.75 x 9.5 inches\n",
      "186\n",
      "['\\n            \\n              74%\\n            \\n          '] 4.5 out of 5 stars None\n"
     ]
    },
    {
     "name": "stderr",
     "output_type": "stream",
     "text": [
      "2022-09-18 03:37:45 [scrapy.core.engine] DEBUG: Crawled (200) <GET https://www.amazon.com/Deep-Learning-Convolutional-Networks-Tensorflow/dp/B0BDLBS1DF/ref=sr_1_279?crid=27NSKOKLZAT5L&keywords=machine+learning&qid=1663465052&sprefix=deep+learning%2Caps%2C627&sr=8-279> (referer: https://www.amazon.com/s?k=machine+learning&page=6&crid=27NSKOKLZAT5L&qid=1663463991&sprefix=deep+learning%2Caps%2C627&ref=sr_pg_6)\n"
     ]
    },
    {
     "name": "stdout",
     "output_type": "stream",
     "text": [
      "187\n",
      "['\\n            \\n              66%\\n            \\n          '] 4.2 out of 5 stars 7.7 x 1.5 x 9.8 inches\n"
     ]
    },
    {
     "name": "stderr",
     "output_type": "stream",
     "text": [
      "2022-09-18 03:37:45 [scrapy.core.engine] DEBUG: Crawled (200) <GET https://www.amazon.com/Bayesian-Optimization-Roman-Garnett/dp/110842578X/ref=sr_1_285?crid=27NSKOKLZAT5L&keywords=machine+learning&qid=1663465052&sprefix=deep+learning%2Caps%2C627&sr=8-285> (referer: https://www.amazon.com/s?k=machine+learning&page=6&crid=27NSKOKLZAT5L&qid=1663463991&sprefix=deep+learning%2Caps%2C627&ref=sr_pg_6)\n"
     ]
    },
    {
     "name": "stdout",
     "output_type": "stream",
     "text": [
      "188\n",
      "[] None None\n"
     ]
    },
    {
     "name": "stderr",
     "output_type": "stream",
     "text": [
      "2022-09-18 03:37:45 [scrapy.downloadermiddlewares.redirect] DEBUG: Redirecting (302) to <GET https://www.amazon.com/Practical-Machine-Learning-Spark-High-Quality/dp/9391392083/ref=sr_1_276_sspa?crid=27NSKOKLZAT5L&keywords=machine+learning&qid=1663465052&sprefix=deep+learning%2Caps%2C627&sr=8-276-spons&psc=1> from <GET https://www.amazon.com/sspa/click?ie=UTF8&spc=MTo1OTQzMDI4NDU2MzQ2MjQ5OjE2NjM0NjUwNTI6c3BfbXRmOjIwMDA1NzIyMzM4OTA5ODo6MDo6&sp_csd=d2lkZ2V0TmFtZT1zcF9tdGY&url=%2FPractical-Machine-Learning-Spark-High-Quality%2Fdp%2F9391392083%2Fref%3Dsr_1_276_sspa%3Fcrid%3D27NSKOKLZAT5L%26keywords%3Dmachine%2Blearning%26qid%3D1663465052%26sprefix%3Ddeep%2Blearning%252Caps%252C627%26sr%3D8-276-spons%26psc%3D1>\n"
     ]
    },
    {
     "name": "stdout",
     "output_type": "stream",
     "text": [
      "189\n",
      "[] None None\n"
     ]
    },
    {
     "name": "stderr",
     "output_type": "stream",
     "text": [
      "2022-09-18 03:37:46 [scrapy.downloadermiddlewares.redirect] DEBUG: Redirecting (302) to <GET https://www.amazon.com/Excel-2022-all-Step-Step/dp/B09SNKVG7R/ref=sr_1_275_sspa?crid=27NSKOKLZAT5L&keywords=machine+learning&qid=1663465052&sprefix=deep+learning%2Caps%2C627&sr=8-275-spons&psc=1> from <GET https://www.amazon.com/sspa/click?ie=UTF8&spc=MTo1OTQzMDI4NDU2MzQ2MjQ5OjE2NjM0NjUwNTI6c3BfbXRmOjIwMDAzODE5MjE5NzU5ODo6MDo6&sp_csd=d2lkZ2V0TmFtZT1zcF9tdGY&url=%2FExcel-2022-all-Step-Step%2Fdp%2FB09SNKVG7R%2Fref%3Dsr_1_275_sspa%3Fcrid%3D27NSKOKLZAT5L%26keywords%3Dmachine%2Blearning%26qid%3D1663465052%26sprefix%3Ddeep%2Blearning%252Caps%252C627%26sr%3D8-275-spons%26psc%3D1>\n",
      "2022-09-18 03:37:46 [scrapy.core.engine] DEBUG: Crawled (200) <GET https://www.amazon.com/Data-Science-Analytics-Machine-Learning/dp/012824271X/ref=sr_1_282?crid=27NSKOKLZAT5L&keywords=machine+learning&qid=1663465052&sprefix=deep+learning%2Caps%2C627&sr=8-282> (referer: https://www.amazon.com/s?k=machine+learning&page=6&crid=27NSKOKLZAT5L&qid=1663463991&sprefix=deep+learning%2Caps%2C627&ref=sr_pg_6)\n",
      "2022-09-18 03:37:46 [scrapy.downloadermiddlewares.redirect] DEBUG: Redirecting (302) to <GET https://www.amazon.com/Mastering-Azure-Machine-Learning-end/dp/1803232412/ref=sr_1_274_sspa?crid=27NSKOKLZAT5L&keywords=machine+learning&qid=1663465052&sprefix=deep+learning%2Caps%2C627&sr=8-274-spons&psc=1> from <GET https://www.amazon.com/sspa/click?ie=UTF8&spc=MTo1OTQzMDI4NDU2MzQ2MjQ5OjE2NjM0NjUwNTI6c3BfbXRmOjIwMDA2ODU0MjUzNTA5ODo6MDo6&sp_csd=d2lkZ2V0TmFtZT1zcF9tdGY&url=%2FMastering-Azure-Machine-Learning-end%2Fdp%2F1803232412%2Fref%3Dsr_1_274_sspa%3Fcrid%3D27NSKOKLZAT5L%26keywords%3Dmachine%2Blearning%26qid%3D1663465052%26sprefix%3Ddeep%2Blearning%252Caps%252C627%26sr%3D8-274-spons%26psc%3D1>\n",
      "2022-09-18 03:37:46 [scrapy.core.engine] DEBUG: Crawled (200) <GET https://www.amazon.com/Neural-Networks-Learning-Machines-Haykin/dp/9332570310/ref=sr_1_283?crid=27NSKOKLZAT5L&keywords=machine+learning&qid=1663465052&sprefix=deep+learning%2Caps%2C627&sr=8-283> (referer: https://www.amazon.com/s?k=machine+learning&page=6&crid=27NSKOKLZAT5L&qid=1663463991&sprefix=deep+learning%2Caps%2C627&ref=sr_pg_6)\n",
      "2022-09-18 03:37:46 [scrapy.downloadermiddlewares.redirect] DEBUG: Redirecting (302) to <GET https://www.amazon.com/Grokking-Machine-Learning-Luis-Serrano/dp/1617295914/ref=sr_1_273_sspa?crid=27NSKOKLZAT5L&keywords=machine+learning&qid=1663465052&sprefix=deep+learning%2Caps%2C627&sr=8-273-spons&psc=1> from <GET https://www.amazon.com/sspa/click?ie=UTF8&spc=MTo1OTQzMDI4NDU2MzQ2MjQ5OjE2NjM0NjUwNTI6c3BfbXRmOjIwMDA0NzA4NDY1NzQ0MTo6MDo6&sp_csd=d2lkZ2V0TmFtZT1zcF9tdGY&url=%2FGrokking-Machine-Learning-Luis-Serrano%2Fdp%2F1617295914%2Fref%3Dsr_1_273_sspa%3Fcrid%3D27NSKOKLZAT5L%26keywords%3Dmachine%2Blearning%26qid%3D1663465052%26sprefix%3Ddeep%2Blearning%252Caps%252C627%26sr%3D8-273-spons%26psc%3D1>\n",
      "2022-09-18 03:37:46 [scrapy.core.engine] DEBUG: Crawled (200) <GET https://www.amazon.com/Data-Science-Interview-Language-Scientist/dp/1915002109/ref=sr_1_284?crid=27NSKOKLZAT5L&keywords=machine+learning&qid=1663465052&sprefix=deep+learning%2Caps%2C627&sr=8-284> (referer: https://www.amazon.com/s?k=machine+learning&page=6&crid=27NSKOKLZAT5L&qid=1663463991&sprefix=deep+learning%2Caps%2C627&ref=sr_pg_6)\n"
     ]
    },
    {
     "name": "stdout",
     "output_type": "stream",
     "text": [
      "190\n",
      "[] None None\n",
      "191\n",
      "['\\n            \\n              67%\\n            \\n          '] 4.4 out of 5 stars 7.99 x 10 x 1.85 inches\n"
     ]
    },
    {
     "name": "stderr",
     "output_type": "stream",
     "text": [
      "2022-09-18 03:37:47 [scrapy.core.engine] DEBUG: Crawled (200) <GET https://www.amazon.com/Machine-Learning-Ultimate-Beginners-Programming-ebook/dp/B08HHLPGNT/ref=sr_1_281?crid=27NSKOKLZAT5L&keywords=machine+learning&qid=1663465052&sprefix=deep+learning%2Caps%2C627&sr=8-281> (referer: https://www.amazon.com/s?k=machine+learning&page=6&crid=27NSKOKLZAT5L&qid=1663463991&sprefix=deep+learning%2Caps%2C627&ref=sr_pg_6)\n",
      "2022-09-18 03:37:47 [scrapy.core.engine] DEBUG: Crawled (200) <GET https://www.amazon.com/Introduction-Learning-Quantitative-Textbooks-Mathematics/dp/1786349647/ref=sr_1_280?crid=27NSKOKLZAT5L&keywords=machine+learning&qid=1663465052&sprefix=deep+learning%2Caps%2C627&sr=8-280> (referer: https://www.amazon.com/s?k=machine+learning&page=6&crid=27NSKOKLZAT5L&qid=1663463991&sprefix=deep+learning%2Caps%2C627&ref=sr_pg_6)\n"
     ]
    },
    {
     "name": "stdout",
     "output_type": "stream",
     "text": [
      "192\n",
      "['\\n            \\n              91%\\n            \\n          '] 4.7 out of 5 stars 6 x 0.39 x 9 inches\n",
      "193\n",
      "['\\n            \\n              67%\\n            \\n          '] 4.2 out of 5 stars None\n",
      "194\n",
      "['\\n            \\n              45%\\n            \\n          '] 3.6 out of 5 stars 6 x 0.62 x 9 inches\n"
     ]
    },
    {
     "name": "stderr",
     "output_type": "stream",
     "text": [
      "2022-09-18 03:37:47 [scrapy.core.engine] DEBUG: Crawled (200) <GET https://www.amazon.com/Think-Bayes-Bayesian-Statistics-Python/dp/149208946X/ref=sr_1_278?crid=27NSKOKLZAT5L&keywords=machine+learning&qid=1663465052&sprefix=deep+learning%2Caps%2C627&sr=8-278> (referer: https://www.amazon.com/s?k=machine+learning&page=6&crid=27NSKOKLZAT5L&qid=1663463991&sprefix=deep+learning%2Caps%2C627&ref=sr_pg_6)\n",
      "2022-09-18 03:37:48 [scrapy.core.engine] DEBUG: Crawled (200) <GET https://www.amazon.com/Data-Mining-Machine-Learning-Fundamental/dp/1108473989/ref=sr_1_277?crid=27NSKOKLZAT5L&keywords=machine+learning&qid=1663465052&sprefix=deep+learning%2Caps%2C627&sr=8-277> (referer: https://www.amazon.com/s?k=machine+learning&page=6&crid=27NSKOKLZAT5L&qid=1663463991&sprefix=deep+learning%2Caps%2C627&ref=sr_pg_6)\n"
     ]
    },
    {
     "name": "stdout",
     "output_type": "stream",
     "text": [
      "195\n",
      "['\\n            \\n              79%\\n            \\n          '] 4.5 out of 5 stars 7 x 0.75 x 9 inches\n",
      "196\n",
      "['\\n            \\n              77%\\n            \\n          '] 4.7 out of 5 stars 7.25 x 1.75 x 10 inches\n"
     ]
    },
    {
     "name": "stderr",
     "output_type": "stream",
     "text": [
      "2022-09-18 03:37:48 [scrapy.core.engine] DEBUG: Crawled (200) <GET https://www.amazon.com/Machine-Learning-Step-Step-Intelligence-ebook/dp/B07D7J39FM/ref=sr_1_270?crid=27NSKOKLZAT5L&keywords=machine+learning&qid=1663465052&sprefix=deep+learning%2Caps%2C627&sr=8-270> (referer: https://www.amazon.com/s?k=machine+learning&page=6&crid=27NSKOKLZAT5L&qid=1663463991&sprefix=deep+learning%2Caps%2C627&ref=sr_pg_6)\n",
      "2022-09-18 03:37:48 [scrapy.core.engine] DEBUG: Crawled (200) <GET https://www.amazon.com/Random-Matrix-Methods-Machine-Learning-ebook/dp/B0B7JWK4F6/ref=sr_1_271?crid=27NSKOKLZAT5L&keywords=machine+learning&qid=1663465052&sprefix=deep+learning%2Caps%2C627&sr=8-271> (referer: https://www.amazon.com/s?k=machine+learning&page=6&crid=27NSKOKLZAT5L&qid=1663463991&sprefix=deep+learning%2Caps%2C627&ref=sr_pg_6)\n",
      "2022-09-18 03:37:49 [scrapy.core.engine] DEBUG: Crawled (200) <GET https://www.amazon.com/Data-Analysis-Scratch-Python-Programming/dp/1688979719/ref=sr_1_272?crid=27NSKOKLZAT5L&keywords=machine+learning&qid=1663465052&sprefix=deep+learning%2Caps%2C627&sr=8-272> (referer: https://www.amazon.com/s?k=machine+learning&page=6&crid=27NSKOKLZAT5L&qid=1663463991&sprefix=deep+learning%2Caps%2C627&ref=sr_pg_6)\n",
      "2022-09-18 03:37:49 [scrapy.core.engine] DEBUG: Crawled (200) <GET https://www.amazon.com/Artificial-Intelligence-Machine-Learning-Business/dp/1999325389/ref=sr_1_269?crid=27NSKOKLZAT5L&keywords=machine+learning&qid=1663465052&sprefix=deep+learning%2Caps%2C627&sr=8-269> (referer: https://www.amazon.com/s?k=machine+learning&page=6&crid=27NSKOKLZAT5L&qid=1663463991&sprefix=deep+learning%2Caps%2C627&ref=sr_pg_6)\n",
      "2022-09-18 03:37:49 [scrapy.core.engine] DEBUG: Crawled (200) <GET https://www.amazon.com/Mystifying-Math-Stats-Machine-Learning-ebook/dp/B0B3FFTN35/ref=sr_1_268?crid=27NSKOKLZAT5L&keywords=machine+learning&qid=1663465052&sprefix=deep+learning%2Caps%2C627&sr=8-268> (referer: https://www.amazon.com/s?k=machine+learning&page=6&crid=27NSKOKLZAT5L&qid=1663463991&sprefix=deep+learning%2Caps%2C627&ref=sr_pg_6)\n"
     ]
    },
    {
     "name": "stdout",
     "output_type": "stream",
     "text": [
      "197\n",
      "['\\n            \\n              50%\\n            \\n          '] 3.0 out of 5 stars None\n",
      "198\n",
      "[] None None\n"
     ]
    },
    {
     "name": "stderr",
     "output_type": "stream",
     "text": [
      "2022-09-18 03:37:49 [scrapy.core.engine] DEBUG: Crawled (200) <GET https://www.amazon.com/Practical-Machine-Learning-Spark-High-Quality/dp/9391392083/ref=sr_1_276_sspa?crid=27NSKOKLZAT5L&keywords=machine+learning&qid=1663465052&sprefix=deep+learning%2Caps%2C627&sr=8-276-spons&psc=1> (referer: https://www.amazon.com/s?k=machine+learning&page=6&crid=27NSKOKLZAT5L&qid=1663463991&sprefix=deep+learning%2Caps%2C627&ref=sr_pg_6)\n"
     ]
    },
    {
     "name": "stdout",
     "output_type": "stream",
     "text": [
      "199\n",
      "['\\n            \\n              74%\\n            \\n          '] 4.4 out of 5 stars 6 x 0.39 x 9 inches\n",
      "200\n",
      "['\\n            \\n              51%\\n            \\n          '] 4.4 out of 5 stars 5.5 x 0.54 x 8.5 inches\n",
      "201\n",
      "['\\n            \\n              100%\\n            \\n          '] 5.0 out of 5 stars None\n",
      "202\n",
      "[] None 7.5 x 1.13 x 9.25 inches\n"
     ]
    },
    {
     "name": "stderr",
     "output_type": "stream",
     "text": [
      "2022-09-18 03:37:50 [scrapy.core.engine] DEBUG: Crawled (200) <GET https://www.amazon.com/Excel-2022-all-Step-Step/dp/B09SNKVG7R/ref=sr_1_275_sspa?crid=27NSKOKLZAT5L&keywords=machine+learning&qid=1663465052&sprefix=deep+learning%2Caps%2C627&sr=8-275-spons&psc=1> (referer: https://www.amazon.com/s?k=machine+learning&page=6&crid=27NSKOKLZAT5L&qid=1663463991&sprefix=deep+learning%2Caps%2C627&ref=sr_pg_6)\n",
      "2022-09-18 03:37:50 [scrapy.core.engine] DEBUG: Crawled (200) <GET https://www.amazon.com/Machine-Learning-Scale-H2O-enterprise/dp/1800566018/ref=sr_1_267?crid=27NSKOKLZAT5L&keywords=machine+learning&qid=1663465052&sprefix=deep+learning%2Caps%2C627&sr=8-267> (referer: https://www.amazon.com/s?k=machine+learning&page=6&crid=27NSKOKLZAT5L&qid=1663463991&sprefix=deep+learning%2Caps%2C627&ref=sr_pg_6)\n"
     ]
    },
    {
     "name": "stdout",
     "output_type": "stream",
     "text": [
      "203\n",
      "['\\n            \\n              70%\\n            \\n          '] 4.4 out of 5 stars 6 x 0.32 x 9 inches\n",
      "204\n",
      "['\\n            \\n              100%\\n            \\n          '] 5.0 out of 5 stars 7.5 x 0.9 x 9.25 inches\n"
     ]
    },
    {
     "name": "stderr",
     "output_type": "stream",
     "text": [
      "2022-09-18 03:37:51 [scrapy.core.engine] DEBUG: Crawled (200) <GET https://www.amazon.com/Mastering-Azure-Machine-Learning-end/dp/1803232412/ref=sr_1_274_sspa?crid=27NSKOKLZAT5L&keywords=machine+learning&qid=1663465052&sprefix=deep+learning%2Caps%2C627&sr=8-274-spons&psc=1> (referer: https://www.amazon.com/s?k=machine+learning&page=6&crid=27NSKOKLZAT5L&qid=1663463991&sprefix=deep+learning%2Caps%2C627&ref=sr_pg_6)\n",
      "2022-09-18 03:37:51 [scrapy.core.engine] DEBUG: Crawled (200) <GET https://www.amazon.com/Time-Forecasting-using-Deep-Learning-ebook/dp/B09JL2B3YX/ref=sr_1_266?crid=27NSKOKLZAT5L&keywords=machine+learning&qid=1663465052&sprefix=deep+learning%2Caps%2C627&sr=8-266> (referer: https://www.amazon.com/s?k=machine+learning&page=6&crid=27NSKOKLZAT5L&qid=1663463991&sprefix=deep+learning%2Caps%2C627&ref=sr_pg_6)\n",
      "2022-09-18 03:37:51 [scrapy.core.engine] DEBUG: Crawled (200) <GET https://www.amazon.com/Applied-Machine-Learning-Explainability-Techniques/dp/1803246154/ref=sr_1_263?crid=27NSKOKLZAT5L&keywords=machine+learning&qid=1663465052&sprefix=deep+learning%2Caps%2C627&sr=8-263> (referer: https://www.amazon.com/s?k=machine+learning&page=6&crid=27NSKOKLZAT5L&qid=1663463991&sprefix=deep+learning%2Caps%2C627&ref=sr_pg_6)\n"
     ]
    },
    {
     "name": "stdout",
     "output_type": "stream",
     "text": [
      "205\n",
      "['\\n            \\n              100%\\n            \\n          '] 5.0 out of 5 stars 7.5 x 1.41 x 9.25 inches\n"
     ]
    },
    {
     "name": "stderr",
     "output_type": "stream",
     "text": [
      "2022-09-18 03:37:51 [scrapy.core.engine] DEBUG: Crawled (200) <GET https://www.amazon.com/Machine-Learning-Business-Introduction-Science/dp/B095K4GM2P/ref=sr_1_264?crid=27NSKOKLZAT5L&keywords=machine+learning&qid=1663465052&sprefix=deep+learning%2Caps%2C627&sr=8-264> (referer: https://www.amazon.com/s?k=machine+learning&page=6&crid=27NSKOKLZAT5L&qid=1663463991&sprefix=deep+learning%2Caps%2C627&ref=sr_pg_6)\n",
      "2022-09-18 03:37:51 [scrapy.core.engine] DEBUG: Crawled (200) <GET https://www.amazon.com/Grokking-Machine-Learning-Luis-Serrano/dp/1617295914/ref=sr_1_273_sspa?crid=27NSKOKLZAT5L&keywords=machine+learning&qid=1663465052&sprefix=deep+learning%2Caps%2C627&sr=8-273-spons&psc=1> (referer: https://www.amazon.com/s?k=machine+learning&page=6&crid=27NSKOKLZAT5L&qid=1663463991&sprefix=deep+learning%2Caps%2C627&ref=sr_pg_6)\n",
      "2022-09-18 03:37:51 [scrapy.downloadermiddlewares.redirect] DEBUG: Redirecting (302) to <GET https://www.amazon.com/SQL-BEGINNERS-FUNDAMENTAL-DATABASES-HANDS/dp/B08KGT7GG2/ref=sr_1_260_sspa?crid=27NSKOKLZAT5L&keywords=machine+learning&qid=1663465052&sprefix=deep+learning%2Caps%2C627&sr=8-260-spons&psc=1> from <GET https://www.amazon.com/sspa/click?ie=UTF8&spc=MTo1OTQzMDI4NDU2MzQ2MjQ5OjE2NjM0NjUwNTI6c3BfbXRmOjIwMDA0NTkzNDYwODUxMTo6MDo6&sp_csd=d2lkZ2V0TmFtZT1zcF9tdGY&url=%2FSQL-BEGINNERS-FUNDAMENTAL-DATABASES-HANDS%2Fdp%2FB08KGT7GG2%2Fref%3Dsr_1_260_sspa%3Fcrid%3D27NSKOKLZAT5L%26keywords%3Dmachine%2Blearning%26qid%3D1663465052%26sprefix%3Ddeep%2Blearning%252Caps%252C627%26sr%3D8-260-spons%26psc%3D1>\n",
      "2022-09-18 03:37:51 [scrapy.core.engine] DEBUG: Crawled (200) <GET https://www.amazon.com/First-Course-Machine-Learning/dp/0367574640/ref=sr_1_265?crid=27NSKOKLZAT5L&keywords=machine+learning&qid=1663465052&sprefix=deep+learning%2Caps%2C627&sr=8-265> (referer: https://www.amazon.com/s?k=machine+learning&page=6&crid=27NSKOKLZAT5L&qid=1663463991&sprefix=deep+learning%2Caps%2C627&ref=sr_pg_6)\n",
      "2022-09-18 03:37:51 [scrapy.downloadermiddlewares.redirect] DEBUG: Redirecting (302) to <GET https://www.amazon.com/Python-Machine-Learning-Beginners-Programming/dp/B09RPGVLTQ/ref=sr_1_259_sspa?crid=27NSKOKLZAT5L&keywords=machine+learning&qid=1663465052&sprefix=deep+learning%2Caps%2C627&sr=8-259-spons&psc=1> from <GET https://www.amazon.com/sspa/click?ie=UTF8&spc=MTo1OTQzMDI4NDU2MzQ2MjQ5OjE2NjM0NjUwNTI6c3BfbXRmOjIwMDA0NTYzNDcwNjE5ODo6MDo6&sp_csd=d2lkZ2V0TmFtZT1zcF9tdGY&url=%2FPython-Machine-Learning-Beginners-Programming%2Fdp%2FB09RPGVLTQ%2Fref%3Dsr_1_259_sspa%3Fcrid%3D27NSKOKLZAT5L%26keywords%3Dmachine%2Blearning%26qid%3D1663465052%26sprefix%3Ddeep%2Blearning%252Caps%252C627%26sr%3D8-259-spons%26psc%3D1>\n",
      "2022-09-18 03:37:51 [scrapy.downloadermiddlewares.redirect] DEBUG: Redirecting (302) to <GET https://www.amazon.com/Machine-Learning-Streaming-Data-Python/dp/180324836X/ref=sr_1_258_sspa?crid=27NSKOKLZAT5L&keywords=machine+learning&qid=1663465052&sprefix=deep+learning%2Caps%2C627&sr=8-258-spons&psc=1> from <GET https://www.amazon.com/sspa/click?ie=UTF8&spc=MTo1OTQzMDI4NDU2MzQ2MjQ5OjE2NjM0NjUwNTI6c3BfbXRmOjIwMDA3NDIxNDA2MDI5ODo6MDo6&sp_csd=d2lkZ2V0TmFtZT1zcF9tdGY&url=%2FMachine-Learning-Streaming-Data-Python%2Fdp%2F180324836X%2Fref%3Dsr_1_258_sspa%3Fcrid%3D27NSKOKLZAT5L%26keywords%3Dmachine%2Blearning%26qid%3D1663465052%26sprefix%3Ddeep%2Blearning%252Caps%252C627%26sr%3D8-258-spons%26psc%3D1>\n"
     ]
    },
    {
     "name": "stdout",
     "output_type": "stream",
     "text": [
      "206\n",
      "['\\n            \\n              55%\\n            \\n          '] 4.4 out of 5 stars None\n",
      "207\n",
      "['\\n            \\n              100%\\n            \\n          '] 5.0 out of 5 stars 7.5 x 0.69 x 9.25 inches\n",
      "208\n",
      "['\\n            \\n              85%\\n            \\n          '] 4.9 out of 5 stars 6 x 0.84 x 9 inches\n",
      "209\n",
      "['\\n            \\n              72%\\n            \\n          '] 4.6 out of 5 stars 7.38 x 1.1 x 9.25 inches\n"
     ]
    },
    {
     "name": "stderr",
     "output_type": "stream",
     "text": [
      "2022-09-18 03:37:52 [scrapy.downloadermiddlewares.redirect] DEBUG: Redirecting (302) to <GET https://www.amazon.com/Time-Forecasting-using-Deep-Learning/dp/9391392571/ref=sr_1_257_sspa?crid=27NSKOKLZAT5L&keywords=machine+learning&qid=1663465052&sprefix=deep+learning%2Caps%2C627&sr=8-257-spons&psc=1> from <GET https://www.amazon.com/sspa/click?ie=UTF8&spc=MTo1OTQzMDI4NDU2MzQ2MjQ5OjE2NjM0NjUwNTI6c3BfbXRmOjIwMDEwMzgzMzAyMDg4MTo6MDo6&sp_csd=d2lkZ2V0TmFtZT1zcF9tdGY&url=%2FTime-Forecasting-using-Deep-Learning%2Fdp%2F9391392571%2Fref%3Dsr_1_257_sspa%3Fcrid%3D27NSKOKLZAT5L%26keywords%3Dmachine%2Blearning%26qid%3D1663465052%26sprefix%3Ddeep%2Blearning%252Caps%252C627%26sr%3D8-257-spons%26psc%3D1>\n"
     ]
    },
    {
     "name": "stdout",
     "output_type": "stream",
     "text": [
      "210\n",
      "['\\n            \\n              69%\\n            \\n          '] 4.4 out of 5 stars 6.14 x 0.97 x 9.21 inches\n"
     ]
    },
    {
     "name": "stderr",
     "output_type": "stream",
     "text": [
      "2022-09-18 03:37:52 [scrapy.core.engine] DEBUG: Crawled (200) <GET https://www.amazon.com/Statistics-Mining-Machine-Learning-Astronomy/dp/0691198306/ref=sr_1_262?crid=27NSKOKLZAT5L&keywords=machine+learning&qid=1663465052&sprefix=deep+learning%2Caps%2C627&sr=8-262> (referer: https://www.amazon.com/s?k=machine+learning&page=6&crid=27NSKOKLZAT5L&qid=1663463991&sprefix=deep+learning%2Caps%2C627&ref=sr_pg_6)\n",
      "2022-09-18 03:37:53 [scrapy.core.engine] DEBUG: Crawled (200) <GET https://www.amazon.com/IPython-Interactive-Computing-Visualization-Cookbook-ebook/dp/B079KBGPQC/ref=sr_1_261?crid=27NSKOKLZAT5L&keywords=machine+learning&qid=1663465052&sprefix=deep+learning%2Caps%2C627&sr=8-261> (referer: https://www.amazon.com/s?k=machine+learning&page=6&crid=27NSKOKLZAT5L&qid=1663463991&sprefix=deep+learning%2Caps%2C627&ref=sr_pg_6)\n"
     ]
    },
    {
     "name": "stdout",
     "output_type": "stream",
     "text": [
      "211\n",
      "['\\n            \\n              91%\\n            \\n          '] 4.9 out of 5 stars 7 x 1.5 x 10 inches\n",
      "212\n",
      "['\\n            \\n              67%\\n            \\n          '] 4.6 out of 5 stars None\n"
     ]
    },
    {
     "name": "stderr",
     "output_type": "stream",
     "text": [
      "2022-09-18 03:37:54 [scrapy.core.engine] DEBUG: Crawled (200) <GET https://www.amazon.com/Pragmatic-Programmer-journey-mastery-Anniversary/dp/0135957052/ref=sr_1_256?crid=27NSKOKLZAT5L&keywords=machine+learning&qid=1663465052&sprefix=deep+learning%2Caps%2C627&sr=8-256> (referer: https://www.amazon.com/s?k=machine+learning&page=6&crid=27NSKOKLZAT5L&qid=1663463991&sprefix=deep+learning%2Caps%2C627&ref=sr_pg_6)\n",
      "2022-09-18 03:37:54 [scrapy.core.engine] DEBUG: Crawled (200) <GET https://www.amazon.com/Google-BigQuery-Definitive-Warehousing-Analytics/dp/1492044466/ref=sr_1_255?crid=27NSKOKLZAT5L&keywords=machine+learning&qid=1663465052&sprefix=deep+learning%2Caps%2C627&sr=8-255> (referer: https://www.amazon.com/s?k=machine+learning&page=6&crid=27NSKOKLZAT5L&qid=1663463991&sprefix=deep+learning%2Caps%2C627&ref=sr_pg_6)\n",
      "2022-09-18 03:37:54 [scrapy.core.engine] DEBUG: Crawled (200) <GET https://www.amazon.com/Algorithms-to-Live-By-audiobook/dp/B01D24NAL6/ref=sr_1_252?crid=27NSKOKLZAT5L&keywords=machine+learning&qid=1663465052&sprefix=deep+learning%2Caps%2C627&sr=8-252> (referer: https://www.amazon.com/s?k=machine+learning&page=6&crid=27NSKOKLZAT5L&qid=1663463991&sprefix=deep+learning%2Caps%2C627&ref=sr_pg_6)\n",
      "2022-09-18 03:37:54 [scrapy.core.engine] DEBUG: Crawled (200) <GET https://www.amazon.com/Machine-Learning-Algorithmic-Perspective-Recognition/dp/1466583282/ref=sr_1_254?crid=27NSKOKLZAT5L&keywords=machine+learning&qid=1663465052&sprefix=deep+learning%2Caps%2C627&sr=8-254> (referer: https://www.amazon.com/s?k=machine+learning&page=6&crid=27NSKOKLZAT5L&qid=1663463991&sprefix=deep+learning%2Caps%2C627&ref=sr_pg_6)\n",
      "2022-09-18 03:37:54 [scrapy.core.engine] DEBUG: Crawled (200) <GET https://www.amazon.com/Apple-MacBook-MJVM2LL-11-6-Inch-Refurbished/dp/B013HD3FDK/ref=sr_1_251?crid=27NSKOKLZAT5L&keywords=machine+learning&qid=1663465052&sprefix=deep+learning%2Caps%2C627&sr=8-251> (referer: https://www.amazon.com/s?k=machine+learning&page=6&crid=27NSKOKLZAT5L&qid=1663463991&sprefix=deep+learning%2Caps%2C627&ref=sr_pg_6)\n",
      "2022-09-18 03:37:54 [scrapy.core.engine] DEBUG: Crawled (200) <GET https://www.amazon.com/Introduction-Deep-Learning-MIT-Press/dp/0262039516/ref=sr_1_253?crid=27NSKOKLZAT5L&keywords=machine+learning&qid=1663465052&sprefix=deep+learning%2Caps%2C627&sr=8-253> (referer: https://www.amazon.com/s?k=machine+learning&page=6&crid=27NSKOKLZAT5L&qid=1663463991&sprefix=deep+learning%2Caps%2C627&ref=sr_pg_6)\n"
     ]
    },
    {
     "name": "stdout",
     "output_type": "stream",
     "text": [
      "213\n",
      "['\\n            \\n              85%\\n            \\n          '] 4.8 out of 5 stars 7.7 x 1.1 x 9.35 inches\n",
      "214\n",
      "['\\n            \\n              67%\\n            \\n          '] 4.5 out of 5 stars 7.01 x 1 x 9.17 inches\n",
      "215\n",
      "['\\n            \\n              70%\\n            \\n          '] 4.5 out of 5 stars None\n",
      "216\n",
      "['\\n            \\n              59%\\n            \\n          '] 4.2 out of 5 stars 6.9 x 1 x 10 inches\n",
      "217\n",
      "['\\n            \\n              69%\\n            \\n          '] 4.3 out of 5 stars None\n",
      "218\n",
      "['\\n            \\n              59%\\n            \\n          '] 4.0 out of 5 stars 9.1 x 7.1 x 0.8 inches\n"
     ]
    },
    {
     "name": "stderr",
     "output_type": "stream",
     "text": [
      "2022-09-18 03:37:55 [scrapy.core.engine] DEBUG: Crawled (200) <GET https://www.amazon.com/SQL-BEGINNERS-FUNDAMENTAL-DATABASES-HANDS/dp/B08KGT7GG2/ref=sr_1_260_sspa?crid=27NSKOKLZAT5L&keywords=machine+learning&qid=1663465052&sprefix=deep+learning%2Caps%2C627&sr=8-260-spons&psc=1> (referer: https://www.amazon.com/s?k=machine+learning&page=6&crid=27NSKOKLZAT5L&qid=1663463991&sprefix=deep+learning%2Caps%2C627&ref=sr_pg_6)\n",
      "2022-09-18 03:37:55 [scrapy.core.engine] DEBUG: Crawled (200) <GET https://www.amazon.com/Introduction-Data-Mining-Analytics-Jamsa/dp/1284180905/ref=sr_1_250?crid=27NSKOKLZAT5L&keywords=machine+learning&qid=1663465052&sprefix=deep+learning%2Caps%2C627&sr=8-250> (referer: https://www.amazon.com/s?k=machine+learning&page=6&crid=27NSKOKLZAT5L&qid=1663463991&sprefix=deep+learning%2Caps%2C627&ref=sr_pg_6)\n"
     ]
    },
    {
     "name": "stdout",
     "output_type": "stream",
     "text": [
      "219\n",
      "['\\n            \\n              39%\\n            \\n          '] 3.9 out of 5 stars 6 x 0.35 x 9 inches\n",
      "220\n",
      "['\\n            \\n              75%\\n            \\n          '] 4.6 out of 5 stars 7.3 x 0.9 x 9 inches\n"
     ]
    },
    {
     "name": "stderr",
     "output_type": "stream",
     "text": [
      "2022-09-18 03:37:56 [scrapy.core.engine] DEBUG: Crawled (200) <GET https://www.amazon.com/Machine-Learning-Streaming-Data-Python/dp/180324836X/ref=sr_1_258_sspa?crid=27NSKOKLZAT5L&keywords=machine+learning&qid=1663465052&sprefix=deep+learning%2Caps%2C627&sr=8-258-spons&psc=1> (referer: https://www.amazon.com/s?k=machine+learning&page=6&crid=27NSKOKLZAT5L&qid=1663463991&sprefix=deep+learning%2Caps%2C627&ref=sr_pg_6)\n",
      "2022-09-18 03:37:56 [scrapy.core.engine] DEBUG: Crawled (200) <GET https://www.amazon.com/Tree-based-Machine-Learning-Algorithms-Decision-ebook/dp/B0756FGJCP/ref=sr_1_248?crid=27NSKOKLZAT5L&keywords=machine+learning&qid=1663465052&sprefix=deep+learning%2Caps%2C627&sr=8-248> (referer: https://www.amazon.com/s?k=machine+learning&page=6&crid=27NSKOKLZAT5L&qid=1663463991&sprefix=deep+learning%2Caps%2C627&ref=sr_pg_6)\n",
      "2022-09-18 03:37:56 [scrapy.core.engine] DEBUG: Crawled (200) <GET https://www.amazon.com/Machine-Learning-Hackers-Studies-Algorithms/dp/1449303714/ref=sr_1_249?crid=27NSKOKLZAT5L&keywords=machine+learning&qid=1663465052&sprefix=deep+learning%2Caps%2C627&sr=8-249> (referer: https://www.amazon.com/s?k=machine+learning&page=6&crid=27NSKOKLZAT5L&qid=1663463991&sprefix=deep+learning%2Caps%2C627&ref=sr_pg_6)\n",
      "2022-09-18 03:37:57 [scrapy.downloadermiddlewares.redirect] DEBUG: Redirecting (302) to <GET https://www.amazon.com/Text-Analytics-Python-Practitioners-Processing/dp/1484243536/ref=sr_1_243_sspa?crid=27NSKOKLZAT5L&keywords=machine+learning&qid=1663465052&sprefix=deep+learning%2Caps%2C627&sr=8-243-spons&psc=1> from <GET https://www.amazon.com/sspa/click?ie=UTF8&spc=MTo1OTQzMDI4NDU2MzQ2MjQ5OjE2NjM0NjUwNTI6c3BfYXRmX25leHQ6MjAwMDU3MzU4ODM1MDk4OjowOjo&sp_csd=d2lkZ2V0TmFtZT1zcF9hdGZfbmV4dA&url=%2FText-Analytics-Python-Practitioners-Processing%2Fdp%2F1484243536%2Fref%3Dsr_1_243_sspa%3Fcrid%3D27NSKOKLZAT5L%26keywords%3Dmachine%2Blearning%26qid%3D1663465052%26sprefix%3Ddeep%2Blearning%252Caps%252C627%26sr%3D8-243-spons%26psc%3D1>\n",
      "2022-09-18 03:37:57 [scrapy.core.engine] DEBUG: Crawled (200) <GET https://www.amazon.com/Python-Machine-Learning-Beginners-Programming/dp/B09RPGVLTQ/ref=sr_1_259_sspa?crid=27NSKOKLZAT5L&keywords=machine+learning&qid=1663465052&sprefix=deep+learning%2Caps%2C627&sr=8-259-spons&psc=1> (referer: https://www.amazon.com/s?k=machine+learning&page=6&crid=27NSKOKLZAT5L&qid=1663463991&sprefix=deep+learning%2Caps%2C627&ref=sr_pg_6)\n",
      "2022-09-18 03:37:57 [scrapy.downloadermiddlewares.redirect] DEBUG: Redirecting (302) to <GET https://www.amazon.com/Programming-Data-Science-Complete-Beginners/dp/B08M8GW2DM/ref=sr_1_244_sspa?crid=27NSKOKLZAT5L&keywords=machine+learning&qid=1663465052&sprefix=deep+learning%2Caps%2C627&sr=8-244-spons&psc=1> from <GET https://www.amazon.com/sspa/click?ie=UTF8&spc=MTo1OTQzMDI4NDU2MzQ2MjQ5OjE2NjM0NjUwNTI6c3BfYXRmX25leHQ6MjAwMDQ4ODQ3NDM4NTExOjowOjo&sp_csd=d2lkZ2V0TmFtZT1zcF9hdGZfbmV4dA&url=%2FProgramming-Data-Science-Complete-Beginners%2Fdp%2FB08M8GW2DM%2Fref%3Dsr_1_244_sspa%3Fcrid%3D27NSKOKLZAT5L%26keywords%3Dmachine%2Blearning%26qid%3D1663465052%26sprefix%3Ddeep%2Blearning%252Caps%252C627%26sr%3D8-244-spons%26psc%3D1>\n"
     ]
    },
    {
     "name": "stdout",
     "output_type": "stream",
     "text": [
      "221\n",
      "['\\n            \\n              100%\\n            \\n          '] 5.0 out of 5 stars 7.5 x 0.59 x 9.25 inches\n",
      "222\n",
      "['\\n            \\n              38%\\n            \\n          '] 3.9 out of 5 stars None\n"
     ]
    },
    {
     "name": "stderr",
     "output_type": "stream",
     "text": [
      "2022-09-18 03:37:57 [scrapy.core.engine] DEBUG: Crawled (200) <GET https://www.amazon.com/Time-Forecasting-using-Deep-Learning/dp/9391392571/ref=sr_1_257_sspa?crid=27NSKOKLZAT5L&keywords=machine+learning&qid=1663465052&sprefix=deep+learning%2Caps%2C627&sr=8-257-spons&psc=1> (referer: https://www.amazon.com/s?k=machine+learning&page=6&crid=27NSKOKLZAT5L&qid=1663463991&sprefix=deep+learning%2Caps%2C627&ref=sr_pg_6)\n"
     ]
    },
    {
     "name": "stdout",
     "output_type": "stream",
     "text": [
      "223\n",
      "['\\n            \\n              46%\\n            \\n          '] 3.7 out of 5 stars 7 x 0.75 x 9.19 inches\n",
      "224\n",
      "['\\n            \\n              69%\\n            \\n          '] 4.4 out of 5 stars 6 x 0.48 x 9 inches\n"
     ]
    },
    {
     "name": "stderr",
     "output_type": "stream",
     "text": [
      "2022-09-18 03:37:57 [scrapy.downloadermiddlewares.redirect] DEBUG: Redirecting (302) to <GET https://www.amazon.com/Effective-Data-Science-Infrastructure-scientists/dp/1617299197/ref=sr_1_242_sspa?crid=27NSKOKLZAT5L&keywords=machine+learning&qid=1663465052&sprefix=deep+learning%2Caps%2C627&sr=8-242-spons&psc=1> from <GET https://www.amazon.com/sspa/click?ie=UTF8&spc=MTo1OTQzMDI4NDU2MzQ2MjQ5OjE2NjM0NjUwNTI6c3BfYXRmX25leHQ6MjAwMDc3MDQzOTI4ODk4OjowOjo&sp_csd=d2lkZ2V0TmFtZT1zcF9hdGZfbmV4dA&url=%2FEffective-Data-Science-Infrastructure-scientists%2Fdp%2F1617299197%2Fref%3Dsr_1_242_sspa%3Fcrid%3D27NSKOKLZAT5L%26keywords%3Dmachine%2Blearning%26qid%3D1663465052%26sprefix%3Ddeep%2Blearning%252Caps%252C627%26sr%3D8-242-spons%26psc%3D1>\n"
     ]
    },
    {
     "name": "stdout",
     "output_type": "stream",
     "text": [
      "225\n",
      "['\\n            \\n              55%\\n            \\n          '] 4.4 out of 5 stars 7.5 x 0.71 x 9.25 inches\n"
     ]
    },
    {
     "name": "stderr",
     "output_type": "stream",
     "text": [
      "2022-09-18 03:37:57 [scrapy.downloadermiddlewares.redirect] DEBUG: Redirecting (302) to <GET https://www.amazon.com/Hands-Programmatic-house-Digital-Advertising/dp/939103019X/ref=sr_1_241_sspa?crid=27NSKOKLZAT5L&keywords=machine+learning&qid=1663465052&sprefix=deep+learning%2Caps%2C627&sr=8-241-spons&psc=1> from <GET https://www.amazon.com/sspa/click?ie=UTF8&spc=MTo1OTQzMDI4NDU2MzQ2MjQ5OjE2NjM0NjUwNTI6c3BfYXRmX25leHQ6MjAwMTAzODMzMTIwODgxOjowOjo&sp_csd=d2lkZ2V0TmFtZT1zcF9hdGZfbmV4dA&url=%2FHands-Programmatic-house-Digital-Advertising%2Fdp%2F939103019X%2Fref%3Dsr_1_241_sspa%3Fcrid%3D27NSKOKLZAT5L%26keywords%3Dmachine%2Blearning%26qid%3D1663465052%26sprefix%3Ddeep%2Blearning%252Caps%252C627%26sr%3D8-241-spons%26psc%3D1>\n",
      "2022-09-18 03:37:58 [scrapy.core.engine] DEBUG: Crawled (200) <GET https://www.amazon.com/Automated-Machine-Learning-Action-Qingquan/dp/1617298050/ref=sr_1_245?crid=27NSKOKLZAT5L&keywords=machine+learning&qid=1663465052&sprefix=deep+learning%2Caps%2C627&sr=8-245> (referer: https://www.amazon.com/s?k=machine+learning&page=6&crid=27NSKOKLZAT5L&qid=1663463991&sprefix=deep+learning%2Caps%2C627&ref=sr_pg_6)\n"
     ]
    },
    {
     "name": "stdout",
     "output_type": "stream",
     "text": [
      "226\n",
      "['\\n            \\n              50%\\n            \\n          '] 4.5 out of 5 stars 7.38 x 0.9 x 9.25 inches\n"
     ]
    },
    {
     "name": "stderr",
     "output_type": "stream",
     "text": [
      "2022-09-18 03:37:58 [scrapy.core.engine] DEBUG: Crawled (200) <GET https://www.amazon.com/An-Introduction-to-Machine-Learning/dp/3030819345/ref=sr_1_247?crid=27NSKOKLZAT5L&keywords=machine+learning&qid=1663465052&sprefix=deep+learning%2Caps%2C627&sr=8-247> (referer: https://www.amazon.com/s?k=machine+learning&page=6&crid=27NSKOKLZAT5L&qid=1663463991&sprefix=deep+learning%2Caps%2C627&ref=sr_pg_6)\n",
      "2022-09-18 03:37:59 [scrapy.core.engine] DEBUG: Crawled (200) <GET https://www.amazon.com/Learning-McGraw-Hill-International-Editions-Computer/dp/0071154671/ref=sr_1_246?crid=27NSKOKLZAT5L&keywords=machine+learning&qid=1663465052&sprefix=deep+learning%2Caps%2C627&sr=8-246> (referer: https://www.amazon.com/s?k=machine+learning&page=6&crid=27NSKOKLZAT5L&qid=1663463991&sprefix=deep+learning%2Caps%2C627&ref=sr_pg_6)\n",
      "2022-09-18 03:37:59 [scrapy.core.engine] DEBUG: Crawled (200) <GET https://www.amazon.com/MACHINE-LEARNING-SYSTEM-DESIGN-INTERVIEW-ebook/dp/B0BB8RQT44/ref=sr_1_223?crid=27NSKOKLZAT5L&keywords=machine+learning&qid=1663465040&sprefix=deep+learning%2Caps%2C627&sr=8-223> (referer: https://www.amazon.com/s?k=machine+learning&page=5&crid=27NSKOKLZAT5L&qid=1663463991&sprefix=deep+learning%2Caps%2C627&ref=sr_pg_5)\n"
     ]
    },
    {
     "name": "stdout",
     "output_type": "stream",
     "text": [
      "227\n",
      "[] None 6.5 x 1.25 x 9.75 inches\n",
      "228\n",
      "['\\n            \\n              66%\\n            \\n          '] 4.3 out of 5 stars 6.6 x 1.3 x 9.5 inches\n",
      "229\n",
      "[] None None\n"
     ]
    },
    {
     "name": "stderr",
     "output_type": "stream",
     "text": [
      "2022-09-18 03:37:59 [scrapy.core.engine] DEBUG: Crawled (200) <GET https://www.amazon.com/Subsurface-Geosciences-SpringerBriefs-Geoscience-Engineering/dp/3030717674/ref=sr_1_224?crid=27NSKOKLZAT5L&keywords=machine+learning&qid=1663465040&sprefix=deep+learning%2Caps%2C627&sr=8-224> (referer: https://www.amazon.com/s?k=machine+learning&page=5&crid=27NSKOKLZAT5L&qid=1663463991&sprefix=deep+learning%2Caps%2C627&ref=sr_pg_5)\n",
      "2022-09-18 03:38:00 [scrapy.core.engine] DEBUG: Crawled (200) <GET https://www.amazon.com/Machine-Learning-Refined-Foundations-Applications/dp/1108480721/ref=sr_1_220?crid=27NSKOKLZAT5L&keywords=machine+learning&qid=1663465040&sprefix=deep+learning%2Caps%2C627&sr=8-220> (referer: https://www.amazon.com/s?k=machine+learning&page=5&crid=27NSKOKLZAT5L&qid=1663463991&sprefix=deep+learning%2Caps%2C627&ref=sr_pg_5)\n"
     ]
    },
    {
     "name": "stdout",
     "output_type": "stream",
     "text": [
      "230\n",
      "['\\n            \\n              100%\\n            \\n          '] 5.0 out of 5 stars 6.1 x 0.46 x 9.25 inches\n"
     ]
    },
    {
     "name": "stderr",
     "output_type": "stream",
     "text": [
      "2022-09-18 03:38:00 [scrapy.core.engine] DEBUG: Crawled (200) <GET https://www.amazon.com/Python-Machine-Learning-Financial-Analysis-Online-Course/dp/B0B6PZ7959/ref=sr_1_216?crid=27NSKOKLZAT5L&keywords=machine+learning&qid=1663465040&sprefix=deep+learning%2Caps%2C627&sr=8-216> (referer: https://www.amazon.com/s?k=machine+learning&page=5&crid=27NSKOKLZAT5L&qid=1663463991&sprefix=deep+learning%2Caps%2C627&ref=sr_pg_5)\n"
     ]
    },
    {
     "name": "stdout",
     "output_type": "stream",
     "text": [
      "231\n",
      "['\\n            \\n              60%\\n            \\n          '] 3.9 out of 5 stars 6.75 x 1.25 x 9.75 inches\n"
     ]
    },
    {
     "name": "stderr",
     "output_type": "stream",
     "text": [
      "2022-09-18 03:38:01 [scrapy.core.engine] DEBUG: Crawled (200) <GET https://www.amazon.com/Start-with-Why-Simon-Sinek-audiobook/dp/B074VF6ZLM/ref=sr_1_219?crid=27NSKOKLZAT5L&keywords=machine+learning&qid=1663465040&sprefix=deep+learning%2Caps%2C627&sr=8-219> (referer: https://www.amazon.com/s?k=machine+learning&page=5&crid=27NSKOKLZAT5L&qid=1663463991&sprefix=deep+learning%2Caps%2C627&ref=sr_pg_5)\n"
     ]
    },
    {
     "name": "stdout",
     "output_type": "stream",
     "text": [
      "232\n",
      "[] None None\n"
     ]
    },
    {
     "name": "stderr",
     "output_type": "stream",
     "text": [
      "2022-09-18 03:38:01 [scrapy.core.engine] DEBUG: Crawled (200) <GET https://www.amazon.com/Programming-Data-Science-Complete-Beginners/dp/B08M8GW2DM/ref=sr_1_244_sspa?crid=27NSKOKLZAT5L&keywords=machine+learning&qid=1663465052&sprefix=deep+learning%2Caps%2C627&sr=8-244-spons&psc=1> (referer: https://www.amazon.com/s?k=machine+learning&page=6&crid=27NSKOKLZAT5L&qid=1663463991&sprefix=deep+learning%2Caps%2C627&ref=sr_pg_6)\n"
     ]
    },
    {
     "name": "stdout",
     "output_type": "stream",
     "text": [
      "233\n",
      "['\\n            \\n              77%\\n            \\n          '] 4.6 out of 5 stars None\n"
     ]
    },
    {
     "name": "stderr",
     "output_type": "stream",
     "text": [
      "2022-09-18 03:38:01 [scrapy.core.engine] DEBUG: Crawled (200) <GET https://www.amazon.com/Text-Analytics-Python-Practitioners-Processing/dp/1484243536/ref=sr_1_243_sspa?crid=27NSKOKLZAT5L&keywords=machine+learning&qid=1663465052&sprefix=deep+learning%2Caps%2C627&sr=8-243-spons&psc=1> (referer: https://www.amazon.com/s?k=machine+learning&page=6&crid=27NSKOKLZAT5L&qid=1663463991&sprefix=deep+learning%2Caps%2C627&ref=sr_pg_6)\n",
      "2022-09-18 03:38:01 [scrapy.core.engine] DEBUG: Crawled (200) <GET https://www.amazon.com/Deep-Learning-PyTorch-Step-Step/dp/B09QNZWW66/ref=sr_1_218?crid=27NSKOKLZAT5L&keywords=machine+learning&qid=1663465040&sprefix=deep+learning%2Caps%2C627&sr=8-218> (referer: https://www.amazon.com/s?k=machine+learning&page=5&crid=27NSKOKLZAT5L&qid=1663463991&sprefix=deep+learning%2Caps%2C627&ref=sr_pg_5)\n"
     ]
    },
    {
     "name": "stdout",
     "output_type": "stream",
     "text": [
      "234\n",
      "['\\n            \\n              50%\\n            \\n          '] 4.0 out of 5 stars 6 x 1.38 x 9 inches\n"
     ]
    },
    {
     "name": "stderr",
     "output_type": "stream",
     "text": [
      "2022-09-18 03:38:01 [scrapy.core.engine] DEBUG: Crawled (200) <GET https://www.amazon.com/Hands-Unsupervised-Learning-Using-Python/dp/1492035645/ref=sr_1_221?crid=27NSKOKLZAT5L&keywords=machine+learning&qid=1663465040&sprefix=deep+learning%2Caps%2C627&sr=8-221> (referer: https://www.amazon.com/s?k=machine+learning&page=5&crid=27NSKOKLZAT5L&qid=1663463991&sprefix=deep+learning%2Caps%2C627&ref=sr_pg_5)\n",
      "2022-09-18 03:38:02 [scrapy.core.engine] DEBUG: Crawled (200) <GET https://www.amazon.com/Reliable-Machine-Learning-Principles-Production/dp/1098106229/ref=sr_1_222?crid=27NSKOKLZAT5L&keywords=machine+learning&qid=1663465040&sprefix=deep+learning%2Caps%2C627&sr=8-222> (referer: https://www.amazon.com/s?k=machine+learning&page=5&crid=27NSKOKLZAT5L&qid=1663463991&sprefix=deep+learning%2Caps%2C627&ref=sr_pg_5)\n"
     ]
    },
    {
     "name": "stdout",
     "output_type": "stream",
     "text": [
      "235\n",
      "['\\n            \\n              70%\\n            \\n          '] 4.6 out of 5 stars 7.01 x 1.58 x 10 inches\n",
      "236\n",
      "['\\n            \\n              79%\\n            \\n          '] 4.8 out of 5 stars 7 x 0.9 x 10 inches\n"
     ]
    },
    {
     "name": "stderr",
     "output_type": "stream",
     "text": [
      "2022-09-18 03:38:02 [scrapy.downloadermiddlewares.redirect] DEBUG: Redirecting (302) to <GET https://www.amazon.com/Python-machine-learning-beginners-Scikit-learn/dp/B08KGZZQT3/ref=sr_1_212_sspa?crid=27NSKOKLZAT5L&keywords=machine+learning&qid=1663465040&sprefix=deep+learning%2Caps%2C627&sr=8-212-spons&psc=1> from <GET https://www.amazon.com/sspa/click?ie=UTF8&spc=MTo1MzAxOTQ0NzI0MTIzNzkxOjE2NjM0NjUwNDA6c3BfbXRmOjIwMDA0NTIzNjc3MDM1MTo6MDo6&sp_csd=d2lkZ2V0TmFtZT1zcF9tdGY&url=%2FPython-machine-learning-beginners-Scikit-learn%2Fdp%2FB08KGZZQT3%2Fref%3Dsr_1_212_sspa%3Fcrid%3D27NSKOKLZAT5L%26keywords%3Dmachine%2Blearning%26qid%3D1663465040%26sprefix%3Ddeep%2Blearning%252Caps%252C627%26sr%3D8-212-spons%26psc%3D1>\n",
      "2022-09-18 03:38:02 [scrapy.core.engine] DEBUG: Crawled (200) <GET https://www.amazon.com/Logistic-Regression-Learning-Training-Certification/dp/B09HY39YYC/ref=sr_1_214?crid=27NSKOKLZAT5L&keywords=machine+learning&qid=1663465040&sprefix=deep+learning%2Caps%2C627&sr=8-214> (referer: https://www.amazon.com/s?k=machine+learning&page=5&crid=27NSKOKLZAT5L&qid=1663463991&sprefix=deep+learning%2Caps%2C627&ref=sr_pg_5)\n",
      "2022-09-18 03:38:02 [scrapy.downloadermiddlewares.redirect] DEBUG: Redirecting (302) to <GET https://www.amazon.com/PYTHON-programming-beginners-machine-learning/dp/B08M255TD5/ref=sr_1_211_sspa?crid=27NSKOKLZAT5L&keywords=machine+learning&qid=1663465040&sprefix=deep+learning%2Caps%2C627&sr=8-211-spons&psc=1> from <GET https://www.amazon.com/sspa/click?ie=UTF8&spc=MTo1MzAxOTQ0NzI0MTIzNzkxOjE2NjM0NjUwNDA6c3BfbXRmOjIwMDAzODQ3MzYwMDE1MTo6MDo6&sp_csd=d2lkZ2V0TmFtZT1zcF9tdGY&url=%2FPYTHON-programming-beginners-machine-learning%2Fdp%2FB08M255TD5%2Fref%3Dsr_1_211_sspa%3Fcrid%3D27NSKOKLZAT5L%26keywords%3Dmachine%2Blearning%26qid%3D1663465040%26sprefix%3Ddeep%2Blearning%252Caps%252C627%26sr%3D8-211-spons%26psc%3D1>\n"
     ]
    },
    {
     "name": "stdout",
     "output_type": "stream",
     "text": [
      "237\n",
      "['\\n            \\n              66%\\n            \\n          '] 4.1 out of 5 stars 7 x 0.75 x 9.19 inches\n",
      "238\n",
      "[] None None\n"
     ]
    },
    {
     "name": "stderr",
     "output_type": "stream",
     "text": [
      "2022-09-18 03:38:02 [scrapy.downloadermiddlewares.redirect] DEBUG: Redirecting (302) to <GET https://www.amazon.com/Excel-2022-Illustrative-Beginners-Fundamental/dp/B0B1JZYHHX/ref=sr_1_209_sspa?crid=27NSKOKLZAT5L&keywords=machine+learning&qid=1663465040&sprefix=deep+learning%2Caps%2C627&sr=8-209-spons&psc=1> from <GET https://www.amazon.com/sspa/click?ie=UTF8&spc=MTo1MzAxOTQ0NzI0MTIzNzkxOjE2NjM0NjUwNDA6c3BfbXRmOjIwMDA1OTQ4MTk0MDQ5ODo6MDo6&sp_csd=d2lkZ2V0TmFtZT1zcF9tdGY&url=%2FExcel-2022-Illustrative-Beginners-Fundamental%2Fdp%2FB0B1JZYHHX%2Fref%3Dsr_1_209_sspa%3Fcrid%3D27NSKOKLZAT5L%26keywords%3Dmachine%2Blearning%26qid%3D1663465040%26sprefix%3Ddeep%2Blearning%252Caps%252C627%26sr%3D8-209-spons%26psc%3D1>\n",
      "2022-09-18 03:38:02 [scrapy.downloadermiddlewares.redirect] DEBUG: Redirecting (302) to <GET https://www.amazon.com/Exploring-GPT-3-unofficial-general-purpose-processing/dp/1800563191/ref=sr_1_210_sspa?crid=27NSKOKLZAT5L&keywords=machine+learning&qid=1663465040&sprefix=deep+learning%2Caps%2C627&sr=8-210-spons&psc=1> from <GET https://www.amazon.com/sspa/click?ie=UTF8&spc=MTo1MzAxOTQ0NzI0MTIzNzkxOjE2NjM0NjUwNDA6c3BfbXRmOjIwMDA3OTIzNTEzMzM3MTo6MDo6&sp_csd=d2lkZ2V0TmFtZT1zcF9tdGY&url=%2FExploring-GPT-3-unofficial-general-purpose-processing%2Fdp%2F1800563191%2Fref%3Dsr_1_210_sspa%3Fcrid%3D27NSKOKLZAT5L%26keywords%3Dmachine%2Blearning%26qid%3D1663465040%26sprefix%3Ddeep%2Blearning%252Caps%252C627%26sr%3D8-210-spons%26psc%3D1>\n",
      "2022-09-18 03:38:02 [scrapy.core.engine] DEBUG: Crawled (200) <GET https://www.amazon.com/Data-Mining-Practical-Techniques-Management-ebook/dp/B004H1TB1W/ref=sr_1_217?crid=27NSKOKLZAT5L&keywords=machine+learning&qid=1663465040&sprefix=deep+learning%2Caps%2C627&sr=8-217> (referer: https://www.amazon.com/s?k=machine+learning&page=5&crid=27NSKOKLZAT5L&qid=1663463991&sprefix=deep+learning%2Caps%2C627&ref=sr_pg_5)\n"
     ]
    },
    {
     "name": "stdout",
     "output_type": "stream",
     "text": [
      "239\n",
      "[] 4.4 out of 5 stars None\n"
     ]
    },
    {
     "name": "stderr",
     "output_type": "stream",
     "text": [
      "2022-09-18 03:38:02 [scrapy.core.engine] DEBUG: Crawled (200) <GET https://www.amazon.com/Effective-Data-Science-Infrastructure-scientists/dp/1617299197/ref=sr_1_242_sspa?crid=27NSKOKLZAT5L&keywords=machine+learning&qid=1663465052&sprefix=deep+learning%2Caps%2C627&sr=8-242-spons&psc=1> (referer: https://www.amazon.com/s?k=machine+learning&page=6&crid=27NSKOKLZAT5L&qid=1663463991&sprefix=deep+learning%2Caps%2C627&ref=sr_pg_6)\n"
     ]
    },
    {
     "name": "stdout",
     "output_type": "stream",
     "text": [
      "240\n",
      "['\\n            \\n              61%\\n            \\n          '] 4.2 out of 5 stars None\n"
     ]
    },
    {
     "name": "stderr",
     "output_type": "stream",
     "text": [
      "2022-09-18 03:38:03 [scrapy.core.engine] DEBUG: Crawled (200) <GET https://www.amazon.com/Hands-Programmatic-house-Digital-Advertising/dp/939103019X/ref=sr_1_241_sspa?crid=27NSKOKLZAT5L&keywords=machine+learning&qid=1663465052&sprefix=deep+learning%2Caps%2C627&sr=8-241-spons&psc=1> (referer: https://www.amazon.com/s?k=machine+learning&page=6&crid=27NSKOKLZAT5L&qid=1663463991&sprefix=deep+learning%2Caps%2C627&ref=sr_pg_6)\n"
     ]
    },
    {
     "name": "stdout",
     "output_type": "stream",
     "text": [
      "241\n",
      "['\\n            \\n              100%\\n            \\n          '] 5.0 out of 5 stars 7.38 x 0.8 x 9.25 inches\n"
     ]
    },
    {
     "name": "stderr",
     "output_type": "stream",
     "text": [
      "2022-09-18 03:38:03 [scrapy.core.engine] DEBUG: Crawled (200) <GET https://www.amazon.com/Deep-Learning-Life-Sciences-Microscopy/dp/1492039837/ref=sr_1_215?crid=27NSKOKLZAT5L&keywords=machine+learning&qid=1663465040&sprefix=deep+learning%2Caps%2C627&sr=8-215> (referer: https://www.amazon.com/s?k=machine+learning&page=5&crid=27NSKOKLZAT5L&qid=1663463991&sprefix=deep+learning%2Caps%2C627&ref=sr_pg_5)\n"
     ]
    },
    {
     "name": "stdout",
     "output_type": "stream",
     "text": [
      "242\n",
      "['\\n            \\n              50%\\n            \\n          '] 3.5 out of 5 stars 7.5 x 0.47 x 9.25 inches\n"
     ]
    },
    {
     "name": "stderr",
     "output_type": "stream",
     "text": [
      "2022-09-18 03:38:03 [scrapy.core.engine] DEBUG: Crawled (200) <GET https://www.amazon.com/Data-Science-Projects-Python-approach/dp/1800564481/ref=sr_1_213?crid=27NSKOKLZAT5L&keywords=machine+learning&qid=1663465040&sprefix=deep+learning%2Caps%2C627&sr=8-213> (referer: https://www.amazon.com/s?k=machine+learning&page=5&crid=27NSKOKLZAT5L&qid=1663463991&sprefix=deep+learning%2Caps%2C627&ref=sr_pg_5)\n"
     ]
    },
    {
     "name": "stdout",
     "output_type": "stream",
     "text": [
      "243\n",
      "['\\n            \\n              66%\\n            \\n          '] 4.2 out of 5 stars 7 x 0.5 x 9.19 inches\n",
      "244\n",
      "['\\n            \\n              79%\\n            \\n          '] 4.6 out of 5 stars 7.5 x 0.98 x 9.25 inches\n"
     ]
    },
    {
     "name": "stderr",
     "output_type": "stream",
     "text": [
      "2022-09-18 03:38:04 [scrapy.core.engine] DEBUG: Crawled (200) <GET https://www.amazon.com/Learning-Biology-Medicine-Davide-Bacciu/dp/1800610939/ref=sr_1_205?crid=27NSKOKLZAT5L&keywords=machine+learning&qid=1663465040&sprefix=deep+learning%2Caps%2C627&sr=8-205> (referer: https://www.amazon.com/s?k=machine+learning&page=5&crid=27NSKOKLZAT5L&qid=1663463991&sprefix=deep+learning%2Caps%2C627&ref=sr_pg_5)\n",
      "2022-09-18 03:38:04 [scrapy.core.engine] DEBUG: Crawled (200) <GET https://www.amazon.com/Building-Machine-Learning-Powered-Applications/dp/149204511X/ref=sr_1_208?crid=27NSKOKLZAT5L&keywords=machine+learning&qid=1663465040&sprefix=deep+learning%2Caps%2C627&sr=8-208> (referer: https://www.amazon.com/s?k=machine+learning&page=5&crid=27NSKOKLZAT5L&qid=1663463991&sprefix=deep+learning%2Caps%2C627&ref=sr_pg_5)\n",
      "2022-09-18 03:38:04 [scrapy.core.engine] DEBUG: Crawled (200) <GET https://www.amazon.com/Hypothesis-Testing-Intuitive-Making-Decisions/dp/173543115X/ref=sr_1_207?crid=27NSKOKLZAT5L&keywords=machine+learning&qid=1663465040&sprefix=deep+learning%2Caps%2C627&sr=8-207> (referer: https://www.amazon.com/s?k=machine+learning&page=5&crid=27NSKOKLZAT5L&qid=1663463991&sprefix=deep+learning%2Caps%2C627&ref=sr_pg_5)\n"
     ]
    },
    {
     "name": "stdout",
     "output_type": "stream",
     "text": [
      "245\n",
      "[] None 6 x 0.97 x 9 inches\n"
     ]
    },
    {
     "name": "stderr",
     "output_type": "stream",
     "text": [
      "2022-09-18 03:38:05 [scrapy.core.engine] DEBUG: Crawled (200) <GET https://www.amazon.com/Supervised-Machine-Learning-Analysis-Chapman/dp/0367554194/ref=sr_1_206?crid=27NSKOKLZAT5L&keywords=machine+learning&qid=1663465040&sprefix=deep+learning%2Caps%2C627&sr=8-206> (referer: https://www.amazon.com/s?k=machine+learning&page=5&crid=27NSKOKLZAT5L&qid=1663463991&sprefix=deep+learning%2Caps%2C627&ref=sr_pg_5)\n",
      "2022-09-18 03:38:05 [scrapy.core.engine] DEBUG: Crawled (200) <GET https://www.amazon.com/Tensorflow-Machine-Learning-Scikit-Learn-TensorFlow/dp/B099P5SMN7/ref=sr_1_204?crid=27NSKOKLZAT5L&keywords=machine+learning&qid=1663465040&sprefix=deep+learning%2Caps%2C627&sr=8-204> (referer: https://www.amazon.com/s?k=machine+learning&page=5&crid=27NSKOKLZAT5L&qid=1663463991&sprefix=deep+learning%2Caps%2C627&ref=sr_pg_5)\n"
     ]
    },
    {
     "name": "stdout",
     "output_type": "stream",
     "text": [
      "246\n",
      "['\\n            \\n              69%\\n            \\n          '] 4.4 out of 5 stars 7 x 0.55 x 9.19 inches\n",
      "247\n",
      "['\\n            \\n              78%\\n            \\n          '] 4.6 out of 5 stars 6 x 0.86 x 9 inches\n",
      "248\n",
      "['\\n            \\n              75%\\n            \\n          '] 4.5 out of 5 stars 6.14 x 0.91 x 9.21 inches\n",
      "249\n",
      "['\\n            \\n              45%\\n            \\n          '] 3.3 out of 5 stars None\n"
     ]
    },
    {
     "name": "stderr",
     "output_type": "stream",
     "text": [
      "2022-09-18 03:38:05 [scrapy.core.engine] DEBUG: Crawled (200) <GET https://www.amazon.com/Machine-Learning-Science-Algorithms-Sense/dp/1107422221/ref=sr_1_203?crid=27NSKOKLZAT5L&keywords=machine+learning&qid=1663465040&sprefix=deep+learning%2Caps%2C627&sr=8-203> (referer: https://www.amazon.com/s?k=machine+learning&page=5&crid=27NSKOKLZAT5L&qid=1663463991&sprefix=deep+learning%2Caps%2C627&ref=sr_pg_5)\n",
      "2022-09-18 03:38:06 [scrapy.core.engine] DEBUG: Crawled (200) <GET https://www.amazon.com/Python-machine-learning-beginners-Scikit-learn/dp/B08KGZZQT3/ref=sr_1_212_sspa?crid=27NSKOKLZAT5L&keywords=machine+learning&qid=1663465040&sprefix=deep+learning%2Caps%2C627&sr=8-212-spons&psc=1> (referer: https://www.amazon.com/s?k=machine+learning&page=5&crid=27NSKOKLZAT5L&qid=1663463991&sprefix=deep+learning%2Caps%2C627&ref=sr_pg_5)\n"
     ]
    },
    {
     "name": "stdout",
     "output_type": "stream",
     "text": [
      "250\n",
      "['\\n            \\n              58%\\n            \\n          '] 4.2 out of 5 stars 7.44 x 0.98 x 9.69 inches\n"
     ]
    },
    {
     "name": "stderr",
     "output_type": "stream",
     "text": [
      "2022-09-18 03:38:06 [scrapy.core.engine] DEBUG: Crawled (200) <GET https://www.amazon.com/Deep-Learning-Interviews-interview-questions/dp/1916243568/ref=sr_1_202?crid=27NSKOKLZAT5L&keywords=machine+learning&qid=1663465040&sprefix=deep+learning%2Caps%2C627&sr=8-202> (referer: https://www.amazon.com/s?k=machine+learning&page=5&crid=27NSKOKLZAT5L&qid=1663463991&sprefix=deep+learning%2Caps%2C627&ref=sr_pg_5)\n"
     ]
    },
    {
     "name": "stdout",
     "output_type": "stream",
     "text": [
      "251\n",
      "['\\n            \\n              51%\\n            \\n          '] 3.3 out of 5 stars 6 x 0.23 x 9 inches\n",
      "252\n",
      "['\\n            \\n              49%\\n            \\n          '] 3.6 out of 5 stars 7.5 x 0.91 x 9.25 inches\n"
     ]
    },
    {
     "name": "stderr",
     "output_type": "stream",
     "text": [
      "2022-09-18 03:38:07 [scrapy.core.engine] DEBUG: Crawled (200) <GET https://www.amazon.com/PYTHON-programming-beginners-machine-learning/dp/B08M255TD5/ref=sr_1_211_sspa?crid=27NSKOKLZAT5L&keywords=machine+learning&qid=1663465040&sprefix=deep+learning%2Caps%2C627&sr=8-211-spons&psc=1> (referer: https://www.amazon.com/s?k=machine+learning&page=5&crid=27NSKOKLZAT5L&qid=1663463991&sprefix=deep+learning%2Caps%2C627&ref=sr_pg_5)\n",
      "2022-09-18 03:38:07 [scrapy.core.engine] DEBUG: Crawled (200) <GET https://www.amazon.com/Machine-Learning-Pricing-Princeton-Lectures/dp/0691218706/ref=sr_1_200?crid=27NSKOKLZAT5L&keywords=machine+learning&qid=1663465040&sprefix=deep+learning%2Caps%2C627&sr=8-200> (referer: https://www.amazon.com/s?k=machine+learning&page=5&crid=27NSKOKLZAT5L&qid=1663463991&sprefix=deep+learning%2Caps%2C627&ref=sr_pg_5)\n",
      "2022-09-18 03:38:07 [scrapy.core.engine] DEBUG: Crawled (200) <GET https://www.amazon.com/Machine-Learning-Press-Essential-Knowledge/dp/0262529513/ref=sr_1_201?crid=27NSKOKLZAT5L&keywords=machine+learning&qid=1663465040&sprefix=deep+learning%2Caps%2C627&sr=8-201> (referer: https://www.amazon.com/s?k=machine+learning&page=5&crid=27NSKOKLZAT5L&qid=1663463991&sprefix=deep+learning%2Caps%2C627&ref=sr_pg_5)\n",
      "2022-09-18 03:38:07 [scrapy.core.engine] DEBUG: Crawled (200) <GET https://www.amazon.com/Exploring-GPT-3-unofficial-general-purpose-processing/dp/1800563191/ref=sr_1_210_sspa?crid=27NSKOKLZAT5L&keywords=machine+learning&qid=1663465040&sprefix=deep+learning%2Caps%2C627&sr=8-210-spons&psc=1> (referer: https://www.amazon.com/s?k=machine+learning&page=5&crid=27NSKOKLZAT5L&qid=1663463991&sprefix=deep+learning%2Caps%2C627&ref=sr_pg_5)\n",
      "2022-09-18 03:38:07 [scrapy.downloadermiddlewares.redirect] DEBUG: Redirecting (302) to <GET https://www.amazon.com/System-Design-Interview-insiders-Second/dp/B08CMF2CQF/ref=sr_1_196_sspa?crid=27NSKOKLZAT5L&keywords=machine+learning&qid=1663465040&sprefix=deep+learning%2Caps%2C627&sr=8-196-spons&psc=1> from <GET https://www.amazon.com/sspa/click?ie=UTF8&spc=MTo1MzAxOTQ0NzI0MTIzNzkxOjE2NjM0NjUwNDA6c3BfYXRmX25leHQ6MjAwMDMyMTMwMTY3NDMxOjowOjo&sp_csd=d2lkZ2V0TmFtZT1zcF9hdGZfbmV4dA&url=%2FSystem-Design-Interview-insiders-Second%2Fdp%2FB08CMF2CQF%2Fref%3Dsr_1_196_sspa%3Fcrid%3D27NSKOKLZAT5L%26keywords%3Dmachine%2Blearning%26qid%3D1663465040%26sprefix%3Ddeep%2Blearning%252Caps%252C627%26sr%3D8-196-spons%26psc%3D1>\n",
      "2022-09-18 03:38:07 [scrapy.core.engine] DEBUG: Crawled (200) <GET https://www.amazon.com/Excel-2022-Illustrative-Beginners-Fundamental/dp/B0B1JZYHHX/ref=sr_1_209_sspa?crid=27NSKOKLZAT5L&keywords=machine+learning&qid=1663465040&sprefix=deep+learning%2Caps%2C627&sr=8-209-spons&psc=1> (referer: https://www.amazon.com/s?k=machine+learning&page=5&crid=27NSKOKLZAT5L&qid=1663463991&sprefix=deep+learning%2Caps%2C627&ref=sr_pg_5)\n"
     ]
    },
    {
     "name": "stdout",
     "output_type": "stream",
     "text": [
      "253\n",
      "['\\n            \\n              36%\\n            \\n          '] 3.7 out of 5 stars 6 x 0.55 x 9 inches\n",
      "254\n",
      "['\\n            \\n              81%\\n            \\n          '] 4.3 out of 5 stars 6 x 0.9 x 9.3 inches\n"
     ]
    },
    {
     "name": "stderr",
     "output_type": "stream",
     "text": [
      "2022-09-18 03:38:08 [scrapy.downloadermiddlewares.redirect] DEBUG: Redirecting (302) to <GET https://www.amazon.com/Building-Data-Pipelines-Apache-Beam/dp/1800564937/ref=sr_1_195_sspa?crid=27NSKOKLZAT5L&keywords=machine+learning&qid=1663465040&sprefix=deep+learning%2Caps%2C627&sr=8-195-spons&psc=1> from <GET https://www.amazon.com/sspa/click?ie=UTF8&spc=MTo1MzAxOTQ0NzI0MTIzNzkxOjE2NjM0NjUwNDA6c3BfYXRmX25leHQ6MjAwMDM3MTQxMzU2OTk4OjowOjo&sp_csd=d2lkZ2V0TmFtZT1zcF9hdGZfbmV4dA&url=%2FBuilding-Data-Pipelines-Apache-Beam%2Fdp%2F1800564937%2Fref%3Dsr_1_195_sspa%3Fcrid%3D27NSKOKLZAT5L%26keywords%3Dmachine%2Blearning%26qid%3D1663465040%26sprefix%3Ddeep%2Blearning%252Caps%252C627%26sr%3D8-195-spons%26psc%3D1>\n",
      "2022-09-18 03:38:08 [scrapy.downloadermiddlewares.redirect] DEBUG: Redirecting (302) to <GET https://www.amazon.com/Hands-Julia-Programming-Authoritative-Production-Ready/dp/9391030882/ref=sr_1_194_sspa?crid=27NSKOKLZAT5L&keywords=machine+learning&qid=1663465040&sprefix=deep+learning%2Caps%2C627&sr=8-194-spons&psc=1> from <GET https://www.amazon.com/sspa/click?ie=UTF8&spc=MTo1MzAxOTQ0NzI0MTIzNzkxOjE2NjM0NjUwNDA6c3BfYXRmX25leHQ6MjAwMTAzODMzMTAwODgxOjowOjo&sp_csd=d2lkZ2V0TmFtZT1zcF9hdGZfbmV4dA&url=%2FHands-Julia-Programming-Authoritative-Production-Ready%2Fdp%2F9391030882%2Fref%3Dsr_1_194_sspa%3Fcrid%3D27NSKOKLZAT5L%26keywords%3Dmachine%2Blearning%26qid%3D1663465040%26sprefix%3Ddeep%2Blearning%252Caps%252C627%26sr%3D8-194-spons%26psc%3D1>\n",
      "2022-09-18 03:38:08 [scrapy.downloadermiddlewares.redirect] DEBUG: Redirecting (302) to <GET https://www.amazon.com/Python-Programming-Beginners-Hands-Exercises/dp/B0BCCYXZMR/ref=sr_1_193_sspa?crid=27NSKOKLZAT5L&keywords=machine+learning&qid=1663465040&sprefix=deep+learning%2Caps%2C627&sr=8-193-spons&psc=1> from <GET https://www.amazon.com/sspa/click?ie=UTF8&spc=MTo1MzAxOTQ0NzI0MTIzNzkxOjE2NjM0NjUwNDA6c3BfYXRmX25leHQ6MjAwMDg0ODQ4MjczOTk4OjowOjo&sp_csd=d2lkZ2V0TmFtZT1zcF9hdGZfbmV4dA&url=%2FPython-Programming-Beginners-Hands-Exercises%2Fdp%2FB0BCCYXZMR%2Fref%3Dsr_1_193_sspa%3Fcrid%3D27NSKOKLZAT5L%26keywords%3Dmachine%2Blearning%26qid%3D1663465040%26sprefix%3Ddeep%2Blearning%252Caps%252C627%26sr%3D8-193-spons%26psc%3D1>\n",
      "2022-09-18 03:38:08 [scrapy.core.engine] DEBUG: Crawled (200) <GET https://www.amazon.com/Introduction-Optimization-Adaptive-Computation-Learning/dp/0262046989/ref=sr_1_199?crid=27NSKOKLZAT5L&keywords=machine+learning&qid=1663465040&sprefix=deep+learning%2Caps%2C627&sr=8-199> (referer: https://www.amazon.com/s?k=machine+learning&page=5&crid=27NSKOKLZAT5L&qid=1663463991&sprefix=deep+learning%2Caps%2C627&ref=sr_pg_5)\n",
      "2022-09-18 03:38:08 [scrapy.core.engine] DEBUG: Crawled (200) <GET https://www.amazon.com/Unpacking-Ethics-Practical-Artificial-Intelligence/dp/1957386118/ref=sr_1_198?crid=27NSKOKLZAT5L&keywords=machine+learning&qid=1663465040&sprefix=deep+learning%2Caps%2C627&sr=8-198> (referer: https://www.amazon.com/s?k=machine+learning&page=5&crid=27NSKOKLZAT5L&qid=1663463991&sprefix=deep+learning%2Caps%2C627&ref=sr_pg_5)\n"
     ]
    },
    {
     "name": "stdout",
     "output_type": "stream",
     "text": [
      "255\n",
      "['\\n            \\n              59%\\n            \\n          '] 4.2 out of 5 stars 5 x 0.44 x 7 inches\n",
      "256\n",
      "['\\n            \\n              70%\\n            \\n          '] 4.4 out of 5 stars 7.5 x 0.67 x 9.25 inches\n",
      "257\n",
      "['\\n            \\n              58%\\n            \\n          '] 4.3 out of 5 stars 8.5 x 0.42 x 11 inches\n",
      "258\n",
      "[] None 6.19 x 0.66 x 9.25 inches\n",
      "259\n",
      "[] None 6 x 0.81 x 9 inches\n"
     ]
    },
    {
     "name": "stderr",
     "output_type": "stream",
     "text": [
      "2022-09-18 03:38:08 [scrapy.core.engine] DEBUG: Crawled (200) <GET https://www.amazon.com/Programming-Notebook-Computer-Programmers-Developers/dp/1655292218/ref=sr_1_197?crid=27NSKOKLZAT5L&keywords=machine+learning&qid=1663465040&sprefix=deep+learning%2Caps%2C627&sr=8-197> (referer: https://www.amazon.com/s?k=machine+learning&page=5&crid=27NSKOKLZAT5L&qid=1663463991&sprefix=deep+learning%2Caps%2C627&ref=sr_pg_5)\n"
     ]
    },
    {
     "name": "stdout",
     "output_type": "stream",
     "text": [
      "260\n",
      "[] None 6 x 0.28 x 9 inches\n"
     ]
    },
    {
     "name": "stderr",
     "output_type": "stream",
     "text": [
      "2022-09-18 03:38:10 [scrapy.core.engine] DEBUG: Crawled (200) <GET https://www.amazon.com/Machine-Learning-Python-Cookbook-Preprocessing/dp/1491989386/ref=sr_1_173?crid=27NSKOKLZAT5L&keywords=machine+learning&qid=1663465028&sprefix=deep+learning%2Caps%2C627&sr=8-173> (referer: https://www.amazon.com/s?k=machine+learning&page=4&crid=27NSKOKLZAT5L&qid=1663463991&sprefix=deep+learning%2Caps%2C627&ref=sr_pg_4)\n",
      "2022-09-18 03:38:10 [scrapy.core.engine] DEBUG: Crawled (200) <GET https://www.amazon.com/Trustworthy-Machine-Learning-Kush-Varshney/dp/B09SL5GPCD/ref=sr_1_168?crid=27NSKOKLZAT5L&keywords=machine+learning&qid=1663465028&sprefix=deep+learning%2Caps%2C627&sr=8-168> (referer: https://www.amazon.com/s?k=machine+learning&page=4&crid=27NSKOKLZAT5L&qid=1663463991&sprefix=deep+learning%2Caps%2C627&ref=sr_pg_4)\n"
     ]
    },
    {
     "name": "stdout",
     "output_type": "stream",
     "text": [
      "261\n",
      "['\\n            \\n              72%\\n            \\n          '] 4.5 out of 5 stars 7.01 x 0.76 x 9.17 inches\n"
     ]
    },
    {
     "name": "stderr",
     "output_type": "stream",
     "text": [
      "2022-09-18 03:38:10 [scrapy.core.engine] DEBUG: Crawled (200) <GET https://www.amazon.com/Python-Programming-Beginners-Hands-Exercises/dp/B0BCCYXZMR/ref=sr_1_193_sspa?crid=27NSKOKLZAT5L&keywords=machine+learning&qid=1663465040&sprefix=deep+learning%2Caps%2C627&sr=8-193-spons&psc=1> (referer: https://www.amazon.com/s?k=machine+learning&page=5&crid=27NSKOKLZAT5L&qid=1663463991&sprefix=deep+learning%2Caps%2C627&ref=sr_pg_5)\n",
      "2022-09-18 03:38:10 [scrapy.core.engine] DEBUG: Crawled (200) <GET https://www.amazon.com/Introducing-Machine-Learning-Developer-Reference-ebook/dp/B084B189CB/ref=sr_1_171?crid=27NSKOKLZAT5L&keywords=machine+learning&qid=1663465028&sprefix=deep+learning%2Caps%2C627&sr=8-171> (referer: https://www.amazon.com/s?k=machine+learning&page=4&crid=27NSKOKLZAT5L&qid=1663463991&sprefix=deep+learning%2Caps%2C627&ref=sr_pg_4)\n",
      "2022-09-18 03:38:10 [scrapy.core.engine] DEBUG: Crawled (200) <GET https://www.amazon.com/Math-Programmers-Paul-Orland/dp/1617295353/ref=sr_1_169?crid=27NSKOKLZAT5L&keywords=machine+learning&qid=1663465028&sprefix=deep+learning%2Caps%2C627&sr=8-169> (referer: https://www.amazon.com/s?k=machine+learning&page=4&crid=27NSKOKLZAT5L&qid=1663463991&sprefix=deep+learning%2Caps%2C627&ref=sr_pg_4)\n"
     ]
    },
    {
     "name": "stdout",
     "output_type": "stream",
     "text": [
      "262\n",
      "['\\n            \\n              84%\\n            \\n          '] 4.8 out of 5 stars 7.5 x 0.6 x 9.25 inches\n",
      "263\n",
      "['\\n            \\n              97%\\n            \\n          '] 5.0 out of 5 stars 8.5 x 0.2 x 11 inches\n"
     ]
    },
    {
     "name": "stderr",
     "output_type": "stream",
     "text": [
      "2022-09-18 03:38:11 [scrapy.core.engine] DEBUG: Crawled (200) <GET https://www.amazon.com/Machine-Learning-Interviews-Khang-Pham/dp/B09S9JBT86/ref=sr_1_172?crid=27NSKOKLZAT5L&keywords=machine+learning&qid=1663465028&sprefix=deep+learning%2Caps%2C627&sr=8-172> (referer: https://www.amazon.com/s?k=machine+learning&page=4&crid=27NSKOKLZAT5L&qid=1663463991&sprefix=deep+learning%2Caps%2C627&ref=sr_pg_4)\n",
      "2022-09-18 03:38:11 [scrapy.core.engine] DEBUG: Crawled (200) <GET https://www.amazon.com/Hands-Julia-Programming-Authoritative-Production-Ready/dp/9391030882/ref=sr_1_194_sspa?crid=27NSKOKLZAT5L&keywords=machine+learning&qid=1663465040&sprefix=deep+learning%2Caps%2C627&sr=8-194-spons&psc=1> (referer: https://www.amazon.com/s?k=machine+learning&page=5&crid=27NSKOKLZAT5L&qid=1663463991&sprefix=deep+learning%2Caps%2C627&ref=sr_pg_5)\n",
      "2022-09-18 03:38:11 [scrapy.core.engine] DEBUG: Crawled (200) <GET https://www.amazon.com/Data-Mining-Practical-Techniques-Management/dp/0128042915/ref=sr_1_170?crid=27NSKOKLZAT5L&keywords=machine+learning&qid=1663465028&sprefix=deep+learning%2Caps%2C627&sr=8-170> (referer: https://www.amazon.com/s?k=machine+learning&page=4&crid=27NSKOKLZAT5L&qid=1663463991&sprefix=deep+learning%2Caps%2C627&ref=sr_pg_4)\n"
     ]
    },
    {
     "name": "stdout",
     "output_type": "stream",
     "text": [
      "264\n",
      "['\\n            \\n              59%\\n            \\n          '] 4.2 out of 5 stars None\n",
      "265\n",
      "['\\n            \\n              72%\\n            \\n          '] 4.5 out of 5 stars 7.38 x 1 x 9.25 inches\n"
     ]
    },
    {
     "name": "stderr",
     "output_type": "stream",
     "text": [
      "2022-09-18 03:38:11 [scrapy.downloadermiddlewares.redirect] DEBUG: Redirecting (302) to <GET https://www.amazon.com/Learn-Power-comprehensive-step-step/dp/1801811954/ref=sr_1_164_sspa?crid=27NSKOKLZAT5L&keywords=machine+learning&qid=1663465028&sprefix=deep+learning%2Caps%2C627&sr=8-164-spons&psc=1> from <GET https://www.amazon.com/sspa/click?ie=UTF8&spc=MTo2NzAyMjkyOTM3MTY0NzU3OjE2NjM0NjUwMjg6c3BfbXRmOjIwMDA0MzQ2MzA1NDU5ODo6MDo6&sp_csd=d2lkZ2V0TmFtZT1zcF9tdGY&url=%2FLearn-Power-comprehensive-step-step%2Fdp%2F1801811954%2Fref%3Dsr_1_164_sspa%3Fcrid%3D27NSKOKLZAT5L%26keywords%3Dmachine%2Blearning%26qid%3D1663465028%26sprefix%3Ddeep%2Blearning%252Caps%252C627%26sr%3D8-164-spons%26psc%3D1>\n"
     ]
    },
    {
     "name": "stdout",
     "output_type": "stream",
     "text": [
      "266\n",
      "['\\n            \\n              32%\\n            \\n          '] 2.9 out of 5 stars 6 x 0.24 x 9 inches\n",
      "267\n",
      "['\\n            \\n              36%\\n            \\n          '] 3.3 out of 5 stars 7.5 x 0.88 x 9.25 inches\n"
     ]
    },
    {
     "name": "stderr",
     "output_type": "stream",
     "text": [
      "2022-09-18 03:38:11 [scrapy.core.engine] DEBUG: Crawled (200) <GET https://www.amazon.com/Data-Science-Capstone-Decisions-Certification/dp/B09HXYLW6J/ref=sr_1_166?crid=27NSKOKLZAT5L&keywords=machine+learning&qid=1663465028&sprefix=deep+learning%2Caps%2C627&sr=8-166> (referer: https://www.amazon.com/s?k=machine+learning&page=4&crid=27NSKOKLZAT5L&qid=1663463991&sprefix=deep+learning%2Caps%2C627&ref=sr_pg_4)\n",
      "2022-09-18 03:38:11 [scrapy.downloadermiddlewares.redirect] DEBUG: Redirecting (302) to <GET https://www.amazon.com/Learn-python-programming-beginners-comprehending/dp/B08KH3PXN5/ref=sr_1_162_sspa?crid=27NSKOKLZAT5L&keywords=machine+learning&qid=1663465028&sprefix=deep+learning%2Caps%2C627&sr=8-162-spons&psc=1> from <GET https://www.amazon.com/sspa/click?ie=UTF8&spc=MTo2NzAyMjkyOTM3MTY0NzU3OjE2NjM0NjUwMjg6c3BfbXRmOjIwMDAzNDAwMTM5MDE1MTo6MDo6&sp_csd=d2lkZ2V0TmFtZT1zcF9tdGY&url=%2FLearn-python-programming-beginners-comprehending%2Fdp%2FB08KH3PXN5%2Fref%3Dsr_1_162_sspa%3Fcrid%3D27NSKOKLZAT5L%26keywords%3Dmachine%2Blearning%26qid%3D1663465028%26sprefix%3Ddeep%2Blearning%252Caps%252C627%26sr%3D8-162-spons%26psc%3D1>\n",
      "2022-09-18 03:38:11 [scrapy.downloadermiddlewares.redirect] DEBUG: Redirecting (302) to <GET https://www.amazon.com/Getting-Started-Amazon-SageMaker-Studio/dp/1801070156/ref=sr_1_163_sspa?crid=27NSKOKLZAT5L&keywords=machine+learning&qid=1663465028&sprefix=deep+learning%2Caps%2C627&sr=8-163-spons&psc=1> from <GET https://www.amazon.com/sspa/click?ie=UTF8&spc=MTo2NzAyMjkyOTM3MTY0NzU3OjE2NjM0NjUwMjg6c3BfbXRmOjIwMDA1MjQ5NTYzMDQ5ODo6MDo6&sp_csd=d2lkZ2V0TmFtZT1zcF9tdGY&url=%2FGetting-Started-Amazon-SageMaker-Studio%2Fdp%2F1801070156%2Fref%3Dsr_1_163_sspa%3Fcrid%3D27NSKOKLZAT5L%26keywords%3Dmachine%2Blearning%26qid%3D1663465028%26sprefix%3Ddeep%2Blearning%252Caps%252C627%26sr%3D8-163-spons%26psc%3D1>\n"
     ]
    },
    {
     "name": "stdout",
     "output_type": "stream",
     "text": [
      "268\n",
      "['\\n            \\n              58%\\n            \\n          '] 4.2 out of 5 stars 7.4 x 1.1 x 9.2 inches\n",
      "269\n",
      "[] 4.3 out of 5 stars None\n"
     ]
    },
    {
     "name": "stderr",
     "output_type": "stream",
     "text": [
      "2022-09-18 03:38:12 [scrapy.core.engine] DEBUG: Crawled (200) <GET https://www.amazon.com/Building-Data-Pipelines-Apache-Beam/dp/1800564937/ref=sr_1_195_sspa?crid=27NSKOKLZAT5L&keywords=machine+learning&qid=1663465040&sprefix=deep+learning%2Caps%2C627&sr=8-195-spons&psc=1> (referer: https://www.amazon.com/s?k=machine+learning&page=5&crid=27NSKOKLZAT5L&qid=1663463991&sprefix=deep+learning%2Caps%2C627&ref=sr_pg_5)\n",
      "2022-09-18 03:38:12 [scrapy.core.engine] DEBUG: Crawled (200) <GET https://www.amazon.com/Machine-Learning-Financial-Management-Python/dp/1492085251/ref=sr_1_167?crid=27NSKOKLZAT5L&keywords=machine+learning&qid=1663465028&sprefix=deep+learning%2Caps%2C627&sr=8-167> (referer: https://www.amazon.com/s?k=machine+learning&page=4&crid=27NSKOKLZAT5L&qid=1663463991&sprefix=deep+learning%2Caps%2C627&ref=sr_pg_4)\n"
     ]
    },
    {
     "name": "stdout",
     "output_type": "stream",
     "text": [
      "270\n",
      "['\\n            \\n              55%\\n            \\n          '] 3.9 out of 5 stars 7.5 x 0.78 x 9.25 inches\n"
     ]
    },
    {
     "name": "stderr",
     "output_type": "stream",
     "text": [
      "2022-09-18 03:38:13 [scrapy.core.engine] DEBUG: Crawled (200) <GET https://www.amazon.com/System-Design-Interview-insiders-Second/dp/B08CMF2CQF/ref=sr_1_196_sspa?crid=27NSKOKLZAT5L&keywords=machine+learning&qid=1663465040&sprefix=deep+learning%2Caps%2C627&sr=8-196-spons&psc=1> (referer: https://www.amazon.com/s?k=machine+learning&page=5&crid=27NSKOKLZAT5L&qid=1663463991&sprefix=deep+learning%2Caps%2C627&ref=sr_pg_5)\n",
      "2022-09-18 03:38:13 [scrapy.core.engine] DEBUG: Crawled (200) <GET https://www.amazon.com/Practical-Big-Data-Analytics-Hands/dp/1783554398/ref=sr_1_165?crid=27NSKOKLZAT5L&keywords=machine+learning&qid=1663465028&sprefix=deep+learning%2Caps%2C627&sr=8-165> (referer: https://www.amazon.com/s?k=machine+learning&page=4&crid=27NSKOKLZAT5L&qid=1663463991&sprefix=deep+learning%2Caps%2C627&ref=sr_pg_4)\n"
     ]
    },
    {
     "name": "stdout",
     "output_type": "stream",
     "text": [
      "271\n",
      "['\\n            \\n              58%\\n            \\n          '] 3.8 out of 5 stars 7 x 0.5 x 9.25 inches\n"
     ]
    },
    {
     "name": "stderr",
     "output_type": "stream",
     "text": [
      "2022-09-18 03:38:13 [scrapy.core.engine] DEBUG: Crawled (200) <GET https://www.amazon.com/Deep-Learning-Second-Francois-Chollet-ebook/dp/B0B69GPTLY/ref=sr_1_160?crid=27NSKOKLZAT5L&keywords=machine+learning&qid=1663465028&sprefix=deep+learning%2Caps%2C627&sr=8-160> (referer: https://www.amazon.com/s?k=machine+learning&page=4&crid=27NSKOKLZAT5L&qid=1663463991&sprefix=deep+learning%2Caps%2C627&ref=sr_pg_4)\n"
     ]
    },
    {
     "name": "stdout",
     "output_type": "stream",
     "text": [
      "272\n",
      "['\\n            \\n              72%\\n            \\n          '] 4.6 out of 5 stars 6 x 0.73 x 9 inches\n",
      "273\n",
      "['\\n            \\n              49%\\n            \\n          '] 3.8 out of 5 stars 7.5 x 0.93 x 9.25 inches\n",
      "274\n",
      "[] None None\n"
     ]
    },
    {
     "name": "stderr",
     "output_type": "stream",
     "text": [
      "2022-09-18 03:38:13 [scrapy.core.engine] DEBUG: Crawled (200) <GET https://www.amazon.com/Machine-Learning-Seyedeh-Leili-Mirtaheri-ebook/dp/B0B5SBS68F/ref=sr_1_159?crid=27NSKOKLZAT5L&keywords=machine+learning&qid=1663465028&sprefix=deep+learning%2Caps%2C627&sr=8-159> (referer: https://www.amazon.com/s?k=machine+learning&page=4&crid=27NSKOKLZAT5L&qid=1663463991&sprefix=deep+learning%2Caps%2C627&ref=sr_pg_4)\n"
     ]
    },
    {
     "name": "stdout",
     "output_type": "stream",
     "text": [
      "275\n",
      "[] None None\n"
     ]
    },
    {
     "name": "stderr",
     "output_type": "stream",
     "text": [
      "2022-09-18 03:38:14 [scrapy.core.engine] DEBUG: Crawled (200) <GET https://www.amazon.com/Linear-Algebra-Optimization-Machine-Learning/dp/3030403432/ref=sr_1_158?crid=27NSKOKLZAT5L&keywords=machine+learning&qid=1663465028&sprefix=deep+learning%2Caps%2C627&sr=8-158> (referer: https://www.amazon.com/s?k=machine+learning&page=4&crid=27NSKOKLZAT5L&qid=1663463991&sprefix=deep+learning%2Caps%2C627&ref=sr_pg_4)\n",
      "2022-09-18 03:38:14 [scrapy.core.engine] DEBUG: Crawled (200) <GET https://www.amazon.com/Data-Mining-Rattle-Excavating-Knowledge/dp/1441998896/ref=sr_1_157?crid=27NSKOKLZAT5L&keywords=machine+learning&qid=1663465028&sprefix=deep+learning%2Caps%2C627&sr=8-157> (referer: https://www.amazon.com/s?k=machine+learning&page=4&crid=27NSKOKLZAT5L&qid=1663463991&sprefix=deep+learning%2Caps%2C627&ref=sr_pg_4)\n",
      "2022-09-18 03:38:14 [scrapy.core.engine] DEBUG: Crawled (200) <GET https://www.amazon.com/Machine-Learning-Data-Analytics-Paradigms/dp/3030593371/ref=sr_1_155?crid=27NSKOKLZAT5L&keywords=machine+learning&qid=1663465028&sprefix=deep+learning%2Caps%2C627&sr=8-155> (referer: https://www.amazon.com/s?k=machine+learning&page=4&crid=27NSKOKLZAT5L&qid=1663463991&sprefix=deep+learning%2Caps%2C627&ref=sr_pg_4)\n"
     ]
    },
    {
     "name": "stdout",
     "output_type": "stream",
     "text": [
      "276\n",
      "['\\n            \\n              74%\\n            \\n          '] 4.6 out of 5 stars 7 x 1.13 x 10 inches\n",
      "277\n",
      "['\\n            \\n              68%\\n            \\n          '] 4.3 out of 5 stars 6.1 x 0.93 x 9.25 inches\n"
     ]
    },
    {
     "name": "stderr",
     "output_type": "stream",
     "text": [
      "2022-09-18 03:38:15 [scrapy.core.engine] DEBUG: Crawled (200) <GET https://www.amazon.com/Data-Algorithms-Spark-Recipes-Patterns/dp/1492082384/ref=sr_1_156?crid=27NSKOKLZAT5L&keywords=machine+learning&qid=1663465028&sprefix=deep+learning%2Caps%2C627&sr=8-156> (referer: https://www.amazon.com/s?k=machine+learning&page=4&crid=27NSKOKLZAT5L&qid=1663463991&sprefix=deep+learning%2Caps%2C627&ref=sr_pg_4)\n"
     ]
    },
    {
     "name": "stdout",
     "output_type": "stream",
     "text": [
      "278\n",
      "[] None 6.14 x 1.44 x 9.21 inches\n"
     ]
    },
    {
     "name": "stderr",
     "output_type": "stream",
     "text": [
      "2022-09-18 03:38:15 [scrapy.core.engine] DEBUG: Crawled (200) <GET https://www.amazon.com/Learn-Power-comprehensive-step-step/dp/1801811954/ref=sr_1_164_sspa?crid=27NSKOKLZAT5L&keywords=machine+learning&qid=1663465028&sprefix=deep+learning%2Caps%2C627&sr=8-164-spons&psc=1> (referer: https://www.amazon.com/s?k=machine+learning&page=4&crid=27NSKOKLZAT5L&qid=1663463991&sprefix=deep+learning%2Caps%2C627&ref=sr_pg_4)\n"
     ]
    },
    {
     "name": "stdout",
     "output_type": "stream",
     "text": [
      "279\n",
      "['\\n            \\n              100%\\n            \\n          '] 5.0 out of 5 stars 9.1 x 1.1 x 7 inches\n"
     ]
    },
    {
     "name": "stderr",
     "output_type": "stream",
     "text": [
      "2022-09-18 03:38:15 [scrapy.core.engine] DEBUG: Crawled (200) <GET https://www.amazon.com/Becoming-Data-Head-Understand-Statistics/dp/1119741742/ref=sr_1_154?crid=27NSKOKLZAT5L&keywords=machine+learning&qid=1663465028&sprefix=deep+learning%2Caps%2C627&sr=8-154> (referer: https://www.amazon.com/s?k=machine+learning&page=4&crid=27NSKOKLZAT5L&qid=1663463991&sprefix=deep+learning%2Caps%2C627&ref=sr_pg_4)\n",
      "2022-09-18 03:38:15 [scrapy.core.engine] DEBUG: Crawled (200) <GET https://www.amazon.com/Deep-Learning-Approach-Andrew-Glassner/dp/1718500726/ref=sr_1_153?crid=27NSKOKLZAT5L&keywords=machine+learning&qid=1663465028&sprefix=deep+learning%2Caps%2C627&sr=8-153> (referer: https://www.amazon.com/s?k=machine+learning&page=4&crid=27NSKOKLZAT5L&qid=1663463991&sprefix=deep+learning%2Caps%2C627&ref=sr_pg_4)\n"
     ]
    },
    {
     "name": "stdout",
     "output_type": "stream",
     "text": [
      "280\n",
      "['\\n            \\n              66%\\n            \\n          '] 4.4 out of 5 stars 7.5 x 1.04 x 9.25 inches\n"
     ]
    },
    {
     "name": "stderr",
     "output_type": "stream",
     "text": [
      "2022-09-18 03:38:16 [scrapy.core.engine] DEBUG: Crawled (200) <GET https://www.amazon.com/Getting-Started-Amazon-SageMaker-Studio/dp/1801070156/ref=sr_1_163_sspa?crid=27NSKOKLZAT5L&keywords=machine+learning&qid=1663465028&sprefix=deep+learning%2Caps%2C627&sr=8-163-spons&psc=1> (referer: https://www.amazon.com/s?k=machine+learning&page=4&crid=27NSKOKLZAT5L&qid=1663463991&sprefix=deep+learning%2Caps%2C627&ref=sr_pg_4)\n",
      "2022-09-18 03:38:16 [scrapy.downloadermiddlewares.redirect] DEBUG: Redirecting (302) to <GET https://www.amazon.com/Python-Programming-Complete-Beginners-Learning/dp/B08TRLB4SD/ref=sr_1_148_sspa?crid=27NSKOKLZAT5L&keywords=machine+learning&qid=1663465028&sprefix=deep+learning%2Caps%2C627&sr=8-148-spons&psc=1> from <GET https://www.amazon.com/sspa/click?ie=UTF8&spc=MTo2NzAyMjkyOTM3MTY0NzU3OjE2NjM0NjUwMjg6c3BfYXRmX25leHQ6MjAwMDg0MzI4NjQ2MDk4OjowOjo&sp_csd=d2lkZ2V0TmFtZT1zcF9hdGZfbmV4dA&url=%2FPython-Programming-Complete-Beginners-Learning%2Fdp%2FB08TRLB4SD%2Fref%3Dsr_1_148_sspa%3Fcrid%3D27NSKOKLZAT5L%26keywords%3Dmachine%2Blearning%26qid%3D1663465028%26sprefix%3Ddeep%2Blearning%252Caps%252C627%26sr%3D8-148-spons%26psc%3D1>\n",
      "2022-09-18 03:38:16 [scrapy.downloadermiddlewares.redirect] DEBUG: Redirecting (302) to <GET https://www.amazon.com/Practical-Robotics-Program-Autonomous-Raspberry/dp/9389423465/ref=sr_1_147_sspa?crid=27NSKOKLZAT5L&keywords=machine+learning&qid=1663465028&sprefix=deep+learning%2Caps%2C627&sr=8-147-spons&psc=1> from <GET https://www.amazon.com/sspa/click?ie=UTF8&spc=MTo2NzAyMjkyOTM3MTY0NzU3OjE2NjM0NjUwMjg6c3BfYXRmX25leHQ6MjAwMDY1NDc5MTM0NTgxOjowOjo&sp_csd=d2lkZ2V0TmFtZT1zcF9hdGZfbmV4dA&url=%2FPractical-Robotics-Program-Autonomous-Raspberry%2Fdp%2F9389423465%2Fref%3Dsr_1_147_sspa%3Fcrid%3D27NSKOKLZAT5L%26keywords%3Dmachine%2Blearning%26qid%3D1663465028%26sprefix%3Ddeep%2Blearning%252Caps%252C627%26sr%3D8-147-spons%26psc%3D1>\n"
     ]
    },
    {
     "name": "stdout",
     "output_type": "stream",
     "text": [
      "281\n",
      "['\\n            \\n              74%\\n            \\n          '] 4.6 out of 5 stars 6 x 0.62 x 9 inches\n",
      "282\n",
      "['\\n            \\n              86%\\n            \\n          '] 4.7 out of 5 stars 7.06 x 1.34 x 9.25 inches\n"
     ]
    },
    {
     "name": "stderr",
     "output_type": "stream",
     "text": [
      "2022-09-18 03:38:16 [scrapy.downloadermiddlewares.redirect] DEBUG: Redirecting (302) to <GET https://www.amazon.com/Algorithms-Data-Structures-Massive-Datasets/dp/1617298034/ref=sr_1_146_sspa?crid=27NSKOKLZAT5L&keywords=machine+learning&qid=1663465028&sprefix=deep+learning%2Caps%2C627&sr=8-146-spons&psc=1> from <GET https://www.amazon.com/sspa/click?ie=UTF8&spc=MTo2NzAyMjkyOTM3MTY0NzU3OjE2NjM0NjUwMjg6c3BfYXRmX25leHQ6MjAwMDY4NTYzNTQwNjk4OjowOjo&sp_csd=d2lkZ2V0TmFtZT1zcF9hdGZfbmV4dA&url=%2FAlgorithms-Data-Structures-Massive-Datasets%2Fdp%2F1617298034%2Fref%3Dsr_1_146_sspa%3Fcrid%3D27NSKOKLZAT5L%26keywords%3Dmachine%2Blearning%26qid%3D1663465028%26sprefix%3Ddeep%2Blearning%252Caps%252C627%26sr%3D8-146-spons%26psc%3D1>\n",
      "2022-09-18 03:38:16 [scrapy.downloadermiddlewares.redirect] DEBUG: Redirecting (302) to <GET https://www.amazon.com/NFT-BEGINNERS-Create-Non-Fungible-Scratch/dp/B0B149FWS7/ref=sr_1_145_sspa?crid=27NSKOKLZAT5L&keywords=machine+learning&qid=1663465028&sprefix=deep+learning%2Caps%2C627&sr=8-145-spons&psc=1> from <GET https://www.amazon.com/sspa/click?ie=UTF8&spc=MTo2NzAyMjkyOTM3MTY0NzU3OjE2NjM0NjUwMjg6c3BfYXRmX25leHQ6MjAwMDg2OTMwNDk3OTk4OjowOjo&sp_csd=d2lkZ2V0TmFtZT1zcF9hdGZfbmV4dA&url=%2FNFT-BEGINNERS-Create-Non-Fungible-Scratch%2Fdp%2FB0B149FWS7%2Fref%3Dsr_1_145_sspa%3Fcrid%3D27NSKOKLZAT5L%26keywords%3Dmachine%2Blearning%26qid%3D1663465028%26sprefix%3Ddeep%2Blearning%252Caps%252C627%26sr%3D8-145-spons%26psc%3D1>\n"
     ]
    },
    {
     "name": "stdout",
     "output_type": "stream",
     "text": [
      "283\n",
      "['\\n            \\n              83%\\n            \\n          '] 4.8 out of 5 stars 7.5 x 0.74 x 9.25 inches\n"
     ]
    },
    {
     "name": "stderr",
     "output_type": "stream",
     "text": [
      "2022-09-18 03:38:16 [scrapy.core.engine] DEBUG: Crawled (200) <GET https://www.amazon.com/Graph-Machine-Learning-techniques-algorithms/dp/1800204493/ref=sr_1_152?crid=27NSKOKLZAT5L&keywords=machine+learning&qid=1663465028&sprefix=deep+learning%2Caps%2C627&sr=8-152> (referer: https://www.amazon.com/s?k=machine+learning&page=4&crid=27NSKOKLZAT5L&qid=1663463991&sprefix=deep+learning%2Caps%2C627&ref=sr_pg_4)\n",
      "2022-09-18 03:38:17 [scrapy.core.engine] DEBUG: Crawled (200) <GET https://www.amazon.com/Learn-python-programming-beginners-comprehending/dp/B08KH3PXN5/ref=sr_1_162_sspa?crid=27NSKOKLZAT5L&keywords=machine+learning&qid=1663465028&sprefix=deep+learning%2Caps%2C627&sr=8-162-spons&psc=1> (referer: https://www.amazon.com/s?k=machine+learning&page=4&crid=27NSKOKLZAT5L&qid=1663463991&sprefix=deep+learning%2Caps%2C627&ref=sr_pg_4)\n"
     ]
    },
    {
     "name": "stdout",
     "output_type": "stream",
     "text": [
      "284\n",
      "['\\n            \\n              52%\\n            \\n          '] 4.0 out of 5 stars 7.5 x 0.77 x 9.25 inches\n"
     ]
    },
    {
     "name": "stderr",
     "output_type": "stream",
     "text": [
      "2022-09-18 03:38:17 [scrapy.core.engine] DEBUG: Crawled (200) <GET https://www.amazon.com/Data-Science-AWS-End-End/dp/1492079391/ref=sr_1_151?crid=27NSKOKLZAT5L&keywords=machine+learning&qid=1663465028&sprefix=deep+learning%2Caps%2C627&sr=8-151> (referer: https://www.amazon.com/s?k=machine+learning&page=4&crid=27NSKOKLZAT5L&qid=1663463991&sprefix=deep+learning%2Caps%2C627&ref=sr_pg_4)\n"
     ]
    },
    {
     "name": "stdout",
     "output_type": "stream",
     "text": [
      "285\n",
      "['\\n            \\n              60%\\n            \\n          '] 3.9 out of 5 stars 6 x 0.33 x 9 inches\n"
     ]
    },
    {
     "name": "stderr",
     "output_type": "stream",
     "text": [
      "2022-09-18 03:38:17 [scrapy.core.engine] DEBUG: Crawled (200) <GET https://www.amazon.com/Machine-Learning-Pocket-Reference-Structured/dp/1492047546/ref=sr_1_150?crid=27NSKOKLZAT5L&keywords=machine+learning&qid=1663465028&sprefix=deep+learning%2Caps%2C627&sr=8-150> (referer: https://www.amazon.com/s?k=machine+learning&page=4&crid=27NSKOKLZAT5L&qid=1663463991&sprefix=deep+learning%2Caps%2C627&ref=sr_pg_4)\n",
      "2022-09-18 03:38:17 [scrapy.core.engine] DEBUG: Crawled (200) <GET https://www.amazon.com/Distributed-Machine-Learning-Python-Accelerating/dp/1801815690/ref=sr_1_149?crid=27NSKOKLZAT5L&keywords=machine+learning&qid=1663465028&sprefix=deep+learning%2Caps%2C627&sr=8-149> (referer: https://www.amazon.com/s?k=machine+learning&page=4&crid=27NSKOKLZAT5L&qid=1663463991&sprefix=deep+learning%2Caps%2C627&ref=sr_pg_4)\n"
     ]
    },
    {
     "name": "stdout",
     "output_type": "stream",
     "text": [
      "286\n",
      "['\\n            \\n              70%\\n            \\n          '] 4.4 out of 5 stars 7 x 1.05 x 9.19 inches\n",
      "287\n",
      "['\\n            \\n              73%\\n            \\n          '] 4.6 out of 5 stars 4.25 x 0.67 x 7 inches\n",
      "288\n",
      "['\\n            \\n              76%\\n            \\n          '] 4.0 out of 5 stars 7.5 x 0.64 x 9.25 inches\n"
     ]
    },
    {
     "name": "stderr",
     "output_type": "stream",
     "text": [
      "2022-09-18 03:38:18 [scrapy.core.engine] DEBUG: Crawled (200) <GET https://www.amazon.com/Power-Prediction-Disruptive-Artificial-Intelligence-ebook/dp/B09Q6GT9JN/ref=sr_1_120?crid=27NSKOKLZAT5L&keywords=machine+learning&qid=1663465010&sprefix=deep+learning%2Caps%2C627&sr=8-120> (referer: https://www.amazon.com/s?k=machine+learning&page=3&crid=27NSKOKLZAT5L&qid=1663463991&sprefix=deep+learning%2Caps%2C627&ref=sr_pg_3)\n",
      "2022-09-18 03:38:18 [scrapy.core.engine] DEBUG: Crawled (200) <GET https://www.amazon.com/Machine-Learning-Engineering-Python-production/dp/1801079250/ref=sr_1_121?crid=27NSKOKLZAT5L&keywords=machine+learning&qid=1663465010&sprefix=deep+learning%2Caps%2C627&sr=8-121> (referer: https://www.amazon.com/s?k=machine+learning&page=3&crid=27NSKOKLZAT5L&qid=1663463991&sprefix=deep+learning%2Caps%2C627&ref=sr_pg_3)\n",
      "2022-09-18 03:38:18 [scrapy.downloadermiddlewares.redirect] DEBUG: Redirecting (302) to <GET https://www.amazon.com/Think-AI-flavours-Learning-libraries/dp/9355513194/ref=sr_1_116_sspa?crid=27NSKOKLZAT5L&keywords=machine+learning&qid=1663465010&sprefix=deep+learning%2Caps%2C627&sr=8-116-spons&psc=1> from <GET https://www.amazon.com/sspa/click?ie=UTF8&spc=MTo3NTQ1Mzg1NzIyNDcxMDIxOjE2NjM0NjUwMTA6c3BfbXRmOjIwMDA3Mzc1NDg4MzU5ODo6MDo6&sp_csd=d2lkZ2V0TmFtZT1zcF9tdGY&url=%2FThink-AI-flavours-Learning-libraries%2Fdp%2F9355513194%2Fref%3Dsr_1_116_sspa%3Fcrid%3D27NSKOKLZAT5L%26keywords%3Dmachine%2Blearning%26qid%3D1663465010%26sprefix%3Ddeep%2Blearning%252Caps%252C627%26sr%3D8-116-spons%26psc%3D1>\n",
      "2022-09-18 03:38:18 [scrapy.core.engine] DEBUG: Crawled (200) <GET https://www.amazon.com/Adversarial-Robustness-Machine-Learning-Pin-Yu-ebook/dp/B0BBLV594H/ref=sr_1_119?crid=27NSKOKLZAT5L&keywords=machine+learning&qid=1663465010&sprefix=deep+learning%2Caps%2C627&sr=8-119> (referer: https://www.amazon.com/s?k=machine+learning&page=3&crid=27NSKOKLZAT5L&qid=1663463991&sprefix=deep+learning%2Caps%2C627&ref=sr_pg_3)\n"
     ]
    },
    {
     "name": "stdout",
     "output_type": "stream",
     "text": [
      "289\n",
      "[] None None\n",
      "290\n",
      "['\\n            \\n              62%\\n            \\n          '] 4.5 out of 5 stars 7.5 x 0.63 x 9.25 inches\n"
     ]
    },
    {
     "name": "stderr",
     "output_type": "stream",
     "text": [
      "2022-09-18 03:38:19 [scrapy.downloadermiddlewares.redirect] DEBUG: Redirecting (302) to <GET https://www.amazon.com/Data-Science-Projects-Python-approach/dp/1800564481/ref=sr_1_115_sspa?crid=27NSKOKLZAT5L&keywords=machine+learning&qid=1663465010&sprefix=deep+learning%2Caps%2C627&sr=8-115-spons&psc=1> from <GET https://www.amazon.com/sspa/click?ie=UTF8&spc=MTo3NTQ1Mzg1NzIyNDcxMDIxOjE2NjM0NjUwMTA6c3BfbXRmOjIwMDA4MzI0MzYxMzM3MTo6MDo6&sp_csd=d2lkZ2V0TmFtZT1zcF9tdGY&url=%2FData-Science-Projects-Python-approach%2Fdp%2F1800564481%2Fref%3Dsr_1_115_sspa%3Fcrid%3D27NSKOKLZAT5L%26keywords%3Dmachine%2Blearning%26qid%3D1663465010%26sprefix%3Ddeep%2Blearning%252Caps%252C627%26sr%3D8-115-spons%26psc%3D1>\n"
     ]
    },
    {
     "name": "stdout",
     "output_type": "stream",
     "text": [
      "291\n",
      "[] None None\n"
     ]
    },
    {
     "name": "stderr",
     "output_type": "stream",
     "text": [
      "2022-09-18 03:38:19 [scrapy.downloadermiddlewares.redirect] DEBUG: Redirecting (302) to <GET https://www.amazon.com/Machine-Learning-Biotechnology-Life-Sciences/dp/1801811911/ref=sr_1_114_sspa?crid=27NSKOKLZAT5L&keywords=machine+learning&qid=1663465010&sprefix=deep+learning%2Caps%2C627&sr=8-114-spons&psc=1> from <GET https://www.amazon.com/sspa/click?ie=UTF8&spc=MTo3NTQ1Mzg1NzIyNDcxMDIxOjE2NjM0NjUwMTA6c3BfbXRmOjIwMDAzNzE1OTIwOTU5ODo6MDo6&sp_csd=d2lkZ2V0TmFtZT1zcF9tdGY&url=%2FMachine-Learning-Biotechnology-Life-Sciences%2Fdp%2F1801811911%2Fref%3Dsr_1_114_sspa%3Fcrid%3D27NSKOKLZAT5L%26keywords%3Dmachine%2Blearning%26qid%3D1663465010%26sprefix%3Ddeep%2Blearning%252Caps%252C627%26sr%3D8-114-spons%26psc%3D1>\n",
      "2022-09-18 03:38:19 [scrapy.core.engine] DEBUG: Crawled (200) <GET https://www.amazon.com/Transformers-Machine-Learning-Chapman-Recognition/dp/0367767341/ref=sr_1_118?crid=27NSKOKLZAT5L&keywords=machine+learning&qid=1663465010&sprefix=deep+learning%2Caps%2C627&sr=8-118> (referer: https://www.amazon.com/s?k=machine+learning&page=3&crid=27NSKOKLZAT5L&qid=1663463991&sprefix=deep+learning%2Caps%2C627&ref=sr_pg_3)\n",
      "2022-09-18 03:38:19 [scrapy.downloadermiddlewares.redirect] DEBUG: Redirecting (302) to <GET https://www.amazon.com/Interperetable-AI-Ajay-Thampi/dp/161729764X/ref=sr_1_113_sspa?crid=27NSKOKLZAT5L&keywords=machine+learning&qid=1663465010&sprefix=deep+learning%2Caps%2C627&sr=8-113-spons&psc=1> from <GET https://www.amazon.com/sspa/click?ie=UTF8&spc=MTo3NTQ1Mzg1NzIyNDcxMDIxOjE2NjM0NjUwMTA6c3BfbXRmOjIwMDA2ODUwODI5MTg5ODo6MDo6&sp_csd=d2lkZ2V0TmFtZT1zcF9tdGY&url=%2FInterperetable-AI-Ajay-Thampi%2Fdp%2F161729764X%2Fref%3Dsr_1_113_sspa%3Fcrid%3D27NSKOKLZAT5L%26keywords%3Dmachine%2Blearning%26qid%3D1663465010%26sprefix%3Ddeep%2Blearning%252Caps%252C627%26sr%3D8-113-spons%26psc%3D1>\n"
     ]
    },
    {
     "name": "stdout",
     "output_type": "stream",
     "text": [
      "292\n",
      "['\\n            \\n              68%\\n            \\n          '] 3.9 out of 5 stars 6.1 x 0.7 x 9.2 inches\n"
     ]
    },
    {
     "name": "stderr",
     "output_type": "stream",
     "text": [
      "2022-09-18 03:38:19 [scrapy.core.engine] DEBUG: Crawled (200) <GET https://www.amazon.com/Machine-Learning-Time-Forecasting-Python/dp/1119682363/ref=sr_1_117?crid=27NSKOKLZAT5L&keywords=machine+learning&qid=1663465010&sprefix=deep+learning%2Caps%2C627&sr=8-117> (referer: https://www.amazon.com/s?k=machine+learning&page=3&crid=27NSKOKLZAT5L&qid=1663463991&sprefix=deep+learning%2Caps%2C627&ref=sr_pg_3)\n",
      "2022-09-18 03:38:20 [scrapy.core.engine] DEBUG: Crawled (200) <GET https://www.amazon.com/Learn-Coding-Basics-Hours-JavaScript/dp/0997326468/ref=sr_1_122?crid=27NSKOKLZAT5L&keywords=machine+learning&qid=1663465010&sprefix=deep+learning%2Caps%2C627&sr=8-122> (referer: https://www.amazon.com/s?k=machine+learning&page=3&crid=27NSKOKLZAT5L&qid=1663463991&sprefix=deep+learning%2Caps%2C627&ref=sr_pg_3)\n",
      "2022-09-18 03:38:20 [scrapy.core.engine] DEBUG: Crawled (200) <GET https://www.amazon.com/Practical-Robotics-Program-Autonomous-Raspberry/dp/9389423465/ref=sr_1_147_sspa?crid=27NSKOKLZAT5L&keywords=machine+learning&qid=1663465028&sprefix=deep+learning%2Caps%2C627&sr=8-147-spons&psc=1> (referer: https://www.amazon.com/s?k=machine+learning&page=4&crid=27NSKOKLZAT5L&qid=1663463991&sprefix=deep+learning%2Caps%2C627&ref=sr_pg_4)\n"
     ]
    },
    {
     "name": "stdout",
     "output_type": "stream",
     "text": [
      "293\n",
      "['\\n            \\n              53%\\n            \\n          '] 3.9 out of 5 stars 7.38 x 0.51 x 9.25 inches\n",
      "294\n",
      "['\\n            \\n              74%\\n            \\n          '] 4.5 out of 5 stars 8.5 x 0.27 x 11 inches\n"
     ]
    },
    {
     "name": "stderr",
     "output_type": "stream",
     "text": [
      "2022-09-18 03:38:20 [scrapy.core.engine] DEBUG: Crawled (200) <GET https://www.amazon.com/Python-Programming-Complete-Beginners-Learning/dp/B08TRLB4SD/ref=sr_1_148_sspa?crid=27NSKOKLZAT5L&keywords=machine+learning&qid=1663465028&sprefix=deep+learning%2Caps%2C627&sr=8-148-spons&psc=1> (referer: https://www.amazon.com/s?k=machine+learning&page=4&crid=27NSKOKLZAT5L&qid=1663463991&sprefix=deep+learning%2Caps%2C627&ref=sr_pg_4)\n"
     ]
    },
    {
     "name": "stdout",
     "output_type": "stream",
     "text": [
      "295\n",
      "['\\n            \\n              79%\\n            \\n          '] 4.5 out of 5 stars 7.5 x 1.14 x 9.25 inches\n",
      "296\n",
      "['\\n            \\n              62%\\n            \\n          '] 4.1 out of 5 stars 8 x 0.75 x 10 inches\n"
     ]
    },
    {
     "name": "stderr",
     "output_type": "stream",
     "text": [
      "2022-09-18 03:38:21 [scrapy.core.engine] DEBUG: Crawled (200) <GET https://www.amazon.com/NFT-BEGINNERS-Create-Non-Fungible-Scratch/dp/B0B149FWS7/ref=sr_1_145_sspa?crid=27NSKOKLZAT5L&keywords=machine+learning&qid=1663465028&sprefix=deep+learning%2Caps%2C627&sr=8-145-spons&psc=1> (referer: https://www.amazon.com/s?k=machine+learning&page=4&crid=27NSKOKLZAT5L&qid=1663463991&sprefix=deep+learning%2Caps%2C627&ref=sr_pg_4)\n",
      "2022-09-18 03:38:21 [scrapy.core.engine] DEBUG: Crawled (200) <GET https://www.amazon.com/Serverless-Architectures-AWS-Peter-Sbarski/dp/1617295426/ref=sr_1_111?crid=27NSKOKLZAT5L&keywords=machine+learning&qid=1663465010&sprefix=deep+learning%2Caps%2C627&sr=8-111> (referer: https://www.amazon.com/s?k=machine+learning&page=3&crid=27NSKOKLZAT5L&qid=1663463991&sprefix=deep+learning%2Caps%2C627&ref=sr_pg_3)\n"
     ]
    },
    {
     "name": "stdout",
     "output_type": "stream",
     "text": [
      "297\n",
      "['\\n            \\n              83%\\n            \\n          '] 4.8 out of 5 stars 8 x 0.26 x 10 inches\n"
     ]
    },
    {
     "name": "stderr",
     "output_type": "stream",
     "text": [
      "2022-09-18 03:38:21 [scrapy.core.engine] DEBUG: Crawled (200) <GET https://www.amazon.com/Machine-Learning-Probabilistic-Graphical-Decision-ebook/dp/B0B6GVRZX2/ref=sr_1_110?crid=27NSKOKLZAT5L&keywords=machine+learning&qid=1663465010&sprefix=deep+learning%2Caps%2C627&sr=8-110> (referer: https://www.amazon.com/s?k=machine+learning&page=3&crid=27NSKOKLZAT5L&qid=1663463991&sprefix=deep+learning%2Caps%2C627&ref=sr_pg_3)\n"
     ]
    },
    {
     "name": "stdout",
     "output_type": "stream",
     "text": [
      "298\n",
      "['\\n            \\n              55%\\n            \\n          '] 4.3 out of 5 stars 7.38 x 0.6 x 9.25 inches\n"
     ]
    },
    {
     "name": "stderr",
     "output_type": "stream",
     "text": [
      "2022-09-18 03:38:22 [scrapy.core.engine] DEBUG: Crawled (200) <GET https://www.amazon.com/Algorithms-Data-Structures-Massive-Datasets/dp/1617298034/ref=sr_1_146_sspa?crid=27NSKOKLZAT5L&keywords=machine+learning&qid=1663465028&sprefix=deep+learning%2Caps%2C627&sr=8-146-spons&psc=1> (referer: https://www.amazon.com/s?k=machine+learning&page=4&crid=27NSKOKLZAT5L&qid=1663463991&sprefix=deep+learning%2Caps%2C627&ref=sr_pg_4)\n"
     ]
    },
    {
     "name": "stdout",
     "output_type": "stream",
     "text": [
      "299\n",
      "[] None None\n"
     ]
    },
    {
     "name": "stderr",
     "output_type": "stream",
     "text": [
      "2022-09-18 03:38:22 [scrapy.core.engine] DEBUG: Crawled (200) <GET https://www.amazon.com/Data-Science-Press-Essential-Knowledge/dp/0262535432/ref=sr_1_112?crid=27NSKOKLZAT5L&keywords=machine+learning&qid=1663465010&sprefix=deep+learning%2Caps%2C627&sr=8-112> (referer: https://www.amazon.com/s?k=machine+learning&page=3&crid=27NSKOKLZAT5L&qid=1663463991&sprefix=deep+learning%2Caps%2C627&ref=sr_pg_3)\n",
      "2022-09-18 03:38:22 [scrapy.core.engine] DEBUG: Crawled (200) <GET https://www.amazon.com/Think-AI-flavours-Learning-libraries/dp/9355513194/ref=sr_1_116_sspa?crid=27NSKOKLZAT5L&keywords=machine+learning&qid=1663465010&sprefix=deep+learning%2Caps%2C627&sr=8-116-spons&psc=1> (referer: https://www.amazon.com/s?k=machine+learning&page=3&crid=27NSKOKLZAT5L&qid=1663463991&sprefix=deep+learning%2Caps%2C627&ref=sr_pg_3)\n",
      "2022-09-18 03:38:22 [scrapy.core.engine] DEBUG: Crawled (200) <GET https://www.amazon.com/Automated-Machine-Learning-Microsoft-Azure/dp/1800565313/ref=sr_1_109?crid=27NSKOKLZAT5L&keywords=machine+learning&qid=1663465010&sprefix=deep+learning%2Caps%2C627&sr=8-109> (referer: https://www.amazon.com/s?k=machine+learning&page=3&crid=27NSKOKLZAT5L&qid=1663463991&sprefix=deep+learning%2Caps%2C627&ref=sr_pg_3)\n"
     ]
    },
    {
     "name": "stdout",
     "output_type": "stream",
     "text": [
      "300\n",
      "['\\n            \\n              38%\\n            \\n          '] 3.8 out of 5 stars 7.38 x 0.8 x 9.25 inches\n",
      "301\n",
      "['\\n            \\n              68%\\n            \\n          '] 4.5 out of 5 stars 5 x 0.57 x 6.9 inches\n",
      "302\n",
      "[] None 7.5 x 0.62 x 9.25 inches\n",
      "303\n",
      "['\\n            \\n              72%\\n            \\n          '] 4.6 out of 5 stars 7.5 x 0.77 x 9.25 inches\n"
     ]
    },
    {
     "name": "stderr",
     "output_type": "stream",
     "text": [
      "2022-09-18 03:38:23 [scrapy.extensions.logstats] INFO: Crawled 309 pages (at 174 pages/min), scraped 0 items (at 0 items/min)\n",
      "2022-09-18 03:38:23 [scrapy.core.engine] DEBUG: Crawled (200) <GET https://www.amazon.com/Data-Science-Projects-Python-approach/dp/1800564481/ref=sr_1_115_sspa?crid=27NSKOKLZAT5L&keywords=machine+learning&qid=1663465010&sprefix=deep+learning%2Caps%2C627&sr=8-115-spons&psc=1> (referer: https://www.amazon.com/s?k=machine+learning&page=3&crid=27NSKOKLZAT5L&qid=1663463991&sprefix=deep+learning%2Caps%2C627&ref=sr_pg_3)\n",
      "2022-09-18 03:38:23 [scrapy.core.engine] DEBUG: Crawled (200) <GET https://www.amazon.com/Machine-Learning-Biotechnology-Life-Sciences/dp/1801811911/ref=sr_1_114_sspa?crid=27NSKOKLZAT5L&keywords=machine+learning&qid=1663465010&sprefix=deep+learning%2Caps%2C627&sr=8-114-spons&psc=1> (referer: https://www.amazon.com/s?k=machine+learning&page=3&crid=27NSKOKLZAT5L&qid=1663463991&sprefix=deep+learning%2Caps%2C627&ref=sr_pg_3)\n",
      "2022-09-18 03:38:24 [scrapy.core.engine] DEBUG: Crawled (200) <GET https://www.amazon.com/Machine-Learning-Computer-Scientists-Analysts/dp/3030967557/ref=sr_1_108?crid=27NSKOKLZAT5L&keywords=machine+learning&qid=1663465010&sprefix=deep+learning%2Caps%2C627&sr=8-108> (referer: https://www.amazon.com/s?k=machine+learning&page=3&crid=27NSKOKLZAT5L&qid=1663463991&sprefix=deep+learning%2Caps%2C627&ref=sr_pg_3)\n",
      "2022-09-18 03:38:24 [scrapy.core.engine] DEBUG: Crawled (200) <GET https://www.amazon.com/Interperetable-AI-Ajay-Thampi/dp/161729764X/ref=sr_1_107?crid=27NSKOKLZAT5L&keywords=machine+learning&qid=1663465010&sprefix=deep+learning%2Caps%2C627&sr=8-107> (referer: https://www.amazon.com/s?k=machine+learning&page=3&crid=27NSKOKLZAT5L&qid=1663463991&sprefix=deep+learning%2Caps%2C627&ref=sr_pg_3)\n"
     ]
    },
    {
     "name": "stdout",
     "output_type": "stream",
     "text": [
      "304\n",
      "['\\n            \\n              79%\\n            \\n          '] 4.6 out of 5 stars 7.5 x 0.98 x 9.25 inches\n",
      "305\n",
      "['\\n            \\n              57%\\n            \\n          '] 4.1 out of 5 stars 7.5 x 0.92 x 9.25 inches\n"
     ]
    },
    {
     "name": "stderr",
     "output_type": "stream",
     "text": [
      "2022-09-18 03:38:24 [scrapy.core.engine] DEBUG: Crawled (200) <GET https://www.amazon.com/Machine-Learning-Biotechnology-Life-Sciences/dp/1801811911/ref=sr_1_105?crid=27NSKOKLZAT5L&keywords=machine+learning&qid=1663465010&sprefix=deep+learning%2Caps%2C627&sr=8-105> (referer: https://www.amazon.com/s?k=machine+learning&page=3&crid=27NSKOKLZAT5L&qid=1663463991&sprefix=deep+learning%2Caps%2C627&ref=sr_pg_3)\n",
      "2022-09-18 03:38:24 [scrapy.core.engine] DEBUG: Crawled (200) <GET https://www.amazon.com/Interperetable-AI-Ajay-Thampi/dp/161729764X/ref=sr_1_113_sspa?crid=27NSKOKLZAT5L&keywords=machine+learning&qid=1663465010&sprefix=deep+learning%2Caps%2C627&sr=8-113-spons&psc=1> (referer: https://www.amazon.com/s?k=machine+learning&page=3&crid=27NSKOKLZAT5L&qid=1663463991&sprefix=deep+learning%2Caps%2C627&ref=sr_pg_3)\n",
      "2022-09-18 03:38:24 [scrapy.downloadermiddlewares.redirect] DEBUG: Redirecting (302) to <GET https://www.amazon.com/Python-Programming-Beginners-Step-Step/dp/B0B7QPFY8K/ref=sr_1_100_sspa?crid=27NSKOKLZAT5L&keywords=machine+learning&qid=1663465010&sprefix=deep+learning%2Caps%2C627&sr=8-100-spons&psc=1> from <GET https://www.amazon.com/sspa/click?ie=UTF8&spc=MTo3NTQ1Mzg1NzIyNDcxMDIxOjE2NjM0NjUwMTA6c3BfYXRmX25leHQ6MjAwMDc1NjAyNjQ1Mzk4OjowOjo&sp_csd=d2lkZ2V0TmFtZT1zcF9hdGZfbmV4dA&url=%2FPython-Programming-Beginners-Step-Step%2Fdp%2FB0B7QPFY8K%2Fref%3Dsr_1_100_sspa%3Fcrid%3D27NSKOKLZAT5L%26keywords%3Dmachine%2Blearning%26qid%3D1663465010%26sprefix%3Ddeep%2Blearning%252Caps%252C627%26sr%3D8-100-spons%26psc%3D1>\n"
     ]
    },
    {
     "name": "stdout",
     "output_type": "stream",
     "text": [
      "306\n",
      "[] None 6.3 x 1.1 x 9.37 inches\n",
      "307\n",
      "['\\n            \\n              49%\\n            \\n          '] 4.5 out of 5 stars 7.38 x 0.8 x 9.25 inches\n"
     ]
    },
    {
     "name": "stderr",
     "output_type": "stream",
     "text": [
      "2022-09-18 03:38:25 [scrapy.core.engine] DEBUG: Crawled (200) <GET https://www.amazon.com/Machine-Learning-TensorFlow-Second-Mattmann/dp/1617297712/ref=sr_1_106?crid=27NSKOKLZAT5L&keywords=machine+learning&qid=1663465010&sprefix=deep+learning%2Caps%2C627&sr=8-106> (referer: https://www.amazon.com/s?k=machine+learning&page=3&crid=27NSKOKLZAT5L&qid=1663463991&sprefix=deep+learning%2Caps%2C627&ref=sr_pg_3)\n",
      "2022-09-18 03:38:25 [scrapy.core.engine] DEBUG: Crawled (200) <GET https://www.amazon.com/Machine-Learning-Dynamics-Power-Platform/dp/1119771293/ref=sr_1_104?crid=27NSKOKLZAT5L&keywords=machine+learning&qid=1663465010&sprefix=deep+learning%2Caps%2C627&sr=8-104> (referer: https://www.amazon.com/s?k=machine+learning&page=3&crid=27NSKOKLZAT5L&qid=1663463991&sprefix=deep+learning%2Caps%2C627&ref=sr_pg_3)\n"
     ]
    },
    {
     "name": "stdout",
     "output_type": "stream",
     "text": [
      "308\n",
      "['\\n            \\n              57%\\n            \\n          '] 4.1 out of 5 stars 7.5 x 0.92 x 9.25 inches\n",
      "309\n",
      "['\\n            \\n              49%\\n            \\n          '] 4.5 out of 5 stars 7.38 x 0.8 x 9.25 inches\n"
     ]
    },
    {
     "name": "stderr",
     "output_type": "stream",
     "text": [
      "2022-09-18 03:38:25 [scrapy.downloadermiddlewares.redirect] DEBUG: Redirecting (302) to <GET https://www.amazon.com/PYTHON-CRASH-COURSE-INTELLIGENCE-HANDS/dp/B08JDTNQGD/ref=sr_1_99_sspa?crid=27NSKOKLZAT5L&keywords=machine+learning&qid=1663465010&sprefix=deep+learning%2Caps%2C627&sr=8-99-spons&psc=1> from <GET https://www.amazon.com/sspa/click?ie=UTF8&spc=MTo3NTQ1Mzg1NzIyNDcxMDIxOjE2NjM0NjUwMTA6c3BfYXRmX25leHQ6MjAwMDQ4MTYyOTQ4NTExOjowOjo&sp_csd=d2lkZ2V0TmFtZT1zcF9hdGZfbmV4dA&url=%2FPYTHON-CRASH-COURSE-INTELLIGENCE-HANDS%2Fdp%2FB08JDTNQGD%2Fref%3Dsr_1_99_sspa%3Fcrid%3D27NSKOKLZAT5L%26keywords%3Dmachine%2Blearning%26qid%3D1663465010%26sprefix%3Ddeep%2Blearning%252Caps%252C627%26sr%3D8-99-spons%26psc%3D1>\n",
      "2022-09-18 03:38:25 [scrapy.downloadermiddlewares.redirect] DEBUG: Redirecting (302) to <GET https://www.amazon.com/Artificial-Intelligence-Textbook-Charu-Aggarwal/dp/3030723569/ref=sr_1_98_sspa?crid=27NSKOKLZAT5L&keywords=machine+learning&qid=1663465010&sprefix=deep+learning%2Caps%2C627&sr=8-98-spons&psc=1> from <GET https://www.amazon.com/sspa/click?ie=UTF8&spc=MTo3NTQ1Mzg1NzIyNDcxMDIxOjE2NjM0NjUwMTA6c3BfYXRmX25leHQ6MjAwMDkxNTM5MzI3NDQxOjowOjo&sp_csd=d2lkZ2V0TmFtZT1zcF9hdGZfbmV4dA&url=%2FArtificial-Intelligence-Textbook-Charu-Aggarwal%2Fdp%2F3030723569%2Fref%3Dsr_1_98_sspa%3Fcrid%3D27NSKOKLZAT5L%26keywords%3Dmachine%2Blearning%26qid%3D1663465010%26sprefix%3Ddeep%2Blearning%252Caps%252C627%26sr%3D8-98-spons%26psc%3D1>\n",
      "2022-09-18 03:38:25 [scrapy.core.engine] DEBUG: Crawled (200) <GET https://www.amazon.com/Machine-Learning-Online-Training-Certification/dp/B09HZJCL57/ref=sr_1_101?crid=27NSKOKLZAT5L&keywords=machine+learning&qid=1663465010&sprefix=deep+learning%2Caps%2C627&sr=8-101> (referer: https://www.amazon.com/s?k=machine+learning&page=3&crid=27NSKOKLZAT5L&qid=1663463991&sprefix=deep+learning%2Caps%2C627&ref=sr_pg_3)\n"
     ]
    },
    {
     "name": "stdout",
     "output_type": "stream",
     "text": [
      "310\n",
      "['\\n            \\n              58%\\n            \\n          '] 3.3 out of 5 stars 6.3 x 1.1 x 9.1 inches\n",
      "311\n",
      "['\\n            \\n              57%\\n            \\n          '] 4.2 out of 5 stars 7.38 x 0.9 x 9.25 inches\n",
      "312\n",
      "[] 4.4 out of 5 stars None\n"
     ]
    },
    {
     "name": "stderr",
     "output_type": "stream",
     "text": [
      "2022-09-18 03:38:26 [scrapy.core.engine] DEBUG: Crawled (200) <GET https://www.amazon.com/Advances-Financial-Machine-Learning-Paperback/dp/B0B6LLNL4D/ref=sr_1_103?crid=27NSKOKLZAT5L&keywords=machine+learning&qid=1663465010&sprefix=deep+learning%2Caps%2C627&sr=8-103> (referer: https://www.amazon.com/s?k=machine+learning&page=3&crid=27NSKOKLZAT5L&qid=1663463991&sprefix=deep+learning%2Caps%2C627&ref=sr_pg_3)\n",
      "2022-09-18 03:38:26 [scrapy.core.engine] DEBUG: Crawled (200) <GET https://www.amazon.com/Machine-Learning-Architecture-Artificial-Intelligence/dp/1914124014/ref=sr_1_102?crid=27NSKOKLZAT5L&keywords=machine+learning&qid=1663465010&sprefix=deep+learning%2Caps%2C627&sr=8-102> (referer: https://www.amazon.com/s?k=machine+learning&page=3&crid=27NSKOKLZAT5L&qid=1663463991&sprefix=deep+learning%2Caps%2C627&ref=sr_pg_3)\n"
     ]
    },
    {
     "name": "stdout",
     "output_type": "stream",
     "text": [
      "313\n",
      "[] None 6 x 0.84 x 9 inches\n"
     ]
    },
    {
     "name": "stderr",
     "output_type": "stream",
     "text": [
      "2022-09-18 03:38:26 [scrapy.core.engine] DEBUG: Crawled (200) <GET https://www.amazon.com/Learn-Machine-Learning-Course-Beginners/dp/B07XGF1J7T/ref=sr_1_74?crid=27NSKOKLZAT5L&keywords=machine+learning&qid=1663464998&sprefix=deep+learning%2Caps%2C627&sr=8-74> (referer: https://www.amazon.com/s?k=machine+learning&page=2&crid=27NSKOKLZAT5L&qid=1663463991&sprefix=deep+learning%2Caps%2C627&ref=sr_pg_2)\n"
     ]
    },
    {
     "name": "stdout",
     "output_type": "stream",
     "text": [
      "314\n",
      "['\\n            \\n              70%\\n            \\n          '] 4.7 out of 5 stars 6.54 x 0.71 x 9.37 inches\n"
     ]
    },
    {
     "name": "stderr",
     "output_type": "stream",
     "text": [
      "2022-09-18 03:38:27 [scrapy.core.engine] DEBUG: Crawled (200) <GET https://www.amazon.com/Machine-Learning-Applied-Mathematics-Introduction/dp/1916081606/ref=sr_1_78?crid=27NSKOKLZAT5L&keywords=machine+learning&qid=1663464998&sprefix=deep+learning%2Caps%2C627&sr=8-78> (referer: https://www.amazon.com/s?k=machine+learning&page=2&crid=27NSKOKLZAT5L&qid=1663463991&sprefix=deep+learning%2Caps%2C627&ref=sr_pg_2)\n"
     ]
    },
    {
     "name": "stdout",
     "output_type": "stream",
     "text": [
      "315\n",
      "[] None 7.5 x 5.5 x 0.5 inches; 3.5 Ounces\n"
     ]
    },
    {
     "name": "stderr",
     "output_type": "stream",
     "text": [
      "2022-09-18 03:38:27 [scrapy.core.engine] DEBUG: Crawled (200) <GET https://www.amazon.com/Practical-MLOps-Operationalizing-Machine-Learning/dp/1098103017/ref=sr_1_75?crid=27NSKOKLZAT5L&keywords=machine+learning&qid=1663464998&sprefix=deep+learning%2Caps%2C627&sr=8-75> (referer: https://www.amazon.com/s?k=machine+learning&page=2&crid=27NSKOKLZAT5L&qid=1663463991&sprefix=deep+learning%2Caps%2C627&ref=sr_pg_2)\n"
     ]
    },
    {
     "name": "stdout",
     "output_type": "stream",
     "text": [
      "316\n",
      "['\\n            \\n              71%\\n            \\n          '] 4.5 out of 5 stars 6.14 x 0.55 x 9.21 inches\n"
     ]
    },
    {
     "name": "stderr",
     "output_type": "stream",
     "text": [
      "2022-09-18 03:38:27 [scrapy.core.engine] DEBUG: Crawled (200) <GET https://www.amazon.com/Machine-Learning-Intelligence-Programming-Comprehensive/dp/1914028295/ref=sr_1_76?crid=27NSKOKLZAT5L&keywords=machine+learning&qid=1663464998&sprefix=deep+learning%2Caps%2C627&sr=8-76> (referer: https://www.amazon.com/s?k=machine+learning&page=2&crid=27NSKOKLZAT5L&qid=1663463991&sprefix=deep+learning%2Caps%2C627&ref=sr_pg_2)\n"
     ]
    },
    {
     "name": "stdout",
     "output_type": "stream",
     "text": [
      "317\n",
      "['\\n            \\n              56%\\n            \\n          '] 3.9 out of 5 stars 6.75 x 1 x 8.75 inches\n"
     ]
    },
    {
     "name": "stderr",
     "output_type": "stream",
     "text": [
      "2022-09-18 03:38:27 [scrapy.core.engine] DEBUG: Crawled (200) <GET https://www.amazon.com/Introduction-Statistical-Learning-Applications-Statistics/dp/1071614177/ref=sr_1_77?crid=27NSKOKLZAT5L&keywords=machine+learning&qid=1663464998&sprefix=deep+learning%2Caps%2C627&sr=8-77> (referer: https://www.amazon.com/s?k=machine+learning&page=2&crid=27NSKOKLZAT5L&qid=1663463991&sprefix=deep+learning%2Caps%2C627&ref=sr_pg_2)\n"
     ]
    },
    {
     "name": "stdout",
     "output_type": "stream",
     "text": [
      "318\n",
      "['\\n            \\n              56%\\n            \\n          '] 4.2 out of 5 stars 6 x 1.06 x 9 inches\n"
     ]
    },
    {
     "name": "stderr",
     "output_type": "stream",
     "text": [
      "2022-09-18 03:38:28 [scrapy.core.engine] DEBUG: Crawled (200) <GET https://www.amazon.com/Python-Machine-Learning-Example-scikit-learn/dp/1800209711/ref=sr_1_73?crid=27NSKOKLZAT5L&keywords=machine+learning&qid=1663464998&sprefix=deep+learning%2Caps%2C627&sr=8-73> (referer: https://www.amazon.com/s?k=machine+learning&page=2&crid=27NSKOKLZAT5L&qid=1663463991&sprefix=deep+learning%2Caps%2C627&ref=sr_pg_2)\n"
     ]
    },
    {
     "name": "stdout",
     "output_type": "stream",
     "text": [
      "319\n",
      "['\\n            \\n              83%\\n            \\n          '] 4.6 out of 5 stars 8 x 1.2 x 9.4 inches\n"
     ]
    },
    {
     "name": "stderr",
     "output_type": "stream",
     "text": [
      "2022-09-18 03:38:28 [scrapy.downloadermiddlewares.redirect] DEBUG: Redirecting (302) to <GET https://www.amazon.com/Data-Driven-Science-Engineering-Learning-Dynamical/dp/1009098489/ref=sr_1_68_sspa?crid=27NSKOKLZAT5L&keywords=machine+learning&qid=1663464998&sprefix=deep+learning%2Caps%2C627&sr=8-68-spons&psc=1> from <GET https://www.amazon.com/sspa/click?ie=UTF8&spc=MToyMzMwNzQzNTcxMjUxMTk3OjE2NjM0NjQ5OTg6c3BfbXRmOjIwMDA3NzU3NTg5NzE5ODo6MDo6&sp_csd=d2lkZ2V0TmFtZT1zcF9tdGY&url=%2FData-Driven-Science-Engineering-Learning-Dynamical%2Fdp%2F1009098489%2Fref%3Dsr_1_68_sspa%3Fcrid%3D27NSKOKLZAT5L%26keywords%3Dmachine%2Blearning%26qid%3D1663464998%26sprefix%3Ddeep%2Blearning%252Caps%252C627%26sr%3D8-68-spons%26psc%3D1>\n"
     ]
    },
    {
     "name": "stdout",
     "output_type": "stream",
     "text": [
      "320\n",
      "['\\n            \\n              75%\\n            \\n          '] 4.5 out of 5 stars 7.5 x 1.19 x 9.25 inches\n"
     ]
    },
    {
     "name": "stderr",
     "output_type": "stream",
     "text": [
      "2022-09-18 03:38:29 [scrapy.downloadermiddlewares.redirect] DEBUG: Redirecting (302) to <GET https://www.amazon.com/Machine-Learning-Solutions-Architect-Handbook/dp/1801072167/ref=sr_1_67_sspa?crid=27NSKOKLZAT5L&keywords=machine+learning&qid=1663464998&sprefix=deep+learning%2Caps%2C627&sr=8-67-spons&psc=1> from <GET https://www.amazon.com/sspa/click?ie=UTF8&spc=MToyMzMwNzQzNTcxMjUxMTk3OjE2NjM0NjQ5OTg6c3BfbXRmOjIwMDAzNjc1MTYwNTY5ODo6MDo6&sp_csd=d2lkZ2V0TmFtZT1zcF9tdGY&url=%2FMachine-Learning-Solutions-Architect-Handbook%2Fdp%2F1801072167%2Fref%3Dsr_1_67_sspa%3Fcrid%3D27NSKOKLZAT5L%26keywords%3Dmachine%2Blearning%26qid%3D1663464998%26sprefix%3Ddeep%2Blearning%252Caps%252C627%26sr%3D8-67-spons%26psc%3D1>\n",
      "2022-09-18 03:38:29 [scrapy.core.engine] DEBUG: Crawled (200) <GET https://www.amazon.com/Machine-Learning-Time-Python-state/dp/1801819629/ref=sr_1_71?crid=27NSKOKLZAT5L&keywords=machine+learning&qid=1663464998&sprefix=deep+learning%2Caps%2C627&sr=8-71> (referer: https://www.amazon.com/s?k=machine+learning&page=2&crid=27NSKOKLZAT5L&qid=1663463991&sprefix=deep+learning%2Caps%2C627&ref=sr_pg_2)\n",
      "2022-09-18 03:38:29 [scrapy.core.engine] DEBUG: Crawled (200) <GET https://www.amazon.com/Elements-Statistical-Learning-Prediction-Statistics/dp/0387848576/ref=sr_1_72?crid=27NSKOKLZAT5L&keywords=machine+learning&qid=1663464998&sprefix=deep+learning%2Caps%2C627&sr=8-72> (referer: https://www.amazon.com/s?k=machine+learning&page=2&crid=27NSKOKLZAT5L&qid=1663463991&sprefix=deep+learning%2Caps%2C627&ref=sr_pg_2)\n"
     ]
    },
    {
     "name": "stdout",
     "output_type": "stream",
     "text": [
      "321\n",
      "['\\n            \\n              53%\\n            \\n          '] 4.0 out of 5 stars 7.5 x 0.84 x 9.25 inches\n",
      "322\n",
      "['\\n            \\n              82%\\n            \\n          '] 4.6 out of 5 stars 9.3 x 6 x 1.4 inches\n"
     ]
    },
    {
     "name": "stderr",
     "output_type": "stream",
     "text": [
      "2022-09-18 03:38:29 [scrapy.core.engine] DEBUG: Crawled (200) <GET https://www.amazon.com/Optimization-Data-Analysis-Stephen-Wright/dp/1316518981/ref=sr_1_70?crid=27NSKOKLZAT5L&keywords=machine+learning&qid=1663464998&sprefix=deep+learning%2Caps%2C627&sr=8-70> (referer: https://www.amazon.com/s?k=machine+learning&page=2&crid=27NSKOKLZAT5L&qid=1663463991&sprefix=deep+learning%2Caps%2C627&ref=sr_pg_2)\n",
      "2022-09-18 03:38:29 [scrapy.core.engine] DEBUG: Crawled (200) <GET https://www.amazon.com/Python-Programming-Beginners-Step-Step/dp/B0B7QPFY8K/ref=sr_1_100_sspa?crid=27NSKOKLZAT5L&keywords=machine+learning&qid=1663465010&sprefix=deep+learning%2Caps%2C627&sr=8-100-spons&psc=1> (referer: https://www.amazon.com/s?k=machine+learning&page=3&crid=27NSKOKLZAT5L&qid=1663463991&sprefix=deep+learning%2Caps%2C627&ref=sr_pg_3)\n",
      "2022-09-18 03:38:29 [scrapy.downloadermiddlewares.redirect] DEBUG: Redirecting (302) to <GET https://www.amazon.com/Machine-Learning-Supervised-Unsupervised-Algorithms/dp/9391392350/ref=sr_1_66_sspa?crid=27NSKOKLZAT5L&keywords=machine+learning&qid=1663464998&sprefix=deep+learning%2Caps%2C627&sr=8-66-spons&psc=1> from <GET https://www.amazon.com/sspa/click?ie=UTF8&spc=MToyMzMwNzQzNTcxMjUxMTk3OjE2NjM0NjQ5OTg6c3BfbXRmOjIwMDEwMzgzMzA5MDg4MTo6MDo6&sp_csd=d2lkZ2V0TmFtZT1zcF9tdGY&url=%2FMachine-Learning-Supervised-Unsupervised-Algorithms%2Fdp%2F9391392350%2Fref%3Dsr_1_66_sspa%3Fcrid%3D27NSKOKLZAT5L%26keywords%3Dmachine%2Blearning%26qid%3D1663464998%26sprefix%3Ddeep%2Blearning%252Caps%252C627%26sr%3D8-66-spons%26psc%3D1>\n",
      "2022-09-18 03:38:29 [scrapy.downloadermiddlewares.redirect] DEBUG: Redirecting (302) to <GET https://www.amazon.com/Python-Feature-Engineering-Cookbook-transforming/dp/1789806313/ref=sr_1_65_sspa?crid=27NSKOKLZAT5L&keywords=machine+learning&qid=1663464998&sprefix=deep+learning%2Caps%2C627&sr=8-65-spons&psc=1> from <GET https://www.amazon.com/sspa/click?ie=UTF8&spc=MToyMzMwNzQzNTcxMjUxMTk3OjE2NjM0NjQ5OTg6c3BfbXRmOjIwMDAyMDczODI4Mzc3MTo6MDo6&sp_csd=d2lkZ2V0TmFtZT1zcF9tdGY&url=%2FPython-Feature-Engineering-Cookbook-transforming%2Fdp%2F1789806313%2Fref%3Dsr_1_65_sspa%3Fcrid%3D27NSKOKLZAT5L%26keywords%3Dmachine%2Blearning%26qid%3D1663464998%26sprefix%3Ddeep%2Blearning%252Caps%252C627%26sr%3D8-65-spons%26psc%3D1>\n",
      "2022-09-18 03:38:29 [scrapy.core.engine] DEBUG: Crawled (200) <GET https://www.amazon.com/Inside-Deep-Learning-Algorithms-Models/dp/1617298638/ref=sr_1_69?crid=27NSKOKLZAT5L&keywords=machine+learning&qid=1663464998&sprefix=deep+learning%2Caps%2C627&sr=8-69> (referer: https://www.amazon.com/s?k=machine+learning&page=2&crid=27NSKOKLZAT5L&qid=1663463991&sprefix=deep+learning%2Caps%2C627&ref=sr_pg_2)\n"
     ]
    },
    {
     "name": "stdout",
     "output_type": "stream",
     "text": [
      "323\n",
      "['\\n            \\n              100%\\n            \\n          '] 5.0 out of 5 stars 6.25 x 0.75 x 9.25 inches\n",
      "324\n",
      "['\\n            \\n              91%\\n            \\n          '] 4.9 out of 5 stars 7 x 0.46 x 10 inches\n"
     ]
    },
    {
     "name": "stderr",
     "output_type": "stream",
     "text": [
      "2022-09-18 03:38:30 [scrapy.core.engine] DEBUG: Crawled (200) <GET https://www.amazon.com/PYTHON-CRASH-COURSE-INTELLIGENCE-HANDS/dp/B08JDTNQGD/ref=sr_1_99_sspa?crid=27NSKOKLZAT5L&keywords=machine+learning&qid=1663465010&sprefix=deep+learning%2Caps%2C627&sr=8-99-spons&psc=1> (referer: https://www.amazon.com/s?k=machine+learning&page=3&crid=27NSKOKLZAT5L&qid=1663463991&sprefix=deep+learning%2Caps%2C627&ref=sr_pg_3)\n"
     ]
    },
    {
     "name": "stdout",
     "output_type": "stream",
     "text": [
      "325\n",
      "['\\n            \\n              100%\\n            \\n          '] 5.0 out of 5 stars 7.38 x 1.7 x 9.25 inches\n"
     ]
    },
    {
     "name": "stderr",
     "output_type": "stream",
     "text": [
      "2022-09-18 03:38:30 [scrapy.core.engine] DEBUG: Crawled (200) <GET https://www.amazon.com/Artificial-Intelligence-Textbook-Charu-Aggarwal/dp/3030723569/ref=sr_1_98_sspa?crid=27NSKOKLZAT5L&keywords=machine+learning&qid=1663465010&sprefix=deep+learning%2Caps%2C627&sr=8-98-spons&psc=1> (referer: https://www.amazon.com/s?k=machine+learning&page=3&crid=27NSKOKLZAT5L&qid=1663463991&sprefix=deep+learning%2Caps%2C627&ref=sr_pg_3)\n"
     ]
    },
    {
     "name": "stdout",
     "output_type": "stream",
     "text": [
      "326\n",
      "['\\n            \\n              60%\\n            \\n          '] 3.8 out of 5 stars 6 x 0.33 x 9 inches\n",
      "327\n",
      "['\\n            \\n              78%\\n            \\n          '] 4.1 out of 5 stars 7 x 1.06 x 10 inches\n"
     ]
    },
    {
     "name": "stderr",
     "output_type": "stream",
     "text": [
      "2022-09-18 03:38:32 [scrapy.core.engine] DEBUG: Crawled (200) <GET https://www.amazon.com/Advanced-Statistics-Health-Research-Richard/dp/9811262306/ref=sr_1_64?crid=27NSKOKLZAT5L&keywords=machine+learning&qid=1663464998&sprefix=deep+learning%2Caps%2C627&sr=8-64> (referer: https://www.amazon.com/s?k=machine+learning&page=2&crid=27NSKOKLZAT5L&qid=1663463991&sprefix=deep+learning%2Caps%2C627&ref=sr_pg_2)\n",
      "2022-09-18 03:38:32 [scrapy.core.engine] DEBUG: Crawled (200) <GET https://www.amazon.com/Data-Driven-Science-Engineering-Learning-Dynamical/dp/1009098489/ref=sr_1_68_sspa?crid=27NSKOKLZAT5L&keywords=machine+learning&qid=1663464998&sprefix=deep+learning%2Caps%2C627&sr=8-68-spons&psc=1> (referer: https://www.amazon.com/s?k=machine+learning&page=2&crid=27NSKOKLZAT5L&qid=1663463991&sprefix=deep+learning%2Caps%2C627&ref=sr_pg_2)\n",
      "2022-09-18 03:38:32 [scrapy.core.engine] DEBUG: Crawled (200) <GET https://www.amazon.com/Machine-Learning-Hugh-Howey-audiobook/dp/B07625SC2T/ref=sr_1_63?crid=27NSKOKLZAT5L&keywords=machine+learning&qid=1663464998&sprefix=deep+learning%2Caps%2C627&sr=8-63> (referer: https://www.amazon.com/s?k=machine+learning&page=2&crid=27NSKOKLZAT5L&qid=1663463991&sprefix=deep+learning%2Caps%2C627&ref=sr_pg_2)\n"
     ]
    },
    {
     "name": "stdout",
     "output_type": "stream",
     "text": [
      "328\n",
      "[] None None\n"
     ]
    },
    {
     "name": "stderr",
     "output_type": "stream",
     "text": [
      "2022-09-18 03:38:32 [scrapy.core.engine] DEBUG: Crawled (200) <GET https://www.amazon.com/Artificial-Intelligence-Practice-Successful-Companies/dp/B07SD925KB/ref=sr_1_61?crid=27NSKOKLZAT5L&keywords=machine+learning&qid=1663464998&sprefix=deep+learning%2Caps%2C627&sr=8-61> (referer: https://www.amazon.com/s?k=machine+learning&page=2&crid=27NSKOKLZAT5L&qid=1663463991&sprefix=deep+learning%2Caps%2C627&ref=sr_pg_2)\n",
      "2022-09-18 03:38:32 [scrapy.core.engine] DEBUG: Crawled (200) <GET https://www.amazon.com/Math-Deep-Learning-Understand-Networks/dp/1718501900/ref=sr_1_60?crid=27NSKOKLZAT5L&keywords=machine+learning&qid=1663464998&sprefix=deep+learning%2Caps%2C627&sr=8-60> (referer: https://www.amazon.com/s?k=machine+learning&page=2&crid=27NSKOKLZAT5L&qid=1663463991&sprefix=deep+learning%2Caps%2C627&ref=sr_pg_2)\n",
      "2022-09-18 03:38:32 [scrapy.core.engine] DEBUG: Crawled (200) <GET https://www.amazon.com/AmazonBasics-Portable-Foldable-Photo-Studio/dp/B01GIL6EU4/ref=sr_1_62?crid=27NSKOKLZAT5L&keywords=machine+learning&qid=1663464998&sprefix=deep+learning%2Caps%2C627&sr=8-62> (referer: https://www.amazon.com/s?k=machine+learning&page=2&crid=27NSKOKLZAT5L&qid=1663463991&sprefix=deep+learning%2Caps%2C627&ref=sr_pg_2)\n",
      "2022-09-18 03:38:32 [scrapy.core.engine] DEBUG: Crawled (200) <GET https://www.amazon.com/Machine-Learning-Solutions-Architect-Handbook/dp/1801072167/ref=sr_1_67_sspa?crid=27NSKOKLZAT5L&keywords=machine+learning&qid=1663464998&sprefix=deep+learning%2Caps%2C627&sr=8-67-spons&psc=1> (referer: https://www.amazon.com/s?k=machine+learning&page=2&crid=27NSKOKLZAT5L&qid=1663463991&sprefix=deep+learning%2Caps%2C627&ref=sr_pg_2)\n"
     ]
    },
    {
     "name": "stdout",
     "output_type": "stream",
     "text": [
      "329\n",
      "['\\n            \\n              90%\\n            \\n          '] 4.6 out of 5 stars 7.1 x 1.1 x 10.1 inches\n",
      "330\n",
      "['\\n            \\n              57%\\n            \\n          '] 4.4 out of 5 stars None\n"
     ]
    },
    {
     "name": "stderr",
     "output_type": "stream",
     "text": [
      "2022-09-18 03:38:33 [scrapy.core.engine] DEBUG: Crawled (200) <GET https://www.amazon.com/Patterns-Predictions-Actions-Foundations-Learning/dp/069123373X/ref=sr_1_59?crid=27NSKOKLZAT5L&keywords=machine+learning&qid=1663464998&sprefix=deep+learning%2Caps%2C627&sr=8-59> (referer: https://www.amazon.com/s?k=machine+learning&page=2&crid=27NSKOKLZAT5L&qid=1663463991&sprefix=deep+learning%2Caps%2C627&ref=sr_pg_2)\n"
     ]
    },
    {
     "name": "stdout",
     "output_type": "stream",
     "text": [
      "331\n",
      "['\\n            \\n              57%\\n            \\n          '] 4.2 out of 5 stars None\n",
      "332\n",
      "['\\n            \\n              74%\\n            \\n          '] 4.5 out of 5 stars 7.06 x 0.79 x 9.19 inches\n",
      "333\n",
      "['\\n            \\n              77%\\n            \\n          '] 4.6 out of 5 stars None\n",
      "334\n",
      "['\\n            \\n              82%\\n            \\n          '] 4.7 out of 5 stars 7.5 x 1 x 9.25 inches\n",
      "335\n",
      "[] None 6.9 x 1 x 10.1 inches\n"
     ]
    },
    {
     "name": "stderr",
     "output_type": "stream",
     "text": [
      "2022-09-18 03:38:34 [scrapy.core.engine] DEBUG: Crawled (200) <GET https://www.amazon.com/Recommendations-Three-Types-Learning/dp/B09CP1Z6GH/ref=sr_1_58?crid=27NSKOKLZAT5L&keywords=machine+learning&qid=1663464998&sprefix=deep+learning%2Caps%2C627&sr=8-58> (referer: https://www.amazon.com/s?k=machine+learning&page=2&crid=27NSKOKLZAT5L&qid=1663463991&sprefix=deep+learning%2Caps%2C627&ref=sr_pg_2)\n",
      "2022-09-18 03:38:34 [scrapy.downloadermiddlewares.redirect] DEBUG: Redirecting (302) to <GET https://www.amazon.com/Python-Programming-Beginners-Step-Step/dp/1987518977/ref=sr_1_52_sspa?crid=27NSKOKLZAT5L&keywords=machine+learning&qid=1663464998&sprefix=deep+learning%2Caps%2C627&sr=8-52-spons&psc=1> from <GET https://www.amazon.com/sspa/click?ie=UTF8&spc=MToyMzMwNzQzNTcxMjUxMTk3OjE2NjM0NjQ5OTg6c3BfYXRmX25leHQ6MjAwMDU4NjQwNTAyOTk4OjowOjo&sp_csd=d2lkZ2V0TmFtZT1zcF9hdGZfbmV4dA&url=%2FPython-Programming-Beginners-Step-Step%2Fdp%2F1987518977%2Fref%3Dsr_1_52_sspa%3Fcrid%3D27NSKOKLZAT5L%26keywords%3Dmachine%2Blearning%26qid%3D1663464998%26sprefix%3Ddeep%2Blearning%252Caps%252C627%26sr%3D8-52-spons%26psc%3D1>\n",
      "2022-09-18 03:38:34 [scrapy.core.engine] DEBUG: Crawled (200) <GET https://www.amazon.com/Learning-Deep-Processing-Transformers-TensorFlow/dp/0137470355/ref=sr_1_56?crid=27NSKOKLZAT5L&keywords=machine+learning&qid=1663464998&sprefix=deep+learning%2Caps%2C627&sr=8-56> (referer: https://www.amazon.com/s?k=machine+learning&page=2&crid=27NSKOKLZAT5L&qid=1663463991&sprefix=deep+learning%2Caps%2C627&ref=sr_pg_2)\n",
      "2022-09-18 03:38:34 [scrapy.core.engine] DEBUG: Crawled (200) <GET https://www.amazon.com/Python-Feature-Engineering-Cookbook-transforming/dp/1789806313/ref=sr_1_65_sspa?crid=27NSKOKLZAT5L&keywords=machine+learning&qid=1663464998&sprefix=deep+learning%2Caps%2C627&sr=8-65-spons&psc=1> (referer: https://www.amazon.com/s?k=machine+learning&page=2&crid=27NSKOKLZAT5L&qid=1663463991&sprefix=deep+learning%2Caps%2C627&ref=sr_pg_2)\n"
     ]
    },
    {
     "name": "stdout",
     "output_type": "stream",
     "text": [
      "336\n",
      "[] None None\n"
     ]
    },
    {
     "name": "stderr",
     "output_type": "stream",
     "text": [
      "2022-09-18 03:38:34 [scrapy.downloadermiddlewares.redirect] DEBUG: Redirecting (302) to <GET https://www.amazon.com/Quantum-Computing-Programmers-Robert-Hundt/dp/1009098179/ref=sr_1_51_sspa?crid=27NSKOKLZAT5L&keywords=machine+learning&qid=1663464998&sprefix=deep+learning%2Caps%2C627&sr=8-51-spons&psc=1> from <GET https://www.amazon.com/sspa/click?ie=UTF8&spc=MToyMzMwNzQzNTcxMjUxMTk3OjE2NjM0NjQ5OTg6c3BfYXRmX25leHQ6MjAwMDY5NjU0MDUyNTk4OjowOjo&sp_csd=d2lkZ2V0TmFtZT1zcF9hdGZfbmV4dA&url=%2FQuantum-Computing-Programmers-Robert-Hundt%2Fdp%2F1009098179%2Fref%3Dsr_1_51_sspa%3Fcrid%3D27NSKOKLZAT5L%26keywords%3Dmachine%2Blearning%26qid%3D1663464998%26sprefix%3Ddeep%2Blearning%252Caps%252C627%26sr%3D8-51-spons%26psc%3D1>\n",
      "2022-09-18 03:38:35 [scrapy.downloadermiddlewares.redirect] DEBUG: Redirecting (302) to <GET https://www.amazon.com/Machine-Learning-Master-Fundamentals-Beginners/dp/1076012523/ref=sr_1_50_sspa?crid=27NSKOKLZAT5L&keywords=machine+learning&qid=1663464998&sprefix=deep+learning%2Caps%2C627&sr=8-50-spons&psc=1> from <GET https://www.amazon.com/sspa/click?ie=UTF8&spc=MToyMzMwNzQzNTcxMjUxMTk3OjE2NjM0NjQ5OTg6c3BfYXRmX25leHQ6MjAwMDE2MjQ4MDgzOTExOjowOjo&sp_csd=d2lkZ2V0TmFtZT1zcF9hdGZfbmV4dA&url=%2FMachine-Learning-Master-Fundamentals-Beginners%2Fdp%2F1076012523%2Fref%3Dsr_1_50_sspa%3Fcrid%3D27NSKOKLZAT5L%26keywords%3Dmachine%2Blearning%26qid%3D1663464998%26sprefix%3Ddeep%2Blearning%252Caps%252C627%26sr%3D8-50-spons%26psc%3D1>\n",
      "2022-09-18 03:38:35 [scrapy.downloadermiddlewares.redirect] DEBUG: Redirecting (302) to <GET https://www.amazon.com/Computer-Programming-Beginners-Fundamentals-Concepts/dp/1719439559/ref=sr_1_49_sspa?crid=27NSKOKLZAT5L&keywords=machine+learning&qid=1663464998&sprefix=deep+learning%2Caps%2C627&sr=8-49-spons&psc=1> from <GET https://www.amazon.com/sspa/click?ie=UTF8&spc=MToyMzMwNzQzNTcxMjUxMTk3OjE2NjM0NjQ5OTg6c3BfYXRmX25leHQ6MjAwMDc2OTg2NzA4Nzk4OjowOjo&sp_csd=d2lkZ2V0TmFtZT1zcF9hdGZfbmV4dA&url=%2FComputer-Programming-Beginners-Fundamentals-Concepts%2Fdp%2F1719439559%2Fref%3Dsr_1_49_sspa%3Fcrid%3D27NSKOKLZAT5L%26keywords%3Dmachine%2Blearning%26qid%3D1663464998%26sprefix%3Ddeep%2Blearning%252Caps%252C627%26sr%3D8-49-spons%26psc%3D1>\n",
      "2022-09-18 03:38:35 [scrapy.core.engine] DEBUG: Crawled (200) <GET https://www.amazon.com/Machine-Learning-Supervised-Unsupervised-Algorithms/dp/9391392350/ref=sr_1_66_sspa?crid=27NSKOKLZAT5L&keywords=machine+learning&qid=1663464998&sprefix=deep+learning%2Caps%2C627&sr=8-66-spons&psc=1> (referer: https://www.amazon.com/s?k=machine+learning&page=2&crid=27NSKOKLZAT5L&qid=1663463991&sprefix=deep+learning%2Caps%2C627&ref=sr_pg_2)\n"
     ]
    },
    {
     "name": "stdout",
     "output_type": "stream",
     "text": [
      "337\n",
      "['\\n            \\n              84%\\n            \\n          '] 4.7 out of 5 stars 7.3 x 1.1 x 9 inches\n",
      "338\n",
      "['\\n            \\n              61%\\n            \\n          '] 4.0 out of 5 stars 7.5 x 0.84 x 9.25 inches\n"
     ]
    },
    {
     "name": "stderr",
     "output_type": "stream",
     "text": [
      "2022-09-18 03:38:35 [scrapy.core.engine] DEBUG: Crawled (200) <GET https://www.amazon.com/Machine-Learning-Absolute-Beginners-Introduction/dp/1549617214/ref=sr_1_54?crid=27NSKOKLZAT5L&keywords=machine+learning&qid=1663464998&sprefix=deep+learning%2Caps%2C627&sr=8-54> (referer: https://www.amazon.com/s?k=machine+learning&page=2&crid=27NSKOKLZAT5L&qid=1663463991&sprefix=deep+learning%2Caps%2C627&ref=sr_pg_2)\n",
      "2022-09-18 03:38:35 [scrapy.core.engine] DEBUG: Crawled (200) <GET https://www.amazon.com/Grokking-Machine-Learning-Luis-Serrano/dp/1617295914/ref=sr_1_53?crid=27NSKOKLZAT5L&keywords=machine+learning&qid=1663464998&sprefix=deep+learning%2Caps%2C627&sr=8-53> (referer: https://www.amazon.com/s?k=machine+learning&page=2&crid=27NSKOKLZAT5L&qid=1663463991&sprefix=deep+learning%2Caps%2C627&ref=sr_pg_2)\n"
     ]
    },
    {
     "name": "stdout",
     "output_type": "stream",
     "text": [
      "339\n",
      "['\\n            \\n              69%\\n            \\n          '] 3.8 out of 5 stars 7.5 x 0.67 x 9.25 inches\n",
      "340\n",
      "['\\n            \\n              69%\\n            \\n          '] 4.5 out of 5 stars 6 x 0.41 x 9 inches\n"
     ]
    },
    {
     "name": "stderr",
     "output_type": "stream",
     "text": [
      "2022-09-18 03:38:35 [scrapy.core.engine] DEBUG: Crawled (200) <GET https://www.amazon.com/Master-Algorithm-Ultimate-Learning-Machine/dp/0465094279/ref=sr_1_57?crid=27NSKOKLZAT5L&keywords=machine+learning&qid=1663464998&sprefix=deep+learning%2Caps%2C627&sr=8-57> (referer: https://www.amazon.com/s?k=machine+learning&page=2&crid=27NSKOKLZAT5L&qid=1663463991&sprefix=deep+learning%2Caps%2C627&ref=sr_pg_2)\n"
     ]
    },
    {
     "name": "stdout",
     "output_type": "stream",
     "text": [
      "341\n",
      "['\\n            \\n              72%\\n            \\n          '] 4.6 out of 5 stars 7.38 x 1.1 x 9.25 inches\n"
     ]
    },
    {
     "name": "stderr",
     "output_type": "stream",
     "text": [
      "2022-09-18 03:38:36 [scrapy.downloadermiddlewares.redirect] DEBUG: Redirecting (302) to <GET https://www.amazon.com/Python-Programming-Beginners-Step-Hands/dp/B0B3S3RFQT/ref=sr_1_18_sspa?crid=27NSKOKLZAT5L&keywords=machine+learning&qid=1663464985&sprefix=deep+learning%2Caps%2C627&sr=8-18-spons&psc=1> from <GET https://www.amazon.com/sspa/click?ie=UTF8&spc=MTo1MjMzODUwNDM1MTQ1NjU2OjE2NjM0NjQ5ODU6c3BfbXRmOjIwMDA2NzcwOTYxMTA5ODo6MDo6&sp_csd=d2lkZ2V0TmFtZT1zcF9tdGY&url=%2FPython-Programming-Beginners-Step-Hands%2Fdp%2FB0B3S3RFQT%2Fref%3Dsr_1_18_sspa%3Fcrid%3D27NSKOKLZAT5L%26keywords%3Dmachine%2Blearning%26qid%3D1663464985%26sprefix%3Ddeep%2Blearning%252Caps%252C627%26sr%3D8-18-spons%26psc%3D1>\n"
     ]
    },
    {
     "name": "stdout",
     "output_type": "stream",
     "text": [
      "342\n",
      "['\\n            \\n              65%\\n            \\n          '] 4.4 out of 5 stars 5.45 x 1.2 x 8.25 inches\n"
     ]
    },
    {
     "name": "stderr",
     "output_type": "stream",
     "text": [
      "2022-09-18 03:38:36 [scrapy.downloadermiddlewares.redirect] DEBUG: Redirecting (302) to <GET https://www.amazon.com/Machine-Learning-Course-Engineers-Scientists/dp/1108843603/ref=sr_1_17_sspa?crid=27NSKOKLZAT5L&keywords=machine+learning&qid=1663464985&sprefix=deep+learning%2Caps%2C627&sr=8-17-spons&psc=1> from <GET https://www.amazon.com/sspa/click?ie=UTF8&spc=MTo1MjMzODUwNDM1MTQ1NjU2OjE2NjM0NjQ5ODU6c3BfbXRmOjIwMDA3MzYzMzQ5MDM5ODo6MDo6&sp_csd=d2lkZ2V0TmFtZT1zcF9tdGY&url=%2FMachine-Learning-Course-Engineers-Scientists%2Fdp%2F1108843603%2Fref%3Dsr_1_17_sspa%3Fcrid%3D27NSKOKLZAT5L%26keywords%3Dmachine%2Blearning%26qid%3D1663464985%26sprefix%3Ddeep%2Blearning%252Caps%252C627%26sr%3D8-17-spons%26psc%3D1>\n",
      "2022-09-18 03:38:37 [scrapy.core.engine] DEBUG: Crawled (200) <GET https://www.amazon.com/Pattern-Recognition-Learning-Information-Statistics/dp/0387310738/ref=sr_1_26?crid=27NSKOKLZAT5L&keywords=machine+learning&qid=1663464985&sprefix=deep+learning%2Caps%2C627&sr=8-26> (referer: https://www.amazon.com/s?k=machine+learning&crid=27NSKOKLZAT5L&sprefix=deep+learning%2Caps%2C627&ref=nb_sb_noss_2)\n",
      "2022-09-18 03:38:37 [scrapy.core.engine] DEBUG: Crawled (200) <GET https://www.amazon.com/Text-Data-Framework-Learning-Sciences/dp/0691207550/ref=sr_1_27?crid=27NSKOKLZAT5L&keywords=machine+learning&qid=1663464985&sprefix=deep+learning%2Caps%2C627&sr=8-27> (referer: https://www.amazon.com/s?k=machine+learning&crid=27NSKOKLZAT5L&sprefix=deep+learning%2Caps%2C627&ref=nb_sb_noss_2)\n",
      "2022-09-18 03:38:37 [scrapy.core.engine] DEBUG: Crawled (200) <GET https://www.amazon.com/Machine-Learning-Weak-Supervision-Minimization/dp/0262047071/ref=sr_1_25?crid=27NSKOKLZAT5L&keywords=machine+learning&qid=1663464985&sprefix=deep+learning%2Caps%2C627&sr=8-25> (referer: https://www.amazon.com/s?k=machine+learning&crid=27NSKOKLZAT5L&sprefix=deep+learning%2Caps%2C627&ref=nb_sb_noss_2)\n",
      "2022-09-18 03:38:37 [scrapy.core.engine] DEBUG: Crawled (200) <GET https://www.amazon.com/Introduction-Machine-Learning-Adaptive-Computation/dp/0262043793/ref=sr_1_28?crid=27NSKOKLZAT5L&keywords=machine+learning&qid=1663464985&sprefix=deep+learning%2Caps%2C627&sr=8-28> (referer: https://www.amazon.com/s?k=machine+learning&crid=27NSKOKLZAT5L&sprefix=deep+learning%2Caps%2C627&ref=nb_sb_noss_2)\n"
     ]
    },
    {
     "name": "stdout",
     "output_type": "stream",
     "text": [
      "343\n",
      "['\\n            \\n              76%\\n            \\n          '] 4.6 out of 5 stars 7.7 x 1.3 x 10.2 inches\n"
     ]
    },
    {
     "name": "stderr",
     "output_type": "stream",
     "text": [
      "2022-09-18 03:38:37 [scrapy.core.engine] DEBUG: Crawled (200) <GET https://www.amazon.com/Machine-Learning-Algorithmic-Trading-alternative/dp/1839217715/ref=sr_1_29?crid=27NSKOKLZAT5L&keywords=machine+learning&qid=1663464985&sprefix=deep+learning%2Caps%2C627&sr=8-29> (referer: https://www.amazon.com/s?k=machine+learning&crid=27NSKOKLZAT5L&sprefix=deep+learning%2Caps%2C627&ref=nb_sb_noss_2)\n"
     ]
    },
    {
     "name": "stdout",
     "output_type": "stream",
     "text": [
      "344\n",
      "['\\n            \\n              78%\\n            \\n          '] 4.8 out of 5 stars 7 x 1 x 10 inches\n",
      "345\n",
      "[] None 7.12 x 0.74 x 9.25 inches\n",
      "346\n",
      "['\\n            \\n              84%\\n            \\n          '] 4.7 out of 5 stars 8.31 x 1.46 x 9.38 inches\n",
      "347\n",
      "['\\n            \\n              68%\\n            \\n          '] 4.5 out of 5 stars 7.5 x 1.85 x 9.25 inches\n"
     ]
    },
    {
     "name": "stderr",
     "output_type": "stream",
     "text": [
      "2022-09-18 03:38:38 [scrapy.core.engine] DEBUG: Crawled (200) <GET https://www.amazon.com/Python-Programming-Beginners-Step-Step/dp/1987518977/ref=sr_1_52_sspa?crid=27NSKOKLZAT5L&keywords=machine+learning&qid=1663464998&sprefix=deep+learning%2Caps%2C627&sr=8-52-spons&psc=1> (referer: https://www.amazon.com/s?k=machine+learning&page=2&crid=27NSKOKLZAT5L&qid=1663463991&sprefix=deep+learning%2Caps%2C627&ref=sr_pg_2)\n"
     ]
    },
    {
     "name": "stdout",
     "output_type": "stream",
     "text": [
      "348\n",
      "['\\n            \\n              54%\\n            \\n          '] 4.0 out of 5 stars 6 x 0.23 x 9 inches\n"
     ]
    },
    {
     "name": "stderr",
     "output_type": "stream",
     "text": [
      "2022-09-18 03:38:38 [scrapy.core.engine] DEBUG: Crawled (200) <GET https://www.amazon.com/Quantum-Computing-Programmers-Robert-Hundt/dp/1009098179/ref=sr_1_51_sspa?crid=27NSKOKLZAT5L&keywords=machine+learning&qid=1663464998&sprefix=deep+learning%2Caps%2C627&sr=8-51-spons&psc=1> (referer: https://www.amazon.com/s?k=machine+learning&page=2&crid=27NSKOKLZAT5L&qid=1663463991&sprefix=deep+learning%2Caps%2C627&ref=sr_pg_2)\n"
     ]
    },
    {
     "name": "stdout",
     "output_type": "stream",
     "text": [
      "349\n",
      "['\\n            \\n              64%\\n            \\n          '] 4.3 out of 5 stars 6.69 x 0.88 x 9.61 inches\n"
     ]
    },
    {
     "name": "stderr",
     "output_type": "stream",
     "text": [
      "2022-09-18 03:38:39 [scrapy.core.engine] DEBUG: Crawled (200) <GET https://www.amazon.com/Computer-Programming-Beginners-Fundamentals-Concepts/dp/1719439559/ref=sr_1_49_sspa?crid=27NSKOKLZAT5L&keywords=machine+learning&qid=1663464998&sprefix=deep+learning%2Caps%2C627&sr=8-49-spons&psc=1> (referer: https://www.amazon.com/s?k=machine+learning&page=2&crid=27NSKOKLZAT5L&qid=1663463991&sprefix=deep+learning%2Caps%2C627&ref=sr_pg_2)\n"
     ]
    },
    {
     "name": "stdout",
     "output_type": "stream",
     "text": [
      "350\n",
      "['\\n            \\n              63%\\n            \\n          '] 4.4 out of 5 stars 6 x 0.46 x 9 inches\n"
     ]
    },
    {
     "name": "stderr",
     "output_type": "stream",
     "text": [
      "2022-09-18 03:38:39 [scrapy.core.engine] DEBUG: Crawled (200) <GET https://www.amazon.com/Machine-Learning-Design-Patterns-Preparation/dp/1098115783/ref=sr_1_16?crid=27NSKOKLZAT5L&keywords=machine+learning&qid=1663464985&sprefix=deep+learning%2Caps%2C627&sr=8-16> (referer: https://www.amazon.com/s?k=machine+learning&crid=27NSKOKLZAT5L&sprefix=deep+learning%2Caps%2C627&ref=nb_sb_noss_2)\n",
      "2022-09-18 03:38:40 [scrapy.core.engine] DEBUG: Crawled (200) <GET https://www.amazon.com/Machine-Learning-Master-Fundamentals-Beginners/dp/1076012523/ref=sr_1_50_sspa?crid=27NSKOKLZAT5L&keywords=machine+learning&qid=1663464998&sprefix=deep+learning%2Caps%2C627&sr=8-50-spons&psc=1> (referer: https://www.amazon.com/s?k=machine+learning&page=2&crid=27NSKOKLZAT5L&qid=1663463991&sprefix=deep+learning%2Caps%2C627&ref=sr_pg_2)\n",
      "2022-09-18 03:38:40 [scrapy.core.engine] DEBUG: Crawled (200) <GET https://www.amazon.com/Machine-Learning-Coders-Programmers-Intelligence/dp/1492078190/ref=sr_1_15?crid=27NSKOKLZAT5L&keywords=machine+learning&qid=1663464985&sprefix=deep+learning%2Caps%2C627&sr=8-15> (referer: https://www.amazon.com/s?k=machine+learning&crid=27NSKOKLZAT5L&sprefix=deep+learning%2Caps%2C627&ref=nb_sb_noss_2)\n"
     ]
    },
    {
     "name": "stdout",
     "output_type": "stream",
     "text": [
      "351\n",
      "['\\n            \\n              73%\\n            \\n          '] 4.6 out of 5 stars 9.06 x 0.94 x 6.85 inches\n",
      "352\n",
      "['\\n            \\n              44%\\n            \\n          '] 2.3 out of 5 stars 6 x 0.14 x 9 inches\n",
      "353\n",
      "['\\n            \\n              79%\\n            \\n          '] 4.7 out of 5 stars 6.93 x 1.18 x 8.98 inches\n"
     ]
    },
    {
     "name": "stderr",
     "output_type": "stream",
     "text": [
      "2022-09-18 03:38:40 [scrapy.core.engine] DEBUG: Crawled (200) <GET https://www.amazon.com/Hands-Machine-Learning-Scikit-Learn-TensorFlow/dp/1492032646/ref=sr_1_13?crid=27NSKOKLZAT5L&keywords=machine+learning&qid=1663464985&sprefix=deep+learning%2Caps%2C627&sr=8-13> (referer: https://www.amazon.com/s?k=machine+learning&crid=27NSKOKLZAT5L&sprefix=deep+learning%2Caps%2C627&ref=nb_sb_noss_2)\n",
      "2022-09-18 03:38:41 [scrapy.core.engine] DEBUG: Crawled (200) <GET https://www.amazon.com/Mathematics-Machine-Learning-Peter-Deisenroth/dp/110845514X/ref=sr_1_14?crid=27NSKOKLZAT5L&keywords=machine+learning&qid=1663464985&sprefix=deep+learning%2Caps%2C627&sr=8-14> (referer: https://www.amazon.com/s?k=machine+learning&crid=27NSKOKLZAT5L&sprefix=deep+learning%2Caps%2C627&ref=nb_sb_noss_2)\n",
      "2022-09-18 03:38:41 [scrapy.core.engine] DEBUG: Crawled (200) <GET https://www.amazon.com/Practical-Simulations-Machine-Learning-Synthetic/dp/1492089923/ref=sr_1_55?crid=27NSKOKLZAT5L&keywords=machine+learning&qid=1663464998&sprefix=deep+learning%2Caps%2C627&sr=8-55> (referer: https://www.amazon.com/s?k=machine+learning&page=2&crid=27NSKOKLZAT5L&qid=1663463991&sprefix=deep+learning%2Caps%2C627&ref=sr_pg_2)\n"
     ]
    },
    {
     "name": "stdout",
     "output_type": "stream",
     "text": [
      "354\n",
      "['\\n            \\n              85%\\n            \\n          '] 4.8 out of 5 stars 7 x 1.2 x 9.2 inches\n",
      "355\n",
      "['\\n            \\n              80%\\n            \\n          '] 4.7 out of 5 stars 7 x 0.92 x 10 inches\n"
     ]
    },
    {
     "name": "stderr",
     "output_type": "stream",
     "text": [
      "2022-09-18 03:38:41 [scrapy.core.engine] DEBUG: Crawled (200) <GET https://www.amazon.com/Python-Programming-Beginners-Step-Hands/dp/B0B3S3RFQT/ref=sr_1_18_sspa?crid=27NSKOKLZAT5L&keywords=machine+learning&qid=1663464985&sprefix=deep+learning%2Caps%2C627&sr=8-18-spons&psc=1> (referer: https://www.amazon.com/s?k=machine+learning&crid=27NSKOKLZAT5L&sprefix=deep+learning%2Caps%2C627&ref=nb_sb_noss_2)\n",
      "2022-09-18 03:38:41 [scrapy.core.engine] DEBUG: Crawled (200) <GET https://www.amazon.com/Machine-Learning-Course-Engineers-Scientists/dp/1108843603/ref=sr_1_17_sspa?crid=27NSKOKLZAT5L&keywords=machine+learning&qid=1663464985&sprefix=deep+learning%2Caps%2C627&sr=8-17-spons&psc=1> (referer: https://www.amazon.com/s?k=machine+learning&crid=27NSKOKLZAT5L&sprefix=deep+learning%2Caps%2C627&ref=nb_sb_noss_2)\n"
     ]
    },
    {
     "name": "stdout",
     "output_type": "stream",
     "text": [
      "356\n",
      "['\\n            \\n              100%\\n            \\n          '] 5.0 out of 5 stars 7 x 0.75 x 9.25 inches\n",
      "357\n",
      "['\\n            \\n              77%\\n            \\n          '] 4.5 out of 5 stars 8 x 0.28 x 10 inches\n",
      "358\n",
      "['\\n            \\n              100%\\n            \\n          '] 5.0 out of 5 stars 7.5 x 0.75 x 10.5 inches\n"
     ]
    },
    {
     "name": "stderr",
     "output_type": "stream",
     "text": [
      "2022-09-18 03:38:42 [scrapy.core.engine] DEBUG: Crawled (200) <GET https://www.amazon.com/StatQuest-Illustrated-Guide-Machine-Learning/dp/B09ZCKR4H6/ref=sr_1_11?crid=27NSKOKLZAT5L&keywords=machine+learning&qid=1663464985&sprefix=deep+learning%2Caps%2C627&sr=8-11> (referer: https://www.amazon.com/s?k=machine+learning&crid=27NSKOKLZAT5L&sprefix=deep+learning%2Caps%2C627&ref=nb_sb_noss_2)\n",
      "2022-09-18 03:38:42 [scrapy.core.engine] DEBUG: Crawled (200) <GET https://www.amazon.com/Machine-Learning-Absolute-Beginners-Introduction-ebook/dp/B08RWBSKQB/ref=sr_1_12?crid=27NSKOKLZAT5L&keywords=machine+learning&qid=1663464985&sprefix=deep+learning%2Caps%2C627&sr=8-12> (referer: https://www.amazon.com/s?k=machine+learning&crid=27NSKOKLZAT5L&sprefix=deep+learning%2Caps%2C627&ref=nb_sb_noss_2)\n",
      "2022-09-18 03:38:42 [scrapy.core.engine] INFO: Closing spider (finished)\n",
      "2022-09-18 03:38:42 [scrapy.statscollectors] INFO: Dumping Scrapy stats:\n",
      "{'downloader/request_bytes': 438991,\n",
      " 'downloader/request_count': 438,\n",
      " 'downloader/request_method_count/GET': 438,\n",
      " 'downloader/response_bytes': 90461482,\n",
      " 'downloader/response_count': 438,\n",
      " 'downloader/response_status_count/200': 366,\n",
      " 'downloader/response_status_count/302': 72,\n",
      " 'elapsed_time_seconds': 139.113434,\n",
      " 'finish_reason': 'finished',\n",
      " 'finish_time': datetime.datetime(2022, 9, 18, 1, 38, 42, 792780),\n",
      " 'httpcompression/response_bytes': 466355141,\n",
      " 'httpcompression/response_count': 366,\n",
      " 'log_count/DEBUG': 443,\n",
      " 'log_count/INFO': 12,\n",
      " 'request_depth_max': 11,\n",
      " 'response_received_count': 366,\n",
      " 'scheduler/dequeued': 438,\n",
      " 'scheduler/dequeued/memory': 438,\n",
      " 'scheduler/enqueued': 438,\n",
      " 'scheduler/enqueued/memory': 438,\n",
      " 'start_time': datetime.datetime(2022, 9, 18, 1, 36, 23, 679346)}\n",
      "2022-09-18 03:38:42 [scrapy.core.engine] INFO: Spider closed (finished)\n"
     ]
    },
    {
     "name": "stdout",
     "output_type": "stream",
     "text": [
      "359\n",
      "['\\n            \\n              87%\\n            \\n          '] 4.8 out of 5 stars 8.5 x 0.72 x 6.5 inches\n",
      "360\n",
      "['\\n            \\n              68%\\n            \\n          '] 4.5 out of 5 stars None\n"
     ]
    }
   ],
   "source": [
    "import scrapy\n",
    "import csv\n",
    "import time\n",
    "import scrapy_proxies\n",
    "from scrapy.crawler import CrawlerProcess\n",
    "import pandas as pd\n",
    "#import scrapy-fake-useragent\n",
    "class FirstWebsiteSpider(scrapy.Spider):\n",
    "    \n",
    "    rotate_user_agent = True   \n",
    "    name = 'first_website'\n",
    "    #https://www.amazon.com/s?k=data+science&i=stripbooks-intl-ship&page=3&crid=1YWU6OJK4L3BA&qid=1662895059&sprefix=data+science%2Cstripbooks-intl-ship%2C247&ref=sr_pg_3\n",
    "    allowed_domains = [\"www.amazon.com\"] #, \"https://www.amazon.com\"\n",
    "    handle_httpstatus_list = [503]\n",
    "    start_urls =[\"https://www.amazon.com/s?k=machine+learning&crid=27NSKOKLZAT5L&sprefix=deep+learning%2Caps%2C627&ref=nb_sb_noss_2\"] \n",
    "    list_items=[]\n",
    "    j=1\n",
    "    #download_delay = 3 #The number you write here will be how many seconds scrapy waits before sending another request.\n",
    "    #x=pd.DataFrame([])\n",
    "    n_page_to_scrape=7\n",
    "    items_in_page=60\n",
    "    RETRY_TIMES=20\n",
    "    #DOWNLOADER_MIDDLEWARES = {\n",
    "    #'scrapy.downloadermiddlewares.useragent.UserAgentMiddleware': None,\n",
    "    #'scrapy.downloadermiddlewares.retry.RetryMiddleware': None,\n",
    "    #'scrapy_fake_useragent.middleware.RandomUserAgentMiddleware': 400,\n",
    "    #'scrapy_fake_useragent.middleware.RetryUserAgentMiddleware': 401,\n",
    "    #}\n",
    "    FAKEUSERAGENT_PROVIDERS = [\n",
    "    'scrapy_fake_useragent.providers.FakeUserAgentProvider',  # this is the first provider we'll try\n",
    "    'scrapy_fake_useragent.providers.FakerProvider',  # if FakeUserAgentProvider fails, we'll use faker to generate a user-agent string for us\n",
    "    'scrapy_fake_useragent.providers.FixedUserAgentProvider',  # fall back to USER_AGENT value\n",
    "]\n",
    "    def parse(self, response):\n",
    "        print (response.request.headers['User-Agent'])\n",
    "    def parse(self, response):\n",
    "        #self.j=j\n",
    "        print(self.j)\n",
    "        #time.sleep(3)\n",
    "        next_page_url=f\"https://www.amazon.com/s?k=machine+learning&page={self.j}&crid=27NSKOKLZAT5L&qid=1663463991&sprefix=deep+learning%2Caps%2C627&ref=sr_pg_{self.j}\"\n",
    "        box=response.xpath(\"//div[@class='a-section a-spacing-small puis-padding-left-small puis-padding-right-small']\")             #(\"//h2[@class='a-size-mini a-spacing-none a-color-base s-line-clamp-3']\")\n",
    "        #print(box)\n",
    "                                 \n",
    "        #links=[]\n",
    "        #titles=[]\n",
    "        item={}\n",
    "        \n",
    "        for ind,i in enumerate(box):\n",
    "            #print('g')\n",
    "            #country_name = country.xpath(\".//text()\").get()\n",
    "            #title=i.xpath(\"//span[@class='a-size-base a-color-base a-text-normal']/text()\").getall()\n",
    "            title=i.xpath(\".//a[@class='a-link-normal s-underline-text s-underline-link-text s-link-style a-text-normal']/span/text()\").get()\n",
    "            link = i.xpath(\".//a[@class='a-link-normal s-underline-text s-underline-link-text s-link-style a-text-normal']/@href\").get()\n",
    "            author=i.xpath(\".//div[@class='a-row a-size-base a-color-secondary']/a[@class='a-size-base a-link-normal s-underline-text s-underline-link-text s-link-style']/text() | (.//div[@class='a-row a-size-base a-color-secondary']/a[@class='a-link-normal s-underline-text s-underline-link-text s-link-style']/text()) | (.//div[@class='a-row a-size-base a-color-secondary']/span[@class='a-size-base']/text())\").getall()\n",
    "            \n",
    "            #links.append(link)\n",
    "            #'a-link-normal s-underline-text s-underline-link-text s-link-style'\n",
    "            #titles.append(title)\n",
    "            print(title)\n",
    "            #//div[@class='a-section a-spacing-small puis-padding-left-small puis-padding-right-small']/*/*/a[@class='a-link-normal s-underline-text s-underline-link-text s-link-style a-text-normal']/@href  #print(title)\n",
    "            yield response.follow(url=link, callback=self.parse_book, meta={'ind':ind,'title':title,'author':author,'link':link})\n",
    "    \n",
    "  \n",
    "    # Getting data inside the \"link\" website\n",
    "    def parse_book(self, response):\n",
    "        #time.sleep(4)\n",
    "        # Getting country names and each row element inside the population table\n",
    "        title = response.request.meta['title']\n",
    "        ind = response.request.meta['ind']\n",
    "        link = response.request.meta['link']\n",
    "        author = response.request.meta['author']\n",
    "        #if author==[' ']:\n",
    "        price=response.xpath(\"//div[@id='buyNew_cbb']/div[@class='a-row']/div[@class='a-column a-span12 a-text-left']/span/text() | ((//a[@class='a-link-normal']/span[@class='a-color-price']/text())[1]) | (//a[@class='a-button-text']/span[@class='a-color-base']/span[@class='a-size-base a-color-price a-color-price']/text())\").get()\n",
    "        #//div[@id='buyNew_cbb']/div[@class='a-row']/div[@class='a-column a-span12 a-text-left']/span/text() | ((//a[@class='a-link-normal']/span[@class='a-color-price']/text())[1]) \n",
    "        #pages=response.xpath(\"//span[@class='a-list-item']/*[contains(text(),'pages')/text()\").get()\n",
    "        pages=response.xpath(\"//span[@class='a-list-item']/span[contains( text(),'pages')]/text()\").get()\n",
    "        language=response.xpath(\"//span[@class='a-text-bold'][contains(text(),'Language')]/following-sibling::span[1]/text()\").get()\n",
    "        publisher=response.xpath(\"//span[@class='a-text-bold'][contains(text(),'Publisher')]/following-sibling::span[1]/text()\").get()\n",
    "        dimensions=response.xpath(\"//span[@class='a-text-bold'][contains(text(),'Dimensions')]/following-sibling::span[1]/text()\").get()\n",
    "        weight=response.xpath(\"//span[@class='a-text-bold'][contains(text(),'Weight')]/following-sibling::span[1]/text()\").get()\n",
    "        avg_reviews=response.xpath(\"(//a[@class='a-popover-trigger a-declarative']/i[@class='a-icon a-icon-star a-star-5']/span[@class='a-icon-alt']/text())[1] | ((//a[@class='a-popover-trigger a-declarative']/i/span[@class='a-icon-alt'])[1]/text())\").get()\n",
    "        time.sleep(0.1)\n",
    "        star5=response.xpath(\"(//span[@class='a-size-base']/a[contains(text(),'%')])[1]/text()\").getall()\n",
    "        star4=response.xpath(\"(//span[@class='a-size-base']/a[contains(text(),'%')])[2]/text()\").getall()\n",
    "        star3=response.xpath(\"(//span[@class='a-size-base']/a[contains(text(),'%')])[3]/text()\").getall()\n",
    "        star2=response.xpath(\"(//span[@class='a-size-base']/a[contains(text(),'%')])[4]/text()\").getall()\n",
    "        star1=response.xpath(\"(//span[@class='a-size-base']/a[contains(text(),'%')])[5]/text()\").getall()\n",
    "        ISBN_13=response.xpath(\"//div[@id='isbn_feature_div']/div/div/span[contains(text(),'13')]/following-sibling::span[1]/text()\").get()\n",
    "        n_reviews=response.xpath(\"(//span[@class='a-declarative']/a[@class='a-link-normal']/span[@id='acrCustomerReviewText']/text())[1]\").get()\n",
    "        \n",
    "        #print(title)\n",
    "        #author= response.xpath(\"//span[@class='a-declarative']/a[@class='a-link-normal contributorNameID']/text()\").get()  # You can also use the whole class value  --> response.xpath('(//table[@class=\"table table-striped table-bordered table-hover table-condensed table-list\"])[1]/tbody/tr')\n",
    "            # Return data extracted\n",
    "        keys=['title','author','price','pages','avg_reviews','n_reviews','star5','star4','star3','star2','star1','dimensions','weight','language','publisher','ISBN_13','link']\n",
    "        values= [title,author,price,pages,avg_reviews,n_reviews,star5,star4,star3,star2,star1,dimensions,weight,language,publisher,ISBN_13,link]    #  {'title': title, 'author':author}\n",
    "        self.list_items.append(values)\n",
    "        item=dict(zip(keys, values))\n",
    "        print(len(self.list_items))\n",
    "        print(star5,avg_reviews,dimensions)\n",
    "        #print(title,author)\n",
    "        \n",
    "      \n",
    "        #if self.j >1:\n",
    "          #  next_page_url=f\"https://www.amazon.com/s?k=data+science&s=relevanceblender&page={self.j}&crid=2YKZLS0CJFDGI&qid=1663103507&sprefix=data+science%2Caps%2C828&ref=sr_pg_{self.j}\"\n",
    "        #else:\n",
    "            #next_page_url=self.start_urls[0]\n",
    "        #yield scrapy.Request(url=next_page_url, callback=self.parse_pagination, meta={'title':title,'author':author})\n",
    "        \n",
    "        #   def parse_pagination(self,response):\n",
    "        #title = response.request.meta['title']  \n",
    "        #author=response.request.meta['author'] \n",
    "        #print('va beeeeeneeeeeeeeeeeeeeeeeeeeeeeeeeeeeeeeeeeeeeeeeeeeeeeeeeeeeeeeeeeeeeeeeeeeeeeeeeeeeeeeeeeeeeeeeeee')\n",
    "        #if ind==\n",
    "        #print(ind)\n",
    "        \n",
    "        if ind==59:\n",
    "            time.sleep(3)\n",
    "            self.j+=1\n",
    "            next_page_url=f\"https://www.amazon.com/s?k=machine+learning&page={self.j}&crid=27NSKOKLZAT5L&qid=1663463991&sprefix=deep+learning%2Caps%2C627&ref=sr_pg_{self.j}\"\n",
    "            if next_page_url and self.j<self.n_page_to_scrape:\n",
    "                print('start_new_page')\n",
    "            \n",
    "                yield scrapy.Request(url=next_page_url, callback=self.parse)#,self.j \n",
    "            #time.sleep(10)\n",
    "         #,'authors','dates'      \n",
    "        if len(self.list_items)==(self.items_in_page): #self.j==self.n_page_to_scrape:\n",
    "            time.sleep(5)\n",
    "            print(self.list_items)\n",
    "            x=pd.DataFrame(self.list_items,columns=keys)\n",
    "            #print(x)\n",
    "            yield x.to_csv(\"outputfile2_python_machine_learning.csv\",sep=\",\")\n",
    "            #with open(\"outputfile.csv\", \"w\", newline=\"\") as f:\n",
    "                #writer = csv.DictWriter(f, ['titles','authors','dates'])\n",
    "                #writer.writeheader()           \n",
    "                #writer.writerows(self.list_items)\n",
    "                #print(self.list_items) #\n",
    "        if len(self.list_items)==359:#(self.n_page_to_scrape-2)*(self.items_in_page): #self.j==self.n_page_to_scrape:\n",
    "            #time.sleep(70)\n",
    "            #print(self.list_items)\n",
    "            y=pd.DataFrame(self.list_items,columns=keys)\n",
    "            #print(x)\n",
    "            yield y.to_csv(\"outputfile_final_machine_learning.csv\",sep=\",\")\n",
    "            #with open(\"outputfile.csv\", \"w\", newline=\"\") as f:\n",
    "                #writer = csv.DictWriter(f, ['titles','authors','dates'])\n",
    "                #writer.writeheader()           \n",
    "                #writer.writerows(self.list_items)\n",
    "                #print(self.list_items) #\n",
    "                \n",
    "#//div[@class='a-row']/a[@class='a-size-base a-link-normal s-underline-text s-underline-link-text s-link-style']/text() | ( //div[@class='a-#row']/span[@class='a-size-base']/text()\n",
    "process = CrawlerProcess({\n",
    "     #'USER_AGENT':'USER_AGENT':\"Mozilla/5.0 (Windows NT 10.0; Win64; x64) AppleWebKit/537.36 (KHTML, like Gecko) Chrome/105.0.0.0 Safari/537.36\"\n",
    "    #'USER_AGENT':\"Mozilla/5.0 (Macintosh; Intel Mac OS X 10_15) AppleWebKit/605.1.15 (KHTML, like Gecko) Version/13.0.5 Safari/605.1.15\"#\n",
    "    #'USER_AGENT':'Mozilla/5.0 (compatible; MSIE 7.0; Windows NT 5.1)'\n",
    "  #'USER_AGENT':  \"Mozilla/4.0 (X11; Linux x86_64) AppleWebKit/537.36 (KHTML, like Gecko) Chrome/103.0.5060.53 Safari/537.36\",\n",
    "  'USER_AGENT':  \"Mozilla/5.0 (Windows NT 10.0; Windows; x64) AppleWebKit/537.36 (KHTML, like Gecko) Chrome/103.0.5060.114 Safari/537.36\",\n",
    "  #'USER_AGENT':  \"Mozilla/5.0 (Macintosh; Intel Mac OS X 10_10_5) AppleWebKit/603.3.8 (KHTML, like Gecko) Version/10.1.2 Safari/603.3.8\",\n",
    "  #'USER_AGENT':  \"Mozilla/5.0 (Macintosh; Intel Mac OS X 10_15_7) AppleWebKit/605.1.15 (KHTML, like Gecko) Version/14.0 Safari/605.1.15\"\n",
    "  #'USER_AGENT':  \"Mozilla/5.0 (Macintosh; Intel Mac OS X 10_15_6) AppleWebKit/605.1.15 (KHTML, like Gecko) Version/14.0 Safari/605.1.15\"\n",
    "  #'USER_AGENT':  \"Mozilla/5.0 (Windows NT 10.0; Windows; x64) AppleWebKit/537.36 (KHTML, like Gecko) Chrome/103.0.5060.114 Safari/537.36\"\n",
    "  #'USER_AGENT':  \"Mozilla/5.0 (X11; Linux x86_64) AppleWebKit/537.36 (KHTML, like Gecko) Chrome/103.0.5060.53 Safari/537.36\"\n",
    "\n",
    "\n",
    "})\n",
    "\n",
    "process.crawl(FirstWebsiteSpider)\n",
    "process.start()\n"
   ]
  },
  {
   "cell_type": "code",
   "execution_count": 2,
   "id": "e13533af",
   "metadata": {},
   "outputs": [
    {
     "ename": "NameError",
     "evalue": "name 'response' is not defined",
     "output_type": "error",
     "traceback": [
      "\u001b[1;31m---------------------------------------------------------------------------\u001b[0m",
      "\u001b[1;31mNameError\u001b[0m                                 Traceback (most recent call last)",
      "\u001b[1;32m<ipython-input-2-38d765480056>\u001b[0m in \u001b[0;36m<module>\u001b[1;34m\u001b[0m\n\u001b[1;32m----> 1\u001b[1;33m \u001b[0mauthors\u001b[0m\u001b[1;33m,\u001b[0m\u001b[0mtitles\u001b[0m\u001b[1;33m=\u001b[0m\u001b[0mFirstWebsiteSpider\u001b[0m\u001b[1;33m.\u001b[0m\u001b[0mparse\u001b[0m\u001b[1;33m(\u001b[0m\u001b[0mscrapy\u001b[0m\u001b[1;33m.\u001b[0m\u001b[0mSpider\u001b[0m\u001b[1;33m,\u001b[0m\u001b[0mresponse\u001b[0m\u001b[1;33m)\u001b[0m\u001b[1;33m\u001b[0m\u001b[1;33m\u001b[0m\u001b[0m\n\u001b[0m",
      "\u001b[1;31mNameError\u001b[0m: name 'response' is not defined"
     ]
    }
   ],
   "source": [
    "authors,titles=FirstWebsiteSpider.parse(scrapy.Spider,response)"
   ]
  },
  {
   "cell_type": "code",
   "execution_count": null,
   "id": "08551c28",
   "metadata": {},
   "outputs": [],
   "source": [
    "@href='/s?k=data+science&amp;i=stripbooks-intl-ship&amp;page=3&amp;crid=20YNDMUXOLCJ6&amp;qid=1663030048&amp;sprefix=data+science%2Cstripbooks-intl-ship%2C314&amp;ref=sr_pg_3' "
   ]
  },
  {
   "cell_type": "code",
   "execution_count": 2,
   "id": "004de66d",
   "metadata": {},
   "outputs": [],
   "source": [
    "j=1\n",
    "p=f'/s?k=data+science&amp;i=stripbooks-intl-ship&amp;page={j}&amp;crid=20YNDMUXOLCJ6&amp;qid=1663030048&amp;sprefix=data+science%2Cstripbooks-intl-ship%2C314&amp;ref=sr_pg_{j}'"
   ]
  },
  {
   "cell_type": "code",
   "execution_count": 3,
   "id": "e413f5a4",
   "metadata": {},
   "outputs": [
    {
     "data": {
      "text/plain": [
       "'/s?k=data+science&amp;i=stripbooks-intl-ship&amp;page=1&amp;crid=20YNDMUXOLCJ6&amp;qid=1663030048&amp;sprefix=data+science%2Cstripbooks-intl-ship%2C314&amp;ref=sr_pg_1'"
      ]
     },
     "execution_count": 3,
     "metadata": {},
     "output_type": "execute_result"
    }
   ],
   "source": [
    "p"
   ]
  },
  {
   "cell_type": "code",
   "execution_count": null,
   "id": "25e7e5b4",
   "metadata": {},
   "outputs": [],
   "source": [
    "<a href=>3</a>"
   ]
  },
  {
   "cell_type": "code",
   "execution_count": 3,
   "id": "35f1fcab",
   "metadata": {},
   "outputs": [
    {
     "data": {
      "text/plain": [
       "'rit0'"
      ]
     },
     "execution_count": 3,
     "metadata": {},
     "output_type": "execute_result"
    }
   ],
   "source": [
    "u=0\n",
    "a=f'rit{u}'\n",
    "a"
   ]
  },
  {
   "cell_type": "code",
   "execution_count": 4,
   "id": "7acad823",
   "metadata": {},
   "outputs": [
    {
     "data": {
      "text/plain": [
       "'rit0'"
      ]
     },
     "execution_count": 4,
     "metadata": {},
     "output_type": "execute_result"
    }
   ],
   "source": [
    "u=1\n",
    "a"
   ]
  },
  {
   "cell_type": "code",
   "execution_count": 2,
   "id": "40f5e1b3",
   "metadata": {},
   "outputs": [],
   "source": []
  },
  {
   "cell_type": "code",
   "execution_count": 3,
   "id": "2c2ed70b",
   "metadata": {},
   "outputs": [
    {
     "data": {
      "text/plain": [
       "[3]"
      ]
     },
     "execution_count": 3,
     "metadata": {},
     "output_type": "execute_result"
    }
   ],
   "source": []
  },
  {
   "cell_type": "code",
   "execution_count": null,
   "id": "c9b908ea",
   "metadata": {},
   "outputs": [],
   "source": [
    "#print(item)    \n",
    "        self.j+=1\n",
    "        print(self.j)\n",
    "        next_page_url=f\"https://www.amazon.com/s?k=data+science&s=relevanceblender&page={self.j}&crid=2YKZLS0CJFDGI&qid=1663103507&sprefix=data+science%2Caps%2C828&ref=sr_pg_{self.j}\"\n",
    "        if next_page_url and self.j<self.n_page_to_scrape:\n",
    "            print('non va bene')\n",
    "            yield response.follow(url=next_page_url, callback=self.parse)#,self.j  \n",
    "         #,'authors','dates'\n",
    "        if self.j==self.n_page_to_scrape:\n",
    "            #print(self.list_items)\n",
    "            x=pd.DataFrame(self.list_items,columns=['title','author'])\n",
    "            #print(x)\n",
    "            yield x.to_csv(\"outputfile2.csv\",sep=\",\")\n",
    "        #yield response.follow(url=next_page_url, callback=self.parse_pagination, meta=item )"
   ]
  }
 ],
 "metadata": {
  "kernelspec": {
   "display_name": "Python 3",
   "language": "python",
   "name": "python3"
  },
  "language_info": {
   "codemirror_mode": {
    "name": "ipython",
    "version": 3
   },
   "file_extension": ".py",
   "mimetype": "text/x-python",
   "name": "python",
   "nbconvert_exporter": "python",
   "pygments_lexer": "ipython3",
   "version": "3.9.5"
  }
 },
 "nbformat": 4,
 "nbformat_minor": 5
}
