{
 "cells": [
  {
   "cell_type": "code",
   "execution_count": 1,
   "id": "d3d3b34f",
   "metadata": {},
   "outputs": [
    {
     "name": "stdout",
     "output_type": "stream",
     "text": [
      "Collecting scrapy-fake-useragent\n",
      "  Downloading scrapy_fake_useragent-1.4.4-py2.py3-none-any.whl (6.8 kB)\n",
      "Collecting faker\n",
      "  Downloading Faker-14.2.0-py3-none-any.whl (1.6 MB)\n",
      "Collecting fake-useragent\n",
      "  Downloading fake-useragent-0.1.11.tar.gz (13 kB)\n",
      "Requirement already satisfied: python-dateutil>=2.4 in c:\\users\\diego\\anaconda3\\envs\\env1_cloned_tf\\lib\\site-packages (from faker->scrapy-fake-useragent) (2.8.1)\n",
      "Requirement already satisfied: six>=1.5 in c:\\users\\diego\\anaconda3\\envs\\env1_cloned_tf\\lib\\site-packages (from python-dateutil>=2.4->faker->scrapy-fake-useragent) (1.16.0)\n",
      "Building wheels for collected packages: fake-useragent\n",
      "  Building wheel for fake-useragent (setup.py): started\n",
      "  Building wheel for fake-useragent (setup.py): finished with status 'done'\n",
      "  Created wheel for fake-useragent: filename=fake_useragent-0.1.11-py3-none-any.whl size=13489 sha256=ce4d127febb5e2ab87b4e7f13c1d9cec99ced67420e5d0585f5ba4ff154d3046\n",
      "  Stored in directory: c:\\users\\diego\\appdata\\local\\pip\\cache\\wheels\\ae\\e7\\76\\7dd44644d065268ab0e1b4fa2e802fa4bb0157717b7d6c6d92\n",
      "Successfully built fake-useragent\n",
      "Installing collected packages: faker, fake-useragent, scrapy-fake-useragent\n",
      "Successfully installed fake-useragent-0.1.11 faker-14.2.0 scrapy-fake-useragent-1.4.4\n"
     ]
    }
   ],
   "source": [
    "#!pip install scrapy_proxies\n",
    "!pip install scrapy-fake-useragent"
   ]
  },
  {
   "cell_type": "code",
   "execution_count": 1,
   "id": "4502b396",
   "metadata": {},
   "outputs": [
    {
     "name": "stderr",
     "output_type": "stream",
     "text": [
      "2022-09-18 00:16:23 [scrapy.utils.log] INFO: Scrapy 2.6.2 started (bot: scrapybot)\n",
      "2022-09-18 00:16:24 [scrapy.utils.log] INFO: Versions: lxml 4.8.0.0, libxml2 2.9.12, cssselect 1.1.0, parsel 1.6.0, w3lib 1.22.0, Twisted 22.4.0, Python 3.9.5 (default, May 18 2021, 14:42:02) [MSC v.1916 64 bit (AMD64)], pyOpenSSL 20.0.1 (OpenSSL 1.1.1q  5 Jul 2022), cryptography 3.4.7, Platform Windows-10-10.0.22000-SP0\n",
      "2022-09-18 00:16:24 [scrapy.crawler] INFO: Overridden settings:\n",
      "{'USER_AGENT': 'Mozilla/4.0 (X11; Linux x86_64) AppleWebKit/537.36 (KHTML, '\n",
      "               'like Gecko) Chrome/103.0.5060.53 Safari/537.36'}\n",
      "2022-09-18 00:16:24 [scrapy.utils.log] DEBUG: Using reactor: twisted.internet.selectreactor.SelectReactor\n",
      "2022-09-18 00:16:24 [scrapy.extensions.telnet] INFO: Telnet Password: 3928ebfc8a5f5cf2\n",
      "2022-09-18 00:16:24 [scrapy.middleware] INFO: Enabled extensions:\n",
      "['scrapy.extensions.corestats.CoreStats',\n",
      " 'scrapy.extensions.telnet.TelnetConsole',\n",
      " 'scrapy.extensions.logstats.LogStats']\n",
      "2022-09-18 00:16:24 [scrapy.middleware] INFO: Enabled downloader middlewares:\n",
      "['scrapy.downloadermiddlewares.httpauth.HttpAuthMiddleware',\n",
      " 'scrapy.downloadermiddlewares.downloadtimeout.DownloadTimeoutMiddleware',\n",
      " 'scrapy.downloadermiddlewares.defaultheaders.DefaultHeadersMiddleware',\n",
      " 'scrapy.downloadermiddlewares.useragent.UserAgentMiddleware',\n",
      " 'scrapy.downloadermiddlewares.retry.RetryMiddleware',\n",
      " 'scrapy.downloadermiddlewares.redirect.MetaRefreshMiddleware',\n",
      " 'scrapy.downloadermiddlewares.httpcompression.HttpCompressionMiddleware',\n",
      " 'scrapy.downloadermiddlewares.redirect.RedirectMiddleware',\n",
      " 'scrapy.downloadermiddlewares.cookies.CookiesMiddleware',\n",
      " 'scrapy.downloadermiddlewares.httpproxy.HttpProxyMiddleware',\n",
      " 'scrapy.downloadermiddlewares.stats.DownloaderStats']\n",
      "2022-09-18 00:16:24 [scrapy.middleware] INFO: Enabled spider middlewares:\n",
      "['scrapy.spidermiddlewares.httperror.HttpErrorMiddleware',\n",
      " 'scrapy.spidermiddlewares.offsite.OffsiteMiddleware',\n",
      " 'scrapy.spidermiddlewares.referer.RefererMiddleware',\n",
      " 'scrapy.spidermiddlewares.urllength.UrlLengthMiddleware',\n",
      " 'scrapy.spidermiddlewares.depth.DepthMiddleware']\n",
      "2022-09-18 00:16:24 [scrapy.middleware] INFO: Enabled item pipelines:\n",
      "[]\n",
      "2022-09-18 00:16:24 [scrapy.core.engine] INFO: Spider opened\n",
      "2022-09-18 00:16:24 [scrapy.extensions.logstats] INFO: Crawled 0 pages (at 0 pages/min), scraped 0 items (at 0 items/min)\n",
      "2022-09-18 00:16:24 [scrapy.extensions.telnet] INFO: Telnet console listening on 127.0.0.1:6024\n",
      "2022-09-18 00:16:25 [scrapy.downloadermiddlewares.redirect] DEBUG: Redirecting (301) to <GET https://www.amazon.com/s?k=statistics&crid=34NU2WDUOI6UY&qid=1663448396&sprefix=statisti%2Caps%2C263&ref=sr_pg_1> from <GET http://www.amazon.com/s?k=statistics&crid=34NU2WDUOI6UY&qid=1663448396&sprefix=statisti%2Caps%2C263&ref=sr_pg_1>\n",
      "2022-09-18 00:16:26 [filelock] DEBUG: Attempting to acquire lock 1761317238336 on C:\\Users\\diego\\anaconda3\\envs\\env1_cloned_tf\\lib\\site-packages\\tldextract\\.suffix_cache/publicsuffix.org-tlds\\de84b5ca2167d4c83e38fb162f2e8738.tldextract.json.lock\n",
      "2022-09-18 00:16:26 [filelock] DEBUG: Lock 1761317238336 acquired on C:\\Users\\diego\\anaconda3\\envs\\env1_cloned_tf\\lib\\site-packages\\tldextract\\.suffix_cache/publicsuffix.org-tlds\\de84b5ca2167d4c83e38fb162f2e8738.tldextract.json.lock\n",
      "2022-09-18 00:16:26 [filelock] DEBUG: Attempting to release lock 1761317238336 on C:\\Users\\diego\\anaconda3\\envs\\env1_cloned_tf\\lib\\site-packages\\tldextract\\.suffix_cache/publicsuffix.org-tlds\\de84b5ca2167d4c83e38fb162f2e8738.tldextract.json.lock\n",
      "2022-09-18 00:16:26 [filelock] DEBUG: Lock 1761317238336 released on C:\\Users\\diego\\anaconda3\\envs\\env1_cloned_tf\\lib\\site-packages\\tldextract\\.suffix_cache/publicsuffix.org-tlds\\de84b5ca2167d4c83e38fb162f2e8738.tldextract.json.lock\n",
      "2022-09-18 00:16:26 [scrapy.core.engine] DEBUG: Crawled (200) <GET https://www.amazon.com/s?k=statistics&crid=34NU2WDUOI6UY&qid=1663448396&sprefix=statisti%2Caps%2C263&ref=sr_pg_1> (referer: None)\n"
     ]
    },
    {
     "name": "stdout",
     "output_type": "stream",
     "text": [
      "1\n",
      "Introduction to Statistics: An Intuitive Guide for Analyzing Data and Unlocking Discoveries\n",
      "Princeton Review AP Statistics Prep, 2022: 4 Practice Tests + Complete Content Review + Strategies & Techniques (2022) (College Test Preparation)\n",
      "Introduction to Probability, Statistics, and Random Processes\n",
      "Statistics for Absolute Beginners (Second Edition) (Data Science, Python & Statistics for Beginners)\n",
      "Practical Statistics for Data Scientists: 50+ Essential Concepts Using R and Python\n",
      "Naked Statistics: Stripping the Dread from the Data\n",
      "The Art of Statistics: How to Learn from Data\n",
      "Statistics Laminate Reference Chart: Parameters, Variables, Intervals, Proportions (Quickstudy: Academic )\n",
      "Statistics For Dummies (For Dummies (Lifestyle))\n",
      "Statistics for People Who (Think They) Hate Statistics\n",
      "Essential Math for Data Science: Take Control of Your Data with Fundamental Linear Algebra, Probability, and Statistics\n",
      "Introductory Statistics\n",
      "How to Lie with Statistics\n",
      "Advanced Statistics for Health Research\n",
      "Statistics, 11th Edition\n",
      "The Cartoon Guide to Statistics\n",
      "The Foundations of Statistics\n",
      "Clinical Biostatistics and Epidemiology Made Ridiculously Simple: An Incredibly Easy Way to Learn for Medical, Nursing, PA Students, And Other Healthcare Professionals (MedMaster Medical Books)\n",
      "Learn Statistics Today: 50 Solved Equations To Easily Explain Statistics! (Content Guide Included)\n",
      "The Nature of Statistics (Dover Books on Mathematics)\n",
      "Introduction to Statistics: An Intuitive Guide for Analyzing Data and Unlocking Discoveries\n",
      "Bayesian Statistics the Fun Way: Understanding Statistics and Probability with Star Wars, LEGO, and Rubber Ducks\n",
      "Learning Statistics: Concepts and Applications in R\n",
      "Statistics Essentials For Dummies\n",
      "AP Statistics Premium, 2023-2024: 9 Practice Tests + Comprehensive Review + Online Practice (Barron's Test Prep)\n",
      "Introduction to Modern Statistics\n",
      "All of Statistics: A Concise Course in Statistical Inference (Springer Texts in Statistics)\n",
      "Statistics for People Who (Think They) Hate Statistics: Using Microsoft Excel\n",
      "Discovering Statistics Using IBM SPSS Statistics: North American Edition\n",
      "Painless Statistics (Barron's Painless)\n",
      "Probability and Statistics for Economists\n",
      "Essentials of Statistics\n",
      "Periodic Table Advanced (Quick Study)\n",
      "The Elements of Statistical Learning: Data Mining, Inference, and Prediction, Second Edition (Springer Series in Statistics)\n",
      "Outline of Basic Statistics: Dictionary and Formulas (Dover Books on Mathematics)\n",
      "Discovering Statistics Using IBM SPSS Statistics: North American Edition\n",
      "Statistics for Absolute Beginners (Second Edition) (Data Science, Python & Statistics for Beginners Book 3)\n",
      "How the World Really Works: The Science Behind How We Got Here and Where We're Going\n",
      "Freakonomics Rev Ed: A Rogue Economist Explores the Hidden Side of Everything\n",
      "Numbers Don't Lie: 71 Stories to Help Us Understand the Modern World\n",
      "Factfulness: Ten Reasons We're Wrong About the World--and Why Things Are Better Than You Think\n",
      "Fooled by Randomness: The Hidden Role of Chance in Life and in the Markets\n",
      "Data Mining for Business Analytics: Concepts, Techniques, and Applications in R\n",
      "A Mind for Numbers: How to Excel at Math and Science (Even If You Flunked Algebra)\n",
      "Statistics Workbook For Dummies with Online Practice\n",
      "Advanced Statistics in Research: Reading, Understanding, and Writing Up Data Analysis Results\n",
      "A Man for All Markets: From Las Vegas to Wall Street, How I Beat the Dealer and the Market\n",
      "Essentials of Statistics for the Behavioral Sciences, 10th Edition, Paperback\n",
      "Introduction to Probability, Statistics, and Random Processes\n",
      "Princeton Review AP Statistics Prep, 2022: 4 Practice Tests + Complete Content Review + Strategies & Techniques (2022) (College Test Preparation)\n",
      "UPDATED Version of The Practice of Statistics\n",
      "Hypothesis Testing: An Intuitive Guide for Making Data Driven Decisions\n",
      "Against the Gods: The Remarkable Story of Risk\n",
      "Princeton Review AP Statistics Prep, 2023: 5 Practice Tests + Complete Content Review + Strategies & Techniques (College Test Preparation)\n",
      "Statistics in Plain English\n",
      "Mathematical Statistics with Applications\n",
      "OpenIntro Statistics: Fourth Edition\n",
      "The Signal and the Noise: Why So Many Predictions Fail--but Some Don't\n",
      "5 Steps to a 5: AP Statistics 2023\n",
      "The Probability and Statistics Tutor - 10 Hour Course - 3 DVD Set - Learn By Examples!\n"
     ]
    },
    {
     "name": "stderr",
     "output_type": "stream",
     "text": [
      "2022-09-18 00:16:27 [scrapy.downloadermiddlewares.redirect] DEBUG: Redirecting (302) to <GET https://www.amazon.com/Introduction-Statistics-Intuitive-Analyzing-Discoveries/dp/1735431109/ref=sr_1_1_sspa?crid=34NU2WDUOI6UY&keywords=statistics&qid=1663452985&sprefix=statisti%2Caps%2C263&sr=8-1-spons&psc=1&spLa=ZW5jcnlwdGVkUXVhbGlmaWVyPUEzS05CV1ZCT0ZDWk1UJmVuY3J5cHRlZElkPUEwMzAxNTc0MVExSklKNEpKTkUzTyZlbmNyeXB0ZWRBZElkPUEwNDYyMDI5MjYwMk9MMlg2STg0RyZ3aWRnZXROYW1lPXNwX2F0ZiZhY3Rpb249Y2xpY2tSZWRpcmVjdCZkb05vdExvZ0NsaWNrPXRydWU=> from <GET https://www.amazon.com/gp/slredirect/picassoRedirect.html/ref=pa_sp_atf_aps_sr_pg1_1?ie=UTF8&adId=A04620292602OL2X6I84G&url=%2FIntroduction-Statistics-Intuitive-Analyzing-Discoveries%2Fdp%2F1735431109%2Fref%3Dsr_1_1_sspa%3Fcrid%3D34NU2WDUOI6UY%26keywords%3Dstatistics%26qid%3D1663452985%26sprefix%3Dstatisti%252Caps%252C263%26sr%3D8-1-spons%26psc%3D1&qualifier=1663452985&id=4337139339647806&widgetName=sp_atf>\n",
      "2022-09-18 00:16:27 [scrapy.downloadermiddlewares.redirect] DEBUG: Redirecting (302) to <GET https://www.amazon.com/Statistics-Absolute-Beginners-Second-Theobald/dp/B08BDZ2DCF/ref=sr_1_4_sspa?crid=34NU2WDUOI6UY&keywords=statistics&qid=1663452985&sprefix=statisti%2Caps%2C263&sr=8-4-spons&psc=1&spLa=ZW5jcnlwdGVkUXVhbGlmaWVyPUEzS05CV1ZCT0ZDWk1UJmVuY3J5cHRlZElkPUEwMzAxNTc0MVExSklKNEpKTkUzTyZlbmNyeXB0ZWRBZElkPUEwNjAxNzE5OERKODMwNE0xUjRRJndpZGdldE5hbWU9c3BfYXRmJmFjdGlvbj1jbGlja1JlZGlyZWN0JmRvTm90TG9nQ2xpY2s9dHJ1ZQ==> from <GET https://www.amazon.com/gp/slredirect/picassoRedirect.html/ref=pa_sp_atf_aps_sr_pg1_1?ie=UTF8&adId=A06017198DJ8304M1R4Q&url=%2FStatistics-Absolute-Beginners-Second-Theobald%2Fdp%2FB08BDZ2DCF%2Fref%3Dsr_1_4_sspa%3Fcrid%3D34NU2WDUOI6UY%26keywords%3Dstatistics%26qid%3D1663452985%26sprefix%3Dstatisti%252Caps%252C263%26sr%3D8-4-spons%26psc%3D1&qualifier=1663452985&id=4337139339647806&widgetName=sp_atf>\n",
      "2022-09-18 00:16:28 [scrapy.downloadermiddlewares.redirect] DEBUG: Redirecting (302) to <GET https://www.amazon.com/Introduction-Probability-Statistics-Random-Processes/dp/0990637204/ref=sr_1_3_sspa?crid=34NU2WDUOI6UY&keywords=statistics&qid=1663452985&sprefix=statisti%2Caps%2C263&sr=8-3-spons&psc=1&spLa=ZW5jcnlwdGVkUXVhbGlmaWVyPUEzS05CV1ZCT0ZDWk1UJmVuY3J5cHRlZElkPUEwMzAxNTc0MVExSklKNEpKTkUzTyZlbmNyeXB0ZWRBZElkPUEwMTkyODg3MUpTSFNWNlZGUVlXTCZ3aWRnZXROYW1lPXNwX2F0ZiZhY3Rpb249Y2xpY2tSZWRpcmVjdCZkb05vdExvZ0NsaWNrPXRydWU=> from <GET https://www.amazon.com/gp/slredirect/picassoRedirect.html/ref=pa_sp_atf_aps_sr_pg1_1?ie=UTF8&adId=A01928871JSHSV6VFQYWL&url=%2FIntroduction-Probability-Statistics-Random-Processes%2Fdp%2F0990637204%2Fref%3Dsr_1_3_sspa%3Fcrid%3D34NU2WDUOI6UY%26keywords%3Dstatistics%26qid%3D1663452985%26sprefix%3Dstatisti%252Caps%252C263%26sr%3D8-3-spons%26psc%3D1&qualifier=1663452985&id=4337139339647806&widgetName=sp_atf>\n",
      "2022-09-18 00:16:28 [scrapy.downloadermiddlewares.redirect] DEBUG: Redirecting (302) to <GET https://www.amazon.com/Princeton-Review-Statistics-Prep-2022/dp/0525570748/ref=sr_1_2_sspa?crid=34NU2WDUOI6UY&keywords=statistics&qid=1663452985&sprefix=statisti%2Caps%2C263&sr=8-2-spons&psc=1&spLa=ZW5jcnlwdGVkUXVhbGlmaWVyPUEzS05CV1ZCT0ZDWk1UJmVuY3J5cHRlZElkPUEwMzAxNTc0MVExSklKNEpKTkUzTyZlbmNyeXB0ZWRBZElkPUEwMjk5ODIyMzhDVEVFT1FPWUQ3MCZ3aWRnZXROYW1lPXNwX2F0ZiZhY3Rpb249Y2xpY2tSZWRpcmVjdCZkb05vdExvZ0NsaWNrPXRydWU=> from <GET https://www.amazon.com/gp/slredirect/picassoRedirect.html/ref=pa_sp_atf_aps_sr_pg1_1?ie=UTF8&adId=A029982238CTEEOQOYD70&url=%2FPrinceton-Review-Statistics-Prep-2022%2Fdp%2F0525570748%2Fref%3Dsr_1_2_sspa%3Fcrid%3D34NU2WDUOI6UY%26keywords%3Dstatistics%26qid%3D1663452985%26sprefix%3Dstatisti%252Caps%252C263%26sr%3D8-2-spons%26psc%3D1&qualifier=1663452985&id=4337139339647806&widgetName=sp_atf>\n",
      "2022-09-18 00:16:29 [scrapy.downloadermiddlewares.redirect] DEBUG: Redirecting (302) to <GET https://www.amazon.com/Foundations-Statistics-Leonard-J-Savage/dp/0486623491/ref=sr_1_17_sspa?crid=34NU2WDUOI6UY&keywords=statistics&qid=1663452985&sprefix=statisti%2Caps%2C263&sr=8-17-spons&psc=1&spLa=ZW5jcnlwdGVkUXVhbGlmaWVyPUEzS05CV1ZCT0ZDWk1UJmVuY3J5cHRlZElkPUEwMzAxNTc0MVExSklKNEpKTkUzTyZlbmNyeXB0ZWRBZElkPUEwNDI2NzI5SlJWRDZDMFU0ODBJJndpZGdldE5hbWU9c3BfbXRmJmFjdGlvbj1jbGlja1JlZGlyZWN0JmRvTm90TG9nQ2xpY2s9dHJ1ZQ==> from <GET https://www.amazon.com/gp/slredirect/picassoRedirect.html/ref=pa_sp_mtf_aps_sr_pg1_1?ie=UTF8&adId=A0426729JRVD6C0U480I&url=%2FFoundations-Statistics-Leonard-J-Savage%2Fdp%2F0486623491%2Fref%3Dsr_1_17_sspa%3Fcrid%3D34NU2WDUOI6UY%26keywords%3Dstatistics%26qid%3D1663452985%26sprefix%3Dstatisti%252Caps%252C263%26sr%3D8-17-spons%26psc%3D1&qualifier=1663452985&id=4337139339647806&widgetName=sp_mtf>\n",
      "2022-09-18 00:16:29 [scrapy.core.engine] DEBUG: Crawled (200) <GET https://www.amazon.com/Essential-Math-Data-Science-Fundamental/dp/1098102932/ref=sr_1_11?crid=34NU2WDUOI6UY&keywords=statistics&qid=1663452985&sprefix=statisti%2Caps%2C263&sr=8-11> (referer: https://www.amazon.com/s?k=statistics&crid=34NU2WDUOI6UY&qid=1663448396&sprefix=statisti%2Caps%2C263&ref=sr_pg_1)\n",
      "2022-09-18 00:16:29 [scrapy.core.engine] DEBUG: Crawled (200) <GET https://www.amazon.com/Art-Statistics-How-Learn-Data/dp/1541675703/ref=sr_1_7?crid=34NU2WDUOI6UY&keywords=statistics&qid=1663452985&sprefix=statisti%2Caps%2C263&sr=8-7> (referer: https://www.amazon.com/s?k=statistics&crid=34NU2WDUOI6UY&qid=1663448396&sprefix=statisti%2Caps%2C263&ref=sr_pg_1)\n"
     ]
    },
    {
     "name": "stdout",
     "output_type": "stream",
     "text": [
      "1\n",
      "['\\n            \\n              79%\\n            \\n          '] 4.5 out of 5 stars 7 x 0.75 x 9 inches\n"
     ]
    },
    {
     "name": "stderr",
     "output_type": "stream",
     "text": [
      "2022-09-18 00:16:30 [scrapy.core.engine] DEBUG: Crawled (200) <GET https://www.amazon.com/Statistics-Laminate-Reference-Chart-Proportions/dp/1572229446/ref=sr_1_8?crid=34NU2WDUOI6UY&keywords=statistics&qid=1663452985&sprefix=statisti%2Caps%2C263&sr=8-8> (referer: https://www.amazon.com/s?k=statistics&crid=34NU2WDUOI6UY&qid=1663448396&sprefix=statisti%2Caps%2C263&ref=sr_pg_1)\n",
      "2022-09-18 00:16:30 [scrapy.core.engine] DEBUG: Crawled (200) <GET https://www.amazon.com/Practical-Statistics-Data-Scientists-Essential/dp/149207294X/ref=sr_1_5?crid=34NU2WDUOI6UY&keywords=statistics&qid=1663452985&sprefix=statisti%2Caps%2C263&sr=8-5> (referer: https://www.amazon.com/s?k=statistics&crid=34NU2WDUOI6UY&qid=1663448396&sprefix=statisti%2Caps%2C263&ref=sr_pg_1)\n",
      "2022-09-18 00:16:30 [scrapy.core.engine] DEBUG: Crawled (200) <GET https://www.amazon.com/Statistics-People-Think-They-Hate/dp/1544381859/ref=sr_1_10?crid=34NU2WDUOI6UY&keywords=statistics&qid=1663452985&sprefix=statisti%2Caps%2C263&sr=8-10> (referer: https://www.amazon.com/s?k=statistics&crid=34NU2WDUOI6UY&qid=1663448396&sprefix=statisti%2Caps%2C263&ref=sr_pg_1)\n"
     ]
    },
    {
     "name": "stdout",
     "output_type": "stream",
     "text": [
      "2\n",
      "['\\n            \\n              73%\\n            \\n          '] 4.6 out of 5 stars 5.4 x 1.3 x 8.2 inches\n"
     ]
    },
    {
     "name": "stderr",
     "output_type": "stream",
     "text": [
      "2022-09-18 00:16:30 [scrapy.core.engine] DEBUG: Crawled (200) <GET https://www.amazon.com/Naked-Statistics-Stripping-Dread-Data/dp/039334777X/ref=sr_1_6?crid=34NU2WDUOI6UY&keywords=statistics&qid=1663452985&sprefix=statisti%2Caps%2C263&sr=8-6> (referer: https://www.amazon.com/s?k=statistics&crid=34NU2WDUOI6UY&qid=1663448396&sprefix=statisti%2Caps%2C263&ref=sr_pg_1)\n",
      "2022-09-18 00:16:30 [scrapy.core.engine] DEBUG: Crawled (200) <GET https://www.amazon.com/Statistics-Dummies-Math-Science/dp/1119293529/ref=sr_1_9?crid=34NU2WDUOI6UY&keywords=statistics&qid=1663452985&sprefix=statisti%2Caps%2C263&sr=8-9> (referer: https://www.amazon.com/s?k=statistics&crid=34NU2WDUOI6UY&qid=1663448396&sprefix=statisti%2Caps%2C263&ref=sr_pg_1)\n"
     ]
    },
    {
     "name": "stdout",
     "output_type": "stream",
     "text": [
      "3\n",
      "['\\n            \\n              76%\\n            \\n          '] 4.6 out of 5 stars 8.5 x 11 x 0.06 inches\n",
      "4\n",
      "['\\n            \\n              76%\\n            \\n          '] 4.6 out of 5 stars 7 x 0.9 x 9.1 inches\n",
      "5\n",
      "['\\n            \\n              77%\\n            \\n          '] 4.5 out of 5 stars 7 x 1.16 x 10 inches\n",
      "6\n",
      "['\\n            \\n              72%\\n            \\n          '] 4.6 out of 5 stars 5.5 x 0.8 x 8.2 inches\n"
     ]
    },
    {
     "name": "stderr",
     "output_type": "stream",
     "text": [
      "2022-09-18 00:16:31 [scrapy.core.engine] DEBUG: Crawled (200) <GET https://www.amazon.com/Advanced-Statistics-Health-Research-Richard/dp/9811262306/ref=sr_1_14?crid=34NU2WDUOI6UY&keywords=statistics&qid=1663452985&sprefix=statisti%2Caps%2C263&sr=8-14> (referer: https://www.amazon.com/s?k=statistics&crid=34NU2WDUOI6UY&qid=1663448396&sprefix=statisti%2Caps%2C263&ref=sr_pg_1)\n"
     ]
    },
    {
     "name": "stdout",
     "output_type": "stream",
     "text": [
      "7\n",
      "['\\n            \\n              64%\\n            \\n          '] 4.3 out of 5 stars 7.3 x 1.2 x 9.2 inches\n",
      "8\n",
      "[] None None\n"
     ]
    },
    {
     "name": "stderr",
     "output_type": "stream",
     "text": [
      "2022-09-18 00:16:32 [scrapy.core.engine] DEBUG: Crawled (200) <GET https://www.amazon.com/Statistics-11th-Robert-S-Witte/dp/1119386055/ref=sr_1_15?crid=34NU2WDUOI6UY&keywords=statistics&qid=1663452985&sprefix=statisti%2Caps%2C263&sr=8-15> (referer: https://www.amazon.com/s?k=statistics&crid=34NU2WDUOI6UY&qid=1663448396&sprefix=statisti%2Caps%2C263&ref=sr_pg_1)\n",
      "2022-09-18 00:16:33 [scrapy.core.engine] DEBUG: Crawled (200) <GET https://www.amazon.com/Cartoon-Guide-Statistics-Larry-Gonick/dp/0062731025/ref=sr_1_16?crid=34NU2WDUOI6UY&keywords=statistics&qid=1663452985&sprefix=statisti%2Caps%2C263&sr=8-16> (referer: https://www.amazon.com/s?k=statistics&crid=34NU2WDUOI6UY&qid=1663448396&sprefix=statisti%2Caps%2C263&ref=sr_pg_1)\n",
      "2022-09-18 00:16:33 [scrapy.core.engine] DEBUG: Crawled (200) <GET https://www.amazon.com/Statistics-Absolute-Beginners-Second-Theobald/dp/B08BDZ2DCF/ref=sr_1_4_sspa?crid=34NU2WDUOI6UY&keywords=statistics&qid=1663452985&sprefix=statisti%2Caps%2C263&sr=8-4-spons&psc=1&spLa=ZW5jcnlwdGVkUXVhbGlmaWVyPUEzS05CV1ZCT0ZDWk1UJmVuY3J5cHRlZElkPUEwMzAxNTc0MVExSklKNEpKTkUzTyZlbmNyeXB0ZWRBZElkPUEwNjAxNzE5OERKODMwNE0xUjRRJndpZGdldE5hbWU9c3BfYXRmJmFjdGlvbj1jbGlja1JlZGlyZWN0JmRvTm90TG9nQ2xpY2s9dHJ1ZQ==> (referer: https://www.amazon.com/s?k=statistics&crid=34NU2WDUOI6UY&qid=1663448396&sprefix=statisti%2Caps%2C263&ref=sr_pg_1)\n"
     ]
    },
    {
     "name": "stdout",
     "output_type": "stream",
     "text": [
      "9\n",
      "['\\n            \\n              78%\\n            \\n          '] 4.5 out of 5 stars 8 x 1.12 x 10 inches\n"
     ]
    },
    {
     "name": "stderr",
     "output_type": "stream",
     "text": [
      "2022-09-18 00:16:33 [scrapy.core.engine] DEBUG: Crawled (200) <GET https://www.amazon.com/Introduction-Statistics-Intuitive-Analyzing-Discoveries/dp/1735431109/ref=sr_1_1_sspa?crid=34NU2WDUOI6UY&keywords=statistics&qid=1663452985&sprefix=statisti%2Caps%2C263&sr=8-1-spons&psc=1&spLa=ZW5jcnlwdGVkUXVhbGlmaWVyPUEzS05CV1ZCT0ZDWk1UJmVuY3J5cHRlZElkPUEwMzAxNTc0MVExSklKNEpKTkUzTyZlbmNyeXB0ZWRBZElkPUEwNDYyMDI5MjYwMk9MMlg2STg0RyZ3aWRnZXROYW1lPXNwX2F0ZiZhY3Rpb249Y2xpY2tSZWRpcmVjdCZkb05vdExvZ0NsaWNrPXRydWU=> (referer: https://www.amazon.com/s?k=statistics&crid=34NU2WDUOI6UY&qid=1663448396&sprefix=statisti%2Caps%2C263&ref=sr_pg_1)\n"
     ]
    },
    {
     "name": "stdout",
     "output_type": "stream",
     "text": [
      "10\n",
      "['\\n            \\n              68%\\n            \\n          '] 4.4 out of 5 stars 7.36 x 0.63 x 9.24 inches\n"
     ]
    },
    {
     "name": "stderr",
     "output_type": "stream",
     "text": [
      "2022-09-18 00:16:33 [scrapy.core.engine] DEBUG: Crawled (200) <GET https://www.amazon.com/Introduction-Probability-Statistics-Random-Processes/dp/0990637204/ref=sr_1_3_sspa?crid=34NU2WDUOI6UY&keywords=statistics&qid=1663452985&sprefix=statisti%2Caps%2C263&sr=8-3-spons&psc=1&spLa=ZW5jcnlwdGVkUXVhbGlmaWVyPUEzS05CV1ZCT0ZDWk1UJmVuY3J5cHRlZElkPUEwMzAxNTc0MVExSklKNEpKTkUzTyZlbmNyeXB0ZWRBZElkPUEwMTkyODg3MUpTSFNWNlZGUVlXTCZ3aWRnZXROYW1lPXNwX2F0ZiZhY3Rpb249Y2xpY2tSZWRpcmVjdCZkb05vdExvZ0NsaWNrPXRydWU=> (referer: https://www.amazon.com/s?k=statistics&crid=34NU2WDUOI6UY&qid=1663448396&sprefix=statisti%2Caps%2C263&ref=sr_pg_1)\n",
      "2022-09-18 00:16:33 [scrapy.core.engine] DEBUG: Crawled (200) <GET https://www.amazon.com/How-Lie-Statistics-Darrell-Huff/dp/0393310728/ref=sr_1_13?crid=34NU2WDUOI6UY&keywords=statistics&qid=1663452985&sprefix=statisti%2Caps%2C263&sr=8-13> (referer: https://www.amazon.com/s?k=statistics&crid=34NU2WDUOI6UY&qid=1663448396&sprefix=statisti%2Caps%2C263&ref=sr_pg_1)\n"
     ]
    },
    {
     "name": "stdout",
     "output_type": "stream",
     "text": [
      "11\n",
      "['\\n            \\n              70%\\n            \\n          '] 4.4 out of 5 stars 6 x 0.39 x 9 inches\n",
      "12\n",
      "['\\n            \\n              72%\\n            \\n          '] 4.5 out of 5 stars 6 x 0.58 x 9 inches\n",
      "13\n",
      "['\\n            \\n              80%\\n            \\n          '] 4.6 out of 5 stars 7.44 x 1.68 x 9.69 inches\n",
      "14\n",
      "['\\n            \\n              72%\\n            \\n          '] 4.6 out of 5 stars 5.5 x 0.5 x 8.3 inches\n"
     ]
    },
    {
     "name": "stderr",
     "output_type": "stream",
     "text": [
      "2022-09-18 00:16:34 [scrapy.core.engine] DEBUG: Crawled (200) <GET https://www.amazon.com/Princeton-Review-Statistics-Prep-2022/dp/0525570748/ref=sr_1_2_sspa?crid=34NU2WDUOI6UY&keywords=statistics&qid=1663452985&sprefix=statisti%2Caps%2C263&sr=8-2-spons&psc=1&spLa=ZW5jcnlwdGVkUXVhbGlmaWVyPUEzS05CV1ZCT0ZDWk1UJmVuY3J5cHRlZElkPUEwMzAxNTc0MVExSklKNEpKTkUzTyZlbmNyeXB0ZWRBZElkPUEwMjk5ODIyMzhDVEVFT1FPWUQ3MCZ3aWRnZXROYW1lPXNwX2F0ZiZhY3Rpb249Y2xpY2tSZWRpcmVjdCZkb05vdExvZ0NsaWNrPXRydWU=> (referer: https://www.amazon.com/s?k=statistics&crid=34NU2WDUOI6UY&qid=1663448396&sprefix=statisti%2Caps%2C263&ref=sr_pg_1)\n"
     ]
    },
    {
     "name": "stdout",
     "output_type": "stream",
     "text": [
      "15\n",
      "['\\n            \\n              77%\\n            \\n          '] 4.6 out of 5 stars 8.3 x 1.04 x 10.79 inches\n"
     ]
    },
    {
     "name": "stderr",
     "output_type": "stream",
     "text": [
      "2022-09-18 00:16:35 [scrapy.core.engine] DEBUG: Crawled (200) <GET https://www.amazon.com/Steps-AP-Statistics-2023/dp/1264498624/ref=sr_1_59?crid=34NU2WDUOI6UY&keywords=statistics&qid=1663452985&sprefix=statisti%2Caps%2C263&sr=8-59> (referer: https://www.amazon.com/s?k=statistics&crid=34NU2WDUOI6UY&qid=1663448396&sprefix=statisti%2Caps%2C263&ref=sr_pg_1)\n",
      "2022-09-18 00:16:35 [scrapy.core.engine] DEBUG: Crawled (200) <GET https://www.amazon.com/Probability-Statistics-Tutor-Course-Examples/dp/B0016G8HX4/ref=sr_1_60?crid=34NU2WDUOI6UY&keywords=statistics&qid=1663452985&sprefix=statisti%2Caps%2C263&sr=8-60> (referer: https://www.amazon.com/s?k=statistics&crid=34NU2WDUOI6UY&qid=1663448396&sprefix=statisti%2Caps%2C263&ref=sr_pg_1)\n"
     ]
    },
    {
     "name": "stdout",
     "output_type": "stream",
     "text": [
      "16\n",
      "[] None 8.5 x 0.75 x 11 inches\n",
      "17\n",
      "['\\n            \\n              65%\\n            \\n          '] 4.2 out of 5 stars 7.5 x 5.5 x 0.5 inches; 4.8 Ounces\n"
     ]
    },
    {
     "name": "stderr",
     "output_type": "stream",
     "text": [
      "2022-09-18 00:16:39 [scrapy.core.engine] DEBUG: Crawled (200) <GET https://www.amazon.com/Foundations-Statistics-Leonard-J-Savage/dp/0486623491/ref=sr_1_17_sspa?crid=34NU2WDUOI6UY&keywords=statistics&qid=1663452985&sprefix=statisti%2Caps%2C263&sr=8-17-spons&psc=1&spLa=ZW5jcnlwdGVkUXVhbGlmaWVyPUEzS05CV1ZCT0ZDWk1UJmVuY3J5cHRlZElkPUEwMzAxNTc0MVExSklKNEpKTkUzTyZlbmNyeXB0ZWRBZElkPUEwNDI2NzI5SlJWRDZDMFU0ODBJJndpZGdldE5hbWU9c3BfbXRmJmFjdGlvbj1jbGlja1JlZGlyZWN0JmRvTm90TG9nQ2xpY2s9dHJ1ZQ==> (referer: https://www.amazon.com/s?k=statistics&crid=34NU2WDUOI6UY&qid=1663448396&sprefix=statisti%2Caps%2C263&ref=sr_pg_1)\n",
      "2022-09-18 00:16:39 [scrapy.core.engine] DEBUG: Crawled (200) <GET https://www.amazon.com/Princeton-Review-Statistics-Prep-2023/dp/0593450892/ref=sr_1_54?crid=34NU2WDUOI6UY&keywords=statistics&qid=1663452985&sprefix=statisti%2Caps%2C263&sr=8-54> (referer: https://www.amazon.com/s?k=statistics&crid=34NU2WDUOI6UY&qid=1663448396&sprefix=statisti%2Caps%2C263&ref=sr_pg_1)\n",
      "2022-09-18 00:16:39 [scrapy.core.engine] DEBUG: Crawled (200) <GET https://www.amazon.com/Mathematical-Statistics-Applications-Dennis-Wackerly/dp/0495110817/ref=sr_1_56?crid=34NU2WDUOI6UY&keywords=statistics&qid=1663452985&sprefix=statisti%2Caps%2C263&sr=8-56> (referer: https://www.amazon.com/s?k=statistics&crid=34NU2WDUOI6UY&qid=1663448396&sprefix=statisti%2Caps%2C263&ref=sr_pg_1)\n",
      "2022-09-18 00:16:39 [scrapy.core.engine] DEBUG: Crawled (200) <GET https://www.amazon.com/Statistics-Course-Pack-Set-Op/dp/1138838349/ref=sr_1_55?crid=34NU2WDUOI6UY&keywords=statistics&qid=1663452985&sprefix=statisti%2Caps%2C263&sr=8-55> (referer: https://www.amazon.com/s?k=statistics&crid=34NU2WDUOI6UY&qid=1663448396&sprefix=statisti%2Caps%2C263&ref=sr_pg_1)\n",
      "2022-09-18 00:16:39 [scrapy.core.engine] DEBUG: Crawled (200) <GET https://www.amazon.com/OpenIntro-Statistics-Fourth-David-Diez/dp/1943450072/ref=sr_1_57?crid=34NU2WDUOI6UY&keywords=statistics&qid=1663452985&sprefix=statisti%2Caps%2C263&sr=8-57> (referer: https://www.amazon.com/s?k=statistics&crid=34NU2WDUOI6UY&qid=1663448396&sprefix=statisti%2Caps%2C263&ref=sr_pg_1)\n"
     ]
    },
    {
     "name": "stdout",
     "output_type": "stream",
     "text": [
      "start_new_page\n"
     ]
    },
    {
     "name": "stderr",
     "output_type": "stream",
     "text": [
      "2022-09-18 00:16:39 [scrapy.core.engine] DEBUG: Crawled (200) <GET https://www.amazon.com/Signal-Noise-Many-Predictions-Fail-but/dp/0143125087/ref=sr_1_58?crid=34NU2WDUOI6UY&keywords=statistics&qid=1663452985&sprefix=statisti%2Caps%2C263&sr=8-58> (referer: https://www.amazon.com/s?k=statistics&crid=34NU2WDUOI6UY&qid=1663448396&sprefix=statisti%2Caps%2C263&ref=sr_pg_1)\n",
      "2022-09-18 00:16:39 [scrapy.core.engine] DEBUG: Crawled (200) <GET https://www.amazon.com/Hypothesis-Testing-Intuitive-Making-Decisions/dp/173543115X/ref=sr_1_52?crid=34NU2WDUOI6UY&keywords=statistics&qid=1663452985&sprefix=statisti%2Caps%2C263&sr=8-52> (referer: https://www.amazon.com/s?k=statistics&crid=34NU2WDUOI6UY&qid=1663448396&sprefix=statisti%2Caps%2C263&ref=sr_pg_1)\n",
      "2022-09-18 00:16:39 [scrapy.core.engine] DEBUG: Crawled (200) <GET https://www.amazon.com/Against-Gods-Remarkable-Story-Risk/dp/0471295639/ref=sr_1_53?crid=34NU2WDUOI6UY&keywords=statistics&qid=1663452985&sprefix=statisti%2Caps%2C263&sr=8-53> (referer: https://www.amazon.com/s?k=statistics&crid=34NU2WDUOI6UY&qid=1663448396&sprefix=statisti%2Caps%2C263&ref=sr_pg_1)\n"
     ]
    },
    {
     "name": "stdout",
     "output_type": "stream",
     "text": [
      "18\n",
      "['\\n            \\n              71%\\n            \\n          '] 4.5 out of 5 stars 5.43 x 0.73 x 8.49 inches\n",
      "19\n",
      "['\\n            \\n              63%\\n            \\n          '] 4.6 out of 5 stars 8.3 x 1.08 x 10.8 inches\n",
      "20\n",
      "['\\n            \\n              63%\\n            \\n          '] 4.2 out of 5 stars 7.5 x 1.5 x 9.25 inches\n",
      "21\n",
      "['\\n            \\n              80%\\n            \\n          '] 4.7 out of 5 stars 8.5 x 0.65 x 11 inches\n",
      "22\n",
      "['\\n            \\n              73%\\n            \\n          '] 4.4 out of 5 stars 8.5 x 0.96 x 11 inches\n",
      "23\n",
      "['\\n            \\n              65%\\n            \\n          '] 4.5 out of 5 stars 5.5 x 1 x 8.4 inches\n",
      "24\n",
      "['\\n            \\n              78%\\n            \\n          '] 4.6 out of 5 stars 6 x 0.86 x 9 inches\n",
      "25\n",
      "['\\n            \\n              67%\\n            \\n          '] 4.4 out of 5 stars 6 x 1.2 x 8.9 inches\n"
     ]
    },
    {
     "name": "stderr",
     "output_type": "stream",
     "text": [
      "2022-09-18 00:16:41 [scrapy.core.engine] DEBUG: Crawled (200) <GET https://www.amazon.com/Essentials-Statistics-Behavioral-Sciences-Paperback/dp/B0B5Q3MN2X/ref=sr_1_48?crid=34NU2WDUOI6UY&keywords=statistics&qid=1663452985&sprefix=statisti%2Caps%2C263&sr=8-48> (referer: https://www.amazon.com/s?k=statistics&crid=34NU2WDUOI6UY&qid=1663448396&sprefix=statisti%2Caps%2C263&ref=sr_pg_1)\n",
      "2022-09-18 00:16:41 [scrapy.core.engine] DEBUG: Crawled (200) <GET https://www.amazon.com/Introduction-Probability-Statistics-Random-Processes/dp/0990637204/ref=sr_1_49?crid=34NU2WDUOI6UY&keywords=statistics&qid=1663452985&sprefix=statisti%2Caps%2C263&sr=8-49> (referer: https://www.amazon.com/s?k=statistics&crid=34NU2WDUOI6UY&qid=1663448396&sprefix=statisti%2Caps%2C263&ref=sr_pg_1)\n",
      "2022-09-18 00:16:41 [scrapy.core.engine] DEBUG: Crawled (200) <GET https://www.amazon.com/Princeton-Review-Statistics-Prep-2022/dp/0525570748/ref=sr_1_50?crid=34NU2WDUOI6UY&keywords=statistics&qid=1663452985&sprefix=statisti%2Caps%2C263&sr=8-50> (referer: https://www.amazon.com/s?k=statistics&crid=34NU2WDUOI6UY&qid=1663448396&sprefix=statisti%2Caps%2C263&ref=sr_pg_1)\n"
     ]
    },
    {
     "name": "stdout",
     "output_type": "stream",
     "text": [
      "26\n",
      "['\\n            \\n              37%\\n            \\n          '] 4.2 out of 5 stars 8 x 1.55 x 10 inches\n"
     ]
    },
    {
     "name": "stderr",
     "output_type": "stream",
     "text": [
      "2022-09-18 00:16:42 [scrapy.core.engine] DEBUG: Crawled (200) <GET https://www.amazon.com/Advanced-Statistics-Research-Understanding-Analysis/dp/0985867000/ref=sr_1_46?crid=34NU2WDUOI6UY&keywords=statistics&qid=1663452985&sprefix=statisti%2Caps%2C263&sr=8-46> (referer: https://www.amazon.com/s?k=statistics&crid=34NU2WDUOI6UY&qid=1663448396&sprefix=statisti%2Caps%2C263&ref=sr_pg_1)\n",
      "2022-09-18 00:16:42 [scrapy.core.engine] DEBUG: Crawled (200) <GET https://www.amazon.com/Statistics-Workbook-Dummies-Online-Practice/dp/1119547512/ref=sr_1_45?crid=34NU2WDUOI6UY&keywords=statistics&qid=1663452985&sprefix=statisti%2Caps%2C263&sr=8-45> (referer: https://www.amazon.com/s?k=statistics&crid=34NU2WDUOI6UY&qid=1663448396&sprefix=statisti%2Caps%2C263&ref=sr_pg_1)\n",
      "2022-09-18 00:16:42 [scrapy.core.engine] DEBUG: Crawled (200) <GET https://www.amazon.com/UPDATED-Version-Practice-Statistics-Starnes/dp/131926929X/ref=sr_1_51?crid=34NU2WDUOI6UY&keywords=statistics&qid=1663452985&sprefix=statisti%2Caps%2C263&sr=8-51> (referer: https://www.amazon.com/s?k=statistics&crid=34NU2WDUOI6UY&qid=1663448396&sprefix=statisti%2Caps%2C263&ref=sr_pg_1)\n",
      "2022-09-18 00:16:42 [scrapy.core.engine] DEBUG: Crawled (200) <GET https://www.amazon.com/A-Man-for-All-Markets-audiobook/dp/B01N4JAXQM/ref=sr_1_47?crid=34NU2WDUOI6UY&keywords=statistics&qid=1663452985&sprefix=statisti%2Caps%2C263&sr=8-47> (referer: https://www.amazon.com/s?k=statistics&crid=34NU2WDUOI6UY&qid=1663448396&sprefix=statisti%2Caps%2C263&ref=sr_pg_1)\n"
     ]
    },
    {
     "name": "stdout",
     "output_type": "stream",
     "text": [
      "27\n",
      "['\\n            \\n              80%\\n            \\n          '] 4.6 out of 5 stars 7.44 x 1.68 x 9.69 inches\n",
      "28\n",
      "['\\n            \\n              77%\\n            \\n          '] 4.6 out of 5 stars 8.3 x 1.04 x 10.79 inches\n",
      "29\n",
      "['\\n            \\n              82%\\n            \\n          '] 4.7 out of 5 stars 7 x 1.46 x 10 inches\n",
      "30\n",
      "['\\n            \\n              62%\\n            \\n          '] 4.3 out of 5 stars 7.9 x 0.9 x 10 inches\n",
      "31\n",
      "['\\n            \\n              76%\\n            \\n          '] 4.4 out of 5 stars 8.9 x 1.55 x 11.2 inches\n"
     ]
    },
    {
     "name": "stderr",
     "output_type": "stream",
     "text": [
      "2022-09-18 00:16:43 [scrapy.core.engine] DEBUG: Crawled (200) <GET https://www.amazon.com/Mind-Numbers-Science-Flunked-Algebra/dp/039916524X/ref=sr_1_44?crid=34NU2WDUOI6UY&keywords=statistics&qid=1663452985&sprefix=statisti%2Caps%2C263&sr=8-44> (referer: https://www.amazon.com/s?k=statistics&crid=34NU2WDUOI6UY&qid=1663448396&sprefix=statisti%2Caps%2C263&ref=sr_pg_1)\n",
      "2022-09-18 00:16:43 [scrapy.core.engine] DEBUG: Crawled (200) <GET https://www.amazon.com/s?k=statistics&page=2&crid=34NU2WDUOI6UY&qid=1663448390&sprefix=statisti%2Caps%2C263&ref=sr_pg_2> (referer: https://www.amazon.com/Probability-Statistics-Tutor-Course-Examples/dp/B0016G8HX4/ref=sr_1_60?crid=34NU2WDUOI6UY&keywords=statistics&qid=1663452985&sprefix=statisti%2Caps%2C263&sr=8-60)\n"
     ]
    },
    {
     "name": "stdout",
     "output_type": "stream",
     "text": [
      "32\n",
      "['\\n            \\n              71%\\n            \\n          '] 4.5 out of 5 stars None\n",
      "33\n",
      "['\\n            \\n              77%\\n            \\n          '] 4.6 out of 5 stars 5.99 x 0.84 x 8.96 inches\n",
      "2\n",
      "Hypothesis Testing: An Intuitive Guide for Making Data Driven Decisions\n",
      "Approaches to Understanding Structural Equation Models: Relationships Between Individuals, Variables, and Occasions\n",
      "Statistics Topics\n",
      "General Relativity Simplified & Assessed\n",
      "Psychology Statistics For Dummies\n",
      "The Joy Of Stats\n",
      "Making Sense of Statistics: A Conceptual Overview\n",
      "Elementary Statistics: Picturing the World\n",
      "Statistics, 4th Edition\n",
      "Applied Statistics in Business and Economics 7th Edition (International Edition)\n",
      "Data Mining for Business Analytics: Concepts, Techniques and Applications in Python\n",
      "Even You Can Learn Statistics and Analytics: An Easy to Understand Guide (Pearson Business Analytics Series)\n",
      "Book of Why\n",
      "5 Steps to a 5: AP Statistics 2023 Elite Student Edition\n",
      "Introduction to Probability and Statistics for Engineers and Scientists\n",
      "The Book of R: A First Course in Programming and Statistics\n",
      "Regression Analysis: An Intuitive Guide for Using and Interpreting Linear Models\n",
      "Basic Business Statistics: A Casebook (Textbooks in Matheamtical Sciences)\n",
      "Lite Statistics with Basic Steps in Minitab® 19\n",
      "Thinking Statistically\n",
      "R for Data Science: Import, Tidy, Transform, Visualize, and Model Data\n",
      "5 Steps to a 5: AP Statistics 2022\n",
      "Causal Inference in Statistics - A Primer\n",
      "Statistical Methods for the Social Sciences\n",
      "Probability and Statistical Inference\n",
      "Sports Analytics (World Scientific Series In Finance Book 18)\n",
      "Children and Their Development (7th Edition)\n",
      "Regression Analysis: An Intuitive Guide for Using and Interpreting Linear Models\n",
      "Mathematical Thinking - For People Who Hate Math: Level Up Your Analytical and Creative Thinking Skills. Excel at Problem-Solving and Decision-Making. (Advanced Thinking Skills Book 2)\n",
      "Social Statistics: Managing Data, Conducting Analyses, Presenting Results (Sociology Re-Wired)\n",
      "Elementary Statistics\n",
      "Research Methods, Statistics, and Applications\n",
      "Chemistry Equations & Answers (Quickstudy Reference Guides - Academic)\n",
      "Colors and Numbers\n",
      "The Strategy Journal: Learn the skills used by the leading management consulting firms, such as McKinsey, BCG, et al. (Strategy Journals)\n",
      "Bee Keeping in North Carolina - A Study of Some Statistics on the Industry with Suggestions and Conclusions\n",
      "First Course in Probability, A\n",
      "Introduction to Probability (Cambridge Mathematical Textbooks)\n",
      "ISE STATISTICS FOR ENGINEERS AND SCIENTISTS (ISE HED IRWIN INDUSTRIAL ENGINEERING)\n"
     ]
    },
    {
     "name": "stderr",
     "output_type": "stream",
     "text": [
      "2022-09-18 00:16:44 [scrapy.downloadermiddlewares.redirect] DEBUG: Redirecting (302) to <GET https://www.amazon.com/Discovering-Statistics-Using-IBM-SPSS/dp/1526436566/ref=sr_1_36_sspa?crid=34NU2WDUOI6UY&keywords=statistics&qid=1663452985&sprefix=statisti%2Caps%2C263&sr=8-36-spons&psc=1&spLa=ZW5jcnlwdGVkUXVhbGlmaWVyPUEzS05CV1ZCT0ZDWk1UJmVuY3J5cHRlZElkPUEwMzAxNTc0MVExSklKNEpKTkUzTyZlbmNyeXB0ZWRBZElkPUEwODk2MjU4MkRPRldBRkwyUUZZUSZ3aWRnZXROYW1lPXNwX210ZiZhY3Rpb249Y2xpY2tSZWRpcmVjdCZkb05vdExvZ0NsaWNrPXRydWU=> from <GET https://www.amazon.com/gp/slredirect/picassoRedirect.html/ref=pa_sp_mtf_aps_sr_pg1_1?ie=UTF8&adId=A08962582DOFWAFL2QFYQ&url=%2FDiscovering-Statistics-Using-IBM-SPSS%2Fdp%2F1526436566%2Fref%3Dsr_1_36_sspa%3Fcrid%3D34NU2WDUOI6UY%26keywords%3Dstatistics%26qid%3D1663452985%26sprefix%3Dstatisti%252Caps%252C263%26sr%3D8-36-spons%26psc%3D1&qualifier=1663452985&id=4337139339647806&widgetName=sp_mtf>\n"
     ]
    },
    {
     "name": "stdout",
     "output_type": "stream",
     "text": [
      "Stats: Modeling the World\n",
      "Statistics II For Dummies\n",
      "Statistics Done Wrong: The Woefully Complete Guide\n",
      "The Foundations of Statistics\n",
      "Learning SAS by Example: A Programmer's Guide, Second Edition\n",
      "Introduction to Statistics\n",
      "CRC Standard Probability and Statistics Tables and Formulae\n",
      "Fundamentals of Programming in SAS: A Case Studies Approach\n",
      "Scale: The Universal Laws of Life, Growth, and Death in Organisms, Cities, and Companies\n",
      "Clinical Biostatistics and Epidemiology Made Ridiculously Simple: An Incredibly Easy Way to Learn for Medical, Nursing, PA Students, And Other Healthcare Professionals (MedMaster Medical Books)\n",
      "A Gentle Introduction to Stata\n",
      "STAT 208 Statistical Thinking: A book for STAT 208 at Virginia Commonwealth University\n",
      "Applied Statistics II: Multivariable and Multivariate Techniques\n",
      "Statistics for college students and researchers: Second Edition\n",
      "Statistics 101: From Data Analysis and Predictive Modeling to Measuring Distribution and Determining Probability, Your Essential Guide to Statistics (Adams 101)\n",
      "The Little SAS® Book: A Primer, Sixth Edition\n",
      "Probability Quick Study Reference Outline\n",
      "Statistics for the Behavioral Sciences - Standalone Book\n",
      "Elementary Statistics\n",
      "Statistics for Business and Economics\n",
      "AP Statistics Flashcards, Fourth Edition: Up-to-Date Practice + Sorting Ring for Custom Study (Barron's Test Prep)\n"
     ]
    },
    {
     "name": "stderr",
     "output_type": "stream",
     "text": [
      "2022-09-18 00:16:44 [scrapy.core.engine] DEBUG: Crawled (200) <GET https://www.amazon.com/Data-Mining-Business-Analytics-Applications/dp/1118879368/ref=sr_1_43?crid=34NU2WDUOI6UY&keywords=statistics&qid=1663452985&sprefix=statisti%2Caps%2C263&sr=8-43> (referer: https://www.amazon.com/s?k=statistics&crid=34NU2WDUOI6UY&qid=1663448396&sprefix=statisti%2Caps%2C263&ref=sr_pg_1)\n",
      "2022-09-18 00:16:44 [scrapy.downloadermiddlewares.redirect] DEBUG: Redirecting (302) to <GET https://www.amazon.com/Outline-Basic-Statistics-Dictionary-Mathematics/dp/048647769X/ref=sr_1_35_sspa?crid=34NU2WDUOI6UY&keywords=statistics&qid=1663452985&sprefix=statisti%2Caps%2C263&sr=8-35-spons&psc=1&spLa=ZW5jcnlwdGVkUXVhbGlmaWVyPUEzS05CV1ZCT0ZDWk1UJmVuY3J5cHRlZElkPUEwMzAxNTc0MVExSklKNEpKTkUzTyZlbmNyeXB0ZWRBZElkPUEwNDI2NTczMU4yTUQ0NUo2QTlMNSZ3aWRnZXROYW1lPXNwX210ZiZhY3Rpb249Y2xpY2tSZWRpcmVjdCZkb05vdExvZ0NsaWNrPXRydWU=> from <GET https://www.amazon.com/gp/slredirect/picassoRedirect.html/ref=pa_sp_mtf_aps_sr_pg1_1?ie=UTF8&adId=A04265731N2MD45J6A9L5&url=%2FOutline-Basic-Statistics-Dictionary-Mathematics%2Fdp%2F048647769X%2Fref%3Dsr_1_35_sspa%3Fcrid%3D34NU2WDUOI6UY%26keywords%3Dstatistics%26qid%3D1663452985%26sprefix%3Dstatisti%252Caps%252C263%26sr%3D8-35-spons%26psc%3D1&qualifier=1663452985&id=4337139339647806&widgetName=sp_mtf>\n",
      "2022-09-18 00:16:45 [scrapy.core.engine] DEBUG: Crawled (200) <GET https://www.amazon.com/Numbers-Dont-Lie-Stories-Understand-ebook/dp/B08GJVP3GK/ref=sr_1_40?crid=34NU2WDUOI6UY&keywords=statistics&qid=1663452985&sprefix=statisti%2Caps%2C263&sr=8-40> (referer: https://www.amazon.com/s?k=statistics&crid=34NU2WDUOI6UY&qid=1663448396&sprefix=statisti%2Caps%2C263&ref=sr_pg_1)\n",
      "2022-09-18 00:16:45 [scrapy.downloadermiddlewares.redirect] DEBUG: Redirecting (302) to <GET https://www.amazon.com/Elements-Statistical-Learning-Prediction-Statistics/dp/0387848576/ref=sr_1_34_sspa?crid=34NU2WDUOI6UY&keywords=statistics&qid=1663452985&sprefix=statisti%2Caps%2C263&sr=8-34-spons&psc=1&spLa=ZW5jcnlwdGVkUXVhbGlmaWVyPUEzS05CV1ZCT0ZDWk1UJmVuY3J5cHRlZElkPUEwMzAxNTc0MVExSklKNEpKTkUzTyZlbmNyeXB0ZWRBZElkPUEwNjg1MTk2Mk5NVUJGQzM2RUhKRiZ3aWRnZXROYW1lPXNwX210ZiZhY3Rpb249Y2xpY2tSZWRpcmVjdCZkb05vdExvZ0NsaWNrPXRydWU=> from <GET https://www.amazon.com/gp/slredirect/picassoRedirect.html/ref=pa_sp_mtf_aps_sr_pg1_1?ie=UTF8&adId=A06851962NMUBFC36EHJF&url=%2FElements-Statistical-Learning-Prediction-Statistics%2Fdp%2F0387848576%2Fref%3Dsr_1_34_sspa%3Fcrid%3D34NU2WDUOI6UY%26keywords%3Dstatistics%26qid%3D1663452985%26sprefix%3Dstatisti%252Caps%252C263%26sr%3D8-34-spons%26psc%3D1&qualifier=1663452985&id=4337139339647806&widgetName=sp_mtf>\n",
      "2022-09-18 00:16:45 [scrapy.downloadermiddlewares.redirect] DEBUG: Redirecting (302) to <GET https://www.amazon.com/Periodic-Table-Advanced-Quick-Study/dp/1423224310/ref=sr_1_33_sspa?crid=34NU2WDUOI6UY&keywords=statistics&qid=1663452985&sprefix=statisti%2Caps%2C263&sr=8-33-spons&psc=1&spLa=ZW5jcnlwdGVkUXVhbGlmaWVyPUEzS05CV1ZCT0ZDWk1UJmVuY3J5cHRlZElkPUEwMzAxNTc0MVExSklKNEpKTkUzTyZlbmNyeXB0ZWRBZElkPUEwNzY2MDk1MTJGT1E3Qk1MOEY2SSZ3aWRnZXROYW1lPXNwX210ZiZhY3Rpb249Y2xpY2tSZWRpcmVjdCZkb05vdExvZ0NsaWNrPXRydWU=> from <GET https://www.amazon.com/gp/slredirect/picassoRedirect.html/ref=pa_sp_mtf_aps_sr_pg1_1?ie=UTF8&adId=A076609512FOQ7BML8F6I&url=%2FPeriodic-Table-Advanced-Quick-Study%2Fdp%2F1423224310%2Fref%3Dsr_1_33_sspa%3Fcrid%3D34NU2WDUOI6UY%26keywords%3Dstatistics%26qid%3D1663452985%26sprefix%3Dstatisti%252Caps%252C263%26sr%3D8-33-spons%26psc%3D1&qualifier=1663452985&id=4337139339647806&widgetName=sp_mtf>\n",
      "2022-09-18 00:16:45 [scrapy.core.engine] DEBUG: Crawled (200) <GET https://www.amazon.com/Freakonomics-Rev-Ed-Economist-Everything-ebook/dp/B000MAH66Y/ref=sr_1_39?crid=34NU2WDUOI6UY&keywords=statistics&qid=1663452985&sprefix=statisti%2Caps%2C263&sr=8-39> (referer: https://www.amazon.com/s?k=statistics&crid=34NU2WDUOI6UY&qid=1663448396&sprefix=statisti%2Caps%2C263&ref=sr_pg_1)\n"
     ]
    },
    {
     "name": "stdout",
     "output_type": "stream",
     "text": [
      "34\n",
      "['\\n            \\n              68%\\n            \\n          '] 4.4 out of 5 stars 6.9 x 1.2 x 10.1 inches\n"
     ]
    },
    {
     "name": "stderr",
     "output_type": "stream",
     "text": [
      "2022-09-18 00:16:45 [scrapy.core.engine] DEBUG: Crawled (200) <GET https://www.amazon.com/Fooled-by-Randomness-audiobook/dp/B0012IZFRW/ref=sr_1_42?crid=34NU2WDUOI6UY&keywords=statistics&qid=1663452985&sprefix=statisti%2Caps%2C263&sr=8-42> (referer: https://www.amazon.com/s?k=statistics&crid=34NU2WDUOI6UY&qid=1663448396&sprefix=statisti%2Caps%2C263&ref=sr_pg_1)\n",
      "2022-09-18 00:16:45 [scrapy.core.engine] DEBUG: Crawled (200) <GET https://www.amazon.com/Factfulness-Reasons-World-Things-Better/dp/1250123828/ref=sr_1_41?crid=34NU2WDUOI6UY&keywords=statistics&qid=1663452985&sprefix=statisti%2Caps%2C263&sr=8-41> (referer: https://www.amazon.com/s?k=statistics&crid=34NU2WDUOI6UY&qid=1663448396&sprefix=statisti%2Caps%2C263&ref=sr_pg_1)\n",
      "2022-09-18 00:16:45 [scrapy.core.engine] DEBUG: Crawled (200) <GET https://www.amazon.com/How-World-Really-Works-Science/dp/0593297067/ref=sr_1_38?crid=34NU2WDUOI6UY&keywords=statistics&qid=1663452985&sprefix=statisti%2Caps%2C263&sr=8-38> (referer: https://www.amazon.com/s?k=statistics&crid=34NU2WDUOI6UY&qid=1663448396&sprefix=statisti%2Caps%2C263&ref=sr_pg_1)\n"
     ]
    },
    {
     "name": "stdout",
     "output_type": "stream",
     "text": [
      "35\n",
      "['\\n            \\n              55%\\n            \\n          '] 4.3 out of 5 stars None\n"
     ]
    },
    {
     "name": "stderr",
     "output_type": "stream",
     "text": [
      "2022-09-18 00:16:45 [scrapy.core.engine] DEBUG: Crawled (200) <GET https://www.amazon.com/Statistics-Absolute-Beginners-Second-Theobald-ebook/dp/B0854DM1Y7/ref=sr_1_37?crid=34NU2WDUOI6UY&keywords=statistics&qid=1663452985&sprefix=statisti%2Caps%2C263&sr=8-37> (referer: https://www.amazon.com/s?k=statistics&crid=34NU2WDUOI6UY&qid=1663448396&sprefix=statisti%2Caps%2C263&ref=sr_pg_1)\n"
     ]
    },
    {
     "name": "stdout",
     "output_type": "stream",
     "text": [
      "36\n",
      "['\\n            \\n              70%\\n            \\n          '] 4.5 out of 5 stars None\n",
      "37\n",
      "['\\n            \\n              67%\\n            \\n          '] 4.5 out of 5 stars None\n",
      "38\n",
      "['\\n            \\n              76%\\n            \\n          '] 4.6 out of 5 stars 5.47 x 1.01 x 8.25 inches\n",
      "39\n",
      "['\\n            \\n              64%\\n            \\n          '] 4.4 out of 5 stars 6.24 x 1.15 x 9.28 inches\n",
      "40\n",
      "['\\n            \\n              70%\\n            \\n          '] 4.4 out of 5 stars None\n"
     ]
    },
    {
     "name": "stderr",
     "output_type": "stream",
     "text": [
      "2022-09-18 00:16:47 [scrapy.core.engine] DEBUG: Crawled (200) <GET https://www.amazon.com/Probability-Statistics-Economists-Bruce-Hansen/dp/0691235945/ref=sr_1_31?crid=34NU2WDUOI6UY&keywords=statistics&qid=1663452985&sprefix=statisti%2Caps%2C263&sr=8-31> (referer: https://www.amazon.com/s?k=statistics&crid=34NU2WDUOI6UY&qid=1663448396&sprefix=statisti%2Caps%2C263&ref=sr_pg_1)\n",
      "2022-09-18 00:16:47 [scrapy.core.engine] DEBUG: Crawled (200) <GET https://www.amazon.com/Painless-Statistics-Barrons-Patrick-Honner/dp/1506281583/ref=sr_1_30?crid=34NU2WDUOI6UY&keywords=statistics&qid=1663452985&sprefix=statisti%2Caps%2C263&sr=8-30> (referer: https://www.amazon.com/s?k=statistics&crid=34NU2WDUOI6UY&qid=1663448396&sprefix=statisti%2Caps%2C263&ref=sr_pg_1)\n",
      "2022-09-18 00:16:47 [scrapy.core.engine] DEBUG: Crawled (200) <GET https://www.amazon.com/Discovering-Statistics-Using-IBM-SPSS/dp/1526436566/ref=sr_1_29?crid=34NU2WDUOI6UY&keywords=statistics&qid=1663452985&sprefix=statisti%2Caps%2C263&sr=8-29> (referer: https://www.amazon.com/s?k=statistics&crid=34NU2WDUOI6UY&qid=1663448396&sprefix=statisti%2Caps%2C263&ref=sr_pg_1)\n"
     ]
    },
    {
     "name": "stdout",
     "output_type": "stream",
     "text": [
      "41\n",
      "[] None 7.75 x 1 x 10 inches\n"
     ]
    },
    {
     "name": "stderr",
     "output_type": "stream",
     "text": [
      "2022-09-18 00:16:48 [scrapy.core.engine] DEBUG: Crawled (200) <GET https://www.amazon.com/Statistics-Flashcards-Fourth-Up-Date/dp/1506267041/ref=sr_1_108?crid=34NU2WDUOI6UY&keywords=statistics&qid=1663453001&sprefix=statisti%2Caps%2C263&sr=8-108> (referer: https://www.amazon.com/s?k=statistics&page=2&crid=34NU2WDUOI6UY&qid=1663448390&sprefix=statisti%2Caps%2C263&ref=sr_pg_2)\n"
     ]
    },
    {
     "name": "stdout",
     "output_type": "stream",
     "text": [
      "42\n",
      "['\\n            \\n              100%\\n            \\n          '] 5.0 out of 5 stars 6 x 0.7 x 9 inches\n"
     ]
    },
    {
     "name": "stderr",
     "output_type": "stream",
     "text": [
      "2022-09-18 00:16:48 [scrapy.core.engine] DEBUG: Crawled (200) <GET https://www.amazon.com/Outline-Basic-Statistics-Dictionary-Mathematics/dp/048647769X/ref=sr_1_35_sspa?crid=34NU2WDUOI6UY&keywords=statistics&qid=1663452985&sprefix=statisti%2Caps%2C263&sr=8-35-spons&psc=1&spLa=ZW5jcnlwdGVkUXVhbGlmaWVyPUEzS05CV1ZCT0ZDWk1UJmVuY3J5cHRlZElkPUEwMzAxNTc0MVExSklKNEpKTkUzTyZlbmNyeXB0ZWRBZElkPUEwNDI2NTczMU4yTUQ0NUo2QTlMNSZ3aWRnZXROYW1lPXNwX210ZiZhY3Rpb249Y2xpY2tSZWRpcmVjdCZkb05vdExvZ0NsaWNrPXRydWU=> (referer: https://www.amazon.com/s?k=statistics&crid=34NU2WDUOI6UY&qid=1663448396&sprefix=statisti%2Caps%2C263&ref=sr_pg_1)\n"
     ]
    },
    {
     "name": "stdout",
     "output_type": "stream",
     "text": [
      "43\n",
      "['\\n            \\n              71%\\n            \\n          '] 4.4 out of 5 stars 8.9 x 1.3 x 10.9 inches\n",
      "44\n",
      "[] None 4.88 x 3 x 5 inches\n"
     ]
    },
    {
     "name": "stderr",
     "output_type": "stream",
     "text": [
      "2022-09-18 00:16:51 [scrapy.core.engine] DEBUG: Crawled (200) <GET https://www.amazon.com/Essentials-Statistics-6th-Mario-Triola/dp/0134685776/ref=sr_1_32?crid=34NU2WDUOI6UY&keywords=statistics&qid=1663452985&sprefix=statisti%2Caps%2C263&sr=8-32> (referer: https://www.amazon.com/s?k=statistics&crid=34NU2WDUOI6UY&qid=1663448396&sprefix=statisti%2Caps%2C263&ref=sr_pg_1)\n",
      "2022-09-18 00:16:51 [scrapy.core.engine] DEBUG: Crawled (200) <GET https://www.amazon.com/Statistics-People-Think-They-Hate/dp/1071803883/ref=sr_1_28?crid=34NU2WDUOI6UY&keywords=statistics&qid=1663452985&sprefix=statisti%2Caps%2C263&sr=8-28> (referer: https://www.amazon.com/s?k=statistics&crid=34NU2WDUOI6UY&qid=1663448396&sprefix=statisti%2Caps%2C263&ref=sr_pg_1)\n",
      "2022-09-18 00:16:51 [scrapy.core.engine] DEBUG: Crawled (200) <GET https://www.amazon.com/Discovering-Statistics-Using-IBM-SPSS/dp/1526436566/ref=sr_1_36_sspa?crid=34NU2WDUOI6UY&keywords=statistics&qid=1663452985&sprefix=statisti%2Caps%2C263&sr=8-36-spons&psc=1&spLa=ZW5jcnlwdGVkUXVhbGlmaWVyPUEzS05CV1ZCT0ZDWk1UJmVuY3J5cHRlZElkPUEwMzAxNTc0MVExSklKNEpKTkUzTyZlbmNyeXB0ZWRBZElkPUEwODk2MjU4MkRPRldBRkwyUUZZUSZ3aWRnZXROYW1lPXNwX210ZiZhY3Rpb249Y2xpY2tSZWRpcmVjdCZkb05vdExvZ0NsaWNrPXRydWU=> (referer: https://www.amazon.com/s?k=statistics&crid=34NU2WDUOI6UY&qid=1663448396&sprefix=statisti%2Caps%2C263&ref=sr_pg_1)\n"
     ]
    },
    {
     "name": "stdout",
     "output_type": "stream",
     "text": [
      "start_new_page\n"
     ]
    },
    {
     "name": "stderr",
     "output_type": "stream",
     "text": [
      "2022-09-18 00:16:51 [scrapy.core.engine] DEBUG: Crawled (200) <GET https://www.amazon.com/Periodic-Table-Advanced-Quick-Study/dp/1423224310/ref=sr_1_33_sspa?crid=34NU2WDUOI6UY&keywords=statistics&qid=1663452985&sprefix=statisti%2Caps%2C263&sr=8-33-spons&psc=1&spLa=ZW5jcnlwdGVkUXVhbGlmaWVyPUEzS05CV1ZCT0ZDWk1UJmVuY3J5cHRlZElkPUEwMzAxNTc0MVExSklKNEpKTkUzTyZlbmNyeXB0ZWRBZElkPUEwNzY2MDk1MTJGT1E3Qk1MOEY2SSZ3aWRnZXROYW1lPXNwX210ZiZhY3Rpb249Y2xpY2tSZWRpcmVjdCZkb05vdExvZ0NsaWNrPXRydWU=> (referer: https://www.amazon.com/s?k=statistics&crid=34NU2WDUOI6UY&qid=1663448396&sprefix=statisti%2Caps%2C263&ref=sr_pg_1)\n",
      "2022-09-18 00:16:51 [scrapy.core.engine] DEBUG: Crawled (200) <GET https://www.amazon.com/Elements-Statistical-Learning-Prediction-Statistics/dp/0387848576/ref=sr_1_34_sspa?crid=34NU2WDUOI6UY&keywords=statistics&qid=1663452985&sprefix=statisti%2Caps%2C263&sr=8-34-spons&psc=1&spLa=ZW5jcnlwdGVkUXVhbGlmaWVyPUEzS05CV1ZCT0ZDWk1UJmVuY3J5cHRlZElkPUEwMzAxNTc0MVExSklKNEpKTkUzTyZlbmNyeXB0ZWRBZElkPUEwNjg1MTk2Mk5NVUJGQzM2RUhKRiZ3aWRnZXROYW1lPXNwX210ZiZhY3Rpb249Y2xpY2tSZWRpcmVjdCZkb05vdExvZ0NsaWNrPXRydWU=> (referer: https://www.amazon.com/s?k=statistics&crid=34NU2WDUOI6UY&qid=1663448396&sprefix=statisti%2Caps%2C263&ref=sr_pg_1)\n"
     ]
    },
    {
     "name": "stdout",
     "output_type": "stream",
     "text": [
      "45\n",
      "['\\n            \\n              51%\\n            \\n          '] 4.2 out of 5 stars 5.2 x 0.5 x 8.4 inches\n"
     ]
    },
    {
     "name": "stderr",
     "output_type": "stream",
     "text": [
      "2022-09-18 00:16:52 [scrapy.core.engine] DEBUG: Crawled (200) <GET https://www.amazon.com/Statistics-Behavioral-Sciences-Standalone-Book/dp/1305504917/ref=sr_1_105?crid=34NU2WDUOI6UY&keywords=statistics&qid=1663453001&sprefix=statisti%2Caps%2C263&sr=8-105> (referer: https://www.amazon.com/s?k=statistics&page=2&crid=34NU2WDUOI6UY&qid=1663448390&sprefix=statisti%2Caps%2C263&ref=sr_pg_2)\n",
      "2022-09-18 00:16:52 [scrapy.core.engine] DEBUG: Crawled (200) <GET https://www.amazon.com/Elementary-Statistics-2-downloads-Mario-Triola-ebook/dp/B08VHZRKBT/ref=sr_1_106?crid=34NU2WDUOI6UY&keywords=statistics&qid=1663453001&sprefix=statisti%2Caps%2C263&sr=8-106> (referer: https://www.amazon.com/s?k=statistics&page=2&crid=34NU2WDUOI6UY&qid=1663448390&sprefix=statisti%2Caps%2C263&ref=sr_pg_2)\n"
     ]
    },
    {
     "name": "stdout",
     "output_type": "stream",
     "text": [
      "46\n",
      "['\\n            \\n              74%\\n            \\n          '] 4.5 out of 5 stars 8.5 x 1.05 x 10.85 inches\n",
      "47\n",
      "['\\n            \\n              70%\\n            \\n          '] 4.4 out of 5 stars 7 x 1.16 x 10 inches\n"
     ]
    },
    {
     "name": "stderr",
     "output_type": "stream",
     "text": [
      "2022-09-18 00:16:52 [scrapy.core.engine] DEBUG: Crawled (200) <GET https://www.amazon.com/Statistics-Business-Economics-James-McClave/dp/0134506596/ref=sr_1_107?crid=34NU2WDUOI6UY&keywords=statistics&qid=1663453001&sprefix=statisti%2Caps%2C263&sr=8-107> (referer: https://www.amazon.com/s?k=statistics&page=2&crid=34NU2WDUOI6UY&qid=1663448390&sprefix=statisti%2Caps%2C263&ref=sr_pg_2)\n"
     ]
    },
    {
     "name": "stdout",
     "output_type": "stream",
     "text": [
      "48\n",
      "['\\n            \\n              71%\\n            \\n          '] 4.4 out of 5 stars 8.9 x 1.3 x 10.9 inches\n",
      "49\n",
      "['\\n            \\n              88%\\n            \\n          '] 4.8 out of 5 stars 8.5 x 11 x 0.06 inches\n",
      "50\n",
      "['\\n            \\n              82%\\n            \\n          '] 4.6 out of 5 stars 9.3 x 6 x 1.4 inches\n",
      "51\n",
      "['\\n            \\n              75%\\n            \\n          '] 4.5 out of 5 stars 8 x 1 x 10 inches\n",
      "52\n",
      "['\\n            \\n              70%\\n            \\n          '] 4.7 out of 5 stars None\n",
      "53\n",
      "['\\n            \\n              68%\\n            \\n          '] 4.3 out of 5 stars 8.8 x 1.75 x 11.2 inches\n"
     ]
    },
    {
     "name": "stderr",
     "output_type": "stream",
     "text": [
      "2022-09-18 00:16:54 [scrapy.core.engine] DEBUG: Crawled (200) <GET https://www.amazon.com/Little-SAS-Book-Primer-Sixth/dp/1642952834/ref=sr_1_103?crid=34NU2WDUOI6UY&keywords=statistics&qid=1663453001&sprefix=statisti%2Caps%2C263&sr=8-103> (referer: https://www.amazon.com/s?k=statistics&page=2&crid=34NU2WDUOI6UY&qid=1663448390&sprefix=statisti%2Caps%2C263&ref=sr_pg_2)\n",
      "2022-09-18 00:16:54 [scrapy.core.engine] DEBUG: Crawled (200) <GET https://www.amazon.com/Applied-Statistics-Multivariable-Multivariate-Techniques/dp/1544398727/ref=sr_1_100?crid=34NU2WDUOI6UY&keywords=statistics&qid=1663453001&sprefix=statisti%2Caps%2C263&sr=8-100> (referer: https://www.amazon.com/s?k=statistics&page=2&crid=34NU2WDUOI6UY&qid=1663448390&sprefix=statisti%2Caps%2C263&ref=sr_pg_2)\n",
      "2022-09-18 00:16:54 [scrapy.core.engine] DEBUG: Crawled (200) <GET https://www.amazon.com/Statistics-101-Distribution-Determining-Probability/dp/1507208170/ref=sr_1_102?crid=34NU2WDUOI6UY&keywords=statistics&qid=1663453001&sprefix=statisti%2Caps%2C263&sr=8-102> (referer: https://www.amazon.com/s?k=statistics&page=2&crid=34NU2WDUOI6UY&qid=1663448390&sprefix=statisti%2Caps%2C263&ref=sr_pg_2)\n",
      "2022-09-18 00:16:54 [scrapy.core.engine] DEBUG: Crawled (200) <GET https://www.amazon.com/Probability-Quick-Study-Reference-Outline/dp/1423215087/ref=sr_1_104?crid=34NU2WDUOI6UY&keywords=statistics&qid=1663453001&sprefix=statisti%2Caps%2C263&sr=8-104> (referer: https://www.amazon.com/s?k=statistics&page=2&crid=34NU2WDUOI6UY&qid=1663448390&sprefix=statisti%2Caps%2C263&ref=sr_pg_2)\n",
      "2022-09-18 00:16:54 [scrapy.core.engine] DEBUG: Crawled (200) <GET https://www.amazon.com/STAT-208-Statistical-Thinking-Commonwealth/dp/1544621205/ref=sr_1_99?crid=34NU2WDUOI6UY&keywords=statistics&qid=1663453001&sprefix=statisti%2Caps%2C263&sr=8-99> (referer: https://www.amazon.com/s?k=statistics&page=2&crid=34NU2WDUOI6UY&qid=1663448390&sprefix=statisti%2Caps%2C263&ref=sr_pg_2)\n"
     ]
    },
    {
     "name": "stdout",
     "output_type": "stream",
     "text": [
      "54\n",
      "['\\n            \\n              75%\\n            \\n          '] 4.6 out of 5 stars 7.5 x 0.82 x 9.25 inches\n",
      "55\n",
      "['\\n            \\n              78%\\n            \\n          '] 4.3 out of 5 stars 8 x 1.61 x 10 inches\n"
     ]
    },
    {
     "name": "stderr",
     "output_type": "stream",
     "text": [
      "2022-09-18 00:16:55 [scrapy.core.engine] DEBUG: Crawled (200) <GET https://www.amazon.com/Gentle-Introduction-Stata-Alan-Acock/dp/1597182699/ref=sr_1_98?crid=34NU2WDUOI6UY&keywords=statistics&qid=1663453001&sprefix=statisti%2Caps%2C263&sr=8-98> (referer: https://www.amazon.com/s?k=statistics&page=2&crid=34NU2WDUOI6UY&qid=1663448390&sprefix=statisti%2Caps%2C263&ref=sr_pg_2)\n"
     ]
    },
    {
     "name": "stdout",
     "output_type": "stream",
     "text": [
      "56\n",
      "['\\n            \\n              67%\\n            \\n          '] 4.4 out of 5 stars 5.25 x 0.8 x 7.13 inches\n",
      "57\n",
      "['\\n            \\n              76%\\n            \\n          '] 4.6 out of 5 stars 8.43 x 0.09 x 11.27 inches\n",
      "58\n",
      "['\\n            \\n              81%\\n            \\n          '] 4.6 out of 5 stars 8.5 x 0.49 x 11 inches\n"
     ]
    },
    {
     "name": "stderr",
     "output_type": "stream",
     "text": [
      "2022-09-18 00:16:55 [scrapy.core.engine] DEBUG: Crawled (200) <GET https://www.amazon.com/s?k=statistics&page=3&crid=34NU2WDUOI6UY&qid=1663448390&sprefix=statisti%2Caps%2C263&ref=sr_pg_3> (referer: https://www.amazon.com/Statistics-Flashcards-Fourth-Up-Date/dp/1506267041/ref=sr_1_108?crid=34NU2WDUOI6UY&keywords=statistics&qid=1663453001&sprefix=statisti%2Caps%2C263&sr=8-108)\n"
     ]
    },
    {
     "name": "stdout",
     "output_type": "stream",
     "text": [
      "59\n",
      "['\\n            \\n              81%\\n            \\n          '] 4.6 out of 5 stars 7.2 x 1.5 x 9.3 inches\n",
      "3\n"
     ]
    },
    {
     "name": "stderr",
     "output_type": "stream",
     "text": [
      "2022-09-18 00:16:56 [scrapy.core.engine] DEBUG: Crawled (200) <GET https://www.amazon.com/Introduction-Statistics-OnlyFundamentals/dp/B07MFMD7NV/ref=sr_1_93?crid=34NU2WDUOI6UY&keywords=statistics&qid=1663453001&sprefix=statisti%2Caps%2C263&sr=8-93> (referer: https://www.amazon.com/s?k=statistics&page=2&crid=34NU2WDUOI6UY&qid=1663448390&sprefix=statisti%2Caps%2C263&ref=sr_pg_2)\n",
      "2022-09-18 00:16:56 [scrapy.core.engine] DEBUG: Crawled (200) <GET https://www.amazon.com/Clinical-Biostatistics-Epidemiology-Ridiculously-Simple/dp/1935660020/ref=sr_1_97?crid=34NU2WDUOI6UY&keywords=statistics&qid=1663453001&sprefix=statisti%2Caps%2C263&sr=8-97> (referer: https://www.amazon.com/s?k=statistics&page=2&crid=34NU2WDUOI6UY&qid=1663448390&sprefix=statisti%2Caps%2C263&ref=sr_pg_2)\n"
     ]
    },
    {
     "name": "stdout",
     "output_type": "stream",
     "text": [
      "Hands-On Financial Modeling with Microsoft Excel 2019: Build practical models for forecasting, valuation, trading, and growth analysis using Excel 2019\n",
      "SQL for Data Analytics: Perform fast and efficient data analysis with the power of SQL\n",
      "Effective Data Science Infrastructure: How to make data scientists productive\n",
      "The Art of Thinking Critically: Ask Great Questions, Spot Illogical Reasoning, and Make Sharp Arguments (The critical thinker)\n",
      "Advanced High School Statistics: Third Edition\n",
      "Statistics Made Simple for School Leaders: Data-Driven Decision Making (Scarecrow Education Book)\n",
      "A Gentle Introduction to Stata\n",
      "SPSS Statistics For Dummies\n",
      "Standard Deviants: Statistics, Vol. 1 [DVD]\n",
      "Statistics for Every Fan: Springfield College Sports Statistics\n",
      "The Little SAS® Book: A Primer, Sixth Edition\n",
      "Ultimate AP Statistics Practice Book: 100 Essential Problems Completely Explained on YouTube\n",
      "Statistics for the Behavioral Sciences - Standalone Book\n",
      "Schaum's Outline of Probability and Statistics, 4th Edition: 897 Solved Problems + 20 Videos (Schaum's Outlines)\n",
      "Business Statistics For Dummies\n",
      "Statistics for Business and Economics\n",
      "Statistik: Übungsbuch (De Gruyter Studium) (German Edition)\n",
      "Problems And Solutions On Thermodynamics And Statistical Mechanics (second Edition) (Major American Universities Ph.d. Qualifying Questions And Solutions - Physics)\n",
      "Statistik: Grundlagen und Methodik (De Gruyter Studium) (German Edition)\n",
      "Tutor in a Book's Statistics: Volume 2\n",
      "Real Stats: Using Econometrics for Political Science and Public Policy\n",
      "Boot Camp\n",
      "Essentials of Precalculus with Calculus Previews (Jones & Bartlett Learning Series in Mathematics)\n",
      "MASTERING EXCEL DATA & STATISTICAL ANALYSIS: All-In-One Practical Approach to Creating and Analyzing Data, Charts And Pivot Tables for Better Business ... Tricks on Data Analysis & Business Modelling\n",
      "A Fan's Guide to Baseball Analytics: Why WAR, WHIP, wOBA, and Other Advanced Sabermetrics Are Essential to Understanding Modern Baseball\n",
      "Introductory Statistics with Randomization and Simulation\n",
      "Statistics in a Nutshell: A Desktop Quick Reference\n",
      "Using SPSS for Windows and Macintosh (7th Edition)\n",
      "Statistics Made Simple for School Leaders: A New Approach for Using Student, Staff, and Community Data, 3rd Edition\n",
      "Practical Statistics For Educators\n",
      "Modern Mathematical Statistics with Applications (Springer Texts in Statistics)\n",
      "Statistics for the Behavioral Sciences\n",
      "AP® Statistics Crash Course, Book + Online: Get a Higher Score in Less Time (Advanced Placement (AP) Crash Course)\n",
      "How to Work With Probability and Statistics, Grades 6-8 (Math How To...)\n",
      "Statistician Coloring Book: A Versatile, Humorous, Anti Stress Adult Coloring Book Gift For Statistician\n",
      "Summer Math Success: Beginning Statistics Workbook Grade 5 to Grade 7: Measure of Central Tendency and Range Workbook with Answers\n",
      "Statistics Translated: A Step-by-Step Guide to Analyzing and Interpreting Data\n",
      "Statistics: Informed Decisions Using Data\n",
      "Statistics for Business and Economics, Global Edition\n",
      "Basic Business Statistics: Concepts and Applications (What's New in Business Statistics)\n",
      "Essentials of Statistics for the Behavioral Sciences (MindTap Course List)\n",
      "Probability and Statistics\n",
      "Doing Quantitative Research in the Social Sciences: An Integrated Approach to Research Design, Measurement and Statistics\n",
      "An Introduction to Formal Languages and Automata\n",
      "Schaum's Outline of Statistics, Sixth Edition (Schaum's Outlines)\n",
      "The Drunkard's Walk: How Randomness Rules Our Lives\n",
      "The Data Detective: Ten Easy Rules to Make Sense of Statistics\n",
      "Causal Inference: The Mixtape\n",
      "Statistics for Health Data Science: An Organic Approach (Springer Texts in Statistics)\n",
      "Biostatistics for the Biological and Health Sciences\n",
      "Statistics in Plain English\n",
      "Mathletics: How Gamblers, Managers, and Fans Use Mathematics in Sports, Second Edition\n",
      "Practice Makes Perfect Statistics (Practice Makes Perfect (McGraw-Hill))\n",
      "Elementary Statistics: A Step By Step Approach\n",
      "Data Mining for Business Analytics: Concepts, Techniques, and Applications with XLMiner\n",
      "The Cartoon Introduction to Statistics\n",
      "Introduction to the Practice of Statistics\n",
      "Study Guide to Accompany Salkind and Frey′s Statistics for People Who (Think They) Hate Statistics\n",
      "Introduction to Mathematical Statistics and Its Applications, An\n",
      "AP® Statistics Crash Course, Book + Online: Get a Higher Score in Less Time (Advanced Placement (AP) Crash Course)\n",
      "60\n",
      "[] None None\n"
     ]
    },
    {
     "name": "stderr",
     "output_type": "stream",
     "text": [
      "2022-09-18 00:17:01 [scrapy.core.scraper] ERROR: Spider error processing <GET https://www.amazon.com/Introduction-Statistics-OnlyFundamentals/dp/B07MFMD7NV/ref=sr_1_93?crid=34NU2WDUOI6UY&keywords=statistics&qid=1663453001&sprefix=statisti%2Caps%2C263&sr=8-93> (referer: https://www.amazon.com/s?k=statistics&page=2&crid=34NU2WDUOI6UY&qid=1663448390&sprefix=statisti%2Caps%2C263&ref=sr_pg_2)\n",
      "Traceback (most recent call last):\n",
      "  File \"C:\\Users\\diego\\anaconda3\\envs\\env1_cloned_tf\\lib\\site-packages\\scrapy\\utils\\defer.py\", line 132, in iter_errback\n",
      "    yield next(it)\n",
      "  File \"C:\\Users\\diego\\anaconda3\\envs\\env1_cloned_tf\\lib\\site-packages\\scrapy\\utils\\python.py\", line 354, in __next__\n",
      "    return next(self.data)\n",
      "  File \"C:\\Users\\diego\\anaconda3\\envs\\env1_cloned_tf\\lib\\site-packages\\scrapy\\utils\\python.py\", line 354, in __next__\n",
      "    return next(self.data)\n",
      "  File \"C:\\Users\\diego\\anaconda3\\envs\\env1_cloned_tf\\lib\\site-packages\\scrapy\\core\\spidermw.py\", line 66, in _evaluate_iterable\n",
      "    for r in iterable:\n",
      "  File \"C:\\Users\\diego\\anaconda3\\envs\\env1_cloned_tf\\lib\\site-packages\\scrapy\\spidermiddlewares\\offsite.py\", line 29, in process_spider_output\n",
      "    for x in result:\n",
      "  File \"C:\\Users\\diego\\anaconda3\\envs\\env1_cloned_tf\\lib\\site-packages\\scrapy\\core\\spidermw.py\", line 66, in _evaluate_iterable\n",
      "    for r in iterable:\n",
      "  File \"C:\\Users\\diego\\anaconda3\\envs\\env1_cloned_tf\\lib\\site-packages\\scrapy\\spidermiddlewares\\referer.py\", line 342, in <genexpr>\n",
      "    return (_set_referer(r) for r in result or ())\n",
      "  File \"C:\\Users\\diego\\anaconda3\\envs\\env1_cloned_tf\\lib\\site-packages\\scrapy\\core\\spidermw.py\", line 66, in _evaluate_iterable\n",
      "    for r in iterable:\n",
      "  File \"C:\\Users\\diego\\anaconda3\\envs\\env1_cloned_tf\\lib\\site-packages\\scrapy\\spidermiddlewares\\urllength.py\", line 40, in <genexpr>\n",
      "    return (r for r in result or () if _filter(r))\n",
      "  File \"C:\\Users\\diego\\anaconda3\\envs\\env1_cloned_tf\\lib\\site-packages\\scrapy\\core\\spidermw.py\", line 66, in _evaluate_iterable\n",
      "    for r in iterable:\n",
      "  File \"C:\\Users\\diego\\anaconda3\\envs\\env1_cloned_tf\\lib\\site-packages\\scrapy\\spidermiddlewares\\depth.py\", line 58, in <genexpr>\n",
      "    return (r for r in result or () if _filter(r))\n",
      "  File \"C:\\Users\\diego\\anaconda3\\envs\\env1_cloned_tf\\lib\\site-packages\\scrapy\\core\\spidermw.py\", line 66, in _evaluate_iterable\n",
      "    for r in iterable:\n",
      "  File \"<ipython-input-1-f0ea451cb5d8>\", line 131, in parse_book\n",
      "    yield x.to_csv(\"outputfile2_statistics.csv\",sep=\",\")\n",
      "  File \"C:\\Users\\diego\\anaconda3\\envs\\env1_cloned_tf\\lib\\site-packages\\pandas\\core\\generic.py\", line 3551, in to_csv\n",
      "    return DataFrameRenderer(formatter).to_csv(\n",
      "  File \"C:\\Users\\diego\\anaconda3\\envs\\env1_cloned_tf\\lib\\site-packages\\pandas\\io\\formats\\format.py\", line 1180, in to_csv\n",
      "    csv_formatter.save()\n",
      "  File \"C:\\Users\\diego\\anaconda3\\envs\\env1_cloned_tf\\lib\\site-packages\\pandas\\io\\formats\\csvs.py\", line 241, in save\n",
      "    with get_handle(\n",
      "  File \"C:\\Users\\diego\\anaconda3\\envs\\env1_cloned_tf\\lib\\site-packages\\pandas\\io\\common.py\", line 786, in get_handle\n",
      "    handle = open(\n",
      "PermissionError: [Errno 13] Permission denied: 'outputfile2_statistics.csv'\n",
      "2022-09-18 00:17:01 [scrapy.core.engine] DEBUG: Crawled (200) <GET https://www.amazon.com/Standard-Probability-Statistics-Tables-Formulae/dp/1584880597/ref=sr_1_94?crid=34NU2WDUOI6UY&keywords=statistics&qid=1663453001&sprefix=statisti%2Caps%2C263&sr=8-94> (referer: https://www.amazon.com/s?k=statistics&page=2&crid=34NU2WDUOI6UY&qid=1663448390&sprefix=statisti%2Caps%2C263&ref=sr_pg_2)\n",
      "2022-09-18 00:17:01 [scrapy.core.engine] DEBUG: Crawled (200) <GET https://www.amazon.com/Statistics-college-students-researchers-Second/dp/B08RQZJ5GG/ref=sr_1_101?crid=34NU2WDUOI6UY&keywords=statistics&qid=1663453001&sprefix=statisti%2Caps%2C263&sr=8-101> (referer: https://www.amazon.com/s?k=statistics&page=2&crid=34NU2WDUOI6UY&qid=1663448390&sprefix=statisti%2Caps%2C263&ref=sr_pg_2)\n",
      "2022-09-18 00:17:01 [scrapy.core.engine] DEBUG: Crawled (200) <GET https://www.amazon.com/Fundamentals-Programming-SAS%C2%AE-Studies-Approach/dp/1635266726/ref=sr_1_95?crid=34NU2WDUOI6UY&keywords=statistics&qid=1663453001&sprefix=statisti%2Caps%2C263&sr=8-95> (referer: https://www.amazon.com/s?k=statistics&page=2&crid=34NU2WDUOI6UY&qid=1663448390&sprefix=statisti%2Caps%2C263&ref=sr_pg_2)\n",
      "2022-09-18 00:17:01 [scrapy.core.engine] DEBUG: Crawled (200) <GET https://www.amazon.com/Scale-Universal-Growth-Organisms-Companies/dp/014311090X/ref=sr_1_96?crid=34NU2WDUOI6UY&keywords=statistics&qid=1663453001&sprefix=statisti%2Caps%2C263&sr=8-96> (referer: https://www.amazon.com/s?k=statistics&page=2&crid=34NU2WDUOI6UY&qid=1663448390&sprefix=statisti%2Caps%2C263&ref=sr_pg_2)\n"
     ]
    },
    {
     "name": "stdout",
     "output_type": "stream",
     "text": [
      "[['Essential Math for Data Science: Take Control of Your Data with Fundamental Linear Algebra, Probability, and Statistics', ['by ', 'Thomas Nield'], '$44.80', '347 pages', '4.5 out of 5 stars', '27 ratings', ['\\n            \\n              79%\\n            \\n          '], ['\\n            \\n              5%\\n            \\n          '], ['\\n            \\n              5%\\n            \\n          '], ['\\n            \\n              5%\\n            \\n          '], ['\\n            \\n              5%\\n            \\n          '], '7 x 0.75 x 9 inches', '1.23 pounds', 'English', \"O'Reilly Media; 1st edition (July 5, 2022)\", ' 978-1098102937', '/Essential-Math-Data-Science-Fundamental/dp/1098102932/ref=sr_1_11?crid=34NU2WDUOI6UY&keywords=statistics&qid=1663452985&sprefix=statisti%2Caps%2C263&sr=8-11'], ['The Art of Statistics: How to Learn from Data', ['by ', 'David Spiegelhalter'], '$17.99', '448 pages', '4.6 out of 5 stars', '2,764 ratings', ['\\n            \\n              73%\\n            \\n          '], ['\\n            \\n              19%\\n            \\n          '], ['\\n            \\n              5%\\n            \\n          '], ['\\n            \\n              1%\\n            \\n          '], ['\\n            \\n              1%\\n            \\n          '], '5.4 x 1.3 x 8.2 inches', '13.6 ounces', 'English', 'Basic Books (August 17, 2021)', ' 978-1541675704', '/Art-Statistics-How-Learn-Data/dp/1541675703/ref=sr_1_7?crid=34NU2WDUOI6UY&keywords=statistics&qid=1663452985&sprefix=statisti%2Caps%2C263&sr=8-7'], ['Statistics Laminate Reference Chart: Parameters, Variables, Intervals, Proportions (Quickstudy: Academic )', ['by ', 'Inc. BarCharts'], ' $6.81 ', '6 pages', '4.6 out of 5 stars', '2,141 ratings', ['\\n            \\n              76%\\n            \\n          '], ['\\n            \\n              13%\\n            \\n          '], ['\\n            \\n              7%\\n            \\n          '], ['\\n            \\n              2%\\n            \\n          '], ['\\n            \\n              2%\\n            \\n          '], '8.5 x 11 x 0.06 inches', '2.4 ounces', 'English', 'Barcharts; Lam Crds edition (November 1, 2005)', None, '/Statistics-Laminate-Reference-Chart-Proportions/dp/1572229446/ref=sr_1_8?crid=34NU2WDUOI6UY&keywords=statistics&qid=1663452985&sprefix=statisti%2Caps%2C263&sr=8-8'], ['Practical Statistics for Data Scientists: 50+ Essential Concepts Using R and Python', ['by ', 'Peter Bruce', ', ', 'Andrew Bruce', ', et al.'], '$24.88', '368 pages', '4.6 out of 5 stars', '655 ratings', ['\\n            \\n              76%\\n            \\n          '], ['\\n            \\n              14%\\n            \\n          '], ['\\n            \\n              6%\\n            \\n          '], ['\\n            \\n              2%\\n            \\n          '], ['\\n            \\n              2%\\n            \\n          '], '7 x 0.9 x 9.1 inches', '1.3 pounds', 'English', \"O'Reilly Media; 2nd edition (June 2, 2020)\", ' 978-1492072942', '/Practical-Statistics-Data-Scientists-Essential/dp/149207294X/ref=sr_1_5?crid=34NU2WDUOI6UY&keywords=statistics&qid=1663452985&sprefix=statisti%2Caps%2C263&sr=8-5'], ['Statistics for People Who (Think They) Hate Statistics', [' '], '$31.99', '512 pages', '4.5 out of 5 stars', '697 ratings', ['\\n            \\n              77%\\n            \\n          '], ['\\n            \\n              11%\\n            \\n          '], ['\\n            \\n              6%\\n            \\n          '], ['\\n            \\n              2%\\n            \\n          '], ['\\n            \\n              5%\\n            \\n          '], '7 x 1.16 x 10 inches', '1.95 pounds', 'English', 'SAGE Publications, Inc; 7th edition (September 10, 2019)', ' 978-1544381855', '/Statistics-People-Think-They-Hate/dp/1544381859/ref=sr_1_10?crid=34NU2WDUOI6UY&keywords=statistics&qid=1663452985&sprefix=statisti%2Caps%2C263&sr=8-10'], ['Naked Statistics: Stripping the Dread from the Data', [' '], '$11.69', '304 pages', '4.6 out of 5 stars', '2,271 ratings', ['\\n            \\n              72%\\n            \\n          '], ['\\n            \\n              19%\\n            \\n          '], ['\\n            \\n              6%\\n            \\n          '], ['\\n            \\n              2%\\n            \\n          '], ['\\n            \\n              2%\\n            \\n          '], '5.5 x 0.8 x 8.2 inches', '7.1 ounces', 'English', 'W. W. Norton & Company; 1st edition (January 13, 2014)', ' 978-0393347777', '/Naked-Statistics-Stripping-Dread-Data/dp/039334777X/ref=sr_1_6?crid=34NU2WDUOI6UY&keywords=statistics&qid=1663452985&sprefix=statisti%2Caps%2C263&sr=8-6'], ['Statistics For Dummies (For Dummies (Lifestyle))', [' '], '$11.99', '416 pages', '4.3 out of 5 stars', '1,659 ratings', ['\\n            \\n              64%\\n            \\n          '], ['\\n            \\n              18%\\n            \\n          '], ['\\n            \\n              10%\\n            \\n          '], ['\\n            \\n              4%\\n            \\n          '], ['\\n            \\n              4%\\n            \\n          '], '7.3 x 1.2 x 9.2 inches', '1.69 pounds', 'English', 'For Dummies; 2nd edition (June 7, 2016)', ' 978-1119293521', '/Statistics-Dummies-Math-Science/dp/1119293529/ref=sr_1_9?crid=34NU2WDUOI6UY&keywords=statistics&qid=1663452985&sprefix=statisti%2Caps%2C263&sr=8-9'], ['Advanced Statistics for Health Research', ['by ', 'Richard J. Butler', ', ', 'Matthew J. Butler', ', et al.'], '$108.00', '300 pages', None, None, [], [], [], [], [], None, '1.74 pounds', 'English', 'World Scientific Pub Co Inc (April 17, 2023)', ' 978-9811262302', '/Advanced-Statistics-Health-Research-Richard/dp/9811262306/ref=sr_1_14?crid=34NU2WDUOI6UY&keywords=statistics&qid=1663452985&sprefix=statisti%2Caps%2C263&sr=8-14'], ['Statistics, 11th Edition', ['by ', 'Robert S. Witte', ' and ', 'John S. Witte'], ' $75.95 ', '496 pages', '4.5 out of 5 stars', '97 ratings', ['\\n            \\n              78%\\n            \\n          '], ['\\n            \\n              10%\\n            \\n          '], ['\\n            \\n              4%\\n            \\n          '], ['\\n            \\n              4%\\n            \\n          '], ['\\n            \\n              4%\\n            \\n          '], '8 x 1.12 x 10 inches', '2.4 pounds', 'English', 'Wiley (January 17, 2017)', None, '/Statistics-11th-Robert-S-Witte/dp/1119386055/ref=sr_1_15?crid=34NU2WDUOI6UY&keywords=statistics&qid=1663452985&sprefix=statisti%2Caps%2C263&sr=8-15'], ['The Cartoon Guide to Statistics', ['by ', 'Larry Gonick', ' and ', 'Woollcott Smith'], ' $16.19 ', '230 pages', '4.4 out of 5 stars', '738 ratings', ['\\n            \\n              68%\\n            \\n          '], ['\\n            \\n              15%\\n            \\n          '], ['\\n            \\n              9%\\n            \\n          '], ['\\n            \\n              4%\\n            \\n          '], ['\\n            \\n              4%\\n            \\n          '], '7.36 x 0.63 x 9.24 inches', '11.4 ounces', 'English', 'HarperPerennial; 1st edition (January 1, 1993)', None, '/Cartoon-Guide-Statistics-Larry-Gonick/dp/0062731025/ref=sr_1_16?crid=34NU2WDUOI6UY&keywords=statistics&qid=1663452985&sprefix=statisti%2Caps%2C263&sr=8-16'], ['Statistics for Absolute Beginners (Second Edition) (Data Science, Python & Statistics for Beginners)', ['by ', 'Oliver Theobald'], '$14.88', '156 pages', '4.4 out of 5 stars', '137 ratings', ['\\n            \\n              70%\\n            \\n          '], ['\\n            \\n              12%\\n            \\n          '], ['\\n            \\n              11%\\n            \\n          '], ['\\n            \\n              2%\\n            \\n          '], ['\\n            \\n              6%\\n            \\n          '], '6 x 0.39 x 9 inches', '8.5 ounces', 'English', 'Independently published (June 18, 2020)', ' 979-8654976123', '/gp/slredirect/picassoRedirect.html/ref=pa_sp_atf_aps_sr_pg1_1?ie=UTF8&adId=A06017198DJ8304M1R4Q&url=%2FStatistics-Absolute-Beginners-Second-Theobald%2Fdp%2FB08BDZ2DCF%2Fref%3Dsr_1_4_sspa%3Fcrid%3D34NU2WDUOI6UY%26keywords%3Dstatistics%26qid%3D1663452985%26sprefix%3Dstatisti%252Caps%252C263%26sr%3D8-4-spons%26psc%3D1&qualifier=1663452985&id=4337139339647806&widgetName=sp_atf'], ['Introduction to Statistics: An Intuitive Guide for Analyzing Data and Unlocking Discoveries', ['by ', 'Jim Frost'], '$18.91', '255 pages', '4.5 out of 5 stars', '199 ratings', ['\\n            \\n              72%\\n            \\n          '], ['\\n            \\n              15%\\n            \\n          '], ['\\n            \\n              5%\\n            \\n          '], ['\\n            \\n              3%\\n            \\n          '], ['\\n            \\n              4%\\n            \\n          '], '6 x 0.58 x 9 inches', '12.2 ounces', 'English', 'Statistics By Jim Publishing (August 13, 2020)', ' 978-1735431109', '/gp/slredirect/picassoRedirect.html/ref=pa_sp_atf_aps_sr_pg1_1?ie=UTF8&adId=A04620292602OL2X6I84G&url=%2FIntroduction-Statistics-Intuitive-Analyzing-Discoveries%2Fdp%2F1735431109%2Fref%3Dsr_1_1_sspa%3Fcrid%3D34NU2WDUOI6UY%26keywords%3Dstatistics%26qid%3D1663452985%26sprefix%3Dstatisti%252Caps%252C263%26sr%3D8-1-spons%26psc%3D1&qualifier=1663452985&id=4337139339647806&widgetName=sp_atf'], ['Introduction to Probability, Statistics, and Random Processes', ['by ', 'Hossein Pishro-Nik'], '$36.58', '744 pages', '4.6 out of 5 stars', '233 ratings', ['\\n            \\n              80%\\n            \\n          '], ['\\n            \\n              11%\\n            \\n          '], ['\\n            \\n              3%\\n            \\n          '], ['\\n            \\n              3%\\n            \\n          '], ['\\n            \\n              2%\\n            \\n          '], '7.44 x 1.68 x 9.69 inches', '3.16 pounds', 'English', 'Kappa Research, LLC (August 24, 2014)', ' 978-0990637202', '/gp/slredirect/picassoRedirect.html/ref=pa_sp_atf_aps_sr_pg1_1?ie=UTF8&adId=A01928871JSHSV6VFQYWL&url=%2FIntroduction-Probability-Statistics-Random-Processes%2Fdp%2F0990637204%2Fref%3Dsr_1_3_sspa%3Fcrid%3D34NU2WDUOI6UY%26keywords%3Dstatistics%26qid%3D1663452985%26sprefix%3Dstatisti%252Caps%252C263%26sr%3D8-3-spons%26psc%3D1&qualifier=1663452985&id=4337139339647806&widgetName=sp_atf'], ['How to Lie with Statistics', ['by ', 'Darrell Huff', ' and ', 'Irving Geis'], ' $8.89 ', '144 pages', '4.6 out of 5 stars', '2,813 ratings', ['\\n            \\n              72%\\n            \\n          '], ['\\n            \\n              16%\\n            \\n          '], ['\\n            \\n              8%\\n            \\n          '], ['\\n            \\n              2%\\n            \\n          '], ['\\n            \\n              2%\\n            \\n          '], '5.5 x 0.5 x 8.3 inches', '3.84 ounces', 'English', 'W. W. Norton & Company; Reissue edition (October 17, 1993)', None, '/How-Lie-Statistics-Darrell-Huff/dp/0393310728/ref=sr_1_13?crid=34NU2WDUOI6UY&keywords=statistics&qid=1663452985&sprefix=statisti%2Caps%2C263&sr=8-13'], ['Princeton Review AP Statistics Prep, 2022: 4 Practice Tests + Complete Content Review + Strategies & Techniques (2022) (College Test Preparation)', ['by ', 'The Princeton Review'], '$18.99', '464 pages', '4.6 out of 5 stars', '130 ratings', ['\\n            \\n              77%\\n            \\n          '], ['\\n            \\n              16%\\n            \\n          '], ['\\n            \\n              3%\\n            \\n          '], ['\\n            \\n              1%\\n            \\n          '], ['\\n            \\n              3%\\n            \\n          '], '8.3 x 1.04 x 10.79 inches', '1.63 pounds', 'English', 'Princeton Review (August 3, 2021)', ' 978-0525570745', '/gp/slredirect/picassoRedirect.html/ref=pa_sp_atf_aps_sr_pg1_1?ie=UTF8&adId=A029982238CTEEOQOYD70&url=%2FPrinceton-Review-Statistics-Prep-2022%2Fdp%2F0525570748%2Fref%3Dsr_1_2_sspa%3Fcrid%3D34NU2WDUOI6UY%26keywords%3Dstatistics%26qid%3D1663452985%26sprefix%3Dstatisti%252Caps%252C263%26sr%3D8-2-spons%26psc%3D1&qualifier=1663452985&id=4337139339647806&widgetName=sp_atf'], ['5 Steps to a 5: AP Statistics 2023', ['by ', 'Jared Derksen', ' and ', 'DeAnna Krause McDonald'], '$18.00', '384 pages', None, None, [], [], [], [], [], '8.5 x 0.75 x 11 inches', '1.25 pounds', 'English', 'McGraw Hill; 1st edition (August 22, 2022)', ' 978-1264498628', '/Steps-AP-Statistics-2023/dp/1264498624/ref=sr_1_59?crid=34NU2WDUOI6UY&keywords=statistics&qid=1663452985&sprefix=statisti%2Caps%2C263&sr=8-59'], ['The Probability and Statistics Tutor - 10 Hour Course - 3 DVD Set - Learn By Examples!', [], ' $39.99 ', None, '4.2 out of 5 stars', '45 ratings', ['\\n            \\n              65%\\n            \\n          '], ['\\n            \\n              10%\\n            \\n          '], ['\\n            \\n              5%\\n            \\n          '], ['\\n            \\n              20%\\n            \\n          '], [], '7.5 x 5.5 x 0.5 inches; 4.8 Ounces', None, None, None, None, '/Probability-Statistics-Tutor-Course-Examples/dp/B0016G8HX4/ref=sr_1_60?crid=34NU2WDUOI6UY&keywords=statistics&qid=1663452985&sprefix=statisti%2Caps%2C263&sr=8-60'], ['The Foundations of Statistics', ['by ', 'Leonard J. Savage'], '$11.89', '310 pages', '4.5 out of 5 stars', '102 ratings', ['\\n            \\n              71%\\n            \\n          '], ['\\n            \\n              18%\\n            \\n          '], ['\\n            \\n              6%\\n            \\n          '], ['\\n            \\n              2%\\n            \\n          '], ['\\n            \\n              3%\\n            \\n          '], '5.43 x 0.73 x 8.49 inches', '12.6 ounces', 'English', 'Dover Publications; 2nd Revised ed. edition (June 1, 1972)', ' 978-0486623498', '/gp/slredirect/picassoRedirect.html/ref=pa_sp_mtf_aps_sr_pg1_1?ie=UTF8&adId=A0426729JRVD6C0U480I&url=%2FFoundations-Statistics-Leonard-J-Savage%2Fdp%2F0486623491%2Fref%3Dsr_1_17_sspa%3Fcrid%3D34NU2WDUOI6UY%26keywords%3Dstatistics%26qid%3D1663452985%26sprefix%3Dstatisti%252Caps%252C263%26sr%3D8-17-spons%26psc%3D1&qualifier=1663452985&id=4337139339647806&widgetName=sp_mtf'], ['Princeton Review AP Statistics Prep, 2023: 5 Practice Tests + Complete Content Review + Strategies & Techniques (College Test Preparation)', ['by ', 'The Princeton Review'], '$18.99', '464 pages', '4.6 out of 5 stars', '3 ratings', ['\\n            \\n              63%\\n            \\n          '], ['\\n            \\n              37%\\n            \\n          '], [], [], [], '8.3 x 1.08 x 10.8 inches', '1.55 pounds', 'English', 'Princeton Review (August 23, 2022)', ' 978-0593450895', '/Princeton-Review-Statistics-Prep-2023/dp/0593450892/ref=sr_1_54?crid=34NU2WDUOI6UY&keywords=statistics&qid=1663452985&sprefix=statisti%2Caps%2C263&sr=8-54'], ['Mathematical Statistics with Applications', ['by ', 'Dennis Wackerly', ', ', 'William Mendenhall', ', et al.'], '$95.66', '944 pages', '4.2 out of 5 stars', '282 ratings', ['\\n            \\n              63%\\n            \\n          '], ['\\n            \\n              15%\\n            \\n          '], ['\\n            \\n              11%\\n            \\n          '], ['\\n            \\n              4%\\n            \\n          '], ['\\n            \\n              7%\\n            \\n          '], '7.5 x 1.5 x 9.25 inches', '3.6 pounds', 'English', 'Thomson Brooks/Cole; 7th edition (January 1, 2008)', ' 978-0495110811', '/Mathematical-Statistics-Applications-Dennis-Wackerly/dp/0495110817/ref=sr_1_56?crid=34NU2WDUOI6UY&keywords=statistics&qid=1663452985&sprefix=statisti%2Caps%2C263&sr=8-56'], ['Statistics in Plain English', ['by ', 'Timothy C. Urdan'], '$39.16', '266 pages', '4.7 out of 5 stars', '190 ratings', ['\\n            \\n              80%\\n            \\n          '], ['\\n            \\n              11%\\n            \\n          '], ['\\n            \\n              7%\\n            \\n          '], ['\\n            \\n              2%\\n            \\n          '], [], '8.5 x 0.65 x 11 inches', '1.5 pounds', 'English', 'Routledge; 4th edition (July 25, 2016)', ' 978-1138838345', '/Statistics-Course-Pack-Set-Op/dp/1138838349/ref=sr_1_55?crid=34NU2WDUOI6UY&keywords=statistics&qid=1663452985&sprefix=statisti%2Caps%2C263&sr=8-55'], ['OpenIntro Statistics: Fourth Edition', ['by ', 'David Diez', ', ', 'Mine Çetinkaya-Rundel', ', et al.'], ' $20.00 ', '422 pages', '4.4 out of 5 stars', '530 ratings', ['\\n            \\n              73%\\n            \\n          '], ['\\n            \\n              12%\\n            \\n          '], ['\\n            \\n              6%\\n            \\n          '], ['\\n            \\n              3%\\n            \\n          '], ['\\n            \\n              6%\\n            \\n          '], '8.5 x 0.96 x 11 inches', '2.57 pounds', 'English', 'OpenIntro, Inc. (May 1, 2019)', None, '/OpenIntro-Statistics-Fourth-David-Diez/dp/1943450072/ref=sr_1_57?crid=34NU2WDUOI6UY&keywords=statistics&qid=1663452985&sprefix=statisti%2Caps%2C263&sr=8-57'], [\"The Signal and the Noise: Why So Many Predictions Fail--but Some Don't\", ['by ', 'Nate Silver'], ' $17.62 ', '576 pages', '4.5 out of 5 stars', '1,934 ratings', ['\\n            \\n              65%\\n            \\n          '], ['\\n            \\n              22%\\n            \\n          '], ['\\n            \\n              9%\\n            \\n          '], ['\\n            \\n              3%\\n            \\n          '], ['\\n            \\n              1%\\n            \\n          '], '5.5 x 1 x 8.4 inches', '1.15 pounds', 'English', 'Penguin Books; Illustrated edition (February 3, 2015)', None, '/Signal-Noise-Many-Predictions-Fail-but/dp/0143125087/ref=sr_1_58?crid=34NU2WDUOI6UY&keywords=statistics&qid=1663452985&sprefix=statisti%2Caps%2C263&sr=8-58'], ['Hypothesis Testing: An Intuitive Guide for Making Data Driven Decisions', ['by ', 'Jim Frost'], '$23.74', '381 pages', '4.6 out of 5 stars', '101 ratings', ['\\n            \\n              78%\\n            \\n          '], ['\\n            \\n              13%\\n            \\n          '], ['\\n            \\n              2%\\n            \\n          '], ['\\n            \\n              3%\\n            \\n          '], ['\\n            \\n              4%\\n            \\n          '], '6 x 0.86 x 9 inches', '1.12 pounds', 'English', 'Statistics By Jim Publishing (September 14, 2020)', ' 978-1735431154', '/Hypothesis-Testing-Intuitive-Making-Decisions/dp/173543115X/ref=sr_1_52?crid=34NU2WDUOI6UY&keywords=statistics&qid=1663452985&sprefix=statisti%2Caps%2C263&sr=8-52'], ['Against the Gods: The Remarkable Story of Risk', ['by ', 'Peter L. Bernstein'], ' $11.79 ', '400 pages', '4.4 out of 5 stars', '987 ratings', ['\\n            \\n              67%\\n            \\n          '], ['\\n            \\n              18%\\n            \\n          '], ['\\n            \\n              10%\\n            \\n          '], ['\\n            \\n              4%\\n            \\n          '], ['\\n            \\n              2%\\n            \\n          '], '6 x 1.2 x 8.9 inches', '1.07 pounds', 'English', 'Wiley; Edition Unstated (August 31, 1998)', None, '/Against-Gods-Remarkable-Story-Risk/dp/0471295639/ref=sr_1_53?crid=34NU2WDUOI6UY&keywords=statistics&qid=1663452985&sprefix=statisti%2Caps%2C263&sr=8-53'], ['Essentials of Statistics for the Behavioral Sciences, 10th Edition, Paperback', ['by ', 'Nary'], ' $23.39 ', '688 pages', '4.2 out of 5 stars', '8 ratings', ['\\n            \\n              37%\\n            \\n          '], ['\\n            \\n              47%\\n            \\n          '], ['\\n            \\n              16%\\n            \\n          '], [], [], '8 x 1.55 x 10 inches', '3.64 pounds', 'English', 'Independently published (July 13, 2022)', None, '/Essentials-Statistics-Behavioral-Sciences-Paperback/dp/B0B5Q3MN2X/ref=sr_1_48?crid=34NU2WDUOI6UY&keywords=statistics&qid=1663452985&sprefix=statisti%2Caps%2C263&sr=8-48'], ['Introduction to Probability, Statistics, and Random Processes', ['by ', 'Hossein Pishro-Nik'], '$36.58', '744 pages', '4.6 out of 5 stars', '233 ratings', ['\\n            \\n              80%\\n            \\n          '], ['\\n            \\n              11%\\n            \\n          '], ['\\n            \\n              3%\\n            \\n          '], ['\\n            \\n              3%\\n            \\n          '], ['\\n            \\n              2%\\n            \\n          '], '7.44 x 1.68 x 9.69 inches', '3.16 pounds', 'English', 'Kappa Research, LLC (August 24, 2014)', ' 978-0990637202', '/Introduction-Probability-Statistics-Random-Processes/dp/0990637204/ref=sr_1_49?crid=34NU2WDUOI6UY&keywords=statistics&qid=1663452985&sprefix=statisti%2Caps%2C263&sr=8-49'], ['Princeton Review AP Statistics Prep, 2022: 4 Practice Tests + Complete Content Review + Strategies & Techniques (2022) (College Test Preparation)', ['by ', 'The Princeton Review'], '$18.99', '464 pages', '4.6 out of 5 stars', '130 ratings', ['\\n            \\n              77%\\n            \\n          '], ['\\n            \\n              16%\\n            \\n          '], ['\\n            \\n              3%\\n            \\n          '], ['\\n            \\n              1%\\n            \\n          '], ['\\n            \\n              3%\\n            \\n          '], '8.3 x 1.04 x 10.79 inches', '1.63 pounds', 'English', 'Princeton Review (August 3, 2021)', ' 978-0525570745', '/Princeton-Review-Statistics-Prep-2022/dp/0525570748/ref=sr_1_50?crid=34NU2WDUOI6UY&keywords=statistics&qid=1663452985&sprefix=statisti%2Caps%2C263&sr=8-50'], ['Advanced Statistics in Research: Reading, Understanding, and Writing Up Data Analysis Results', ['by ', 'Larry Hatcher'], '$59.95', '644 pages', '4.7 out of 5 stars', '96 ratings', ['\\n            \\n              82%\\n            \\n          '], ['\\n            \\n              10%\\n            \\n          '], ['\\n            \\n              5%\\n            \\n          '], ['\\n            \\n              3%\\n            \\n          '], [], '7 x 1.46 x 10 inches', '2.43 pounds', 'English', 'Shadow Finch Media LLC; Illustrated edition (January 7, 2013)', ' 978-0985867003', '/Advanced-Statistics-Research-Understanding-Analysis/dp/0985867000/ref=sr_1_46?crid=34NU2WDUOI6UY&keywords=statistics&qid=1663452985&sprefix=statisti%2Caps%2C263&sr=8-46'], ['Statistics Workbook For Dummies with Online Practice', ['by ', 'Deborah J. Rumsey'], '$18.99', '336 pages', '4.3 out of 5 stars', '219 ratings', ['\\n            \\n              62%\\n            \\n          '], ['\\n            \\n              18%\\n            \\n          '], ['\\n            \\n              12%\\n            \\n          '], ['\\n            \\n              4%\\n            \\n          '], ['\\n            \\n              4%\\n            \\n          '], '7.9 x 0.9 x 10 inches', '1.06 pounds', 'English', 'For Dummies; 2nd edition (April 23, 2019)', ' 978-1119547518', '/Statistics-Workbook-Dummies-Online-Practice/dp/1119547512/ref=sr_1_45?crid=34NU2WDUOI6UY&keywords=statistics&qid=1663452985&sprefix=statisti%2Caps%2C263&sr=8-45'], ['UPDATED Version of The Practice of Statistics', ['by ', 'Daren S. Starnes', ' and ', 'Josh Tabor'], '$179.95', '1024 pages', '4.4 out of 5 stars', '41 ratings', ['\\n            \\n              76%\\n            \\n          '], ['\\n            \\n              8%\\n            \\n          '], ['\\n            \\n              4%\\n            \\n          '], ['\\n            \\n              3%\\n            \\n          '], ['\\n            \\n              9%\\n            \\n          '], '8.9 x 1.55 x 11.2 inches', '4.77 pounds', 'English', 'W. H. Freeman; Sixth edition (December 16, 2019)', ' 978-1319269296', '/UPDATED-Version-Practice-Statistics-Starnes/dp/131926929X/ref=sr_1_51?crid=34NU2WDUOI6UY&keywords=statistics&qid=1663452985&sprefix=statisti%2Caps%2C263&sr=8-51'], ['A Man for All Markets: From Las Vegas to Wall Street, How I Beat the Dealer and the Market', ['by ', 'Edward O. Thorp', ', ', 'Nassim Nicholas Taleb - foreword', ', et al.'], None, None, '4.5 out of 5 stars', '1,026 ratings', ['\\n            \\n              71%\\n            \\n          '], ['\\n            \\n              17%\\n            \\n          '], ['\\n            \\n              8%\\n            \\n          '], ['\\n            \\n              2%\\n            \\n          '], ['\\n            \\n              2%\\n            \\n          '], None, None, None, None, None, '/A-Man-for-All-Markets-audiobook/dp/B01N4JAXQM/ref=sr_1_47?crid=34NU2WDUOI6UY&keywords=statistics&qid=1663452985&sprefix=statisti%2Caps%2C263&sr=8-47'], ['A Mind for Numbers: How to Excel at Math and Science (Even If You Flunked Algebra)', ['by ', 'Barbara Oakley PhD'], ' $14.99 ', '336 pages', '4.6 out of 5 stars', '3,945 ratings', ['\\n            \\n              77%\\n            \\n          '], ['\\n            \\n              14%\\n            \\n          '], ['\\n            \\n              5%\\n            \\n          '], ['\\n            \\n              2%\\n            \\n          '], ['\\n            \\n              2%\\n            \\n          '], '5.99 x 0.84 x 8.96 inches', '12 ounces', 'English', 'TarcherPerigee; Illustrated edition (July 31, 2014)', None, '/Mind-Numbers-Science-Flunked-Algebra/dp/039916524X/ref=sr_1_44?crid=34NU2WDUOI6UY&keywords=statistics&qid=1663452985&sprefix=statisti%2Caps%2C263&sr=8-44'], ['Data Mining for Business Analytics: Concepts, Techniques, and Applications in R', ['by ', 'Galit Shmueli', ', ', 'Peter C. Bruce', ', et al.'], '$105.45', '576 pages', '4.4 out of 5 stars', '147 ratings', ['\\n            \\n              68%\\n            \\n          '], ['\\n            \\n              13%\\n            \\n          '], ['\\n            \\n              10%\\n            \\n          '], ['\\n            \\n              5%\\n            \\n          '], ['\\n            \\n              4%\\n            \\n          '], '6.9 x 1.2 x 10.1 inches', '3.01 pounds', 'English', 'Wiley; 1st edition (September 5, 2017)', ' 978-1118879368', '/Data-Mining-Business-Analytics-Applications/dp/1118879368/ref=sr_1_43?crid=34NU2WDUOI6UY&keywords=statistics&qid=1663452985&sprefix=statisti%2Caps%2C263&sr=8-43'], [\"Numbers Don't Lie: 71 Stories to Help Us Understand the Modern World\", ['by ', 'Vaclav Smil'], ' $13.99 ', '368 pages', '4.3 out of 5 stars', '1,242 ratings', ['\\n            \\n              55%\\n            \\n          '], ['\\n            \\n              28%\\n            \\n          '], ['\\n            \\n              12%\\n            \\n          '], ['\\n            \\n              3%\\n            \\n          '], ['\\n            \\n              1%\\n            \\n          '], None, None, 'English', 'Penguin Books (May 4, 2021)', None, '/Numbers-Dont-Lie-Stories-Understand-ebook/dp/B08GJVP3GK/ref=sr_1_40?crid=34NU2WDUOI6UY&keywords=statistics&qid=1663452985&sprefix=statisti%2Caps%2C263&sr=8-40'], ['Freakonomics Rev Ed: A Rogue Economist Explores the Hidden Side of Everything', [' '], None, '350 pages', '4.5 out of 5 stars', '3,430 ratings', ['\\n            \\n              70%\\n            \\n          '], ['\\n            \\n              19%\\n            \\n          '], ['\\n            \\n              7%\\n            \\n          '], ['\\n            \\n              2%\\n            \\n          '], ['\\n            \\n              2%\\n            \\n          '], None, None, 'English', 'William Morrow; Revised, Expanded ed. edition (February 17, 2010)', None, '/Freakonomics-Rev-Ed-Economist-Everything-ebook/dp/B000MAH66Y/ref=sr_1_39?crid=34NU2WDUOI6UY&keywords=statistics&qid=1663452985&sprefix=statisti%2Caps%2C263&sr=8-39'], ['Fooled by Randomness: The Hidden Role of Chance in Life and in the Markets', [' '], None, None, '4.5 out of 5 stars', '3,252 ratings', ['\\n            \\n              67%\\n            \\n          '], ['\\n            \\n              21%\\n            \\n          '], ['\\n            \\n              7%\\n            \\n          '], ['\\n            \\n              3%\\n            \\n          '], ['\\n            \\n              3%\\n            \\n          '], None, None, None, None, None, '/Fooled-by-Randomness-audiobook/dp/B0012IZFRW/ref=sr_1_42?crid=34NU2WDUOI6UY&keywords=statistics&qid=1663452985&sprefix=statisti%2Caps%2C263&sr=8-42'], [\"Factfulness: Ten Reasons We're Wrong About the World--and Why Things Are Better Than You Think\", ['by ', 'Hans Rosling', ', ', 'Anna Rosling Rönnlund', ', et al.'], ' $11.59 ', '352 pages', '4.6 out of 5 stars', '14,502 ratings', ['\\n            \\n              76%\\n            \\n          '], ['\\n            \\n              15%\\n            \\n          '], ['\\n            \\n              6%\\n            \\n          '], ['\\n            \\n              1%\\n            \\n          '], ['\\n            \\n              2%\\n            \\n          '], '5.47 x 1.01 x 8.25 inches', '14.4 ounces', 'English', 'Flatiron Books; Reprint edition (April 7, 2020)', None, '/Factfulness-Reasons-World-Things-Better/dp/1250123828/ref=sr_1_41?crid=34NU2WDUOI6UY&keywords=statistics&qid=1663452985&sprefix=statisti%2Caps%2C263&sr=8-41'], [\"How the World Really Works: The Science Behind How We Got Here and Where We're Going\", ['by ', 'Vaclav Smil'], ' $22.99 ', '336 pages', '4.4 out of 5 stars', '1,561 ratings', ['\\n            \\n              64%\\n            \\n          '], ['\\n            \\n              23%\\n            \\n          '], ['\\n            \\n              9%\\n            \\n          '], ['\\n            \\n              2%\\n            \\n          '], ['\\n            \\n              3%\\n            \\n          '], '6.24 x 1.15 x 9.28 inches', '1.1 pounds', 'English', 'Viking (May 10, 2022)', None, '/How-World-Really-Works-Science/dp/0593297067/ref=sr_1_38?crid=34NU2WDUOI6UY&keywords=statistics&qid=1663452985&sprefix=statisti%2Caps%2C263&sr=8-38'], ['Statistics for Absolute Beginners (Second Edition) (Data Science, Python & Statistics for Beginners Book 3)', [' '], None, '158 pages', '4.4 out of 5 stars', '137 ratings', ['\\n            \\n              70%\\n            \\n          '], ['\\n            \\n              12%\\n            \\n          '], ['\\n            \\n              11%\\n            \\n          '], ['\\n            \\n              2%\\n            \\n          '], ['\\n            \\n              6%\\n            \\n          '], None, None, 'English', 'Scatterplot Press; 2nd edition (February 24, 2020)', None, '/Statistics-Absolute-Beginners-Second-Theobald-ebook/dp/B0854DM1Y7/ref=sr_1_37?crid=34NU2WDUOI6UY&keywords=statistics&qid=1663452985&sprefix=statisti%2Caps%2C263&sr=8-37'], ['Probability and Statistics for Economists', ['by ', 'Bruce Hansen'], '$60.00', '416 pages', None, None, [], [], [], [], [], '7.75 x 1 x 10 inches', '1.85 pounds', 'English', 'Princeton University Press (August 16, 2022)', ' 978-0691235943', '/Probability-Statistics-Economists-Bruce-Hansen/dp/0691235945/ref=sr_1_31?crid=34NU2WDUOI6UY&keywords=statistics&qid=1663452985&sprefix=statisti%2Caps%2C263&sr=8-31'], [\"Painless Statistics (Barron's Painless)\", ['by ', 'Patrick Honner'], '$14.99', '320 pages', '5.0 out of 5 stars', '4 ratings', ['\\n            \\n              100%\\n            \\n          '], [], [], [], [], '6 x 0.7 x 9 inches', '15.2 ounces', 'English', ' In the 1930s, Manuel H. Barron opened a bookstore in Brooklyn, New York.\\xa0', ' 978-1506281582', '/Painless-Statistics-Barrons-Patrick-Honner/dp/1506281583/ref=sr_1_30?crid=34NU2WDUOI6UY&keywords=statistics&qid=1663452985&sprefix=statisti%2Caps%2C263&sr=8-30'], ['Discovering Statistics Using IBM SPSS Statistics: North American Edition', ['by ', 'Andy Field'], '$64.70', '816 pages', '4.4 out of 5 stars', '620 ratings', ['\\n            \\n              71%\\n            \\n          '], ['\\n            \\n              13%\\n            \\n          '], ['\\n            \\n              5%\\n            \\n          '], ['\\n            \\n              4%\\n            \\n          '], ['\\n            \\n              7%\\n            \\n          '], '8.9 x 1.3 x 10.9 inches', '3.97 pounds', 'English', 'SAGE Publications Ltd; 5th edition (November 22, 2017)', ' 978-1526436566', '/Discovering-Statistics-Using-IBM-SPSS/dp/1526436566/ref=sr_1_29?crid=34NU2WDUOI6UY&keywords=statistics&qid=1663452985&sprefix=statisti%2Caps%2C263&sr=8-29'], [\"AP Statistics Flashcards, Fourth Edition: Up-to-Date Practice + Sorting Ring for Custom Study (Barron's Test Prep)\", ['by ', 'Martin Sternstein Ph.D.'], '$29.99', '513 pages', None, None, [], [], [], [], [], '4.88 x 3 x 5 inches', '2.2 pounds', 'English', ' In the 1930s, Manuel H. Barron opened a bookstore in Brooklyn, New York.\\xa0', ' 978-1506267043', '/Statistics-Flashcards-Fourth-Up-Date/dp/1506267041/ref=sr_1_108?crid=34NU2WDUOI6UY&keywords=statistics&qid=1663453001&sprefix=statisti%2Caps%2C263&sr=8-108'], ['Outline of Basic Statistics: Dictionary and Formulas (Dover Books on Mathematics)', ['by ', 'John E. Freund', ' and ', 'Frank J. Williams'], '$11.95', '208 pages', '4.2 out of 5 stars', '22 ratings', ['\\n            \\n              51%\\n            \\n          '], ['\\n            \\n              19%\\n            \\n          '], ['\\n            \\n              23%\\n            \\n          '], ['\\n            \\n              6%\\n            \\n          '], [], '5.2 x 0.5 x 8.4 inches', '7.2 ounces', 'English', 'Dover Publications; Illustrated edition (April 21, 2010)', ' 978-0486477695', '/gp/slredirect/picassoRedirect.html/ref=pa_sp_mtf_aps_sr_pg1_1?ie=UTF8&adId=A04265731N2MD45J6A9L5&url=%2FOutline-Basic-Statistics-Dictionary-Mathematics%2Fdp%2F048647769X%2Fref%3Dsr_1_35_sspa%3Fcrid%3D34NU2WDUOI6UY%26keywords%3Dstatistics%26qid%3D1663452985%26sprefix%3Dstatisti%252Caps%252C263%26sr%3D8-35-spons%26psc%3D1&qualifier=1663452985&id=4337139339647806&widgetName=sp_mtf'], ['Essentials of Statistics', ['by ', 'Mario Triola'], '$170.15', '648 pages', '4.5 out of 5 stars', '425 ratings', ['\\n            \\n              74%\\n            \\n          '], ['\\n            \\n              12%\\n            \\n          '], ['\\n            \\n              6%\\n            \\n          '], ['\\n            \\n              2%\\n            \\n          '], ['\\n            \\n              5%\\n            \\n          '], '8.5 x 1.05 x 10.85 inches', '2.6 pounds', 'English', 'Pearson; 6th edition (January 15, 2018)', ' 978-0134685779', '/Essentials-Statistics-6th-Mario-Triola/dp/0134685776/ref=sr_1_32?crid=34NU2WDUOI6UY&keywords=statistics&qid=1663452985&sprefix=statisti%2Caps%2C263&sr=8-32'], ['Statistics for People Who (Think They) Hate Statistics: Using Microsoft Excel', ['by ', 'Neil J. Salkind', ' and ', 'Bruce B. Frey'], '$84.85', '512 pages', '4.4 out of 5 stars', '70 ratings', ['\\n            \\n              70%\\n            \\n          '], ['\\n            \\n              17%\\n            \\n          '], ['\\n            \\n              5%\\n            \\n          '], ['\\n            \\n              5%\\n            \\n          '], ['\\n            \\n              4%\\n            \\n          '], '7 x 1.16 x 10 inches', '1.75 pounds', 'English', 'SAGE Publications, Inc; Fifth edition (April 30, 2021)', ' 978-1071803882', '/Statistics-People-Think-They-Hate/dp/1071803883/ref=sr_1_28?crid=34NU2WDUOI6UY&keywords=statistics&qid=1663452985&sprefix=statisti%2Caps%2C263&sr=8-28'], ['Discovering Statistics Using IBM SPSS Statistics: North American Edition', ['by ', 'Andy Field'], '$64.70', '816 pages', '4.4 out of 5 stars', '620 ratings', ['\\n            \\n              71%\\n            \\n          '], ['\\n            \\n              13%\\n            \\n          '], ['\\n            \\n              5%\\n            \\n          '], ['\\n            \\n              4%\\n            \\n          '], ['\\n            \\n              7%\\n            \\n          '], '8.9 x 1.3 x 10.9 inches', '3.97 pounds', 'English', 'SAGE Publications Ltd; 5th edition (November 22, 2017)', ' 978-1526436566', '/gp/slredirect/picassoRedirect.html/ref=pa_sp_mtf_aps_sr_pg1_1?ie=UTF8&adId=A08962582DOFWAFL2QFYQ&url=%2FDiscovering-Statistics-Using-IBM-SPSS%2Fdp%2F1526436566%2Fref%3Dsr_1_36_sspa%3Fcrid%3D34NU2WDUOI6UY%26keywords%3Dstatistics%26qid%3D1663452985%26sprefix%3Dstatisti%252Caps%252C263%26sr%3D8-36-spons%26psc%3D1&qualifier=1663452985&id=4337139339647806&widgetName=sp_mtf'], ['Periodic Table Advanced (Quick Study)', ['by ', 'Inc. BarCharts'], ' $6.95 ', '6 pages', '4.8 out of 5 stars', '904 ratings', ['\\n            \\n              88%\\n            \\n          '], ['\\n            \\n              8%\\n            \\n          '], ['\\n            \\n              2%\\n            \\n          '], ['\\n            \\n              1%\\n            \\n          '], ['\\n            \\n              1%\\n            \\n          '], '8.5 x 11 x 0.06 inches', '2.19 ounces', 'English', 'QuickStudy; Reissue edition (December 31, 2014)', None, '/gp/slredirect/picassoRedirect.html/ref=pa_sp_mtf_aps_sr_pg1_1?ie=UTF8&adId=A076609512FOQ7BML8F6I&url=%2FPeriodic-Table-Advanced-Quick-Study%2Fdp%2F1423224310%2Fref%3Dsr_1_33_sspa%3Fcrid%3D34NU2WDUOI6UY%26keywords%3Dstatistics%26qid%3D1663452985%26sprefix%3Dstatisti%252Caps%252C263%26sr%3D8-33-spons%26psc%3D1&qualifier=1663452985&id=4337139339647806&widgetName=sp_mtf'], ['The Elements of Statistical Learning: Data Mining, Inference, and Prediction, Second Edition (Springer Series in Statistics)', ['by ', 'Trevor Hastie', ', ', 'Robert Tibshirani', ', et al.'], '$61.93', '767 pages', '4.6 out of 5 stars', '1,016 ratings', ['\\n            \\n              82%\\n            \\n          '], ['\\n            \\n              7%\\n            \\n          '], ['\\n            \\n              4%\\n            \\n          '], ['\\n            \\n              3%\\n            \\n          '], ['\\n            \\n              4%\\n            \\n          '], '9.3 x 6 x 1.4 inches', '2.6 pounds', 'English', 'Springer; 2nd edition (January 1, 2016)', ' 978-0387848570', '/gp/slredirect/picassoRedirect.html/ref=pa_sp_mtf_aps_sr_pg1_1?ie=UTF8&adId=A06851962NMUBFC36EHJF&url=%2FElements-Statistical-Learning-Prediction-Statistics%2Fdp%2F0387848576%2Fref%3Dsr_1_34_sspa%3Fcrid%3D34NU2WDUOI6UY%26keywords%3Dstatistics%26qid%3D1663452985%26sprefix%3Dstatisti%252Caps%252C263%26sr%3D8-34-spons%26psc%3D1&qualifier=1663452985&id=4337139339647806&widgetName=sp_mtf'], ['Statistics for the Behavioral Sciences - Standalone Book', ['by ', 'Frederick J Gravetter', ' and ', 'Larry B. Wallnau'], '$94.46', '768 pages', '4.5 out of 5 stars', '682 ratings', ['\\n            \\n              75%\\n            \\n          '], ['\\n            \\n              12%\\n            \\n          '], ['\\n            \\n              6%\\n            \\n          '], ['\\n            \\n              2%\\n            \\n          '], ['\\n            \\n              5%\\n            \\n          '], '8 x 1 x 10 inches', '2.75 pounds', 'English', 'Cengage Learning; 10th edition (January 1, 2016)', ' 978-1305504912', '/Statistics-Behavioral-Sciences-Standalone-Book/dp/1305504917/ref=sr_1_105?crid=34NU2WDUOI6UY&keywords=statistics&qid=1663453001&sprefix=statisti%2Caps%2C263&sr=8-105'], ['Elementary Statistics', ['by ', 'Mario F. Triola'], None, None, '4.7 out of 5 stars', '4 ratings', ['\\n            \\n              70%\\n            \\n          '], ['\\n            \\n              30%\\n            \\n          '], [], [], [], None, None, 'English', 'Pearson; 14th edition (January 4, 2021)', None, '/Elementary-Statistics-2-downloads-Mario-Triola-ebook/dp/B08VHZRKBT/ref=sr_1_106?crid=34NU2WDUOI6UY&keywords=statistics&qid=1663453001&sprefix=statisti%2Caps%2C263&sr=8-106'], ['Statistics for Business and Economics', ['by ', 'James McClave', ', ', 'P. George Benson', ', et al.'], '$223.99', '888 pages', '4.3 out of 5 stars', '165 ratings', ['\\n            \\n              68%\\n            \\n          '], ['\\n            \\n              12%\\n            \\n          '], ['\\n            \\n              8%\\n            \\n          '], ['\\n            \\n              4%\\n            \\n          '], ['\\n            \\n              9%\\n            \\n          '], '8.8 x 1.75 x 11.2 inches', '3.53 ounces', 'English', 'Pearson; 13th edition (January 8, 2017)', ' 978-0134506593', '/Statistics-Business-Economics-James-McClave/dp/0134506596/ref=sr_1_107?crid=34NU2WDUOI6UY&keywords=statistics&qid=1663453001&sprefix=statisti%2Caps%2C263&sr=8-107'], ['The Little SAS® Book: A Primer, Sixth Edition', ['by ', 'Lora D. Delwiche', ' and ', 'Susan J. Slaughter'], '$54.10', '364 pages', '4.6 out of 5 stars', '283 ratings', ['\\n            \\n              75%\\n            \\n          '], ['\\n            \\n              16%\\n            \\n          '], ['\\n            \\n              5%\\n            \\n          '], ['\\n            \\n              2%\\n            \\n          '], ['\\n            \\n              2%\\n            \\n          '], '7.5 x 0.82 x 9.25 inches', '1.38 pounds', 'English', 'SAS Institute; 6th edition (October 11, 2019)', ' 978-1642952834', '/Little-SAS-Book-Primer-Sixth/dp/1642952834/ref=sr_1_103?crid=34NU2WDUOI6UY&keywords=statistics&qid=1663453001&sprefix=statisti%2Caps%2C263&sr=8-103'], ['Applied Statistics II: Multivariable and Multivariate Techniques', ['by ', 'Rebecca M. Warner'], '$95.92', '712 pages', '4.3 out of 5 stars', '24 ratings', ['\\n            \\n              78%\\n            \\n          '], ['\\n            \\n              6%\\n            \\n          '], ['\\n            \\n              6%\\n            \\n          '], ['\\n            \\n              10%\\n            \\n          '], [], '8 x 1.61 x 10 inches', '2.45 pounds', 'English', 'SAGE Publications, Inc; 3rd edition (February 14, 2020)', ' 978-1544398723', '/Applied-Statistics-Multivariable-Multivariate-Techniques/dp/1544398727/ref=sr_1_100?crid=34NU2WDUOI6UY&keywords=statistics&qid=1663453001&sprefix=statisti%2Caps%2C263&sr=8-100'], ['Statistics 101: From Data Analysis and Predictive Modeling to Measuring Distribution and Determining Probability, Your Essential Guide to Statistics (Adams 101)', [' '], ' $13.39 ', '240 pages', '4.4 out of 5 stars', '91 ratings', ['\\n            \\n              67%\\n            \\n          '], ['\\n            \\n              16%\\n            \\n          '], ['\\n            \\n              11%\\n            \\n          '], ['\\n            \\n              3%\\n            \\n          '], ['\\n            \\n              4%\\n            \\n          '], '5.25 x 0.8 x 7.13 inches', '13.4 ounces', 'English', 'Adams Media (December 18, 2018)', None, '/Statistics-101-Distribution-Determining-Probability/dp/1507208170/ref=sr_1_102?crid=34NU2WDUOI6UY&keywords=statistics&qid=1663453001&sprefix=statisti%2Caps%2C263&sr=8-102'], ['Probability Quick Study Reference Outline', ['by ', 'Ravi Behara'], ' $6.95 ', '6 pages', '4.6 out of 5 stars', '516 ratings', ['\\n            \\n              76%\\n            \\n          '], ['\\n            \\n              14%\\n            \\n          '], ['\\n            \\n              7%\\n            \\n          '], ['\\n            \\n              2%\\n            \\n          '], ['\\n            \\n              1%\\n            \\n          '], '8.43 x 0.09 x 11.27 inches', '4.5 ounces', 'English', 'BarCharts; Illustrated edition (December 31, 2010)', None, '/Probability-Quick-Study-Reference-Outline/dp/1423215087/ref=sr_1_104?crid=34NU2WDUOI6UY&keywords=statistics&qid=1663453001&sprefix=statisti%2Caps%2C263&sr=8-104'], ['STAT 208 Statistical Thinking: A book for STAT 208 at Virginia Commonwealth University', ['by ', 'Becky Durfee', ' and ', 'W. Scott Street IV'], ' $25.00 ', '230 pages', '4.6 out of 5 stars', '43 ratings', ['\\n            \\n              81%\\n            \\n          '], ['\\n            \\n              12%\\n            \\n          '], ['\\n            \\n              3%\\n            \\n          '], ['\\n            \\n              3%\\n            \\n          '], [], '8.5 x 0.49 x 11 inches', '1.21 pounds', 'English', 'CreateSpace Independent Publishing Platform (April 13, 2017)', None, '/STAT-208-Statistical-Thinking-Commonwealth/dp/1544621205/ref=sr_1_99?crid=34NU2WDUOI6UY&keywords=statistics&qid=1663453001&sprefix=statisti%2Caps%2C263&sr=8-99'], ['A Gentle Introduction to Stata', ['by ', 'Alan C. Acock'], '$69.56', '570 pages', '4.6 out of 5 stars', '74 ratings', ['\\n            \\n              81%\\n            \\n          '], ['\\n            \\n              9%\\n            \\n          '], ['\\n            \\n              5%\\n            \\n          '], ['\\n            \\n              2%\\n            \\n          '], ['\\n            \\n              3%\\n            \\n          '], '7.2 x 1.5 x 9.3 inches', '2.65 pounds', 'English', 'Stata Press; Sixth edition (April 12, 2018)', ' 978-1597182690', '/Gentle-Introduction-Stata-Alan-Acock/dp/1597182699/ref=sr_1_98?crid=34NU2WDUOI6UY&keywords=statistics&qid=1663453001&sprefix=statisti%2Caps%2C263&sr=8-98'], ['Introduction to Statistics', [], None, None, None, None, [], [], [], [], [], None, None, None, None, None, '/Introduction-Statistics-OnlyFundamentals/dp/B07MFMD7NV/ref=sr_1_93?crid=34NU2WDUOI6UY&keywords=statistics&qid=1663453001&sprefix=statisti%2Caps%2C263&sr=8-93']]\n"
     ]
    },
    {
     "name": "stderr",
     "output_type": "stream",
     "text": [
      "2022-09-18 00:17:01 [scrapy.core.engine] DEBUG: Crawled (200) <GET https://www.amazon.com/Statistics-Done-Wrong-Woefully-Complete/dp/1593276206/ref=sr_1_90?crid=34NU2WDUOI6UY&keywords=statistics&qid=1663453001&sprefix=statisti%2Caps%2C263&sr=8-90> (referer: https://www.amazon.com/s?k=statistics&page=2&crid=34NU2WDUOI6UY&qid=1663448390&sprefix=statisti%2Caps%2C263&ref=sr_pg_2)\n"
     ]
    },
    {
     "name": "stdout",
     "output_type": "stream",
     "text": [
      "61\n",
      "['\\n            \\n              70%\\n            \\n          '] 4.5 out of 5 stars 5.75 x 0.25 x 8.75 inches\n"
     ]
    },
    {
     "name": "stderr",
     "output_type": "stream",
     "text": [
      "2022-09-18 00:17:01 [scrapy.core.engine] DEBUG: Crawled (200) <GET https://www.amazon.com/Learning-SAS-Example-Programmers-Second/dp/1635266599/ref=sr_1_92?crid=34NU2WDUOI6UY&keywords=statistics&qid=1663453001&sprefix=statisti%2Caps%2C263&sr=8-92> (referer: https://www.amazon.com/s?k=statistics&page=2&crid=34NU2WDUOI6UY&qid=1663448390&sprefix=statisti%2Caps%2C263&ref=sr_pg_2)\n",
      "2022-09-18 00:17:02 [scrapy.core.engine] DEBUG: Crawled (200) <GET https://www.amazon.com/Statistics-II-Dummies-Deborah-Rumsey/dp/1119827396/ref=sr_1_89?crid=34NU2WDUOI6UY&keywords=statistics&qid=1663453001&sprefix=statisti%2Caps%2C263&sr=8-89> (referer: https://www.amazon.com/s?k=statistics&page=2&crid=34NU2WDUOI6UY&qid=1663448390&sprefix=statisti%2Caps%2C263&ref=sr_pg_2)\n"
     ]
    },
    {
     "name": "stdout",
     "output_type": "stream",
     "text": [
      "62\n",
      "['\\n            \\n              90%\\n            \\n          '] 4.9 out of 5 stars 6.14 x 1.25 x 9.21 inches\n",
      "63\n",
      "['\\n            \\n              54%\\n            \\n          '] 4.1 out of 5 stars 5.5 x 0.51 x 8.5 inches\n",
      "64\n",
      "['\\n            \\n              82%\\n            \\n          '] 4.4 out of 5 stars 8.25 x 0.95 x 11 inches\n",
      "65\n",
      "['\\n            \\n              71%\\n            \\n          '] 4.5 out of 5 stars 1.1 x 5.4 x 8.4 inches\n",
      "66\n",
      "['\\n            \\n              68%\\n            \\n          '] 4.5 out of 5 stars 6.06 x 0.47 x 9.06 inches\n",
      "67\n",
      "['\\n            \\n              73%\\n            \\n          '] 4.6 out of 5 stars 7.5 x 1.21 x 9.25 inches\n"
     ]
    },
    {
     "name": "stderr",
     "output_type": "stream",
     "text": [
      "2022-09-18 00:17:03 [scrapy.downloadermiddlewares.redirect] DEBUG: Redirecting (302) to <GET https://www.amazon.com/Bee-Keeping-North-Carolina-Suggestions/dp/1473334330/ref=sr_1_84_sspa?crid=34NU2WDUOI6UY&keywords=statistics&qid=1663453001&sprefix=statisti%2Caps%2C263&sr=8-84-spons&psc=1&spLa=ZW5jcnlwdGVkUXVhbGlmaWVyPUEyM045OTFRSUU1S0k3JmVuY3J5cHRlZElkPUEwNTkyNDU4M0gxS1U5SDA3QkxOWSZlbmNyeXB0ZWRBZElkPUEwODY0Mzg0TDJKSllGVFlCUTFYJndpZGdldE5hbWU9c3BfbXRmJmFjdGlvbj1jbGlja1JlZGlyZWN0JmRvTm90TG9nQ2xpY2s9dHJ1ZQ==> from <GET https://www.amazon.com/gp/slredirect/picassoRedirect.html/ref=pa_sp_mtf_aps_sr_pg2_1?ie=UTF8&adId=A0864384L2JJYFTYBQ1X&url=%2FBee-Keeping-North-Carolina-Suggestions%2Fdp%2F1473334330%2Fref%3Dsr_1_84_sspa%3Fcrid%3D34NU2WDUOI6UY%26keywords%3Dstatistics%26qid%3D1663453001%26sprefix%3Dstatisti%252Caps%252C263%26sr%3D8-84-spons%26psc%3D1&qualifier=1663453001&id=2863583416353045&widgetName=sp_mtf>\n",
      "2022-09-18 00:17:03 [scrapy.downloadermiddlewares.redirect] DEBUG: Redirecting (302) to <GET https://www.amazon.com/Strategy-Journal-management-consulting-McKinsey/dp/173403274X/ref=sr_1_83_sspa?crid=34NU2WDUOI6UY&keywords=statistics&qid=1663453001&sprefix=statisti%2Caps%2C263&sr=8-83-spons&psc=1&spLa=ZW5jcnlwdGVkUXVhbGlmaWVyPUEyM045OTFRSUU1S0k3JmVuY3J5cHRlZElkPUEwNTkyNDU4M0gxS1U5SDA3QkxOWSZlbmNyeXB0ZWRBZElkPUEwODEyNzk2WjlKUlgzWTlRSlBIJndpZGdldE5hbWU9c3BfbXRmJmFjdGlvbj1jbGlja1JlZGlyZWN0JmRvTm90TG9nQ2xpY2s9dHJ1ZQ==> from <GET https://www.amazon.com/gp/slredirect/picassoRedirect.html/ref=pa_sp_mtf_aps_sr_pg2_1?ie=UTF8&adId=A0812796Z9JRX3Y9QJPH&url=%2FStrategy-Journal-management-consulting-McKinsey%2Fdp%2F173403274X%2Fref%3Dsr_1_83_sspa%3Fcrid%3D34NU2WDUOI6UY%26keywords%3Dstatistics%26qid%3D1663453001%26sprefix%3Dstatisti%252Caps%252C263%26sr%3D8-83-spons%26psc%3D1&qualifier=1663453001&id=2863583416353045&widgetName=sp_mtf>\n"
     ]
    },
    {
     "name": "stdout",
     "output_type": "stream",
     "text": [
      "68\n",
      "['\\n            \\n              49%\\n            \\n          '] 4.4 out of 5 stars 7.32 x 1.02 x 9.21 inches\n"
     ]
    },
    {
     "name": "stderr",
     "output_type": "stream",
     "text": [
      "2022-09-18 00:17:03 [scrapy.core.engine] DEBUG: Crawled (200) <GET https://www.amazon.com/Foundations-Statistics-Leonard-J-Savage/dp/0486623491/ref=sr_1_91?crid=34NU2WDUOI6UY&keywords=statistics&qid=1663453001&sprefix=statisti%2Caps%2C263&sr=8-91> (referer: https://www.amazon.com/s?k=statistics&page=2&crid=34NU2WDUOI6UY&qid=1663448390&sprefix=statisti%2Caps%2C263&ref=sr_pg_2)\n",
      "2022-09-18 00:17:04 [scrapy.core.engine] DEBUG: Crawled (200) <GET https://www.amazon.com/Stats-Modeling-World-David-Bock/dp/0134685768/ref=sr_1_88?crid=34NU2WDUOI6UY&keywords=statistics&qid=1663453001&sprefix=statisti%2Caps%2C263&sr=8-88> (referer: https://www.amazon.com/s?k=statistics&page=2&crid=34NU2WDUOI6UY&qid=1663448390&sprefix=statisti%2Caps%2C263&ref=sr_pg_2)\n"
     ]
    },
    {
     "name": "stdout",
     "output_type": "stream",
     "text": [
      "69\n",
      "['\\n            \\n              71%\\n            \\n          '] 4.5 out of 5 stars 5.43 x 0.73 x 8.49 inches\n"
     ]
    },
    {
     "name": "stderr",
     "output_type": "stream",
     "text": [
      "2022-09-18 00:17:04 [scrapy.core.engine] DEBUG: Crawled (200) <GET https://www.amazon.com/First-Course-Probability-10th/dp/0134753119/ref=sr_1_85?crid=34NU2WDUOI6UY&keywords=statistics&qid=1663453001&sprefix=statisti%2Caps%2C263&sr=8-85> (referer: https://www.amazon.com/s?k=statistics&page=2&crid=34NU2WDUOI6UY&qid=1663448390&sprefix=statisti%2Caps%2C263&ref=sr_pg_2)\n",
      "2022-09-18 00:17:04 [scrapy.core.engine] DEBUG: Crawled (200) <GET https://www.amazon.com/STATISTICS-ENGINEERS-SCIENTISTS-INDUSTRIAL-ENGINEERING/dp/1260547884/ref=sr_1_87?crid=34NU2WDUOI6UY&keywords=statistics&qid=1663453001&sprefix=statisti%2Caps%2C263&sr=8-87> (referer: https://www.amazon.com/s?k=statistics&page=2&crid=34NU2WDUOI6UY&qid=1663448390&sprefix=statisti%2Caps%2C263&ref=sr_pg_2)\n"
     ]
    },
    {
     "name": "stdout",
     "output_type": "stream",
     "text": [
      "70\n",
      "['\\n            \\n              59%\\n            \\n          '] 4.1 out of 5 stars 8.6 x 1.4 x 11 inches\n"
     ]
    },
    {
     "name": "stderr",
     "output_type": "stream",
     "text": [
      "2022-09-18 00:17:05 [scrapy.core.engine] DEBUG: Crawled (200) <GET https://www.amazon.com/Introduction-Probability-Cambridge-Mathematical-Textbooks/dp/1108415857/ref=sr_1_86?crid=34NU2WDUOI6UY&keywords=statistics&qid=1663453001&sprefix=statisti%2Caps%2C263&sr=8-86> (referer: https://www.amazon.com/s?k=statistics&page=2&crid=34NU2WDUOI6UY&qid=1663448390&sprefix=statisti%2Caps%2C263&ref=sr_pg_2)\n"
     ]
    },
    {
     "name": "stdout",
     "output_type": "stream",
     "text": [
      "71\n",
      "['\\n            \\n              65%\\n            \\n          '] 4.2 out of 5 stars 8.1 x 0.9 x 10.1 inches\n",
      "72\n",
      "['\\n            \\n              61%\\n            \\n          '] 4.2 out of 5 stars 9.09 x 1.26 x 7.36 inches\n"
     ]
    },
    {
     "name": "stderr",
     "output_type": "stream",
     "text": [
      "2022-09-18 00:17:05 [scrapy.core.engine] DEBUG: Crawled (200) <GET https://www.amazon.com/Causal-Inference-Mixtape-Scott-Cunningham/dp/0300251688/ref=sr_1_144?crid=34NU2WDUOI6UY&keywords=statistics&qid=1663453014&sprefix=statisti%2Caps%2C263&sr=8-144> (referer: https://www.amazon.com/s?k=statistics&page=3&crid=34NU2WDUOI6UY&qid=1663448390&sprefix=statisti%2Caps%2C263&ref=sr_pg_3)\n"
     ]
    },
    {
     "name": "stdout",
     "output_type": "stream",
     "text": [
      "73\n",
      "['\\n            \\n              68%\\n            \\n          '] 4.3 out of 5 stars 7.2 x 1 x 10.1 inches\n",
      "74\n",
      "['\\n            \\n              82%\\n            \\n          '] 4.6 out of 5 stars 5.5 x 1.17 x 8.5 inches\n"
     ]
    },
    {
     "name": "stderr",
     "output_type": "stream",
     "text": [
      "2022-09-18 00:17:06 [scrapy.core.engine] DEBUG: Crawled (200) <GET https://www.amazon.com/Introduction-Mathematical-Statistics-Its-Applications/dp/0134114213/ref=sr_1_155?crid=34NU2WDUOI6UY&keywords=statistics&qid=1663453014&sprefix=statisti%2Caps%2C263&sr=8-155> (referer: https://www.amazon.com/s?k=statistics&page=3&crid=34NU2WDUOI6UY&qid=1663448390&sprefix=statisti%2Caps%2C263&ref=sr_pg_3)\n",
      "2022-09-18 00:17:06 [scrapy.core.engine] DEBUG: Crawled (200) <GET https://www.amazon.com/Statistics-Crash-Course-Advanced-Placement/dp/0738612588/ref=sr_1_156?crid=34NU2WDUOI6UY&keywords=statistics&qid=1663453014&sprefix=statisti%2Caps%2C263&sr=8-156> (referer: https://www.amazon.com/s?k=statistics&page=3&crid=34NU2WDUOI6UY&qid=1663448390&sprefix=statisti%2Caps%2C263&ref=sr_pg_3)\n"
     ]
    },
    {
     "name": "stdout",
     "output_type": "stream",
     "text": [
      "75\n",
      "['\\n            \\n              71%\\n            \\n          '] 4.4 out of 5 stars 8.1 x 1.2 x 10.1 inches\n",
      "76\n",
      "['\\n            \\n              78%\\n            \\n          '] 4.8 out of 5 stars 6 x 0.9 x 8.9 inches\n"
     ]
    },
    {
     "name": "stderr",
     "output_type": "stream",
     "text": [
      "2022-09-18 00:17:09 [scrapy.core.engine] DEBUG: Crawled (200) <GET https://www.amazon.com/Introduction-Practice-Statistics-David-Moore/dp/1319244440/ref=sr_1_153?crid=34NU2WDUOI6UY&keywords=statistics&qid=1663453014&sprefix=statisti%2Caps%2C263&sr=8-153> (referer: https://www.amazon.com/s?k=statistics&page=3&crid=34NU2WDUOI6UY&qid=1663448390&sprefix=statisti%2Caps%2C263&ref=sr_pg_3)\n",
      "2022-09-18 00:17:09 [scrapy.core.engine] DEBUG: Crawled (200) <GET https://www.amazon.com/Data-Mining-Business-Analytics-Applications/dp/1118729277/ref=sr_1_151?crid=34NU2WDUOI6UY&keywords=statistics&qid=1663453014&sprefix=statisti%2Caps%2C263&sr=8-151> (referer: https://www.amazon.com/s?k=statistics&page=3&crid=34NU2WDUOI6UY&qid=1663448390&sprefix=statisti%2Caps%2C263&ref=sr_pg_3)\n",
      "2022-09-18 00:17:09 [scrapy.core.engine] DEBUG: Crawled (200) <GET https://www.amazon.com/Cartoon-Introduction-Statistics-Grady-Klein/dp/0809033593/ref=sr_1_152?crid=34NU2WDUOI6UY&keywords=statistics&qid=1663453014&sprefix=statisti%2Caps%2C263&sr=8-152> (referer: https://www.amazon.com/s?k=statistics&page=3&crid=34NU2WDUOI6UY&qid=1663448390&sprefix=statisti%2Caps%2C263&ref=sr_pg_3)\n",
      "2022-09-18 00:17:09 [scrapy.core.engine] DEBUG: Crawled (200) <GET https://www.amazon.com/Accompany-Salkind-Frey%E2%80%B2s-Statistics-People/dp/154439599X/ref=sr_1_154?crid=34NU2WDUOI6UY&keywords=statistics&qid=1663453014&sprefix=statisti%2Caps%2C263&sr=8-154> (referer: https://www.amazon.com/s?k=statistics&page=3&crid=34NU2WDUOI6UY&qid=1663448390&sprefix=statisti%2Caps%2C263&ref=sr_pg_3)\n",
      "2022-09-18 00:17:09 [scrapy.core.engine] DEBUG: Crawled (200) <GET https://www.amazon.com/Elementary-Statistics-Step-Approach/dp/1259755339/ref=sr_1_150?crid=34NU2WDUOI6UY&keywords=statistics&qid=1663453014&sprefix=statisti%2Caps%2C263&sr=8-150> (referer: https://www.amazon.com/s?k=statistics&page=3&crid=34NU2WDUOI6UY&qid=1663448390&sprefix=statisti%2Caps%2C263&ref=sr_pg_3)\n",
      "2022-09-18 00:17:09 [scrapy.core.engine] DEBUG: Crawled (200) <GET https://www.amazon.com/Practice-Perfect-Statistics-Sandra-McCune/dp/0071638180/ref=sr_1_149?crid=34NU2WDUOI6UY&keywords=statistics&qid=1663453014&sprefix=statisti%2Caps%2C263&sr=8-149> (referer: https://www.amazon.com/s?k=statistics&page=3&crid=34NU2WDUOI6UY&qid=1663448390&sprefix=statisti%2Caps%2C263&ref=sr_pg_3)\n"
     ]
    },
    {
     "name": "stdout",
     "output_type": "stream",
     "text": [
      "start_new_page\n"
     ]
    },
    {
     "name": "stderr",
     "output_type": "stream",
     "text": [
      "2022-09-18 00:17:09 [scrapy.core.engine] DEBUG: Crawled (200) <GET https://www.amazon.com/Strategy-Journal-management-consulting-McKinsey/dp/173403274X/ref=sr_1_83_sspa?crid=34NU2WDUOI6UY&keywords=statistics&qid=1663453001&sprefix=statisti%2Caps%2C263&sr=8-83-spons&psc=1&spLa=ZW5jcnlwdGVkUXVhbGlmaWVyPUEyM045OTFRSUU1S0k3JmVuY3J5cHRlZElkPUEwNTkyNDU4M0gxS1U5SDA3QkxOWSZlbmNyeXB0ZWRBZElkPUEwODEyNzk2WjlKUlgzWTlRSlBIJndpZGdldE5hbWU9c3BfbXRmJmFjdGlvbj1jbGlja1JlZGlyZWN0JmRvTm90TG9nQ2xpY2s9dHJ1ZQ==> (referer: https://www.amazon.com/s?k=statistics&page=2&crid=34NU2WDUOI6UY&qid=1663448390&sprefix=statisti%2Caps%2C263&ref=sr_pg_2)\n",
      "2022-09-18 00:17:09 [scrapy.core.engine] DEBUG: Crawled (200) <GET https://www.amazon.com/Bee-Keeping-North-Carolina-Suggestions/dp/1473334330/ref=sr_1_84_sspa?crid=34NU2WDUOI6UY&keywords=statistics&qid=1663453001&sprefix=statisti%2Caps%2C263&sr=8-84-spons&psc=1&spLa=ZW5jcnlwdGVkUXVhbGlmaWVyPUEyM045OTFRSUU1S0k3JmVuY3J5cHRlZElkPUEwNTkyNDU4M0gxS1U5SDA3QkxOWSZlbmNyeXB0ZWRBZElkPUEwODY0Mzg0TDJKSllGVFlCUTFYJndpZGdldE5hbWU9c3BfbXRmJmFjdGlvbj1jbGlja1JlZGlyZWN0JmRvTm90TG9nQ2xpY2s9dHJ1ZQ==> (referer: https://www.amazon.com/s?k=statistics&page=2&crid=34NU2WDUOI6UY&qid=1663448390&sprefix=statisti%2Caps%2C263&ref=sr_pg_2)\n"
     ]
    },
    {
     "name": "stdout",
     "output_type": "stream",
     "text": [
      "77\n",
      "['\\n            \\n              52%\\n            \\n          '] 3.6 out of 5 stars 1 x 1 x 1 inches\n",
      "78\n",
      "['\\n            \\n              57%\\n            \\n          '] 4.0 out of 5 stars 7.3 x 1.4 x 10.1 inches\n",
      "79\n",
      "['\\n            \\n              74%\\n            \\n          '] 4.6 out of 5 stars 7.06 x 0.71 x 10.05 inches\n",
      "80\n",
      "['\\n            \\n              75%\\n            \\n          '] 4.3 out of 5 stars 8.5 x 0.37 x 11 inches\n",
      "81\n",
      "['\\n            \\n              73%\\n            \\n          '] 4.5 out of 5 stars 8.9 x 1.3 x 11.2 inches\n",
      "82\n",
      "['\\n            \\n              79%\\n            \\n          '] 4.6 out of 5 stars 8.5 x 0.4 x 10.9 inches\n",
      "83\n",
      "['\\n            \\n              60%\\n            \\n          '] 4.2 out of 5 stars 8.27 x 0.5 x 11.69 inches\n",
      "84\n",
      "['\\n            \\n              100%\\n            \\n          '] 4.0 out of 5 stars 5.5 x 0.1 x 8.5 inches\n"
     ]
    },
    {
     "name": "stderr",
     "output_type": "stream",
     "text": [
      "2022-09-18 00:17:12 [scrapy.core.engine] DEBUG: Crawled (200) <GET https://www.amazon.com/Data-Detective-Rules-Sense-Statistics-ebook/dp/B089425N6D/ref=sr_1_143?crid=34NU2WDUOI6UY&keywords=statistics&qid=1663453014&sprefix=statisti%2Caps%2C263&sr=8-143> (referer: https://www.amazon.com/s?k=statistics&page=3&crid=34NU2WDUOI6UY&qid=1663448390&sprefix=statisti%2Caps%2C263&ref=sr_pg_3)\n",
      "2022-09-18 00:17:12 [scrapy.core.engine] DEBUG: Crawled (200) <GET https://www.amazon.com/Mathletics-Gamblers-Managers-Mathematics-Sports/dp/0691177627/ref=sr_1_148?crid=34NU2WDUOI6UY&keywords=statistics&qid=1663453014&sprefix=statisti%2Caps%2C263&sr=8-148> (referer: https://www.amazon.com/s?k=statistics&page=3&crid=34NU2WDUOI6UY&qid=1663448390&sprefix=statisti%2Caps%2C263&ref=sr_pg_3)\n",
      "2022-09-18 00:17:12 [scrapy.core.engine] DEBUG: Crawled (200) <GET https://www.amazon.com/Statistics-Plain-English-Timothy-Urdan/dp/0367342839/ref=sr_1_147?crid=34NU2WDUOI6UY&keywords=statistics&qid=1663453014&sprefix=statisti%2Caps%2C263&sr=8-147> (referer: https://www.amazon.com/s?k=statistics&page=3&crid=34NU2WDUOI6UY&qid=1663448390&sprefix=statisti%2Caps%2C263&ref=sr_pg_3)\n"
     ]
    },
    {
     "name": "stdout",
     "output_type": "stream",
     "text": [
      "85\n",
      "['\\n            \\n              63%\\n            \\n          '] 4.5 out of 5 stars None\n"
     ]
    },
    {
     "name": "stderr",
     "output_type": "stream",
     "text": [
      "2022-09-18 00:17:12 [scrapy.core.engine] DEBUG: Crawled (200) <GET https://www.amazon.com/Schaums-Outline-Statistics-Sixth-Outlines/dp/1260011461/ref=sr_1_141?crid=34NU2WDUOI6UY&keywords=statistics&qid=1663453014&sprefix=statisti%2Caps%2C263&sr=8-141> (referer: https://www.amazon.com/s?k=statistics&page=3&crid=34NU2WDUOI6UY&qid=1663448390&sprefix=statisti%2Caps%2C263&ref=sr_pg_3)\n"
     ]
    },
    {
     "name": "stdout",
     "output_type": "stream",
     "text": [
      "86\n",
      "['\\n            \\n              81%\\n            \\n          '] 4.8 out of 5 stars 6.25 x 1 x 9.25 inches\n",
      "87\n",
      "['\\n            \\n              27%\\n            \\n          '] 4.0 out of 5 stars 8.2 x 0.7 x 10.9 inches\n"
     ]
    },
    {
     "name": "stderr",
     "output_type": "stream",
     "text": [
      "2022-09-18 00:17:12 [scrapy.core.engine] DEBUG: Crawled (200) <GET https://www.amazon.com/Biostatistics-Biological-Health-Sciences-2nd/dp/0134039017/ref=sr_1_146?crid=34NU2WDUOI6UY&keywords=statistics&qid=1663453014&sprefix=statisti%2Caps%2C263&sr=8-146> (referer: https://www.amazon.com/s?k=statistics&page=3&crid=34NU2WDUOI6UY&qid=1663448390&sprefix=statisti%2Caps%2C263&ref=sr_pg_3)\n",
      "2022-09-18 00:17:13 [scrapy.core.engine] DEBUG: Crawled (200) <GET https://www.amazon.com/Statistics-Health-Data-Science-Approach/dp/3030598888/ref=sr_1_145?crid=34NU2WDUOI6UY&keywords=statistics&qid=1663453014&sprefix=statisti%2Caps%2C263&sr=8-145> (referer: https://www.amazon.com/s?k=statistics&page=3&crid=34NU2WDUOI6UY&qid=1663448390&sprefix=statisti%2Caps%2C263&ref=sr_pg_3)\n",
      "2022-09-18 00:17:13 [scrapy.core.engine] DEBUG: Crawled (200) <GET https://www.amazon.com/Introduction-Formal-Languages-Automata/dp/1284077241/ref=sr_1_140?crid=34NU2WDUOI6UY&keywords=statistics&qid=1663453014&sprefix=statisti%2Caps%2C263&sr=8-140> (referer: https://www.amazon.com/s?k=statistics&page=3&crid=34NU2WDUOI6UY&qid=1663448390&sprefix=statisti%2Caps%2C263&ref=sr_pg_3)\n"
     ]
    },
    {
     "name": "stdout",
     "output_type": "stream",
     "text": [
      "88\n",
      "['\\n            \\n              61%\\n            \\n          '] 4.2 out of 5 stars 8.2 x 1.3 x 10.9 inches\n",
      "89\n",
      "['\\n            \\n              77%\\n            \\n          '] 4.5 out of 5 stars 8.8 x 1.5 x 11.2 inches\n",
      "90\n",
      "['\\n            \\n              86%\\n            \\n          '] 4.6 out of 5 stars 6.14 x 0.63 x 9.21 inches\n"
     ]
    },
    {
     "name": "stderr",
     "output_type": "stream",
     "text": [
      "2022-09-18 00:17:13 [scrapy.core.engine] DEBUG: Crawled (200) <GET https://www.amazon.com/Drunkards-Walk-Randomness-Rules-Lives/dp/0307275175/ref=sr_1_142?crid=34NU2WDUOI6UY&keywords=statistics&qid=1663453014&sprefix=statisti%2Caps%2C263&sr=8-142> (referer: https://www.amazon.com/s?k=statistics&page=3&crid=34NU2WDUOI6UY&qid=1663448390&sprefix=statisti%2Caps%2C263&ref=sr_pg_3)\n",
      "2022-09-18 00:17:14 [scrapy.core.engine] DEBUG: Crawled (200) <GET https://www.amazon.com/s?k=statistics&page=4&crid=34NU2WDUOI6UY&qid=1663448390&sprefix=statisti%2Caps%2C263&ref=sr_pg_4> (referer: https://www.amazon.com/Statistics-Crash-Course-Advanced-Placement/dp/0738612588/ref=sr_1_156?crid=34NU2WDUOI6UY&keywords=statistics&qid=1663453014&sprefix=statisti%2Caps%2C263&sr=8-156)\n"
     ]
    },
    {
     "name": "stdout",
     "output_type": "stream",
     "text": [
      "91\n",
      "['\\n            \\n              67%\\n            \\n          '] 4.4 out of 5 stars 7.5 x 1.2 x 9.3 inches\n",
      "92\n",
      "['\\n            \\n              68%\\n            \\n          '] 4.5 out of 5 stars 5.16 x 0.79 x 8 inches\n",
      "4\n",
      "Data Analytics for Absolute Beginners: A Deconstructed Guide to Data Literacy: (Introduction to Data, Data Visualization, Business Intelligence & ... Science, Python & Statistics for Beginners)\n",
      "Nonlinear Contingency Analysis\n",
      "Relativity, decays and electromagnetic fields (concepts of physics)\n",
      "Fast Math Success Workbook Grade 6-7: 6th to 7th Grade Math Workbook of Pre Algebra, Percent, Geometry, Inequalities, and Statistics With Answers\n",
      "Statistics for Business: Decision Making and Analysis\n",
      "AP® Statistics Crash Course, Book + Online: Get a Higher Score in Less Time (Advanced Placement (AP) Crash Course)\n",
      "Learn Game Theory: A Primer to Strategic Thinking and Advanced Decision-Making. (Game Theory Series Book 1)\n",
      "Statistics Companion Workbook\n",
      "John E. Freund's Mathematical Statistics with Applications (Classic Version) (Pearson Modern Classics for Advanced Statistics Series)\n",
      "Statistics and Probability with Applications (High School)\n",
      "Understandable Statistics: Concepts and Methods\n",
      "Statistics\n",
      "Mark Twain - Statistics & Probability, Grades 5 - 12\n",
      "Probability & Statistics for Engineers & Scientists\n",
      "An Introduction to Statistical Learning: with Applications in R (Springer Texts in Statistics)\n",
      "Data Analytics Fundamentals | Data Analytics (BigData) Online Course | AWS Training & Certification\n",
      "Physics (Quick Study Academic) (Qucik Study Academic)\n",
      "Learn Calculus Quickly: The Complete Guide To Easily Master Calculus in 100 Solved Equations!\n",
      "100 Questions About Rocks & Minerals (Sparkling Statistics & Fascinating Facts)\n",
      "Statistician Gifts: Blank Lined Notebook Journal Diary Paper, a Funny and Appreciation Gift for Statistician to Write in (Volume 8)\n",
      "Meaning from Data: Statistics Made Clear\n",
      "Essential Calculus Skills Practice Workbook with Full Solutions\n",
      "Second Course in Statistics, A: Regression Analysis\n",
      "Statistics: Unlocking the Power of Data\n",
      "Statistics for the Trading Floor: Data Science for Investing (For The Trading Floor Series)\n",
      "Statistics for the Life Sciences\n",
      "A Guide to R for Social and Behavioral Science Statistics\n",
      "Research Methods, Statistics, and Applications\n",
      "The End of Average: How We Succeed in a World That Values Sameness\n",
      "Making Sense of Medical Statistics\n",
      "Statistics and Data Visualization Using R: The Art and Practice of Data Analysis\n",
      "Statistics: Informed Decisions Using Data (5th Edition)-Stand alone\n",
      "Never Argue With A Statistician. They Can Be Mean.: Funny Sarcastic Saying Blank Lined Journal for Coworkers, Accountants, Statisticians, Actuaries, Bookkeepers\n",
      "7th Grade Fast Math Success Workbook: Math Worksheets Grade 7: Pre Algebra, Percent, Statistics, Geometry and More with Answers\n",
      "Essential Habits: Actions, strategies and directives to take your life to the next level\n",
      "Numerical Methods with VBA Programming\n",
      "Statistics for Nursing: A Practical Approach: A Practical Approach\n",
      "Barron's AP Statistics, 9th Edition\n",
      "Introductory Statistics: Exploring the World Through Data\n",
      "Elementary Statistics: A Quickstudy Laminated Reference Guide\n",
      "The Practice of Statistics\n",
      "The Humongous Book of Statistics Problems (Humongous Books)\n",
      "The Elements of Statistical Learning: Data Mining, Inference, and Prediction, Second Edition (Springer Series in Statistics)\n",
      "The Statistical Sleuth: A Course in Methods of Data Analysis\n",
      "Statistical Rethinking: A Bayesian Course with Examples in R and STAN, Second Edition, Paperback\n",
      "Intro Stats\n",
      "Student's Solutions Guide for Introduction to Probability, Statistics, and Random Processes\n",
      "Stats: Data and Models\n",
      "Business Statistics (Quick Study Business)\n",
      "ISE Operations and Supply Chain Management: The Core\n",
      "Natural Language Processing in Action: Understanding, analyzing, and generating text with Python\n",
      "Applied Regression Analysis and Other Multivariable Methods\n",
      "Essentials of Social Statistics for a Diverse Society\n",
      "Statistics for Healthcare Professionals: An Introduction\n",
      "Survey Methodology\n",
      "Loose Leaf for Business Statistics in Practice\n",
      "Asymptotic Statistics (Cambridge Series in Statistical and Probabilistic Mathematics, Series Number 3)\n",
      "Essential Statistics for the Behavioral Sciences\n",
      "An Adventure in Statistics: The Reality Enigma\n"
     ]
    },
    {
     "name": "stderr",
     "output_type": "stream",
     "text": [
      "2022-09-18 00:17:14 [scrapy.downloadermiddlewares.redirect] DEBUG: Redirecting (302) to <GET https://www.amazon.com/Summer-Math-Success-Beginning-Statistics/dp/B0B1DSFJSM/ref=sr_1_132_sspa?crid=34NU2WDUOI6UY&keywords=statistics&qid=1663453014&sprefix=statisti%2Caps%2C263&sr=8-132-spons&psc=1&spLa=ZW5jcnlwdGVkUXVhbGlmaWVyPUEzM1lHOFUxOEE5UDJDJmVuY3J5cHRlZElkPUEwNTA4MjA1MVpJRVkwTVI4RlJRUCZlbmNyeXB0ZWRBZElkPUEwMTA3NTU0MVE2QjdCNDVSTlFZWCZ3aWRnZXROYW1lPXNwX210ZiZhY3Rpb249Y2xpY2tSZWRpcmVjdCZkb05vdExvZ0NsaWNrPXRydWU=> from <GET https://www.amazon.com/gp/slredirect/picassoRedirect.html/ref=pa_sp_mtf_aps_sr_pg3_1?ie=UTF8&adId=A01075541Q6B7B45RNQYX&url=%2FSummer-Math-Success-Beginning-Statistics%2Fdp%2FB0B1DSFJSM%2Fref%3Dsr_1_132_sspa%3Fcrid%3D34NU2WDUOI6UY%26keywords%3Dstatistics%26qid%3D1663453014%26sprefix%3Dstatisti%252Caps%252C263%26sr%3D8-132-spons%26psc%3D1&qualifier=1663453014&id=8525798811265763&widgetName=sp_mtf>\n",
      "2022-09-18 00:17:14 [scrapy.core.engine] DEBUG: Crawled (200) <GET https://www.amazon.com/Doing-Quantitative-Research-Social-Sciences/dp/0761953531/ref=sr_1_139?crid=34NU2WDUOI6UY&keywords=statistics&qid=1663453014&sprefix=statisti%2Caps%2C263&sr=8-139> (referer: https://www.amazon.com/s?k=statistics&page=3&crid=34NU2WDUOI6UY&qid=1663448390&sprefix=statisti%2Caps%2C263&ref=sr_pg_3)\n",
      "2022-09-18 00:17:15 [scrapy.downloadermiddlewares.redirect] DEBUG: Redirecting (302) to <GET https://www.amazon.com/Work-Probability-Statistics-Grades-Math/dp/1576909689/ref=sr_1_130_sspa?crid=34NU2WDUOI6UY&keywords=statistics&qid=1663453014&sprefix=statisti%2Caps%2C263&sr=8-130-spons&psc=1&spLa=ZW5jcnlwdGVkUXVhbGlmaWVyPUEzM1lHOFUxOEE5UDJDJmVuY3J5cHRlZElkPUEwNTA4MjA1MVpJRVkwTVI4RlJRUCZlbmNyeXB0ZWRBZElkPUEwNzg1NjU1MUlQT0I3Q1JGNTExVCZ3aWRnZXROYW1lPXNwX210ZiZhY3Rpb249Y2xpY2tSZWRpcmVjdCZkb05vdExvZ0NsaWNrPXRydWU=> from <GET https://www.amazon.com/gp/slredirect/picassoRedirect.html/ref=pa_sp_mtf_aps_sr_pg3_1?ie=UTF8&adId=A07856551IPOB7CRF511T&url=%2FWork-Probability-Statistics-Grades-Math%2Fdp%2F1576909689%2Fref%3Dsr_1_130_sspa%3Fcrid%3D34NU2WDUOI6UY%26keywords%3Dstatistics%26qid%3D1663453014%26sprefix%3Dstatisti%252Caps%252C263%26sr%3D8-130-spons%26psc%3D1&qualifier=1663453014&id=8525798811265763&widgetName=sp_mtf>\n",
      "2022-09-18 00:17:15 [scrapy.core.engine] DEBUG: Crawled (200) <GET https://www.amazon.com/Probability-Statistics-Morris-H-DeGroot-ebook/dp/B005H8DAXY/ref=sr_1_138?crid=34NU2WDUOI6UY&keywords=statistics&qid=1663453014&sprefix=statisti%2Caps%2C263&sr=8-138> (referer: https://www.amazon.com/s?k=statistics&page=3&crid=34NU2WDUOI6UY&qid=1663448390&sprefix=statisti%2Caps%2C263&ref=sr_pg_3)\n",
      "2022-09-18 00:17:15 [scrapy.downloadermiddlewares.redirect] DEBUG: Redirecting (302) to <GET https://www.amazon.com/Statistician-Coloring-Book-Versatile-Humorous/dp/B098HRYWWF/ref=sr_1_131_sspa?crid=34NU2WDUOI6UY&keywords=statistics&qid=1663453014&sprefix=statisti%2Caps%2C263&sr=8-131-spons&psc=1&spLa=ZW5jcnlwdGVkUXVhbGlmaWVyPUEzM1lHOFUxOEE5UDJDJmVuY3J5cHRlZElkPUEwNTA4MjA1MVpJRVkwTVI4RlJRUCZlbmNyeXB0ZWRBZElkPUEwNjY1ODc3M1AxQVRXWUdKN1NHWCZ3aWRnZXROYW1lPXNwX210ZiZhY3Rpb249Y2xpY2tSZWRpcmVjdCZkb05vdExvZ0NsaWNrPXRydWU=> from <GET https://www.amazon.com/gp/slredirect/picassoRedirect.html/ref=pa_sp_mtf_aps_sr_pg3_1?ie=UTF8&adId=A06658773P1ATWYGJ7SGX&url=%2FStatistician-Coloring-Book-Versatile-Humorous%2Fdp%2FB098HRYWWF%2Fref%3Dsr_1_131_sspa%3Fcrid%3D34NU2WDUOI6UY%26keywords%3Dstatistics%26qid%3D1663453014%26sprefix%3Dstatisti%252Caps%252C263%26sr%3D8-131-spons%26psc%3D1&qualifier=1663453014&id=8525798811265763&widgetName=sp_mtf>\n",
      "2022-09-18 00:17:15 [scrapy.core.engine] DEBUG: Crawled (200) <GET https://www.amazon.com/Basic-Business-Statistics-14th-Whats/dp/0134684842/ref=sr_1_136?crid=34NU2WDUOI6UY&keywords=statistics&qid=1663453014&sprefix=statisti%2Caps%2C263&sr=8-136> (referer: https://www.amazon.com/s?k=statistics&page=3&crid=34NU2WDUOI6UY&qid=1663448390&sprefix=statisti%2Caps%2C263&ref=sr_pg_3)\n"
     ]
    },
    {
     "name": "stdout",
     "output_type": "stream",
     "text": [
      "93\n",
      "['\\n            \\n              63%\\n            \\n          '] 4.4 out of 5 stars 7.5 x 1.73 x 9.75 inches\n"
     ]
    },
    {
     "name": "stderr",
     "output_type": "stream",
     "text": [
      "2022-09-18 00:17:15 [scrapy.core.engine] DEBUG: Crawled (200) <GET https://www.amazon.com/Essentials-Statistics-Behavioral-Sciences-MindTap/dp/0357365291/ref=sr_1_137?crid=34NU2WDUOI6UY&keywords=statistics&qid=1663453014&sprefix=statisti%2Caps%2C263&sr=8-137> (referer: https://www.amazon.com/s?k=statistics&page=3&crid=34NU2WDUOI6UY&qid=1663448390&sprefix=statisti%2Caps%2C263&ref=sr_pg_3)\n",
      "2022-09-18 00:17:15 [scrapy.core.engine] DEBUG: Crawled (200) <GET https://www.amazon.com/Statistics-Informed-Decisions-Using-2-downloads-ebook/dp/B084BXX9R8/ref=sr_1_134?crid=34NU2WDUOI6UY&keywords=statistics&qid=1663453014&sprefix=statisti%2Caps%2C263&sr=8-134> (referer: https://www.amazon.com/s?k=statistics&page=3&crid=34NU2WDUOI6UY&qid=1663448390&sprefix=statisti%2Caps%2C263&ref=sr_pg_3)\n",
      "2022-09-18 00:17:15 [scrapy.downloadermiddlewares.redirect] DEBUG: Redirecting (302) to <GET https://www.amazon.com/Statistics-Crash-Course-Advanced-Placement/dp/0738612588/ref=sr_1_129_sspa?crid=34NU2WDUOI6UY&keywords=statistics&qid=1663453014&sprefix=statisti%2Caps%2C263&sr=8-129-spons&psc=1&spLa=ZW5jcnlwdGVkUXVhbGlmaWVyPUEzM1lHOFUxOEE5UDJDJmVuY3J5cHRlZElkPUEwNTA4MjA1MVpJRVkwTVI4RlJRUCZlbmNyeXB0ZWRBZElkPUEwODY4NzA1MkNOWUY5QTY0WjVHNyZ3aWRnZXROYW1lPXNwX210ZiZhY3Rpb249Y2xpY2tSZWRpcmVjdCZkb05vdExvZ0NsaWNrPXRydWU=> from <GET https://www.amazon.com/gp/slredirect/picassoRedirect.html/ref=pa_sp_mtf_aps_sr_pg3_1?ie=UTF8&adId=A08687052CNYF9A64Z5G7&url=%2FStatistics-Crash-Course-Advanced-Placement%2Fdp%2F0738612588%2Fref%3Dsr_1_129_sspa%3Fcrid%3D34NU2WDUOI6UY%26keywords%3Dstatistics%26qid%3D1663453014%26sprefix%3Dstatisti%252Caps%252C263%26sr%3D8-129-spons%26psc%3D1&qualifier=1663453014&id=8525798811265763&widgetName=sp_mtf>\n"
     ]
    },
    {
     "name": "stdout",
     "output_type": "stream",
     "text": [
      "94\n",
      "['\\n            \\n              69%\\n            \\n          '] 4.3 out of 5 stars None\n",
      "95\n",
      "['\\n            \\n              73%\\n            \\n          '] 4.4 out of 5 stars 8.6 x 1.3 x 11 inches\n",
      "96\n",
      "['\\n            \\n              77%\\n            \\n          '] 4.4 out of 5 stars 8 x 1 x 9.75 inches\n"
     ]
    },
    {
     "name": "stderr",
     "output_type": "stream",
     "text": [
      "2022-09-18 00:17:16 [scrapy.core.engine] DEBUG: Crawled (200) <GET https://www.amazon.com/Statistics-Business-Economics-Global-Newbold/dp/1292315032/ref=sr_1_135?crid=34NU2WDUOI6UY&keywords=statistics&qid=1663453014&sprefix=statisti%2Caps%2C263&sr=8-135> (referer: https://www.amazon.com/s?k=statistics&page=3&crid=34NU2WDUOI6UY&qid=1663448390&sprefix=statisti%2Caps%2C263&ref=sr_pg_3)\n"
     ]
    },
    {
     "name": "stdout",
     "output_type": "stream",
     "text": [
      "97\n",
      "['\\n            \\n              100%\\n            \\n          '] 5.0 out of 5 stars None\n"
     ]
    },
    {
     "name": "stderr",
     "output_type": "stream",
     "text": [
      "2022-09-18 00:17:16 [scrapy.core.engine] DEBUG: Crawled (200) <GET https://www.amazon.com/Statistics-Translated-Second-Step-Step/dp/1462545408/ref=sr_1_133?crid=34NU2WDUOI6UY&keywords=statistics&qid=1663453014&sprefix=statisti%2Caps%2C263&sr=8-133> (referer: https://www.amazon.com/s?k=statistics&page=3&crid=34NU2WDUOI6UY&qid=1663448390&sprefix=statisti%2Caps%2C263&ref=sr_pg_3)\n"
     ]
    },
    {
     "name": "stdout",
     "output_type": "stream",
     "text": [
      "98\n",
      "['\\n            \\n              80%\\n            \\n          '] 4.6 out of 5 stars 8.46 x 1.18 x 11.02 inches\n",
      "99\n",
      "['\\n            \\n              78%\\n            \\n          '] 4.8 out of 5 stars 7 x 0.75 x 10 inches\n"
     ]
    },
    {
     "name": "stderr",
     "output_type": "stream",
     "text": [
      "2022-09-18 00:17:17 [scrapy.core.engine] DEBUG: Crawled (200) <GET https://www.amazon.com/Statistics-Behavioral-Sciences-Gregory-Privitera/dp/1506386253/ref=sr_1_128?crid=34NU2WDUOI6UY&keywords=statistics&qid=1663453014&sprefix=statisti%2Caps%2C263&sr=8-128> (referer: https://www.amazon.com/s?k=statistics&page=3&crid=34NU2WDUOI6UY&qid=1663448390&sprefix=statisti%2Caps%2C263&ref=sr_pg_3)\n",
      "2022-09-18 00:17:17 [scrapy.core.engine] DEBUG: Crawled (200) <GET https://www.amazon.com/Modern-Mathematical-Statistics-Applications-Springer/dp/3030551555/ref=sr_1_127?crid=34NU2WDUOI6UY&keywords=statistics&qid=1663453014&sprefix=statisti%2Caps%2C263&sr=8-127> (referer: https://www.amazon.com/s?k=statistics&page=3&crid=34NU2WDUOI6UY&qid=1663448390&sprefix=statisti%2Caps%2C263&ref=sr_pg_3)\n",
      "2022-09-18 00:17:17 [scrapy.core.engine] DEBUG: Crawled (200) <GET https://www.amazon.com/Practical-Statistics-Educators-Ruth-Ravid/dp/1475846827/ref=sr_1_126?crid=34NU2WDUOI6UY&keywords=statistics&qid=1663453014&sprefix=statisti%2Caps%2C263&sr=8-126> (referer: https://www.amazon.com/s?k=statistics&page=3&crid=34NU2WDUOI6UY&qid=1663448390&sprefix=statisti%2Caps%2C263&ref=sr_pg_3)\n",
      "2022-09-18 00:17:17 [scrapy.core.engine] DEBUG: Crawled (200) <GET https://www.amazon.com/Statistics-Made-Simple-School-Leaders/dp/1475863217/ref=sr_1_125?crid=34NU2WDUOI6UY&keywords=statistics&qid=1663453014&sprefix=statisti%2Caps%2C263&sr=8-125> (referer: https://www.amazon.com/s?k=statistics&page=3&crid=34NU2WDUOI6UY&qid=1663448390&sprefix=statisti%2Caps%2C263&ref=sr_pg_3)\n"
     ]
    },
    {
     "name": "stdout",
     "output_type": "stream",
     "text": [
      "100\n",
      "['\\n            \\n              73%\\n            \\n          '] 4.4 out of 5 stars 8.2 x 1.3 x 10.2 inches\n"
     ]
    },
    {
     "name": "stderr",
     "output_type": "stream",
     "text": [
      "2022-09-18 00:17:18 [scrapy.core.engine] DEBUG: Crawled (200) <GET https://www.amazon.com/Summer-Math-Success-Beginning-Statistics/dp/B0B1DSFJSM/ref=sr_1_132_sspa?crid=34NU2WDUOI6UY&keywords=statistics&qid=1663453014&sprefix=statisti%2Caps%2C263&sr=8-132-spons&psc=1&spLa=ZW5jcnlwdGVkUXVhbGlmaWVyPUEzM1lHOFUxOEE5UDJDJmVuY3J5cHRlZElkPUEwNTA4MjA1MVpJRVkwTVI4RlJRUCZlbmNyeXB0ZWRBZElkPUEwMTA3NTU0MVE2QjdCNDVSTlFZWCZ3aWRnZXROYW1lPXNwX210ZiZhY3Rpb249Y2xpY2tSZWRpcmVjdCZkb05vdExvZ0NsaWNrPXRydWU=> (referer: https://www.amazon.com/s?k=statistics&page=3&crid=34NU2WDUOI6UY&qid=1663448390&sprefix=statisti%2Caps%2C263&ref=sr_pg_3)\n",
      "2022-09-18 00:17:18 [scrapy.core.engine] DEBUG: Crawled (200) <GET https://www.amazon.com/Using-SPSS-Windows-Macintosh-7th/dp/0205958605/ref=sr_1_124?crid=34NU2WDUOI6UY&keywords=statistics&qid=1663453014&sprefix=statisti%2Caps%2C263&sr=8-124> (referer: https://www.amazon.com/s?k=statistics&page=3&crid=34NU2WDUOI6UY&qid=1663448390&sprefix=statisti%2Caps%2C263&ref=sr_pg_3)\n"
     ]
    },
    {
     "name": "stdout",
     "output_type": "stream",
     "text": [
      "101\n",
      "['\\n            \\n              100%\\n            \\n          '] 4.0 out of 5 stars 7.8 x 1.6 x 10.2 inches\n",
      "102\n",
      "['\\n            \\n              77%\\n            \\n          '] 4.6 out of 5 stars 7 x 0.7 x 10 inches\n"
     ]
    },
    {
     "name": "stderr",
     "output_type": "stream",
     "text": [
      "2022-09-18 00:17:18 [scrapy.core.engine] DEBUG: Crawled (200) <GET https://www.amazon.com/Adventure-Statistics-Reality-Enigma/dp/1529797136/ref=sr_1_203?crid=34NU2WDUOI6UY&keywords=statistics&qid=1663453032&sprefix=statisti%2Caps%2C263&sr=8-203> (referer: https://www.amazon.com/s?k=statistics&page=4&crid=34NU2WDUOI6UY&qid=1663448390&sprefix=statisti%2Caps%2C263&ref=sr_pg_4)\n",
      "2022-09-18 00:17:18 [scrapy.core.engine] DEBUG: Crawled (200) <GET https://www.amazon.com/Work-Probability-Statistics-Grades-Math/dp/1576909689/ref=sr_1_130_sspa?crid=34NU2WDUOI6UY&keywords=statistics&qid=1663453014&sprefix=statisti%2Caps%2C263&sr=8-130-spons&psc=1&spLa=ZW5jcnlwdGVkUXVhbGlmaWVyPUEzM1lHOFUxOEE5UDJDJmVuY3J5cHRlZElkPUEwNTA4MjA1MVpJRVkwTVI4RlJRUCZlbmNyeXB0ZWRBZElkPUEwNzg1NjU1MUlQT0I3Q1JGNTExVCZ3aWRnZXROYW1lPXNwX210ZiZhY3Rpb249Y2xpY2tSZWRpcmVjdCZkb05vdExvZ0NsaWNrPXRydWU=> (referer: https://www.amazon.com/s?k=statistics&page=3&crid=34NU2WDUOI6UY&qid=1663448390&sprefix=statisti%2Caps%2C263&ref=sr_pg_3)\n"
     ]
    },
    {
     "name": "stdout",
     "output_type": "stream",
     "text": [
      "103\n",
      "['\\n            \\n              100%\\n            \\n          '] 5.0 out of 5 stars 6.04 x 0.41 x 8.64 inches\n",
      "104\n",
      "[] None 8.5 x 0.25 x 11 inches\n",
      "105\n",
      "['\\n            \\n              70%\\n            \\n          '] 4.4 out of 5 stars 8.4 x 0.9 x 10.8 inches\n",
      "106\n",
      "['\\n            \\n              70%\\n            \\n          '] 4.7 out of 5 stars 8 x 1 x 10.75 inches\n",
      "107\n",
      "['\\n            \\n              39%\\n            \\n          '] 3.2 out of 5 stars 8.5 x 0.11 x 11 inches\n"
     ]
    },
    {
     "name": "stderr",
     "output_type": "stream",
     "text": [
      "2022-09-18 00:17:20 [scrapy.core.engine] DEBUG: Crawled (200) <GET https://www.amazon.com/Essential-Statistics-Behavioral-Sciences-Privitera/dp/150638630X/ref=sr_1_202?crid=34NU2WDUOI6UY&keywords=statistics&qid=1663453032&sprefix=statisti%2Caps%2C263&sr=8-202> (referer: https://www.amazon.com/s?k=statistics&page=4&crid=34NU2WDUOI6UY&qid=1663448390&sprefix=statisti%2Caps%2C263&ref=sr_pg_4)\n",
      "2022-09-18 00:17:20 [scrapy.core.engine] DEBUG: Crawled (200) <GET https://www.amazon.com/Statistician-Coloring-Book-Versatile-Humorous/dp/B098HRYWWF/ref=sr_1_131_sspa?crid=34NU2WDUOI6UY&keywords=statistics&qid=1663453014&sprefix=statisti%2Caps%2C263&sr=8-131-spons&psc=1&spLa=ZW5jcnlwdGVkUXVhbGlmaWVyPUEzM1lHOFUxOEE5UDJDJmVuY3J5cHRlZElkPUEwNTA4MjA1MVpJRVkwTVI4RlJRUCZlbmNyeXB0ZWRBZElkPUEwNjY1ODc3M1AxQVRXWUdKN1NHWCZ3aWRnZXROYW1lPXNwX210ZiZhY3Rpb249Y2xpY2tSZWRpcmVjdCZkb05vdExvZ0NsaWNrPXRydWU=> (referer: https://www.amazon.com/s?k=statistics&page=3&crid=34NU2WDUOI6UY&qid=1663448390&sprefix=statisti%2Caps%2C263&ref=sr_pg_3)\n",
      "2022-09-18 00:17:20 [scrapy.core.engine] DEBUG: Crawled (200) <GET https://www.amazon.com/Asymptotic-Statistics-Statistical-Probabilistic-Mathematics/dp/0521784506/ref=sr_1_201?crid=34NU2WDUOI6UY&keywords=statistics&qid=1663453032&sprefix=statisti%2Caps%2C263&sr=8-201> (referer: https://www.amazon.com/s?k=statistics&page=4&crid=34NU2WDUOI6UY&qid=1663448390&sprefix=statisti%2Caps%2C263&ref=sr_pg_4)\n",
      "2022-09-18 00:17:20 [scrapy.core.engine] DEBUG: Crawled (200) <GET https://www.amazon.com/Loose-Leaf-Business-Statistics-Practice/dp/1260299090/ref=sr_1_200?crid=34NU2WDUOI6UY&keywords=statistics&qid=1663453032&sprefix=statisti%2Caps%2C263&sr=8-200> (referer: https://www.amazon.com/s?k=statistics&page=4&crid=34NU2WDUOI6UY&qid=1663448390&sprefix=statisti%2Caps%2C263&ref=sr_pg_4)\n"
     ]
    },
    {
     "name": "stdout",
     "output_type": "stream",
     "text": [
      "108\n",
      "['\\n            \\n              69%\\n            \\n          '] 4.4 out of 5 stars 8 x 1.54 x 10 inches\n",
      "109\n",
      "[] None 8.5 x 0.07 x 11 inches\n",
      "110\n",
      "['\\n            \\n              81%\\n            \\n          '] 4.6 out of 5 stars 7 x 1.04 x 10 inches\n"
     ]
    },
    {
     "name": "stderr",
     "output_type": "stream",
     "text": [
      "2022-09-18 00:17:21 [scrapy.core.engine] DEBUG: Crawled (200) <GET https://www.amazon.com/Statistics-Crash-Course-Advanced-Placement/dp/0738612588/ref=sr_1_129_sspa?crid=34NU2WDUOI6UY&keywords=statistics&qid=1663453014&sprefix=statisti%2Caps%2C263&sr=8-129-spons&psc=1&spLa=ZW5jcnlwdGVkUXVhbGlmaWVyPUEzM1lHOFUxOEE5UDJDJmVuY3J5cHRlZElkPUEwNTA4MjA1MVpJRVkwTVI4RlJRUCZlbmNyeXB0ZWRBZElkPUEwODY4NzA1MkNOWUY5QTY0WjVHNyZ3aWRnZXROYW1lPXNwX210ZiZhY3Rpb249Y2xpY2tSZWRpcmVjdCZkb05vdExvZ0NsaWNrPXRydWU=> (referer: https://www.amazon.com/s?k=statistics&page=3&crid=34NU2WDUOI6UY&qid=1663448390&sprefix=statisti%2Caps%2C263&ref=sr_pg_3)\n",
      "2022-09-18 00:17:21 [scrapy.core.engine] DEBUG: Crawled (200) <GET https://www.amazon.com/Survey-Methodology-Robert-M-Groves/dp/0470465468/ref=sr_1_199?crid=34NU2WDUOI6UY&keywords=statistics&qid=1663453032&sprefix=statisti%2Caps%2C263&sr=8-199> (referer: https://www.amazon.com/s?k=statistics&page=4&crid=34NU2WDUOI6UY&qid=1663448390&sprefix=statisti%2Caps%2C263&ref=sr_pg_4)\n"
     ]
    },
    {
     "name": "stdout",
     "output_type": "stream",
     "text": [
      "111\n",
      "['\\n            \\n              52%\\n            \\n          '] 4.5 out of 5 stars 8.6 x 1.6 x 11.1 inches\n",
      "112\n",
      "['\\n            \\n              78%\\n            \\n          '] 4.8 out of 5 stars 6 x 0.9 x 8.9 inches\n"
     ]
    },
    {
     "name": "stderr",
     "output_type": "stream",
     "text": [
      "2022-09-18 00:17:21 [scrapy.core.engine] DEBUG: Crawled (200) <GET https://www.amazon.com/Statistics-Healthcare-Professionals-Introduction-Scott/dp/1446208931/ref=sr_1_198?crid=34NU2WDUOI6UY&keywords=statistics&qid=1663453032&sprefix=statisti%2Caps%2C263&sr=8-198> (referer: https://www.amazon.com/s?k=statistics&page=4&crid=34NU2WDUOI6UY&qid=1663448390&sprefix=statisti%2Caps%2C263&ref=sr_pg_4)\n",
      "2022-09-18 00:17:21 [scrapy.core.engine] DEBUG: Crawled (200) <GET https://www.amazon.com/Essentials-Social-Statistics-Diverse-Society/dp/1544372507/ref=sr_1_197?crid=34NU2WDUOI6UY&keywords=statistics&qid=1663453032&sprefix=statisti%2Caps%2C263&sr=8-197> (referer: https://www.amazon.com/s?k=statistics&page=4&crid=34NU2WDUOI6UY&qid=1663448390&sprefix=statisti%2Caps%2C263&ref=sr_pg_4)\n"
     ]
    },
    {
     "name": "stdout",
     "output_type": "stream",
     "text": [
      "113\n",
      "['\\n            \\n              67%\\n            \\n          '] 4.3 out of 5 stars 7 x 1.1 x 10 inches\n"
     ]
    },
    {
     "name": "stderr",
     "output_type": "stream",
     "text": [
      "2022-09-18 00:17:22 [scrapy.core.engine] DEBUG: Crawled (200) <GET https://www.amazon.com/Applied-Regression-Analysis-Multivariable-Methods-ebook/dp/B00H7HT6BI/ref=sr_1_196?crid=34NU2WDUOI6UY&keywords=statistics&qid=1663453032&sprefix=statisti%2Caps%2C263&sr=8-196> (referer: https://www.amazon.com/s?k=statistics&page=4&crid=34NU2WDUOI6UY&qid=1663448390&sprefix=statisti%2Caps%2C263&ref=sr_pg_4)\n"
     ]
    },
    {
     "name": "stdout",
     "output_type": "stream",
     "text": [
      "114\n",
      "['\\n            \\n              64%\\n            \\n          '] 4.4 out of 5 stars 6.6 x 0.7 x 9.4 inches\n",
      "115\n",
      "['\\n            \\n              78%\\n            \\n          '] 4.5 out of 5 stars 7.38 x 1.04 x 9.13 inches\n",
      "116\n",
      "['\\n            \\n              68%\\n            \\n          '] 4.5 out of 5 stars None\n"
     ]
    },
    {
     "name": "stderr",
     "output_type": "stream",
     "text": [
      "2022-09-18 00:17:22 [scrapy.core.engine] DEBUG: Crawled (200) <GET https://www.amazon.com/Natural-Language-Processing-Action-Understanding/dp/1617294632/ref=sr_1_195?crid=34NU2WDUOI6UY&keywords=statistics&qid=1663453032&sprefix=statisti%2Caps%2C263&sr=8-195> (referer: https://www.amazon.com/s?k=statistics&page=4&crid=34NU2WDUOI6UY&qid=1663448390&sprefix=statisti%2Caps%2C263&ref=sr_pg_4)\n",
      "2022-09-18 00:17:23 [scrapy.core.engine] DEBUG: Crawled (200) <GET https://www.amazon.com/ISE-OPER-SUPPLY-CHAIN-MGMT/dp/1260547620/ref=sr_1_194?crid=34NU2WDUOI6UY&keywords=statistics&qid=1663453032&sprefix=statisti%2Caps%2C263&sr=8-194> (referer: https://www.amazon.com/s?k=statistics&page=4&crid=34NU2WDUOI6UY&qid=1663448390&sprefix=statisti%2Caps%2C263&ref=sr_pg_4)\n"
     ]
    },
    {
     "name": "stdout",
     "output_type": "stream",
     "text": [
      "117\n",
      "['\\n            \\n              67%\\n            \\n          '] 4.3 out of 5 stars 7.38 x 1.2 x 9.25 inches\n"
     ]
    },
    {
     "name": "stderr",
     "output_type": "stream",
     "text": [
      "2022-09-18 00:17:23 [scrapy.core.engine] DEBUG: Crawled (200) <GET https://www.amazon.com/Business-Statistics-Quick-Study/dp/1423220293/ref=sr_1_193?crid=34NU2WDUOI6UY&keywords=statistics&qid=1663453032&sprefix=statisti%2Caps%2C263&sr=8-193> (referer: https://www.amazon.com/s?k=statistics&page=4&crid=34NU2WDUOI6UY&qid=1663448390&sprefix=statisti%2Caps%2C263&ref=sr_pg_4)\n",
      "2022-09-18 00:17:23 [scrapy.core.engine] DEBUG: Crawled (200) <GET https://www.amazon.com/Stats/dp/013516382X/ref=sr_1_192?crid=34NU2WDUOI6UY&keywords=statistics&qid=1663453032&sprefix=statisti%2Caps%2C263&sr=8-192> (referer: https://www.amazon.com/s?k=statistics&page=4&crid=34NU2WDUOI6UY&qid=1663448390&sprefix=statisti%2Caps%2C263&ref=sr_pg_4)\n"
     ]
    },
    {
     "name": "stdout",
     "output_type": "stream",
     "text": [
      "118\n",
      "['\\n            \\n              70%\\n            \\n          '] 4.5 out of 5 stars 7.9 x 0.7 x 9.9 inches\n",
      "119\n",
      "['\\n            \\n              77%\\n            \\n          '] 4.6 out of 5 stars 8.5 x 11 x 0.06 inches\n",
      "120\n",
      "['\\n            \\n              74%\\n            \\n          '] 4.3 out of 5 stars 8.7 x 1.6 x 11 inches\n"
     ]
    },
    {
     "name": "stderr",
     "output_type": "stream",
     "text": [
      "2022-09-18 00:17:24 [scrapy.core.engine] DEBUG: Crawled (200) <GET https://www.amazon.com/Statistical-Rethinking-Bayesian-Examples-Paperback/dp/B0B9KNKBXD/ref=sr_1_189?crid=34NU2WDUOI6UY&keywords=statistics&qid=1663453032&sprefix=statisti%2Caps%2C263&sr=8-189> (referer: https://www.amazon.com/s?k=statistics&page=4&crid=34NU2WDUOI6UY&qid=1663448390&sprefix=statisti%2Caps%2C263&ref=sr_pg_4)\n",
      "2022-09-18 00:17:24 [scrapy.core.engine] DEBUG: Crawled (200) <GET https://www.amazon.com/Solutions-Introduction-Probability-Statistics-Processes/dp/0990637212/ref=sr_1_191?crid=34NU2WDUOI6UY&keywords=statistics&qid=1663453032&sprefix=statisti%2Caps%2C263&sr=8-191> (referer: https://www.amazon.com/s?k=statistics&page=4&crid=34NU2WDUOI6UY&qid=1663448390&sprefix=statisti%2Caps%2C263&ref=sr_pg_4)\n",
      "2022-09-18 00:17:24 [scrapy.core.engine] DEBUG: Crawled (200) <GET https://www.amazon.com/Statistical-Sleuth-Course-Methods-Analysis/dp/1133490670/ref=sr_1_188?crid=34NU2WDUOI6UY&keywords=statistics&qid=1663453032&sprefix=statisti%2Caps%2C263&sr=8-188> (referer: https://www.amazon.com/s?k=statistics&page=4&crid=34NU2WDUOI6UY&qid=1663448390&sprefix=statisti%2Caps%2C263&ref=sr_pg_4)\n",
      "2022-09-18 00:17:24 [scrapy.extensions.logstats] INFO: Crawled 127 pages (at 127 pages/min), scraped 0 items (at 0 items/min)\n",
      "2022-09-18 00:17:24 [scrapy.core.engine] DEBUG: Crawled (200) <GET https://www.amazon.com/Intro-Stats-5th-Richard-Veaux/dp/0134210220/ref=sr_1_190?crid=34NU2WDUOI6UY&keywords=statistics&qid=1663453032&sprefix=statisti%2Caps%2C263&sr=8-190> (referer: https://www.amazon.com/s?k=statistics&page=4&crid=34NU2WDUOI6UY&qid=1663448390&sprefix=statisti%2Caps%2C263&ref=sr_pg_4)\n"
     ]
    },
    {
     "name": "stdout",
     "output_type": "stream",
     "text": [
      "121\n",
      "[] None 7.5 x 1.36 x 9.25 inches\n"
     ]
    },
    {
     "name": "stderr",
     "output_type": "stream",
     "text": [
      "2022-09-18 00:17:25 [scrapy.core.engine] DEBUG: Crawled (200) <GET https://www.amazon.com/Elements-Statistical-Learning-Prediction-Statistics/dp/0387848576/ref=sr_1_187?crid=34NU2WDUOI6UY&keywords=statistics&qid=1663453032&sprefix=statisti%2Caps%2C263&sr=8-187> (referer: https://www.amazon.com/s?k=statistics&page=4&crid=34NU2WDUOI6UY&qid=1663448390&sprefix=statisti%2Caps%2C263&ref=sr_pg_4)\n"
     ]
    },
    {
     "name": "stdout",
     "output_type": "stream",
     "text": [
      "122\n",
      "['\\n            \\n              80%\\n            \\n          '] 4.7 out of 5 stars 7.44 x 0.5 x 9.69 inches\n",
      "123\n",
      "['\\n            \\n              55%\\n            \\n          '] 4.0 out of 5 stars 7.25 x 1.5 x 9.25 inches\n",
      "124\n",
      "['\\n            \\n              61%\\n            \\n          '] 4.1 out of 5 stars 1.3 x 8.7 x 10.9 inches\n"
     ]
    },
    {
     "name": "stderr",
     "output_type": "stream",
     "text": [
      "2022-09-18 00:17:25 [scrapy.downloadermiddlewares.redirect] DEBUG: Redirecting (302) to <GET https://www.amazon.com/Essential-Habits-Actions-strategies-directives/dp/B087366HMR/ref=sr_1_179_sspa?crid=34NU2WDUOI6UY&keywords=statistics&qid=1663453032&sprefix=statisti%2Caps%2C263&sr=8-179-spons&psc=1&spLa=ZW5jcnlwdGVkUXVhbGlmaWVyPUEzUzA0R0FNRThEOTlNJmVuY3J5cHRlZElkPUEwODQxMjcxMzJDVVdEQ1ZTMFEyMCZlbmNyeXB0ZWRBZElkPUEwOTg3ODEwQTNTT1kxQ0o3WUE5JndpZGdldE5hbWU9c3BfbXRmJmFjdGlvbj1jbGlja1JlZGlyZWN0JmRvTm90TG9nQ2xpY2s9dHJ1ZQ==> from <GET https://www.amazon.com/gp/slredirect/picassoRedirect.html/ref=pa_sp_mtf_aps_sr_pg4_1?ie=UTF8&adId=A0987810A3SOY1CJ7YA9&url=%2FEssential-Habits-Actions-strategies-directives%2Fdp%2FB087366HMR%2Fref%3Dsr_1_179_sspa%3Fcrid%3D34NU2WDUOI6UY%26keywords%3Dstatistics%26qid%3D1663453032%26sprefix%3Dstatisti%252Caps%252C263%26sr%3D8-179-spons%26psc%3D1&qualifier=1663453032&id=1851230073343748&widgetName=sp_mtf>\n",
      "2022-09-18 00:17:25 [scrapy.core.engine] DEBUG: Crawled (200) <GET https://www.amazon.com/Humongous-Book-Statistics-Problems-Books/dp/1592578659/ref=sr_1_186?crid=34NU2WDUOI6UY&keywords=statistics&qid=1663453032&sprefix=statisti%2Caps%2C263&sr=8-186> (referer: https://www.amazon.com/s?k=statistics&page=4&crid=34NU2WDUOI6UY&qid=1663448390&sprefix=statisti%2Caps%2C263&ref=sr_pg_4)\n",
      "2022-09-18 00:17:25 [scrapy.core.engine] DEBUG: Crawled (200) <GET https://www.amazon.com/Elementary-Statistics-Quickstudy-Laminated-Reference/dp/1423244184/ref=sr_1_184?crid=34NU2WDUOI6UY&keywords=statistics&qid=1663453032&sprefix=statisti%2Caps%2C263&sr=8-184> (referer: https://www.amazon.com/s?k=statistics&page=4&crid=34NU2WDUOI6UY&qid=1663448390&sprefix=statisti%2Caps%2C263&ref=sr_pg_4)\n"
     ]
    },
    {
     "name": "stdout",
     "output_type": "stream",
     "text": [
      "125\n",
      "['\\n            \\n              82%\\n            \\n          '] 4.6 out of 5 stars 9.3 x 6 x 1.4 inches\n"
     ]
    },
    {
     "name": "stderr",
     "output_type": "stream",
     "text": [
      "2022-09-18 00:17:26 [scrapy.downloadermiddlewares.redirect] DEBUG: Redirecting (302) to <GET https://www.amazon.com/Grade-Fast-Math-Success-Workbook/dp/B0B5PVT4NS/ref=sr_1_178_sspa?crid=34NU2WDUOI6UY&keywords=statistics&qid=1663453032&sprefix=statisti%2Caps%2C263&sr=8-178-spons&psc=1&spLa=ZW5jcnlwdGVkUXVhbGlmaWVyPUEzUzA0R0FNRThEOTlNJmVuY3J5cHRlZElkPUEwODQxMjcxMzJDVVdEQ1ZTMFEyMCZlbmNyeXB0ZWRBZElkPUEwMjYxMTQ2MUdYQlc4NFVLMlI1JndpZGdldE5hbWU9c3BfbXRmJmFjdGlvbj1jbGlja1JlZGlyZWN0JmRvTm90TG9nQ2xpY2s9dHJ1ZQ==> from <GET https://www.amazon.com/gp/slredirect/picassoRedirect.html/ref=pa_sp_mtf_aps_sr_pg4_1?ie=UTF8&adId=A02611461GXBW84UK2R5&url=%2FGrade-Fast-Math-Success-Workbook%2Fdp%2FB0B5PVT4NS%2Fref%3Dsr_1_178_sspa%3Fcrid%3D34NU2WDUOI6UY%26keywords%3Dstatistics%26qid%3D1663453032%26sprefix%3Dstatisti%252Caps%252C263%26sr%3D8-178-spons%26psc%3D1&qualifier=1663453032&id=1851230073343748&widgetName=sp_mtf>\n",
      "2022-09-18 00:17:26 [scrapy.downloadermiddlewares.redirect] DEBUG: Redirecting (302) to <GET https://www.amazon.com/Never-Argue-Statistician-They-Mean/dp/B09M55W2KF/ref=sr_1_177_sspa?crid=34NU2WDUOI6UY&keywords=statistics&qid=1663453032&sprefix=statisti%2Caps%2C263&sr=8-177-spons&psc=1&spLa=ZW5jcnlwdGVkUXVhbGlmaWVyPUEzUzA0R0FNRThEOTlNJmVuY3J5cHRlZElkPUEwODQxMjcxMzJDVVdEQ1ZTMFEyMCZlbmNyeXB0ZWRBZElkPUEwMTY3ODE2UTg3VFRPUUlHOFJMJndpZGdldE5hbWU9c3BfbXRmJmFjdGlvbj1jbGlja1JlZGlyZWN0JmRvTm90TG9nQ2xpY2s9dHJ1ZQ==> from <GET https://www.amazon.com/gp/slredirect/picassoRedirect.html/ref=pa_sp_mtf_aps_sr_pg4_1?ie=UTF8&adId=A0167816Q87TTOQIG8RL&url=%2FNever-Argue-Statistician-They-Mean%2Fdp%2FB09M55W2KF%2Fref%3Dsr_1_177_sspa%3Fcrid%3D34NU2WDUOI6UY%26keywords%3Dstatistics%26qid%3D1663453032%26sprefix%3Dstatisti%252Caps%252C263%26sr%3D8-177-spons%26psc%3D1&qualifier=1663453032&id=1851230073343748&widgetName=sp_mtf>\n"
     ]
    },
    {
     "name": "stdout",
     "output_type": "stream",
     "text": [
      "126\n",
      "['\\n            \\n              67%\\n            \\n          '] 4.4 out of 5 stars 8.5 x 1.13 x 10.88 inches\n",
      "127\n",
      "['\\n            \\n              23%\\n            \\n          '] 4.0 out of 5 stars 8 x 0.3 x 10.1 inches\n"
     ]
    },
    {
     "name": "stderr",
     "output_type": "stream",
     "text": [
      "2022-09-18 00:17:26 [scrapy.core.engine] DEBUG: Crawled (200) <GET https://www.amazon.com/Practice-Statistics-Daren-S-Starnes/dp/142924559X/ref=sr_1_185?crid=34NU2WDUOI6UY&keywords=statistics&qid=1663453032&sprefix=statisti%2Caps%2C263&sr=8-185> (referer: https://www.amazon.com/s?k=statistics&page=4&crid=34NU2WDUOI6UY&qid=1663448390&sprefix=statisti%2Caps%2C263&ref=sr_pg_4)\n",
      "2022-09-18 00:17:26 [scrapy.core.engine] DEBUG: Crawled (200) <GET https://www.amazon.com/Numerical-Methods-Programming-James-Hiestand-ebook/dp/B005T4SAY0/ref=sr_1_180?crid=34NU2WDUOI6UY&keywords=statistics&qid=1663453032&sprefix=statisti%2Caps%2C263&sr=8-180> (referer: https://www.amazon.com/s?k=statistics&page=4&crid=34NU2WDUOI6UY&qid=1663448390&sprefix=statisti%2Caps%2C263&ref=sr_pg_4)\n",
      "2022-09-18 00:17:26 [scrapy.core.engine] DEBUG: Crawled (200) <GET https://www.amazon.com/Introductory-Statistics/dp/013518892X/ref=sr_1_183?crid=34NU2WDUOI6UY&keywords=statistics&qid=1663453032&sprefix=statisti%2Caps%2C263&sr=8-183> (referer: https://www.amazon.com/s?k=statistics&page=4&crid=34NU2WDUOI6UY&qid=1663448390&sprefix=statisti%2Caps%2C263&ref=sr_pg_4)\n"
     ]
    },
    {
     "name": "stdout",
     "output_type": "stream",
     "text": [
      "128\n",
      "['\\n            \\n              77%\\n            \\n          '] 4.6 out of 5 stars 8.68 x 1.54 x 10.93 inches\n",
      "129\n",
      "['\\n            \\n              35%\\n            \\n          '] 3.3 out of 5 stars None\n"
     ]
    },
    {
     "name": "stderr",
     "output_type": "stream",
     "text": [
      "2022-09-18 00:17:27 [scrapy.core.engine] DEBUG: Crawled (200) <GET https://www.amazon.com/Statistics-Nursing-Practical-Elizabeth-Heavey/dp/1284142019/ref=sr_1_181?crid=34NU2WDUOI6UY&keywords=statistics&qid=1663453032&sprefix=statisti%2Caps%2C263&sr=8-181> (referer: https://www.amazon.com/s?k=statistics&page=4&crid=34NU2WDUOI6UY&qid=1663448390&sprefix=statisti%2Caps%2C263&ref=sr_pg_4)\n"
     ]
    },
    {
     "name": "stdout",
     "output_type": "stream",
     "text": [
      "130\n",
      "['\\n            \\n              70%\\n            \\n          '] 4.4 out of 5 stars 8.85 x 1.3 x 11.2 inches\n"
     ]
    },
    {
     "name": "stderr",
     "output_type": "stream",
     "text": [
      "2022-09-18 00:17:27 [scrapy.core.engine] DEBUG: Crawled (200) <GET https://www.amazon.com/Barrons-Statistics-Martin-Sternstein-Ph-D/dp/1438009046/ref=sr_1_182?crid=34NU2WDUOI6UY&keywords=statistics&qid=1663453032&sprefix=statisti%2Caps%2C263&sr=8-182> (referer: https://www.amazon.com/s?k=statistics&page=4&crid=34NU2WDUOI6UY&qid=1663448390&sprefix=statisti%2Caps%2C263&ref=sr_pg_4)\n"
     ]
    },
    {
     "name": "stdout",
     "output_type": "stream",
     "text": [
      "131\n",
      "['\\n            \\n              71%\\n            \\n          '] 4.4 out of 5 stars 7 x 0.9 x 8.9 inches\n",
      "132\n",
      "['\\n            \\n              76%\\n            \\n          '] 4.6 out of 5 stars 8.38 x 1.1 x 10.88 inches\n"
     ]
    },
    {
     "name": "stderr",
     "output_type": "stream",
     "text": [
      "2022-09-18 00:17:28 [scrapy.core.engine] DEBUG: Crawled (200) <GET https://www.amazon.com/Making-Sense-Medical-Statistics-Visual/dp/1108978150/ref=sr_1_174?crid=34NU2WDUOI6UY&keywords=statistics&qid=1663453032&sprefix=statisti%2Caps%2C263&sr=8-174> (referer: https://www.amazon.com/s?k=statistics&page=4&crid=34NU2WDUOI6UY&qid=1663448390&sprefix=statisti%2Caps%2C263&ref=sr_pg_4)\n",
      "2022-09-18 00:17:28 [scrapy.core.engine] DEBUG: Crawled (200) <GET https://www.amazon.com/Statistics-Data-Visualization-Using-Practice/dp/1544333862/ref=sr_1_175?crid=34NU2WDUOI6UY&keywords=statistics&qid=1663453032&sprefix=statisti%2Caps%2C263&sr=8-175> (referer: https://www.amazon.com/s?k=statistics&page=4&crid=34NU2WDUOI6UY&qid=1663448390&sprefix=statisti%2Caps%2C263&ref=sr_pg_4)\n",
      "2022-09-18 00:17:29 [scrapy.core.engine] DEBUG: Crawled (200) <GET https://www.amazon.com/Research-Methods-Statistics-Applications-Kathrynn/dp/1506350453/ref=sr_1_172?crid=34NU2WDUOI6UY&keywords=statistics&qid=1663453032&sprefix=statisti%2Caps%2C263&sr=8-172> (referer: https://www.amazon.com/s?k=statistics&page=4&crid=34NU2WDUOI6UY&qid=1663448390&sprefix=statisti%2Caps%2C263&ref=sr_pg_4)\n"
     ]
    },
    {
     "name": "stdout",
     "output_type": "stream",
     "text": [
      "133\n",
      "['\\n            \\n              73%\\n            \\n          '] 4.5 out of 5 stars 6.14 x 0.47 x 9.21 inches\n"
     ]
    },
    {
     "name": "stderr",
     "output_type": "stream",
     "text": [
      "2022-09-18 00:17:29 [scrapy.core.engine] DEBUG: Crawled (200) <GET https://www.amazon.com/The-End-of-Average-Todd-Rose-audiobook/dp/B00YFOFYT4/ref=sr_1_173?crid=34NU2WDUOI6UY&keywords=statistics&qid=1663453032&sprefix=statisti%2Caps%2C263&sr=8-173> (referer: https://www.amazon.com/s?k=statistics&page=4&crid=34NU2WDUOI6UY&qid=1663448390&sprefix=statisti%2Caps%2C263&ref=sr_pg_4)\n",
      "2022-09-18 00:17:29 [scrapy.core.engine] DEBUG: Crawled (200) <GET https://www.amazon.com/Statistics-Informed-Decisions-Using-Data/dp/0134133536/ref=sr_1_176?crid=34NU2WDUOI6UY&keywords=statistics&qid=1663453032&sprefix=statisti%2Caps%2C263&sr=8-176> (referer: https://www.amazon.com/s?k=statistics&page=4&crid=34NU2WDUOI6UY&qid=1663448390&sprefix=statisti%2Caps%2C263&ref=sr_pg_4)\n"
     ]
    },
    {
     "name": "stdout",
     "output_type": "stream",
     "text": [
      "134\n",
      "['\\n            \\n              50%\\n            \\n          '] 3.0 out of 5 stars 7.9 x 1 x 9.9 inches\n",
      "135\n",
      "['\\n            \\n              75%\\n            \\n          '] 4.5 out of 5 stars 7.38 x 1.52 x 9.13 inches\n"
     ]
    },
    {
     "name": "stderr",
     "output_type": "stream",
     "text": [
      "2022-09-18 00:17:29 [scrapy.core.engine] DEBUG: Crawled (200) <GET https://www.amazon.com/Guide-Social-Behavioral-Science-Statistics/dp/1544344023/ref=sr_1_171?crid=34NU2WDUOI6UY&keywords=statistics&qid=1663453032&sprefix=statisti%2Caps%2C263&sr=8-171> (referer: https://www.amazon.com/s?k=statistics&page=4&crid=34NU2WDUOI6UY&qid=1663448390&sprefix=statisti%2Caps%2C263&ref=sr_pg_4)\n"
     ]
    },
    {
     "name": "stdout",
     "output_type": "stream",
     "text": [
      "136\n",
      "['\\n            \\n              77%\\n            \\n          '] 4.7 out of 5 stars None\n"
     ]
    },
    {
     "name": "stderr",
     "output_type": "stream",
     "text": [
      "2022-09-18 00:17:30 [scrapy.core.engine] DEBUG: Crawled (200) <GET https://www.amazon.com/Essential-Habits-Actions-strategies-directives/dp/B087366HMR/ref=sr_1_179_sspa?crid=34NU2WDUOI6UY&keywords=statistics&qid=1663453032&sprefix=statisti%2Caps%2C263&sr=8-179-spons&psc=1&spLa=ZW5jcnlwdGVkUXVhbGlmaWVyPUEzUzA0R0FNRThEOTlNJmVuY3J5cHRlZElkPUEwODQxMjcxMzJDVVdEQ1ZTMFEyMCZlbmNyeXB0ZWRBZElkPUEwOTg3ODEwQTNTT1kxQ0o3WUE5JndpZGdldE5hbWU9c3BfbXRmJmFjdGlvbj1jbGlja1JlZGlyZWN0JmRvTm90TG9nQ2xpY2s9dHJ1ZQ==> (referer: https://www.amazon.com/s?k=statistics&page=4&crid=34NU2WDUOI6UY&qid=1663448390&sprefix=statisti%2Caps%2C263&ref=sr_pg_4)\n",
      "2022-09-18 00:17:30 [scrapy.core.engine] DEBUG: Crawled (200) <GET https://www.amazon.com/Statistics-Life-Sciences-Myra-Samuels/dp/0321989589/ref=sr_1_170?crid=34NU2WDUOI6UY&keywords=statistics&qid=1663453032&sprefix=statisti%2Caps%2C263&sr=8-170> (referer: https://www.amazon.com/s?k=statistics&page=4&crid=34NU2WDUOI6UY&qid=1663448390&sprefix=statisti%2Caps%2C263&ref=sr_pg_4)\n"
     ]
    },
    {
     "name": "stdout",
     "output_type": "stream",
     "text": [
      "137\n",
      "['\\n            \\n              69%\\n            \\n          '] 4.3 out of 5 stars 8.8 x 1.5 x 11 inches\n",
      "138\n",
      "['\\n            \\n              74%\\n            \\n          '] 4.6 out of 5 stars 7.38 x 0.69 x 9.13 inches\n",
      "139\n",
      "['\\n            \\n              100%\\n            \\n          '] 5.0 out of 5 stars 6 x 0.82 x 9 inches\n"
     ]
    },
    {
     "name": "stderr",
     "output_type": "stream",
     "text": [
      "2022-09-18 00:17:31 [scrapy.downloadermiddlewares.redirect] DEBUG: Redirecting (302) to <GET https://www.amazon.com/Statistician-Gifts-Notebook-Journal-Appreciation/dp/B08VYBPNFY/ref=sr_1_164_sspa?crid=34NU2WDUOI6UY&keywords=statistics&qid=1663453032&sprefix=statisti%2Caps%2C263&sr=8-164-spons&psc=1&spLa=ZW5jcnlwdGVkUXVhbGlmaWVyPUEzUzA0R0FNRThEOTlNJmVuY3J5cHRlZElkPUEwODQxMjcxMzJDVVdEQ1ZTMFEyMCZlbmNyeXB0ZWRBZElkPUExMDMzODc2MU9DR0ZHQkVUOFA1TCZ3aWRnZXROYW1lPXNwX210ZiZhY3Rpb249Y2xpY2tSZWRpcmVjdCZkb05vdExvZ0NsaWNrPXRydWU=> from <GET https://www.amazon.com/gp/slredirect/picassoRedirect.html/ref=pa_sp_mtf_aps_sr_pg4_1?ie=UTF8&adId=A10338761OCGFGBET8P5L&url=%2FStatistician-Gifts-Notebook-Journal-Appreciation%2Fdp%2FB08VYBPNFY%2Fref%3Dsr_1_164_sspa%3Fcrid%3D34NU2WDUOI6UY%26keywords%3Dstatistics%26qid%3D1663453032%26sprefix%3Dstatisti%252Caps%252C263%26sr%3D8-164-spons%26psc%3D1&qualifier=1663453032&id=1851230073343748&widgetName=sp_mtf>\n",
      "2022-09-18 00:17:31 [scrapy.core.engine] DEBUG: Crawled (200) <GET https://www.amazon.com/Never-Argue-Statistician-They-Mean/dp/B09M55W2KF/ref=sr_1_177_sspa?crid=34NU2WDUOI6UY&keywords=statistics&qid=1663453032&sprefix=statisti%2Caps%2C263&sr=8-177-spons&psc=1&spLa=ZW5jcnlwdGVkUXVhbGlmaWVyPUEzUzA0R0FNRThEOTlNJmVuY3J5cHRlZElkPUEwODQxMjcxMzJDVVdEQ1ZTMFEyMCZlbmNyeXB0ZWRBZElkPUEwMTY3ODE2UTg3VFRPUUlHOFJMJndpZGdldE5hbWU9c3BfbXRmJmFjdGlvbj1jbGlja1JlZGlyZWN0JmRvTm90TG9nQ2xpY2s9dHJ1ZQ==> (referer: https://www.amazon.com/s?k=statistics&page=4&crid=34NU2WDUOI6UY&qid=1663448390&sprefix=statisti%2Caps%2C263&ref=sr_pg_4)\n",
      "2022-09-18 00:17:31 [scrapy.core.engine] DEBUG: Crawled (200) <GET https://www.amazon.com/Statistics-Trading-Floor-Science-Investing/dp/B088N8X379/ref=sr_1_169?crid=34NU2WDUOI6UY&keywords=statistics&qid=1663453032&sprefix=statisti%2Caps%2C263&sr=8-169> (referer: https://www.amazon.com/s?k=statistics&page=4&crid=34NU2WDUOI6UY&qid=1663448390&sprefix=statisti%2Caps%2C263&ref=sr_pg_4)\n"
     ]
    },
    {
     "name": "stdout",
     "output_type": "stream",
     "text": [
      "140\n",
      "['\\n            \\n              72%\\n            \\n          '] 4.3 out of 5 stars 8.35 x 1.3 x 10.35 inches\n",
      "141\n",
      "[] None 6 x 0.23 x 9 inches\n"
     ]
    },
    {
     "name": "stderr",
     "output_type": "stream",
     "text": [
      "2022-09-18 00:17:31 [scrapy.downloadermiddlewares.redirect] DEBUG: Redirecting (302) to <GET https://www.amazon.com/Physics-Quick-Study-Academic-Qucik/dp/1423203100/ref=sr_1_161_sspa?crid=34NU2WDUOI6UY&keywords=statistics&qid=1663453032&sprefix=statisti%2Caps%2C263&sr=8-161-spons&psc=1&spLa=ZW5jcnlwdGVkUXVhbGlmaWVyPUEzUzA0R0FNRThEOTlNJmVuY3J5cHRlZElkPUEwODQxMjcxMzJDVVdEQ1ZTMFEyMCZlbmNyeXB0ZWRBZElkPUEwMTkzNTY0NFhBQjNZMzlSWTI0JndpZGdldE5hbWU9c3BfbXRmJmFjdGlvbj1jbGlja1JlZGlyZWN0JmRvTm90TG9nQ2xpY2s9dHJ1ZQ==> from <GET https://www.amazon.com/gp/slredirect/picassoRedirect.html/ref=pa_sp_mtf_aps_sr_pg4_1?ie=UTF8&adId=A01935644XAB3Y39RY24&url=%2FPhysics-Quick-Study-Academic-Qucik%2Fdp%2F1423203100%2Fref%3Dsr_1_161_sspa%3Fcrid%3D34NU2WDUOI6UY%26keywords%3Dstatistics%26qid%3D1663453032%26sprefix%3Dstatisti%252Caps%252C263%26sr%3D8-161-spons%26psc%3D1&qualifier=1663453032&id=1851230073343748&widgetName=sp_mtf>\n",
      "2022-09-18 00:17:31 [scrapy.downloadermiddlewares.redirect] DEBUG: Redirecting (302) to <GET https://www.amazon.com/Learn-Calculus-Quickly-Complete-Equations/dp/1796605603/ref=sr_1_162_sspa?crid=34NU2WDUOI6UY&keywords=statistics&qid=1663453032&sprefix=statisti%2Caps%2C263&sr=8-162-spons&psc=1&spLa=ZW5jcnlwdGVkUXVhbGlmaWVyPUEzUzA0R0FNRThEOTlNJmVuY3J5cHRlZElkPUEwODQxMjcxMzJDVVdEQ1ZTMFEyMCZlbmNyeXB0ZWRBZElkPUEwNjk2MjE1MjMzOTNHNTgyTlcwSCZ3aWRnZXROYW1lPXNwX210ZiZhY3Rpb249Y2xpY2tSZWRpcmVjdCZkb05vdExvZ0NsaWNrPXRydWU=> from <GET https://www.amazon.com/gp/slredirect/picassoRedirect.html/ref=pa_sp_mtf_aps_sr_pg4_1?ie=UTF8&adId=A069621523393G582NW0H&url=%2FLearn-Calculus-Quickly-Complete-Equations%2Fdp%2F1796605603%2Fref%3Dsr_1_162_sspa%3Fcrid%3D34NU2WDUOI6UY%26keywords%3Dstatistics%26qid%3D1663453032%26sprefix%3Dstatisti%252Caps%252C263%26sr%3D8-162-spons%26psc%3D1&qualifier=1663453032&id=1851230073343748&widgetName=sp_mtf>\n",
      "2022-09-18 00:17:31 [scrapy.core.engine] DEBUG: Crawled (200) <GET https://www.amazon.com/Second-Course-Statistics-Regression-Analysis/dp/013516379X/ref=sr_1_167?crid=34NU2WDUOI6UY&keywords=statistics&qid=1663453032&sprefix=statisti%2Caps%2C263&sr=8-167> (referer: https://www.amazon.com/s?k=statistics&page=4&crid=34NU2WDUOI6UY&qid=1663448390&sprefix=statisti%2Caps%2C263&ref=sr_pg_4)\n",
      "2022-09-18 00:17:31 [scrapy.core.engine] DEBUG: Crawled (200) <GET https://www.amazon.com/Statistics-Unlocking-Robin-H-Lock/dp/1119682169/ref=sr_1_168?crid=34NU2WDUOI6UY&keywords=statistics&qid=1663453032&sprefix=statisti%2Caps%2C263&sr=8-168> (referer: https://www.amazon.com/s?k=statistics&page=4&crid=34NU2WDUOI6UY&qid=1663448390&sprefix=statisti%2Caps%2C263&ref=sr_pg_4)\n"
     ]
    },
    {
     "name": "stdout",
     "output_type": "stream",
     "text": [
      "142\n",
      "['\\n            \\n              69%\\n            \\n          '] 4.3 out of 5 stars 6.69 x 0.69 x 9.61 inches\n"
     ]
    },
    {
     "name": "stderr",
     "output_type": "stream",
     "text": [
      "2022-09-18 00:17:31 [scrapy.downloadermiddlewares.redirect] DEBUG: Redirecting (302) to <GET https://www.amazon.com/100-Questions-About-Rocks-Minerals/dp/1441331271/ref=sr_1_163_sspa?crid=34NU2WDUOI6UY&keywords=statistics&qid=1663453032&sprefix=statisti%2Caps%2C263&sr=8-163-spons&psc=1&spLa=ZW5jcnlwdGVkUXVhbGlmaWVyPUEzUzA0R0FNRThEOTlNJmVuY3J5cHRlZElkPUEwODQxMjcxMzJDVVdEQ1ZTMFEyMCZlbmNyeXB0ZWRBZElkPUEwNjQwMjk0MjQ1SU5aTzZZUE9HOSZ3aWRnZXROYW1lPXNwX210ZiZhY3Rpb249Y2xpY2tSZWRpcmVjdCZkb05vdExvZ0NsaWNrPXRydWU=> from <GET https://www.amazon.com/gp/slredirect/picassoRedirect.html/ref=pa_sp_mtf_aps_sr_pg4_1?ie=UTF8&adId=A0640294245INZO6YPOG9&url=%2F100-Questions-About-Rocks-Minerals%2Fdp%2F1441331271%2Fref%3Dsr_1_163_sspa%3Fcrid%3D34NU2WDUOI6UY%26keywords%3Dstatistics%26qid%3D1663453032%26sprefix%3Dstatisti%252Caps%252C263%26sr%3D8-163-spons%26psc%3D1&qualifier=1663453032&id=1851230073343748&widgetName=sp_mtf>\n",
      "2022-09-18 00:17:32 [scrapy.core.engine] DEBUG: Crawled (200) <GET https://www.amazon.com/Grade-Fast-Math-Success-Workbook/dp/B0B5PVT4NS/ref=sr_1_178_sspa?crid=34NU2WDUOI6UY&keywords=statistics&qid=1663453032&sprefix=statisti%2Caps%2C263&sr=8-178-spons&psc=1&spLa=ZW5jcnlwdGVkUXVhbGlmaWVyPUEzUzA0R0FNRThEOTlNJmVuY3J5cHRlZElkPUEwODQxMjcxMzJDVVdEQ1ZTMFEyMCZlbmNyeXB0ZWRBZElkPUEwMjYxMTQ2MUdYQlc4NFVLMlI1JndpZGdldE5hbWU9c3BfbXRmJmFjdGlvbj1jbGlja1JlZGlyZWN0JmRvTm90TG9nQ2xpY2s9dHJ1ZQ==> (referer: https://www.amazon.com/s?k=statistics&page=4&crid=34NU2WDUOI6UY&qid=1663448390&sprefix=statisti%2Caps%2C263&ref=sr_pg_4)\n"
     ]
    },
    {
     "name": "stdout",
     "output_type": "stream",
     "text": [
      "143\n",
      "['\\n            \\n              71%\\n            \\n          '] 4.6 out of 5 stars 1.3 x 8.2 x 10.1 inches\n"
     ]
    },
    {
     "name": "stderr",
     "output_type": "stream",
     "text": [
      "2022-09-18 00:17:32 [scrapy.core.engine] DEBUG: Crawled (200) <GET https://www.amazon.com/Essential-Calculus-Practice-Workbook-Solutions/dp/1941691242/ref=sr_1_166?crid=34NU2WDUOI6UY&keywords=statistics&qid=1663453032&sprefix=statisti%2Caps%2C263&sr=8-166> (referer: https://www.amazon.com/s?k=statistics&page=4&crid=34NU2WDUOI6UY&qid=1663448390&sprefix=statisti%2Caps%2C263&ref=sr_pg_4)\n"
     ]
    },
    {
     "name": "stdout",
     "output_type": "stream",
     "text": [
      "144\n",
      "['\\n            \\n              55%\\n            \\n          '] 3.7 out of 5 stars 8.4 x 1.3 x 10.8 inches\n"
     ]
    },
    {
     "name": "stderr",
     "output_type": "stream",
     "text": [
      "2022-09-18 00:17:32 [scrapy.core.engine] DEBUG: Crawled (200) <GET https://www.amazon.com/Analytics-Fundamentals-BigData-Training-Certification/dp/B09HSKW589/ref=sr_1_160?crid=34NU2WDUOI6UY&keywords=statistics&qid=1663453032&sprefix=statisti%2Caps%2C263&sr=8-160> (referer: https://www.amazon.com/s?k=statistics&page=4&crid=34NU2WDUOI6UY&qid=1663448390&sprefix=statisti%2Caps%2C263&ref=sr_pg_4)\n"
     ]
    },
    {
     "name": "stdout",
     "output_type": "stream",
     "text": [
      "145\n",
      "[] None 8.5 x 0.46 x 11 inches\n"
     ]
    },
    {
     "name": "stderr",
     "output_type": "stream",
     "text": [
      "2022-09-18 00:17:33 [scrapy.core.engine] DEBUG: Crawled (200) <GET https://www.amazon.com/Meaning-Data-Statistics-Made-Clear/dp/1598031465/ref=sr_1_165?crid=34NU2WDUOI6UY&keywords=statistics&qid=1663453032&sprefix=statisti%2Caps%2C263&sr=8-165> (referer: https://www.amazon.com/s?k=statistics&page=4&crid=34NU2WDUOI6UY&qid=1663448390&sprefix=statisti%2Caps%2C263&ref=sr_pg_4)\n"
     ]
    },
    {
     "name": "stdout",
     "output_type": "stream",
     "text": [
      "146\n",
      "['\\n            \\n              75%\\n            \\n          '] 4.6 out of 5 stars 8 x 0.35 x 10 inches\n",
      "147\n",
      "[] 4.5 out of 5 stars None\n",
      "148\n",
      "['\\n            \\n              79%\\n            \\n          '] 4.5 out of 5 stars 7.5 x 1 x 5.5 inches; 8 Ounces\n"
     ]
    },
    {
     "name": "stderr",
     "output_type": "stream",
     "text": [
      "2022-09-18 00:17:34 [scrapy.core.engine] DEBUG: Crawled (200) <GET https://www.amazon.com/Statistics-Probability-Grades-5-12/dp/162223703X/ref=sr_1_157?crid=34NU2WDUOI6UY&keywords=statistics&qid=1663453032&sprefix=statisti%2Caps%2C263&sr=8-157> (referer: https://www.amazon.com/s?k=statistics&page=4&crid=34NU2WDUOI6UY&qid=1663448390&sprefix=statisti%2Caps%2C263&ref=sr_pg_4)\n",
      "2022-09-18 00:17:34 [scrapy.core.engine] DEBUG: Crawled (200) <GET https://www.amazon.com/Statistician-Gifts-Notebook-Journal-Appreciation/dp/B08VYBPNFY/ref=sr_1_164_sspa?crid=34NU2WDUOI6UY&keywords=statistics&qid=1663453032&sprefix=statisti%2Caps%2C263&sr=8-164-spons&psc=1&spLa=ZW5jcnlwdGVkUXVhbGlmaWVyPUEzUzA0R0FNRThEOTlNJmVuY3J5cHRlZElkPUEwODQxMjcxMzJDVVdEQ1ZTMFEyMCZlbmNyeXB0ZWRBZElkPUExMDMzODc2MU9DR0ZHQkVUOFA1TCZ3aWRnZXROYW1lPXNwX210ZiZhY3Rpb249Y2xpY2tSZWRpcmVjdCZkb05vdExvZ0NsaWNrPXRydWU=> (referer: https://www.amazon.com/s?k=statistics&page=4&crid=34NU2WDUOI6UY&qid=1663448390&sprefix=statisti%2Caps%2C263&ref=sr_pg_4)\n",
      "2022-09-18 00:17:34 [scrapy.core.engine] DEBUG: Crawled (200) <GET https://www.amazon.com/Introduction-Statistical-Learning-Applications-Statistics/dp/1071614177/ref=sr_1_159?crid=34NU2WDUOI6UY&keywords=statistics&qid=1663453032&sprefix=statisti%2Caps%2C263&sr=8-159> (referer: https://www.amazon.com/s?k=statistics&page=4&crid=34NU2WDUOI6UY&qid=1663448390&sprefix=statisti%2Caps%2C263&ref=sr_pg_4)\n",
      "2022-09-18 00:17:34 [scrapy.core.engine] DEBUG: Crawled (200) <GET https://www.amazon.com/Probability-Statistics-Engineers-Scientists-Update/dp/0134115856/ref=sr_1_158?crid=34NU2WDUOI6UY&keywords=statistics&qid=1663453032&sprefix=statisti%2Caps%2C263&sr=8-158> (referer: https://www.amazon.com/s?k=statistics&page=4&crid=34NU2WDUOI6UY&qid=1663448390&sprefix=statisti%2Caps%2C263&ref=sr_pg_4)\n"
     ]
    },
    {
     "name": "stdout",
     "output_type": "stream",
     "text": [
      "149\n",
      "['\\n            \\n              70%\\n            \\n          '] 4.3 out of 5 stars 8.2 x 0.3 x 10.6 inches\n"
     ]
    },
    {
     "name": "stderr",
     "output_type": "stream",
     "text": [
      "2022-09-18 00:17:35 [scrapy.core.engine] DEBUG: Crawled (200) <GET https://www.amazon.com/Statistics-Probability-Applications-High-School/dp/1319244327/ref=sr_1_154?crid=34NU2WDUOI6UY&keywords=statistics&qid=1663453032&sprefix=statisti%2Caps%2C263&sr=8-154> (referer: https://www.amazon.com/s?k=statistics&page=4&crid=34NU2WDUOI6UY&qid=1663448390&sprefix=statisti%2Caps%2C263&ref=sr_pg_4)\n",
      "2022-09-18 00:17:35 [scrapy.core.engine] DEBUG: Crawled (200) <GET https://www.amazon.com/Understandable-Statistics-Charles-Henry-Brase/dp/1337119911/ref=sr_1_155?crid=34NU2WDUOI6UY&keywords=statistics&qid=1663453032&sprefix=statisti%2Caps%2C263&sr=8-155> (referer: https://www.amazon.com/s?k=statistics&page=4&crid=34NU2WDUOI6UY&qid=1663448390&sprefix=statisti%2Caps%2C263&ref=sr_pg_4)\n"
     ]
    },
    {
     "name": "stdout",
     "output_type": "stream",
     "text": [
      "150\n",
      "[] None 6 x 0.28 x 9 inches\n",
      "151\n",
      "['\\n            \\n              83%\\n            \\n          '] 4.6 out of 5 stars 8 x 1.2 x 9.4 inches\n"
     ]
    },
    {
     "name": "stderr",
     "output_type": "stream",
     "text": [
      "2022-09-18 00:17:35 [scrapy.core.engine] DEBUG: Crawled (200) <GET https://www.amazon.com/Learn-Calculus-Quickly-Complete-Equations/dp/1796605603/ref=sr_1_162_sspa?crid=34NU2WDUOI6UY&keywords=statistics&qid=1663453032&sprefix=statisti%2Caps%2C263&sr=8-162-spons&psc=1&spLa=ZW5jcnlwdGVkUXVhbGlmaWVyPUEzUzA0R0FNRThEOTlNJmVuY3J5cHRlZElkPUEwODQxMjcxMzJDVVdEQ1ZTMFEyMCZlbmNyeXB0ZWRBZElkPUEwNjk2MjE1MjMzOTNHNTgyTlcwSCZ3aWRnZXROYW1lPXNwX210ZiZhY3Rpb249Y2xpY2tSZWRpcmVjdCZkb05vdExvZ0NsaWNrPXRydWU=> (referer: https://www.amazon.com/s?k=statistics&page=4&crid=34NU2WDUOI6UY&qid=1663448390&sprefix=statisti%2Caps%2C263&ref=sr_pg_4)\n"
     ]
    },
    {
     "name": "stdout",
     "output_type": "stream",
     "text": [
      "152\n",
      "['\\n            \\n              69%\\n            \\n          '] 4.3 out of 5 stars 7.7 x 1.4 x 9.4 inches\n",
      "153\n",
      "['\\n            \\n              100%\\n            \\n          '] 3.0 out of 5 stars 8.5 x 1 x 10.88 inches\n"
     ]
    },
    {
     "name": "stderr",
     "output_type": "stream",
     "text": [
      "2022-09-18 00:17:36 [scrapy.core.engine] DEBUG: Crawled (200) <GET https://www.amazon.com/Statistics-13th-James-T-McClave/dp/0134080211/ref=sr_1_156?crid=34NU2WDUOI6UY&keywords=statistics&qid=1663453032&sprefix=statisti%2Caps%2C263&sr=8-156> (referer: https://www.amazon.com/s?k=statistics&page=4&crid=34NU2WDUOI6UY&qid=1663448390&sprefix=statisti%2Caps%2C263&ref=sr_pg_4)\n"
     ]
    },
    {
     "name": "stdout",
     "output_type": "stream",
     "text": [
      "154\n",
      "['\\n            \\n              72%\\n            \\n          '] 4.5 out of 5 stars 9 x 1.25 x 11.25 inches\n",
      "155\n",
      "['\\n            \\n              61%\\n            \\n          '] 4.3 out of 5 stars 6 x 0.19 x 9 inches\n"
     ]
    },
    {
     "name": "stderr",
     "output_type": "stream",
     "text": [
      "2022-09-18 00:17:36 [scrapy.downloadermiddlewares.redirect] DEBUG: Redirecting (302) to <GET https://www.amazon.com/Fast-Math-Success-Workbook-Grade/dp/B0B53B6PY5/ref=sr_1_148_sspa?crid=34NU2WDUOI6UY&keywords=statistics&qid=1663453032&sprefix=statisti%2Caps%2C263&sr=8-148-spons&psc=1&spLa=ZW5jcnlwdGVkUXVhbGlmaWVyPUEzUzA0R0FNRThEOTlNJmVuY3J5cHRlZElkPUEwODQxMjcxMzJDVVdEQ1ZTMFEyMCZlbmNyeXB0ZWRBZElkPUEwNTI1OTk4MzRUVlA4RUxYM0NDVCZ3aWRnZXROYW1lPXNwX2F0Zl9uZXh0JmFjdGlvbj1jbGlja1JlZGlyZWN0JmRvTm90TG9nQ2xpY2s9dHJ1ZQ==> from <GET https://www.amazon.com/gp/slredirect/picassoRedirect.html/ref=pa_sp_atf_next_aps_sr_pg4_1?ie=UTF8&adId=A052599834TVP8ELX3CCT&url=%2FFast-Math-Success-Workbook-Grade%2Fdp%2FB0B53B6PY5%2Fref%3Dsr_1_148_sspa%3Fcrid%3D34NU2WDUOI6UY%26keywords%3Dstatistics%26qid%3D1663453032%26sprefix%3Dstatisti%252Caps%252C263%26sr%3D8-148-spons%26psc%3D1&qualifier=1663453032&id=1851230073343748&widgetName=sp_atf_next>\n"
     ]
    },
    {
     "name": "stdout",
     "output_type": "stream",
     "text": [
      "156\n",
      "['\\n            \\n              67%\\n            \\n          '] 4.3 out of 5 stars 1.3 x 8.7 x 10.9 inches\n"
     ]
    },
    {
     "name": "stderr",
     "output_type": "stream",
     "text": [
      "2022-09-18 00:17:37 [scrapy.downloadermiddlewares.redirect] DEBUG: Redirecting (302) to <GET https://www.amazon.com/Relativity-decays-electromagnetic-concepts-physics/dp/B08C97X536/ref=sr_1_147_sspa?crid=34NU2WDUOI6UY&keywords=statistics&qid=1663453032&sprefix=statisti%2Caps%2C263&sr=8-147-spons&psc=1&spLa=ZW5jcnlwdGVkUXVhbGlmaWVyPUEzUzA0R0FNRThEOTlNJmVuY3J5cHRlZElkPUEwODQxMjcxMzJDVVdEQ1ZTMFEyMCZlbmNyeXB0ZWRBZElkPUEwODYzNjU1MkhEVEZXQURJQUtONSZ3aWRnZXROYW1lPXNwX2F0Zl9uZXh0JmFjdGlvbj1jbGlja1JlZGlyZWN0JmRvTm90TG9nQ2xpY2s9dHJ1ZQ==> from <GET https://www.amazon.com/gp/slredirect/picassoRedirect.html/ref=pa_sp_atf_next_aps_sr_pg4_1?ie=UTF8&adId=A08636552HDTFWADIAKN5&url=%2FRelativity-decays-electromagnetic-concepts-physics%2Fdp%2FB08C97X536%2Fref%3Dsr_1_147_sspa%3Fcrid%3D34NU2WDUOI6UY%26keywords%3Dstatistics%26qid%3D1663453032%26sprefix%3Dstatisti%252Caps%252C263%26sr%3D8-147-spons%26psc%3D1&qualifier=1663453032&id=1851230073343748&widgetName=sp_atf_next>\n",
      "2022-09-18 00:17:38 [scrapy.core.engine] DEBUG: Crawled (200) <GET https://www.amazon.com/Learn-Game-Theory-Strategic-Decision-Making-ebook/dp/B0916P1W3K/ref=sr_1_151?crid=34NU2WDUOI6UY&keywords=statistics&qid=1663453032&sprefix=statisti%2Caps%2C263&sr=8-151> (referer: https://www.amazon.com/s?k=statistics&page=4&crid=34NU2WDUOI6UY&qid=1663448390&sprefix=statisti%2Caps%2C263&ref=sr_pg_4)\n",
      "2022-09-18 00:17:38 [scrapy.core.engine] DEBUG: Crawled (200) <GET https://www.amazon.com/Physics-Quick-Study-Academic-Qucik/dp/1423203100/ref=sr_1_161_sspa?crid=34NU2WDUOI6UY&keywords=statistics&qid=1663453032&sprefix=statisti%2Caps%2C263&sr=8-161-spons&psc=1&spLa=ZW5jcnlwdGVkUXVhbGlmaWVyPUEzUzA0R0FNRThEOTlNJmVuY3J5cHRlZElkPUEwODQxMjcxMzJDVVdEQ1ZTMFEyMCZlbmNyeXB0ZWRBZElkPUEwMTkzNTY0NFhBQjNZMzlSWTI0JndpZGdldE5hbWU9c3BfbXRmJmFjdGlvbj1jbGlja1JlZGlyZWN0JmRvTm90TG9nQ2xpY2s9dHJ1ZQ==> (referer: https://www.amazon.com/s?k=statistics&page=4&crid=34NU2WDUOI6UY&qid=1663448390&sprefix=statisti%2Caps%2C263&ref=sr_pg_4)\n",
      "2022-09-18 00:17:38 [scrapy.core.engine] DEBUG: Crawled (200) <GET https://www.amazon.com/Statistics-Companion-Workbook-Adam-Littig/dp/1543244343/ref=sr_1_152?crid=34NU2WDUOI6UY&keywords=statistics&qid=1663453032&sprefix=statisti%2Caps%2C263&sr=8-152> (referer: https://www.amazon.com/s?k=statistics&page=4&crid=34NU2WDUOI6UY&qid=1663448390&sprefix=statisti%2Caps%2C263&ref=sr_pg_4)\n",
      "2022-09-18 00:17:38 [scrapy.downloadermiddlewares.redirect] DEBUG: Redirecting (302) to <GET https://www.amazon.com/Nonlinear-Contingency-Analysis-Cognition-Behavior/dp/0367689502/ref=sr_1_146_sspa?crid=34NU2WDUOI6UY&keywords=statistics&qid=1663453032&sprefix=statisti%2Caps%2C263&sr=8-146-spons&psc=1&spLa=ZW5jcnlwdGVkUXVhbGlmaWVyPUEzUzA0R0FNRThEOTlNJmVuY3J5cHRlZElkPUEwODQxMjcxMzJDVVdEQ1ZTMFEyMCZlbmNyeXB0ZWRBZElkPUEwMjIwNzU4MjhGQU5KN1VUM0VETCZ3aWRnZXROYW1lPXNwX2F0Zl9uZXh0JmFjdGlvbj1jbGlja1JlZGlyZWN0JmRvTm90TG9nQ2xpY2s9dHJ1ZQ==> from <GET https://www.amazon.com/gp/slredirect/picassoRedirect.html/ref=pa_sp_atf_next_aps_sr_pg4_1?ie=UTF8&adId=A022075828FANJ7UT3EDL&url=%2FNonlinear-Contingency-Analysis-Cognition-Behavior%2Fdp%2F0367689502%2Fref%3Dsr_1_146_sspa%3Fcrid%3D34NU2WDUOI6UY%26keywords%3Dstatistics%26qid%3D1663453032%26sprefix%3Dstatisti%252Caps%252C263%26sr%3D8-146-spons%26psc%3D1&qualifier=1663453032&id=1851230073343748&widgetName=sp_atf_next>\n",
      "2022-09-18 00:17:38 [scrapy.core.engine] DEBUG: Crawled (200) <GET https://www.amazon.com/Mathematical-Statistics-Applications-Classics-Advanced/dp/0134995376/ref=sr_1_153?crid=34NU2WDUOI6UY&keywords=statistics&qid=1663453032&sprefix=statisti%2Caps%2C263&sr=8-153> (referer: https://www.amazon.com/s?k=statistics&page=4&crid=34NU2WDUOI6UY&qid=1663448390&sprefix=statisti%2Caps%2C263&ref=sr_pg_4)\n",
      "2022-09-18 00:17:38 [scrapy.core.engine] DEBUG: Crawled (200) <GET https://www.amazon.com/100-Questions-About-Rocks-Minerals/dp/1441331271/ref=sr_1_163_sspa?crid=34NU2WDUOI6UY&keywords=statistics&qid=1663453032&sprefix=statisti%2Caps%2C263&sr=8-163-spons&psc=1&spLa=ZW5jcnlwdGVkUXVhbGlmaWVyPUEzUzA0R0FNRThEOTlNJmVuY3J5cHRlZElkPUEwODQxMjcxMzJDVVdEQ1ZTMFEyMCZlbmNyeXB0ZWRBZElkPUEwNjQwMjk0MjQ1SU5aTzZZUE9HOSZ3aWRnZXROYW1lPXNwX210ZiZhY3Rpb249Y2xpY2tSZWRpcmVjdCZkb05vdExvZ0NsaWNrPXRydWU=> (referer: https://www.amazon.com/s?k=statistics&page=4&crid=34NU2WDUOI6UY&qid=1663448390&sprefix=statisti%2Caps%2C263&ref=sr_pg_4)\n"
     ]
    },
    {
     "name": "stdout",
     "output_type": "stream",
     "text": [
      "157\n",
      "['\\n            \\n              63%\\n            \\n          '] 4.3 out of 5 stars None\n",
      "158\n",
      "['\\n            \\n              78%\\n            \\n          '] 4.7 out of 5 stars 8.5 x 11 x 0.06 inches\n"
     ]
    },
    {
     "name": "stderr",
     "output_type": "stream",
     "text": [
      "2022-09-18 00:17:38 [scrapy.core.engine] DEBUG: Crawled (200) <GET https://www.amazon.com/Statistics-Crash-Course-Advanced-Placement/dp/0738612588/ref=sr_1_150?crid=34NU2WDUOI6UY&keywords=statistics&qid=1663453032&sprefix=statisti%2Caps%2C263&sr=8-150> (referer: https://www.amazon.com/s?k=statistics&page=4&crid=34NU2WDUOI6UY&qid=1663448390&sprefix=statisti%2Caps%2C263&ref=sr_pg_4)\n",
      "2022-09-18 00:17:38 [scrapy.downloadermiddlewares.redirect] DEBUG: Redirecting (302) to <GET https://www.amazon.com/Data-Analytics-Absolute-Beginners-Deconstructed/dp/1081762462/ref=sr_1_145_sspa?crid=34NU2WDUOI6UY&keywords=statistics&qid=1663453032&sprefix=statisti%2Caps%2C263&sr=8-145-spons&psc=1&spLa=ZW5jcnlwdGVkUXVhbGlmaWVyPUEzUzA0R0FNRThEOTlNJmVuY3J5cHRlZElkPUEwODQxMjcxMzJDVVdEQ1ZTMFEyMCZlbmNyeXB0ZWRBZElkPUEwOTYzMzEzMVFaQ0JVTDdRNlRMMyZ3aWRnZXROYW1lPXNwX2F0Zl9uZXh0JmFjdGlvbj1jbGlja1JlZGlyZWN0JmRvTm90TG9nQ2xpY2s9dHJ1ZQ==> from <GET https://www.amazon.com/gp/slredirect/picassoRedirect.html/ref=pa_sp_atf_next_aps_sr_pg4_1?ie=UTF8&adId=A09633131QZCBUL7Q6TL3&url=%2FData-Analytics-Absolute-Beginners-Deconstructed%2Fdp%2F1081762462%2Fref%3Dsr_1_145_sspa%3Fcrid%3D34NU2WDUOI6UY%26keywords%3Dstatistics%26qid%3D1663453032%26sprefix%3Dstatisti%252Caps%252C263%26sr%3D8-145-spons%26psc%3D1&qualifier=1663453032&id=1851230073343748&widgetName=sp_atf_next>\n",
      "2022-09-18 00:17:38 [scrapy.core.engine] DEBUG: Crawled (200) <GET https://www.amazon.com/Statistics-Business-Decision-Making-Analysis/dp/0134497163/ref=sr_1_149?crid=34NU2WDUOI6UY&keywords=statistics&qid=1663453032&sprefix=statisti%2Caps%2C263&sr=8-149> (referer: https://www.amazon.com/s?k=statistics&page=4&crid=34NU2WDUOI6UY&qid=1663448390&sprefix=statisti%2Caps%2C263&ref=sr_pg_4)\n"
     ]
    },
    {
     "name": "stdout",
     "output_type": "stream",
     "text": [
      "159\n",
      "['\\n            \\n              62%\\n            \\n          '] 4.2 out of 5 stars 8.5 x 0.46 x 11 inches\n",
      "160\n",
      "['\\n            \\n              64%\\n            \\n          '] 4.0 out of 5 stars 8 x 1 x 9.9 inches\n",
      "161\n",
      "['\\n            \\n              67%\\n            \\n          '] 4.4 out of 5 stars 6.9 x 0.4 x 9.5 inches\n",
      "162\n",
      "['\\n            \\n              78%\\n            \\n          '] 4.8 out of 5 stars 6 x 0.9 x 8.9 inches\n",
      "163\n",
      "['\\n            \\n              77%\\n            \\n          '] 4.5 out of 5 stars 8.6 x 1.5 x 11.1 inches\n"
     ]
    },
    {
     "name": "stderr",
     "output_type": "stream",
     "text": [
      "2022-09-18 00:17:40 [scrapy.core.engine] DEBUG: Crawled (200) <GET https://www.amazon.com/Boot-Camp-Mila-Kunis/dp/B0873ZKD3K/ref=sr_1_118?crid=34NU2WDUOI6UY&keywords=statistics&qid=1663453014&sprefix=statisti%2Caps%2C263&sr=8-118> (referer: https://www.amazon.com/s?k=statistics&page=3&crid=34NU2WDUOI6UY&qid=1663448390&sprefix=statisti%2Caps%2C263&ref=sr_pg_3)\n",
      "2022-09-18 00:17:41 [scrapy.core.engine] DEBUG: Crawled (200) <GET https://www.amazon.com/MASTERING-EXCEL-DATA-STATISTICAL-ANALYSIS/dp/B09WQBH95J/ref=sr_1_120?crid=34NU2WDUOI6UY&keywords=statistics&qid=1663453014&sprefix=statisti%2Caps%2C263&sr=8-120> (referer: https://www.amazon.com/s?k=statistics&page=3&crid=34NU2WDUOI6UY&qid=1663448390&sprefix=statisti%2Caps%2C263&ref=sr_pg_3)\n"
     ]
    },
    {
     "name": "stdout",
     "output_type": "stream",
     "text": [
      "164\n",
      "[] None None\n"
     ]
    },
    {
     "name": "stderr",
     "output_type": "stream",
     "text": [
      "2022-09-18 00:17:41 [scrapy.core.engine] DEBUG: Crawled (200) <GET https://www.amazon.com/Statistics-Nutshell-Desktop-Quick-Reference/dp/1449316824/ref=sr_1_123?crid=34NU2WDUOI6UY&keywords=statistics&qid=1663453014&sprefix=statisti%2Caps%2C263&sr=8-123> (referer: https://www.amazon.com/s?k=statistics&page=3&crid=34NU2WDUOI6UY&qid=1663448390&sprefix=statisti%2Caps%2C263&ref=sr_pg_3)\n",
      "2022-09-18 00:17:41 [scrapy.core.engine] DEBUG: Crawled (200) <GET https://www.amazon.com/Introductory-Statistics-Randomization-Simulation-David/dp/1500576697/ref=sr_1_122?crid=34NU2WDUOI6UY&keywords=statistics&qid=1663453014&sprefix=statisti%2Caps%2C263&sr=8-122> (referer: https://www.amazon.com/s?k=statistics&page=3&crid=34NU2WDUOI6UY&qid=1663448390&sprefix=statisti%2Caps%2C263&ref=sr_pg_3)\n",
      "2022-09-18 00:17:41 [scrapy.core.engine] DEBUG: Crawled (200) <GET https://www.amazon.com/Essentials-Precalculus-Calculus-Previews-Mathematics/dp/1284056325/ref=sr_1_119?crid=34NU2WDUOI6UY&keywords=statistics&qid=1663453014&sprefix=statisti%2Caps%2C263&sr=8-119> (referer: https://www.amazon.com/s?k=statistics&page=3&crid=34NU2WDUOI6UY&qid=1663448390&sprefix=statisti%2Caps%2C263&ref=sr_pg_3)\n"
     ]
    },
    {
     "name": "stdout",
     "output_type": "stream",
     "text": [
      "165\n",
      "[] None 7.44 x 1.6 x 9.69 inches\n"
     ]
    },
    {
     "name": "stderr",
     "output_type": "stream",
     "text": [
      "2022-09-18 00:17:41 [scrapy.core.engine] DEBUG: Crawled (200) <GET https://www.amazon.com/Fast-Math-Success-Workbook-Grade/dp/B0B53B6PY5/ref=sr_1_148_sspa?crid=34NU2WDUOI6UY&keywords=statistics&qid=1663453032&sprefix=statisti%2Caps%2C263&sr=8-148-spons&psc=1&spLa=ZW5jcnlwdGVkUXVhbGlmaWVyPUEzUzA0R0FNRThEOTlNJmVuY3J5cHRlZElkPUEwODQxMjcxMzJDVVdEQ1ZTMFEyMCZlbmNyeXB0ZWRBZElkPUEwNTI1OTk4MzRUVlA4RUxYM0NDVCZ3aWRnZXROYW1lPXNwX2F0Zl9uZXh0JmFjdGlvbj1jbGlja1JlZGlyZWN0JmRvTm90TG9nQ2xpY2s9dHJ1ZQ==> (referer: https://www.amazon.com/s?k=statistics&page=4&crid=34NU2WDUOI6UY&qid=1663448390&sprefix=statisti%2Caps%2C263&ref=sr_pg_4)\n",
      "2022-09-18 00:17:41 [scrapy.core.engine] DEBUG: Crawled (200) <GET https://www.amazon.com/Relativity-decays-electromagnetic-concepts-physics/dp/B08C97X536/ref=sr_1_147_sspa?crid=34NU2WDUOI6UY&keywords=statistics&qid=1663453032&sprefix=statisti%2Caps%2C263&sr=8-147-spons&psc=1&spLa=ZW5jcnlwdGVkUXVhbGlmaWVyPUEzUzA0R0FNRThEOTlNJmVuY3J5cHRlZElkPUEwODQxMjcxMzJDVVdEQ1ZTMFEyMCZlbmNyeXB0ZWRBZElkPUEwODYzNjU1MkhEVEZXQURJQUtONSZ3aWRnZXROYW1lPXNwX2F0Zl9uZXh0JmFjdGlvbj1jbGlja1JlZGlyZWN0JmRvTm90TG9nQ2xpY2s9dHJ1ZQ==> (referer: https://www.amazon.com/s?k=statistics&page=4&crid=34NU2WDUOI6UY&qid=1663448390&sprefix=statisti%2Caps%2C263&ref=sr_pg_4)\n"
     ]
    },
    {
     "name": "stdout",
     "output_type": "stream",
     "text": [
      "166\n",
      "['\\n            \\n              79%\\n            \\n          '] 4.7 out of 5 stars 6 x 1.4 x 9 inches\n",
      "167\n",
      "['\\n            \\n              72%\\n            \\n          '] 4.4 out of 5 stars 8 x 0.8 x 10 inches\n"
     ]
    },
    {
     "name": "stderr",
     "output_type": "stream",
     "text": [
      "2022-09-18 00:17:42 [scrapy.core.engine] DEBUG: Crawled (200) <GET https://www.amazon.com/Fans-Guide-Baseball-Analytics-Understanding/dp/1683583442/ref=sr_1_121?crid=34NU2WDUOI6UY&keywords=statistics&qid=1663453014&sprefix=statisti%2Caps%2C263&sr=8-121> (referer: https://www.amazon.com/s?k=statistics&page=3&crid=34NU2WDUOI6UY&qid=1663448390&sprefix=statisti%2Caps%2C263&ref=sr_pg_3)\n",
      "2022-09-18 00:17:42 [scrapy.downloadermiddlewares.redirect] DEBUG: Redirecting (302) to <GET https://www.amazon.com/Tutor-Books-Statistics-Ph-D-James/dp/1539696715/ref=sr_1_116_sspa?crid=34NU2WDUOI6UY&keywords=statistics&qid=1663453014&sprefix=statisti%2Caps%2C263&sr=8-116-spons&psc=1&spLa=ZW5jcnlwdGVkUXVhbGlmaWVyPUEzM1lHOFUxOEE5UDJDJmVuY3J5cHRlZElkPUEwNTA4MjA1MVpJRVkwTVI4RlJRUCZlbmNyeXB0ZWRBZElkPUEwNDY3MDU1MUdBSkhRQ1MxODEwVyZ3aWRnZXROYW1lPXNwX210ZiZhY3Rpb249Y2xpY2tSZWRpcmVjdCZkb05vdExvZ0NsaWNrPXRydWU=> from <GET https://www.amazon.com/gp/slredirect/picassoRedirect.html/ref=pa_sp_mtf_aps_sr_pg3_1?ie=UTF8&adId=A04670551GAJHQCS1810W&url=%2FTutor-Books-Statistics-Ph-D-James%2Fdp%2F1539696715%2Fref%3Dsr_1_116_sspa%3Fcrid%3D34NU2WDUOI6UY%26keywords%3Dstatistics%26qid%3D1663453014%26sprefix%3Dstatisti%252Caps%252C263%26sr%3D8-116-spons%26psc%3D1&qualifier=1663453014&id=8525798811265763&widgetName=sp_mtf>\n",
      "2022-09-18 00:17:42 [scrapy.downloadermiddlewares.redirect] DEBUG: Redirecting (302) to <GET https://www.amazon.com/Statistik-Grundlagen-Methodik-Gruyter-Studium/dp/3110744090/ref=sr_1_115_sspa?crid=34NU2WDUOI6UY&keywords=statistics&qid=1663453014&sprefix=statisti%2Caps%2C263&sr=8-115-spons&psc=1&spLa=ZW5jcnlwdGVkUXVhbGlmaWVyPUEzM1lHOFUxOEE5UDJDJmVuY3J5cHRlZElkPUEwNTA4MjA1MVpJRVkwTVI4RlJRUCZlbmNyeXB0ZWRBZElkPUEwMzYzNjAxM0k1RUhVUkdLRVlCRyZ3aWRnZXROYW1lPXNwX210ZiZhY3Rpb249Y2xpY2tSZWRpcmVjdCZkb05vdExvZ0NsaWNrPXRydWU=> from <GET https://www.amazon.com/gp/slredirect/picassoRedirect.html/ref=pa_sp_mtf_aps_sr_pg3_1?ie=UTF8&adId=A03636013I5EHURGKEYBG&url=%2FStatistik-Grundlagen-Methodik-Gruyter-Studium%2Fdp%2F3110744090%2Fref%3Dsr_1_115_sspa%3Fcrid%3D34NU2WDUOI6UY%26keywords%3Dstatistics%26qid%3D1663453014%26sprefix%3Dstatisti%252Caps%252C263%26sr%3D8-115-spons%26psc%3D1&qualifier=1663453014&id=8525798811265763&widgetName=sp_mtf>\n",
      "2022-09-18 00:17:42 [scrapy.downloadermiddlewares.redirect] DEBUG: Redirecting (302) to <GET https://www.amazon.com/Solutions-Thermodynamics-Statistical-Universities-Qualifying/dp/9811250804/ref=sr_1_114_sspa?crid=34NU2WDUOI6UY&keywords=statistics&qid=1663453014&sprefix=statisti%2Caps%2C263&sr=8-114-spons&psc=1&spLa=ZW5jcnlwdGVkUXVhbGlmaWVyPUEzM1lHOFUxOEE5UDJDJmVuY3J5cHRlZElkPUEwNTA4MjA1MVpJRVkwTVI4RlJRUCZlbmNyeXB0ZWRBZElkPUExMDAyNjU5Mlg3T0lTTU9VM0pEVyZ3aWRnZXROYW1lPXNwX210ZiZhY3Rpb249Y2xpY2tSZWRpcmVjdCZkb05vdExvZ0NsaWNrPXRydWU=> from <GET https://www.amazon.com/gp/slredirect/picassoRedirect.html/ref=pa_sp_mtf_aps_sr_pg3_1?ie=UTF8&adId=A10026592X7OISMOU3JDW&url=%2FSolutions-Thermodynamics-Statistical-Universities-Qualifying%2Fdp%2F9811250804%2Fref%3Dsr_1_114_sspa%3Fcrid%3D34NU2WDUOI6UY%26keywords%3Dstatistics%26qid%3D1663453014%26sprefix%3Dstatisti%252Caps%252C263%26sr%3D8-114-spons%26psc%3D1&qualifier=1663453014&id=8525798811265763&widgetName=sp_mtf>\n",
      "2022-09-18 00:17:42 [scrapy.downloadermiddlewares.redirect] DEBUG: Redirecting (302) to <GET https://www.amazon.com/Statistik-%C3%9Cbungsbuch-German-Stocker/dp/3110744112/ref=sr_1_113_sspa?crid=34NU2WDUOI6UY&keywords=statistics&qid=1663453014&sprefix=statisti%2Caps%2C263&sr=8-113-spons&psc=1&spLa=ZW5jcnlwdGVkUXVhbGlmaWVyPUEzM1lHOFUxOEE5UDJDJmVuY3J5cHRlZElkPUEwNTA4MjA1MVpJRVkwTVI4RlJRUCZlbmNyeXB0ZWRBZElkPUEwNTM4ODI2VFRBWjFPM0JaUlc3JndpZGdldE5hbWU9c3BfbXRmJmFjdGlvbj1jbGlja1JlZGlyZWN0JmRvTm90TG9nQ2xpY2s9dHJ1ZQ==> from <GET https://www.amazon.com/gp/slredirect/picassoRedirect.html/ref=pa_sp_mtf_aps_sr_pg3_1?ie=UTF8&adId=A0538826TTAZ1O3BZRW7&url=%2FStatistik-%25C3%259Cbungsbuch-German-Stocker%2Fdp%2F3110744112%2Fref%3Dsr_1_113_sspa%3Fcrid%3D34NU2WDUOI6UY%26keywords%3Dstatistics%26qid%3D1663453014%26sprefix%3Dstatisti%252Caps%252C263%26sr%3D8-113-spons%26psc%3D1&qualifier=1663453014&id=8525798811265763&widgetName=sp_mtf>\n"
     ]
    },
    {
     "name": "stdout",
     "output_type": "stream",
     "text": [
      "168\n",
      "['\\n            \\n              73%\\n            \\n          '] 4.4 out of 5 stars 8.5 x 0.9 x 10.9 inches\n",
      "169\n",
      "[] None 8.5 x 0.46 x 11 inches\n",
      "170\n",
      "['\\n            \\n              56%\\n            \\n          '] 4.2 out of 5 stars 4.33 x 0.22 x 7.13 inches\n",
      "171\n",
      "['\\n            \\n              76%\\n            \\n          '] 4.7 out of 5 stars 5.5 x 0.7 x 8.25 inches\n"
     ]
    },
    {
     "name": "stderr",
     "output_type": "stream",
     "text": [
      "2022-09-18 00:17:43 [scrapy.core.engine] DEBUG: Crawled (200) <GET https://www.amazon.com/Real-Stats-Econometrics-Political-Science/dp/0190859490/ref=sr_1_117?crid=34NU2WDUOI6UY&keywords=statistics&qid=1663453014&sprefix=statisti%2Caps%2C263&sr=8-117> (referer: https://www.amazon.com/s?k=statistics&page=3&crid=34NU2WDUOI6UY&qid=1663448390&sprefix=statisti%2Caps%2C263&ref=sr_pg_3)\n"
     ]
    },
    {
     "name": "stdout",
     "output_type": "stream",
     "text": [
      "172\n",
      "['\\n            \\n              78%\\n            \\n          '] 4.8 out of 5 stars 9.2 x 1.2 x 7.5 inches\n"
     ]
    },
    {
     "name": "stderr",
     "output_type": "stream",
     "text": [
      "2022-09-18 00:17:44 [scrapy.core.engine] DEBUG: Crawled (200) <GET https://www.amazon.com/Data-Analytics-Absolute-Beginners-Deconstructed/dp/1081762462/ref=sr_1_145_sspa?crid=34NU2WDUOI6UY&keywords=statistics&qid=1663453032&sprefix=statisti%2Caps%2C263&sr=8-145-spons&psc=1&spLa=ZW5jcnlwdGVkUXVhbGlmaWVyPUEzUzA0R0FNRThEOTlNJmVuY3J5cHRlZElkPUEwODQxMjcxMzJDVVdEQ1ZTMFEyMCZlbmNyeXB0ZWRBZElkPUEwOTYzMzEzMVFaQ0JVTDdRNlRMMyZ3aWRnZXROYW1lPXNwX2F0Zl9uZXh0JmFjdGlvbj1jbGlja1JlZGlyZWN0JmRvTm90TG9nQ2xpY2s9dHJ1ZQ==> (referer: https://www.amazon.com/s?k=statistics&page=4&crid=34NU2WDUOI6UY&qid=1663448390&sprefix=statisti%2Caps%2C263&ref=sr_pg_4)\n",
      "2022-09-18 00:17:44 [scrapy.core.engine] DEBUG: Crawled (200) <GET https://www.amazon.com/Nonlinear-Contingency-Analysis-Cognition-Behavior/dp/0367689502/ref=sr_1_146_sspa?crid=34NU2WDUOI6UY&keywords=statistics&qid=1663453032&sprefix=statisti%2Caps%2C263&sr=8-146-spons&psc=1&spLa=ZW5jcnlwdGVkUXVhbGlmaWVyPUEzUzA0R0FNRThEOTlNJmVuY3J5cHRlZElkPUEwODQxMjcxMzJDVVdEQ1ZTMFEyMCZlbmNyeXB0ZWRBZElkPUEwMjIwNzU4MjhGQU5KN1VUM0VETCZ3aWRnZXROYW1lPXNwX2F0Zl9uZXh0JmFjdGlvbj1jbGlja1JlZGlyZWN0JmRvTm90TG9nQ2xpY2s9dHJ1ZQ==> (referer: https://www.amazon.com/s?k=statistics&page=4&crid=34NU2WDUOI6UY&qid=1663448390&sprefix=statisti%2Caps%2C263&ref=sr_pg_4)\n"
     ]
    },
    {
     "name": "stdout",
     "output_type": "stream",
     "text": [
      "173\n",
      "['\\n            \\n              67%\\n            \\n          '] 4.4 out of 5 stars 6 x 0.39 x 9 inches\n"
     ]
    },
    {
     "name": "stderr",
     "output_type": "stream",
     "text": [
      "2022-09-18 00:17:44 [scrapy.core.engine] DEBUG: Crawled (200) <GET https://www.amazon.com/Statistics-Behavioral-Sciences-Standalone-Book/dp/1305504917/ref=sr_1_109?crid=34NU2WDUOI6UY&keywords=statistics&qid=1663453014&sprefix=statisti%2Caps%2C263&sr=8-109> (referer: https://www.amazon.com/s?k=statistics&page=3&crid=34NU2WDUOI6UY&qid=1663448390&sprefix=statisti%2Caps%2C263&ref=sr_pg_3)\n",
      "2022-09-18 00:17:44 [scrapy.core.engine] DEBUG: Crawled (200) <GET https://www.amazon.com/Ultimate-Statistics-Practice-Book-Completely/dp/154232176X/ref=sr_1_108?crid=34NU2WDUOI6UY&keywords=statistics&qid=1663453014&sprefix=statisti%2Caps%2C263&sr=8-108> (referer: https://www.amazon.com/s?k=statistics&page=3&crid=34NU2WDUOI6UY&qid=1663448390&sprefix=statisti%2Caps%2C263&ref=sr_pg_3)\n"
     ]
    },
    {
     "name": "stdout",
     "output_type": "stream",
     "text": [
      "174\n",
      "['\\n            \\n              95%\\n            \\n          '] 4.9 out of 5 stars 5.98 x 0.47 x 9.02 inches\n"
     ]
    },
    {
     "name": "stderr",
     "output_type": "stream",
     "text": [
      "2022-09-18 00:17:45 [scrapy.core.engine] DEBUG: Crawled (200) <GET https://www.amazon.com/Statistics-Business-Economics-James-McClave/dp/0134506596/ref=sr_1_112?crid=34NU2WDUOI6UY&keywords=statistics&qid=1663453014&sprefix=statisti%2Caps%2C263&sr=8-112> (referer: https://www.amazon.com/s?k=statistics&page=3&crid=34NU2WDUOI6UY&qid=1663448390&sprefix=statisti%2Caps%2C263&ref=sr_pg_3)\n",
      "2022-09-18 00:17:45 [scrapy.core.engine] DEBUG: Crawled (200) <GET https://www.amazon.com/Schaums-Outline-Probability-Statistics-4th/dp/007179557X/ref=sr_1_110?crid=34NU2WDUOI6UY&keywords=statistics&qid=1663453014&sprefix=statisti%2Caps%2C263&sr=8-110> (referer: https://www.amazon.com/s?k=statistics&page=3&crid=34NU2WDUOI6UY&qid=1663448390&sprefix=statisti%2Caps%2C263&ref=sr_pg_3)\n"
     ]
    },
    {
     "name": "stdout",
     "output_type": "stream",
     "text": [
      "175\n",
      "['\\n            \\n              75%\\n            \\n          '] 4.5 out of 5 stars 8 x 1 x 10 inches\n"
     ]
    },
    {
     "name": "stderr",
     "output_type": "stream",
     "text": [
      "2022-09-18 00:17:45 [scrapy.core.engine] DEBUG: Crawled (200) <GET https://www.amazon.com/Business-Statistics-Dummies-Alan-Anderson/dp/1118630696/ref=sr_1_111?crid=34NU2WDUOI6UY&keywords=statistics&qid=1663453014&sprefix=statisti%2Caps%2C263&sr=8-111> (referer: https://www.amazon.com/s?k=statistics&page=3&crid=34NU2WDUOI6UY&qid=1663448390&sprefix=statisti%2Caps%2C263&ref=sr_pg_3)\n"
     ]
    },
    {
     "name": "stdout",
     "output_type": "stream",
     "text": [
      "176\n",
      "['\\n            \\n              80%\\n            \\n          '] 4.6 out of 5 stars 8.5 x 0.26 x 11 inches\n",
      "177\n",
      "['\\n            \\n              68%\\n            \\n          '] 4.3 out of 5 stars 8.8 x 1.75 x 11.2 inches\n"
     ]
    },
    {
     "name": "stderr",
     "output_type": "stream",
     "text": [
      "2022-09-18 00:17:46 [scrapy.core.engine] DEBUG: Crawled (200) <GET https://www.amazon.com/Little-SAS-Book-Primer-Sixth/dp/1642952834/ref=sr_1_107?crid=34NU2WDUOI6UY&keywords=statistics&qid=1663453014&sprefix=statisti%2Caps%2C263&sr=8-107> (referer: https://www.amazon.com/s?k=statistics&page=3&crid=34NU2WDUOI6UY&qid=1663448390&sprefix=statisti%2Caps%2C263&ref=sr_pg_3)\n"
     ]
    },
    {
     "name": "stdout",
     "output_type": "stream",
     "text": [
      "178\n",
      "['\\n            \\n              63%\\n            \\n          '] 4.4 out of 5 stars 8.3 x 0.82 x 10.8 inches\n",
      "179\n",
      "['\\n            \\n              71%\\n            \\n          '] 4.5 out of 5 stars 7.42 x 0.8 x 9.23 inches\n",
      "180\n",
      "['\\n            \\n              75%\\n            \\n          '] 4.6 out of 5 stars 7.5 x 0.82 x 9.25 inches\n"
     ]
    },
    {
     "name": "stderr",
     "output_type": "stream",
     "text": [
      "2022-09-18 00:17:46 [scrapy.core.engine] DEBUG: Crawled (200) <GET https://www.amazon.com/Statistik-%C3%9Cbungsbuch-German-Stocker/dp/3110744112/ref=sr_1_113_sspa?crid=34NU2WDUOI6UY&keywords=statistics&qid=1663453014&sprefix=statisti%2Caps%2C263&sr=8-113-spons&psc=1&spLa=ZW5jcnlwdGVkUXVhbGlmaWVyPUEzM1lHOFUxOEE5UDJDJmVuY3J5cHRlZElkPUEwNTA4MjA1MVpJRVkwTVI4RlJRUCZlbmNyeXB0ZWRBZElkPUEwNTM4ODI2VFRBWjFPM0JaUlc3JndpZGdldE5hbWU9c3BfbXRmJmFjdGlvbj1jbGlja1JlZGlyZWN0JmRvTm90TG9nQ2xpY2s9dHJ1ZQ==> (referer: https://www.amazon.com/s?k=statistics&page=3&crid=34NU2WDUOI6UY&qid=1663448390&sprefix=statisti%2Caps%2C263&ref=sr_pg_3)\n",
      "2022-09-18 00:17:47 [scrapy.core.engine] DEBUG: Crawled (200) <GET https://www.amazon.com/Tutor-Books-Statistics-Ph-D-James/dp/1539696715/ref=sr_1_116_sspa?crid=34NU2WDUOI6UY&keywords=statistics&qid=1663453014&sprefix=statisti%2Caps%2C263&sr=8-116-spons&psc=1&spLa=ZW5jcnlwdGVkUXVhbGlmaWVyPUEzM1lHOFUxOEE5UDJDJmVuY3J5cHRlZElkPUEwNTA4MjA1MVpJRVkwTVI4RlJRUCZlbmNyeXB0ZWRBZElkPUEwNDY3MDU1MUdBSkhRQ1MxODEwVyZ3aWRnZXROYW1lPXNwX210ZiZhY3Rpb249Y2xpY2tSZWRpcmVjdCZkb05vdExvZ0NsaWNrPXRydWU=> (referer: https://www.amazon.com/s?k=statistics&page=3&crid=34NU2WDUOI6UY&qid=1663448390&sprefix=statisti%2Caps%2C263&ref=sr_pg_3)\n",
      "2022-09-18 00:17:47 [scrapy.core.engine] DEBUG: Crawled (200) <GET https://www.amazon.com/Solutions-Thermodynamics-Statistical-Universities-Qualifying/dp/9811250804/ref=sr_1_114_sspa?crid=34NU2WDUOI6UY&keywords=statistics&qid=1663453014&sprefix=statisti%2Caps%2C263&sr=8-114-spons&psc=1&spLa=ZW5jcnlwdGVkUXVhbGlmaWVyPUEzM1lHOFUxOEE5UDJDJmVuY3J5cHRlZElkPUEwNTA4MjA1MVpJRVkwTVI4RlJRUCZlbmNyeXB0ZWRBZElkPUExMDAyNjU5Mlg3T0lTTU9VM0pEVyZ3aWRnZXROYW1lPXNwX210ZiZhY3Rpb249Y2xpY2tSZWRpcmVjdCZkb05vdExvZ0NsaWNrPXRydWU=> (referer: https://www.amazon.com/s?k=statistics&page=3&crid=34NU2WDUOI6UY&qid=1663448390&sprefix=statisti%2Caps%2C263&ref=sr_pg_3)\n"
     ]
    },
    {
     "name": "stdout",
     "output_type": "stream",
     "text": [
      "181\n",
      "['\\n            \\n              100%\\n            \\n          '] 5.0 out of 5 stars 6.69 x 0.64 x 9.61 inches\n"
     ]
    },
    {
     "name": "stderr",
     "output_type": "stream",
     "text": [
      "2022-09-18 00:17:47 [scrapy.core.engine] DEBUG: Crawled (200) <GET https://www.amazon.com/Statistik-Grundlagen-Methodik-Gruyter-Studium/dp/3110744090/ref=sr_1_115_sspa?crid=34NU2WDUOI6UY&keywords=statistics&qid=1663453014&sprefix=statisti%2Caps%2C263&sr=8-115-spons&psc=1&spLa=ZW5jcnlwdGVkUXVhbGlmaWVyPUEzM1lHOFUxOEE5UDJDJmVuY3J5cHRlZElkPUEwNTA4MjA1MVpJRVkwTVI4RlJRUCZlbmNyeXB0ZWRBZElkPUEwMzYzNjAxM0k1RUhVUkdLRVlCRyZ3aWRnZXROYW1lPXNwX210ZiZhY3Rpb249Y2xpY2tSZWRpcmVjdCZkb05vdExvZ0NsaWNrPXRydWU=> (referer: https://www.amazon.com/s?k=statistics&page=3&crid=34NU2WDUOI6UY&qid=1663448390&sprefix=statisti%2Caps%2C263&ref=sr_pg_3)\n"
     ]
    },
    {
     "name": "stdout",
     "output_type": "stream",
     "text": [
      "182\n",
      "[] None 8.5 x 0.39 x 11.02 inches\n"
     ]
    },
    {
     "name": "stderr",
     "output_type": "stream",
     "text": [
      "2022-09-18 00:17:47 [scrapy.downloadermiddlewares.redirect] DEBUG: Redirecting (302) to <GET https://www.amazon.com/Art-Thinking-Critically-Questions-Illogical/dp/B08F7X4ZYP/ref=sr_1_100_sspa?crid=34NU2WDUOI6UY&keywords=statistics&qid=1663453014&sprefix=statisti%2Caps%2C263&sr=8-100-spons&psc=1&spLa=ZW5jcnlwdGVkUXVhbGlmaWVyPUEzM1lHOFUxOEE5UDJDJmVuY3J5cHRlZElkPUEwNTA4MjA1MVpJRVkwTVI4RlJRUCZlbmNyeXB0ZWRBZElkPUEwNTA2NDA2WU1HTlNPWlFTWEdGJndpZGdldE5hbWU9c3BfYXRmX25leHQmYWN0aW9uPWNsaWNrUmVkaXJlY3QmZG9Ob3RMb2dDbGljaz10cnVl> from <GET https://www.amazon.com/gp/slredirect/picassoRedirect.html/ref=pa_sp_atf_next_aps_sr_pg3_1?ie=UTF8&adId=A0506406YMGNSOZQSXGF&url=%2FArt-Thinking-Critically-Questions-Illogical%2Fdp%2FB08F7X4ZYP%2Fref%3Dsr_1_100_sspa%3Fcrid%3D34NU2WDUOI6UY%26keywords%3Dstatistics%26qid%3D1663453014%26sprefix%3Dstatisti%252Caps%252C263%26sr%3D8-100-spons%26psc%3D1&qualifier=1663453014&id=8525798811265763&widgetName=sp_atf_next>\n"
     ]
    },
    {
     "name": "stdout",
     "output_type": "stream",
     "text": [
      "183\n",
      "[] None 6 x 1.1 x 9 inches\n"
     ]
    },
    {
     "name": "stderr",
     "output_type": "stream",
     "text": [
      "2022-09-18 00:17:47 [scrapy.core.engine] DEBUG: Crawled (200) <GET https://www.amazon.com/Statistics-Every-Fan-Springfield-College/dp/B08GV8ZZSY/ref=sr_1_106?crid=34NU2WDUOI6UY&keywords=statistics&qid=1663453014&sprefix=statisti%2Caps%2C263&sr=8-106> (referer: https://www.amazon.com/s?k=statistics&page=3&crid=34NU2WDUOI6UY&qid=1663448390&sprefix=statisti%2Caps%2C263&ref=sr_pg_3)\n",
      "2022-09-18 00:17:47 [scrapy.downloadermiddlewares.redirect] DEBUG: Redirecting (302) to <GET https://www.amazon.com/Effective-Data-Science-Infrastructure-scientists/dp/1617299197/ref=sr_1_99_sspa?crid=34NU2WDUOI6UY&keywords=statistics&qid=1663453014&sprefix=statisti%2Caps%2C263&sr=8-99-spons&psc=1&spLa=ZW5jcnlwdGVkUXVhbGlmaWVyPUEzM1lHOFUxOEE5UDJDJmVuY3J5cHRlZElkPUEwNTA4MjA1MVpJRVkwTVI4RlJRUCZlbmNyeXB0ZWRBZElkPUEwNDI0MzkyMk0yOVVZUkxPU0pBSyZ3aWRnZXROYW1lPXNwX2F0Zl9uZXh0JmFjdGlvbj1jbGlja1JlZGlyZWN0JmRvTm90TG9nQ2xpY2s9dHJ1ZQ==> from <GET https://www.amazon.com/gp/slredirect/picassoRedirect.html/ref=pa_sp_atf_next_aps_sr_pg3_1?ie=UTF8&adId=A04243922M29UYRLOSJAK&url=%2FEffective-Data-Science-Infrastructure-scientists%2Fdp%2F1617299197%2Fref%3Dsr_1_99_sspa%3Fcrid%3D34NU2WDUOI6UY%26keywords%3Dstatistics%26qid%3D1663453014%26sprefix%3Dstatisti%252Caps%252C263%26sr%3D8-99-spons%26psc%3D1&qualifier=1663453014&id=8525798811265763&widgetName=sp_atf_next>\n"
     ]
    },
    {
     "name": "stdout",
     "output_type": "stream",
     "text": [
      "184\n",
      "['\\n            \\n              100%\\n            \\n          '] 5.0 out of 5 stars 6.69 x 1.57 x 9.61 inches\n"
     ]
    },
    {
     "name": "stderr",
     "output_type": "stream",
     "text": [
      "2022-09-18 00:17:48 [scrapy.downloadermiddlewares.redirect] DEBUG: Redirecting (302) to <GET https://www.amazon.com/SQL-Data-Analytics-efficient-analysis/dp/1789807352/ref=sr_1_98_sspa?crid=34NU2WDUOI6UY&keywords=statistics&qid=1663453014&sprefix=statisti%2Caps%2C263&sr=8-98-spons&psc=1&spLa=ZW5jcnlwdGVkUXVhbGlmaWVyPUEzM1lHOFUxOEE5UDJDJmVuY3J5cHRlZElkPUEwNTA4MjA1MVpJRVkwTVI4RlJRUCZlbmNyeXB0ZWRBZElkPUEwNzIxMDA3M0Q5RjBITFpNNkdBVSZ3aWRnZXROYW1lPXNwX2F0Zl9uZXh0JmFjdGlvbj1jbGlja1JlZGlyZWN0JmRvTm90TG9nQ2xpY2s9dHJ1ZQ==> from <GET https://www.amazon.com/gp/slredirect/picassoRedirect.html/ref=pa_sp_atf_next_aps_sr_pg3_1?ie=UTF8&adId=A07210073D9F0HLZM6GAU&url=%2FSQL-Data-Analytics-efficient-analysis%2Fdp%2F1789807352%2Fref%3Dsr_1_98_sspa%3Fcrid%3D34NU2WDUOI6UY%26keywords%3Dstatistics%26qid%3D1663453014%26sprefix%3Dstatisti%252Caps%252C263%26sr%3D8-98-spons%26psc%3D1&qualifier=1663453014&id=8525798811265763&widgetName=sp_atf_next>\n",
      "2022-09-18 00:17:48 [scrapy.core.engine] DEBUG: Crawled (200) <GET https://www.amazon.com/Standard-Deviants-Statistics-Vol-1/dp/B000VE4UJC/ref=sr_1_105?crid=34NU2WDUOI6UY&keywords=statistics&qid=1663453014&sprefix=statisti%2Caps%2C263&sr=8-105> (referer: https://www.amazon.com/s?k=statistics&page=3&crid=34NU2WDUOI6UY&qid=1663448390&sprefix=statisti%2Caps%2C263&ref=sr_pg_3)\n",
      "2022-09-18 00:17:48 [scrapy.core.engine] DEBUG: Crawled (200) <GET https://www.amazon.com/SPSS-Statistics-Dummies-Keith-McCormick/dp/1119560837/ref=sr_1_104?crid=34NU2WDUOI6UY&keywords=statistics&qid=1663453014&sprefix=statisti%2Caps%2C263&sr=8-104> (referer: https://www.amazon.com/s?k=statistics&page=3&crid=34NU2WDUOI6UY&qid=1663448390&sprefix=statisti%2Caps%2C263&ref=sr_pg_3)\n",
      "2022-09-18 00:17:48 [scrapy.downloadermiddlewares.redirect] DEBUG: Redirecting (302) to <GET https://www.amazon.com/Colors-Numbers-Salil-Mehta/dp/B08C998584/ref=sr_1_82_sspa?crid=34NU2WDUOI6UY&keywords=statistics&qid=1663453001&sprefix=statisti%2Caps%2C263&sr=8-82-spons&psc=1&spLa=ZW5jcnlwdGVkUXVhbGlmaWVyPUEyM045OTFRSUU1S0k3JmVuY3J5cHRlZElkPUEwNTkyNDU4M0gxS1U5SDA3QkxOWSZlbmNyeXB0ZWRBZElkPUEwMjM1NjMyVTE3S1ZOOUJYTUNBJndpZGdldE5hbWU9c3BfbXRmJmFjdGlvbj1jbGlja1JlZGlyZWN0JmRvTm90TG9nQ2xpY2s9dHJ1ZQ==> from <GET https://www.amazon.com/gp/slredirect/picassoRedirect.html/ref=pa_sp_mtf_aps_sr_pg2_1?ie=UTF8&adId=A0235632U17KVN9BXMCA&url=%2FColors-Numbers-Salil-Mehta%2Fdp%2FB08C998584%2Fref%3Dsr_1_82_sspa%3Fcrid%3D34NU2WDUOI6UY%26keywords%3Dstatistics%26qid%3D1663453001%26sprefix%3Dstatisti%252Caps%252C263%26sr%3D8-82-spons%26psc%3D1&qualifier=1663453001&id=2863583416353045&widgetName=sp_mtf>\n",
      "2022-09-18 00:17:48 [scrapy.downloadermiddlewares.redirect] DEBUG: Redirecting (302) to <GET https://www.amazon.com/Hands-Financial-Modeling-Microsoft-Excel/dp/1789534623/ref=sr_1_97_sspa?crid=34NU2WDUOI6UY&keywords=statistics&qid=1663453014&sprefix=statisti%2Caps%2C263&sr=8-97-spons&psc=1&spLa=ZW5jcnlwdGVkUXVhbGlmaWVyPUEzM1lHOFUxOEE5UDJDJmVuY3J5cHRlZElkPUEwNTA4MjA1MVpJRVkwTVI4RlJRUCZlbmNyeXB0ZWRBZElkPUEwNzYzNTE0TVc4UktIRjZTNjVDJndpZGdldE5hbWU9c3BfYXRmX25leHQmYWN0aW9uPWNsaWNrUmVkaXJlY3QmZG9Ob3RMb2dDbGljaz10cnVl> from <GET https://www.amazon.com/gp/slredirect/picassoRedirect.html/ref=pa_sp_atf_next_aps_sr_pg3_1?ie=UTF8&adId=A0763514MW8RKHF6S65C&url=%2FHands-Financial-Modeling-Microsoft-Excel%2Fdp%2F1789534623%2Fref%3Dsr_1_97_sspa%3Fcrid%3D34NU2WDUOI6UY%26keywords%3Dstatistics%26qid%3D1663453014%26sprefix%3Dstatisti%252Caps%252C263%26sr%3D8-97-spons%26psc%3D1&qualifier=1663453014&id=8525798811265763&widgetName=sp_atf_next>\n"
     ]
    },
    {
     "name": "stdout",
     "output_type": "stream",
     "text": [
      "185\n",
      "['\\n            \\n              100%\\n            \\n          '] 5.0 out of 5 stars 6 x 0.72 x 9 inches\n"
     ]
    },
    {
     "name": "stderr",
     "output_type": "stream",
     "text": [
      "2022-09-18 00:17:48 [scrapy.downloadermiddlewares.redirect] DEBUG: Redirecting (302) to <GET https://www.amazon.com/Chemistry-Equations-Answers-Quickstudy-Reference/dp/1423201892/ref=sr_1_81_sspa?crid=34NU2WDUOI6UY&keywords=statistics&qid=1663453001&sprefix=statisti%2Caps%2C263&sr=8-81-spons&psc=1&spLa=ZW5jcnlwdGVkUXVhbGlmaWVyPUEyM045OTFRSUU1S0k3JmVuY3J5cHRlZElkPUEwNTkyNDU4M0gxS1U5SDA3QkxOWSZlbmNyeXB0ZWRBZElkPUEwNzY2MjUxMlVSUEI3Sjg1WkVBWSZ3aWRnZXROYW1lPXNwX210ZiZhY3Rpb249Y2xpY2tSZWRpcmVjdCZkb05vdExvZ0NsaWNrPXRydWU=> from <GET https://www.amazon.com/gp/slredirect/picassoRedirect.html/ref=pa_sp_mtf_aps_sr_pg2_1?ie=UTF8&adId=A07662512URPB7J85ZEAY&url=%2FChemistry-Equations-Answers-Quickstudy-Reference%2Fdp%2F1423201892%2Fref%3Dsr_1_81_sspa%3Fcrid%3D34NU2WDUOI6UY%26keywords%3Dstatistics%26qid%3D1663453001%26sprefix%3Dstatisti%252Caps%252C263%26sr%3D8-81-spons%26psc%3D1&qualifier=1663453001&id=2863583416353045&widgetName=sp_mtf>\n",
      "2022-09-18 00:17:48 [scrapy.core.engine] DEBUG: Crawled (200) <GET https://www.amazon.com/Gentle-Introduction-Stata-Alan-Acock/dp/1597182699/ref=sr_1_103?crid=34NU2WDUOI6UY&keywords=statistics&qid=1663453014&sprefix=statisti%2Caps%2C263&sr=8-103> (referer: https://www.amazon.com/s?k=statistics&page=3&crid=34NU2WDUOI6UY&qid=1663448390&sprefix=statisti%2Caps%2C263&ref=sr_pg_3)\n"
     ]
    },
    {
     "name": "stdout",
     "output_type": "stream",
     "text": [
      "186\n",
      "['\\n            \\n              51%\\n            \\n          '] 4.4 out of 5 stars 7.5 x 5.5 x 0.5 inches; 2.93 Ounces\n",
      "187\n",
      "['\\n            \\n              63%\\n            \\n          '] 4.4 out of 5 stars 7.38 x 1.09 x 9.25 inches\n"
     ]
    },
    {
     "name": "stderr",
     "output_type": "stream",
     "text": [
      "2022-09-18 00:17:49 [scrapy.core.engine] DEBUG: Crawled (200) <GET https://www.amazon.com/Statistics-Made-Simple-School-Leaders/dp/0810843226/ref=sr_1_102?crid=34NU2WDUOI6UY&keywords=statistics&qid=1663453014&sprefix=statisti%2Caps%2C263&sr=8-102> (referer: https://www.amazon.com/s?k=statistics&page=3&crid=34NU2WDUOI6UY&qid=1663448390&sprefix=statisti%2Caps%2C263&ref=sr_pg_3)\n"
     ]
    },
    {
     "name": "stdout",
     "output_type": "stream",
     "text": [
      "188\n",
      "['\\n            \\n              81%\\n            \\n          '] 4.6 out of 5 stars 7.2 x 1.5 x 9.3 inches\n"
     ]
    },
    {
     "name": "stderr",
     "output_type": "stream",
     "text": [
      "2022-09-18 00:17:49 [scrapy.core.engine] DEBUG: Crawled (200) <GET https://www.amazon.com/Advanced-High-School-Statistics-Third/dp/1943450153/ref=sr_1_101?crid=34NU2WDUOI6UY&keywords=statistics&qid=1663453014&sprefix=statisti%2Caps%2C263&sr=8-101> (referer: https://www.amazon.com/s?k=statistics&page=3&crid=34NU2WDUOI6UY&qid=1663448390&sprefix=statisti%2Caps%2C263&ref=sr_pg_3)\n"
     ]
    },
    {
     "name": "stdout",
     "output_type": "stream",
     "text": [
      "189\n",
      "['\\n            \\n              59%\\n            \\n          '] 4.1 out of 5 stars 6.25 x 0.37 x 9.25 inches\n",
      "190\n",
      "['\\n            \\n              100%\\n            \\n          '] 4.0 out of 5 stars 8.5 x 1.2 x 11 inches\n"
     ]
    },
    {
     "name": "stderr",
     "output_type": "stream",
     "text": [
      "2022-09-18 00:17:50 [scrapy.core.engine] DEBUG: Crawled (200) <GET https://www.amazon.com/Research-Methods-Statistics-Applications-Kathrynn/dp/1071817833/ref=sr_1_80?crid=34NU2WDUOI6UY&keywords=statistics&qid=1663453001&sprefix=statisti%2Caps%2C263&sr=8-80> (referer: https://www.amazon.com/s?k=statistics&page=2&crid=34NU2WDUOI6UY&qid=1663448390&sprefix=statisti%2Caps%2C263&ref=sr_pg_2)\n",
      "2022-09-18 00:17:50 [scrapy.core.engine] DEBUG: Crawled (200) <GET https://www.amazon.com/Mathematical-Thinking-Analytical-Problem-Solving-Decision-Making-ebook/dp/B09NPC6B9Y/ref=sr_1_77?crid=34NU2WDUOI6UY&keywords=statistics&qid=1663453001&sprefix=statisti%2Caps%2C263&sr=8-77> (referer: https://www.amazon.com/s?k=statistics&page=2&crid=34NU2WDUOI6UY&qid=1663448390&sprefix=statisti%2Caps%2C263&ref=sr_pg_2)\n",
      "2022-09-18 00:17:50 [scrapy.core.engine] DEBUG: Crawled (200) <GET https://www.amazon.com/Social-Statistics-Conducting-Presenting-Sociology/dp/1032115289/ref=sr_1_78?crid=34NU2WDUOI6UY&keywords=statistics&qid=1663453001&sprefix=statisti%2Caps%2C263&sr=8-78> (referer: https://www.amazon.com/s?k=statistics&page=2&crid=34NU2WDUOI6UY&qid=1663448390&sprefix=statisti%2Caps%2C263&ref=sr_pg_2)\n"
     ]
    },
    {
     "name": "stdout",
     "output_type": "stream",
     "text": [
      "191\n",
      "['\\n            \\n              100%\\n            \\n          '] 5.0 out of 5 stars 7.38 x 1.57 x 9.13 inches\n",
      "192\n",
      "['\\n            \\n              57%\\n            \\n          '] 4.3 out of 5 stars None\n"
     ]
    },
    {
     "name": "stderr",
     "output_type": "stream",
     "text": [
      "2022-09-18 00:17:51 [scrapy.core.engine] DEBUG: Crawled (200) <GET https://www.amazon.com/Art-Thinking-Critically-Questions-Illogical/dp/B08F7X4ZYP/ref=sr_1_100_sspa?crid=34NU2WDUOI6UY&keywords=statistics&qid=1663453014&sprefix=statisti%2Caps%2C263&sr=8-100-spons&psc=1&spLa=ZW5jcnlwdGVkUXVhbGlmaWVyPUEzM1lHOFUxOEE5UDJDJmVuY3J5cHRlZElkPUEwNTA4MjA1MVpJRVkwTVI4RlJRUCZlbmNyeXB0ZWRBZElkPUEwNTA2NDA2WU1HTlNPWlFTWEdGJndpZGdldE5hbWU9c3BfYXRmX25leHQmYWN0aW9uPWNsaWNrUmVkaXJlY3QmZG9Ob3RMb2dDbGljaz10cnVl> (referer: https://www.amazon.com/s?k=statistics&page=3&crid=34NU2WDUOI6UY&qid=1663448390&sprefix=statisti%2Caps%2C263&ref=sr_pg_3)\n",
      "2022-09-18 00:17:51 [scrapy.core.engine] DEBUG: Crawled (200) <GET https://www.amazon.com/Effective-Data-Science-Infrastructure-scientists/dp/1617299197/ref=sr_1_99_sspa?crid=34NU2WDUOI6UY&keywords=statistics&qid=1663453014&sprefix=statisti%2Caps%2C263&sr=8-99-spons&psc=1&spLa=ZW5jcnlwdGVkUXVhbGlmaWVyPUEzM1lHOFUxOEE5UDJDJmVuY3J5cHRlZElkPUEwNTA4MjA1MVpJRVkwTVI4RlJRUCZlbmNyeXB0ZWRBZElkPUEwNDI0MzkyMk0yOVVZUkxPU0pBSyZ3aWRnZXROYW1lPXNwX2F0Zl9uZXh0JmFjdGlvbj1jbGlja1JlZGlyZWN0JmRvTm90TG9nQ2xpY2s9dHJ1ZQ==> (referer: https://www.amazon.com/s?k=statistics&page=3&crid=34NU2WDUOI6UY&qid=1663448390&sprefix=statisti%2Caps%2C263&ref=sr_pg_3)\n"
     ]
    },
    {
     "name": "stdout",
     "output_type": "stream",
     "text": [
      "193\n",
      "['\\n            \\n              100%\\n            \\n          '] 5.0 out of 5 stars 7.75 x 1.25 x 9.5 inches\n"
     ]
    },
    {
     "name": "stderr",
     "output_type": "stream",
     "text": [
      "2022-09-18 00:17:51 [scrapy.core.engine] DEBUG: Crawled (200) <GET https://www.amazon.com/Regression-Analysis-Intuitive-Interpreting-Linear/dp/1735431184/ref=sr_1_76?crid=34NU2WDUOI6UY&keywords=statistics&qid=1663453001&sprefix=statisti%2Caps%2C263&sr=8-76> (referer: https://www.amazon.com/s?k=statistics&page=2&crid=34NU2WDUOI6UY&qid=1663448390&sprefix=statisti%2Caps%2C263&ref=sr_pg_2)\n"
     ]
    },
    {
     "name": "stdout",
     "output_type": "stream",
     "text": [
      "194\n",
      "['\\n            \\n              52%\\n            \\n          '] 4.1 out of 5 stars 5 x 0.66 x 8 inches\n",
      "195\n",
      "['\\n            \\n              100%\\n            \\n          '] 5.0 out of 5 stars 7.38 x 0.8 x 9.25 inches\n"
     ]
    },
    {
     "name": "stderr",
     "output_type": "stream",
     "text": [
      "2022-09-18 00:17:51 [scrapy.core.engine] DEBUG: Crawled (200) <GET https://www.amazon.com/Elementary-Statistics-13th-Mario-Triola/dp/0134462459/ref=sr_1_79?crid=34NU2WDUOI6UY&keywords=statistics&qid=1663453001&sprefix=statisti%2Caps%2C263&sr=8-79> (referer: https://www.amazon.com/s?k=statistics&page=2&crid=34NU2WDUOI6UY&qid=1663448390&sprefix=statisti%2Caps%2C263&ref=sr_pg_2)\n",
      "2022-09-18 00:17:52 [scrapy.core.engine] DEBUG: Crawled (200) <GET https://www.amazon.com/SQL-Data-Analytics-efficient-analysis/dp/1789807352/ref=sr_1_98_sspa?crid=34NU2WDUOI6UY&keywords=statistics&qid=1663453014&sprefix=statisti%2Caps%2C263&sr=8-98-spons&psc=1&spLa=ZW5jcnlwdGVkUXVhbGlmaWVyPUEzM1lHOFUxOEE5UDJDJmVuY3J5cHRlZElkPUEwNTA4MjA1MVpJRVkwTVI4RlJRUCZlbmNyeXB0ZWRBZElkPUEwNzIxMDA3M0Q5RjBITFpNNkdBVSZ3aWRnZXROYW1lPXNwX2F0Zl9uZXh0JmFjdGlvbj1jbGlja1JlZGlyZWN0JmRvTm90TG9nQ2xpY2s9dHJ1ZQ==> (referer: https://www.amazon.com/s?k=statistics&page=3&crid=34NU2WDUOI6UY&qid=1663448390&sprefix=statisti%2Caps%2C263&ref=sr_pg_3)\n"
     ]
    },
    {
     "name": "stdout",
     "output_type": "stream",
     "text": [
      "196\n",
      "['\\n            \\n              77%\\n            \\n          '] 4.6 out of 5 stars 6 x 0.8 x 9 inches\n",
      "197\n",
      "['\\n            \\n              73%\\n            \\n          '] 4.4 out of 5 stars 8.5 x 1.4 x 11 inches\n",
      "198\n",
      "['\\n            \\n              68%\\n            \\n          '] 4.4 out of 5 stars 7.5 x 0.87 x 9.25 inches\n"
     ]
    },
    {
     "name": "stderr",
     "output_type": "stream",
     "text": [
      "2022-09-18 00:17:52 [scrapy.core.engine] DEBUG: Crawled (200) <GET https://www.amazon.com/Children-Their-Development-Robert-Kail/dp/0133595684/ref=sr_1_75?crid=34NU2WDUOI6UY&keywords=statistics&qid=1663453001&sprefix=statisti%2Caps%2C263&sr=8-75> (referer: https://www.amazon.com/s?k=statistics&page=2&crid=34NU2WDUOI6UY&qid=1663448390&sprefix=statisti%2Caps%2C263&ref=sr_pg_2)\n",
      "2022-09-18 00:17:53 [scrapy.core.engine] DEBUG: Crawled (200) <GET https://www.amazon.com/Colors-Numbers-Salil-Mehta/dp/B08C998584/ref=sr_1_82_sspa?crid=34NU2WDUOI6UY&keywords=statistics&qid=1663453001&sprefix=statisti%2Caps%2C263&sr=8-82-spons&psc=1&spLa=ZW5jcnlwdGVkUXVhbGlmaWVyPUEyM045OTFRSUU1S0k3JmVuY3J5cHRlZElkPUEwNTkyNDU4M0gxS1U5SDA3QkxOWSZlbmNyeXB0ZWRBZElkPUEwMjM1NjMyVTE3S1ZOOUJYTUNBJndpZGdldE5hbWU9c3BfbXRmJmFjdGlvbj1jbGlja1JlZGlyZWN0JmRvTm90TG9nQ2xpY2s9dHJ1ZQ==> (referer: https://www.amazon.com/s?k=statistics&page=2&crid=34NU2WDUOI6UY&qid=1663448390&sprefix=statisti%2Caps%2C263&ref=sr_pg_2)\n"
     ]
    },
    {
     "name": "stdout",
     "output_type": "stream",
     "text": [
      "199\n",
      "['\\n            \\n              77%\\n            \\n          '] 4.5 out of 5 stars 8.5 x 1 x 10.9 inches\n"
     ]
    },
    {
     "name": "stderr",
     "output_type": "stream",
     "text": [
      "2022-09-18 00:17:53 [scrapy.core.engine] DEBUG: Crawled (200) <GET https://www.amazon.com/Sports-Analytics-World-Scientific-Finance-ebook/dp/B09PMHCQBF/ref=sr_1_74?crid=34NU2WDUOI6UY&keywords=statistics&qid=1663453001&sprefix=statisti%2Caps%2C263&sr=8-74> (referer: https://www.amazon.com/s?k=statistics&page=2&crid=34NU2WDUOI6UY&qid=1663448390&sprefix=statisti%2Caps%2C263&ref=sr_pg_2)\n",
      "2022-09-18 00:17:53 [scrapy.core.engine] DEBUG: Crawled (200) <GET https://www.amazon.com/Hands-Financial-Modeling-Microsoft-Excel/dp/1789534623/ref=sr_1_97_sspa?crid=34NU2WDUOI6UY&keywords=statistics&qid=1663453014&sprefix=statisti%2Caps%2C263&sr=8-97-spons&psc=1&spLa=ZW5jcnlwdGVkUXVhbGlmaWVyPUEzM1lHOFUxOEE5UDJDJmVuY3J5cHRlZElkPUEwNTA4MjA1MVpJRVkwTVI4RlJRUCZlbmNyeXB0ZWRBZElkPUEwNzYzNTE0TVc4UktIRjZTNjVDJndpZGdldE5hbWU9c3BfYXRmX25leHQmYWN0aW9uPWNsaWNrUmVkaXJlY3QmZG9Ob3RMb2dDbGljaz10cnVl> (referer: https://www.amazon.com/s?k=statistics&page=3&crid=34NU2WDUOI6UY&qid=1663448390&sprefix=statisti%2Caps%2C263&ref=sr_pg_3)\n"
     ]
    },
    {
     "name": "stdout",
     "output_type": "stream",
     "text": [
      "200\n",
      "['\\n            \\n              58%\\n            \\n          '] 3.8 out of 5 stars 8.5 x 0.06 x 8.5 inches\n"
     ]
    },
    {
     "name": "stderr",
     "output_type": "stream",
     "text": [
      "2022-09-18 00:17:54 [scrapy.downloadermiddlewares.redirect] DEBUG: Redirecting (302) to <GET https://www.amazon.com/Thinking-Statistically-Uri-Bram/dp/0995529523/ref=sr_1_68_sspa?crid=34NU2WDUOI6UY&keywords=statistics&qid=1663453001&sprefix=statisti%2Caps%2C263&sr=8-68-spons&psc=1&spLa=ZW5jcnlwdGVkUXVhbGlmaWVyPUEyM045OTFRSUU1S0k3JmVuY3J5cHRlZElkPUEwNTkyNDU4M0gxS1U5SDA3QkxOWSZlbmNyeXB0ZWRBZElkPUEwNTA3NjU1MkRJOTREUUU1RzY3WSZ3aWRnZXROYW1lPXNwX210ZiZhY3Rpb249Y2xpY2tSZWRpcmVjdCZkb05vdExvZ0NsaWNrPXRydWU=> from <GET https://www.amazon.com/gp/slredirect/picassoRedirect.html/ref=pa_sp_mtf_aps_sr_pg2_1?ie=UTF8&adId=A05076552DI94DQE5G67Y&url=%2FThinking-Statistically-Uri-Bram%2Fdp%2F0995529523%2Fref%3Dsr_1_68_sspa%3Fcrid%3D34NU2WDUOI6UY%26keywords%3Dstatistics%26qid%3D1663453001%26sprefix%3Dstatisti%252Caps%252C263%26sr%3D8-68-spons%26psc%3D1&qualifier=1663453001&id=2863583416353045&widgetName=sp_mtf>\n",
      "2022-09-18 00:17:54 [scrapy.core.engine] DEBUG: Crawled (200) <GET https://www.amazon.com/Probability-Statistical-Inference-10th-Robert/dp/013518939X/ref=sr_1_73?crid=34NU2WDUOI6UY&keywords=statistics&qid=1663453001&sprefix=statisti%2Caps%2C263&sr=8-73> (referer: https://www.amazon.com/s?k=statistics&page=2&crid=34NU2WDUOI6UY&qid=1663448390&sprefix=statisti%2Caps%2C263&ref=sr_pg_2)\n"
     ]
    },
    {
     "name": "stdout",
     "output_type": "stream",
     "text": [
      "201\n",
      "['\\n            \\n              50%\\n            \\n          '] 2.0 out of 5 stars None\n",
      "202\n",
      "['\\n            \\n              60%\\n            \\n          '] 4.2 out of 5 stars 7.5 x 0.66 x 9.25 inches\n"
     ]
    },
    {
     "name": "stderr",
     "output_type": "stream",
     "text": [
      "2022-09-18 00:17:54 [scrapy.downloadermiddlewares.redirect] DEBUG: Redirecting (302) to <GET https://www.amazon.com/Basic-Business-Statistics-Textbooks-Matheamtical/dp/0387983546/ref=sr_1_66_sspa?crid=34NU2WDUOI6UY&keywords=statistics&qid=1663453001&sprefix=statisti%2Caps%2C263&sr=8-66-spons&psc=1&spLa=ZW5jcnlwdGVkUXVhbGlmaWVyPUEyM045OTFRSUU1S0k3JmVuY3J5cHRlZElkPUEwNTkyNDU4M0gxS1U5SDA3QkxOWSZlbmNyeXB0ZWRBZElkPUEwNDQ3MzQwMVVES05aSFlPRlVMMiZ3aWRnZXROYW1lPXNwX210ZiZhY3Rpb249Y2xpY2tSZWRpcmVjdCZkb05vdExvZ0NsaWNrPXRydWU=> from <GET https://www.amazon.com/gp/slredirect/picassoRedirect.html/ref=pa_sp_mtf_aps_sr_pg2_1?ie=UTF8&adId=A04473401UDKNZHYOFUL2&url=%2FBasic-Business-Statistics-Textbooks-Matheamtical%2Fdp%2F0387983546%2Fref%3Dsr_1_66_sspa%3Fcrid%3D34NU2WDUOI6UY%26keywords%3Dstatistics%26qid%3D1663453001%26sprefix%3Dstatisti%252Caps%252C263%26sr%3D8-66-spons%26psc%3D1&qualifier=1663453001&id=2863583416353045&widgetName=sp_mtf>\n",
      "2022-09-18 00:17:54 [scrapy.core.engine] DEBUG: Crawled (200) <GET https://www.amazon.com/Statistical-Methods-Social-Sciences-5th/dp/013450710X/ref=sr_1_72?crid=34NU2WDUOI6UY&keywords=statistics&qid=1663453001&sprefix=statisti%2Caps%2C263&sr=8-72> (referer: https://www.amazon.com/s?k=statistics&page=2&crid=34NU2WDUOI6UY&qid=1663448390&sprefix=statisti%2Caps%2C263&ref=sr_pg_2)\n",
      "2022-09-18 00:17:54 [scrapy.downloadermiddlewares.redirect] DEBUG: Redirecting (302) to <GET https://www.amazon.com/Regression-Analysis-Intuitive-Interpreting-Linear/dp/1735431184/ref=sr_1_65_sspa?crid=34NU2WDUOI6UY&keywords=statistics&qid=1663453001&sprefix=statisti%2Caps%2C263&sr=8-65-spons&psc=1&spLa=ZW5jcnlwdGVkUXVhbGlmaWVyPUEyM045OTFRSUU1S0k3JmVuY3J5cHRlZElkPUEwNTkyNDU4M0gxS1U5SDA3QkxOWSZlbmNyeXB0ZWRBZElkPUEwOTM3NzEzMzFHMVhSMkJaUzEwUyZ3aWRnZXROYW1lPXNwX210ZiZhY3Rpb249Y2xpY2tSZWRpcmVjdCZkb05vdExvZ0NsaWNrPXRydWU=> from <GET https://www.amazon.com/gp/slredirect/picassoRedirect.html/ref=pa_sp_mtf_aps_sr_pg2_1?ie=UTF8&adId=A093771331G1XR2BZS10S&url=%2FRegression-Analysis-Intuitive-Interpreting-Linear%2Fdp%2F1735431184%2Fref%3Dsr_1_65_sspa%3Fcrid%3D34NU2WDUOI6UY%26keywords%3Dstatistics%26qid%3D1663453001%26sprefix%3Dstatisti%252Caps%252C263%26sr%3D8-65-spons%26psc%3D1&qualifier=1663453001&id=2863583416353045&widgetName=sp_mtf>\n",
      "2022-09-18 00:17:54 [scrapy.downloadermiddlewares.redirect] DEBUG: Redirecting (302) to <GET https://www.amazon.com/Lite-Statistics-Basic-Steps-Minitab%C2%AE/dp/B08CJNJS3Q/ref=sr_1_67_sspa?crid=34NU2WDUOI6UY&keywords=statistics&qid=1663453001&sprefix=statisti%2Caps%2C263&sr=8-67-spons&psc=1&spLa=ZW5jcnlwdGVkUXVhbGlmaWVyPUEyM045OTFRSUU1S0k3JmVuY3J5cHRlZElkPUEwNTkyNDU4M0gxS1U5SDA3QkxOWSZlbmNyeXB0ZWRBZElkPUEwODE0Njc5MTNFQVNLRjFBNFZVMyZ3aWRnZXROYW1lPXNwX210ZiZhY3Rpb249Y2xpY2tSZWRpcmVjdCZkb05vdExvZ0NsaWNrPXRydWU=> from <GET https://www.amazon.com/gp/slredirect/picassoRedirect.html/ref=pa_sp_mtf_aps_sr_pg2_1?ie=UTF8&adId=A081467913EASKF1A4VU3&url=%2FLite-Statistics-Basic-Steps-Minitab%25C2%25AE%2Fdp%2FB08CJNJS3Q%2Fref%3Dsr_1_67_sspa%3Fcrid%3D34NU2WDUOI6UY%26keywords%3Dstatistics%26qid%3D1663453001%26sprefix%3Dstatisti%252Caps%252C263%26sr%3D8-67-spons%26psc%3D1&qualifier=1663453001&id=2863583416353045&widgetName=sp_mtf>\n",
      "2022-09-18 00:17:54 [scrapy.core.engine] DEBUG: Crawled (200) <GET https://www.amazon.com/Chemistry-Equations-Answers-Quickstudy-Reference/dp/1423201892/ref=sr_1_81_sspa?crid=34NU2WDUOI6UY&keywords=statistics&qid=1663453001&sprefix=statisti%2Caps%2C263&sr=8-81-spons&psc=1&spLa=ZW5jcnlwdGVkUXVhbGlmaWVyPUEyM045OTFRSUU1S0k3JmVuY3J5cHRlZElkPUEwNTkyNDU4M0gxS1U5SDA3QkxOWSZlbmNyeXB0ZWRBZElkPUEwNzY2MjUxMlVSUEI3Sjg1WkVBWSZ3aWRnZXROYW1lPXNwX210ZiZhY3Rpb249Y2xpY2tSZWRpcmVjdCZkb05vdExvZ0NsaWNrPXRydWU=> (referer: https://www.amazon.com/s?k=statistics&page=2&crid=34NU2WDUOI6UY&qid=1663448390&sprefix=statisti%2Caps%2C263&ref=sr_pg_2)\n"
     ]
    },
    {
     "name": "stdout",
     "output_type": "stream",
     "text": [
      "203\n",
      "['\\n            \\n              93%\\n            \\n          '] 4.9 out of 5 stars 8.4 x 1 x 10.2 inches\n",
      "204\n",
      "['\\n            \\n              67%\\n            \\n          '] 4.3 out of 5 stars 8.4 x 1.75 x 10.25 inches\n",
      "205\n",
      "['\\n            \\n              81%\\n            \\n          '] 4.7 out of 5 stars 8.5 x 11 x 0.06 inches\n"
     ]
    },
    {
     "name": "stderr",
     "output_type": "stream",
     "text": [
      "2022-09-18 00:17:55 [scrapy.core.engine] DEBUG: Crawled (200) <GET https://www.amazon.com/Causal-Inference-Statistics-Judea-Pearl/dp/1119186846/ref=sr_1_71?crid=34NU2WDUOI6UY&keywords=statistics&qid=1663453001&sprefix=statisti%2Caps%2C263&sr=8-71> (referer: https://www.amazon.com/s?k=statistics&page=2&crid=34NU2WDUOI6UY&qid=1663448390&sprefix=statisti%2Caps%2C263&ref=sr_pg_2)\n",
      "2022-09-18 00:17:55 [scrapy.core.engine] DEBUG: Crawled (200) <GET https://www.amazon.com/Steps-AP-Statistics-2022/dp/1264267347/ref=sr_1_70?crid=34NU2WDUOI6UY&keywords=statistics&qid=1663453001&sprefix=statisti%2Caps%2C263&sr=8-70> (referer: https://www.amazon.com/s?k=statistics&page=2&crid=34NU2WDUOI6UY&qid=1663448390&sprefix=statisti%2Caps%2C263&ref=sr_pg_2)\n"
     ]
    },
    {
     "name": "stdout",
     "output_type": "stream",
     "text": [
      "206\n",
      "['\\n            \\n              75%\\n            \\n          '] 4.5 out of 5 stars 6.6 x 0.7 x 9.4 inches\n",
      "207\n",
      "['\\n            \\n              87%\\n            \\n          '] 4.7 out of 5 stars 11.26 x 1.06 x 10.98 inches\n"
     ]
    },
    {
     "name": "stderr",
     "output_type": "stream",
     "text": [
      "2022-09-18 00:17:56 [scrapy.core.engine] DEBUG: Crawled (200) <GET https://www.amazon.com/Data-Science-Transform-Visualize-Model/dp/1491910399/ref=sr_1_69?crid=34NU2WDUOI6UY&keywords=statistics&qid=1663453001&sprefix=statisti%2Caps%2C263&sr=8-69> (referer: https://www.amazon.com/s?k=statistics&page=2&crid=34NU2WDUOI6UY&qid=1663448390&sprefix=statisti%2Caps%2C263&ref=sr_pg_2)\n",
      "2022-09-18 00:17:56 [scrapy.core.engine] DEBUG: Crawled (200) <GET https://www.amazon.com/Even-You-Learn-Statistics-Analytics/dp/0137654766/ref=sr_1_60?crid=34NU2WDUOI6UY&keywords=statistics&qid=1663453001&sprefix=statisti%2Caps%2C263&sr=8-60> (referer: https://www.amazon.com/s?k=statistics&page=2&crid=34NU2WDUOI6UY&qid=1663448390&sprefix=statisti%2Caps%2C263&ref=sr_pg_2)\n"
     ]
    },
    {
     "name": "stdout",
     "output_type": "stream",
     "text": [
      "208\n",
      "['\\n            \\n              81%\\n            \\n          '] 4.7 out of 5 stars 6 x 1.05 x 9 inches\n"
     ]
    },
    {
     "name": "stderr",
     "output_type": "stream",
     "text": [
      "2022-09-18 00:17:57 [scrapy.core.engine] DEBUG: Crawled (200) <GET https://www.amazon.com/Introduction-Probability-Statistics-Engineers-Scientists/dp/0128243465/ref=sr_1_63?crid=34NU2WDUOI6UY&keywords=statistics&qid=1663453001&sprefix=statisti%2Caps%2C263&sr=8-63> (referer: https://www.amazon.com/s?k=statistics&page=2&crid=34NU2WDUOI6UY&qid=1663448390&sprefix=statisti%2Caps%2C263&ref=sr_pg_2)\n",
      "2022-09-18 00:17:57 [scrapy.core.engine] DEBUG: Crawled (200) <GET https://www.amazon.com/Steps-Statistics-2023-Elite-Student/dp/1264500335/ref=sr_1_62?crid=34NU2WDUOI6UY&keywords=statistics&qid=1663453001&sprefix=statisti%2Caps%2C263&sr=8-62> (referer: https://www.amazon.com/s?k=statistics&page=2&crid=34NU2WDUOI6UY&qid=1663448390&sprefix=statisti%2Caps%2C263&ref=sr_pg_2)\n",
      "2022-09-18 00:17:57 [scrapy.core.engine] DEBUG: Crawled (200) <GET https://www.amazon.com/Book-Why-Science-Cause-Effect/dp/1541698967/ref=sr_1_61?crid=34NU2WDUOI6UY&keywords=statistics&qid=1663453001&sprefix=statisti%2Caps%2C263&sr=8-61> (referer: https://www.amazon.com/s?k=statistics&page=2&crid=34NU2WDUOI6UY&qid=1663448390&sprefix=statisti%2Caps%2C263&ref=sr_pg_2)\n"
     ]
    },
    {
     "name": "stdout",
     "output_type": "stream",
     "text": [
      "209\n",
      "['\\n            \\n              100%\\n            \\n          '] 5.0 out of 5 stars 7 x 0.89 x 9.13 inches\n",
      "210\n",
      "['\\n            \\n              45%\\n            \\n          '] 3.3 out of 5 stars 9.57 x 1.1 x 7.83 inches\n",
      "211\n",
      "[] None 8.4 x 1.3 x 10.7 inches\n"
     ]
    },
    {
     "name": "stderr",
     "output_type": "stream",
     "text": [
      "2022-09-18 00:17:57 [scrapy.core.engine] DEBUG: Crawled (200) <GET https://www.amazon.com/Book-First-Course-Programming-Statistics/dp/1593276516/ref=sr_1_64?crid=34NU2WDUOI6UY&keywords=statistics&qid=1663453001&sprefix=statisti%2Caps%2C263&sr=8-64> (referer: https://www.amazon.com/s?k=statistics&page=2&crid=34NU2WDUOI6UY&qid=1663448390&sprefix=statisti%2Caps%2C263&ref=sr_pg_2)\n"
     ]
    },
    {
     "name": "stdout",
     "output_type": "stream",
     "text": [
      "212\n",
      "['\\n            \\n              68%\\n            \\n          '] 4.4 out of 5 stars 5.5 x 1.08 x 8.25 inches\n"
     ]
    },
    {
     "name": "stderr",
     "output_type": "stream",
     "text": [
      "2022-09-18 00:17:58 [scrapy.core.engine] DEBUG: Crawled (200) <GET https://www.amazon.com/Data-Mining-Business-Analytics-Applications/dp/1119549841/ref=sr_1_59?crid=34NU2WDUOI6UY&keywords=statistics&qid=1663453001&sprefix=statisti%2Caps%2C263&sr=8-59> (referer: https://www.amazon.com/s?k=statistics&page=2&crid=34NU2WDUOI6UY&qid=1663448390&sprefix=statisti%2Caps%2C263&ref=sr_pg_2)\n",
      "2022-09-18 00:17:58 [scrapy.core.engine] DEBUG: Crawled (200) <GET https://www.amazon.com/Thinking-Statistically-Uri-Bram/dp/0995529523/ref=sr_1_68_sspa?crid=34NU2WDUOI6UY&keywords=statistics&qid=1663453001&sprefix=statisti%2Caps%2C263&sr=8-68-spons&psc=1&spLa=ZW5jcnlwdGVkUXVhbGlmaWVyPUEyM045OTFRSUU1S0k3JmVuY3J5cHRlZElkPUEwNTkyNDU4M0gxS1U5SDA3QkxOWSZlbmNyeXB0ZWRBZElkPUEwNTA3NjU1MkRJOTREUUU1RzY3WSZ3aWRnZXROYW1lPXNwX210ZiZhY3Rpb249Y2xpY2tSZWRpcmVjdCZkb05vdExvZ0NsaWNrPXRydWU=> (referer: https://www.amazon.com/s?k=statistics&page=2&crid=34NU2WDUOI6UY&qid=1663448390&sprefix=statisti%2Caps%2C263&ref=sr_pg_2)\n"
     ]
    },
    {
     "name": "stdout",
     "output_type": "stream",
     "text": [
      "213\n",
      "['\\n            \\n              74%\\n            \\n          '] 4.6 out of 5 stars 7 x 1.44 x 9.25 inches\n",
      "214\n",
      "['\\n            \\n              76%\\n            \\n          '] 4.5 out of 5 stars 7.2 x 1.2 x 10.1 inches\n"
     ]
    },
    {
     "name": "stderr",
     "output_type": "stream",
     "text": [
      "2022-09-18 00:17:59 [scrapy.core.engine] DEBUG: Crawled (200) <GET https://www.amazon.com/Applied-Statistics-Business-Economics-International/dp/1260597644/ref=sr_1_58?crid=34NU2WDUOI6UY&keywords=statistics&qid=1663453001&sprefix=statisti%2Caps%2C263&sr=8-58> (referer: https://www.amazon.com/s?k=statistics&page=2&crid=34NU2WDUOI6UY&qid=1663448390&sprefix=statisti%2Caps%2C263&ref=sr_pg_2)\n",
      "2022-09-18 00:17:59 [scrapy.core.engine] DEBUG: Crawled (200) <GET https://www.amazon.com/Lite-Statistics-Basic-Steps-Minitab%C2%AE/dp/B08CJNJS3Q/ref=sr_1_67_sspa?crid=34NU2WDUOI6UY&keywords=statistics&qid=1663453001&sprefix=statisti%2Caps%2C263&sr=8-67-spons&psc=1&spLa=ZW5jcnlwdGVkUXVhbGlmaWVyPUEyM045OTFRSUU1S0k3JmVuY3J5cHRlZElkPUEwNTkyNDU4M0gxS1U5SDA3QkxOWSZlbmNyeXB0ZWRBZElkPUEwODE0Njc5MTNFQVNLRjFBNFZVMyZ3aWRnZXROYW1lPXNwX210ZiZhY3Rpb249Y2xpY2tSZWRpcmVjdCZkb05vdExvZ0NsaWNrPXRydWU=> (referer: https://www.amazon.com/s?k=statistics&page=2&crid=34NU2WDUOI6UY&qid=1663448390&sprefix=statisti%2Caps%2C263&ref=sr_pg_2)\n"
     ]
    },
    {
     "name": "stdout",
     "output_type": "stream",
     "text": [
      "215\n",
      "['\\n            \\n              42%\\n            \\n          '] 3.9 out of 5 stars 5 x 0.34 x 8 inches\n"
     ]
    },
    {
     "name": "stderr",
     "output_type": "stream",
     "text": [
      "2022-09-18 00:17:59 [scrapy.core.engine] DEBUG: Crawled (200) <GET https://www.amazon.com/The-Joy-Of-Stats/dp/B09DC1HYDN/ref=sr_1_54?crid=34NU2WDUOI6UY&keywords=statistics&qid=1663453001&sprefix=statisti%2Caps%2C263&sr=8-54> (referer: https://www.amazon.com/s?k=statistics&page=2&crid=34NU2WDUOI6UY&qid=1663448390&sprefix=statisti%2Caps%2C263&ref=sr_pg_2)\n"
     ]
    },
    {
     "name": "stdout",
     "output_type": "stream",
     "text": [
      "216\n",
      "['\\n            \\n              56%\\n            \\n          '] 4.4 out of 5 stars 10.87 x 1.22 x 8.54 inches\n"
     ]
    },
    {
     "name": "stderr",
     "output_type": "stream",
     "text": [
      "2022-09-18 00:17:59 [scrapy.core.engine] DEBUG: Crawled (200) <GET https://www.amazon.com/Basic-Business-Statistics-Textbooks-Matheamtical/dp/0387983546/ref=sr_1_66_sspa?crid=34NU2WDUOI6UY&keywords=statistics&qid=1663453001&sprefix=statisti%2Caps%2C263&sr=8-66-spons&psc=1&spLa=ZW5jcnlwdGVkUXVhbGlmaWVyPUEyM045OTFRSUU1S0k3JmVuY3J5cHRlZElkPUEwNTkyNDU4M0gxS1U5SDA3QkxOWSZlbmNyeXB0ZWRBZElkPUEwNDQ3MzQwMVVES05aSFlPRlVMMiZ3aWRnZXROYW1lPXNwX210ZiZhY3Rpb249Y2xpY2tSZWRpcmVjdCZkb05vdExvZ0NsaWNrPXRydWU=> (referer: https://www.amazon.com/s?k=statistics&page=2&crid=34NU2WDUOI6UY&qid=1663448390&sprefix=statisti%2Caps%2C263&ref=sr_pg_2)\n"
     ]
    },
    {
     "name": "stdout",
     "output_type": "stream",
     "text": [
      "217\n",
      "['\\n            \\n              51%\\n            \\n          '] 4.0 out of 5 stars 8.5 x 0.68 x 11 inches\n"
     ]
    },
    {
     "name": "stderr",
     "output_type": "stream",
     "text": [
      "2022-09-18 00:17:59 [scrapy.downloadermiddlewares.redirect] DEBUG: Redirecting (302) to <GET https://www.amazon.com/General-Relativity-Simplified-Assessed-Sochi/dp/B08DSTHMZN/ref=sr_1_52_sspa?crid=34NU2WDUOI6UY&keywords=statistics&qid=1663453001&sprefix=statisti%2Caps%2C263&sr=8-52-spons&psc=1&spLa=ZW5jcnlwdGVkUXVhbGlmaWVyPUEyM045OTFRSUU1S0k3JmVuY3J5cHRlZElkPUEwNTkyNDU4M0gxS1U5SDA3QkxOWSZlbmNyeXB0ZWRBZElkPUEwNDE1OTgxTlA3VFVZNTMzMlNEJndpZGdldE5hbWU9c3BfYXRmX25leHQmYWN0aW9uPWNsaWNrUmVkaXJlY3QmZG9Ob3RMb2dDbGljaz10cnVl> from <GET https://www.amazon.com/gp/slredirect/picassoRedirect.html/ref=pa_sp_atf_next_aps_sr_pg2_1?ie=UTF8&adId=A0415981NP7TUY5332SD&url=%2FGeneral-Relativity-Simplified-Assessed-Sochi%2Fdp%2FB08DSTHMZN%2Fref%3Dsr_1_52_sspa%3Fcrid%3D34NU2WDUOI6UY%26keywords%3Dstatistics%26qid%3D1663453001%26sprefix%3Dstatisti%252Caps%252C263%26sr%3D8-52-spons%26psc%3D1&qualifier=1663453001&id=2863583416353045&widgetName=sp_atf_next>\n"
     ]
    },
    {
     "name": "stdout",
     "output_type": "stream",
     "text": [
      "218\n",
      "[] None None\n"
     ]
    },
    {
     "name": "stderr",
     "output_type": "stream",
     "text": [
      "2022-09-18 00:18:00 [scrapy.downloadermiddlewares.redirect] DEBUG: Redirecting (302) to <GET https://www.amazon.com/Approaches-Understanding-Structural-Equation-Models/dp/168621068X/ref=sr_1_50_sspa?crid=34NU2WDUOI6UY&keywords=statistics&qid=1663453001&sprefix=statisti%2Caps%2C263&sr=8-50-spons&psc=1&spLa=ZW5jcnlwdGVkUXVhbGlmaWVyPUEyM045OTFRSUU1S0k3JmVuY3J5cHRlZElkPUEwNTkyNDU4M0gxS1U5SDA3QkxOWSZlbmNyeXB0ZWRBZElkPUEwNjk1OTc3SEkyVVo2VkI3VkRDJndpZGdldE5hbWU9c3BfYXRmX25leHQmYWN0aW9uPWNsaWNrUmVkaXJlY3QmZG9Ob3RMb2dDbGljaz10cnVl> from <GET https://www.amazon.com/gp/slredirect/picassoRedirect.html/ref=pa_sp_atf_next_aps_sr_pg2_1?ie=UTF8&adId=A0695977HI2UZ6VB7VDC&url=%2FApproaches-Understanding-Structural-Equation-Models%2Fdp%2F168621068X%2Fref%3Dsr_1_50_sspa%3Fcrid%3D34NU2WDUOI6UY%26keywords%3Dstatistics%26qid%3D1663453001%26sprefix%3Dstatisti%252Caps%252C263%26sr%3D8-50-spons%26psc%3D1&qualifier=1663453001&id=2863583416353045&widgetName=sp_atf_next>\n",
      "2022-09-18 00:18:00 [scrapy.core.engine] DEBUG: Crawled (200) <GET https://www.amazon.com/Regression-Analysis-Intuitive-Interpreting-Linear/dp/1735431184/ref=sr_1_65_sspa?crid=34NU2WDUOI6UY&keywords=statistics&qid=1663453001&sprefix=statisti%2Caps%2C263&sr=8-65-spons&psc=1&spLa=ZW5jcnlwdGVkUXVhbGlmaWVyPUEyM045OTFRSUU1S0k3JmVuY3J5cHRlZElkPUEwNTkyNDU4M0gxS1U5SDA3QkxOWSZlbmNyeXB0ZWRBZElkPUEwOTM3NzEzMzFHMVhSMkJaUzEwUyZ3aWRnZXROYW1lPXNwX210ZiZhY3Rpb249Y2xpY2tSZWRpcmVjdCZkb05vdExvZ0NsaWNrPXRydWU=> (referer: https://www.amazon.com/s?k=statistics&page=2&crid=34NU2WDUOI6UY&qid=1663448390&sprefix=statisti%2Caps%2C263&ref=sr_pg_2)\n",
      "2022-09-18 00:18:00 [scrapy.downloadermiddlewares.redirect] DEBUG: Redirecting (302) to <GET https://www.amazon.com/Statistics-Topics-Salil-Mehta/dp/1499273533/ref=sr_1_51_sspa?crid=34NU2WDUOI6UY&keywords=statistics&qid=1663453001&sprefix=statisti%2Caps%2C263&sr=8-51-spons&psc=1&spLa=ZW5jcnlwdGVkUXVhbGlmaWVyPUEyM045OTFRSUU1S0k3JmVuY3J5cHRlZElkPUEwNTkyNDU4M0gxS1U5SDA3QkxOWSZlbmNyeXB0ZWRBZElkPUEwMTM2MDk3MjdaSDdWRE9GVVlYQyZ3aWRnZXROYW1lPXNwX2F0Zl9uZXh0JmFjdGlvbj1jbGlja1JlZGlyZWN0JmRvTm90TG9nQ2xpY2s9dHJ1ZQ==> from <GET https://www.amazon.com/gp/slredirect/picassoRedirect.html/ref=pa_sp_atf_next_aps_sr_pg2_1?ie=UTF8&adId=A013609727ZH7VDOFUYXC&url=%2FStatistics-Topics-Salil-Mehta%2Fdp%2F1499273533%2Fref%3Dsr_1_51_sspa%3Fcrid%3D34NU2WDUOI6UY%26keywords%3Dstatistics%26qid%3D1663453001%26sprefix%3Dstatisti%252Caps%252C263%26sr%3D8-51-spons%26psc%3D1&qualifier=1663453001&id=2863583416353045&widgetName=sp_atf_next>\n",
      "2022-09-18 00:18:00 [scrapy.core.engine] DEBUG: Crawled (200) <GET https://www.amazon.com/Statistics-4th-David-Freedman/dp/8130915871/ref=sr_1_57?crid=34NU2WDUOI6UY&keywords=statistics&qid=1663453001&sprefix=statisti%2Caps%2C263&sr=8-57> (referer: https://www.amazon.com/s?k=statistics&page=2&crid=34NU2WDUOI6UY&qid=1663448390&sprefix=statisti%2Caps%2C263&ref=sr_pg_2)\n"
     ]
    },
    {
     "name": "stdout",
     "output_type": "stream",
     "text": [
      "219\n",
      "['\\n            \\n              70%\\n            \\n          '] 4.3 out of 5 stars 8.27 x 0.6 x 11.02 inches\n"
     ]
    },
    {
     "name": "stderr",
     "output_type": "stream",
     "text": [
      "2022-09-18 00:18:00 [scrapy.downloadermiddlewares.redirect] DEBUG: Redirecting (302) to <GET https://www.amazon.com/Hypothesis-Testing-Intuitive-Making-Decisions/dp/173543115X/ref=sr_1_49_sspa?crid=34NU2WDUOI6UY&keywords=statistics&qid=1663453001&sprefix=statisti%2Caps%2C263&sr=8-49-spons&psc=1&spLa=ZW5jcnlwdGVkUXVhbGlmaWVyPUEyM045OTFRSUU1S0k3JmVuY3J5cHRlZElkPUEwNTkyNDU4M0gxS1U5SDA3QkxOWSZlbmNyeXB0ZWRBZElkPUEwMjExMTgxM01CNlNIVDhJOFVURyZ3aWRnZXROYW1lPXNwX2F0Zl9uZXh0JmFjdGlvbj1jbGlja1JlZGlyZWN0JmRvTm90TG9nQ2xpY2s9dHJ1ZQ==> from <GET https://www.amazon.com/gp/slredirect/picassoRedirect.html/ref=pa_sp_atf_next_aps_sr_pg2_1?ie=UTF8&adId=A02111813MB6SHT8I8UTG&url=%2FHypothesis-Testing-Intuitive-Making-Decisions%2Fdp%2F173543115X%2Fref%3Dsr_1_49_sspa%3Fcrid%3D34NU2WDUOI6UY%26keywords%3Dstatistics%26qid%3D1663453001%26sprefix%3Dstatisti%252Caps%252C263%26sr%3D8-49-spons%26psc%3D1&qualifier=1663453001&id=2863583416353045&widgetName=sp_atf_next>\n"
     ]
    },
    {
     "name": "stdout",
     "output_type": "stream",
     "text": [
      "220\n",
      "['\\n            \\n              77%\\n            \\n          '] 4.6 out of 5 stars 6 x 0.8 x 9 inches\n",
      "221\n",
      "['\\n            \\n              65%\\n            \\n          '] 4.3 out of 5 stars 7.99 x 10 x 1.85 inches\n"
     ]
    },
    {
     "name": "stderr",
     "output_type": "stream",
     "text": [
      "2022-09-18 00:18:00 [scrapy.core.engine] DEBUG: Crawled (200) <GET https://www.amazon.com/Elementary-Statistics-Picturing-World-7th/dp/0134683412/ref=sr_1_56?crid=34NU2WDUOI6UY&keywords=statistics&qid=1663453001&sprefix=statisti%2Caps%2C263&sr=8-56> (referer: https://www.amazon.com/s?k=statistics&page=2&crid=34NU2WDUOI6UY&qid=1663448390&sprefix=statisti%2Caps%2C263&ref=sr_pg_2)\n",
      "2022-09-18 00:18:01 [scrapy.core.engine] DEBUG: Crawled (200) <GET https://www.amazon.com/Making-Sense-Statistics-Fred-Pyrczak/dp/1138894761/ref=sr_1_55?crid=34NU2WDUOI6UY&keywords=statistics&qid=1663453001&sprefix=statisti%2Caps%2C263&sr=8-55> (referer: https://www.amazon.com/s?k=statistics&page=2&crid=34NU2WDUOI6UY&qid=1663448390&sprefix=statisti%2Caps%2C263&ref=sr_pg_2)\n",
      "2022-09-18 00:18:01 [scrapy.core.engine] DEBUG: Crawled (200) <GET https://www.amazon.com/How-Summarize-Data-Statistics/dp/B07FYTKV5H/ref=sr_1_23?crid=34NU2WDUOI6UY&keywords=statistics&qid=1663452985&sprefix=statisti%2Caps%2C263&sr=8-23> (referer: https://www.amazon.com/s?k=statistics&crid=34NU2WDUOI6UY&qid=1663448396&sprefix=statisti%2Caps%2C263&ref=sr_pg_1)\n"
     ]
    },
    {
     "name": "stdout",
     "output_type": "stream",
     "text": [
      "222\n",
      "['\\n            \\n              72%\\n            \\n          '] 4.5 out of 5 stars 8.5 x 1.1 x 11 inches\n"
     ]
    },
    {
     "name": "stderr",
     "output_type": "stream",
     "text": [
      "2022-09-18 00:18:01 [scrapy.core.engine] DEBUG: Crawled (200) <GET https://www.amazon.com/Psychology-Statistics-Dummies-Donncha-Hanna/dp/1119952875/ref=sr_1_53?crid=34NU2WDUOI6UY&keywords=statistics&qid=1663453001&sprefix=statisti%2Caps%2C263&sr=8-53> (referer: https://www.amazon.com/s?k=statistics&page=2&crid=34NU2WDUOI6UY&qid=1663448390&sprefix=statisti%2Caps%2C263&ref=sr_pg_2)\n"
     ]
    },
    {
     "name": "stdout",
     "output_type": "stream",
     "text": [
      "223\n",
      "['\\n            \\n              78%\\n            \\n          '] 4.6 out of 5 stars 8.5 x 0.57 x 11 inches\n",
      "224\n",
      "[] None None\n",
      "225\n",
      "['\\n            \\n              69%\\n            \\n          '] 4.5 out of 5 stars 7.4 x 1 x 9.3 inches\n"
     ]
    },
    {
     "name": "stderr",
     "output_type": "stream",
     "text": [
      "2022-09-18 00:18:02 [scrapy.core.engine] DEBUG: Crawled (200) <GET https://www.amazon.com/Introduction-Modern-Statistics-Mine-%C3%87etinkaya-Rundel/dp/1943450145/ref=sr_1_26?crid=34NU2WDUOI6UY&keywords=statistics&qid=1663452985&sprefix=statisti%2Caps%2C263&sr=8-26> (referer: https://www.amazon.com/s?k=statistics&crid=34NU2WDUOI6UY&qid=1663448396&sprefix=statisti%2Caps%2C263&ref=sr_pg_1)\n",
      "2022-09-18 00:18:02 [scrapy.core.engine] DEBUG: Crawled (200) <GET https://www.amazon.com/AP-Statistics-Premium-2023-2024-Comprehensive/dp/1506280099/ref=sr_1_25?crid=34NU2WDUOI6UY&keywords=statistics&qid=1663452985&sprefix=statisti%2Caps%2C263&sr=8-25> (referer: https://www.amazon.com/s?k=statistics&crid=34NU2WDUOI6UY&qid=1663448396&sprefix=statisti%2Caps%2C263&ref=sr_pg_1)\n",
      "2022-09-18 00:18:02 [scrapy.core.engine] DEBUG: Crawled (200) <GET https://www.amazon.com/Statistics-Essentials-Dummies-Deborah-Rumsey/dp/1119590302/ref=sr_1_24?crid=34NU2WDUOI6UY&keywords=statistics&qid=1663452985&sprefix=statisti%2Caps%2C263&sr=8-24> (referer: https://www.amazon.com/s?k=statistics&crid=34NU2WDUOI6UY&qid=1663448396&sprefix=statisti%2Caps%2C263&ref=sr_pg_1)\n",
      "2022-09-18 00:18:02 [scrapy.downloadermiddlewares.redirect] DEBUG: Redirecting (302) to <GET https://www.amazon.com/Nature-Statistics-Dover-Books-Mathematics/dp/0486779696/ref=sr_1_20_sspa?crid=34NU2WDUOI6UY&keywords=statistics&qid=1663452985&sprefix=statisti%2Caps%2C263&sr=8-20-spons&psc=1&spLa=ZW5jcnlwdGVkUXVhbGlmaWVyPUEzS05CV1ZCT0ZDWk1UJmVuY3J5cHRlZElkPUEwMzAxNTc0MVExSklKNEpKTkUzTyZlbmNyeXB0ZWRBZElkPUEwNDI2NDQ5SlNBRllISjgxVExWJndpZGdldE5hbWU9c3BfbXRmJmFjdGlvbj1jbGlja1JlZGlyZWN0JmRvTm90TG9nQ2xpY2s9dHJ1ZQ==> from <GET https://www.amazon.com/gp/slredirect/picassoRedirect.html/ref=pa_sp_mtf_aps_sr_pg1_1?ie=UTF8&adId=A0426449JSAFYHJ81TLV&url=%2FNature-Statistics-Dover-Books-Mathematics%2Fdp%2F0486779696%2Fref%3Dsr_1_20_sspa%3Fcrid%3D34NU2WDUOI6UY%26keywords%3Dstatistics%26qid%3D1663452985%26sprefix%3Dstatisti%252Caps%252C263%26sr%3D8-20-spons%26psc%3D1&qualifier=1663452985&id=4337139339647806&widgetName=sp_mtf>\n",
      "2022-09-18 00:18:02 [scrapy.downloadermiddlewares.redirect] DEBUG: Redirecting (302) to <GET https://www.amazon.com/Learn-Statistics-Today-Equations-Included/dp/1793436789/ref=sr_1_19_sspa?crid=34NU2WDUOI6UY&keywords=statistics&qid=1663452985&sprefix=statisti%2Caps%2C263&sr=8-19-spons&psc=1&spLa=ZW5jcnlwdGVkUXVhbGlmaWVyPUEzS05CV1ZCT0ZDWk1UJmVuY3J5cHRlZElkPUEwMzAxNTc0MVExSklKNEpKTkUzTyZlbmNyeXB0ZWRBZElkPUEwNjI3ODk2MVpNVTBMUlk0OEhYSyZ3aWRnZXROYW1lPXNwX210ZiZhY3Rpb249Y2xpY2tSZWRpcmVjdCZkb05vdExvZ0NsaWNrPXRydWU=> from <GET https://www.amazon.com/gp/slredirect/picassoRedirect.html/ref=pa_sp_mtf_aps_sr_pg1_1?ie=UTF8&adId=A06278961ZMU0LRY48HXK&url=%2FLearn-Statistics-Today-Equations-Included%2Fdp%2F1793436789%2Fref%3Dsr_1_19_sspa%3Fcrid%3D34NU2WDUOI6UY%26keywords%3Dstatistics%26qid%3D1663452985%26sprefix%3Dstatisti%252Caps%252C263%26sr%3D8-19-spons%26psc%3D1&qualifier=1663452985&id=4337139339647806&widgetName=sp_mtf>\n",
      "2022-09-18 00:18:02 [scrapy.core.engine] DEBUG: Crawled (200) <GET https://www.amazon.com/All-Statistics-Statistical-Inference-Springer/dp/1441923225/ref=sr_1_27?crid=34NU2WDUOI6UY&keywords=statistics&qid=1663452985&sprefix=statisti%2Caps%2C263&sr=8-27> (referer: https://www.amazon.com/s?k=statistics&crid=34NU2WDUOI6UY&qid=1663448396&sprefix=statisti%2Caps%2C263&ref=sr_pg_1)\n"
     ]
    },
    {
     "name": "stdout",
     "output_type": "stream",
     "text": [
      "226\n",
      "['\\n            \\n              92%\\n            \\n          '] 4.8 out of 5 stars 8.5 x 1.24 x 11 inches\n",
      "227\n",
      "['\\n            \\n              63%\\n            \\n          '] 4.6 out of 5 stars 8.38 x 1.5 x 10.88 inches\n"
     ]
    },
    {
     "name": "stderr",
     "output_type": "stream",
     "text": [
      "2022-09-18 00:18:03 [scrapy.core.engine] DEBUG: Crawled (200) <GET https://www.amazon.com/Introduction-Statistics-Intuitive-Analyzing-Discoveries/dp/1735431109/ref=sr_1_21?crid=34NU2WDUOI6UY&keywords=statistics&qid=1663452985&sprefix=statisti%2Caps%2C263&sr=8-21> (referer: https://www.amazon.com/s?k=statistics&crid=34NU2WDUOI6UY&qid=1663448396&sprefix=statisti%2Caps%2C263&ref=sr_pg_1)\n"
     ]
    },
    {
     "name": "stdout",
     "output_type": "stream",
     "text": [
      "228\n",
      "['\\n            \\n              63%\\n            \\n          '] 4.3 out of 5 stars 5.5 x 0.6 x 8.4 inches\n",
      "229\n",
      "['\\n            \\n              71%\\n            \\n          '] 4.5 out of 5 stars 6 x 1.06 x 9 inches\n"
     ]
    },
    {
     "name": "stderr",
     "output_type": "stream",
     "text": [
      "2022-09-18 00:18:03 [scrapy.core.engine] DEBUG: Crawled (200) <GET https://www.amazon.com/Bayesian-Statistics-Fun-Will-Kurt/dp/1593279566/ref=sr_1_22?crid=34NU2WDUOI6UY&keywords=statistics&qid=1663452985&sprefix=statisti%2Caps%2C263&sr=8-22> (referer: https://www.amazon.com/s?k=statistics&crid=34NU2WDUOI6UY&qid=1663448396&sprefix=statisti%2Caps%2C263&ref=sr_pg_1)\n",
      "2022-09-18 00:18:03 [scrapy.downloadermiddlewares.redirect] DEBUG: Redirecting (302) to <GET https://www.amazon.com/Clinical-Biostatistics-Epidemiology-Ridiculously-Simple/dp/1935660020/ref=sr_1_18_sspa?crid=34NU2WDUOI6UY&keywords=statistics&qid=1663452985&sprefix=statisti%2Caps%2C263&sr=8-18-spons&psc=1&spLa=ZW5jcnlwdGVkUXVhbGlmaWVyPUEzS05CV1ZCT0ZDWk1UJmVuY3J5cHRlZElkPUEwMzAxNTc0MVExSklKNEpKTkUzTyZlbmNyeXB0ZWRBZElkPUEwODQ3NzMwMjBXN0JORkJETjhWRSZ3aWRnZXROYW1lPXNwX210ZiZhY3Rpb249Y2xpY2tSZWRpcmVjdCZkb05vdExvZ0NsaWNrPXRydWU=> from <GET https://www.amazon.com/gp/slredirect/picassoRedirect.html/ref=pa_sp_mtf_aps_sr_pg1_1?ie=UTF8&adId=A084773020W7BNFBDN8VE&url=%2FClinical-Biostatistics-Epidemiology-Ridiculously-Simple%2Fdp%2F1935660020%2Fref%3Dsr_1_18_sspa%3Fcrid%3D34NU2WDUOI6UY%26keywords%3Dstatistics%26qid%3D1663452985%26sprefix%3Dstatisti%252Caps%252C263%26sr%3D8-18-spons%26psc%3D1&qualifier=1663452985&id=4337139339647806&widgetName=sp_mtf>\n"
     ]
    },
    {
     "name": "stdout",
     "output_type": "stream",
     "text": [
      "230\n",
      "['\\n            \\n              72%\\n            \\n          '] 4.5 out of 5 stars 6 x 0.58 x 9 inches\n",
      "231\n",
      "['\\n            \\n              74%\\n            \\n          '] 4.6 out of 5 stars 7 x 0.66 x 9.25 inches\n"
     ]
    },
    {
     "name": "stderr",
     "output_type": "stream",
     "text": [
      "2022-09-18 00:18:03 [scrapy.core.engine] DEBUG: Crawled (200) <GET https://www.amazon.com/General-Relativity-Simplified-Assessed-Sochi/dp/B08DSTHMZN/ref=sr_1_52_sspa?crid=34NU2WDUOI6UY&keywords=statistics&qid=1663453001&sprefix=statisti%2Caps%2C263&sr=8-52-spons&psc=1&spLa=ZW5jcnlwdGVkUXVhbGlmaWVyPUEyM045OTFRSUU1S0k3JmVuY3J5cHRlZElkPUEwNTkyNDU4M0gxS1U5SDA3QkxOWSZlbmNyeXB0ZWRBZElkPUEwNDE1OTgxTlA3VFVZNTMzMlNEJndpZGdldE5hbWU9c3BfYXRmX25leHQmYWN0aW9uPWNsaWNrUmVkaXJlY3QmZG9Ob3RMb2dDbGljaz10cnVl> (referer: https://www.amazon.com/s?k=statistics&page=2&crid=34NU2WDUOI6UY&qid=1663448390&sprefix=statisti%2Caps%2C263&ref=sr_pg_2)\n",
      "2022-09-18 00:18:03 [scrapy.core.engine] DEBUG: Crawled (200) <GET https://www.amazon.com/Statistics-Topics-Salil-Mehta/dp/1499273533/ref=sr_1_51_sspa?crid=34NU2WDUOI6UY&keywords=statistics&qid=1663453001&sprefix=statisti%2Caps%2C263&sr=8-51-spons&psc=1&spLa=ZW5jcnlwdGVkUXVhbGlmaWVyPUEyM045OTFRSUU1S0k3JmVuY3J5cHRlZElkPUEwNTkyNDU4M0gxS1U5SDA3QkxOWSZlbmNyeXB0ZWRBZElkPUEwMTM2MDk3MjdaSDdWRE9GVVlYQyZ3aWRnZXROYW1lPXNwX2F0Zl9uZXh0JmFjdGlvbj1jbGlja1JlZGlyZWN0JmRvTm90TG9nQ2xpY2s9dHJ1ZQ==> (referer: https://www.amazon.com/s?k=statistics&page=2&crid=34NU2WDUOI6UY&qid=1663448390&sprefix=statisti%2Caps%2C263&ref=sr_pg_2)\n"
     ]
    },
    {
     "name": "stdout",
     "output_type": "stream",
     "text": [
      "232\n",
      "['\\n            \\n              77%\\n            \\n          '] 4.7 out of 5 stars 8.5 x 0.56 x 11 inches\n",
      "233\n",
      "['\\n            \\n              25%\\n            \\n          '] 3.3 out of 5 stars 5.98 x 0.34 x 9.02 inches\n"
     ]
    },
    {
     "name": "stderr",
     "output_type": "stream",
     "text": [
      "2022-09-18 00:18:04 [scrapy.core.engine] DEBUG: Crawled (200) <GET https://www.amazon.com/Approaches-Understanding-Structural-Equation-Models/dp/168621068X/ref=sr_1_50_sspa?crid=34NU2WDUOI6UY&keywords=statistics&qid=1663453001&sprefix=statisti%2Caps%2C263&sr=8-50-spons&psc=1&spLa=ZW5jcnlwdGVkUXVhbGlmaWVyPUEyM045OTFRSUU1S0k3JmVuY3J5cHRlZElkPUEwNTkyNDU4M0gxS1U5SDA3QkxOWSZlbmNyeXB0ZWRBZElkPUEwNjk1OTc3SEkyVVo2VkI3VkRDJndpZGdldE5hbWU9c3BfYXRmX25leHQmYWN0aW9uPWNsaWNrUmVkaXJlY3QmZG9Ob3RMb2dDbGljaz10cnVl> (referer: https://www.amazon.com/s?k=statistics&page=2&crid=34NU2WDUOI6UY&qid=1663448390&sprefix=statisti%2Caps%2C263&ref=sr_pg_2)\n",
      "2022-09-18 00:18:05 [scrapy.core.engine] DEBUG: Crawled (200) <GET https://www.amazon.com/Hypothesis-Testing-Intuitive-Making-Decisions/dp/173543115X/ref=sr_1_49_sspa?crid=34NU2WDUOI6UY&keywords=statistics&qid=1663453001&sprefix=statisti%2Caps%2C263&sr=8-49-spons&psc=1&spLa=ZW5jcnlwdGVkUXVhbGlmaWVyPUEyM045OTFRSUU1S0k3JmVuY3J5cHRlZElkPUEwNTkyNDU4M0gxS1U5SDA3QkxOWSZlbmNyeXB0ZWRBZElkPUEwMjExMTgxM01CNlNIVDhJOFVURyZ3aWRnZXROYW1lPXNwX2F0Zl9uZXh0JmFjdGlvbj1jbGlja1JlZGlyZWN0JmRvTm90TG9nQ2xpY2s9dHJ1ZQ==> (referer: https://www.amazon.com/s?k=statistics&page=2&crid=34NU2WDUOI6UY&qid=1663448390&sprefix=statisti%2Caps%2C263&ref=sr_pg_2)\n"
     ]
    },
    {
     "name": "stdout",
     "output_type": "stream",
     "text": [
      "234\n",
      "['\\n            \\n              45%\\n            \\n          '] 4.2 out of 5 stars 8.5 x 1.01 x 11 inches\n"
     ]
    },
    {
     "name": "stderr",
     "output_type": "stream",
     "text": [
      "2022-09-18 00:18:05 [scrapy.core.engine] DEBUG: Crawled (200) <GET https://www.amazon.com/Introductory-Statistics-Barbara-Illowsk-ebook/dp/B075FF48ST/ref=sr_1_12?crid=34NU2WDUOI6UY&keywords=statistics&qid=1663452985&sprefix=statisti%2Caps%2C263&sr=8-12> (referer: https://www.amazon.com/s?k=statistics&crid=34NU2WDUOI6UY&qid=1663448396&sprefix=statisti%2Caps%2C263&ref=sr_pg_1)\n",
      "2022-09-18 00:18:05 [scrapy.core.engine] DEBUG: Crawled (200) <GET https://www.amazon.com/Nature-Statistics-Dover-Books-Mathematics/dp/0486779696/ref=sr_1_20_sspa?crid=34NU2WDUOI6UY&keywords=statistics&qid=1663452985&sprefix=statisti%2Caps%2C263&sr=8-20-spons&psc=1&spLa=ZW5jcnlwdGVkUXVhbGlmaWVyPUEzS05CV1ZCT0ZDWk1UJmVuY3J5cHRlZElkPUEwMzAxNTc0MVExSklKNEpKTkUzTyZlbmNyeXB0ZWRBZElkPUEwNDI2NDQ5SlNBRllISjgxVExWJndpZGdldE5hbWU9c3BfbXRmJmFjdGlvbj1jbGlja1JlZGlyZWN0JmRvTm90TG9nQ2xpY2s9dHJ1ZQ==> (referer: https://www.amazon.com/s?k=statistics&crid=34NU2WDUOI6UY&qid=1663448396&sprefix=statisti%2Caps%2C263&ref=sr_pg_1)\n"
     ]
    },
    {
     "name": "stdout",
     "output_type": "stream",
     "text": [
      "235\n",
      "['\\n            \\n              78%\\n            \\n          '] 4.6 out of 5 stars 6 x 0.86 x 9 inches\n",
      "236\n",
      "['\\n            \\n              73%\\n            \\n          '] 4.4 out of 5 stars None\n",
      "237\n",
      "['\\n            \\n              62%\\n            \\n          '] 4.2 out of 5 stars 5.5 x 0.9 x 8.4 inches\n"
     ]
    },
    {
     "name": "stderr",
     "output_type": "stream",
     "text": [
      "2022-09-18 00:18:06 [scrapy.core.engine] DEBUG: Crawled (200) <GET https://www.amazon.com/Clinical-Biostatistics-Epidemiology-Ridiculously-Simple/dp/1935660020/ref=sr_1_18_sspa?crid=34NU2WDUOI6UY&keywords=statistics&qid=1663452985&sprefix=statisti%2Caps%2C263&sr=8-18-spons&psc=1&spLa=ZW5jcnlwdGVkUXVhbGlmaWVyPUEzS05CV1ZCT0ZDWk1UJmVuY3J5cHRlZElkPUEwMzAxNTc0MVExSklKNEpKTkUzTyZlbmNyeXB0ZWRBZElkPUEwODQ3NzMwMjBXN0JORkJETjhWRSZ3aWRnZXROYW1lPXNwX210ZiZhY3Rpb249Y2xpY2tSZWRpcmVjdCZkb05vdExvZ0NsaWNrPXRydWU=> (referer: https://www.amazon.com/s?k=statistics&crid=34NU2WDUOI6UY&qid=1663448396&sprefix=statisti%2Caps%2C263&ref=sr_pg_1)\n",
      "2022-09-18 00:18:06 [scrapy.core.engine] DEBUG: Crawled (200) <GET https://www.amazon.com/Learn-Statistics-Today-Equations-Included/dp/1793436789/ref=sr_1_19_sspa?crid=34NU2WDUOI6UY&keywords=statistics&qid=1663452985&sprefix=statisti%2Caps%2C263&sr=8-19-spons&psc=1&spLa=ZW5jcnlwdGVkUXVhbGlmaWVyPUEzS05CV1ZCT0ZDWk1UJmVuY3J5cHRlZElkPUEwMzAxNTc0MVExSklKNEpKTkUzTyZlbmNyeXB0ZWRBZElkPUEwNjI3ODk2MVpNVTBMUlk0OEhYSyZ3aWRnZXROYW1lPXNwX210ZiZhY3Rpb249Y2xpY2tSZWRpcmVjdCZkb05vdExvZ0NsaWNrPXRydWU=> (referer: https://www.amazon.com/s?k=statistics&crid=34NU2WDUOI6UY&qid=1663448396&sprefix=statisti%2Caps%2C263&ref=sr_pg_1)\n"
     ]
    },
    {
     "name": "stdout",
     "output_type": "stream",
     "text": [
      "238\n",
      "['\\n            \\n              70%\\n            \\n          '] 4.5 out of 5 stars 5.75 x 0.25 x 8.75 inches\n"
     ]
    },
    {
     "name": "stderr",
     "output_type": "stream",
     "text": [
      "2022-09-18 00:18:06 [scrapy.core.engine] INFO: Closing spider (finished)\n",
      "2022-09-18 00:18:06 [scrapy.statscollectors] INFO: Dumping Scrapy stats:\n",
      "{'downloader/request_bytes': 288914,\n",
      " 'downloader/request_count': 291,\n",
      " 'downloader/request_method_count/GET': 291,\n",
      " 'downloader/response_bytes': 59326308,\n",
      " 'downloader/response_count': 291,\n",
      " 'downloader/response_status_count/200': 243,\n",
      " 'downloader/response_status_count/301': 1,\n",
      " 'downloader/response_status_count/302': 47,\n",
      " 'elapsed_time_seconds': 102.12154,\n",
      " 'finish_reason': 'finished',\n",
      " 'finish_time': datetime.datetime(2022, 9, 17, 22, 18, 6, 799062),\n",
      " 'httpcompression/response_bytes': 305038542,\n",
      " 'httpcompression/response_count': 243,\n",
      " 'log_count/DEBUG': 296,\n",
      " 'log_count/ERROR': 1,\n",
      " 'log_count/INFO': 11,\n",
      " 'request_depth_max': 7,\n",
      " 'response_received_count': 243,\n",
      " 'scheduler/dequeued': 291,\n",
      " 'scheduler/dequeued/memory': 291,\n",
      " 'scheduler/enqueued': 291,\n",
      " 'scheduler/enqueued/memory': 291,\n",
      " 'spider_exceptions/PermissionError': 1,\n",
      " 'start_time': datetime.datetime(2022, 9, 17, 22, 16, 24, 677522)}\n",
      "2022-09-18 00:18:06 [scrapy.core.engine] INFO: Spider closed (finished)\n"
     ]
    },
    {
     "name": "stdout",
     "output_type": "stream",
     "text": [
      "239\n",
      "['\\n            \\n              60%\\n            \\n          '] 4.2 out of 5 stars 6 x 0.14 x 9 inches\n"
     ]
    }
   ],
   "source": [
    "import scrapy\n",
    "import csv\n",
    "import time\n",
    "import scrapy_proxies\n",
    "from scrapy.crawler import CrawlerProcess\n",
    "import pandas as pd\n",
    "#import scrapy-fake-useragent\n",
    "class FirstWebsiteSpider(scrapy.Spider):\n",
    "    \n",
    "    rotate_user_agent = True   \n",
    "    name = 'first_website'\n",
    "    #https://www.amazon.com/s?k=data+science&i=stripbooks-intl-ship&page=3&crid=1YWU6OJK4L3BA&qid=1662895059&sprefix=data+science%2Cstripbooks-intl-ship%2C247&ref=sr_pg_3\n",
    "    allowed_domains = [\"www.amazon.com\"] #, \"https://www.amazon.com\"\n",
    "    handle_httpstatus_list = [503]\n",
    "    start_urls = [\"http://www.amazon.com/s?k=statistics&crid=34NU2WDUOI6UY&qid=1663448396&sprefix=statisti%2Caps%2C263&ref=sr_pg_1\"]\n",
    "    list_items=[]\n",
    "    j=1\n",
    "    #download_delay = 3 #The number you write here will be how many seconds scrapy waits before sending another request.\n",
    "    #x=pd.DataFrame([])\n",
    "    n_page_to_scrape=7\n",
    "    items_in_page=60\n",
    "    RETRY_TIMES=20\n",
    "    #DOWNLOADER_MIDDLEWARES = {\n",
    "    #'scrapy.downloadermiddlewares.useragent.UserAgentMiddleware': None,\n",
    "    #'scrapy.downloadermiddlewares.retry.RetryMiddleware': None,\n",
    "    #'scrapy_fake_useragent.middleware.RandomUserAgentMiddleware': 400,\n",
    "    #'scrapy_fake_useragent.middleware.RetryUserAgentMiddleware': 401,\n",
    "    #}\n",
    "    FAKEUSERAGENT_PROVIDERS = [\n",
    "    'scrapy_fake_useragent.providers.FakeUserAgentProvider',  # this is the first provider we'll try\n",
    "    'scrapy_fake_useragent.providers.FakerProvider',  # if FakeUserAgentProvider fails, we'll use faker to generate a user-agent string for us\n",
    "    'scrapy_fake_useragent.providers.FixedUserAgentProvider',  # fall back to USER_AGENT value\n",
    "]\n",
    "    def parse(self, response):\n",
    "        print (response.request.headers['User-Agent'])\n",
    "    def parse(self, response):\n",
    "        #self.j=j\n",
    "        print(self.j)\n",
    "        #time.sleep(3)\n",
    "        next_page_url=f\"https://www.amazon.com/s?k=statistics&page={self.j}&crid=34NU2WDUOI6UY&qid=1663448390&sprefix=statisti%2Caps%2C263&ref=sr_pg_{self.j}\"\n",
    "        box=response.xpath(\"//div[@class='a-section a-spacing-small puis-padding-left-small puis-padding-right-small']\")             #(\"//h2[@class='a-size-mini a-spacing-none a-color-base s-line-clamp-3']\")\n",
    "        #print(box)\n",
    "                                 \n",
    "        #links=[]\n",
    "        #titles=[]\n",
    "        item={}\n",
    "        \n",
    "        for ind,i in enumerate(box):\n",
    "            #print('g')\n",
    "            #country_name = country.xpath(\".//text()\").get()\n",
    "            #title=i.xpath(\"//span[@class='a-size-base a-color-base a-text-normal']/text()\").getall()\n",
    "            title=i.xpath(\".//a[@class='a-link-normal s-underline-text s-underline-link-text s-link-style a-text-normal']/span/text()\").get()\n",
    "            link = i.xpath(\".//a[@class='a-link-normal s-underline-text s-underline-link-text s-link-style a-text-normal']/@href\").get()\n",
    "            author=i.xpath(\".//div[@class='a-row a-size-base a-color-secondary']/a[@class='a-size-base a-link-normal s-underline-text s-underline-link-text s-link-style']/text() | (.//div[@class='a-row a-size-base a-color-secondary']/a[@class='a-link-normal s-underline-text s-underline-link-text s-link-style']/text()) | (.//div[@class='a-row a-size-base a-color-secondary']/span[@class='a-size-base']/text())\").getall()\n",
    "            \n",
    "            #links.append(link)\n",
    "            #'a-link-normal s-underline-text s-underline-link-text s-link-style'\n",
    "            #titles.append(title)\n",
    "            print(title)\n",
    "            #//div[@class='a-section a-spacing-small puis-padding-left-small puis-padding-right-small']/*/*/a[@class='a-link-normal s-underline-text s-underline-link-text s-link-style a-text-normal']/@href  #print(title)\n",
    "            yield response.follow(url=link, callback=self.parse_book, meta={'ind':ind,'title':title,'author':author,'link':link})\n",
    "    \n",
    "  \n",
    "    # Getting data inside the \"link\" website\n",
    "    def parse_book(self, response):\n",
    "        #time.sleep(4)\n",
    "        # Getting country names and each row element inside the population table\n",
    "        title = response.request.meta['title']\n",
    "        ind = response.request.meta['ind']\n",
    "        link = response.request.meta['link']\n",
    "        author = response.request.meta['author']\n",
    "        #if author==[' ']:\n",
    "        price=response.xpath(\"//div[@id='buyNew_cbb']/div[@class='a-row']/div[@class='a-column a-span12 a-text-left']/span/text() | ((//a[@class='a-link-normal']/span[@class='a-color-price']/text())[1]) | (//a[@class='a-button-text']/span[@class='a-color-base']/span[@class='a-size-base a-color-price a-color-price']/text())\").get()\n",
    "        #//div[@id='buyNew_cbb']/div[@class='a-row']/div[@class='a-column a-span12 a-text-left']/span/text() | ((//a[@class='a-link-normal']/span[@class='a-color-price']/text())[1]) \n",
    "        #pages=response.xpath(\"//span[@class='a-list-item']/*[contains(text(),'pages')/text()\").get()\n",
    "        pages=response.xpath(\"//span[@class='a-list-item']/span[contains( text(),'pages')]/text()\").get()\n",
    "        language=response.xpath(\"//span[@class='a-text-bold'][contains(text(),'Language')]/following-sibling::span[1]/text()\").get()\n",
    "        publisher=response.xpath(\"//span[@class='a-text-bold'][contains(text(),'Publisher')]/following-sibling::span[1]/text()\").get()\n",
    "        dimensions=response.xpath(\"//span[@class='a-text-bold'][contains(text(),'Dimensions')]/following-sibling::span[1]/text()\").get()\n",
    "        weight=response.xpath(\"//span[@class='a-text-bold'][contains(text(),'Weight')]/following-sibling::span[1]/text()\").get()\n",
    "        avg_reviews=response.xpath(\"(//a[@class='a-popover-trigger a-declarative']/i[@class='a-icon a-icon-star a-star-5']/span[@class='a-icon-alt']/text())[1] | ((//a[@class='a-popover-trigger a-declarative']/i/span[@class='a-icon-alt'])[1]/text())\").get()\n",
    "        time.sleep(0.1)\n",
    "        star5=response.xpath(\"(//span[@class='a-size-base']/a[contains(text(),'%')])[1]/text()\").getall()\n",
    "        star4=response.xpath(\"(//span[@class='a-size-base']/a[contains(text(),'%')])[2]/text()\").getall()\n",
    "        star3=response.xpath(\"(//span[@class='a-size-base']/a[contains(text(),'%')])[3]/text()\").getall()\n",
    "        star2=response.xpath(\"(//span[@class='a-size-base']/a[contains(text(),'%')])[4]/text()\").getall()\n",
    "        star1=response.xpath(\"(//span[@class='a-size-base']/a[contains(text(),'%')])[5]/text()\").getall()\n",
    "        ISBN_13=response.xpath(\"//div[@id='isbn_feature_div']/div/div/span[contains(text(),'13')]/following-sibling::span[1]/text()\").get()\n",
    "        n_reviews=response.xpath(\"(//span[@class='a-declarative']/a[@class='a-link-normal']/span[@id='acrCustomerReviewText']/text())[1]\").get()\n",
    "        \n",
    "        #print(title)\n",
    "        #author= response.xpath(\"//span[@class='a-declarative']/a[@class='a-link-normal contributorNameID']/text()\").get()  # You can also use the whole class value  --> response.xpath('(//table[@class=\"table table-striped table-bordered table-hover table-condensed table-list\"])[1]/tbody/tr')\n",
    "            # Return data extracted\n",
    "        keys=['title','author','price','pages','avg_reviews','n_reviews','star5','star4','star3','star2','star1','dimensions','weight','language','publisher','ISBN_13','link']\n",
    "        values= [title,author,price,pages,avg_reviews,n_reviews,star5,star4,star3,star2,star1,dimensions,weight,language,publisher,ISBN_13,link]    #  {'title': title, 'author':author}\n",
    "        self.list_items.append(values)\n",
    "        item=dict(zip(keys, values))\n",
    "        print(len(self.list_items))\n",
    "        print(star5,avg_reviews,dimensions)\n",
    "        #print(title,author)\n",
    "        \n",
    "      \n",
    "        #if self.j >1:\n",
    "          #  next_page_url=f\"https://www.amazon.com/s?k=data+science&s=relevanceblender&page={self.j}&crid=2YKZLS0CJFDGI&qid=1663103507&sprefix=data+science%2Caps%2C828&ref=sr_pg_{self.j}\"\n",
    "        #else:\n",
    "            #next_page_url=self.start_urls[0]\n",
    "        #yield scrapy.Request(url=next_page_url, callback=self.parse_pagination, meta={'title':title,'author':author})\n",
    "        \n",
    "        #   def parse_pagination(self,response):\n",
    "        #title = response.request.meta['title']  \n",
    "        #author=response.request.meta['author'] \n",
    "        #print('va beeeeeneeeeeeeeeeeeeeeeeeeeeeeeeeeeeeeeeeeeeeeeeeeeeeeeeeeeeeeeeeeeeeeeeeeeeeeeeeeeeeeeeeeeeeeeeeee')\n",
    "        #if ind==\n",
    "        #print(ind)\n",
    "        \n",
    "        if ind==59:\n",
    "            time.sleep(3)\n",
    "            self.j+=1\n",
    "            next_page_url=f\"https://www.amazon.com/s?k=statistics&page={self.j}&crid=34NU2WDUOI6UY&qid=1663448390&sprefix=statisti%2Caps%2C263&ref=sr_pg_{self.j}\"\n",
    "            if next_page_url and self.j<self.n_page_to_scrape:\n",
    "                print('start_new_page')\n",
    "            \n",
    "                yield scrapy.Request(url=next_page_url, callback=self.parse)#,self.j \n",
    "            #time.sleep(10)\n",
    "         #,'authors','dates'      \n",
    "        if len(self.list_items)==(self.items_in_page): #self.j==self.n_page_to_scrape:\n",
    "            time.sleep(5)\n",
    "            print(self.list_items)\n",
    "            x=pd.DataFrame(self.list_items,columns=keys)\n",
    "            #print(x)\n",
    "            yield x.to_csv(\"outputfile2_statistics.csv\",sep=\",\")\n",
    "            #with open(\"outputfile.csv\", \"w\", newline=\"\") as f:\n",
    "                #writer = csv.DictWriter(f, ['titles','authors','dates'])\n",
    "                #writer.writeheader()           \n",
    "                #writer.writerows(self.list_items)\n",
    "                #print(self.list_items) #\n",
    "        if len(self.list_items)==225:#(self.n_page_to_scrape-2)*(self.items_in_page): #self.j==self.n_page_to_scrape:\n",
    "            #time.sleep(70)\n",
    "            #print(self.list_items)\n",
    "            y=pd.DataFrame(self.list_items,columns=keys)\n",
    "            #print(x)\n",
    "            yield y.to_csv(\"outputfile_final_statistics.csv\",sep=\",\")\n",
    "            #with open(\"outputfile.csv\", \"w\", newline=\"\") as f:\n",
    "                #writer = csv.DictWriter(f, ['titles','authors','dates'])\n",
    "                #writer.writeheader()           \n",
    "                #writer.writerows(self.list_items)\n",
    "                #print(self.list_items) #\n",
    "                \n",
    "#//div[@class='a-row']/a[@class='a-size-base a-link-normal s-underline-text s-underline-link-text s-link-style']/text() | ( //div[@class='a-#row']/span[@class='a-size-base']/text()\n",
    "process = CrawlerProcess({\n",
    "     #'USER_AGENT':'USER_AGENT':\"Mozilla/5.0 (Windows NT 10.0; Win64; x64) AppleWebKit/537.36 (KHTML, like Gecko) Chrome/105.0.0.0 Safari/537.36\"\n",
    "    #'USER_AGENT':\"Mozilla/5.0 (Macintosh; Intel Mac OS X 10_15) AppleWebKit/605.1.15 (KHTML, like Gecko) Version/13.0.5 Safari/605.1.15\"#\n",
    "    #'USER_AGENT':'Mozilla/5.0 (compatible; MSIE 7.0; Windows NT 5.1)'\n",
    "  'USER_AGENT':  \"Mozilla/4.0 (X11; Linux x86_64) AppleWebKit/537.36 (KHTML, like Gecko) Chrome/103.0.5060.53 Safari/537.36\",\n",
    "  #'USER_AGENT':  \"Mozilla/5.0 (Windows NT 10.0; Windows; x64) AppleWebKit/537.36 (KHTML, like Gecko) Chrome/103.0.5060.114 Safari/537.36\",\n",
    "  #'USER_AGENT':  \"Mozilla/5.0 (Macintosh; Intel Mac OS X 10_10_5) AppleWebKit/603.3.8 (KHTML, like Gecko) Version/10.1.2 Safari/603.3.8\",\n",
    "  #'USER_AGENT':  \"Mozilla/5.0 (Macintosh; Intel Mac OS X 10_15_7) AppleWebKit/605.1.15 (KHTML, like Gecko) Version/14.0 Safari/605.1.15\"\n",
    "  #'USER_AGENT':  \"Mozilla/5.0 (Macintosh; Intel Mac OS X 10_15_6) AppleWebKit/605.1.15 (KHTML, like Gecko) Version/14.0 Safari/605.1.15\"\n",
    "  #'USER_AGENT':  \"Mozilla/5.0 (Windows NT 10.0; Windows; x64) AppleWebKit/537.36 (KHTML, like Gecko) Chrome/103.0.5060.114 Safari/537.36\"\n",
    "  #'USER_AGENT':  \"Mozilla/5.0 (X11; Linux x86_64) AppleWebKit/537.36 (KHTML, like Gecko) Chrome/103.0.5060.53 Safari/537.36\"\n",
    "\n",
    "\n",
    "\n",
    "\n",
    "})\n",
    "\n",
    "process.crawl(FirstWebsiteSpider)\n",
    "process.start()\n"
   ]
  },
  {
   "cell_type": "code",
   "execution_count": 2,
   "id": "e13533af",
   "metadata": {},
   "outputs": [
    {
     "ename": "NameError",
     "evalue": "name 'response' is not defined",
     "output_type": "error",
     "traceback": [
      "\u001b[1;31m---------------------------------------------------------------------------\u001b[0m",
      "\u001b[1;31mNameError\u001b[0m                                 Traceback (most recent call last)",
      "\u001b[1;32m<ipython-input-2-38d765480056>\u001b[0m in \u001b[0;36m<module>\u001b[1;34m\u001b[0m\n\u001b[1;32m----> 1\u001b[1;33m \u001b[0mauthors\u001b[0m\u001b[1;33m,\u001b[0m\u001b[0mtitles\u001b[0m\u001b[1;33m=\u001b[0m\u001b[0mFirstWebsiteSpider\u001b[0m\u001b[1;33m.\u001b[0m\u001b[0mparse\u001b[0m\u001b[1;33m(\u001b[0m\u001b[0mscrapy\u001b[0m\u001b[1;33m.\u001b[0m\u001b[0mSpider\u001b[0m\u001b[1;33m,\u001b[0m\u001b[0mresponse\u001b[0m\u001b[1;33m)\u001b[0m\u001b[1;33m\u001b[0m\u001b[1;33m\u001b[0m\u001b[0m\n\u001b[0m",
      "\u001b[1;31mNameError\u001b[0m: name 'response' is not defined"
     ]
    }
   ],
   "source": [
    "authors,titles=FirstWebsiteSpider.parse(scrapy.Spider,response)"
   ]
  },
  {
   "cell_type": "code",
   "execution_count": null,
   "id": "08551c28",
   "metadata": {},
   "outputs": [],
   "source": [
    "@href='/s?k=data+science&amp;i=stripbooks-intl-ship&amp;page=3&amp;crid=20YNDMUXOLCJ6&amp;qid=1663030048&amp;sprefix=data+science%2Cstripbooks-intl-ship%2C314&amp;ref=sr_pg_3' "
   ]
  },
  {
   "cell_type": "code",
   "execution_count": 2,
   "id": "004de66d",
   "metadata": {},
   "outputs": [],
   "source": [
    "j=1\n",
    "p=f'/s?k=data+science&amp;i=stripbooks-intl-ship&amp;page={j}&amp;crid=20YNDMUXOLCJ6&amp;qid=1663030048&amp;sprefix=data+science%2Cstripbooks-intl-ship%2C314&amp;ref=sr_pg_{j}'"
   ]
  },
  {
   "cell_type": "code",
   "execution_count": 3,
   "id": "e413f5a4",
   "metadata": {},
   "outputs": [
    {
     "data": {
      "text/plain": [
       "'/s?k=data+science&amp;i=stripbooks-intl-ship&amp;page=1&amp;crid=20YNDMUXOLCJ6&amp;qid=1663030048&amp;sprefix=data+science%2Cstripbooks-intl-ship%2C314&amp;ref=sr_pg_1'"
      ]
     },
     "execution_count": 3,
     "metadata": {},
     "output_type": "execute_result"
    }
   ],
   "source": [
    "p"
   ]
  },
  {
   "cell_type": "code",
   "execution_count": null,
   "id": "25e7e5b4",
   "metadata": {},
   "outputs": [],
   "source": [
    "<a href=>3</a>"
   ]
  },
  {
   "cell_type": "code",
   "execution_count": 3,
   "id": "35f1fcab",
   "metadata": {},
   "outputs": [
    {
     "data": {
      "text/plain": [
       "'rit0'"
      ]
     },
     "execution_count": 3,
     "metadata": {},
     "output_type": "execute_result"
    }
   ],
   "source": [
    "u=0\n",
    "a=f'rit{u}'\n",
    "a"
   ]
  },
  {
   "cell_type": "code",
   "execution_count": 4,
   "id": "7acad823",
   "metadata": {},
   "outputs": [
    {
     "data": {
      "text/plain": [
       "'rit0'"
      ]
     },
     "execution_count": 4,
     "metadata": {},
     "output_type": "execute_result"
    }
   ],
   "source": [
    "u=1\n",
    "a"
   ]
  },
  {
   "cell_type": "code",
   "execution_count": 2,
   "id": "40f5e1b3",
   "metadata": {},
   "outputs": [],
   "source": []
  },
  {
   "cell_type": "code",
   "execution_count": 3,
   "id": "2c2ed70b",
   "metadata": {},
   "outputs": [
    {
     "data": {
      "text/plain": [
       "[3]"
      ]
     },
     "execution_count": 3,
     "metadata": {},
     "output_type": "execute_result"
    }
   ],
   "source": []
  },
  {
   "cell_type": "code",
   "execution_count": null,
   "id": "c9b908ea",
   "metadata": {},
   "outputs": [],
   "source": [
    "#print(item)    \n",
    "        self.j+=1\n",
    "        print(self.j)\n",
    "        next_page_url=f\"https://www.amazon.com/s?k=data+science&s=relevanceblender&page={self.j}&crid=2YKZLS0CJFDGI&qid=1663103507&sprefix=data+science%2Caps%2C828&ref=sr_pg_{self.j}\"\n",
    "        if next_page_url and self.j<self.n_page_to_scrape:\n",
    "            print('non va bene')\n",
    "            yield response.follow(url=next_page_url, callback=self.parse)#,self.j  \n",
    "         #,'authors','dates'\n",
    "        if self.j==self.n_page_to_scrape:\n",
    "            #print(self.list_items)\n",
    "            x=pd.DataFrame(self.list_items,columns=['title','author'])\n",
    "            #print(x)\n",
    "            yield x.to_csv(\"outputfile2.csv\",sep=\",\")\n",
    "        #yield response.follow(url=next_page_url, callback=self.parse_pagination, meta=item )"
   ]
  }
 ],
 "metadata": {
  "kernelspec": {
   "display_name": "Python 3",
   "language": "python",
   "name": "python3"
  },
  "language_info": {
   "codemirror_mode": {
    "name": "ipython",
    "version": 3
   },
   "file_extension": ".py",
   "mimetype": "text/x-python",
   "name": "python",
   "nbconvert_exporter": "python",
   "pygments_lexer": "ipython3",
   "version": "3.9.5"
  }
 },
 "nbformat": 4,
 "nbformat_minor": 5
}
