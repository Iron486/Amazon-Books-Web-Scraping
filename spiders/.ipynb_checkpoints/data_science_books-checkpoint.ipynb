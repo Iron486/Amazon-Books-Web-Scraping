{
 "cells": [
  {
   "cell_type": "code",
   "execution_count": 1,
   "id": "d3d3b34f",
   "metadata": {},
   "outputs": [
    {
     "name": "stdout",
     "output_type": "stream",
     "text": [
      "Collecting scrapy-fake-useragent\n",
      "  Downloading scrapy_fake_useragent-1.4.4-py2.py3-none-any.whl (6.8 kB)\n",
      "Collecting faker\n",
      "  Downloading Faker-14.2.0-py3-none-any.whl (1.6 MB)\n",
      "Collecting fake-useragent\n",
      "  Downloading fake-useragent-0.1.11.tar.gz (13 kB)\n",
      "Requirement already satisfied: python-dateutil>=2.4 in c:\\users\\diego\\anaconda3\\envs\\env1_cloned_tf\\lib\\site-packages (from faker->scrapy-fake-useragent) (2.8.1)\n",
      "Requirement already satisfied: six>=1.5 in c:\\users\\diego\\anaconda3\\envs\\env1_cloned_tf\\lib\\site-packages (from python-dateutil>=2.4->faker->scrapy-fake-useragent) (1.16.0)\n",
      "Building wheels for collected packages: fake-useragent\n",
      "  Building wheel for fake-useragent (setup.py): started\n",
      "  Building wheel for fake-useragent (setup.py): finished with status 'done'\n",
      "  Created wheel for fake-useragent: filename=fake_useragent-0.1.11-py3-none-any.whl size=13489 sha256=ce4d127febb5e2ab87b4e7f13c1d9cec99ced67420e5d0585f5ba4ff154d3046\n",
      "  Stored in directory: c:\\users\\diego\\appdata\\local\\pip\\cache\\wheels\\ae\\e7\\76\\7dd44644d065268ab0e1b4fa2e802fa4bb0157717b7d6c6d92\n",
      "Successfully built fake-useragent\n",
      "Installing collected packages: faker, fake-useragent, scrapy-fake-useragent\n",
      "Successfully installed fake-useragent-0.1.11 faker-14.2.0 scrapy-fake-useragent-1.4.4\n"
     ]
    }
   ],
   "source": [
    "#!pip install scrapy_proxies\n",
    "!pip install scrapy-fake-useragent"
   ]
  },
  {
   "cell_type": "code",
   "execution_count": 1,
   "id": "4502b396",
   "metadata": {},
   "outputs": [
    {
     "name": "stderr",
     "output_type": "stream",
     "text": [
      "2022-09-17 22:52:48 [scrapy.utils.log] INFO: Scrapy 2.6.2 started (bot: scrapybot)\n",
      "2022-09-17 22:52:48 [scrapy.utils.log] INFO: Versions: lxml 4.8.0.0, libxml2 2.9.12, cssselect 1.1.0, parsel 1.6.0, w3lib 1.22.0, Twisted 22.4.0, Python 3.9.5 (default, May 18 2021, 14:42:02) [MSC v.1916 64 bit (AMD64)], pyOpenSSL 20.0.1 (OpenSSL 1.1.1q  5 Jul 2022), cryptography 3.4.7, Platform Windows-10-10.0.22000-SP0\n",
      "2022-09-17 22:52:48 [scrapy.crawler] INFO: Overridden settings:\n",
      "{'USER_AGENT': 'Mozilla/5.0 (compatible; MSIE 7.0; Windows NT 5.1)'}\n",
      "2022-09-17 22:52:48 [scrapy.utils.log] DEBUG: Using reactor: twisted.internet.selectreactor.SelectReactor\n",
      "2022-09-17 22:52:48 [scrapy.extensions.telnet] INFO: Telnet Password: c69ff2b5d43f104f\n",
      "2022-09-17 22:52:48 [scrapy.middleware] INFO: Enabled extensions:\n",
      "['scrapy.extensions.corestats.CoreStats',\n",
      " 'scrapy.extensions.telnet.TelnetConsole',\n",
      " 'scrapy.extensions.logstats.LogStats']\n",
      "2022-09-17 22:52:48 [scrapy.middleware] INFO: Enabled downloader middlewares:\n",
      "['scrapy.downloadermiddlewares.httpauth.HttpAuthMiddleware',\n",
      " 'scrapy.downloadermiddlewares.downloadtimeout.DownloadTimeoutMiddleware',\n",
      " 'scrapy.downloadermiddlewares.defaultheaders.DefaultHeadersMiddleware',\n",
      " 'scrapy.downloadermiddlewares.useragent.UserAgentMiddleware',\n",
      " 'scrapy.downloadermiddlewares.retry.RetryMiddleware',\n",
      " 'scrapy.downloadermiddlewares.redirect.MetaRefreshMiddleware',\n",
      " 'scrapy.downloadermiddlewares.httpcompression.HttpCompressionMiddleware',\n",
      " 'scrapy.downloadermiddlewares.redirect.RedirectMiddleware',\n",
      " 'scrapy.downloadermiddlewares.cookies.CookiesMiddleware',\n",
      " 'scrapy.downloadermiddlewares.httpproxy.HttpProxyMiddleware',\n",
      " 'scrapy.downloadermiddlewares.stats.DownloaderStats']\n",
      "2022-09-17 22:52:48 [scrapy.middleware] INFO: Enabled spider middlewares:\n",
      "['scrapy.spidermiddlewares.httperror.HttpErrorMiddleware',\n",
      " 'scrapy.spidermiddlewares.offsite.OffsiteMiddleware',\n",
      " 'scrapy.spidermiddlewares.referer.RefererMiddleware',\n",
      " 'scrapy.spidermiddlewares.urllength.UrlLengthMiddleware',\n",
      " 'scrapy.spidermiddlewares.depth.DepthMiddleware']\n",
      "2022-09-17 22:52:48 [scrapy.middleware] INFO: Enabled item pipelines:\n",
      "[]\n",
      "2022-09-17 22:52:48 [scrapy.core.engine] INFO: Spider opened\n",
      "2022-09-17 22:52:48 [scrapy.extensions.logstats] INFO: Crawled 0 pages (at 0 pages/min), scraped 0 items (at 0 items/min)\n",
      "2022-09-17 22:52:48 [scrapy.extensions.telnet] INFO: Telnet console listening on 127.0.0.1:6024\n",
      "2022-09-17 22:52:49 [scrapy.downloadermiddlewares.redirect] DEBUG: Redirecting (301) to <GET https://www.amazon.com/s?k=data+science&crid=1IWIG31DNPO6P&sprefix=data+science%2Caps%2C586&ref=nb_sb_noss_2> from <GET http://www.amazon.com/s?k=data+science&crid=1IWIG31DNPO6P&sprefix=data+science%2Caps%2C586&ref=nb_sb_noss_2>\n",
      "2022-09-17 22:52:50 [filelock] DEBUG: Attempting to acquire lock 2185033790464 on C:\\Users\\diego\\anaconda3\\envs\\env1_cloned_tf\\lib\\site-packages\\tldextract\\.suffix_cache/publicsuffix.org-tlds\\de84b5ca2167d4c83e38fb162f2e8738.tldextract.json.lock\n",
      "2022-09-17 22:52:50 [filelock] DEBUG: Lock 2185033790464 acquired on C:\\Users\\diego\\anaconda3\\envs\\env1_cloned_tf\\lib\\site-packages\\tldextract\\.suffix_cache/publicsuffix.org-tlds\\de84b5ca2167d4c83e38fb162f2e8738.tldextract.json.lock\n",
      "2022-09-17 22:52:50 [filelock] DEBUG: Attempting to release lock 2185033790464 on C:\\Users\\diego\\anaconda3\\envs\\env1_cloned_tf\\lib\\site-packages\\tldextract\\.suffix_cache/publicsuffix.org-tlds\\de84b5ca2167d4c83e38fb162f2e8738.tldextract.json.lock\n",
      "2022-09-17 22:52:50 [filelock] DEBUG: Lock 2185033790464 released on C:\\Users\\diego\\anaconda3\\envs\\env1_cloned_tf\\lib\\site-packages\\tldextract\\.suffix_cache/publicsuffix.org-tlds\\de84b5ca2167d4c83e38fb162f2e8738.tldextract.json.lock\n",
      "2022-09-17 22:52:50 [scrapy.core.engine] DEBUG: Crawled (200) <GET https://www.amazon.com/s?k=data+science&crid=1IWIG31DNPO6P&sprefix=data+science%2Caps%2C586&ref=nb_sb_noss_2> (referer: None)\n"
     ]
    },
    {
     "name": "stdout",
     "output_type": "stream",
     "text": [
      "1\n",
      "Data Pipelines with Apache Airflow\n",
      "Data Science on AWS: Implementing End-to-End, Continuous AI and Machine Learning Pipelines\n",
      "Azure Data Engineer Associate Certification Guide: A hands-on reference guide to developing your data engineering skills and preparing for the DP-203 exam\n",
      "Practical Data Science with Python: Learn tools and techniques from hands-on examples to extract insights from data\n",
      "Ace the Data Science Interview: 201 Real Interview Questions Asked By FAANG, Tech Startups, & Wall Street\n",
      "Essential Math for Data Science: Take Control of Your Data with Fundamental Linear Algebra, Probability, and Statistics\n",
      "Becoming a Data Head: How to Think, Speak and Understand Data Science, Statistics and Machine Learning\n",
      "Data Science for Business: What You Need to Know about Data Mining and Data-Analytic Thinking\n",
      "Data Science from Scratch: First Principles with Python\n",
      "Practical Statistics for Data Scientists: 50+ Essential Concepts Using R and Python\n",
      "Fundamentals of Data Engineering: Plan and Build Robust Data Systems\n",
      "Python Data Science Handbook: Essential Tools for Working with Data\n",
      "Data Science For Dummies (For Dummies (Computer/Tech))\n",
      "Data Science (The MIT Press Essential Knowledge series)\n",
      "Practical Linear Algebra for Data Science: From Core Concepts to Applications Using Python\n",
      "Python for Data Science: A Hands-On Introduction\n",
      "Data Analysis for Business, Economics, and Policy\n",
      "The Kaggle Book: Data analysis and machine learning for competitive data science\n",
      "Data Science Projects with Python: A case study approach to gaining valuable insights from real data with machine learning, 2nd Edition\n",
      "Essential Statistics for Non-STEM Data Analysts: Get to grips with the statistics and math knowledge needed to enter the world of data science with Python\n",
      "Storytelling with Data: A Data Visualization Guide for Business Professionals\n"
     ]
    },
    {
     "name": "stderr",
     "output_type": "stream",
     "text": [
      "2022-09-17 22:52:51 [scrapy.downloadermiddlewares.redirect] DEBUG: Redirecting (302) to <GET https://www.amazon.com/Data-Pipelines-Apache-Airflow-Harenslak/dp/1617296902/ref=sr_1_1_sspa?crid=1IWIG31DNPO6P&keywords=data+science&qid=1663447969&sprefix=data+science%2Caps%2C586&sr=8-1-spons&psc=1&spLa=ZW5jcnlwdGVkUXVhbGlmaWVyPUExV0w5MFRVVVdTQk1KJmVuY3J5cHRlZElkPUEwOTg5NzY0M1RLMVAyTlIwWUpRSSZlbmNyeXB0ZWRBZElkPUEwMzQ3NjU4R09MTDM3NTlDNTNHJndpZGdldE5hbWU9c3BfYXRmJmFjdGlvbj1jbGlja1JlZGlyZWN0JmRvTm90TG9nQ2xpY2s9dHJ1ZQ==> from <GET https://www.amazon.com/gp/slredirect/picassoRedirect.html/ref=pa_sp_atf_aps_sr_pg1_1?ie=UTF8&adId=A0347658GOLL3759C53G&url=%2FData-Pipelines-Apache-Airflow-Harenslak%2Fdp%2F1617296902%2Fref%3Dsr_1_1_sspa%3Fcrid%3D1IWIG31DNPO6P%26keywords%3Ddata%2Bscience%26qid%3D1663447969%26sprefix%3Ddata%2Bscience%252Caps%252C586%26sr%3D8-1-spons%26psc%3D1&qualifier=1663447969&id=821362400294070&widgetName=sp_atf>\n"
     ]
    },
    {
     "name": "stdout",
     "output_type": "stream",
     "text": [
      "How to Lead in Data Science\n",
      "Designing Machine Learning Systems: An Iterative Process for Production-Ready Applications\n",
      "Better Data Visualizations: A Guide for Scholars, Researchers, and Wonks\n",
      "Build a Career in Data Science\n",
      "Python for Data Analysis: Data Wrangling with Pandas, NumPy, and IPython\n",
      "Data Science on AWS: Implementing End-to-End, Continuous AI and Machine Learning Pipelines\n",
      "Naked Statistics: Stripping the Dread from the Data\n",
      "Machine Learning: 4 Books in 1: The #1 Beginner's Guide to Master the Basics of Python Programming, Learn the Art of Data Science and Build Artificial Intelligence\n",
      "Python for Data Analysis: Data Wrangling with pandas, NumPy, and Jupyter\n",
      "Modern Data Science with R (Chapman & Hall/CRC Texts in Statistical Science)\n",
      "The Little Book of Data Science Tricks: 100+ Techniques to Elevate Your Data Science Skills\n",
      "Microsoft Power BI Quick Start Guide: Bring your data to life through data modeling, visualization, digital storytelling, and more, 2nd Edition\n",
      "How To Win With Your Data Visualizations: The 5 Part Guide for Junior Analysts to Create Effective Data Visualizations and Engaging Data Stories ... Data Visualization, and Communicating Data)\n",
      "Algorithmic Finance: A Companion To Data Science\n",
      "Building Big Data Pipelines with Apache Beam: Use a single programming model for both batch and stream data processing\n",
      "Data Smart: Using Data Science to Transform Information into Insight\n",
      "The Kaggle Book: Data analysis and machine learning for competitive data science\n",
      "Think Like a Data Scientist: Tackle the data science process step-by-step\n",
      "Designing Data-Intensive Applications: The Big Ideas Behind Reliable, Scalable, and Maintainable Systems\n",
      "Data Science Projects with Python: A case study approach to gaining valuable insights from real data with machine learning, 2nd Edition\n",
      "Be Data Driven: How Organizations Can Harness the Power of Data\n",
      "Python Data Science Handbook: Essential Tools for Working with Data\n",
      "Data Pipelines with Apache Airflow\n",
      "Hands-On Data Science for Marketing: Improve your marketing strategies with machine learning using Python and R\n",
      "Data Science for Business People\n",
      "The Enterprise Big Data Lake: Delivering the Promise of Big Data and Data Science\n",
      "Living in Data: A Citizen's Guide to a Better Information Future\n",
      "Everybody Lies: Big Data, New Data, and What the Internet Can Tell Us About Who We Really Are\n",
      "Data-Driven Science and Engineering: Machine Learning, Dynamical Systems, and Control\n",
      "Effective Data Science Infrastructure: How to make data scientists productive\n",
      "SQL QuickStart Guide: The Simplified Beginner's Guide to Managing, Analyzing, and Manipulating Data With SQL\n",
      "Everything Data Analytics-A Beginner's Guide to Data Literacy: Understanding the Processes That Turn Data Into Insights (Guides for Data Analytics, Data Visualization, and Communicating Data)\n",
      "Azure Data Engineer Associate Certification Guide: A hands-on reference guide to developing your data engineering skills and preparing for the DP-203 exam\n",
      "Cleaning Data for Effective Data Science: Doing the other 80% of the work with Python, R, and command-line tools\n",
      "Practical Data Science with Python: Learn tools and techniques from hands-on examples to extract insights from data\n",
      "Business Data Science: Combining Machine Learning and Economics to Optimize, Automate, and Accelerate Business Decisions\n",
      "The Art of Statistics: How to Learn from Data\n",
      "Machine Learning Design Interview: Machine Learning System Design Interview\n",
      "Hands-On Data Analysis with Pandas: A Python data science handbook for data collection, wrangling, analysis, and visualization, 2nd Edition\n"
     ]
    },
    {
     "name": "stderr",
     "output_type": "stream",
     "text": [
      "2022-09-17 22:52:51 [scrapy.downloadermiddlewares.redirect] DEBUG: Redirecting (302) to <GET https://www.amazon.com/Data-Science-AWS-End-End/dp/1492079391/ref=sr_1_2_sspa?crid=1IWIG31DNPO6P&keywords=data+science&qid=1663447969&sprefix=data+science%2Caps%2C586&sr=8-2-spons&psc=1&spLa=ZW5jcnlwdGVkUXVhbGlmaWVyPUExV0w5MFRVVVdTQk1KJmVuY3J5cHRlZElkPUEwOTg5NzY0M1RLMVAyTlIwWUpRSSZlbmNyeXB0ZWRBZElkPUEwMTMxMDQxOTZZMzRYWVRBV0pKJndpZGdldE5hbWU9c3BfYXRmJmFjdGlvbj1jbGlja1JlZGlyZWN0JmRvTm90TG9nQ2xpY2s9dHJ1ZQ==> from <GET https://www.amazon.com/gp/slredirect/picassoRedirect.html/ref=pa_sp_atf_aps_sr_pg1_1?ie=UTF8&adId=A013104196Y34XYTAWJJ&url=%2FData-Science-AWS-End-End%2Fdp%2F1492079391%2Fref%3Dsr_1_2_sspa%3Fcrid%3D1IWIG31DNPO6P%26keywords%3Ddata%2Bscience%26qid%3D1663447969%26sprefix%3Ddata%2Bscience%252Caps%252C586%26sr%3D8-2-spons%26psc%3D1&qualifier=1663447969&id=821362400294070&widgetName=sp_atf>\n",
      "2022-09-17 22:52:51 [scrapy.downloadermiddlewares.redirect] DEBUG: Redirecting (302) to <GET https://www.amazon.com/Practical-Data-Science-Python-hands/dp/1801071977/ref=sr_1_4_sspa?crid=1IWIG31DNPO6P&keywords=data+science&qid=1663447969&sprefix=data+science%2Caps%2C586&sr=8-4-spons&psc=1&spLa=ZW5jcnlwdGVkUXVhbGlmaWVyPUExV0w5MFRVVVdTQk1KJmVuY3J5cHRlZElkPUEwOTg5NzY0M1RLMVAyTlIwWUpRSSZlbmNyeXB0ZWRBZElkPUEwMzkwNTEyMVU2WEpYUE5CSElGRyZ3aWRnZXROYW1lPXNwX2F0ZiZhY3Rpb249Y2xpY2tSZWRpcmVjdCZkb05vdExvZ0NsaWNrPXRydWU=> from <GET https://www.amazon.com/gp/slredirect/picassoRedirect.html/ref=pa_sp_atf_aps_sr_pg1_1?ie=UTF8&adId=A03905121U6XJXPNBHIFG&url=%2FPractical-Data-Science-Python-hands%2Fdp%2F1801071977%2Fref%3Dsr_1_4_sspa%3Fcrid%3D1IWIG31DNPO6P%26keywords%3Ddata%2Bscience%26qid%3D1663447969%26sprefix%3Ddata%2Bscience%252Caps%252C586%26sr%3D8-4-spons%26psc%3D1&qualifier=1663447969&id=821362400294070&widgetName=sp_atf>\n",
      "2022-09-17 22:52:51 [scrapy.downloadermiddlewares.redirect] DEBUG: Redirecting (302) to <GET https://www.amazon.com/Azure-Engineer-Associate-Certification-hands/dp/1801816069/ref=sr_1_3_sspa?crid=1IWIG31DNPO6P&keywords=data+science&qid=1663447969&sprefix=data+science%2Caps%2C586&sr=8-3-spons&psc=1&spLa=ZW5jcnlwdGVkUXVhbGlmaWVyPUExV0w5MFRVVVdTQk1KJmVuY3J5cHRlZElkPUEwOTg5NzY0M1RLMVAyTlIwWUpRSSZlbmNyeXB0ZWRBZElkPUEwMjI0NTg3M0IzU0hCSVBGTUZPQSZ3aWRnZXROYW1lPXNwX2F0ZiZhY3Rpb249Y2xpY2tSZWRpcmVjdCZkb05vdExvZ0NsaWNrPXRydWU=> from <GET https://www.amazon.com/gp/slredirect/picassoRedirect.html/ref=pa_sp_atf_aps_sr_pg1_1?ie=UTF8&adId=A02245873B3SHBIPFMFOA&url=%2FAzure-Engineer-Associate-Certification-hands%2Fdp%2F1801816069%2Fref%3Dsr_1_3_sspa%3Fcrid%3D1IWIG31DNPO6P%26keywords%3Ddata%2Bscience%26qid%3D1663447969%26sprefix%3Ddata%2Bscience%252Caps%252C586%26sr%3D8-3-spons%26psc%3D1&qualifier=1663447969&id=821362400294070&widgetName=sp_atf>\n",
      "2022-09-17 22:52:52 [scrapy.downloadermiddlewares.redirect] DEBUG: Redirecting (302) to <GET https://www.amazon.com/Data-Analysis-Business-Economics-Policy/dp/1108716202/ref=sr_1_17_sspa?crid=1IWIG31DNPO6P&keywords=data+science&qid=1663447969&sprefix=data+science%2Caps%2C586&sr=8-17-spons&psc=1&spLa=ZW5jcnlwdGVkUXVhbGlmaWVyPUExV0w5MFRVVVdTQk1KJmVuY3J5cHRlZElkPUEwOTg5NzY0M1RLMVAyTlIwWUpRSSZlbmNyeXB0ZWRBZElkPUEwMzQwMzMyMkNGUVlPM1VRWkhCSSZ3aWRnZXROYW1lPXNwX210ZiZhY3Rpb249Y2xpY2tSZWRpcmVjdCZkb05vdExvZ0NsaWNrPXRydWU=> from <GET https://www.amazon.com/gp/slredirect/picassoRedirect.html/ref=pa_sp_mtf_aps_sr_pg1_1?ie=UTF8&adId=A03403322CFQYO3UQZHBI&url=%2FData-Analysis-Business-Economics-Policy%2Fdp%2F1108716202%2Fref%3Dsr_1_17_sspa%3Fcrid%3D1IWIG31DNPO6P%26keywords%3Ddata%2Bscience%26qid%3D1663447969%26sprefix%3Ddata%2Bscience%252Caps%252C586%26sr%3D8-17-spons%26psc%3D1&qualifier=1663447969&id=821362400294070&widgetName=sp_mtf>\n",
      "2022-09-17 22:52:53 [scrapy.core.engine] DEBUG: Crawled (200) <GET https://www.amazon.com/Becoming-Data-Head-Understand-Statistics/dp/1119741742/ref=sr_1_7?crid=1IWIG31DNPO6P&keywords=data+science&qid=1663447969&sprefix=data+science%2Caps%2C586&sr=8-7> (referer: https://www.amazon.com/s?k=data+science&crid=1IWIG31DNPO6P&sprefix=data+science%2Caps%2C586&ref=nb_sb_noss_2)\n",
      "2022-09-17 22:52:53 [scrapy.core.engine] DEBUG: Crawled (200) <GET https://www.amazon.com/Ace-Data-Science-Interview-Questions/dp/0578973839/ref=sr_1_5?crid=1IWIG31DNPO6P&keywords=data+science&qid=1663447969&sprefix=data+science%2Caps%2C586&sr=8-5> (referer: https://www.amazon.com/s?k=data+science&crid=1IWIG31DNPO6P&sprefix=data+science%2Caps%2C586&ref=nb_sb_noss_2)\n"
     ]
    },
    {
     "name": "stdout",
     "output_type": "stream",
     "text": [
      "1\n",
      "['\\n            \\n              74%\\n            \\n          '] 4.6 out of 5 stars 6 x 0.62 x 9 inches\n",
      "2\n",
      "['\\n            \\n              77%\\n            \\n          '] 4.5 out of 5 stars 7 x 0.68 x 10 inches\n"
     ]
    },
    {
     "name": "stderr",
     "output_type": "stream",
     "text": [
      "2022-09-17 22:52:54 [scrapy.core.engine] DEBUG: Crawled (200) <GET https://www.amazon.com/Fundamentals-Data-Engineering-Robust-Systems/dp/1098108302/ref=sr_1_11?crid=1IWIG31DNPO6P&keywords=data+science&qid=1663447969&sprefix=data+science%2Caps%2C586&sr=8-11> (referer: https://www.amazon.com/s?k=data+science&crid=1IWIG31DNPO6P&sprefix=data+science%2Caps%2C586&ref=nb_sb_noss_2)\n",
      "2022-09-17 22:52:54 [scrapy.core.engine] DEBUG: Crawled (200) <GET https://www.amazon.com/Essential-Math-Data-Science-Fundamental/dp/1098102932/ref=sr_1_6?crid=1IWIG31DNPO6P&keywords=data+science&qid=1663447969&sprefix=data+science%2Caps%2C586&sr=8-6> (referer: https://www.amazon.com/s?k=data+science&crid=1IWIG31DNPO6P&sprefix=data+science%2Caps%2C586&ref=nb_sb_noss_2)\n",
      "2022-09-17 22:52:54 [scrapy.core.engine] DEBUG: Crawled (200) <GET https://www.amazon.com/Data-Science-Business-Data-Analytic-Thinking/dp/1449361323/ref=sr_1_8?crid=1IWIG31DNPO6P&keywords=data+science&qid=1663447969&sprefix=data+science%2Caps%2C586&sr=8-8> (referer: https://www.amazon.com/s?k=data+science&crid=1IWIG31DNPO6P&sprefix=data+science%2Caps%2C586&ref=nb_sb_noss_2)\n",
      "2022-09-17 22:52:54 [scrapy.core.engine] DEBUG: Crawled (200) <GET https://www.amazon.com/Data-Science-Scratch-Principles-Python/dp/1492041130/ref=sr_1_9?crid=1IWIG31DNPO6P&keywords=data+science&qid=1663447969&sprefix=data+science%2Caps%2C586&sr=8-9> (referer: https://www.amazon.com/s?k=data+science&crid=1IWIG31DNPO6P&sprefix=data+science%2Caps%2C586&ref=nb_sb_noss_2)\n"
     ]
    },
    {
     "name": "stdout",
     "output_type": "stream",
     "text": [
      "3\n",
      "['\\n            \\n              96%\\n            \\n          '] 5.0 out of 5 stars 7 x 1 x 9.25 inches\n"
     ]
    },
    {
     "name": "stderr",
     "output_type": "stream",
     "text": [
      "2022-09-17 22:52:54 [scrapy.core.engine] DEBUG: Crawled (200) <GET https://www.amazon.com/Practical-Statistics-Data-Scientists-Essential/dp/149207294X/ref=sr_1_10?crid=1IWIG31DNPO6P&keywords=data+science&qid=1663447969&sprefix=data+science%2Caps%2C586&sr=8-10> (referer: https://www.amazon.com/s?k=data+science&crid=1IWIG31DNPO6P&sprefix=data+science%2Caps%2C586&ref=nb_sb_noss_2)\n"
     ]
    },
    {
     "name": "stdout",
     "output_type": "stream",
     "text": [
      "4\n",
      "['\\n            \\n              79%\\n            \\n          '] 4.5 out of 5 stars 7 x 0.75 x 9 inches\n",
      "5\n",
      "['\\n            \\n              71%\\n            \\n          '] 4.5 out of 5 stars 7 x 0.9 x 9.19 inches\n",
      "6\n",
      "['\\n            \\n              65%\\n            \\n          '] 4.4 out of 5 stars 6.9 x 0.9 x 9.1 inches\n"
     ]
    },
    {
     "name": "stderr",
     "output_type": "stream",
     "text": [
      "2022-09-17 22:52:55 [scrapy.core.engine] DEBUG: Crawled (200) <GET https://www.amazon.com/Python-Data-Science-Example-Vasiliev/dp/1718502206/ref=sr_1_16?crid=1IWIG31DNPO6P&keywords=data+science&qid=1663447969&sprefix=data+science%2Caps%2C586&sr=8-16> (referer: https://www.amazon.com/s?k=data+science&crid=1IWIG31DNPO6P&sprefix=data+science%2Caps%2C586&ref=nb_sb_noss_2)\n"
     ]
    },
    {
     "name": "stdout",
     "output_type": "stream",
     "text": [
      "7\n",
      "['\\n            \\n              76%\\n            \\n          '] 4.6 out of 5 stars 7 x 0.9 x 9.1 inches\n",
      "8\n",
      "['\\n            \\n              78%\\n            \\n          '] 4.3 out of 5 stars 7 x 0.71 x 9.25 inches\n"
     ]
    },
    {
     "name": "stderr",
     "output_type": "stream",
     "text": [
      "2022-09-17 22:52:56 [scrapy.core.engine] DEBUG: Crawled (200) <GET https://www.amazon.com/Practical-Linear-Algebra-Data-Science/dp/1098120612/ref=sr_1_15?crid=1IWIG31DNPO6P&keywords=data+science&qid=1663447969&sprefix=data+science%2Caps%2C586&sr=8-15> (referer: https://www.amazon.com/s?k=data+science&crid=1IWIG31DNPO6P&sprefix=data+science%2Caps%2C586&ref=nb_sb_noss_2)\n",
      "2022-09-17 22:52:56 [scrapy.core.engine] DEBUG: Crawled (200) <GET https://www.amazon.com/Data-Science-Press-Essential-Knowledge/dp/0262535432/ref=sr_1_14?crid=1IWIG31DNPO6P&keywords=data+science&qid=1663447969&sprefix=data+science%2Caps%2C586&sr=8-14> (referer: https://www.amazon.com/s?k=data+science&crid=1IWIG31DNPO6P&sprefix=data+science%2Caps%2C586&ref=nb_sb_noss_2)\n"
     ]
    },
    {
     "name": "stdout",
     "output_type": "stream",
     "text": [
      "9\n",
      "[] None 7 x 0.69 x 9.19 inches\n"
     ]
    },
    {
     "name": "stderr",
     "output_type": "stream",
     "text": [
      "2022-09-17 22:52:57 [scrapy.core.engine] DEBUG: Crawled (200) <GET https://www.amazon.com/Data-Science-Dummies-Lillian-Pierson/dp/1119811554/ref=sr_1_13?crid=1IWIG31DNPO6P&keywords=data+science&qid=1663447969&sprefix=data+science%2Caps%2C586&sr=8-13> (referer: https://www.amazon.com/s?k=data+science&crid=1IWIG31DNPO6P&sprefix=data+science%2Caps%2C586&ref=nb_sb_noss_2)\n",
      "2022-09-17 22:52:57 [scrapy.core.engine] DEBUG: Crawled (200) <GET https://www.amazon.com/Azure-Engineer-Associate-Certification-hands/dp/1801816069/ref=sr_1_3_sspa?crid=1IWIG31DNPO6P&keywords=data+science&qid=1663447969&sprefix=data+science%2Caps%2C586&sr=8-3-spons&psc=1&spLa=ZW5jcnlwdGVkUXVhbGlmaWVyPUExV0w5MFRVVVdTQk1KJmVuY3J5cHRlZElkPUEwOTg5NzY0M1RLMVAyTlIwWUpRSSZlbmNyeXB0ZWRBZElkPUEwMjI0NTg3M0IzU0hCSVBGTUZPQSZ3aWRnZXROYW1lPXNwX2F0ZiZhY3Rpb249Y2xpY2tSZWRpcmVjdCZkb05vdExvZ0NsaWNrPXRydWU=> (referer: https://www.amazon.com/s?k=data+science&crid=1IWIG31DNPO6P&sprefix=data+science%2Caps%2C586&ref=nb_sb_noss_2)\n"
     ]
    },
    {
     "name": "stdout",
     "output_type": "stream",
     "text": [
      "10\n",
      "['\\n            \\n              68%\\n            \\n          '] 4.5 out of 5 stars 5 x 0.57 x 6.9 inches\n"
     ]
    },
    {
     "name": "stderr",
     "output_type": "stream",
     "text": [
      "2022-09-17 22:52:57 [scrapy.core.engine] DEBUG: Crawled (200) <GET https://www.amazon.com/Data-Pipelines-Apache-Airflow-Harenslak/dp/1617296902/ref=sr_1_1_sspa?crid=1IWIG31DNPO6P&keywords=data+science&qid=1663447969&sprefix=data+science%2Caps%2C586&sr=8-1-spons&psc=1&spLa=ZW5jcnlwdGVkUXVhbGlmaWVyPUExV0w5MFRVVVdTQk1KJmVuY3J5cHRlZElkPUEwOTg5NzY0M1RLMVAyTlIwWUpRSSZlbmNyeXB0ZWRBZElkPUEwMzQ3NjU4R09MTDM3NTlDNTNHJndpZGdldE5hbWU9c3BfYXRmJmFjdGlvbj1jbGlja1JlZGlyZWN0JmRvTm90TG9nQ2xpY2s9dHJ1ZQ==> (referer: https://www.amazon.com/s?k=data+science&crid=1IWIG31DNPO6P&sprefix=data+science%2Caps%2C586&ref=nb_sb_noss_2)\n",
      "2022-09-17 22:52:57 [scrapy.core.engine] DEBUG: Crawled (200) <GET https://www.amazon.com/Practical-Data-Science-Python-hands/dp/1801071977/ref=sr_1_4_sspa?crid=1IWIG31DNPO6P&keywords=data+science&qid=1663447969&sprefix=data+science%2Caps%2C586&sr=8-4-spons&psc=1&spLa=ZW5jcnlwdGVkUXVhbGlmaWVyPUExV0w5MFRVVVdTQk1KJmVuY3J5cHRlZElkPUEwOTg5NzY0M1RLMVAyTlIwWUpRSSZlbmNyeXB0ZWRBZElkPUEwMzkwNTEyMVU2WEpYUE5CSElGRyZ3aWRnZXROYW1lPXNwX2F0ZiZhY3Rpb249Y2xpY2tSZWRpcmVjdCZkb05vdExvZ0NsaWNrPXRydWU=> (referer: https://www.amazon.com/s?k=data+science&crid=1IWIG31DNPO6P&sprefix=data+science%2Caps%2C586&ref=nb_sb_noss_2)\n"
     ]
    },
    {
     "name": "stdout",
     "output_type": "stream",
     "text": [
      "11\n",
      "['\\n            \\n              73%\\n            \\n          '] 4.6 out of 5 stars 7.3 x 1 x 9.1 inches\n"
     ]
    },
    {
     "name": "stderr",
     "output_type": "stream",
     "text": [
      "2022-09-17 22:52:58 [scrapy.core.engine] DEBUG: Crawled (200) <GET https://www.amazon.com/Data-Science-AWS-End-End/dp/1492079391/ref=sr_1_2_sspa?crid=1IWIG31DNPO6P&keywords=data+science&qid=1663447969&sprefix=data+science%2Caps%2C586&sr=8-2-spons&psc=1&spLa=ZW5jcnlwdGVkUXVhbGlmaWVyPUExV0w5MFRVVVdTQk1KJmVuY3J5cHRlZElkPUEwOTg5NzY0M1RLMVAyTlIwWUpRSSZlbmNyeXB0ZWRBZElkPUEwMTMxMDQxOTZZMzRYWVRBV0pKJndpZGdldE5hbWU9c3BfYXRmJmFjdGlvbj1jbGlja1JlZGlyZWN0JmRvTm90TG9nQ2xpY2s9dHJ1ZQ==> (referer: https://www.amazon.com/s?k=data+science&crid=1IWIG31DNPO6P&sprefix=data+science%2Caps%2C586&ref=nb_sb_noss_2)\n"
     ]
    },
    {
     "name": "stdout",
     "output_type": "stream",
     "text": [
      "12\n",
      "['\\n            \\n              56%\\n            \\n          '] 4.1 out of 5 stars 7.5 x 1.3 x 9.25 inches\n",
      "13\n",
      "['\\n            \\n              77%\\n            \\n          '] 4.7 out of 5 stars 7.38 x 1.4 x 9.25 inches\n"
     ]
    },
    {
     "name": "stderr",
     "output_type": "stream",
     "text": [
      "2022-09-17 22:52:58 [scrapy.core.engine] DEBUG: Crawled (200) <GET https://www.amazon.com/Data-Analysis-Business-Economics-Policy/dp/1108716202/ref=sr_1_17_sspa?crid=1IWIG31DNPO6P&keywords=data+science&qid=1663447969&sprefix=data+science%2Caps%2C586&sr=8-17-spons&psc=1&spLa=ZW5jcnlwdGVkUXVhbGlmaWVyPUExV0w5MFRVVVdTQk1KJmVuY3J5cHRlZElkPUEwOTg5NzY0M1RLMVAyTlIwWUpRSSZlbmNyeXB0ZWRBZElkPUEwMzQwMzMyMkNGUVlPM1VRWkhCSSZ3aWRnZXROYW1lPXNwX210ZiZhY3Rpb249Y2xpY2tSZWRpcmVjdCZkb05vdExvZ0NsaWNrPXRydWU=> (referer: https://www.amazon.com/s?k=data+science&crid=1IWIG31DNPO6P&sprefix=data+science%2Caps%2C586&ref=nb_sb_noss_2)\n"
     ]
    },
    {
     "name": "stdout",
     "output_type": "stream",
     "text": [
      "14\n",
      "['\\n            \\n              82%\\n            \\n          '] 4.7 out of 5 stars 7.5 x 1.4 x 9.25 inches\n",
      "15\n",
      "['\\n            \\n              70%\\n            \\n          '] 4.4 out of 5 stars 7 x 1.05 x 9.19 inches\n",
      "16\n",
      "['\\n            \\n              70%\\n            \\n          '] 4.4 out of 5 stars 7.5 x 1.74 x 9.25 inches\n"
     ]
    },
    {
     "name": "stderr",
     "output_type": "stream",
     "text": [
      "2022-09-17 22:52:59 [scrapy.core.engine] DEBUG: Crawled (200) <GET https://www.amazon.com/Machine-Learning-Design-Interview-System/dp/B09YQWX59Z/ref=sr_1_59?crid=1IWIG31DNPO6P&keywords=data+science&qid=1663447969&sprefix=data+science%2Caps%2C586&sr=8-59> (referer: https://www.amazon.com/s?k=data+science&crid=1IWIG31DNPO6P&sprefix=data+science%2Caps%2C586&ref=nb_sb_noss_2)\n"
     ]
    },
    {
     "name": "stdout",
     "output_type": "stream",
     "text": [
      "17\n",
      "['\\n            \\n              47%\\n            \\n          '] 3.6 out of 5 stars 6 x 0.48 x 9 inches\n"
     ]
    },
    {
     "name": "stderr",
     "output_type": "stream",
     "text": [
      "2022-09-17 22:52:59 [scrapy.core.engine] DEBUG: Crawled (200) <GET https://www.amazon.com/Hands-Data-Analysis-Pandas-visualization/dp/1800563450/ref=sr_1_60?crid=1IWIG31DNPO6P&keywords=data+science&qid=1663447969&sprefix=data+science%2Caps%2C586&sr=8-60> (referer: https://www.amazon.com/s?k=data+science&crid=1IWIG31DNPO6P&sprefix=data+science%2Caps%2C586&ref=nb_sb_noss_2)\n"
     ]
    },
    {
     "name": "stdout",
     "output_type": "stream",
     "text": [
      "18\n",
      "['\\n            \\n              67%\\n            \\n          '] 4.3 out of 5 stars 7.5 x 1.78 x 9.25 inches\n"
     ]
    },
    {
     "name": "stderr",
     "output_type": "stream",
     "text": [
      "2022-09-17 22:53:03 [scrapy.core.engine] DEBUG: Crawled (200) <GET https://www.amazon.com/Business-Data-Science-Combining-Accelerate/dp/1260452778/ref=sr_1_57?crid=1IWIG31DNPO6P&keywords=data+science&qid=1663447969&sprefix=data+science%2Caps%2C586&sr=8-57> (referer: https://www.amazon.com/s?k=data+science&crid=1IWIG31DNPO6P&sprefix=data+science%2Caps%2C586&ref=nb_sb_noss_2)\n",
      "2022-09-17 22:53:03 [scrapy.core.engine] DEBUG: Crawled (200) <GET https://www.amazon.com/Practical-Data-Science-Python-hands/dp/1801071977/ref=sr_1_56?crid=1IWIG31DNPO6P&keywords=data+science&qid=1663447969&sprefix=data+science%2Caps%2C586&sr=8-56> (referer: https://www.amazon.com/s?k=data+science&crid=1IWIG31DNPO6P&sprefix=data+science%2Caps%2C586&ref=nb_sb_noss_2)\n",
      "2022-09-17 22:53:03 [scrapy.core.engine] DEBUG: Crawled (200) <GET https://www.amazon.com/Azure-Engineer-Associate-Certification-hands/dp/1801816069/ref=sr_1_54?crid=1IWIG31DNPO6P&keywords=data+science&qid=1663447969&sprefix=data+science%2Caps%2C586&sr=8-54> (referer: https://www.amazon.com/s?k=data+science&crid=1IWIG31DNPO6P&sprefix=data+science%2Caps%2C586&ref=nb_sb_noss_2)\n",
      "2022-09-17 22:53:03 [scrapy.core.engine] DEBUG: Crawled (200) <GET https://www.amazon.com/Art-Statistics-How-Learn-Data/dp/1541675703/ref=sr_1_58?crid=1IWIG31DNPO6P&keywords=data+science&qid=1663447969&sprefix=data+science%2Caps%2C586&sr=8-58> (referer: https://www.amazon.com/s?k=data+science&crid=1IWIG31DNPO6P&sprefix=data+science%2Caps%2C586&ref=nb_sb_noss_2)\n",
      "2022-09-17 22:53:03 [scrapy.core.engine] DEBUG: Crawled (200) <GET https://www.amazon.com/Cleaning-Data-Effective-Science-command-line/dp/1801071292/ref=sr_1_55?crid=1IWIG31DNPO6P&keywords=data+science&qid=1663447969&sprefix=data+science%2Caps%2C586&sr=8-55> (referer: https://www.amazon.com/s?k=data+science&crid=1IWIG31DNPO6P&sprefix=data+science%2Caps%2C586&ref=nb_sb_noss_2)\n",
      "2022-09-17 22:53:03 [scrapy.core.engine] DEBUG: Crawled (200) <GET https://www.amazon.com/SQL-QuickStart-Guide-Simplified-Manipulating/dp/1945051752/ref=sr_1_52?crid=1IWIG31DNPO6P&keywords=data+science&qid=1663447969&sprefix=data+science%2Caps%2C586&sr=8-52> (referer: https://www.amazon.com/s?k=data+science&crid=1IWIG31DNPO6P&sprefix=data+science%2Caps%2C586&ref=nb_sb_noss_2)\n",
      "2022-09-17 22:53:03 [scrapy.core.engine] DEBUG: Crawled (200) <GET https://www.amazon.com/Everything-Analytics-Beginners-Guide-Literacy/dp/1777967139/ref=sr_1_53?crid=1IWIG31DNPO6P&keywords=data+science&qid=1663447969&sprefix=data+science%2Caps%2C586&sr=8-53> (referer: https://www.amazon.com/s?k=data+science&crid=1IWIG31DNPO6P&sprefix=data+science%2Caps%2C586&ref=nb_sb_noss_2)\n",
      "2022-09-17 22:53:03 [scrapy.core.engine] DEBUG: Crawled (200) <GET https://www.amazon.com/Effective-Data-Science-Infrastructure-scientists/dp/1617299197/ref=sr_1_51?crid=1IWIG31DNPO6P&keywords=data+science&qid=1663447969&sprefix=data+science%2Caps%2C586&sr=8-51> (referer: https://www.amazon.com/s?k=data+science&crid=1IWIG31DNPO6P&sprefix=data+science%2Caps%2C586&ref=nb_sb_noss_2)\n"
     ]
    },
    {
     "name": "stdout",
     "output_type": "stream",
     "text": [
      "start_new_page\n",
      "19\n",
      "['\\n            \\n              76%\\n            \\n          '] 4.5 out of 5 stars 1.19 x 7.38 x 9.25 inches\n",
      "20\n",
      "['\\n            \\n              82%\\n            \\n          '] 4.7 out of 5 stars 7.5 x 1.4 x 9.25 inches\n",
      "21\n",
      "['\\n            \\n              56%\\n            \\n          '] 4.1 out of 5 stars 7.5 x 1.3 x 9.25 inches\n",
      "22\n",
      "['\\n            \\n              73%\\n            \\n          '] 4.6 out of 5 stars 5.4 x 1.3 x 8.2 inches\n",
      "23\n",
      "['\\n            \\n              92%\\n            \\n          '] 4.8 out of 5 stars 7.5 x 1.13 x 9.25 inches\n",
      "24\n",
      "['\\n            \\n              73%\\n            \\n          '] 4.6 out of 5 stars 7.5 x 0.57 x 9.25 inches\n",
      "25\n",
      "['\\n            \\n              55%\\n            \\n          '] 4.2 out of 5 stars 5.5 x 0.37 x 8.5 inches\n",
      "26\n",
      "['\\n            \\n              100%\\n            \\n          '] 5.0 out of 5 stars 7.38 x 0.8 x 9.25 inches\n"
     ]
    },
    {
     "name": "stderr",
     "output_type": "stream",
     "text": [
      "2022-09-17 22:53:05 [scrapy.core.engine] DEBUG: Crawled (200) <GET https://www.amazon.com/Python-Data-Science-Handbook-Essential/dp/1098121228/ref=sr_1_43?crid=1IWIG31DNPO6P&keywords=data+science&qid=1663447969&sprefix=data+science%2Caps%2C586&sr=8-43> (referer: https://www.amazon.com/s?k=data+science&crid=1IWIG31DNPO6P&sprefix=data+science%2Caps%2C586&ref=nb_sb_noss_2)\n",
      "2022-09-17 22:53:06 [scrapy.core.engine] DEBUG: Crawled (200) <GET https://www.amazon.com/Enterprise-Big-Data-Lake-Delivering/dp/1491931558/ref=sr_1_47?crid=1IWIG31DNPO6P&keywords=data+science&qid=1663447969&sprefix=data+science%2Caps%2C586&sr=8-47> (referer: https://www.amazon.com/s?k=data+science&crid=1IWIG31DNPO6P&sprefix=data+science%2Caps%2C586&ref=nb_sb_noss_2)\n",
      "2022-09-17 22:53:06 [scrapy.core.engine] DEBUG: Crawled (200) <GET https://www.amazon.com/Science-Business-People-Bradford-Tuckfield-ebook/dp/B09WJY5P99/ref=sr_1_46?crid=1IWIG31DNPO6P&keywords=data+science&qid=1663447969&sprefix=data+science%2Caps%2C586&sr=8-46> (referer: https://www.amazon.com/s?k=data+science&crid=1IWIG31DNPO6P&sprefix=data+science%2Caps%2C586&ref=nb_sb_noss_2)\n",
      "2022-09-17 22:53:06 [scrapy.core.engine] DEBUG: Crawled (200) <GET https://www.amazon.com/Everybody-Lies-Internet-About-Really-ebook/dp/B01AFXZ2F4/ref=sr_1_49?crid=1IWIG31DNPO6P&keywords=data+science&qid=1663447969&sprefix=data+science%2Caps%2C586&sr=8-49> (referer: https://www.amazon.com/s?k=data+science&crid=1IWIG31DNPO6P&sprefix=data+science%2Caps%2C586&ref=nb_sb_noss_2)\n",
      "2022-09-17 22:53:06 [scrapy.core.engine] DEBUG: Crawled (200) <GET https://www.amazon.com/Data-Driven-Science-Engineering-Learning-Dynamical/dp/1009098489/ref=sr_1_50?crid=1IWIG31DNPO6P&keywords=data+science&qid=1663447969&sprefix=data+science%2Caps%2C586&sr=8-50> (referer: https://www.amazon.com/s?k=data+science&crid=1IWIG31DNPO6P&sprefix=data+science%2Caps%2C586&ref=nb_sb_noss_2)\n",
      "2022-09-17 22:53:06 [scrapy.core.engine] DEBUG: Crawled (200) <GET https://www.amazon.com/Data-Pipelines-Apache-Airflow-Harenslak/dp/1617296902/ref=sr_1_44?crid=1IWIG31DNPO6P&keywords=data+science&qid=1663447969&sprefix=data+science%2Caps%2C586&sr=8-44> (referer: https://www.amazon.com/s?k=data+science&crid=1IWIG31DNPO6P&sprefix=data+science%2Caps%2C586&ref=nb_sb_noss_2)\n",
      "2022-09-17 22:53:06 [scrapy.core.engine] DEBUG: Crawled (200) <GET https://www.amazon.com/Hands-Data-Science-Marketing-strategies/dp/1789346347/ref=sr_1_45?crid=1IWIG31DNPO6P&keywords=data+science&qid=1663447969&sprefix=data+science%2Caps%2C586&sr=8-45> (referer: https://www.amazon.com/s?k=data+science&crid=1IWIG31DNPO6P&sprefix=data+science%2Caps%2C586&ref=nb_sb_noss_2)\n"
     ]
    },
    {
     "name": "stdout",
     "output_type": "stream",
     "text": [
      "27\n",
      "[] None None\n"
     ]
    },
    {
     "name": "stderr",
     "output_type": "stream",
     "text": [
      "2022-09-17 22:53:06 [scrapy.core.engine] DEBUG: Crawled (200) <GET https://www.amazon.com/Living-Data-Citizens-Better-Information/dp/1250849152/ref=sr_1_48?crid=1IWIG31DNPO6P&keywords=data+science&qid=1663447969&sprefix=data+science%2Caps%2C586&sr=8-48> (referer: https://www.amazon.com/s?k=data+science&crid=1IWIG31DNPO6P&sprefix=data+science%2Caps%2C586&ref=nb_sb_noss_2)\n"
     ]
    },
    {
     "name": "stdout",
     "output_type": "stream",
     "text": [
      "28\n",
      "['\\n            \\n              59%\\n            \\n          '] 4.3 out of 5 stars 7 x 0.4 x 9.1 inches\n",
      "29\n",
      "[] None None\n",
      "30\n",
      "['\\n            \\n              66%\\n            \\n          '] 4.4 out of 5 stars None\n",
      "31\n",
      "['\\n            \\n              90%\\n            \\n          '] 4.6 out of 5 stars 7.1 x 1.1 x 10.1 inches\n",
      "32\n",
      "['\\n            \\n              77%\\n            \\n          '] 4.7 out of 5 stars 7.38 x 1.4 x 9.25 inches\n",
      "33\n",
      "['\\n            \\n              59%\\n            \\n          '] 4.3 out of 5 stars 7.5 x 1.05 x 9.25 inches\n"
     ]
    },
    {
     "name": "stderr",
     "output_type": "stream",
     "text": [
      "2022-09-17 22:53:07 [scrapy.core.engine] DEBUG: Crawled (200) <GET https://www.amazon.com/s?k=data+science&s=relevanceblender&page=2&crid=2YKZLS0CJFDGI&qid=1663103507&sprefix=data+science%2Caps%2C828&ref=sr_pg_2> (referer: https://www.amazon.com/Hands-Data-Analysis-Pandas-visualization/dp/1800563450/ref=sr_1_60?crid=1IWIG31DNPO6P&keywords=data+science&qid=1663447969&sprefix=data+science%2Caps%2C586&sr=8-60)\n",
      "2022-09-17 22:53:07 [scrapy.downloadermiddlewares.redirect] DEBUG: Redirecting (302) to <GET https://www.amazon.com/Building-Data-Pipelines-Apache-Beam/dp/1800564937/ref=sr_1_36_sspa?crid=1IWIG31DNPO6P&keywords=data+science&qid=1663447969&sprefix=data+science%2Caps%2C586&sr=8-36-spons&psc=1&spLa=ZW5jcnlwdGVkUXVhbGlmaWVyPUExV0w5MFRVVVdTQk1KJmVuY3J5cHRlZElkPUEwOTg5NzY0M1RLMVAyTlIwWUpRSSZlbmNyeXB0ZWRBZElkPUEwNzk5MjA3RVZOV0JIMVhaN1NTJndpZGdldE5hbWU9c3BfbXRmJmFjdGlvbj1jbGlja1JlZGlyZWN0JmRvTm90TG9nQ2xpY2s9dHJ1ZQ==> from <GET https://www.amazon.com/gp/slredirect/picassoRedirect.html/ref=pa_sp_mtf_aps_sr_pg1_1?ie=UTF8&adId=A0799207EVNWBH1XZ7SS&url=%2FBuilding-Data-Pipelines-Apache-Beam%2Fdp%2F1800564937%2Fref%3Dsr_1_36_sspa%3Fcrid%3D1IWIG31DNPO6P%26keywords%3Ddata%2Bscience%26qid%3D1663447969%26sprefix%3Ddata%2Bscience%252Caps%252C586%26sr%3D8-36-spons%26psc%3D1&qualifier=1663447969&id=821362400294070&widgetName=sp_mtf>\n"
     ]
    },
    {
     "name": "stdout",
     "output_type": "stream",
     "text": [
      "34\n",
      "['\\n            \\n              69%\\n            \\n          '] 4.4 out of 5 stars 5.43 x 0.85 x 8.25 inches\n",
      "2\n",
      "Advanced Algorithms and Data Structures\n",
      "Data Science with Jupyter: Master Data Science skills with easy-to-follow Python examples\n",
      "Practical Data Analysis Using Jupyter Notebook: Learn how to speak the language of data by extracting useful and actionable insights using Python\n",
      "Effective Data Science Infrastructure: How to make data scientists productive\n",
      "Intro to Python for Computer Science and Data Science: Learning to Program with AI, Big Data and The Cloud\n",
      "The Python Bible 7 in 1: Volumes One To Seven (Beginner, Intermediate, Data Science, Machine Learning, Finance, Neural Networks, Computer Vision)\n",
      "Data-Driven Science and Engineering: Machine Learning, Dynamical Systems, and Control\n",
      "Probability and Statistics for Data Science: Math + R + Data (Chapman & Hall/CRC Data Science Series)\n",
      "Getting Started with Data Science: Making Sense of Data with Analytics (IBM Press)\n",
      "Foundations of Data Science\n",
      "Text as Data: A New Framework for Machine Learning and the Social Sciences\n",
      "Essential PySpark for Scalable Data Analytics: A beginner's guide to harnessing the power and ease of PySpark 3\n",
      "Human-Centered Data Science: An Introduction\n",
      "Data Science Strategy For Dummies\n",
      "Managing Data for Patron Privacy: Comprehensive Strategies for Libraries\n",
      "Python for Data Science For Dummies\n",
      "Data Engineering with Alteryx: Helping data engineers apply DataOps practices with Alteryx\n",
      "Practitioner’s Guide to Data Science: Streamlining Data Science Solutions using Python, Scikit-Learn, and Azure ML Service Platform (English Edition)\n",
      "Hands-On Data Science with R: Techniques to perform data manipulation and mining to build smart analytical models using R\n",
      "Data Science for Beginners: Comprehensive Guide to Most Important Basics in Data Science\n",
      "Hands-On Data Preprocessing in Python: Learn how to effectively prepare data for successful data analytics\n",
      "Introduction to Statistical and Machine Learning Methods for Data Science\n",
      "Principles for Dealing with the Changing World Order: Why Nations Succeed and Fail\n",
      "Fundamentals of Data Science Part II: Statistical Modeling\n",
      "The Nature of Data: Infrastructures, Environments, Politics\n",
      "The Science of Football: The Math, Technology, and Data Behind America's Game\n",
      "A Common-Sense Guide to Data Structures and Algorithms, Second Edition: Level Up Your Core Programming Skills\n",
      "R for Data Science: Import, Tidy, Transform, Visualize, and Model Data\n",
      "Numsense! Data Science for the Layman: No Math Added\n",
      "The Data Revolution: A Critical Analysis of Big Data, Open Data and Data Infrastructures\n",
      "Introduction to Machine Learning with Python: A Guide for Data Scientists\n",
      "Minding the Machines: Building and Leading Data Science and Analytics Teams\n",
      "Heard In Data Science Interviews: Over 650 Most Commonly Asked Interview Questions & Answers\n",
      "DATA ANALYTICS: A Comprehensive Beginner’s Guide To Learn About The Realms Of Data Analytics From A-Z\n",
      "Data Science: Advanced Guide to Learn the Realms of Data Science Effectively\n",
      "Data Engineering with AWS: Learn how to design and build cloud-based data transformation pipelines using AWS\n",
      "Communicating with Data: Making Your Case With Data\n",
      "A Hands-On Introduction to Data Science\n",
      "Data Science for Executives: Leveraging Machine Intelligence to Drive Business ROI\n",
      "SQL for Data Analytics: Harness the power of SQL to extract insights from data, 3rd Edition\n",
      "Bootstrap:Data Science Workbook\n",
      "Amazon Redshift Cookbook: Recipes for building modern data warehousing solutions\n",
      "Simplify Big Data Analytics with Amazon EMR: A beginner's guide to learning and implementing Amazon EMR for building data analytics solutions\n",
      "Practical Big Data Analytics: Hands-on techniques to implement enterprise analytics and machine learning using Hadoop, Spark, NoSQL and R\n",
      "Making Numbers Count: The Art and Science of Communicating Numbers\n",
      "The Machine Learning Solutions Architect Handbook: Create machine learning platforms to run solutions in an enterprise setting\n",
      "Data Science: A Comprehensive Guide to Data Science, Data Analytics, Data Mining, Artificial Intelligence, Machine Learning, and Big Data\n",
      "Data Mesh in Action\n",
      "Data Science and Machine Learning: Mathematical and Statistical Methods (Chapman & Hall/CRC Machine Learning & Pattern Recognition)\n",
      "Crucial Conversations: Tools for Talking When Stakes are High, Third Edition\n",
      "DATA SCIENCE INTERVIEW QUESTIONS: A DATA SCIENTIST’S GUIDE TO A SUCCESSFUL DATA SCIENCE INTERVIEW\n",
      "Algorithms to Live By: The Computer Science of Human Decisions\n",
      "Listening to People: A Practical Guide to Interviewing, Participant Observation, Data Analysis, and Writing It All Up (Chicago Guides to Writing, Editing, and Publishing)\n",
      "Data Science Ethics: Concepts, Techniques, and Cautionary Tales\n",
      "R in Action, Third Edition: Data analysis and graphics with R and Tidyverse\n",
      "Doing Data Science: Straight Talk from the Frontline\n",
      "Data Analysis for Social Science: A Friendly and Practical Introduction\n",
      "The Model Thinker: What You Need to Know to Make Data Work for You\n",
      "Julia Data Science\n",
      "Bayesian Ideas and Data Analysis: An Introduction for Scientists and Statisticians (Chapman & Hall/CRC Texts in Statistical Science)\n"
     ]
    },
    {
     "name": "stderr",
     "output_type": "stream",
     "text": [
      "2022-09-17 22:53:08 [scrapy.downloadermiddlewares.redirect] DEBUG: Redirecting (302) to <GET https://www.amazon.com/Algorithmic-Finance-Companion-Data-Science/dp/9811238308/ref=sr_1_35_sspa?crid=1IWIG31DNPO6P&keywords=data+science&qid=1663447969&sprefix=data+science%2Caps%2C586&sr=8-35-spons&psc=1&spLa=ZW5jcnlwdGVkUXVhbGlmaWVyPUExV0w5MFRVVVdTQk1KJmVuY3J5cHRlZElkPUEwOTg5NzY0M1RLMVAyTlIwWUpRSSZlbmNyeXB0ZWRBZElkPUEwMzc0MjQ1MzFUWDRGSFkyV0dZNiZ3aWRnZXROYW1lPXNwX210ZiZhY3Rpb249Y2xpY2tSZWRpcmVjdCZkb05vdExvZ0NsaWNrPXRydWU=> from <GET https://www.amazon.com/gp/slredirect/picassoRedirect.html/ref=pa_sp_mtf_aps_sr_pg1_1?ie=UTF8&adId=A037424531TX4FHY2WGY6&url=%2FAlgorithmic-Finance-Companion-Data-Science%2Fdp%2F9811238308%2Fref%3Dsr_1_35_sspa%3Fcrid%3D1IWIG31DNPO6P%26keywords%3Ddata%2Bscience%26qid%3D1663447969%26sprefix%3Ddata%2Bscience%252Caps%252C586%26sr%3D8-35-spons%26psc%3D1&qualifier=1663447969&id=821362400294070&widgetName=sp_mtf>\n",
      "2022-09-17 22:53:08 [scrapy.downloadermiddlewares.redirect] DEBUG: Redirecting (302) to <GET https://www.amazon.com/How-Win-Your-Data-Visualizations/dp/1777967104/ref=sr_1_34_sspa?crid=1IWIG31DNPO6P&keywords=data+science&qid=1663447969&sprefix=data+science%2Caps%2C586&sr=8-34-spons&psc=1&spLa=ZW5jcnlwdGVkUXVhbGlmaWVyPUExV0w5MFRVVVdTQk1KJmVuY3J5cHRlZElkPUEwOTg5NzY0M1RLMVAyTlIwWUpRSSZlbmNyeXB0ZWRBZElkPUExMDM0NjE4M05TSTJJRVVHUUszWiZ3aWRnZXROYW1lPXNwX210ZiZhY3Rpb249Y2xpY2tSZWRpcmVjdCZkb05vdExvZ0NsaWNrPXRydWU=> from <GET https://www.amazon.com/gp/slredirect/picassoRedirect.html/ref=pa_sp_mtf_aps_sr_pg1_1?ie=UTF8&adId=A10346183NSI2IEUGQK3Z&url=%2FHow-Win-Your-Data-Visualizations%2Fdp%2F1777967104%2Fref%3Dsr_1_34_sspa%3Fcrid%3D1IWIG31DNPO6P%26keywords%3Ddata%2Bscience%26qid%3D1663447969%26sprefix%3Ddata%2Bscience%252Caps%252C586%26sr%3D8-34-spons%26psc%3D1&qualifier=1663447969&id=821362400294070&widgetName=sp_mtf>\n",
      "2022-09-17 22:53:08 [scrapy.core.engine] DEBUG: Crawled (200) <GET https://www.amazon.com/Be-Data-Driven-Organizations-Harness/dp/139860612X/ref=sr_1_42?crid=1IWIG31DNPO6P&keywords=data+science&qid=1663447969&sprefix=data+science%2Caps%2C586&sr=8-42> (referer: https://www.amazon.com/s?k=data+science&crid=1IWIG31DNPO6P&sprefix=data+science%2Caps%2C586&ref=nb_sb_noss_2)\n",
      "2022-09-17 22:53:08 [scrapy.downloadermiddlewares.redirect] DEBUG: Redirecting (302) to <GET https://www.amazon.com/Microsoft-Power-Quick-Start-Guide/dp/1800561571/ref=sr_1_33_sspa?crid=1IWIG31DNPO6P&keywords=data+science&qid=1663447969&sprefix=data+science%2Caps%2C586&sr=8-33-spons&psc=1&spLa=ZW5jcnlwdGVkUXVhbGlmaWVyPUExV0w5MFRVVVdTQk1KJmVuY3J5cHRlZElkPUEwOTg5NzY0M1RLMVAyTlIwWUpRSSZlbmNyeXB0ZWRBZElkPUEwODYwMjgwMjVWSjVKSTdQN0NSRCZ3aWRnZXROYW1lPXNwX210ZiZhY3Rpb249Y2xpY2tSZWRpcmVjdCZkb05vdExvZ0NsaWNrPXRydWU=> from <GET https://www.amazon.com/gp/slredirect/picassoRedirect.html/ref=pa_sp_mtf_aps_sr_pg1_1?ie=UTF8&adId=A086028025VJ5JI7P7CRD&url=%2FMicrosoft-Power-Quick-Start-Guide%2Fdp%2F1800561571%2Fref%3Dsr_1_33_sspa%3Fcrid%3D1IWIG31DNPO6P%26keywords%3Ddata%2Bscience%26qid%3D1663447969%26sprefix%3Ddata%2Bscience%252Caps%252C586%26sr%3D8-33-spons%26psc%3D1&qualifier=1663447969&id=821362400294070&widgetName=sp_mtf>\n",
      "2022-09-17 22:53:09 [scrapy.core.engine] DEBUG: Crawled (200) <GET https://www.amazon.com/Data-Science-Projects-Python-approach/dp/1800564481/ref=sr_1_41?crid=1IWIG31DNPO6P&keywords=data+science&qid=1663447969&sprefix=data+science%2Caps%2C586&sr=8-41> (referer: https://www.amazon.com/s?k=data+science&crid=1IWIG31DNPO6P&sprefix=data+science%2Caps%2C586&ref=nb_sb_noss_2)\n"
     ]
    },
    {
     "name": "stdout",
     "output_type": "stream",
     "text": [
      "35\n",
      "['\\n            \\n              100%\\n            \\n          '] 5.0 out of 5 stars 6.14 x 0.55 x 9.21 inches\n"
     ]
    },
    {
     "name": "stderr",
     "output_type": "stream",
     "text": [
      "2022-09-17 22:53:09 [scrapy.core.engine] DEBUG: Crawled (200) <GET https://www.amazon.com/Data-Analysis-Machine-Learning-Kaggle/dp/1801817472/ref=sr_1_38?crid=1IWIG31DNPO6P&keywords=data+science&qid=1663447969&sprefix=data+science%2Caps%2C586&sr=8-38> (referer: https://www.amazon.com/s?k=data+science&crid=1IWIG31DNPO6P&sprefix=data+science%2Caps%2C586&ref=nb_sb_noss_2)\n"
     ]
    },
    {
     "name": "stdout",
     "output_type": "stream",
     "text": [
      "36\n",
      "['\\n            \\n              79%\\n            \\n          '] 4.6 out of 5 stars 7.5 x 0.98 x 9.25 inches\n"
     ]
    },
    {
     "name": "stderr",
     "output_type": "stream",
     "text": [
      "2022-09-17 22:53:09 [scrapy.core.engine] DEBUG: Crawled (200) <GET https://www.amazon.com/Think-Like-Scientist-step-step/dp/1633430278/ref=sr_1_39?crid=1IWIG31DNPO6P&keywords=data+science&qid=1663447969&sprefix=data+science%2Caps%2C586&sr=8-39> (referer: https://www.amazon.com/s?k=data+science&crid=1IWIG31DNPO6P&sprefix=data+science%2Caps%2C586&ref=nb_sb_noss_2)\n"
     ]
    },
    {
     "name": "stdout",
     "output_type": "stream",
     "text": [
      "37\n",
      "['\\n            \\n              81%\\n            \\n          '] 4.6 out of 5 stars 7.5 x 1.2 x 9.25 inches\n"
     ]
    },
    {
     "name": "stderr",
     "output_type": "stream",
     "text": [
      "2022-09-17 22:53:10 [scrapy.core.engine] DEBUG: Crawled (200) <GET https://www.amazon.com/Designing-Data-Intensive-Applications-Reliable-Maintainable/dp/1449373321/ref=sr_1_40?crid=1IWIG31DNPO6P&keywords=data+science&qid=1663447969&sprefix=data+science%2Caps%2C586&sr=8-40> (referer: https://www.amazon.com/s?k=data+science&crid=1IWIG31DNPO6P&sprefix=data+science%2Caps%2C586&ref=nb_sb_noss_2)\n",
      "2022-09-17 22:53:10 [scrapy.core.engine] DEBUG: Crawled (200) <GET https://www.amazon.com/Data-Smart-Science-Transform-Information/dp/111866146X/ref=sr_1_37?crid=1IWIG31DNPO6P&keywords=data+science&qid=1663447969&sprefix=data+science%2Caps%2C586&sr=8-37> (referer: https://www.amazon.com/s?k=data+science&crid=1IWIG31DNPO6P&sprefix=data+science%2Caps%2C586&ref=nb_sb_noss_2)\n"
     ]
    },
    {
     "name": "stdout",
     "output_type": "stream",
     "text": [
      "38\n",
      "['\\n            \\n              60%\\n            \\n          '] 4.5 out of 5 stars 7.38 x 0.7 x 9.25 inches\n",
      "39\n",
      "['\\n            \\n              85%\\n            \\n          '] 4.8 out of 5 stars 7.01 x 1.24 x 9.17 inches\n"
     ]
    },
    {
     "name": "stderr",
     "output_type": "stream",
     "text": [
      "2022-09-17 22:53:10 [scrapy.core.engine] DEBUG: Crawled (200) <GET https://www.amazon.com/Little-Book-Data-Science-Tricks-ebook/dp/B08BJF9T1V/ref=sr_1_32?crid=1IWIG31DNPO6P&keywords=data+science&qid=1663447969&sprefix=data+science%2Caps%2C586&sr=8-32> (referer: https://www.amazon.com/s?k=data+science&crid=1IWIG31DNPO6P&sprefix=data+science%2Caps%2C586&ref=nb_sb_noss_2)\n"
     ]
    },
    {
     "name": "stdout",
     "output_type": "stream",
     "text": [
      "40\n",
      "['\\n            \\n              70%\\n            \\n          '] 4.5 out of 5 stars 7.3 x 0.8 x 9.1 inches\n"
     ]
    },
    {
     "name": "stderr",
     "output_type": "stream",
     "text": [
      "2022-09-17 22:53:11 [scrapy.core.engine] DEBUG: Crawled (200) <GET https://www.amazon.com/Python-Data-Analysis-Wrangling-Jupyter/dp/109810403X/ref=sr_1_30?crid=1IWIG31DNPO6P&keywords=data+science&qid=1663447969&sprefix=data+science%2Caps%2C586&sr=8-30> (referer: https://www.amazon.com/s?k=data+science&crid=1IWIG31DNPO6P&sprefix=data+science%2Caps%2C586&ref=nb_sb_noss_2)\n"
     ]
    },
    {
     "name": "stdout",
     "output_type": "stream",
     "text": [
      "41\n",
      "['\\n            \\n              100%\\n            \\n          '] 5.0 out of 5 stars None\n",
      "42\n",
      "['\\n            \\n              100%\\n            \\n          '] 5.0 out of 5 stars 9.1 x 1.2 x 6.9 inches\n"
     ]
    },
    {
     "name": "stderr",
     "output_type": "stream",
     "text": [
      "2022-09-17 22:53:12 [scrapy.core.engine] DEBUG: Crawled (200) <GET https://www.amazon.com/Modern-Science-Chapman-Texts-Statistical/dp/0367191490/ref=sr_1_31?crid=1IWIG31DNPO6P&keywords=data+science&qid=1663447969&sprefix=data+science%2Caps%2C586&sr=8-31> (referer: https://www.amazon.com/s?k=data+science&crid=1IWIG31DNPO6P&sprefix=data+science%2Caps%2C586&ref=nb_sb_noss_2)\n",
      "2022-09-17 22:53:12 [scrapy.core.engine] DEBUG: Crawled (200) <GET https://www.amazon.com/Machine-Learning-Programming-Artificial-Intelligence/dp/B0B6XLFWPL/ref=sr_1_29?crid=1IWIG31DNPO6P&keywords=data+science&qid=1663447969&sprefix=data+science%2Caps%2C586&sr=8-29> (referer: https://www.amazon.com/s?k=data+science&crid=1IWIG31DNPO6P&sprefix=data+science%2Caps%2C586&ref=nb_sb_noss_2)\n",
      "2022-09-17 22:53:12 [scrapy.core.engine] DEBUG: Crawled (200) <GET https://www.amazon.com/Building-Data-Pipelines-Apache-Beam/dp/1800564937/ref=sr_1_36_sspa?crid=1IWIG31DNPO6P&keywords=data+science&qid=1663447969&sprefix=data+science%2Caps%2C586&sr=8-36-spons&psc=1&spLa=ZW5jcnlwdGVkUXVhbGlmaWVyPUExV0w5MFRVVVdTQk1KJmVuY3J5cHRlZElkPUEwOTg5NzY0M1RLMVAyTlIwWUpRSSZlbmNyeXB0ZWRBZElkPUEwNzk5MjA3RVZOV0JIMVhaN1NTJndpZGdldE5hbWU9c3BfbXRmJmFjdGlvbj1jbGlja1JlZGlyZWN0JmRvTm90TG9nQ2xpY2s9dHJ1ZQ==> (referer: https://www.amazon.com/s?k=data+science&crid=1IWIG31DNPO6P&sprefix=data+science%2Caps%2C586&ref=nb_sb_noss_2)\n"
     ]
    },
    {
     "name": "stdout",
     "output_type": "stream",
     "text": [
      "43\n",
      "['\\n            \\n              69%\\n            \\n          '] 3.9 out of 5 stars 7.25 x 1.5 x 10.25 inches\n",
      "44\n",
      "['\\n            \\n              81%\\n            \\n          '] 4.6 out of 5 stars 6 x 0.78 x 9 inches\n"
     ]
    },
    {
     "name": "stderr",
     "output_type": "stream",
     "text": [
      "2022-09-17 22:53:13 [scrapy.core.engine] DEBUG: Crawled (200) <GET https://www.amazon.com/Algorithmic-Finance-Companion-Data-Science/dp/9811238308/ref=sr_1_35_sspa?crid=1IWIG31DNPO6P&keywords=data+science&qid=1663447969&sprefix=data+science%2Caps%2C586&sr=8-35-spons&psc=1&spLa=ZW5jcnlwdGVkUXVhbGlmaWVyPUExV0w5MFRVVVdTQk1KJmVuY3J5cHRlZElkPUEwOTg5NzY0M1RLMVAyTlIwWUpRSSZlbmNyeXB0ZWRBZElkPUEwMzc0MjQ1MzFUWDRGSFkyV0dZNiZ3aWRnZXROYW1lPXNwX210ZiZhY3Rpb249Y2xpY2tSZWRpcmVjdCZkb05vdExvZ0NsaWNrPXRydWU=> (referer: https://www.amazon.com/s?k=data+science&crid=1IWIG31DNPO6P&sprefix=data+science%2Caps%2C586&ref=nb_sb_noss_2)\n",
      "2022-09-17 22:53:13 [scrapy.core.engine] DEBUG: Crawled (200) <GET https://www.amazon.com/Data-Science-AWS-End-End/dp/1492079391/ref=sr_1_27?crid=1IWIG31DNPO6P&keywords=data+science&qid=1663447969&sprefix=data+science%2Caps%2C586&sr=8-27> (referer: https://www.amazon.com/s?k=data+science&crid=1IWIG31DNPO6P&sprefix=data+science%2Caps%2C586&ref=nb_sb_noss_2)\n"
     ]
    },
    {
     "name": "stdout",
     "output_type": "stream",
     "text": [
      "45\n",
      "['\\n            \\n              55%\\n            \\n          '] 3.9 out of 5 stars 7.5 x 0.78 x 9.25 inches\n"
     ]
    },
    {
     "name": "stderr",
     "output_type": "stream",
     "text": [
      "2022-09-17 22:53:13 [scrapy.core.engine] DEBUG: Crawled (200) <GET https://www.amazon.com/Naked-Statistics-Stripping-Dread-Data/dp/039334777X/ref=sr_1_28?crid=1IWIG31DNPO6P&keywords=data+science&qid=1663447969&sprefix=data+science%2Caps%2C586&sr=8-28> (referer: https://www.amazon.com/s?k=data+science&crid=1IWIG31DNPO6P&sprefix=data+science%2Caps%2C586&ref=nb_sb_noss_2)\n"
     ]
    },
    {
     "name": "stdout",
     "output_type": "stream",
     "text": [
      "46\n",
      "[] None 6 x 1.15 x 9 inches\n",
      "47\n",
      "['\\n            \\n              70%\\n            \\n          '] 4.4 out of 5 stars 7 x 1.05 x 9.19 inches\n"
     ]
    },
    {
     "name": "stderr",
     "output_type": "stream",
     "text": [
      "2022-09-17 22:53:13 [scrapy.core.engine] DEBUG: Crawled (200) <GET https://www.amazon.com/How-Win-Your-Data-Visualizations/dp/1777967104/ref=sr_1_34_sspa?crid=1IWIG31DNPO6P&keywords=data+science&qid=1663447969&sprefix=data+science%2Caps%2C586&sr=8-34-spons&psc=1&spLa=ZW5jcnlwdGVkUXVhbGlmaWVyPUExV0w5MFRVVVdTQk1KJmVuY3J5cHRlZElkPUEwOTg5NzY0M1RLMVAyTlIwWUpRSSZlbmNyeXB0ZWRBZElkPUExMDM0NjE4M05TSTJJRVVHUUszWiZ3aWRnZXROYW1lPXNwX210ZiZhY3Rpb249Y2xpY2tSZWRpcmVjdCZkb05vdExvZ0NsaWNrPXRydWU=> (referer: https://www.amazon.com/s?k=data+science&crid=1IWIG31DNPO6P&sprefix=data+science%2Caps%2C586&ref=nb_sb_noss_2)\n"
     ]
    },
    {
     "name": "stdout",
     "output_type": "stream",
     "text": [
      "48\n",
      "['\\n            \\n              72%\\n            \\n          '] 4.6 out of 5 stars 5.5 x 0.8 x 8.2 inches\n"
     ]
    },
    {
     "name": "stderr",
     "output_type": "stream",
     "text": [
      "2022-09-17 22:53:14 [scrapy.core.engine] DEBUG: Crawled (200) <GET https://www.amazon.com/Bayesian-Ideas-Data-Analysis-Statisticians/dp/1439803544/ref=sr_1_108?crid=2YKZLS0CJFDGI&keywords=data+science&qid=1663447986&sprefix=data+science%2Caps%2C828&sr=8-108> (referer: https://www.amazon.com/s?k=data+science&s=relevanceblender&page=2&crid=2YKZLS0CJFDGI&qid=1663103507&sprefix=data+science%2Caps%2C828&ref=sr_pg_2)\n"
     ]
    },
    {
     "name": "stdout",
     "output_type": "stream",
     "text": [
      "49\n",
      "['\\n            \\n              66%\\n            \\n          '] 4.5 out of 5 stars 5.5 x 0.48 x 8.5 inches\n",
      "50\n",
      "['\\n            \\n              55%\\n            \\n          '] 4.0 out of 5 stars 6.9 x 1.1 x 10 inches\n"
     ]
    },
    {
     "name": "stderr",
     "output_type": "stream",
     "text": [
      "2022-09-17 22:53:17 [scrapy.core.engine] DEBUG: Crawled (200) <GET https://www.amazon.com/Julia-Data-Science-Jose-Storopoli/dp/B09KMRKQ96/ref=sr_1_107?crid=2YKZLS0CJFDGI&keywords=data+science&qid=1663447986&sprefix=data+science%2Caps%2C828&sr=8-107> (referer: https://www.amazon.com/s?k=data+science&s=relevanceblender&page=2&crid=2YKZLS0CJFDGI&qid=1663103507&sprefix=data+science%2Caps%2C828&ref=sr_pg_2)\n",
      "2022-09-17 22:53:17 [scrapy.core.engine] DEBUG: Crawled (200) <GET https://www.amazon.com/Data-Analysis-Social-Science-Introduction-ebook/dp/B0B64LFC91/ref=sr_1_105?crid=2YKZLS0CJFDGI&keywords=data+science&qid=1663447986&sprefix=data+science%2Caps%2C828&sr=8-105> (referer: https://www.amazon.com/s?k=data+science&s=relevanceblender&page=2&crid=2YKZLS0CJFDGI&qid=1663103507&sprefix=data+science%2Caps%2C828&ref=sr_pg_2)\n",
      "2022-09-17 22:53:17 [scrapy.core.engine] DEBUG: Crawled (200) <GET https://www.amazon.com/Doing-Data-Science-Straight-Frontline/dp/1449358659/ref=sr_1_104?crid=2YKZLS0CJFDGI&keywords=data+science&qid=1663447986&sprefix=data+science%2Caps%2C828&sr=8-104> (referer: https://www.amazon.com/s?k=data+science&s=relevanceblender&page=2&crid=2YKZLS0CJFDGI&qid=1663103507&sprefix=data+science%2Caps%2C828&ref=sr_pg_2)\n",
      "2022-09-17 22:53:17 [scrapy.core.engine] DEBUG: Crawled (200) <GET https://www.amazon.com/Microsoft-Power-Quick-Start-Guide/dp/1800561571/ref=sr_1_33_sspa?crid=1IWIG31DNPO6P&keywords=data+science&qid=1663447969&sprefix=data+science%2Caps%2C586&sr=8-33-spons&psc=1&spLa=ZW5jcnlwdGVkUXVhbGlmaWVyPUExV0w5MFRVVVdTQk1KJmVuY3J5cHRlZElkPUEwOTg5NzY0M1RLMVAyTlIwWUpRSSZlbmNyeXB0ZWRBZElkPUEwODYwMjgwMjVWSjVKSTdQN0NSRCZ3aWRnZXROYW1lPXNwX210ZiZhY3Rpb249Y2xpY2tSZWRpcmVjdCZkb05vdExvZ0NsaWNrPXRydWU=> (referer: https://www.amazon.com/s?k=data+science&crid=1IWIG31DNPO6P&sprefix=data+science%2Caps%2C586&ref=nb_sb_noss_2)\n",
      "2022-09-17 22:53:17 [scrapy.core.engine] DEBUG: Crawled (200) <GET https://www.amazon.com/Model-Thinker-What-Need-Know/dp/B08WHN4M7S/ref=sr_1_106?crid=2YKZLS0CJFDGI&keywords=data+science&qid=1663447986&sprefix=data+science%2Caps%2C828&sr=8-106> (referer: https://www.amazon.com/s?k=data+science&s=relevanceblender&page=2&crid=2YKZLS0CJFDGI&qid=1663103507&sprefix=data+science%2Caps%2C828&ref=sr_pg_2)\n",
      "2022-09-17 22:53:17 [scrapy.core.engine] DEBUG: Crawled (200) <GET https://www.amazon.com/Action-Third-Robert-I-Kabacoff/dp/1617296058/ref=sr_1_103?crid=2YKZLS0CJFDGI&keywords=data+science&qid=1663447986&sprefix=data+science%2Caps%2C828&sr=8-103> (referer: https://www.amazon.com/s?k=data+science&s=relevanceblender&page=2&crid=2YKZLS0CJFDGI&qid=1663103507&sprefix=data+science%2Caps%2C828&ref=sr_pg_2)\n",
      "2022-09-17 22:53:17 [scrapy.core.engine] DEBUG: Crawled (200) <GET https://www.amazon.com/Listening-People-Interviewing-Participant-Observation/dp/022680643X/ref=sr_1_101?crid=2YKZLS0CJFDGI&keywords=data+science&qid=1663447986&sprefix=data+science%2Caps%2C828&sr=8-101> (referer: https://www.amazon.com/s?k=data+science&s=relevanceblender&page=2&crid=2YKZLS0CJFDGI&qid=1663103507&sprefix=data+science%2Caps%2C828&ref=sr_pg_2)\n",
      "2022-09-17 22:53:17 [scrapy.core.engine] DEBUG: Crawled (200) <GET https://www.amazon.com/Data-Science-Ethics-Techniques-Cautionary/dp/0192847279/ref=sr_1_102?crid=2YKZLS0CJFDGI&keywords=data+science&qid=1663447986&sprefix=data+science%2Caps%2C828&sr=8-102> (referer: https://www.amazon.com/s?k=data+science&s=relevanceblender&page=2&crid=2YKZLS0CJFDGI&qid=1663103507&sprefix=data+science%2Caps%2C828&ref=sr_pg_2)\n"
     ]
    },
    {
     "name": "stdout",
     "output_type": "stream",
     "text": [
      "start_new_page\n",
      "51\n",
      "['\\n            \\n              74%\\n            \\n          '] 4.5 out of 5 stars 7 x 0.4 x 10 inches\n",
      "52\n",
      "[] None None\n",
      "53\n",
      "['\\n            \\n              73%\\n            \\n          '] 4.5 out of 5 stars 6 x 0.9 x 9 inches\n",
      "54\n",
      "['\\n            \\n              60%\\n            \\n          '] 4.3 out of 5 stars 6 x 0.78 x 9 inches\n",
      "55\n",
      "['\\n            \\n              57%\\n            \\n          '] 4.3 out of 5 stars 7.5 x 0.67 x 9.25 inches\n",
      "56\n",
      "['\\n            \\n              69%\\n            \\n          '] 4.5 out of 5 stars None\n",
      "57\n",
      "['\\n            \\n              82%\\n            \\n          '] 4.6 out of 5 stars 7.38 x 1.5 x 9.25 inches\n",
      "58\n",
      "['\\n            \\n              100%\\n            \\n          '] 5.0 out of 5 stars 9.4 x 0.6 x 6.2 inches\n"
     ]
    },
    {
     "name": "stderr",
     "output_type": "stream",
     "text": [
      "2022-09-17 22:53:20 [scrapy.core.engine] DEBUG: Crawled (200) <GET https://www.amazon.com/DATA-SCIENCE-INTERVIEW-QUESTIONS-SCIENTISTS-ebook/dp/B0B84DHNYB/ref=sr_1_99?crid=2YKZLS0CJFDGI&keywords=data+science&qid=1663447986&sprefix=data+science%2Caps%2C828&sr=8-99> (referer: https://www.amazon.com/s?k=data+science&s=relevanceblender&page=2&crid=2YKZLS0CJFDGI&qid=1663103507&sprefix=data+science%2Caps%2C828&ref=sr_pg_2)\n",
      "2022-09-17 22:53:20 [scrapy.core.engine] DEBUG: Crawled (200) <GET https://www.amazon.com/Data-Science-Machine-Learning-Mathematical/dp/1138492531/ref=sr_1_97?crid=2YKZLS0CJFDGI&keywords=data+science&qid=1663447986&sprefix=data+science%2Caps%2C828&sr=8-97> (referer: https://www.amazon.com/s?k=data+science&s=relevanceblender&page=2&crid=2YKZLS0CJFDGI&qid=1663103507&sprefix=data+science%2Caps%2C828&ref=sr_pg_2)\n",
      "2022-09-17 22:53:20 [scrapy.core.engine] DEBUG: Crawled (200) <GET https://www.amazon.com/Data-Mesh-Action-Jacek-Majchrzak/dp/1633439976/ref=sr_1_96?crid=2YKZLS0CJFDGI&keywords=data+science&qid=1663447986&sprefix=data+science%2Caps%2C828&sr=8-96> (referer: https://www.amazon.com/s?k=data+science&s=relevanceblender&page=2&crid=2YKZLS0CJFDGI&qid=1663103507&sprefix=data+science%2Caps%2C828&ref=sr_pg_2)\n"
     ]
    },
    {
     "name": "stdout",
     "output_type": "stream",
     "text": [
      "59\n",
      "['\\n            \\n              100%\\n            \\n          '] 5.0 out of 5 stars None\n",
      "60\n",
      "['\\n            \\n              84%\\n            \\n          '] 4.8 out of 5 stars 8.9 x 1.2 x 11 inches\n"
     ]
    },
    {
     "name": "stderr",
     "output_type": "stream",
     "text": [
      "2022-09-17 22:53:25 [scrapy.core.engine] DEBUG: Crawled (200) <GET https://www.amazon.com/Machine-Learning-Solutions-Architect-Handbook/dp/1801072167/ref=sr_1_94?crid=2YKZLS0CJFDGI&keywords=data+science&qid=1663447986&sprefix=data+science%2Caps%2C828&sr=8-94> (referer: https://www.amazon.com/s?k=data+science&s=relevanceblender&page=2&crid=2YKZLS0CJFDGI&qid=1663103507&sprefix=data+science%2Caps%2C828&ref=sr_pg_2)\n",
      "2022-09-17 22:53:25 [scrapy.core.engine] DEBUG: Crawled (200) <GET https://www.amazon.com/Making-Numbers-Count-Science-Communicating/dp/1982165448/ref=sr_1_93?crid=2YKZLS0CJFDGI&keywords=data+science&qid=1663447986&sprefix=data+science%2Caps%2C828&sr=8-93> (referer: https://www.amazon.com/s?k=data+science&s=relevanceblender&page=2&crid=2YKZLS0CJFDGI&qid=1663103507&sprefix=data+science%2Caps%2C828&ref=sr_pg_2)\n",
      "2022-09-17 22:53:25 [scrapy.core.engine] DEBUG: Crawled (200) <GET https://www.amazon.com/Algorithms-to-Live-By-audiobook/dp/B01D24NAL6/ref=sr_1_100?crid=2YKZLS0CJFDGI&keywords=data+science&qid=1663447986&sprefix=data+science%2Caps%2C828&sr=8-100> (referer: https://www.amazon.com/s?k=data+science&s=relevanceblender&page=2&crid=2YKZLS0CJFDGI&qid=1663103507&sprefix=data+science%2Caps%2C828&ref=sr_pg_2)\n",
      "2022-09-17 22:53:25 [scrapy.core.engine] DEBUG: Crawled (200) <GET https://www.amazon.com/s?k=data+science&s=relevanceblender&page=3&crid=2YKZLS0CJFDGI&qid=1663103507&sprefix=data+science%2Caps%2C828&ref=sr_pg_3> (referer: https://www.amazon.com/Bayesian-Ideas-Data-Analysis-Statisticians/dp/1439803544/ref=sr_1_108?crid=2YKZLS0CJFDGI&keywords=data+science&qid=1663447986&sprefix=data+science%2Caps%2C828&sr=8-108)\n",
      "2022-09-17 22:53:25 [scrapy.core.engine] DEBUG: Crawled (200) <GET https://www.amazon.com/Crucial-Conversations-Tools-Talking-Stakes/dp/1260474186/ref=sr_1_98?crid=2YKZLS0CJFDGI&keywords=data+science&qid=1663447986&sprefix=data+science%2Caps%2C828&sr=8-98> (referer: https://www.amazon.com/s?k=data+science&s=relevanceblender&page=2&crid=2YKZLS0CJFDGI&qid=1663103507&sprefix=data+science%2Caps%2C828&ref=sr_pg_2)\n",
      "2022-09-17 22:53:25 [scrapy.core.engine] DEBUG: Crawled (200) <GET https://www.amazon.com/Data-Science-Comprehensive-Artificial-Intelligence-ebook/dp/B07ZY3SQTK/ref=sr_1_95?crid=2YKZLS0CJFDGI&keywords=data+science&qid=1663447986&sprefix=data+science%2Caps%2C828&sr=8-95> (referer: https://www.amazon.com/s?k=data+science&s=relevanceblender&page=2&crid=2YKZLS0CJFDGI&qid=1663103507&sprefix=data+science%2Caps%2C828&ref=sr_pg_2)\n"
     ]
    },
    {
     "name": "stdout",
     "output_type": "stream",
     "text": [
      "[['Becoming a Data Head: How to Think, Speak and Understand Data Science, Statistics and Machine Learning', ['by ', 'Alex J. Gutman', ' and ', 'Jordan Goldmeier'], '$24.49', '272 pages', '4.6 out of 5 stars', '184 ratings', ['\\n            \\n              74%\\n            \\n          '], ['\\n            \\n              18%\\n            \\n          '], ['\\n            \\n              5%\\n            \\n          '], ['\\n            \\n              2%\\n            \\n          '], ['\\n            \\n              1%\\n            \\n          '], '6 x 0.62 x 9 inches', '12.5 ounces', 'English', 'Wiley; 1st edition (April 23, 2021)', ' 978-1119741749', '/Becoming-Data-Head-Understand-Statistics/dp/1119741742/ref=sr_1_7?crid=1IWIG31DNPO6P&keywords=data+science&qid=1663447969&sprefix=data+science%2Caps%2C586&sr=8-7'], ['Ace the Data Science Interview: 201 Real Interview Questions Asked By FAANG, Tech Startups, & Wall Street', ['by ', 'Nick Singh', ' and ', 'Kevin Huo'], '$26.00', '301 pages', '4.5 out of 5 stars', '599 ratings', ['\\n            \\n              77%\\n            \\n          '], ['\\n            \\n              10%\\n            \\n          '], ['\\n            \\n              6%\\n            \\n          '], ['\\n            \\n              3%\\n            \\n          '], ['\\n            \\n              4%\\n            \\n          '], '7 x 0.68 x 10 inches', '1.28 pounds', 'English', 'Ace the Data Science Interview (August 16, 2021)', ' 978-0578973838', '/Ace-Data-Science-Interview-Questions/dp/0578973839/ref=sr_1_5?crid=1IWIG31DNPO6P&keywords=data+science&qid=1663447969&sprefix=data+science%2Caps%2C586&sr=8-5'], ['Fundamentals of Data Engineering: Plan and Build Robust Data Systems', ['by ', 'Joe Reis', ' and ', 'Matt Housley'], '$50.76', '446 pages', '5.0 out of 5 stars', '33 ratings', ['\\n            \\n              96%\\n            \\n          '], ['\\n            \\n              4%\\n            \\n          '], [], [], [], '7 x 1 x 9.25 inches', '1.57 pounds', 'English', \"O'Reilly Media; 1st edition (July 26, 2022)\", ' 978-1098108304', '/Fundamentals-Data-Engineering-Robust-Systems/dp/1098108302/ref=sr_1_11?crid=1IWIG31DNPO6P&keywords=data+science&qid=1663447969&sprefix=data+science%2Caps%2C586&sr=8-11'], ['Essential Math for Data Science: Take Control of Your Data with Fundamental Linear Algebra, Probability, and Statistics', ['by ', 'Thomas Nield'], '$44.80', '347 pages', '4.5 out of 5 stars', '27 ratings', ['\\n            \\n              79%\\n            \\n          '], ['\\n            \\n              5%\\n            \\n          '], ['\\n            \\n              5%\\n            \\n          '], ['\\n            \\n              5%\\n            \\n          '], ['\\n            \\n              5%\\n            \\n          '], '7 x 0.75 x 9 inches', '1.23 pounds', 'English', \"O'Reilly Media; 1st edition (July 5, 2022)\", ' 978-1098102937', '/Essential-Math-Data-Science-Fundamental/dp/1098102932/ref=sr_1_6?crid=1IWIG31DNPO6P&keywords=data+science&qid=1663447969&sprefix=data+science%2Caps%2C586&sr=8-6'], ['Data Science for Business: What You Need to Know about Data Mining and Data-Analytic Thinking', ['by ', 'Foster Provost', ' and ', 'Tom Fawcett'], '$36.99', '413 pages', '4.5 out of 5 stars', '970 ratings', ['\\n            \\n              71%\\n            \\n          '], ['\\n            \\n              15%\\n            \\n          '], ['\\n            \\n              8%\\n            \\n          '], ['\\n            \\n              3%\\n            \\n          '], ['\\n            \\n              3%\\n            \\n          '], '7 x 0.9 x 9.19 inches', '1.5 pounds', 'English', \"O'Reilly Media; 1st edition (September 17, 2013)\", ' 978-1449361327', '/Data-Science-Business-Data-Analytic-Thinking/dp/1449361323/ref=sr_1_8?crid=1IWIG31DNPO6P&keywords=data+science&qid=1663447969&sprefix=data+science%2Caps%2C586&sr=8-8'], ['Data Science from Scratch: First Principles with Python', ['by ', 'Joel Grus'], '$45.22', '406 pages', '4.4 out of 5 stars', '594 ratings', ['\\n            \\n              65%\\n            \\n          '], ['\\n            \\n              19%\\n            \\n          '], ['\\n            \\n              8%\\n            \\n          '], ['\\n            \\n              4%\\n            \\n          '], ['\\n            \\n              4%\\n            \\n          '], '6.9 x 0.9 x 9.1 inches', '1.4 pounds', 'English', \"O'Reilly Media; 2nd edition (May 16, 2019)\", ' 978-1492041139', '/Data-Science-Scratch-Principles-Python/dp/1492041130/ref=sr_1_9?crid=1IWIG31DNPO6P&keywords=data+science&qid=1663447969&sprefix=data+science%2Caps%2C586&sr=8-9'], ['Practical Statistics for Data Scientists: 50+ Essential Concepts Using R and Python', ['by ', 'Peter Bruce', ', ', 'Andrew Bruce', ', et al.'], '$24.88', '368 pages', '4.6 out of 5 stars', '655 ratings', ['\\n            \\n              76%\\n            \\n          '], ['\\n            \\n              14%\\n            \\n          '], ['\\n            \\n              6%\\n            \\n          '], ['\\n            \\n              2%\\n            \\n          '], ['\\n            \\n              2%\\n            \\n          '], '7 x 0.9 x 9.1 inches', '1.3 pounds', 'English', \"O'Reilly Media; 2nd edition (June 2, 2020)\", ' 978-1492072942', '/Practical-Statistics-Data-Scientists-Essential/dp/149207294X/ref=sr_1_10?crid=1IWIG31DNPO6P&keywords=data+science&qid=1663447969&sprefix=data+science%2Caps%2C586&sr=8-10'], ['Python for Data Science: A Hands-On Introduction', ['by ', 'Yuli Vasiliev'], '$28.49', '240 pages', '4.3 out of 5 stars', '6 ratings', ['\\n            \\n              78%\\n            \\n          '], ['\\n            \\n              22%\\n            \\n          '], [], [], [], '7 x 0.71 x 9.25 inches', '13 ounces', 'English', 'No Starch Press (August 2, 2022)', ' 978-1718502208', '/Python-Data-Science-Example-Vasiliev/dp/1718502206/ref=sr_1_16?crid=1IWIG31DNPO6P&keywords=data+science&qid=1663447969&sprefix=data+science%2Caps%2C586&sr=8-16'], ['Practical Linear Algebra for Data Science: From Core Concepts to Applications Using Python', ['by ', 'Mike Cohen'], '$69.99', '328 pages', None, None, [], [], [], [], [], '7 x 0.69 x 9.19 inches', '1.15 pounds', 'English', \"O'Reilly Media; 1st edition (October 18, 2022)\", ' 978-1098120610', '/Practical-Linear-Algebra-Data-Science/dp/1098120612/ref=sr_1_15?crid=1IWIG31DNPO6P&keywords=data+science&qid=1663447969&sprefix=data+science%2Caps%2C586&sr=8-15'], ['Data Science (The MIT Press Essential Knowledge series)', [' '], '$9.61', '280 pages', '4.5 out of 5 stars', '383 ratings', ['\\n            \\n              68%\\n            \\n          '], ['\\n            \\n              21%\\n            \\n          '], ['\\n            \\n              6%\\n            \\n          '], ['\\n            \\n              3%\\n            \\n          '], ['\\n            \\n              2%\\n            \\n          '], '5 x 0.57 x 6.9 inches', '8.8 ounces', 'English', 'The MIT Press; Illustrated edition (April 13, 2018)', ' 978-0262535434', '/Data-Science-Press-Essential-Knowledge/dp/0262535432/ref=sr_1_14?crid=1IWIG31DNPO6P&keywords=data+science&qid=1663447969&sprefix=data+science%2Caps%2C586&sr=8-14'], ['Data Science For Dummies (For Dummies (Computer/Tech))', ['by ', 'Lillian Pierson'], '$25.49', '432 pages', '4.6 out of 5 stars', '35 ratings', ['\\n            \\n              73%\\n            \\n          '], ['\\n            \\n              17%\\n            \\n          '], ['\\n            \\n              10%\\n            \\n          '], [], [], '7.3 x 1 x 9.1 inches', '1.35 pounds', 'English', 'For Dummies; 3rd edition (September 1, 2021)', ' 978-1119811558', '/Data-Science-Dummies-Lillian-Pierson/dp/1119811554/ref=sr_1_13?crid=1IWIG31DNPO6P&keywords=data+science&qid=1663447969&sprefix=data+science%2Caps%2C586&sr=8-13'], ['Azure Data Engineer Associate Certification Guide: A hands-on reference guide to developing your data engineering skills and preparing for the DP-203 exam', ['by ', 'Newton Alex'], '$49.99', '574 pages', '4.1 out of 5 stars', '16 ratings', ['\\n            \\n              56%\\n            \\n          '], ['\\n            \\n              28%\\n            \\n          '], ['\\n            \\n              16%\\n            \\n          '], [], [], '7.5 x 1.3 x 9.25 inches', '2.15 pounds', 'English', 'Packt Publishing (February 28, 2022)', ' 978-1801816069', '/gp/slredirect/picassoRedirect.html/ref=pa_sp_atf_aps_sr_pg1_1?ie=UTF8&adId=A02245873B3SHBIPFMFOA&url=%2FAzure-Engineer-Associate-Certification-hands%2Fdp%2F1801816069%2Fref%3Dsr_1_3_sspa%3Fcrid%3D1IWIG31DNPO6P%26keywords%3Ddata%2Bscience%26qid%3D1663447969%26sprefix%3Ddata%2Bscience%252Caps%252C586%26sr%3D8-3-spons%26psc%3D1&qualifier=1663447969&id=821362400294070&widgetName=sp_atf'], ['Data Pipelines with Apache Airflow', ['by ', 'Bas P. Harenslak', ' and ', 'Julian Rutger de Ruiter'], '$47.62', '480 pages', '4.7 out of 5 stars', '44 ratings', ['\\n            \\n              77%\\n            \\n          '], ['\\n            \\n              16%\\n            \\n          '], ['\\n            \\n              3%\\n            \\n          '], ['\\n            \\n              4%\\n            \\n          '], [], '7.38 x 1.4 x 9.25 inches', '1.9 pounds', 'English', 'Manning (April 27, 2021)', ' 978-1617296901', '/gp/slredirect/picassoRedirect.html/ref=pa_sp_atf_aps_sr_pg1_1?ie=UTF8&adId=A0347658GOLL3759C53G&url=%2FData-Pipelines-Apache-Airflow-Harenslak%2Fdp%2F1617296902%2Fref%3Dsr_1_1_sspa%3Fcrid%3D1IWIG31DNPO6P%26keywords%3Ddata%2Bscience%26qid%3D1663447969%26sprefix%3Ddata%2Bscience%252Caps%252C586%26sr%3D8-1-spons%26psc%3D1&qualifier=1663447969&id=821362400294070&widgetName=sp_atf'], ['Practical Data Science with Python: Learn tools and techniques from hands-on examples to extract insights from data', ['by ', 'Nathan George'], '$51.99', '620 pages', '4.7 out of 5 stars', '21 ratings', ['\\n            \\n              82%\\n            \\n          '], ['\\n            \\n              8%\\n            \\n          '], ['\\n            \\n              9%\\n            \\n          '], [], [], '7.5 x 1.4 x 9.25 inches', '2.31 pounds', 'English', 'Packt Publishing (September 30, 2021)', ' 978-1801071970', '/gp/slredirect/picassoRedirect.html/ref=pa_sp_atf_aps_sr_pg1_1?ie=UTF8&adId=A03905121U6XJXPNBHIFG&url=%2FPractical-Data-Science-Python-hands%2Fdp%2F1801071977%2Fref%3Dsr_1_4_sspa%3Fcrid%3D1IWIG31DNPO6P%26keywords%3Ddata%2Bscience%26qid%3D1663447969%26sprefix%3Ddata%2Bscience%252Caps%252C586%26sr%3D8-4-spons%26psc%3D1&qualifier=1663447969&id=821362400294070&widgetName=sp_atf'], ['Data Science on AWS: Implementing End-to-End, Continuous AI and Machine Learning Pipelines', ['by ', 'Chris Fregly', ' and ', 'Antje Barth'], '$31.99', '521 pages', '4.4 out of 5 stars', '135 ratings', ['\\n            \\n              70%\\n            \\n          '], ['\\n            \\n              14%\\n            \\n          '], ['\\n            \\n              5%\\n            \\n          '], ['\\n            \\n              7%\\n            \\n          '], ['\\n            \\n              4%\\n            \\n          '], '7 x 1.05 x 9.19 inches', '1.82 pounds', 'English', \"O'Reilly Media; 1st edition (May 11, 2021)\", ' 978-1492079392', '/gp/slredirect/picassoRedirect.html/ref=pa_sp_atf_aps_sr_pg1_1?ie=UTF8&adId=A013104196Y34XYTAWJJ&url=%2FData-Science-AWS-End-End%2Fdp%2F1492079391%2Fref%3Dsr_1_2_sspa%3Fcrid%3D1IWIG31DNPO6P%26keywords%3Ddata%2Bscience%26qid%3D1663447969%26sprefix%3Ddata%2Bscience%252Caps%252C586%26sr%3D8-2-spons%26psc%3D1&qualifier=1663447969&id=821362400294070&widgetName=sp_atf'], ['Data Analysis for Business, Economics, and Policy', ['by ', 'Gábor Békés', ' and ', 'Gábor Kézdi'], '$61.74', '738 pages', '4.4 out of 5 stars', '26 ratings', ['\\n            \\n              70%\\n            \\n          '], ['\\n            \\n              13%\\n            \\n          '], ['\\n            \\n              6%\\n            \\n          '], ['\\n            \\n              6%\\n            \\n          '], ['\\n            \\n              5%\\n            \\n          '], '7.5 x 1.74 x 9.25 inches', '3.51 pounds', 'English', 'Cambridge University Press (May 6, 2021)', ' 978-1108716208', '/gp/slredirect/picassoRedirect.html/ref=pa_sp_mtf_aps_sr_pg1_1?ie=UTF8&adId=A03403322CFQYO3UQZHBI&url=%2FData-Analysis-Business-Economics-Policy%2Fdp%2F1108716202%2Fref%3Dsr_1_17_sspa%3Fcrid%3D1IWIG31DNPO6P%26keywords%3Ddata%2Bscience%26qid%3D1663447969%26sprefix%3Ddata%2Bscience%252Caps%252C586%26sr%3D8-17-spons%26psc%3D1&qualifier=1663447969&id=821362400294070&widgetName=sp_mtf'], ['Machine Learning Design Interview: Machine Learning System Design Interview', ['by ', 'Khang Pham'], ' $34.15 ', '210 pages', '3.6 out of 5 stars', '57 ratings', ['\\n            \\n              47%\\n            \\n          '], ['\\n            \\n              15%\\n            \\n          '], ['\\n            \\n              8%\\n            \\n          '], ['\\n            \\n              7%\\n            \\n          '], ['\\n            \\n              22%\\n            \\n          '], '6 x 0.48 x 9 inches', '11.8 ounces', 'English', 'Independently published (April 29, 2022)', None, '/Machine-Learning-Design-Interview-System/dp/B09YQWX59Z/ref=sr_1_59?crid=1IWIG31DNPO6P&keywords=data+science&qid=1663447969&sprefix=data+science%2Caps%2C586&sr=8-59'], ['Hands-On Data Analysis with Pandas: A Python data science handbook for data collection, wrangling, analysis, and visualization, 2nd Edition', ['by ', 'Stefanie Molin', ' and ', 'Ken Jee'], '$35.67', '788 pages', '4.3 out of 5 stars', '64 ratings', ['\\n            \\n              67%\\n            \\n          '], ['\\n            \\n              18%\\n            \\n          '], ['\\n            \\n              4%\\n            \\n          '], ['\\n            \\n              4%\\n            \\n          '], ['\\n            \\n              7%\\n            \\n          '], '7.5 x 1.78 x 9.25 inches', '2.93 pounds', 'English', 'Packt Publishing; 2nd ed. edition (April 29, 2021)', ' 978-1800563452', '/Hands-Data-Analysis-Pandas-visualization/dp/1800563450/ref=sr_1_60?crid=1IWIG31DNPO6P&keywords=data+science&qid=1663447969&sprefix=data+science%2Caps%2C586&sr=8-60'], ['Business Data Science: Combining Machine Learning and Economics to Optimize, Automate, and Accelerate Business Decisions', ['by ', 'Matt Taddy'], '$33.43', '352 pages', '4.5 out of 5 stars', '143 ratings', ['\\n            \\n              76%\\n            \\n          '], ['\\n            \\n              11%\\n            \\n          '], ['\\n            \\n              4%\\n            \\n          '], ['\\n            \\n              3%\\n            \\n          '], ['\\n            \\n              7%\\n            \\n          '], '1.19 x 7.38 x 9.25 inches', '1.62 pounds', 'English', 'McGraw Hill; 1st edition (August 21, 2019)', ' 978-1260452778', '/Business-Data-Science-Combining-Accelerate/dp/1260452778/ref=sr_1_57?crid=1IWIG31DNPO6P&keywords=data+science&qid=1663447969&sprefix=data+science%2Caps%2C586&sr=8-57'], ['Practical Data Science with Python: Learn tools and techniques from hands-on examples to extract insights from data', ['by ', 'Nathan George'], '$51.99', '620 pages', '4.7 out of 5 stars', '21 ratings', ['\\n            \\n              82%\\n            \\n          '], ['\\n            \\n              8%\\n            \\n          '], ['\\n            \\n              9%\\n            \\n          '], [], [], '7.5 x 1.4 x 9.25 inches', '2.31 pounds', 'English', 'Packt Publishing (September 30, 2021)', ' 978-1801071970', '/Practical-Data-Science-Python-hands/dp/1801071977/ref=sr_1_56?crid=1IWIG31DNPO6P&keywords=data+science&qid=1663447969&sprefix=data+science%2Caps%2C586&sr=8-56'], ['Azure Data Engineer Associate Certification Guide: A hands-on reference guide to developing your data engineering skills and preparing for the DP-203 exam', ['by ', 'Newton Alex'], '$49.99', '574 pages', '4.1 out of 5 stars', '16 ratings', ['\\n            \\n              56%\\n            \\n          '], ['\\n            \\n              28%\\n            \\n          '], ['\\n            \\n              16%\\n            \\n          '], [], [], '7.5 x 1.3 x 9.25 inches', '2.15 pounds', 'English', 'Packt Publishing (February 28, 2022)', ' 978-1801816069', '/Azure-Engineer-Associate-Certification-hands/dp/1801816069/ref=sr_1_54?crid=1IWIG31DNPO6P&keywords=data+science&qid=1663447969&sprefix=data+science%2Caps%2C586&sr=8-54'], ['The Art of Statistics: How to Learn from Data', ['by ', 'David Spiegelhalter'], '$17.99', '448 pages', '4.6 out of 5 stars', '2,764 ratings', ['\\n            \\n              73%\\n            \\n          '], ['\\n            \\n              19%\\n            \\n          '], ['\\n            \\n              5%\\n            \\n          '], ['\\n            \\n              1%\\n            \\n          '], ['\\n            \\n              1%\\n            \\n          '], '5.4 x 1.3 x 8.2 inches', '13.6 ounces', 'English', 'Basic Books (August 17, 2021)', ' 978-1541675704', '/Art-Statistics-How-Learn-Data/dp/1541675703/ref=sr_1_58?crid=1IWIG31DNPO6P&keywords=data+science&qid=1663447969&sprefix=data+science%2Caps%2C586&sr=8-58'], ['Cleaning Data for Effective Data Science: Doing the other 80% of the work with Python, R, and command-line tools', ['by ', 'David Mertz'], '$39.99', '498 pages', '4.8 out of 5 stars', '27 ratings', ['\\n            \\n              92%\\n            \\n          '], ['\\n            \\n              8%\\n            \\n          '], [], [], [], '7.5 x 1.13 x 9.25 inches', '1.85 pounds', 'English', 'Packt Publishing (March 31, 2021)', ' 978-1801071291', '/Cleaning-Data-Effective-Science-command-line/dp/1801071292/ref=sr_1_55?crid=1IWIG31DNPO6P&keywords=data+science&qid=1663447969&sprefix=data+science%2Caps%2C586&sr=8-55'], [\"SQL QuickStart Guide: The Simplified Beginner's Guide to Managing, Analyzing, and Manipulating Data With SQL\", ['by ', 'Walter Shields'], ' $22.49 ', '249 pages', '4.6 out of 5 stars', '1,300 ratings', ['\\n            \\n              73%\\n            \\n          '], ['\\n            \\n              17%\\n            \\n          '], ['\\n            \\n              7%\\n            \\n          '], ['\\n            \\n              1%\\n            \\n          '], ['\\n            \\n              2%\\n            \\n          '], '7.5 x 0.57 x 9.25 inches', '15.5 ounces', 'English', 'ClydeBank Media LLC; Illustrated edition (November 18, 2019)', None, '/SQL-QuickStart-Guide-Simplified-Manipulating/dp/1945051752/ref=sr_1_52?crid=1IWIG31DNPO6P&keywords=data+science&qid=1663447969&sprefix=data+science%2Caps%2C586&sr=8-52'], [\"Everything Data Analytics-A Beginner's Guide to Data Literacy: Understanding the Processes That Turn Data Into Insights (Guides for Data Analytics, Data Visualization, and Communicating Data)\", [' '], '$14.49', '148 pages', '4.2 out of 5 stars', '17 ratings', ['\\n            \\n              55%\\n            \\n          '], ['\\n            \\n              24%\\n            \\n          '], ['\\n            \\n              13%\\n            \\n          '], ['\\n            \\n              8%\\n            \\n          '], [], '5.5 x 0.37 x 8.5 inches', '8.8 ounces', 'English', 'Kenneth Michael Fornari (May 24, 2022)', ' 978-1777967130', '/Everything-Analytics-Beginners-Guide-Literacy/dp/1777967139/ref=sr_1_53?crid=1IWIG31DNPO6P&keywords=data+science&qid=1663447969&sprefix=data+science%2Caps%2C586&sr=8-53'], ['Effective Data Science Infrastructure: How to make data scientists productive', ['by ', 'Ville Tuulos'], '$49.99', '352 pages', '5.0 out of 5 stars', '5 ratings', ['\\n            \\n              100%\\n            \\n          '], [], [], [], [], '7.38 x 0.8 x 9.25 inches', '1.15 pounds', 'English', 'Manning (August 16, 2022)', ' 978-1617299193', '/Effective-Data-Science-Infrastructure-scientists/dp/1617299197/ref=sr_1_51?crid=1IWIG31DNPO6P&keywords=data+science&qid=1663447969&sprefix=data+science%2Caps%2C586&sr=8-51'], ['Python Data Science Handbook: Essential Tools for Working with Data', ['by ', 'Jake VanderPlas'], '$66.49', '550 pages', None, None, [], [], [], [], [], None, '1.11 pounds', 'English', \"O'Reilly Media; 2nd edition (January 31, 2023)\", ' 978-1098121228', '/Python-Data-Science-Handbook-Essential/dp/1098121228/ref=sr_1_43?crid=1IWIG31DNPO6P&keywords=data+science&qid=1663447969&sprefix=data+science%2Caps%2C586&sr=8-43'], ['The Enterprise Big Data Lake: Delivering the Promise of Big Data and Data Science', ['by ', 'Alex Gorelik'], '$40.10', '224 pages', '4.3 out of 5 stars', '71 ratings', ['\\n            \\n              59%\\n            \\n          '], ['\\n            \\n              21%\\n            \\n          '], ['\\n            \\n              11%\\n            \\n          '], ['\\n            \\n              5%\\n            \\n          '], ['\\n            \\n              4%\\n            \\n          '], '7 x 0.4 x 9.1 inches', '11.2 ounces', 'English', \"O'Reilly Media; 1st edition (March 21, 2019)\", ' 978-1491931554', '/Enterprise-Big-Data-Lake-Delivering/dp/1491931558/ref=sr_1_47?crid=1IWIG31DNPO6P&keywords=data+science&qid=1663447969&sprefix=data+science%2Caps%2C586&sr=8-47'], ['Data Science for Business People', ['by ', 'Bradford Tuckfield'], None, None, None, None, [], [], [], [], [], None, None, 'English', 'No Starch Press (February 28, 2023)', None, '/Science-Business-People-Bradford-Tuckfield-ebook/dp/B09WJY5P99/ref=sr_1_46?crid=1IWIG31DNPO6P&keywords=data+science&qid=1663447969&sprefix=data+science%2Caps%2C586&sr=8-46'], ['Everybody Lies: Big Data, New Data, and What the Internet Can Tell Us About Who We Really Are', ['by ', 'Seth Stephens-Davidowitz'], ' $8.77 ', '357 pages', '4.4 out of 5 stars', '2,324 ratings', ['\\n            \\n              66%\\n            \\n          '], ['\\n            \\n              20%\\n            \\n          '], ['\\n            \\n              9%\\n            \\n          '], ['\\n            \\n              2%\\n            \\n          '], ['\\n            \\n              3%\\n            \\n          '], None, None, 'English', 'Dey Street Books; Reprint edition (May 9, 2017)', None, '/Everybody-Lies-Internet-About-Really-ebook/dp/B01AFXZ2F4/ref=sr_1_49?crid=1IWIG31DNPO6P&keywords=data+science&qid=1663447969&sprefix=data+science%2Caps%2C586&sr=8-49'], ['Data-Driven Science and Engineering: Machine Learning, Dynamical Systems, and Control', ['by ', 'Steven L. Brunton', ' and ', 'J. Nathan Kutz'], '$58.49', '614 pages', '4.6 out of 5 stars', '14 ratings', ['\\n            \\n              90%\\n            \\n          '], ['\\n            \\n              10%\\n            \\n          '], [], [], [], '7.1 x 1.1 x 10.1 inches', '3.1 pounds', 'English', 'Cambridge University Press; 2nd edition (July 28, 2022)', ' 978-1009098489', '/Data-Driven-Science-Engineering-Learning-Dynamical/dp/1009098489/ref=sr_1_50?crid=1IWIG31DNPO6P&keywords=data+science&qid=1663447969&sprefix=data+science%2Caps%2C586&sr=8-50'], ['Data Pipelines with Apache Airflow', ['by ', 'Bas P. Harenslak', ' and ', 'Julian Rutger de Ruiter'], '$47.62', '480 pages', '4.7 out of 5 stars', '44 ratings', ['\\n            \\n              77%\\n            \\n          '], ['\\n            \\n              16%\\n            \\n          '], ['\\n            \\n              3%\\n            \\n          '], ['\\n            \\n              4%\\n            \\n          '], [], '7.38 x 1.4 x 9.25 inches', '1.9 pounds', 'English', 'Manning (April 27, 2021)', ' 978-1617296901', '/Data-Pipelines-Apache-Airflow-Harenslak/dp/1617296902/ref=sr_1_44?crid=1IWIG31DNPO6P&keywords=data+science&qid=1663447969&sprefix=data+science%2Caps%2C586&sr=8-44'], ['Hands-On Data Science for Marketing: Improve your marketing strategies with machine learning using Python and R', ['by ', 'Yoon Hyup Hwang'], '$44.99', '464 pages', '4.3 out of 5 stars', '63 ratings', ['\\n            \\n              59%\\n            \\n          '], ['\\n            \\n              23%\\n            \\n          '], ['\\n            \\n              9%\\n            \\n          '], ['\\n            \\n              6%\\n            \\n          '], ['\\n            \\n              3%\\n            \\n          '], '7.5 x 1.05 x 9.25 inches', '1.74 pounds', 'English', 'Packt Publishing (March 29, 2019)', ' 978-1789346343', '/Hands-Data-Science-Marketing-strategies/dp/1789346347/ref=sr_1_45?crid=1IWIG31DNPO6P&keywords=data+science&qid=1663447969&sprefix=data+science%2Caps%2C586&sr=8-45'], [\"Living in Data: A Citizen's Guide to a Better Information Future\", ['by ', 'Jer Thorp'], ' $17.99 ', '320 pages', '4.4 out of 5 stars', '72 ratings', ['\\n            \\n              69%\\n            \\n          '], ['\\n            \\n              16%\\n            \\n          '], ['\\n            \\n              8%\\n            \\n          '], ['\\n            \\n              2%\\n            \\n          '], ['\\n            \\n              6%\\n            \\n          '], '5.43 x 0.85 x 8.25 inches', '10.6 ounces', 'English', 'Picador (August 30, 2022)', None, '/Living-Data-Citizens-Better-Information/dp/1250849152/ref=sr_1_48?crid=1IWIG31DNPO6P&keywords=data+science&qid=1663447969&sprefix=data+science%2Caps%2C586&sr=8-48'], ['Be Data Driven: How Organizations Can Harness the Power of Data', ['by ', 'Jordan Morrow'], '$34.99', '240 pages', '5.0 out of 5 stars', '1 rating', ['\\n            \\n              100%\\n            \\n          '], [], [], [], [], '6.14 x 0.55 x 9.21 inches', '12 ounces', 'English', 'Kogan Page; 1st edition (August 30, 2022)', ' 978-1398606128', '/Be-Data-Driven-Organizations-Harness/dp/139860612X/ref=sr_1_42?crid=1IWIG31DNPO6P&keywords=data+science&qid=1663447969&sprefix=data+science%2Caps%2C586&sr=8-42'], ['Data Science Projects with Python: A case study approach to gaining valuable insights from real data with machine learning, 2nd Edition', ['by ', 'Stephen Klosterman'], '$36.99', '432 pages', '4.6 out of 5 stars', '52 ratings', ['\\n            \\n              79%\\n            \\n          '], ['\\n            \\n              13%\\n            \\n          '], ['\\n            \\n              4%\\n            \\n          '], ['\\n            \\n              5%\\n            \\n          '], [], '7.5 x 0.98 x 9.25 inches', '1.63 pounds', 'English', 'Packt Publishing; 2nd ed. edition (July 29, 2021)', ' 978-1800564480', '/Data-Science-Projects-Python-approach/dp/1800564481/ref=sr_1_41?crid=1IWIG31DNPO6P&keywords=data+science&qid=1663447969&sprefix=data+science%2Caps%2C586&sr=8-41'], ['The Kaggle Book: Data analysis and machine learning for competitive data science', ['by ', 'Konrad Banachewicz', ', ', 'Luca Massaron', ', et al.'], '$39.94', '530 pages', '4.6 out of 5 stars', '68 ratings', ['\\n            \\n              81%\\n            \\n          '], ['\\n            \\n              5%\\n            \\n          '], ['\\n            \\n              5%\\n            \\n          '], ['\\n            \\n              7%\\n            \\n          '], ['\\n            \\n              2%\\n            \\n          '], '7.5 x 1.2 x 9.25 inches', '1.98 pounds', 'English', 'Packt Publishing (April 22, 2022)', ' 978-1801817479', '/Data-Analysis-Machine-Learning-Kaggle/dp/1801817472/ref=sr_1_38?crid=1IWIG31DNPO6P&keywords=data+science&qid=1663447969&sprefix=data+science%2Caps%2C586&sr=8-38'], ['Think Like a Data Scientist: Tackle the data science process step-by-step', ['by ', 'Brian Godsey'], '$29.59', '328 pages', '4.5 out of 5 stars', '31 ratings', ['\\n            \\n              60%\\n            \\n          '], ['\\n            \\n              36%\\n            \\n          '], ['\\n            \\n              2%\\n            \\n          '], ['\\n            \\n              2%\\n            \\n          '], [], '7.38 x 0.7 x 9.25 inches', '1.47 pounds', 'English', 'Manning; 1st edition (April 2, 2017)', ' 978-1633430273', '/Think-Like-Scientist-step-step/dp/1633430278/ref=sr_1_39?crid=1IWIG31DNPO6P&keywords=data+science&qid=1663447969&sprefix=data+science%2Caps%2C586&sr=8-39'], ['Designing Data-Intensive Applications: The Big Ideas Behind Reliable, Scalable, and Maintainable Systems', ['by ', 'Martin Kleppmann'], '$23.37', '611 pages', '4.8 out of 5 stars', '3,167 ratings', ['\\n            \\n              85%\\n            \\n          '], ['\\n            \\n              9%\\n            \\n          '], ['\\n            \\n              3%\\n            \\n          '], ['\\n            \\n              1%\\n            \\n          '], ['\\n            \\n              2%\\n            \\n          '], '7.01 x 1.24 x 9.17 inches', '2.15 pounds', 'English', \"O'Reilly Media; 1st edition (May 2, 2017)\", ' 978-1449373320', '/Designing-Data-Intensive-Applications-Reliable-Maintainable/dp/1449373321/ref=sr_1_40?crid=1IWIG31DNPO6P&keywords=data+science&qid=1663447969&sprefix=data+science%2Caps%2C586&sr=8-40'], ['Data Smart: Using Data Science to Transform Information into Insight', ['by ', 'John W. Foreman'], '$21.10', '432 pages', '4.5 out of 5 stars', '346 ratings', ['\\n            \\n              70%\\n            \\n          '], ['\\n            \\n              17%\\n            \\n          '], ['\\n            \\n              7%\\n            \\n          '], ['\\n            \\n              4%\\n            \\n          '], ['\\n            \\n              2%\\n            \\n          '], '7.3 x 0.8 x 9.1 inches', '1.6 pounds', 'English', 'Wiley; 1st edition (November 12, 2013)', ' 978-1118661468', '/Data-Smart-Science-Transform-Information/dp/111866146X/ref=sr_1_37?crid=1IWIG31DNPO6P&keywords=data+science&qid=1663447969&sprefix=data+science%2Caps%2C586&sr=8-37'], ['The Little Book of Data Science Tricks: 100+ Techniques to Elevate Your Data Science Skills', ['by ', 'Maverick Lin'], None, None, '5.0 out of 5 stars', '1 rating', ['\\n            \\n              100%\\n            \\n          '], [], [], [], [], None, None, 'English', None, None, '/Little-Book-Data-Science-Tricks-ebook/dp/B08BJF9T1V/ref=sr_1_32?crid=1IWIG31DNPO6P&keywords=data+science&qid=1663447969&sprefix=data+science%2Caps%2C586&sr=8-32'], ['Python for Data Analysis: Data Wrangling with pandas, NumPy, and Jupyter', ['by ', 'Wes McKinney'], '$62.99', '579 pages', '5.0 out of 5 stars', '1 rating', ['\\n            \\n              100%\\n            \\n          '], [], [], [], [], '9.1 x 1.2 x 6.9 inches', '2.07 pounds', 'English', \"O'Reilly Media; 3rd edition (September 20, 2022)\", ' 978-1098104030', '/Python-Data-Analysis-Wrangling-Jupyter/dp/109810403X/ref=sr_1_30?crid=1IWIG31DNPO6P&keywords=data+science&qid=1663447969&sprefix=data+science%2Caps%2C586&sr=8-30'], ['Modern Data Science with R (Chapman & Hall/CRC Texts in Statistical Science)', [' '], '$72.59', '632 pages', '3.9 out of 5 stars', '9 ratings', ['\\n            \\n              69%\\n            \\n          '], ['\\n            \\n              15%\\n            \\n          '], ['\\n            \\n              15%\\n            \\n          '], [], [], '7.25 x 1.5 x 10.25 inches', '3.31 pounds', 'English', 'Chapman and Hall/CRC; 2nd edition (April 14, 2021)', ' 978-0367191498', '/Modern-Science-Chapman-Texts-Statistical/dp/0367191490/ref=sr_1_31?crid=1IWIG31DNPO6P&keywords=data+science&qid=1663447969&sprefix=data+science%2Caps%2C586&sr=8-31'], [\"Machine Learning: 4 Books in 1: The #1 Beginner's Guide to Master the Basics of Python Programming, Learn the Art of Data Science and Build Artificial Intelligence\", ['by ', 'Andrew Park'], '$25.97', '342 pages', '4.6 out of 5 stars', '344 ratings', ['\\n            \\n              81%\\n            \\n          '], ['\\n            \\n              10%\\n            \\n          '], ['\\n            \\n              3%\\n            \\n          '], ['\\n            \\n              1%\\n            \\n          '], ['\\n            \\n              5%\\n            \\n          '], '6 x 0.78 x 9 inches', '1.29 pounds', 'English', 'Independently published (July 20, 2022)', ' 979-8841495048', '/Machine-Learning-Programming-Artificial-Intelligence/dp/B0B6XLFWPL/ref=sr_1_29?crid=1IWIG31DNPO6P&keywords=data+science&qid=1663447969&sprefix=data+science%2Caps%2C586&sr=8-29'], ['Building Big Data Pipelines with Apache Beam: Use a single programming model for both batch and stream data processing', ['by ', 'Jan Lukavsky'], '$46.99', '342 pages', '3.9 out of 5 stars', '11 ratings', ['\\n            \\n              55%\\n            \\n          '], ['\\n            \\n              19%\\n            \\n          '], ['\\n            \\n              13%\\n            \\n          '], ['\\n            \\n              13%\\n            \\n          '], [], '7.5 x 0.78 x 9.25 inches', '1.3 pounds', 'English', 'Packt Publishing (January 21, 2022)', ' 978-1800564930', '/gp/slredirect/picassoRedirect.html/ref=pa_sp_mtf_aps_sr_pg1_1?ie=UTF8&adId=A0799207EVNWBH1XZ7SS&url=%2FBuilding-Data-Pipelines-Apache-Beam%2Fdp%2F1800564937%2Fref%3Dsr_1_36_sspa%3Fcrid%3D1IWIG31DNPO6P%26keywords%3Ddata%2Bscience%26qid%3D1663447969%26sprefix%3Ddata%2Bscience%252Caps%252C586%26sr%3D8-36-spons%26psc%3D1&qualifier=1663447969&id=821362400294070&widgetName=sp_mtf'], ['Algorithmic Finance: A Companion To Data Science', ['by ', 'Christopher Hian-ann Ting'], '$116.85', '408 pages', None, None, [], [], [], [], [], '6 x 1.15 x 9 inches', '1.58 pounds', 'English', 'WSPC (May 6, 2022)', ' 978-9811238307', '/gp/slredirect/picassoRedirect.html/ref=pa_sp_mtf_aps_sr_pg1_1?ie=UTF8&adId=A037424531TX4FHY2WGY6&url=%2FAlgorithmic-Finance-Companion-Data-Science%2Fdp%2F9811238308%2Fref%3Dsr_1_35_sspa%3Fcrid%3D1IWIG31DNPO6P%26keywords%3Ddata%2Bscience%26qid%3D1663447969%26sprefix%3Ddata%2Bscience%252Caps%252C586%26sr%3D8-35-spons%26psc%3D1&qualifier=1663447969&id=821362400294070&widgetName=sp_mtf'], ['Data Science on AWS: Implementing End-to-End, Continuous AI and Machine Learning Pipelines', ['by ', 'Chris Fregly', ' and ', 'Antje Barth'], '$31.99', '521 pages', '4.4 out of 5 stars', '135 ratings', ['\\n            \\n              70%\\n            \\n          '], ['\\n            \\n              14%\\n            \\n          '], ['\\n            \\n              5%\\n            \\n          '], ['\\n            \\n              7%\\n            \\n          '], ['\\n            \\n              4%\\n            \\n          '], '7 x 1.05 x 9.19 inches', '1.82 pounds', 'English', \"O'Reilly Media; 1st edition (May 11, 2021)\", ' 978-1492079392', '/Data-Science-AWS-End-End/dp/1492079391/ref=sr_1_27?crid=1IWIG31DNPO6P&keywords=data+science&qid=1663447969&sprefix=data+science%2Caps%2C586&sr=8-27'], ['Naked Statistics: Stripping the Dread from the Data', [' '], '$11.69', '304 pages', '4.6 out of 5 stars', '2,271 ratings', ['\\n            \\n              72%\\n            \\n          '], ['\\n            \\n              19%\\n            \\n          '], ['\\n            \\n              6%\\n            \\n          '], ['\\n            \\n              2%\\n            \\n          '], ['\\n            \\n              2%\\n            \\n          '], '5.5 x 0.8 x 8.2 inches', '7.1 ounces', 'English', 'W. W. Norton & Company; 1st edition (January 13, 2014)', ' 978-0393347777', '/Naked-Statistics-Stripping-Dread-Data/dp/039334777X/ref=sr_1_28?crid=1IWIG31DNPO6P&keywords=data+science&qid=1663447969&sprefix=data+science%2Caps%2C586&sr=8-28'], ['How To Win With Your Data Visualizations: The 5 Part Guide for Junior Analysts to Create Effective Data Visualizations and Engaging Data Stories ... Data Visualization, and Communicating Data)', ['by ', 'Elizabeth Clarke'], ' $15.49 ', '188 pages', '4.5 out of 5 stars', '48 ratings', ['\\n            \\n              66%\\n            \\n          '], ['\\n            \\n              23%\\n            \\n          '], ['\\n            \\n              7%\\n            \\n          '], ['\\n            \\n              4%\\n            \\n          '], [], '5.5 x 0.48 x 8.5 inches', '9.9 ounces', 'English', 'Ken Fornari (November 9, 2021)', None, '/gp/slredirect/picassoRedirect.html/ref=pa_sp_mtf_aps_sr_pg1_1?ie=UTF8&adId=A10346183NSI2IEUGQK3Z&url=%2FHow-Win-Your-Data-Visualizations%2Fdp%2F1777967104%2Fref%3Dsr_1_34_sspa%3Fcrid%3D1IWIG31DNPO6P%26keywords%3Ddata%2Bscience%26qid%3D1663447969%26sprefix%3Ddata%2Bscience%252Caps%252C586%26sr%3D8-34-spons%26psc%3D1&qualifier=1663447969&id=821362400294070&widgetName=sp_mtf'], ['Bayesian Ideas and Data Analysis: An Introduction for Scientists and Statisticians (Chapman & Hall/CRC Texts in Statistical Science)', [' '], '$64.10', '516 pages', '4.0 out of 5 stars', '14 ratings', ['\\n            \\n              55%\\n            \\n          '], ['\\n            \\n              19%\\n            \\n          '], ['\\n            \\n              8%\\n            \\n          '], ['\\n            \\n              10%\\n            \\n          '], ['\\n            \\n              8%\\n            \\n          '], '6.9 x 1.1 x 10 inches', '2.35 pounds', 'English', 'CRC Press; 1st edition (July 2, 2010)', ' 978-1439803547', '/Bayesian-Ideas-Data-Analysis-Statisticians/dp/1439803544/ref=sr_1_108?crid=2YKZLS0CJFDGI&keywords=data+science&qid=1663447986&sprefix=data+science%2Caps%2C828&sr=8-108'], ['Julia Data Science', ['by ', 'Jose Storopoli', ', ', 'Rik Huijzer', ', et al.'], '$31.99', '170 pages', '4.5 out of 5 stars', '9 ratings', ['\\n            \\n              74%\\n            \\n          '], ['\\n            \\n              26%\\n            \\n          '], [], [], [], '7 x 0.4 x 10 inches', '13.9 ounces', 'English', 'Independently published (October 28, 2021)', ' 979-8489859165', '/Julia-Data-Science-Jose-Storopoli/dp/B09KMRKQ96/ref=sr_1_107?crid=2YKZLS0CJFDGI&keywords=data+science&qid=1663447986&sprefix=data+science%2Caps%2C828&sr=8-107'], ['Data Analysis for Social Science: A Friendly and Practical Introduction', ['by ', 'Elena Llaudet', ' and ', 'Kosuke Imai'], None, None, None, None, [], [], [], [], [], None, None, 'English', 'Princeton University Press (September 13, 2022)', None, '/Data-Analysis-Social-Science-Introduction-ebook/dp/B0B64LFC91/ref=sr_1_105?crid=2YKZLS0CJFDGI&keywords=data+science&qid=1663447986&sprefix=data+science%2Caps%2C828&sr=8-105'], ['Listening to People: A Practical Guide to Interviewing, Participant Observation, Data Analysis, and Writing It All Up (Chicago Guides to Writing, Editing, and Publishing)', [' '], '$19.00', '333 pages', '4.5 out of 5 stars', '33 ratings', ['\\n            \\n              73%\\n            \\n          '], ['\\n            \\n              16%\\n            \\n          '], ['\\n            \\n              7%\\n            \\n          '], ['\\n            \\n              5%\\n            \\n          '], [], '6 x 0.9 x 9 inches', '1.01 pounds', 'English', 'University of Chicago Press (October 15, 2021)', ' 978-0226806433', '/Listening-People-Interviewing-Participant-Observation/dp/022680643X/ref=sr_1_101?crid=2YKZLS0CJFDGI&keywords=data+science&qid=1663447986&sprefix=data+science%2Caps%2C828&sr=8-101'], ['Doing Data Science: Straight Talk from the Frontline', ['by ', \"Cathy O'Neil\", ' and ', 'Rachel Schutt'], '$26.30', '408 pages', '4.3 out of 5 stars', '172 ratings', ['\\n            \\n              60%\\n            \\n          '], ['\\n            \\n              24%\\n            \\n          '], ['\\n            \\n              7%\\n            \\n          '], ['\\n            \\n              5%\\n            \\n          '], ['\\n            \\n              3%\\n            \\n          '], '6 x 0.78 x 9 inches', '1.2 pounds', 'English', \"O'Reilly Media; 1st edition (November 19, 2013)\", ' 978-1449358655', '/Doing-Data-Science-Straight-Frontline/dp/1449358659/ref=sr_1_104?crid=2YKZLS0CJFDGI&keywords=data+science&qid=1663447986&sprefix=data+science%2Caps%2C828&sr=8-104'], ['Microsoft Power BI Quick Start Guide: Bring your data to life through data modeling, visualization, digital storytelling, and more, 2nd Edition', ['by ', 'Devin Knight', ', ', 'Mitchell Pearson', ', et al.'], '$28.49', '294 pages', '4.3 out of 5 stars', '142 ratings', ['\\n            \\n              57%\\n            \\n          '], ['\\n            \\n              23%\\n            \\n          '], ['\\n            \\n              14%\\n            \\n          '], ['\\n            \\n              3%\\n            \\n          '], ['\\n            \\n              2%\\n            \\n          '], '7.5 x 0.67 x 9.25 inches', '1.12 pounds', 'English', 'Packt Publishing; 2nd ed. edition (October 30, 2020)', ' 978-1800561571', '/gp/slredirect/picassoRedirect.html/ref=pa_sp_mtf_aps_sr_pg1_1?ie=UTF8&adId=A086028025VJ5JI7P7CRD&url=%2FMicrosoft-Power-Quick-Start-Guide%2Fdp%2F1800561571%2Fref%3Dsr_1_33_sspa%3Fcrid%3D1IWIG31DNPO6P%26keywords%3Ddata%2Bscience%26qid%3D1663447969%26sprefix%3Ddata%2Bscience%252Caps%252C586%26sr%3D8-33-spons%26psc%3D1&qualifier=1663447969&id=821362400294070&widgetName=sp_mtf'], ['The Model Thinker: What You Need to Know to Make Data Work for You', ['by ', 'Scott E. Page', ', ', 'Jamie Renell', ', et al.'], None, None, '4.5 out of 5 stars', '444 ratings', ['\\n            \\n              69%\\n            \\n          '], ['\\n            \\n              19%\\n            \\n          '], ['\\n            \\n              6%\\n            \\n          '], ['\\n            \\n              3%\\n            \\n          '], ['\\n            \\n              2%\\n            \\n          '], None, None, None, None, None, '/Model-Thinker-What-Need-Know/dp/B08WHN4M7S/ref=sr_1_106?crid=2YKZLS0CJFDGI&keywords=data+science&qid=1663447986&sprefix=data+science%2Caps%2C828&sr=8-106'], ['R in Action, Third Edition: Data analysis and graphics with R and Tidyverse', ['by ', 'Robert I. Kabacoff'], '$56.99', '656 pages', '4.6 out of 5 stars', '8 ratings', ['\\n            \\n              82%\\n            \\n          '], ['\\n            \\n              18%\\n            \\n          '], [], [], [], '7.38 x 1.5 x 9.25 inches', '2.15 pounds', 'English', 'Manning; 3rd edition (May 3, 2022)', ' 978-1617296055', '/Action-Third-Robert-I-Kabacoff/dp/1617296058/ref=sr_1_103?crid=2YKZLS0CJFDGI&keywords=data+science&qid=1663447986&sprefix=data+science%2Caps%2C828&sr=8-103'], ['Data Science Ethics: Concepts, Techniques, and Cautionary Tales', ['by ', 'David Martens'], '$37.20', '272 pages', '5.0 out of 5 stars', '2 ratings', ['\\n            \\n              100%\\n            \\n          '], [], [], [], [], '9.4 x 0.6 x 6.2 inches', '15.5 ounces', 'English', 'Oxford University Press (June 24, 2022)', ' 978-0192847270', '/Data-Science-Ethics-Techniques-Cautionary/dp/0192847279/ref=sr_1_102?crid=2YKZLS0CJFDGI&keywords=data+science&qid=1663447986&sprefix=data+science%2Caps%2C828&sr=8-102'], ['DATA SCIENCE INTERVIEW QUESTIONS: A DATA SCIENTIST’S GUIDE TO A SUCCESSFUL DATA SCIENCE INTERVIEW', ['by ', 'Jose  George'], None, '38 pages', '5.0 out of 5 stars', '1 rating', ['\\n            \\n              100%\\n            \\n          '], [], [], [], [], None, None, 'English', None, None, '/DATA-SCIENCE-INTERVIEW-QUESTIONS-SCIENTISTS-ebook/dp/B0B84DHNYB/ref=sr_1_99?crid=2YKZLS0CJFDGI&keywords=data+science&qid=1663447986&sprefix=data+science%2Caps%2C828&sr=8-99'], ['Data Science and Machine Learning: Mathematical and Statistical Methods (Chapman & Hall/CRC Machine Learning & Pattern Recognition)', [' '], '$77.43', '510 pages', '4.8 out of 5 stars', '37 ratings', ['\\n            \\n              84%\\n            \\n          '], ['\\n            \\n              9%\\n            \\n          '], ['\\n            \\n              7%\\n            \\n          '], [], [], '8.9 x 1.2 x 11 inches', '3.73 pounds', 'English', 'Chapman and Hall/CRC; 1st edition (November 22, 2019)', ' 978-1138492530', '/Data-Science-Machine-Learning-Mathematical/dp/1138492531/ref=sr_1_97?crid=2YKZLS0CJFDGI&keywords=data+science&qid=1663447986&sprefix=data+science%2Caps%2C828&sr=8-97']]\n"
     ]
    },
    {
     "name": "stderr",
     "output_type": "stream",
     "text": [
      "2022-09-17 22:53:26 [scrapy.core.engine] DEBUG: Crawled (200) <GET https://www.amazon.com/Practical-Big-Data-Analytics-Hands/dp/1783554398/ref=sr_1_92?crid=2YKZLS0CJFDGI&keywords=data+science&qid=1663447986&sprefix=data+science%2Caps%2C828&sr=8-92> (referer: https://www.amazon.com/s?k=data+science&s=relevanceblender&page=2&crid=2YKZLS0CJFDGI&qid=1663103507&sprefix=data+science%2Caps%2C828&ref=sr_pg_2)\n",
      "2022-09-17 22:53:26 [scrapy.core.engine] DEBUG: Crawled (200) <GET https://www.amazon.com/Simplify-Big-Data-Analytics-Amazon/dp/1801071071/ref=sr_1_91?crid=2YKZLS0CJFDGI&keywords=data+science&qid=1663447986&sprefix=data+science%2Caps%2C828&sr=8-91> (referer: https://www.amazon.com/s?k=data+science&s=relevanceblender&page=2&crid=2YKZLS0CJFDGI&qid=1663103507&sprefix=data+science%2Caps%2C828&ref=sr_pg_2)\n"
     ]
    },
    {
     "name": "stdout",
     "output_type": "stream",
     "text": [
      "61\n",
      "[] None 7.38 x 0.75 x 9.25 inches\n",
      "62\n",
      "['\\n            \\n              82%\\n            \\n          '] 4.7 out of 5 stars 7.5 x 1 x 9.25 inches\n",
      "63\n",
      "['\\n            \\n              64%\\n            \\n          '] 4.4 out of 5 stars 5.5 x 0.7 x 8.38 inches\n",
      "64\n",
      "['\\n            \\n              84%\\n            \\n          '] 4.7 out of 5 stars 5.98 x 0.94 x 8.98 inches\n",
      "65\n",
      "['\\n            \\n              52%\\n            \\n          '] 3.3 out of 5 stars None\n",
      "66\n",
      "['\\n            \\n              70%\\n            \\n          '] 4.5 out of 5 stars None\n",
      "3\n",
      "Python Data Cleaning Cookbook: Modern techniques and Python tools to detect and remove dirty data and extract key insights\n",
      "Data Structures & Algorithms Interview Questions You'll Most Likely Be Asked (Job Interview Questions Series)\n",
      "Python for ArcGIS Pro: Automate cartography and data analysis using ArcPy, ArcGIS API for Python, Notebooks, and pandas\n",
      "Introduction to Probability, Statistics, and Random Processes\n",
      "Bayesian Ideas and Data Analysis: An Introduction for Scientists and Statisticians (Chapman & Hall/CRC Texts in Statistical Science)\n",
      "Cybersecurity Data Science: Best Practices in an Emerging Profession\n",
      "Data Science Programming All-in-One For Dummies\n",
      "Data Science for Executives: Leveraging Machine Intelligence to Drive Business ROI\n",
      "Data Science From Scratch: The #1 Data Science Guide For Everything A Data Scientist Needs To Know: Python, Linear Algebra, Statistics, Coding, Applications, Neural Networks, And Decision Trees\n",
      "Democracy's Data: The Hidden Stories in the U.S. Census and How to Read Them\n",
      "Data Science for Supply Chain Forecasting\n",
      "The Digital Mindset: What It Really Takes to Thrive in the Age of Data, Algorithms, and AI\n",
      "Data Analysis with R - Second Edition: A comprehensive guide to manipulating, analyzing, and visualizing data in R\n",
      "Data Structures the Fun Way: An Amusing Adventure with Coffee-Filled Examples\n",
      "Data Analytics: A Small Data Approach (Chapman & Hall/CRC Data Science Series)\n",
      "How Not to Be Wrong: The Power of Mathematical Thinking\n",
      "67\n",
      "['\\n            \\n              49%\\n            \\n          '] 3.8 out of 5 stars 7.5 x 0.93 x 9.25 inches\n"
     ]
    },
    {
     "name": "stderr",
     "output_type": "stream",
     "text": [
      "2022-09-17 22:53:27 [scrapy.downloadermiddlewares.redirect] DEBUG: Redirecting (302) to <GET https://www.amazon.com/Data-Engineering-AWS-Gareth-Eagar/dp/1800560419/ref=sr_1_84_sspa?crid=2YKZLS0CJFDGI&keywords=data+science&qid=1663447986&sprefix=data+science%2Caps%2C828&sr=8-84-spons&psc=1&spLa=ZW5jcnlwdGVkUXVhbGlmaWVyPUEyUE9CMUhBMVVRR0FMJmVuY3J5cHRlZElkPUEwNTU5NDA4Mk9TUzE2TEpZQzRHNyZlbmNyeXB0ZWRBZElkPUEwMTIyNjczMk5WVk1NUUYyUUFWWSZ3aWRnZXROYW1lPXNwX210ZiZhY3Rpb249Y2xpY2tSZWRpcmVjdCZkb05vdExvZ0NsaWNrPXRydWU=> from <GET https://www.amazon.com/gp/slredirect/picassoRedirect.html/ref=pa_sp_mtf_aps_sr_pg2_1?ie=UTF8&adId=A01226732NVVMMQF2QAVY&url=%2FData-Engineering-AWS-Gareth-Eagar%2Fdp%2F1800560419%2Fref%3Dsr_1_84_sspa%3Fcrid%3D2YKZLS0CJFDGI%26keywords%3Ddata%2Bscience%26qid%3D1663447986%26sprefix%3Ddata%2Bscience%252Caps%252C828%26sr%3D8-84-spons%26psc%3D1&qualifier=1663447986&id=7779202283886240&widgetName=sp_mtf>\n",
      "2022-09-17 22:53:27 [scrapy.downloadermiddlewares.redirect] DEBUG: Redirecting (302) to <GET https://www.amazon.com/Data-Science-Advanced-Realms-Effectively/dp/B08RTQRC1C/ref=sr_1_83_sspa?crid=2YKZLS0CJFDGI&keywords=data+science&qid=1663447986&sprefix=data+science%2Caps%2C828&sr=8-83-spons&psc=1&spLa=ZW5jcnlwdGVkUXVhbGlmaWVyPUEyUE9CMUhBMVVRR0FMJmVuY3J5cHRlZElkPUEwNTU5NDA4Mk9TUzE2TEpZQzRHNyZlbmNyeXB0ZWRBZElkPUEwODU3MTM4Mk1ISVVCSlY0WllKTiZ3aWRnZXROYW1lPXNwX210ZiZhY3Rpb249Y2xpY2tSZWRpcmVjdCZkb05vdExvZ0NsaWNrPXRydWU=> from <GET https://www.amazon.com/gp/slredirect/picassoRedirect.html/ref=pa_sp_mtf_aps_sr_pg2_1?ie=UTF8&adId=A08571382MHIUBJV4ZYJN&url=%2FData-Science-Advanced-Realms-Effectively%2Fdp%2FB08RTQRC1C%2Fref%3Dsr_1_83_sspa%3Fcrid%3D2YKZLS0CJFDGI%26keywords%3Ddata%2Bscience%26qid%3D1663447986%26sprefix%3Ddata%2Bscience%252Caps%252C828%26sr%3D8-83-spons%26psc%3D1&qualifier=1663447986&id=7779202283886240&widgetName=sp_mtf>\n"
     ]
    },
    {
     "name": "stdout",
     "output_type": "stream",
     "text": [
      "68\n",
      "['\\n            \\n              100%\\n            \\n          '] 5.0 out of 5 stars 7.5 x 0.97 x 9.25 inches\n",
      "DATA SCIENCE: A Comprehensive Beginner’s Guide to Learn About the Realms of Data Science from A-Z\n",
      "Data Analytics: Principles, Tools, and Practices: A Complete Guide for Advanced Data Analytics Using the Latest Trends, Tools, and Technologies (English Edition)\n",
      "Data-Driven Science and Engineering: Machine Learning, Dynamical Systems, and Control\n",
      "Data Visualization in Python\n",
      "Data Science at the Command Line: Obtain, Scrub, Explore, and Model Data with Unix Power Tools\n",
      "Mathematics for Machine Learning\n",
      "Quantitative Social Science Data with R: An Introduction\n",
      "Natural Language Processing with Transformers: Building Language Applications with Hugging Face\n",
      "Statistics for Health Data Science: An Organic Approach (Springer Texts in Statistics)\n",
      "Data Mining for Business Analytics: Concepts, Techniques and Applications in Python\n",
      "Data Science on the Google Cloud Platform: Implementing End-to-End Real-Time Data Pipelines: From Ingest to Machine Learning\n",
      "Comet for Data Science: Enhance your ability to manage and optimize the life cycle of your data science project\n",
      "Optimization for Data Analysis\n",
      "Quantitative Social Science: An Introduction in tidyverse\n",
      "Data Science Interview: Prep for SQL, Panda, Python, R Language, Machine Learning, DBMS and RDBMS – And More – The Full Data Scientist Interview Handbook\n",
      "The Self-Taught Computer Scientist: The Beginner's Guide to Data Structures & Algorithms\n",
      "Hands-On Data Science for Marketing: Improve your marketing strategies with machine learning using Python and R\n",
      "Python for Data Science: Clear and Complete Guide to Data Science and Analysis with Python\n",
      "The Data Vault Guru: a pragmatic guide on building a data vault\n",
      "Data Science Interview: Prep for SQL, Panda, Python, R Language, Machine Learning, DBMS and RDBMS – And More – The Full Data Scientist Interview Handbook\n",
      "Machine Learning: 4 Books in 1: A Complete Overview for Beginners to Master the Basics of Python Programming and Understand How to Build Artificial Intelligence Through Data Science\n",
      "The Cyberwarrior Handbook: A Beginner's Guide to Hacking from Recon to Exploitation\n",
      "Data Science Projects with Python: A case study approach to successful data science projects using Python, pandas, and scikit-learn\n",
      "Data Engineering with AWS: Learn how to design and build cloud-based data transformation pipelines using AWS\n",
      "The Data Science Design Manual (Texts in Computer Science)\n",
      "SQL for Data Analysis: Advanced Techniques for Transforming Data into Insights\n",
      "Big Data: A Very Short Introduction (Very Short Introductions)\n",
      "SQL for Data Scientists: A Beginner's Guide for Building Datasets for Analysis\n",
      "Cracking the Data Science Interview: 101+ Data Science Questions & Solutions\n",
      "MLOps Engineering at Scale\n",
      "Welcome to the United States of Anxiety: Observations from a Reforming Neurotic\n",
      "Hands-On Data Science with R: Techniques to perform data manipulation and mining to build smart analytical models using R\n",
      "Machine Learning and Data Science Blueprints for Finance: From Building Trading Strategies to Robo-Advisors Using Python\n",
      "Practical Python Data Wrangling and Data Quality: Getting Started with Reading, Cleaning, and Analyzing Data\n",
      "The Data Science Handbook: Advice and Insights from 25 Amazing Data Scientists\n",
      "Data Mining and Exploration: From Traditional Statistics to Modern Data Science\n",
      "The Beginner's Guide to Data Science\n",
      "Video Data Analysis: How to Use 21st Century Video in the Social Sciences\n",
      "Data Science for Babies (Cookie Books for Sponges: Big Ideas for Young Minds)\n",
      "97 Things About Ethics Everyone in Data Science Should Know: Collective Wisdom from the Experts\n",
      "PYTHON FOR DATA SCIENCE: The Ultimate Beginners’ Guide to Learning Python Data Science Step by Step\n",
      "Introduction to Machine Learning with R: Rigorous Mathematical Analysis\n",
      "Data Science for Marketing Analytics: A practical guide to forming a killer marketing strategy through data analysis with Python, 2nd Edition\n",
      "Introduction to Data Science: Data Analysis and Prediction Algorithms with R (Chapman & Hall/CRC Data Science Series)\n"
     ]
    },
    {
     "name": "stderr",
     "output_type": "stream",
     "text": [
      "2022-09-17 22:53:28 [scrapy.downloadermiddlewares.redirect] DEBUG: Redirecting (302) to <GET https://www.amazon.com/Heard-Data-Science-Interviews-Interview/dp/1727287320/ref=sr_1_81_sspa?crid=2YKZLS0CJFDGI&keywords=data+science&qid=1663447986&sprefix=data+science%2Caps%2C828&sr=8-81-spons&psc=1&spLa=ZW5jcnlwdGVkUXVhbGlmaWVyPUEyUE9CMUhBMVVRR0FMJmVuY3J5cHRlZElkPUEwNTU5NDA4Mk9TUzE2TEpZQzRHNyZlbmNyeXB0ZWRBZElkPUEwMjAzNTMxMk1PNzRFWTEwNUtXNSZ3aWRnZXROYW1lPXNwX210ZiZhY3Rpb249Y2xpY2tSZWRpcmVjdCZkb05vdExvZ0NsaWNrPXRydWU=> from <GET https://www.amazon.com/gp/slredirect/picassoRedirect.html/ref=pa_sp_mtf_aps_sr_pg2_1?ie=UTF8&adId=A02035312MO74EY105KW5&url=%2FHeard-Data-Science-Interviews-Interview%2Fdp%2F1727287320%2Fref%3Dsr_1_81_sspa%3Fcrid%3D2YKZLS0CJFDGI%26keywords%3Ddata%2Bscience%26qid%3D1663447986%26sprefix%3Ddata%2Bscience%252Caps%252C828%26sr%3D8-81-spons%26psc%3D1&qualifier=1663447986&id=7779202283886240&widgetName=sp_mtf>\n",
      "2022-09-17 22:53:28 [scrapy.core.engine] DEBUG: Crawled (200) <GET https://www.amazon.com/Bootstrap-Science-Workbook-Emmanuel-Schanzer/dp/1716654815/ref=sr_1_89?crid=2YKZLS0CJFDGI&keywords=data+science&qid=1663447986&sprefix=data+science%2Caps%2C828&sr=8-89> (referer: https://www.amazon.com/s?k=data+science&s=relevanceblender&page=2&crid=2YKZLS0CJFDGI&qid=1663103507&sprefix=data+science%2Caps%2C828&ref=sr_pg_2)\n",
      "2022-09-17 22:53:28 [scrapy.downloadermiddlewares.redirect] DEBUG: Redirecting (302) to <GET https://www.amazon.com/DATA-ANALYTICS-Comprehensive-Beginners-Analytics/dp/B087L36G1T/ref=sr_1_82_sspa?crid=2YKZLS0CJFDGI&keywords=data+science&qid=1663447986&sprefix=data+science%2Caps%2C828&sr=8-82-spons&psc=1&spLa=ZW5jcnlwdGVkUXVhbGlmaWVyPUEyUE9CMUhBMVVRR0FMJmVuY3J5cHRlZElkPUEwNTU5NDA4Mk9TUzE2TEpZQzRHNyZlbmNyeXB0ZWRBZElkPUEwODA1NzMxMTdCWUUxUkJRUkg4VSZ3aWRnZXROYW1lPXNwX210ZiZhY3Rpb249Y2xpY2tSZWRpcmVjdCZkb05vdExvZ0NsaWNrPXRydWU=> from <GET https://www.amazon.com/gp/slredirect/picassoRedirect.html/ref=pa_sp_mtf_aps_sr_pg2_1?ie=UTF8&adId=A080573117BYE1RBQRH8U&url=%2FDATA-ANALYTICS-Comprehensive-Beginners-Analytics%2Fdp%2FB087L36G1T%2Fref%3Dsr_1_82_sspa%3Fcrid%3D2YKZLS0CJFDGI%26keywords%3Ddata%2Bscience%26qid%3D1663447986%26sprefix%3Ddata%2Bscience%252Caps%252C828%26sr%3D8-82-spons%26psc%3D1&qualifier=1663447986&id=7779202283886240&widgetName=sp_mtf>\n",
      "2022-09-17 22:53:28 [scrapy.core.engine] DEBUG: Crawled (200) <GET https://www.amazon.com/Data-Science-Executives-Leveraging-Intelligence-ebook/dp/B07JBBNJQW/ref=sr_1_87?crid=2YKZLS0CJFDGI&keywords=data+science&qid=1663447986&sprefix=data+science%2Caps%2C828&sr=8-87> (referer: https://www.amazon.com/s?k=data+science&s=relevanceblender&page=2&crid=2YKZLS0CJFDGI&qid=1663103507&sprefix=data+science%2Caps%2C828&ref=sr_pg_2)\n",
      "2022-09-17 22:53:28 [scrapy.core.engine] DEBUG: Crawled (200) <GET https://www.amazon.com/Amazon-Redshift-Cookbook-warehousing-solutions/dp/1800569688/ref=sr_1_90?crid=2YKZLS0CJFDGI&keywords=data+science&qid=1663447986&sprefix=data+science%2Caps%2C828&sr=8-90> (referer: https://www.amazon.com/s?k=data+science&s=relevanceblender&page=2&crid=2YKZLS0CJFDGI&qid=1663103507&sprefix=data+science%2Caps%2C828&ref=sr_pg_2)\n"
     ]
    },
    {
     "name": "stdout",
     "output_type": "stream",
     "text": [
      "69\n",
      "[] None 8.5 x 0.34 x 10.98 inches\n"
     ]
    },
    {
     "name": "stderr",
     "output_type": "stream",
     "text": [
      "2022-09-17 22:53:29 [scrapy.core.engine] DEBUG: Crawled (200) <GET https://www.amazon.com/SQL-Data-Analytics-Harness-insights/dp/180181287X/ref=sr_1_88?crid=2YKZLS0CJFDGI&keywords=data+science&qid=1663447986&sprefix=data+science%2Caps%2C828&sr=8-88> (referer: https://www.amazon.com/s?k=data+science&s=relevanceblender&page=2&crid=2YKZLS0CJFDGI&qid=1663103507&sprefix=data+science%2Caps%2C828&ref=sr_pg_2)\n",
      "2022-09-17 22:53:29 [scrapy.core.engine] DEBUG: Crawled (200) <GET https://www.amazon.com/Hands-Introduction-Data-Science-ebook/dp/B0845Z1DXV/ref=sr_1_86?crid=2YKZLS0CJFDGI&keywords=data+science&qid=1663447986&sprefix=data+science%2Caps%2C828&sr=8-86> (referer: https://www.amazon.com/s?k=data+science&s=relevanceblender&page=2&crid=2YKZLS0CJFDGI&qid=1663103507&sprefix=data+science%2Caps%2C828&ref=sr_pg_2)\n",
      "2022-09-17 22:53:29 [scrapy.core.engine] DEBUG: Crawled (200) <GET https://www.amazon.com/Communicating-Data-Making-Your-Case/dp/1098101855/ref=sr_1_85?crid=2YKZLS0CJFDGI&keywords=data+science&qid=1663447986&sprefix=data+science%2Caps%2C828&sr=8-85> (referer: https://www.amazon.com/s?k=data+science&s=relevanceblender&page=2&crid=2YKZLS0CJFDGI&qid=1663103507&sprefix=data+science%2Caps%2C828&ref=sr_pg_2)\n"
     ]
    },
    {
     "name": "stdout",
     "output_type": "stream",
     "text": [
      "70\n",
      "['\\n            \\n              55%\\n            \\n          '] 4.1 out of 5 stars None\n",
      "71\n",
      "['\\n            \\n              66%\\n            \\n          '] 4.5 out of 5 stars 7.5 x 0.87 x 9.25 inches\n",
      "72\n",
      "['\\n            \\n              100%\\n            \\n          '] 5.0 out of 5 stars 7.5 x 1.22 x 9.25 inches\n",
      "73\n",
      "['\\n            \\n              78%\\n            \\n          '] 4.6 out of 5 stars None\n",
      "74\n",
      "['\\n            \\n              100%\\n            \\n          '] 5.0 out of 5 stars 7 x 0.5 x 9.25 inches\n"
     ]
    },
    {
     "name": "stderr",
     "output_type": "stream",
     "text": [
      "2022-09-17 22:53:30 [scrapy.core.engine] DEBUG: Crawled (200) <GET https://www.amazon.com/Data-Analytics-Approach-Chapman-Science/dp/0367609509/ref=sr_1_111?crid=2YKZLS0CJFDGI&keywords=data+science&qid=1663447999&sprefix=data+science%2Caps%2C828&sr=8-111> (referer: https://www.amazon.com/s?k=data+science&s=relevanceblender&page=3&crid=2YKZLS0CJFDGI&qid=1663103507&sprefix=data+science%2Caps%2C828&ref=sr_pg_3)\n",
      "2022-09-17 22:53:31 [scrapy.core.engine] DEBUG: Crawled (200) <GET https://www.amazon.com/Data-Structures-Fun-Way-Coffee-Filled/dp/1718502605/ref=sr_1_110?crid=2YKZLS0CJFDGI&keywords=data+science&qid=1663447999&sprefix=data+science%2Caps%2C828&sr=8-110> (referer: https://www.amazon.com/s?k=data+science&s=relevanceblender&page=3&crid=2YKZLS0CJFDGI&qid=1663103507&sprefix=data+science%2Caps%2C828&ref=sr_pg_3)\n",
      "2022-09-17 22:53:31 [scrapy.core.engine] DEBUG: Crawled (200) <GET https://www.amazon.com/Data-Analysis-comprehensive-manipulating-visualizing/dp/1788393724/ref=sr_1_109?crid=2YKZLS0CJFDGI&keywords=data+science&qid=1663447999&sprefix=data+science%2Caps%2C828&sr=8-109> (referer: https://www.amazon.com/s?k=data+science&s=relevanceblender&page=3&crid=2YKZLS0CJFDGI&qid=1663103507&sprefix=data+science%2Caps%2C828&ref=sr_pg_3)\n"
     ]
    },
    {
     "name": "stdout",
     "output_type": "stream",
     "text": [
      "75\n",
      "['\\n            \\n              100%\\n            \\n          '] 5.0 out of 5 stars 8.5 x 0.75 x 11 inches\n",
      "76\n",
      "[] None 7 x 0.7 x 9.2 inches\n"
     ]
    },
    {
     "name": "stderr",
     "output_type": "stream",
     "text": [
      "2022-09-17 22:53:31 [scrapy.core.engine] DEBUG: Crawled (200) <GET https://www.amazon.com/Data-Engineering-AWS-Gareth-Eagar/dp/1800560419/ref=sr_1_84_sspa?crid=2YKZLS0CJFDGI&keywords=data+science&qid=1663447986&sprefix=data+science%2Caps%2C828&sr=8-84-spons&psc=1&spLa=ZW5jcnlwdGVkUXVhbGlmaWVyPUEyUE9CMUhBMVVRR0FMJmVuY3J5cHRlZElkPUEwNTU5NDA4Mk9TUzE2TEpZQzRHNyZlbmNyeXB0ZWRBZElkPUEwMTIyNjczMk5WVk1NUUYyUUFWWSZ3aWRnZXROYW1lPXNwX210ZiZhY3Rpb249Y2xpY2tSZWRpcmVjdCZkb05vdExvZ0NsaWNrPXRydWU=> (referer: https://www.amazon.com/s?k=data+science&s=relevanceblender&page=2&crid=2YKZLS0CJFDGI&qid=1663103507&sprefix=data+science%2Caps%2C828&ref=sr_pg_2)\n",
      "2022-09-17 22:53:31 [scrapy.core.engine] DEBUG: Crawled (200) <GET https://www.amazon.com/Data-Science-Advanced-Realms-Effectively/dp/B08RTQRC1C/ref=sr_1_83_sspa?crid=2YKZLS0CJFDGI&keywords=data+science&qid=1663447986&sprefix=data+science%2Caps%2C828&sr=8-83-spons&psc=1&spLa=ZW5jcnlwdGVkUXVhbGlmaWVyPUEyUE9CMUhBMVVRR0FMJmVuY3J5cHRlZElkPUEwNTU5NDA4Mk9TUzE2TEpZQzRHNyZlbmNyeXB0ZWRBZElkPUEwODU3MTM4Mk1ISVVCSlY0WllKTiZ3aWRnZXROYW1lPXNwX210ZiZhY3Rpb249Y2xpY2tSZWRpcmVjdCZkb05vdExvZ0NsaWNrPXRydWU=> (referer: https://www.amazon.com/s?k=data+science&s=relevanceblender&page=2&crid=2YKZLS0CJFDGI&qid=1663103507&sprefix=data+science%2Caps%2C828&ref=sr_pg_2)\n"
     ]
    },
    {
     "name": "stdout",
     "output_type": "stream",
     "text": [
      "77\n",
      "['\\n            \\n              74%\\n            \\n          '] 4.4 out of 5 stars 7.5 x 1.29 x 9.25 inches\n",
      "78\n",
      "['\\n            \\n              63%\\n            \\n          '] 4.4 out of 5 stars 7.5 x 1.09 x 9.25 inches\n"
     ]
    },
    {
     "name": "stderr",
     "output_type": "stream",
     "text": [
      "2022-09-17 22:53:32 [scrapy.core.engine] DEBUG: Crawled (200) <GET https://www.amazon.com/Data-Science-Supply-Chain-Forecasting/dp/3110671107/ref=sr_1_107?crid=2YKZLS0CJFDGI&keywords=data+science&qid=1663447999&sprefix=data+science%2Caps%2C828&sr=8-107> (referer: https://www.amazon.com/s?k=data+science&s=relevanceblender&page=3&crid=2YKZLS0CJFDGI&qid=1663103507&sprefix=data+science%2Caps%2C828&ref=sr_pg_3)\n",
      "2022-09-17 22:53:32 [scrapy.core.engine] DEBUG: Crawled (200) <GET https://www.amazon.com/Digital-Mindset-Really-Thrive-Algorithms/dp/1647820103/ref=sr_1_108?crid=2YKZLS0CJFDGI&keywords=data+science&qid=1663447999&sprefix=data+science%2Caps%2C828&sr=8-108> (referer: https://www.amazon.com/s?k=data+science&s=relevanceblender&page=3&crid=2YKZLS0CJFDGI&qid=1663103507&sprefix=data+science%2Caps%2C828&ref=sr_pg_3)\n",
      "2022-09-17 22:53:32 [scrapy.core.engine] DEBUG: Crawled (200) <GET https://www.amazon.com/How-Not-Be-Wrong-Mathematical/dp/1594205221/ref=sr_1_112?crid=2YKZLS0CJFDGI&keywords=data+science&qid=1663447999&sprefix=data+science%2Caps%2C828&sr=8-112> (referer: https://www.amazon.com/s?k=data+science&s=relevanceblender&page=3&crid=2YKZLS0CJFDGI&qid=1663103507&sprefix=data+science%2Caps%2C828&ref=sr_pg_3)\n"
     ]
    },
    {
     "name": "stdout",
     "output_type": "stream",
     "text": [
      "79\n",
      "[] None 6 x 0.48 x 9 inches\n",
      "80\n",
      "['\\n            \\n              71%\\n            \\n          '] 4.6 out of 5 stars 6.69 x 0.65 x 9.61 inches\n",
      "81\n",
      "['\\n            \\n              67%\\n            \\n          '] 4.4 out of 5 stars 6.5 x 1 x 9.5 inches\n",
      "82\n",
      "['\\n            \\n              66%\\n            \\n          '] 4.4 out of 5 stars 6.31 x 1.07 x 9.53 inches\n"
     ]
    },
    {
     "name": "stderr",
     "output_type": "stream",
     "text": [
      "2022-09-17 22:53:33 [scrapy.core.engine] DEBUG: Crawled (200) <GET https://www.amazon.com/Heard-Data-Science-Interviews-Interview/dp/1727287320/ref=sr_1_81_sspa?crid=2YKZLS0CJFDGI&keywords=data+science&qid=1663447986&sprefix=data+science%2Caps%2C828&sr=8-81-spons&psc=1&spLa=ZW5jcnlwdGVkUXVhbGlmaWVyPUEyUE9CMUhBMVVRR0FMJmVuY3J5cHRlZElkPUEwNTU5NDA4Mk9TUzE2TEpZQzRHNyZlbmNyeXB0ZWRBZElkPUEwMjAzNTMxMk1PNzRFWTEwNUtXNSZ3aWRnZXROYW1lPXNwX210ZiZhY3Rpb249Y2xpY2tSZWRpcmVjdCZkb05vdExvZ0NsaWNrPXRydWU=> (referer: https://www.amazon.com/s?k=data+science&s=relevanceblender&page=2&crid=2YKZLS0CJFDGI&qid=1663103507&sprefix=data+science%2Caps%2C828&ref=sr_pg_2)\n",
      "2022-09-17 22:53:33 [scrapy.core.engine] DEBUG: Crawled (200) <GET https://www.amazon.com/DATA-ANALYTICS-Comprehensive-Beginners-Analytics/dp/B087L36G1T/ref=sr_1_82_sspa?crid=2YKZLS0CJFDGI&keywords=data+science&qid=1663447986&sprefix=data+science%2Caps%2C828&sr=8-82-spons&psc=1&spLa=ZW5jcnlwdGVkUXVhbGlmaWVyPUEyUE9CMUhBMVVRR0FMJmVuY3J5cHRlZElkPUEwNTU5NDA4Mk9TUzE2TEpZQzRHNyZlbmNyeXB0ZWRBZElkPUEwODA1NzMxMTdCWUUxUkJRUkg4VSZ3aWRnZXROYW1lPXNwX210ZiZhY3Rpb249Y2xpY2tSZWRpcmVjdCZkb05vdExvZ0NsaWNrPXRydWU=> (referer: https://www.amazon.com/s?k=data+science&s=relevanceblender&page=2&crid=2YKZLS0CJFDGI&qid=1663103507&sprefix=data+science%2Caps%2C828&ref=sr_pg_2)\n"
     ]
    },
    {
     "name": "stdout",
     "output_type": "stream",
     "text": [
      "83\n",
      "['\\n            \\n              37%\\n            \\n          '] 3.2 out of 5 stars 6 x 0.55 x 9 inches\n"
     ]
    },
    {
     "name": "stderr",
     "output_type": "stream",
     "text": [
      "2022-09-17 22:53:34 [scrapy.core.engine] DEBUG: Crawled (200) <GET https://www.amazon.com/Introduction-Data-Science-Prediction-Algorithms/dp/0367357984/ref=sr_1_156?crid=2YKZLS0CJFDGI&keywords=data+science&qid=1663447999&sprefix=data+science%2Caps%2C828&sr=8-156> (referer: https://www.amazon.com/s?k=data+science&s=relevanceblender&page=3&crid=2YKZLS0CJFDGI&qid=1663103507&sprefix=data+science%2Caps%2C828&ref=sr_pg_3)\n"
     ]
    },
    {
     "name": "stdout",
     "output_type": "stream",
     "text": [
      "84\n",
      "['\\n            \\n              59%\\n            \\n          '] 4.2 out of 5 stars 6 x 0.35 x 9 inches\n",
      "85\n",
      "['\\n            \\n              86%\\n            \\n          '] 4.8 out of 5 stars 7 x 1.6 x 10.1 inches\n"
     ]
    },
    {
     "name": "stderr",
     "output_type": "stream",
     "text": [
      "2022-09-17 22:53:37 [scrapy.core.engine] DEBUG: Crawled (200) <GET https://www.amazon.com/Introduction-Machine-Learning-Rigorous-Mathematical/dp/1491976446/ref=sr_1_154?crid=2YKZLS0CJFDGI&keywords=data+science&qid=1663447999&sprefix=data+science%2Caps%2C828&sr=8-154> (referer: https://www.amazon.com/s?k=data+science&s=relevanceblender&page=3&crid=2YKZLS0CJFDGI&qid=1663103507&sprefix=data+science%2Caps%2C828&ref=sr_pg_3)\n",
      "2022-09-17 22:53:37 [scrapy.core.engine] DEBUG: Crawled (200) <GET https://www.amazon.com/PYTHON-DATA-SCIENCE-Ultimate-Beginners/dp/1687159106/ref=sr_1_153?crid=2YKZLS0CJFDGI&keywords=data+science&qid=1663447999&sprefix=data+science%2Caps%2C828&sr=8-153> (referer: https://www.amazon.com/s?k=data+science&s=relevanceblender&page=3&crid=2YKZLS0CJFDGI&qid=1663103507&sprefix=data+science%2Caps%2C828&ref=sr_pg_3)\n",
      "2022-09-17 22:53:37 [scrapy.core.engine] DEBUG: Crawled (200) <GET https://www.amazon.com/Things-Ethics-Everyone-Science-Should/dp/1492072664/ref=sr_1_152?crid=2YKZLS0CJFDGI&keywords=data+science&qid=1663447999&sprefix=data+science%2Caps%2C828&sr=8-152> (referer: https://www.amazon.com/s?k=data+science&s=relevanceblender&page=3&crid=2YKZLS0CJFDGI&qid=1663103507&sprefix=data+science%2Caps%2C828&ref=sr_pg_3)\n",
      "2022-09-17 22:53:37 [scrapy.core.engine] DEBUG: Crawled (200) <GET https://www.amazon.com/Data-Science-Marketing-Analytics-practical/dp/1800560478/ref=sr_1_155?crid=2YKZLS0CJFDGI&keywords=data+science&qid=1663447999&sprefix=data+science%2Caps%2C828&sr=8-155> (referer: https://www.amazon.com/s?k=data+science&s=relevanceblender&page=3&crid=2YKZLS0CJFDGI&qid=1663103507&sprefix=data+science%2Caps%2C828&ref=sr_pg_3)\n",
      "2022-09-17 22:53:37 [scrapy.core.engine] DEBUG: Crawled (200) <GET https://www.amazon.com/Video-Data-Analysis-Century-Sciences/dp/1529722454/ref=sr_1_150?crid=2YKZLS0CJFDGI&keywords=data+science&qid=1663447999&sprefix=data+science%2Caps%2C828&sr=8-150> (referer: https://www.amazon.com/s?k=data+science&s=relevanceblender&page=3&crid=2YKZLS0CJFDGI&qid=1663103507&sprefix=data+science%2Caps%2C828&ref=sr_pg_3)\n",
      "2022-09-17 22:53:37 [scrapy.core.engine] DEBUG: Crawled (200) <GET https://www.amazon.com/Science-Babies-Cookie-Books-Sponges/dp/B09WPZ9QFP/ref=sr_1_151?crid=2YKZLS0CJFDGI&keywords=data+science&qid=1663447999&sprefix=data+science%2Caps%2C828&sr=8-151> (referer: https://www.amazon.com/s?k=data+science&s=relevanceblender&page=3&crid=2YKZLS0CJFDGI&qid=1663103507&sprefix=data+science%2Caps%2C828&ref=sr_pg_3)\n"
     ]
    },
    {
     "name": "stdout",
     "output_type": "stream",
     "text": [
      "start_new_page\n",
      "86\n",
      "['\\n            \\n              59%\\n            \\n          '] 4.1 out of 5 stars 7 x 0.48 x 9.19 inches\n"
     ]
    },
    {
     "name": "stderr",
     "output_type": "stream",
     "text": [
      "2022-09-17 22:53:38 [scrapy.core.engine] DEBUG: Crawled (200) <GET https://www.amazon.com/Beginners-Guide-Data-Science/dp/3031078640/ref=sr_1_149?crid=2YKZLS0CJFDGI&keywords=data+science&qid=1663447999&sprefix=data+science%2Caps%2C828&sr=8-149> (referer: https://www.amazon.com/s?k=data+science&s=relevanceblender&page=3&crid=2YKZLS0CJFDGI&qid=1663103507&sprefix=data+science%2Caps%2C828&ref=sr_pg_3)\n",
      "2022-09-17 22:53:38 [scrapy.core.engine] DEBUG: Crawled (200) <GET https://www.amazon.com/Data-Mining-Exploration-Traditional-Statistics-ebook/dp/B0B6ZKFQQJ/ref=sr_1_148?crid=2YKZLS0CJFDGI&keywords=data+science&qid=1663447999&sprefix=data+science%2Caps%2C828&sr=8-148> (referer: https://www.amazon.com/s?k=data+science&s=relevanceblender&page=3&crid=2YKZLS0CJFDGI&qid=1663103507&sprefix=data+science%2Caps%2C828&ref=sr_pg_3)\n"
     ]
    },
    {
     "name": "stdout",
     "output_type": "stream",
     "text": [
      "87\n",
      "['\\n            \\n              62%\\n            \\n          '] 4.3 out of 5 stars 6 x 0.45 x 9 inches\n",
      "88\n",
      "['\\n            \\n              63%\\n            \\n          '] 4.1 out of 5 stars 6 x 0.72 x 9 inches\n",
      "89\n",
      "['\\n            \\n              61%\\n            \\n          '] 4.6 out of 5 stars 7.5 x 1.44 x 9.25 inches\n",
      "90\n",
      "['\\n            \\n              100%\\n            \\n          '] 5.0 out of 5 stars 6 x 0.67 x 9 inches\n",
      "91\n",
      "['\\n            \\n              100%\\n            \\n          '] 5.0 out of 5 stars 8.25 x 0.06 x 8.25 inches\n",
      "92\n",
      "[] None None\n",
      "93\n",
      "[] None None\n"
     ]
    },
    {
     "name": "stderr",
     "output_type": "stream",
     "text": [
      "2022-09-17 22:53:40 [scrapy.core.engine] DEBUG: Crawled (200) <GET https://www.amazon.com/Hands-Data-Science-Techniques-manipulation/dp/1789139406/ref=sr_1_144?crid=2YKZLS0CJFDGI&keywords=data+science&qid=1663447999&sprefix=data+science%2Caps%2C828&sr=8-144> (referer: https://www.amazon.com/s?k=data+science&s=relevanceblender&page=3&crid=2YKZLS0CJFDGI&qid=1663103507&sprefix=data+science%2Caps%2C828&ref=sr_pg_3)\n",
      "2022-09-17 22:53:40 [scrapy.core.engine] DEBUG: Crawled (200) <GET https://www.amazon.com/Data-Science-Handbook-Insights-Scientists/dp/0692434879/ref=sr_1_147?crid=2YKZLS0CJFDGI&keywords=data+science&qid=1663447999&sprefix=data+science%2Caps%2C828&sr=8-147> (referer: https://www.amazon.com/s?k=data+science&s=relevanceblender&page=3&crid=2YKZLS0CJFDGI&qid=1663103507&sprefix=data+science%2Caps%2C828&ref=sr_pg_3)\n",
      "2022-09-17 22:53:40 [scrapy.core.engine] DEBUG: Crawled (200) <GET https://www.amazon.com/Machine-Learning-Science-Blueprints-Finance/dp/1492073059/ref=sr_1_145?crid=2YKZLS0CJFDGI&keywords=data+science&qid=1663447999&sprefix=data+science%2Caps%2C828&sr=8-145> (referer: https://www.amazon.com/s?k=data+science&s=relevanceblender&page=3&crid=2YKZLS0CJFDGI&qid=1663103507&sprefix=data+science%2Caps%2C828&ref=sr_pg_3)\n",
      "2022-09-17 22:53:40 [scrapy.core.engine] DEBUG: Crawled (200) <GET https://www.amazon.com/Practical-Python-Data-Wrangling-Quality/dp/1492091502/ref=sr_1_146?crid=2YKZLS0CJFDGI&keywords=data+science&qid=1663447999&sprefix=data+science%2Caps%2C828&sr=8-146> (referer: https://www.amazon.com/s?k=data+science&s=relevanceblender&page=3&crid=2YKZLS0CJFDGI&qid=1663103507&sprefix=data+science%2Caps%2C828&ref=sr_pg_3)\n"
     ]
    },
    {
     "name": "stdout",
     "output_type": "stream",
     "text": [
      "94\n",
      "['\\n            \\n              37%\\n            \\n          '] 4.1 out of 5 stars 7.5 x 0.95 x 9.25 inches\n"
     ]
    },
    {
     "name": "stderr",
     "output_type": "stream",
     "text": [
      "2022-09-17 22:53:40 [scrapy.core.engine] DEBUG: Crawled (200) <GET https://www.amazon.com/Cracking-Data-Science-Interview-Questions/dp/171068013X/ref=sr_1_141?crid=2YKZLS0CJFDGI&keywords=data+science&qid=1663447999&sprefix=data+science%2Caps%2C828&sr=8-141> (referer: https://www.amazon.com/s?k=data+science&s=relevanceblender&page=3&crid=2YKZLS0CJFDGI&qid=1663103507&sprefix=data+science%2Caps%2C828&ref=sr_pg_3)\n",
      "2022-09-17 22:53:41 [scrapy.core.engine] DEBUG: Crawled (200) <GET https://www.amazon.com/Welcome-United-States-Anxiety-Observations/dp/1542007925/ref=sr_1_143?crid=2YKZLS0CJFDGI&keywords=data+science&qid=1663447999&sprefix=data+science%2Caps%2C828&sr=8-143> (referer: https://www.amazon.com/s?k=data+science&s=relevanceblender&page=3&crid=2YKZLS0CJFDGI&qid=1663103507&sprefix=data+science%2Caps%2C828&ref=sr_pg_3)\n"
     ]
    },
    {
     "name": "stdout",
     "output_type": "stream",
     "text": [
      "95\n",
      "['\\n            \\n              71%\\n            \\n          '] 4.4 out of 5 stars 6 x 0.78 x 9 inches\n",
      "96\n",
      "['\\n            \\n              66%\\n            \\n          '] 4.3 out of 5 stars 7 x 1 x 9.1 inches\n"
     ]
    },
    {
     "name": "stderr",
     "output_type": "stream",
     "text": [
      "2022-09-17 22:53:41 [scrapy.core.engine] DEBUG: Crawled (200) <GET https://www.amazon.com/SQL-Data-Scientists-Beginners-Building/dp/1119669367/ref=sr_1_140?crid=2YKZLS0CJFDGI&keywords=data+science&qid=1663447999&sprefix=data+science%2Caps%2C828&sr=8-140> (referer: https://www.amazon.com/s?k=data+science&s=relevanceblender&page=3&crid=2YKZLS0CJFDGI&qid=1663103507&sprefix=data+science%2Caps%2C828&ref=sr_pg_3)\n",
      "2022-09-17 22:53:41 [scrapy.core.engine] DEBUG: Crawled (200) <GET https://www.amazon.com/Cloud-Native-Machine-Learning-Osipov/dp/1617297763/ref=sr_1_142?crid=2YKZLS0CJFDGI&keywords=data+science&qid=1663447999&sprefix=data+science%2Caps%2C828&sr=8-142> (referer: https://www.amazon.com/s?k=data+science&s=relevanceblender&page=3&crid=2YKZLS0CJFDGI&qid=1663103507&sprefix=data+science%2Caps%2C828&ref=sr_pg_3)\n"
     ]
    },
    {
     "name": "stdout",
     "output_type": "stream",
     "text": [
      "97\n",
      "['\\n            \\n              50%\\n            \\n          '] 3.5 out of 5 stars 7 x 0.75 x 9.25 inches\n"
     ]
    },
    {
     "name": "stderr",
     "output_type": "stream",
     "text": [
      "2022-09-17 22:53:41 [scrapy.core.engine] DEBUG: Crawled (200) <GET https://www.amazon.com/s?k=data+science&s=relevanceblender&page=4&crid=2YKZLS0CJFDGI&qid=1663103507&sprefix=data+science%2Caps%2C828&ref=sr_pg_4> (referer: https://www.amazon.com/Introduction-Data-Science-Prediction-Algorithms/dp/0367357984/ref=sr_1_156?crid=2YKZLS0CJFDGI&keywords=data+science&qid=1663447999&sprefix=data+science%2Caps%2C828&sr=8-156)\n"
     ]
    },
    {
     "name": "stdout",
     "output_type": "stream",
     "text": [
      "98\n",
      "['\\n            \\n              44%\\n            \\n          '] 3.7 out of 5 stars 5.5 x 0.3 x 8.5 inches\n",
      "99\n",
      "['\\n            \\n              51%\\n            \\n          '] 4.1 out of 5 stars 5.5 x 1 x 8.25 inches\n",
      "100\n",
      "['\\n            \\n              75%\\n            \\n          '] 4.7 out of 5 stars 7.38 x 0.65 x 9.25 inches\n",
      "101\n",
      "['\\n            \\n              62%\\n            \\n          '] 4.2 out of 5 stars 7.38 x 0.7 x 9.25 inches\n",
      "4\n",
      "Learn Data Structures and Algorithms with Golang: Level up your Go programming skills to develop faster and more efficient code\n",
      "Managing and Visualizing Your BIM Data: Understand the fundamentals of computer science for data visualization using Autodesk Dynamo, Revit, and Microsoft Power BI\n",
      "SQL FOR BEGINNERS: THE FUNDAMENTAL LANGUAGE FOR DATA SCIENCE TO MASTERING DATABASES. AN ESSENTIAL GUIDE YOU CAN’T MISS TO LEARN SQL IN 7 DAYS OR LESS, WITH HANDS-ON PROJECTS.\n",
      "Machine Learning for Time-Series with Python: Forecast, predict, and detect anomalies with state-of-the-art machine learning methods\n",
      "Practical Simulations for Machine Learning: Using Synthetic Data for AI\n",
      "Introduction to Computation and Programming Using Python, third edition: With Application to Computational Modeling and Understanding Data\n",
      "Machine Learning - Getting Started: Launch yourself into machine learning!\n",
      "Data Mining and Exploration: From Traditional Statistics to Modern Data Science\n",
      "Hands-On Healthcare Data: Taming the Complexity of Real-World Data\n",
      "Python Data Cleaning Cookbook: Modern techniques and Python tools to detect and remove dirty data and extract key insights\n",
      "Categorical Data Analysis for the Behavioral and Social Sciences\n",
      "Exam Ref 70-774 Perform Cloud Data Science with Azure Machine Learning\n",
      "Supervised Machine Learning for Text Analysis in R (Chapman & Hall/CRC Data Science Series)\n",
      "The Data Model Resource Book, Vol. 3: Universal Patterns for Data Modeling\n",
      "Game Data Science\n",
      "Hypothesis Testing: An Intuitive Guide for Making Data Driven Decisions\n",
      "DATA SCIENCE: Simple and Effective Tips and Tricks to Learn Data Science\n",
      "Big Data and Artificial Intelligence: Complete Guide to Data Science, AI, Big Data and Machine Learning.\n",
      "Data Analytics: Advanced Guide to Learn the Realms of Data Analytics Effectively\n",
      "Combining DataOps, MLOps and DevOps: Outperform Analytics and Software Development with Expert Practices on Process Optimization and Automation (English Edition)\n",
      "The Hundred-Page Machine Learning Book\n",
      "Ultimate Step by Step Guide to Data Science Using Python: Real Word Use Cases with Downloadable Code Examples (Ultimate Step by Step Guide to Machine Learning Book 3)\n",
      "Snowflake: The Definitive Guide: Architecting, Designing, and Deploying on the Snowflake Data Cloud\n",
      "HBR Guide to Data Analytics Basics for Managers (HBR Guide Series)\n",
      "The Science of Baseball: The Math, Technology, and Data Behind the Great American Pastime\n",
      "Heard In Data Science Interviews: Over 650 Most Commonly Asked Interview Questions & Answers\n",
      "Machine Learning and Big Data Analytics Paradigms: Analysis, Applications and Challenges (Studies in Big Data, 77)\n",
      "Data Analysis in Qualitative Research: Theorizing with Abductive Analysis\n",
      "Fundamentals of Data Science Part III: Machine Learning\n",
      "The Applied SQL Data Analytics Workshop: Develop your practical skills and prepare to become a professional data analyst, 2nd Edition\n",
      "Advanced Algorithms and Data Structures\n",
      "Data Mesh: Delivering Data-Driven Value at Scale\n",
      "Data Science for Marketing Analytics: A practical guide to forming a killer marketing strategy through data analysis with Python, 2nd Edition\n",
      "Algorithms and Data Structures for Massive Datasets\n",
      "Hands-On Data Analysis with Pandas: A Python data science handbook for data collection, wrangling, analysis, and visualization, 2nd Edition\n",
      "Cleaning Data for Effective Data Science: Doing the other 80% of the work with Python, R, and command-line tools\n",
      "The Esri Guide to GIS Analysis, Volume 3: Modeling Suitability, Movement, and Interaction (The ESRI Guide to GIS Analysis, 3)\n",
      "Data Science for Business With R\n",
      "Big Data: How Data Analytics Is Transforming the World\n",
      "Python Crash Course, 2nd Edition: A Hands-On, Project-Based Introduction to Programming\n",
      "Foundational Python for Data Science (Addison-Wesley Data & Analytics Series)\n",
      "Integrating Data\n",
      "Bioinformatics Data Skills: Reproducible and Robust Research with Open Source Tools\n",
      "Data Science In The Library: Tools and Strategies for Supporting Data-Driven Research and Instruction\n",
      "Data Science for Business: Predictive Modeling, Data Mining, Data Analytics, Data Warehousing, Data Visualization, Regression Analysis, Database Querying, and Machine Learning for Beginners\n",
      "Introduction to Computation: Haskell, Logic and Automata (Undergraduate Topics in Computer Science)\n",
      "The Psychology of Technology: Social Science Research in the Age of Big Data\n",
      "Machine Learning for Time Series Forecasting with Python\n",
      "Guide to Data Science: Brief Introduction to the Quirky World of Data\n",
      "Introduction to Biomedical Data Science\n",
      "Data Science: Concepts and Practice\n",
      "DATA SCIENCE INTERVIEW QUESTIONS: A DATA SCIENTIST’S GUIDE TO A SUCCESSFUL DATA SCIENCE INTERVIEW\n",
      "Inferential Network Analysis (Analytical Methods for Social Research)\n",
      "Data Science For Dummies, 2nd Edition\n",
      "Data Visualization with Excel Dashboards and Reports\n",
      "Business Intelligence, Analytics, and Data Science: A Managerial Perspective\n",
      "Hands-On Data Structures and Algorithms with Python: Store, manipulate, and access data effectively and boost the performance of your applications, 3rd Edition\n",
      "Learn Power BI: A comprehensive, step-by-step guide for beginners to learn real-world business intelligence, 2nd Edition\n",
      "Fundamentals of Data Science with MATLAB: Introduction to Scientific Computing, Data Analysis, and Data Visualization\n",
      "Responsible Data Science\n"
     ]
    },
    {
     "name": "stderr",
     "output_type": "stream",
     "text": [
      "2022-09-17 22:53:42 [scrapy.downloadermiddlewares.redirect] DEBUG: Redirecting (302) to <GET https://www.amazon.com/Data-Science-Interview-Language-Scientist/dp/1915002109/ref=sr_1_132_sspa?crid=2YKZLS0CJFDGI&keywords=data+science&qid=1663447999&sprefix=data+science%2Caps%2C828&sr=8-132-spons&psc=1&spLa=ZW5jcnlwdGVkUXVhbGlmaWVyPUExWklIWVQ4SzkxUzU1JmVuY3J5cHRlZElkPUEwOTg3MDM0SU1HSEVGRDExQ0omZW5jcnlwdGVkQWRJZD1BMDkyNjY0MTFIV1BYM0Q5QTFZVzImd2lkZ2V0TmFtZT1zcF9tdGYmYWN0aW9uPWNsaWNrUmVkaXJlY3QmZG9Ob3RMb2dDbGljaz10cnVl> from <GET https://www.amazon.com/gp/slredirect/picassoRedirect.html/ref=pa_sp_mtf_aps_sr_pg3_1?ie=UTF8&adId=A09266411HWPX3D9A1YW2&url=%2FData-Science-Interview-Language-Scientist%2Fdp%2F1915002109%2Fref%3Dsr_1_132_sspa%3Fcrid%3D2YKZLS0CJFDGI%26keywords%3Ddata%2Bscience%26qid%3D1663447999%26sprefix%3Ddata%2Bscience%252Caps%252C828%26sr%3D8-132-spons%26psc%3D1&qualifier=1663447999&id=1843428804910168&widgetName=sp_mtf>\n",
      "2022-09-17 22:53:43 [scrapy.downloadermiddlewares.redirect] DEBUG: Redirecting (302) to <GET https://www.amazon.com/Data-Vault-Guru-pragmatic-building/dp/B08KJLJW9Q/ref=sr_1_131_sspa?crid=2YKZLS0CJFDGI&keywords=data+science&qid=1663447999&sprefix=data+science%2Caps%2C828&sr=8-131-spons&psc=1&spLa=ZW5jcnlwdGVkUXVhbGlmaWVyPUExWklIWVQ4SzkxUzU1JmVuY3J5cHRlZElkPUEwOTg3MDM0SU1HSEVGRDExQ0omZW5jcnlwdGVkQWRJZD1BMDA2OTQ2NTEwQjFCTDdSMTlISVQmd2lkZ2V0TmFtZT1zcF9tdGYmYWN0aW9uPWNsaWNrUmVkaXJlY3QmZG9Ob3RMb2dDbGljaz10cnVl> from <GET https://www.amazon.com/gp/slredirect/picassoRedirect.html/ref=pa_sp_mtf_aps_sr_pg3_1?ie=UTF8&adId=A006946510B1BL7R19HIT&url=%2FData-Vault-Guru-pragmatic-building%2Fdp%2FB08KJLJW9Q%2Fref%3Dsr_1_131_sspa%3Fcrid%3D2YKZLS0CJFDGI%26keywords%3Ddata%2Bscience%26qid%3D1663447999%26sprefix%3Ddata%2Bscience%252Caps%252C828%26sr%3D8-131-spons%26psc%3D1&qualifier=1663447999&id=1843428804910168&widgetName=sp_mtf>\n",
      "2022-09-17 22:53:43 [scrapy.core.engine] DEBUG: Crawled (200) <GET https://www.amazon.com/Data-Engineering-AWS-Gareth-Eagar/dp/1800560419/ref=sr_1_136?crid=2YKZLS0CJFDGI&keywords=data+science&qid=1663447999&sprefix=data+science%2Caps%2C828&sr=8-136> (referer: https://www.amazon.com/s?k=data+science&s=relevanceblender&page=3&crid=2YKZLS0CJFDGI&qid=1663103507&sprefix=data+science%2Caps%2C828&ref=sr_pg_3)\n",
      "2022-09-17 22:53:43 [scrapy.core.engine] DEBUG: Crawled (200) <GET https://www.amazon.com/Science-Design-Manual-Texts-Computer/dp/3319554433/ref=sr_1_137?crid=2YKZLS0CJFDGI&keywords=data+science&qid=1663447999&sprefix=data+science%2Caps%2C828&sr=8-137> (referer: https://www.amazon.com/s?k=data+science&s=relevanceblender&page=3&crid=2YKZLS0CJFDGI&qid=1663103507&sprefix=data+science%2Caps%2C828&ref=sr_pg_3)\n",
      "2022-09-17 22:53:43 [scrapy.core.engine] DEBUG: Crawled (200) <GET https://www.amazon.com/Big-Data-Short-Introduction-Introductions/dp/0198779577/ref=sr_1_139?crid=2YKZLS0CJFDGI&keywords=data+science&qid=1663447999&sprefix=data+science%2Caps%2C828&sr=8-139> (referer: https://www.amazon.com/s?k=data+science&s=relevanceblender&page=3&crid=2YKZLS0CJFDGI&qid=1663103507&sprefix=data+science%2Caps%2C828&ref=sr_pg_3)\n",
      "2022-09-17 22:53:43 [scrapy.core.engine] DEBUG: Crawled (200) <GET https://www.amazon.com/SQL-Data-Analysis-Techniques-Transforming/dp/1492088781/ref=sr_1_138?crid=2YKZLS0CJFDGI&keywords=data+science&qid=1663447999&sprefix=data+science%2Caps%2C828&sr=8-138> (referer: https://www.amazon.com/s?k=data+science&s=relevanceblender&page=3&crid=2YKZLS0CJFDGI&qid=1663103507&sprefix=data+science%2Caps%2C828&ref=sr_pg_3)\n",
      "2022-09-17 22:53:43 [scrapy.downloadermiddlewares.redirect] DEBUG: Redirecting (302) to <GET https://www.amazon.com/Python-Data-Science-Complete-Analysis/dp/B09CKPGC85/ref=sr_1_130_sspa?crid=2YKZLS0CJFDGI&keywords=data+science&qid=1663447999&sprefix=data+science%2Caps%2C828&sr=8-130-spons&psc=1&spLa=ZW5jcnlwdGVkUXVhbGlmaWVyPUExWklIWVQ4SzkxUzU1JmVuY3J5cHRlZElkPUEwOTg3MDM0SU1HSEVGRDExQ0omZW5jcnlwdGVkQWRJZD1BMDg4ODU3OFk0VDFMTTcwN0xISSZ3aWRnZXROYW1lPXNwX210ZiZhY3Rpb249Y2xpY2tSZWRpcmVjdCZkb05vdExvZ0NsaWNrPXRydWU=> from <GET https://www.amazon.com/gp/slredirect/picassoRedirect.html/ref=pa_sp_mtf_aps_sr_pg3_1?ie=UTF8&adId=A0888578Y4T1LM707LHI&url=%2FPython-Data-Science-Complete-Analysis%2Fdp%2FB09CKPGC85%2Fref%3Dsr_1_130_sspa%3Fcrid%3D2YKZLS0CJFDGI%26keywords%3Ddata%2Bscience%26qid%3D1663447999%26sprefix%3Ddata%2Bscience%252Caps%252C828%26sr%3D8-130-spons%26psc%3D1&qualifier=1663447999&id=1843428804910168&widgetName=sp_mtf>\n",
      "2022-09-17 22:53:43 [scrapy.downloadermiddlewares.redirect] DEBUG: Redirecting (302) to <GET https://www.amazon.com/Hands-Data-Science-Marketing-strategies/dp/1789346347/ref=sr_1_129_sspa?crid=2YKZLS0CJFDGI&keywords=data+science&qid=1663447999&sprefix=data+science%2Caps%2C828&sr=8-129-spons&psc=1&spLa=ZW5jcnlwdGVkUXVhbGlmaWVyPUExWklIWVQ4SzkxUzU1JmVuY3J5cHRlZElkPUEwOTg3MDM0SU1HSEVGRDExQ0omZW5jcnlwdGVkQWRJZD1BMDMzMzE2OTJKVUUwOFRRWk0yV1Ymd2lkZ2V0TmFtZT1zcF9tdGYmYWN0aW9uPWNsaWNrUmVkaXJlY3QmZG9Ob3RMb2dDbGljaz10cnVl> from <GET https://www.amazon.com/gp/slredirect/picassoRedirect.html/ref=pa_sp_mtf_aps_sr_pg3_1?ie=UTF8&adId=A03331692JUE08TQZM2WV&url=%2FHands-Data-Science-Marketing-strategies%2Fdp%2F1789346347%2Fref%3Dsr_1_129_sspa%3Fcrid%3D2YKZLS0CJFDGI%26keywords%3Ddata%2Bscience%26qid%3D1663447999%26sprefix%3Ddata%2Bscience%252Caps%252C828%26sr%3D8-129-spons%26psc%3D1&qualifier=1663447999&id=1843428804910168&widgetName=sp_mtf>\n"
     ]
    },
    {
     "name": "stdout",
     "output_type": "stream",
     "text": [
      "102\n",
      "['\\n            \\n              63%\\n            \\n          '] 4.4 out of 5 stars 7.5 x 1.09 x 9.25 inches\n",
      "103\n",
      "['\\n            \\n              86%\\n            \\n          '] 4.8 out of 5 stars 7.2 x 1.1 x 9.4 inches\n",
      "104\n",
      "['\\n            \\n              67%\\n            \\n          '] 4.4 out of 5 stars 6.8 x 4.5 x 0.5 inches\n"
     ]
    },
    {
     "name": "stderr",
     "output_type": "stream",
     "text": [
      "2022-09-17 22:53:44 [scrapy.core.engine] DEBUG: Crawled (200) <GET https://www.amazon.com/Data-Science-Projects-Python-scikit-learn-ebook/dp/B07MLFJ564/ref=sr_1_135?crid=2YKZLS0CJFDGI&keywords=data+science&qid=1663447999&sprefix=data+science%2Caps%2C828&sr=8-135> (referer: https://www.amazon.com/s?k=data+science&s=relevanceblender&page=3&crid=2YKZLS0CJFDGI&qid=1663103507&sprefix=data+science%2Caps%2C828&ref=sr_pg_3)\n"
     ]
    },
    {
     "name": "stdout",
     "output_type": "stream",
     "text": [
      "105\n",
      "['\\n            \\n              78%\\n            \\n          '] 4.7 out of 5 stars 6.75 x 0.75 x 8.75 inches\n"
     ]
    },
    {
     "name": "stderr",
     "output_type": "stream",
     "text": [
      "2022-09-17 22:53:44 [scrapy.core.engine] DEBUG: Crawled (200) <GET https://www.amazon.com/Cyberwarrior-Handbook-Beginners-Hacking-Exploitation/dp/1718502281/ref=sr_1_134?crid=2YKZLS0CJFDGI&keywords=data+science&qid=1663447999&sprefix=data+science%2Caps%2C828&sr=8-134> (referer: https://www.amazon.com/s?k=data+science&s=relevanceblender&page=3&crid=2YKZLS0CJFDGI&qid=1663103507&sprefix=data+science%2Caps%2C828&ref=sr_pg_3)\n"
     ]
    },
    {
     "name": "stdout",
     "output_type": "stream",
     "text": [
      "106\n",
      "['\\n            \\n              66%\\n            \\n          '] 4.4 out of 5 stars None\n"
     ]
    },
    {
     "name": "stderr",
     "output_type": "stream",
     "text": [
      "2022-09-17 22:53:44 [scrapy.core.engine] DEBUG: Crawled (200) <GET https://www.amazon.com/Machine-Learning-Programming-Understand-Intelligence/dp/B086R6JFLW/ref=sr_1_133?crid=2YKZLS0CJFDGI&keywords=data+science&qid=1663447999&sprefix=data+science%2Caps%2C828&sr=8-133> (referer: https://www.amazon.com/s?k=data+science&s=relevanceblender&page=3&crid=2YKZLS0CJFDGI&qid=1663103507&sprefix=data+science%2Caps%2C828&ref=sr_pg_3)\n"
     ]
    },
    {
     "name": "stdout",
     "output_type": "stream",
     "text": [
      "107\n",
      "[] None None\n",
      "108\n",
      "['\\n            \\n              31%\\n            \\n          '] 3.1 out of 5 stars None\n"
     ]
    },
    {
     "name": "stderr",
     "output_type": "stream",
     "text": [
      "2022-09-17 22:53:46 [scrapy.core.engine] DEBUG: Crawled (200) <GET https://www.amazon.com/Comet-Data-Science-Enhance-optimize/dp/1801814430/ref=sr_1_124?crid=2YKZLS0CJFDGI&keywords=data+science&qid=1663447999&sprefix=data+science%2Caps%2C828&sr=8-124> (referer: https://www.amazon.com/s?k=data+science&s=relevanceblender&page=3&crid=2YKZLS0CJFDGI&qid=1663103507&sprefix=data+science%2Caps%2C828&ref=sr_pg_3)\n",
      "2022-09-17 22:53:46 [scrapy.core.engine] DEBUG: Crawled (200) <GET https://www.amazon.com/Optimization-Data-Analysis-Stephen-Wright/dp/1316518981/ref=sr_1_125?crid=2YKZLS0CJFDGI&keywords=data+science&qid=1663447999&sprefix=data+science%2Caps%2C828&sr=8-125> (referer: https://www.amazon.com/s?k=data+science&s=relevanceblender&page=3&crid=2YKZLS0CJFDGI&qid=1663103507&sprefix=data+science%2Caps%2C828&ref=sr_pg_3)\n"
     ]
    },
    {
     "name": "stdout",
     "output_type": "stream",
     "text": [
      "109\n",
      "['\\n            \\n              100%\\n            \\n          '] 5.0 out of 5 stars 7.5 x 0.91 x 9.25 inches\n"
     ]
    },
    {
     "name": "stderr",
     "output_type": "stream",
     "text": [
      "2022-09-17 22:53:46 [scrapy.core.engine] DEBUG: Crawled (200) <GET https://www.amazon.com/Self-Taught-Computer-Scientist-Beginners-Science/dp/1119724414/ref=sr_1_128?crid=2YKZLS0CJFDGI&keywords=data+science&qid=1663447999&sprefix=data+science%2Caps%2C828&sr=8-128> (referer: https://www.amazon.com/s?k=data+science&s=relevanceblender&page=3&crid=2YKZLS0CJFDGI&qid=1663103507&sprefix=data+science%2Caps%2C828&ref=sr_pg_3)\n",
      "2022-09-17 22:53:46 [scrapy.core.engine] DEBUG: Crawled (200) <GET https://www.amazon.com/Quantitative-Social-Science-Introduction-tidyverse/dp/0691222282/ref=sr_1_126?crid=2YKZLS0CJFDGI&keywords=data+science&qid=1663447999&sprefix=data+science%2Caps%2C828&sr=8-126> (referer: https://www.amazon.com/s?k=data+science&s=relevanceblender&page=3&crid=2YKZLS0CJFDGI&qid=1663103507&sprefix=data+science%2Caps%2C828&ref=sr_pg_3)\n",
      "2022-09-17 22:53:46 [scrapy.core.engine] DEBUG: Crawled (200) <GET https://www.amazon.com/Data-Science-Interview-Language-Scientist/dp/1915002109/ref=sr_1_132_sspa?crid=2YKZLS0CJFDGI&keywords=data+science&qid=1663447999&sprefix=data+science%2Caps%2C828&sr=8-132-spons&psc=1&spLa=ZW5jcnlwdGVkUXVhbGlmaWVyPUExWklIWVQ4SzkxUzU1JmVuY3J5cHRlZElkPUEwOTg3MDM0SU1HSEVGRDExQ0omZW5jcnlwdGVkQWRJZD1BMDkyNjY0MTFIV1BYM0Q5QTFZVzImd2lkZ2V0TmFtZT1zcF9tdGYmYWN0aW9uPWNsaWNrUmVkaXJlY3QmZG9Ob3RMb2dDbGljaz10cnVl> (referer: https://www.amazon.com/s?k=data+science&s=relevanceblender&page=3&crid=2YKZLS0CJFDGI&qid=1663103507&sprefix=data+science%2Caps%2C828&ref=sr_pg_3)\n"
     ]
    },
    {
     "name": "stdout",
     "output_type": "stream",
     "text": [
      "110\n",
      "['\\n            \\n              100%\\n            \\n          '] 5.0 out of 5 stars 6.25 x 0.75 x 9.25 inches\n"
     ]
    },
    {
     "name": "stderr",
     "output_type": "stream",
     "text": [
      "2022-09-17 22:53:47 [scrapy.core.engine] DEBUG: Crawled (200) <GET https://www.amazon.com/Data-Science-Interview-Language-Scientist/dp/1915002109/ref=sr_1_127?crid=2YKZLS0CJFDGI&keywords=data+science&qid=1663447999&sprefix=data+science%2Caps%2C828&sr=8-127> (referer: https://www.amazon.com/s?k=data+science&s=relevanceblender&page=3&crid=2YKZLS0CJFDGI&qid=1663103507&sprefix=data+science%2Caps%2C828&ref=sr_pg_3)\n"
     ]
    },
    {
     "name": "stdout",
     "output_type": "stream",
     "text": [
      "111\n",
      "['\\n            \\n              75%\\n            \\n          '] 4.5 out of 5 stars 7.38 x 0.51 x 9.25 inches\n",
      "112\n",
      "['\\n            \\n              61%\\n            \\n          '] 3.8 out of 5 stars 6.75 x 1 x 9.75 inches\n"
     ]
    },
    {
     "name": "stderr",
     "output_type": "stream",
     "text": [
      "2022-09-17 22:53:47 [scrapy.core.engine] DEBUG: Crawled (200) <GET https://www.amazon.com/Data-Vault-Guru-pragmatic-building/dp/B08KJLJW9Q/ref=sr_1_131_sspa?crid=2YKZLS0CJFDGI&keywords=data+science&qid=1663447999&sprefix=data+science%2Caps%2C828&sr=8-131-spons&psc=1&spLa=ZW5jcnlwdGVkUXVhbGlmaWVyPUExWklIWVQ4SzkxUzU1JmVuY3J5cHRlZElkPUEwOTg3MDM0SU1HSEVGRDExQ0omZW5jcnlwdGVkQWRJZD1BMDA2OTQ2NTEwQjFCTDdSMTlISVQmd2lkZ2V0TmFtZT1zcF9tdGYmYWN0aW9uPWNsaWNrUmVkaXJlY3QmZG9Ob3RMb2dDbGljaz10cnVl> (referer: https://www.amazon.com/s?k=data+science&s=relevanceblender&page=3&crid=2YKZLS0CJFDGI&qid=1663103507&sprefix=data+science%2Caps%2C828&ref=sr_pg_3)\n"
     ]
    },
    {
     "name": "stdout",
     "output_type": "stream",
     "text": [
      "113\n",
      "['\\n            \\n              91%\\n            \\n          '] 4.7 out of 5 stars 6 x 0.39 x 9 inches\n",
      "114\n",
      "['\\n            \\n              91%\\n            \\n          '] 4.7 out of 5 stars 6 x 0.39 x 9 inches\n",
      "115\n",
      "['\\n            \\n              57%\\n            \\n          '] 4.1 out of 5 stars 8 x 1.59 x 10 inches\n"
     ]
    },
    {
     "name": "stderr",
     "output_type": "stream",
     "text": [
      "2022-09-17 22:53:48 [scrapy.core.engine] DEBUG: Crawled (200) <GET https://www.amazon.com/Responsible-Data-Science-Transparency-Algorithms/dp/1119741750/ref=sr_1_204?crid=2YKZLS0CJFDGI&keywords=data+science&qid=1663448020&sprefix=data+science%2Caps%2C828&sr=8-204> (referer: https://www.amazon.com/s?k=data+science&s=relevanceblender&page=4&crid=2YKZLS0CJFDGI&qid=1663103507&sprefix=data+science%2Caps%2C828&ref=sr_pg_4)\n"
     ]
    },
    {
     "name": "stdout",
     "output_type": "stream",
     "text": [
      "116\n",
      "['\\n            \\n              70%\\n            \\n          '] 3.8 out of 5 stars 7.38 x 0.69 x 9.25 inches\n"
     ]
    },
    {
     "name": "stderr",
     "output_type": "stream",
     "text": [
      "2022-09-17 22:53:51 [scrapy.extensions.logstats] INFO: Crawled 120 pages (at 120 pages/min), scraped 0 items (at 0 items/min)\n",
      "2022-09-17 22:53:51 [scrapy.core.engine] DEBUG: Crawled (200) <GET https://www.amazon.com/Fundamentals-Data-Science-MATLAB-Visualization/dp/1735241016/ref=sr_1_203?crid=2YKZLS0CJFDGI&keywords=data+science&qid=1663448020&sprefix=data+science%2Caps%2C828&sr=8-203> (referer: https://www.amazon.com/s?k=data+science&s=relevanceblender&page=4&crid=2YKZLS0CJFDGI&qid=1663103507&sprefix=data+science%2Caps%2C828&ref=sr_pg_4)\n",
      "2022-09-17 22:53:51 [scrapy.core.engine] DEBUG: Crawled (200) <GET https://www.amazon.com/Python-Data-Science-Complete-Analysis/dp/B09CKPGC85/ref=sr_1_130_sspa?crid=2YKZLS0CJFDGI&keywords=data+science&qid=1663447999&sprefix=data+science%2Caps%2C828&sr=8-130-spons&psc=1&spLa=ZW5jcnlwdGVkUXVhbGlmaWVyPUExWklIWVQ4SzkxUzU1JmVuY3J5cHRlZElkPUEwOTg3MDM0SU1HSEVGRDExQ0omZW5jcnlwdGVkQWRJZD1BMDg4ODU3OFk0VDFMTTcwN0xISSZ3aWRnZXROYW1lPXNwX210ZiZhY3Rpb249Y2xpY2tSZWRpcmVjdCZkb05vdExvZ0NsaWNrPXRydWU=> (referer: https://www.amazon.com/s?k=data+science&s=relevanceblender&page=3&crid=2YKZLS0CJFDGI&qid=1663103507&sprefix=data+science%2Caps%2C828&ref=sr_pg_3)\n",
      "2022-09-17 22:53:51 [scrapy.core.engine] DEBUG: Crawled (200) <GET https://www.amazon.com/Learn-Power-comprehensive-step-step/dp/1801811954/ref=sr_1_202?crid=2YKZLS0CJFDGI&keywords=data+science&qid=1663448020&sprefix=data+science%2Caps%2C828&sr=8-202> (referer: https://www.amazon.com/s?k=data+science&s=relevanceblender&page=4&crid=2YKZLS0CJFDGI&qid=1663103507&sprefix=data+science%2Caps%2C828&ref=sr_pg_4)\n",
      "2022-09-17 22:53:51 [scrapy.core.engine] DEBUG: Crawled (200) <GET https://www.amazon.com/Hands-Data-Structures-Algorithms-Python/dp/1801073449/ref=sr_1_201?crid=2YKZLS0CJFDGI&keywords=data+science&qid=1663448020&sprefix=data+science%2Caps%2C828&sr=8-201> (referer: https://www.amazon.com/s?k=data+science&s=relevanceblender&page=4&crid=2YKZLS0CJFDGI&qid=1663103507&sprefix=data+science%2Caps%2C828&ref=sr_pg_4)\n",
      "2022-09-17 22:53:51 [scrapy.core.engine] DEBUG: Crawled (200) <GET https://www.amazon.com/Hands-Data-Science-Marketing-strategies/dp/1789346347/ref=sr_1_129_sspa?crid=2YKZLS0CJFDGI&keywords=data+science&qid=1663447999&sprefix=data+science%2Caps%2C828&sr=8-129-spons&psc=1&spLa=ZW5jcnlwdGVkUXVhbGlmaWVyPUExWklIWVQ4SzkxUzU1JmVuY3J5cHRlZElkPUEwOTg3MDM0SU1HSEVGRDExQ0omZW5jcnlwdGVkQWRJZD1BMDMzMzE2OTJKVUUwOFRRWk0yV1Ymd2lkZ2V0TmFtZT1zcF9tdGYmYWN0aW9uPWNsaWNrUmVkaXJlY3QmZG9Ob3RMb2dDbGljaz10cnVl> (referer: https://www.amazon.com/s?k=data+science&s=relevanceblender&page=3&crid=2YKZLS0CJFDGI&qid=1663103507&sprefix=data+science%2Caps%2C828&ref=sr_pg_3)\n",
      "2022-09-17 22:53:51 [scrapy.core.engine] DEBUG: Crawled (200) <GET https://www.amazon.com/Data-Visualization-Excel-Dashboards-Reports/dp/1119698723/ref=sr_1_199?crid=2YKZLS0CJFDGI&keywords=data+science&qid=1663448020&sprefix=data+science%2Caps%2C828&sr=8-199> (referer: https://www.amazon.com/s?k=data+science&s=relevanceblender&page=4&crid=2YKZLS0CJFDGI&qid=1663103507&sprefix=data+science%2Caps%2C828&ref=sr_pg_4)\n",
      "2022-09-17 22:53:51 [scrapy.core.engine] DEBUG: Crawled (200) <GET https://www.amazon.com/Data-Science-Dummies-2nd-Computers/dp/1119327636/ref=sr_1_198?crid=2YKZLS0CJFDGI&keywords=data+science&qid=1663448020&sprefix=data+science%2Caps%2C828&sr=8-198> (referer: https://www.amazon.com/s?k=data+science&s=relevanceblender&page=4&crid=2YKZLS0CJFDGI&qid=1663103507&sprefix=data+science%2Caps%2C828&ref=sr_pg_4)\n",
      "2022-09-17 22:53:51 [scrapy.core.engine] DEBUG: Crawled (200) <GET https://www.amazon.com/Business-Intelligence-Analytics-Data-Science/dp/0134633288/ref=sr_1_200?crid=2YKZLS0CJFDGI&keywords=data+science&qid=1663448020&sprefix=data+science%2Caps%2C828&sr=8-200> (referer: https://www.amazon.com/s?k=data+science&s=relevanceblender&page=4&crid=2YKZLS0CJFDGI&qid=1663103507&sprefix=data+science%2Caps%2C828&ref=sr_pg_4)\n"
     ]
    },
    {
     "name": "stdout",
     "output_type": "stream",
     "text": [
      "start_new_page\n",
      "117\n",
      "['\\n            \\n              50%\\n            \\n          '] 4.5 out of 5 stars 7.5 x 0.96 x 9.25 inches\n",
      "118\n",
      "['\\n            \\n              62%\\n            \\n          '] 3.9 out of 5 stars 6 x 0.45 x 9 inches\n",
      "119\n",
      "['\\n            \\n              66%\\n            \\n          '] 4.4 out of 5 stars 7.5 x 1.04 x 9.25 inches\n",
      "120\n",
      "['\\n            \\n              63%\\n            \\n          '] 4.4 out of 5 stars 7.2 x 0.8 x 9 inches\n",
      "121\n",
      "['\\n            \\n              60%\\n            \\n          '] 4.4 out of 5 stars 7.3 x 1 x 9 inches\n",
      "122\n",
      "['\\n            \\n              58%\\n            \\n          '] 4.6 out of 5 stars 7.5 x 1.12 x 9.25 inches\n",
      "123\n",
      "['\\n            \\n              59%\\n            \\n          '] 4.3 out of 5 stars 7.5 x 1.05 x 9.25 inches\n",
      "124\n",
      "['\\n            \\n              77%\\n            \\n          '] 4.5 out of 5 stars 9.8 x 7.8 x 0.7 inches\n"
     ]
    },
    {
     "name": "stderr",
     "output_type": "stream",
     "text": [
      "2022-09-17 22:53:53 [scrapy.core.engine] DEBUG: Crawled (200) <GET https://www.amazon.com/Guide-Data-Science-Introduction-Quirky/dp/B0B9PR49KN/ref=sr_1_193?crid=2YKZLS0CJFDGI&keywords=data+science&qid=1663448020&sprefix=data+science%2Caps%2C828&sr=8-193> (referer: https://www.amazon.com/s?k=data+science&s=relevanceblender&page=4&crid=2YKZLS0CJFDGI&qid=1663103507&sprefix=data+science%2Caps%2C828&ref=sr_pg_4)\n",
      "2022-09-17 22:53:54 [scrapy.core.engine] DEBUG: Crawled (200) <GET https://www.amazon.com/DATA-SCIENCE-INTERVIEW-QUESTIONS-SCIENTISTS-ebook/dp/B0B84DHNYB/ref=sr_1_196?crid=2YKZLS0CJFDGI&keywords=data+science&qid=1663448020&sprefix=data+science%2Caps%2C828&sr=8-196> (referer: https://www.amazon.com/s?k=data+science&s=relevanceblender&page=4&crid=2YKZLS0CJFDGI&qid=1663103507&sprefix=data+science%2Caps%2C828&ref=sr_pg_4)\n"
     ]
    },
    {
     "name": "stdout",
     "output_type": "stream",
     "text": [
      "125\n",
      "['\\n            \\n              100%\\n            \\n          '] 5.0 out of 5 stars 8.5 x 0.35 x 11 inches\n"
     ]
    },
    {
     "name": "stderr",
     "output_type": "stream",
     "text": [
      "2022-09-17 22:53:54 [scrapy.core.engine] DEBUG: Crawled (200) <GET https://www.amazon.com/Machine-Learning-Time-Forecasting-Python/dp/1119682363/ref=sr_1_192?crid=2YKZLS0CJFDGI&keywords=data+science&qid=1663448020&sprefix=data+science%2Caps%2C828&sr=8-192> (referer: https://www.amazon.com/s?k=data+science&s=relevanceblender&page=4&crid=2YKZLS0CJFDGI&qid=1663103507&sprefix=data+science%2Caps%2C828&ref=sr_pg_4)\n",
      "2022-09-17 22:53:54 [scrapy.core.engine] DEBUG: Crawled (200) <GET https://www.amazon.com/Introduction-to-ComputationHaskell_-Logic-and-Automata-Undergraduate-Topics-in-Computer-Science/dp/3030769070/ref=sr_1_190?crid=2YKZLS0CJFDGI&keywords=data+science&qid=1663448020&sprefix=data+science%2Caps%2C828&sr=8-190> (referer: https://www.amazon.com/s?k=data+science&s=relevanceblender&page=4&crid=2YKZLS0CJFDGI&qid=1663103507&sprefix=data+science%2Caps%2C828&ref=sr_pg_4)\n",
      "2022-09-17 22:53:54 [scrapy.core.engine] DEBUG: Crawled (200) <GET https://www.amazon.com/Introduction-Biomedical-Data-Science-Robert/dp/179476173X/ref=sr_1_194?crid=2YKZLS0CJFDGI&keywords=data+science&qid=1663448020&sprefix=data+science%2Caps%2C828&sr=8-194> (referer: https://www.amazon.com/s?k=data+science&s=relevanceblender&page=4&crid=2YKZLS0CJFDGI&qid=1663103507&sprefix=data+science%2Caps%2C828&ref=sr_pg_4)\n"
     ]
    },
    {
     "name": "stdout",
     "output_type": "stream",
     "text": [
      "126\n",
      "['\\n            \\n              100%\\n            \\n          '] 5.0 out of 5 stars None\n"
     ]
    },
    {
     "name": "stderr",
     "output_type": "stream",
     "text": [
      "2022-09-17 22:53:54 [scrapy.core.engine] DEBUG: Crawled (200) <GET https://www.amazon.com/Predictive-Analytics-Data-Mining-Concepts/dp/012814761X/ref=sr_1_195?crid=2YKZLS0CJFDGI&keywords=data+science&qid=1663448020&sprefix=data+science%2Caps%2C828&sr=8-195> (referer: https://www.amazon.com/s?k=data+science&s=relevanceblender&page=4&crid=2YKZLS0CJFDGI&qid=1663103507&sprefix=data+science%2Caps%2C828&ref=sr_pg_4)\n",
      "2022-09-17 22:53:54 [scrapy.core.engine] DEBUG: Crawled (200) <GET https://www.amazon.com/Psychology-Technology-Social-Science-Research/dp/1433836262/ref=sr_1_191?crid=2YKZLS0CJFDGI&keywords=data+science&qid=1663448020&sprefix=data+science%2Caps%2C828&sr=8-191> (referer: https://www.amazon.com/s?k=data+science&s=relevanceblender&page=4&crid=2YKZLS0CJFDGI&qid=1663103507&sprefix=data+science%2Caps%2C828&ref=sr_pg_4)\n"
     ]
    },
    {
     "name": "stdout",
     "output_type": "stream",
     "text": [
      "127\n",
      "['\\n            \\n              53%\\n            \\n          '] 3.9 out of 5 stars 7.38 x 0.51 x 9.25 inches\n",
      "128\n",
      "['\\n            \\n              100%\\n            \\n          '] 5.0 out of 5 stars 8.25 x 0.79 x 11 inches\n"
     ]
    },
    {
     "name": "stderr",
     "output_type": "stream",
     "text": [
      "2022-09-17 22:53:55 [scrapy.core.engine] DEBUG: Crawled (200) <GET https://www.amazon.com/s?k=data+science&s=relevanceblender&page=5&crid=2YKZLS0CJFDGI&qid=1663103507&sprefix=data+science%2Caps%2C828&ref=sr_pg_5> (referer: https://www.amazon.com/Responsible-Data-Science-Transparency-Algorithms/dp/1119741750/ref=sr_1_204?crid=2YKZLS0CJFDGI&keywords=data+science&qid=1663448020&sprefix=data+science%2Caps%2C828&sr=8-204)\n"
     ]
    },
    {
     "name": "stdout",
     "output_type": "stream",
     "text": [
      "129\n",
      "['\\n            \\n              100%\\n            \\n          '] 5.0 out of 5 stars 8.5 x 0.59 x 11 inches\n",
      "130\n",
      "['\\n            \\n              68%\\n            \\n          '] 4.5 out of 5 stars 7.52 x 1.28 x 9.25 inches\n"
     ]
    },
    {
     "name": "stderr",
     "output_type": "stream",
     "text": [
      "2022-09-17 22:53:55 [scrapy.core.engine] DEBUG: Crawled (200) <GET https://www.amazon.com/Inferential-Network-Analysis-Analytical-Research/dp/1316610853/ref=sr_1_197?crid=2YKZLS0CJFDGI&keywords=data+science&qid=1663448020&sprefix=data+science%2Caps%2C828&sr=8-197> (referer: https://www.amazon.com/s?k=data+science&s=relevanceblender&page=4&crid=2YKZLS0CJFDGI&qid=1663103507&sprefix=data+science%2Caps%2C828&ref=sr_pg_4)\n"
     ]
    },
    {
     "name": "stdout",
     "output_type": "stream",
     "text": [
      "131\n",
      "[] None 6 x 1 x 9 inches\n",
      "5\n",
      "Oracle Database Administration Interview Questions You'll Most Likely Be Asked: Interview Questions You'll Most Likely Be Asked (Job Interview Questions Series)\n",
      "Artificial Intelligence with Power BI: Take your data analytics skills to the next level by leveraging the AI capabilities in Power BI\n",
      "The Tableau Workshop: A practical guide to the art of data visualization with Tableau\n",
      "Mastering TensorFlow 2.x: Implement Powerful Neural Nets across Structured, Unstructured datasets and Time Series Data (English Edition)\n",
      "Business Intelligence, Analytics, and Data Science: A Managerial Perspective\n",
      "Hands-On Data Structures and Algorithms with Python: Store, manipulate, and access data effectively and boost the performance of your applications, 3rd Edition\n",
      "Learn Power BI: A comprehensive, step-by-step guide for beginners to learn real-world business intelligence, 2nd Edition\n",
      "Fundamentals of Data Science with MATLAB: Introduction to Scientific Computing, Data Analysis, and Data Visualization\n",
      "Responsible Data Science\n",
      "R Programming for Data Science\n",
      "Functional Aesthetics for Data Visualization\n",
      "Data-Driven Evolutionary Optimization: Integrating Evolutionary Computation, Machine Learning and Data Science (Studies in Computational Intelligence, 975)\n",
      "Graph Neural Networks: Foundations, Frontiers, and Applications\n",
      "132\n",
      "['\\n            \\n              69%\\n            \\n          '] 4.7 out of 5 stars 6 x 0.75 x 8.75 inches\n",
      "Machine Learning in Biotechnology and Life Sciences: Build machine learning models using Python and deploy them on the cloud\n",
      "Fundamentals of Data Science Part I: Inference and Experiment\n",
      "Data Science and Big Data Analytics: Discovering, Analyzing, Visualizing and Presenting Data\n",
      "Data Lakehouse in Action: Architecting a modern and scalable data analytics platform\n",
      "Building Data Science Solutions with Anaconda: A comprehensive starter guide to building robust and complete models\n",
      "Getting Started with Elastic Stack 8.0: Run powerful and scalable data platforms to search, observe, and secure your organization\n",
      "Data Visualization in Python with Pandas and Matplotlib\n",
      "Data Science in Context: Foundations, Challenges, Opportunities\n",
      "Data Governance: How to Design, Deploy and Sustain an Effective Data Governance Program (The Morgan Kaufmann Series on Business Intelligence)\n",
      "Machine Learning with R: Expert techniques for predictive modeling, 3rd Edition\n",
      "Analytical Skills for AI and Data Science: Building Skills for an AI-Driven Enterprise\n",
      "The Big Book of Dashboards: Visualizing Your Data Using Real-World Business Scenarios\n",
      "Core data science with illustrations in R and python\n",
      "Malware Data Science: Attack Detection and Attribution\n",
      "Geographical Data Science and Spatial Data Analysis: An Introduction in R (Spatial Analytics and GIS)\n",
      "Mastering Tableau 2021: Implement advanced business intelligence techniques and analytics with Tableau, 3rd Edition\n",
      "Docker for Data Science: Building Scalable and Extensible Data Infrastructure Around the Jupyter Notebook Server\n",
      "Data Analysis with Python and PySpark\n",
      "Cracking the Coding Interview: 189 Programming Questions and Solutions\n",
      "Scalable Data Analytics with Azure Data Explorer: Modern ways to query, analyze, and perform real-time data analysis on large volumes of data\n",
      "Hands-On Data Structures and Algorithms with Kotlin: Level up your programming skills by understanding how Kotlin's data structure works\n",
      "DATA SCIENCE WITH PYTHON: Complete Guide To Understanding Data Analytics And Data Science With Python Programming (Code tutorials)\n",
      "Mastering PostgreSQL 13: Build, administer, and maintain database applications efficiently with PostgreSQL 13, 4th Edition\n",
      "The Art of Data Science\n",
      "Bayesian Data Analysis (Chapman & Hall/CRC Texts in Statistical Science)\n",
      "Machine Learning and Data Science: An Introduction to Statistical Learning Methods with R\n",
      "Murach's Python for Data Analysis (Training & Reference)\n",
      "Data Analytics for Absolute Beginners: A Deconstructed Guide to Data Literacy: (Introduction to Data, Data Visualization, Business Intelligence & ... Science, Python & Statistics for Beginners)\n",
      "Data Science for Librarians (Library and Information Science Text Series)\n",
      "Basketball Data Science: With Applications in R (Chapman & Hall/CRC Data Science Series)\n",
      "Python for Geospatial Data Analysis: Theory, Tools, and Practice for Location Intelligence\n",
      "Data Analysis in Sports Science\n",
      "Practical Synthetic Data Generation: Balancing Privacy and the Broad Availability of Data\n",
      "Pattern Recognition and Machine Learning (Information Science and Statistics)\n",
      "Ethical Machines: Your Concise Guide to Totally Unbiased, Transparent, and Respectful AI\n",
      "Python Data Science: Mastering Python for Beginners. A Step-by-Step Guide for Beginners (2022 Crash Course for All)\n",
      "Data Visualization with Python for Beginners: Visualize Your Data using Pandas, Matplotlib and Seaborn (Machine Learning & Data Science for Beginners)\n",
      "Data Science (Chapman & Hall/CRC Data Science Series)\n",
      "Data Democratization with Domo: Bring together every component of your business to make better data-driven decisions using Domo\n",
      "Determann’s Field Guide to Data Privacy Law: International Corporate Compliance (Elgar Compliance Guides)\n",
      "Introduction to Statistics: An Intuitive Guide for Analyzing Data and Unlocking Discoveries\n",
      "The ABCs of Data Science: By Real Data Scientists, For Future Data Scientists (Very Young Professionals)\n",
      "R Statistics Cookbook: Over 100 recipes for performing complex statistical operations with R 3.5\n",
      "Computer Science Unleashed: Harness the Power of Computational Systems\n",
      "Probabilistic Machine Learning: An Introduction (Adaptive Computation and Machine Learning series)\n",
      "End-to-End Data Science with SAS®: A Hands-On Programming Guide\n",
      "An Introduction to Data Science\n"
     ]
    },
    {
     "name": "stderr",
     "output_type": "stream",
     "text": [
      "2022-09-17 22:53:56 [scrapy.core.engine] DEBUG: Crawled (200) <GET https://www.amazon.com/Data-Science-for-Business-audiobook/dp/B07JCFKCCP/ref=sr_1_189?crid=2YKZLS0CJFDGI&keywords=data+science&qid=1663448020&sprefix=data+science%2Caps%2C828&sr=8-189> (referer: https://www.amazon.com/s?k=data+science&s=relevanceblender&page=4&crid=2YKZLS0CJFDGI&qid=1663103507&sprefix=data+science%2Caps%2C828&ref=sr_pg_4)\n",
      "2022-09-17 22:53:57 [scrapy.core.engine] DEBUG: Crawled (200) <GET https://www.amazon.com/Data-Science-Library-Data-Driven-Instruction/dp/1783304596/ref=sr_1_188?crid=2YKZLS0CJFDGI&keywords=data+science&qid=1663448020&sprefix=data+science%2Caps%2C828&sr=8-188> (referer: https://www.amazon.com/s?k=data+science&s=relevanceblender&page=4&crid=2YKZLS0CJFDGI&qid=1663103507&sprefix=data+science%2Caps%2C828&ref=sr_pg_4)\n",
      "2022-09-17 22:53:57 [scrapy.core.engine] DEBUG: Crawled (200) <GET https://www.amazon.com/Foundational-Python-Science-Addison-Wesley-Analytics/dp/0136624359/ref=sr_1_185?crid=2YKZLS0CJFDGI&keywords=data+science&qid=1663448020&sprefix=data+science%2Caps%2C828&sr=8-185> (referer: https://www.amazon.com/s?k=data+science&s=relevanceblender&page=4&crid=2YKZLS0CJFDGI&qid=1663103507&sprefix=data+science%2Caps%2C828&ref=sr_pg_4)\n"
     ]
    },
    {
     "name": "stdout",
     "output_type": "stream",
     "text": [
      "133\n",
      "['\\n            \\n              62%\\n            \\n          '] 4.0 out of 5 stars None\n"
     ]
    },
    {
     "name": "stderr",
     "output_type": "stream",
     "text": [
      "2022-09-17 22:53:57 [scrapy.core.engine] DEBUG: Crawled (200) <GET https://www.amazon.com/Integrating-Data-Bill-Inmon/dp/1634622820/ref=sr_1_186?crid=2YKZLS0CJFDGI&keywords=data+science&qid=1663448020&sprefix=data+science%2Caps%2C828&sr=8-186> (referer: https://www.amazon.com/s?k=data+science&s=relevanceblender&page=4&crid=2YKZLS0CJFDGI&qid=1663103507&sprefix=data+science%2Caps%2C828&ref=sr_pg_4)\n",
      "2022-09-17 22:53:57 [scrapy.downloadermiddlewares.redirect] DEBUG: Redirecting (302) to <GET https://www.amazon.com/Cleaning-Data-Effective-Science-command-line/dp/1801071292/ref=sr_1_180_sspa?crid=2YKZLS0CJFDGI&keywords=data+science&qid=1663448020&sprefix=data+science%2Caps%2C828&sr=8-180-spons&psc=1&spLa=ZW5jcnlwdGVkUXVhbGlmaWVyPUEyTFQ4WFA1VDlXTEJEJmVuY3J5cHRlZElkPUEwNzEwNzI1MVc4U0JCS1YxM1FLUyZlbmNyeXB0ZWRBZElkPUEwNDg2ODcxM1RXSU80VFVZM1dWQSZ3aWRnZXROYW1lPXNwX210ZiZhY3Rpb249Y2xpY2tSZWRpcmVjdCZkb05vdExvZ0NsaWNrPXRydWU=> from <GET https://www.amazon.com/gp/slredirect/picassoRedirect.html/ref=pa_sp_mtf_aps_sr_pg4_1?ie=UTF8&adId=A04868713TWIO4TUY3WVA&url=%2FCleaning-Data-Effective-Science-command-line%2Fdp%2F1801071292%2Fref%3Dsr_1_180_sspa%3Fcrid%3D2YKZLS0CJFDGI%26keywords%3Ddata%2Bscience%26qid%3D1663448020%26sprefix%3Ddata%2Bscience%252Caps%252C828%26sr%3D8-180-spons%26psc%3D1&qualifier=1663448020&id=1964181835629777&widgetName=sp_mtf>\n"
     ]
    },
    {
     "name": "stdout",
     "output_type": "stream",
     "text": [
      "134\n",
      "[] None 9.21 x 0.55 x 6.02 inches\n",
      "135\n",
      "['\\n            \\n              50%\\n            \\n          '] 4.3 out of 5 stars 7 x 0.6 x 9 inches\n"
     ]
    },
    {
     "name": "stderr",
     "output_type": "stream",
     "text": [
      "2022-09-17 22:53:57 [scrapy.core.engine] DEBUG: Crawled (200) <GET https://www.amazon.com/Bioinformatics-Data-Skills-Reproducible-Research/dp/1449367372/ref=sr_1_187?crid=2YKZLS0CJFDGI&keywords=data+science&qid=1663448020&sprefix=data+science%2Caps%2C828&sr=8-187> (referer: https://www.amazon.com/s?k=data+science&s=relevanceblender&page=4&crid=2YKZLS0CJFDGI&qid=1663103507&sprefix=data+science%2Caps%2C828&ref=sr_pg_4)\n",
      "2022-09-17 22:53:57 [scrapy.downloadermiddlewares.redirect] DEBUG: Redirecting (302) to <GET https://www.amazon.com/Hands-Data-Analysis-Pandas-visualization/dp/1800563450/ref=sr_1_179_sspa?crid=2YKZLS0CJFDGI&keywords=data+science&qid=1663448020&sprefix=data+science%2Caps%2C828&sr=8-179-spons&psc=1&spLa=ZW5jcnlwdGVkUXVhbGlmaWVyPUEyTFQ4WFA1VDlXTEJEJmVuY3J5cHRlZElkPUEwNzEwNzI1MVc4U0JCS1YxM1FLUyZlbmNyeXB0ZWRBZElkPUEwOTQ4ODE1MlNWQVlMTkpIOTY2SSZ3aWRnZXROYW1lPXNwX210ZiZhY3Rpb249Y2xpY2tSZWRpcmVjdCZkb05vdExvZ0NsaWNrPXRydWU=> from <GET https://www.amazon.com/gp/slredirect/picassoRedirect.html/ref=pa_sp_mtf_aps_sr_pg4_1?ie=UTF8&adId=A09488152SVAYLNJH966I&url=%2FHands-Data-Analysis-Pandas-visualization%2Fdp%2F1800563450%2Fref%3Dsr_1_179_sspa%3Fcrid%3D2YKZLS0CJFDGI%26keywords%3Ddata%2Bscience%26qid%3D1663448020%26sprefix%3Ddata%2Bscience%252Caps%252C828%26sr%3D8-179-spons%26psc%3D1&qualifier=1663448020&id=1964181835629777&widgetName=sp_mtf>\n",
      "2022-09-17 22:53:57 [scrapy.core.engine] DEBUG: Crawled (200) <GET https://www.amazon.com/Python-Crash-Course-2nd-Edition/dp/1593279280/ref=sr_1_184?crid=2YKZLS0CJFDGI&keywords=data+science&qid=1663448020&sprefix=data+science%2Caps%2C828&sr=8-184> (referer: https://www.amazon.com/s?k=data+science&s=relevanceblender&page=4&crid=2YKZLS0CJFDGI&qid=1663103507&sprefix=data+science%2Caps%2C828&ref=sr_pg_4)\n",
      "2022-09-17 22:53:58 [scrapy.downloadermiddlewares.redirect] DEBUG: Redirecting (302) to <GET https://www.amazon.com/Algorithms-Data-Structures-Massive-Datasets/dp/1617298034/ref=sr_1_178_sspa?crid=2YKZLS0CJFDGI&keywords=data+science&qid=1663448020&sprefix=data+science%2Caps%2C828&sr=8-178-spons&psc=1&spLa=ZW5jcnlwdGVkUXVhbGlmaWVyPUEyTFQ4WFA1VDlXTEJEJmVuY3J5cHRlZElkPUEwNzEwNzI1MVc4U0JCS1YxM1FLUyZlbmNyeXB0ZWRBZElkPUEwODkxNzkzMVhNVUtNOEFOMFUwMCZ3aWRnZXROYW1lPXNwX210ZiZhY3Rpb249Y2xpY2tSZWRpcmVjdCZkb05vdExvZ0NsaWNrPXRydWU=> from <GET https://www.amazon.com/gp/slredirect/picassoRedirect.html/ref=pa_sp_mtf_aps_sr_pg4_1?ie=UTF8&adId=A08917931XMUKM8AN0U00&url=%2FAlgorithms-Data-Structures-Massive-Datasets%2Fdp%2F1617298034%2Fref%3Dsr_1_178_sspa%3Fcrid%3D2YKZLS0CJFDGI%26keywords%3Ddata%2Bscience%26qid%3D1663448020%26sprefix%3Ddata%2Bscience%252Caps%252C828%26sr%3D8-178-spons%26psc%3D1&qualifier=1663448020&id=1964181835629777&widgetName=sp_mtf>\n",
      "2022-09-17 22:53:58 [scrapy.downloadermiddlewares.redirect] DEBUG: Redirecting (302) to <GET https://www.amazon.com/Data-Science-Marketing-Analytics-practical/dp/1800560478/ref=sr_1_177_sspa?crid=2YKZLS0CJFDGI&keywords=data+science&qid=1663448020&sprefix=data+science%2Caps%2C828&sr=8-177-spons&psc=1&spLa=ZW5jcnlwdGVkUXVhbGlmaWVyPUEyTFQ4WFA1VDlXTEJEJmVuY3J5cHRlZElkPUEwNzEwNzI1MVc4U0JCS1YxM1FLUyZlbmNyeXB0ZWRBZElkPUEwMzIyNjI1M05DMEhOUUNYVERNJndpZGdldE5hbWU9c3BfbXRmJmFjdGlvbj1jbGlja1JlZGlyZWN0JmRvTm90TG9nQ2xpY2s9dHJ1ZQ==> from <GET https://www.amazon.com/gp/slredirect/picassoRedirect.html/ref=pa_sp_mtf_aps_sr_pg4_1?ie=UTF8&adId=A03226253NC0HNQCXTDM&url=%2FData-Science-Marketing-Analytics-practical%2Fdp%2F1800560478%2Fref%3Dsr_1_177_sspa%3Fcrid%3D2YKZLS0CJFDGI%26keywords%3Ddata%2Bscience%26qid%3D1663448020%26sprefix%3Ddata%2Bscience%252Caps%252C828%26sr%3D8-177-spons%26psc%3D1&qualifier=1663448020&id=1964181835629777&widgetName=sp_mtf>\n"
     ]
    },
    {
     "name": "stdout",
     "output_type": "stream",
     "text": [
      "136\n",
      "['\\n            \\n              100%\\n            \\n          '] 5.0 out of 5 stars 6 x 0.31 x 9 inches\n",
      "137\n",
      "['\\n            \\n              73%\\n            \\n          '] 4.6 out of 5 stars 7 x 1.09 x 9.19 inches\n",
      "138\n",
      "['\\n            \\n              81%\\n            \\n          '] 4.7 out of 5 stars 7 x 1.2 x 9.25 inches\n"
     ]
    },
    {
     "name": "stderr",
     "output_type": "stream",
     "text": [
      "2022-09-17 22:53:58 [scrapy.core.engine] DEBUG: Crawled (200) <GET https://www.amazon.com/Big-Data-Analytics-Transforming-World/dp/B07K8XDSTT/ref=sr_1_183?crid=2YKZLS0CJFDGI&keywords=data+science&qid=1663448020&sprefix=data+science%2Caps%2C828&sr=8-183> (referer: https://www.amazon.com/s?k=data+science&s=relevanceblender&page=4&crid=2YKZLS0CJFDGI&qid=1663103507&sprefix=data+science%2Caps%2C828&ref=sr_pg_4)\n",
      "2022-09-17 22:53:58 [scrapy.core.engine] DEBUG: Crawled (200) <GET https://www.amazon.com/Data-Science-Business-Jeffrey-Saltz-ebook/dp/B08WPV2457/ref=sr_1_182?crid=2YKZLS0CJFDGI&keywords=data+science&qid=1663448020&sprefix=data+science%2Caps%2C828&sr=8-182> (referer: https://www.amazon.com/s?k=data+science&s=relevanceblender&page=4&crid=2YKZLS0CJFDGI&qid=1663103507&sprefix=data+science%2Caps%2C828&ref=sr_pg_4)\n"
     ]
    },
    {
     "name": "stdout",
     "output_type": "stream",
     "text": [
      "139\n",
      "['\\n            \\n              100%\\n            \\n          '] 4.0 out of 5 stars None\n",
      "140\n",
      "['\\n            \\n              52%\\n            \\n          '] 4.4 out of 5 stars None\n"
     ]
    },
    {
     "name": "stderr",
     "output_type": "stream",
     "text": [
      "2022-09-17 22:53:59 [scrapy.core.engine] DEBUG: Crawled (200) <GET https://www.amazon.com/Esri-Guide-GIS-Analysis-Suitability/dp/1589483057/ref=sr_1_181?crid=2YKZLS0CJFDGI&keywords=data+science&qid=1663448020&sprefix=data+science%2Caps%2C828&sr=8-181> (referer: https://www.amazon.com/s?k=data+science&s=relevanceblender&page=4&crid=2YKZLS0CJFDGI&qid=1663103507&sprefix=data+science%2Caps%2C828&ref=sr_pg_4)\n"
     ]
    },
    {
     "name": "stdout",
     "output_type": "stream",
     "text": [
      "141\n",
      "['\\n            \\n              70%\\n            \\n          '] 4.4 out of 5 stars 9.5 x 1 x 7.75 inches\n"
     ]
    },
    {
     "name": "stderr",
     "output_type": "stream",
     "text": [
      "2022-09-17 22:54:00 [scrapy.core.engine] DEBUG: Crawled (200) <GET https://www.amazon.com/Applied-SQL-Data-Analytics-Workshop/dp/1800203675/ref=sr_1_174?crid=2YKZLS0CJFDGI&keywords=data+science&qid=1663448020&sprefix=data+science%2Caps%2C828&sr=8-174> (referer: https://www.amazon.com/s?k=data+science&s=relevanceblender&page=4&crid=2YKZLS0CJFDGI&qid=1663103507&sprefix=data+science%2Caps%2C828&ref=sr_pg_4)\n",
      "2022-09-17 22:54:00 [scrapy.core.engine] DEBUG: Crawled (200) <GET https://www.amazon.com/Advanced-Algorithms-and-Data-Structures/dp/B09H7NPJJK/ref=sr_1_175?crid=2YKZLS0CJFDGI&keywords=data+science&qid=1663448020&sprefix=data+science%2Caps%2C828&sr=8-175> (referer: https://www.amazon.com/s?k=data+science&s=relevanceblender&page=4&crid=2YKZLS0CJFDGI&qid=1663103507&sprefix=data+science%2Caps%2C828&ref=sr_pg_4)\n",
      "2022-09-17 22:54:00 [scrapy.core.engine] DEBUG: Crawled (200) <GET https://www.amazon.com/Data-Mesh-Delivering-Data-Driven-Value/dp/1492092398/ref=sr_1_176?crid=2YKZLS0CJFDGI&keywords=data+science&qid=1663448020&sprefix=data+science%2Caps%2C828&sr=8-176> (referer: https://www.amazon.com/s?k=data+science&s=relevanceblender&page=4&crid=2YKZLS0CJFDGI&qid=1663103507&sprefix=data+science%2Caps%2C828&ref=sr_pg_4)\n"
     ]
    },
    {
     "name": "stdout",
     "output_type": "stream",
     "text": [
      "142\n",
      "['\\n            \\n              71%\\n            \\n          '] 4.6 out of 5 stars 7.5 x 1.09 x 9.25 inches\n"
     ]
    },
    {
     "name": "stderr",
     "output_type": "stream",
     "text": [
      "2022-09-17 22:54:01 [scrapy.core.engine] DEBUG: Crawled (200) <GET https://www.amazon.com/End-End-Data-Science-Hands/dp/1642958042/ref=sr_1_251?crid=2YKZLS0CJFDGI&keywords=data+science&qid=1663448033&sprefix=data+science%2Caps%2C828&sr=8-251> (referer: https://www.amazon.com/s?k=data+science&s=relevanceblender&page=5&crid=2YKZLS0CJFDGI&qid=1663103507&sprefix=data+science%2Caps%2C828&ref=sr_pg_5)\n"
     ]
    },
    {
     "name": "stdout",
     "output_type": "stream",
     "text": [
      "143\n",
      "['\\n            \\n              62%\\n            \\n          '] 4.2 out of 5 stars None\n"
     ]
    },
    {
     "name": "stderr",
     "output_type": "stream",
     "text": [
      "2022-09-17 22:54:01 [scrapy.core.engine] DEBUG: Crawled (200) <GET https://www.amazon.com/Introduction-Data-Science-Jeffrey-Saltz/dp/150637753X/ref=sr_1_252?crid=2YKZLS0CJFDGI&keywords=data+science&qid=1663448033&sprefix=data+science%2Caps%2C828&sr=8-252> (referer: https://www.amazon.com/s?k=data+science&s=relevanceblender&page=5&crid=2YKZLS0CJFDGI&qid=1663103507&sprefix=data+science%2Caps%2C828&ref=sr_pg_5)\n",
      "2022-09-17 22:54:01 [scrapy.core.engine] DEBUG: Crawled (200) <GET https://www.amazon.com/Probabilistic-Machine-Learning-Introduction-Computation/dp/0262046822/ref=sr_1_250?crid=2YKZLS0CJFDGI&keywords=data+science&qid=1663448033&sprefix=data+science%2Caps%2C828&sr=8-250> (referer: https://www.amazon.com/s?k=data+science&s=relevanceblender&page=5&crid=2YKZLS0CJFDGI&qid=1663103507&sprefix=data+science%2Caps%2C828&ref=sr_pg_5)\n"
     ]
    },
    {
     "name": "stdout",
     "output_type": "stream",
     "text": [
      "144\n",
      "['\\n            \\n              71%\\n            \\n          '] 4.5 out of 5 stars 6.75 x 1 x 9 inches\n",
      "145\n",
      "['\\n            \\n              66%\\n            \\n          '] 4.5 out of 5 stars 7.5 x 0.86 x 9.25 inches\n",
      "146\n",
      "['\\n            \\n              65%\\n            \\n          '] 4.4 out of 5 stars 7.38 x 0.65 x 9.13 inches\n",
      "start_new_page\n",
      "147\n",
      "['\\n            \\n              76%\\n            \\n          '] 4.4 out of 5 stars 8.25 x 1.44 x 9.29 inches\n"
     ]
    },
    {
     "name": "stderr",
     "output_type": "stream",
     "text": [
      "2022-09-17 22:54:05 [scrapy.core.engine] DEBUG: Crawled (200) <GET https://www.amazon.com/Hands-Data-Analysis-Pandas-visualization/dp/1800563450/ref=sr_1_179_sspa?crid=2YKZLS0CJFDGI&keywords=data+science&qid=1663448020&sprefix=data+science%2Caps%2C828&sr=8-179-spons&psc=1&spLa=ZW5jcnlwdGVkUXVhbGlmaWVyPUEyTFQ4WFA1VDlXTEJEJmVuY3J5cHRlZElkPUEwNzEwNzI1MVc4U0JCS1YxM1FLUyZlbmNyeXB0ZWRBZElkPUEwOTQ4ODE1MlNWQVlMTkpIOTY2SSZ3aWRnZXROYW1lPXNwX210ZiZhY3Rpb249Y2xpY2tSZWRpcmVjdCZkb05vdExvZ0NsaWNrPXRydWU=> (referer: https://www.amazon.com/s?k=data+science&s=relevanceblender&page=4&crid=2YKZLS0CJFDGI&qid=1663103507&sprefix=data+science%2Caps%2C828&ref=sr_pg_4)\n",
      "2022-09-17 22:54:05 [scrapy.core.engine] DEBUG: Crawled (200) <GET https://www.amazon.com/Computer-Science-Unleashed-Harness-Computational/dp/0997316055/ref=sr_1_249?crid=2YKZLS0CJFDGI&keywords=data+science&qid=1663448033&sprefix=data+science%2Caps%2C828&sr=8-249> (referer: https://www.amazon.com/s?k=data+science&s=relevanceblender&page=5&crid=2YKZLS0CJFDGI&qid=1663103507&sprefix=data+science%2Caps%2C828&ref=sr_pg_5)\n",
      "2022-09-17 22:54:05 [scrapy.core.engine] DEBUG: Crawled (200) <GET https://www.amazon.com/Cleaning-Data-Effective-Science-command-line/dp/1801071292/ref=sr_1_180_sspa?crid=2YKZLS0CJFDGI&keywords=data+science&qid=1663448020&sprefix=data+science%2Caps%2C828&sr=8-180-spons&psc=1&spLa=ZW5jcnlwdGVkUXVhbGlmaWVyPUEyTFQ4WFA1VDlXTEJEJmVuY3J5cHRlZElkPUEwNzEwNzI1MVc4U0JCS1YxM1FLUyZlbmNyeXB0ZWRBZElkPUEwNDg2ODcxM1RXSU80VFVZM1dWQSZ3aWRnZXROYW1lPXNwX210ZiZhY3Rpb249Y2xpY2tSZWRpcmVjdCZkb05vdExvZ0NsaWNrPXRydWU=> (referer: https://www.amazon.com/s?k=data+science&s=relevanceblender&page=4&crid=2YKZLS0CJFDGI&qid=1663103507&sprefix=data+science%2Caps%2C828&ref=sr_pg_4)\n",
      "2022-09-17 22:54:05 [scrapy.core.engine] DEBUG: Crawled (200) <GET https://www.amazon.com/Statistics-Cookbook-performing-statistical-operations/dp/1789802563/ref=sr_1_248?crid=2YKZLS0CJFDGI&keywords=data+science&qid=1663448033&sprefix=data+science%2Caps%2C828&sr=8-248> (referer: https://www.amazon.com/s?k=data+science&s=relevanceblender&page=5&crid=2YKZLS0CJFDGI&qid=1663103507&sprefix=data+science%2Caps%2C828&ref=sr_pg_5)\n",
      "2022-09-17 22:54:05 [scrapy.core.engine] DEBUG: Crawled (200) <GET https://www.amazon.com/ABCs-Data-Science-Scientists-Professionals/dp/1734276304/ref=sr_1_247?crid=2YKZLS0CJFDGI&keywords=data+science&qid=1663448033&sprefix=data+science%2Caps%2C828&sr=8-247> (referer: https://www.amazon.com/s?k=data+science&s=relevanceblender&page=5&crid=2YKZLS0CJFDGI&qid=1663103507&sprefix=data+science%2Caps%2C828&ref=sr_pg_5)\n",
      "2022-09-17 22:54:05 [scrapy.core.engine] DEBUG: Crawled (200) <GET https://www.amazon.com/Algorithms-Data-Structures-Massive-Datasets/dp/1617298034/ref=sr_1_178_sspa?crid=2YKZLS0CJFDGI&keywords=data+science&qid=1663448020&sprefix=data+science%2Caps%2C828&sr=8-178-spons&psc=1&spLa=ZW5jcnlwdGVkUXVhbGlmaWVyPUEyTFQ4WFA1VDlXTEJEJmVuY3J5cHRlZElkPUEwNzEwNzI1MVc4U0JCS1YxM1FLUyZlbmNyeXB0ZWRBZElkPUEwODkxNzkzMVhNVUtNOEFOMFUwMCZ3aWRnZXROYW1lPXNwX210ZiZhY3Rpb249Y2xpY2tSZWRpcmVjdCZkb05vdExvZ0NsaWNrPXRydWU=> (referer: https://www.amazon.com/s?k=data+science&s=relevanceblender&page=4&crid=2YKZLS0CJFDGI&qid=1663103507&sprefix=data+science%2Caps%2C828&ref=sr_pg_4)\n",
      "2022-09-17 22:54:05 [scrapy.core.engine] DEBUG: Crawled (200) <GET https://www.amazon.com/Data-Science-Marketing-Analytics-practical/dp/1800560478/ref=sr_1_177_sspa?crid=2YKZLS0CJFDGI&keywords=data+science&qid=1663448020&sprefix=data+science%2Caps%2C828&sr=8-177-spons&psc=1&spLa=ZW5jcnlwdGVkUXVhbGlmaWVyPUEyTFQ4WFA1VDlXTEJEJmVuY3J5cHRlZElkPUEwNzEwNzI1MVc4U0JCS1YxM1FLUyZlbmNyeXB0ZWRBZElkPUEwMzIyNjI1M05DMEhOUUNYVERNJndpZGdldE5hbWU9c3BfbXRmJmFjdGlvbj1jbGlja1JlZGlyZWN0JmRvTm90TG9nQ2xpY2s9dHJ1ZQ==> (referer: https://www.amazon.com/s?k=data+science&s=relevanceblender&page=4&crid=2YKZLS0CJFDGI&qid=1663103507&sprefix=data+science%2Caps%2C828&ref=sr_pg_4)\n",
      "2022-09-17 22:54:05 [scrapy.core.engine] DEBUG: Crawled (200) <GET https://www.amazon.com/Introduction-Statistics-Intuitive-Analyzing-Discoveries/dp/1735431109/ref=sr_1_246?crid=2YKZLS0CJFDGI&keywords=data+science&qid=1663448033&sprefix=data+science%2Caps%2C828&sr=8-246> (referer: https://www.amazon.com/s?k=data+science&s=relevanceblender&page=5&crid=2YKZLS0CJFDGI&qid=1663103507&sprefix=data+science%2Caps%2C828&ref=sr_pg_5)\n"
     ]
    },
    {
     "name": "stdout",
     "output_type": "stream",
     "text": [
      "148\n",
      "['\\n            \\n              67%\\n            \\n          '] 4.3 out of 5 stars 7.5 x 1.78 x 9.25 inches\n",
      "149\n",
      "['\\n            \\n              94%\\n            \\n          '] 4.9 out of 5 stars 5.5 x 0.73 x 8.5 inches\n",
      "150\n",
      "['\\n            \\n              92%\\n            \\n          '] 4.8 out of 5 stars 7.5 x 1.13 x 9.25 inches\n",
      "151\n",
      "['\\n            \\n              64%\\n            \\n          '] 4.6 out of 5 stars 7.5 x 1.01 x 9.25 inches\n",
      "152\n",
      "['\\n            \\n              82%\\n            \\n          '] 4.7 out of 5 stars 8.5 x 0.08 x 8.5 inches\n",
      "153\n",
      "['\\n            \\n              61%\\n            \\n          '] 4.6 out of 5 stars 7.5 x 1.44 x 9.25 inches\n",
      "154\n",
      "['\\n            \\n              72%\\n            \\n          '] 4.5 out of 5 stars 6 x 0.58 x 9 inches\n",
      "155\n",
      "['\\n            \\n              38%\\n            \\n          '] 3.8 out of 5 stars 7.38 x 0.8 x 9.25 inches\n"
     ]
    },
    {
     "name": "stderr",
     "output_type": "stream",
     "text": [
      "2022-09-17 22:54:07 [scrapy.core.engine] DEBUG: Crawled (200) <GET https://www.amazon.com/Python-Data-Science-Step-Step-ebook/dp/B09ZSX1LSF/ref=sr_1_241?crid=2YKZLS0CJFDGI&keywords=data+science&qid=1663448033&sprefix=data+science%2Caps%2C828&sr=8-241> (referer: https://www.amazon.com/s?k=data+science&s=relevanceblender&page=5&crid=2YKZLS0CJFDGI&qid=1663103507&sprefix=data+science%2Caps%2C828&ref=sr_pg_5)\n",
      "2022-09-17 22:54:07 [scrapy.core.engine] DEBUG: Crawled (200) <GET https://www.amazon.com/Data-Science-First-Introduction-Chapman/dp/0367524686/ref=sr_1_243?crid=2YKZLS0CJFDGI&keywords=data+science&qid=1663448033&sprefix=data+science%2Caps%2C828&sr=8-243> (referer: https://www.amazon.com/s?k=data+science&s=relevanceblender&page=5&crid=2YKZLS0CJFDGI&qid=1663103507&sprefix=data+science%2Caps%2C828&ref=sr_pg_5)\n",
      "2022-09-17 22:54:07 [scrapy.core.engine] DEBUG: Crawled (200) <GET https://www.amazon.com/Data-Democratization-Domo-component-data-driven/dp/1800568428/ref=sr_1_244?crid=2YKZLS0CJFDGI&keywords=data+science&qid=1663448033&sprefix=data+science%2Caps%2C828&sr=8-244> (referer: https://www.amazon.com/s?k=data+science&s=relevanceblender&page=5&crid=2YKZLS0CJFDGI&qid=1663103507&sprefix=data+science%2Caps%2C828&ref=sr_pg_5)\n"
     ]
    },
    {
     "name": "stdout",
     "output_type": "stream",
     "text": [
      "156\n",
      "['\\n            \\n              100%\\n            \\n          '] 5.0 out of 5 stars None\n"
     ]
    },
    {
     "name": "stderr",
     "output_type": "stream",
     "text": [
      "2022-09-17 22:54:08 [scrapy.core.engine] DEBUG: Crawled (200) <GET https://www.amazon.com/Determanns-Field-Guide-Data-Privacy/dp/1802202927/ref=sr_1_245?crid=2YKZLS0CJFDGI&keywords=data+science&qid=1663448033&sprefix=data+science%2Caps%2C828&sr=8-245> (referer: https://www.amazon.com/s?k=data+science&s=relevanceblender&page=5&crid=2YKZLS0CJFDGI&qid=1663103507&sprefix=data+science%2Caps%2C828&ref=sr_pg_5)\n"
     ]
    },
    {
     "name": "stdout",
     "output_type": "stream",
     "text": [
      "157\n",
      "[] None 7.01 x 1 x 10 inches\n"
     ]
    },
    {
     "name": "stderr",
     "output_type": "stream",
     "text": [
      "2022-09-17 22:54:08 [scrapy.core.engine] DEBUG: Crawled (200) <GET https://www.amazon.com/Data-Visualization-Python-Beginners-Matplotlib/dp/1733042687/ref=sr_1_242?crid=2YKZLS0CJFDGI&keywords=data+science&qid=1663448033&sprefix=data+science%2Caps%2C828&sr=8-242> (referer: https://www.amazon.com/s?k=data+science&s=relevanceblender&page=5&crid=2YKZLS0CJFDGI&qid=1663103507&sprefix=data+science%2Caps%2C828&ref=sr_pg_5)\n"
     ]
    },
    {
     "name": "stdout",
     "output_type": "stream",
     "text": [
      "158\n",
      "['\\n            \\n              78%\\n            \\n          '] 4.8 out of 5 stars 7.5 x 1.3 x 9.25 inches\n"
     ]
    },
    {
     "name": "stderr",
     "output_type": "stream",
     "text": [
      "2022-09-17 22:54:08 [scrapy.core.engine] DEBUG: Crawled (200) <GET https://www.amazon.com/s?k=data+science&s=relevanceblender&page=6&crid=2YKZLS0CJFDGI&qid=1663103507&sprefix=data+science%2Caps%2C828&ref=sr_pg_6> (referer: https://www.amazon.com/Introduction-Data-Science-Jeffrey-Saltz/dp/150637753X/ref=sr_1_252?crid=2YKZLS0CJFDGI&keywords=data+science&qid=1663448033&sprefix=data+science%2Caps%2C828&sr=8-252)\n"
     ]
    },
    {
     "name": "stdout",
     "output_type": "stream",
     "text": [
      "159\n",
      "[] None 5.75 x 0.5 x 8.75 inches\n"
     ]
    },
    {
     "name": "stderr",
     "output_type": "stream",
     "text": [
      "2022-09-17 22:54:09 [scrapy.core.engine] DEBUG: Crawled (200) <GET https://www.amazon.com/Ethical-Machines-Unbiased-Transparent-Respectful/dp/1647822815/ref=sr_1_240?crid=2YKZLS0CJFDGI&keywords=data+science&qid=1663448033&sprefix=data+science%2Caps%2C828&sr=8-240> (referer: https://www.amazon.com/s?k=data+science&s=relevanceblender&page=5&crid=2YKZLS0CJFDGI&qid=1663103507&sprefix=data+science%2Caps%2C828&ref=sr_pg_5)\n",
      "2022-09-17 22:54:09 [scrapy.core.engine] DEBUG: Crawled (200) <GET https://www.amazon.com/Practical-Synthetic-Data-Generation-Availability/dp/1492072745/ref=sr_1_238?crid=2YKZLS0CJFDGI&keywords=data+science&qid=1663448033&sprefix=data+science%2Caps%2C828&sr=8-238> (referer: https://www.amazon.com/s?k=data+science&s=relevanceblender&page=5&crid=2YKZLS0CJFDGI&qid=1663103507&sprefix=data+science%2Caps%2C828&ref=sr_pg_5)\n",
      "2022-09-17 22:54:09 [scrapy.core.engine] DEBUG: Crawled (200) <GET https://www.amazon.com/Pattern-Recognition-Learning-Information-Statistics-ebook/dp/B0BCH3S153/ref=sr_1_239?crid=2YKZLS0CJFDGI&keywords=data+science&qid=1663448033&sprefix=data+science%2Caps%2C828&sr=8-239> (referer: https://www.amazon.com/s?k=data+science&s=relevanceblender&page=5&crid=2YKZLS0CJFDGI&qid=1663103507&sprefix=data+science%2Caps%2C828&ref=sr_pg_5)\n"
     ]
    },
    {
     "name": "stdout",
     "output_type": "stream",
     "text": [
      "160\n",
      "['\\n            \\n              51%\\n            \\n          '] 4.1 out of 5 stars 6 x 0.65 x 9 inches\n",
      "6\n",
      "Ontology-Based Information Retrieval for Healthcare Systems\n",
      "Python Machine Learning: Machine Learning and Deep Learning with Python, scikit-learn, and TensorFlow 2, 3rd Edition\n",
      "Hands-on Programmatic In-house Digital Advertising: Learn Data Design, AI Implementation, Bidding Strategies, and Strategic Thinking (English Edition)\n",
      "Learning Geospatial Analysis with Python: Understand GIS fundamentals and perform remote sensing data analysis using Python 3.7, 3rd Edition\n",
      "Computer Science Unleashed: Harness the Power of Computational Systems\n",
      "161\n",
      "['\\n            \\n              81%\\n            \\n          '] 4.8 out of 5 stars 6.25 x 1 x 9.5 inches\n",
      "162\n",
      "['\\n            \\n              48%\\n            \\n          '] 4.1 out of 5 stars 7 x 0.35 x 9.19 inches\n",
      "Probabilistic Machine Learning: An Introduction (Adaptive Computation and Machine Learning series)\n",
      "End-to-End Data Science with SAS®: A Hands-On Programming Guide\n",
      "An Introduction to Data Science\n",
      "Data Engineering with Python: Work with massive datasets to design data models and automate data pipelines using Python\n",
      "Data Science from Scratch: First Principles with Python\n",
      "163\n",
      "['\\n            \\n              76%\\n            \\n          '] 4.6 out of 5 stars None\n",
      "Data Analytics: Introduction and Guide to Data Science, Analysis, Artificial Intelligence and Machine Learning\n",
      "Machine Learning Bookcamp: Build a portfolio of real-life projects\n",
      "Introduction to Computation and Programming Using Python: With Application to Understanding Data (The MIT Press)\n",
      "The Data Model Resource Book, Vol. 2: A Library of Data Models for Specific Industries\n",
      "Data Science: The Ultimate Guide to Data Analytics, Data Mining, Data Warehousing, Data Visualization, Regression Analysis, Database Querying, Big Data for Business and Machine Learning for Beginners\n",
      "SQL: 3 books 1 - The Ultimate Beginner, Intermediate & Expert Guides To Master SQL Programming Quickly with Practical Exercises\n",
      "Can We Trust AI? (Johns Hopkins Wavelengths)\n",
      "Cloud Scale Analytics with Azure Data Services: Build modern data warehouses on Microsoft Azure\n",
      "W. E. B. Du Bois's Data Portraits: Visualizing Black America\n",
      "Essential PySpark for Scalable Data Analytics: A beginner's guide to harnessing the power and ease of PySpark 3\n",
      "Ethics of Data and Analytics: Concepts and Cases\n",
      "Statistical Rethinking: A Bayesian Course with Examples in R and STAN (Chapman & Hall/CRC Texts in Statistical Science)\n",
      "SQL for Data Analytics: Perform fast and efficient data analysis with the power of SQL\n",
      "Applied Data Science: Lessons Learned for the Data-Driven Business\n",
      "A Criminologist's Guide to R: Crime by the Numbers (Chapman & Hall/CRC The R Series)\n",
      "Marketing Analytics: A Practical Guide to Improving Consumer Insights Using Data Techniques\n",
      "Data Governance For Dummies\n",
      "Data Action: Using Data for Public Good\n",
      "Marketing Data Science: Modeling Techniques in Predictive Analytics with R and Python (FT Press Analytics)\n",
      "Grokking Machine Learning\n",
      "Data Science for Immunologists\n",
      "Data Science, Analytics and Machine Learning with R\n",
      "The Pandas Workshop: A comprehensive guide to using Python for data analysis with real-world case studies\n",
      "Data Visualization: Ultimate Guide to Data Mining and Visualization.\n",
      "Data Modeling for Azure Data Services: Implement professional data design and structures in Azure\n",
      "The TensorFlow Workshop: A hands-on guide to building deep learning models from scratch using real-world datasets\n",
      "Neo4j Graph Data Science Certified: Exam Practice Tests\n",
      "Python Programming For Beginners: The Most Updated Bible to Master Python From Scratch in Less Than 7 Minutes a Day | Learn How to Program With Hands-On Exercises\n",
      "Practical Data Science with R\n",
      "Massive Graph Analytics (Chapman & Hall/CRC Data Science Series)\n",
      "Data Driven Nonprofits\n",
      "Big Data: A Complete Guide to the Basic Concepts in Data Science, Cyber Security, Analytics and Metrics (Big Data and Artificail Intelligence Book 1)\n",
      "Detecting Regime Change in Computational Finance: Data Science, Machine Learning and Algorithmic Trading\n",
      "Machine Learning for Absolute Beginners: Python for Data Science, Book 3\n",
      "Data Mining with Rattle and R: The Art of Excavating Data for Knowledge Discovery (Use R!)\n",
      "Statistics for Beginners in Data Science: Theory and Applications of Essential Statistics Concepts using Python (Machine Learning & Data Science for Beginners)\n",
      "Pre-K-12 Guidelines for Assessment and Instruction in Statistics Education II (GAISE II): A Framework for Statistics and Data Science Education\n",
      "The Data Warehouse Toolkit: The Definitive Guide to Dimensional Modeling, 3rd Edition\n",
      "Data Science in Education Using R\n",
      "Confident Data Skills: How to Work with Data and Futureproof Your Career (Confident Series)\n",
      "Predictive Analytics: Data Mining, Machine Learning and Data Science for Practitioners (Pearson Business Analytics Series)\n",
      "The Art of Machine Learning: Algorithms + Data + R\n",
      "Transformers for Machine Learning: A Deep Dive (Chapman & Hall/CRC Machine Learning & Pattern Recognition)\n",
      "Learning Tableau 2022\n",
      "The Political Philosophy of AI: An Introduction\n",
      "Asking Smarter Questions: How To Be an Agent of Insight (Using Data Better)\n",
      "Causal Inference (The MIT Press Essential Knowledge series)\n",
      "Introduction to Machine Learning\n",
      "Data Analytics: Practical Guide to Leveraging the Power of Algorithms, Data Science, Data Mining, Statistics, Big Data, and Predictive Analysis to Improve Business, Work, and Life\n",
      "PYTHON: Learn Coding Programs with Python Programming and Master Data Analysis & Analytics, Data Science and Machine Learning with the Complete Crash Course for Beginners - 5 Manuscripts in 1 Book\n"
     ]
    },
    {
     "name": "stderr",
     "output_type": "stream",
     "text": [
      "2022-09-17 22:54:10 [scrapy.core.engine] DEBUG: Crawled (200) <GET https://www.amazon.com/Analysis-Sports-Science-Gabriel-Sanders/dp/1718077580/ref=sr_1_237?crid=2YKZLS0CJFDGI&keywords=data+science&qid=1663448033&sprefix=data+science%2Caps%2C828&sr=8-237> (referer: https://www.amazon.com/s?k=data+science&s=relevanceblender&page=5&crid=2YKZLS0CJFDGI&qid=1663103507&sprefix=data+science%2Caps%2C828&ref=sr_pg_5)\n",
      "2022-09-17 22:54:10 [scrapy.core.engine] DEBUG: Crawled (200) <GET https://www.amazon.com/Python-Geospatial-Data-Analysis-Intelligence/dp/109810479X/ref=sr_1_236?crid=2YKZLS0CJFDGI&keywords=data+science&qid=1663448033&sprefix=data+science%2Caps%2C828&sr=8-236> (referer: https://www.amazon.com/s?k=data+science&s=relevanceblender&page=5&crid=2YKZLS0CJFDGI&qid=1663103507&sprefix=data+science%2Caps%2C828&ref=sr_pg_5)\n"
     ]
    },
    {
     "name": "stdout",
     "output_type": "stream",
     "text": [
      "164\n",
      "['\\n            \\n              68%\\n            \\n          '] 4.7 out of 5 stars 6 x 0.31 x 9 inches\n"
     ]
    },
    {
     "name": "stderr",
     "output_type": "stream",
     "text": [
      "2022-09-17 22:54:10 [scrapy.downloadermiddlewares.redirect] DEBUG: Redirecting (302) to <GET https://www.amazon.com/Mastering-PostgreSQL-administer-applications-efficiently/dp/1800567499/ref=sr_1_228_sspa?crid=2YKZLS0CJFDGI&keywords=data+science&qid=1663448033&sprefix=data+science%2Caps%2C828&sr=8-228-spons&psc=1&spLa=ZW5jcnlwdGVkUXVhbGlmaWVyPUEyREY5MEJONUVOQ1NYJmVuY3J5cHRlZElkPUEwNTExNDUyUEQ4Q0g3SkpNQkw3JmVuY3J5cHRlZEFkSWQ9QTAxNjg3MTUyN1VTVTlUTFlINFYyJndpZGdldE5hbWU9c3BfbXRmJmFjdGlvbj1jbGlja1JlZGlyZWN0JmRvTm90TG9nQ2xpY2s9dHJ1ZQ==> from <GET https://www.amazon.com/gp/slredirect/picassoRedirect.html/ref=pa_sp_mtf_aps_sr_pg5_1?ie=UTF8&adId=A016871527USU9TLYH4V2&url=%2FMastering-PostgreSQL-administer-applications-efficiently%2Fdp%2F1800567499%2Fref%3Dsr_1_228_sspa%3Fcrid%3D2YKZLS0CJFDGI%26keywords%3Ddata%2Bscience%26qid%3D1663448033%26sprefix%3Ddata%2Bscience%252Caps%252C828%26sr%3D8-228-spons%26psc%3D1&qualifier=1663448033&id=4081593171667701&widgetName=sp_mtf>\n"
     ]
    },
    {
     "name": "stdout",
     "output_type": "stream",
     "text": [
      "165\n",
      "[] None None\n"
     ]
    },
    {
     "name": "stderr",
     "output_type": "stream",
     "text": [
      "2022-09-17 22:54:11 [scrapy.downloadermiddlewares.redirect] DEBUG: Redirecting (302) to <GET https://www.amazon.com/DATA-SCIENCE-PYTHON-Understanding-Programming/dp/B08BDWY92J/ref=sr_1_227_sspa?crid=2YKZLS0CJFDGI&keywords=data+science&qid=1663448033&sprefix=data+science%2Caps%2C828&sr=8-227-spons&psc=1&spLa=ZW5jcnlwdGVkUXVhbGlmaWVyPUEyREY5MEJONUVOQ1NYJmVuY3J5cHRlZElkPUEwNTExNDUyUEQ4Q0g3SkpNQkw3JmVuY3J5cHRlZEFkSWQ9QTA0OTg0NDMyRjhGNDZBNEJWTEswJndpZGdldE5hbWU9c3BfbXRmJmFjdGlvbj1jbGlja1JlZGlyZWN0JmRvTm90TG9nQ2xpY2s9dHJ1ZQ==> from <GET https://www.amazon.com/gp/slredirect/picassoRedirect.html/ref=pa_sp_mtf_aps_sr_pg5_1?ie=UTF8&adId=A04984432F8F46A4BVLK0&url=%2FDATA-SCIENCE-PYTHON-Understanding-Programming%2Fdp%2FB08BDWY92J%2Fref%3Dsr_1_227_sspa%3Fcrid%3D2YKZLS0CJFDGI%26keywords%3Ddata%2Bscience%26qid%3D1663448033%26sprefix%3Ddata%2Bscience%252Caps%252C828%26sr%3D8-227-spons%26psc%3D1&qualifier=1663448033&id=4081593171667701&widgetName=sp_mtf>\n",
      "2022-09-17 22:54:11 [scrapy.core.engine] DEBUG: Crawled (200) <GET https://www.amazon.com/Data-Science-Librarians-Yunfei-Du/dp/1440871213/ref=sr_1_234?crid=2YKZLS0CJFDGI&keywords=data+science&qid=1663448033&sprefix=data+science%2Caps%2C828&sr=8-234> (referer: https://www.amazon.com/s?k=data+science&s=relevanceblender&page=5&crid=2YKZLS0CJFDGI&qid=1663103507&sprefix=data+science%2Caps%2C828&ref=sr_pg_5)\n",
      "2022-09-17 22:54:11 [scrapy.core.engine] DEBUG: Crawled (200) <GET https://www.amazon.com/Basketball-Data-Science-Applications-Chapman/dp/1138600792/ref=sr_1_235?crid=2YKZLS0CJFDGI&keywords=data+science&qid=1663448033&sprefix=data+science%2Caps%2C828&sr=8-235> (referer: https://www.amazon.com/s?k=data+science&s=relevanceblender&page=5&crid=2YKZLS0CJFDGI&qid=1663103507&sprefix=data+science%2Caps%2C828&ref=sr_pg_5)\n",
      "2022-09-17 22:54:11 [scrapy.downloadermiddlewares.redirect] DEBUG: Redirecting (302) to <GET https://www.amazon.com/Hands-Data-Structures-Algorithms-Kotlin/dp/1788994019/ref=sr_1_226_sspa?crid=2YKZLS0CJFDGI&keywords=data+science&qid=1663448033&sprefix=data+science%2Caps%2C828&sr=8-226-spons&psc=1&spLa=ZW5jcnlwdGVkUXVhbGlmaWVyPUEyREY5MEJONUVOQ1NYJmVuY3J5cHRlZElkPUEwNTExNDUyUEQ4Q0g3SkpNQkw3JmVuY3J5cHRlZEFkSWQ9QTA0Njg0MzVBQ1NFRE1VUElBNTEmd2lkZ2V0TmFtZT1zcF9tdGYmYWN0aW9uPWNsaWNrUmVkaXJlY3QmZG9Ob3RMb2dDbGljaz10cnVl> from <GET https://www.amazon.com/gp/slredirect/picassoRedirect.html/ref=pa_sp_mtf_aps_sr_pg5_1?ie=UTF8&adId=A0468435ACSEDMUPIA51&url=%2FHands-Data-Structures-Algorithms-Kotlin%2Fdp%2F1788994019%2Fref%3Dsr_1_226_sspa%3Fcrid%3D2YKZLS0CJFDGI%26keywords%3Ddata%2Bscience%26qid%3D1663448033%26sprefix%3Ddata%2Bscience%252Caps%252C828%26sr%3D8-226-spons%26psc%3D1&qualifier=1663448033&id=4081593171667701&widgetName=sp_mtf>\n",
      "2022-09-17 22:54:11 [scrapy.downloadermiddlewares.redirect] DEBUG: Redirecting (302) to <GET https://www.amazon.com/Scalable-Data-Analytics-Azure-Explorer/dp/1801078548/ref=sr_1_225_sspa?crid=2YKZLS0CJFDGI&keywords=data+science&qid=1663448033&sprefix=data+science%2Caps%2C828&sr=8-225-spons&psc=1&spLa=ZW5jcnlwdGVkUXVhbGlmaWVyPUEyREY5MEJONUVOQ1NYJmVuY3J5cHRlZElkPUEwNTExNDUyUEQ4Q0g3SkpNQkw3JmVuY3J5cHRlZEFkSWQ9QTA1NDAwMjMxMTc2OVlETlhMRVk5JndpZGdldE5hbWU9c3BfbXRmJmFjdGlvbj1jbGlja1JlZGlyZWN0JmRvTm90TG9nQ2xpY2s9dHJ1ZQ==> from <GET https://www.amazon.com/gp/slredirect/picassoRedirect.html/ref=pa_sp_mtf_aps_sr_pg5_1?ie=UTF8&adId=A054002311769YDNXLEY9&url=%2FScalable-Data-Analytics-Azure-Explorer%2Fdp%2F1801078548%2Fref%3Dsr_1_225_sspa%3Fcrid%3D2YKZLS0CJFDGI%26keywords%3Ddata%2Bscience%26qid%3D1663448033%26sprefix%3Ddata%2Bscience%252Caps%252C828%26sr%3D8-225-spons%26psc%3D1&qualifier=1663448033&id=4081593171667701&widgetName=sp_mtf>\n",
      "2022-09-17 22:54:11 [scrapy.core.engine] DEBUG: Crawled (200) <GET https://www.amazon.com/Data-Analytics-Absolute-Beginners-Deconstructed/dp/1081762462/ref=sr_1_233?crid=2YKZLS0CJFDGI&keywords=data+science&qid=1663448033&sprefix=data+science%2Caps%2C828&sr=8-233> (referer: https://www.amazon.com/s?k=data+science&s=relevanceblender&page=5&crid=2YKZLS0CJFDGI&qid=1663103507&sprefix=data+science%2Caps%2C828&ref=sr_pg_5)\n"
     ]
    },
    {
     "name": "stdout",
     "output_type": "stream",
     "text": [
      "166\n",
      "['\\n            \\n              100%\\n            \\n          '] 5.0 out of 5 stars 7 x 0.41 x 10 inches\n"
     ]
    },
    {
     "name": "stderr",
     "output_type": "stream",
     "text": [
      "2022-09-17 22:54:11 [scrapy.core.engine] DEBUG: Crawled (200) <GET https://www.amazon.com/Machine-Learning-Data-Science-Introduction-ebook/dp/B015VGLGLE/ref=sr_1_231?crid=2YKZLS0CJFDGI&keywords=data+science&qid=1663448033&sprefix=data+science%2Caps%2C828&sr=8-231> (referer: https://www.amazon.com/s?k=data+science&s=relevanceblender&page=5&crid=2YKZLS0CJFDGI&qid=1663103507&sprefix=data+science%2Caps%2C828&ref=sr_pg_5)\n",
      "2022-09-17 22:54:11 [scrapy.core.engine] DEBUG: Crawled (200) <GET https://www.amazon.com/Bayesian-Analysis-Chapman-Statistical-Science/dp/1439840954/ref=sr_1_230?crid=2YKZLS0CJFDGI&keywords=data+science&qid=1663448033&sprefix=data+science%2Caps%2C828&sr=8-230> (referer: https://www.amazon.com/s?k=data+science&s=relevanceblender&page=5&crid=2YKZLS0CJFDGI&qid=1663103507&sprefix=data+science%2Caps%2C828&ref=sr_pg_5)\n"
     ]
    },
    {
     "name": "stdout",
     "output_type": "stream",
     "text": [
      "167\n",
      "['\\n            \\n              61%\\n            \\n          '] 4.1 out of 5 stars 6.25 x 0.5 x 9.5 inches\n"
     ]
    },
    {
     "name": "stderr",
     "output_type": "stream",
     "text": [
      "2022-09-17 22:54:12 [scrapy.core.engine] DEBUG: Crawled (200) <GET https://www.amazon.com/Murachs-Python-Analysis-Scott-McCoy/dp/1943872767/ref=sr_1_232?crid=2YKZLS0CJFDGI&keywords=data+science&qid=1663448033&sprefix=data+science%2Caps%2C828&sr=8-232> (referer: https://www.amazon.com/s?k=data+science&s=relevanceblender&page=5&crid=2YKZLS0CJFDGI&qid=1663103507&sprefix=data+science%2Caps%2C828&ref=sr_pg_5)\n"
     ]
    },
    {
     "name": "stdout",
     "output_type": "stream",
     "text": [
      "168\n",
      "['\\n            \\n              67%\\n            \\n          '] 4.4 out of 5 stars 6 x 0.39 x 9 inches\n",
      "169\n",
      "['\\n            \\n              74%\\n            \\n          '] 4.7 out of 5 stars None\n",
      "170\n",
      "['\\n            \\n              81%\\n            \\n          '] 4.7 out of 5 stars 7.5 x 1.25 x 10.25 inches\n",
      "171\n",
      "['\\n            \\n              69%\\n            \\n          '] 4.6 out of 5 stars 7.75 x 1.5 x 9.75 inches\n"
     ]
    },
    {
     "name": "stderr",
     "output_type": "stream",
     "text": [
      "2022-09-17 22:54:13 [scrapy.core.engine] DEBUG: Crawled (200) <GET https://www.amazon.com/Art-Data-Science-Roger-Peng/dp/1365061469/ref=sr_1_229?crid=2YKZLS0CJFDGI&keywords=data+science&qid=1663448033&sprefix=data+science%2Caps%2C828&sr=8-229> (referer: https://www.amazon.com/s?k=data+science&s=relevanceblender&page=5&crid=2YKZLS0CJFDGI&qid=1663103507&sprefix=data+science%2Caps%2C828&ref=sr_pg_5)\n"
     ]
    },
    {
     "name": "stdout",
     "output_type": "stream",
     "text": [
      "172\n",
      "['\\n            \\n              73%\\n            \\n          '] 4.6 out of 5 stars 6 x 0.43 x 9 inches\n"
     ]
    },
    {
     "name": "stderr",
     "output_type": "stream",
     "text": [
      "2022-09-17 22:54:13 [scrapy.core.engine] DEBUG: Crawled (200) <GET https://www.amazon.com/Cracking-Coding-Interview-Programming-Questions/dp/0984782850/ref=sr_1_224?crid=2YKZLS0CJFDGI&keywords=data+science&qid=1663448033&sprefix=data+science%2Caps%2C828&sr=8-224> (referer: https://www.amazon.com/s?k=data+science&s=relevanceblender&page=5&crid=2YKZLS0CJFDGI&qid=1663103507&sprefix=data+science%2Caps%2C828&ref=sr_pg_5)\n",
      "2022-09-17 22:54:14 [scrapy.core.engine] DEBUG: Crawled (200) <GET https://www.amazon.com/Docker-Data-Science-Extensible-Infrastructure/dp/1484230116/ref=sr_1_222?crid=2YKZLS0CJFDGI&keywords=data+science&qid=1663448033&sprefix=data+science%2Caps%2C828&sr=8-222> (referer: https://www.amazon.com/s?k=data+science&s=relevanceblender&page=5&crid=2YKZLS0CJFDGI&qid=1663103507&sprefix=data+science%2Caps%2C828&ref=sr_pg_5)\n"
     ]
    },
    {
     "name": "stdout",
     "output_type": "stream",
     "text": [
      "173\n",
      "['\\n            \\n              81%\\n            \\n          '] 4.7 out of 5 stars 7 x 1.59 x 10 inches\n"
     ]
    },
    {
     "name": "stderr",
     "output_type": "stream",
     "text": [
      "2022-09-17 22:54:14 [scrapy.core.engine] DEBUG: Crawled (200) <GET https://www.amazon.com/Mastering-PostgreSQL-administer-applications-efficiently/dp/1800567499/ref=sr_1_228_sspa?crid=2YKZLS0CJFDGI&keywords=data+science&qid=1663448033&sprefix=data+science%2Caps%2C828&sr=8-228-spons&psc=1&spLa=ZW5jcnlwdGVkUXVhbGlmaWVyPUEyREY5MEJONUVOQ1NYJmVuY3J5cHRlZElkPUEwNTExNDUyUEQ4Q0g3SkpNQkw3JmVuY3J5cHRlZEFkSWQ9QTAxNjg3MTUyN1VTVTlUTFlINFYyJndpZGdldE5hbWU9c3BfbXRmJmFjdGlvbj1jbGlja1JlZGlyZWN0JmRvTm90TG9nQ2xpY2s9dHJ1ZQ==> (referer: https://www.amazon.com/s?k=data+science&s=relevanceblender&page=5&crid=2YKZLS0CJFDGI&qid=1663103507&sprefix=data+science%2Caps%2C828&ref=sr_pg_5)\n",
      "2022-09-17 22:54:14 [scrapy.core.engine] DEBUG: Crawled (200) <GET https://www.amazon.com/Analysis-Python-PySpark-Jonathan-Rioux/dp/1617297208/ref=sr_1_223?crid=2YKZLS0CJFDGI&keywords=data+science&qid=1663448033&sprefix=data+science%2Caps%2C828&sr=8-223> (referer: https://www.amazon.com/s?k=data+science&s=relevanceblender&page=5&crid=2YKZLS0CJFDGI&qid=1663103507&sprefix=data+science%2Caps%2C828&ref=sr_pg_5)\n",
      "2022-09-17 22:54:14 [scrapy.core.engine] DEBUG: Crawled (200) <GET https://www.amazon.com/PYTHON-Programming-Analytics-Beginners-Manuscripts/dp/B09NT7WVT5/ref=sr_1_300?crid=2YKZLS0CJFDGI&keywords=data+science&qid=1663448047&sprefix=data+science%2Caps%2C828&sr=8-300> (referer: https://www.amazon.com/s?k=data+science&s=relevanceblender&page=6&crid=2YKZLS0CJFDGI&qid=1663103507&sprefix=data+science%2Caps%2C828&ref=sr_pg_6)\n"
     ]
    },
    {
     "name": "stdout",
     "output_type": "stream",
     "text": [
      "174\n",
      "['\\n            \\n              29%\\n            \\n          '] 3.7 out of 5 stars 6.1 x 0.64 x 9.25 inches\n",
      "175\n",
      "['\\n            \\n              64%\\n            \\n          '] 4.2 out of 5 stars 7.5 x 1.08 x 9.25 inches\n",
      "176\n",
      "['\\n            \\n              80%\\n            \\n          '] 4.8 out of 5 stars 7.38 x 1 x 9.25 inches\n",
      "177\n",
      "['\\n            \\n              61%\\n            \\n          '] 4.2 out of 5 stars 8 x 0.91 x 10 inches\n"
     ]
    },
    {
     "name": "stderr",
     "output_type": "stream",
     "text": [
      "2022-09-17 22:54:18 [scrapy.core.engine] DEBUG: Crawled (200) <GET https://www.amazon.com/DATA-SCIENCE-PYTHON-Understanding-Programming/dp/B08BDWY92J/ref=sr_1_227_sspa?crid=2YKZLS0CJFDGI&keywords=data+science&qid=1663448033&sprefix=data+science%2Caps%2C828&sr=8-227-spons&psc=1&spLa=ZW5jcnlwdGVkUXVhbGlmaWVyPUEyREY5MEJONUVOQ1NYJmVuY3J5cHRlZElkPUEwNTExNDUyUEQ4Q0g3SkpNQkw3JmVuY3J5cHRlZEFkSWQ9QTA0OTg0NDMyRjhGNDZBNEJWTEswJndpZGdldE5hbWU9c3BfbXRmJmFjdGlvbj1jbGlja1JlZGlyZWN0JmRvTm90TG9nQ2xpY2s9dHJ1ZQ==> (referer: https://www.amazon.com/s?k=data+science&s=relevanceblender&page=5&crid=2YKZLS0CJFDGI&qid=1663103507&sprefix=data+science%2Caps%2C828&ref=sr_pg_5)\n",
      "2022-09-17 22:54:18 [scrapy.core.engine] DEBUG: Crawled (200) <GET https://www.amazon.com/Data-Analytics-Leveraging-Algorithms-Statistics/dp/1544603975/ref=sr_1_299?crid=2YKZLS0CJFDGI&keywords=data+science&qid=1663448047&sprefix=data+science%2Caps%2C828&sr=8-299> (referer: https://www.amazon.com/s?k=data+science&s=relevanceblender&page=6&crid=2YKZLS0CJFDGI&qid=1663103507&sprefix=data+science%2Caps%2C828&ref=sr_pg_6)\n",
      "2022-09-17 22:54:18 [scrapy.core.engine] DEBUG: Crawled (200) <GET https://www.amazon.com/Introduction-Machine-Learning-Etienne-Bernard/dp/1579550487/ref=sr_1_298?crid=2YKZLS0CJFDGI&keywords=data+science&qid=1663448047&sprefix=data+science%2Caps%2C828&sr=8-298> (referer: https://www.amazon.com/s?k=data+science&s=relevanceblender&page=6&crid=2YKZLS0CJFDGI&qid=1663103507&sprefix=data+science%2Caps%2C828&ref=sr_pg_6)\n",
      "2022-09-17 22:54:18 [scrapy.core.engine] DEBUG: Crawled (200) <GET https://www.amazon.com/Causal-Inference-Press-Essential-Knowledge-ebook/dp/B0B1BTJ4BL/ref=sr_1_297?crid=2YKZLS0CJFDGI&keywords=data+science&qid=1663448047&sprefix=data+science%2Caps%2C828&sr=8-297> (referer: https://www.amazon.com/s?k=data+science&s=relevanceblender&page=6&crid=2YKZLS0CJFDGI&qid=1663103507&sprefix=data+science%2Caps%2C828&ref=sr_pg_6)\n",
      "2022-09-17 22:54:18 [scrapy.core.engine] DEBUG: Crawled (200) <GET https://www.amazon.com/Hands-Data-Structures-Algorithms-Kotlin/dp/1788994019/ref=sr_1_226_sspa?crid=2YKZLS0CJFDGI&keywords=data+science&qid=1663448033&sprefix=data+science%2Caps%2C828&sr=8-226-spons&psc=1&spLa=ZW5jcnlwdGVkUXVhbGlmaWVyPUEyREY5MEJONUVOQ1NYJmVuY3J5cHRlZElkPUEwNTExNDUyUEQ4Q0g3SkpNQkw3JmVuY3J5cHRlZEFkSWQ9QTA0Njg0MzVBQ1NFRE1VUElBNTEmd2lkZ2V0TmFtZT1zcF9tdGYmYWN0aW9uPWNsaWNrUmVkaXJlY3QmZG9Ob3RMb2dDbGljaz10cnVl> (referer: https://www.amazon.com/s?k=data+science&s=relevanceblender&page=5&crid=2YKZLS0CJFDGI&qid=1663103507&sprefix=data+science%2Caps%2C828&ref=sr_pg_5)\n",
      "2022-09-17 22:54:18 [scrapy.core.engine] DEBUG: Crawled (200) <GET https://www.amazon.com/Asking-Smarter-Questions-Insight-Better/dp/103211116X/ref=sr_1_296?crid=2YKZLS0CJFDGI&keywords=data+science&qid=1663448047&sprefix=data+science%2Caps%2C828&sr=8-296> (referer: https://www.amazon.com/s?k=data+science&s=relevanceblender&page=6&crid=2YKZLS0CJFDGI&qid=1663103507&sprefix=data+science%2Caps%2C828&ref=sr_pg_6)\n",
      "2022-09-17 22:54:18 [scrapy.core.engine] DEBUG: Crawled (200) <GET https://www.amazon.com/Scalable-Data-Analytics-Azure-Explorer/dp/1801078548/ref=sr_1_225_sspa?crid=2YKZLS0CJFDGI&keywords=data+science&qid=1663448033&sprefix=data+science%2Caps%2C828&sr=8-225-spons&psc=1&spLa=ZW5jcnlwdGVkUXVhbGlmaWVyPUEyREY5MEJONUVOQ1NYJmVuY3J5cHRlZElkPUEwNTExNDUyUEQ4Q0g3SkpNQkw3JmVuY3J5cHRlZEFkSWQ9QTA1NDAwMjMxMTc2OVlETlhMRVk5JndpZGdldE5hbWU9c3BfbXRmJmFjdGlvbj1jbGlja1JlZGlyZWN0JmRvTm90TG9nQ2xpY2s9dHJ1ZQ==> (referer: https://www.amazon.com/s?k=data+science&s=relevanceblender&page=5&crid=2YKZLS0CJFDGI&qid=1663103507&sprefix=data+science%2Caps%2C828&ref=sr_pg_5)\n",
      "2022-09-17 22:54:18 [scrapy.core.engine] DEBUG: Crawled (200) <GET https://www.amazon.com/Political-Philosophy-AI-Introduction/dp/1509548548/ref=sr_1_295?crid=2YKZLS0CJFDGI&keywords=data+science&qid=1663448047&sprefix=data+science%2Caps%2C828&sr=8-295> (referer: https://www.amazon.com/s?k=data+science&s=relevanceblender&page=6&crid=2YKZLS0CJFDGI&qid=1663103507&sprefix=data+science%2Caps%2C828&ref=sr_pg_6)\n"
     ]
    },
    {
     "name": "stdout",
     "output_type": "stream",
     "text": [
      "178\n",
      "[] None 6 x 0.35 x 9 inches\n",
      "179\n",
      "['\\n            \\n              50%\\n            \\n          '] 3.7 out of 5 stars 6 x 0.64 x 9 inches\n",
      "180\n",
      "['\\n            \\n              70%\\n            \\n          '] 4.4 out of 5 stars 7 x 0.86 x 10 inches\n",
      "181\n",
      "[] None None\n",
      "182\n",
      "['\\n            \\n              65%\\n            \\n          '] 3.6 out of 5 stars 7.5 x 0.5 x 9.25 inches\n",
      "183\n",
      "[] None 5.06 x 0.64 x 7.81 inches\n",
      "184\n",
      "['\\n            \\n              100%\\n            \\n          '] 5.0 out of 5 stars 7.5 x 0.82 x 9.25 inches\n",
      "185\n",
      "['\\n            \\n              52%\\n            \\n          '] 3.7 out of 5 stars 5.4 x 0.7 x 8.5 inches\n"
     ]
    },
    {
     "name": "stderr",
     "output_type": "stream",
     "text": [
      "2022-09-17 22:54:21 [scrapy.core.engine] DEBUG: Crawled (200) <GET https://www.amazon.com/Transformers-Machine-Learning-Chapman-Recognition/dp/0367767341/ref=sr_1_293?crid=2YKZLS0CJFDGI&keywords=data+science&qid=1663448047&sprefix=data+science%2Caps%2C828&sr=8-293> (referer: https://www.amazon.com/s?k=data+science&s=relevanceblender&page=6&crid=2YKZLS0CJFDGI&qid=1663103507&sprefix=data+science%2Caps%2C828&ref=sr_pg_6)\n",
      "2022-09-17 22:54:21 [scrapy.core.engine] DEBUG: Crawled (200) <GET https://www.amazon.com/Art-Machine-Learning-Algorithms-Data-ebook/dp/B09BKK9K48/ref=sr_1_292?crid=2YKZLS0CJFDGI&keywords=data+science&qid=1663448047&sprefix=data+science%2Caps%2C828&sr=8-292> (referer: https://www.amazon.com/s?k=data+science&s=relevanceblender&page=6&crid=2YKZLS0CJFDGI&qid=1663103507&sprefix=data+science%2Caps%2C828&ref=sr_pg_6)\n",
      "2022-09-17 22:54:21 [scrapy.core.engine] DEBUG: Crawled (200) <GET https://www.amazon.com/Predictive-Analytics-Machine-Learning-Practitioners/dp/0136738516/ref=sr_1_291?crid=2YKZLS0CJFDGI&keywords=data+science&qid=1663448047&sprefix=data+science%2Caps%2C828&sr=8-291> (referer: https://www.amazon.com/s?k=data+science&s=relevanceblender&page=6&crid=2YKZLS0CJFDGI&qid=1663103507&sprefix=data+science%2Caps%2C828&ref=sr_pg_6)\n",
      "2022-09-17 22:54:21 [scrapy.core.engine] DEBUG: Crawled (200) <GET https://www.amazon.com/Guidelines-Assessment-Instruction-Statistics-Education/dp/1734223510/ref=sr_1_287?crid=2YKZLS0CJFDGI&keywords=data+science&qid=1663448047&sprefix=data+science%2Caps%2C828&sr=8-287> (referer: https://www.amazon.com/s?k=data+science&s=relevanceblender&page=6&crid=2YKZLS0CJFDGI&qid=1663103507&sprefix=data+science%2Caps%2C828&ref=sr_pg_6)\n"
     ]
    },
    {
     "name": "stdout",
     "output_type": "stream",
     "text": [
      "186\n",
      "['\\n            \\n              68%\\n            \\n          '] 3.9 out of 5 stars 6.1 x 0.7 x 9.2 inches\n",
      "187\n",
      "[] None None\n"
     ]
    },
    {
     "name": "stderr",
     "output_type": "stream",
     "text": [
      "2022-09-17 22:54:21 [scrapy.core.engine] DEBUG: Crawled (200) <GET https://www.amazon.com/Confident-Data-Skills-Futureproof-Career/dp/1789664381/ref=sr_1_290?crid=2YKZLS0CJFDGI&keywords=data+science&qid=1663448047&sprefix=data+science%2Caps%2C828&sr=8-290> (referer: https://www.amazon.com/s?k=data+science&s=relevanceblender&page=6&crid=2YKZLS0CJFDGI&qid=1663103507&sprefix=data+science%2Caps%2C828&ref=sr_pg_6)\n",
      "2022-09-17 22:54:21 [scrapy.core.engine] DEBUG: Crawled (200) <GET https://www.amazon.com/Learning-Tableau-2022-Joshua-Milligan/dp/1801072329/ref=sr_1_294?crid=2YKZLS0CJFDGI&keywords=data+science&qid=1663448047&sprefix=data+science%2Caps%2C828&sr=8-294> (referer: https://www.amazon.com/s?k=data+science&s=relevanceblender&page=6&crid=2YKZLS0CJFDGI&qid=1663103507&sprefix=data+science%2Caps%2C828&ref=sr_pg_6)\n"
     ]
    },
    {
     "name": "stdout",
     "output_type": "stream",
     "text": [
      "188\n",
      "['\\n            \\n              60%\\n            \\n          '] 4.1 out of 5 stars 5.95 x 1.1 x 8.9 inches\n"
     ]
    },
    {
     "name": "stderr",
     "output_type": "stream",
     "text": [
      "2022-09-17 22:54:22 [scrapy.core.engine] DEBUG: Crawled (200) <GET https://www.amazon.com/Data-Warehouse-Toolkit-Definitive-Dimensional/dp/1118530802/ref=sr_1_288?crid=2YKZLS0CJFDGI&keywords=data+science&qid=1663448047&sprefix=data+science%2Caps%2C828&sr=8-288> (referer: https://www.amazon.com/s?k=data+science&s=relevanceblender&page=6&crid=2YKZLS0CJFDGI&qid=1663103507&sprefix=data+science%2Caps%2C828&ref=sr_pg_6)\n",
      "2022-09-17 22:54:22 [scrapy.core.engine] DEBUG: Crawled (200) <GET https://www.amazon.com/Data-Science-Education-Using-R/dp/0367422255/ref=sr_1_289?crid=2YKZLS0CJFDGI&keywords=data+science&qid=1663448047&sprefix=data+science%2Caps%2C828&sr=8-289> (referer: https://www.amazon.com/s?k=data+science&s=relevanceblender&page=6&crid=2YKZLS0CJFDGI&qid=1663103507&sprefix=data+science%2Caps%2C828&ref=sr_pg_6)\n"
     ]
    },
    {
     "name": "stdout",
     "output_type": "stream",
     "text": [
      "189\n",
      "['\\n            \\n              100%\\n            \\n          '] 5.0 out of 5 stars 8.5 x 0.28 x 11 inches\n",
      "190\n",
      "['\\n            \\n              66%\\n            \\n          '] 4.7 out of 5 stars 5.51 x 0.79 x 8.46 inches\n",
      "191\n",
      "['\\n            \\n              100%\\n            \\n          '] 5.0 out of 5 stars 7.5 x 1.28 x 9.25 inches\n",
      "192\n",
      "['\\n            \\n              78%\\n            \\n          '] 4.7 out of 5 stars 7.38 x 1.36 x 9.25 inches\n",
      "193\n",
      "['\\n            \\n              73%\\n            \\n          '] 4.6 out of 5 stars 6.85 x 0.72 x 9.69 inches\n"
     ]
    },
    {
     "name": "stderr",
     "output_type": "stream",
     "text": [
      "2022-09-17 22:54:24 [scrapy.core.engine] DEBUG: Crawled (200) <GET https://www.amazon.com/Data-Mining-Rattle-Excavating-Knowledge/dp/1441998896/ref=sr_1_285?crid=2YKZLS0CJFDGI&keywords=data+science&qid=1663448047&sprefix=data+science%2Caps%2C828&sr=8-285> (referer: https://www.amazon.com/s?k=data+science&s=relevanceblender&page=6&crid=2YKZLS0CJFDGI&qid=1663103507&sprefix=data+science%2Caps%2C828&ref=sr_pg_6)\n",
      "2022-09-17 22:54:24 [scrapy.core.engine] DEBUG: Crawled (200) <GET https://www.amazon.com/Statistics-Beginners-Data-Science-Applications/dp/1734790113/ref=sr_1_286?crid=2YKZLS0CJFDGI&keywords=data+science&qid=1663448047&sprefix=data+science%2Caps%2C828&sr=8-286> (referer: https://www.amazon.com/s?k=data+science&s=relevanceblender&page=6&crid=2YKZLS0CJFDGI&qid=1663103507&sprefix=data+science%2Caps%2C828&ref=sr_pg_6)\n",
      "2022-09-17 22:54:24 [scrapy.core.engine] DEBUG: Crawled (200) <GET https://www.amazon.com/Machine-Learning-Absolute-Beginners-Science/dp/B09QBPJZ9D/ref=sr_1_284?crid=2YKZLS0CJFDGI&keywords=data+science&qid=1663448047&sprefix=data+science%2Caps%2C828&sr=8-284> (referer: https://www.amazon.com/s?k=data+science&s=relevanceblender&page=6&crid=2YKZLS0CJFDGI&qid=1663103507&sprefix=data+science%2Caps%2C828&ref=sr_pg_6)\n"
     ]
    },
    {
     "name": "stdout",
     "output_type": "stream",
     "text": [
      "194\n",
      "['\\n            \\n              68%\\n            \\n          '] 4.3 out of 5 stars 6.1 x 0.93 x 9.25 inches\n"
     ]
    },
    {
     "name": "stderr",
     "output_type": "stream",
     "text": [
      "2022-09-17 22:54:24 [scrapy.downloadermiddlewares.redirect] DEBUG: Redirecting (302) to <GET https://www.amazon.com/TensorFlow-Workshop-hands-building-real-world/dp/1800205252/ref=sr_1_276_sspa?crid=2YKZLS0CJFDGI&keywords=data+science&qid=1663448047&sprefix=data+science%2Caps%2C828&sr=8-276-spons&psc=1&spLa=ZW5jcnlwdGVkUXVhbGlmaWVyPUExWjNRTElUT0E2N0NTJmVuY3J5cHRlZElkPUEwNDk3NjY1MTlMMk9ZUDlMUldKVyZlbmNyeXB0ZWRBZElkPUEwOTkwOTM1M1BNNDhOQzJPVFpHTSZ3aWRnZXROYW1lPXNwX210ZiZhY3Rpb249Y2xpY2tSZWRpcmVjdCZkb05vdExvZ0NsaWNrPXRydWU=> from <GET https://www.amazon.com/gp/slredirect/picassoRedirect.html/ref=pa_sp_mtf_aps_sr_pg6_1?ie=UTF8&adId=A09909353PM48NC2OTZGM&url=%2FTensorFlow-Workshop-hands-building-real-world%2Fdp%2F1800205252%2Fref%3Dsr_1_276_sspa%3Fcrid%3D2YKZLS0CJFDGI%26keywords%3Ddata%2Bscience%26qid%3D1663448047%26sprefix%3Ddata%2Bscience%252Caps%252C828%26sr%3D8-276-spons%26psc%3D1&qualifier=1663448047&id=1286096346710520&widgetName=sp_mtf>\n"
     ]
    },
    {
     "name": "stdout",
     "output_type": "stream",
     "text": [
      "195\n",
      "['\\n            \\n              69%\\n            \\n          '] 4.3 out of 5 stars 6 x 0.43 x 9 inches\n",
      "196\n",
      "['\\n            \\n              68%\\n            \\n          '] 4.5 out of 5 stars None\n"
     ]
    },
    {
     "name": "stderr",
     "output_type": "stream",
     "text": [
      "2022-09-17 22:54:24 [scrapy.core.engine] DEBUG: Crawled (200) <GET https://www.amazon.com/Detecting-Regime-Change-Computational-Finance/dp/0367540959/ref=sr_1_283?crid=2YKZLS0CJFDGI&keywords=data+science&qid=1663448047&sprefix=data+science%2Caps%2C828&sr=8-283> (referer: https://www.amazon.com/s?k=data+science&s=relevanceblender&page=6&crid=2YKZLS0CJFDGI&qid=1663103507&sprefix=data+science%2Caps%2C828&ref=sr_pg_6)\n",
      "2022-09-17 22:54:25 [scrapy.downloadermiddlewares.redirect] DEBUG: Redirecting (302) to <GET https://www.amazon.com/Data-Modeling-Azure-Services-professional/dp/1801077347/ref=sr_1_275_sspa?crid=2YKZLS0CJFDGI&keywords=data+science&qid=1663448047&sprefix=data+science%2Caps%2C828&sr=8-275-spons&psc=1&spLa=ZW5jcnlwdGVkUXVhbGlmaWVyPUExWjNRTElUT0E2N0NTJmVuY3J5cHRlZElkPUEwNDk3NjY1MTlMMk9ZUDlMUldKVyZlbmNyeXB0ZWRBZElkPUEwMDkzOTU3MVQwTjJQSlZZSlFTMCZ3aWRnZXROYW1lPXNwX210ZiZhY3Rpb249Y2xpY2tSZWRpcmVjdCZkb05vdExvZ0NsaWNrPXRydWU=> from <GET https://www.amazon.com/gp/slredirect/picassoRedirect.html/ref=pa_sp_mtf_aps_sr_pg6_1?ie=UTF8&adId=A00939571T0N2PJVYJQS0&url=%2FData-Modeling-Azure-Services-professional%2Fdp%2F1801077347%2Fref%3Dsr_1_275_sspa%3Fcrid%3D2YKZLS0CJFDGI%26keywords%3Ddata%2Bscience%26qid%3D1663448047%26sprefix%3Ddata%2Bscience%252Caps%252C828%26sr%3D8-275-spons%26psc%3D1&qualifier=1663448047&id=1286096346710520&widgetName=sp_mtf>\n",
      "2022-09-17 22:54:25 [scrapy.core.engine] DEBUG: Crawled (200) <GET https://www.amazon.com/Big-Data-Complete-Concepts-Analytics-ebook/dp/B07ZVJJD1C/ref=sr_1_282?crid=2YKZLS0CJFDGI&keywords=data+science&qid=1663448047&sprefix=data+science%2Caps%2C828&sr=8-282> (referer: https://www.amazon.com/s?k=data+science&s=relevanceblender&page=6&crid=2YKZLS0CJFDGI&qid=1663103507&sprefix=data+science%2Caps%2C828&ref=sr_pg_6)\n",
      "2022-09-17 22:54:25 [scrapy.core.engine] DEBUG: Crawled (200) <GET https://www.amazon.com/Massive-Graph-Analytics-Chapman-Science/dp/0367464128/ref=sr_1_280?crid=2YKZLS0CJFDGI&keywords=data+science&qid=1663448047&sprefix=data+science%2Caps%2C828&sr=8-280> (referer: https://www.amazon.com/s?k=data+science&s=relevanceblender&page=6&crid=2YKZLS0CJFDGI&qid=1663103507&sprefix=data+science%2Caps%2C828&ref=sr_pg_6)\n",
      "2022-09-17 22:54:25 [scrapy.downloadermiddlewares.redirect] DEBUG: Redirecting (302) to <GET https://www.amazon.com/Data-Visualization-Ultimate-Mining-Visualization/dp/B08L2S3WMB/ref=sr_1_274_sspa?crid=2YKZLS0CJFDGI&keywords=data+science&qid=1663448047&sprefix=data+science%2Caps%2C828&sr=8-274-spons&psc=1&spLa=ZW5jcnlwdGVkUXVhbGlmaWVyPUExWjNRTElUT0E2N0NTJmVuY3J5cHRlZElkPUEwNDk3NjY1MTlMMk9ZUDlMUldKVyZlbmNyeXB0ZWRBZElkPUEwMDY2MzE4M05ZRk1POElRVklIQyZ3aWRnZXROYW1lPXNwX210ZiZhY3Rpb249Y2xpY2tSZWRpcmVjdCZkb05vdExvZ0NsaWNrPXRydWU=> from <GET https://www.amazon.com/gp/slredirect/picassoRedirect.html/ref=pa_sp_mtf_aps_sr_pg6_1?ie=UTF8&adId=A00663183NYFMO8IQVIHC&url=%2FData-Visualization-Ultimate-Mining-Visualization%2Fdp%2FB08L2S3WMB%2Fref%3Dsr_1_274_sspa%3Fcrid%3D2YKZLS0CJFDGI%26keywords%3Ddata%2Bscience%26qid%3D1663448047%26sprefix%3Ddata%2Bscience%252Caps%252C828%26sr%3D8-274-spons%26psc%3D1&qualifier=1663448047&id=1286096346710520&widgetName=sp_mtf>\n",
      "2022-09-17 22:54:25 [scrapy.core.engine] DEBUG: Crawled (200) <GET https://www.amazon.com/Practical-Data-Science-Nina-Zumel/dp/1617295876/ref=sr_1_279?crid=2YKZLS0CJFDGI&keywords=data+science&qid=1663448047&sprefix=data+science%2Caps%2C828&sr=8-279> (referer: https://www.amazon.com/s?k=data+science&s=relevanceblender&page=6&crid=2YKZLS0CJFDGI&qid=1663103507&sprefix=data+science%2Caps%2C828&ref=sr_pg_6)\n"
     ]
    },
    {
     "name": "stdout",
     "output_type": "stream",
     "text": [
      "197\n",
      "[] None 6.14 x 0.35 x 9.21 inches\n"
     ]
    },
    {
     "name": "stderr",
     "output_type": "stream",
     "text": [
      "2022-09-17 22:54:25 [scrapy.downloadermiddlewares.redirect] DEBUG: Redirecting (302) to <GET https://www.amazon.com/Pandas-Workshop-comprehensive-analysis-real-world/dp/1800208936/ref=sr_1_273_sspa?crid=2YKZLS0CJFDGI&keywords=data+science&qid=1663448047&sprefix=data+science%2Caps%2C828&sr=8-273-spons&psc=1&spLa=ZW5jcnlwdGVkUXVhbGlmaWVyPUExWjNRTElUT0E2N0NTJmVuY3J5cHRlZElkPUEwNDk3NjY1MTlMMk9ZUDlMUldKVyZlbmNyeXB0ZWRBZElkPUEwNDk1MTMxMTVGNldGOUlTTEZRRCZ3aWRnZXROYW1lPXNwX210ZiZhY3Rpb249Y2xpY2tSZWRpcmVjdCZkb05vdExvZ0NsaWNrPXRydWU=> from <GET https://www.amazon.com/gp/slredirect/picassoRedirect.html/ref=pa_sp_mtf_aps_sr_pg6_1?ie=UTF8&adId=A049513115F6WF9ISLFQD&url=%2FPandas-Workshop-comprehensive-analysis-real-world%2Fdp%2F1800208936%2Fref%3Dsr_1_273_sspa%3Fcrid%3D2YKZLS0CJFDGI%26keywords%3Ddata%2Bscience%26qid%3D1663448047%26sprefix%3Ddata%2Bscience%252Caps%252C828%26sr%3D8-273-spons%26psc%3D1&qualifier=1663448047&id=1286096346710520&widgetName=sp_mtf>\n",
      "2022-09-17 22:54:25 [scrapy.core.engine] DEBUG: Crawled (200) <GET https://www.amazon.com/Data-Driven-Nonprofits-Steve-MacLaughlin/dp/0988850710/ref=sr_1_281?crid=2YKZLS0CJFDGI&keywords=data+science&qid=1663448047&sprefix=data+science%2Caps%2C828&sr=8-281> (referer: https://www.amazon.com/s?k=data+science&s=relevanceblender&page=6&crid=2YKZLS0CJFDGI&qid=1663103507&sprefix=data+science%2Caps%2C828&ref=sr_pg_6)\n"
     ]
    },
    {
     "name": "stdout",
     "output_type": "stream",
     "text": [
      "198\n",
      "['\\n            \\n              60%\\n            \\n          '] 4.0 out of 5 stars None\n",
      "199\n",
      "[] None 7 x 1.5 x 10 inches\n",
      "200\n",
      "['\\n            \\n              71%\\n            \\n          '] 4.5 out of 5 stars 7.38 x 1.2 x 9.25 inches\n",
      "201\n",
      "['\\n            \\n              70%\\n            \\n          '] 4.4 out of 5 stars 6 x 0.58 x 9 inches\n"
     ]
    },
    {
     "name": "stderr",
     "output_type": "stream",
     "text": [
      "2022-09-17 22:54:26 [scrapy.core.engine] DEBUG: Crawled (200) <GET https://www.amazon.com/Neo4j-Graph-Data-Science-Certified/dp/B091F5QK5B/ref=sr_1_277?crid=2YKZLS0CJFDGI&keywords=data+science&qid=1663448047&sprefix=data+science%2Caps%2C828&sr=8-277> (referer: https://www.amazon.com/s?k=data+science&s=relevanceblender&page=6&crid=2YKZLS0CJFDGI&qid=1663103507&sprefix=data+science%2Caps%2C828&ref=sr_pg_6)\n",
      "2022-09-17 22:54:27 [scrapy.core.engine] DEBUG: Crawled (200) <GET https://www.amazon.com/Python-Programming-Beginners-Hands-Exercises/dp/B0BCCYXZMR/ref=sr_1_278?crid=2YKZLS0CJFDGI&keywords=data+science&qid=1663448047&sprefix=data+science%2Caps%2C828&sr=8-278> (referer: https://www.amazon.com/s?k=data+science&s=relevanceblender&page=6&crid=2YKZLS0CJFDGI&qid=1663103507&sprefix=data+science%2Caps%2C828&ref=sr_pg_6)\n"
     ]
    },
    {
     "name": "stdout",
     "output_type": "stream",
     "text": [
      "202\n",
      "['\\n            \\n              50%\\n            \\n          '] 4.5 out of 5 stars 6 x 0.27 x 9 inches\n",
      "203\n",
      "['\\n            \\n              97%\\n            \\n          '] 5.0 out of 5 stars 8.5 x 0.2 x 11 inches\n"
     ]
    },
    {
     "name": "stderr",
     "output_type": "stream",
     "text": [
      "2022-09-17 22:54:27 [scrapy.core.engine] DEBUG: Crawled (200) <GET https://www.amazon.com/Grokking-Machine-Learning-Luis-Serrano/dp/1617295914/ref=sr_1_270?crid=2YKZLS0CJFDGI&keywords=data+science&qid=1663448047&sprefix=data+science%2Caps%2C828&sr=8-270> (referer: https://www.amazon.com/s?k=data+science&s=relevanceblender&page=6&crid=2YKZLS0CJFDGI&qid=1663103507&sprefix=data+science%2Caps%2C828&ref=sr_pg_6)\n",
      "2022-09-17 22:54:27 [scrapy.core.engine] DEBUG: Crawled (200) <GET https://www.amazon.com/Data-Science-Immunologists-Niclas-Thomas/dp/1985665670/ref=sr_1_271?crid=2YKZLS0CJFDGI&keywords=data+science&qid=1663448047&sprefix=data+science%2Caps%2C828&sr=8-271> (referer: https://www.amazon.com/s?k=data+science&s=relevanceblender&page=6&crid=2YKZLS0CJFDGI&qid=1663103507&sprefix=data+science%2Caps%2C828&ref=sr_pg_6)\n",
      "2022-09-17 22:54:27 [scrapy.core.engine] DEBUG: Crawled (200) <GET https://www.amazon.com/Data-Science-Analytics-Machine-Learning/dp/012824271X/ref=sr_1_272?crid=2YKZLS0CJFDGI&keywords=data+science&qid=1663448047&sprefix=data+science%2Caps%2C828&sr=8-272> (referer: https://www.amazon.com/s?k=data+science&s=relevanceblender&page=6&crid=2YKZLS0CJFDGI&qid=1663103507&sprefix=data+science%2Caps%2C828&ref=sr_pg_6)\n",
      "2022-09-17 22:54:28 [scrapy.core.engine] DEBUG: Crawled (200) <GET https://www.amazon.com/Marketing-Data-Science-Techniques-Predictive-ebook/dp/B00XANZZ4A/ref=sr_1_269?crid=2YKZLS0CJFDGI&keywords=data+science&qid=1663448047&sprefix=data+science%2Caps%2C828&sr=8-269> (referer: https://www.amazon.com/s?k=data+science&s=relevanceblender&page=6&crid=2YKZLS0CJFDGI&qid=1663103507&sprefix=data+science%2Caps%2C828&ref=sr_pg_6)\n",
      "2022-09-17 22:54:28 [scrapy.core.engine] DEBUG: Crawled (200) <GET https://www.amazon.com/TensorFlow-Workshop-hands-building-real-world/dp/1800205252/ref=sr_1_276_sspa?crid=2YKZLS0CJFDGI&keywords=data+science&qid=1663448047&sprefix=data+science%2Caps%2C828&sr=8-276-spons&psc=1&spLa=ZW5jcnlwdGVkUXVhbGlmaWVyPUExWjNRTElUT0E2N0NTJmVuY3J5cHRlZElkPUEwNDk3NjY1MTlMMk9ZUDlMUldKVyZlbmNyeXB0ZWRBZElkPUEwOTkwOTM1M1BNNDhOQzJPVFpHTSZ3aWRnZXROYW1lPXNwX210ZiZhY3Rpb249Y2xpY2tSZWRpcmVjdCZkb05vdExvZ0NsaWNrPXRydWU=> (referer: https://www.amazon.com/s?k=data+science&s=relevanceblender&page=6&crid=2YKZLS0CJFDGI&qid=1663103507&sprefix=data+science%2Caps%2C828&ref=sr_pg_6)\n"
     ]
    },
    {
     "name": "stdout",
     "output_type": "stream",
     "text": [
      "204\n",
      "['\\n            \\n              72%\\n            \\n          '] 4.6 out of 5 stars 7.38 x 1.1 x 9.25 inches\n",
      "205\n",
      "['\\n            \\n              68%\\n            \\n          '] 4.7 out of 5 stars 7 x 0.38 x 10 inches\n",
      "206\n",
      "[] None None\n"
     ]
    },
    {
     "name": "stderr",
     "output_type": "stream",
     "text": [
      "2022-09-17 22:54:28 [scrapy.core.engine] DEBUG: Crawled (200) <GET https://www.amazon.com/Data-Action-Using-Public-Good/dp/0262044196/ref=sr_1_268?crid=2YKZLS0CJFDGI&keywords=data+science&qid=1663448047&sprefix=data+science%2Caps%2C828&sr=8-268> (referer: https://www.amazon.com/s?k=data+science&s=relevanceblender&page=6&crid=2YKZLS0CJFDGI&qid=1663103507&sprefix=data+science%2Caps%2C828&ref=sr_pg_6)\n"
     ]
    },
    {
     "name": "stdout",
     "output_type": "stream",
     "text": [
      "207\n",
      "['\\n            \\n              62%\\n            \\n          '] 4.2 out of 5 stars None\n",
      "208\n",
      "['\\n            \\n              54%\\n            \\n          '] 4.3 out of 5 stars 7.5 x 1.36 x 9.25 inches\n"
     ]
    },
    {
     "name": "stderr",
     "output_type": "stream",
     "text": [
      "2022-09-17 22:54:29 [scrapy.core.engine] DEBUG: Crawled (200) <GET https://www.amazon.com/Data-Governance-Dummies-Jonathan-Reichental/dp/1119906776/ref=sr_1_267?crid=2YKZLS0CJFDGI&keywords=data+science&qid=1663448047&sprefix=data+science%2Caps%2C828&sr=8-267> (referer: https://www.amazon.com/s?k=data+science&s=relevanceblender&page=6&crid=2YKZLS0CJFDGI&qid=1663103507&sprefix=data+science%2Caps%2C828&ref=sr_pg_6)\n"
     ]
    },
    {
     "name": "stdout",
     "output_type": "stream",
     "text": [
      "209\n",
      "['\\n            \\n              83%\\n            \\n          '] 4.7 out of 5 stars 9.2 x 0.89 x 10.29 inches\n"
     ]
    },
    {
     "name": "stderr",
     "output_type": "stream",
     "text": [
      "2022-09-17 22:54:29 [scrapy.core.engine] DEBUG: Crawled (200) <GET https://www.amazon.com/Data-Visualization-Ultimate-Mining-Visualization/dp/B08L2S3WMB/ref=sr_1_274_sspa?crid=2YKZLS0CJFDGI&keywords=data+science&qid=1663448047&sprefix=data+science%2Caps%2C828&sr=8-274-spons&psc=1&spLa=ZW5jcnlwdGVkUXVhbGlmaWVyPUExWjNRTElUT0E2N0NTJmVuY3J5cHRlZElkPUEwNDk3NjY1MTlMMk9ZUDlMUldKVyZlbmNyeXB0ZWRBZElkPUEwMDY2MzE4M05ZRk1POElRVklIQyZ3aWRnZXROYW1lPXNwX210ZiZhY3Rpb249Y2xpY2tSZWRpcmVjdCZkb05vdExvZ0NsaWNrPXRydWU=> (referer: https://www.amazon.com/s?k=data+science&s=relevanceblender&page=6&crid=2YKZLS0CJFDGI&qid=1663103507&sprefix=data+science%2Caps%2C828&ref=sr_pg_6)\n"
     ]
    },
    {
     "name": "stdout",
     "output_type": "stream",
     "text": [
      "210\n",
      "[] None None\n",
      "211\n",
      "['\\n            \\n              39%\\n            \\n          '] 3.7 out of 5 stars 6 x 0.4 x 9 inches\n"
     ]
    },
    {
     "name": "stderr",
     "output_type": "stream",
     "text": [
      "2022-09-17 22:54:30 [scrapy.core.engine] DEBUG: Crawled (200) <GET https://www.amazon.com/Criminologists-Guide-Crime-Numbers-Chapman/dp/1032244070/ref=sr_1_265?crid=2YKZLS0CJFDGI&keywords=data+science&qid=1663448047&sprefix=data+science%2Caps%2C828&sr=8-265> (referer: https://www.amazon.com/s?k=data+science&s=relevanceblender&page=6&crid=2YKZLS0CJFDGI&qid=1663103507&sprefix=data+science%2Caps%2C828&ref=sr_pg_6)\n"
     ]
    },
    {
     "name": "stdout",
     "output_type": "stream",
     "text": [
      "212\n",
      "[] None None\n"
     ]
    },
    {
     "name": "stderr",
     "output_type": "stream",
     "text": [
      "2022-09-17 22:54:30 [scrapy.core.engine] DEBUG: Crawled (200) <GET https://www.amazon.com/Marketing-Analytics-Practical-Improving-Techniques/dp/0749482168/ref=sr_1_266?crid=2YKZLS0CJFDGI&keywords=data+science&qid=1663448047&sprefix=data+science%2Caps%2C828&sr=8-266> (referer: https://www.amazon.com/s?k=data+science&s=relevanceblender&page=6&crid=2YKZLS0CJFDGI&qid=1663103507&sprefix=data+science%2Caps%2C828&ref=sr_pg_6)\n",
      "2022-09-17 22:54:30 [scrapy.downloadermiddlewares.redirect] DEBUG: Redirecting (302) to <GET https://www.amazon.com/Essential-PySpark-Scalable-Data-Analytics/dp/1800568878/ref=sr_1_260_sspa?crid=2YKZLS0CJFDGI&keywords=data+science&qid=1663448047&sprefix=data+science%2Caps%2C828&sr=8-260-spons&psc=1&spLa=ZW5jcnlwdGVkUXVhbGlmaWVyPUExWjNRTElUT0E2N0NTJmVuY3J5cHRlZElkPUEwNDk3NjY1MTlMMk9ZUDlMUldKVyZlbmNyeXB0ZWRBZElkPUEwNTY2MTU3QzdBT1ZDSlBaSUI1JndpZGdldE5hbWU9c3BfbXRmJmFjdGlvbj1jbGlja1JlZGlyZWN0JmRvTm90TG9nQ2xpY2s9dHJ1ZQ==> from <GET https://www.amazon.com/gp/slredirect/picassoRedirect.html/ref=pa_sp_mtf_aps_sr_pg6_1?ie=UTF8&adId=A0566157C7AOVCJPZIB5&url=%2FEssential-PySpark-Scalable-Data-Analytics%2Fdp%2F1800568878%2Fref%3Dsr_1_260_sspa%3Fcrid%3D2YKZLS0CJFDGI%26keywords%3Ddata%2Bscience%26qid%3D1663448047%26sprefix%3Ddata%2Bscience%252Caps%252C828%26sr%3D8-260-spons%26psc%3D1&qualifier=1663448047&id=1286096346710520&widgetName=sp_mtf>\n",
      "2022-09-17 22:54:31 [scrapy.downloadermiddlewares.redirect] DEBUG: Redirecting (302) to <GET https://www.amazon.com/Cloud-Scale-Analytics-Azure-Services/dp/1800562934/ref=sr_1_258_sspa?crid=2YKZLS0CJFDGI&keywords=data+science&qid=1663448047&sprefix=data+science%2Caps%2C828&sr=8-258-spons&psc=1&spLa=ZW5jcnlwdGVkUXVhbGlmaWVyPUExWjNRTElUT0E2N0NTJmVuY3J5cHRlZElkPUEwNDk3NjY1MTlMMk9ZUDlMUldKVyZlbmNyeXB0ZWRBZElkPUEwNjk0NTQ3MUJPMjhCS0VIRjNNQSZ3aWRnZXROYW1lPXNwX210ZiZhY3Rpb249Y2xpY2tSZWRpcmVjdCZkb05vdExvZ0NsaWNrPXRydWU=> from <GET https://www.amazon.com/gp/slredirect/picassoRedirect.html/ref=pa_sp_mtf_aps_sr_pg6_1?ie=UTF8&adId=A06945471BO28BKEHF3MA&url=%2FCloud-Scale-Analytics-Azure-Services%2Fdp%2F1800562934%2Fref%3Dsr_1_258_sspa%3Fcrid%3D2YKZLS0CJFDGI%26keywords%3Ddata%2Bscience%26qid%3D1663448047%26sprefix%3Ddata%2Bscience%252Caps%252C828%26sr%3D8-258-spons%26psc%3D1&qualifier=1663448047&id=1286096346710520&widgetName=sp_mtf>\n",
      "2022-09-17 22:54:31 [scrapy.core.engine] DEBUG: Crawled (200) <GET https://www.amazon.com/Applied-Data-Science-Data-Driven-Business/dp/3030118207/ref=sr_1_264?crid=2YKZLS0CJFDGI&keywords=data+science&qid=1663448047&sprefix=data+science%2Caps%2C828&sr=8-264> (referer: https://www.amazon.com/s?k=data+science&s=relevanceblender&page=6&crid=2YKZLS0CJFDGI&qid=1663103507&sprefix=data+science%2Caps%2C828&ref=sr_pg_6)\n",
      "2022-09-17 22:54:31 [scrapy.core.engine] DEBUG: Crawled (200) <GET https://www.amazon.com/Pandas-Workshop-comprehensive-analysis-real-world/dp/1800208936/ref=sr_1_273_sspa?crid=2YKZLS0CJFDGI&keywords=data+science&qid=1663448047&sprefix=data+science%2Caps%2C828&sr=8-273-spons&psc=1&spLa=ZW5jcnlwdGVkUXVhbGlmaWVyPUExWjNRTElUT0E2N0NTJmVuY3J5cHRlZElkPUEwNDk3NjY1MTlMMk9ZUDlMUldKVyZlbmNyeXB0ZWRBZElkPUEwNDk1MTMxMTVGNldGOUlTTEZRRCZ3aWRnZXROYW1lPXNwX210ZiZhY3Rpb249Y2xpY2tSZWRpcmVjdCZkb05vdExvZ0NsaWNrPXRydWU=> (referer: https://www.amazon.com/s?k=data+science&s=relevanceblender&page=6&crid=2YKZLS0CJFDGI&qid=1663103507&sprefix=data+science%2Caps%2C828&ref=sr_pg_6)\n"
     ]
    },
    {
     "name": "stdout",
     "output_type": "stream",
     "text": [
      "213\n",
      "['\\n            \\n              68%\\n            \\n          '] 4.4 out of 5 stars 5.91 x 0.79 x 9.06 inches\n"
     ]
    },
    {
     "name": "stderr",
     "output_type": "stream",
     "text": [
      "2022-09-17 22:54:31 [scrapy.downloadermiddlewares.redirect] DEBUG: Redirecting (302) to <GET https://www.amazon.com/Can-Trust-Johns-Hopkins-Wavelengths/dp/1421445301/ref=sr_1_257_sspa?crid=2YKZLS0CJFDGI&keywords=data+science&qid=1663448047&sprefix=data+science%2Caps%2C828&sr=8-257-spons&psc=1&spLa=ZW5jcnlwdGVkUXVhbGlmaWVyPUExWjNRTElUT0E2N0NTJmVuY3J5cHRlZElkPUEwNDk3NjY1MTlMMk9ZUDlMUldKVyZlbmNyeXB0ZWRBZElkPUEwMTI2NjgxNEhMM0RPT0U0UVM3JndpZGdldE5hbWU9c3BfbXRmJmFjdGlvbj1jbGlja1JlZGlyZWN0JmRvTm90TG9nQ2xpY2s9dHJ1ZQ==> from <GET https://www.amazon.com/gp/slredirect/picassoRedirect.html/ref=pa_sp_mtf_aps_sr_pg6_1?ie=UTF8&adId=A01266814HL3DOOE4QS7&url=%2FCan-Trust-Johns-Hopkins-Wavelengths%2Fdp%2F1421445301%2Fref%3Dsr_1_257_sspa%3Fcrid%3D2YKZLS0CJFDGI%26keywords%3Ddata%2Bscience%26qid%3D1663448047%26sprefix%3Ddata%2Bscience%252Caps%252C828%26sr%3D8-257-spons%26psc%3D1&qualifier=1663448047&id=1286096346710520&widgetName=sp_mtf>\n",
      "2022-09-17 22:54:31 [scrapy.downloadermiddlewares.redirect] DEBUG: Redirecting (302) to <GET https://www.amazon.com/W-Boiss-Data-Portraits-Visualizing/dp/1616897066/ref=sr_1_259_sspa?crid=2YKZLS0CJFDGI&keywords=data+science&qid=1663448047&sprefix=data+science%2Caps%2C828&sr=8-259-spons&psc=1&spLa=ZW5jcnlwdGVkUXVhbGlmaWVyPUExWjNRTElUT0E2N0NTJmVuY3J5cHRlZElkPUEwNDk3NjY1MTlMMk9ZUDlMUldKVyZlbmNyeXB0ZWRBZElkPUEwMDQ0MjIzMzhZN1FPSFMwMDJMViZ3aWRnZXROYW1lPXNwX210ZiZhY3Rpb249Y2xpY2tSZWRpcmVjdCZkb05vdExvZ0NsaWNrPXRydWU=> from <GET https://www.amazon.com/gp/slredirect/picassoRedirect.html/ref=pa_sp_mtf_aps_sr_pg6_1?ie=UTF8&adId=A004422338Y7QOHS002LV&url=%2FW-Boiss-Data-Portraits-Visualizing%2Fdp%2F1616897066%2Fref%3Dsr_1_259_sspa%3Fcrid%3D2YKZLS0CJFDGI%26keywords%3Ddata%2Bscience%26qid%3D1663448047%26sprefix%3Ddata%2Bscience%252Caps%252C828%26sr%3D8-259-spons%26psc%3D1&qualifier=1663448047&id=1286096346710520&widgetName=sp_mtf>\n",
      "2022-09-17 22:54:31 [scrapy.core.engine] DEBUG: Crawled (200) <GET https://www.amazon.com/Data-Modeling-Azure-Services-professional/dp/1801077347/ref=sr_1_275_sspa?crid=2YKZLS0CJFDGI&keywords=data+science&qid=1663448047&sprefix=data+science%2Caps%2C828&sr=8-275-spons&psc=1&spLa=ZW5jcnlwdGVkUXVhbGlmaWVyPUExWjNRTElUT0E2N0NTJmVuY3J5cHRlZElkPUEwNDk3NjY1MTlMMk9ZUDlMUldKVyZlbmNyeXB0ZWRBZElkPUEwMDkzOTU3MVQwTjJQSlZZSlFTMCZ3aWRnZXROYW1lPXNwX210ZiZhY3Rpb249Y2xpY2tSZWRpcmVjdCZkb05vdExvZ0NsaWNrPXRydWU=> (referer: https://www.amazon.com/s?k=data+science&s=relevanceblender&page=6&crid=2YKZLS0CJFDGI&qid=1663103507&sprefix=data+science%2Caps%2C828&ref=sr_pg_6)\n"
     ]
    },
    {
     "name": "stdout",
     "output_type": "stream",
     "text": [
      "214\n",
      "['\\n            \\n              100%\\n            \\n          '] 1.0 out of 5 stars 6.14 x 1.06 x 9.21 inches\n"
     ]
    },
    {
     "name": "stderr",
     "output_type": "stream",
     "text": [
      "2022-09-17 22:54:31 [scrapy.core.engine] DEBUG: Crawled (200) <GET https://www.amazon.com/SQL-Data-Analytics-efficient-analysis/dp/1789807352/ref=sr_1_263?crid=2YKZLS0CJFDGI&keywords=data+science&qid=1663448047&sprefix=data+science%2Caps%2C828&sr=8-263> (referer: https://www.amazon.com/s?k=data+science&s=relevanceblender&page=6&crid=2YKZLS0CJFDGI&qid=1663103507&sprefix=data+science%2Caps%2C828&ref=sr_pg_6)\n"
     ]
    },
    {
     "name": "stdout",
     "output_type": "stream",
     "text": [
      "215\n",
      "['\\n            \\n              73%\\n            \\n          '] 4.6 out of 5 stars 7.5 x 1.68 x 9.25 inches\n",
      "216\n",
      "['\\n            \\n              58%\\n            \\n          '] 4.6 out of 5 stars 7.5 x 0.97 x 9.25 inches\n",
      "217\n",
      "['\\n            \\n              68%\\n            \\n          '] 4.4 out of 5 stars 7.5 x 0.87 x 9.25 inches\n"
     ]
    },
    {
     "name": "stderr",
     "output_type": "stream",
     "text": [
      "2022-09-17 22:54:32 [scrapy.core.engine] DEBUG: Crawled (200) <GET https://www.amazon.com/Ethics-Data-Analytics-Concepts-Cases/dp/1032062932/ref=sr_1_261?crid=2YKZLS0CJFDGI&keywords=data+science&qid=1663448047&sprefix=data+science%2Caps%2C828&sr=8-261> (referer: https://www.amazon.com/s?k=data+science&s=relevanceblender&page=6&crid=2YKZLS0CJFDGI&qid=1663103507&sprefix=data+science%2Caps%2C828&ref=sr_pg_6)\n",
      "2022-09-17 22:54:32 [scrapy.core.engine] DEBUG: Crawled (200) <GET https://www.amazon.com/Statistical-Rethinking-Bayesian-Examples-Chapman-ebook/dp/B0B9WQX1KS/ref=sr_1_262?crid=2YKZLS0CJFDGI&keywords=data+science&qid=1663448047&sprefix=data+science%2Caps%2C828&sr=8-262> (referer: https://www.amazon.com/s?k=data+science&s=relevanceblender&page=6&crid=2YKZLS0CJFDGI&qid=1663103507&sprefix=data+science%2Caps%2C828&ref=sr_pg_6)\n"
     ]
    },
    {
     "name": "stdout",
     "output_type": "stream",
     "text": [
      "218\n",
      "[] None 7 x 0.99 x 10 inches\n",
      "219\n",
      "['\\n            \\n              88%\\n            \\n          '] 4.8 out of 5 stars None\n"
     ]
    },
    {
     "name": "stderr",
     "output_type": "stream",
     "text": [
      "2022-09-17 22:54:33 [scrapy.core.engine] DEBUG: Crawled (200) <GET https://www.amazon.com/Data-Science-Warehousing-Visualization-Regression/dp/B07KWDVPVB/ref=sr_1_255?crid=2YKZLS0CJFDGI&keywords=data+science&qid=1663448047&sprefix=data+science%2Caps%2C828&sr=8-255> (referer: https://www.amazon.com/s?k=data+science&s=relevanceblender&page=6&crid=2YKZLS0CJFDGI&qid=1663103507&sprefix=data+science%2Caps%2C828&ref=sr_pg_6)\n",
      "2022-09-17 22:54:34 [scrapy.core.engine] DEBUG: Crawled (200) <GET https://www.amazon.com/Introduction-Computation-Programming-Using-Python/dp/0262529629/ref=sr_1_253?crid=2YKZLS0CJFDGI&keywords=data+science&qid=1663448047&sprefix=data+science%2Caps%2C828&sr=8-253> (referer: https://www.amazon.com/s?k=data+science&s=relevanceblender&page=6&crid=2YKZLS0CJFDGI&qid=1663103507&sprefix=data+science%2Caps%2C828&ref=sr_pg_6)\n",
      "2022-09-17 22:54:34 [scrapy.core.engine] DEBUG: Crawled (200) <GET https://www.amazon.com/SQL-Intermediate-Programming-Practical-Exercises/dp/B0B5MM3RMK/ref=sr_1_256?crid=2YKZLS0CJFDGI&keywords=data+science&qid=1663448047&sprefix=data+science%2Caps%2C828&sr=8-256> (referer: https://www.amazon.com/s?k=data+science&s=relevanceblender&page=6&crid=2YKZLS0CJFDGI&qid=1663103507&sprefix=data+science%2Caps%2C828&ref=sr_pg_6)\n",
      "2022-09-17 22:54:34 [scrapy.core.engine] DEBUG: Crawled (200) <GET https://www.amazon.com/Machine-Learning-Bookcamp-portfolio-real-life/dp/1617296813/ref=sr_1_252?crid=2YKZLS0CJFDGI&keywords=data+science&qid=1663448047&sprefix=data+science%2Caps%2C828&sr=8-252> (referer: https://www.amazon.com/s?k=data+science&s=relevanceblender&page=6&crid=2YKZLS0CJFDGI&qid=1663103507&sprefix=data+science%2Caps%2C828&ref=sr_pg_6)\n"
     ]
    },
    {
     "name": "stdout",
     "output_type": "stream",
     "text": [
      "220\n",
      "['\\n            \\n              64%\\n            \\n          '] 4.2 out of 5 stars None\n",
      "221\n",
      "['\\n            \\n              77%\\n            \\n          '] 4.6 out of 5 stars 7 x 0.81 x 9 inches\n"
     ]
    },
    {
     "name": "stderr",
     "output_type": "stream",
     "text": [
      "2022-09-17 22:54:34 [scrapy.core.engine] DEBUG: Crawled (200) <GET https://www.amazon.com/Data-Analytics-Markus-Schellander-audiobook/dp/B08176WPYJ/ref=sr_1_251?crid=2YKZLS0CJFDGI&keywords=data+science&qid=1663448047&sprefix=data+science%2Caps%2C828&sr=8-251> (referer: https://www.amazon.com/s?k=data+science&s=relevanceblender&page=6&crid=2YKZLS0CJFDGI&qid=1663103507&sprefix=data+science%2Caps%2C828&ref=sr_pg_6)\n",
      "2022-09-17 22:54:34 [scrapy.core.engine] DEBUG: Crawled (200) <GET https://www.amazon.com/Data-Model-Resource-Book-Vol/dp/0471353485/ref=sr_1_254?crid=2YKZLS0CJFDGI&keywords=data+science&qid=1663448047&sprefix=data+science%2Caps%2C828&sr=8-254> (referer: https://www.amazon.com/s?k=data+science&s=relevanceblender&page=6&crid=2YKZLS0CJFDGI&qid=1663103507&sprefix=data+science%2Caps%2C828&ref=sr_pg_6)\n"
     ]
    },
    {
     "name": "stdout",
     "output_type": "stream",
     "text": [
      "222\n",
      "['\\n            \\n              93%\\n            \\n          '] 4.9 out of 5 stars 7 x 0.78 x 10 inches\n",
      "223\n",
      "['\\n            \\n              100%\\n            \\n          '] 5.0 out of 5 stars 7.38 x 0.6 x 9.25 inches\n",
      "224\n",
      "[] None None\n"
     ]
    },
    {
     "name": "stderr",
     "output_type": "stream",
     "text": [
      "2022-09-17 22:54:35 [scrapy.core.engine] DEBUG: Crawled (200) <GET https://www.amazon.com/Essential-PySpark-Scalable-Data-Analytics/dp/1800568878/ref=sr_1_260_sspa?crid=2YKZLS0CJFDGI&keywords=data+science&qid=1663448047&sprefix=data+science%2Caps%2C828&sr=8-260-spons&psc=1&spLa=ZW5jcnlwdGVkUXVhbGlmaWVyPUExWjNRTElUT0E2N0NTJmVuY3J5cHRlZElkPUEwNDk3NjY1MTlMMk9ZUDlMUldKVyZlbmNyeXB0ZWRBZElkPUEwNTY2MTU3QzdBT1ZDSlBaSUI1JndpZGdldE5hbWU9c3BfbXRmJmFjdGlvbj1jbGlja1JlZGlyZWN0JmRvTm90TG9nQ2xpY2s9dHJ1ZQ==> (referer: https://www.amazon.com/s?k=data+science&s=relevanceblender&page=6&crid=2YKZLS0CJFDGI&qid=1663103507&sprefix=data+science%2Caps%2C828&ref=sr_pg_6)\n",
      "2022-09-17 22:54:35 [scrapy.core.engine] DEBUG: Crawled (200) <GET https://www.amazon.com/Cloud-Scale-Analytics-Azure-Services/dp/1800562934/ref=sr_1_258_sspa?crid=2YKZLS0CJFDGI&keywords=data+science&qid=1663448047&sprefix=data+science%2Caps%2C828&sr=8-258-spons&psc=1&spLa=ZW5jcnlwdGVkUXVhbGlmaWVyPUExWjNRTElUT0E2N0NTJmVuY3J5cHRlZElkPUEwNDk3NjY1MTlMMk9ZUDlMUldKVyZlbmNyeXB0ZWRBZElkPUEwNjk0NTQ3MUJPMjhCS0VIRjNNQSZ3aWRnZXROYW1lPXNwX210ZiZhY3Rpb249Y2xpY2tSZWRpcmVjdCZkb05vdExvZ0NsaWNrPXRydWU=> (referer: https://www.amazon.com/s?k=data+science&s=relevanceblender&page=6&crid=2YKZLS0CJFDGI&qid=1663103507&sprefix=data+science%2Caps%2C828&ref=sr_pg_6)\n"
     ]
    },
    {
     "name": "stdout",
     "output_type": "stream",
     "text": [
      "225\n",
      "['\\n            \\n              60%\\n            \\n          '] 4.0 out of 5 stars 7.3 x 1.3 x 8.9 inches\n",
      "226\n",
      "['\\n            \\n              74%\\n            \\n          '] 4.5 out of 5 stars 7.5 x 0.73 x 9.25 inches\n",
      "227\n",
      "['\\n            \\n              82%\\n            \\n          '] 4.8 out of 5 stars 7.5 x 1.18 x 9.25 inches\n"
     ]
    },
    {
     "name": "stderr",
     "output_type": "stream",
     "text": [
      "2022-09-17 22:54:36 [scrapy.core.engine] DEBUG: Crawled (200) <GET https://www.amazon.com/Can-Trust-Johns-Hopkins-Wavelengths/dp/1421445301/ref=sr_1_257_sspa?crid=2YKZLS0CJFDGI&keywords=data+science&qid=1663448047&sprefix=data+science%2Caps%2C828&sr=8-257-spons&psc=1&spLa=ZW5jcnlwdGVkUXVhbGlmaWVyPUExWjNRTElUT0E2N0NTJmVuY3J5cHRlZElkPUEwNDk3NjY1MTlMMk9ZUDlMUldKVyZlbmNyeXB0ZWRBZElkPUEwMTI2NjgxNEhMM0RPT0U0UVM3JndpZGdldE5hbWU9c3BfbXRmJmFjdGlvbj1jbGlja1JlZGlyZWN0JmRvTm90TG9nQ2xpY2s9dHJ1ZQ==> (referer: https://www.amazon.com/s?k=data+science&s=relevanceblender&page=6&crid=2YKZLS0CJFDGI&qid=1663103507&sprefix=data+science%2Caps%2C828&ref=sr_pg_6)\n",
      "2022-09-17 22:54:37 [scrapy.core.engine] DEBUG: Crawled (200) <GET https://www.amazon.com/Data-Engineering-Python-datasets-pipelines/dp/183921418X/ref=sr_1_249?crid=2YKZLS0CJFDGI&keywords=data+science&qid=1663448047&sprefix=data+science%2Caps%2C828&sr=8-249> (referer: https://www.amazon.com/s?k=data+science&s=relevanceblender&page=6&crid=2YKZLS0CJFDGI&qid=1663103507&sprefix=data+science%2Caps%2C828&ref=sr_pg_6)\n",
      "2022-09-17 22:54:37 [scrapy.downloadermiddlewares.redirect] DEBUG: Redirecting (302) to <GET https://www.amazon.com/Learning-Geospatial-Analysis-Python-fundamentals/dp/1789959276/ref=sr_1_244_sspa?crid=2YKZLS0CJFDGI&keywords=data+science&qid=1663448047&sprefix=data+science%2Caps%2C828&sr=8-244-spons&psc=1&spLa=ZW5jcnlwdGVkUXVhbGlmaWVyPUExWjNRTElUT0E2N0NTJmVuY3J5cHRlZElkPUEwNDk3NjY1MTlMMk9ZUDlMUldKVyZlbmNyeXB0ZWRBZElkPUEwOTk4NTg2MzZLVThTMURHR0NWNiZ3aWRnZXROYW1lPXNwX2F0Zl9uZXh0JmFjdGlvbj1jbGlja1JlZGlyZWN0JmRvTm90TG9nQ2xpY2s9dHJ1ZQ==> from <GET https://www.amazon.com/gp/slredirect/picassoRedirect.html/ref=pa_sp_atf_next_aps_sr_pg6_1?ie=UTF8&adId=A099858636KU8S1DGGCV6&url=%2FLearning-Geospatial-Analysis-Python-fundamentals%2Fdp%2F1789959276%2Fref%3Dsr_1_244_sspa%3Fcrid%3D2YKZLS0CJFDGI%26keywords%3Ddata%2Bscience%26qid%3D1663448047%26sprefix%3Ddata%2Bscience%252Caps%252C828%26sr%3D8-244-spons%26psc%3D1&qualifier=1663448047&id=1286096346710520&widgetName=sp_atf_next>\n",
      "2022-09-17 22:54:37 [scrapy.core.engine] DEBUG: Crawled (200) <GET https://www.amazon.com/Data-Science-Scratch-Principles-Python/dp/149190142X/ref=sr_1_250?crid=2YKZLS0CJFDGI&keywords=data+science&qid=1663448047&sprefix=data+science%2Caps%2C828&sr=8-250> (referer: https://www.amazon.com/s?k=data+science&s=relevanceblender&page=6&crid=2YKZLS0CJFDGI&qid=1663103507&sprefix=data+science%2Caps%2C828&ref=sr_pg_6)\n"
     ]
    },
    {
     "name": "stdout",
     "output_type": "stream",
     "text": [
      "228\n",
      "[] None 5 x 0.64 x 7 inches\n"
     ]
    },
    {
     "name": "stderr",
     "output_type": "stream",
     "text": [
      "2022-09-17 22:54:37 [scrapy.core.engine] DEBUG: Crawled (200) <GET https://www.amazon.com/End-End-Data-Science-Hands/dp/1642958042/ref=sr_1_247?crid=2YKZLS0CJFDGI&keywords=data+science&qid=1663448047&sprefix=data+science%2Caps%2C828&sr=8-247> (referer: https://www.amazon.com/s?k=data+science&s=relevanceblender&page=6&crid=2YKZLS0CJFDGI&qid=1663103507&sprefix=data+science%2Caps%2C828&ref=sr_pg_6)\n",
      "2022-09-17 22:54:37 [scrapy.downloadermiddlewares.redirect] DEBUG: Redirecting (302) to <GET https://www.amazon.com/Ontology-Based-Information-Retrieval-Healthcare-Systems/dp/1119640482/ref=sr_1_241_sspa?crid=2YKZLS0CJFDGI&keywords=data+science&qid=1663448047&sprefix=data+science%2Caps%2C828&sr=8-241-spons&psc=1&spLa=ZW5jcnlwdGVkUXVhbGlmaWVyPUExWjNRTElUT0E2N0NTJmVuY3J5cHRlZElkPUEwNDk3NjY1MTlMMk9ZUDlMUldKVyZlbmNyeXB0ZWRBZElkPUEwNTY0MzkwSTkxVDRFSjEyQkM5JndpZGdldE5hbWU9c3BfYXRmX25leHQmYWN0aW9uPWNsaWNrUmVkaXJlY3QmZG9Ob3RMb2dDbGljaz10cnVl> from <GET https://www.amazon.com/gp/slredirect/picassoRedirect.html/ref=pa_sp_atf_next_aps_sr_pg6_1?ie=UTF8&adId=A0564390I91T4EJ12BC9&url=%2FOntology-Based-Information-Retrieval-Healthcare-Systems%2Fdp%2F1119640482%2Fref%3Dsr_1_241_sspa%3Fcrid%3D2YKZLS0CJFDGI%26keywords%3Ddata%2Bscience%26qid%3D1663448047%26sprefix%3Ddata%2Bscience%252Caps%252C828%26sr%3D8-241-spons%26psc%3D1&qualifier=1663448047&id=1286096346710520&widgetName=sp_atf_next>\n",
      "2022-09-17 22:54:37 [scrapy.downloadermiddlewares.redirect] DEBUG: Redirecting (302) to <GET https://www.amazon.com/Hands-Programmatic-house-Digital-Advertising/dp/939103019X/ref=sr_1_243_sspa?crid=2YKZLS0CJFDGI&keywords=data+science&qid=1663448047&sprefix=data+science%2Caps%2C828&sr=8-243-spons&psc=1&spLa=ZW5jcnlwdGVkUXVhbGlmaWVyPUExWjNRTElUT0E2N0NTJmVuY3J5cHRlZElkPUEwNDk3NjY1MTlMMk9ZUDlMUldKVyZlbmNyeXB0ZWRBZElkPUEwOTkwMTQ0MVVFVjdGTTYySlBLTiZ3aWRnZXROYW1lPXNwX2F0Zl9uZXh0JmFjdGlvbj1jbGlja1JlZGlyZWN0JmRvTm90TG9nQ2xpY2s9dHJ1ZQ==> from <GET https://www.amazon.com/gp/slredirect/picassoRedirect.html/ref=pa_sp_atf_next_aps_sr_pg6_1?ie=UTF8&adId=A09901441UEV7FM62JPKN&url=%2FHands-Programmatic-house-Digital-Advertising%2Fdp%2F939103019X%2Fref%3Dsr_1_243_sspa%3Fcrid%3D2YKZLS0CJFDGI%26keywords%3Ddata%2Bscience%26qid%3D1663448047%26sprefix%3Ddata%2Bscience%252Caps%252C828%26sr%3D8-243-spons%26psc%3D1&qualifier=1663448047&id=1286096346710520&widgetName=sp_atf_next>\n",
      "2022-09-17 22:54:37 [scrapy.core.engine] DEBUG: Crawled (200) <GET https://www.amazon.com/W-Boiss-Data-Portraits-Visualizing/dp/1616897066/ref=sr_1_259_sspa?crid=2YKZLS0CJFDGI&keywords=data+science&qid=1663448047&sprefix=data+science%2Caps%2C828&sr=8-259-spons&psc=1&spLa=ZW5jcnlwdGVkUXVhbGlmaWVyPUExWjNRTElUT0E2N0NTJmVuY3J5cHRlZElkPUEwNDk3NjY1MTlMMk9ZUDlMUldKVyZlbmNyeXB0ZWRBZElkPUEwMDQ0MjIzMzhZN1FPSFMwMDJMViZ3aWRnZXROYW1lPXNwX210ZiZhY3Rpb249Y2xpY2tSZWRpcmVjdCZkb05vdExvZ0NsaWNrPXRydWU=> (referer: https://www.amazon.com/s?k=data+science&s=relevanceblender&page=6&crid=2YKZLS0CJFDGI&qid=1663103507&sprefix=data+science%2Caps%2C828&ref=sr_pg_6)\n"
     ]
    },
    {
     "name": "stdout",
     "output_type": "stream",
     "text": [
      "229\n",
      "['\\n            \\n              58%\\n            \\n          '] 4.2 out of 5 stars 7.5 x 0.81 x 9.25 inches\n"
     ]
    },
    {
     "name": "stderr",
     "output_type": "stream",
     "text": [
      "2022-09-17 22:54:37 [scrapy.core.engine] DEBUG: Crawled (200) <GET https://www.amazon.com/Introduction-Data-Science-Jeffrey-Saltz/dp/150637753X/ref=sr_1_248?crid=2YKZLS0CJFDGI&keywords=data+science&qid=1663448047&sprefix=data+science%2Caps%2C828&sr=8-248> (referer: https://www.amazon.com/s?k=data+science&s=relevanceblender&page=6&crid=2YKZLS0CJFDGI&qid=1663103507&sprefix=data+science%2Caps%2C828&ref=sr_pg_6)\n",
      "2022-09-17 22:54:37 [scrapy.downloadermiddlewares.redirect] DEBUG: Redirecting (302) to <GET https://www.amazon.com/Python-Machine-Learning-scikit-learn-TensorFlow/dp/1789955750/ref=sr_1_242_sspa?crid=2YKZLS0CJFDGI&keywords=data+science&qid=1663448047&sprefix=data+science%2Caps%2C828&sr=8-242-spons&psc=1&spLa=ZW5jcnlwdGVkUXVhbGlmaWVyPUExWjNRTElUT0E2N0NTJmVuY3J5cHRlZElkPUEwNDk3NjY1MTlMMk9ZUDlMUldKVyZlbmNyeXB0ZWRBZElkPUEwOTgxMjM5QVVUQU44ODhWMzJSJndpZGdldE5hbWU9c3BfYXRmX25leHQmYWN0aW9uPWNsaWNrUmVkaXJlY3QmZG9Ob3RMb2dDbGljaz10cnVl> from <GET https://www.amazon.com/gp/slredirect/picassoRedirect.html/ref=pa_sp_atf_next_aps_sr_pg6_1?ie=UTF8&adId=A0981239AUTAN888V32R&url=%2FPython-Machine-Learning-scikit-learn-TensorFlow%2Fdp%2F1789955750%2Fref%3Dsr_1_242_sspa%3Fcrid%3D2YKZLS0CJFDGI%26keywords%3Ddata%2Bscience%26qid%3D1663448047%26sprefix%3Ddata%2Bscience%252Caps%252C828%26sr%3D8-242-spons%26psc%3D1&qualifier=1663448047&id=1286096346710520&widgetName=sp_atf_next>\n"
     ]
    },
    {
     "name": "stdout",
     "output_type": "stream",
     "text": [
      "230\n",
      "['\\n            \\n              63%\\n            \\n          '] 4.3 out of 5 stars 7.01 x 0.69 x 9.17 inches\n",
      "231\n",
      "['\\n            \\n              66%\\n            \\n          '] 4.5 out of 5 stars 7.5 x 0.86 x 9.25 inches\n"
     ]
    },
    {
     "name": "stderr",
     "output_type": "stream",
     "text": [
      "2022-09-17 22:54:38 [scrapy.core.engine] DEBUG: Crawled (200) <GET https://www.amazon.com/Probabilistic-Machine-Learning-Introduction-Computation/dp/0262046822/ref=sr_1_246?crid=2YKZLS0CJFDGI&keywords=data+science&qid=1663448047&sprefix=data+science%2Caps%2C828&sr=8-246> (referer: https://www.amazon.com/s?k=data+science&s=relevanceblender&page=6&crid=2YKZLS0CJFDGI&qid=1663103507&sprefix=data+science%2Caps%2C828&ref=sr_pg_6)\n"
     ]
    },
    {
     "name": "stdout",
     "output_type": "stream",
     "text": [
      "232\n",
      "['\\n            \\n              91%\\n            \\n          '] 4.9 out of 5 stars 7.25 x 0.75 x 10.25 inches\n",
      "233\n",
      "['\\n            \\n              65%\\n            \\n          '] 4.4 out of 5 stars 7.38 x 0.65 x 9.13 inches\n"
     ]
    },
    {
     "name": "stderr",
     "output_type": "stream",
     "text": [
      "2022-09-17 22:54:38 [scrapy.core.engine] DEBUG: Crawled (200) <GET https://www.amazon.com/Computer-Science-Unleashed-Harness-Computational/dp/0997316055/ref=sr_1_245?crid=2YKZLS0CJFDGI&keywords=data+science&qid=1663448047&sprefix=data+science%2Caps%2C828&sr=8-245> (referer: https://www.amazon.com/s?k=data+science&s=relevanceblender&page=6&crid=2YKZLS0CJFDGI&qid=1663103507&sprefix=data+science%2Caps%2C828&ref=sr_pg_6)\n"
     ]
    },
    {
     "name": "stdout",
     "output_type": "stream",
     "text": [
      "234\n",
      "['\\n            \\n              76%\\n            \\n          '] 4.4 out of 5 stars 8.25 x 1.44 x 9.29 inches\n",
      "235\n",
      "['\\n            \\n              94%\\n            \\n          '] 4.9 out of 5 stars 5.5 x 0.73 x 8.5 inches\n"
     ]
    },
    {
     "name": "stderr",
     "output_type": "stream",
     "text": [
      "2022-09-17 22:54:39 [scrapy.core.engine] DEBUG: Crawled (200) <GET https://www.amazon.com/Core-data-science-illustrations-python-ebook/dp/B08WCBWYQ6/ref=sr_1_218?crid=2YKZLS0CJFDGI&keywords=data+science&qid=1663448033&sprefix=data+science%2Caps%2C828&sr=8-218> (referer: https://www.amazon.com/s?k=data+science&s=relevanceblender&page=5&crid=2YKZLS0CJFDGI&qid=1663103507&sprefix=data+science%2Caps%2C828&ref=sr_pg_5)\n",
      "2022-09-17 22:54:40 [scrapy.core.engine] DEBUG: Crawled (200) <GET https://www.amazon.com/Mastering-Tableau-2021-intelligence-techniques/dp/1800561644/ref=sr_1_221?crid=2YKZLS0CJFDGI&keywords=data+science&qid=1663448033&sprefix=data+science%2Caps%2C828&sr=8-221> (referer: https://www.amazon.com/s?k=data+science&s=relevanceblender&page=5&crid=2YKZLS0CJFDGI&qid=1663103507&sprefix=data+science%2Caps%2C828&ref=sr_pg_5)\n",
      "2022-09-17 22:54:40 [scrapy.core.engine] DEBUG: Crawled (200) <GET https://www.amazon.com/Geographical-Data-Science-Spatial-Analysis/dp/1526449366/ref=sr_1_220?crid=2YKZLS0CJFDGI&keywords=data+science&qid=1663448033&sprefix=data+science%2Caps%2C828&sr=8-220> (referer: https://www.amazon.com/s?k=data+science&s=relevanceblender&page=5&crid=2YKZLS0CJFDGI&qid=1663103507&sprefix=data+science%2Caps%2C828&ref=sr_pg_5)\n",
      "2022-09-17 22:54:40 [scrapy.core.engine] DEBUG: Crawled (200) <GET https://www.amazon.com/Malware-Data-Science-Detection-Attribution/dp/1593278594/ref=sr_1_219?crid=2YKZLS0CJFDGI&keywords=data+science&qid=1663448033&sprefix=data+science%2Caps%2C828&sr=8-219> (referer: https://www.amazon.com/s?k=data+science&s=relevanceblender&page=5&crid=2YKZLS0CJFDGI&qid=1663103507&sprefix=data+science%2Caps%2C828&ref=sr_pg_5)\n"
     ]
    },
    {
     "name": "stdout",
     "output_type": "stream",
     "text": [
      "236\n",
      "['\\n            \\n              50%\\n            \\n          '] 4.5 out of 5 stars None\n"
     ]
    },
    {
     "name": "stderr",
     "output_type": "stream",
     "text": [
      "2022-09-17 22:54:40 [scrapy.core.engine] DEBUG: Crawled (200) <GET https://www.amazon.com/Learning-Geospatial-Analysis-Python-fundamentals/dp/1789959276/ref=sr_1_244_sspa?crid=2YKZLS0CJFDGI&keywords=data+science&qid=1663448047&sprefix=data+science%2Caps%2C828&sr=8-244-spons&psc=1&spLa=ZW5jcnlwdGVkUXVhbGlmaWVyPUExWjNRTElUT0E2N0NTJmVuY3J5cHRlZElkPUEwNDk3NjY1MTlMMk9ZUDlMUldKVyZlbmNyeXB0ZWRBZElkPUEwOTk4NTg2MzZLVThTMURHR0NWNiZ3aWRnZXROYW1lPXNwX2F0Zl9uZXh0JmFjdGlvbj1jbGlja1JlZGlyZWN0JmRvTm90TG9nQ2xpY2s9dHJ1ZQ==> (referer: https://www.amazon.com/s?k=data+science&s=relevanceblender&page=6&crid=2YKZLS0CJFDGI&qid=1663103507&sprefix=data+science%2Caps%2C828&ref=sr_pg_6)\n"
     ]
    },
    {
     "name": "stdout",
     "output_type": "stream",
     "text": [
      "237\n",
      "['\\n            \\n              70%\\n            \\n          '] 4.4 out of 5 stars 7.5 x 1.79 x 9.25 inches\n",
      "238\n",
      "['\\n            \\n              49%\\n            \\n          '] 4.5 out of 5 stars 6.69 x 0.75 x 9.61 inches\n"
     ]
    },
    {
     "name": "stderr",
     "output_type": "stream",
     "text": [
      "2022-09-17 22:54:41 [scrapy.core.engine] DEBUG: Crawled (200) <GET https://www.amazon.com/Big-Book-Dashboards-Visualizing-Real-World/dp/1119282713/ref=sr_1_217?crid=2YKZLS0CJFDGI&keywords=data+science&qid=1663448033&sprefix=data+science%2Caps%2C828&sr=8-217> (referer: https://www.amazon.com/s?k=data+science&s=relevanceblender&page=5&crid=2YKZLS0CJFDGI&qid=1663103507&sprefix=data+science%2Caps%2C828&ref=sr_pg_5)\n",
      "2022-09-17 22:54:41 [scrapy.core.engine] DEBUG: Crawled (200) <GET https://www.amazon.com/Analytical-Skills-Data-Science-Enterprise-ebook/dp/B0899Q2GJC/ref=sr_1_216?crid=2YKZLS0CJFDGI&keywords=data+science&qid=1663448033&sprefix=data+science%2Caps%2C828&sr=8-216> (referer: https://www.amazon.com/s?k=data+science&s=relevanceblender&page=5&crid=2YKZLS0CJFDGI&qid=1663103507&sprefix=data+science%2Caps%2C828&ref=sr_pg_5)\n"
     ]
    },
    {
     "name": "stdout",
     "output_type": "stream",
     "text": [
      "239\n",
      "['\\n            \\n              71%\\n            \\n          '] 4.6 out of 5 stars 7 x 0.69 x 9.31 inches\n",
      "240\n",
      "['\\n            \\n              62%\\n            \\n          '] 4.4 out of 5 stars 7.5 x 1.03 x 9.25 inches\n"
     ]
    },
    {
     "name": "stderr",
     "output_type": "stream",
     "text": [
      "2022-09-17 22:54:41 [scrapy.downloadermiddlewares.redirect] DEBUG: Redirecting (302) to <GET https://www.amazon.com/Data-Visualization-Python-Pandas-Matplotlib/dp/B0972TFYN8/ref=sr_1_212_sspa?crid=2YKZLS0CJFDGI&keywords=data+science&qid=1663448033&sprefix=data+science%2Caps%2C828&sr=8-212-spons&psc=1&spLa=ZW5jcnlwdGVkUXVhbGlmaWVyPUEyREY5MEJONUVOQ1NYJmVuY3J5cHRlZElkPUEwNTExNDUyUEQ4Q0g3SkpNQkw3JmVuY3J5cHRlZEFkSWQ9QTA0NzE0OTUyNjg3N1Y3UU82TU43JndpZGdldE5hbWU9c3BfbXRmJmFjdGlvbj1jbGlja1JlZGlyZWN0JmRvTm90TG9nQ2xpY2s9dHJ1ZQ==> from <GET https://www.amazon.com/gp/slredirect/picassoRedirect.html/ref=pa_sp_mtf_aps_sr_pg5_1?ie=UTF8&adId=A047149526877V7QO6MN7&url=%2FData-Visualization-Python-Pandas-Matplotlib%2Fdp%2FB0972TFYN8%2Fref%3Dsr_1_212_sspa%3Fcrid%3D2YKZLS0CJFDGI%26keywords%3Ddata%2Bscience%26qid%3D1663448033%26sprefix%3Ddata%2Bscience%252Caps%252C828%26sr%3D8-212-spons%26psc%3D1&qualifier=1663448033&id=4081593171667701&widgetName=sp_mtf>\n"
     ]
    },
    {
     "name": "stdout",
     "output_type": "stream",
     "text": [
      "241\n",
      "['\\n            \\n              72%\\n            \\n          '] 4.6 out of 5 stars 8.4 x 1.2 x 8.3 inches\n",
      "242\n",
      "['\\n            \\n              71%\\n            \\n          '] 4.5 out of 5 stars None\n"
     ]
    },
    {
     "name": "stderr",
     "output_type": "stream",
     "text": [
      "2022-09-17 22:54:41 [scrapy.downloadermiddlewares.redirect] DEBUG: Redirecting (302) to <GET https://www.amazon.com/Getting-Started-Elastic-Stack-8-0/dp/1800569491/ref=sr_1_211_sspa?crid=2YKZLS0CJFDGI&keywords=data+science&qid=1663448033&sprefix=data+science%2Caps%2C828&sr=8-211-spons&psc=1&spLa=ZW5jcnlwdGVkUXVhbGlmaWVyPUEyREY5MEJONUVOQ1NYJmVuY3J5cHRlZElkPUEwNTExNDUyUEQ4Q0g3SkpNQkw3JmVuY3J5cHRlZEFkSWQ9QTA2NjkxODUxSFdaTTFMMlFNSkdYJndpZGdldE5hbWU9c3BfbXRmJmFjdGlvbj1jbGlja1JlZGlyZWN0JmRvTm90TG9nQ2xpY2s9dHJ1ZQ==> from <GET https://www.amazon.com/gp/slredirect/picassoRedirect.html/ref=pa_sp_mtf_aps_sr_pg5_1?ie=UTF8&adId=A06691851HWZM1L2QMJGX&url=%2FGetting-Started-Elastic-Stack-8-0%2Fdp%2F1800569491%2Fref%3Dsr_1_211_sspa%3Fcrid%3D2YKZLS0CJFDGI%26keywords%3Ddata%2Bscience%26qid%3D1663448033%26sprefix%3Ddata%2Bscience%252Caps%252C828%26sr%3D8-211-spons%26psc%3D1&qualifier=1663448033&id=4081593171667701&widgetName=sp_mtf>\n",
      "2022-09-17 22:54:41 [scrapy.core.engine] DEBUG: Crawled (200) <GET https://www.amazon.com/Machine-Learning-techniques-predictive-modeling/dp/1788295862/ref=sr_1_215?crid=2YKZLS0CJFDGI&keywords=data+science&qid=1663448033&sprefix=data+science%2Caps%2C828&sr=8-215> (referer: https://www.amazon.com/s?k=data+science&s=relevanceblender&page=5&crid=2YKZLS0CJFDGI&qid=1663103507&sprefix=data+science%2Caps%2C828&ref=sr_pg_5)\n",
      "2022-09-17 22:54:42 [scrapy.downloadermiddlewares.redirect] DEBUG: Redirecting (302) to <GET https://www.amazon.com/Building-Data-Science-Solutions-Anaconda/dp/1800568789/ref=sr_1_210_sspa?crid=2YKZLS0CJFDGI&keywords=data+science&qid=1663448033&sprefix=data+science%2Caps%2C828&sr=8-210-spons&psc=1&spLa=ZW5jcnlwdGVkUXVhbGlmaWVyPUEyREY5MEJONUVOQ1NYJmVuY3J5cHRlZElkPUEwNTExNDUyUEQ4Q0g3SkpNQkw3JmVuY3J5cHRlZEFkSWQ9QTAzMjE4MDkySE44UzBFQ1RKVFZYJndpZGdldE5hbWU9c3BfbXRmJmFjdGlvbj1jbGlja1JlZGlyZWN0JmRvTm90TG9nQ2xpY2s9dHJ1ZQ==> from <GET https://www.amazon.com/gp/slredirect/picassoRedirect.html/ref=pa_sp_mtf_aps_sr_pg5_1?ie=UTF8&adId=A03218092HN8S0ECTJTVX&url=%2FBuilding-Data-Science-Solutions-Anaconda%2Fdp%2F1800568789%2Fref%3Dsr_1_210_sspa%3Fcrid%3D2YKZLS0CJFDGI%26keywords%3Ddata%2Bscience%26qid%3D1663448033%26sprefix%3Ddata%2Bscience%252Caps%252C828%26sr%3D8-210-spons%26psc%3D1&qualifier=1663448033&id=4081593171667701&widgetName=sp_mtf>\n",
      "2022-09-17 22:54:42 [scrapy.downloadermiddlewares.redirect] DEBUG: Redirecting (302) to <GET https://www.amazon.com/Data-Lakehouse-Action-Architecting-analytics/dp/1801815933/ref=sr_1_209_sspa?crid=2YKZLS0CJFDGI&keywords=data+science&qid=1663448033&sprefix=data+science%2Caps%2C828&sr=8-209-spons&psc=1&spLa=ZW5jcnlwdGVkUXVhbGlmaWVyPUEyREY5MEJONUVOQ1NYJmVuY3J5cHRlZElkPUEwNTExNDUyUEQ4Q0g3SkpNQkw3JmVuY3J5cHRlZEFkSWQ9QTA4NDk5MzQzVDMzNURPVUQySlZZJndpZGdldE5hbWU9c3BfbXRmJmFjdGlvbj1jbGlja1JlZGlyZWN0JmRvTm90TG9nQ2xpY2s9dHJ1ZQ==> from <GET https://www.amazon.com/gp/slredirect/picassoRedirect.html/ref=pa_sp_mtf_aps_sr_pg5_1?ie=UTF8&adId=A08499343T335DOUD2JVY&url=%2FData-Lakehouse-Action-Architecting-analytics%2Fdp%2F1801815933%2Fref%3Dsr_1_209_sspa%3Fcrid%3D2YKZLS0CJFDGI%26keywords%3Ddata%2Bscience%26qid%3D1663448033%26sprefix%3Ddata%2Bscience%252Caps%252C828%26sr%3D8-209-spons%26psc%3D1&qualifier=1663448033&id=4081593171667701&widgetName=sp_mtf>\n"
     ]
    },
    {
     "name": "stdout",
     "output_type": "stream",
     "text": [
      "243\n",
      "['\\n            \\n              78%\\n            \\n          '] 4.6 out of 5 stars 7.5 x 1.04 x 9.25 inches\n"
     ]
    },
    {
     "name": "stderr",
     "output_type": "stream",
     "text": [
      "2022-09-17 22:54:42 [scrapy.core.engine] DEBUG: Crawled (200) <GET https://www.amazon.com/Hands-Programmatic-house-Digital-Advertising/dp/939103019X/ref=sr_1_243_sspa?crid=2YKZLS0CJFDGI&keywords=data+science&qid=1663448047&sprefix=data+science%2Caps%2C828&sr=8-243-spons&psc=1&spLa=ZW5jcnlwdGVkUXVhbGlmaWVyPUExWjNRTElUT0E2N0NTJmVuY3J5cHRlZElkPUEwNDk3NjY1MTlMMk9ZUDlMUldKVyZlbmNyeXB0ZWRBZElkPUEwOTkwMTQ0MVVFVjdGTTYySlBLTiZ3aWRnZXROYW1lPXNwX2F0Zl9uZXh0JmFjdGlvbj1jbGlja1JlZGlyZWN0JmRvTm90TG9nQ2xpY2s9dHJ1ZQ==> (referer: https://www.amazon.com/s?k=data+science&s=relevanceblender&page=6&crid=2YKZLS0CJFDGI&qid=1663103507&sprefix=data+science%2Caps%2C828&ref=sr_pg_6)\n",
      "2022-09-17 22:54:42 [scrapy.core.engine] DEBUG: Crawled (200) <GET https://www.amazon.com/Ontology-Based-Information-Retrieval-Healthcare-Systems/dp/1119640482/ref=sr_1_241_sspa?crid=2YKZLS0CJFDGI&keywords=data+science&qid=1663448047&sprefix=data+science%2Caps%2C828&sr=8-241-spons&psc=1&spLa=ZW5jcnlwdGVkUXVhbGlmaWVyPUExWjNRTElUT0E2N0NTJmVuY3J5cHRlZElkPUEwNDk3NjY1MTlMMk9ZUDlMUldKVyZlbmNyeXB0ZWRBZElkPUEwNTY0MzkwSTkxVDRFSjEyQkM5JndpZGdldE5hbWU9c3BfYXRmX25leHQmYWN0aW9uPWNsaWNrUmVkaXJlY3QmZG9Ob3RMb2dDbGljaz10cnVl> (referer: https://www.amazon.com/s?k=data+science&s=relevanceblender&page=6&crid=2YKZLS0CJFDGI&qid=1663103507&sprefix=data+science%2Caps%2C828&ref=sr_pg_6)\n"
     ]
    },
    {
     "name": "stdout",
     "output_type": "stream",
     "text": [
      "244\n",
      "['\\n            \\n              50%\\n            \\n          '] 3.5 out of 5 stars 7.5 x 0.47 x 9.25 inches\n"
     ]
    },
    {
     "name": "stderr",
     "output_type": "stream",
     "text": [
      "2022-09-17 22:54:43 [scrapy.core.engine] DEBUG: Crawled (200) <GET https://www.amazon.com/Data-Governance-Effective-Kaufmann-Intelligence/dp/0124158293/ref=sr_1_214?crid=2YKZLS0CJFDGI&keywords=data+science&qid=1663448033&sprefix=data+science%2Caps%2C828&sr=8-214> (referer: https://www.amazon.com/s?k=data+science&s=relevanceblender&page=5&crid=2YKZLS0CJFDGI&qid=1663103507&sprefix=data+science%2Caps%2C828&ref=sr_pg_5)\n"
     ]
    },
    {
     "name": "stdout",
     "output_type": "stream",
     "text": [
      "245\n",
      "[] None 6 x 1.06 x 9 inches\n"
     ]
    },
    {
     "name": "stderr",
     "output_type": "stream",
     "text": [
      "2022-09-17 22:54:43 [scrapy.core.engine] DEBUG: Crawled (200) <GET https://www.amazon.com/Data-Science-Context-Foundations-Opportunities/dp/1009272209/ref=sr_1_213?crid=2YKZLS0CJFDGI&keywords=data+science&qid=1663448033&sprefix=data+science%2Caps%2C828&sr=8-213> (referer: https://www.amazon.com/s?k=data+science&s=relevanceblender&page=5&crid=2YKZLS0CJFDGI&qid=1663103507&sprefix=data+science%2Caps%2C828&ref=sr_pg_5)\n",
      "2022-09-17 22:54:43 [scrapy.core.engine] DEBUG: Crawled (200) <GET https://www.amazon.com/Python-Machine-Learning-scikit-learn-TensorFlow/dp/1789955750/ref=sr_1_242_sspa?crid=2YKZLS0CJFDGI&keywords=data+science&qid=1663448047&sprefix=data+science%2Caps%2C828&sr=8-242-spons&psc=1&spLa=ZW5jcnlwdGVkUXVhbGlmaWVyPUExWjNRTElUT0E2N0NTJmVuY3J5cHRlZElkPUEwNDk3NjY1MTlMMk9ZUDlMUldKVyZlbmNyeXB0ZWRBZElkPUEwOTgxMjM5QVVUQU44ODhWMzJSJndpZGdldE5hbWU9c3BfYXRmX25leHQmYWN0aW9uPWNsaWNrUmVkaXJlY3QmZG9Ob3RMb2dDbGljaz10cnVl> (referer: https://www.amazon.com/s?k=data+science&s=relevanceblender&page=6&crid=2YKZLS0CJFDGI&qid=1663103507&sprefix=data+science%2Caps%2C828&ref=sr_pg_6)\n"
     ]
    },
    {
     "name": "stdout",
     "output_type": "stream",
     "text": [
      "246\n",
      "['\\n            \\n              66%\\n            \\n          '] 4.3 out of 5 stars 7.5 x 0.61 x 9.25 inches\n",
      "247\n",
      "[] None 9.61 x 6.69 x 0.76 inches\n",
      "248\n",
      "['\\n            \\n              71%\\n            \\n          '] 4.5 out of 5 stars 7.5 x 1.74 x 9.25 inches\n"
     ]
    },
    {
     "name": "stderr",
     "output_type": "stream",
     "text": [
      "2022-09-17 22:54:44 [scrapy.core.engine] DEBUG: Crawled (200) <GET https://www.amazon.com/Machine-Learning-Biotechnology-Life-Sciences/dp/1801811911/ref=sr_1_206?crid=2YKZLS0CJFDGI&keywords=data+science&qid=1663448033&sprefix=data+science%2Caps%2C828&sr=8-206> (referer: https://www.amazon.com/s?k=data+science&s=relevanceblender&page=5&crid=2YKZLS0CJFDGI&qid=1663103507&sprefix=data+science%2Caps%2C828&ref=sr_pg_5)\n",
      "2022-09-17 22:54:44 [scrapy.core.engine] DEBUG: Crawled (200) <GET https://www.amazon.com/Data-Science-Big-Analytics-Discovering/dp/111887613X/ref=sr_1_208?crid=2YKZLS0CJFDGI&keywords=data+science&qid=1663448033&sprefix=data+science%2Caps%2C828&sr=8-208> (referer: https://www.amazon.com/s?k=data+science&s=relevanceblender&page=5&crid=2YKZLS0CJFDGI&qid=1663103507&sprefix=data+science%2Caps%2C828&ref=sr_pg_5)\n",
      "2022-09-17 22:54:44 [scrapy.core.engine] DEBUG: Crawled (200) <GET https://www.amazon.com/Fundamentals-Data-Science-Part-Experiment/dp/1941043119/ref=sr_1_207?crid=2YKZLS0CJFDGI&keywords=data+science&qid=1663448033&sprefix=data+science%2Caps%2C828&sr=8-207> (referer: https://www.amazon.com/s?k=data+science&s=relevanceblender&page=5&crid=2YKZLS0CJFDGI&qid=1663103507&sprefix=data+science%2Caps%2C828&ref=sr_pg_5)\n"
     ]
    },
    {
     "name": "stdout",
     "output_type": "stream",
     "text": [
      "249\n",
      "['\\n            \\n              57%\\n            \\n          '] 4.1 out of 5 stars 7.5 x 0.92 x 9.25 inches\n"
     ]
    },
    {
     "name": "stderr",
     "output_type": "stream",
     "text": [
      "2022-09-17 22:54:45 [scrapy.core.engine] DEBUG: Crawled (200) <GET https://www.amazon.com/Graph-Neural-Networks-Foundations-Applications/dp/9811660530/ref=sr_1_205?crid=2YKZLS0CJFDGI&keywords=data+science&qid=1663448033&sprefix=data+science%2Caps%2C828&sr=8-205> (referer: https://www.amazon.com/s?k=data+science&s=relevanceblender&page=5&crid=2YKZLS0CJFDGI&qid=1663103507&sprefix=data+science%2Caps%2C828&ref=sr_pg_5)\n"
     ]
    },
    {
     "name": "stdout",
     "output_type": "stream",
     "text": [
      "250\n",
      "['\\n            \\n              67%\\n            \\n          '] 4.4 out of 5 stars 7.3 x 1 x 9.4 inches\n"
     ]
    },
    {
     "name": "stderr",
     "output_type": "stream",
     "text": [
      "2022-09-17 22:54:45 [scrapy.core.engine] DEBUG: Crawled (200) <GET https://www.amazon.com/Data-Driven-Evolutionary-Optimization-Computational-Intelligence/dp/3030746399/ref=sr_1_204?crid=2YKZLS0CJFDGI&keywords=data+science&qid=1663448033&sprefix=data+science%2Caps%2C828&sr=8-204> (referer: https://www.amazon.com/s?k=data+science&s=relevanceblender&page=5&crid=2YKZLS0CJFDGI&qid=1663103507&sprefix=data+science%2Caps%2C828&ref=sr_pg_5)\n",
      "2022-09-17 22:54:45 [scrapy.core.engine] DEBUG: Crawled (200) <GET https://www.amazon.com/Responsible-Data-Science-Transparency-Algorithms/dp/1119741750/ref=sr_1_201?crid=2YKZLS0CJFDGI&keywords=data+science&qid=1663448033&sprefix=data+science%2Caps%2C828&sr=8-201> (referer: https://www.amazon.com/s?k=data+science&s=relevanceblender&page=5&crid=2YKZLS0CJFDGI&qid=1663103507&sprefix=data+science%2Caps%2C828&ref=sr_pg_5)\n"
     ]
    },
    {
     "name": "stdout",
     "output_type": "stream",
     "text": [
      "251\n",
      "['\\n            \\n              100%\\n            \\n          '] 5.0 out of 5 stars 6.14 x 0.66 x 9.21 inches\n",
      "252\n",
      "['\\n            \\n              64%\\n            \\n          '] 4.6 out of 5 stars 6.25 x 1.75 x 9.5 inches\n",
      "253\n",
      "['\\n            \\n              100%\\n            \\n          '] 5.0 out of 5 stars 6.14 x 0.94 x 9.21 inches\n"
     ]
    },
    {
     "name": "stderr",
     "output_type": "stream",
     "text": [
      "2022-09-17 22:54:45 [scrapy.core.engine] DEBUG: Crawled (200) <GET https://www.amazon.com/Getting-Started-Elastic-Stack-8-0/dp/1800569491/ref=sr_1_211_sspa?crid=2YKZLS0CJFDGI&keywords=data+science&qid=1663448033&sprefix=data+science%2Caps%2C828&sr=8-211-spons&psc=1&spLa=ZW5jcnlwdGVkUXVhbGlmaWVyPUEyREY5MEJONUVOQ1NYJmVuY3J5cHRlZElkPUEwNTExNDUyUEQ4Q0g3SkpNQkw3JmVuY3J5cHRlZEFkSWQ9QTA2NjkxODUxSFdaTTFMMlFNSkdYJndpZGdldE5hbWU9c3BfbXRmJmFjdGlvbj1jbGlja1JlZGlyZWN0JmRvTm90TG9nQ2xpY2s9dHJ1ZQ==> (referer: https://www.amazon.com/s?k=data+science&s=relevanceblender&page=5&crid=2YKZLS0CJFDGI&qid=1663103507&sprefix=data+science%2Caps%2C828&ref=sr_pg_5)\n"
     ]
    },
    {
     "name": "stdout",
     "output_type": "stream",
     "text": [
      "254\n",
      "[] None None\n"
     ]
    },
    {
     "name": "stderr",
     "output_type": "stream",
     "text": [
      "2022-09-17 22:54:46 [scrapy.core.engine] DEBUG: Crawled (200) <GET https://www.amazon.com/Functional-Aesthetics-Visualization-Vidya-Setlur/dp/1119810086/ref=sr_1_203?crid=2YKZLS0CJFDGI&keywords=data+science&qid=1663448033&sprefix=data+science%2Caps%2C828&sr=8-203> (referer: https://www.amazon.com/s?k=data+science&s=relevanceblender&page=5&crid=2YKZLS0CJFDGI&qid=1663103507&sprefix=data+science%2Caps%2C828&ref=sr_pg_5)\n",
      "2022-09-17 22:54:46 [scrapy.core.engine] DEBUG: Crawled (200) <GET https://www.amazon.com/Data-Visualization-Python-Pandas-Matplotlib/dp/B0972TFYN8/ref=sr_1_212_sspa?crid=2YKZLS0CJFDGI&keywords=data+science&qid=1663448033&sprefix=data+science%2Caps%2C828&sr=8-212-spons&psc=1&spLa=ZW5jcnlwdGVkUXVhbGlmaWVyPUEyREY5MEJONUVOQ1NYJmVuY3J5cHRlZElkPUEwNTExNDUyUEQ4Q0g3SkpNQkw3JmVuY3J5cHRlZEFkSWQ9QTA0NzE0OTUyNjg3N1Y3UU82TU43JndpZGdldE5hbWU9c3BfbXRmJmFjdGlvbj1jbGlja1JlZGlyZWN0JmRvTm90TG9nQ2xpY2s9dHJ1ZQ==> (referer: https://www.amazon.com/s?k=data+science&s=relevanceblender&page=5&crid=2YKZLS0CJFDGI&qid=1663103507&sprefix=data+science%2Caps%2C828&ref=sr_pg_5)\n"
     ]
    },
    {
     "name": "stdout",
     "output_type": "stream",
     "text": [
      "255\n",
      "['\\n            \\n              83%\\n            \\n          '] 4.7 out of 5 stars 7.5 x 1.07 x 9.25 inches\n"
     ]
    },
    {
     "name": "stderr",
     "output_type": "stream",
     "text": [
      "2022-09-17 22:54:46 [scrapy.downloadermiddlewares.redirect] DEBUG: Redirecting (302) to <GET https://www.amazon.com/Mastering-TensorFlow-2-x-Structured-Unstructured/dp/9391392229/ref=sr_1_196_sspa?crid=2YKZLS0CJFDGI&keywords=data+science&qid=1663448033&sprefix=data+science%2Caps%2C828&sr=8-196-spons&psc=1&spLa=ZW5jcnlwdGVkUXVhbGlmaWVyPUEyREY5MEJONUVOQ1NYJmVuY3J5cHRlZElkPUEwNTExNDUyUEQ4Q0g3SkpNQkw3JmVuY3J5cHRlZEFkSWQ9QTA0MDU4NTMzVEI4UFUwVUdWVFRYJndpZGdldE5hbWU9c3BfYXRmX25leHQmYWN0aW9uPWNsaWNrUmVkaXJlY3QmZG9Ob3RMb2dDbGljaz10cnVl> from <GET https://www.amazon.com/gp/slredirect/picassoRedirect.html/ref=pa_sp_atf_next_aps_sr_pg5_1?ie=UTF8&adId=A04058533TB8PU0UGVTTX&url=%2FMastering-TensorFlow-2-x-Structured-Unstructured%2Fdp%2F9391392229%2Fref%3Dsr_1_196_sspa%3Fcrid%3D2YKZLS0CJFDGI%26keywords%3Ddata%2Bscience%26qid%3D1663448033%26sprefix%3Ddata%2Bscience%252Caps%252C828%26sr%3D8-196-spons%26psc%3D1&qualifier=1663448033&id=4081593171667701&widgetName=sp_atf_next>\n"
     ]
    },
    {
     "name": "stdout",
     "output_type": "stream",
     "text": [
      "256\n",
      "[] None 7.4 x 0.63 x 9.22 inches\n",
      "257\n",
      "['\\n            \\n              67%\\n            \\n          '] 4.1 out of 5 stars 7.44 x 1.05 x 9.69 inches\n"
     ]
    },
    {
     "name": "stderr",
     "output_type": "stream",
     "text": [
      "2022-09-17 22:54:47 [scrapy.downloadermiddlewares.redirect] DEBUG: Redirecting (302) to <GET https://www.amazon.com/Tableau-Workshop-practical-guide-visualization/dp/1800207654/ref=sr_1_195_sspa?crid=2YKZLS0CJFDGI&keywords=data+science&qid=1663448033&sprefix=data+science%2Caps%2C828&sr=8-195-spons&psc=1&spLa=ZW5jcnlwdGVkUXVhbGlmaWVyPUEyREY5MEJONUVOQ1NYJmVuY3J5cHRlZElkPUEwNTExNDUyUEQ4Q0g3SkpNQkw3JmVuY3J5cHRlZEFkSWQ9QTAyOTMzOTExNEo3Q0U2VFlRWjhBJndpZGdldE5hbWU9c3BfYXRmX25leHQmYWN0aW9uPWNsaWNrUmVkaXJlY3QmZG9Ob3RMb2dDbGljaz10cnVl> from <GET https://www.amazon.com/gp/slredirect/picassoRedirect.html/ref=pa_sp_atf_next_aps_sr_pg5_1?ie=UTF8&adId=A029339114J7CE6TYQZ8A&url=%2FTableau-Workshop-practical-guide-visualization%2Fdp%2F1800207654%2Fref%3Dsr_1_195_sspa%3Fcrid%3D2YKZLS0CJFDGI%26keywords%3Ddata%2Bscience%26qid%3D1663448033%26sprefix%3Ddata%2Bscience%252Caps%252C828%26sr%3D8-195-spons%26psc%3D1&qualifier=1663448033&id=4081593171667701&widgetName=sp_atf_next>\n",
      "2022-09-17 22:54:47 [scrapy.core.engine] DEBUG: Crawled (200) <GET https://www.amazon.com/Programming-Data-Science-Roger-Peng/dp/1365056821/ref=sr_1_202?crid=2YKZLS0CJFDGI&keywords=data+science&qid=1663448033&sprefix=data+science%2Caps%2C828&sr=8-202> (referer: https://www.amazon.com/s?k=data+science&s=relevanceblender&page=5&crid=2YKZLS0CJFDGI&qid=1663103507&sprefix=data+science%2Caps%2C828&ref=sr_pg_5)\n",
      "2022-09-17 22:54:47 [scrapy.core.engine] DEBUG: Crawled (200) <GET https://www.amazon.com/Building-Data-Science-Solutions-Anaconda/dp/1800568789/ref=sr_1_210_sspa?crid=2YKZLS0CJFDGI&keywords=data+science&qid=1663448033&sprefix=data+science%2Caps%2C828&sr=8-210-spons&psc=1&spLa=ZW5jcnlwdGVkUXVhbGlmaWVyPUEyREY5MEJONUVOQ1NYJmVuY3J5cHRlZElkPUEwNTExNDUyUEQ4Q0g3SkpNQkw3JmVuY3J5cHRlZEFkSWQ9QTAzMjE4MDkySE44UzBFQ1RKVFZYJndpZGdldE5hbWU9c3BfbXRmJmFjdGlvbj1jbGlja1JlZGlyZWN0JmRvTm90TG9nQ2xpY2s9dHJ1ZQ==> (referer: https://www.amazon.com/s?k=data+science&s=relevanceblender&page=5&crid=2YKZLS0CJFDGI&qid=1663103507&sprefix=data+science%2Caps%2C828&ref=sr_pg_5)\n",
      "2022-09-17 22:54:47 [scrapy.downloadermiddlewares.redirect] DEBUG: Redirecting (302) to <GET https://www.amazon.com/Oracle-Database-Administration-Interview-Questions/dp/1946383007/ref=sr_1_193_sspa?crid=2YKZLS0CJFDGI&keywords=data+science&qid=1663448033&sprefix=data+science%2Caps%2C828&sr=8-193-spons&psc=1&spLa=ZW5jcnlwdGVkUXVhbGlmaWVyPUEyREY5MEJONUVOQ1NYJmVuY3J5cHRlZElkPUEwNTExNDUyUEQ4Q0g3SkpNQkw3JmVuY3J5cHRlZEFkSWQ9QTA1Mzc5NjYzT09ETldBWU9RUFRMJndpZGdldE5hbWU9c3BfYXRmX25leHQmYWN0aW9uPWNsaWNrUmVkaXJlY3QmZG9Ob3RMb2dDbGljaz10cnVl> from <GET https://www.amazon.com/gp/slredirect/picassoRedirect.html/ref=pa_sp_atf_next_aps_sr_pg5_1?ie=UTF8&adId=A05379663OODNWAYOQPTL&url=%2FOracle-Database-Administration-Interview-Questions%2Fdp%2F1946383007%2Fref%3Dsr_1_193_sspa%3Fcrid%3D2YKZLS0CJFDGI%26keywords%3Ddata%2Bscience%26qid%3D1663448033%26sprefix%3Ddata%2Bscience%252Caps%252C828%26sr%3D8-193-spons%26psc%3D1&qualifier=1663448033&id=4081593171667701&widgetName=sp_atf_next>\n",
      "2022-09-17 22:54:47 [scrapy.core.engine] DEBUG: Crawled (200) <GET https://www.amazon.com/Data-Lakehouse-Action-Architecting-analytics/dp/1801815933/ref=sr_1_209_sspa?crid=2YKZLS0CJFDGI&keywords=data+science&qid=1663448033&sprefix=data+science%2Caps%2C828&sr=8-209-spons&psc=1&spLa=ZW5jcnlwdGVkUXVhbGlmaWVyPUEyREY5MEJONUVOQ1NYJmVuY3J5cHRlZElkPUEwNTExNDUyUEQ4Q0g3SkpNQkw3JmVuY3J5cHRlZEFkSWQ9QTA4NDk5MzQzVDMzNURPVUQySlZZJndpZGdldE5hbWU9c3BfbXRmJmFjdGlvbj1jbGlja1JlZGlyZWN0JmRvTm90TG9nQ2xpY2s9dHJ1ZQ==> (referer: https://www.amazon.com/s?k=data+science&s=relevanceblender&page=5&crid=2YKZLS0CJFDGI&qid=1663103507&sprefix=data+science%2Caps%2C828&ref=sr_pg_5)\n",
      "2022-09-17 22:54:47 [scrapy.downloadermiddlewares.redirect] DEBUG: Redirecting (302) to <GET https://www.amazon.com/Artificial-Intelligence-Power-leveraging-capabilities/dp/1801814635/ref=sr_1_194_sspa?crid=2YKZLS0CJFDGI&keywords=data+science&qid=1663448033&sprefix=data+science%2Caps%2C828&sr=8-194-spons&psc=1&spLa=ZW5jcnlwdGVkUXVhbGlmaWVyPUEyREY5MEJONUVOQ1NYJmVuY3J5cHRlZElkPUEwNTExNDUyUEQ4Q0g3SkpNQkw3JmVuY3J5cHRlZEFkSWQ9QTA5MjU0NzIxUU05MzRNMDRaOU9SJndpZGdldE5hbWU9c3BfYXRmX25leHQmYWN0aW9uPWNsaWNrUmVkaXJlY3QmZG9Ob3RMb2dDbGljaz10cnVl> from <GET https://www.amazon.com/gp/slredirect/picassoRedirect.html/ref=pa_sp_atf_next_aps_sr_pg5_1?ie=UTF8&adId=A09254721QM934M04Z9OR&url=%2FArtificial-Intelligence-Power-leveraging-capabilities%2Fdp%2F1801814635%2Fref%3Dsr_1_194_sspa%3Fcrid%3D2YKZLS0CJFDGI%26keywords%3Ddata%2Bscience%26qid%3D1663448033%26sprefix%3Ddata%2Bscience%252Caps%252C828%26sr%3D8-194-spons%26psc%3D1&qualifier=1663448033&id=4081593171667701&widgetName=sp_atf_next>\n"
     ]
    },
    {
     "name": "stdout",
     "output_type": "stream",
     "text": [
      "258\n",
      "['\\n            \\n              64%\\n            \\n          '] 4.2 out of 5 stars 8.5 x 0.44 x 11 inches\n"
     ]
    },
    {
     "name": "stderr",
     "output_type": "stream",
     "text": [
      "2022-09-17 22:54:47 [scrapy.core.engine] DEBUG: Crawled (200) <GET https://www.amazon.com/Fundamentals-Data-Science-MATLAB-Visualization/dp/1735241016/ref=sr_1_200?crid=2YKZLS0CJFDGI&keywords=data+science&qid=1663448033&sprefix=data+science%2Caps%2C828&sr=8-200> (referer: https://www.amazon.com/s?k=data+science&s=relevanceblender&page=5&crid=2YKZLS0CJFDGI&qid=1663103507&sprefix=data+science%2Caps%2C828&ref=sr_pg_5)\n",
      "2022-09-17 22:54:47 [scrapy.core.engine] DEBUG: Crawled (200) <GET https://www.amazon.com/Learn-Power-comprehensive-step-step/dp/1801811954/ref=sr_1_199?crid=2YKZLS0CJFDGI&keywords=data+science&qid=1663448033&sprefix=data+science%2Caps%2C828&sr=8-199> (referer: https://www.amazon.com/s?k=data+science&s=relevanceblender&page=5&crid=2YKZLS0CJFDGI&qid=1663103507&sprefix=data+science%2Caps%2C828&ref=sr_pg_5)\n"
     ]
    },
    {
     "name": "stdout",
     "output_type": "stream",
     "text": [
      "259\n",
      "['\\n            \\n              100%\\n            \\n          '] 5.0 out of 5 stars 7.5 x 0.75 x 9.25 inches\n",
      "260\n",
      "['\\n            \\n              45%\\n            \\n          '] 4.3 out of 5 stars 7.5 x 0.47 x 9.25 inches\n",
      "261\n",
      "['\\n            \\n              50%\\n            \\n          '] 4.5 out of 5 stars 7.5 x 0.96 x 9.25 inches\n"
     ]
    },
    {
     "name": "stderr",
     "output_type": "stream",
     "text": [
      "2022-09-17 22:54:48 [scrapy.core.engine] DEBUG: Crawled (200) <GET https://www.amazon.com/Hands-Data-Structures-Algorithms-Python/dp/1801073449/ref=sr_1_198?crid=2YKZLS0CJFDGI&keywords=data+science&qid=1663448033&sprefix=data+science%2Caps%2C828&sr=8-198> (referer: https://www.amazon.com/s?k=data+science&s=relevanceblender&page=5&crid=2YKZLS0CJFDGI&qid=1663103507&sprefix=data+science%2Caps%2C828&ref=sr_pg_5)\n",
      "2022-09-17 22:54:48 [scrapy.extensions.logstats] INFO: Crawled 269 pages (at 149 pages/min), scraped 0 items (at 0 items/min)\n"
     ]
    },
    {
     "name": "stdout",
     "output_type": "stream",
     "text": [
      "262\n",
      "['\\n            \\n              66%\\n            \\n          '] 4.4 out of 5 stars 7.5 x 1.04 x 9.25 inches\n"
     ]
    },
    {
     "name": "stderr",
     "output_type": "stream",
     "text": [
      "2022-09-17 22:54:48 [scrapy.core.engine] DEBUG: Crawled (200) <GET https://www.amazon.com/Business-Intelligence-Analytics-Data-Science/dp/0134633288/ref=sr_1_197?crid=2YKZLS0CJFDGI&keywords=data+science&qid=1663448033&sprefix=data+science%2Caps%2C828&sr=8-197> (referer: https://www.amazon.com/s?k=data+science&s=relevanceblender&page=5&crid=2YKZLS0CJFDGI&qid=1663103507&sprefix=data+science%2Caps%2C828&ref=sr_pg_5)\n"
     ]
    },
    {
     "name": "stdout",
     "output_type": "stream",
     "text": [
      "263\n",
      "['\\n            \\n              58%\\n            \\n          '] 4.6 out of 5 stars 7.5 x 1.12 x 9.25 inches\n",
      "264\n",
      "['\\n            \\n              77%\\n            \\n          '] 4.5 out of 5 stars 9.8 x 7.8 x 0.7 inches\n"
     ]
    },
    {
     "name": "stderr",
     "output_type": "stream",
     "text": [
      "2022-09-17 22:54:50 [scrapy.core.engine] DEBUG: Crawled (200) <GET https://www.amazon.com/Heard-Data-Science-Interviews-Interview/dp/1727287320/ref=sr_1_170?crid=2YKZLS0CJFDGI&keywords=data+science&qid=1663448020&sprefix=data+science%2Caps%2C828&sr=8-170> (referer: https://www.amazon.com/s?k=data+science&s=relevanceblender&page=4&crid=2YKZLS0CJFDGI&qid=1663103507&sprefix=data+science%2Caps%2C828&ref=sr_pg_4)\n",
      "2022-09-17 22:54:50 [scrapy.core.engine] DEBUG: Crawled (200) <GET https://www.amazon.com/Fundamentals-Data-Science-Part-III/dp/1941043135/ref=sr_1_173?crid=2YKZLS0CJFDGI&keywords=data+science&qid=1663448020&sprefix=data+science%2Caps%2C828&sr=8-173> (referer: https://www.amazon.com/s?k=data+science&s=relevanceblender&page=4&crid=2YKZLS0CJFDGI&qid=1663103507&sprefix=data+science%2Caps%2C828&ref=sr_pg_4)\n",
      "2022-09-17 22:54:50 [scrapy.core.engine] DEBUG: Crawled (200) <GET https://www.amazon.com/Machine-Learning-Data-Analytics-Paradigms/dp/3030593371/ref=sr_1_171?crid=2YKZLS0CJFDGI&keywords=data+science&qid=1663448020&sprefix=data+science%2Caps%2C828&sr=8-171> (referer: https://www.amazon.com/s?k=data+science&s=relevanceblender&page=4&crid=2YKZLS0CJFDGI&qid=1663103507&sprefix=data+science%2Caps%2C828&ref=sr_pg_4)\n",
      "2022-09-17 22:54:50 [scrapy.core.engine] DEBUG: Crawled (200) <GET https://www.amazon.com/Artificial-Intelligence-Power-leveraging-capabilities/dp/1801814635/ref=sr_1_194_sspa?crid=2YKZLS0CJFDGI&keywords=data+science&qid=1663448033&sprefix=data+science%2Caps%2C828&sr=8-194-spons&psc=1&spLa=ZW5jcnlwdGVkUXVhbGlmaWVyPUEyREY5MEJONUVOQ1NYJmVuY3J5cHRlZElkPUEwNTExNDUyUEQ4Q0g3SkpNQkw3JmVuY3J5cHRlZEFkSWQ9QTA5MjU0NzIxUU05MzRNMDRaOU9SJndpZGdldE5hbWU9c3BfYXRmX25leHQmYWN0aW9uPWNsaWNrUmVkaXJlY3QmZG9Ob3RMb2dDbGljaz10cnVl> (referer: https://www.amazon.com/s?k=data+science&s=relevanceblender&page=5&crid=2YKZLS0CJFDGI&qid=1663103507&sprefix=data+science%2Caps%2C828&ref=sr_pg_5)\n",
      "2022-09-17 22:54:50 [scrapy.core.engine] DEBUG: Crawled (200) <GET https://www.amazon.com/Data-Analysis-Qualitative-Research-Theorizing/dp/0226817733/ref=sr_1_172?crid=2YKZLS0CJFDGI&keywords=data+science&qid=1663448020&sprefix=data+science%2Caps%2C828&sr=8-172> (referer: https://www.amazon.com/s?k=data+science&s=relevanceblender&page=4&crid=2YKZLS0CJFDGI&qid=1663103507&sprefix=data+science%2Caps%2C828&ref=sr_pg_4)\n",
      "2022-09-17 22:54:50 [scrapy.core.engine] DEBUG: Crawled (200) <GET https://www.amazon.com/Snowflake-Definitive-Architecting-Designing-Deploying/dp/1098103823/ref=sr_1_167?crid=2YKZLS0CJFDGI&keywords=data+science&qid=1663448020&sprefix=data+science%2Caps%2C828&sr=8-167> (referer: https://www.amazon.com/s?k=data+science&s=relevanceblender&page=4&crid=2YKZLS0CJFDGI&qid=1663103507&sprefix=data+science%2Caps%2C828&ref=sr_pg_4)\n"
     ]
    },
    {
     "name": "stdout",
     "output_type": "stream",
     "text": [
      "265\n",
      "['\\n            \\n              37%\\n            \\n          '] 3.2 out of 5 stars 6 x 0.55 x 9 inches\n",
      "266\n",
      "[] None 6.14 x 0.66 x 9.21 inches\n",
      "267\n",
      "[] None 6.14 x 1.44 x 9.21 inches\n"
     ]
    },
    {
     "name": "stderr",
     "output_type": "stream",
     "text": [
      "2022-09-17 22:54:50 [scrapy.core.engine] DEBUG: Crawled (200) <GET https://www.amazon.com/Mastering-TensorFlow-2-x-Structured-Unstructured/dp/9391392229/ref=sr_1_196_sspa?crid=2YKZLS0CJFDGI&keywords=data+science&qid=1663448033&sprefix=data+science%2Caps%2C828&sr=8-196-spons&psc=1&spLa=ZW5jcnlwdGVkUXVhbGlmaWVyPUEyREY5MEJONUVOQ1NYJmVuY3J5cHRlZElkPUEwNTExNDUyUEQ4Q0g3SkpNQkw3JmVuY3J5cHRlZEFkSWQ9QTA0MDU4NTMzVEI4UFUwVUdWVFRYJndpZGdldE5hbWU9c3BfYXRmX25leHQmYWN0aW9uPWNsaWNrUmVkaXJlY3QmZG9Ob3RMb2dDbGljaz10cnVl> (referer: https://www.amazon.com/s?k=data+science&s=relevanceblender&page=5&crid=2YKZLS0CJFDGI&qid=1663103507&sprefix=data+science%2Caps%2C828&ref=sr_pg_5)\n",
      "2022-09-17 22:54:50 [scrapy.downloadermiddlewares.redirect] DEBUG: Redirecting (302) to <GET https://www.amazon.com/Combining-DataOps-MLOps-DevOps-Optimization/dp/9355511914/ref=sr_1_164_sspa?crid=2YKZLS0CJFDGI&keywords=data+science&qid=1663448020&sprefix=data+science%2Caps%2C828&sr=8-164-spons&psc=1&spLa=ZW5jcnlwdGVkUXVhbGlmaWVyPUEyTFQ4WFA1VDlXTEJEJmVuY3J5cHRlZElkPUEwNzEwNzI1MVc4U0JCS1YxM1FLUyZlbmNyeXB0ZWRBZElkPUEwODkzMzk3MUhGQkhaTklURzFSUiZ3aWRnZXROYW1lPXNwX210ZiZhY3Rpb249Y2xpY2tSZWRpcmVjdCZkb05vdExvZ0NsaWNrPXRydWU=> from <GET https://www.amazon.com/gp/slredirect/picassoRedirect.html/ref=pa_sp_mtf_aps_sr_pg4_1?ie=UTF8&adId=A08933971HFBHZNITG1RR&url=%2FCombining-DataOps-MLOps-DevOps-Optimization%2Fdp%2F9355511914%2Fref%3Dsr_1_164_sspa%3Fcrid%3D2YKZLS0CJFDGI%26keywords%3Ddata%2Bscience%26qid%3D1663448020%26sprefix%3Ddata%2Bscience%252Caps%252C828%26sr%3D8-164-spons%26psc%3D1&qualifier=1663448020&id=1964181835629777&widgetName=sp_mtf>\n"
     ]
    },
    {
     "name": "stdout",
     "output_type": "stream",
     "text": [
      "268\n",
      "[] None None\n"
     ]
    },
    {
     "name": "stderr",
     "output_type": "stream",
     "text": [
      "2022-09-17 22:54:51 [scrapy.core.engine] DEBUG: Crawled (200) <GET https://www.amazon.com/Science-Baseball-Technology-American-Pastime/dp/1510768971/ref=sr_1_169?crid=2YKZLS0CJFDGI&keywords=data+science&qid=1663448020&sprefix=data+science%2Caps%2C828&sr=8-169> (referer: https://www.amazon.com/s?k=data+science&s=relevanceblender&page=4&crid=2YKZLS0CJFDGI&qid=1663103507&sprefix=data+science%2Caps%2C828&ref=sr_pg_4)\n",
      "2022-09-17 22:54:51 [scrapy.downloadermiddlewares.redirect] DEBUG: Redirecting (302) to <GET https://www.amazon.com/Data-Analytics-Advanced-Realms-Effectively/dp/B08RYK6549/ref=sr_1_163_sspa?crid=2YKZLS0CJFDGI&keywords=data+science&qid=1663448020&sprefix=data+science%2Caps%2C828&sr=8-163-spons&psc=1&spLa=ZW5jcnlwdGVkUXVhbGlmaWVyPUEyTFQ4WFA1VDlXTEJEJmVuY3J5cHRlZElkPUEwNzEwNzI1MVc4U0JCS1YxM1FLUyZlbmNyeXB0ZWRBZElkPUEwMDQ0Njc1U1czVjZMMjRPQVAzJndpZGdldE5hbWU9c3BfbXRmJmFjdGlvbj1jbGlja1JlZGlyZWN0JmRvTm90TG9nQ2xpY2s9dHJ1ZQ==> from <GET https://www.amazon.com/gp/slredirect/picassoRedirect.html/ref=pa_sp_mtf_aps_sr_pg4_1?ie=UTF8&adId=A0044675SW3V6L24OAP3&url=%2FData-Analytics-Advanced-Realms-Effectively%2Fdp%2FB08RYK6549%2Fref%3Dsr_1_163_sspa%3Fcrid%3D2YKZLS0CJFDGI%26keywords%3Ddata%2Bscience%26qid%3D1663448020%26sprefix%3Ddata%2Bscience%252Caps%252C828%26sr%3D8-163-spons%26psc%3D1&qualifier=1663448020&id=1964181835629777&widgetName=sp_mtf>\n"
     ]
    },
    {
     "name": "stdout",
     "output_type": "stream",
     "text": [
      "269\n",
      "['\\n            \\n              37%\\n            \\n          '] 4.4 out of 5 stars 6 x 0.7 x 9 inches\n",
      "270\n",
      "[] None None\n"
     ]
    },
    {
     "name": "stderr",
     "output_type": "stream",
     "text": [
      "2022-09-17 22:54:51 [scrapy.downloadermiddlewares.redirect] DEBUG: Redirecting (302) to <GET https://www.amazon.com/Big-Data-Artificial-Intelligence-Learning/dp/B09GXKVCKT/ref=sr_1_162_sspa?crid=2YKZLS0CJFDGI&keywords=data+science&qid=1663448020&sprefix=data+science%2Caps%2C828&sr=8-162-spons&psc=1&spLa=ZW5jcnlwdGVkUXVhbGlmaWVyPUEyTFQ4WFA1VDlXTEJEJmVuY3J5cHRlZElkPUEwNzEwNzI1MVc4U0JCS1YxM1FLUyZlbmNyeXB0ZWRBZElkPUEwNjI3OTc0MzIyUVA3SzAzOE1LTiZ3aWRnZXROYW1lPXNwX210ZiZhY3Rpb249Y2xpY2tSZWRpcmVjdCZkb05vdExvZ0NsaWNrPXRydWU=> from <GET https://www.amazon.com/gp/slredirect/picassoRedirect.html/ref=pa_sp_mtf_aps_sr_pg4_1?ie=UTF8&adId=A0627974322QP7K038MKN&url=%2FBig-Data-Artificial-Intelligence-Learning%2Fdp%2FB09GXKVCKT%2Fref%3Dsr_1_162_sspa%3Fcrid%3D2YKZLS0CJFDGI%26keywords%3Ddata%2Bscience%26qid%3D1663448020%26sprefix%3Ddata%2Bscience%252Caps%252C828%26sr%3D8-162-spons%26psc%3D1&qualifier=1663448020&id=1964181835629777&widgetName=sp_mtf>\n",
      "2022-09-17 22:54:51 [scrapy.core.engine] DEBUG: Crawled (200) <GET https://www.amazon.com/Tableau-Workshop-practical-guide-visualization/dp/1800207654/ref=sr_1_195_sspa?crid=2YKZLS0CJFDGI&keywords=data+science&qid=1663448033&sprefix=data+science%2Caps%2C828&sr=8-195-spons&psc=1&spLa=ZW5jcnlwdGVkUXVhbGlmaWVyPUEyREY5MEJONUVOQ1NYJmVuY3J5cHRlZElkPUEwNTExNDUyUEQ4Q0g3SkpNQkw3JmVuY3J5cHRlZEFkSWQ9QTAyOTMzOTExNEo3Q0U2VFlRWjhBJndpZGdldE5hbWU9c3BfYXRmX25leHQmYWN0aW9uPWNsaWNrUmVkaXJlY3QmZG9Ob3RMb2dDbGljaz10cnVl> (referer: https://www.amazon.com/s?k=data+science&s=relevanceblender&page=5&crid=2YKZLS0CJFDGI&qid=1663103507&sprefix=data+science%2Caps%2C828&ref=sr_pg_5)\n"
     ]
    },
    {
     "name": "stdout",
     "output_type": "stream",
     "text": [
      "271\n",
      "['\\n            \\n              100%\\n            \\n          '] 5.0 out of 5 stars 7.5 x 0.95 x 9.25 inches\n"
     ]
    },
    {
     "name": "stderr",
     "output_type": "stream",
     "text": [
      "2022-09-17 22:54:52 [scrapy.downloadermiddlewares.redirect] DEBUG: Redirecting (302) to <GET https://www.amazon.com/DATA-SCIENCE-Simple-Effective-Science/dp/B08GLMMXMG/ref=sr_1_161_sspa?crid=2YKZLS0CJFDGI&keywords=data+science&qid=1663448020&sprefix=data+science%2Caps%2C828&sr=8-161-spons&psc=1&spLa=ZW5jcnlwdGVkUXVhbGlmaWVyPUEyTFQ4WFA1VDlXTEJEJmVuY3J5cHRlZElkPUEwNzEwNzI1MVc4U0JCS1YxM1FLUyZlbmNyeXB0ZWRBZElkPUEwNzQ0MTI4T1FBSko3UTc0TU1UJndpZGdldE5hbWU9c3BfbXRmJmFjdGlvbj1jbGlja1JlZGlyZWN0JmRvTm90TG9nQ2xpY2s9dHJ1ZQ==> from <GET https://www.amazon.com/gp/slredirect/picassoRedirect.html/ref=pa_sp_mtf_aps_sr_pg4_1?ie=UTF8&adId=A0744128OQAJJ7Q74MMT&url=%2FDATA-SCIENCE-Simple-Effective-Science%2Fdp%2FB08GLMMXMG%2Fref%3Dsr_1_161_sspa%3Fcrid%3D2YKZLS0CJFDGI%26keywords%3Ddata%2Bscience%26qid%3D1663448020%26sprefix%3Ddata%2Bscience%252Caps%252C828%26sr%3D8-161-spons%26psc%3D1&qualifier=1663448020&id=1964181835629777&widgetName=sp_mtf>\n",
      "2022-09-17 22:54:52 [scrapy.core.engine] DEBUG: Crawled (200) <GET https://www.amazon.com/Guide-Data-Analytics-Basics-Managers/dp/1633694283/ref=sr_1_168?crid=2YKZLS0CJFDGI&keywords=data+science&qid=1663448020&sprefix=data+science%2Caps%2C828&sr=8-168> (referer: https://www.amazon.com/s?k=data+science&s=relevanceblender&page=4&crid=2YKZLS0CJFDGI&qid=1663103507&sprefix=data+science%2Caps%2C828&ref=sr_pg_4)\n"
     ]
    },
    {
     "name": "stdout",
     "output_type": "stream",
     "text": [
      "272\n",
      "['\\n            \\n              69%\\n            \\n          '] 4.4 out of 5 stars 6 x 0.7 x 9 inches\n",
      "273\n",
      "['\\n            \\n              85%\\n            \\n          '] 4.8 out of 5 stars 7.5 x 1.86 x 9.25 inches\n",
      "274\n",
      "['\\n            \\n              70%\\n            \\n          '] 4.5 out of 5 stars 5 x 0.75 x 9 inches\n"
     ]
    },
    {
     "name": "stderr",
     "output_type": "stream",
     "text": [
      "2022-09-17 22:54:52 [scrapy.core.engine] DEBUG: Crawled (200) <GET https://www.amazon.com/Ultimate-Guide-Science-Using-Python-ebook/dp/B09MX44SLD/ref=sr_1_166?crid=2YKZLS0CJFDGI&keywords=data+science&qid=1663448020&sprefix=data+science%2Caps%2C828&sr=8-166> (referer: https://www.amazon.com/s?k=data+science&s=relevanceblender&page=4&crid=2YKZLS0CJFDGI&qid=1663103507&sprefix=data+science%2Caps%2C828&ref=sr_pg_4)\n",
      "2022-09-17 22:54:53 [scrapy.core.engine] DEBUG: Crawled (200) <GET https://www.amazon.com/Hundred-Page-Machine-Learning-Book/dp/199957950X/ref=sr_1_165?crid=2YKZLS0CJFDGI&keywords=data+science&qid=1663448020&sprefix=data+science%2Caps%2C828&sr=8-165> (referer: https://www.amazon.com/s?k=data+science&s=relevanceblender&page=4&crid=2YKZLS0CJFDGI&qid=1663103507&sprefix=data+science%2Caps%2C828&ref=sr_pg_4)\n",
      "2022-09-17 22:54:53 [scrapy.core.engine] DEBUG: Crawled (200) <GET https://www.amazon.com/Oracle-Database-Administration-Interview-Questions/dp/1946383007/ref=sr_1_193_sspa?crid=2YKZLS0CJFDGI&keywords=data+science&qid=1663448033&sprefix=data+science%2Caps%2C828&sr=8-193-spons&psc=1&spLa=ZW5jcnlwdGVkUXVhbGlmaWVyPUEyREY5MEJONUVOQ1NYJmVuY3J5cHRlZElkPUEwNTExNDUyUEQ4Q0g3SkpNQkw3JmVuY3J5cHRlZEFkSWQ9QTA1Mzc5NjYzT09ETldBWU9RUFRMJndpZGdldE5hbWU9c3BfYXRmX25leHQmYWN0aW9uPWNsaWNrUmVkaXJlY3QmZG9Ob3RMb2dDbGljaz10cnVl> (referer: https://www.amazon.com/s?k=data+science&s=relevanceblender&page=5&crid=2YKZLS0CJFDGI&qid=1663103507&sprefix=data+science%2Caps%2C828&ref=sr_pg_5)\n"
     ]
    },
    {
     "name": "stdout",
     "output_type": "stream",
     "text": [
      "275\n",
      "['\\n            \\n              65%\\n            \\n          '] 4.0 out of 5 stars None\n",
      "276\n",
      "['\\n            \\n              81%\\n            \\n          '] 4.6 out of 5 stars 7.5 x 0.38 x 9.25 inches\n",
      "277\n",
      "['\\n            \\n              62%\\n            \\n          '] 4.2 out of 5 stars 5.5 x 0.54 x 8.5 inches\n"
     ]
    },
    {
     "name": "stderr",
     "output_type": "stream",
     "text": [
      "2022-09-17 22:54:54 [scrapy.core.engine] DEBUG: Crawled (200) <GET https://www.amazon.com/Hypothesis-Testing-Intuitive-Making-Decisions/dp/173543115X/ref=sr_1_160?crid=2YKZLS0CJFDGI&keywords=data+science&qid=1663448020&sprefix=data+science%2Caps%2C828&sr=8-160> (referer: https://www.amazon.com/s?k=data+science&s=relevanceblender&page=4&crid=2YKZLS0CJFDGI&qid=1663103507&sprefix=data+science%2Caps%2C828&ref=sr_pg_4)\n",
      "2022-09-17 22:54:54 [scrapy.core.engine] DEBUG: Crawled (200) <GET https://www.amazon.com/Data-Analytics-Advanced-Realms-Effectively/dp/B08RYK6549/ref=sr_1_163_sspa?crid=2YKZLS0CJFDGI&keywords=data+science&qid=1663448020&sprefix=data+science%2Caps%2C828&sr=8-163-spons&psc=1&spLa=ZW5jcnlwdGVkUXVhbGlmaWVyPUEyTFQ4WFA1VDlXTEJEJmVuY3J5cHRlZElkPUEwNzEwNzI1MVc4U0JCS1YxM1FLUyZlbmNyeXB0ZWRBZElkPUEwMDQ0Njc1U1czVjZMMjRPQVAzJndpZGdldE5hbWU9c3BfbXRmJmFjdGlvbj1jbGlja1JlZGlyZWN0JmRvTm90TG9nQ2xpY2s9dHJ1ZQ==> (referer: https://www.amazon.com/s?k=data+science&s=relevanceblender&page=4&crid=2YKZLS0CJFDGI&qid=1663103507&sprefix=data+science%2Caps%2C828&ref=sr_pg_4)\n",
      "2022-09-17 22:54:54 [scrapy.core.engine] DEBUG: Crawled (200) <GET https://www.amazon.com/Game-Data-Science-Magy-El-Nasr/dp/019289787X/ref=sr_1_159?crid=2YKZLS0CJFDGI&keywords=data+science&qid=1663448020&sprefix=data+science%2Caps%2C828&sr=8-159> (referer: https://www.amazon.com/s?k=data+science&s=relevanceblender&page=4&crid=2YKZLS0CJFDGI&qid=1663103507&sprefix=data+science%2Caps%2C828&ref=sr_pg_4)\n"
     ]
    },
    {
     "name": "stdout",
     "output_type": "stream",
     "text": [
      "278\n",
      "['\\n            \\n              78%\\n            \\n          '] 4.6 out of 5 stars 6 x 0.86 x 9 inches\n",
      "279\n",
      "[] None None\n"
     ]
    },
    {
     "name": "stderr",
     "output_type": "stream",
     "text": [
      "2022-09-17 22:54:54 [scrapy.core.engine] DEBUG: Crawled (200) <GET https://www.amazon.com/Data-Model-Resource-Book-Vol/dp/0470178450/ref=sr_1_158?crid=2YKZLS0CJFDGI&keywords=data+science&qid=1663448020&sprefix=data+science%2Caps%2C828&sr=8-158> (referer: https://www.amazon.com/s?k=data+science&s=relevanceblender&page=4&crid=2YKZLS0CJFDGI&qid=1663103507&sprefix=data+science%2Caps%2C828&ref=sr_pg_4)\n",
      "2022-09-17 22:54:54 [scrapy.core.engine] DEBUG: Crawled (200) <GET https://www.amazon.com/Supervised-Machine-Learning-Analysis-Chapman/dp/0367554194/ref=sr_1_157?crid=2YKZLS0CJFDGI&keywords=data+science&qid=1663448020&sprefix=data+science%2Caps%2C828&sr=8-157> (referer: https://www.amazon.com/s?k=data+science&s=relevanceblender&page=4&crid=2YKZLS0CJFDGI&qid=1663103507&sprefix=data+science%2Caps%2C828&ref=sr_pg_4)\n"
     ]
    },
    {
     "name": "stdout",
     "output_type": "stream",
     "text": [
      "280\n",
      "['\\n            \\n              100%\\n            \\n          '] 5.0 out of 5 stars 9.1 x 1.1 x 6 inches\n",
      "281\n",
      "['\\n            \\n              67%\\n            \\n          '] 4.4 out of 5 stars 7.4 x 1.4 x 9.3 inches\n"
     ]
    },
    {
     "name": "stderr",
     "output_type": "stream",
     "text": [
      "2022-09-17 22:54:55 [scrapy.core.engine] DEBUG: Crawled (200) <GET https://www.amazon.com/70-774-Perform-Science-Machine-Learning-ebook/dp/B07B263ZVP/ref=sr_1_156?crid=2YKZLS0CJFDGI&keywords=data+science&qid=1663448020&sprefix=data+science%2Caps%2C828&sr=8-156> (referer: https://www.amazon.com/s?k=data+science&s=relevanceblender&page=4&crid=2YKZLS0CJFDGI&qid=1663103507&sprefix=data+science%2Caps%2C828&ref=sr_pg_4)\n"
     ]
    },
    {
     "name": "stdout",
     "output_type": "stream",
     "text": [
      "282\n",
      "['\\n            \\n              75%\\n            \\n          '] 4.5 out of 5 stars 6.14 x 0.91 x 9.21 inches\n"
     ]
    },
    {
     "name": "stderr",
     "output_type": "stream",
     "text": [
      "2022-09-17 22:54:55 [scrapy.core.engine] DEBUG: Crawled (200) <GET https://www.amazon.com/Combining-DataOps-MLOps-DevOps-Optimization/dp/9355511914/ref=sr_1_164_sspa?crid=2YKZLS0CJFDGI&keywords=data+science&qid=1663448020&sprefix=data+science%2Caps%2C828&sr=8-164-spons&psc=1&spLa=ZW5jcnlwdGVkUXVhbGlmaWVyPUEyTFQ4WFA1VDlXTEJEJmVuY3J5cHRlZElkPUEwNzEwNzI1MVc4U0JCS1YxM1FLUyZlbmNyeXB0ZWRBZElkPUEwODkzMzk3MUhGQkhaTklURzFSUiZ3aWRnZXROYW1lPXNwX210ZiZhY3Rpb249Y2xpY2tSZWRpcmVjdCZkb05vdExvZ0NsaWNrPXRydWU=> (referer: https://www.amazon.com/s?k=data+science&s=relevanceblender&page=4&crid=2YKZLS0CJFDGI&qid=1663103507&sprefix=data+science%2Caps%2C828&ref=sr_pg_4)\n"
     ]
    },
    {
     "name": "stdout",
     "output_type": "stream",
     "text": [
      "283\n",
      "['\\n            \\n              54%\\n            \\n          '] 4.1 out of 5 stars None\n"
     ]
    },
    {
     "name": "stderr",
     "output_type": "stream",
     "text": [
      "2022-09-17 22:54:56 [scrapy.core.engine] DEBUG: Crawled (200) <GET https://www.amazon.com/Introduction-Computation-Programming-Using-Python/dp/0262542366/ref=sr_1_150?crid=2YKZLS0CJFDGI&keywords=data+science&qid=1663448020&sprefix=data+science%2Caps%2C828&sr=8-150> (referer: https://www.amazon.com/s?k=data+science&s=relevanceblender&page=4&crid=2YKZLS0CJFDGI&qid=1663103507&sprefix=data+science%2Caps%2C828&ref=sr_pg_4)\n",
      "2022-09-17 22:54:56 [scrapy.core.engine] DEBUG: Crawled (200) <GET https://www.amazon.com/Categorical-Analysis-Behavioral-Social-Sciences/dp/0367352761/ref=sr_1_155?crid=2YKZLS0CJFDGI&keywords=data+science&qid=1663448020&sprefix=data+science%2Caps%2C828&sr=8-155> (referer: https://www.amazon.com/s?k=data+science&s=relevanceblender&page=4&crid=2YKZLS0CJFDGI&qid=1663103507&sprefix=data+science%2Caps%2C828&ref=sr_pg_4)\n"
     ]
    },
    {
     "name": "stdout",
     "output_type": "stream",
     "text": [
      "284\n",
      "['\\n            \\n              50%\\n            \\n          '] 3.0 out of 5 stars None\n"
     ]
    },
    {
     "name": "stderr",
     "output_type": "stream",
     "text": [
      "2022-09-17 22:54:56 [scrapy.core.engine] DEBUG: Crawled (200) <GET https://www.amazon.com/Big-Data-Artificial-Intelligence-Learning/dp/B09GXKVCKT/ref=sr_1_162_sspa?crid=2YKZLS0CJFDGI&keywords=data+science&qid=1663448020&sprefix=data+science%2Caps%2C828&sr=8-162-spons&psc=1&spLa=ZW5jcnlwdGVkUXVhbGlmaWVyPUEyTFQ4WFA1VDlXTEJEJmVuY3J5cHRlZElkPUEwNzEwNzI1MVc4U0JCS1YxM1FLUyZlbmNyeXB0ZWRBZElkPUEwNjI3OTc0MzIyUVA3SzAzOE1LTiZ3aWRnZXROYW1lPXNwX210ZiZhY3Rpb249Y2xpY2tSZWRpcmVjdCZkb05vdExvZ0NsaWNrPXRydWU=> (referer: https://www.amazon.com/s?k=data+science&s=relevanceblender&page=4&crid=2YKZLS0CJFDGI&qid=1663103507&sprefix=data+science%2Caps%2C828&ref=sr_pg_4)\n"
     ]
    },
    {
     "name": "stdout",
     "output_type": "stream",
     "text": [
      "285\n",
      "[] None None\n"
     ]
    },
    {
     "name": "stderr",
     "output_type": "stream",
     "text": [
      "2022-09-17 22:54:56 [scrapy.downloadermiddlewares.redirect] DEBUG: Redirecting (302) to <GET https://www.amazon.com/Machine-Learning-Time-Python-state/dp/1801819629/ref=sr_1_148_sspa?crid=2YKZLS0CJFDGI&keywords=data+science&qid=1663448020&sprefix=data+science%2Caps%2C828&sr=8-148-spons&psc=1&spLa=ZW5jcnlwdGVkUXVhbGlmaWVyPUEyTFQ4WFA1VDlXTEJEJmVuY3J5cHRlZElkPUEwNzEwNzI1MVc4U0JCS1YxM1FLUyZlbmNyeXB0ZWRBZElkPUEwMDExOTExRjFCVTBCMkU4Rk5GJndpZGdldE5hbWU9c3BfYXRmX25leHQmYWN0aW9uPWNsaWNrUmVkaXJlY3QmZG9Ob3RMb2dDbGljaz10cnVl> from <GET https://www.amazon.com/gp/slredirect/picassoRedirect.html/ref=pa_sp_atf_next_aps_sr_pg4_1?ie=UTF8&adId=A0011911F1BU0B2E8FNF&url=%2FMachine-Learning-Time-Python-state%2Fdp%2F1801819629%2Fref%3Dsr_1_148_sspa%3Fcrid%3D2YKZLS0CJFDGI%26keywords%3Ddata%2Bscience%26qid%3D1663448020%26sprefix%3Ddata%2Bscience%252Caps%252C828%26sr%3D8-148-spons%26psc%3D1&qualifier=1663448020&id=1964181835629777&widgetName=sp_atf_next>\n",
      "2022-09-17 22:54:56 [scrapy.core.engine] DEBUG: Crawled (200) <GET https://www.amazon.com/Practical-Simulations-Machine-Learning-Synthetic/dp/1492089923/ref=sr_1_149?crid=2YKZLS0CJFDGI&keywords=data+science&qid=1663448020&sprefix=data+science%2Caps%2C828&sr=8-149> (referer: https://www.amazon.com/s?k=data+science&s=relevanceblender&page=4&crid=2YKZLS0CJFDGI&qid=1663103507&sprefix=data+science%2Caps%2C828&ref=sr_pg_4)\n"
     ]
    },
    {
     "name": "stdout",
     "output_type": "stream",
     "text": [
      "286\n",
      "[] None 7.01 x 0.74 x 10 inches\n"
     ]
    },
    {
     "name": "stderr",
     "output_type": "stream",
     "text": [
      "2022-09-17 22:54:56 [scrapy.downloadermiddlewares.redirect] DEBUG: Redirecting (302) to <GET https://www.amazon.com/SQL-BEGINNERS-FUNDAMENTAL-DATABASES-HANDS/dp/B08KGT7GG2/ref=sr_1_147_sspa?crid=2YKZLS0CJFDGI&keywords=data+science&qid=1663448020&sprefix=data+science%2Caps%2C828&sr=8-147-spons&psc=1&spLa=ZW5jcnlwdGVkUXVhbGlmaWVyPUEyTFQ4WFA1VDlXTEJEJmVuY3J5cHRlZElkPUEwNzEwNzI1MVc4U0JCS1YxM1FLUyZlbmNyeXB0ZWRBZElkPUEwODI5MTQ5M0FERlFNRFlGMzRHWCZ3aWRnZXROYW1lPXNwX2F0Zl9uZXh0JmFjdGlvbj1jbGlja1JlZGlyZWN0JmRvTm90TG9nQ2xpY2s9dHJ1ZQ==> from <GET https://www.amazon.com/gp/slredirect/picassoRedirect.html/ref=pa_sp_atf_next_aps_sr_pg4_1?ie=UTF8&adId=A08291493ADFQMDYF34GX&url=%2FSQL-BEGINNERS-FUNDAMENTAL-DATABASES-HANDS%2Fdp%2FB08KGT7GG2%2Fref%3Dsr_1_147_sspa%3Fcrid%3D2YKZLS0CJFDGI%26keywords%3Ddata%2Bscience%26qid%3D1663448020%26sprefix%3Ddata%2Bscience%252Caps%252C828%26sr%3D8-147-spons%26psc%3D1&qualifier=1663448020&id=1964181835629777&widgetName=sp_atf_next>\n",
      "2022-09-17 22:54:56 [scrapy.downloadermiddlewares.redirect] DEBUG: Redirecting (302) to <GET https://www.amazon.com/Managing-Visualizing-Your-Data-visualization/dp/1801073988/ref=sr_1_146_sspa?crid=2YKZLS0CJFDGI&keywords=data+science&qid=1663448020&sprefix=data+science%2Caps%2C828&sr=8-146-spons&psc=1&spLa=ZW5jcnlwdGVkUXVhbGlmaWVyPUEyTFQ4WFA1VDlXTEJEJmVuY3J5cHRlZElkPUEwNzEwNzI1MVc4U0JCS1YxM1FLUyZlbmNyeXB0ZWRBZElkPUEwMTMzMjY1M1E3OFhLTUM2M05RTiZ3aWRnZXROYW1lPXNwX2F0Zl9uZXh0JmFjdGlvbj1jbGlja1JlZGlyZWN0JmRvTm90TG9nQ2xpY2s9dHJ1ZQ==> from <GET https://www.amazon.com/gp/slredirect/picassoRedirect.html/ref=pa_sp_atf_next_aps_sr_pg4_1?ie=UTF8&adId=A01332653Q78XKMC63NQN&url=%2FManaging-Visualizing-Your-Data-visualization%2Fdp%2F1801073988%2Fref%3Dsr_1_146_sspa%3Fcrid%3D2YKZLS0CJFDGI%26keywords%3Ddata%2Bscience%26qid%3D1663448020%26sprefix%3Ddata%2Bscience%252Caps%252C828%26sr%3D8-146-spons%26psc%3D1&qualifier=1663448020&id=1964181835629777&widgetName=sp_atf_next>\n",
      "2022-09-17 22:54:56 [scrapy.downloadermiddlewares.redirect] DEBUG: Redirecting (302) to <GET https://www.amazon.com/Learn-Data-Structures-Algorithms-Golang/dp/1789618509/ref=sr_1_145_sspa?crid=2YKZLS0CJFDGI&keywords=data+science&qid=1663448020&sprefix=data+science%2Caps%2C828&sr=8-145-spons&psc=1&spLa=ZW5jcnlwdGVkUXVhbGlmaWVyPUEyTFQ4WFA1VDlXTEJEJmVuY3J5cHRlZElkPUEwNzEwNzI1MVc4U0JCS1YxM1FLUyZlbmNyeXB0ZWRBZElkPUEwNDE4MjAwWjY2NlJRUzYxTVlRJndpZGdldE5hbWU9c3BfYXRmX25leHQmYWN0aW9uPWNsaWNrUmVkaXJlY3QmZG9Ob3RMb2dDbGljaz10cnVl> from <GET https://www.amazon.com/gp/slredirect/picassoRedirect.html/ref=pa_sp_atf_next_aps_sr_pg4_1?ie=UTF8&adId=A0418200Z666RQS61MYQ&url=%2FLearn-Data-Structures-Algorithms-Golang%2Fdp%2F1789618509%2Fref%3Dsr_1_145_sspa%3Fcrid%3D2YKZLS0CJFDGI%26keywords%3Ddata%2Bscience%26qid%3D1663448020%26sprefix%3Ddata%2Bscience%252Caps%252C828%26sr%3D8-145-spons%26psc%3D1&qualifier=1663448020&id=1964181835629777&widgetName=sp_atf_next>\n",
      "2022-09-17 22:54:56 [scrapy.core.engine] DEBUG: Crawled (200) <GET https://www.amazon.com/Hands-Healthcare-Data-Complexity-Real-World/dp/109811292X/ref=sr_1_153?crid=2YKZLS0CJFDGI&keywords=data+science&qid=1663448020&sprefix=data+science%2Caps%2C828&sr=8-153> (referer: https://www.amazon.com/s?k=data+science&s=relevanceblender&page=4&crid=2YKZLS0CJFDGI&qid=1663103507&sprefix=data+science%2Caps%2C828&ref=sr_pg_4)\n"
     ]
    },
    {
     "name": "stdout",
     "output_type": "stream",
     "text": [
      "287\n",
      "['\\n            \\n              71%\\n            \\n          '] 4.1 out of 5 stars 6 x 0.55 x 9 inches\n",
      "288\n",
      "[] None None\n"
     ]
    },
    {
     "name": "stderr",
     "output_type": "stream",
     "text": [
      "2022-09-17 22:54:56 [scrapy.core.engine] DEBUG: Crawled (200) <GET https://www.amazon.com/Data-Mining-Exploration-Traditional-Statistics-ebook/dp/B0B6ZKFQQJ/ref=sr_1_152?crid=2YKZLS0CJFDGI&keywords=data+science&qid=1663448020&sprefix=data+science%2Caps%2C828&sr=8-152> (referer: https://www.amazon.com/s?k=data+science&s=relevanceblender&page=4&crid=2YKZLS0CJFDGI&qid=1663103507&sprefix=data+science%2Caps%2C828&ref=sr_pg_4)\n",
      "2022-09-17 22:54:57 [scrapy.core.engine] DEBUG: Crawled (200) <GET https://www.amazon.com/Data-Science-Google-Cloud-Platform/dp/1491974567/ref=sr_1_123?crid=2YKZLS0CJFDGI&keywords=data+science&qid=1663447999&sprefix=data+science%2Caps%2C828&sr=8-123> (referer: https://www.amazon.com/s?k=data+science&s=relevanceblender&page=3&crid=2YKZLS0CJFDGI&qid=1663103507&sprefix=data+science%2Caps%2C828&ref=sr_pg_3)\n",
      "2022-09-17 22:54:57 [scrapy.core.engine] DEBUG: Crawled (200) <GET https://www.amazon.com/Python-Data-Cleaning-Cookbook-techniques/dp/1800565666/ref=sr_1_154?crid=2YKZLS0CJFDGI&keywords=data+science&qid=1663448020&sprefix=data+science%2Caps%2C828&sr=8-154> (referer: https://www.amazon.com/s?k=data+science&s=relevanceblender&page=4&crid=2YKZLS0CJFDGI&qid=1663103507&sprefix=data+science%2Caps%2C828&ref=sr_pg_4)\n"
     ]
    },
    {
     "name": "stdout",
     "output_type": "stream",
     "text": [
      "289\n",
      "[] None 7 x 0.51 x 9.19 inches\n"
     ]
    },
    {
     "name": "stderr",
     "output_type": "stream",
     "text": [
      "2022-09-17 22:54:57 [scrapy.core.engine] DEBUG: Crawled (200) <GET https://www.amazon.com/DATA-SCIENCE-Simple-Effective-Science/dp/B08GLMMXMG/ref=sr_1_161_sspa?crid=2YKZLS0CJFDGI&keywords=data+science&qid=1663448020&sprefix=data+science%2Caps%2C828&sr=8-161-spons&psc=1&spLa=ZW5jcnlwdGVkUXVhbGlmaWVyPUEyTFQ4WFA1VDlXTEJEJmVuY3J5cHRlZElkPUEwNzEwNzI1MVc4U0JCS1YxM1FLUyZlbmNyeXB0ZWRBZElkPUEwNzQ0MTI4T1FBSko3UTc0TU1UJndpZGdldE5hbWU9c3BfbXRmJmFjdGlvbj1jbGlja1JlZGlyZWN0JmRvTm90TG9nQ2xpY2s9dHJ1ZQ==> (referer: https://www.amazon.com/s?k=data+science&s=relevanceblender&page=4&crid=2YKZLS0CJFDGI&qid=1663103507&sprefix=data+science%2Caps%2C828&ref=sr_pg_4)\n"
     ]
    },
    {
     "name": "stdout",
     "output_type": "stream",
     "text": [
      "290\n",
      "[] None None\n",
      "291\n",
      "[] None None\n",
      "292\n",
      "['\\n            \\n              83%\\n            \\n          '] 4.8 out of 5 stars 7.5 x 0.99 x 9.25 inches\n",
      "293\n",
      "['\\n            \\n              47%\\n            \\n          '] 3.9 out of 5 stars 6 x 0.39 x 9 inches\n"
     ]
    },
    {
     "name": "stderr",
     "output_type": "stream",
     "text": [
      "2022-09-17 22:54:58 [scrapy.core.engine] DEBUG: Crawled (200) <GET https://www.amazon.com/Machine-Learning-Getting-yourself-learning/dp/B0B8BRNH2W/ref=sr_1_151?crid=2YKZLS0CJFDGI&keywords=data+science&qid=1663448020&sprefix=data+science%2Caps%2C828&sr=8-151> (referer: https://www.amazon.com/s?k=data+science&s=relevanceblender&page=4&crid=2YKZLS0CJFDGI&qid=1663103507&sprefix=data+science%2Caps%2C828&ref=sr_pg_4)\n"
     ]
    },
    {
     "name": "stdout",
     "output_type": "stream",
     "text": [
      "294\n",
      "['\\n            \\n              100%\\n            \\n          '] 5.0 out of 5 stars 6 x 0.44 x 9 inches\n"
     ]
    },
    {
     "name": "stderr",
     "output_type": "stream",
     "text": [
      "2022-09-17 22:54:59 [scrapy.core.engine] DEBUG: Crawled (200) <GET https://www.amazon.com/Natural-Language-Processing-Transformers-Applications/dp/1098103246/ref=sr_1_120?crid=2YKZLS0CJFDGI&keywords=data+science&qid=1663447999&sprefix=data+science%2Caps%2C828&sr=8-120> (referer: https://www.amazon.com/s?k=data+science&s=relevanceblender&page=3&crid=2YKZLS0CJFDGI&qid=1663103507&sprefix=data+science%2Caps%2C828&ref=sr_pg_3)\n",
      "2022-09-17 22:54:59 [scrapy.core.engine] DEBUG: Crawled (200) <GET https://www.amazon.com/Data-Mining-Business-Analytics-Applications/dp/1119549841/ref=sr_1_122?crid=2YKZLS0CJFDGI&keywords=data+science&qid=1663447999&sprefix=data+science%2Caps%2C828&sr=8-122> (referer: https://www.amazon.com/s?k=data+science&s=relevanceblender&page=3&crid=2YKZLS0CJFDGI&qid=1663103507&sprefix=data+science%2Caps%2C828&ref=sr_pg_3)\n",
      "2022-09-17 22:55:00 [scrapy.core.engine] DEBUG: Crawled (200) <GET https://www.amazon.com/Quantitative-Social-Science-Data-Introduction/dp/1526411504/ref=sr_1_119?crid=2YKZLS0CJFDGI&keywords=data+science&qid=1663447999&sprefix=data+science%2Caps%2C828&sr=8-119> (referer: https://www.amazon.com/s?k=data+science&s=relevanceblender&page=3&crid=2YKZLS0CJFDGI&qid=1663103507&sprefix=data+science%2Caps%2C828&ref=sr_pg_3)\n",
      "2022-09-17 22:55:00 [scrapy.core.engine] DEBUG: Crawled (200) <GET https://www.amazon.com/Mathematics-Machine-Learning-Peter-Deisenroth/dp/110845514X/ref=sr_1_118?crid=2YKZLS0CJFDGI&keywords=data+science&qid=1663447999&sprefix=data+science%2Caps%2C828&sr=8-118> (referer: https://www.amazon.com/s?k=data+science&s=relevanceblender&page=3&crid=2YKZLS0CJFDGI&qid=1663103507&sprefix=data+science%2Caps%2C828&ref=sr_pg_3)\n",
      "2022-09-17 22:55:00 [scrapy.core.engine] DEBUG: Crawled (200) <GET https://www.amazon.com/Machine-Learning-Time-Python-state/dp/1801819629/ref=sr_1_148_sspa?crid=2YKZLS0CJFDGI&keywords=data+science&qid=1663448020&sprefix=data+science%2Caps%2C828&sr=8-148-spons&psc=1&spLa=ZW5jcnlwdGVkUXVhbGlmaWVyPUEyTFQ4WFA1VDlXTEJEJmVuY3J5cHRlZElkPUEwNzEwNzI1MVc4U0JCS1YxM1FLUyZlbmNyeXB0ZWRBZElkPUEwMDExOTExRjFCVTBCMkU4Rk5GJndpZGdldE5hbWU9c3BfYXRmX25leHQmYWN0aW9uPWNsaWNrUmVkaXJlY3QmZG9Ob3RMb2dDbGljaz10cnVl> (referer: https://www.amazon.com/s?k=data+science&s=relevanceblender&page=4&crid=2YKZLS0CJFDGI&qid=1663103507&sprefix=data+science%2Caps%2C828&ref=sr_pg_4)\n",
      "2022-09-17 22:55:00 [scrapy.core.engine] DEBUG: Crawled (200) <GET https://www.amazon.com/Statistics-Health-Data-Science-Approach/dp/3030598888/ref=sr_1_121?crid=2YKZLS0CJFDGI&keywords=data+science&qid=1663447999&sprefix=data+science%2Caps%2C828&sr=8-121> (referer: https://www.amazon.com/s?k=data+science&s=relevanceblender&page=3&crid=2YKZLS0CJFDGI&qid=1663103507&sprefix=data+science%2Caps%2C828&ref=sr_pg_3)\n"
     ]
    },
    {
     "name": "stdout",
     "output_type": "stream",
     "text": [
      "295\n",
      "['\\n            \\n              78%\\n            \\n          '] 4.6 out of 5 stars 7 x 0.84 x 9.19 inches\n",
      "296\n",
      "['\\n            \\n              76%\\n            \\n          '] 4.5 out of 5 stars 7.2 x 1.2 x 10.1 inches\n"
     ]
    },
    {
     "name": "stderr",
     "output_type": "stream",
     "text": [
      "2022-09-17 22:55:00 [scrapy.core.engine] DEBUG: Crawled (200) <GET https://www.amazon.com/Managing-Visualizing-Your-Data-visualization/dp/1801073988/ref=sr_1_146_sspa?crid=2YKZLS0CJFDGI&keywords=data+science&qid=1663448020&sprefix=data+science%2Caps%2C828&sr=8-146-spons&psc=1&spLa=ZW5jcnlwdGVkUXVhbGlmaWVyPUEyTFQ4WFA1VDlXTEJEJmVuY3J5cHRlZElkPUEwNzEwNzI1MVc4U0JCS1YxM1FLUyZlbmNyeXB0ZWRBZElkPUEwMTMzMjY1M1E3OFhLTUM2M05RTiZ3aWRnZXROYW1lPXNwX2F0Zl9uZXh0JmFjdGlvbj1jbGlja1JlZGlyZWN0JmRvTm90TG9nQ2xpY2s9dHJ1ZQ==> (referer: https://www.amazon.com/s?k=data+science&s=relevanceblender&page=4&crid=2YKZLS0CJFDGI&qid=1663103507&sprefix=data+science%2Caps%2C828&ref=sr_pg_4)\n",
      "2022-09-17 22:55:00 [scrapy.core.engine] DEBUG: Crawled (200) <GET https://www.amazon.com/Data-Science-Command-Line-Explore/dp/1492087912/ref=sr_1_117?crid=2YKZLS0CJFDGI&keywords=data+science&qid=1663447999&sprefix=data+science%2Caps%2C828&sr=8-117> (referer: https://www.amazon.com/s?k=data+science&s=relevanceblender&page=3&crid=2YKZLS0CJFDGI&qid=1663103507&sprefix=data+science%2Caps%2C828&ref=sr_pg_3)\n",
      "2022-09-17 22:55:00 [scrapy.downloadermiddlewares.redirect] DEBUG: Redirecting (302) to <GET https://www.amazon.com/Data-Analytics-Principles-Practices-Technologies/dp/9388511956/ref=sr_1_114_sspa?crid=2YKZLS0CJFDGI&keywords=data+science&qid=1663447999&sprefix=data+science%2Caps%2C828&sr=8-114-spons&psc=1&spLa=ZW5jcnlwdGVkUXVhbGlmaWVyPUExWklIWVQ4SzkxUzU1JmVuY3J5cHRlZElkPUEwOTg3MDM0SU1HSEVGRDExQ0omZW5jcnlwdGVkQWRJZD1BMDIzMDgxNTJPOUk0RThQWEcyWjEmd2lkZ2V0TmFtZT1zcF9tdGYmYWN0aW9uPWNsaWNrUmVkaXJlY3QmZG9Ob3RMb2dDbGljaz10cnVl> from <GET https://www.amazon.com/gp/slredirect/picassoRedirect.html/ref=pa_sp_mtf_aps_sr_pg3_1?ie=UTF8&adId=A02308152O9I4E8PXG2Z1&url=%2FData-Analytics-Principles-Practices-Technologies%2Fdp%2F9388511956%2Fref%3Dsr_1_114_sspa%3Fcrid%3D2YKZLS0CJFDGI%26keywords%3Ddata%2Bscience%26qid%3D1663447999%26sprefix%3Ddata%2Bscience%252Caps%252C828%26sr%3D8-114-spons%26psc%3D1&qualifier=1663447999&id=1843428804910168&widgetName=sp_mtf>\n",
      "2022-09-17 22:55:00 [scrapy.downloadermiddlewares.redirect] DEBUG: Redirecting (302) to <GET https://www.amazon.com/DATA-SCIENCE-Comprehensive-Beginners-Z/dp/B087L8RRW8/ref=sr_1_113_sspa?crid=2YKZLS0CJFDGI&keywords=data+science&qid=1663447999&sprefix=data+science%2Caps%2C828&sr=8-113-spons&psc=1&spLa=ZW5jcnlwdGVkUXVhbGlmaWVyPUExWklIWVQ4SzkxUzU1JmVuY3J5cHRlZElkPUEwOTg3MDM0SU1HSEVGRDExQ0omZW5jcnlwdGVkQWRJZD1BMDY1NzA1MzJYMTgyM1hGWlc3QUomd2lkZ2V0TmFtZT1zcF9tdGYmYWN0aW9uPWNsaWNrUmVkaXJlY3QmZG9Ob3RMb2dDbGljaz10cnVl> from <GET https://www.amazon.com/gp/slredirect/picassoRedirect.html/ref=pa_sp_mtf_aps_sr_pg3_1?ie=UTF8&adId=A06570532X1823XFZW7AJ&url=%2FDATA-SCIENCE-Comprehensive-Beginners-Z%2Fdp%2FB087L8RRW8%2Fref%3Dsr_1_113_sspa%3Fcrid%3D2YKZLS0CJFDGI%26keywords%3Ddata%2Bscience%26qid%3D1663447999%26sprefix%3Ddata%2Bscience%252Caps%252C828%26sr%3D8-113-spons%26psc%3D1&qualifier=1663447999&id=1843428804910168&widgetName=sp_mtf>\n"
     ]
    },
    {
     "name": "stdout",
     "output_type": "stream",
     "text": [
      "297\n",
      "['\\n            \\n              91%\\n            \\n          '] 4.9 out of 5 stars 7.3 x 0.7 x 9.6 inches\n",
      "298\n",
      "['\\n            \\n              80%\\n            \\n          '] 4.7 out of 5 stars 7 x 0.92 x 10 inches\n",
      "299\n",
      "['\\n            \\n              53%\\n            \\n          '] 4.0 out of 5 stars 7.5 x 0.84 x 9.25 inches\n"
     ]
    },
    {
     "name": "stderr",
     "output_type": "stream",
     "text": [
      "2022-09-17 22:55:01 [scrapy.downloadermiddlewares.redirect] DEBUG: Redirecting (302) to <GET https://www.amazon.com/Data-Visualization-Python-Daniel-Nelson/dp/B08TZ9LWWX/ref=sr_1_116_sspa?crid=2YKZLS0CJFDGI&keywords=data+science&qid=1663447999&sprefix=data+science%2Caps%2C828&sr=8-116-spons&psc=1&spLa=ZW5jcnlwdGVkUXVhbGlmaWVyPUExWklIWVQ4SzkxUzU1JmVuY3J5cHRlZElkPUEwOTg3MDM0SU1HSEVGRDExQ0omZW5jcnlwdGVkQWRJZD1BMDk0OTM1MlZSRVpXUkhUM0hONyZ3aWRnZXROYW1lPXNwX210ZiZhY3Rpb249Y2xpY2tSZWRpcmVjdCZkb05vdExvZ0NsaWNrPXRydWU=> from <GET https://www.amazon.com/gp/slredirect/picassoRedirect.html/ref=pa_sp_mtf_aps_sr_pg3_1?ie=UTF8&adId=A0949352VREZWRHT3HN7&url=%2FData-Visualization-Python-Daniel-Nelson%2Fdp%2FB08TZ9LWWX%2Fref%3Dsr_1_116_sspa%3Fcrid%3D2YKZLS0CJFDGI%26keywords%3Ddata%2Bscience%26qid%3D1663447999%26sprefix%3Ddata%2Bscience%252Caps%252C828%26sr%3D8-116-spons%26psc%3D1&qualifier=1663447999&id=1843428804910168&widgetName=sp_mtf>\n",
      "2022-09-17 22:55:01 [scrapy.downloadermiddlewares.redirect] DEBUG: Redirecting (302) to <GET https://www.amazon.com/Data-Driven-Science-Engineering-Learning-Dynamical/dp/1009098489/ref=sr_1_115_sspa?crid=2YKZLS0CJFDGI&keywords=data+science&qid=1663447999&sprefix=data+science%2Caps%2C828&sr=8-115-spons&psc=1&spLa=ZW5jcnlwdGVkUXVhbGlmaWVyPUExWklIWVQ4SzkxUzU1JmVuY3J5cHRlZElkPUEwOTg3MDM0SU1HSEVGRDExQ0omZW5jcnlwdGVkQWRJZD1BMDIzMTU5OTJSTkw3V1dTRTdBTk0md2lkZ2V0TmFtZT1zcF9tdGYmYWN0aW9uPWNsaWNrUmVkaXJlY3QmZG9Ob3RMb2dDbGljaz10cnVl> from <GET https://www.amazon.com/gp/slredirect/picassoRedirect.html/ref=pa_sp_mtf_aps_sr_pg3_1?ie=UTF8&adId=A02315992RNL7WWSE7ANM&url=%2FData-Driven-Science-Engineering-Learning-Dynamical%2Fdp%2F1009098489%2Fref%3Dsr_1_115_sspa%3Fcrid%3D2YKZLS0CJFDGI%26keywords%3Ddata%2Bscience%26qid%3D1663447999%26sprefix%3Ddata%2Bscience%252Caps%252C828%26sr%3D8-115-spons%26psc%3D1&qualifier=1663447999&id=1843428804910168&widgetName=sp_mtf>\n",
      "2022-09-17 22:55:01 [scrapy.core.engine] DEBUG: Crawled (200) <GET https://www.amazon.com/SQL-BEGINNERS-FUNDAMENTAL-DATABASES-HANDS/dp/B08KGT7GG2/ref=sr_1_147_sspa?crid=2YKZLS0CJFDGI&keywords=data+science&qid=1663448020&sprefix=data+science%2Caps%2C828&sr=8-147-spons&psc=1&spLa=ZW5jcnlwdGVkUXVhbGlmaWVyPUEyTFQ4WFA1VDlXTEJEJmVuY3J5cHRlZElkPUEwNzEwNzI1MVc4U0JCS1YxM1FLUyZlbmNyeXB0ZWRBZElkPUEwODI5MTQ5M0FERlFNRFlGMzRHWCZ3aWRnZXROYW1lPXNwX2F0Zl9uZXh0JmFjdGlvbj1jbGlja1JlZGlyZWN0JmRvTm90TG9nQ2xpY2s9dHJ1ZQ==> (referer: https://www.amazon.com/s?k=data+science&s=relevanceblender&page=4&crid=2YKZLS0CJFDGI&qid=1663103507&sprefix=data+science%2Caps%2C828&ref=sr_pg_4)\n"
     ]
    },
    {
     "name": "stdout",
     "output_type": "stream",
     "text": [
      "300\n",
      "['\\n            \\n              86%\\n            \\n          '] 4.6 out of 5 stars 6.14 x 0.63 x 9.21 inches\n",
      "301\n",
      "[] None None\n"
     ]
    },
    {
     "name": "stderr",
     "output_type": "stream",
     "text": [
      "2022-09-17 22:55:01 [scrapy.core.engine] DEBUG: Crawled (200) <GET https://www.amazon.com/DATA-SCIENCE-Comprehensive-Beginners-Z/dp/B087L8RRW8/ref=sr_1_113_sspa?crid=2YKZLS0CJFDGI&keywords=data+science&qid=1663447999&sprefix=data+science%2Caps%2C828&sr=8-113-spons&psc=1&spLa=ZW5jcnlwdGVkUXVhbGlmaWVyPUExWklIWVQ4SzkxUzU1JmVuY3J5cHRlZElkPUEwOTg3MDM0SU1HSEVGRDExQ0omZW5jcnlwdGVkQWRJZD1BMDY1NzA1MzJYMTgyM1hGWlc3QUomd2lkZ2V0TmFtZT1zcF9tdGYmYWN0aW9uPWNsaWNrUmVkaXJlY3QmZG9Ob3RMb2dDbGljaz10cnVl> (referer: https://www.amazon.com/s?k=data+science&s=relevanceblender&page=3&crid=2YKZLS0CJFDGI&qid=1663103507&sprefix=data+science%2Caps%2C828&ref=sr_pg_3)\n"
     ]
    },
    {
     "name": "stdout",
     "output_type": "stream",
     "text": [
      "302\n",
      "['\\n            \\n              72%\\n            \\n          '] 4.5 out of 5 stars 7 x 0.5 x 10 inches\n",
      "303\n",
      "['\\n            \\n              39%\\n            \\n          '] 3.9 out of 5 stars 6 x 0.35 x 9 inches\n",
      "304\n",
      "[] None None\n"
     ]
    },
    {
     "name": "stderr",
     "output_type": "stream",
     "text": [
      "2022-09-17 22:55:02 [scrapy.core.engine] DEBUG: Crawled (200) <GET https://www.amazon.com/Learn-Data-Structures-Algorithms-Golang/dp/1789618509/ref=sr_1_145_sspa?crid=2YKZLS0CJFDGI&keywords=data+science&qid=1663448020&sprefix=data+science%2Caps%2C828&sr=8-145-spons&psc=1&spLa=ZW5jcnlwdGVkUXVhbGlmaWVyPUEyTFQ4WFA1VDlXTEJEJmVuY3J5cHRlZElkPUEwNzEwNzI1MVc4U0JCS1YxM1FLUyZlbmNyeXB0ZWRBZElkPUEwNDE4MjAwWjY2NlJRUzYxTVlRJndpZGdldE5hbWU9c3BfYXRmX25leHQmYWN0aW9uPWNsaWNrUmVkaXJlY3QmZG9Ob3RMb2dDbGljaz10cnVl> (referer: https://www.amazon.com/s?k=data+science&s=relevanceblender&page=4&crid=2YKZLS0CJFDGI&qid=1663103507&sprefix=data+science%2Caps%2C828&ref=sr_pg_4)\n",
      "2022-09-17 22:55:02 [scrapy.core.engine] DEBUG: Crawled (200) <GET https://www.amazon.com/Cybersecurity-Data-Science-Practices-Profession/dp/3030748952/ref=sr_1_102?crid=2YKZLS0CJFDGI&keywords=data+science&qid=1663447999&sprefix=data+science%2Caps%2C828&sr=8-102> (referer: https://www.amazon.com/s?k=data+science&s=relevanceblender&page=3&crid=2YKZLS0CJFDGI&qid=1663103507&sprefix=data+science%2Caps%2C828&ref=sr_pg_3)\n"
     ]
    },
    {
     "name": "stdout",
     "output_type": "stream",
     "text": [
      "305\n",
      "['\\n            \\n              53%\\n            \\n          '] 3.6 out of 5 stars 7.5 x 0.76 x 9.25 inches\n"
     ]
    },
    {
     "name": "stderr",
     "output_type": "stream",
     "text": [
      "2022-09-17 22:55:03 [scrapy.core.engine] DEBUG: Crawled (200) <GET https://www.amazon.com/Data-Science-Executives-Leveraging-Intelligence-ebook/dp/B07JBBNJQW/ref=sr_1_104?crid=2YKZLS0CJFDGI&keywords=data+science&qid=1663447999&sprefix=data+science%2Caps%2C828&sr=8-104> (referer: https://www.amazon.com/s?k=data+science&s=relevanceblender&page=3&crid=2YKZLS0CJFDGI&qid=1663103507&sprefix=data+science%2Caps%2C828&ref=sr_pg_3)\n"
     ]
    },
    {
     "name": "stdout",
     "output_type": "stream",
     "text": [
      "306\n",
      "[] None None\n"
     ]
    },
    {
     "name": "stderr",
     "output_type": "stream",
     "text": [
      "2022-09-17 22:55:03 [scrapy.core.engine] DEBUG: Crawled (200) <GET https://www.amazon.com/Data-Science-Scratch-Everything-Applications/dp/3903331554/ref=sr_1_105?crid=2YKZLS0CJFDGI&keywords=data+science&qid=1663447999&sprefix=data+science%2Caps%2C828&sr=8-105> (referer: https://www.amazon.com/s?k=data+science&s=relevanceblender&page=3&crid=2YKZLS0CJFDGI&qid=1663103507&sprefix=data+science%2Caps%2C828&ref=sr_pg_3)\n"
     ]
    },
    {
     "name": "stdout",
     "output_type": "stream",
     "text": [
      "307\n",
      "['\\n            \\n              55%\\n            \\n          '] 4.1 out of 5 stars None\n"
     ]
    },
    {
     "name": "stderr",
     "output_type": "stream",
     "text": [
      "2022-09-17 22:55:03 [scrapy.core.engine] DEBUG: Crawled (200) <GET https://www.amazon.com/Democracys-Data-Hidden-Stories-Census/dp/0374602549/ref=sr_1_106?crid=2YKZLS0CJFDGI&keywords=data+science&qid=1663447999&sprefix=data+science%2Caps%2C828&sr=8-106> (referer: https://www.amazon.com/s?k=data+science&s=relevanceblender&page=3&crid=2YKZLS0CJFDGI&qid=1663103507&sprefix=data+science%2Caps%2C828&ref=sr_pg_3)\n",
      "2022-09-17 22:55:03 [scrapy.downloadermiddlewares.redirect] DEBUG: Redirecting (302) to <GET https://www.amazon.com/Introduction-Probability-Statistics-Random-Processes/dp/0990637204/ref=sr_1_100_sspa?crid=2YKZLS0CJFDGI&keywords=data+science&qid=1663447999&sprefix=data+science%2Caps%2C828&sr=8-100-spons&psc=1&spLa=ZW5jcnlwdGVkUXVhbGlmaWVyPUExWklIWVQ4SzkxUzU1JmVuY3J5cHRlZElkPUEwOTg3MDM0SU1HSEVGRDExQ0omZW5jcnlwdGVkQWRJZD1BMDE5Mjg4NzFKU0hTVjZWRlFZV0wmd2lkZ2V0TmFtZT1zcF9hdGZfbmV4dCZhY3Rpb249Y2xpY2tSZWRpcmVjdCZkb05vdExvZ0NsaWNrPXRydWU=> from <GET https://www.amazon.com/gp/slredirect/picassoRedirect.html/ref=pa_sp_atf_next_aps_sr_pg3_1?ie=UTF8&adId=A01928871JSHSV6VFQYWL&url=%2FIntroduction-Probability-Statistics-Random-Processes%2Fdp%2F0990637204%2Fref%3Dsr_1_100_sspa%3Fcrid%3D2YKZLS0CJFDGI%26keywords%3Ddata%2Bscience%26qid%3D1663447999%26sprefix%3Ddata%2Bscience%252Caps%252C828%26sr%3D8-100-spons%26psc%3D1&qualifier=1663447999&id=1843428804910168&widgetName=sp_atf_next>\n"
     ]
    },
    {
     "name": "stdout",
     "output_type": "stream",
     "text": [
      "308\n",
      "['\\n            \\n              36%\\n            \\n          '] 3.6 out of 5 stars 5.98 x 0.63 x 9.02 inches\n"
     ]
    },
    {
     "name": "stderr",
     "output_type": "stream",
     "text": [
      "2022-09-17 22:55:04 [scrapy.core.engine] DEBUG: Crawled (200) <GET https://www.amazon.com/Data-Driven-Science-Engineering-Learning-Dynamical/dp/1009098489/ref=sr_1_115_sspa?crid=2YKZLS0CJFDGI&keywords=data+science&qid=1663447999&sprefix=data+science%2Caps%2C828&sr=8-115-spons&psc=1&spLa=ZW5jcnlwdGVkUXVhbGlmaWVyPUExWklIWVQ4SzkxUzU1JmVuY3J5cHRlZElkPUEwOTg3MDM0SU1HSEVGRDExQ0omZW5jcnlwdGVkQWRJZD1BMDIzMTU5OTJSTkw3V1dTRTdBTk0md2lkZ2V0TmFtZT1zcF9tdGYmYWN0aW9uPWNsaWNrUmVkaXJlY3QmZG9Ob3RMb2dDbGljaz10cnVl> (referer: https://www.amazon.com/s?k=data+science&s=relevanceblender&page=3&crid=2YKZLS0CJFDGI&qid=1663103507&sprefix=data+science%2Caps%2C828&ref=sr_pg_3)\n",
      "2022-09-17 22:55:04 [scrapy.core.engine] DEBUG: Crawled (200) <GET https://www.amazon.com/Data-Visualization-Python-Daniel-Nelson/dp/B08TZ9LWWX/ref=sr_1_116_sspa?crid=2YKZLS0CJFDGI&keywords=data+science&qid=1663447999&sprefix=data+science%2Caps%2C828&sr=8-116-spons&psc=1&spLa=ZW5jcnlwdGVkUXVhbGlmaWVyPUExWklIWVQ4SzkxUzU1JmVuY3J5cHRlZElkPUEwOTg3MDM0SU1HSEVGRDExQ0omZW5jcnlwdGVkQWRJZD1BMDk0OTM1MlZSRVpXUkhUM0hONyZ3aWRnZXROYW1lPXNwX210ZiZhY3Rpb249Y2xpY2tSZWRpcmVjdCZkb05vdExvZ0NsaWNrPXRydWU=> (referer: https://www.amazon.com/s?k=data+science&s=relevanceblender&page=3&crid=2YKZLS0CJFDGI&qid=1663103507&sprefix=data+science%2Caps%2C828&ref=sr_pg_3)\n",
      "2022-09-17 22:55:04 [scrapy.downloadermiddlewares.redirect] DEBUG: Redirecting (302) to <GET https://www.amazon.com/Python-ArcGIS-Pro-Automate-cartography/dp/1803241667/ref=sr_1_99_sspa?crid=2YKZLS0CJFDGI&keywords=data+science&qid=1663447999&sprefix=data+science%2Caps%2C828&sr=8-99-spons&psc=1&spLa=ZW5jcnlwdGVkUXVhbGlmaWVyPUExWklIWVQ4SzkxUzU1JmVuY3J5cHRlZElkPUEwOTg3MDM0SU1HSEVGRDExQ0omZW5jcnlwdGVkQWRJZD1BMDA2MjI0MUE5QjJROE1JMVMwNSZ3aWRnZXROYW1lPXNwX2F0Zl9uZXh0JmFjdGlvbj1jbGlja1JlZGlyZWN0JmRvTm90TG9nQ2xpY2s9dHJ1ZQ==> from <GET https://www.amazon.com/gp/slredirect/picassoRedirect.html/ref=pa_sp_atf_next_aps_sr_pg3_1?ie=UTF8&adId=A0062241A9B2Q8MI1S05&url=%2FPython-ArcGIS-Pro-Automate-cartography%2Fdp%2F1803241667%2Fref%3Dsr_1_99_sspa%3Fcrid%3D2YKZLS0CJFDGI%26keywords%3Ddata%2Bscience%26qid%3D1663447999%26sprefix%3Ddata%2Bscience%252Caps%252C828%26sr%3D8-99-spons%26psc%3D1&qualifier=1663447999&id=1843428804910168&widgetName=sp_atf_next>\n",
      "2022-09-17 22:55:04 [scrapy.downloadermiddlewares.redirect] DEBUG: Redirecting (302) to <GET https://www.amazon.com/Python-Data-Cleaning-Cookbook-techniques/dp/1800565666/ref=sr_1_97_sspa?crid=2YKZLS0CJFDGI&keywords=data+science&qid=1663447999&sprefix=data+science%2Caps%2C828&sr=8-97-spons&psc=1&spLa=ZW5jcnlwdGVkUXVhbGlmaWVyPUExWklIWVQ4SzkxUzU1JmVuY3J5cHRlZElkPUEwOTg3MDM0SU1HSEVGRDExQ0omZW5jcnlwdGVkQWRJZD1BMDE1MTY1OTExUEtDREFHVkozQlUmd2lkZ2V0TmFtZT1zcF9hdGZfbmV4dCZhY3Rpb249Y2xpY2tSZWRpcmVjdCZkb05vdExvZ0NsaWNrPXRydWU=> from <GET https://www.amazon.com/gp/slredirect/picassoRedirect.html/ref=pa_sp_atf_next_aps_sr_pg3_1?ie=UTF8&adId=A015165911PKCDAGVJ3BU&url=%2FPython-Data-Cleaning-Cookbook-techniques%2Fdp%2F1800565666%2Fref%3Dsr_1_97_sspa%3Fcrid%3D2YKZLS0CJFDGI%26keywords%3Ddata%2Bscience%26qid%3D1663447999%26sprefix%3Ddata%2Bscience%252Caps%252C828%26sr%3D8-97-spons%26psc%3D1&qualifier=1663447999&id=1843428804910168&widgetName=sp_atf_next>\n",
      "2022-09-17 22:55:04 [scrapy.core.engine] DEBUG: Crawled (200) <GET https://www.amazon.com/Data-Analytics-Principles-Practices-Technologies/dp/9388511956/ref=sr_1_114_sspa?crid=2YKZLS0CJFDGI&keywords=data+science&qid=1663447999&sprefix=data+science%2Caps%2C828&sr=8-114-spons&psc=1&spLa=ZW5jcnlwdGVkUXVhbGlmaWVyPUExWklIWVQ4SzkxUzU1JmVuY3J5cHRlZElkPUEwOTg3MDM0SU1HSEVGRDExQ0omZW5jcnlwdGVkQWRJZD1BMDIzMDgxNTJPOUk0RThQWEcyWjEmd2lkZ2V0TmFtZT1zcF9tdGYmYWN0aW9uPWNsaWNrUmVkaXJlY3QmZG9Ob3RMb2dDbGljaz10cnVl> (referer: https://www.amazon.com/s?k=data+science&s=relevanceblender&page=3&crid=2YKZLS0CJFDGI&qid=1663103507&sprefix=data+science%2Caps%2C828&ref=sr_pg_3)\n",
      "2022-09-17 22:55:04 [scrapy.downloadermiddlewares.redirect] DEBUG: Redirecting (302) to <GET https://www.amazon.com/Structures-Algorithms-Interview-Questions-Likely/dp/1946383066/ref=sr_1_98_sspa?crid=2YKZLS0CJFDGI&keywords=data+science&qid=1663447999&sprefix=data+science%2Caps%2C828&sr=8-98-spons&psc=1&spLa=ZW5jcnlwdGVkUXVhbGlmaWVyPUExWklIWVQ4SzkxUzU1JmVuY3J5cHRlZElkPUEwOTg3MDM0SU1HSEVGRDExQ0omZW5jcnlwdGVkQWRJZD1BMDUzODQyMjI1WEpPQlk1SVZHUjQmd2lkZ2V0TmFtZT1zcF9hdGZfbmV4dCZhY3Rpb249Y2xpY2tSZWRpcmVjdCZkb05vdExvZ0NsaWNrPXRydWU=> from <GET https://www.amazon.com/gp/slredirect/picassoRedirect.html/ref=pa_sp_atf_next_aps_sr_pg3_1?ie=UTF8&adId=A053842225XJOBY5IVGR4&url=%2FStructures-Algorithms-Interview-Questions-Likely%2Fdp%2F1946383066%2Fref%3Dsr_1_98_sspa%3Fcrid%3D2YKZLS0CJFDGI%26keywords%3Ddata%2Bscience%26qid%3D1663447999%26sprefix%3Ddata%2Bscience%252Caps%252C828%26sr%3D8-98-spons%26psc%3D1&qualifier=1663447999&id=1843428804910168&widgetName=sp_atf_next>\n"
     ]
    },
    {
     "name": "stdout",
     "output_type": "stream",
     "text": [
      "309\n",
      "['\\n            \\n              70%\\n            \\n          '] 4.4 out of 5 stars 6.4 x 1.4 x 9.35 inches\n"
     ]
    },
    {
     "name": "stderr",
     "output_type": "stream",
     "text": [
      "2022-09-17 22:55:04 [scrapy.core.engine] DEBUG: Crawled (200) <GET https://www.amazon.com/Data-Revolution-Critical-Analysis-Infrastructures/dp/1529733758/ref=sr_1_78?crid=2YKZLS0CJFDGI&keywords=data+science&qid=1663447986&sprefix=data+science%2Caps%2C828&sr=8-78> (referer: https://www.amazon.com/s?k=data+science&s=relevanceblender&page=2&crid=2YKZLS0CJFDGI&qid=1663103507&sprefix=data+science%2Caps%2C828&ref=sr_pg_2)\n"
     ]
    },
    {
     "name": "stdout",
     "output_type": "stream",
     "text": [
      "310\n",
      "['\\n            \\n              90%\\n            \\n          '] 4.6 out of 5 stars 7.1 x 1.1 x 10.1 inches\n",
      "311\n",
      "['\\n            \\n              55%\\n            \\n          '] 3.3 out of 5 stars 8.5 x 0.81 x 11 inches\n",
      "312\n",
      "['\\n            \\n              100%\\n            \\n          '] 5.0 out of 5 stars 7.5 x 0.95 x 9.25 inches\n"
     ]
    },
    {
     "name": "stderr",
     "output_type": "stream",
     "text": [
      "2022-09-17 22:55:04 [scrapy.core.engine] DEBUG: Crawled (200) <GET https://www.amazon.com/Common-Sense-Guide-Structures-Algorithms-Second/dp/1680507222/ref=sr_1_75?crid=2YKZLS0CJFDGI&keywords=data+science&qid=1663447986&sprefix=data+science%2Caps%2C828&sr=8-75> (referer: https://www.amazon.com/s?k=data+science&s=relevanceblender&page=2&crid=2YKZLS0CJFDGI&qid=1663103507&sprefix=data+science%2Caps%2C828&ref=sr_pg_2)\n"
     ]
    },
    {
     "name": "stdout",
     "output_type": "stream",
     "text": [
      "313\n",
      "[] None None\n",
      "314\n",
      "[] None None\n"
     ]
    },
    {
     "name": "stderr",
     "output_type": "stream",
     "text": [
      "2022-09-17 22:55:05 [scrapy.core.engine] DEBUG: Crawled (200) <GET https://www.amazon.com/Data-Science-Programming-Dummies-Computer/dp/1119626110/ref=sr_1_103?crid=2YKZLS0CJFDGI&keywords=data+science&qid=1663447999&sprefix=data+science%2Caps%2C828&sr=8-103> (referer: https://www.amazon.com/s?k=data+science&s=relevanceblender&page=3&crid=2YKZLS0CJFDGI&qid=1663103507&sprefix=data+science%2Caps%2C828&ref=sr_pg_3)\n",
      "2022-09-17 22:55:05 [scrapy.core.engine] DEBUG: Crawled (200) <GET https://www.amazon.com/Science-Football-Technology-Behind-Americas/dp/1683584597/ref=sr_1_74?crid=2YKZLS0CJFDGI&keywords=data+science&qid=1663447986&sprefix=data+science%2Caps%2C828&sr=8-74> (referer: https://www.amazon.com/s?k=data+science&s=relevanceblender&page=2&crid=2YKZLS0CJFDGI&qid=1663103507&sprefix=data+science%2Caps%2C828&ref=sr_pg_2)\n",
      "2022-09-17 22:55:05 [scrapy.core.engine] DEBUG: Crawled (200) <GET https://www.amazon.com/Bayesian-Ideas-Data-Analysis-Statisticians/dp/1439803544/ref=sr_1_101?crid=2YKZLS0CJFDGI&keywords=data+science&qid=1663447999&sprefix=data+science%2Caps%2C828&sr=8-101> (referer: https://www.amazon.com/s?k=data+science&s=relevanceblender&page=3&crid=2YKZLS0CJFDGI&qid=1663103507&sprefix=data+science%2Caps%2C828&ref=sr_pg_3)\n"
     ]
    },
    {
     "name": "stdout",
     "output_type": "stream",
     "text": [
      "315\n",
      "['\\n            \\n              95%\\n            \\n          '] 4.9 out of 5 stars 7.4 x 1.7 x 9.2 inches\n",
      "316\n",
      "[] None None\n",
      "317\n",
      "['\\n            \\n              55%\\n            \\n          '] 4.0 out of 5 stars 6.9 x 1.1 x 10 inches\n"
     ]
    },
    {
     "name": "stderr",
     "output_type": "stream",
     "text": [
      "2022-09-17 22:55:06 [scrapy.core.engine] DEBUG: Crawled (200) <GET https://www.amazon.com/Data-Science-Transform-Visualize-Model-ebook/dp/B01NAJAEN5/ref=sr_1_76?crid=2YKZLS0CJFDGI&keywords=data+science&qid=1663447986&sprefix=data+science%2Caps%2C828&sr=8-76> (referer: https://www.amazon.com/s?k=data+science&s=relevanceblender&page=2&crid=2YKZLS0CJFDGI&qid=1663103507&sprefix=data+science%2Caps%2C828&ref=sr_pg_2)\n",
      "2022-09-17 22:55:07 [scrapy.core.engine] DEBUG: Crawled (200) <GET https://www.amazon.com/Minding-Machines-Building-Leading-Analytics/dp/1119785324/ref=sr_1_80?crid=2YKZLS0CJFDGI&keywords=data+science&qid=1663447986&sprefix=data+science%2Caps%2C828&sr=8-80> (referer: https://www.amazon.com/s?k=data+science&s=relevanceblender&page=2&crid=2YKZLS0CJFDGI&qid=1663103507&sprefix=data+science%2Caps%2C828&ref=sr_pg_2)\n",
      "2022-09-17 22:55:07 [scrapy.core.engine] DEBUG: Crawled (200) <GET https://www.amazon.com/Numsense-Data-Science-Layman-Added-ebook/dp/B01N29ZEM6/ref=sr_1_77?crid=2YKZLS0CJFDGI&keywords=data+science&qid=1663447986&sprefix=data+science%2Caps%2C828&sr=8-77> (referer: https://www.amazon.com/s?k=data+science&s=relevanceblender&page=2&crid=2YKZLS0CJFDGI&qid=1663103507&sprefix=data+science%2Caps%2C828&ref=sr_pg_2)\n"
     ]
    },
    {
     "name": "stdout",
     "output_type": "stream",
     "text": [
      "318\n",
      "['\\n            \\n              81%\\n            \\n          '] 4.7 out of 5 stars None\n"
     ]
    },
    {
     "name": "stderr",
     "output_type": "stream",
     "text": [
      "2022-09-17 22:55:07 [scrapy.core.engine] DEBUG: Crawled (200) <GET https://www.amazon.com/Changing-World-Order-Nations-Succeed/dp/1982160276/ref=sr_1_71?crid=2YKZLS0CJFDGI&keywords=data+science&qid=1663447986&sprefix=data+science%2Caps%2C828&sr=8-71> (referer: https://www.amazon.com/s?k=data+science&s=relevanceblender&page=2&crid=2YKZLS0CJFDGI&qid=1663103507&sprefix=data+science%2Caps%2C828&ref=sr_pg_2)\n",
      "2022-09-17 22:55:07 [scrapy.core.engine] DEBUG: Crawled (200) <GET https://www.amazon.com/Introduction-Machine-Learning-Python-Scientists/dp/1449369413/ref=sr_1_79?crid=2YKZLS0CJFDGI&keywords=data+science&qid=1663447986&sprefix=data+science%2Caps%2C828&sr=8-79> (referer: https://www.amazon.com/s?k=data+science&s=relevanceblender&page=2&crid=2YKZLS0CJFDGI&qid=1663103507&sprefix=data+science%2Caps%2C828&ref=sr_pg_2)\n",
      "2022-09-17 22:55:07 [scrapy.core.engine] DEBUG: Crawled (200) <GET https://www.amazon.com/Introduction-Probability-Statistics-Random-Processes/dp/0990637204/ref=sr_1_100_sspa?crid=2YKZLS0CJFDGI&keywords=data+science&qid=1663447999&sprefix=data+science%2Caps%2C828&sr=8-100-spons&psc=1&spLa=ZW5jcnlwdGVkUXVhbGlmaWVyPUExWklIWVQ4SzkxUzU1JmVuY3J5cHRlZElkPUEwOTg3MDM0SU1HSEVGRDExQ0omZW5jcnlwdGVkQWRJZD1BMDE5Mjg4NzFKU0hTVjZWRlFZV0wmd2lkZ2V0TmFtZT1zcF9hdGZfbmV4dCZhY3Rpb249Y2xpY2tSZWRpcmVjdCZkb05vdExvZ0NsaWNrPXRydWU=> (referer: https://www.amazon.com/s?k=data+science&s=relevanceblender&page=3&crid=2YKZLS0CJFDGI&qid=1663103507&sprefix=data+science%2Caps%2C828&ref=sr_pg_3)\n"
     ]
    },
    {
     "name": "stdout",
     "output_type": "stream",
     "text": [
      "319\n",
      "['\\n            \\n              73%\\n            \\n          '] 4.4 out of 5 stars 6 x 0.55 x 9 inches\n"
     ]
    },
    {
     "name": "stderr",
     "output_type": "stream",
     "text": [
      "2022-09-17 22:55:07 [scrapy.core.engine] DEBUG: Crawled (200) <GET https://www.amazon.com/Hands-Data-Preprocessing-Python-effectively/dp/1801072132/ref=sr_1_69?crid=2YKZLS0CJFDGI&keywords=data+science&qid=1663447986&sprefix=data+science%2Caps%2C828&sr=8-69> (referer: https://www.amazon.com/s?k=data+science&s=relevanceblender&page=2&crid=2YKZLS0CJFDGI&qid=1663103507&sprefix=data+science%2Caps%2C828&ref=sr_pg_2)\n",
      "2022-09-17 22:55:07 [scrapy.core.engine] DEBUG: Crawled (200) <GET https://www.amazon.com/Introduction-Statistical-Machine-Learning-Methods/dp/1953329608/ref=sr_1_70?crid=2YKZLS0CJFDGI&keywords=data+science&qid=1663447986&sprefix=data+science%2Caps%2C828&sr=8-70> (referer: https://www.amazon.com/s?k=data+science&s=relevanceblender&page=2&crid=2YKZLS0CJFDGI&qid=1663103507&sprefix=data+science%2Caps%2C828&ref=sr_pg_2)\n"
     ]
    },
    {
     "name": "stdout",
     "output_type": "stream",
     "text": [
      "320\n",
      "['\\n            \\n              68%\\n            \\n          '] 4.5 out of 5 stars None\n",
      "321\n",
      "[] None None\n",
      "322\n",
      "['\\n            \\n              76%\\n            \\n          '] 4.5 out of 5 stars 7 x 0.82 x 9.19 inches\n"
     ]
    },
    {
     "name": "stderr",
     "output_type": "stream",
     "text": [
      "2022-09-17 22:55:08 [scrapy.downloadermiddlewares.redirect] DEBUG: Redirecting (302) to <GET https://www.amazon.com/Hands-Data-Science-Techniques-manipulation/dp/1789139406/ref=sr_1_67_sspa?crid=2YKZLS0CJFDGI&keywords=data+science&qid=1663447986&sprefix=data+science%2Caps%2C828&sr=8-67-spons&psc=1&spLa=ZW5jcnlwdGVkUXVhbGlmaWVyPUEyUE9CMUhBMVVRR0FMJmVuY3J5cHRlZElkPUEwNTU5NDA4Mk9TUzE2TEpZQzRHNyZlbmNyeXB0ZWRBZElkPUEwOTY4NDE5MTNMTDQ3T0pBTlYwQiZ3aWRnZXROYW1lPXNwX210ZiZhY3Rpb249Y2xpY2tSZWRpcmVjdCZkb05vdExvZ0NsaWNrPXRydWU=> from <GET https://www.amazon.com/gp/slredirect/picassoRedirect.html/ref=pa_sp_mtf_aps_sr_pg2_1?ie=UTF8&adId=A096841913LL47OJANV0B&url=%2FHands-Data-Science-Techniques-manipulation%2Fdp%2F1789139406%2Fref%3Dsr_1_67_sspa%3Fcrid%3D2YKZLS0CJFDGI%26keywords%3Ddata%2Bscience%26qid%3D1663447986%26sprefix%3Ddata%2Bscience%252Caps%252C828%26sr%3D8-67-spons%26psc%3D1&qualifier=1663447986&id=7779202283886240&widgetName=sp_mtf>\n",
      "2022-09-17 22:55:08 [scrapy.core.engine] DEBUG: Crawled (200) <GET https://www.amazon.com/Python-Data-Cleaning-Cookbook-techniques/dp/1800565666/ref=sr_1_97_sspa?crid=2YKZLS0CJFDGI&keywords=data+science&qid=1663447999&sprefix=data+science%2Caps%2C828&sr=8-97-spons&psc=1&spLa=ZW5jcnlwdGVkUXVhbGlmaWVyPUExWklIWVQ4SzkxUzU1JmVuY3J5cHRlZElkPUEwOTg3MDM0SU1HSEVGRDExQ0omZW5jcnlwdGVkQWRJZD1BMDE1MTY1OTExUEtDREFHVkozQlUmd2lkZ2V0TmFtZT1zcF9hdGZfbmV4dCZhY3Rpb249Y2xpY2tSZWRpcmVjdCZkb05vdExvZ0NsaWNrPXRydWU=> (referer: https://www.amazon.com/s?k=data+science&s=relevanceblender&page=3&crid=2YKZLS0CJFDGI&qid=1663103507&sprefix=data+science%2Caps%2C828&ref=sr_pg_3)\n",
      "2022-09-17 22:55:08 [scrapy.downloadermiddlewares.redirect] DEBUG: Redirecting (302) to <GET https://www.amazon.com/Data-Science-Beginners-Comprehensive-Important/dp/B08ST2FWQD/ref=sr_1_68_sspa?crid=2YKZLS0CJFDGI&keywords=data+science&qid=1663447986&sprefix=data+science%2Caps%2C828&sr=8-68-spons&psc=1&spLa=ZW5jcnlwdGVkUXVhbGlmaWVyPUEyUE9CMUhBMVVRR0FMJmVuY3J5cHRlZElkPUEwNTU5NDA4Mk9TUzE2TEpZQzRHNyZlbmNyeXB0ZWRBZElkPUEwNTM2NjMxMzRRNjQ3OEVLV1FFSCZ3aWRnZXROYW1lPXNwX210ZiZhY3Rpb249Y2xpY2tSZWRpcmVjdCZkb05vdExvZ0NsaWNrPXRydWU=> from <GET https://www.amazon.com/gp/slredirect/picassoRedirect.html/ref=pa_sp_mtf_aps_sr_pg2_1?ie=UTF8&adId=A053663134Q6478EKWQEH&url=%2FData-Science-Beginners-Comprehensive-Important%2Fdp%2FB08ST2FWQD%2Fref%3Dsr_1_68_sspa%3Fcrid%3D2YKZLS0CJFDGI%26keywords%3Ddata%2Bscience%26qid%3D1663447986%26sprefix%3Ddata%2Bscience%252Caps%252C828%26sr%3D8-68-spons%26psc%3D1&qualifier=1663447986&id=7779202283886240&widgetName=sp_mtf>\n",
      "2022-09-17 22:55:08 [scrapy.core.engine] DEBUG: Crawled (200) <GET https://www.amazon.com/Python-ArcGIS-Pro-Automate-cartography/dp/1803241667/ref=sr_1_99_sspa?crid=2YKZLS0CJFDGI&keywords=data+science&qid=1663447999&sprefix=data+science%2Caps%2C828&sr=8-99-spons&psc=1&spLa=ZW5jcnlwdGVkUXVhbGlmaWVyPUExWklIWVQ4SzkxUzU1JmVuY3J5cHRlZElkPUEwOTg3MDM0SU1HSEVGRDExQ0omZW5jcnlwdGVkQWRJZD1BMDA2MjI0MUE5QjJROE1JMVMwNSZ3aWRnZXROYW1lPXNwX2F0Zl9uZXh0JmFjdGlvbj1jbGlja1JlZGlyZWN0JmRvTm90TG9nQ2xpY2s9dHJ1ZQ==> (referer: https://www.amazon.com/s?k=data+science&s=relevanceblender&page=3&crid=2YKZLS0CJFDGI&qid=1663103507&sprefix=data+science%2Caps%2C828&ref=sr_pg_3)\n",
      "2022-09-17 22:55:08 [scrapy.core.engine] DEBUG: Crawled (200) <GET https://www.amazon.com/Nature-Data-Infrastructures-Environments-Politics/dp/149623250X/ref=sr_1_73?crid=2YKZLS0CJFDGI&keywords=data+science&qid=1663447986&sprefix=data+science%2Caps%2C828&sr=8-73> (referer: https://www.amazon.com/s?k=data+science&s=relevanceblender&page=2&crid=2YKZLS0CJFDGI&qid=1663103507&sprefix=data+science%2Caps%2C828&ref=sr_pg_2)\n"
     ]
    },
    {
     "name": "stdout",
     "output_type": "stream",
     "text": [
      "323\n",
      "['\\n            \\n              80%\\n            \\n          '] 4.6 out of 5 stars 7.44 x 1.68 x 9.69 inches\n",
      "324\n",
      "[] None None\n"
     ]
    },
    {
     "name": "stderr",
     "output_type": "stream",
     "text": [
      "2022-09-17 22:55:08 [scrapy.downloadermiddlewares.redirect] DEBUG: Redirecting (302) to <GET https://www.amazon.com/Practitioners-Guide-Data-Science-Streamlining/dp/9391392873/ref=sr_1_66_sspa?crid=2YKZLS0CJFDGI&keywords=data+science&qid=1663447986&sprefix=data+science%2Caps%2C828&sr=8-66-spons&psc=1&spLa=ZW5jcnlwdGVkUXVhbGlmaWVyPUEyUE9CMUhBMVVRR0FMJmVuY3J5cHRlZElkPUEwNTU5NDA4Mk9TUzE2TEpZQzRHNyZlbmNyeXB0ZWRBZElkPUEwOTU1NDYwM0Q0VUlPM1c0TEkwNiZ3aWRnZXROYW1lPXNwX210ZiZhY3Rpb249Y2xpY2tSZWRpcmVjdCZkb05vdExvZ0NsaWNrPXRydWU=> from <GET https://www.amazon.com/gp/slredirect/picassoRedirect.html/ref=pa_sp_mtf_aps_sr_pg2_1?ie=UTF8&adId=A09554603D4UIO3W4LI06&url=%2FPractitioners-Guide-Data-Science-Streamlining%2Fdp%2F9391392873%2Fref%3Dsr_1_66_sspa%3Fcrid%3D2YKZLS0CJFDGI%26keywords%3Ddata%2Bscience%26qid%3D1663447986%26sprefix%3Ddata%2Bscience%252Caps%252C828%26sr%3D8-66-spons%26psc%3D1&qualifier=1663447986&id=7779202283886240&widgetName=sp_mtf>\n",
      "2022-09-17 22:55:08 [scrapy.downloadermiddlewares.redirect] DEBUG: Redirecting (302) to <GET https://www.amazon.com/Data-Engineering-Alteryx-engineers-practices/dp/1803236485/ref=sr_1_65_sspa?crid=2YKZLS0CJFDGI&keywords=data+science&qid=1663447986&sprefix=data+science%2Caps%2C828&sr=8-65-spons&psc=1&spLa=ZW5jcnlwdGVkUXVhbGlmaWVyPUEyUE9CMUhBMVVRR0FMJmVuY3J5cHRlZElkPUEwNTU5NDA4Mk9TUzE2TEpZQzRHNyZlbmNyeXB0ZWRBZElkPUEwMDk2MDgxUFhUSFpCSElXQzlQJndpZGdldE5hbWU9c3BfbXRmJmFjdGlvbj1jbGlja1JlZGlyZWN0JmRvTm90TG9nQ2xpY2s9dHJ1ZQ==> from <GET https://www.amazon.com/gp/slredirect/picassoRedirect.html/ref=pa_sp_mtf_aps_sr_pg2_1?ie=UTF8&adId=A0096081PXTHZBHIWC9P&url=%2FData-Engineering-Alteryx-engineers-practices%2Fdp%2F1803236485%2Fref%3Dsr_1_65_sspa%3Fcrid%3D2YKZLS0CJFDGI%26keywords%3Ddata%2Bscience%26qid%3D1663447986%26sprefix%3Ddata%2Bscience%252Caps%252C828%26sr%3D8-65-spons%26psc%3D1&qualifier=1663447986&id=7779202283886240&widgetName=sp_mtf>\n",
      "2022-09-17 22:55:08 [scrapy.core.engine] DEBUG: Crawled (200) <GET https://www.amazon.com/Managing-Data-Patron-Privacy-Comprehensive/dp/0838938280/ref=sr_1_63?crid=2YKZLS0CJFDGI&keywords=data+science&qid=1663447986&sprefix=data+science%2Caps%2C828&sr=8-63> (referer: https://www.amazon.com/s?k=data+science&s=relevanceblender&page=2&crid=2YKZLS0CJFDGI&qid=1663103507&sprefix=data+science%2Caps%2C828&ref=sr_pg_2)\n"
     ]
    },
    {
     "name": "stdout",
     "output_type": "stream",
     "text": [
      "325\n",
      "[] None None\n",
      "326\n",
      "['\\n            \\n              83%\\n            \\n          '] 4.8 out of 5 stars 7.5 x 0.99 x 9.25 inches\n",
      "327\n",
      "['\\n            \\n              84%\\n            \\n          '] 4.7 out of 5 stars 7.5 x 1.32 x 9.25 inches\n"
     ]
    },
    {
     "name": "stderr",
     "output_type": "stream",
     "text": [
      "2022-09-17 22:55:09 [scrapy.core.engine] DEBUG: Crawled (200) <GET https://www.amazon.com/Data-Science-Strategy-Dummies-Computer-ebook/dp/B07T4HFCF4/ref=sr_1_62?crid=2YKZLS0CJFDGI&keywords=data+science&qid=1663447986&sprefix=data+science%2Caps%2C828&sr=8-62> (referer: https://www.amazon.com/s?k=data+science&s=relevanceblender&page=2&crid=2YKZLS0CJFDGI&qid=1663103507&sprefix=data+science%2Caps%2C828&ref=sr_pg_2)\n",
      "2022-09-17 22:55:09 [scrapy.core.engine] DEBUG: Crawled (200) <GET https://www.amazon.com/Essential-PySpark-Scalable-Data-Analytics/dp/1800568878/ref=sr_1_60?crid=2YKZLS0CJFDGI&keywords=data+science&qid=1663447986&sprefix=data+science%2Caps%2C828&sr=8-60> (referer: https://www.amazon.com/s?k=data+science&s=relevanceblender&page=2&crid=2YKZLS0CJFDGI&qid=1663103507&sprefix=data+science%2Caps%2C828&ref=sr_pg_2)\n",
      "2022-09-17 22:55:09 [scrapy.core.engine] DEBUG: Crawled (200) <GET https://www.amazon.com/Foundations-Data-Science-Avrim-Blum/dp/1108485065/ref=sr_1_58?crid=2YKZLS0CJFDGI&keywords=data+science&qid=1663447986&sprefix=data+science%2Caps%2C828&sr=8-58> (referer: https://www.amazon.com/s?k=data+science&s=relevanceblender&page=2&crid=2YKZLS0CJFDGI&qid=1663103507&sprefix=data+science%2Caps%2C828&ref=sr_pg_2)\n"
     ]
    },
    {
     "name": "stdout",
     "output_type": "stream",
     "text": [
      "328\n",
      "[] None 6 x 0.77 x 9 inches\n"
     ]
    },
    {
     "name": "stderr",
     "output_type": "stream",
     "text": [
      "2022-09-17 22:55:09 [scrapy.core.engine] DEBUG: Crawled (200) <GET https://www.amazon.com/Fundamentals-Data-Science-Part-Statistical/dp/1941043127/ref=sr_1_72?crid=2YKZLS0CJFDGI&keywords=data+science&qid=1663447986&sprefix=data+science%2Caps%2C828&sr=8-72> (referer: https://www.amazon.com/s?k=data+science&s=relevanceblender&page=2&crid=2YKZLS0CJFDGI&qid=1663103507&sprefix=data+science%2Caps%2C828&ref=sr_pg_2)\n"
     ]
    },
    {
     "name": "stdout",
     "output_type": "stream",
     "text": [
      "329\n",
      "[] None None\n",
      "330\n",
      "[] None None\n"
     ]
    },
    {
     "name": "stderr",
     "output_type": "stream",
     "text": [
      "2022-09-17 22:55:09 [scrapy.core.engine] DEBUG: Crawled (200) <GET https://www.amazon.com/Hands-Data-Science-Techniques-manipulation/dp/1789139406/ref=sr_1_67_sspa?crid=2YKZLS0CJFDGI&keywords=data+science&qid=1663447986&sprefix=data+science%2Caps%2C828&sr=8-67-spons&psc=1&spLa=ZW5jcnlwdGVkUXVhbGlmaWVyPUEyUE9CMUhBMVVRR0FMJmVuY3J5cHRlZElkPUEwNTU5NDA4Mk9TUzE2TEpZQzRHNyZlbmNyeXB0ZWRBZElkPUEwOTY4NDE5MTNMTDQ3T0pBTlYwQiZ3aWRnZXROYW1lPXNwX210ZiZhY3Rpb249Y2xpY2tSZWRpcmVjdCZkb05vdExvZ0NsaWNrPXRydWU=> (referer: https://www.amazon.com/s?k=data+science&s=relevanceblender&page=2&crid=2YKZLS0CJFDGI&qid=1663103507&sprefix=data+science%2Caps%2C828&ref=sr_pg_2)\n"
     ]
    },
    {
     "name": "stdout",
     "output_type": "stream",
     "text": [
      "331\n",
      "[] None None\n",
      "332\n",
      "[] None None\n"
     ]
    },
    {
     "name": "stderr",
     "output_type": "stream",
     "text": [
      "2022-09-17 22:55:10 [scrapy.core.engine] DEBUG: Crawled (200) <GET https://www.amazon.com/Data-Driven-Science-Engineering-Learning-Dynamical/dp/1108422098/ref=sr_1_55?crid=2YKZLS0CJFDGI&keywords=data+science&qid=1663447986&sprefix=data+science%2Caps%2C828&sr=8-55> (referer: https://www.amazon.com/s?k=data+science&s=relevanceblender&page=2&crid=2YKZLS0CJFDGI&qid=1663103507&sprefix=data+science%2Caps%2C828&ref=sr_pg_2)\n",
      "2022-09-17 22:55:10 [scrapy.core.engine] DEBUG: Crawled (200) <GET https://www.amazon.com/Structures-Algorithms-Interview-Questions-Likely/dp/1946383066/ref=sr_1_98_sspa?crid=2YKZLS0CJFDGI&keywords=data+science&qid=1663447999&sprefix=data+science%2Caps%2C828&sr=8-98-spons&psc=1&spLa=ZW5jcnlwdGVkUXVhbGlmaWVyPUExWklIWVQ4SzkxUzU1JmVuY3J5cHRlZElkPUEwOTg3MDM0SU1HSEVGRDExQ0omZW5jcnlwdGVkQWRJZD1BMDUzODQyMjI1WEpPQlk1SVZHUjQmd2lkZ2V0TmFtZT1zcF9hdGZfbmV4dCZhY3Rpb249Y2xpY2tSZWRpcmVjdCZkb05vdExvZ0NsaWNrPXRydWU=> (referer: https://www.amazon.com/s?k=data+science&s=relevanceblender&page=3&crid=2YKZLS0CJFDGI&qid=1663103507&sprefix=data+science%2Caps%2C828&ref=sr_pg_3)\n"
     ]
    },
    {
     "name": "stdout",
     "output_type": "stream",
     "text": [
      "333\n",
      "['\\n            \\n              100%\\n            \\n          '] 5.0 out of 5 stars 6.14 x 0.74 x 9.21 inches\n",
      "334\n",
      "[] None None\n",
      "335\n",
      "[] None None\n",
      "336\n",
      "['\\n            \\n              44%\\n            \\n          '] 3.4 out of 5 stars 8.5 x 5.5 x 0.6 inches\n"
     ]
    },
    {
     "name": "stderr",
     "output_type": "stream",
     "text": [
      "2022-09-17 22:55:10 [scrapy.core.engine] DEBUG: Crawled (200) <GET https://www.amazon.com/Data-Engineering-Alteryx-engineers-practices/dp/1803236485/ref=sr_1_65_sspa?crid=2YKZLS0CJFDGI&keywords=data+science&qid=1663447986&sprefix=data+science%2Caps%2C828&sr=8-65-spons&psc=1&spLa=ZW5jcnlwdGVkUXVhbGlmaWVyPUEyUE9CMUhBMVVRR0FMJmVuY3J5cHRlZElkPUEwNTU5NDA4Mk9TUzE2TEpZQzRHNyZlbmNyeXB0ZWRBZElkPUEwMDk2MDgxUFhUSFpCSElXQzlQJndpZGdldE5hbWU9c3BfbXRmJmFjdGlvbj1jbGlja1JlZGlyZWN0JmRvTm90TG9nQ2xpY2s9dHJ1ZQ==> (referer: https://www.amazon.com/s?k=data+science&s=relevanceblender&page=2&crid=2YKZLS0CJFDGI&qid=1663103507&sprefix=data+science%2Caps%2C828&ref=sr_pg_2)\n",
      "2022-09-17 22:55:10 [scrapy.core.engine] DEBUG: Crawled (200) <GET https://www.amazon.com/Practitioners-Guide-Data-Science-Streamlining/dp/9391392873/ref=sr_1_66_sspa?crid=2YKZLS0CJFDGI&keywords=data+science&qid=1663447986&sprefix=data+science%2Caps%2C828&sr=8-66-spons&psc=1&spLa=ZW5jcnlwdGVkUXVhbGlmaWVyPUEyUE9CMUhBMVVRR0FMJmVuY3J5cHRlZElkPUEwNTU5NDA4Mk9TUzE2TEpZQzRHNyZlbmNyeXB0ZWRBZElkPUEwOTU1NDYwM0Q0VUlPM1c0TEkwNiZ3aWRnZXROYW1lPXNwX210ZiZhY3Rpb249Y2xpY2tSZWRpcmVjdCZkb05vdExvZ0NsaWNrPXRydWU=> (referer: https://www.amazon.com/s?k=data+science&s=relevanceblender&page=2&crid=2YKZLS0CJFDGI&qid=1663103507&sprefix=data+science%2Caps%2C828&ref=sr_pg_2)\n",
      "2022-09-17 22:55:11 [scrapy.core.engine] DEBUG: Crawled (200) <GET https://www.amazon.com/Python-Data-Science-Dummies-Computer/dp/1119547628/ref=sr_1_64?crid=2YKZLS0CJFDGI&keywords=data+science&qid=1663447986&sprefix=data+science%2Caps%2C828&sr=8-64> (referer: https://www.amazon.com/s?k=data+science&s=relevanceblender&page=2&crid=2YKZLS0CJFDGI&qid=1663103507&sprefix=data+science%2Caps%2C828&ref=sr_pg_2)\n",
      "2022-09-17 22:55:11 [scrapy.core.engine] DEBUG: Crawled (200) <GET https://www.amazon.com/Intro-Python-Computer-Science-Data/dp/0135404673/ref=sr_1_53?crid=2YKZLS0CJFDGI&keywords=data+science&qid=1663447986&sprefix=data+science%2Caps%2C828&sr=8-53> (referer: https://www.amazon.com/s?k=data+science&s=relevanceblender&page=2&crid=2YKZLS0CJFDGI&qid=1663103507&sprefix=data+science%2Caps%2C828&ref=sr_pg_2)\n"
     ]
    },
    {
     "name": "stdout",
     "output_type": "stream",
     "text": [
      "337\n",
      "[] None None\n",
      "338\n",
      "[] None None\n"
     ]
    },
    {
     "name": "stderr",
     "output_type": "stream",
     "text": [
      "2022-09-17 22:55:11 [scrapy.core.engine] DEBUG: Crawled (200) <GET https://www.amazon.com/Text-Data-Framework-Learning-Sciences/dp/0691207550/ref=sr_1_59?crid=2YKZLS0CJFDGI&keywords=data+science&qid=1663447986&sprefix=data+science%2Caps%2C828&sr=8-59> (referer: https://www.amazon.com/s?k=data+science&s=relevanceblender&page=2&crid=2YKZLS0CJFDGI&qid=1663103507&sprefix=data+science%2Caps%2C828&ref=sr_pg_2)\n",
      "2022-09-17 22:55:11 [scrapy.downloadermiddlewares.redirect] DEBUG: Redirecting (302) to <GET https://www.amazon.com/Effective-Data-Science-Infrastructure-scientists/dp/1617299197/ref=sr_1_52_sspa?crid=2YKZLS0CJFDGI&keywords=data+science&qid=1663447986&sprefix=data+science%2Caps%2C828&sr=8-52-spons&psc=1&spLa=ZW5jcnlwdGVkUXVhbGlmaWVyPUEyUE9CMUhBMVVRR0FMJmVuY3J5cHRlZElkPUEwNTU5NDA4Mk9TUzE2TEpZQzRHNyZlbmNyeXB0ZWRBZElkPUEwNjQ1OTAwMTRFTjY0UEJFQ1NNQSZ3aWRnZXROYW1lPXNwX2F0Zl9uZXh0JmFjdGlvbj1jbGlja1JlZGlyZWN0JmRvTm90TG9nQ2xpY2s9dHJ1ZQ==> from <GET https://www.amazon.com/gp/slredirect/picassoRedirect.html/ref=pa_sp_atf_next_aps_sr_pg2_1?ie=UTF8&adId=A064590014EN64PBECSMA&url=%2FEffective-Data-Science-Infrastructure-scientists%2Fdp%2F1617299197%2Fref%3Dsr_1_52_sspa%3Fcrid%3D2YKZLS0CJFDGI%26keywords%3Ddata%2Bscience%26qid%3D1663447986%26sprefix%3Ddata%2Bscience%252Caps%252C828%26sr%3D8-52-spons%26psc%3D1&qualifier=1663447986&id=7779202283886240&widgetName=sp_atf_next>\n",
      "2022-09-17 22:55:11 [scrapy.downloadermiddlewares.redirect] DEBUG: Redirecting (302) to <GET https://www.amazon.com/Practical-Analysis-Using-Jupyter-Notebook/dp/1838826033/ref=sr_1_51_sspa?crid=2YKZLS0CJFDGI&keywords=data+science&qid=1663447986&sprefix=data+science%2Caps%2C828&sr=8-51-spons&psc=1&spLa=ZW5jcnlwdGVkUXVhbGlmaWVyPUEyUE9CMUhBMVVRR0FMJmVuY3J5cHRlZElkPUEwNTU5NDA4Mk9TUzE2TEpZQzRHNyZlbmNyeXB0ZWRBZElkPUEwMTI2MjI0MjhYWUFETEhZOFZQTSZ3aWRnZXROYW1lPXNwX2F0Zl9uZXh0JmFjdGlvbj1jbGlja1JlZGlyZWN0JmRvTm90TG9nQ2xpY2s9dHJ1ZQ==> from <GET https://www.amazon.com/gp/slredirect/picassoRedirect.html/ref=pa_sp_atf_next_aps_sr_pg2_1?ie=UTF8&adId=A012622428XYADLHY8VPM&url=%2FPractical-Analysis-Using-Jupyter-Notebook%2Fdp%2F1838826033%2Fref%3Dsr_1_51_sspa%3Fcrid%3D2YKZLS0CJFDGI%26keywords%3Ddata%2Bscience%26qid%3D1663447986%26sprefix%3Ddata%2Bscience%252Caps%252C828%26sr%3D8-51-spons%26psc%3D1&qualifier=1663447986&id=7779202283886240&widgetName=sp_atf_next>\n",
      "2022-09-17 22:55:11 [scrapy.core.engine] DEBUG: Crawled (200) <GET https://www.amazon.com/Human-Centered-Data-Science-Cecilia-Aragon/dp/0262543214/ref=sr_1_61?crid=2YKZLS0CJFDGI&keywords=data+science&qid=1663447986&sprefix=data+science%2Caps%2C828&sr=8-61> (referer: https://www.amazon.com/s?k=data+science&s=relevanceblender&page=2&crid=2YKZLS0CJFDGI&qid=1663103507&sprefix=data+science%2Caps%2C828&ref=sr_pg_2)\n"
     ]
    },
    {
     "name": "stdout",
     "output_type": "stream",
     "text": [
      "339\n",
      "['\\n            \\n              62%\\n            \\n          '] 4.4 out of 5 stars 7.4 x 1.2 x 9.2 inches\n",
      "340\n",
      "[] None None\n",
      "341\n",
      "['\\n            \\n              78%\\n            \\n          '] 4.8 out of 5 stars 7 x 1 x 10 inches\n"
     ]
    },
    {
     "name": "stderr",
     "output_type": "stream",
     "text": [
      "2022-09-17 22:55:11 [scrapy.downloadermiddlewares.redirect] DEBUG: Redirecting (302) to <GET https://www.amazon.com/Data-Science-Jupyter-easy-follow/dp/9388511379/ref=sr_1_50_sspa?crid=2YKZLS0CJFDGI&keywords=data+science&qid=1663447986&sprefix=data+science%2Caps%2C828&sr=8-50-spons&psc=1&spLa=ZW5jcnlwdGVkUXVhbGlmaWVyPUEyUE9CMUhBMVVRR0FMJmVuY3J5cHRlZElkPUEwNTU5NDA4Mk9TUzE2TEpZQzRHNyZlbmNyeXB0ZWRBZElkPUEwMDExNjMyM0lRMDBJVEdES0ZTUSZ3aWRnZXROYW1lPXNwX2F0Zl9uZXh0JmFjdGlvbj1jbGlja1JlZGlyZWN0JmRvTm90TG9nQ2xpY2s9dHJ1ZQ==> from <GET https://www.amazon.com/gp/slredirect/picassoRedirect.html/ref=pa_sp_atf_next_aps_sr_pg2_1?ie=UTF8&adId=A00116323IQ00ITGDKFSQ&url=%2FData-Science-Jupyter-easy-follow%2Fdp%2F9388511379%2Fref%3Dsr_1_50_sspa%3Fcrid%3D2YKZLS0CJFDGI%26keywords%3Ddata%2Bscience%26qid%3D1663447986%26sprefix%3Ddata%2Bscience%252Caps%252C828%26sr%3D8-50-spons%26psc%3D1&qualifier=1663447986&id=7779202283886240&widgetName=sp_atf_next>\n",
      "2022-09-17 22:55:11 [scrapy.downloadermiddlewares.redirect] DEBUG: Redirecting (302) to <GET https://www.amazon.com/Advanced-Algorithms-Structures-Marcello-Rocca/dp/1617295485/ref=sr_1_49_sspa?crid=2YKZLS0CJFDGI&keywords=data+science&qid=1663447986&sprefix=data+science%2Caps%2C828&sr=8-49-spons&psc=1&spLa=ZW5jcnlwdGVkUXVhbGlmaWVyPUEyUE9CMUhBMVVRR0FMJmVuY3J5cHRlZElkPUEwNTU5NDA4Mk9TUzE2TEpZQzRHNyZlbmNyeXB0ZWRBZElkPUEwMjkzNDY3MzkxMENVQlVWNjBENyZ3aWRnZXROYW1lPXNwX2F0Zl9uZXh0JmFjdGlvbj1jbGlja1JlZGlyZWN0JmRvTm90TG9nQ2xpY2s9dHJ1ZQ==> from <GET https://www.amazon.com/gp/slredirect/picassoRedirect.html/ref=pa_sp_atf_next_aps_sr_pg2_1?ie=UTF8&adId=A02934673910CUBUV60D7&url=%2FAdvanced-Algorithms-Structures-Marcello-Rocca%2Fdp%2F1617295485%2Fref%3Dsr_1_49_sspa%3Fcrid%3D2YKZLS0CJFDGI%26keywords%3Ddata%2Bscience%26qid%3D1663447986%26sprefix%3Ddata%2Bscience%252Caps%252C828%26sr%3D8-49-spons%26psc%3D1&qualifier=1663447986&id=7779202283886240&widgetName=sp_atf_next>\n",
      "2022-09-17 22:55:11 [scrapy.core.engine] DEBUG: Crawled (200) <GET https://www.amazon.com/Build-Career-Data-Science/dp/B08NXHQQC5/ref=sr_1_25?crid=1IWIG31DNPO6P&keywords=data+science&qid=1663447969&sprefix=data+science%2Caps%2C586&sr=8-25> (referer: https://www.amazon.com/s?k=data+science&crid=1IWIG31DNPO6P&sprefix=data+science%2Caps%2C586&ref=nb_sb_noss_2)\n"
     ]
    },
    {
     "name": "stdout",
     "output_type": "stream",
     "text": [
      "342\n",
      "['\\n            \\n              100%\\n            \\n          '] 5.0 out of 5 stars 7 x 0.49 x 10 inches\n"
     ]
    },
    {
     "name": "stderr",
     "output_type": "stream",
     "text": [
      "2022-09-17 22:55:12 [scrapy.core.engine] DEBUG: Crawled (200) <GET https://www.amazon.com/Data-Science-Beginners-Comprehensive-Important/dp/B08ST2FWQD/ref=sr_1_68_sspa?crid=2YKZLS0CJFDGI&keywords=data+science&qid=1663447986&sprefix=data+science%2Caps%2C828&sr=8-68-spons&psc=1&spLa=ZW5jcnlwdGVkUXVhbGlmaWVyPUEyUE9CMUhBMVVRR0FMJmVuY3J5cHRlZElkPUEwNTU5NDA4Mk9TUzE2TEpZQzRHNyZlbmNyeXB0ZWRBZElkPUEwNTM2NjMxMzRRNjQ3OEVLV1FFSCZ3aWRnZXROYW1lPXNwX210ZiZhY3Rpb249Y2xpY2tSZWRpcmVjdCZkb05vdExvZ0NsaWNrPXRydWU=> (referer: https://www.amazon.com/s?k=data+science&s=relevanceblender&page=2&crid=2YKZLS0CJFDGI&qid=1663103507&sprefix=data+science%2Caps%2C828&ref=sr_pg_2)\n",
      "2022-09-17 22:55:12 [scrapy.core.engine] DEBUG: Crawled (200) <GET https://www.amazon.com/Designing-Machine-Learning-Systems-Production-Ready/dp/1098107969/ref=sr_1_23?crid=1IWIG31DNPO6P&keywords=data+science&qid=1663447969&sprefix=data+science%2Caps%2C586&sr=8-23> (referer: https://www.amazon.com/s?k=data+science&crid=1IWIG31DNPO6P&sprefix=data+science%2Caps%2C586&ref=nb_sb_noss_2)\n",
      "2022-09-17 22:55:12 [scrapy.core.engine] DEBUG: Crawled (200) <GET https://www.amazon.com/Getting-Started-Data-Science-Analytics/dp/0133991024/ref=sr_1_57?crid=2YKZLS0CJFDGI&keywords=data+science&qid=1663447986&sprefix=data+science%2Caps%2C828&sr=8-57> (referer: https://www.amazon.com/s?k=data+science&s=relevanceblender&page=2&crid=2YKZLS0CJFDGI&qid=1663103507&sprefix=data+science%2Caps%2C828&ref=sr_pg_2)\n"
     ]
    },
    {
     "name": "stdout",
     "output_type": "stream",
     "text": [
      "343\n",
      "[] None None\n",
      "344\n",
      "['\\n            \\n              42%\\n            \\n          '] 3.8 out of 5 stars 6 x 0.2 x 9 inches\n",
      "345\n",
      "[] None None\n"
     ]
    },
    {
     "name": "stderr",
     "output_type": "stream",
     "text": [
      "2022-09-17 22:55:12 [scrapy.core.engine] DEBUG: Crawled (200) <GET https://www.amazon.com/Storytelling-Data-Visualization-Business-Professionals/dp/1119002257/ref=sr_1_21?crid=1IWIG31DNPO6P&keywords=data+science&qid=1663447969&sprefix=data+science%2Caps%2C586&sr=8-21> (referer: https://www.amazon.com/s?k=data+science&crid=1IWIG31DNPO6P&sprefix=data+science%2Caps%2C586&ref=nb_sb_noss_2)\n",
      "2022-09-17 22:55:12 [scrapy.core.engine] DEBUG: Crawled (200) <GET https://www.amazon.com/Probability-Statistics-Data-Science-Chapman/dp/1138393290/ref=sr_1_56?crid=2YKZLS0CJFDGI&keywords=data+science&qid=1663447986&sprefix=data+science%2Caps%2C828&sr=8-56> (referer: https://www.amazon.com/s?k=data+science&s=relevanceblender&page=2&crid=2YKZLS0CJFDGI&qid=1663103507&sprefix=data+science%2Caps%2C828&ref=sr_pg_2)\n",
      "2022-09-17 22:55:12 [scrapy.core.engine] DEBUG: Crawled (200) <GET https://www.amazon.com/Effective-Data-Science-Infrastructure-scientists/dp/1617299197/ref=sr_1_52_sspa?crid=2YKZLS0CJFDGI&keywords=data+science&qid=1663447986&sprefix=data+science%2Caps%2C828&sr=8-52-spons&psc=1&spLa=ZW5jcnlwdGVkUXVhbGlmaWVyPUEyUE9CMUhBMVVRR0FMJmVuY3J5cHRlZElkPUEwNTU5NDA4Mk9TUzE2TEpZQzRHNyZlbmNyeXB0ZWRBZElkPUEwNjQ1OTAwMTRFTjY0UEJFQ1NNQSZ3aWRnZXROYW1lPXNwX2F0Zl9uZXh0JmFjdGlvbj1jbGlja1JlZGlyZWN0JmRvTm90TG9nQ2xpY2s9dHJ1ZQ==> (referer: https://www.amazon.com/s?k=data+science&s=relevanceblender&page=2&crid=2YKZLS0CJFDGI&qid=1663103507&sprefix=data+science%2Caps%2C828&ref=sr_pg_2)\n"
     ]
    },
    {
     "name": "stdout",
     "output_type": "stream",
     "text": [
      "346\n",
      "['\\n            \\n              73%\\n            \\n          '] 4.5 out of 5 stars 1.4 x 6.9 x 8.9 inches\n",
      "347\n",
      "[] None None\n",
      "348\n",
      "['\\n            \\n              67%\\n            \\n          '] 4.2 out of 5 stars 6.13 x 1 x 9.25 inches\n"
     ]
    },
    {
     "name": "stderr",
     "output_type": "stream",
     "text": [
      "2022-09-17 22:55:13 [scrapy.downloadermiddlewares.redirect] DEBUG: Redirecting (302) to <GET https://www.amazon.com/Essential-Statistics-Non-STEM-Data-Analysts/dp/1838984844/ref=sr_1_20_sspa?crid=1IWIG31DNPO6P&keywords=data+science&qid=1663447969&sprefix=data+science%2Caps%2C586&sr=8-20-spons&psc=1&spLa=ZW5jcnlwdGVkUXVhbGlmaWVyPUExV0w5MFRVVVdTQk1KJmVuY3J5cHRlZElkPUEwOTg5NzY0M1RLMVAyTlIwWUpRSSZlbmNyeXB0ZWRBZElkPUEwNDcwNjQ3V0VOUkdZMTFJRTdXJndpZGdldE5hbWU9c3BfbXRmJmFjdGlvbj1jbGlja1JlZGlyZWN0JmRvTm90TG9nQ2xpY2s9dHJ1ZQ==> from <GET https://www.amazon.com/gp/slredirect/picassoRedirect.html/ref=pa_sp_mtf_aps_sr_pg1_1?ie=UTF8&adId=A0470647WENRGY11IE7W&url=%2FEssential-Statistics-Non-STEM-Data-Analysts%2Fdp%2F1838984844%2Fref%3Dsr_1_20_sspa%3Fcrid%3D1IWIG31DNPO6P%26keywords%3Ddata%2Bscience%26qid%3D1663447969%26sprefix%3Ddata%2Bscience%252Caps%252C586%26sr%3D8-20-spons%26psc%3D1&qualifier=1663447969&id=821362400294070&widgetName=sp_mtf>\n",
      "2022-09-17 22:55:13 [scrapy.downloadermiddlewares.redirect] DEBUG: Redirecting (302) to <GET https://www.amazon.com/Data-Science-Projects-Python-approach/dp/1800564481/ref=sr_1_19_sspa?crid=1IWIG31DNPO6P&keywords=data+science&qid=1663447969&sprefix=data+science%2Caps%2C586&sr=8-19-spons&psc=1&spLa=ZW5jcnlwdGVkUXVhbGlmaWVyPUExV0w5MFRVVVdTQk1KJmVuY3J5cHRlZElkPUEwOTg5NzY0M1RLMVAyTlIwWUpRSSZlbmNyeXB0ZWRBZElkPUExMDA2Mjg2SUlUTlE0RDRUSzhVJndpZGdldE5hbWU9c3BfbXRmJmFjdGlvbj1jbGlja1JlZGlyZWN0JmRvTm90TG9nQ2xpY2s9dHJ1ZQ==> from <GET https://www.amazon.com/gp/slredirect/picassoRedirect.html/ref=pa_sp_mtf_aps_sr_pg1_1?ie=UTF8&adId=A1006286IITNQ4D4TK8U&url=%2FData-Science-Projects-Python-approach%2Fdp%2F1800564481%2Fref%3Dsr_1_19_sspa%3Fcrid%3D1IWIG31DNPO6P%26keywords%3Ddata%2Bscience%26qid%3D1663447969%26sprefix%3Ddata%2Bscience%252Caps%252C586%26sr%3D8-19-spons%26psc%3D1&qualifier=1663447969&id=821362400294070&widgetName=sp_mtf>\n",
      "2022-09-17 22:55:13 [scrapy.core.engine] DEBUG: Crawled (200) <GET https://www.amazon.com/Python-Bible-Beginner-Intermediate-Learning/dp/B0863R7BZS/ref=sr_1_54?crid=2YKZLS0CJFDGI&keywords=data+science&qid=1663447986&sprefix=data+science%2Caps%2C828&sr=8-54> (referer: https://www.amazon.com/s?k=data+science&s=relevanceblender&page=2&crid=2YKZLS0CJFDGI&qid=1663103507&sprefix=data+science%2Caps%2C828&ref=sr_pg_2)\n",
      "2022-09-17 22:55:13 [scrapy.core.engine] DEBUG: Crawled (200) <GET https://www.amazon.com/Data-Science-Jupyter-easy-follow/dp/9388511379/ref=sr_1_50_sspa?crid=2YKZLS0CJFDGI&keywords=data+science&qid=1663447986&sprefix=data+science%2Caps%2C828&sr=8-50-spons&psc=1&spLa=ZW5jcnlwdGVkUXVhbGlmaWVyPUEyUE9CMUhBMVVRR0FMJmVuY3J5cHRlZElkPUEwNTU5NDA4Mk9TUzE2TEpZQzRHNyZlbmNyeXB0ZWRBZElkPUEwMDExNjMyM0lRMDBJVEdES0ZTUSZ3aWRnZXROYW1lPXNwX2F0Zl9uZXh0JmFjdGlvbj1jbGlja1JlZGlyZWN0JmRvTm90TG9nQ2xpY2s9dHJ1ZQ==> (referer: https://www.amazon.com/s?k=data+science&s=relevanceblender&page=2&crid=2YKZLS0CJFDGI&qid=1663103507&sprefix=data+science%2Caps%2C828&ref=sr_pg_2)\n"
     ]
    },
    {
     "name": "stdout",
     "output_type": "stream",
     "text": [
      "349\n",
      "[] None None\n"
     ]
    },
    {
     "name": "stderr",
     "output_type": "stream",
     "text": [
      "2022-09-17 22:55:13 [scrapy.downloadermiddlewares.redirect] DEBUG: Redirecting (302) to <GET https://www.amazon.com/Data-Analysis-Machine-Learning-Kaggle/dp/1801817472/ref=sr_1_18_sspa?crid=1IWIG31DNPO6P&keywords=data+science&qid=1663447969&sprefix=data+science%2Caps%2C586&sr=8-18-spons&psc=1&spLa=ZW5jcnlwdGVkUXVhbGlmaWVyPUExV0w5MFRVVVdTQk1KJmVuY3J5cHRlZElkPUEwOTg5NzY0M1RLMVAyTlIwWUpRSSZlbmNyeXB0ZWRBZElkPUEwNDI3OTQ0MTRSVUZUWUk4NFg1SyZ3aWRnZXROYW1lPXNwX210ZiZhY3Rpb249Y2xpY2tSZWRpcmVjdCZkb05vdExvZ0NsaWNrPXRydWU=> from <GET https://www.amazon.com/gp/slredirect/picassoRedirect.html/ref=pa_sp_mtf_aps_sr_pg1_1?ie=UTF8&adId=A042794414RUFTYI84X5K&url=%2FData-Analysis-Machine-Learning-Kaggle%2Fdp%2F1801817472%2Fref%3Dsr_1_18_sspa%3Fcrid%3D1IWIG31DNPO6P%26keywords%3Ddata%2Bscience%26qid%3D1663447969%26sprefix%3Ddata%2Bscience%252Caps%252C586%26sr%3D8-18-spons%26psc%3D1&qualifier=1663447969&id=821362400294070&widgetName=sp_mtf>\n"
     ]
    },
    {
     "name": "stdout",
     "output_type": "stream",
     "text": [
      "350\n",
      "['\\n            \\n              71%\\n            \\n          '] 4.5 out of 5 stars None\n",
      "351\n",
      "[] None None\n"
     ]
    },
    {
     "name": "stderr",
     "output_type": "stream",
     "text": [
      "2022-09-17 22:55:13 [scrapy.core.engine] DEBUG: Crawled (200) <GET https://www.amazon.com/Python-Data-Science-Handbook-Essential/dp/1491912057/ref=sr_1_12?crid=1IWIG31DNPO6P&keywords=data+science&qid=1663447969&sprefix=data+science%2Caps%2C586&sr=8-12> (referer: https://www.amazon.com/s?k=data+science&crid=1IWIG31DNPO6P&sprefix=data+science%2Caps%2C586&ref=nb_sb_noss_2)\n",
      "2022-09-17 22:55:14 [scrapy.core.engine] DEBUG: Crawled (200) <GET https://www.amazon.com/Data-Analysis-Machine-Learning-Kaggle/dp/1801817472/ref=sr_1_18_sspa?crid=1IWIG31DNPO6P&keywords=data+science&qid=1663447969&sprefix=data+science%2Caps%2C586&sr=8-18-spons&psc=1&spLa=ZW5jcnlwdGVkUXVhbGlmaWVyPUExV0w5MFRVVVdTQk1KJmVuY3J5cHRlZElkPUEwOTg5NzY0M1RLMVAyTlIwWUpRSSZlbmNyeXB0ZWRBZElkPUEwNDI3OTQ0MTRSVUZUWUk4NFg1SyZ3aWRnZXROYW1lPXNwX210ZiZhY3Rpb249Y2xpY2tSZWRpcmVjdCZkb05vdExvZ0NsaWNrPXRydWU=> (referer: https://www.amazon.com/s?k=data+science&crid=1IWIG31DNPO6P&sprefix=data+science%2Caps%2C586&ref=nb_sb_noss_2)\n",
      "2022-09-17 22:55:14 [scrapy.core.engine] DEBUG: Crawled (200) <GET https://www.amazon.com/Python-Data-Analysis-Wrangling-IPython/dp/1491957662/ref=sr_1_26?crid=1IWIG31DNPO6P&keywords=data+science&qid=1663447969&sprefix=data+science%2Caps%2C586&sr=8-26> (referer: https://www.amazon.com/s?k=data+science&crid=1IWIG31DNPO6P&sprefix=data+science%2Caps%2C586&ref=nb_sb_noss_2)\n"
     ]
    },
    {
     "name": "stdout",
     "output_type": "stream",
     "text": [
      "352\n",
      "[] None None\n",
      "353\n",
      "[] None None\n"
     ]
    },
    {
     "name": "stderr",
     "output_type": "stream",
     "text": [
      "2022-09-17 22:55:14 [scrapy.core.engine] DEBUG: Crawled (200) <GET https://www.amazon.com/Lead-Data-Science-Jike-Chong/dp/1617298891/ref=sr_1_22?crid=1IWIG31DNPO6P&keywords=data+science&qid=1663447969&sprefix=data+science%2Caps%2C586&sr=8-22> (referer: https://www.amazon.com/s?k=data+science&crid=1IWIG31DNPO6P&sprefix=data+science%2Caps%2C586&ref=nb_sb_noss_2)\n",
      "2022-09-17 22:55:14 [scrapy.core.engine] DEBUG: Crawled (200) <GET https://www.amazon.com/Practical-Analysis-Using-Jupyter-Notebook/dp/1838826033/ref=sr_1_51_sspa?crid=2YKZLS0CJFDGI&keywords=data+science&qid=1663447986&sprefix=data+science%2Caps%2C828&sr=8-51-spons&psc=1&spLa=ZW5jcnlwdGVkUXVhbGlmaWVyPUEyUE9CMUhBMVVRR0FMJmVuY3J5cHRlZElkPUEwNTU5NDA4Mk9TUzE2TEpZQzRHNyZlbmNyeXB0ZWRBZElkPUEwMTI2MjI0MjhYWUFETEhZOFZQTSZ3aWRnZXROYW1lPXNwX2F0Zl9uZXh0JmFjdGlvbj1jbGlja1JlZGlyZWN0JmRvTm90TG9nQ2xpY2s9dHJ1ZQ==> (referer: https://www.amazon.com/s?k=data+science&s=relevanceblender&page=2&crid=2YKZLS0CJFDGI&qid=1663103507&sprefix=data+science%2Caps%2C828&ref=sr_pg_2)\n"
     ]
    },
    {
     "name": "stdout",
     "output_type": "stream",
     "text": [
      "354\n",
      "['\\n            \\n              76%\\n            \\n          '] 4.6 out of 5 stars 7 x 1.11 x 9.19 inches\n"
     ]
    },
    {
     "name": "stderr",
     "output_type": "stream",
     "text": [
      "2022-09-17 22:55:15 [scrapy.core.engine] DEBUG: Crawled (200) <GET https://www.amazon.com/Better-Data-Visualizations-Scholars-Researchers/dp/0231193114/ref=sr_1_24?crid=1IWIG31DNPO6P&keywords=data+science&qid=1663447969&sprefix=data+science%2Caps%2C586&sr=8-24> (referer: https://www.amazon.com/s?k=data+science&crid=1IWIG31DNPO6P&sprefix=data+science%2Caps%2C586&ref=nb_sb_noss_2)\n"
     ]
    },
    {
     "name": "stdout",
     "output_type": "stream",
     "text": [
      "355\n",
      "['\\n            \\n              94%\\n            \\n          '] 4.9 out of 5 stars 7.38 x 1.1 x 9.25 inches\n",
      "356\n",
      "['\\n            \\n              58%\\n            \\n          '] 4.0 out of 5 stars 7.5 x 0.73 x 9.25 inches\n"
     ]
    },
    {
     "name": "stderr",
     "output_type": "stream",
     "text": [
      "2022-09-17 22:55:15 [scrapy.core.engine] DEBUG: Crawled (200) <GET https://www.amazon.com/Advanced-Algorithms-Structures-Marcello-Rocca/dp/1617295485/ref=sr_1_49_sspa?crid=2YKZLS0CJFDGI&keywords=data+science&qid=1663447986&sprefix=data+science%2Caps%2C828&sr=8-49-spons&psc=1&spLa=ZW5jcnlwdGVkUXVhbGlmaWVyPUEyUE9CMUhBMVVRR0FMJmVuY3J5cHRlZElkPUEwNTU5NDA4Mk9TUzE2TEpZQzRHNyZlbmNyeXB0ZWRBZElkPUEwMjkzNDY3MzkxMENVQlVWNjBENyZ3aWRnZXROYW1lPXNwX2F0Zl9uZXh0JmFjdGlvbj1jbGlja1JlZGlyZWN0JmRvTm90TG9nQ2xpY2s9dHJ1ZQ==> (referer: https://www.amazon.com/s?k=data+science&s=relevanceblender&page=2&crid=2YKZLS0CJFDGI&qid=1663103507&sprefix=data+science%2Caps%2C828&ref=sr_pg_2)\n"
     ]
    },
    {
     "name": "stdout",
     "output_type": "stream",
     "text": [
      "357\n",
      "['\\n            \\n              73%\\n            \\n          '] 4.5 out of 5 stars 7.25 x 1 x 9.25 inches\n"
     ]
    },
    {
     "name": "stderr",
     "output_type": "stream",
     "text": [
      "2022-09-17 22:55:15 [scrapy.core.engine] DEBUG: Crawled (200) <GET https://www.amazon.com/Data-Science-Projects-Python-approach/dp/1800564481/ref=sr_1_19_sspa?crid=1IWIG31DNPO6P&keywords=data+science&qid=1663447969&sprefix=data+science%2Caps%2C586&sr=8-19-spons&psc=1&spLa=ZW5jcnlwdGVkUXVhbGlmaWVyPUExV0w5MFRVVVdTQk1KJmVuY3J5cHRlZElkPUEwOTg5NzY0M1RLMVAyTlIwWUpRSSZlbmNyeXB0ZWRBZElkPUExMDA2Mjg2SUlUTlE0RDRUSzhVJndpZGdldE5hbWU9c3BfbXRmJmFjdGlvbj1jbGlja1JlZGlyZWN0JmRvTm90TG9nQ2xpY2s9dHJ1ZQ==> (referer: https://www.amazon.com/s?k=data+science&crid=1IWIG31DNPO6P&sprefix=data+science%2Caps%2C586&ref=nb_sb_noss_2)\n"
     ]
    },
    {
     "name": "stdout",
     "output_type": "stream",
     "text": [
      "358\n",
      "['\\n            \\n              62%\\n            \\n          '] 4.2 out of 5 stars 7.38 x 1.5 x 9.25 inches\n"
     ]
    },
    {
     "name": "stderr",
     "output_type": "stream",
     "text": [
      "2022-09-17 22:55:16 [scrapy.core.engine] DEBUG: Crawled (200) <GET https://www.amazon.com/Essential-Statistics-Non-STEM-Data-Analysts/dp/1838984844/ref=sr_1_20_sspa?crid=1IWIG31DNPO6P&keywords=data+science&qid=1663447969&sprefix=data+science%2Caps%2C586&sr=8-20-spons&psc=1&spLa=ZW5jcnlwdGVkUXVhbGlmaWVyPUExV0w5MFRVVVdTQk1KJmVuY3J5cHRlZElkPUEwOTg5NzY0M1RLMVAyTlIwWUpRSSZlbmNyeXB0ZWRBZElkPUEwNDcwNjQ3V0VOUkdZMTFJRTdXJndpZGdldE5hbWU9c3BfbXRmJmFjdGlvbj1jbGlja1JlZGlyZWN0JmRvTm90TG9nQ2xpY2s9dHJ1ZQ==> (referer: https://www.amazon.com/s?k=data+science&crid=1IWIG31DNPO6P&sprefix=data+science%2Caps%2C586&ref=nb_sb_noss_2)\n"
     ]
    },
    {
     "name": "stdout",
     "output_type": "stream",
     "text": [
      "359\n",
      "['\\n            \\n              79%\\n            \\n          '] 4.6 out of 5 stars 7.5 x 0.98 x 9.25 inches\n"
     ]
    },
    {
     "name": "stderr",
     "output_type": "stream",
     "text": [
      "2022-09-17 22:55:16 [scrapy.core.engine] INFO: Closing spider (finished)\n",
      "2022-09-17 22:55:16 [scrapy.statscollectors] INFO: Dumping Scrapy stats:\n",
      "{'downloader/request_bytes': 429411,\n",
      " 'downloader/request_count': 439,\n",
      " 'downloader/request_method_count/GET': 439,\n",
      " 'downloader/response_bytes': 81491111,\n",
      " 'downloader/response_count': 439,\n",
      " 'downloader/response_status_count/200': 366,\n",
      " 'downloader/response_status_count/301': 1,\n",
      " 'downloader/response_status_count/302': 72,\n",
      " 'elapsed_time_seconds': 147.977149,\n",
      " 'finish_reason': 'finished',\n",
      " 'finish_time': datetime.datetime(2022, 9, 17, 20, 55, 16, 754272),\n",
      " 'httpcompression/response_bytes': 412869495,\n",
      " 'httpcompression/response_count': 366,\n",
      " 'log_count/DEBUG': 444,\n",
      " 'log_count/INFO': 12,\n",
      " 'request_depth_max': 11,\n",
      " 'response_received_count': 366,\n",
      " 'scheduler/dequeued': 439,\n",
      " 'scheduler/dequeued/memory': 439,\n",
      " 'scheduler/enqueued': 439,\n",
      " 'scheduler/enqueued/memory': 439,\n",
      " 'start_time': datetime.datetime(2022, 9, 17, 20, 52, 48, 777123)}\n",
      "2022-09-17 22:55:16 [scrapy.core.engine] INFO: Spider closed (finished)\n"
     ]
    },
    {
     "name": "stdout",
     "output_type": "stream",
     "text": [
      "360\n",
      "['\\n            \\n              61%\\n            \\n          '] 4.3 out of 5 stars 7.5 x 0.89 x 9.25 inches\n"
     ]
    }
   ],
   "source": [
    "import scrapy\n",
    "import csv\n",
    "import time\n",
    "import scrapy_proxies\n",
    "from scrapy.crawler import CrawlerProcess\n",
    "import pandas as pd\n",
    "#import scrapy-fake-useragent\n",
    "class FirstWebsiteSpider(scrapy.Spider):\n",
    "    \n",
    "    rotate_user_agent = True   \n",
    "    name = 'first_website'\n",
    "    #https://www.amazon.com/s?k=data+science&i=stripbooks-intl-ship&page=3&crid=1YWU6OJK4L3BA&qid=1662895059&sprefix=data+science%2Cstripbooks-intl-ship%2C247&ref=sr_pg_3\n",
    "    allowed_domains = [\"www.amazon.com\"] #, \"https://www.amazon.com\"\n",
    "    handle_httpstatus_list = [503]\n",
    "    start_urls = [\"http://www.amazon.com/s?k=data+science&crid=1IWIG31DNPO6P&sprefix=data+science%2Caps%2C586&ref=nb_sb_noss_2\"]\n",
    "    list_items=[]\n",
    "    j=1\n",
    "    #download_delay = 3 #The number you write here will be how many seconds scrapy waits before sending another request.\n",
    "    #x=pd.DataFrame([])\n",
    "    n_page_to_scrape=7\n",
    "    items_in_page=60\n",
    "    RETRY_TIMES=20\n",
    "    #DOWNLOADER_MIDDLEWARES = {\n",
    "    #'scrapy.downloadermiddlewares.useragent.UserAgentMiddleware': None,\n",
    "    #'scrapy.downloadermiddlewares.retry.RetryMiddleware': None,\n",
    "    #'scrapy_fake_useragent.middleware.RandomUserAgentMiddleware': 400,\n",
    "    #'scrapy_fake_useragent.middleware.RetryUserAgentMiddleware': 401,\n",
    "    #}\n",
    "    FAKEUSERAGENT_PROVIDERS = [\n",
    "    'scrapy_fake_useragent.providers.FakeUserAgentProvider',  # this is the first provider we'll try\n",
    "    'scrapy_fake_useragent.providers.FakerProvider',  # if FakeUserAgentProvider fails, we'll use faker to generate a user-agent string for us\n",
    "    'scrapy_fake_useragent.providers.FixedUserAgentProvider',  # fall back to USER_AGENT value\n",
    "]\n",
    "    def parse(self, response):\n",
    "        print (response.request.headers['User-Agent'])\n",
    "    def parse(self, response):\n",
    "        #self.j=j\n",
    "        print(self.j)\n",
    "        #time.sleep(3)\n",
    "        next_page_url=f\"https://www.amazon.com/s?k=data+science&s=relevanceblender&page={self.j}&crid=2YKZLS0CJFDGI&qid=1663103507&sprefix=data+science%2Caps%2C828&ref=sr_pg_{self.j}\"\n",
    "        box=response.xpath(\"//div[@class='a-section a-spacing-small puis-padding-left-small puis-padding-right-small']\")             #(\"//h2[@class='a-size-mini a-spacing-none a-color-base s-line-clamp-3']\")\n",
    "        #print(box)\n",
    "                                 \n",
    "        #links=[]\n",
    "        #titles=[]\n",
    "        item={}\n",
    "        \n",
    "        for ind,i in enumerate(box):\n",
    "            #print('g')\n",
    "            #country_name = country.xpath(\".//text()\").get()\n",
    "            #title=i.xpath(\"//span[@class='a-size-base a-color-base a-text-normal']/text()\").getall()\n",
    "            title=i.xpath(\".//a[@class='a-link-normal s-underline-text s-underline-link-text s-link-style a-text-normal']/span/text()\").get()\n",
    "            link = i.xpath(\".//a[@class='a-link-normal s-underline-text s-underline-link-text s-link-style a-text-normal']/@href\").get()\n",
    "            author=i.xpath(\".//div[@class='a-row a-size-base a-color-secondary']/a[@class='a-size-base a-link-normal s-underline-text s-underline-link-text s-link-style']/text() | (.//div[@class='a-row a-size-base a-color-secondary']/a[@class='a-link-normal s-underline-text s-underline-link-text s-link-style']/text()) | (.//div[@class='a-row a-size-base a-color-secondary']/span[@class='a-size-base']/text())\").getall()\n",
    "            \n",
    "            #links.append(link)\n",
    "            #'a-link-normal s-underline-text s-underline-link-text s-link-style'\n",
    "            #titles.append(title)\n",
    "            print(title)\n",
    "            #//div[@class='a-section a-spacing-small puis-padding-left-small puis-padding-right-small']/*/*/a[@class='a-link-normal s-underline-text s-underline-link-text s-link-style a-text-normal']/@href  #print(title)\n",
    "            yield response.follow(url=link, callback=self.parse_book, meta={'ind':ind,'title':title,'author':author,'link':link})\n",
    "    \n",
    "  \n",
    "    # Getting data inside the \"link\" website\n",
    "    def parse_book(self, response):\n",
    "        #time.sleep(4)\n",
    "        # Getting country names and each row element inside the population table\n",
    "        title = response.request.meta['title']\n",
    "        ind = response.request.meta['ind']\n",
    "        link = response.request.meta['link']\n",
    "        author = response.request.meta['author']\n",
    "        #if author==[' ']:\n",
    "        price=response.xpath(\"//div[@id='buyNew_cbb']/div[@class='a-row']/div[@class='a-column a-span12 a-text-left']/span/text() | ((//a[@class='a-link-normal']/span[@class='a-color-price']/text())[1]) | (//a[@class='a-button-text']/span[@class='a-color-base']/span[@class='a-size-base a-color-price a-color-price']/text())\").get()\n",
    "        #//div[@id='buyNew_cbb']/div[@class='a-row']/div[@class='a-column a-span12 a-text-left']/span/text() | ((//a[@class='a-link-normal']/span[@class='a-color-price']/text())[1]) \n",
    "        #pages=response.xpath(\"//span[@class='a-list-item']/*[contains(text(),'pages')/text()\").get()\n",
    "        pages=response.xpath(\"//span[@class='a-list-item']/span[contains( text(),'pages')]/text()\").get()\n",
    "        language=response.xpath(\"//span[@class='a-text-bold'][contains(text(),'Language')]/following-sibling::span[1]/text()\").get()\n",
    "        publisher=response.xpath(\"//span[@class='a-text-bold'][contains(text(),'Publisher')]/following-sibling::span[1]/text()\").get()\n",
    "        dimensions=response.xpath(\"//span[@class='a-text-bold'][contains(text(),'Dimensions')]/following-sibling::span[1]/text()\").get()\n",
    "        weight=response.xpath(\"//span[@class='a-text-bold'][contains(text(),'Weight')]/following-sibling::span[1]/text()\").get()\n",
    "        avg_reviews=response.xpath(\"(//a[@class='a-popover-trigger a-declarative']/i[@class='a-icon a-icon-star a-star-5']/span[@class='a-icon-alt']/text())[1] | ((//a[@class='a-popover-trigger a-declarative']/i/span[@class='a-icon-alt'])[1]/text())\").get()\n",
    "        time.sleep(0.1)\n",
    "        star5=response.xpath(\"(//span[@class='a-size-base']/a[contains(text(),'%')])[1]/text()\").getall()\n",
    "        star4=response.xpath(\"(//span[@class='a-size-base']/a[contains(text(),'%')])[2]/text()\").getall()\n",
    "        star3=response.xpath(\"(//span[@class='a-size-base']/a[contains(text(),'%')])[3]/text()\").getall()\n",
    "        star2=response.xpath(\"(//span[@class='a-size-base']/a[contains(text(),'%')])[4]/text()\").getall()\n",
    "        star1=response.xpath(\"(//span[@class='a-size-base']/a[contains(text(),'%')])[5]/text()\").getall()\n",
    "        ISBN_13=response.xpath(\"//div[@id='isbn_feature_div']/div/div/span[contains(text(),'13')]/following-sibling::span[1]/text()\").get()\n",
    "        n_reviews=response.xpath(\"(//span[@class='a-declarative']/a[@class='a-link-normal']/span[@id='acrCustomerReviewText']/text())[1]\").get()\n",
    "        \n",
    "        #print(title)\n",
    "        #author= response.xpath(\"//span[@class='a-declarative']/a[@class='a-link-normal contributorNameID']/text()\").get()  # You can also use the whole class value  --> response.xpath('(//table[@class=\"table table-striped table-bordered table-hover table-condensed table-list\"])[1]/tbody/tr')\n",
    "            # Return data extracted\n",
    "        keys=['title','author','price','pages','avg_reviews','n_reviews','star5','star4','star3','star2','star1','dimensions','weight','language','publisher','ISBN_13','link']\n",
    "        values= [title,author,price,pages,avg_reviews,n_reviews,star5,star4,star3,star2,star1,dimensions,weight,language,publisher,ISBN_13,link]    #  {'title': title, 'author':author}\n",
    "        self.list_items.append(values)\n",
    "        item=dict(zip(keys, values))\n",
    "        print(len(self.list_items))\n",
    "        print(star5,avg_reviews,dimensions)\n",
    "        #print(title,author)\n",
    "        \n",
    "      \n",
    "        #if self.j >1:\n",
    "          #  next_page_url=f\"https://www.amazon.com/s?k=data+science&s=relevanceblender&page={self.j}&crid=2YKZLS0CJFDGI&qid=1663103507&sprefix=data+science%2Caps%2C828&ref=sr_pg_{self.j}\"\n",
    "        #else:\n",
    "            #next_page_url=self.start_urls[0]\n",
    "        #yield scrapy.Request(url=next_page_url, callback=self.parse_pagination, meta={'title':title,'author':author})\n",
    "        \n",
    "        #   def parse_pagination(self,response):\n",
    "        #title = response.request.meta['title']  \n",
    "        #author=response.request.meta['author'] \n",
    "        #print('va beeeeeneeeeeeeeeeeeeeeeeeeeeeeeeeeeeeeeeeeeeeeeeeeeeeeeeeeeeeeeeeeeeeeeeeeeeeeeeeeeeeeeeeeeeeeeeeee')\n",
    "        #if ind==\n",
    "        #print(ind)\n",
    "        \n",
    "        if ind==59:\n",
    "            time.sleep(3)\n",
    "            self.j+=1\n",
    "            next_page_url=f\"https://www.amazon.com/s?k=data+science&s=relevanceblender&page={self.j}&crid=2YKZLS0CJFDGI&qid=1663103507&sprefix=data+science%2Caps%2C828&ref=sr_pg_{self.j}\"\n",
    "            if next_page_url and self.j<self.n_page_to_scrape:\n",
    "                print('start_new_page')\n",
    "            \n",
    "                yield scrapy.Request(url=next_page_url, callback=self.parse)#,self.j \n",
    "            #time.sleep(10)\n",
    "         #,'authors','dates'      \n",
    "        if len(self.list_items)==(self.items_in_page): #self.j==self.n_page_to_scrape:\n",
    "            time.sleep(5)\n",
    "            print(self.list_items)\n",
    "            x=pd.DataFrame(self.list_items,columns=keys)\n",
    "            #print(x)\n",
    "            yield x.to_csv(\"outputfile2.csv\",sep=\",\")\n",
    "            #with open(\"outputfile.csv\", \"w\", newline=\"\") as f:\n",
    "                #writer = csv.DictWriter(f, ['titles','authors','dates'])\n",
    "                #writer.writeheader()           \n",
    "                #writer.writerows(self.list_items)\n",
    "                #print(self.list_items) #\n",
    "        if len(self.list_items)==(self.n_page_to_scrape-2)*(self.items_in_page): #self.j==self.n_page_to_scrape:\n",
    "            #time.sleep(70)\n",
    "            #print(self.list_items)\n",
    "            y=pd.DataFrame(self.list_items,columns=keys)\n",
    "            #print(x)\n",
    "            yield y.to_csv(\"outputfile_final.csv\",sep=\",\")\n",
    "            #with open(\"outputfile.csv\", \"w\", newline=\"\") as f:\n",
    "                #writer = csv.DictWriter(f, ['titles','authors','dates'])\n",
    "                #writer.writeheader()           \n",
    "                #writer.writerows(self.list_items)\n",
    "                #print(self.list_items) #\n",
    "                \n",
    "#//div[@class='a-row']/a[@class='a-size-base a-link-normal s-underline-text s-underline-link-text s-link-style']/text() | ( //div[@class='a-#row']/span[@class='a-size-base']/text()\n",
    "process = CrawlerProcess({\n",
    "     #'USER_AGENT':'USER_AGENT':\"Mozilla/5.0 (Windows NT 10.0; Win64; x64) AppleWebKit/537.36 (KHTML, like Gecko) Chrome/105.0.0.0 Safari/537.36\"\n",
    "    #'USER_AGENT':\"Mozilla/5.0 (Macintosh; Intel Mac OS X 10_15) AppleWebKit/605.1.15 (KHTML, like Gecko) Version/13.0.5 Safari/605.1.15\"#\n",
    "    'USER_AGENT':'Mozilla/5.0 (compatible; MSIE 7.0; Windows NT 5.1)'\n",
    "  #'USER_AGENT':  \"Mozilla/4.0 (X11; Linux x86_64) AppleWebKit/537.36 (KHTML, like Gecko) Chrome/103.0.5060.53 Safari/537.36\",\n",
    "  #'USER_AGENT':  \"Mozilla/5.0 (Windows NT 10.0; Windows; x64) AppleWebKit/537.36 (KHTML, like Gecko) Chrome/103.0.5060.114 Safari/537.36\",\n",
    "  #'USER_AGENT':  \"Mozilla/5.0 (Macintosh; Intel Mac OS X 10_10_5) AppleWebKit/603.3.8 (KHTML, like Gecko) Version/10.1.2 Safari/603.3.8\",\n",
    "  #'USER_AGENT':  \"Mozilla/5.0 (Macintosh; Intel Mac OS X 10_15_7) AppleWebKit/605.1.15 (KHTML, like Gecko) Version/14.0 Safari/605.1.15\"\n",
    "  #'USER_AGENT':  \"Mozilla/5.0 (Macintosh; Intel Mac OS X 10_15_6) AppleWebKit/605.1.15 (KHTML, like Gecko) Version/14.0 Safari/605.1.15\"\n",
    "  #'USER_AGENT':  \"Mozilla/5.0 (Windows NT 10.0; Windows; x64) AppleWebKit/537.36 (KHTML, like Gecko) Chrome/103.0.5060.114 Safari/537.36\"\n",
    "  #'USER_AGENT':  \"Mozilla/5.0 (X11; Linux x86_64) AppleWebKit/537.36 (KHTML, like Gecko) Chrome/103.0.5060.53 Safari/537.36\"\n",
    "\n",
    "\n",
    "\n",
    "\n",
    "})\n",
    "\n",
    "process.crawl(FirstWebsiteSpider)\n",
    "process.start()\n"
   ]
  },
  {
   "cell_type": "code",
   "execution_count": 2,
   "id": "e13533af",
   "metadata": {},
   "outputs": [
    {
     "ename": "NameError",
     "evalue": "name 'response' is not defined",
     "output_type": "error",
     "traceback": [
      "\u001b[1;31m---------------------------------------------------------------------------\u001b[0m",
      "\u001b[1;31mNameError\u001b[0m                                 Traceback (most recent call last)",
      "\u001b[1;32m<ipython-input-2-38d765480056>\u001b[0m in \u001b[0;36m<module>\u001b[1;34m\u001b[0m\n\u001b[1;32m----> 1\u001b[1;33m \u001b[0mauthors\u001b[0m\u001b[1;33m,\u001b[0m\u001b[0mtitles\u001b[0m\u001b[1;33m=\u001b[0m\u001b[0mFirstWebsiteSpider\u001b[0m\u001b[1;33m.\u001b[0m\u001b[0mparse\u001b[0m\u001b[1;33m(\u001b[0m\u001b[0mscrapy\u001b[0m\u001b[1;33m.\u001b[0m\u001b[0mSpider\u001b[0m\u001b[1;33m,\u001b[0m\u001b[0mresponse\u001b[0m\u001b[1;33m)\u001b[0m\u001b[1;33m\u001b[0m\u001b[1;33m\u001b[0m\u001b[0m\n\u001b[0m",
      "\u001b[1;31mNameError\u001b[0m: name 'response' is not defined"
     ]
    }
   ],
   "source": [
    "authors,titles=FirstWebsiteSpider.parse(scrapy.Spider,response)"
   ]
  },
  {
   "cell_type": "code",
   "execution_count": null,
   "id": "08551c28",
   "metadata": {},
   "outputs": [],
   "source": [
    "@href='/s?k=data+science&amp;i=stripbooks-intl-ship&amp;page=3&amp;crid=20YNDMUXOLCJ6&amp;qid=1663030048&amp;sprefix=data+science%2Cstripbooks-intl-ship%2C314&amp;ref=sr_pg_3' "
   ]
  },
  {
   "cell_type": "code",
   "execution_count": 2,
   "id": "004de66d",
   "metadata": {},
   "outputs": [],
   "source": [
    "j=1\n",
    "p=f'/s?k=data+science&amp;i=stripbooks-intl-ship&amp;page={j}&amp;crid=20YNDMUXOLCJ6&amp;qid=1663030048&amp;sprefix=data+science%2Cstripbooks-intl-ship%2C314&amp;ref=sr_pg_{j}'"
   ]
  },
  {
   "cell_type": "code",
   "execution_count": 3,
   "id": "e413f5a4",
   "metadata": {},
   "outputs": [
    {
     "data": {
      "text/plain": [
       "'/s?k=data+science&amp;i=stripbooks-intl-ship&amp;page=1&amp;crid=20YNDMUXOLCJ6&amp;qid=1663030048&amp;sprefix=data+science%2Cstripbooks-intl-ship%2C314&amp;ref=sr_pg_1'"
      ]
     },
     "execution_count": 3,
     "metadata": {},
     "output_type": "execute_result"
    }
   ],
   "source": [
    "p"
   ]
  },
  {
   "cell_type": "code",
   "execution_count": null,
   "id": "25e7e5b4",
   "metadata": {},
   "outputs": [],
   "source": [
    "<a href=>3</a>"
   ]
  },
  {
   "cell_type": "code",
   "execution_count": 3,
   "id": "35f1fcab",
   "metadata": {},
   "outputs": [
    {
     "data": {
      "text/plain": [
       "'rit0'"
      ]
     },
     "execution_count": 3,
     "metadata": {},
     "output_type": "execute_result"
    }
   ],
   "source": [
    "u=0\n",
    "a=f'rit{u}'\n",
    "a"
   ]
  },
  {
   "cell_type": "code",
   "execution_count": 4,
   "id": "7acad823",
   "metadata": {},
   "outputs": [
    {
     "data": {
      "text/plain": [
       "'rit0'"
      ]
     },
     "execution_count": 4,
     "metadata": {},
     "output_type": "execute_result"
    }
   ],
   "source": [
    "u=1\n",
    "a"
   ]
  },
  {
   "cell_type": "code",
   "execution_count": 2,
   "id": "40f5e1b3",
   "metadata": {},
   "outputs": [],
   "source": []
  },
  {
   "cell_type": "code",
   "execution_count": 3,
   "id": "2c2ed70b",
   "metadata": {},
   "outputs": [
    {
     "data": {
      "text/plain": [
       "[3]"
      ]
     },
     "execution_count": 3,
     "metadata": {},
     "output_type": "execute_result"
    }
   ],
   "source": []
  },
  {
   "cell_type": "code",
   "execution_count": null,
   "id": "c9b908ea",
   "metadata": {},
   "outputs": [],
   "source": [
    "#print(item)    \n",
    "        self.j+=1\n",
    "        print(self.j)\n",
    "        next_page_url=f\"https://www.amazon.com/s?k=data+science&s=relevanceblender&page={self.j}&crid=2YKZLS0CJFDGI&qid=1663103507&sprefix=data+science%2Caps%2C828&ref=sr_pg_{self.j}\"\n",
    "        if next_page_url and self.j<self.n_page_to_scrape:\n",
    "            print('non va bene')\n",
    "            yield response.follow(url=next_page_url, callback=self.parse)#,self.j  \n",
    "         #,'authors','dates'\n",
    "        if self.j==self.n_page_to_scrape:\n",
    "            #print(self.list_items)\n",
    "            x=pd.DataFrame(self.list_items,columns=['title','author'])\n",
    "            #print(x)\n",
    "            yield x.to_csv(\"outputfile2.csv\",sep=\",\")\n",
    "        #yield response.follow(url=next_page_url, callback=self.parse_pagination, meta=item )"
   ]
  }
 ],
 "metadata": {
  "kernelspec": {
   "display_name": "Python 3",
   "language": "python",
   "name": "python3"
  },
  "language_info": {
   "codemirror_mode": {
    "name": "ipython",
    "version": 3
   },
   "file_extension": ".py",
   "mimetype": "text/x-python",
   "name": "python",
   "nbconvert_exporter": "python",
   "pygments_lexer": "ipython3",
   "version": "3.9.5"
  }
 },
 "nbformat": 4,
 "nbformat_minor": 5
}
