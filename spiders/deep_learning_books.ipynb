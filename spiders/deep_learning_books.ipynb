{
 "cells": [
  {
   "cell_type": "code",
   "execution_count": 1,
   "id": "d3d3b34f",
   "metadata": {},
   "outputs": [
    {
     "name": "stdout",
     "output_type": "stream",
     "text": [
      "Collecting scrapy-fake-useragent\n",
      "  Downloading scrapy_fake_useragent-1.4.4-py2.py3-none-any.whl (6.8 kB)\n",
      "Collecting faker\n",
      "  Downloading Faker-14.2.0-py3-none-any.whl (1.6 MB)\n",
      "Collecting fake-useragent\n",
      "  Downloading fake-useragent-0.1.11.tar.gz (13 kB)\n",
      "Requirement already satisfied: python-dateutil>=2.4 in c:\\users\\diego\\anaconda3\\envs\\env1_cloned_tf\\lib\\site-packages (from faker->scrapy-fake-useragent) (2.8.1)\n",
      "Requirement already satisfied: six>=1.5 in c:\\users\\diego\\anaconda3\\envs\\env1_cloned_tf\\lib\\site-packages (from python-dateutil>=2.4->faker->scrapy-fake-useragent) (1.16.0)\n",
      "Building wheels for collected packages: fake-useragent\n",
      "  Building wheel for fake-useragent (setup.py): started\n",
      "  Building wheel for fake-useragent (setup.py): finished with status 'done'\n",
      "  Created wheel for fake-useragent: filename=fake_useragent-0.1.11-py3-none-any.whl size=13489 sha256=ce4d127febb5e2ab87b4e7f13c1d9cec99ced67420e5d0585f5ba4ff154d3046\n",
      "  Stored in directory: c:\\users\\diego\\appdata\\local\\pip\\cache\\wheels\\ae\\e7\\76\\7dd44644d065268ab0e1b4fa2e802fa4bb0157717b7d6c6d92\n",
      "Successfully built fake-useragent\n",
      "Installing collected packages: faker, fake-useragent, scrapy-fake-useragent\n",
      "Successfully installed fake-useragent-0.1.11 faker-14.2.0 scrapy-fake-useragent-1.4.4\n"
     ]
    }
   ],
   "source": [
    "#!pip install scrapy_proxies\n",
    "!pip install scrapy-fake-useragent"
   ]
  },
  {
   "cell_type": "code",
   "execution_count": 1,
   "id": "4502b396",
   "metadata": {},
   "outputs": [
    {
     "name": "stderr",
     "output_type": "stream",
     "text": [
      "2022-09-18 02:20:53 [scrapy.utils.log] INFO: Scrapy 2.6.2 started (bot: scrapybot)\n",
      "2022-09-18 02:20:53 [scrapy.utils.log] INFO: Versions: lxml 4.8.0.0, libxml2 2.9.12, cssselect 1.1.0, parsel 1.6.0, w3lib 1.22.0, Twisted 22.4.0, Python 3.9.5 (default, May 18 2021, 14:42:02) [MSC v.1916 64 bit (AMD64)], pyOpenSSL 20.0.1 (OpenSSL 1.1.1q  5 Jul 2022), cryptography 3.4.7, Platform Windows-10-10.0.22000-SP0\n",
      "2022-09-18 02:20:53 [scrapy.crawler] INFO: Overridden settings:\n",
      "{'USER_AGENT': 'Mozilla/5.0 (Macintosh; Intel Mac OS X 10_15) '\n",
      "               'AppleWebKit/605.1.15 (KHTML, like Gecko) Version/13.0.5 '\n",
      "               'Safari/605.1.15'}\n",
      "2022-09-18 02:20:53 [scrapy.utils.log] DEBUG: Using reactor: twisted.internet.selectreactor.SelectReactor\n",
      "2022-09-18 02:20:53 [scrapy.extensions.telnet] INFO: Telnet Password: e1e4604d439d6a2a\n",
      "2022-09-18 02:20:53 [scrapy.middleware] INFO: Enabled extensions:\n",
      "['scrapy.extensions.corestats.CoreStats',\n",
      " 'scrapy.extensions.telnet.TelnetConsole',\n",
      " 'scrapy.extensions.logstats.LogStats']\n",
      "2022-09-18 02:20:53 [scrapy.middleware] INFO: Enabled downloader middlewares:\n",
      "['scrapy.downloadermiddlewares.httpauth.HttpAuthMiddleware',\n",
      " 'scrapy.downloadermiddlewares.downloadtimeout.DownloadTimeoutMiddleware',\n",
      " 'scrapy.downloadermiddlewares.defaultheaders.DefaultHeadersMiddleware',\n",
      " 'scrapy.downloadermiddlewares.useragent.UserAgentMiddleware',\n",
      " 'scrapy.downloadermiddlewares.retry.RetryMiddleware',\n",
      " 'scrapy.downloadermiddlewares.redirect.MetaRefreshMiddleware',\n",
      " 'scrapy.downloadermiddlewares.httpcompression.HttpCompressionMiddleware',\n",
      " 'scrapy.downloadermiddlewares.redirect.RedirectMiddleware',\n",
      " 'scrapy.downloadermiddlewares.cookies.CookiesMiddleware',\n",
      " 'scrapy.downloadermiddlewares.httpproxy.HttpProxyMiddleware',\n",
      " 'scrapy.downloadermiddlewares.stats.DownloaderStats']\n",
      "2022-09-18 02:20:53 [scrapy.middleware] INFO: Enabled spider middlewares:\n",
      "['scrapy.spidermiddlewares.httperror.HttpErrorMiddleware',\n",
      " 'scrapy.spidermiddlewares.offsite.OffsiteMiddleware',\n",
      " 'scrapy.spidermiddlewares.referer.RefererMiddleware',\n",
      " 'scrapy.spidermiddlewares.urllength.UrlLengthMiddleware',\n",
      " 'scrapy.spidermiddlewares.depth.DepthMiddleware']\n",
      "2022-09-18 02:20:53 [scrapy.middleware] INFO: Enabled item pipelines:\n",
      "[]\n",
      "2022-09-18 02:20:53 [scrapy.core.engine] INFO: Spider opened\n",
      "2022-09-18 02:20:53 [scrapy.extensions.logstats] INFO: Crawled 0 pages (at 0 pages/min), scraped 0 items (at 0 items/min)\n",
      "2022-09-18 02:20:53 [scrapy.extensions.telnet] INFO: Telnet console listening on 127.0.0.1:6024\n",
      "2022-09-18 02:20:55 [filelock] DEBUG: Attempting to acquire lock 2679514076208 on C:\\Users\\diego\\anaconda3\\envs\\env1_cloned_tf\\lib\\site-packages\\tldextract\\.suffix_cache/publicsuffix.org-tlds\\de84b5ca2167d4c83e38fb162f2e8738.tldextract.json.lock\n",
      "2022-09-18 02:20:55 [filelock] DEBUG: Lock 2679514076208 acquired on C:\\Users\\diego\\anaconda3\\envs\\env1_cloned_tf\\lib\\site-packages\\tldextract\\.suffix_cache/publicsuffix.org-tlds\\de84b5ca2167d4c83e38fb162f2e8738.tldextract.json.lock\n",
      "2022-09-18 02:20:55 [filelock] DEBUG: Attempting to release lock 2679514076208 on C:\\Users\\diego\\anaconda3\\envs\\env1_cloned_tf\\lib\\site-packages\\tldextract\\.suffix_cache/publicsuffix.org-tlds\\de84b5ca2167d4c83e38fb162f2e8738.tldextract.json.lock\n",
      "2022-09-18 02:20:55 [filelock] DEBUG: Lock 2679514076208 released on C:\\Users\\diego\\anaconda3\\envs\\env1_cloned_tf\\lib\\site-packages\\tldextract\\.suffix_cache/publicsuffix.org-tlds\\de84b5ca2167d4c83e38fb162f2e8738.tldextract.json.lock\n",
      "2022-09-18 02:20:55 [scrapy.core.engine] DEBUG: Crawled (200) <GET https://www.amazon.com/s?k=deep+learning&crid=2HX2SCFCK032L&sprefix=deep+learnin%2Caps%2C449&ref=nb_sb_noss_2> (referer: None)\n"
     ]
    },
    {
     "name": "stdout",
     "output_type": "stream",
     "text": [
      "1\n",
      "Deep Learning from Scratch: Building with Python from First Principles\n",
      "Fundamentals of Deep Learning: Designing Next-Generation Machine Intelligence Algorithms\n",
      "Deep Learning (Adaptive Computation and Machine Learning series)\n",
      "Deep Learning with Python, Second Edition\n",
      "Deep Learning: A Visual Approach\n",
      "Deep Learning (The MIT Press Essential Knowledge series)\n",
      "Learning Deep Learning: Theory and Practice of Neural Networks, Computer Vision, Natural Language Processing, and Transformers Using TensorFlow\n",
      "Deep Learning for Coders with Fastai and PyTorch: AI Applications Without a PhD\n",
      "The Science of Deep Learning\n",
      "Mathematical Aspects of Deep Learning\n",
      "Practical Deep Learning: A Python-Based Introduction\n",
      "Inside Deep Learning: Math, Algorithms, Models\n",
      "Deep Learning with PyTorch Step-by-Step: A Beginner's Guide: Volume I: Fundamentals\n",
      "Deep Learning from Scratch: Building with Python from First Principles\n",
      "Deep Learning with PyTorch: Build, train, and tune neural networks using Python tools\n",
      "Neural Networks and Deep Learning: A Textbook\n",
      "Deep Learning for the Life Sciences: Applying Deep Learning to Genomics, Microscopy, Drug Discovery, and More\n",
      "Generative Deep Learning: Teaching Machines to Paint, Write, Compose, and Play\n",
      "Deep Learning from the Basics: Python and Deep Learning: Theory and Implementation\n",
      "Essentials of Deep Learning and AI: Experience Unsupervised Learning, Autoencoders, Feature Engineering, and Time Series Analysis with TensorFlow, Keras, and scikit-learn (English Edition)\n",
      "The Deep Learning Revolution\n",
      "Generative Deep Learning: Teaching Machines to Paint, Write, Compose, and Play\n",
      "Deep Learning with Python\n",
      "Deep Learning For Dummies\n",
      "Grokking Deep Learning\n",
      "Deep Learning Illustrated: A Visual, Interactive Guide to Artificial Intelligence (Addison-Wesley Data & Analytics Series)\n",
      "Introduction to Deep Learning (The MIT Press)\n",
      "Deep Learning: Engage the World Change the World\n",
      "Deep Learning in Production\n",
      "The Principles of Deep Learning Theory: An Effective Theory Approach to Understanding Neural Networks\n",
      "Math for Deep Learning: What You Need to Know to Understand Neural Networks\n",
      "Time Series Forecasting using Deep Learning: Combining PyTorch, RNN, TCN, and Deep Neural Network Models to Provide Production-Ready Prediction Solutions (English Edition)\n",
      "Deep Learning with TensorFlow 2 and Keras: Regression, ConvNets, GANs, RNNs, NLP, and more with TensorFlow 2 and the Keras API, 2nd Edition\n",
      "Deep Generative Modeling\n",
      "Practical Deep Learning at Scale with MLflow: Bridge the gap between offline experimentation and online production\n",
      "Practical Deep Learning for Cloud, Mobile, and Edge: Real-World AI & Computer-Vision Projects Using Python, Keras & TensorFlow\n",
      "Machine Learning with PyTorch and Scikit-Learn: Develop machine learning and deep learning models with Python\n",
      "Grokking Deep Reinforcement Learning\n",
      "Artificial Intelligence and Deep Learning with Python: Every Line of Code Explained For Readers New to AI and New to Python\n",
      "Mathematics for Machine Learning\n",
      "Production-Ready Applied Deep Learning: Learn how to construct and deploy complex models in PyTorch and TensorFlow deep learning frameworks\n",
      "Synthetic Data for Deep Learning: Generate Synthetic Data for Decision Making and Applications with Python and R\n",
      "Deep Learning for the Life Sciences: Applying Deep Learning to Genomics, Microscopy, Drug Discovery, and More\n",
      "Geometry of Deep Learning: A Signal Processing Perspective (Mathematics in Industry, 37)\n",
      "Algorithms and Data Structures for Massive Datasets\n",
      "Deep Learning with R, Second Edition\n",
      "Deep Learning for Vision Systems\n",
      "Modern Computer Vision with PyTorch: Explore deep learning concepts and implement over 50 real-world image applications\n",
      "Deep Reinforcement Learning Hands-On: Apply modern RL methods to practical problems of chatbots, robotics, discrete optimization, web automation, and more, 2nd Edition\n",
      "Deep Learning with JavaScript: Neural networks in TensorFlow.js\n",
      "Deep Learning in Science\n",
      "Deep Learning Interviews: Hundreds of fully solved job interview questions from a wide range of key topics in AI.\n",
      "Foundations of Deep Reinforcement Learning: Theory and Practice in Python (Addison-Wesley Data & Analytics Series)\n",
      "Deep Learning: Convolutional Neural Networks with Tensorflow 2 Online Course\n",
      "HR Analytics Essentials You Always Wanted To Know (Self-Learning Management Series)\n",
      "Dive Into Deep Learning: Tools for Engagement\n",
      "Deep Learning with TensorFlow 2 and Keras: Regression, ConvNets, GANs, RNNs, NLP, and more with TensorFlow 2 and the Keras API, 2nd Edition\n",
      "Deep Learning Architectures: A Mathematical Approach (Springer Series in the Data Sciences)\n",
      "Applied Deep Learning and Computer Vision for Self-Driving Cars: Build autonomous vehicles using deep neural networks and behavior-cloning techniques\n",
      "Practical Deep Reinforcement Learning with Python: Concise Implementation of Algorithms, Simplified Maths, and Effective Use of TensorFlow and PyTorch (English Edition)\n"
     ]
    },
    {
     "name": "stderr",
     "output_type": "stream",
     "text": [
      "2022-09-18 02:20:56 [scrapy.downloadermiddlewares.redirect] DEBUG: Redirecting (302) to <GET https://www.amazon.com/Deep-Learning-Scratch-Building-Principles/dp/1492041416/ref=sr_1_1_sspa?crid=2HX2SCFCK032L&keywords=deep+learning&qid=1663460453&sprefix=deep+learnin%2Caps%2C449&sr=8-1-spons&psc=1> from <GET https://www.amazon.com/sspa/click?ie=UTF8&spc=MToxMjU1NDM5NTIwMjk1OTM0OjE2NjM0NjA0NTM6c3BfYXRmOjIwMDA3MTA0OTM1OTA5ODo6MDo6&sp_csd=d2lkZ2V0TmFtZT1zcF9hdGY&url=%2FDeep-Learning-Scratch-Building-Principles%2Fdp%2F1492041416%2Fref%3Dsr_1_1_sspa%3Fcrid%3D2HX2SCFCK032L%26keywords%3Ddeep%2Blearning%26qid%3D1663460453%26sprefix%3Ddeep%2Blearnin%252Caps%252C449%26sr%3D8-1-spons%26psc%3D1>\n",
      "2022-09-18 02:20:58 [scrapy.core.engine] DEBUG: Crawled (200) <GET https://www.amazon.com/Science-Deep-Learning-Iddo-Drori/dp/1108835082/ref=sr_1_9?crid=2HX2SCFCK032L&keywords=deep+learning&qid=1663460453&sprefix=deep+learnin%2Caps%2C449&sr=8-9> (referer: https://www.amazon.com/s?k=deep+learning&crid=2HX2SCFCK032L&sprefix=deep+learnin%2Caps%2C449&ref=nb_sb_noss_2)\n",
      "2022-09-18 02:20:58 [scrapy.core.engine] DEBUG: Crawled (200) <GET https://www.amazon.com/Inside-Deep-Learning-Algorithms-Models/dp/1617298638/ref=sr_1_12?crid=2HX2SCFCK032L&keywords=deep+learning&qid=1663460453&sprefix=deep+learnin%2Caps%2C449&sr=8-12> (referer: https://www.amazon.com/s?k=deep+learning&crid=2HX2SCFCK032L&sprefix=deep+learnin%2Caps%2C449&ref=nb_sb_noss_2)\n",
      "2022-09-18 02:20:58 [scrapy.core.engine] DEBUG: Crawled (200) <GET https://www.amazon.com/Mathematical-Aspects-Learning-Philipp-Grohs/dp/1316516784/ref=sr_1_10?crid=2HX2SCFCK032L&keywords=deep+learning&qid=1663460453&sprefix=deep+learnin%2Caps%2C449&sr=8-10> (referer: https://www.amazon.com/s?k=deep+learning&crid=2HX2SCFCK032L&sprefix=deep+learnin%2Caps%2C449&ref=nb_sb_noss_2)\n",
      "2022-09-18 02:20:58 [scrapy.core.engine] DEBUG: Crawled (200) <GET https://www.amazon.com/Deep-Learning-Coders-fastai-PyTorch/dp/1492045527/ref=sr_1_8?crid=2HX2SCFCK032L&keywords=deep+learning&qid=1663460453&sprefix=deep+learnin%2Caps%2C449&sr=8-8> (referer: https://www.amazon.com/s?k=deep+learning&crid=2HX2SCFCK032L&sprefix=deep+learnin%2Caps%2C449&ref=nb_sb_noss_2)\n"
     ]
    },
    {
     "name": "stdout",
     "output_type": "stream",
     "text": [
      "1\n",
      "[] None 6.89 x 0.79 x 9.84 inches\n",
      "2\n",
      "['\\n            \\n              100%\\n            \\n          '] 5.0 out of 5 stars 7.38 x 1.7 x 9.25 inches\n"
     ]
    },
    {
     "name": "stderr",
     "output_type": "stream",
     "text": [
      "2022-09-18 02:20:58 [scrapy.core.engine] DEBUG: Crawled (200) <GET https://www.amazon.com/Deep-Learning-PyTorch-Step-Step-ebook/dp/B09R144ZC2/ref=sr_1_13?crid=2HX2SCFCK032L&keywords=deep+learning&qid=1663460453&sprefix=deep+learnin%2Caps%2C449&sr=8-13> (referer: https://www.amazon.com/s?k=deep+learning&crid=2HX2SCFCK032L&sprefix=deep+learnin%2Caps%2C449&ref=nb_sb_noss_2)\n"
     ]
    },
    {
     "name": "stdout",
     "output_type": "stream",
     "text": [
      "3\n",
      "[] None None\n",
      "4\n",
      "['\\n            \\n              86%\\n            \\n          '] 4.8 out of 5 stars 6.9 x 1.1 x 9.1 inches\n"
     ]
    },
    {
     "name": "stderr",
     "output_type": "stream",
     "text": [
      "2022-09-18 02:20:59 [scrapy.core.engine] DEBUG: Crawled (200) <GET https://www.amazon.com/Deep-Learning-Beginners-Python-Based-Introduction/dp/1718500742/ref=sr_1_11?crid=2HX2SCFCK032L&keywords=deep+learning&qid=1663460453&sprefix=deep+learnin%2Caps%2C449&sr=8-11> (referer: https://www.amazon.com/s?k=deep+learning&crid=2HX2SCFCK032L&sprefix=deep+learnin%2Caps%2C449&ref=nb_sb_noss_2)\n",
      "2022-09-18 02:20:59 [scrapy.core.engine] DEBUG: Crawled (200) <GET https://www.amazon.com/Deep-Learning-PyTorch-Eli-Stevens/dp/1617295264/ref=sr_1_15?crid=2HX2SCFCK032L&keywords=deep+learning&qid=1663460453&sprefix=deep+learnin%2Caps%2C449&sr=8-15> (referer: https://www.amazon.com/s?k=deep+learning&crid=2HX2SCFCK032L&sprefix=deep+learnin%2Caps%2C449&ref=nb_sb_noss_2)\n"
     ]
    },
    {
     "name": "stdout",
     "output_type": "stream",
     "text": [
      "5\n",
      "['\\n            \\n              100%\\n            \\n          '] 5.0 out of 5 stars None\n",
      "6\n",
      "['\\n            \\n              85%\\n            \\n          '] 4.8 out of 5 stars 7.06 x 1.13 x 9.25 inches\n",
      "7\n",
      "['\\n            \\n              72%\\n            \\n          '] 4.4 out of 5 stars 7.38 x 1 x 9.25 inches\n"
     ]
    },
    {
     "name": "stderr",
     "output_type": "stream",
     "text": [
      "2022-09-18 02:20:59 [scrapy.downloadermiddlewares.redirect] DEBUG: Redirecting (302) to <GET https://www.amazon.com/Fundamentals-Deep-Learning-Next-Generation-Intelligence/dp/149208218X/ref=sr_1_2_sspa?crid=2HX2SCFCK032L&keywords=deep+learning&qid=1663460453&sprefix=deep+learnin%2Caps%2C449&sr=8-2-spons&psc=1> from <GET https://www.amazon.com/sspa/click?ie=UTF8&spc=MToxMjU1NDM5NTIwMjk1OTM0OjE2NjM0NjA0NTM6c3BfYXRmOjIwMDA3MTA0OTM1ODk5ODo6MDo6&sp_csd=d2lkZ2V0TmFtZT1zcF9hdGY&url=%2FFundamentals-Deep-Learning-Next-Generation-Intelligence%2Fdp%2F149208218X%2Fref%3Dsr_1_2_sspa%3Fcrid%3D2HX2SCFCK032L%26keywords%3Ddeep%2Blearning%26qid%3D1663460453%26sprefix%3Ddeep%2Blearnin%252Caps%252C449%26sr%3D8-2-spons%26psc%3D1>\n",
      "2022-09-18 02:21:00 [scrapy.core.engine] DEBUG: Crawled (200) <GET https://www.amazon.com/Deep-Learning-Scratch-Building-Principles/dp/1492041416/ref=sr_1_14?crid=2HX2SCFCK032L&keywords=deep+learning&qid=1663460453&sprefix=deep+learnin%2Caps%2C449&sr=8-14> (referer: https://www.amazon.com/s?k=deep+learning&crid=2HX2SCFCK032L&sprefix=deep+learnin%2Caps%2C449&ref=nb_sb_noss_2)\n",
      "2022-09-18 02:21:00 [scrapy.core.engine] DEBUG: Crawled (200) <GET https://www.amazon.com/Learning-Deep-Processing-Transformers-TensorFlow/dp/0137470355/ref=sr_1_7?crid=2HX2SCFCK032L&keywords=deep+learning&qid=1663460453&sprefix=deep+learnin%2Caps%2C449&sr=8-7> (referer: https://www.amazon.com/s?k=deep+learning&crid=2HX2SCFCK032L&sprefix=deep+learnin%2Caps%2C449&ref=nb_sb_noss_2)\n",
      "2022-09-18 02:21:00 [scrapy.core.engine] DEBUG: Crawled (200) <GET https://www.amazon.com/Deep-Learning-Approach-Andrew-Glassner/dp/1718500726/ref=sr_1_5?crid=2HX2SCFCK032L&keywords=deep+learning&qid=1663460453&sprefix=deep+learnin%2Caps%2C449&sr=8-5> (referer: https://www.amazon.com/s?k=deep+learning&crid=2HX2SCFCK032L&sprefix=deep+learnin%2Caps%2C449&ref=nb_sb_noss_2)\n",
      "2022-09-18 02:21:00 [scrapy.core.engine] DEBUG: Crawled (200) <GET https://www.amazon.com/Learning-Python-Second-Fran%C3%A7ois-Chollet/dp/1617296864/ref=sr_1_4?crid=2HX2SCFCK032L&keywords=deep+learning&qid=1663460453&sprefix=deep+learnin%2Caps%2C449&sr=8-4> (referer: https://www.amazon.com/s?k=deep+learning&crid=2HX2SCFCK032L&sprefix=deep+learnin%2Caps%2C449&ref=nb_sb_noss_2)\n",
      "2022-09-18 02:21:00 [scrapy.downloadermiddlewares.redirect] DEBUG: Redirecting (302) to <GET https://www.amazon.com/Applied-Learning-Computer-Vision-Self-Driving/dp/1838646302/ref=sr_1_59_sspa?crid=2HX2SCFCK032L&keywords=deep+learning&qid=1663460453&sprefix=deep+learnin%2Caps%2C449&sr=8-59-spons&psc=1> from <GET https://www.amazon.com/sspa/click?ie=UTF8&spc=MToxMjU1NDM5NTIwMjk1OTM0OjE2NjM0NjA0NTM6c3BfYnRmOjIwMDAzNjc5MzA1Njk3MTo6MDo6&sp_csd=d2lkZ2V0TmFtZT1zcF9idGY&url=%2FApplied-Learning-Computer-Vision-Self-Driving%2Fdp%2F1838646302%2Fref%3Dsr_1_59_sspa%3Fcrid%3D2HX2SCFCK032L%26keywords%3Ddeep%2Blearning%26qid%3D1663460453%26sprefix%3Ddeep%2Blearnin%252Caps%252C449%26sr%3D8-59-spons%26psc%3D1>\n",
      "2022-09-18 02:21:00 [scrapy.downloadermiddlewares.redirect] DEBUG: Redirecting (302) to <GET https://www.amazon.com/Practical-Deep-Reinforcement-Learning-Python/dp/9355512058/ref=sr_1_60_sspa?crid=2HX2SCFCK032L&keywords=deep+learning&qid=1663460453&sprefix=deep+learnin%2Caps%2C449&sr=8-60-spons&psc=1> from <GET https://www.amazon.com/sspa/click?ie=UTF8&spc=MToxMjU1NDM5NTIwMjk1OTM0OjE2NjM0NjA0NTM6c3BfYnRmOjIwMDA4MDM0Nzk2NzQ5ODo6MDo6&sp_csd=d2lkZ2V0TmFtZT1zcF9idGY&url=%2FPractical-Deep-Reinforcement-Learning-Python%2Fdp%2F9355512058%2Fref%3Dsr_1_60_sspa%3Fcrid%3D2HX2SCFCK032L%26keywords%3Ddeep%2Blearning%26qid%3D1663460453%26sprefix%3Ddeep%2Blearnin%252Caps%252C449%26sr%3D8-60-spons%26psc%3D1>\n"
     ]
    },
    {
     "name": "stdout",
     "output_type": "stream",
     "text": [
      "8\n",
      "['\\n            \\n              66%\\n            \\n          '] 4.4 out of 5 stars 7 x 0.53 x 9.19 inches\n",
      "9\n",
      "['\\n            \\n              84%\\n            \\n          '] 4.7 out of 5 stars 7.3 x 1.1 x 9 inches\n"
     ]
    },
    {
     "name": "stderr",
     "output_type": "stream",
     "text": [
      "2022-09-18 02:21:01 [scrapy.core.engine] DEBUG: Crawled (200) <GET https://www.amazon.com/Deep-Learning-Press-Essential-Knowledge/dp/0262537559/ref=sr_1_6?crid=2HX2SCFCK032L&keywords=deep+learning&qid=1663460453&sprefix=deep+learnin%2Caps%2C449&sr=8-6> (referer: https://www.amazon.com/s?k=deep+learning&crid=2HX2SCFCK032L&sprefix=deep+learnin%2Caps%2C449&ref=nb_sb_noss_2)\n"
     ]
    },
    {
     "name": "stdout",
     "output_type": "stream",
     "text": [
      "10\n",
      "['\\n            \\n              86%\\n            \\n          '] 4.7 out of 5 stars 7.06 x 1.34 x 9.25 inches\n",
      "11\n",
      "['\\n            \\n              82%\\n            \\n          '] 4.6 out of 5 stars 7.38 x 1.4 x 9.25 inches\n"
     ]
    },
    {
     "name": "stderr",
     "output_type": "stream",
     "text": [
      "2022-09-18 02:21:01 [scrapy.core.engine] DEBUG: Crawled (200) <GET https://www.amazon.com/Deep-Learning-Adaptive-Computation-Machine/dp/0262035618/ref=sr_1_3?crid=2HX2SCFCK032L&keywords=deep+learning&qid=1663460453&sprefix=deep+learnin%2Caps%2C449&sr=8-3> (referer: https://www.amazon.com/s?k=deep+learning&crid=2HX2SCFCK032L&sprefix=deep+learnin%2Caps%2C449&ref=nb_sb_noss_2)\n",
      "2022-09-18 02:21:01 [scrapy.core.engine] DEBUG: Crawled (200) <GET https://www.amazon.com/Deep-Learning-Illustrated-Intelligence-Addison-Wesley/dp/0135116694/ref=sr_1_26?crid=2HX2SCFCK032L&keywords=deep+learning&qid=1663460453&sprefix=deep+learnin%2Caps%2C449&sr=8-26> (referer: https://www.amazon.com/s?k=deep+learning&crid=2HX2SCFCK032L&sprefix=deep+learnin%2Caps%2C449&ref=nb_sb_noss_2)\n"
     ]
    },
    {
     "name": "stdout",
     "output_type": "stream",
     "text": [
      "12\n",
      "['\\n            \\n              67%\\n            \\n          '] 4.5 out of 5 stars 5.06 x 0.74 x 6.94 inches\n",
      "13\n",
      "['\\n            \\n              73%\\n            \\n          '] 4.3 out of 5 stars 9.1 x 7.2 x 1.1 inches\n",
      "14\n",
      "['\\n            \\n              76%\\n            \\n          '] 4.5 out of 5 stars 7 x 0.95 x 9.05 inches\n"
     ]
    },
    {
     "name": "stderr",
     "output_type": "stream",
     "text": [
      "2022-09-18 02:21:05 [scrapy.core.engine] DEBUG: Crawled (200) <GET https://www.amazon.com/Deep-Learning-Convolutional-Networks-Tensorflow/dp/B0BDLBS1DF/ref=sr_1_54?crid=2HX2SCFCK032L&keywords=deep+learning&qid=1663460453&sprefix=deep+learnin%2Caps%2C449&sr=8-54> (referer: https://www.amazon.com/s?k=deep+learning&crid=2HX2SCFCK032L&sprefix=deep+learnin%2Caps%2C449&ref=nb_sb_noss_2)\n",
      "2022-09-18 02:21:05 [scrapy.core.engine] DEBUG: Crawled (200) <GET https://www.amazon.com/Deep-Learning-Scratch-Building-Principles/dp/1492041416/ref=sr_1_1_sspa?crid=2HX2SCFCK032L&keywords=deep+learning&qid=1663460453&sprefix=deep+learnin%2Caps%2C449&sr=8-1-spons&psc=1> (referer: https://www.amazon.com/s?k=deep+learning&crid=2HX2SCFCK032L&sprefix=deep+learnin%2Caps%2C449&ref=nb_sb_noss_2)\n",
      "2022-09-18 02:21:05 [scrapy.core.engine] DEBUG: Crawled (200) <GET https://www.amazon.com/Deep-Learning-Architectures-Mathematical-Approach/dp/3030367231/ref=sr_1_58?crid=2HX2SCFCK032L&keywords=deep+learning&qid=1663460453&sprefix=deep+learnin%2Caps%2C449&sr=8-58> (referer: https://www.amazon.com/s?k=deep+learning&crid=2HX2SCFCK032L&sprefix=deep+learnin%2Caps%2C449&ref=nb_sb_noss_2)\n",
      "2022-09-18 02:21:05 [scrapy.core.engine] DEBUG: Crawled (200) <GET https://www.amazon.com/Deep-Reinforcement-Learning-Python-Hands/dp/0135172381/ref=sr_1_53?crid=2HX2SCFCK032L&keywords=deep+learning&qid=1663460453&sprefix=deep+learnin%2Caps%2C449&sr=8-53> (referer: https://www.amazon.com/s?k=deep+learning&crid=2HX2SCFCK032L&sprefix=deep+learnin%2Caps%2C449&ref=nb_sb_noss_2)\n"
     ]
    },
    {
     "name": "stdout",
     "output_type": "stream",
     "text": [
      "15\n",
      "[] None None\n"
     ]
    },
    {
     "name": "stderr",
     "output_type": "stream",
     "text": [
      "2022-09-18 02:21:06 [scrapy.core.engine] DEBUG: Crawled (200) <GET https://www.amazon.com/Dive-Into-Deep-Learning-Engagement/dp/1544361378/ref=sr_1_56?crid=2HX2SCFCK032L&keywords=deep+learning&qid=1663460453&sprefix=deep+learnin%2Caps%2C449&sr=8-56> (referer: https://www.amazon.com/s?k=deep+learning&crid=2HX2SCFCK032L&sprefix=deep+learnin%2Caps%2C449&ref=nb_sb_noss_2)\n"
     ]
    },
    {
     "name": "stdout",
     "output_type": "stream",
     "text": [
      "16\n",
      "['\\n            \\n              66%\\n            \\n          '] 4.4 out of 5 stars 7 x 0.53 x 9.19 inches\n",
      "17\n",
      "['\\n            \\n              66%\\n            \\n          '] 4.2 out of 5 stars 6.14 x 1.57 x 9.21 inches\n"
     ]
    },
    {
     "name": "stderr",
     "output_type": "stream",
     "text": [
      "2022-09-18 02:21:06 [scrapy.core.engine] DEBUG: Crawled (200) <GET https://www.amazon.com/Fundamentals-Deep-Learning-Next-Generation-Intelligence/dp/149208218X/ref=sr_1_2_sspa?crid=2HX2SCFCK032L&keywords=deep+learning&qid=1663460453&sprefix=deep+learnin%2Caps%2C449&sr=8-2-spons&psc=1> (referer: https://www.amazon.com/s?k=deep+learning&crid=2HX2SCFCK032L&sprefix=deep+learnin%2Caps%2C449&ref=nb_sb_noss_2)\n",
      "2022-09-18 02:21:06 [scrapy.core.engine] DEBUG: Crawled (200) <GET https://www.amazon.com/Deep-Learning-TensorFlow-Keras-Regression/dp/1838823417/ref=sr_1_57?crid=2HX2SCFCK032L&keywords=deep+learning&qid=1663460453&sprefix=deep+learnin%2Caps%2C449&sr=8-57> (referer: https://www.amazon.com/s?k=deep+learning&crid=2HX2SCFCK032L&sprefix=deep+learnin%2Caps%2C449&ref=nb_sb_noss_2)\n"
     ]
    },
    {
     "name": "stdout",
     "output_type": "stream",
     "text": [
      "18\n",
      "['\\n            \\n              69%\\n            \\n          '] 4.4 out of 5 stars 6.93 x 0.71 x 9.21 inches\n",
      "19\n",
      "['\\n            \\n              81%\\n            \\n          '] 4.7 out of 5 stars 8.4 x 0.7 x 10.9 inches\n"
     ]
    },
    {
     "name": "stderr",
     "output_type": "stream",
     "text": [
      "2022-09-18 02:21:06 [scrapy.core.engine] DEBUG: Crawled (200) <GET https://www.amazon.com/Analytics-Essentials-Always-Self-Learning-Management/dp/1636510345/ref=sr_1_55?crid=2HX2SCFCK032L&keywords=deep+learning&qid=1663460453&sprefix=deep+learnin%2Caps%2C449&sr=8-55> (referer: https://www.amazon.com/s?k=deep+learning&crid=2HX2SCFCK032L&sprefix=deep+learnin%2Caps%2C449&ref=nb_sb_noss_2)\n"
     ]
    },
    {
     "name": "stdout",
     "output_type": "stream",
     "text": [
      "20\n",
      "[] None 7 x 0.75 x 9.25 inches\n",
      "21\n",
      "['\\n            \\n              71%\\n            \\n          '] 4.5 out of 5 stars 7.5 x 1.46 x 9.25 inches\n",
      "22\n",
      "['\\n            \\n              62%\\n            \\n          '] 4.2 out of 5 stars 8.5 x 5.5 x 0.6 inches\n"
     ]
    },
    {
     "name": "stderr",
     "output_type": "stream",
     "text": [
      "2022-09-18 02:21:08 [scrapy.core.engine] DEBUG: Crawled (200) <GET https://www.amazon.com/Deep-Learning-JavaScript-networks-TensorFlow-js/dp/1617296171/ref=sr_1_50?crid=2HX2SCFCK032L&keywords=deep+learning&qid=1663460453&sprefix=deep+learnin%2Caps%2C449&sr=8-50> (referer: https://www.amazon.com/s?k=deep+learning&crid=2HX2SCFCK032L&sprefix=deep+learnin%2Caps%2C449&ref=nb_sb_noss_2)\n",
      "2022-09-18 02:21:08 [scrapy.core.engine] DEBUG: Crawled (200) <GET https://www.amazon.com/Practical-Deep-Reinforcement-Learning-Python/dp/9355512058/ref=sr_1_60_sspa?crid=2HX2SCFCK032L&keywords=deep+learning&qid=1663460453&sprefix=deep+learnin%2Caps%2C449&sr=8-60-spons&psc=1> (referer: https://www.amazon.com/s?k=deep+learning&crid=2HX2SCFCK032L&sprefix=deep+learnin%2Caps%2C449&ref=nb_sb_noss_2)\n"
     ]
    },
    {
     "name": "stdout",
     "output_type": "stream",
     "text": [
      "23\n",
      "['\\n            \\n              85%\\n            \\n          '] 4.8 out of 5 stars 7.38 x 1.1 x 9.25 inches\n",
      "24\n",
      "['\\n            \\n              100%\\n            \\n          '] 5.0 out of 5 stars 7.5 x 0.9 x 9.25 inches\n"
     ]
    },
    {
     "name": "stderr",
     "output_type": "stream",
     "text": [
      "2022-09-18 02:21:11 [scrapy.core.engine] DEBUG: Crawled (200) <GET https://www.amazon.com/Deep-Learning-Science-Pierre-Baldi/dp/1108845355/ref=sr_1_51?crid=2HX2SCFCK032L&keywords=deep+learning&qid=1663460453&sprefix=deep+learnin%2Caps%2C449&sr=8-51> (referer: https://www.amazon.com/s?k=deep+learning&crid=2HX2SCFCK032L&sprefix=deep+learnin%2Caps%2C449&ref=nb_sb_noss_2)\n",
      "2022-09-18 02:21:11 [scrapy.core.engine] DEBUG: Crawled (200) <GET https://www.amazon.com/Deep-Learning-Interviews-interview-questions/dp/1916243568/ref=sr_1_52?crid=2HX2SCFCK032L&keywords=deep+learning&qid=1663460453&sprefix=deep+learnin%2Caps%2C449&sr=8-52> (referer: https://www.amazon.com/s?k=deep+learning&crid=2HX2SCFCK032L&sprefix=deep+learnin%2Caps%2C449&ref=nb_sb_noss_2)\n",
      "2022-09-18 02:21:11 [scrapy.core.engine] DEBUG: Crawled (200) <GET https://www.amazon.com/Applied-Learning-Computer-Vision-Self-Driving/dp/1838646302/ref=sr_1_59_sspa?crid=2HX2SCFCK032L&keywords=deep+learning&qid=1663460453&sprefix=deep+learnin%2Caps%2C449&sr=8-59-spons&psc=1> (referer: https://www.amazon.com/s?k=deep+learning&crid=2HX2SCFCK032L&sprefix=deep+learnin%2Caps%2C449&ref=nb_sb_noss_2)\n",
      "2022-09-18 02:21:11 [scrapy.core.engine] DEBUG: Crawled (200) <GET https://www.amazon.com/Learning-Vision-Systems-Mohamed-Elgendy/dp/1617296198/ref=sr_1_47?crid=2HX2SCFCK032L&keywords=deep+learning&qid=1663460453&sprefix=deep+learnin%2Caps%2C449&sr=8-47> (referer: https://www.amazon.com/s?k=deep+learning&crid=2HX2SCFCK032L&sprefix=deep+learnin%2Caps%2C449&ref=nb_sb_noss_2)\n",
      "2022-09-18 02:21:11 [scrapy.core.engine] DEBUG: Crawled (200) <GET https://www.amazon.com/Deep-Reinforcement-Learning-Hands-optimization/dp/1838826998/ref=sr_1_49?crid=2HX2SCFCK032L&keywords=deep+learning&qid=1663460453&sprefix=deep+learnin%2Caps%2C449&sr=8-49> (referer: https://www.amazon.com/s?k=deep+learning&crid=2HX2SCFCK032L&sprefix=deep+learnin%2Caps%2C449&ref=nb_sb_noss_2)\n",
      "2022-09-18 02:21:11 [scrapy.core.engine] DEBUG: Crawled (200) <GET https://www.amazon.com/Modern-Computer-Vision-PyTorch-applications/dp/1839213477/ref=sr_1_48?crid=2HX2SCFCK032L&keywords=deep+learning&qid=1663460453&sprefix=deep+learnin%2Caps%2C449&sr=8-48> (referer: https://www.amazon.com/s?k=deep+learning&crid=2HX2SCFCK032L&sprefix=deep+learnin%2Caps%2C449&ref=nb_sb_noss_2)\n",
      "2022-09-18 02:21:11 [scrapy.core.engine] DEBUG: Crawled (200) <GET https://www.amazon.com/Algorithms-Data-Structures-Massive-Datasets/dp/1617298034/ref=sr_1_45?crid=2HX2SCFCK032L&keywords=deep+learning&qid=1663460453&sprefix=deep+learnin%2Caps%2C449&sr=8-45> (referer: https://www.amazon.com/s?k=deep+learning&crid=2HX2SCFCK032L&sprefix=deep+learnin%2Caps%2C449&ref=nb_sb_noss_2)\n"
     ]
    },
    {
     "name": "stdout",
     "output_type": "stream",
     "text": [
      "start_new_page\n"
     ]
    },
    {
     "name": "stderr",
     "output_type": "stream",
     "text": [
      "2022-09-18 02:21:11 [scrapy.core.engine] DEBUG: Crawled (200) <GET https://www.amazon.com/Deep-Learning-Second-Francois-Chollet-ebook/dp/B0B69GPTLY/ref=sr_1_46?crid=2HX2SCFCK032L&keywords=deep+learning&qid=1663460453&sprefix=deep+learnin%2Caps%2C449&sr=8-46> (referer: https://www.amazon.com/s?k=deep+learning&crid=2HX2SCFCK032L&sprefix=deep+learnin%2Caps%2C449&ref=nb_sb_noss_2)\n"
     ]
    },
    {
     "name": "stdout",
     "output_type": "stream",
     "text": [
      "25\n",
      "['\\n            \\n              70%\\n            \\n          '] 4.7 out of 5 stars 7.8 x 0.8 x 9.8 inches\n",
      "26\n",
      "['\\n            \\n              49%\\n            \\n          '] 3.6 out of 5 stars 7.5 x 0.91 x 9.25 inches\n",
      "27\n",
      "['\\n            \\n              50%\\n            \\n          '] 3.8 out of 5 stars 7.5 x 0.75 x 9.25 inches\n",
      "28\n",
      "['\\n            \\n              85%\\n            \\n          '] 4.8 out of 5 stars 7.38 x 1 x 9.25 inches\n",
      "29\n",
      "['\\n            \\n              75%\\n            \\n          '] 4.5 out of 5 stars 7.5 x 1.87 x 9.25 inches\n",
      "30\n",
      "['\\n            \\n              82%\\n            \\n          '] 4.6 out of 5 stars 7.5 x 1.86 x 9.25 inches\n",
      "31\n",
      "['\\n            \\n              38%\\n            \\n          '] 3.8 out of 5 stars 7.38 x 0.8 x 9.25 inches\n",
      "32\n",
      "[] None None\n"
     ]
    },
    {
     "name": "stderr",
     "output_type": "stream",
     "text": [
      "2022-09-18 02:21:14 [scrapy.core.engine] DEBUG: Crawled (200) <GET https://www.amazon.com/Synthetic-Data-Deep-Learning-Applications/dp/1484285867/ref=sr_1_42?crid=2HX2SCFCK032L&keywords=deep+learning&qid=1663460453&sprefix=deep+learnin%2Caps%2C449&sr=8-42> (referer: https://www.amazon.com/s?k=deep+learning&crid=2HX2SCFCK032L&sprefix=deep+learnin%2Caps%2C449&ref=nb_sb_noss_2)\n"
     ]
    },
    {
     "name": "stdout",
     "output_type": "stream",
     "text": [
      "33\n",
      "[] None None\n"
     ]
    },
    {
     "name": "stderr",
     "output_type": "stream",
     "text": [
      "2022-09-18 02:21:15 [scrapy.core.engine] DEBUG: Crawled (200) <GET https://www.amazon.com/Geometry-Deep-Learning-Perspective-Mathematics/dp/981166045X/ref=sr_1_44?crid=2HX2SCFCK032L&keywords=deep+learning&qid=1663460453&sprefix=deep+learnin%2Caps%2C449&sr=8-44> (referer: https://www.amazon.com/s?k=deep+learning&crid=2HX2SCFCK032L&sprefix=deep+learnin%2Caps%2C449&ref=nb_sb_noss_2)\n",
      "2022-09-18 02:21:16 [scrapy.core.engine] DEBUG: Crawled (200) <GET https://www.amazon.com/Machine-Learning-PyTorch-Scikit-Learn-learning/dp/1801819319/ref=sr_1_37?crid=2HX2SCFCK032L&keywords=deep+learning&qid=1663460453&sprefix=deep+learnin%2Caps%2C449&sr=8-37> (referer: https://www.amazon.com/s?k=deep+learning&crid=2HX2SCFCK032L&sprefix=deep+learnin%2Caps%2C449&ref=nb_sb_noss_2)\n",
      "2022-09-18 02:21:16 [scrapy.downloadermiddlewares.redirect] DEBUG: Redirecting (302) to <GET https://www.amazon.com/Practical-Learning-Cloud-Mobile-Hands/dp/149203486X/ref=sr_1_36_sspa?crid=2HX2SCFCK032L&keywords=deep+learning&qid=1663460453&sprefix=deep+learnin%2Caps%2C449&sr=8-36-spons&psc=1> from <GET https://www.amazon.com/sspa/click?ie=UTF8&spc=MToxMjU1NDM5NTIwMjk1OTM0OjE2NjM0NjA0NTM6c3BfbXRmOjIwMDA3MTA0OTM1OTE5ODo6MDo6&sp_csd=d2lkZ2V0TmFtZT1zcF9tdGY&url=%2FPractical-Learning-Cloud-Mobile-Hands%2Fdp%2F149203486X%2Fref%3Dsr_1_36_sspa%3Fcrid%3D2HX2SCFCK032L%26keywords%3Ddeep%2Blearning%26qid%3D1663460453%26sprefix%3Ddeep%2Blearnin%252Caps%252C449%26sr%3D8-36-spons%26psc%3D1>\n"
     ]
    },
    {
     "name": "stdout",
     "output_type": "stream",
     "text": [
      "34\n",
      "['\\n            \\n              60%\\n            \\n          '] 3.6 out of 5 stars 6.14 x 0.81 x 9.21 inches\n"
     ]
    },
    {
     "name": "stderr",
     "output_type": "stream",
     "text": [
      "2022-09-18 02:21:16 [scrapy.core.engine] DEBUG: Crawled (200) <GET https://www.amazon.com/Production-Ready-Applied-Deep-Learning-TensorFlow/dp/180324366X/ref=sr_1_41?crid=2HX2SCFCK032L&keywords=deep+learning&qid=1663460453&sprefix=deep+learnin%2Caps%2C449&sr=8-41> (referer: https://www.amazon.com/s?k=deep+learning&crid=2HX2SCFCK032L&sprefix=deep+learnin%2Caps%2C449&ref=nb_sb_noss_2)\n"
     ]
    },
    {
     "name": "stdout",
     "output_type": "stream",
     "text": [
      "35\n",
      "['\\n            \\n              82%\\n            \\n          '] 4.7 out of 5 stars 7.5 x 1.74 x 9.25 inches\n"
     ]
    },
    {
     "name": "stderr",
     "output_type": "stream",
     "text": [
      "2022-09-18 02:21:16 [scrapy.downloadermiddlewares.redirect] DEBUG: Redirecting (302) to <GET https://www.amazon.com/Practical-Deep-Learning-Scale-MLflow/dp/1803241330/ref=sr_1_35_sspa?crid=2HX2SCFCK032L&keywords=deep+learning&qid=1663460453&sprefix=deep+learnin%2Caps%2C449&sr=8-35-spons&psc=1> from <GET https://www.amazon.com/sspa/click?ie=UTF8&spc=MToxMjU1NDM5NTIwMjk1OTM0OjE2NjM0NjA0NTM6c3BfbXRmOjIwMDA3NDE5NzI3MDY5ODo6MDo6&sp_csd=d2lkZ2V0TmFtZT1zcF9tdGY&url=%2FPractical-Deep-Learning-Scale-MLflow%2Fdp%2F1803241330%2Fref%3Dsr_1_35_sspa%3Fcrid%3D2HX2SCFCK032L%26keywords%3Ddeep%2Blearning%26qid%3D1663460453%26sprefix%3Ddeep%2Blearnin%252Caps%252C449%26sr%3D8-35-spons%26psc%3D1>\n"
     ]
    },
    {
     "name": "stdout",
     "output_type": "stream",
     "text": [
      "36\n",
      "[] None 7.5 x 0.73 x 9.25 inches\n"
     ]
    },
    {
     "name": "stderr",
     "output_type": "stream",
     "text": [
      "2022-09-18 02:21:16 [scrapy.core.engine] DEBUG: Crawled (200) <GET https://www.amazon.com/Grokking-Reinforcement-Learning-Miguel-Morales/dp/1617295450/ref=sr_1_38?crid=2HX2SCFCK032L&keywords=deep+learning&qid=1663460453&sprefix=deep+learnin%2Caps%2C449&sr=8-38> (referer: https://www.amazon.com/s?k=deep+learning&crid=2HX2SCFCK032L&sprefix=deep+learnin%2Caps%2C449&ref=nb_sb_noss_2)\n",
      "2022-09-18 02:21:17 [scrapy.downloadermiddlewares.redirect] DEBUG: Redirecting (302) to <GET https://www.amazon.com/Deep-Learning-TensorFlow-Keras-Regression/dp/1838823417/ref=sr_1_33_sspa?crid=2HX2SCFCK032L&keywords=deep+learning&qid=1663460453&sprefix=deep+learnin%2Caps%2C449&sr=8-33-spons&psc=1> from <GET https://www.amazon.com/sspa/click?ie=UTF8&spc=MToxMjU1NDM5NTIwMjk1OTM0OjE2NjM0NjA0NTM6c3BfbXRmOjIwMDAyMTkxNDA1Mzc3MTo6MDo6&sp_csd=d2lkZ2V0TmFtZT1zcF9tdGY&url=%2FDeep-Learning-TensorFlow-Keras-Regression%2Fdp%2F1838823417%2Fref%3Dsr_1_33_sspa%3Fcrid%3D2HX2SCFCK032L%26keywords%3Ddeep%2Blearning%26qid%3D1663460453%26sprefix%3Ddeep%2Blearnin%252Caps%252C449%26sr%3D8-33-spons%26psc%3D1>\n",
      "2022-09-18 02:21:17 [scrapy.core.engine] DEBUG: Crawled (200) <GET https://www.amazon.com/Mathematics-Machine-Learning-Peter-Deisenroth/dp/110845514X/ref=sr_1_40?crid=2HX2SCFCK032L&keywords=deep+learning&qid=1663460453&sprefix=deep+learnin%2Caps%2C449&sr=8-40> (referer: https://www.amazon.com/s?k=deep+learning&crid=2HX2SCFCK032L&sprefix=deep+learnin%2Caps%2C449&ref=nb_sb_noss_2)\n"
     ]
    },
    {
     "name": "stdout",
     "output_type": "stream",
     "text": [
      "37\n",
      "['\\n            \\n              82%\\n            \\n          '] 4.7 out of 5 stars 7.38 x 1 x 9.25 inches\n"
     ]
    },
    {
     "name": "stderr",
     "output_type": "stream",
     "text": [
      "2022-09-18 02:21:17 [scrapy.downloadermiddlewares.redirect] DEBUG: Redirecting (302) to <GET https://www.amazon.com/Deep-Generative-Modeling-Jakub-Tomczak/dp/3030931579/ref=sr_1_34_sspa?crid=2HX2SCFCK032L&keywords=deep+learning&qid=1663460453&sprefix=deep+learnin%2Caps%2C449&sr=8-34-spons&psc=1> from <GET https://www.amazon.com/sspa/click?ie=UTF8&spc=MToxMjU1NDM5NTIwMjk1OTM0OjE2NjM0NjA0NTM6c3BfbXRmOjIwMDA1NzQyMTY0MjI5ODo6MDo6&sp_csd=d2lkZ2V0TmFtZT1zcF9tdGY&url=%2FDeep-Generative-Modeling-Jakub-Tomczak%2Fdp%2F3030931579%2Fref%3Dsr_1_34_sspa%3Fcrid%3D2HX2SCFCK032L%26keywords%3Ddeep%2Blearning%26qid%3D1663460453%26sprefix%3Ddeep%2Blearnin%252Caps%252C449%26sr%3D8-34-spons%26psc%3D1>\n",
      "2022-09-18 02:21:17 [scrapy.core.engine] DEBUG: Crawled (200) <GET https://www.amazon.com/s?k=deep+learning&page=2&crid=2HX2SCFCK032L&qid=1663460242&sprefix=deep+learnin%2Caps%2C449&ref=sr_pg_2> (referer: https://www.amazon.com/Practical-Deep-Reinforcement-Learning-Python/dp/9355512058/ref=sr_1_60_sspa?crid=2HX2SCFCK032L&keywords=deep+learning&qid=1663460453&sprefix=deep+learnin%2Caps%2C449&sr=8-60-spons&psc=1)\n",
      "2022-09-18 02:21:17 [scrapy.core.engine] DEBUG: Crawled (200) <GET https://www.amazon.com/Artificial-Intelligence-Deep-Learning-Python/dp/B09QNZBZMN/ref=sr_1_39?crid=2HX2SCFCK032L&keywords=deep+learning&qid=1663460453&sprefix=deep+learnin%2Caps%2C449&sr=8-39> (referer: https://www.amazon.com/s?k=deep+learning&crid=2HX2SCFCK032L&sprefix=deep+learnin%2Caps%2C449&ref=nb_sb_noss_2)\n"
     ]
    },
    {
     "name": "stdout",
     "output_type": "stream",
     "text": [
      "38\n",
      "['\\n            \\n              80%\\n            \\n          '] 4.7 out of 5 stars 7 x 0.92 x 10 inches\n",
      "2\n",
      "Python Machine Learning: Machine Learning and Deep Learning with Python, scikit-learn, and TensorFlow 2, 3rd Edition\n",
      "Hands-On Deep Learning with Apache Spark: Build and deploy distributed deep learning applications on Apache Spark\n",
      "Modern Computer Vision with PyTorch: Explore deep learning concepts and implement over 50 real-world image applications\n",
      "Hands-On Machine Learning with C++: Build, train, and deploy end-to-end machine learning and deep learning pipelines\n",
      "Deep Learning with TensorFlow and Keras: Build and deploy supervised, unsupervised, deep, and reinforcement learning models, 3rd Edition\n",
      "Python Machine Learning - Second Edition: Machine Learning and Deep Learning with Python, scikit-learn, and TensorFlow\n",
      "Deep Reinforcement Learning with Python: Master classic RL, deep RL, distributional RL, inverse RL, and more with OpenAI Gym and TensorFlow, 2nd Edition\n",
      "Synthetic Data for Deep Learning (Springer Optimization and Its Applications, 174)\n",
      "Advanced Methods and Deep Learning in Computer Vision (Computer Vision and Pattern Recognition)\n",
      "Deep Learning for Radar and Communications Automatic Target Recognition\n",
      "Deep Learning: A Practitioner's Approach\n",
      "The StatQuest Illustrated Guide To Machine Learning\n",
      "Python Machine Learning: Machine Learning and Deep Learning with Python, scikit-learn, and TensorFlow 2, 3rd Edition\n",
      "MATLAB Deep Learning: With Machine Learning, Neural Networks and Artificial Intelligence\n",
      "Programming PyTorch for Deep Learning: Creating and Deploying Deep Learning Applications\n",
      "Deep Learning and the Game of Go\n",
      "Deep Learning for Radar and Communications Automatic Target Recognition\n",
      "Deep Learning with PyTorch Lightning: Swiftly build high-performance Artificial Intelligence (AI) models using Python\n"
     ]
    },
    {
     "name": "stderr",
     "output_type": "stream",
     "text": [
      "2022-09-18 02:21:17 [scrapy.core.engine] DEBUG: Crawled (200) <GET https://www.amazon.com/Deep-Learning-Life-Sciences-Microscopy/dp/1492039837/ref=sr_1_43?crid=2HX2SCFCK032L&keywords=deep+learning&qid=1663460453&sprefix=deep+learnin%2Caps%2C449&sr=8-43> (referer: https://www.amazon.com/s?k=deep+learning&crid=2HX2SCFCK032L&sprefix=deep+learnin%2Caps%2C449&ref=nb_sb_noss_2)\n"
     ]
    },
    {
     "name": "stdout",
     "output_type": "stream",
     "text": [
      "39\n",
      "['\\n            \\n              100%\\n            \\n          '] 5.0 out of 5 stars 8 x 0.65 x 10 inches\n",
      "Grokking Deep Learning\n",
      "Data Scientist Pocket Guide: Over 600 Concepts, Terminologies, and Processes of Machine Learning and Deep Learning Assembled Together (English Edition)\n",
      "The Little Learner: A Straight Line to Deep Learning\n",
      "Advanced Deep Learning with Python: Design and implement advanced next-generation AI solutions using TensorFlow and PyTorch\n",
      "Kid’s Presentation Notebook for Public Speaking Skills, Classical Conversations & Homeschool: Tips, Ideas, Presentation Outline & Inspiration\n",
      "PyTorch Pocket Reference: Building and Deploying Deep Learning Models\n",
      "Practical Deep Learning for Cloud, Mobile, and Edge: Real-World AI & Computer-Vision Projects Using Python, Keras & TensorFlow\n",
      "Advanced Deep Learning with TensorFlow 2 and Keras: Apply DL, GANs, VAEs, deep RL, unsupervised learning, object detection and segmentation, and more, 2nd Edition\n",
      "Deep Learning with PyTorch Lightning: Swiftly build high-performance Artificial Intelligence (AI) models using Python\n",
      "Modern Deep Learning for Tabular Data: Novel Approaches to Common Modeling Problems\n",
      "Deep Learning: A Comprehensive Guide to Python Coding and Programming Machine Learning and Neural Networks for Data Analysis (Python Programming Deep Learning)\n",
      "Probabilistic Deep Learning: With Python, Keras and TensorFlow Probability\n",
      "Transformers for Machine Learning: A Deep Dive (Chapman & Hall/CRC Machine Learning & Pattern Recognition)\n",
      "Hands-On Machine Learning with Scikit-Learn, Keras, and TensorFlow: Concepts, Tools, and Techniques to Build Intelligent Systems\n",
      "Artificial Intelligence with Python Cookbook: Proven recipes for applying AI algorithms and deep learning techniques using TensorFlow 2.x and PyTorch 1.6\n",
      "Memorable teaching: Leveraging memory to build deep and durable learning in the classroom (High Impact Teaching series)\n",
      "Deep Learning for Vision Systems\n",
      "Transformers for Natural Language Processing: Build, train, and fine-tune deep neural network architectures for NLP with Python, PyTorch, TensorFlow, BERT, and GPT-3, 2nd Edition\n",
      "Grokking Machine Learning\n",
      "Black Hat Python, 2nd Edition: Python Programming for Hackers and Pentesters\n",
      "Deep Learning from the Basics: Python and Deep Learning: Theory and Implementation\n",
      "Adversarial Deep Learning in Cybersecurity: Attack Taxonomies, Defence Mechanisms, and Learning Theories\n",
      "Python Machine Learning for Beginners: Learning from scratch NumPy, Pandas, Matplotlib, Seaborn, Scikitlearn, and TensorFlow for Machine Learning and ... Learning & Data Science for Beginners)\n",
      "Deep Learning with PyTorch Step-by-Step: A Beginner's Guide: Volume II: Computer Vision\n",
      "Deep Learning for Natural Language Processing\n",
      "DEFAULT LOAN PREDICTION BASED ON CUSTOMER BEHAVIOR Using Machine Learning and Deep Learning with Python\n",
      "Deep Learning with R\n",
      "Deep Learning: Artificial Neural Networks with Tensorflow 2 Online Course\n",
      "Guide to Deep Learning Basics: Logical, Historical and Philosophical Perspectives\n",
      "DEEP LEARNING WITH MATLAB\n",
      "Applied Deep Learning and Computer Vision for Self-Driving Cars: Build autonomous vehicles using deep neural networks and behavior-cloning techniques\n",
      "Building Machine Learning and Deep Learning Models on Google Cloud Platform: A Comprehensive Guide for Beginners\n",
      "A Guide to Machine Learning, Deep Learning, and their Applications\n",
      "Hands-On Python Natural Language Processing: Explore tools and techniques to analyze and process text with a view to building real-world NLP applications\n",
      "Practical Deep Reinforcement Learning with Python: Concise Implementation of Algorithms, Simplified Maths, and Effective Use of TensorFlow and PyTorch (English Edition)\n",
      "Deep Learning Based Image Processing: Recent Advances and Future Trends\n",
      "Deep Neural Evolution: Deep Learning with Evolutionary Computation (Natural Computing Series)\n",
      "Deep Learning with Azure: Building and Deploying Artificial Intelligence Solutions on the Microsoft AI Platform\n",
      "Deep Learning for NLP and Speech Recognition\n",
      "Oregon Nature Journal Book: Log Native Plants, Animals, Wildflowers and Birds - Fun Oregon Homeschool Activity Book with Coloring Pages and Nature Prompts\n",
      "Artificial Intelligence By Example: Acquire advanced AI, machine learning, and deep learning design skills, 2nd Edition\n",
      "Essentials of Deep Learning and AI: Experience Unsupervised Learning, Autoencoders, Feature Engineering, and Time Series Analysis with TensorFlow, Keras, and scikit-learn (English Edition)\n",
      "40\n",
      "['\\n            \\n              66%\\n            \\n          '] 4.2 out of 5 stars 7 x 0.5 x 9.19 inches\n"
     ]
    },
    {
     "name": "stderr",
     "output_type": "stream",
     "text": [
      "2022-09-18 02:21:19 [scrapy.core.engine] DEBUG: Crawled (200) <GET https://www.amazon.com/Time-Forecasting-using-Deep-Learning-ebook/dp/B09JL2B3YX/ref=sr_1_32?crid=2HX2SCFCK032L&keywords=deep+learning&qid=1663460453&sprefix=deep+learnin%2Caps%2C449&sr=8-32> (referer: https://www.amazon.com/s?k=deep+learning&crid=2HX2SCFCK032L&sprefix=deep+learnin%2Caps%2C449&ref=nb_sb_noss_2)\n",
      "2022-09-18 02:21:19 [scrapy.core.engine] DEBUG: Crawled (200) <GET https://www.amazon.com/Deep-Learning-Production-Sergios-Karagiannakos/dp/6180033773/ref=sr_1_29?crid=2HX2SCFCK032L&keywords=deep+learning&qid=1663460453&sprefix=deep+learnin%2Caps%2C449&sr=8-29> (referer: https://www.amazon.com/s?k=deep+learning&crid=2HX2SCFCK032L&sprefix=deep+learnin%2Caps%2C449&ref=nb_sb_noss_2)\n",
      "2022-09-18 02:21:19 [scrapy.core.engine] DEBUG: Crawled (200) <GET https://www.amazon.com/Math-Deep-Learning-Understand-Networks/dp/1718501900/ref=sr_1_31?crid=2HX2SCFCK032L&keywords=deep+learning&qid=1663460453&sprefix=deep+learnin%2Caps%2C449&sr=8-31> (referer: https://www.amazon.com/s?k=deep+learning&crid=2HX2SCFCK032L&sprefix=deep+learnin%2Caps%2C449&ref=nb_sb_noss_2)\n"
     ]
    },
    {
     "name": "stdout",
     "output_type": "stream",
     "text": [
      "41\n",
      "['\\n            \\n              55%\\n            \\n          '] 4.4 out of 5 stars None\n",
      "42\n",
      "['\\n            \\n              78%\\n            \\n          '] 4.7 out of 5 stars 7.5 x 0.53 x 9.25 inches\n"
     ]
    },
    {
     "name": "stderr",
     "output_type": "stream",
     "text": [
      "2022-09-18 02:21:20 [scrapy.core.engine] DEBUG: Crawled (200) <GET https://www.amazon.com/Introduction-Deep-Learning-MIT-Press/dp/0262039516/ref=sr_1_27?crid=2HX2SCFCK032L&keywords=deep+learning&qid=1663460453&sprefix=deep+learnin%2Caps%2C449&sr=8-27> (referer: https://www.amazon.com/s?k=deep+learning&crid=2HX2SCFCK032L&sprefix=deep+learnin%2Caps%2C449&ref=nb_sb_noss_2)\n",
      "2022-09-18 02:21:20 [scrapy.core.engine] DEBUG: Crawled (200) <GET https://www.amazon.com/Principles-Deep-Learning-Theory-Understanding/dp/1316519333/ref=sr_1_30?crid=2HX2SCFCK032L&keywords=deep+learning&qid=1663460453&sprefix=deep+learnin%2Caps%2C449&sr=8-30> (referer: https://www.amazon.com/s?k=deep+learning&crid=2HX2SCFCK032L&sprefix=deep+learnin%2Caps%2C449&ref=nb_sb_noss_2)\n",
      "2022-09-18 02:21:20 [scrapy.core.engine] DEBUG: Crawled (200) <GET https://www.amazon.com/Practical-Learning-Cloud-Mobile-Hands/dp/149203486X/ref=sr_1_36_sspa?crid=2HX2SCFCK032L&keywords=deep+learning&qid=1663460453&sprefix=deep+learnin%2Caps%2C449&sr=8-36-spons&psc=1> (referer: https://www.amazon.com/s?k=deep+learning&crid=2HX2SCFCK032L&sprefix=deep+learnin%2Caps%2C449&ref=nb_sb_noss_2)\n"
     ]
    },
    {
     "name": "stdout",
     "output_type": "stream",
     "text": [
      "43\n",
      "['\\n            \\n              74%\\n            \\n          '] 4.5 out of 5 stars 7.06 x 0.79 x 9.19 inches\n"
     ]
    },
    {
     "name": "stderr",
     "output_type": "stream",
     "text": [
      "2022-09-18 02:21:20 [scrapy.core.engine] DEBUG: Crawled (200) <GET https://www.amazon.com/Deep-Learning-Engage-World-Change/dp/1506368581/ref=sr_1_28?crid=2HX2SCFCK032L&keywords=deep+learning&qid=1663460453&sprefix=deep+learnin%2Caps%2C449&sr=8-28> (referer: https://www.amazon.com/s?k=deep+learning&crid=2HX2SCFCK032L&sprefix=deep+learnin%2Caps%2C449&ref=nb_sb_noss_2)\n"
     ]
    },
    {
     "name": "stdout",
     "output_type": "stream",
     "text": [
      "44\n",
      "['\\n            \\n              59%\\n            \\n          '] 4.0 out of 5 stars 9.1 x 7.1 x 0.8 inches\n",
      "45\n",
      "['\\n            \\n              86%\\n            \\n          '] 4.7 out of 5 stars 7 x 1 x 10 inches\n"
     ]
    },
    {
     "name": "stderr",
     "output_type": "stream",
     "text": [
      "2022-09-18 02:21:20 [scrapy.core.engine] DEBUG: Crawled (200) <GET https://www.amazon.com/Grokking-Deep-Learning-Andrew-Trask/dp/1617293709/ref=sr_1_25?crid=2HX2SCFCK032L&keywords=deep+learning&qid=1663460453&sprefix=deep+learnin%2Caps%2C449&sr=8-25> (referer: https://www.amazon.com/s?k=deep+learning&crid=2HX2SCFCK032L&sprefix=deep+learnin%2Caps%2C449&ref=nb_sb_noss_2)\n"
     ]
    },
    {
     "name": "stdout",
     "output_type": "stream",
     "text": [
      "46\n",
      "['\\n            \\n              84%\\n            \\n          '] 4.6 out of 5 stars 7 x 1.68 x 9.19 inches\n",
      "47\n",
      "['\\n            \\n              75%\\n            \\n          '] 4.5 out of 5 stars 7 x 0.47 x 10 inches\n"
     ]
    },
    {
     "name": "stderr",
     "output_type": "stream",
     "text": [
      "2022-09-18 02:21:21 [scrapy.downloadermiddlewares.redirect] DEBUG: Redirecting (302) to <GET https://www.amazon.com/Learning-Vision-Systems-Mohamed-Elgendy/dp/1617296198/ref=sr_1_83_sspa?crid=2HX2SCFCK032L&keywords=deep+learning&qid=1663460473&sprefix=deep+learnin%2Caps%2C449&sr=8-83-spons&psc=1> from <GET https://www.amazon.com/sspa/click?ie=UTF8&spc=MTozNjU4MTEyNDI0ODc2MTYyOjE2NjM0NjA0NzM6c3BfbXRmOjIwMDAzODM5NzEwNzU0MTo6MDo6&sp_csd=d2lkZ2V0TmFtZT1zcF9tdGY&url=%2FLearning-Vision-Systems-Mohamed-Elgendy%2Fdp%2F1617296198%2Fref%3Dsr_1_83_sspa%3Fcrid%3D2HX2SCFCK032L%26keywords%3Ddeep%2Blearning%26qid%3D1663460473%26sprefix%3Ddeep%2Blearnin%252Caps%252C449%26sr%3D8-83-spons%26psc%3D1>\n"
     ]
    },
    {
     "name": "stdout",
     "output_type": "stream",
     "text": [
      "48\n",
      "['\\n            \\n              72%\\n            \\n          '] 4.4 out of 5 stars 7.38 x 0.7 x 9.25 inches\n"
     ]
    },
    {
     "name": "stderr",
     "output_type": "stream",
     "text": [
      "2022-09-18 02:21:21 [scrapy.core.engine] DEBUG: Crawled (200) <GET https://www.amazon.com/Deep-Learning-TensorFlow-Keras-Regression/dp/1838823417/ref=sr_1_33_sspa?crid=2HX2SCFCK032L&keywords=deep+learning&qid=1663460453&sprefix=deep+learnin%2Caps%2C449&sr=8-33-spons&psc=1> (referer: https://www.amazon.com/s?k=deep+learning&crid=2HX2SCFCK032L&sprefix=deep+learnin%2Caps%2C449&ref=nb_sb_noss_2)\n",
      "2022-09-18 02:21:21 [scrapy.core.engine] DEBUG: Crawled (200) <GET https://www.amazon.com/Practical-Deep-Learning-Scale-MLflow/dp/1803241330/ref=sr_1_35_sspa?crid=2HX2SCFCK032L&keywords=deep+learning&qid=1663460453&sprefix=deep+learnin%2Caps%2C449&sr=8-35-spons&psc=1> (referer: https://www.amazon.com/s?k=deep+learning&crid=2HX2SCFCK032L&sprefix=deep+learnin%2Caps%2C449&ref=nb_sb_noss_2)\n",
      "2022-09-18 02:21:22 [scrapy.core.engine] DEBUG: Crawled (200) <GET https://www.amazon.com/Deep-Learning-Dummies-John-Mueller/dp/1119543045/ref=sr_1_24?crid=2HX2SCFCK032L&keywords=deep+learning&qid=1663460453&sprefix=deep+learnin%2Caps%2C449&sr=8-24> (referer: https://www.amazon.com/s?k=deep+learning&crid=2HX2SCFCK032L&sprefix=deep+learnin%2Caps%2C449&ref=nb_sb_noss_2)\n"
     ]
    },
    {
     "name": "stdout",
     "output_type": "stream",
     "text": [
      "49\n",
      "['\\n            \\n              71%\\n            \\n          '] 4.5 out of 5 stars 7.5 x 1.46 x 9.25 inches\n",
      "50\n",
      "['\\n            \\n              83%\\n            \\n          '] 4.8 out of 5 stars 7.5 x 0.65 x 9.25 inches\n"
     ]
    },
    {
     "name": "stderr",
     "output_type": "stream",
     "text": [
      "2022-09-18 02:21:22 [scrapy.core.engine] DEBUG: Crawled (200) <GET https://www.amazon.com/Deep-Learning-Python-Francois-Chollet/dp/1617294438/ref=sr_1_23?crid=2HX2SCFCK032L&keywords=deep+learning&qid=1663460453&sprefix=deep+learnin%2Caps%2C449&sr=8-23> (referer: https://www.amazon.com/s?k=deep+learning&crid=2HX2SCFCK032L&sprefix=deep+learnin%2Caps%2C449&ref=nb_sb_noss_2)\n"
     ]
    },
    {
     "name": "stdout",
     "output_type": "stream",
     "text": [
      "51\n",
      "['\\n            \\n              65%\\n            \\n          '] 4.5 out of 5 stars 7.4 x 0.9 x 9.1 inches\n"
     ]
    },
    {
     "name": "stderr",
     "output_type": "stream",
     "text": [
      "2022-09-18 02:21:22 [scrapy.core.engine] DEBUG: Crawled (200) <GET https://www.amazon.com/Deep-Generative-Modeling-Jakub-Tomczak/dp/3030931579/ref=sr_1_34_sspa?crid=2HX2SCFCK032L&keywords=deep+learning&qid=1663460453&sprefix=deep+learnin%2Caps%2C449&sr=8-34-spons&psc=1> (referer: https://www.amazon.com/s?k=deep+learning&crid=2HX2SCFCK032L&sprefix=deep+learnin%2Caps%2C449&ref=nb_sb_noss_2)\n"
     ]
    },
    {
     "name": "stdout",
     "output_type": "stream",
     "text": [
      "52\n",
      "['\\n            \\n              76%\\n            \\n          '] 4.6 out of 5 stars 7.38 x 0.8 x 9.25 inches\n"
     ]
    },
    {
     "name": "stderr",
     "output_type": "stream",
     "text": [
      "2022-09-18 02:21:23 [scrapy.core.engine] DEBUG: Crawled (200) <GET https://www.amazon.com/Essentials-Deep-Learning-Unsupervised-Autoencoders-ebook/dp/B09MK462W8/ref=sr_1_108?crid=2HX2SCFCK032L&keywords=deep+learning&qid=1663460473&sprefix=deep+learnin%2Caps%2C449&sr=8-108> (referer: https://www.amazon.com/s?k=deep+learning&page=2&crid=2HX2SCFCK032L&qid=1663460242&sprefix=deep+learnin%2Caps%2C449&ref=sr_pg_2)\n",
      "2022-09-18 02:21:23 [scrapy.core.engine] DEBUG: Crawled (200) <GET https://www.amazon.com/Generative-Deep-Learning-Teaching-Machines/dp/1492041947/ref=sr_1_22?crid=2HX2SCFCK032L&keywords=deep+learning&qid=1663460453&sprefix=deep+learnin%2Caps%2C449&sr=8-22> (referer: https://www.amazon.com/s?k=deep+learning&crid=2HX2SCFCK032L&sprefix=deep+learnin%2Caps%2C449&ref=nb_sb_noss_2)\n"
     ]
    },
    {
     "name": "stdout",
     "output_type": "stream",
     "text": [
      "53\n",
      "['\\n            \\n              100%\\n            \\n          '] 5.0 out of 5 stars 6.14 x 0.56 x 9.21 inches\n",
      "54\n",
      "['\\n            \\n              100%\\n            \\n          '] 5.0 out of 5 stars None\n"
     ]
    },
    {
     "name": "stderr",
     "output_type": "stream",
     "text": [
      "2022-09-18 02:21:26 [scrapy.core.engine] DEBUG: Crawled (200) <GET https://www.amazon.com/Deep-Learning-Revolution-audiobook/dp/B07MM8F42R/ref=sr_1_21?crid=2HX2SCFCK032L&keywords=deep+learning&qid=1663460453&sprefix=deep+learnin%2Caps%2C449&sr=8-21> (referer: https://www.amazon.com/s?k=deep+learning&crid=2HX2SCFCK032L&sprefix=deep+learnin%2Caps%2C449&ref=nb_sb_noss_2)\n",
      "2022-09-18 02:21:26 [scrapy.core.engine] DEBUG: Crawled (200) <GET https://www.amazon.com/Artificial-Intelligence-Example-advanced-learning/dp/1839211539/ref=sr_1_107?crid=2HX2SCFCK032L&keywords=deep+learning&qid=1663460473&sprefix=deep+learnin%2Caps%2C449&sr=8-107> (referer: https://www.amazon.com/s?k=deep+learning&page=2&crid=2HX2SCFCK032L&qid=1663460242&sprefix=deep+learnin%2Caps%2C449&ref=sr_pg_2)\n",
      "2022-09-18 02:21:26 [scrapy.core.engine] DEBUG: Crawled (200) <GET https://www.amazon.com/Oregon-Nature-Journal-Book-Wildflowers/dp/B0BDXQZZ14/ref=sr_1_106?crid=2HX2SCFCK032L&keywords=deep+learning&qid=1663460473&sprefix=deep+learnin%2Caps%2C449&sr=8-106> (referer: https://www.amazon.com/s?k=deep+learning&page=2&crid=2HX2SCFCK032L&qid=1663460242&sprefix=deep+learnin%2Caps%2C449&ref=sr_pg_2)\n",
      "2022-09-18 02:21:26 [scrapy.core.engine] DEBUG: Crawled (200) <GET https://www.amazon.com/Deep-Learning-NLP-Speech-Recognition/dp/3030145956/ref=sr_1_105?crid=2HX2SCFCK032L&keywords=deep+learning&qid=1663460473&sprefix=deep+learnin%2Caps%2C449&sr=8-105> (referer: https://www.amazon.com/s?k=deep+learning&page=2&crid=2HX2SCFCK032L&qid=1663460242&sprefix=deep+learnin%2Caps%2C449&ref=sr_pg_2)\n"
     ]
    },
    {
     "name": "stdout",
     "output_type": "stream",
     "text": [
      "start_new_page\n",
      "55\n",
      "['\\n            \\n              76%\\n            \\n          '] 4.5 out of 5 stars 7.01 x 0.69 x 9.17 inches\n"
     ]
    },
    {
     "name": "stderr",
     "output_type": "stream",
     "text": [
      "2022-09-18 02:21:26 [scrapy.core.engine] DEBUG: Crawled (200) <GET https://www.amazon.com/Deep-Learning-Based-Image-Processing/dp/9994982559/ref=sr_1_102?crid=2HX2SCFCK032L&keywords=deep+learning&qid=1663460473&sprefix=deep+learnin%2Caps%2C449&sr=8-102> (referer: https://www.amazon.com/s?k=deep+learning&page=2&crid=2HX2SCFCK032L&qid=1663460242&sprefix=deep+learnin%2Caps%2C449&ref=sr_pg_2)\n",
      "2022-09-18 02:21:26 [scrapy.core.engine] DEBUG: Crawled (200) <GET https://www.amazon.com/Deep-Learning-Azure-Artificial-Intelligence-ebook/dp/B07FP8P5R8/ref=sr_1_104?crid=2HX2SCFCK032L&keywords=deep+learning&qid=1663460473&sprefix=deep+learnin%2Caps%2C449&sr=8-104> (referer: https://www.amazon.com/s?k=deep+learning&page=2&crid=2HX2SCFCK032L&qid=1663460242&sprefix=deep+learnin%2Caps%2C449&ref=sr_pg_2)\n",
      "2022-09-18 02:21:26 [scrapy.core.engine] DEBUG: Crawled (200) <GET https://www.amazon.com/Deep-Neural-Evolution-Evolutionary-Computation/dp/9811536872/ref=sr_1_103?crid=2HX2SCFCK032L&keywords=deep+learning&qid=1663460473&sprefix=deep+learnin%2Caps%2C449&sr=8-103> (referer: https://www.amazon.com/s?k=deep+learning&page=2&crid=2HX2SCFCK032L&qid=1663460242&sprefix=deep+learnin%2Caps%2C449&ref=sr_pg_2)\n",
      "2022-09-18 02:21:26 [scrapy.core.engine] DEBUG: Crawled (200) <GET https://www.amazon.com/Practical-Deep-Reinforcement-Learning-Python-ebook/dp/B0B6PFXJSF/ref=sr_1_101?crid=2HX2SCFCK032L&keywords=deep+learning&qid=1663460473&sprefix=deep+learnin%2Caps%2C449&sr=8-101> (referer: https://www.amazon.com/s?k=deep+learning&page=2&crid=2HX2SCFCK032L&qid=1663460242&sprefix=deep+learnin%2Caps%2C449&ref=sr_pg_2)\n"
     ]
    },
    {
     "name": "stdout",
     "output_type": "stream",
     "text": [
      "56\n",
      "['\\n            \\n              63%\\n            \\n          '] 4.2 out of 5 stars None\n",
      "57\n",
      "['\\n            \\n              68%\\n            \\n          '] 4.2 out of 5 stars 7.5 x 1.31 x 9.25 inches\n",
      "58\n",
      "[] None 8 x 0.2 x 10 inches\n",
      "59\n",
      "['\\n            \\n              77%\\n            \\n          '] 4.6 out of 5 stars 7 x 1.38 x 10 inches\n",
      "60\n",
      "['\\n            \\n              100%\\n            \\n          '] 5.0 out of 5 stars 6.1 x 1.07 x 9.25 inches\n",
      "[['The Science of Deep Learning', ['by ', 'Iddo Drori'], '$59.99', '450 pages', None, None, [], [], [], [], [], '6.89 x 0.79 x 9.84 inches', '1.8 pounds', 'English', 'Cambridge University Press; New edition (November 3, 2022)', ' 978-1108835084', '/Science-Deep-Learning-Iddo-Drori/dp/1108835082/ref=sr_1_9?crid=2HX2SCFCK032L&keywords=deep+learning&qid=1663460453&sprefix=deep+learnin%2Caps%2C449&sr=8-9'], ['Inside Deep Learning: Math, Algorithms, Models', ['by ', 'Edward Raff'], '$45.20', '600 pages', '5.0 out of 5 stars', '6 ratings', ['\\n            \\n              100%\\n            \\n          '], [], [], [], [], '7.38 x 1.7 x 9.25 inches', '2.7 pounds', 'English', 'Manning; Annotated edition (May 31, 2022)', ' 978-1617298639', '/Inside-Deep-Learning-Algorithms-Models/dp/1617298638/ref=sr_1_12?crid=2HX2SCFCK032L&keywords=deep+learning&qid=1663460453&sprefix=deep+learnin%2Caps%2C449&sr=8-12'], ['Mathematical Aspects of Deep Learning', ['by ', 'Philipp Grohs', ' and ', 'Gitta Kutyniok'], '$89.99', '485 pages', None, None, [], [], [], [], [], None, '1.74 pounds', 'English', 'Cambridge University Press; New edition (February 28, 2023)', ' 978-1316516782', '/Mathematical-Aspects-Learning-Philipp-Grohs/dp/1316516784/ref=sr_1_10?crid=2HX2SCFCK032L&keywords=deep+learning&qid=1663460453&sprefix=deep+learnin%2Caps%2C449&sr=8-10'], ['Deep Learning for Coders with Fastai and PyTorch: AI Applications Without a PhD', ['by ', 'Jeremy Howard', ' and ', 'Sylvain Gugger'], '$36.99', '624 pages', '4.8 out of 5 stars', '418 ratings', ['\\n            \\n              86%\\n            \\n          '], ['\\n            \\n              8%\\n            \\n          '], ['\\n            \\n              3%\\n            \\n          '], ['\\n            \\n              1%\\n            \\n          '], ['\\n            \\n              1%\\n            \\n          '], '6.9 x 1.1 x 9.1 inches', '2.05 pounds', 'English', \"O'Reilly Media; 1st edition (August 11, 2020)\", ' 978-1492045526', '/Deep-Learning-Coders-fastai-PyTorch/dp/1492045527/ref=sr_1_8?crid=2HX2SCFCK032L&keywords=deep+learning&qid=1663460453&sprefix=deep+learnin%2Caps%2C449&sr=8-8'], [\"Deep Learning with PyTorch Step-by-Step: A Beginner's Guide: Volume I: Fundamentals\", [' '], ' $3.94 ', '282 pages', '5.0 out of 5 stars', '10 ratings', ['\\n            \\n              100%\\n            \\n          '], [], [], [], [], None, None, 'English', None, None, '/Deep-Learning-PyTorch-Step-Step-ebook/dp/B09R144ZC2/ref=sr_1_13?crid=2HX2SCFCK032L&keywords=deep+learning&qid=1663460453&sprefix=deep+learnin%2Caps%2C449&sr=8-13'], ['Practical Deep Learning: A Python-Based Introduction', ['by ', 'Ronald T. Kneusel'], '$36.54', '464 pages', '4.8 out of 5 stars', '35 ratings', ['\\n            \\n              85%\\n            \\n          '], ['\\n            \\n              15%\\n            \\n          '], [], [], [], '7.06 x 1.13 x 9.25 inches', '1.94 pounds', 'English', 'No Starch Press (February 23, 2021)', ' 978-1718500747', '/Deep-Learning-Beginners-Python-Based-Introduction/dp/1718500742/ref=sr_1_11?crid=2HX2SCFCK032L&keywords=deep+learning&qid=1663460453&sprefix=deep+learnin%2Caps%2C449&sr=8-11'], ['Deep Learning with PyTorch: Build, train, and tune neural networks using Python tools', ['by ', 'Eli Stevens', ', ', 'Luca Antiga', ', et al.'], '$36.26', '520 pages', '4.4 out of 5 stars', '93 ratings', ['\\n            \\n              72%\\n            \\n          '], ['\\n            \\n              9%\\n            \\n          '], ['\\n            \\n              9%\\n            \\n          '], ['\\n            \\n              7%\\n            \\n          '], ['\\n            \\n              4%\\n            \\n          '], '7.38 x 1 x 9.25 inches', '1.98 pounds', 'English', 'Manning; 1st edition (August 4, 2020)', ' 978-1617295263', '/Deep-Learning-PyTorch-Eli-Stevens/dp/1617295264/ref=sr_1_15?crid=2HX2SCFCK032L&keywords=deep+learning&qid=1663460453&sprefix=deep+learnin%2Caps%2C449&sr=8-15'], ['Deep Learning from Scratch: Building with Python from First Principles', ['by ', 'Seth Weidman'], '$38.99', '252 pages', '4.4 out of 5 stars', '79 ratings', ['\\n            \\n              66%\\n            \\n          '], ['\\n            \\n              18%\\n            \\n          '], ['\\n            \\n              8%\\n            \\n          '], ['\\n            \\n              4%\\n            \\n          '], ['\\n            \\n              4%\\n            \\n          '], '7 x 0.53 x 9.19 inches', '14.4 ounces', 'English', \"O'Reilly Media; 1st edition (October 1, 2019)\", ' 978-9352139026', '/Deep-Learning-Scratch-Building-Principles/dp/1492041416/ref=sr_1_14?crid=2HX2SCFCK032L&keywords=deep+learning&qid=1663460453&sprefix=deep+learnin%2Caps%2C449&sr=8-14'], ['Learning Deep Learning: Theory and Practice of Neural Networks, Computer Vision, Natural Language Processing, and Transformers Using TensorFlow', ['by ', 'Magnus Ekman'], '$53.23', '752 pages', '4.7 out of 5 stars', '66 ratings', ['\\n            \\n              84%\\n            \\n          '], ['\\n            \\n              6%\\n            \\n          '], ['\\n            \\n              5%\\n            \\n          '], ['\\n            \\n              3%\\n            \\n          '], ['\\n            \\n              2%\\n            \\n          '], '7.3 x 1.1 x 9 inches', '2.43 pounds', 'English', 'Addison-Wesley Professional; 1st edition (August 17, 2021)', ' 978-0137470358', '/Learning-Deep-Processing-Transformers-TensorFlow/dp/0137470355/ref=sr_1_7?crid=2HX2SCFCK032L&keywords=deep+learning&qid=1663460453&sprefix=deep+learnin%2Caps%2C449&sr=8-7'], ['Deep Learning: A Visual Approach', ['by ', 'Andrew Glassner'], '$56.99', '776 pages', '4.7 out of 5 stars', '90 ratings', ['\\n            \\n              86%\\n            \\n          '], ['\\n            \\n              5%\\n            \\n          '], ['\\n            \\n              3%\\n            \\n          '], ['\\n            \\n              2%\\n            \\n          '], ['\\n            \\n              5%\\n            \\n          '], '7.06 x 1.34 x 9.25 inches', '3.7 pounds', 'English', 'No Starch Press; Illustrated edition (June 29, 2021)', ' 978-1718500723', '/Deep-Learning-Approach-Andrew-Glassner/dp/1718500726/ref=sr_1_5?crid=2HX2SCFCK032L&keywords=deep+learning&qid=1663460453&sprefix=deep+learnin%2Caps%2C449&sr=8-5'], ['Deep Learning with Python, Second Edition', ['by ', 'Francois Chollet'], '$37.23', '504 pages', '4.6 out of 5 stars', '148 ratings', ['\\n            \\n              82%\\n            \\n          '], ['\\n            \\n              9%\\n            \\n          '], ['\\n            \\n              3%\\n            \\n          '], ['\\n            \\n              3%\\n            \\n          '], ['\\n            \\n              3%\\n            \\n          '], '7.38 x 1.4 x 9.25 inches', '2.3 pounds', 'English', 'Manning; 2nd edition (December 21, 2021)', ' 978-1617296864', '/Learning-Python-Second-Fran%C3%A7ois-Chollet/dp/1617296864/ref=sr_1_4?crid=2HX2SCFCK032L&keywords=deep+learning&qid=1663460453&sprefix=deep+learnin%2Caps%2C449&sr=8-4'], ['Deep Learning (The MIT Press Essential Knowledge series)', [' '], '$13.99', '296 pages', '4.5 out of 5 stars', '305 ratings', ['\\n            \\n              67%\\n            \\n          '], ['\\n            \\n              18%\\n            \\n          '], ['\\n            \\n              10%\\n            \\n          '], ['\\n            \\n              4%\\n            \\n          '], ['\\n            \\n              1%\\n            \\n          '], '5.06 x 0.74 x 6.94 inches', '9.3 ounces', 'English', 'The MIT Press; Illustrated edition (September 10, 2019)', ' 978-0262537551', '/Deep-Learning-Press-Essential-Knowledge/dp/0262537559/ref=sr_1_6?crid=2HX2SCFCK032L&keywords=deep+learning&qid=1663460453&sprefix=deep+learnin%2Caps%2C449&sr=8-6'], ['Deep Learning (Adaptive Computation and Machine Learning series)', [' '], '$54.25', '800 pages', '4.3 out of 5 stars', '1,862 ratings', ['\\n            \\n              73%\\n            \\n          '], ['\\n            \\n              10%\\n            \\n          '], ['\\n            \\n              5%\\n            \\n          '], ['\\n            \\n              4%\\n            \\n          '], ['\\n            \\n              8%\\n            \\n          '], '9.1 x 7.2 x 1.1 inches', '2.54 pounds', 'English', 'The MIT Press; Illustrated edition (November 18, 2016)', ' 978-0262035613', '/Deep-Learning-Adaptive-Computation-Machine/dp/0262035618/ref=sr_1_3?crid=2HX2SCFCK032L&keywords=deep+learning&qid=1663460453&sprefix=deep+learnin%2Caps%2C449&sr=8-3'], ['Deep Learning Illustrated: A Visual, Interactive Guide to Artificial Intelligence (Addison-Wesley Data & Analytics Series)', [' '], '$44.39', '416 pages', '4.5 out of 5 stars', '189 ratings', ['\\n            \\n              76%\\n            \\n          '], ['\\n            \\n              11%\\n            \\n          '], ['\\n            \\n              3%\\n            \\n          '], ['\\n            \\n              4%\\n            \\n          '], ['\\n            \\n              5%\\n            \\n          '], '7 x 0.95 x 9.05 inches', '1.28 pounds', 'English', 'Addison-Wesley Professional; 1st edition (September 18, 2019)', ' 978-0135116692', '/Deep-Learning-Illustrated-Intelligence-Addison-Wesley/dp/0135116694/ref=sr_1_26?crid=2HX2SCFCK032L&keywords=deep+learning&qid=1663460453&sprefix=deep+learnin%2Caps%2C449&sr=8-26'], ['Deep Learning: Convolutional Neural Networks with Tensorflow 2 Online Course', ['by ', 'Lazy Programmer'], None, None, None, None, [], [], [], [], [], None, None, None, None, None, '/Deep-Learning-Convolutional-Networks-Tensorflow/dp/B0BDLBS1DF/ref=sr_1_54?crid=2HX2SCFCK032L&keywords=deep+learning&qid=1663460453&sprefix=deep+learnin%2Caps%2C449&sr=8-54'], ['Deep Learning from Scratch: Building with Python from First Principles', ['by ', 'Seth Weidman'], '$38.99', '252 pages', '4.4 out of 5 stars', '79 ratings', ['\\n            \\n              66%\\n            \\n          '], ['\\n            \\n              18%\\n            \\n          '], ['\\n            \\n              8%\\n            \\n          '], ['\\n            \\n              4%\\n            \\n          '], ['\\n            \\n              4%\\n            \\n          '], '7 x 0.53 x 9.19 inches', '14.4 ounces', 'English', \"O'Reilly Media; 1st edition (October 1, 2019)\", ' 978-9352139026', '/sspa/click?ie=UTF8&spc=MToxMjU1NDM5NTIwMjk1OTM0OjE2NjM0NjA0NTM6c3BfYXRmOjIwMDA3MTA0OTM1OTA5ODo6MDo6&sp_csd=d2lkZ2V0TmFtZT1zcF9hdGY&url=%2FDeep-Learning-Scratch-Building-Principles%2Fdp%2F1492041416%2Fref%3Dsr_1_1_sspa%3Fcrid%3D2HX2SCFCK032L%26keywords%3Ddeep%2Blearning%26qid%3D1663460453%26sprefix%3Ddeep%2Blearnin%252Caps%252C449%26sr%3D8-1-spons%26psc%3D1'], ['Deep Learning Architectures: A Mathematical Approach (Springer Series in the Data Sciences)', [' '], '$58.99', '790 pages', '4.2 out of 5 stars', '14 ratings', ['\\n            \\n              66%\\n            \\n          '], ['\\n            \\n              15%\\n            \\n          '], ['\\n            \\n              10%\\n            \\n          '], ['\\n            \\n              9%\\n            \\n          '], [], '6.14 x 1.57 x 9.21 inches', '3.26 pounds', 'English', 'Springer; 1st ed. 2020 edition (February 14, 2021)', ' 978-3030367237', '/Deep-Learning-Architectures-Mathematical-Approach/dp/3030367231/ref=sr_1_58?crid=2HX2SCFCK032L&keywords=deep+learning&qid=1663460453&sprefix=deep+learnin%2Caps%2C449&sr=8-58'], ['Foundations of Deep Reinforcement Learning: Theory and Practice in Python (Addison-Wesley Data & Analytics Series)', [' '], '$45.59', '416 pages', '4.4 out of 5 stars', '82 ratings', ['\\n            \\n              69%\\n            \\n          '], ['\\n            \\n              19%\\n            \\n          '], ['\\n            \\n              4%\\n            \\n          '], ['\\n            \\n              5%\\n            \\n          '], ['\\n            \\n              4%\\n            \\n          '], '6.93 x 0.71 x 9.21 inches', '1.32 pounds', 'English', 'Addison-Wesley Professional; 1st edition (December 5, 2019)', ' 978-0135172384', '/Deep-Reinforcement-Learning-Python-Hands/dp/0135172381/ref=sr_1_53?crid=2HX2SCFCK032L&keywords=deep+learning&qid=1663460453&sprefix=deep+learnin%2Caps%2C449&sr=8-53'], ['Dive Into Deep Learning: Tools for Engagement', ['by ', 'Joanne Quinn', ', ', 'Joanne J. McEachen', ', et al.'], '$38.95', '296 pages', '4.7 out of 5 stars', '36 ratings', ['\\n            \\n              81%\\n            \\n          '], ['\\n            \\n              10%\\n            \\n          '], ['\\n            \\n              8%\\n            \\n          '], [], [], '8.4 x 0.7 x 10.9 inches', '1.79 pounds', 'English', 'Corwin; First edition (August 20, 2019)', ' 978-1544361376', '/Dive-Into-Deep-Learning-Engagement/dp/1544361378/ref=sr_1_56?crid=2HX2SCFCK032L&keywords=deep+learning&qid=1663460453&sprefix=deep+learnin%2Caps%2C449&sr=8-56'], ['Fundamentals of Deep Learning: Designing Next-Generation Machine Intelligence Algorithms', ['by ', 'Nithin Buduma', ', ', 'Joe Papa', ', et al.'], '$50.99', '387 pages', None, None, [], [], [], [], [], '7 x 0.75 x 9.25 inches', '1.4 pounds', 'English', \"O'Reilly Media; 2nd edition (June 21, 2022)\", ' 978-1492082187', '/sspa/click?ie=UTF8&spc=MToxMjU1NDM5NTIwMjk1OTM0OjE2NjM0NjA0NTM6c3BfYXRmOjIwMDA3MTA0OTM1ODk5ODo6MDo6&sp_csd=d2lkZ2V0TmFtZT1zcF9hdGY&url=%2FFundamentals-Deep-Learning-Next-Generation-Intelligence%2Fdp%2F149208218X%2Fref%3Dsr_1_2_sspa%3Fcrid%3D2HX2SCFCK032L%26keywords%3Ddeep%2Blearning%26qid%3D1663460453%26sprefix%3Ddeep%2Blearnin%252Caps%252C449%26sr%3D8-2-spons%26psc%3D1'], ['Deep Learning with TensorFlow 2 and Keras: Regression, ConvNets, GANs, RNNs, NLP, and more with TensorFlow 2 and the Keras API, 2nd Edition', ['by ', 'Antonio Gulli', ', ', 'Amita Kapoor', ', et al.'], '$33.21', '646 pages', '4.5 out of 5 stars', '116 ratings', ['\\n            \\n              71%\\n            \\n          '], ['\\n            \\n              17%\\n            \\n          '], ['\\n            \\n              5%\\n            \\n          '], ['\\n            \\n              4%\\n            \\n          '], ['\\n            \\n              3%\\n            \\n          '], '7.5 x 1.46 x 9.25 inches', '2.41 pounds', 'English', 'Packt Publishing (December 27, 2019)', ' 978-1838823412', '/Deep-Learning-TensorFlow-Keras-Regression/dp/1838823417/ref=sr_1_57?crid=2HX2SCFCK032L&keywords=deep+learning&qid=1663460453&sprefix=deep+learnin%2Caps%2C449&sr=8-57'], ['HR Analytics Essentials You Always Wanted To Know (Self-Learning Management Series)', [' '], ' $38.99 ', '218 pages', '4.2 out of 5 stars', '56 ratings', ['\\n            \\n              62%\\n            \\n          '], ['\\n            \\n              17%\\n            \\n          '], ['\\n            \\n              8%\\n            \\n          '], ['\\n            \\n              5%\\n            \\n          '], ['\\n            \\n              7%\\n            \\n          '], '8.5 x 5.5 x 0.6 inches', '9.3 ounces', 'English', ' is focused on presenting the best texts for learning about technology and business as well as books for test preparation. Categories include programming, operating systems and other texts focused on IT. In addition, a series of books helps professionals in their own disciplines learn the business skills needed in their professional growth.', None, '/Analytics-Essentials-Always-Self-Learning-Management/dp/1636510345/ref=sr_1_55?crid=2HX2SCFCK032L&keywords=deep+learning&qid=1663460453&sprefix=deep+learnin%2Caps%2C449&sr=8-55'], ['Deep Learning with JavaScript: Neural networks in TensorFlow.js', ['by ', 'Shanqing Cai', ', ', 'Stan Bileschi', ', et al.'], '$43.49', '560 pages', '4.8 out of 5 stars', '28 ratings', ['\\n            \\n              85%\\n            \\n          '], ['\\n            \\n              12%\\n            \\n          '], ['\\n            \\n              3%\\n            \\n          '], [], [], '7.38 x 1.1 x 9.25 inches', '2.16 pounds', 'English', 'Manning; 1st edition (February 11, 2020)', ' 978-1617296178', '/Deep-Learning-JavaScript-networks-TensorFlow-js/dp/1617296171/ref=sr_1_50?crid=2HX2SCFCK032L&keywords=deep+learning&qid=1663460453&sprefix=deep+learnin%2Caps%2C449&sr=8-50'], ['Practical Deep Reinforcement Learning with Python: Concise Implementation of Algorithms, Simplified Maths, and Effective Use of TensorFlow and PyTorch (English Edition)', ['by ', 'Ivan Gridin'], ' $29.95 ', '398 pages', '5.0 out of 5 stars', '2 ratings', ['\\n            \\n              100%\\n            \\n          '], [], [], [], [], '7.5 x 0.9 x 9.25 inches', '1.52 pounds', 'English', 'BPB Publications (July 15, 2022)', None, '/sspa/click?ie=UTF8&spc=MToxMjU1NDM5NTIwMjk1OTM0OjE2NjM0NjA0NTM6c3BfYnRmOjIwMDA4MDM0Nzk2NzQ5ODo6MDo6&sp_csd=d2lkZ2V0TmFtZT1zcF9idGY&url=%2FPractical-Deep-Reinforcement-Learning-Python%2Fdp%2F9355512058%2Fref%3Dsr_1_60_sspa%3Fcrid%3D2HX2SCFCK032L%26keywords%3Ddeep%2Blearning%26qid%3D1663460453%26sprefix%3Ddeep%2Blearnin%252Caps%252C449%26sr%3D8-60-spons%26psc%3D1'], ['Deep Learning in Science', ['by ', 'Pierre Baldi'], '$47.55', '450 pages', '4.7 out of 5 stars', '4 ratings', ['\\n            \\n              70%\\n            \\n          '], ['\\n            \\n              30%\\n            \\n          '], [], [], [], '7.8 x 0.8 x 9.8 inches', '2.03 pounds', 'English', 'Cambridge University Press; 1st edition (July 1, 2021)', ' 978-1108845359', '/Deep-Learning-Science-Pierre-Baldi/dp/1108845355/ref=sr_1_51?crid=2HX2SCFCK032L&keywords=deep+learning&qid=1663460453&sprefix=deep+learnin%2Caps%2C449&sr=8-51'], ['Deep Learning Interviews: Hundreds of fully solved job interview questions from a wide range of key topics in AI.', ['by ', 'Shlomo Kashani', ' and ', 'Amir Ivry'], ' $18.00 ', ' almost 400 pages', '3.6 out of 5 stars', '47 ratings', ['\\n            \\n              49%\\n            \\n          '], ['\\n            \\n              7%\\n            \\n          '], ['\\n            \\n              13%\\n            \\n          '], ['\\n            \\n              14%\\n            \\n          '], ['\\n            \\n              17%\\n            \\n          '], '7.5 x 0.91 x 9.25 inches', '1.65 pounds', 'English', 'Interviews AI (December 3, 2020)', None, '/Deep-Learning-Interviews-interview-questions/dp/1916243568/ref=sr_1_52?crid=2HX2SCFCK032L&keywords=deep+learning&qid=1663460453&sprefix=deep+learnin%2Caps%2C449&sr=8-52'], ['Applied Deep Learning and Computer Vision for Self-Driving Cars: Build autonomous vehicles using deep neural networks and behavior-cloning techniques', ['by ', 'Sumit Ranjan', ' and ', 'Dr. S. Senthamilarasu'], '$44.99', '332 pages', '3.8 out of 5 stars', '23 ratings', ['\\n            \\n              50%\\n            \\n          '], ['\\n            \\n              15%\\n            \\n          '], ['\\n            \\n              16%\\n            \\n          '], ['\\n            \\n              7%\\n            \\n          '], ['\\n            \\n              12%\\n            \\n          '], '7.5 x 0.75 x 9.25 inches', '1.26 pounds', 'English', 'Packt Publishing (August 14, 2020)', ' 978-1838646301', '/sspa/click?ie=UTF8&spc=MToxMjU1NDM5NTIwMjk1OTM0OjE2NjM0NjA0NTM6c3BfYnRmOjIwMDAzNjc5MzA1Njk3MTo6MDo6&sp_csd=d2lkZ2V0TmFtZT1zcF9idGY&url=%2FApplied-Learning-Computer-Vision-Self-Driving%2Fdp%2F1838646302%2Fref%3Dsr_1_59_sspa%3Fcrid%3D2HX2SCFCK032L%26keywords%3Ddeep%2Blearning%26qid%3D1663460453%26sprefix%3Ddeep%2Blearnin%252Caps%252C449%26sr%3D8-59-spons%26psc%3D1'], ['Deep Learning for Vision Systems', ['by ', 'Mohamed Elgendy'], '$39.49', '480 pages', '4.8 out of 5 stars', '53 ratings', ['\\n            \\n              85%\\n            \\n          '], ['\\n            \\n              10%\\n            \\n          '], ['\\n            \\n              5%\\n            \\n          '], [], [], '7.38 x 1 x 9.25 inches', '1.94 pounds', 'English', 'Manning; 1st edition (November 10, 2020)', ' 978-1617296192', '/Learning-Vision-Systems-Mohamed-Elgendy/dp/1617296198/ref=sr_1_47?crid=2HX2SCFCK032L&keywords=deep+learning&qid=1663460453&sprefix=deep+learnin%2Caps%2C449&sr=8-47'], ['Deep Reinforcement Learning Hands-On: Apply modern RL methods to practical problems of chatbots, robotics, discrete optimization, web automation, and more, 2nd Edition', ['by ', 'Maxim Lapan'], '$54.99', '826 pages', '4.5 out of 5 stars', '143 ratings', ['\\n            \\n              75%\\n            \\n          '], ['\\n            \\n              14%\\n            \\n          '], ['\\n            \\n              5%\\n            \\n          '], ['\\n            \\n              3%\\n            \\n          '], ['\\n            \\n              4%\\n            \\n          '], '7.5 x 1.87 x 9.25 inches', '3.07 pounds', 'English', 'Packt Publishing; 2nd edition (January 31, 2020)', ' 978-1838826994', '/Deep-Reinforcement-Learning-Hands-optimization/dp/1838826998/ref=sr_1_49?crid=2HX2SCFCK032L&keywords=deep+learning&qid=1663460453&sprefix=deep+learnin%2Caps%2C449&sr=8-49'], ['Modern Computer Vision with PyTorch: Explore deep learning concepts and implement over 50 real-world image applications', ['by ', 'V Kishore Ayyadevara', ' and ', 'Yeshwanth Reddy'], '$48.84', '824 pages', '4.6 out of 5 stars', '51 ratings', ['\\n            \\n              82%\\n            \\n          '], ['\\n            \\n              12%\\n            \\n          '], ['\\n            \\n              6%\\n            \\n          '], [], [], '7.5 x 1.86 x 9.25 inches', '3.06 pounds', 'English', 'Packt Publishing (November 27, 2020)', ' 978-1839213472', '/Modern-Computer-Vision-PyTorch-applications/dp/1839213477/ref=sr_1_48?crid=2HX2SCFCK032L&keywords=deep+learning&qid=1663460453&sprefix=deep+learnin%2Caps%2C449&sr=8-48'], ['Algorithms and Data Structures for Massive Datasets', ['by ', 'Dzejla Medjedovic', ', ', 'Emin Tahirovic', ', et al.'], '$59.99', '304 pages', '3.8 out of 5 stars', '3 ratings', ['\\n            \\n              38%\\n            \\n          '], ['\\n            \\n              62%\\n            \\n          '], [], [], [], '7.38 x 0.8 x 9.25 inches', '1.02 pounds', 'English', 'Manning (July 5, 2022)', ' 978-1617298035', '/Algorithms-Data-Structures-Massive-Datasets/dp/1617298034/ref=sr_1_45?crid=2HX2SCFCK032L&keywords=deep+learning&qid=1663460453&sprefix=deep+learnin%2Caps%2C449&sr=8-45'], ['Deep Learning with R, Second Edition', ['by ', 'Francois Chollet', ', ', 'Tomasz Kalinowski', ', et al.'], ' $50.68 ', None, None, None, [], [], [], [], [], None, None, 'English', 'Manning (September 13, 2022)', None, '/Deep-Learning-Second-Francois-Chollet-ebook/dp/B0B69GPTLY/ref=sr_1_46?crid=2HX2SCFCK032L&keywords=deep+learning&qid=1663460453&sprefix=deep+learnin%2Caps%2C449&sr=8-46'], ['Synthetic Data for Deep Learning: Generate Synthetic Data for Decision Making and Applications with Python and R', ['by ', 'Necmi Gürsakal', ', ', 'Sadullah Çelik', ', et al.'], '$44.99', '250 pages', None, None, [], [], [], [], [], None, '1.11 pounds', 'English', 'Apress; 1st ed. edition (November 18, 2022)', ' 978-1484285862', '/Synthetic-Data-Deep-Learning-Applications/dp/1484285867/ref=sr_1_42?crid=2HX2SCFCK032L&keywords=deep+learning&qid=1663460453&sprefix=deep+learnin%2Caps%2C449&sr=8-42'], ['Geometry of Deep Learning: A Signal Processing Perspective (Mathematics in Industry, 37)', ['by ', 'Jong Chul Ye'], '$66.27', '346 pages', '3.6 out of 5 stars', '6 ratings', ['\\n            \\n              60%\\n            \\n          '], ['\\n            \\n              20%\\n            \\n          '], ['\\n            \\n              20%\\n            \\n          '], [], [], '6.14 x 0.81 x 9.21 inches', '1.52 pounds', 'English', 'Springer; 1st ed. 2022 edition (January 6, 2022)', ' 978-9811660450', '/Geometry-Deep-Learning-Perspective-Mathematics/dp/981166045X/ref=sr_1_44?crid=2HX2SCFCK032L&keywords=deep+learning&qid=1663460453&sprefix=deep+learnin%2Caps%2C449&sr=8-44'], ['Machine Learning with PyTorch and Scikit-Learn: Develop machine learning and deep learning models with Python', ['by ', 'Sebastian Raschka', ', ', 'Yuxi (Hayden) Liu', ', et al.'], '$46.79', '770 pages', '4.7 out of 5 stars', '135 ratings', ['\\n            \\n              82%\\n            \\n          '], ['\\n            \\n              10%\\n            \\n          '], ['\\n            \\n              5%\\n            \\n          '], ['\\n            \\n              1%\\n            \\n          '], ['\\n            \\n              2%\\n            \\n          '], '7.5 x 1.74 x 9.25 inches', '2.86 pounds', 'English', 'Packt Publishing (February 25, 2022)', ' 978-1801819312', '/Machine-Learning-PyTorch-Scikit-Learn-learning/dp/1801819319/ref=sr_1_37?crid=2HX2SCFCK032L&keywords=deep+learning&qid=1663460453&sprefix=deep+learnin%2Caps%2C449&sr=8-37'], ['Production-Ready Applied Deep Learning: Learn how to construct and deploy complex models in PyTorch and TensorFlow deep learning frameworks', ['by ', 'Tomasz Palczewski', ', ', 'Jaejun (Brandon) Lee', ', et al.'], '$47.49', '322 pages', None, None, [], [], [], [], [], '7.5 x 0.73 x 9.25 inches', '1.22 pounds', 'English', 'Packt Publishing (August 30, 2022)', ' 978-1803243665', '/Production-Ready-Applied-Deep-Learning-TensorFlow/dp/180324366X/ref=sr_1_41?crid=2HX2SCFCK032L&keywords=deep+learning&qid=1663460453&sprefix=deep+learnin%2Caps%2C449&sr=8-41'], ['Grokking Deep Reinforcement Learning', ['by ', 'Miguel Morales'], '$49.99', '472 pages', '4.7 out of 5 stars', '47 ratings', ['\\n            \\n              82%\\n            \\n          '], ['\\n            \\n              13%\\n            \\n          '], ['\\n            \\n              3%\\n            \\n          '], ['\\n            \\n              3%\\n            \\n          '], [], '7.38 x 1 x 9.25 inches', '1.94 pounds', 'English', 'Manning; 1st edition (November 10, 2020)', ' 978-1617295454', '/Grokking-Reinforcement-Learning-Miguel-Morales/dp/1617295450/ref=sr_1_38?crid=2HX2SCFCK032L&keywords=deep+learning&qid=1663460453&sprefix=deep+learnin%2Caps%2C449&sr=8-38'], ['Mathematics for Machine Learning', [' '], '$46.54', '398 pages', '4.7 out of 5 stars', '580 ratings', ['\\n            \\n              80%\\n            \\n          '], ['\\n            \\n              13%\\n            \\n          '], ['\\n            \\n              3%\\n            \\n          '], ['\\n            \\n              2%\\n            \\n          '], ['\\n            \\n              2%\\n            \\n          '], '7 x 0.92 x 10 inches', '1.76 pounds', 'English', 'Cambridge University Press; 1st edition (April 23, 2020)', ' 978-1108455145', '/Mathematics-Machine-Learning-Peter-Deisenroth/dp/110845514X/ref=sr_1_40?crid=2HX2SCFCK032L&keywords=deep+learning&qid=1663460453&sprefix=deep+learnin%2Caps%2C449&sr=8-40'], ['Artificial Intelligence and Deep Learning with Python: Every Line of Code Explained For Readers New to AI and New to Python', ['by ', \"Steven D'Ascoli CPA\"], ' $34.99 ', '285 pages', '5.0 out of 5 stars', '3 ratings', ['\\n            \\n              100%\\n            \\n          '], [], [], [], [], '8 x 0.65 x 10 inches', '1.37 pounds', 'English', 'Independently published (January 22, 2022)', None, '/Artificial-Intelligence-Deep-Learning-Python/dp/B09QNZBZMN/ref=sr_1_39?crid=2HX2SCFCK032L&keywords=deep+learning&qid=1663460453&sprefix=deep+learnin%2Caps%2C449&sr=8-39'], ['Deep Learning for the Life Sciences: Applying Deep Learning to Genomics, Microscopy, Drug Discovery, and More', ['by ', 'Bharath Ramsundar', ', ', 'Peter Eastman', ', et al.'], '$48.49', '236 pages', '4.2 out of 5 stars', '48 ratings', ['\\n            \\n              66%\\n            \\n          '], ['\\n            \\n              16%\\n            \\n          '], ['\\n            \\n              6%\\n            \\n          '], ['\\n            \\n              12%\\n            \\n          '], [], '7 x 0.5 x 9.19 inches', '12.8 ounces', 'English', \"O'Reilly Media; 1st edition (April 28, 2019)\", ' 978-1492039839', '/Deep-Learning-Life-Sciences-Microscopy/dp/1492039837/ref=sr_1_43?crid=2HX2SCFCK032L&keywords=deep+learning&qid=1663460453&sprefix=deep+learnin%2Caps%2C449&sr=8-43'], ['Time Series Forecasting using Deep Learning: Combining PyTorch, RNN, TCN, and Deep Neural Network Models to Provide Production-Ready Prediction Solutions (English Edition)', ['by ', 'Ivan Gridin'], ' $8.96 ', '421 pages', '4.4 out of 5 stars', '14 ratings', ['\\n            \\n              55%\\n            \\n          '], ['\\n            \\n              29%\\n            \\n          '], ['\\n            \\n              16%\\n            \\n          '], [], [], None, None, 'English', 'BPB Publications; 1st edition (October 15, 2021)', None, '/Time-Forecasting-using-Deep-Learning-ebook/dp/B09JL2B3YX/ref=sr_1_32?crid=2HX2SCFCK032L&keywords=deep+learning&qid=1663460453&sprefix=deep+learnin%2Caps%2C449&sr=8-32'], ['Deep Learning in Production', ['by ', 'Sergios Karagiannakos'], '$29.99', '223 pages', '4.7 out of 5 stars', '12 ratings', ['\\n            \\n              78%\\n            \\n          '], ['\\n            \\n              11%\\n            \\n          '], ['\\n            \\n              11%\\n            \\n          '], [], [], '7.5 x 0.53 x 9.25 inches', '15.2 ounces', 'English', 'Sergios Karagiannakos (November 24, 2021)', ' 978-6180033779', '/Deep-Learning-Production-Sergios-Karagiannakos/dp/6180033773/ref=sr_1_29?crid=2HX2SCFCK032L&keywords=deep+learning&qid=1663460453&sprefix=deep+learnin%2Caps%2C449&sr=8-29'], ['Math for Deep Learning: What You Need to Know to Understand Neural Networks', ['by ', 'Ronald T. Kneusel'], '$36.49', '344 pages', '4.5 out of 5 stars', '22 ratings', ['\\n            \\n              74%\\n            \\n          '], ['\\n            \\n              20%\\n            \\n          '], ['\\n            \\n              7%\\n            \\n          '], [], [], '7.06 x 0.79 x 9.19 inches', '13 ounces', 'English', 'No Starch Press (December 7, 2021)', ' 978-1718501904', '/Math-Deep-Learning-Understand-Networks/dp/1718501900/ref=sr_1_31?crid=2HX2SCFCK032L&keywords=deep+learning&qid=1663460453&sprefix=deep+learnin%2Caps%2C449&sr=8-31'], ['Introduction to Deep Learning (The MIT Press)', ['by ', 'Eugene Charniak'], '$35.00', '192 pages', '4.0 out of 5 stars', '32 ratings', ['\\n            \\n              59%\\n            \\n          '], ['\\n            \\n              11%\\n            \\n          '], ['\\n            \\n              10%\\n            \\n          '], ['\\n            \\n              10%\\n            \\n          '], ['\\n            \\n              10%\\n            \\n          '], '9.1 x 7.1 x 0.8 inches', '1.2 pounds', 'English', 'The MIT Press; Illustrated edition (January 29, 2019)', ' 978-0262039512', '/Introduction-Deep-Learning-MIT-Press/dp/0262039516/ref=sr_1_27?crid=2HX2SCFCK032L&keywords=deep+learning&qid=1663460453&sprefix=deep+learnin%2Caps%2C449&sr=8-27'], ['The Principles of Deep Learning Theory: An Effective Theory Approach to Understanding Neural Networks', ['by ', 'Daniel A. Roberts', ', ', 'Sho Yaida', ', et al.'], '$75.99', '472 pages', '4.7 out of 5 stars', '10 ratings', ['\\n            \\n              86%\\n            \\n          '], ['\\n            \\n              14%\\n            \\n          '], [], [], [], '7 x 1 x 10 inches', '1.98 pounds', 'English', 'Cambridge University Press; New edition (May 26, 2022)', ' 978-1316519332', '/Principles-Deep-Learning-Theory-Understanding/dp/1316519333/ref=sr_1_30?crid=2HX2SCFCK032L&keywords=deep+learning&qid=1663460453&sprefix=deep+learnin%2Caps%2C449&sr=8-30'], ['Practical Deep Learning for Cloud, Mobile, and Edge: Real-World AI & Computer-Vision Projects Using Python, Keras & TensorFlow', ['by ', 'Anirudh Koul', ', ', 'Siddha Ganju', ', et al.'], '$55.43', '620 pages', '4.6 out of 5 stars', '110 ratings', ['\\n            \\n              84%\\n            \\n          '], ['\\n            \\n              7%\\n            \\n          '], ['\\n            \\n              3%\\n            \\n          '], ['\\n            \\n              3%\\n            \\n          '], ['\\n            \\n              4%\\n            \\n          '], '7 x 1.68 x 9.19 inches', '2.15 pounds', 'English', \"O'Reilly Media; 1st edition (November 12, 2019)\", ' 978-1492034865', '/sspa/click?ie=UTF8&spc=MToxMjU1NDM5NTIwMjk1OTM0OjE2NjM0NjA0NTM6c3BfbXRmOjIwMDA3MTA0OTM1OTE5ODo6MDo6&sp_csd=d2lkZ2V0TmFtZT1zcF9tdGY&url=%2FPractical-Learning-Cloud-Mobile-Hands%2Fdp%2F149203486X%2Fref%3Dsr_1_36_sspa%3Fcrid%3D2HX2SCFCK032L%26keywords%3Ddeep%2Blearning%26qid%3D1663460453%26sprefix%3Ddeep%2Blearnin%252Caps%252C449%26sr%3D8-36-spons%26psc%3D1'], ['Deep Learning: Engage the World Change the World', ['by ', 'Michael Fullan', ', ', 'Joanne Quinn', ', et al.'], '$32.33', '208 pages', '4.5 out of 5 stars', '66 ratings', ['\\n            \\n              75%\\n            \\n          '], ['\\n            \\n              11%\\n            \\n          '], ['\\n            \\n              6%\\n            \\n          '], ['\\n            \\n              3%\\n            \\n          '], ['\\n            \\n              5%\\n            \\n          '], '7 x 0.47 x 10 inches', '15.5 ounces', 'English', 'Corwin; First edition (December 15, 2017)', ' 978-1506368580', '/Deep-Learning-Engage-World-Change/dp/1506368581/ref=sr_1_28?crid=2HX2SCFCK032L&keywords=deep+learning&qid=1663460453&sprefix=deep+learnin%2Caps%2C449&sr=8-28'], ['Grokking Deep Learning', ['by ', 'Andrew Trask'], '$39.49', '336 pages', '4.4 out of 5 stars', '138 ratings', ['\\n            \\n              72%\\n            \\n          '], ['\\n            \\n              13%\\n            \\n          '], ['\\n            \\n              6%\\n            \\n          '], ['\\n            \\n              1%\\n            \\n          '], ['\\n            \\n              7%\\n            \\n          '], '7.38 x 0.7 x 9.25 inches', '1.32 pounds', 'English', 'Manning; 1st edition (January 25, 2019)', ' 978-1617293702', '/Grokking-Deep-Learning-Andrew-Trask/dp/1617293709/ref=sr_1_25?crid=2HX2SCFCK032L&keywords=deep+learning&qid=1663460453&sprefix=deep+learnin%2Caps%2C449&sr=8-25'], ['Deep Learning with TensorFlow 2 and Keras: Regression, ConvNets, GANs, RNNs, NLP, and more with TensorFlow 2 and the Keras API, 2nd Edition', ['by ', 'Antonio Gulli', ', ', 'Amita Kapoor', ', et al.'], '$33.21', '646 pages', '4.5 out of 5 stars', '116 ratings', ['\\n            \\n              71%\\n            \\n          '], ['\\n            \\n              17%\\n            \\n          '], ['\\n            \\n              5%\\n            \\n          '], ['\\n            \\n              4%\\n            \\n          '], ['\\n            \\n              3%\\n            \\n          '], '7.5 x 1.46 x 9.25 inches', '2.41 pounds', 'English', 'Packt Publishing (December 27, 2019)', ' 978-1838823412', '/sspa/click?ie=UTF8&spc=MToxMjU1NDM5NTIwMjk1OTM0OjE2NjM0NjA0NTM6c3BfbXRmOjIwMDAyMTkxNDA1Mzc3MTo6MDo6&sp_csd=d2lkZ2V0TmFtZT1zcF9tdGY&url=%2FDeep-Learning-TensorFlow-Keras-Regression%2Fdp%2F1838823417%2Fref%3Dsr_1_33_sspa%3Fcrid%3D2HX2SCFCK032L%26keywords%3Ddeep%2Blearning%26qid%3D1663460453%26sprefix%3Ddeep%2Blearnin%252Caps%252C449%26sr%3D8-33-spons%26psc%3D1'], ['Practical Deep Learning at Scale with MLflow: Bridge the gap between offline experimentation and online production', ['by ', 'Yong Liu', ' and ', 'Dr. Matei Zaharia'], '$44.99', '288 pages', '4.8 out of 5 stars', '8 ratings', ['\\n            \\n              83%\\n            \\n          '], ['\\n            \\n              17%\\n            \\n          '], [], [], [], '7.5 x 0.65 x 9.25 inches', '1.1 pounds', 'English', 'Packt Publishing (July 8, 2022)', ' 978-1803241333', '/sspa/click?ie=UTF8&spc=MToxMjU1NDM5NTIwMjk1OTM0OjE2NjM0NjA0NTM6c3BfbXRmOjIwMDA3NDE5NzI3MDY5ODo6MDo6&sp_csd=d2lkZ2V0TmFtZT1zcF9tdGY&url=%2FPractical-Deep-Learning-Scale-MLflow%2Fdp%2F1803241330%2Fref%3Dsr_1_35_sspa%3Fcrid%3D2HX2SCFCK032L%26keywords%3Ddeep%2Blearning%26qid%3D1663460453%26sprefix%3Ddeep%2Blearnin%252Caps%252C449%26sr%3D8-35-spons%26psc%3D1'], ['Deep Learning For Dummies', ['by ', 'John Paul Mueller', ' and ', 'Luca Massaron'], '$19.89', '368 pages', '4.5 out of 5 stars', '33 ratings', ['\\n            \\n              65%\\n            \\n          '], ['\\n            \\n              27%\\n            \\n          '], ['\\n            \\n              8%\\n            \\n          '], [], [], '7.4 x 0.9 x 9.1 inches', '1.45 pounds', 'English', 'For Dummies; 1st edition (May 14, 2019)', ' 978-1119543046', '/Deep-Learning-Dummies-John-Mueller/dp/1119543045/ref=sr_1_24?crid=2HX2SCFCK032L&keywords=deep+learning&qid=1663460453&sprefix=deep+learnin%2Caps%2C449&sr=8-24'], ['Deep Learning with Python', ['by ', 'Francois Chollet'], '$32.49', '384 pages', '4.6 out of 5 stars', '1,349 ratings', ['\\n            \\n              76%\\n            \\n          '], ['\\n            \\n              13%\\n            \\n          '], ['\\n            \\n              4%\\n            \\n          '], ['\\n            \\n              2%\\n            \\n          '], ['\\n            \\n              4%\\n            \\n          '], '7.38 x 0.8 x 9.25 inches', '1.59 pounds', 'English', 'Manning; 1st edition (December 22, 2017)', ' 978-1617294433', '/Deep-Learning-Python-Francois-Chollet/dp/1617294438/ref=sr_1_23?crid=2HX2SCFCK032L&keywords=deep+learning&qid=1663460453&sprefix=deep+learnin%2Caps%2C449&sr=8-23'], ['Deep Generative Modeling', ['by ', 'Jakub M. Tomczak'], '$70.00', '215 pages', '5.0 out of 5 stars', '1 rating', ['\\n            \\n              100%\\n            \\n          '], [], [], [], [], '6.14 x 0.56 x 9.21 inches', '1.09 pounds', 'English', 'Springer; 1st ed. 2022 edition (February 19, 2022)', ' 978-3030931575', '/sspa/click?ie=UTF8&spc=MToxMjU1NDM5NTIwMjk1OTM0OjE2NjM0NjA0NTM6c3BfbXRmOjIwMDA1NzQyMTY0MjI5ODo6MDo6&sp_csd=d2lkZ2V0TmFtZT1zcF9tdGY&url=%2FDeep-Generative-Modeling-Jakub-Tomczak%2Fdp%2F3030931579%2Fref%3Dsr_1_34_sspa%3Fcrid%3D2HX2SCFCK032L%26keywords%3Ddeep%2Blearning%26qid%3D1663460453%26sprefix%3Ddeep%2Blearnin%252Caps%252C449%26sr%3D8-34-spons%26psc%3D1'], ['Essentials of Deep Learning and AI: Experience Unsupervised Learning, Autoencoders, Feature Engineering, and Time Series Analysis with TensorFlow, Keras, and scikit-learn (English Edition)', ['by ', 'Shashidhar Soppin', ', ', 'Dr. Manjunath Ramachandra', ', et al.'], None, '551 pages', '5.0 out of 5 stars', '4 ratings', ['\\n            \\n              100%\\n            \\n          '], [], [], [], [], None, None, 'English', 'BPB Publications; 1st edition (November 24, 2021)', None, '/Essentials-Deep-Learning-Unsupervised-Autoencoders-ebook/dp/B09MK462W8/ref=sr_1_108?crid=2HX2SCFCK032L&keywords=deep+learning&qid=1663460473&sprefix=deep+learnin%2Caps%2C449&sr=8-108'], ['Generative Deep Learning: Teaching Machines to Paint, Write, Compose, and Play', ['by ', 'David Foster'], '$46.99', '330 pages', '4.5 out of 5 stars', '189 ratings', ['\\n            \\n              76%\\n            \\n          '], ['\\n            \\n              12%\\n            \\n          '], ['\\n            \\n              7%\\n            \\n          '], ['\\n            \\n              1%\\n            \\n          '], ['\\n            \\n              5%\\n            \\n          '], '7.01 x 0.69 x 9.17 inches', '1.15 pounds', 'English', \"O'Reilly Media; 1st edition (July 23, 2019)\", ' 978-1492041948', '/Generative-Deep-Learning-Teaching-Machines/dp/1492041947/ref=sr_1_22?crid=2HX2SCFCK032L&keywords=deep+learning&qid=1663460453&sprefix=deep+learnin%2Caps%2C449&sr=8-22'], ['The Deep Learning Revolution', ['by ', 'Terrence J. Sejnowski', ', ', 'Shawn Compton', ', et al.'], None, None, '4.2 out of 5 stars', '66 ratings', ['\\n            \\n              63%\\n            \\n          '], ['\\n            \\n              15%\\n            \\n          '], ['\\n            \\n              7%\\n            \\n          '], ['\\n            \\n              6%\\n            \\n          '], ['\\n            \\n              8%\\n            \\n          '], None, None, None, None, None, '/Deep-Learning-Revolution-audiobook/dp/B07MM8F42R/ref=sr_1_21?crid=2HX2SCFCK032L&keywords=deep+learning&qid=1663460453&sprefix=deep+learnin%2Caps%2C449&sr=8-21'], ['Artificial Intelligence By Example: Acquire advanced AI, machine learning, and deep learning design skills, 2nd Edition', ['by ', 'Denis Rothman'], '$39.99', '578 pages', '4.2 out of 5 stars', '30 ratings', ['\\n            \\n              68%\\n            \\n          '], ['\\n            \\n              9%\\n            \\n          '], ['\\n            \\n              9%\\n            \\n          '], ['\\n            \\n              14%\\n            \\n          '], [], '7.5 x 1.31 x 9.25 inches', '2.16 pounds', 'English', 'Packt Publishing (February 28, 2020)', ' 978-1839211539', '/Artificial-Intelligence-Example-advanced-learning/dp/1839211539/ref=sr_1_107?crid=2HX2SCFCK032L&keywords=deep+learning&qid=1663460473&sprefix=deep+learnin%2Caps%2C449&sr=8-107'], ['Oregon Nature Journal Book: Log Native Plants, Animals, Wildflowers and Birds - Fun Oregon Homeschool Activity Book with Coloring Pages and Nature Prompts', ['by ', 'Deep End Learning'], ' $15.95 ', 'Coloring pages', None, None, [], [], [], [], [], '8 x 0.2 x 10 inches', '9 ounces', 'English', 'Independently published (September 9, 2022)', None, '/Oregon-Nature-Journal-Book-Wildflowers/dp/B0BDXQZZ14/ref=sr_1_106?crid=2HX2SCFCK032L&keywords=deep+learning&qid=1663460473&sprefix=deep+learnin%2Caps%2C449&sr=8-106'], ['Deep Learning for NLP and Speech Recognition', ['by ', 'Uday Kamath', ', ', 'John Liu', ', et al.'], '$97.31', '649 pages', '4.6 out of 5 stars', '49 ratings', ['\\n            \\n              77%\\n            \\n          '], ['\\n            \\n              10%\\n            \\n          '], ['\\n            \\n              9%\\n            \\n          '], ['\\n            \\n              4%\\n            \\n          '], [], '7 x 1.38 x 10 inches', '3.12 pounds', 'English', 'Springer; 1st ed. 2019 edition (June 24, 2019)', ' 978-3030145958', '/Deep-Learning-NLP-Speech-Recognition/dp/3030145956/ref=sr_1_105?crid=2HX2SCFCK032L&keywords=deep+learning&qid=1663460473&sprefix=deep+learnin%2Caps%2C449&sr=8-105'], ['Deep Neural Evolution: Deep Learning with Evolutionary Computation (Natural Computing Series)', [' '], '$66.59', '452 pages', '5.0 out of 5 stars', '1 rating', ['\\n            \\n              100%\\n            \\n          '], [], [], [], [], '6.1 x 1.07 x 9.25 inches', '1.52 pounds', 'English', 'Springer; 1st ed. 2020 edition (May 22, 2021)', ' 978-9811536878', '/Deep-Neural-Evolution-Evolutionary-Computation/dp/9811536872/ref=sr_1_103?crid=2HX2SCFCK032L&keywords=deep+learning&qid=1663460473&sprefix=deep+learnin%2Caps%2C449&sr=8-103']]\n",
      "61\n",
      "['\\n            \\n              100%\\n            \\n          '] 5.0 out of 5 stars None\n"
     ]
    },
    {
     "name": "stderr",
     "output_type": "stream",
     "text": [
      "2022-09-18 02:21:32 [scrapy.core.engine] DEBUG: Crawled (200) <GET https://www.amazon.com/Deep-Learning-Artificial-Networks-Tensorflow/dp/B0BDLBTG4K/ref=sr_1_94?crid=2HX2SCFCK032L&keywords=deep+learning&qid=1663460473&sprefix=deep+learnin%2Caps%2C449&sr=8-94> (referer: https://www.amazon.com/s?k=deep+learning&page=2&crid=2HX2SCFCK032L&qid=1663460242&sprefix=deep+learnin%2Caps%2C449&ref=sr_pg_2)\n",
      "2022-09-18 02:21:32 [scrapy.core.engine] DEBUG: Crawled (200) <GET https://www.amazon.com/Hands-Python-Natural-Language-Processing/dp/1838989595/ref=sr_1_100?crid=2HX2SCFCK032L&keywords=deep+learning&qid=1663460473&sprefix=deep+learnin%2Caps%2C449&sr=8-100> (referer: https://www.amazon.com/s?k=deep+learning&page=2&crid=2HX2SCFCK032L&qid=1663460242&sprefix=deep+learnin%2Caps%2C449&ref=sr_pg_2)\n",
      "2022-09-18 02:21:32 [scrapy.core.engine] DEBUG: Crawled (200) <GET https://www.amazon.com/Guide-Machine-Learning-their-Applications/dp/B08C96165Y/ref=sr_1_99?crid=2HX2SCFCK032L&keywords=deep+learning&qid=1663460473&sprefix=deep+learnin%2Caps%2C449&sr=8-99> (referer: https://www.amazon.com/s?k=deep+learning&page=2&crid=2HX2SCFCK032L&qid=1663460242&sprefix=deep+learnin%2Caps%2C449&ref=sr_pg_2)\n"
     ]
    },
    {
     "name": "stdout",
     "output_type": "stream",
     "text": [
      "62\n",
      "[] None 6 x 0.3 x 9 inches\n",
      "63\n",
      "['\\n            \\n              75%\\n            \\n          '] 4.7 out of 5 stars None\n"
     ]
    },
    {
     "name": "stderr",
     "output_type": "stream",
     "text": [
      "2022-09-18 02:21:33 [scrapy.core.engine] DEBUG: Crawled (200) <GET https://www.amazon.com/Applied-Learning-Computer-Vision-Self-Driving/dp/1838646302/ref=sr_1_97?crid=2HX2SCFCK032L&keywords=deep+learning&qid=1663460473&sprefix=deep+learnin%2Caps%2C449&sr=8-97> (referer: https://www.amazon.com/s?k=deep+learning&page=2&crid=2HX2SCFCK032L&qid=1663460242&sprefix=deep+learnin%2Caps%2C449&ref=sr_pg_2)\n",
      "2022-09-18 02:21:33 [scrapy.core.engine] DEBUG: Crawled (200) <GET https://www.amazon.com/DEEP-LEARNING-MATLAB-Perez/dp/1471694488/ref=sr_1_96?crid=2HX2SCFCK032L&keywords=deep+learning&qid=1663460473&sprefix=deep+learnin%2Caps%2C449&sr=8-96> (referer: https://www.amazon.com/s?k=deep+learning&page=2&crid=2HX2SCFCK032L&qid=1663460242&sprefix=deep+learnin%2Caps%2C449&ref=sr_pg_2)\n",
      "2022-09-18 02:21:33 [scrapy.core.engine] DEBUG: Crawled (200) <GET https://www.amazon.com/Guide-Deep-Learning-Basics-Philosophical/dp/3030375935/ref=sr_1_95?crid=2HX2SCFCK032L&keywords=deep+learning&qid=1663460473&sprefix=deep+learnin%2Caps%2C449&sr=8-95> (referer: https://www.amazon.com/s?k=deep+learning&page=2&crid=2HX2SCFCK032L&qid=1663460242&sprefix=deep+learnin%2Caps%2C449&ref=sr_pg_2)\n",
      "2022-09-18 02:21:33 [scrapy.core.engine] DEBUG: Crawled (200) <GET https://www.amazon.com/Building-Machine-Learning-Models-Platform/dp/1484244699/ref=sr_1_98?crid=2HX2SCFCK032L&keywords=deep+learning&qid=1663460473&sprefix=deep+learnin%2Caps%2C449&sr=8-98> (referer: https://www.amazon.com/s?k=deep+learning&page=2&crid=2HX2SCFCK032L&qid=1663460242&sprefix=deep+learnin%2Caps%2C449&ref=sr_pg_2)\n",
      "2022-09-18 02:21:33 [scrapy.core.engine] DEBUG: Crawled (200) <GET https://www.amazon.com/Learning-Vision-Systems-Mohamed-Elgendy/dp/1617296198/ref=sr_1_83_sspa?crid=2HX2SCFCK032L&keywords=deep+learning&qid=1663460473&sprefix=deep+learnin%2Caps%2C449&sr=8-83-spons&psc=1> (referer: https://www.amazon.com/s?k=deep+learning&page=2&crid=2HX2SCFCK032L&qid=1663460242&sprefix=deep+learnin%2Caps%2C449&ref=sr_pg_2)\n"
     ]
    },
    {
     "name": "stdout",
     "output_type": "stream",
     "text": [
      "64\n",
      "[] None None\n",
      "65\n",
      "['\\n            \\n              69%\\n            \\n          '] 4.6 out of 5 stars 7.5 x 0.72 x 9.25 inches\n",
      "66\n",
      "['\\n            \\n              85%\\n            \\n          '] 4.9 out of 5 stars 8.27 x 0.64 x 11.69 inches\n",
      "67\n",
      "[] None 8.27 x 0.56 x 11.69 inches\n",
      "68\n",
      "[] None 6.1 x 0.34 x 9.25 inches\n",
      "69\n",
      "['\\n            \\n              50%\\n            \\n          '] 3.8 out of 5 stars 7.5 x 0.75 x 9.25 inches\n",
      "70\n",
      "['\\n            \\n              71%\\n            \\n          '] 4.6 out of 5 stars 6.75 x 1.5 x 10 inches\n",
      "71\n",
      "['\\n            \\n              85%\\n            \\n          '] 4.8 out of 5 stars 7.38 x 1 x 9.25 inches\n"
     ]
    },
    {
     "name": "stderr",
     "output_type": "stream",
     "text": [
      "2022-09-18 02:21:34 [scrapy.core.engine] DEBUG: Crawled (200) <GET https://www.amazon.com/s?k=deep+learning&page=3&crid=2HX2SCFCK032L&qid=1663460242&sprefix=deep+learnin%2Caps%2C449&ref=sr_pg_3> (referer: https://www.amazon.com/Essentials-Deep-Learning-Unsupervised-Autoencoders-ebook/dp/B09MK462W8/ref=sr_1_108?crid=2HX2SCFCK032L&keywords=deep+learning&qid=1663460473&sprefix=deep+learnin%2Caps%2C449&sr=8-108)\n",
      "2022-09-18 02:21:34 [scrapy.core.engine] DEBUG: Crawled (200) <GET https://www.amazon.com/DEFAULT-PREDICTION-CUSTOMER-BEHAVIOR-Learning-ebook/dp/B09S3CC7SK/ref=sr_1_92?crid=2HX2SCFCK032L&keywords=deep+learning&qid=1663460473&sprefix=deep+learnin%2Caps%2C449&sr=8-92> (referer: https://www.amazon.com/s?k=deep+learning&page=2&crid=2HX2SCFCK032L&qid=1663460242&sprefix=deep+learnin%2Caps%2C449&ref=sr_pg_2)\n"
     ]
    },
    {
     "name": "stdout",
     "output_type": "stream",
     "text": [
      "3\n",
      "Differentiation and the Brain: How Neuroscience Supports the Learner-Friendly Classroom (Use Brain-Based Learning and Neuroeducation to Differentiate Instruction)\n",
      "Deep Learning In Biology And Medicine\n",
      "Artificial Intelligence: The Ultimate Guide to AI, The Internet of Things, Machine Learning, Deep Learning + a Comprehensive Guide to Robotics\n",
      "Time Series Forecasting using Deep Learning: Combining PyTorch, RNN, TCN, and Deep Neural Network Models to Provide Production-Ready Prediction Solutions (English Edition)\n",
      "Artificial Intelligence By Example: Acquire advanced AI, machine learning, and deep learning design skills, 2nd Edition\n",
      "Deep Learning for NLP and Speech Recognition\n",
      "Essentials of Deep Learning and AI: Experience Unsupervised Learning, Autoencoders, Feature Engineering, and Time Series Analysis with TensorFlow, Keras, and scikit-learn (English Edition)\n",
      "Hands-On Mathematics for Deep Learning: Build a solid mathematical foundation for training efficient deep neural networks\n",
      "An Intuitive Exploration of Artificial Intelligence: Theory and Applications of Deep Learning\n",
      "Machine Learning Design Interview: Machine Learning System Design Interview\n",
      "Ace the Data Science Interview: 201 Real Interview Questions Asked By FAANG, Tech Startups, & Wall Street\n",
      "Hands-On Machine Learning with C++: Build, train, and deploy end-to-end machine learning and deep learning pipelines\n",
      "Deep Learning for Beginners: A beginner's guide to getting up and running with deep learning from scratch using Python\n",
      "Deep Learning: Fundamentals of Deep Learning for Beginners (Artificial Intelligence)\n",
      "Machine Learning Design Patterns: Solutions to Common Challenges in Data Preparation, Model Building, and MLOps\n",
      "intro to deep learning\n",
      "Mastering OpenCV 4 with Python: A practical guide covering topics from image processing, augmented reality to deep learning with OpenCV 4 and Python 3.7\n",
      "Deep Learning in Production\n",
      "Deep Learning with R\n",
      "Deep Learning with Hadoop\n",
      "Artificial Intelligence Engines: A Tutorial Introduction to the Mathematics of Deep Learning\n",
      "Deep Reinforcement Learning: Fundamentals, Research and Applications\n",
      "Deep Learning in a Disorienting World\n",
      "Python for Finance and Algorithmic trading (2nd edition): Machine Learning, Deep Learning, Time series Analysis, Risk and Portfolio Management for MetaTrader™5 Live Trading\n",
      "Programming Machine Learning: From Coding to Deep Learning\n",
      "AI Crash Course: A fun and hands-on introduction to machine learning, reinforcement learning, deep learning, and artificial intelligence with Python\n",
      "Math and Architectures of Deep Learning\n",
      "DEEP LEARNING: Fundamentos del Aprendizaje Profundo para Principiantes (Deep Learning in Spanish /Deep Learning en Español) (Inteligencia Artificial) (Spanish Edition)\n",
      "Deep Learning and Physics (Mathematical Physics Studies)\n",
      "Fundamentals of Deep Learning: Designing Next-Generation Machine Intelligence Algorithms\n",
      "DEEP LEARNING WITH PYTHON: A Comprehensive Beginner’s Guide to Learn the Realms of Deep Learning with Python from A-Z\n",
      "Introduction to Deep Learning for Healthcare\n",
      "Foundations of Deep Reinforcement Learning: Theory and Practice in Python (Addison-Wesley Data & Analytics Series)\n",
      "Machine Learning at Scale with H2O: A practical guide to building and deploying machine learning models on enterprise systems\n",
      "Implement NLP use-cases using BERT: Explore the Implementation of NLP Tasks Using the Deep Learning Framework and Python (English Edition)\n",
      "R Deep Learning Essentials: A step-by-step guide to building deep learning models using TensorFlow, Keras, and MXNet, 2nd Edition\n",
      "Transformers for Natural Language Processing: Build innovative deep neural network architectures for NLP with Python, PyTorch, TensorFlow, BERT, RoBERTa, and more\n",
      "Deep Learning With Python: Comprehensive Guide of Tips and Tricks using Deep Learning with Python Theories\n",
      "Deep Learning: Recurrent Neural Networks with Tensorflow 2 Online Course\n",
      "Evolutionary Deep Learning: Genetic algorithms and neural networks\n",
      "Engineering Deep Learning Systems\n",
      "Deep Learning: Beginner’s Guide to Learn the Realms of Deep Learning from A-Z\n",
      "Deep Learning with PyTorch Step-by-Step: A Beginner's Guide: Volume III: Sequences & NLP\n",
      "Mastering Deep Learning with Python: 2 Manuscripts: The Ultimate Step By Step Guide To Learn Mastering Deep Learning & Python In 7 Days (Machine Learning, Data Science and Artificial Intelligence)\n",
      "Hands-On Genetic Algorithms with Python: Applying genetic algorithms to solve real-world deep learning and artificial intelligence problems\n",
      "Deep Learning with Keras: Implementing deep learning models and neural networks with the power of Python\n",
      "Building Deep Learning Applications with Keras 2.0\n",
      "Unraveling the Mathematics of Machine Learning and Deep Learning Algorithms: Demystifying Basic to Advanced Concepts & Mathematics of Machine Learning and Deep Learning\n",
      "Introduction to Deep Learning: Mathematical Foundations and Hands-on Implementations\n",
      "Fundamentals of Deep Learning: Designing Next-Generation Machine Intelligence Algorithms\n",
      "Modern Deep Learning Design and Application Development: Versatile Tools to Solve Deep Learning Problems\n",
      "Deep Learning for Remote Sensing Images with Open Source Software (Signal and Image Processing of Earth Observations)\n",
      "Deep Learning\n",
      "Hands-On Image Generation with TensorFlow: A practical guide to generating images and videos using deep learning\n",
      "Deep Reinforcement Learning in Action\n",
      "Data Science on AWS: Implementing End-to-End, Continuous AI and Machine Learning Pipelines\n",
      "Deep Generative Modeling\n",
      "Practice and Feedback for Deeper Learning: 26 evidence-based and easy-to-apply tactics that promote deeper learning and application (Deep Learning)\n",
      "Deep Learning for Biomedical Data Analysis: Techniques, Approaches, and Applications\n",
      "High-Dimensional Data Analysis with Low-Dimensional Models: Principles, Computation, and Applications\n"
     ]
    },
    {
     "name": "stderr",
     "output_type": "stream",
     "text": [
      "2022-09-18 02:21:34 [scrapy.core.engine] DEBUG: Crawled (200) <GET https://www.amazon.com/Deep-Learning-R-Francois-Chollet/dp/161729554X/ref=sr_1_93?crid=2HX2SCFCK032L&keywords=deep+learning&qid=1663460473&sprefix=deep+learnin%2Caps%2C449&sr=8-93> (referer: https://www.amazon.com/s?k=deep+learning&page=2&crid=2HX2SCFCK032L&qid=1663460242&sprefix=deep+learnin%2Caps%2C449&ref=sr_pg_2)\n"
     ]
    },
    {
     "name": "stdout",
     "output_type": "stream",
     "text": [
      "72\n",
      "[] None None\n"
     ]
    },
    {
     "name": "stderr",
     "output_type": "stream",
     "text": [
      "2022-09-18 02:21:35 [scrapy.core.engine] DEBUG: Crawled (200) <GET https://www.amazon.com/Deep-Learning-PyTorch-Step-Step/dp/B09QNZWW66/ref=sr_1_90?crid=2HX2SCFCK032L&keywords=deep+learning&qid=1663460473&sprefix=deep+learnin%2Caps%2C449&sr=8-90> (referer: https://www.amazon.com/s?k=deep+learning&page=2&crid=2HX2SCFCK032L&qid=1663460242&sprefix=deep+learnin%2Caps%2C449&ref=sr_pg_2)\n"
     ]
    },
    {
     "name": "stdout",
     "output_type": "stream",
     "text": [
      "73\n",
      "['\\n            \\n              76%\\n            \\n          '] 4.5 out of 5 stars 7.38 x 0.8 x 9.25 inches\n"
     ]
    },
    {
     "name": "stderr",
     "output_type": "stream",
     "text": [
      "2022-09-18 02:21:35 [scrapy.core.engine] DEBUG: Crawled (200) <GET https://www.amazon.com/Deep-Learning-Basics-Python-Implementation-ebook/dp/B08ZNT3JXC/ref=sr_1_87?crid=2HX2SCFCK032L&keywords=deep+learning&qid=1663460473&sprefix=deep+learnin%2Caps%2C449&sr=8-87> (referer: https://www.amazon.com/s?k=deep+learning&page=2&crid=2HX2SCFCK032L&qid=1663460242&sprefix=deep+learnin%2Caps%2C449&ref=sr_pg_2)\n",
      "2022-09-18 02:21:35 [scrapy.core.engine] DEBUG: Crawled (200) <GET https://www.amazon.com/Deep-Learning-Natural-Language-Processing/dp/1617295442/ref=sr_1_91?crid=2HX2SCFCK032L&keywords=deep+learning&qid=1663460473&sprefix=deep+learnin%2Caps%2C449&sr=8-91> (referer: https://www.amazon.com/s?k=deep+learning&page=2&crid=2HX2SCFCK032L&qid=1663460242&sprefix=deep+learnin%2Caps%2C449&ref=sr_pg_2)\n",
      "2022-09-18 02:21:35 [scrapy.downloadermiddlewares.redirect] DEBUG: Redirecting (302) to <GET https://www.amazon.com/Memorable-teaching-Leveraging-learning-classroom/dp/1912906694/ref=sr_1_82_sspa?crid=2HX2SCFCK032L&keywords=deep+learning&qid=1663460473&sprefix=deep+learnin%2Caps%2C449&sr=8-82-spons&psc=1> from <GET https://www.amazon.com/sspa/click?ie=UTF8&spc=MTozNjU4MTEyNDI0ODc2MTYyOjE2NjM0NjA0NzM6c3BfbXRmOjIwMDAyNTAwOTU5MjExMTo6MDo6&sp_csd=d2lkZ2V0TmFtZT1zcF9tdGY&url=%2FMemorable-teaching-Leveraging-learning-classroom%2Fdp%2F1912906694%2Fref%3Dsr_1_82_sspa%3Fcrid%3D2HX2SCFCK032L%26keywords%3Ddeep%2Blearning%26qid%3D1663460473%26sprefix%3Ddeep%2Blearnin%252Caps%252C449%26sr%3D8-82-spons%26psc%3D1>\n",
      "2022-09-18 02:21:35 [scrapy.downloadermiddlewares.redirect] DEBUG: Redirecting (302) to <GET https://www.amazon.com/Transformers-Natural-Language-Processing-architectures/dp/1803247339/ref=sr_1_84_sspa?crid=2HX2SCFCK032L&keywords=deep+learning&qid=1663460473&sprefix=deep+learnin%2Caps%2C449&sr=8-84-spons&psc=1> from <GET https://www.amazon.com/sspa/click?ie=UTF8&spc=MTozNjU4MTEyNDI0ODc2MTYyOjE2NjM0NjA0NzM6c3BfbXRmOjIwMDA2NjMzMDEzNjM5ODo6MDo6&sp_csd=d2lkZ2V0TmFtZT1zcF9tdGY&url=%2FTransformers-Natural-Language-Processing-architectures%2Fdp%2F1803247339%2Fref%3Dsr_1_84_sspa%3Fcrid%3D2HX2SCFCK032L%26keywords%3Ddeep%2Blearning%26qid%3D1663460473%26sprefix%3Ddeep%2Blearnin%252Caps%252C449%26sr%3D8-84-spons%26psc%3D1>\n",
      "2022-09-18 02:21:35 [scrapy.core.engine] DEBUG: Crawled (200) <GET https://www.amazon.com/Python-Machine-Learning-Beginners-Scikitlearn/dp/1734790156/ref=sr_1_89?crid=2HX2SCFCK032L&keywords=deep+learning&qid=1663460473&sprefix=deep+learnin%2Caps%2C449&sr=8-89> (referer: https://www.amazon.com/s?k=deep+learning&page=2&crid=2HX2SCFCK032L&qid=1663460242&sprefix=deep+learnin%2Caps%2C449&ref=sr_pg_2)\n",
      "2022-09-18 02:21:35 [scrapy.core.engine] DEBUG: Crawled (200) <GET https://www.amazon.com/Adversarial-Deep-Learning-Cybersecurity-Taxonomies/dp/3030997715/ref=sr_1_88?crid=2HX2SCFCK032L&keywords=deep+learning&qid=1663460473&sprefix=deep+learnin%2Caps%2C449&sr=8-88> (referer: https://www.amazon.com/s?k=deep+learning&page=2&crid=2HX2SCFCK032L&qid=1663460242&sprefix=deep+learnin%2Caps%2C449&ref=sr_pg_2)\n"
     ]
    },
    {
     "name": "stdout",
     "output_type": "stream",
     "text": [
      "74\n",
      "['\\n            \\n              79%\\n            \\n          '] 4.8 out of 5 stars 7 x 0.9 x 10 inches\n"
     ]
    },
    {
     "name": "stderr",
     "output_type": "stream",
     "text": [
      "2022-09-18 02:21:35 [scrapy.downloadermiddlewares.redirect] DEBUG: Redirecting (302) to <GET https://www.amazon.com/Artificial-Intelligence-Python-Cookbook-algorithms/dp/1789133963/ref=sr_1_81_sspa?crid=2HX2SCFCK032L&keywords=deep+learning&qid=1663460473&sprefix=deep+learnin%2Caps%2C449&sr=8-81-spons&psc=1> from <GET https://www.amazon.com/sspa/click?ie=UTF8&spc=MTozNjU4MTEyNDI0ODc2MTYyOjE2NjM0NjA0NzM6c3BfbXRmOjIwMDAzOTAxOTY4NzA3MTo6MDo6&sp_csd=d2lkZ2V0TmFtZT1zcF9tdGY&url=%2FArtificial-Intelligence-Python-Cookbook-algorithms%2Fdp%2F1789133963%2Fref%3Dsr_1_81_sspa%3Fcrid%3D2HX2SCFCK032L%26keywords%3Ddeep%2Blearning%26qid%3D1663460473%26sprefix%3Ddeep%2Blearnin%252Caps%252C449%26sr%3D8-81-spons%26psc%3D1>\n"
     ]
    },
    {
     "name": "stdout",
     "output_type": "stream",
     "text": [
      "75\n",
      "['\\n            \\n              61%\\n            \\n          '] 4.3 out of 5 stars None\n",
      "76\n",
      "[] None 7.38 x 0.73 x 9.25 inches\n",
      "77\n",
      "['\\n            \\n              73%\\n            \\n          '] 4.5 out of 5 stars 6 x 0.69 x 9 inches\n",
      "78\n",
      "[] None None\n"
     ]
    },
    {
     "name": "stderr",
     "output_type": "stream",
     "text": [
      "2022-09-18 02:21:36 [scrapy.core.engine] DEBUG: Crawled (200) <GET https://www.amazon.com/Grokking-Machine-Learning-Luis-Serrano/dp/1617295914/ref=sr_1_85?crid=2HX2SCFCK032L&keywords=deep+learning&qid=1663460473&sprefix=deep+learnin%2Caps%2C449&sr=8-85> (referer: https://www.amazon.com/s?k=deep+learning&page=2&crid=2HX2SCFCK032L&qid=1663460242&sprefix=deep+learnin%2Caps%2C449&ref=sr_pg_2)\n",
      "2022-09-18 02:21:37 [scrapy.core.engine] DEBUG: Crawled (200) <GET https://www.amazon.com/Hands-Machine-Learning-Scikit-Learn-TensorFlow/dp/1098125975/ref=sr_1_80?crid=2HX2SCFCK032L&keywords=deep+learning&qid=1663460473&sprefix=deep+learnin%2Caps%2C449&sr=8-80> (referer: https://www.amazon.com/s?k=deep+learning&page=2&crid=2HX2SCFCK032L&qid=1663460242&sprefix=deep+learnin%2Caps%2C449&ref=sr_pg_2)\n",
      "2022-09-18 02:21:37 [scrapy.core.engine] DEBUG: Crawled (200) <GET https://www.amazon.com/Black-Hat-Python-2nd-Programming/dp/1718501129/ref=sr_1_86?crid=2HX2SCFCK032L&keywords=deep+learning&qid=1663460473&sprefix=deep+learnin%2Caps%2C449&sr=8-86> (referer: https://www.amazon.com/s?k=deep+learning&page=2&crid=2HX2SCFCK032L&qid=1663460242&sprefix=deep+learnin%2Caps%2C449&ref=sr_pg_2)\n",
      "2022-09-18 02:21:37 [scrapy.core.engine] DEBUG: Crawled (200) <GET https://www.amazon.com/Modern-Deep-Learning-Tabular-Data/dp/148428691X/ref=sr_1_76?crid=2HX2SCFCK032L&keywords=deep+learning&qid=1663460473&sprefix=deep+learnin%2Caps%2C449&sr=8-76> (referer: https://www.amazon.com/s?k=deep+learning&page=2&crid=2HX2SCFCK032L&qid=1663460242&sprefix=deep+learnin%2Caps%2C449&ref=sr_pg_2)\n"
     ]
    },
    {
     "name": "stdout",
     "output_type": "stream",
     "text": [
      "79\n",
      "['\\n            \\n              72%\\n            \\n          '] 4.6 out of 5 stars 7.38 x 1.1 x 9.25 inches\n",
      "80\n",
      "[] None None\n"
     ]
    },
    {
     "name": "stderr",
     "output_type": "stream",
     "text": [
      "2022-09-18 02:21:37 [scrapy.core.engine] DEBUG: Crawled (200) <GET https://www.amazon.com/Transformers-Machine-Learning-Chapman-Recognition/dp/0367767341/ref=sr_1_79?crid=2HX2SCFCK032L&keywords=deep+learning&qid=1663460473&sprefix=deep+learnin%2Caps%2C449&sr=8-79> (referer: https://www.amazon.com/s?k=deep+learning&page=2&crid=2HX2SCFCK032L&qid=1663460242&sprefix=deep+learnin%2Caps%2C449&ref=sr_pg_2)\n",
      "2022-09-18 02:21:37 [scrapy.core.engine] DEBUG: Crawled (200) <GET https://www.amazon.com/Probabilistic-Learning-Python-Oliver-Duerr/dp/1617296074/ref=sr_1_78?crid=2HX2SCFCK032L&keywords=deep+learning&qid=1663460473&sprefix=deep+learnin%2Caps%2C449&sr=8-78> (referer: https://www.amazon.com/s?k=deep+learning&page=2&crid=2HX2SCFCK032L&qid=1663460242&sprefix=deep+learnin%2Caps%2C449&ref=sr_pg_2)\n"
     ]
    },
    {
     "name": "stdout",
     "output_type": "stream",
     "text": [
      "81\n",
      "['\\n            \\n              82%\\n            \\n          '] 4.7 out of 5 stars 6.9 x 0.7 x 9.1 inches\n",
      "82\n",
      "[] None None\n"
     ]
    },
    {
     "name": "stderr",
     "output_type": "stream",
     "text": [
      "2022-09-18 02:21:37 [scrapy.core.engine] DEBUG: Crawled (200) <GET https://www.amazon.com/Deep-Learning-Comprehensive-Programming-Networks-ebook/dp/B085ZZ4CZX/ref=sr_1_77?crid=2HX2SCFCK032L&keywords=deep+learning&qid=1663460473&sprefix=deep+learnin%2Caps%2C449&sr=8-77> (referer: https://www.amazon.com/s?k=deep+learning&page=2&crid=2HX2SCFCK032L&qid=1663460242&sprefix=deep+learnin%2Caps%2C449&ref=sr_pg_2)\n",
      "2022-09-18 02:21:37 [scrapy.core.engine] DEBUG: Crawled (200) <GET https://www.amazon.com/High-Dimensional-Data-Analysis-Low-Dimensional-Models/dp/1108489737/ref=sr_1_156?crid=2HX2SCFCK032L&keywords=deep+learning&qid=1663460492&sprefix=deep+learnin%2Caps%2C449&sr=8-156> (referer: https://www.amazon.com/s?k=deep+learning&page=3&crid=2HX2SCFCK032L&qid=1663460242&sprefix=deep+learnin%2Caps%2C449&ref=sr_pg_3)\n"
     ]
    },
    {
     "name": "stdout",
     "output_type": "stream",
     "text": [
      "83\n",
      "['\\n            \\n              68%\\n            \\n          '] 3.9 out of 5 stars 6.1 x 0.7 x 9.2 inches\n",
      "84\n",
      "['\\n            \\n              66%\\n            \\n          '] 4.2 out of 5 stars 7.38 x 0.6 x 9.25 inches\n",
      "85\n",
      "['\\n            \\n              77%\\n            \\n          '] 4.7 out of 5 stars None\n",
      "86\n",
      "['\\n            \\n              81%\\n            \\n          '] 4.8 out of 5 stars 6.75 x 1.5 x 9.75 inches\n"
     ]
    },
    {
     "name": "stderr",
     "output_type": "stream",
     "text": [
      "2022-09-18 02:21:41 [scrapy.core.engine] DEBUG: Crawled (200) <GET https://www.amazon.com/Deep-Learning-Biomedical-Data-Analysis-ebook/dp/B099DWL6NP/ref=sr_1_155?crid=2HX2SCFCK032L&keywords=deep+learning&qid=1663460492&sprefix=deep+learnin%2Caps%2C449&sr=8-155> (referer: https://www.amazon.com/s?k=deep+learning&page=3&crid=2HX2SCFCK032L&qid=1663460242&sprefix=deep+learnin%2Caps%2C449&ref=sr_pg_3)\n",
      "2022-09-18 02:21:41 [scrapy.core.engine] DEBUG: Crawled (200) <GET https://www.amazon.com/Transformers-Natural-Language-Processing-architectures/dp/1803247339/ref=sr_1_84_sspa?crid=2HX2SCFCK032L&keywords=deep+learning&qid=1663460473&sprefix=deep+learnin%2Caps%2C449&sr=8-84-spons&psc=1> (referer: https://www.amazon.com/s?k=deep+learning&page=2&crid=2HX2SCFCK032L&qid=1663460242&sprefix=deep+learnin%2Caps%2C449&ref=sr_pg_2)\n",
      "2022-09-18 02:21:41 [scrapy.core.engine] DEBUG: Crawled (200) <GET https://www.amazon.com/Practice-Feedback-Deeper-Learning-apply/dp/1976215080/ref=sr_1_154?crid=2HX2SCFCK032L&keywords=deep+learning&qid=1663460492&sprefix=deep+learnin%2Caps%2C449&sr=8-154> (referer: https://www.amazon.com/s?k=deep+learning&page=3&crid=2HX2SCFCK032L&qid=1663460242&sprefix=deep+learnin%2Caps%2C449&ref=sr_pg_3)\n",
      "2022-09-18 02:21:41 [scrapy.core.engine] DEBUG: Crawled (200) <GET https://www.amazon.com/Memorable-teaching-Leveraging-learning-classroom/dp/1912906694/ref=sr_1_82_sspa?crid=2HX2SCFCK032L&keywords=deep+learning&qid=1663460473&sprefix=deep+learnin%2Caps%2C449&sr=8-82-spons&psc=1> (referer: https://www.amazon.com/s?k=deep+learning&page=2&crid=2HX2SCFCK032L&qid=1663460242&sprefix=deep+learnin%2Caps%2C449&ref=sr_pg_2)\n",
      "2022-09-18 02:21:41 [scrapy.core.engine] DEBUG: Crawled (200) <GET https://www.amazon.com/Data-Science-AWS-End-End/dp/1492079391/ref=sr_1_152?crid=2HX2SCFCK032L&keywords=deep+learning&qid=1663460492&sprefix=deep+learnin%2Caps%2C449&sr=8-152> (referer: https://www.amazon.com/s?k=deep+learning&page=3&crid=2HX2SCFCK032L&qid=1663460242&sprefix=deep+learnin%2Caps%2C449&ref=sr_pg_3)\n"
     ]
    },
    {
     "name": "stdout",
     "output_type": "stream",
     "text": [
      "start_new_page\n",
      "87\n",
      "[] None None\n",
      "88\n",
      "['\\n            \\n              75%\\n            \\n          '] 4.7 out of 5 stars 7.5 x 1.28 x 9.25 inches\n",
      "89\n",
      "['\\n            \\n              68%\\n            \\n          '] 4.2 out of 5 stars 6 x 0.45 x 9 inches\n",
      "90\n",
      "['\\n            \\n              76%\\n            \\n          '] 4.6 out of 5 stars 5.4 x 0.2 x 8 inches\n"
     ]
    },
    {
     "name": "stderr",
     "output_type": "stream",
     "text": [
      "2022-09-18 02:21:42 [scrapy.core.engine] DEBUG: Crawled (200) <GET https://www.amazon.com/Deep-Generative-Modeling-Jakub-Tomczak/dp/3030931579/ref=sr_1_153?crid=2HX2SCFCK032L&keywords=deep+learning&qid=1663460492&sprefix=deep+learnin%2Caps%2C449&sr=8-153> (referer: https://www.amazon.com/s?k=deep+learning&page=3&crid=2HX2SCFCK032L&qid=1663460242&sprefix=deep+learnin%2Caps%2C449&ref=sr_pg_3)\n",
      "2022-09-18 02:21:42 [scrapy.core.engine] DEBUG: Crawled (200) <GET https://www.amazon.com/Deep-Reinforcement-Learning-Action-Alexander/dp/1617295434/ref=sr_1_151?crid=2HX2SCFCK032L&keywords=deep+learning&qid=1663460492&sprefix=deep+learnin%2Caps%2C449&sr=8-151> (referer: https://www.amazon.com/s?k=deep+learning&page=3&crid=2HX2SCFCK032L&qid=1663460242&sprefix=deep+learnin%2Caps%2C449&ref=sr_pg_3)\n",
      "2022-09-18 02:21:42 [scrapy.core.engine] DEBUG: Crawled (200) <GET https://www.amazon.com/Artificial-Intelligence-Python-Cookbook-algorithms/dp/1789133963/ref=sr_1_81_sspa?crid=2HX2SCFCK032L&keywords=deep+learning&qid=1663460473&sprefix=deep+learnin%2Caps%2C449&sr=8-81-spons&psc=1> (referer: https://www.amazon.com/s?k=deep+learning&page=2&crid=2HX2SCFCK032L&qid=1663460242&sprefix=deep+learnin%2Caps%2C449&ref=sr_pg_2)\n"
     ]
    },
    {
     "name": "stdout",
     "output_type": "stream",
     "text": [
      "91\n",
      "['\\n            \\n              70%\\n            \\n          '] 4.4 out of 5 stars 7 x 1.05 x 9.19 inches\n",
      "92\n",
      "['\\n            \\n              100%\\n            \\n          '] 5.0 out of 5 stars 6.14 x 0.56 x 9.21 inches\n",
      "93\n",
      "['\\n            \\n              63%\\n            \\n          '] 4.2 out of 5 stars 7.38 x 0.8 x 9.25 inches\n",
      "94\n",
      "['\\n            \\n              68%\\n            \\n          '] 4.5 out of 5 stars 7.5 x 1.06 x 9.25 inches\n"
     ]
    },
    {
     "name": "stderr",
     "output_type": "stream",
     "text": [
      "2022-09-18 02:21:43 [scrapy.core.engine] DEBUG: Crawled (200) <GET https://www.amazon.com/Deep-Learning-RANDY-MOORE-ebook/dp/B083M4977L/ref=sr_1_149?crid=2HX2SCFCK032L&keywords=deep+learning&qid=1663460492&sprefix=deep+learnin%2Caps%2C449&sr=8-149> (referer: https://www.amazon.com/s?k=deep+learning&page=3&crid=2HX2SCFCK032L&qid=1663460242&sprefix=deep+learnin%2Caps%2C449&ref=sr_pg_3)\n",
      "2022-09-18 02:21:43 [scrapy.core.engine] DEBUG: Crawled (200) <GET https://www.amazon.com/Learning-Sensing-Software-Processing-Observations-ebook/dp/B08CBKKVBM/ref=sr_1_148?crid=2HX2SCFCK032L&keywords=deep+learning&qid=1663460492&sprefix=deep+learnin%2Caps%2C449&sr=8-148> (referer: https://www.amazon.com/s?k=deep+learning&page=3&crid=2HX2SCFCK032L&qid=1663460242&sprefix=deep+learnin%2Caps%2C449&ref=sr_pg_3)\n",
      "2022-09-18 02:21:43 [scrapy.core.engine] DEBUG: Crawled (200) <GET https://www.amazon.com/Fundamentals-Deep-Learning-Next-Generation-Intelligence/dp/149208218X/ref=sr_1_146?crid=2HX2SCFCK032L&keywords=deep+learning&qid=1663460492&sprefix=deep+learnin%2Caps%2C449&sr=8-146> (referer: https://www.amazon.com/s?k=deep+learning&page=3&crid=2HX2SCFCK032L&qid=1663460242&sprefix=deep+learnin%2Caps%2C449&ref=sr_pg_3)\n",
      "2022-09-18 02:21:43 [scrapy.core.engine] DEBUG: Crawled (200) <GET https://www.amazon.com/Hands-Image-Generation-TensorFlow-generating/dp/1838826785/ref=sr_1_150?crid=2HX2SCFCK032L&keywords=deep+learning&qid=1663460492&sprefix=deep+learnin%2Caps%2C449&sr=8-150> (referer: https://www.amazon.com/s?k=deep+learning&page=3&crid=2HX2SCFCK032L&qid=1663460242&sprefix=deep+learnin%2Caps%2C449&ref=sr_pg_3)\n",
      "2022-09-18 02:21:43 [scrapy.core.engine] DEBUG: Crawled (200) <GET https://www.amazon.com/Modern-Learning-Design-Application-Development/dp/1484274121/ref=sr_1_147?crid=2HX2SCFCK032L&keywords=deep+learning&qid=1663460492&sprefix=deep+learnin%2Caps%2C449&sr=8-147> (referer: https://www.amazon.com/s?k=deep+learning&page=3&crid=2HX2SCFCK032L&qid=1663460242&sprefix=deep+learnin%2Caps%2C449&ref=sr_pg_3)\n"
     ]
    },
    {
     "name": "stdout",
     "output_type": "stream",
     "text": [
      "95\n",
      "[] None None\n",
      "96\n",
      "['\\n            \\n              36%\\n            \\n          '] 3.3 out of 5 stars None\n"
     ]
    },
    {
     "name": "stderr",
     "output_type": "stream",
     "text": [
      "2022-09-18 02:21:44 [scrapy.core.engine] DEBUG: Crawled (200) <GET https://www.amazon.com/Building-Deep-Learning-Applications-Keras-ebook/dp/B0BCK3CRF5/ref=sr_1_143?crid=2HX2SCFCK032L&keywords=deep+learning&qid=1663460492&sprefix=deep+learnin%2Caps%2C449&sr=8-143> (referer: https://www.amazon.com/s?k=deep+learning&page=3&crid=2HX2SCFCK032L&qid=1663460242&sprefix=deep+learnin%2Caps%2C449&ref=sr_pg_3)\n"
     ]
    },
    {
     "name": "stdout",
     "output_type": "stream",
     "text": [
      "97\n",
      "[] None 7 x 0.75 x 9.25 inches\n",
      "98\n",
      "['\\n            \\n              76%\\n            \\n          '] 4.8 out of 5 stars 7.5 x 0.69 x 9.25 inches\n"
     ]
    },
    {
     "name": "stderr",
     "output_type": "stream",
     "text": [
      "2022-09-18 02:21:44 [scrapy.core.engine] DEBUG: Crawled (200) <GET https://www.amazon.com/Unraveling-Mathematics-Machine-Learning-Algorithms/dp/1685866395/ref=sr_1_144?crid=2HX2SCFCK032L&keywords=deep+learning&qid=1663460492&sprefix=deep+learnin%2Caps%2C449&sr=8-144> (referer: https://www.amazon.com/s?k=deep+learning&page=3&crid=2HX2SCFCK032L&qid=1663460242&sprefix=deep+learnin%2Caps%2C449&ref=sr_pg_3)\n",
      "2022-09-18 02:21:44 [scrapy.core.engine] DEBUG: Crawled (200) <GET https://www.amazon.com/Introduction-Deep-Learning-Hands-Implementations/dp/B09LGSH4TR/ref=sr_1_145?crid=2HX2SCFCK032L&keywords=deep+learning&qid=1663460492&sprefix=deep+learnin%2Caps%2C449&sr=8-145> (referer: https://www.amazon.com/s?k=deep+learning&page=3&crid=2HX2SCFCK032L&qid=1663460242&sprefix=deep+learnin%2Caps%2C449&ref=sr_pg_3)\n"
     ]
    },
    {
     "name": "stdout",
     "output_type": "stream",
     "text": [
      "99\n",
      "['\\n            \\n              100%\\n            \\n          '] 5.0 out of 5 stars 7.01 x 1.07 x 10 inches\n",
      "100\n",
      "[] None None\n",
      "101\n",
      "['\\n            \\n              84%\\n            \\n          '] 4.4 out of 5 stars 8.5 x 0.93 x 11 inches\n",
      "102\n",
      "[] None 8.5 x 0.24 x 11 inches\n"
     ]
    },
    {
     "name": "stderr",
     "output_type": "stream",
     "text": [
      "2022-09-18 02:21:45 [scrapy.core.engine] DEBUG: Crawled (200) <GET https://www.amazon.com/Deep-Learning-Keras-Implementing-learning/dp/1787128423/ref=sr_1_142?crid=2HX2SCFCK032L&keywords=deep+learning&qid=1663460492&sprefix=deep+learnin%2Caps%2C449&sr=8-142> (referer: https://www.amazon.com/s?k=deep+learning&page=3&crid=2HX2SCFCK032L&qid=1663460242&sprefix=deep+learnin%2Caps%2C449&ref=sr_pg_3)\n",
      "2022-09-18 02:21:45 [scrapy.core.engine] DEBUG: Crawled (200) <GET https://www.amazon.com/Mastering-Deep-Learning-Python-Intelligence-ebook/dp/B08RCSJ39K/ref=sr_1_140?crid=2HX2SCFCK032L&keywords=deep+learning&qid=1663460492&sprefix=deep+learnin%2Caps%2C449&sr=8-140> (referer: https://www.amazon.com/s?k=deep+learning&page=3&crid=2HX2SCFCK032L&qid=1663460242&sprefix=deep+learnin%2Caps%2C449&ref=sr_pg_3)\n",
      "2022-09-18 02:21:45 [scrapy.core.engine] DEBUG: Crawled (200) <GET https://www.amazon.com/s?k=deep+learning&page=4&crid=2HX2SCFCK032L&qid=1663460242&sprefix=deep+learnin%2Caps%2C449&ref=sr_pg_4> (referer: https://www.amazon.com/High-Dimensional-Data-Analysis-Low-Dimensional-Models/dp/1108489737/ref=sr_1_156?crid=2HX2SCFCK032L&keywords=deep+learning&qid=1663460492&sprefix=deep+learnin%2Caps%2C449&sr=8-156)\n"
     ]
    },
    {
     "name": "stdout",
     "output_type": "stream",
     "text": [
      "103\n",
      "['\\n            \\n              31%\\n            \\n          '] 3.5 out of 5 stars 7.5 x 0.72 x 9.25 inches\n"
     ]
    },
    {
     "name": "stderr",
     "output_type": "stream",
     "text": [
      "2022-09-18 02:21:45 [scrapy.core.engine] DEBUG: Crawled (200) <GET https://www.amazon.com/Hands-Genetic-Algorithms-Python-intelligence/dp/1838557741/ref=sr_1_141?crid=2HX2SCFCK032L&keywords=deep+learning&qid=1663460492&sprefix=deep+learnin%2Caps%2C449&sr=8-141> (referer: https://www.amazon.com/s?k=deep+learning&page=3&crid=2HX2SCFCK032L&qid=1663460242&sprefix=deep+learnin%2Caps%2C449&ref=sr_pg_3)\n",
      "2022-09-18 02:21:45 [scrapy.core.engine] DEBUG: Crawled (200) <GET https://www.amazon.com/Deep-Learning-Recurrent-Networks-Tensorflow/dp/B0BDLN3HPT/ref=sr_1_135?crid=2HX2SCFCK032L&keywords=deep+learning&qid=1663460492&sprefix=deep+learnin%2Caps%2C449&sr=8-135> (referer: https://www.amazon.com/s?k=deep+learning&page=3&crid=2HX2SCFCK032L&qid=1663460242&sprefix=deep+learnin%2Caps%2C449&ref=sr_pg_3)\n"
     ]
    },
    {
     "name": "stdout",
     "output_type": "stream",
     "text": [
      "104\n",
      "['\\n            \\n              76%\\n            \\n          '] 4.5 out of 5 stars None\n",
      "4\n",
      "Python: The Complete Crash Course to Learn Python in One Week Machine Learning and Deep Learning with Hands-On Exercises\n",
      "The TensorFlow Workshop: A hands-on guide to building deep learning models from scratch using real-world datasets\n",
      "Deep Learning for Personalised Healthcare Services (Issn, 7)\n",
      "Powerful Brain: How To Unlock Your Mind's Subconscious And Learn Faster\n",
      "High-Dimensional Data Analysis with Low-Dimensional Models: Principles, Computation, and Applications\n",
      "Deep Learning for the Earth Sciences: A Comprehensive Approach to Remote Sensing, Climate Science and Geosciences\n",
      "Designing Machine Learning Systems: An Iterative Process for Production-Ready Applications\n",
      "Machine Learning with Python Cookbook: Practical Solutions from Preprocessing to Deep Learning\n",
      "Deep Learning with PyTorch: A practical approach to building neural network models using PyTorch\n",
      "Python Deep Learning: Exploring deep learning techniques and neural network architectures with PyTorch, Keras, and TensorFlow, 2nd Edition\n",
      "MASTERING DEEP LEARNING FUNDAMENTALS WITH PYTHON: The Ultimate Guide for Beginners To Expert & Step By Step Guide to Learn Python Programming Concepts\n",
      "Beginning Anomaly Detection Using Python-Based Deep Learning: With Keras and PyTorch\n",
      "Deep Learning Applications (Advances in Intelligent Systems and Computing, 1098)\n",
      "Deep Learning with Python: Learn Best Practices of Deep Learning Models with PyTorch\n",
      "Artificial Intelligence in Healthcare: AI, Machine Learning, and Deep and Intelligent Medicine Simplified for Everyone\n",
      "Deep Learning for Biomedical Data Analysis: Techniques, Approaches, and Applications\n",
      "Deep Learning with R, Second Edition\n",
      "Getting started with Deep Learning for Natural Language Processing: Learn how to build NLP applications with Deep Learning (English Edition)\n",
      "Neural Networks and Deep Learning: A Textbook\n",
      "Deep Learning With Python: Advanced Guide to Learn Deep Learning with Python\n",
      "Computational Methods for Deep Learning: Theoretic, Practice and Applications (Texts in Computer Science)\n",
      "Codeless Deep Learning with KNIME: Build, train, and deploy various deep neural network architectures using KNIME Analytics Platform\n",
      "Exploring the Deep, Dark Sea\n",
      "Machine Learning in Biotechnology and Life Sciences: Build machine learning models using Python and deploy them on the cloud\n",
      "Neural Networks: Deep Learning and Machine Learning Outlined\n",
      "Homeschool Year Lesson Planner | Weekly & Monthly | Unique Organizer, Record Book & Fun Idea Inspiration Lists\n",
      "Practical Machine Learning with H2O: Powerful, Scalable Techniques for Deep Learning and AI\n",
      "Machine Learning Mathematics: Study Deep Learning Through Data Science: How to Build Artificial Intelligence Through Concepts of Statistics, Algorithms, Analysis and Data Mining\n",
      "Deep Learning Approaches for Security Threats in IoT Environments\n",
      "Artificial Intelligence and Deep Learning in Pathology\n",
      "Deep Learning With PyTorch Lightning: Build, Train, Deploy, And Scale Deep Learning Models Quickly And Accurately, Improving Productivity\n",
      "Homeschool Lesson Planner | Weekly & Monthly | Unique Organizer, Record Book & Fun Idea Inspiration Lists\n",
      "Deep Learning with PyTorch: Build, train, and tune neural networks using Python tools\n",
      "Hands-On Natural Language Processing with PyTorch 1.x: Build smart, AI-driven linguistic applications using deep learning and NLP techniques\n",
      "Artificial Intelligence: A Comprehensive Guide to AI, Machine Learning, Internet of Things, Robotics, Deep Learning, Predictive Analytics, Neural Networks, Reinforcement Learning, and Our Future\n",
      "Learn Unity ML-Agents – Fundamentals of Unity Machine Learning: Incorporate new powerful ML algorithms such as Deep Reinforcement Learning for games\n",
      "DEEP LEARNING TOOLS: NEURAL NETWORKS USING MATLAB\n",
      "Generative AI with Python and TensorFlow 2: Create images, text, and music with VAEs, GANs, LSTMs, Transformer models\n",
      "Purposeful Play: A Teacher's Guide to Igniting Deep and Joyful Learning Across the Day\n",
      "Inventions that Shook the World\n",
      "Deep Discourse: A Framework for Cultivating Student-Led Discussions -Use Conversation to Raise Student Learning, Motivation, and Engagement in K-12 Classrooms\n",
      "Empowering Young Children\n",
      "Hands-On Deep Learning for IoT: Train neural network models to develop intelligent IoT applications\n",
      "Deep Learning: A Technical Approach to Artificial Intelligence for Beginners, Vol. 4\n",
      "Deep Reinforcement Learning with Python: With PyTorch, TensorFlow and OpenAI Gym\n",
      "Deep Learning Cookbook: Practical Recipes to Get Started Quickly\n",
      "3D Point Cloud Analysis: Traditional, Deep Learning, and Explainable Machine Learning Methods\n",
      "Manipulation, NLP, Body Language: Master Dark Psychology Guide to Deep Learning Everything About Mind Control, Persuasion, How to Analyze People, and Brainwashing\n",
      "ARTIFICIAL INTELLIGENCE WITH MATLAB. DEEP LEARNING ARCHITECTURES\n",
      "Deep Learning Applications of Short-range Radars\n",
      "Deep Learning Algorithms: Transformers, gans, encoders, cnns, rnns, and more\n",
      "From Curiosity to Deep Learning: Personal Digital Inquiry in Grades K-5\n",
      "Automated Deep Learning Using Neural Network Intelligence: Develop and Design PyTorch and TensorFlow Models Using Python\n",
      "GANs in Action: Deep learning with Generative Adversarial Networks\n",
      "Deep Learning in Bioinformatics: Techniques and Applications in Practice\n",
      "Deep Nature Play: A Guide to Wholeness, Aliveness, Creativity, and Inspired Learning\n",
      "Neural Networks and Deep Learning: Neural Networks & Deep Learning, Deep Learning, Blockchain Blueprint\n",
      "Pro Deep Learning with TensorFlow: A Mathematical Approach to Advanced Artificial Intelligence in Python\n",
      "The Deep Learning with Keras Workshop: Learn how to define and train neural network models with just a few lines of code\n",
      "Deep Learning For Physics Research\n"
     ]
    },
    {
     "name": "stderr",
     "output_type": "stream",
     "text": [
      "2022-09-18 02:21:46 [scrapy.core.engine] DEBUG: Crawled (200) <GET https://www.amazon.com/Deep-Learning-Beginners-Realms-Z-ebook/dp/B085XH4YD9/ref=sr_1_138?crid=2HX2SCFCK032L&keywords=deep+learning&qid=1663460492&sprefix=deep+learnin%2Caps%2C449&sr=8-138> (referer: https://www.amazon.com/s?k=deep+learning&page=3&crid=2HX2SCFCK032L&qid=1663460242&sprefix=deep+learnin%2Caps%2C449&ref=sr_pg_3)\n",
      "2022-09-18 02:21:46 [scrapy.core.engine] DEBUG: Crawled (200) <GET https://www.amazon.com/Engineering-Deep-Learning-Systems-Wang/dp/1633439860/ref=sr_1_137?crid=2HX2SCFCK032L&keywords=deep+learning&qid=1663460492&sprefix=deep+learnin%2Caps%2C449&sr=8-137> (referer: https://www.amazon.com/s?k=deep+learning&page=3&crid=2HX2SCFCK032L&qid=1663460242&sprefix=deep+learnin%2Caps%2C449&ref=sr_pg_3)\n",
      "2022-09-18 02:21:46 [scrapy.downloadermiddlewares.redirect] DEBUG: Redirecting (302) to <GET https://www.amazon.com/Deep-Learning-Essentials-step-step/dp/178899289X/ref=sr_1_132_sspa?crid=2HX2SCFCK032L&keywords=deep+learning&qid=1663460492&sprefix=deep+learnin%2Caps%2C449&sr=8-132-spons&psc=1> from <GET https://www.amazon.com/sspa/click?ie=UTF8&spc=MTo1MDA5MTIwMzE4NDkyNDgxOjE2NjM0NjA0OTI6c3BfbXRmOjIwMDAwNzg0Njk3NDE3MTo6MDo6&sp_csd=d2lkZ2V0TmFtZT1zcF9tdGY&url=%2FDeep-Learning-Essentials-step-step%2Fdp%2F178899289X%2Fref%3Dsr_1_132_sspa%3Fcrid%3D2HX2SCFCK032L%26keywords%3Ddeep%2Blearning%26qid%3D1663460492%26sprefix%3Ddeep%2Blearnin%252Caps%252C449%26sr%3D8-132-spons%26psc%3D1>\n",
      "2022-09-18 02:21:46 [scrapy.core.engine] DEBUG: Crawled (200) <GET https://www.amazon.com/Evolutionary-Deep-Learning-algorithms-networks/dp/1617299529/ref=sr_1_136?crid=2HX2SCFCK032L&keywords=deep+learning&qid=1663460492&sprefix=deep+learnin%2Caps%2C449&sr=8-136> (referer: https://www.amazon.com/s?k=deep+learning&page=3&crid=2HX2SCFCK032L&qid=1663460242&sprefix=deep+learnin%2Caps%2C449&ref=sr_pg_3)\n",
      "2022-09-18 02:21:46 [scrapy.downloadermiddlewares.redirect] DEBUG: Redirecting (302) to <GET https://www.amazon.com/Implement-use-cases-using-BERT-Implementation/dp/9390684625/ref=sr_1_131_sspa?crid=2HX2SCFCK032L&keywords=deep+learning&qid=1663460492&sprefix=deep+learnin%2Caps%2C449&sr=8-131-spons&psc=1> from <GET https://www.amazon.com/sspa/click?ie=UTF8&spc=MTo1MDA5MTIwMzE4NDkyNDgxOjE2NjM0NjA0OTI6c3BfbXRmOjIwMDA2OTQ1OTczNDQ4MTo6MDo6&sp_csd=d2lkZ2V0TmFtZT1zcF9tdGY&url=%2FImplement-use-cases-using-BERT-Implementation%2Fdp%2F9390684625%2Fref%3Dsr_1_131_sspa%3Fcrid%3D2HX2SCFCK032L%26keywords%3Ddeep%2Blearning%26qid%3D1663460492%26sprefix%3Ddeep%2Blearnin%252Caps%252C449%26sr%3D8-131-spons%26psc%3D1>\n"
     ]
    },
    {
     "name": "stdout",
     "output_type": "stream",
     "text": [
      "105\n",
      "['\\n            \\n              73%\\n            \\n          '] 4.6 out of 5 stars 7.5 x 0.78 x 9.25 inches\n",
      "106\n",
      "[] None None\n"
     ]
    },
    {
     "name": "stderr",
     "output_type": "stream",
     "text": [
      "2022-09-18 02:21:46 [scrapy.downloadermiddlewares.redirect] DEBUG: Redirecting (302) to <GET https://www.amazon.com/Machine-Learning-Scale-H2O-enterprise/dp/1800566018/ref=sr_1_130_sspa?crid=2HX2SCFCK032L&keywords=deep+learning&qid=1663460492&sprefix=deep+learnin%2Caps%2C449&sr=8-130-spons&psc=1> from <GET https://www.amazon.com/sspa/click?ie=UTF8&spc=MTo1MDA5MTIwMzE4NDkyNDgxOjE2NjM0NjA0OTI6c3BfbXRmOjIwMDA3Nzc5ODg1NzA5ODo6MDo6&sp_csd=d2lkZ2V0TmFtZT1zcF9tdGY&url=%2FMachine-Learning-Scale-H2O-enterprise%2Fdp%2F1800566018%2Fref%3Dsr_1_130_sspa%3Fcrid%3D2HX2SCFCK032L%26keywords%3Ddeep%2Blearning%26qid%3D1663460492%26sprefix%3Ddeep%2Blearnin%252Caps%252C449%26sr%3D8-130-spons%26psc%3D1>\n",
      "2022-09-18 02:21:46 [scrapy.downloadermiddlewares.redirect] DEBUG: Redirecting (302) to <GET https://www.amazon.com/Deep-Reinforcement-Learning-Python-Hands/dp/0135172381/ref=sr_1_129_sspa?crid=2HX2SCFCK032L&keywords=deep+learning&qid=1663460492&sprefix=deep+learnin%2Caps%2C449&sr=8-129-spons&psc=1> from <GET https://www.amazon.com/sspa/click?ie=UTF8&spc=MTo1MDA5MTIwMzE4NDkyNDgxOjE2NjM0NjA0OTI6c3BfbXRmOjIwMDAyMTQ5NDYxMTQ5ODo6MDo6&sp_csd=d2lkZ2V0TmFtZT1zcF9tdGY&url=%2FDeep-Reinforcement-Learning-Python-Hands%2Fdp%2F0135172381%2Fref%3Dsr_1_129_sspa%3Fcrid%3D2HX2SCFCK032L%26keywords%3Ddeep%2Blearning%26qid%3D1663460492%26sprefix%3Ddeep%2Blearnin%252Caps%252C449%26sr%3D8-129-spons%26psc%3D1>\n"
     ]
    },
    {
     "name": "stdout",
     "output_type": "stream",
     "text": [
      "107\n",
      "['\\n            \\n              51%\\n            \\n          '] 4.5 out of 5 stars None\n",
      "108\n",
      "[] None 7.38 x 0.81 x 9.25 inches\n"
     ]
    },
    {
     "name": "stderr",
     "output_type": "stream",
     "text": [
      "2022-09-18 02:21:46 [scrapy.downloadermiddlewares.redirect] DEBUG: Redirecting (302) to <GET https://www.amazon.com/Python-Complete-Learning-Hands-Exercises/dp/B0BCS3YSV8/ref=sr_1_145_sspa?crid=2HX2SCFCK032L&keywords=deep+learning&qid=1663460503&sprefix=deep+learnin%2Caps%2C449&sr=8-145-spons&psc=1> from <GET https://www.amazon.com/sspa/click?ie=UTF8&spc=MTo1NDgzOTE5NDI3NDU1NDEyOjE2NjM0NjA1MDM6c3BfYXRmX25leHQ6MjAwMDg2NzM4MTM5Mjk4OjowOjo&sp_csd=d2lkZ2V0TmFtZT1zcF9hdGZfbmV4dA&url=%2FPython-Complete-Learning-Hands-Exercises%2Fdp%2FB0BCS3YSV8%2Fref%3Dsr_1_145_sspa%3Fcrid%3D2HX2SCFCK032L%26keywords%3Ddeep%2Blearning%26qid%3D1663460503%26sprefix%3Ddeep%2Blearnin%252Caps%252C449%26sr%3D8-145-spons%26psc%3D1>\n"
     ]
    },
    {
     "name": "stdout",
     "output_type": "stream",
     "text": [
      "109\n",
      "[] None 7.38 x 0.88 x 9.25 inches\n"
     ]
    },
    {
     "name": "stderr",
     "output_type": "stream",
     "text": [
      "2022-09-18 02:21:46 [scrapy.core.engine] DEBUG: Crawled (200) <GET https://www.amazon.com/Deep-Learning-PyTorch-Step-Step/dp/B09QNYKP9C/ref=sr_1_139?crid=2HX2SCFCK032L&keywords=deep+learning&qid=1663460492&sprefix=deep+learnin%2Caps%2C449&sr=8-139> (referer: https://www.amazon.com/s?k=deep+learning&page=3&crid=2HX2SCFCK032L&qid=1663460242&sprefix=deep+learnin%2Caps%2C449&ref=sr_pg_3)\n"
     ]
    },
    {
     "name": "stdout",
     "output_type": "stream",
     "text": [
      "110\n",
      "['\\n            \\n              81%\\n            \\n          '] 4.8 out of 5 stars 7 x 1.16 x 10 inches\n"
     ]
    },
    {
     "name": "stderr",
     "output_type": "stream",
     "text": [
      "2022-09-18 02:21:47 [scrapy.core.engine] DEBUG: Crawled (200) <GET https://www.amazon.com/Deep-Learning-Python-Comprehensive-Theories/dp/1654990108/ref=sr_1_134?crid=2HX2SCFCK032L&keywords=deep+learning&qid=1663460492&sprefix=deep+learnin%2Caps%2C449&sr=8-134> (referer: https://www.amazon.com/s?k=deep+learning&page=3&crid=2HX2SCFCK032L&qid=1663460242&sprefix=deep+learnin%2Caps%2C449&ref=sr_pg_3)\n",
      "2022-09-18 02:21:47 [scrapy.core.engine] DEBUG: Crawled (200) <GET https://www.amazon.com/Transformers-Natural-Language-Processing-architectures/dp/1800565798/ref=sr_1_133?crid=2HX2SCFCK032L&keywords=deep+learning&qid=1663460492&sprefix=deep+learnin%2Caps%2C449&sr=8-133> (referer: https://www.amazon.com/s?k=deep+learning&page=3&crid=2HX2SCFCK032L&qid=1663460242&sprefix=deep+learnin%2Caps%2C449&ref=sr_pg_3)\n",
      "2022-09-18 02:21:47 [scrapy.core.engine] DEBUG: Crawled (200) <GET https://www.amazon.com/The-1900s/dp/B0169W0V24/ref=sr_1_184?crid=2HX2SCFCK032L&keywords=deep+learning&qid=1663460503&sprefix=deep+learnin%2Caps%2C449&sr=8-184> (referer: https://www.amazon.com/s?k=deep+learning&page=4&crid=2HX2SCFCK032L&qid=1663460242&sprefix=deep+learnin%2Caps%2C449&ref=sr_pg_4)\n"
     ]
    },
    {
     "name": "stdout",
     "output_type": "stream",
     "text": [
      "111\n",
      "['\\n            \\n              100%\\n            \\n          '] 5.0 out of 5 stars 6 x 0.49 x 9 inches\n"
     ]
    },
    {
     "name": "stderr",
     "output_type": "stream",
     "text": [
      "2022-09-18 02:21:48 [scrapy.core.engine] DEBUG: Crawled (200) <GET https://www.amazon.com/DEEP-LEARNING-PYTHON-Comprehensive-Beginners-ebook/dp/B087QJGLFQ/ref=sr_1_127?crid=2HX2SCFCK032L&keywords=deep+learning&qid=1663460492&sprefix=deep+learnin%2Caps%2C449&sr=8-127> (referer: https://www.amazon.com/s?k=deep+learning&page=3&crid=2HX2SCFCK032L&qid=1663460242&sprefix=deep+learnin%2Caps%2C449&ref=sr_pg_3)\n",
      "2022-09-18 02:21:48 [scrapy.core.engine] DEBUG: Crawled (200) <GET https://www.amazon.com/Introduction-to-Deep-Learning-for-Healthcare/dp/3030821838/ref=sr_1_128?crid=2HX2SCFCK032L&keywords=deep+learning&qid=1663460492&sprefix=deep+learnin%2Caps%2C449&sr=8-128> (referer: https://www.amazon.com/s?k=deep+learning&page=3&crid=2HX2SCFCK032L&qid=1663460242&sprefix=deep+learnin%2Caps%2C449&ref=sr_pg_3)\n",
      "2022-09-18 02:21:48 [scrapy.core.engine] DEBUG: Crawled (200) <GET https://www.amazon.com/Fundamentals-Deep-Learning-Next-Generation-Intelligence/dp/1491925612/ref=sr_1_126?crid=2HX2SCFCK032L&keywords=deep+learning&qid=1663460492&sprefix=deep+learnin%2Caps%2C449&sr=8-126> (referer: https://www.amazon.com/s?k=deep+learning&page=3&crid=2HX2SCFCK032L&qid=1663460242&sprefix=deep+learnin%2Caps%2C449&ref=sr_pg_3)\n"
     ]
    },
    {
     "name": "stdout",
     "output_type": "stream",
     "text": [
      "112\n",
      "['\\n            \\n              59%\\n            \\n          '] 4.2 out of 5 stars 7.5 x 0.87 x 9.25 inches\n",
      "113\n",
      "[] None None\n"
     ]
    },
    {
     "name": "stderr",
     "output_type": "stream",
     "text": [
      "2022-09-18 02:21:48 [scrapy.core.engine] DEBUG: Crawled (200) <GET https://www.amazon.com/Deep-Learning-Physics-Mathematical-Studies/dp/9813361107/ref=sr_1_125?crid=2HX2SCFCK032L&keywords=deep+learning&qid=1663460492&sprefix=deep+learnin%2Caps%2C449&sr=8-125> (referer: https://www.amazon.com/s?k=deep+learning&page=3&crid=2HX2SCFCK032L&qid=1663460242&sprefix=deep+learnin%2Caps%2C449&ref=sr_pg_3)\n"
     ]
    },
    {
     "name": "stdout",
     "output_type": "stream",
     "text": [
      "114\n",
      "['\\n            \\n              74%\\n            \\n          '] 4.5 out of 5 stars None\n",
      "115\n",
      "['\\n            \\n              78%\\n            \\n          '] 4.1 out of 5 stars 6.14 x 0.63 x 9.21 inches\n"
     ]
    },
    {
     "name": "stderr",
     "output_type": "stream",
     "text": [
      "2022-09-18 02:21:48 [scrapy.core.engine] DEBUG: Crawled (200) <GET https://www.amazon.com/Learning-Physics-Research-Martin-Erdmann-ebook/dp/B098NXWNLL/ref=sr_1_204?crid=2HX2SCFCK032L&keywords=deep+learning&qid=1663460503&sprefix=deep+learnin%2Caps%2C449&sr=8-204> (referer: https://www.amazon.com/s?k=deep+learning&page=4&crid=2HX2SCFCK032L&qid=1663460242&sprefix=deep+learnin%2Caps%2C449&ref=sr_pg_4)\n"
     ]
    },
    {
     "name": "stdout",
     "output_type": "stream",
     "text": [
      "116\n",
      "['\\n            \\n              58%\\n            \\n          '] 4.0 out of 5 stars 7 x 0.62 x 9.19 inches\n",
      "117\n",
      "['\\n            \\n              100%\\n            \\n          '] 2.0 out of 5 stars 6.1 x 0.53 x 9.25 inches\n",
      "118\n",
      "['\\n            \\n              100%\\n            \\n          '] 5.0 out of 5 stars None\n"
     ]
    },
    {
     "name": "stderr",
     "output_type": "stream",
     "text": [
      "2022-09-18 02:21:52 [scrapy.core.engine] DEBUG: Crawled (200) <GET https://www.amazon.com/Deep-Learning-Essentials-step-step/dp/178899289X/ref=sr_1_132_sspa?crid=2HX2SCFCK032L&keywords=deep+learning&qid=1663460492&sprefix=deep+learnin%2Caps%2C449&sr=8-132-spons&psc=1> (referer: https://www.amazon.com/s?k=deep+learning&page=3&crid=2HX2SCFCK032L&qid=1663460242&sprefix=deep+learnin%2Caps%2C449&ref=sr_pg_3)\n",
      "2022-09-18 02:21:52 [scrapy.core.engine] DEBUG: Crawled (200) <GET https://www.amazon.com/Implement-use-cases-using-BERT-Implementation/dp/9390684625/ref=sr_1_131_sspa?crid=2HX2SCFCK032L&keywords=deep+learning&qid=1663460492&sprefix=deep+learnin%2Caps%2C449&sr=8-131-spons&psc=1> (referer: https://www.amazon.com/s?k=deep+learning&page=3&crid=2HX2SCFCK032L&qid=1663460242&sprefix=deep+learnin%2Caps%2C449&ref=sr_pg_3)\n",
      "2022-09-18 02:21:52 [scrapy.core.engine] DEBUG: Crawled (200) <GET https://www.amazon.com/Deep-Learning-Keras-Workshop-network-ebook/dp/B08Q8JJ45N/ref=sr_1_203?crid=2HX2SCFCK032L&keywords=deep+learning&qid=1663460503&sprefix=deep+learnin%2Caps%2C449&sr=8-203> (referer: https://www.amazon.com/s?k=deep+learning&page=4&crid=2HX2SCFCK032L&qid=1663460242&sprefix=deep+learnin%2Caps%2C449&ref=sr_pg_4)\n",
      "2022-09-18 02:21:52 [scrapy.core.engine] DEBUG: Crawled (200) <GET https://www.amazon.com/Machine-Learning-Scale-H2O-enterprise/dp/1800566018/ref=sr_1_130_sspa?crid=2HX2SCFCK032L&keywords=deep+learning&qid=1663460492&sprefix=deep+learnin%2Caps%2C449&sr=8-130-spons&psc=1> (referer: https://www.amazon.com/s?k=deep+learning&page=3&crid=2HX2SCFCK032L&qid=1663460242&sprefix=deep+learnin%2Caps%2C449&ref=sr_pg_3)\n",
      "2022-09-18 02:21:52 [scrapy.core.engine] DEBUG: Crawled (200) <GET https://www.amazon.com/Python-Complete-Learning-Hands-Exercises/dp/B0BCS3YSV8/ref=sr_1_145_sspa?crid=2HX2SCFCK032L&keywords=deep+learning&qid=1663460503&sprefix=deep+learnin%2Caps%2C449&sr=8-145-spons&psc=1> (referer: https://www.amazon.com/s?k=deep+learning&page=4&crid=2HX2SCFCK032L&qid=1663460242&sprefix=deep+learnin%2Caps%2C449&ref=sr_pg_4)\n",
      "2022-09-18 02:21:52 [scrapy.core.engine] DEBUG: Crawled (200) <GET https://www.amazon.com/Pro-Deep-Learning-TensorFlow-Mathematical/dp/1484230957/ref=sr_1_202?crid=2HX2SCFCK032L&keywords=deep+learning&qid=1663460503&sprefix=deep+learnin%2Caps%2C449&sr=8-202> (referer: https://www.amazon.com/s?k=deep+learning&page=4&crid=2HX2SCFCK032L&qid=1663460242&sprefix=deep+learnin%2Caps%2C449&ref=sr_pg_4)\n",
      "2022-09-18 02:21:52 [scrapy.core.engine] DEBUG: Crawled (200) <GET https://www.amazon.com/Deep-Reinforcement-Learning-Python-Hands/dp/0135172381/ref=sr_1_129_sspa?crid=2HX2SCFCK032L&keywords=deep+learning&qid=1663460492&sprefix=deep+learnin%2Caps%2C449&sr=8-129-spons&psc=1> (referer: https://www.amazon.com/s?k=deep+learning&page=3&crid=2HX2SCFCK032L&qid=1663460242&sprefix=deep+learnin%2Caps%2C449&ref=sr_pg_3)\n",
      "2022-09-18 02:21:52 [scrapy.core.engine] DEBUG: Crawled (200) <GET https://www.amazon.com/Neural-Networks-Deep-Learning-Blockchain/dp/1722149841/ref=sr_1_201?crid=2HX2SCFCK032L&keywords=deep+learning&qid=1663460503&sprefix=deep+learnin%2Caps%2C449&sr=8-201> (referer: https://www.amazon.com/s?k=deep+learning&page=4&crid=2HX2SCFCK032L&qid=1663460242&sprefix=deep+learnin%2Caps%2C449&ref=sr_pg_4)\n"
     ]
    },
    {
     "name": "stdout",
     "output_type": "stream",
     "text": [
      "start_new_page\n",
      "119\n",
      "['\\n            \\n              58%\\n            \\n          '] 4.1 out of 5 stars 7.5 x 0.86 x 9.25 inches\n",
      "120\n",
      "['\\n            \\n              49%\\n            \\n          '] 3.0 out of 5 stars 6 x 0.37 x 9 inches\n",
      "121\n",
      "['\\n            \\n              38%\\n            \\n          '] 4.1 out of 5 stars None\n",
      "122\n",
      "['\\n            \\n              100%\\n            \\n          '] 5.0 out of 5 stars 7.5 x 0.9 x 9.25 inches\n",
      "123\n",
      "[] None 6 x 0.52 x 9 inches\n",
      "124\n",
      "['\\n            \\n              61%\\n            \\n          '] 4.1 out of 5 stars 7.01 x 0.96 x 10 inches\n",
      "125\n",
      "['\\n            \\n              100%\\n            \\n          '] 5.0 out of 5 stars 8.5 x 0.33 x 11.02 inches\n",
      "126\n",
      "['\\n            \\n              69%\\n            \\n          '] 4.4 out of 5 stars 6.93 x 0.71 x 9.21 inches\n"
     ]
    },
    {
     "name": "stderr",
     "output_type": "stream",
     "text": [
      "2022-09-18 02:21:53 [scrapy.extensions.logstats] INFO: Crawled 130 pages (at 130 pages/min), scraped 0 items (at 0 items/min)\n",
      "2022-09-18 02:21:53 [scrapy.core.engine] DEBUG: Crawled (200) <GET https://www.amazon.com/ARTIFICIAL-INTELLIGENCE-MATLAB-LEARNING-ARCHITECTURES/dp/1794823565/ref=sr_1_193?crid=2HX2SCFCK032L&keywords=deep+learning&qid=1663460503&sprefix=deep+learnin%2Caps%2C449&sr=8-193> (referer: https://www.amazon.com/s?k=deep+learning&page=4&crid=2HX2SCFCK032L&qid=1663460242&sprefix=deep+learnin%2Caps%2C449&ref=sr_pg_4)\n",
      "2022-09-18 02:21:53 [scrapy.core.engine] DEBUG: Crawled (200) <GET https://www.amazon.com/Deep-Learning-Bioinformatics-Techniques-Applications-ebook/dp/B09Q33LHZ9/ref=sr_1_199?crid=2HX2SCFCK032L&keywords=deep+learning&qid=1663460503&sprefix=deep+learnin%2Caps%2C449&sr=8-199> (referer: https://www.amazon.com/s?k=deep+learning&page=4&crid=2HX2SCFCK032L&qid=1663460242&sprefix=deep+learnin%2Caps%2C449&ref=sr_pg_4)\n",
      "2022-09-18 02:21:54 [scrapy.core.engine] DEBUG: Crawled (200) <GET https://www.amazon.com/GANs-Action-learning-Generative-Adversarial/dp/1617295566/ref=sr_1_198?crid=2HX2SCFCK032L&keywords=deep+learning&qid=1663460503&sprefix=deep+learnin%2Caps%2C449&sr=8-198> (referer: https://www.amazon.com/s?k=deep+learning&page=4&crid=2HX2SCFCK032L&qid=1663460242&sprefix=deep+learnin%2Caps%2C449&ref=sr_pg_4)\n",
      "2022-09-18 02:21:54 [scrapy.core.engine] DEBUG: Crawled (200) <GET https://www.amazon.com/Automated-Learning-Neural-Network-Intelligence-ebook/dp/B0B4MYS1W1/ref=sr_1_197?crid=2HX2SCFCK032L&keywords=deep+learning&qid=1663460503&sprefix=deep+learnin%2Caps%2C449&sr=8-197> (referer: https://www.amazon.com/s?k=deep+learning&page=4&crid=2HX2SCFCK032L&qid=1663460242&sprefix=deep+learnin%2Caps%2C449&ref=sr_pg_4)\n"
     ]
    },
    {
     "name": "stdout",
     "output_type": "stream",
     "text": [
      "127\n",
      "[] None 8.27 x 0.45 x 11.69 inches\n",
      "128\n",
      "[] None None\n"
     ]
    },
    {
     "name": "stderr",
     "output_type": "stream",
     "text": [
      "2022-09-18 02:21:54 [scrapy.core.engine] DEBUG: Crawled (200) <GET https://www.amazon.com/Deep-Nature-Play-Wholeness-Creativity/dp/1565893220/ref=sr_1_200?crid=2HX2SCFCK032L&keywords=deep+learning&qid=1663460503&sprefix=deep+learnin%2Caps%2C449&sr=8-200> (referer: https://www.amazon.com/s?k=deep+learning&page=4&crid=2HX2SCFCK032L&qid=1663460242&sprefix=deep+learnin%2Caps%2C449&ref=sr_pg_4)\n",
      "2022-09-18 02:21:54 [scrapy.core.engine] DEBUG: Crawled (200) <GET https://www.amazon.com/Curiosity-Deep-Learning-Personal-Digital/dp/1625311567/ref=sr_1_196?crid=2HX2SCFCK032L&keywords=deep+learning&qid=1663460503&sprefix=deep+learnin%2Caps%2C449&sr=8-196> (referer: https://www.amazon.com/s?k=deep+learning&page=4&crid=2HX2SCFCK032L&qid=1663460242&sprefix=deep+learnin%2Caps%2C449&ref=sr_pg_4)\n",
      "2022-09-18 02:21:54 [scrapy.core.engine] DEBUG: Crawled (200) <GET https://www.amazon.com/Deep-Learning-Algorithms-Transformers-encoders/dp/B08GFPMFW9/ref=sr_1_195?crid=2HX2SCFCK032L&keywords=deep+learning&qid=1663460503&sprefix=deep+learnin%2Caps%2C449&sr=8-195> (referer: https://www.amazon.com/s?k=deep+learning&page=4&crid=2HX2SCFCK032L&qid=1663460242&sprefix=deep+learnin%2Caps%2C449&ref=sr_pg_4)\n",
      "2022-09-18 02:21:54 [scrapy.core.engine] DEBUG: Crawled (200) <GET https://www.amazon.com/Deep-Learning-Applications-Short-range-Radars/dp/1630817465/ref=sr_1_194?crid=2HX2SCFCK032L&keywords=deep+learning&qid=1663460503&sprefix=deep+learnin%2Caps%2C449&sr=8-194> (referer: https://www.amazon.com/s?k=deep+learning&page=4&crid=2HX2SCFCK032L&qid=1663460242&sprefix=deep+learnin%2Caps%2C449&ref=sr_pg_4)\n"
     ]
    },
    {
     "name": "stdout",
     "output_type": "stream",
     "text": [
      "129\n",
      "['\\n            \\n              65%\\n            \\n          '] 4.2 out of 5 stars 7.38 x 0.4 x 9.25 inches\n",
      "130\n",
      "[] None None\n",
      "131\n",
      "['\\n            \\n              87%\\n            \\n          '] 4.9 out of 5 stars 5.48 x 0.33 x 8.58 inches\n",
      "132\n",
      "['\\n            \\n              73%\\n            \\n          '] 4.6 out of 5 stars 8 x 0.7 x 9.9 inches\n",
      "133\n",
      "['\\n            \\n              52%\\n            \\n          '] 3.1 out of 5 stars 7.5 x 0.97 x 9.25 inches\n",
      "134\n",
      "['\\n            \\n              100%\\n            \\n          '] 5.0 out of 5 stars 6.2 x 1 x 9.2 inches\n"
     ]
    },
    {
     "name": "stderr",
     "output_type": "stream",
     "text": [
      "2022-09-18 02:21:55 [scrapy.core.engine] DEBUG: Crawled (200) <GET https://www.amazon.com/s?k=deep+learning&page=5&crid=2HX2SCFCK032L&qid=1663460242&sprefix=deep+learnin%2Caps%2C449&ref=sr_pg_5> (referer: https://www.amazon.com/Learning-Physics-Research-Martin-Erdmann-ebook/dp/B098NXWNLL/ref=sr_1_204?crid=2HX2SCFCK032L&keywords=deep+learning&qid=1663460503&sprefix=deep+learnin%2Caps%2C449&sr=8-204)\n"
     ]
    },
    {
     "name": "stdout",
     "output_type": "stream",
     "text": [
      "5\n",
      "Grokking Deep Reinforcement Learning\n",
      "Hands-On Genetic Algorithms with Python: Applying genetic algorithms to solve real-world deep learning and artificial intelligence problems\n",
      "Grokking Artificial Intelligence Algorithms: Understand and apply the core algorithms of deep learning and artificial intelligence in this friendly illustrated guide including exercises and examples\n",
      "Grokking Machine Learning\n",
      "Deep Nature Play: A Guide to Wholeness, Aliveness, Creativity, and Inspired Learning\n",
      "Neural Networks and Deep Learning: Neural Networks & Deep Learning, Deep Learning, Blockchain Blueprint\n",
      "Pro Deep Learning with TensorFlow: A Mathematical Approach to Advanced Artificial Intelligence in Python\n",
      "The Deep Learning with Keras Workshop: Learn how to define and train neural network models with just a few lines of code\n",
      "Deep Learning For Physics Research\n",
      "Deep Reinforcement Learning - An Introduction for Managers\n",
      "Ultimate Step by Step Guide to Deep Learning Using Python: Artificial Intelligence and Neural Network Concepts Explained in Simple Terms (Ultimate Step by Step Guide to Machine Learning Book 2)\n",
      "Hacking Artificial Intelligence: A Leader's Guide from Deepfakes to Breaking Deep Learning\n",
      "Deep Learning: AI Technology\n",
      "Deep Learning (Robot Dreams Book 2)\n",
      "Deep Work: Rules for Focused Success in a Distracted World\n",
      "Practical MATLAB Deep Learning: A Project-Based Approach\n",
      "DEEP LEARNING WITH PYTHON: 3 in 1- Beginner's Guide+ Simple and Effective Tips and Tricks+ Advanced Guide to Learn Deep Learning with Python\n",
      "Inside Deep Learning: Math, Algorithms, Models\n",
      "Mastering Computer Vision with TensorFlow 2.x: Build advanced computer vision applications using machine learning and deep learning techniques\n",
      "Graph-Powered Machine Learning\n",
      "Culture in School Learning: Revealing the Deep Meaning\n",
      "Artificial Intelligence, Machine Learning, and Deep Learning\n",
      "Autonomous Robotics and Deep Learning (SpringerBriefs in Computer Science)\n",
      "Deep Learning\n",
      "Deep Learning In Biology And Medicine\n",
      "Hands-On Deep Learning with R: A practical guide to designing, building, and improving neural network models using R\n",
      "Deep Learning with Python: A Hands-On Guide for Beginners\n",
      "Deep Learning Ecologies: An Invitation to Complex Teaching and Learning\n",
      "Practical MATLAB Deep Learning: A Projects-Based Approach\n",
      "Apprentissage artificiel: Concepts et algorithmes - De Bayes et Hume au Deep Learning (French Edition)\n",
      "Deep Learning: A Comprehensive Guide\n",
      "Advances in Electromagnetics Empowered by Artificial Intelligence and Deep Learning (IEEE Press Series on Electromagnetic Wave Theory)\n",
      "Building Computer Vision Projects with OpenCV 4 and C++: Implement complex computer vision algorithms and explore deep learning and face detection\n",
      "Big Data: A Beginner's Guide To Using Data Science For Business (Transforming Information, Deep Learning, Boost Profits, Business Intelligence)\n",
      "TensorFlow Machine Learning: Advanced Guide to Learn Machine Learning With Scikit-Learn, Keras and TensorFlow\n",
      "TENSORFLOW MACHINE LEARNING: 3 in 1- Beginner's Guide+ Simple and Effective Tips and Tricks+ Advanced Guide to Learn Machine Learning With Scikit-Learn, Keras and TensorFlow\n",
      "Beginning Anomaly Deep Learning : A novel about a sectSelected educational books\n",
      "The Deep Learning Workshop: Learn the skills you need to develop your own next-generation deep learning models with TensorFlow and Keras\n",
      "Python Deep Learning: Introducción práctica con Keras y TensorFlow 2 (Spanish Edition)\n",
      "A Perfect Enemy\n",
      "Beginning Deep Learning with TensorFlow: Work with Keras, MNIST Data Sets, and Advanced Neural Networks\n",
      "Machine Learning for Cybersecurity: Innovative Deep Learning Solutions (SpringerBriefs in Computer Science)\n",
      "Python Deep learning: Develop your first Neural Network in Python Using TensorFlow, Keras, and PyTorch (Step-by-Step Tutorial for Beginners)\n",
      "Machine Learning for Economics and Finance in TensorFlow 2: Deep Learning Models for Research and Industry\n",
      "Advanced Applied Deep Learning: Convolutional Neural Networks and Object Detection\n",
      "Deep Machine Learning: A Comprehensive Beginner's Developer Guide to Deep Machine Learning Algorithms, Concepts and Techniques\n",
      "Cultivating Curiosity in K-12 Classrooms: How to Promote and Sustain Deep Learning\n",
      "Deep Learning Pipeline: Building a Deep Learning Model with TensorFlow\n",
      "Deep Learning for Natural Language Processing: Creating Neural Networks with Python\n",
      "Deep Learning for Sustainable Agriculture (Cognitive Data Science in Sustainable Computing)\n",
      "Practical Deep Learning at Scale with MLflow: Bridge the gap between offline experimentation and online production\n",
      "Deep Brain Learning: evidence-based essentials in education, treatment, and youth development\n",
      "Python Deep Learning Projects: 9 projects demystifying neural network and deep learning models for building intelligent systems\n",
      "Machine Learning for Time-Series with Python: Forecast, predict, and detect anomalies with state-of-the-art machine learning methods\n",
      "Deep Learning with Keras: Introduction to Deep Learning with Keras\n",
      "Elements of Deep Learning for Computer Vision: Explore Deep Neural Network Architectures, PyTorch, Object Detection Algorithms, and Computer Vision Applications for Python Coders (English Edition)\n",
      "Deep Learning with R\n",
      "Learning Unix for OS X: Going Deep With the Terminal and Shell\n",
      "Embedded Deep Learning: Algorithms, Architectures and Circuits for Always-on Neural Network Processing\n",
      "Redes Neuronales & Deep Learning (Spanish Edition)\n"
     ]
    },
    {
     "name": "stderr",
     "output_type": "stream",
     "text": [
      "2022-09-18 02:21:55 [scrapy.core.engine] DEBUG: Crawled (200) <GET https://www.amazon.com/Manipulation-NLP-Body-Language-Brainwashing/dp/B09J1RDD2S/ref=sr_1_192?crid=2HX2SCFCK032L&keywords=deep+learning&qid=1663460503&sprefix=deep+learnin%2Caps%2C449&sr=8-192> (referer: https://www.amazon.com/s?k=deep+learning&page=4&crid=2HX2SCFCK032L&qid=1663460242&sprefix=deep+learnin%2Caps%2C449&ref=sr_pg_4)\n",
      "2022-09-18 02:21:55 [scrapy.core.engine] DEBUG: Crawled (200) <GET https://www.amazon.com/Point-Cloud-Analysis-Traditional-Explainable-ebook/dp/B09NFK9754/ref=sr_1_191?crid=2HX2SCFCK032L&keywords=deep+learning&qid=1663460503&sprefix=deep+learnin%2Caps%2C449&sr=8-191> (referer: https://www.amazon.com/s?k=deep+learning&page=4&crid=2HX2SCFCK032L&qid=1663460242&sprefix=deep+learnin%2Caps%2C449&ref=sr_pg_4)\n"
     ]
    },
    {
     "name": "stdout",
     "output_type": "stream",
     "text": [
      "135\n",
      "['\\n            \\n              89%\\n            \\n          '] 4.8 out of 5 stars None\n"
     ]
    },
    {
     "name": "stderr",
     "output_type": "stream",
     "text": [
      "2022-09-18 02:21:56 [scrapy.core.engine] DEBUG: Crawled (200) <GET https://www.amazon.com/Hands-Deep-Learning-IoT-applications-ebook/dp/B07TP7ZRC7/ref=sr_1_187?crid=2HX2SCFCK032L&keywords=deep+learning&qid=1663460503&sprefix=deep+learnin%2Caps%2C449&sr=8-187> (referer: https://www.amazon.com/s?k=deep+learning&page=4&crid=2HX2SCFCK032L&qid=1663460242&sprefix=deep+learnin%2Caps%2C449&ref=sr_pg_4)\n",
      "2022-09-18 02:21:56 [scrapy.core.engine] DEBUG: Crawled (200) <GET https://www.amazon.com/Deep-Learning-Cookbook-Practical-Recipes/dp/149199584X/ref=sr_1_190?crid=2HX2SCFCK032L&keywords=deep+learning&qid=1663460503&sprefix=deep+learnin%2Caps%2C449&sr=8-190> (referer: https://www.amazon.com/s?k=deep+learning&page=4&crid=2HX2SCFCK032L&qid=1663460242&sprefix=deep+learnin%2Caps%2C449&ref=sr_pg_4)\n"
     ]
    },
    {
     "name": "stdout",
     "output_type": "stream",
     "text": [
      "136\n",
      "['\\n            \\n              51%\\n            \\n          '] 3.0 out of 5 stars None\n"
     ]
    },
    {
     "name": "stderr",
     "output_type": "stream",
     "text": [
      "2022-09-18 02:21:56 [scrapy.core.engine] DEBUG: Crawled (200) <GET https://www.amazon.com/Deep-Reinforcement-Learning-Python-TensorFlow/dp/1484268083/ref=sr_1_189?crid=2HX2SCFCK032L&keywords=deep+learning&qid=1663460503&sprefix=deep+learnin%2Caps%2C449&sr=8-189> (referer: https://www.amazon.com/s?k=deep+learning&page=4&crid=2HX2SCFCK032L&qid=1663460242&sprefix=deep+learnin%2Caps%2C449&ref=sr_pg_4)\n",
      "2022-09-18 02:21:56 [scrapy.core.engine] DEBUG: Crawled (200) <GET https://www.amazon.com/Deep-Learning-Technical-Artificial-Intelligence/dp/B07NLLJXTT/ref=sr_1_188?crid=2HX2SCFCK032L&keywords=deep+learning&qid=1663460503&sprefix=deep+learnin%2Caps%2C449&sr=8-188> (referer: https://www.amazon.com/s?k=deep+learning&page=4&crid=2HX2SCFCK032L&qid=1663460242&sprefix=deep+learnin%2Caps%2C449&ref=sr_pg_4)\n"
     ]
    },
    {
     "name": "stdout",
     "output_type": "stream",
     "text": [
      "137\n",
      "['\\n            \\n              51%\\n            \\n          '] 4.0 out of 5 stars None\n",
      "138\n",
      "['\\n            \\n              68%\\n            \\n          '] 4.5 out of 5 stars 7 x 0.53 x 9.19 inches\n"
     ]
    },
    {
     "name": "stderr",
     "output_type": "stream",
     "text": [
      "2022-09-18 02:21:56 [scrapy.core.engine] DEBUG: Crawled (200) <GET https://www.amazon.com/Empowering-Young-Children-Wendy-Ostroff/dp/1032065060/ref=sr_1_186?crid=2HX2SCFCK032L&keywords=deep+learning&qid=1663460503&sprefix=deep+learnin%2Caps%2C449&sr=8-186> (referer: https://www.amazon.com/s?k=deep+learning&page=4&crid=2HX2SCFCK032L&qid=1663460242&sprefix=deep+learnin%2Caps%2C449&ref=sr_pg_4)\n",
      "2022-09-18 02:21:56 [scrapy.downloadermiddlewares.redirect] DEBUG: Redirecting (302) to <GET https://www.amazon.com/Learn-Unity-ML-Agents-Fundamentals-Reinforcement/dp/1789138132/ref=sr_1_180_sspa?crid=2HX2SCFCK032L&keywords=deep+learning&qid=1663460503&sprefix=deep+learnin%2Caps%2C449&sr=8-180-spons&psc=1> from <GET https://www.amazon.com/sspa/click?ie=UTF8&spc=MTo1NDgzOTE5NDI3NDU1NDEyOjE2NjM0NjA1MDM6c3BfbXRmOjIwMDAwNjYxNjk0NTU3MTo6MDo6&sp_csd=d2lkZ2V0TmFtZT1zcF9tdGY&url=%2FLearn-Unity-ML-Agents-Fundamentals-Reinforcement%2Fdp%2F1789138132%2Fref%3Dsr_1_180_sspa%3Fcrid%3D2HX2SCFCK032L%26keywords%3Ddeep%2Blearning%26qid%3D1663460503%26sprefix%3Ddeep%2Blearnin%252Caps%252C449%26sr%3D8-180-spons%26psc%3D1>\n",
      "2022-09-18 02:21:57 [scrapy.downloadermiddlewares.redirect] DEBUG: Redirecting (302) to <GET https://www.amazon.com/Hands-Natural-Language-Processing-PyTorch/dp/1789802741/ref=sr_1_178_sspa?crid=2HX2SCFCK032L&keywords=deep+learning&qid=1663460503&sprefix=deep+learnin%2Caps%2C449&sr=8-178-spons&psc=1> from <GET https://www.amazon.com/sspa/click?ie=UTF8&spc=MTo1NDgzOTE5NDI3NDU1NDEyOjE2NjM0NjA1MDM6c3BfbXRmOjIwMDAyNzU0NTU2Njk3MTo6MDo6&sp_csd=d2lkZ2V0TmFtZT1zcF9tdGY&url=%2FHands-Natural-Language-Processing-PyTorch%2Fdp%2F1789802741%2Fref%3Dsr_1_178_sspa%3Fcrid%3D2HX2SCFCK032L%26keywords%3Ddeep%2Blearning%26qid%3D1663460503%26sprefix%3Ddeep%2Blearnin%252Caps%252C449%26sr%3D8-178-spons%26psc%3D1>\n"
     ]
    },
    {
     "name": "stdout",
     "output_type": "stream",
     "text": [
      "139\n",
      "['\\n            \\n              72%\\n            \\n          '] 4.3 out of 5 stars 7.01 x 0.91 x 10 inches\n",
      "140\n",
      "[] None None\n"
     ]
    },
    {
     "name": "stderr",
     "output_type": "stream",
     "text": [
      "2022-09-18 02:21:57 [scrapy.downloadermiddlewares.redirect] DEBUG: Redirecting (302) to <GET https://www.amazon.com/Deep-Learning-PyTorch-Eli-Stevens/dp/1617295264/ref=sr_1_177_sspa?crid=2HX2SCFCK032L&keywords=deep+learning&qid=1663460503&sprefix=deep+learnin%2Caps%2C449&sr=8-177-spons&psc=1> from <GET https://www.amazon.com/sspa/click?ie=UTF8&spc=MTo1NDgzOTE5NDI3NDU1NDEyOjE2NjM0NjA1MDM6c3BfbXRmOjIwMDAzODQwNDk1NzQ0MTo6MDo6&sp_csd=d2lkZ2V0TmFtZT1zcF9tdGY&url=%2FDeep-Learning-PyTorch-Eli-Stevens%2Fdp%2F1617295264%2Fref%3Dsr_1_177_sspa%3Fcrid%3D2HX2SCFCK032L%26keywords%3Ddeep%2Blearning%26qid%3D1663460503%26sprefix%3Ddeep%2Blearnin%252Caps%252C449%26sr%3D8-177-spons%26psc%3D1>\n",
      "2022-09-18 02:21:57 [scrapy.core.engine] DEBUG: Crawled (200) <GET https://www.amazon.com/Deep-Discourse-Cultivating-Student-Led-Conversation/dp/1943874026/ref=sr_1_185?crid=2HX2SCFCK032L&keywords=deep+learning&qid=1663460503&sprefix=deep+learnin%2Caps%2C449&sr=8-185> (referer: https://www.amazon.com/s?k=deep+learning&page=4&crid=2HX2SCFCK032L&qid=1663460242&sprefix=deep+learnin%2Caps%2C449&ref=sr_pg_4)\n",
      "2022-09-18 02:21:57 [scrapy.downloadermiddlewares.redirect] DEBUG: Redirecting (302) to <GET https://www.amazon.com/Artificial-Intelligence-Comprehensive-Predictive-Reinforcement/dp/1092879676/ref=sr_1_179_sspa?crid=2HX2SCFCK032L&keywords=deep+learning&qid=1663460503&sprefix=deep+learnin%2Caps%2C449&sr=8-179-spons&psc=1> from <GET https://www.amazon.com/sspa/click?ie=UTF8&spc=MTo1NDgzOTE5NDI3NDU1NDEyOjE2NjM0NjA1MDM6c3BfbXRmOjIwMDAyMzk5NjU4NDMyMTo6MDo6&sp_csd=d2lkZ2V0TmFtZT1zcF9tdGY&url=%2FArtificial-Intelligence-Comprehensive-Predictive-Reinforcement%2Fdp%2F1092879676%2Fref%3Dsr_1_179_sspa%3Fcrid%3D2HX2SCFCK032L%26keywords%3Ddeep%2Blearning%26qid%3D1663460503%26sprefix%3Ddeep%2Blearnin%252Caps%252C449%26sr%3D8-179-spons%26psc%3D1>\n"
     ]
    },
    {
     "name": "stdout",
     "output_type": "stream",
     "text": [
      "141\n",
      "[] None 5.98 x 0.39 x 9.02 inches\n"
     ]
    },
    {
     "name": "stderr",
     "output_type": "stream",
     "text": [
      "2022-09-18 02:21:57 [scrapy.core.engine] DEBUG: Crawled (200) <GET https://www.amazon.com/Purposeful-Play-Teachers-Igniting-Learning/dp/0325077886/ref=sr_1_183?crid=2HX2SCFCK032L&keywords=deep+learning&qid=1663460503&sprefix=deep+learnin%2Caps%2C449&sr=8-183> (referer: https://www.amazon.com/s?k=deep+learning&page=4&crid=2HX2SCFCK032L&qid=1663460242&sprefix=deep+learnin%2Caps%2C449&ref=sr_pg_4)\n"
     ]
    },
    {
     "name": "stdout",
     "output_type": "stream",
     "text": [
      "142\n",
      "['\\n            \\n              100%\\n            \\n          '] 5.0 out of 5 stars 8.5 x 0.5 x 10.75 inches\n"
     ]
    },
    {
     "name": "stderr",
     "output_type": "stream",
     "text": [
      "2022-09-18 02:21:57 [scrapy.core.engine] DEBUG: Crawled (200) <GET https://www.amazon.com/Generative-AI-Python-TensorFlow-Transformer/dp/1800200889/ref=sr_1_182?crid=2HX2SCFCK032L&keywords=deep+learning&qid=1663460503&sprefix=deep+learnin%2Caps%2C449&sr=8-182> (referer: https://www.amazon.com/s?k=deep+learning&page=4&crid=2HX2SCFCK032L&qid=1663460242&sprefix=deep+learnin%2Caps%2C449&ref=sr_pg_4)\n"
     ]
    },
    {
     "name": "stdout",
     "output_type": "stream",
     "text": [
      "143\n",
      "['\\n            \\n              82%\\n            \\n          '] 4.7 out of 5 stars 7.4 x 0.44 x 9.3 inches\n"
     ]
    },
    {
     "name": "stderr",
     "output_type": "stream",
     "text": [
      "2022-09-18 02:21:58 [scrapy.core.engine] DEBUG: Crawled (200) <GET https://www.amazon.com/DEEP-LEARNING-TOOLS-NEURAL-NETWORKS/dp/1471704432/ref=sr_1_181?crid=2HX2SCFCK032L&keywords=deep+learning&qid=1663460503&sprefix=deep+learnin%2Caps%2C449&sr=8-181> (referer: https://www.amazon.com/s?k=deep+learning&page=4&crid=2HX2SCFCK032L&qid=1663460242&sprefix=deep+learnin%2Caps%2C449&ref=sr_pg_4)\n"
     ]
    },
    {
     "name": "stdout",
     "output_type": "stream",
     "text": [
      "144\n",
      "['\\n            \\n              68%\\n            \\n          '] 4.3 out of 5 stars 7.5 x 1.1 x 9.25 inches\n",
      "145\n",
      "[] None 8.27 x 0.47 x 11.69 inches\n"
     ]
    },
    {
     "name": "stderr",
     "output_type": "stream",
     "text": [
      "2022-09-18 02:21:58 [scrapy.core.engine] DEBUG: Crawled (200) <GET https://www.amazon.com/Redes-Neuronales-Deep-Learning-Spanish/dp/1731265387/ref=sr_1_252?crid=2HX2SCFCK032L&keywords=deep+learning&qid=1663460513&sprefix=deep+learnin%2Caps%2C449&sr=8-252> (referer: https://www.amazon.com/s?k=deep+learning&page=5&crid=2HX2SCFCK032L&qid=1663460242&sprefix=deep+learnin%2Caps%2C449&ref=sr_pg_5)\n",
      "2022-09-18 02:21:58 [scrapy.core.engine] DEBUG: Crawled (200) <GET https://www.amazon.com/Homeschool-Planner-Monthly-Organizer-Inspiration/dp/B0B5MCSTKX/ref=sr_1_176?crid=2HX2SCFCK032L&keywords=deep+learning&qid=1663460503&sprefix=deep+learnin%2Caps%2C449&sr=8-176> (referer: https://www.amazon.com/s?k=deep+learning&page=4&crid=2HX2SCFCK032L&qid=1663460242&sprefix=deep+learnin%2Caps%2C449&ref=sr_pg_4)\n"
     ]
    },
    {
     "name": "stdout",
     "output_type": "stream",
     "text": [
      "146\n",
      "['\\n            \\n              72%\\n            \\n          '] 4.3 out of 5 stars 7.5 x 1.7 x 9.25 inches\n"
     ]
    },
    {
     "name": "stderr",
     "output_type": "stream",
     "text": [
      "2022-09-18 02:22:02 [scrapy.core.engine] DEBUG: Crawled (200) <GET https://www.amazon.com/Deep-Learning-R-Abhijit-Ghatak-ebook/dp/B07QNDG1QF/ref=sr_1_249?crid=2HX2SCFCK032L&keywords=deep+learning&qid=1663460513&sprefix=deep+learnin%2Caps%2C449&sr=8-249> (referer: https://www.amazon.com/s?k=deep+learning&page=5&crid=2HX2SCFCK032L&qid=1663460242&sprefix=deep+learnin%2Caps%2C449&ref=sr_pg_5)\n",
      "2022-09-18 02:22:02 [scrapy.core.engine] DEBUG: Crawled (200) <GET https://www.amazon.com/Embedded-Deep-Learning-Architectures-Always/dp/303007577X/ref=sr_1_251?crid=2HX2SCFCK032L&keywords=deep+learning&qid=1663460513&sprefix=deep+learnin%2Caps%2C449&sr=8-251> (referer: https://www.amazon.com/s?k=deep+learning&page=5&crid=2HX2SCFCK032L&qid=1663460242&sprefix=deep+learnin%2Caps%2C449&ref=sr_pg_5)\n",
      "2022-09-18 02:22:02 [scrapy.core.engine] DEBUG: Crawled (200) <GET https://www.amazon.com/Elements-Deep-Learning-Computer-Vision-ebook/dp/B097TNCSM8/ref=sr_1_248?crid=2HX2SCFCK032L&keywords=deep+learning&qid=1663460513&sprefix=deep+learnin%2Caps%2C449&sr=8-248> (referer: https://www.amazon.com/s?k=deep+learning&page=5&crid=2HX2SCFCK032L&qid=1663460242&sprefix=deep+learnin%2Caps%2C449&ref=sr_pg_5)\n",
      "2022-09-18 02:22:02 [scrapy.core.engine] DEBUG: Crawled (200) <GET https://www.amazon.com/Deep-Learning-Keras-Introduction/dp/B075K21FMD/ref=sr_1_247?crid=2HX2SCFCK032L&keywords=deep+learning&qid=1663460513&sprefix=deep+learnin%2Caps%2C449&sr=8-247> (referer: https://www.amazon.com/s?k=deep+learning&page=5&crid=2HX2SCFCK032L&qid=1663460242&sprefix=deep+learnin%2Caps%2C449&ref=sr_pg_5)\n",
      "2022-09-18 02:22:02 [scrapy.core.engine] DEBUG: Crawled (200) <GET https://www.amazon.com/Learning-Unix-OS-Going-Terminal/dp/1491939982/ref=sr_1_250?crid=2HX2SCFCK032L&keywords=deep+learning&qid=1663460513&sprefix=deep+learnin%2Caps%2C449&sr=8-250> (referer: https://www.amazon.com/s?k=deep+learning&page=5&crid=2HX2SCFCK032L&qid=1663460242&sprefix=deep+learnin%2Caps%2C449&ref=sr_pg_5)\n"
     ]
    },
    {
     "name": "stdout",
     "output_type": "stream",
     "text": [
      "start_new_page\n",
      "147\n",
      "[] None 8.5 x 0.52 x 11 inches\n"
     ]
    },
    {
     "name": "stderr",
     "output_type": "stream",
     "text": [
      "2022-09-18 02:22:02 [scrapy.core.engine] DEBUG: Crawled (200) <GET https://www.amazon.com/Learn-Unity-ML-Agents-Fundamentals-Reinforcement/dp/1789138132/ref=sr_1_180_sspa?crid=2HX2SCFCK032L&keywords=deep+learning&qid=1663460503&sprefix=deep+learnin%2Caps%2C449&sr=8-180-spons&psc=1> (referer: https://www.amazon.com/s?k=deep+learning&page=4&crid=2HX2SCFCK032L&qid=1663460242&sprefix=deep+learnin%2Caps%2C449&ref=sr_pg_4)\n"
     ]
    },
    {
     "name": "stdout",
     "output_type": "stream",
     "text": [
      "148\n",
      "['\\n            \\n              100%\\n            \\n          '] 5.0 out of 5 stars None\n",
      "149\n",
      "['\\n            \\n              100%\\n            \\n          '] 5.0 out of 5 stars 6.1 x 0.51 x 9.25 inches\n",
      "150\n",
      "['\\n            \\n              49%\\n            \\n          '] 3.6 out of 5 stars None\n",
      "151\n",
      "['\\n            \\n              12%\\n            \\n          '] 1.9 out of 5 stars None\n"
     ]
    },
    {
     "name": "stderr",
     "output_type": "stream",
     "text": [
      "2022-09-18 02:22:02 [scrapy.core.engine] DEBUG: Crawled (200) <GET https://www.amazon.com/Machine-Learning-Time-Python-state/dp/1801819629/ref=sr_1_246?crid=2HX2SCFCK032L&keywords=deep+learning&qid=1663460513&sprefix=deep+learnin%2Caps%2C449&sr=8-246> (referer: https://www.amazon.com/s?k=deep+learning&page=5&crid=2HX2SCFCK032L&qid=1663460242&sprefix=deep+learnin%2Caps%2C449&ref=sr_pg_5)\n",
      "2022-09-18 02:22:03 [scrapy.core.engine] DEBUG: Crawled (200) <GET https://www.amazon.com/Hands-Natural-Language-Processing-PyTorch/dp/1789802741/ref=sr_1_178_sspa?crid=2HX2SCFCK032L&keywords=deep+learning&qid=1663460503&sprefix=deep+learnin%2Caps%2C449&sr=8-178-spons&psc=1> (referer: https://www.amazon.com/s?k=deep+learning&page=4&crid=2HX2SCFCK032L&qid=1663460242&sprefix=deep+learnin%2Caps%2C449&ref=sr_pg_4)\n"
     ]
    },
    {
     "name": "stdout",
     "output_type": "stream",
     "text": [
      "152\n",
      "['\\n            \\n              56%\\n            \\n          '] 4.4 out of 5 stars 7 x 0.54 x 9.19 inches\n",
      "153\n",
      "['\\n            \\n              43%\\n            \\n          '] 2.7 out of 5 stars 7.5 x 0.46 x 9.25 inches\n",
      "154\n",
      "['\\n            \\n              53%\\n            \\n          '] 4.0 out of 5 stars 7.5 x 0.84 x 9.25 inches\n",
      "155\n",
      "['\\n            \\n              36%\\n            \\n          '] 3.7 out of 5 stars 7.5 x 0.63 x 9.25 inches\n"
     ]
    },
    {
     "name": "stderr",
     "output_type": "stream",
     "text": [
      "2022-09-18 02:22:03 [scrapy.core.engine] DEBUG: Crawled (200) <GET https://www.amazon.com/Python-Deep-Learning-Projects-demystifying/dp/1788997093/ref=sr_1_245?crid=2HX2SCFCK032L&keywords=deep+learning&qid=1663460513&sprefix=deep+learnin%2Caps%2C449&sr=8-245> (referer: https://www.amazon.com/s?k=deep+learning&page=5&crid=2HX2SCFCK032L&qid=1663460242&sprefix=deep+learnin%2Caps%2C449&ref=sr_pg_5)\n",
      "2022-09-18 02:22:04 [scrapy.core.engine] DEBUG: Crawled (200) <GET https://www.amazon.com/Practical-Deep-Learning-Scale-MLflow/dp/1803241330/ref=sr_1_243?crid=2HX2SCFCK032L&keywords=deep+learning&qid=1663460513&sprefix=deep+learnin%2Caps%2C449&sr=8-243> (referer: https://www.amazon.com/s?k=deep+learning&page=5&crid=2HX2SCFCK032L&qid=1663460242&sprefix=deep+learnin%2Caps%2C449&ref=sr_pg_5)\n",
      "2022-09-18 02:22:04 [scrapy.core.engine] DEBUG: Crawled (200) <GET https://www.amazon.com/Deep-Learning-PyTorch-Eli-Stevens/dp/1617295264/ref=sr_1_177_sspa?crid=2HX2SCFCK032L&keywords=deep+learning&qid=1663460503&sprefix=deep+learnin%2Caps%2C449&sr=8-177-spons&psc=1> (referer: https://www.amazon.com/s?k=deep+learning&page=4&crid=2HX2SCFCK032L&qid=1663460242&sprefix=deep+learnin%2Caps%2C449&ref=sr_pg_4)\n",
      "2022-09-18 02:22:04 [scrapy.core.engine] DEBUG: Crawled (200) <GET https://www.amazon.com/Learning-Sustainable-Agriculture-Cognitive-Computing-ebook/dp/B09Q8FYJM3/ref=sr_1_242?crid=2HX2SCFCK032L&keywords=deep+learning&qid=1663460513&sprefix=deep+learnin%2Caps%2C449&sr=8-242> (referer: https://www.amazon.com/s?k=deep+learning&page=5&crid=2HX2SCFCK032L&qid=1663460242&sprefix=deep+learnin%2Caps%2C449&ref=sr_pg_5)\n",
      "2022-09-18 02:22:04 [scrapy.core.engine] DEBUG: Crawled (200) <GET https://www.amazon.com/Deep-Brain-Learning-evidence-based-development/dp/099615910X/ref=sr_1_244?crid=2HX2SCFCK032L&keywords=deep+learning&qid=1663460513&sprefix=deep+learnin%2Caps%2C449&sr=8-244> (referer: https://www.amazon.com/s?k=deep+learning&page=5&crid=2HX2SCFCK032L&qid=1663460242&sprefix=deep+learnin%2Caps%2C449&ref=sr_pg_5)\n"
     ]
    },
    {
     "name": "stdout",
     "output_type": "stream",
     "text": [
      "156\n",
      "['\\n            \\n              34%\\n            \\n          '] 3.9 out of 5 stars 7.5 x 1.07 x 9.25 inches\n",
      "157\n",
      "['\\n            \\n              83%\\n            \\n          '] 4.8 out of 5 stars 7.5 x 0.65 x 9.25 inches\n"
     ]
    },
    {
     "name": "stderr",
     "output_type": "stream",
     "text": [
      "2022-09-18 02:22:04 [scrapy.core.engine] DEBUG: Crawled (200) <GET https://www.amazon.com/Artificial-Intelligence-Comprehensive-Predictive-Reinforcement/dp/1092879676/ref=sr_1_179_sspa?crid=2HX2SCFCK032L&keywords=deep+learning&qid=1663460503&sprefix=deep+learnin%2Caps%2C449&sr=8-179-spons&psc=1> (referer: https://www.amazon.com/s?k=deep+learning&page=4&crid=2HX2SCFCK032L&qid=1663460242&sprefix=deep+learnin%2Caps%2C449&ref=sr_pg_4)\n"
     ]
    },
    {
     "name": "stdout",
     "output_type": "stream",
     "text": [
      "158\n",
      "['\\n            \\n              72%\\n            \\n          '] 4.4 out of 5 stars 7.38 x 1 x 9.25 inches\n",
      "159\n",
      "[] None None\n"
     ]
    },
    {
     "name": "stderr",
     "output_type": "stream",
     "text": [
      "2022-09-18 02:22:05 [scrapy.core.engine] DEBUG: Crawled (200) <GET https://www.amazon.com/Deep-Learning-Pipeline-Building-TensorFlow/dp/1484253485/ref=sr_1_240?crid=2HX2SCFCK032L&keywords=deep+learning&qid=1663460513&sprefix=deep+learnin%2Caps%2C449&sr=8-240> (referer: https://www.amazon.com/s?k=deep+learning&page=5&crid=2HX2SCFCK032L&qid=1663460242&sprefix=deep+learnin%2Caps%2C449&ref=sr_pg_5)\n"
     ]
    },
    {
     "name": "stdout",
     "output_type": "stream",
     "text": [
      "160\n",
      "['\\n            \\n              63%\\n            \\n          '] 4.6 out of 5 stars None\n",
      "161\n",
      "['\\n            \\n              48%\\n            \\n          '] 3.9 out of 5 stars 6 x 0.53 x 9 inches\n"
     ]
    },
    {
     "name": "stderr",
     "output_type": "stream",
     "text": [
      "2022-09-18 02:22:05 [scrapy.core.engine] DEBUG: Crawled (200) <GET https://www.amazon.com/s?k=deep+learning&page=6&crid=2HX2SCFCK032L&qid=1663460242&sprefix=deep+learnin%2Caps%2C449&ref=sr_pg_6> (referer: https://www.amazon.com/Redes-Neuronales-Deep-Learning-Spanish/dp/1731265387/ref=sr_1_252?crid=2HX2SCFCK032L&keywords=deep+learning&qid=1663460513&sprefix=deep+learnin%2Caps%2C449&sr=8-252)\n"
     ]
    },
    {
     "name": "stdout",
     "output_type": "stream",
     "text": [
      "162\n",
      "['\\n            \\n              100%\\n            \\n          '] 2.0 out of 5 stars 6.1 x 1.31 x 9.25 inches\n"
     ]
    },
    {
     "name": "stderr",
     "output_type": "stream",
     "text": [
      "2022-09-18 02:22:05 [scrapy.core.engine] DEBUG: Crawled (200) <GET https://www.amazon.com/Deep-Learning-Natural-Language-Processing-ebook/dp/B07F2FT6HW/ref=sr_1_241?crid=2HX2SCFCK032L&keywords=deep+learning&qid=1663460513&sprefix=deep+learnin%2Caps%2C449&sr=8-241> (referer: https://www.amazon.com/s?k=deep+learning&page=5&crid=2HX2SCFCK032L&qid=1663460242&sprefix=deep+learnin%2Caps%2C449&ref=sr_pg_5)\n"
     ]
    },
    {
     "name": "stdout",
     "output_type": "stream",
     "text": [
      "6\n",
      "Advanced Deep Learning with TensorFlow 2 and Keras: Apply DL, GANs, VAEs, deep RL, unsupervised learning, object detection and segmentation, and more, 2nd Edition\n",
      "Deep Reinforcement Learning Hands-On: Apply modern RL methods to practical problems of chatbots, robotics, discrete optimization, web automation, and more, 2nd Edition\n",
      "Hands-On Music Generation with Magenta: Explore the role of deep learning in music generation and assisted music composition\n",
      "AI Crash Course: A fun and hands-on introduction to machine learning, reinforcement learning, deep learning, and artificial intelligence with Python\n",
      "Elements of Deep Learning for Computer Vision: Explore Deep Neural Network Architectures, PyTorch, Object Detection Algorithms, and Computer Vision Applications for Python Coders (English Edition)\n",
      "Deep Learning with R\n",
      "Learning Unix for OS X: Going Deep With the Terminal and Shell\n",
      "Deep Learning with fastai Cookbook: Leverage the easy-to-use fastai framework to unlock the power of deep learning\n",
      "Embedded Deep Learning: Algorithms, Architectures and Circuits for Always-on Neural Network Processing\n",
      "Redes Neuronales & Deep Learning (Spanish Edition)\n",
      "Deep Learning for Physical Scientists: Accelerating Research with Machine Learning\n",
      "Deep Learning Examples with PyTorch and fastai: A Developers' Cookbook\n",
      "Machine and Deep Learning in Oncology, Medical Physics and Radiology\n",
      "Python Deep Learning for Beginners: Theory and Practices step-by-step using TensorFlow 2.0 and Keras (Machine Learning & Data Science for Beginners)\n",
      "Deep Learning Patterns and Practices\n",
      "State-of-the-Art Deep Learning Models in TensorFlow: Modern Machine Learning in the Google Colab Ecosystem\n",
      "Automated Machine Learning with AutoKeras: Deep learning made accessible for everyone with just few lines of coding\n",
      "Deep Machine Learning: 3 in 1- A Comprehensive Beginner Developer Guide + Complete Tips and Tricks + Advanced Deep Machine Learning Techniques and Methods to learning Artificial Intelligence\n",
      "Deep Learning with TensorFlow: Explore neural networks and build intelligent systems with Python, 2nd Edition\n",
      "Deep Learning and the Game of Go\n",
      "Learning TensorFlow: A Guide to Building Deep Learning Systems\n",
      "Data Scientist Pocket Guide: Over 600 Concepts, Terminologies, and Processes of Machine Learning and Deep Learning Assembled Together (English Edition)\n",
      "Fundamentals of Deep Learning and Computer Vision: A Complete Guide to become an Expert in Deep Learning and Computer Vision (English Edition)\n",
      "The Wheel of Time - Season 1\n",
      "Advanced Deep Learning with Keras: Apply deep learning techniques, autoencoders, GANs, variational autoencoders, deep reinforcement learning, policy gradients, and more\n",
      "Deep Learning: 2 Manuscripts, Deep Learning With Keras and Convolutional Neural Networks In Python\n",
      "Efficient Processing of Deep Neural Networks (Synthesis Lectures on Computer Architecture)\n",
      "Deep Learning With Python: Advanced Guide to Learn Deep Learning with Python\n",
      "Deep Reinforcement Learning\n",
      "Data Orchestration in Deep Learning Accelerators (Synthesis Lectures on Computer Architecture)\n",
      "Computer Vision: Algorithms and Applications (Texts in Computer Science)\n",
      "Brain-centric Design: The Surprising Neuroscience Behind Learning With Deep Understanding\n",
      "Deep Learning with fastai Cookbook: Leverage the easy-to-use fastai framework to unlock the power of deep learning\n",
      "Applied Software Development With Python & Machine Learning By Wearable & Wireless Systems For Movement Disorder Treatment Via Deep Brain Stimulation\n",
      "The Programmers Code: A Deep Dive Into Mastering Computer Programming Including Python, C, C++, C#, Html Coding, Raspberry Pi3, And Black Hat Hacking\n",
      "Deep Learning: Robotics Notebook Journal 6x9 Inches - 100 Lined Pages - Perfect For Robotic Engineers And Robot Fans\n",
      "Deep Learning Techniques for Music Generation (Computational Synthesis and Creative Systems)\n",
      "Hands-On Deep Learning Algorithms with Python: Master deep learning algorithms with extensive math by implementing them using TensorFlow\n",
      "R Deep Learning Essentials: A step-by-step guide to building deep learning models using TensorFlow, Keras, and MXNet, 2nd Edition\n",
      "Time Series Forecasting using Deep Learning\n",
      "Deep Learning on Graphs\n",
      "The Hundred-Page Machine Learning Book\n",
      "Data Analytics: 7 Manuscripts: Data Analytics Beginners, Deep Learning Keras, Analyzing Data Power BI, Reinforcement Learning, Artificial Intelligence, Text Analytics, Convolutional Neural Networks\n",
      "Introduction to Deep Learning Using R: A Step-by-Step Guide to Learning and Implementing Deep Learning Models Using R\n",
      "Better Small Talk: Talk to Anyone, Avoid Awkwardness, Generate Deep Conversations, and Make Real Friends (How to be More Likable and Charismatic)\n",
      "Getting started with Deep Learning for Natural Language Processing: Learn how to build NLP applications with Deep Learning (English Edition)\n",
      "Beginning with Deep Learning Using TensorFlow: A Beginners Guide to TensorFlow and Keras for Practicing Deep Learning Principles and Applications (English Edition)\n",
      "Deep Learning for Computer Vision with SAS®: An Introduction\n",
      "Understanding Deep Learning: Application in Rare Event Prediction (Student Version)\n",
      "Python: The Complete Crash Course to Learn Python in One Week Machine Learning and Deep Learning with Hands-On Exercises\n",
      "Redes Neuronales & Deep Learning - Volumen 1: Entrenamiento de redes neuronales artificiales [formato 8.5\" x 11\"] (Spanish Edition)\n",
      "Neural Networks for Beginners: An Easy Textbook for Machine Learning Fundamentals to Guide You Implementing Neural Networks with Python and Deep Learning (Artificial Intelligence)\n",
      "AI and Machine Learning for Coders: A Programmer's Guide to Artificial Intelligence\n",
      "BIG DATA AND DEEP LEARNING. EXAMPLES WITH MATLAB\n",
      "Risk Modeling: Practical Applications of Artificial Intelligence, Machine Learning, and Deep Learning (Wiley and SAS Business Series)\n",
      "The Deep Learning AI Playbook: Strategy for Disruptive Artificial Intelligence\n",
      "Machine Learning for Algorithmic Trading: Predictive models to extract signals from market and alternative data for systematic trading strategies with Python, 2nd Edition\n",
      "Applied Deep Learning with Python: Use scikit-learn, TensorFlow, and Keras to create intelligent systems and machine learning solutions\n",
      "Deep Learning: Natural Language Processing in Python with Recursive Neural Networks: Recursive Neural (Tensor) Networks in Theano (Deep Learning and Natural Language Processing Book 3)\n",
      "SpongeBob SquarePants Season 1\n",
      "163\n",
      "['\\n            \\n              51%\\n            \\n          '] 4.5 out of 5 stars None\n"
     ]
    },
    {
     "name": "stderr",
     "output_type": "stream",
     "text": [
      "2022-09-18 02:22:06 [scrapy.core.engine] DEBUG: Crawled (200) <GET https://www.amazon.com/Deep-Machine-Learning-Comprehensive-Algorithms-ebook/dp/B07W6XBGLN/ref=sr_1_238?crid=2HX2SCFCK032L&keywords=deep+learning&qid=1663460513&sprefix=deep+learnin%2Caps%2C449&sr=8-238> (referer: https://www.amazon.com/s?k=deep+learning&page=5&crid=2HX2SCFCK032L&qid=1663460242&sprefix=deep+learnin%2Caps%2C449&ref=sr_pg_5)\n",
      "2022-09-18 02:22:07 [scrapy.core.engine] DEBUG: Crawled (200) <GET https://www.amazon.com/Advanced-Applied-Deep-Learning-Convolutional-ebook/dp/B07YKHQGGY/ref=sr_1_237?crid=2HX2SCFCK032L&keywords=deep+learning&qid=1663460513&sprefix=deep+learnin%2Caps%2C449&sr=8-237> (referer: https://www.amazon.com/s?k=deep+learning&page=5&crid=2HX2SCFCK032L&qid=1663460242&sprefix=deep+learnin%2Caps%2C449&ref=sr_pg_5)\n"
     ]
    },
    {
     "name": "stdout",
     "output_type": "stream",
     "text": [
      "164\n",
      "['\\n            \\n              62%\\n            \\n          '] 4.2 out of 5 stars None\n",
      "165\n",
      "['\\n            \\n              72%\\n            \\n          '] 4.4 out of 5 stars None\n"
     ]
    },
    {
     "name": "stderr",
     "output_type": "stream",
     "text": [
      "2022-09-18 02:22:07 [scrapy.core.engine] DEBUG: Crawled (200) <GET https://www.amazon.com/Machine-Learning-Cybersecurity-Innovative-SpringerBriefs/dp/303115892X/ref=sr_1_234?crid=2HX2SCFCK032L&keywords=deep+learning&qid=1663460513&sprefix=deep+learnin%2Caps%2C449&sr=8-234> (referer: https://www.amazon.com/s?k=deep+learning&page=5&crid=2HX2SCFCK032L&qid=1663460242&sprefix=deep+learnin%2Caps%2C449&ref=sr_pg_5)\n",
      "2022-09-18 02:22:07 [scrapy.core.engine] DEBUG: Crawled (200) <GET https://www.amazon.com/Beginning-Deep-Learning-TensorFlow-Advanced/dp/148427914X/ref=sr_1_233?crid=2HX2SCFCK032L&keywords=deep+learning&qid=1663460513&sprefix=deep+learnin%2Caps%2C449&sr=8-233> (referer: https://www.amazon.com/s?k=deep+learning&page=5&crid=2HX2SCFCK032L&qid=1663460242&sprefix=deep+learnin%2Caps%2C449&ref=sr_pg_5)\n"
     ]
    },
    {
     "name": "stdout",
     "output_type": "stream",
     "text": [
      "166\n",
      "[] None None\n",
      "167\n",
      "[] None 6.1 x 1.67 x 9.25 inches\n"
     ]
    },
    {
     "name": "stderr",
     "output_type": "stream",
     "text": [
      "2022-09-18 02:22:08 [scrapy.core.engine] DEBUG: Crawled (200) <GET https://www.amazon.com/Cultivating-Curiosity-K-12-Classrooms-Learning/dp/1416621970/ref=sr_1_239?crid=2HX2SCFCK032L&keywords=deep+learning&qid=1663460513&sprefix=deep+learnin%2Caps%2C449&sr=8-239> (referer: https://www.amazon.com/s?k=deep+learning&page=5&crid=2HX2SCFCK032L&qid=1663460242&sprefix=deep+learnin%2Caps%2C449&ref=sr_pg_5)\n",
      "2022-09-18 02:22:08 [scrapy.downloadermiddlewares.redirect] DEBUG: Redirecting (302) to <GET https://www.amazon.com/TENSORFLOW-MACHINE-LEARNING-Scikit-Learn-TensorFlow/dp/B08YQFWH5N/ref=sr_1_228_sspa?crid=2HX2SCFCK032L&keywords=deep+learning&qid=1663460513&sprefix=deep+learnin%2Caps%2C449&sr=8-228-spons&psc=1> from <GET https://www.amazon.com/sspa/click?ie=UTF8&spc=MTo1Njc4OTEyNDUxMzA4OTU1OjE2NjM0NjA1MTM6c3BfbXRmOjIwMDA1NTc3OTM2NzQ0MTo6MDo6&sp_csd=d2lkZ2V0TmFtZT1zcF9tdGY&url=%2FTENSORFLOW-MACHINE-LEARNING-Scikit-Learn-TensorFlow%2Fdp%2FB08YQFWH5N%2Fref%3Dsr_1_228_sspa%3Fcrid%3D2HX2SCFCK032L%26keywords%3Ddeep%2Blearning%26qid%3D1663460513%26sprefix%3Ddeep%2Blearnin%252Caps%252C449%26sr%3D8-228-spons%26psc%3D1>\n",
      "2022-09-18 02:22:08 [scrapy.downloadermiddlewares.redirect] DEBUG: Redirecting (302) to <GET https://www.amazon.com/TensorFlow-Machine-Learning-Advanced-Scikit-Learn/dp/B08SGYGRDG/ref=sr_1_227_sspa?crid=2HX2SCFCK032L&keywords=deep+learning&qid=1663460513&sprefix=deep+learnin%2Caps%2C449&sr=8-227-spons&psc=1> from <GET https://www.amazon.com/sspa/click?ie=UTF8&spc=MTo1Njc4OTEyNDUxMzA4OTU1OjE2NjM0NjA1MTM6c3BfbXRmOjIwMDA0NzA3NzYxNzQ0MTo6MDo6&sp_csd=d2lkZ2V0TmFtZT1zcF9tdGY&url=%2FTensorFlow-Machine-Learning-Advanced-Scikit-Learn%2Fdp%2FB08SGYGRDG%2Fref%3Dsr_1_227_sspa%3Fcrid%3D2HX2SCFCK032L%26keywords%3Ddeep%2Blearning%26qid%3D1663460513%26sprefix%3Ddeep%2Blearnin%252Caps%252C449%26sr%3D8-227-spons%26psc%3D1>\n",
      "2022-09-18 02:22:08 [scrapy.downloadermiddlewares.redirect] DEBUG: Redirecting (302) to <GET https://www.amazon.com/Big-Data-Transforming-Information-Intelligence/dp/1975699734/ref=sr_1_226_sspa?crid=2HX2SCFCK032L&keywords=deep+learning&qid=1663460513&sprefix=deep+learnin%2Caps%2C449&sr=8-226-spons&psc=1> from <GET https://www.amazon.com/sspa/click?ie=UTF8&spc=MTo1Njc4OTEyNDUxMzA4OTU1OjE2NjM0NjA1MTM6c3BfbXRmOjIwMDAyNjk2MDE3NzA3MTo6MDo6&sp_csd=d2lkZ2V0TmFtZT1zcF9tdGY&url=%2FBig-Data-Transforming-Information-Intelligence%2Fdp%2F1975699734%2Fref%3Dsr_1_226_sspa%3Fcrid%3D2HX2SCFCK032L%26keywords%3Ddeep%2Blearning%26qid%3D1663460513%26sprefix%3Ddeep%2Blearnin%252Caps%252C449%26sr%3D8-226-spons%26psc%3D1>\n",
      "2022-09-18 02:22:08 [scrapy.core.engine] DEBUG: Crawled (200) <GET https://www.amazon.com/Perfect-Enemy-Athena-Strates/dp/B09635QTR5/ref=sr_1_232?crid=2HX2SCFCK032L&keywords=deep+learning&qid=1663460513&sprefix=deep+learnin%2Caps%2C449&sr=8-232> (referer: https://www.amazon.com/s?k=deep+learning&page=5&crid=2HX2SCFCK032L&qid=1663460242&sprefix=deep+learnin%2Caps%2C449&ref=sr_pg_5)\n",
      "2022-09-18 02:22:08 [scrapy.core.engine] DEBUG: Crawled (200) <GET https://www.amazon.com/Python-Deep-learning-Step-Step-ebook/dp/B07Q9LVJJS/ref=sr_1_235?crid=2HX2SCFCK032L&keywords=deep+learning&qid=1663460513&sprefix=deep+learnin%2Caps%2C449&sr=8-235> (referer: https://www.amazon.com/s?k=deep+learning&page=5&crid=2HX2SCFCK032L&qid=1663460242&sprefix=deep+learnin%2Caps%2C449&ref=sr_pg_5)\n"
     ]
    },
    {
     "name": "stdout",
     "output_type": "stream",
     "text": [
      "168\n",
      "['\\n            \\n              67%\\n            \\n          '] 4.5 out of 5 stars 6.9 x 0.6 x 8.9 inches\n"
     ]
    },
    {
     "name": "stderr",
     "output_type": "stream",
     "text": [
      "2022-09-18 02:22:08 [scrapy.core.engine] DEBUG: Crawled (200) <GET https://www.amazon.com/Python-Deep-Learning-Introducci%C3%B3n-TensorFlow-ebook/dp/B0875WPVL4/ref=sr_1_231?crid=2HX2SCFCK032L&keywords=deep+learning&qid=1663460513&sprefix=deep+learnin%2Caps%2C449&sr=8-231> (referer: https://www.amazon.com/s?k=deep+learning&page=5&crid=2HX2SCFCK032L&qid=1663460242&sprefix=deep+learnin%2Caps%2C449&ref=sr_pg_5)\n",
      "2022-09-18 02:22:08 [scrapy.core.engine] DEBUG: Crawled (200) <GET https://www.amazon.com/Machine-Learning-Economics-Finance-TensorFlow/dp/1484263723/ref=sr_1_236?crid=2HX2SCFCK032L&keywords=deep+learning&qid=1663460513&sprefix=deep+learnin%2Caps%2C449&sr=8-236> (referer: https://www.amazon.com/s?k=deep+learning&page=5&crid=2HX2SCFCK032L&qid=1663460242&sprefix=deep+learnin%2Caps%2C449&ref=sr_pg_5)\n",
      "2022-09-18 02:22:09 [scrapy.core.engine] DEBUG: Crawled (200) <GET https://www.amazon.com/Deep-Learning-Workshop-next-generation-TensorFlow-ebook/dp/B08Q8GP7DJ/ref=sr_1_230?crid=2HX2SCFCK032L&keywords=deep+learning&qid=1663460513&sprefix=deep+learnin%2Caps%2C449&sr=8-230> (referer: https://www.amazon.com/s?k=deep+learning&page=5&crid=2HX2SCFCK032L&qid=1663460242&sprefix=deep+learnin%2Caps%2C449&ref=sr_pg_5)\n",
      "2022-09-18 02:22:09 [scrapy.downloadermiddlewares.redirect] DEBUG: Redirecting (302) to <GET https://www.amazon.com/Advanced-Deep-Learning-TensorFlow-Keras/dp/1838821651/ref=sr_1_241_sspa?crid=2HX2SCFCK032L&keywords=deep+learning&qid=1663460523&sprefix=deep+learnin%2Caps%2C449&sr=8-241-spons&psc=1> from <GET https://www.amazon.com/sspa/click?ie=UTF8&spc=MToxODY3NTk1MTQyODQyODkyOjE2NjM0NjA1MjM6c3BfYXRmX25leHQ6MjAwMDIxNzMyNDIzODcxOjowOjo&sp_csd=d2lkZ2V0TmFtZT1zcF9hdGZfbmV4dA&url=%2FAdvanced-Deep-Learning-TensorFlow-Keras%2Fdp%2F1838821651%2Fref%3Dsr_1_241_sspa%3Fcrid%3D2HX2SCFCK032L%26keywords%3Ddeep%2Blearning%26qid%3D1663460523%26sprefix%3Ddeep%2Blearnin%252Caps%252C449%26sr%3D8-241-spons%26psc%3D1>\n",
      "2022-09-18 02:22:09 [scrapy.downloadermiddlewares.redirect] DEBUG: Redirecting (302) to <GET https://www.amazon.com/Building-Computer-Vision-Projects-OpenCV/dp/1838644679/ref=sr_1_225_sspa?crid=2HX2SCFCK032L&keywords=deep+learning&qid=1663460513&sprefix=deep+learnin%2Caps%2C449&sr=8-225-spons&psc=1> from <GET https://www.amazon.com/sspa/click?ie=UTF8&spc=MTo1Njc4OTEyNDUxMzA4OTU1OjE2NjM0NjA1MTM6c3BfbXRmOjIwMDAxMTY2ODYzNjM3MTo6MDo6&sp_csd=d2lkZ2V0TmFtZT1zcF9tdGY&url=%2FBuilding-Computer-Vision-Projects-OpenCV%2Fdp%2F1838644679%2Fref%3Dsr_1_225_sspa%3Fcrid%3D2HX2SCFCK032L%26keywords%3Ddeep%2Blearning%26qid%3D1663460513%26sprefix%3Ddeep%2Blearnin%252Caps%252C449%26sr%3D8-225-spons%26psc%3D1>\n"
     ]
    },
    {
     "name": "stdout",
     "output_type": "stream",
     "text": [
      "169\n",
      "[] None None\n",
      "170\n",
      "['\\n            \\n              44%\\n            \\n          '] 3.7 out of 5 stars None\n"
     ]
    },
    {
     "name": "stderr",
     "output_type": "stream",
     "text": [
      "2022-09-18 02:22:09 [scrapy.core.engine] DEBUG: Crawled (200) <GET https://www.amazon.com/Beginning-Anomaly-Deep-Learning-sectSelected-ebook/dp/B0BBPJDPM7/ref=sr_1_229?crid=2HX2SCFCK032L&keywords=deep+learning&qid=1663460513&sprefix=deep+learnin%2Caps%2C449&sr=8-229> (referer: https://www.amazon.com/s?k=deep+learning&page=5&crid=2HX2SCFCK032L&qid=1663460242&sprefix=deep+learnin%2Caps%2C449&ref=sr_pg_5)\n"
     ]
    },
    {
     "name": "stdout",
     "output_type": "stream",
     "text": [
      "171\n",
      "['\\n            \\n              80%\\n            \\n          '] 4.7 out of 5 stars None\n",
      "172\n",
      "['\\n            \\n              33%\\n            \\n          '] 3.3 out of 5 stars 6.1 x 0.91 x 9.25 inches\n",
      "173\n",
      "['\\n            \\n              79%\\n            \\n          '] 4.8 out of 5 stars None\n",
      "174\n",
      "[] None None\n"
     ]
    },
    {
     "name": "stderr",
     "output_type": "stream",
     "text": [
      "2022-09-18 02:22:10 [scrapy.core.engine] DEBUG: Crawled (200) <GET https://www.amazon.com/Applied-Deep-Learning-Python-scikit-learn-ebook/dp/B07H2W45PB/ref=sr_1_298?crid=2HX2SCFCK032L&keywords=deep+learning&qid=1663460523&sprefix=deep+learnin%2Caps%2C449&sr=8-298> (referer: https://www.amazon.com/s?k=deep+learning&page=6&crid=2HX2SCFCK032L&qid=1663460242&sprefix=deep+learnin%2Caps%2C449&ref=sr_pg_6)\n",
      "2022-09-18 02:22:10 [scrapy.core.engine] DEBUG: Crawled (200) <GET https://www.amazon.com/Bubblestand-Ripped-Pants/dp/B000HJ4WLC/ref=sr_1_300?crid=2HX2SCFCK032L&keywords=deep+learning&qid=1663460523&sprefix=deep+learnin%2Caps%2C449&sr=8-300> (referer: https://www.amazon.com/s?k=deep+learning&page=6&crid=2HX2SCFCK032L&qid=1663460242&sprefix=deep+learnin%2Caps%2C449&ref=sr_pg_6)\n",
      "2022-09-18 02:22:11 [scrapy.core.engine] DEBUG: Crawled (200) <GET https://www.amazon.com/TensorFlow-Machine-Learning-Advanced-Scikit-Learn/dp/B08SGYGRDG/ref=sr_1_227_sspa?crid=2HX2SCFCK032L&keywords=deep+learning&qid=1663460513&sprefix=deep+learnin%2Caps%2C449&sr=8-227-spons&psc=1> (referer: https://www.amazon.com/s?k=deep+learning&page=5&crid=2HX2SCFCK032L&qid=1663460242&sprefix=deep+learnin%2Caps%2C449&ref=sr_pg_5)\n"
     ]
    },
    {
     "name": "stdout",
     "output_type": "stream",
     "text": [
      "175\n",
      "['\\n            \\n              55%\\n            \\n          '] 3.9 out of 5 stars None\n",
      "176\n",
      "[] None None\n"
     ]
    },
    {
     "name": "stderr",
     "output_type": "stream",
     "text": [
      "2022-09-18 02:22:14 [scrapy.core.engine] DEBUG: Crawled (200) <GET https://www.amazon.com/Deep-Learning-Language-Processing-Recursive-ebook/dp/B01KS5AEXO/ref=sr_1_299?crid=2HX2SCFCK032L&keywords=deep+learning&qid=1663460523&sprefix=deep+learnin%2Caps%2C449&sr=8-299> (referer: https://www.amazon.com/s?k=deep+learning&page=6&crid=2HX2SCFCK032L&qid=1663460242&sprefix=deep+learnin%2Caps%2C449&ref=sr_pg_6)\n",
      "2022-09-18 02:22:14 [scrapy.core.engine] DEBUG: Crawled (200) <GET https://www.amazon.com/Machine-Learning-Algorithmic-Trading-alternative/dp/1839217715/ref=sr_1_297?crid=2HX2SCFCK032L&keywords=deep+learning&qid=1663460523&sprefix=deep+learnin%2Caps%2C449&sr=8-297> (referer: https://www.amazon.com/s?k=deep+learning&page=6&crid=2HX2SCFCK032L&qid=1663460242&sprefix=deep+learnin%2Caps%2C449&ref=sr_pg_6)\n",
      "2022-09-18 02:22:14 [scrapy.core.engine] DEBUG: Crawled (200) <GET https://www.amazon.com/Deep-Learning-Playbook-Disruptive-Intelligence/dp/1978487525/ref=sr_1_296?crid=2HX2SCFCK032L&keywords=deep+learning&qid=1663460523&sprefix=deep+learnin%2Caps%2C449&sr=8-296> (referer: https://www.amazon.com/s?k=deep+learning&page=6&crid=2HX2SCFCK032L&qid=1663460242&sprefix=deep+learnin%2Caps%2C449&ref=sr_pg_6)\n",
      "2022-09-18 02:22:14 [scrapy.core.engine] DEBUG: Crawled (200) <GET https://www.amazon.com/TENSORFLOW-MACHINE-LEARNING-Scikit-Learn-TensorFlow/dp/B08YQFWH5N/ref=sr_1_228_sspa?crid=2HX2SCFCK032L&keywords=deep+learning&qid=1663460513&sprefix=deep+learnin%2Caps%2C449&sr=8-228-spons&psc=1> (referer: https://www.amazon.com/s?k=deep+learning&page=5&crid=2HX2SCFCK032L&qid=1663460242&sprefix=deep+learnin%2Caps%2C449&ref=sr_pg_5)\n",
      "2022-09-18 02:22:14 [scrapy.core.engine] DEBUG: Crawled (200) <GET https://www.amazon.com/Big-Data-Transforming-Information-Intelligence/dp/1975699734/ref=sr_1_226_sspa?crid=2HX2SCFCK032L&keywords=deep+learning&qid=1663460513&sprefix=deep+learnin%2Caps%2C449&sr=8-226-spons&psc=1> (referer: https://www.amazon.com/s?k=deep+learning&page=5&crid=2HX2SCFCK032L&qid=1663460242&sprefix=deep+learnin%2Caps%2C449&ref=sr_pg_5)\n",
      "2022-09-18 02:22:14 [scrapy.core.engine] DEBUG: Crawled (200) <GET https://www.amazon.com/Risk-Modeling-Applications-Artificial-Intelligence/dp/1119824931/ref=sr_1_295?crid=2HX2SCFCK032L&keywords=deep+learning&qid=1663460523&sprefix=deep+learnin%2Caps%2C449&sr=8-295> (referer: https://www.amazon.com/s?k=deep+learning&page=6&crid=2HX2SCFCK032L&qid=1663460242&sprefix=deep+learnin%2Caps%2C449&ref=sr_pg_6)\n"
     ]
    },
    {
     "name": "stdout",
     "output_type": "stream",
     "text": [
      "177\n",
      "['\\n            \\n              100%\\n            \\n          '] 5.0 out of 5 stars 6 x 0.56 x 9 inches\n",
      "178\n",
      "['\\n            \\n              100%\\n            \\n          '] 5.0 out of 5 stars None\n",
      "179\n",
      "['\\n            \\n              68%\\n            \\n          '] 4.5 out of 5 stars 7.5 x 1.85 x 9.25 inches\n",
      "180\n",
      "['\\n            \\n              51%\\n            \\n          '] 3.7 out of 5 stars 6 x 0.92 x 9 inches\n"
     ]
    },
    {
     "name": "stderr",
     "output_type": "stream",
     "text": [
      "2022-09-18 02:22:15 [scrapy.core.engine] DEBUG: Crawled (200) <GET https://www.amazon.com/DATA-DEEP-LEARNING-EXAMPLES-MATLAB-ebook/dp/B08VNR4SPW/ref=sr_1_294?crid=2HX2SCFCK032L&keywords=deep+learning&qid=1663460523&sprefix=deep+learnin%2Caps%2C449&sr=8-294> (referer: https://www.amazon.com/s?k=deep+learning&page=6&crid=2HX2SCFCK032L&qid=1663460242&sprefix=deep+learnin%2Caps%2C449&ref=sr_pg_6)\n",
      "2022-09-18 02:22:15 [scrapy.core.engine] DEBUG: Crawled (200) <GET https://www.amazon.com/Machine-Learning-Coders-Programmers-Intelligence/dp/1492078190/ref=sr_1_293?crid=2HX2SCFCK032L&keywords=deep+learning&qid=1663460523&sprefix=deep+learnin%2Caps%2C449&sr=8-293> (referer: https://www.amazon.com/s?k=deep+learning&page=6&crid=2HX2SCFCK032L&qid=1663460242&sprefix=deep+learnin%2Caps%2C449&ref=sr_pg_6)\n"
     ]
    },
    {
     "name": "stdout",
     "output_type": "stream",
     "text": [
      "181\n",
      "['\\n            \\n              40%\\n            \\n          '] 3.5 out of 5 stars 6 x 0.22 x 9 inches\n",
      "182\n",
      "['\\n            \\n              45%\\n            \\n          '] 3.3 out of 5 stars 6 x 1.57 x 9 inches\n",
      "183\n",
      "[] None 6.2 x 0.9 x 9.1 inches\n",
      "184\n",
      "['\\n            \\n              51%\\n            \\n          '] 4.5 out of 5 stars None\n",
      "185\n",
      "['\\n            \\n              79%\\n            \\n          '] 4.7 out of 5 stars 6.93 x 1.18 x 8.98 inches\n"
     ]
    },
    {
     "name": "stderr",
     "output_type": "stream",
     "text": [
      "2022-09-18 02:22:16 [scrapy.core.engine] DEBUG: Crawled (200) <GET https://www.amazon.com/Building-Computer-Vision-Projects-OpenCV/dp/1838644679/ref=sr_1_225_sspa?crid=2HX2SCFCK032L&keywords=deep+learning&qid=1663460513&sprefix=deep+learnin%2Caps%2C449&sr=8-225-spons&psc=1> (referer: https://www.amazon.com/s?k=deep+learning&page=5&crid=2HX2SCFCK032L&qid=1663460242&sprefix=deep+learnin%2Caps%2C449&ref=sr_pg_5)\n",
      "2022-09-18 02:22:16 [scrapy.core.engine] DEBUG: Crawled (200) <GET https://www.amazon.com/Advanced-Deep-Learning-TensorFlow-Keras/dp/1838821651/ref=sr_1_241_sspa?crid=2HX2SCFCK032L&keywords=deep+learning&qid=1663460523&sprefix=deep+learnin%2Caps%2C449&sr=8-241-spons&psc=1> (referer: https://www.amazon.com/s?k=deep+learning&page=6&crid=2HX2SCFCK032L&qid=1663460242&sprefix=deep+learnin%2Caps%2C449&ref=sr_pg_6)\n",
      "2022-09-18 02:22:16 [scrapy.core.engine] DEBUG: Crawled (200) <GET https://www.amazon.com/Redes-Neuronales-Deep-Learning-Entrenamiento/dp/1090320302/ref=sr_1_291?crid=2HX2SCFCK032L&keywords=deep+learning&qid=1663460523&sprefix=deep+learnin%2Caps%2C449&sr=8-291> (referer: https://www.amazon.com/s?k=deep+learning&page=6&crid=2HX2SCFCK032L&qid=1663460242&sprefix=deep+learnin%2Caps%2C449&ref=sr_pg_6)\n"
     ]
    },
    {
     "name": "stdout",
     "output_type": "stream",
     "text": [
      "186\n",
      "['\\n            \\n              55%\\n            \\n          '] 4.1 out of 5 stars 7.5 x 1.22 x 9.25 inches\n"
     ]
    },
    {
     "name": "stderr",
     "output_type": "stream",
     "text": [
      "2022-09-18 02:22:16 [scrapy.core.engine] DEBUG: Crawled (200) <GET https://www.amazon.com/Neural-Networks-Beginners-Fundamentals-Implementing/dp/B085RCP2Q6/ref=sr_1_292?crid=2HX2SCFCK032L&keywords=deep+learning&qid=1663460523&sprefix=deep+learnin%2Caps%2C449&sr=8-292> (referer: https://www.amazon.com/s?k=deep+learning&page=6&crid=2HX2SCFCK032L&qid=1663460242&sprefix=deep+learnin%2Caps%2C449&ref=sr_pg_6)\n",
      "2022-09-18 02:22:17 [scrapy.core.engine] DEBUG: Crawled (200) <GET https://www.amazon.com/Python-Complete-Learning-Hands-Exercises-ebook/dp/B0BCN4XLGB/ref=sr_1_290?crid=2HX2SCFCK032L&keywords=deep+learning&qid=1663460523&sprefix=deep+learnin%2Caps%2C449&sr=8-290> (referer: https://www.amazon.com/s?k=deep+learning&page=6&crid=2HX2SCFCK032L&qid=1663460242&sprefix=deep+learnin%2Caps%2C449&ref=sr_pg_6)\n"
     ]
    },
    {
     "name": "stdout",
     "output_type": "stream",
     "text": [
      "187\n",
      "['\\n            \\n              74%\\n            \\n          '] 4.5 out of 5 stars 7.5 x 1.16 x 9.25 inches\n",
      "188\n",
      "['\\n            \\n              85%\\n            \\n          '] 4.7 out of 5 stars 8.5 x 1.02 x 11 inches\n"
     ]
    },
    {
     "name": "stderr",
     "output_type": "stream",
     "text": [
      "2022-09-18 02:22:17 [scrapy.core.engine] DEBUG: Crawled (200) <GET https://www.amazon.com/Deep-Learning-Computer-Vision-SAS%C2%AE/dp/1642959154/ref=sr_1_288?crid=2HX2SCFCK032L&keywords=deep+learning&qid=1663460523&sprefix=deep+learnin%2Caps%2C449&sr=8-288> (referer: https://www.amazon.com/s?k=deep+learning&page=6&crid=2HX2SCFCK032L&qid=1663460242&sprefix=deep+learnin%2Caps%2C449&ref=sr_pg_6)\n"
     ]
    },
    {
     "name": "stdout",
     "output_type": "stream",
     "text": [
      "189\n",
      "['\\n            \\n              37%\\n            \\n          '] 3.4 out of 5 stars None\n",
      "190\n",
      "[] None None\n"
     ]
    },
    {
     "name": "stderr",
     "output_type": "stream",
     "text": [
      "2022-09-18 02:22:17 [scrapy.core.engine] DEBUG: Crawled (200) <GET https://www.amazon.com/Beginning-Deep-Learning-Using-TensorFlow-ebook/dp/B09S3QVJQX/ref=sr_1_287?crid=2HX2SCFCK032L&keywords=deep+learning&qid=1663460523&sprefix=deep+learnin%2Caps%2C449&sr=8-287> (referer: https://www.amazon.com/s?k=deep+learning&page=6&crid=2HX2SCFCK032L&qid=1663460242&sprefix=deep+learnin%2Caps%2C449&ref=sr_pg_6)\n"
     ]
    },
    {
     "name": "stdout",
     "output_type": "stream",
     "text": [
      "191\n",
      "[] None 7.5 x 0.34 x 9.25 inches\n",
      "192\n",
      "['\\n            \\n              75%\\n            \\n          '] 4.8 out of 5 stars None\n"
     ]
    },
    {
     "name": "stderr",
     "output_type": "stream",
     "text": [
      "2022-09-18 02:22:18 [scrapy.core.engine] DEBUG: Crawled (200) <GET https://www.amazon.com/Getting-started-Learning-Language-Processing-ebook/dp/B08SVZF8SX/ref=sr_1_286?crid=2HX2SCFCK032L&keywords=deep+learning&qid=1663460523&sprefix=deep+learnin%2Caps%2C449&sr=8-286> (referer: https://www.amazon.com/s?k=deep+learning&page=6&crid=2HX2SCFCK032L&qid=1663460242&sprefix=deep+learnin%2Caps%2C449&ref=sr_pg_6)\n",
      "2022-09-18 02:22:18 [scrapy.core.engine] DEBUG: Crawled (200) <GET https://www.amazon.com/Understanding-Deep-Learning-Application-Prediction/dp/B08R8DKSK2/ref=sr_1_289?crid=2HX2SCFCK032L&keywords=deep+learning&qid=1663460523&sprefix=deep+learnin%2Caps%2C449&sr=8-289> (referer: https://www.amazon.com/s?k=deep+learning&page=6&crid=2HX2SCFCK032L&qid=1663460242&sprefix=deep+learnin%2Caps%2C449&ref=sr_pg_6)\n",
      "2022-09-18 02:22:18 [scrapy.core.engine] DEBUG: Crawled (200) <GET https://www.amazon.com/Introduction-Learning-Using-Step-Step-ebook/dp/B07447TH85/ref=sr_1_284?crid=2HX2SCFCK032L&keywords=deep+learning&qid=1663460523&sprefix=deep+learnin%2Caps%2C449&sr=8-284> (referer: https://www.amazon.com/s?k=deep+learning&page=6&crid=2HX2SCFCK032L&qid=1663460242&sprefix=deep+learnin%2Caps%2C449&ref=sr_pg_6)\n"
     ]
    },
    {
     "name": "stdout",
     "output_type": "stream",
     "text": [
      "193\n",
      "['\\n            \\n              55%\\n            \\n          '] 4.6 out of 5 stars None\n",
      "194\n",
      "[] None 6.69 x 0.96 x 9.61 inches\n"
     ]
    },
    {
     "name": "stderr",
     "output_type": "stream",
     "text": [
      "2022-09-18 02:22:19 [scrapy.core.engine] DEBUG: Crawled (200) <GET https://www.amazon.com/Better-Small-Talk-Awkwardness-Conversations/dp/B087349Q57/ref=sr_1_285?crid=2HX2SCFCK032L&keywords=deep+learning&qid=1663460523&sprefix=deep+learnin%2Caps%2C449&sr=8-285> (referer: https://www.amazon.com/s?k=deep+learning&page=6&crid=2HX2SCFCK032L&qid=1663460242&sprefix=deep+learnin%2Caps%2C449&ref=sr_pg_6)\n"
     ]
    },
    {
     "name": "stdout",
     "output_type": "stream",
     "text": [
      "195\n",
      "['\\n            \\n              15%\\n            \\n          '] 1.6 out of 5 stars None\n",
      "196\n",
      "['\\n            \\n              64%\\n            \\n          '] 4.4 out of 5 stars 5 x 0.57 x 8 inches\n"
     ]
    },
    {
     "name": "stderr",
     "output_type": "stream",
     "text": [
      "2022-09-18 02:22:19 [scrapy.core.engine] DEBUG: Crawled (200) <GET https://www.amazon.com/Hundred-Page-Machine-Learning-Book/dp/199957950X/ref=sr_1_282?crid=2HX2SCFCK032L&keywords=deep+learning&qid=1663460523&sprefix=deep+learnin%2Caps%2C449&sr=8-282> (referer: https://www.amazon.com/s?k=deep+learning&page=6&crid=2HX2SCFCK032L&qid=1663460242&sprefix=deep+learnin%2Caps%2C449&ref=sr_pg_6)\n",
      "2022-09-18 02:22:20 [scrapy.core.engine] DEBUG: Crawled (200) <GET https://www.amazon.com/Time-Forecasting-using-Deep-Learning/dp/3330046163/ref=sr_1_280?crid=2HX2SCFCK032L&keywords=deep+learning&qid=1663460523&sprefix=deep+learnin%2Caps%2C449&sr=8-280> (referer: https://www.amazon.com/s?k=deep+learning&page=6&crid=2HX2SCFCK032L&qid=1663460242&sprefix=deep+learnin%2Caps%2C449&ref=sr_pg_6)\n",
      "2022-09-18 02:22:20 [scrapy.downloadermiddlewares.redirect] DEBUG: Redirecting (302) to <GET https://www.amazon.com/Deep-Learning-Robotics-Notebook-Engineers/dp/B091F1HH5L/ref=sr_1_276_sspa?crid=2HX2SCFCK032L&keywords=deep+learning&qid=1663460523&sprefix=deep+learnin%2Caps%2C449&sr=8-276-spons&psc=1> from <GET https://www.amazon.com/sspa/click?ie=UTF8&spc=MToxODY3NTk1MTQyODQyODkyOjE2NjM0NjA1MjM6c3BfbXRmOjIwMDA4NjE0NDMzMTk5ODo6MDo6&sp_csd=d2lkZ2V0TmFtZT1zcF9tdGY&url=%2FDeep-Learning-Robotics-Notebook-Engineers%2Fdp%2FB091F1HH5L%2Fref%3Dsr_1_276_sspa%3Fcrid%3D2HX2SCFCK032L%26keywords%3Ddeep%2Blearning%26qid%3D1663460523%26sprefix%3Ddeep%2Blearnin%252Caps%252C449%26sr%3D8-276-spons%26psc%3D1>\n",
      "2022-09-18 02:22:20 [scrapy.core.engine] DEBUG: Crawled (200) <GET https://www.amazon.com/Data-Analytics-7-Manuscripts-audiobook/dp/B077G9QZD4/ref=sr_1_283?crid=2HX2SCFCK032L&keywords=deep+learning&qid=1663460523&sprefix=deep+learnin%2Caps%2C449&sr=8-283> (referer: https://www.amazon.com/s?k=deep+learning&page=6&crid=2HX2SCFCK032L&qid=1663460242&sprefix=deep+learnin%2Caps%2C449&ref=sr_pg_6)\n",
      "2022-09-18 02:22:20 [scrapy.downloadermiddlewares.redirect] DEBUG: Redirecting (302) to <GET https://www.amazon.com/Programmers-Code-Mastering-Programming-Including/dp/B088B3R4FN/ref=sr_1_275_sspa?crid=2HX2SCFCK032L&keywords=deep+learning&qid=1663460523&sprefix=deep+learnin%2Caps%2C449&sr=8-275-spons&psc=1> from <GET https://www.amazon.com/sspa/click?ie=UTF8&spc=MToxODY3NTk1MTQyODQyODkyOjE2NjM0NjA1MjM6c3BfbXRmOjIwMDAyODY3MDcyNDYyMTo6MDo6&sp_csd=d2lkZ2V0TmFtZT1zcF9tdGY&url=%2FProgrammers-Code-Mastering-Programming-Including%2Fdp%2FB088B3R4FN%2Fref%3Dsr_1_275_sspa%3Fcrid%3D2HX2SCFCK032L%26keywords%3Ddeep%2Blearning%26qid%3D1663460523%26sprefix%3Ddeep%2Blearnin%252Caps%252C449%26sr%3D8-275-spons%26psc%3D1>\n",
      "2022-09-18 02:22:20 [scrapy.core.engine] DEBUG: Crawled (200) <GET https://www.amazon.com/Deep-Learning-Essentials-step-step-ebook/dp/B07FS55MDM/ref=sr_1_279?crid=2HX2SCFCK032L&keywords=deep+learning&qid=1663460523&sprefix=deep+learnin%2Caps%2C449&sr=8-279> (referer: https://www.amazon.com/s?k=deep+learning&page=6&crid=2HX2SCFCK032L&qid=1663460242&sprefix=deep+learnin%2Caps%2C449&ref=sr_pg_6)\n",
      "2022-09-18 02:22:20 [scrapy.downloadermiddlewares.redirect] DEBUG: Redirecting (302) to <GET https://www.amazon.com/Software-Development-Learning-Treatment-Stimulation/dp/9811235953/ref=sr_1_274_sspa?crid=2HX2SCFCK032L&keywords=deep+learning&qid=1663460523&sprefix=deep+learnin%2Caps%2C449&sr=8-274-spons&psc=1> from <GET https://www.amazon.com/sspa/click?ie=UTF8&spc=MToxODY3NTk1MTQyODQyODkyOjE2NjM0NjA1MjM6c3BfbXRmOjIwMDA5MjM0Mzc5NzQ0MTo6MDo6&sp_csd=d2lkZ2V0TmFtZT1zcF9tdGY&url=%2FSoftware-Development-Learning-Treatment-Stimulation%2Fdp%2F9811235953%2Fref%3Dsr_1_274_sspa%3Fcrid%3D2HX2SCFCK032L%26keywords%3Ddeep%2Blearning%26qid%3D1663460523%26sprefix%3Ddeep%2Blearnin%252Caps%252C449%26sr%3D8-274-spons%26psc%3D1>\n",
      "2022-09-18 02:22:20 [scrapy.core.engine] DEBUG: Crawled (200) <GET https://www.amazon.com/Deep-Learning-Graphs-Yao-Ma/dp/1108831745/ref=sr_1_281?crid=2HX2SCFCK032L&keywords=deep+learning&qid=1663460523&sprefix=deep+learnin%2Caps%2C449&sr=8-281> (referer: https://www.amazon.com/s?k=deep+learning&page=6&crid=2HX2SCFCK032L&qid=1663460242&sprefix=deep+learnin%2Caps%2C449&ref=sr_pg_6)\n"
     ]
    },
    {
     "name": "stdout",
     "output_type": "stream",
     "text": [
      "197\n",
      "['\\n            \\n              81%\\n            \\n          '] 4.6 out of 5 stars 7.5 x 0.38 x 9.25 inches\n",
      "198\n",
      "['\\n            \\n              52%\\n            \\n          '] 1.5 out of 5 stars 5.91 x 0.12 x 8.66 inches\n"
     ]
    },
    {
     "name": "stderr",
     "output_type": "stream",
     "text": [
      "2022-09-18 02:22:20 [scrapy.core.engine] DEBUG: Crawled (200) <GET https://www.amazon.com/Hands-Deep-Learning-Algorithms-Python-ebook/dp/B07LH43V8P/ref=sr_1_278?crid=2HX2SCFCK032L&keywords=deep+learning&qid=1663460523&sprefix=deep+learnin%2Caps%2C449&sr=8-278> (referer: https://www.amazon.com/s?k=deep+learning&page=6&crid=2HX2SCFCK032L&qid=1663460242&sprefix=deep+learnin%2Caps%2C449&ref=sr_pg_6)\n",
      "2022-09-18 02:22:20 [scrapy.downloadermiddlewares.redirect] DEBUG: Redirecting (302) to <GET https://www.amazon.com/Deep-Learning-fastai-Cookbook-easy/dp/1800208103/ref=sr_1_273_sspa?crid=2HX2SCFCK032L&keywords=deep+learning&qid=1663460523&sprefix=deep+learnin%2Caps%2C449&sr=8-273-spons&psc=1> from <GET https://www.amazon.com/sspa/click?ie=UTF8&spc=MToxODY3NTk1MTQyODQyODkyOjE2NjM0NjA1MjM6c3BfbXRmOjIwMDA5MDA5NDYyMzM3MTo6MDo6&sp_csd=d2lkZ2V0TmFtZT1zcF9tdGY&url=%2FDeep-Learning-fastai-Cookbook-easy%2Fdp%2F1800208103%2Fref%3Dsr_1_273_sspa%3Fcrid%3D2HX2SCFCK032L%26keywords%3Ddeep%2Blearning%26qid%3D1663460523%26sprefix%3Ddeep%2Blearnin%252Caps%252C449%26sr%3D8-273-spons%26psc%3D1>\n"
     ]
    },
    {
     "name": "stdout",
     "output_type": "stream",
     "text": [
      "199\n",
      "['\\n            \\n              39%\\n            \\n          '] 1.8 out of 5 stars None\n",
      "200\n",
      "['\\n            \\n              58%\\n            \\n          '] 4.1 out of 5 stars None\n",
      "201\n",
      "['\\n            \\n              83%\\n            \\n          '] 4.7 out of 5 stars 6.5 x 1 x 9.5 inches\n",
      "202\n",
      "['\\n            \\n              51%\\n            \\n          '] 4.1 out of 5 stars None\n"
     ]
    },
    {
     "name": "stderr",
     "output_type": "stream",
     "text": [
      "2022-09-18 02:22:22 [scrapy.core.engine] DEBUG: Crawled (200) <GET https://www.amazon.com/Learning-Techniques-Generation-Computational-Synthesis-ebook/dp/B0817MCWH7/ref=sr_1_277?crid=2HX2SCFCK032L&keywords=deep+learning&qid=1663460523&sprefix=deep+learnin%2Caps%2C449&sr=8-277> (referer: https://www.amazon.com/s?k=deep+learning&page=6&crid=2HX2SCFCK032L&qid=1663460242&sprefix=deep+learnin%2Caps%2C449&ref=sr_pg_6)\n",
      "2022-09-18 02:22:22 [scrapy.core.engine] DEBUG: Crawled (200) <GET https://www.amazon.com/Orchestration-Learning-Accelerators-Synthesis-Architecture/dp/1681738716/ref=sr_1_270?crid=2HX2SCFCK032L&keywords=deep+learning&qid=1663460523&sprefix=deep+learnin%2Caps%2C449&sr=8-270> (referer: https://www.amazon.com/s?k=deep+learning&page=6&crid=2HX2SCFCK032L&qid=1663460242&sprefix=deep+learnin%2Caps%2C449&ref=sr_pg_6)\n"
     ]
    },
    {
     "name": "stdout",
     "output_type": "stream",
     "text": [
      "203\n",
      "['\\n            \\n              100%\\n            \\n          '] 5.0 out of 5 stars None\n"
     ]
    },
    {
     "name": "stderr",
     "output_type": "stream",
     "text": [
      "2022-09-18 02:22:22 [scrapy.core.engine] DEBUG: Crawled (200) <GET https://www.amazon.com/Deep-Learning-Python-Advanced-Guide-ebook/dp/B08S1C9KST/ref=sr_1_268?crid=2HX2SCFCK032L&keywords=deep+learning&qid=1663460523&sprefix=deep+learnin%2Caps%2C449&sr=8-268> (referer: https://www.amazon.com/s?k=deep+learning&page=6&crid=2HX2SCFCK032L&qid=1663460242&sprefix=deep+learnin%2Caps%2C449&ref=sr_pg_6)\n",
      "2022-09-18 02:22:22 [scrapy.core.engine] DEBUG: Crawled (200) <GET https://www.amazon.com/Deep-Reinforcement-Learning-Aske-Plaat/dp/9811906378/ref=sr_1_269?crid=2HX2SCFCK032L&keywords=deep+learning&qid=1663460523&sprefix=deep+learnin%2Caps%2C449&sr=8-269> (referer: https://www.amazon.com/s?k=deep+learning&page=6&crid=2HX2SCFCK032L&qid=1663460242&sprefix=deep+learnin%2Caps%2C449&ref=sr_pg_6)\n"
     ]
    },
    {
     "name": "stdout",
     "output_type": "stream",
     "text": [
      "204\n",
      "['\\n            \\n              62%\\n            \\n          '] 4.2 out of 5 stars 7.52 x 0.44 x 9.25 inches\n"
     ]
    },
    {
     "name": "stderr",
     "output_type": "stream",
     "text": [
      "2022-09-18 02:22:23 [scrapy.core.engine] DEBUG: Crawled (200) <GET https://www.amazon.com/Efficient-Processing-Networks-Synthesis-Architecture/dp/1681738317/ref=sr_1_267?crid=2HX2SCFCK032L&keywords=deep+learning&qid=1663460523&sprefix=deep+learnin%2Caps%2C449&sr=8-267> (referer: https://www.amazon.com/s?k=deep+learning&page=6&crid=2HX2SCFCK032L&qid=1663460242&sprefix=deep+learnin%2Caps%2C449&ref=sr_pg_6)\n",
      "2022-09-18 02:22:23 [scrapy.core.engine] DEBUG: Crawled (200) <GET https://www.amazon.com/Deep-Learning-Frank-Millstein-audiobook/dp/B07BT9BQSN/ref=sr_1_266?crid=2HX2SCFCK032L&keywords=deep+learning&qid=1663460523&sprefix=deep+learnin%2Caps%2C449&sr=8-266> (referer: https://www.amazon.com/s?k=deep+learning&page=6&crid=2HX2SCFCK032L&qid=1663460242&sprefix=deep+learnin%2Caps%2C449&ref=sr_pg_6)\n",
      "2022-09-18 02:22:23 [scrapy.core.engine] DEBUG: Crawled (200) <GET https://www.amazon.com/Brain-centric-Design-Surprising-Neuroscience-Understanding/dp/194460250X/ref=sr_1_272?crid=2HX2SCFCK032L&keywords=deep+learning&qid=1663460523&sprefix=deep+learnin%2Caps%2C449&sr=8-272> (referer: https://www.amazon.com/s?k=deep+learning&page=6&crid=2HX2SCFCK032L&qid=1663460242&sprefix=deep+learnin%2Caps%2C449&ref=sr_pg_6)\n"
     ]
    },
    {
     "name": "stdout",
     "output_type": "stream",
     "text": [
      "205\n",
      "['\\n            \\n              33%\\n            \\n          '] 3.3 out of 5 stars None\n",
      "206\n",
      "[] None 6.14 x 0.86 x 9.21 inches\n",
      "207\n",
      "['\\n            \\n              67%\\n            \\n          '] 4.5 out of 5 stars 7.5 x 0.71 x 9.25 inches\n",
      "208\n",
      "['\\n            \\n              23%\\n            \\n          '] 2.3 out of 5 stars None\n"
     ]
    },
    {
     "name": "stderr",
     "output_type": "stream",
     "text": [
      "2022-09-18 02:22:23 [scrapy.core.engine] DEBUG: Crawled (200) <GET https://www.amazon.com/Computer-Vision-Algorithms-Applications-Science/dp/3030343715/ref=sr_1_271?crid=2HX2SCFCK032L&keywords=deep+learning&qid=1663460523&sprefix=deep+learnin%2Caps%2C449&sr=8-271> (referer: https://www.amazon.com/s?k=deep+learning&page=6&crid=2HX2SCFCK032L&qid=1663460242&sprefix=deep+learnin%2Caps%2C449&ref=sr_pg_6)\n"
     ]
    },
    {
     "name": "stdout",
     "output_type": "stream",
     "text": [
      "209\n",
      "['\\n            \\n              75%\\n            \\n          '] 4.4 out of 5 stars 5.5 x 0.66 x 8.5 inches\n"
     ]
    },
    {
     "name": "stderr",
     "output_type": "stream",
     "text": [
      "2022-09-18 02:22:24 [scrapy.core.engine] DEBUG: Crawled (200) <GET https://www.amazon.com/Shadows-Waiting/dp/B09F5LGCJW/ref=sr_1_264?crid=2HX2SCFCK032L&keywords=deep+learning&qid=1663460523&sprefix=deep+learnin%2Caps%2C449&sr=8-264> (referer: https://www.amazon.com/s?k=deep+learning&page=6&crid=2HX2SCFCK032L&qid=1663460242&sprefix=deep+learnin%2Caps%2C449&ref=sr_pg_6)\n"
     ]
    },
    {
     "name": "stdout",
     "output_type": "stream",
     "text": [
      "210\n",
      "['\\n            \\n              72%\\n            \\n          '] 4.3 out of 5 stars 8.35 x 1.57 x 11.18 inches\n"
     ]
    },
    {
     "name": "stderr",
     "output_type": "stream",
     "text": [
      "2022-09-18 02:22:24 [scrapy.core.engine] DEBUG: Crawled (200) <GET https://www.amazon.com/Deep-Learning-Robotics-Notebook-Engineers/dp/B091F1HH5L/ref=sr_1_276_sspa?crid=2HX2SCFCK032L&keywords=deep+learning&qid=1663460523&sprefix=deep+learnin%2Caps%2C449&sr=8-276-spons&psc=1> (referer: https://www.amazon.com/s?k=deep+learning&page=6&crid=2HX2SCFCK032L&qid=1663460242&sprefix=deep+learnin%2Caps%2C449&ref=sr_pg_6)\n"
     ]
    },
    {
     "name": "stdout",
     "output_type": "stream",
     "text": [
      "211\n",
      "[] None None\n",
      "212\n",
      "[] None 6 x 0.23 x 9 inches\n"
     ]
    },
    {
     "name": "stderr",
     "output_type": "stream",
     "text": [
      "2022-09-18 02:22:24 [scrapy.downloadermiddlewares.redirect] DEBUG: Redirecting (302) to <GET https://www.amazon.com/Deep-Learning-Game-Max-Pumperla/dp/1617295329/ref=sr_1_260_sspa?crid=2HX2SCFCK032L&keywords=deep+learning&qid=1663460523&sprefix=deep+learnin%2Caps%2C449&sr=8-260-spons&psc=1> from <GET https://www.amazon.com/sspa/click?ie=UTF8&spc=MToxODY3NTk1MTQyODQyODkyOjE2NjM0NjA1MjM6c3BfbXRmOjIwMDAzODM5NDU5NzU0MTo6MDo6&sp_csd=d2lkZ2V0TmFtZT1zcF9tdGY&url=%2FDeep-Learning-Game-Max-Pumperla%2Fdp%2F1617295329%2Fref%3Dsr_1_260_sspa%3Fcrid%3D2HX2SCFCK032L%26keywords%3Ddeep%2Blearning%26qid%3D1663460523%26sprefix%3Ddeep%2Blearnin%252Caps%252C449%26sr%3D8-260-spons%26psc%3D1>\n",
      "2022-09-18 02:22:25 [scrapy.core.engine] DEBUG: Crawled (200) <GET https://www.amazon.com/Advanced-Deep-Learning-Keras-reinforcement-ebook/dp/B078N8RDCP/ref=sr_1_265?crid=2HX2SCFCK032L&keywords=deep+learning&qid=1663460523&sprefix=deep+learnin%2Caps%2C449&sr=8-265> (referer: https://www.amazon.com/s?k=deep+learning&page=6&crid=2HX2SCFCK032L&qid=1663460242&sprefix=deep+learnin%2Caps%2C449&ref=sr_pg_6)\n"
     ]
    },
    {
     "name": "stdout",
     "output_type": "stream",
     "text": [
      "213\n",
      "['\\n            \\n              60%\\n            \\n          '] 3.8 out of 5 stars None\n"
     ]
    },
    {
     "name": "stderr",
     "output_type": "stream",
     "text": [
      "2022-09-18 02:22:25 [scrapy.core.engine] DEBUG: Crawled (200) <GET https://www.amazon.com/Software-Development-Learning-Treatment-Stimulation/dp/9811235953/ref=sr_1_274_sspa?crid=2HX2SCFCK032L&keywords=deep+learning&qid=1663460523&sprefix=deep+learnin%2Caps%2C449&sr=8-274-spons&psc=1> (referer: https://www.amazon.com/s?k=deep+learning&page=6&crid=2HX2SCFCK032L&qid=1663460242&sprefix=deep+learnin%2Caps%2C449&ref=sr_pg_6)\n",
      "2022-09-18 02:22:25 [scrapy.core.engine] DEBUG: Crawled (200) <GET https://www.amazon.com/Programmers-Code-Mastering-Programming-Including/dp/B088B3R4FN/ref=sr_1_275_sspa?crid=2HX2SCFCK032L&keywords=deep+learning&qid=1663460523&sprefix=deep+learnin%2Caps%2C449&sr=8-275-spons&psc=1> (referer: https://www.amazon.com/s?k=deep+learning&page=6&crid=2HX2SCFCK032L&qid=1663460242&sprefix=deep+learnin%2Caps%2C449&ref=sr_pg_6)\n",
      "2022-09-18 02:22:25 [scrapy.core.engine] DEBUG: Crawled (200) <GET https://www.amazon.com/Fundamentals-Deep-Learning-Computer-Vision-ebook/dp/B084S8M3NN/ref=sr_1_263?crid=2HX2SCFCK032L&keywords=deep+learning&qid=1663460523&sprefix=deep+learnin%2Caps%2C449&sr=8-263> (referer: https://www.amazon.com/s?k=deep+learning&page=6&crid=2HX2SCFCK032L&qid=1663460242&sprefix=deep+learnin%2Caps%2C449&ref=sr_pg_6)\n",
      "2022-09-18 02:22:25 [scrapy.core.engine] DEBUG: Crawled (200) <GET https://www.amazon.com/Data-Scientist-Pocket-Guide-Terminologies/dp/9390684978/ref=sr_1_262?crid=2HX2SCFCK032L&keywords=deep+learning&qid=1663460523&sprefix=deep+learnin%2Caps%2C449&sr=8-262> (referer: https://www.amazon.com/s?k=deep+learning&page=6&crid=2HX2SCFCK032L&qid=1663460242&sprefix=deep+learnin%2Caps%2C449&ref=sr_pg_6)\n",
      "2022-09-18 02:22:25 [scrapy.downloadermiddlewares.redirect] DEBUG: Redirecting (302) to <GET https://www.amazon.com/Deep-Machine-Learning-Comprehensive-Intelligence/dp/B08NDVJWSQ/ref=sr_1_258_sspa?crid=2HX2SCFCK032L&keywords=deep+learning&qid=1663460523&sprefix=deep+learnin%2Caps%2C449&sr=8-258-spons&psc=1> from <GET https://www.amazon.com/sspa/click?ie=UTF8&spc=MToxODY3NTk1MTQyODQyODkyOjE2NjM0NjA1MjM6c3BfbXRmOjIwMDA4MzAxNDA4MzM3MTo6MDo6&sp_csd=d2lkZ2V0TmFtZT1zcF9tdGY&url=%2FDeep-Machine-Learning-Comprehensive-Intelligence%2Fdp%2FB08NDVJWSQ%2Fref%3Dsr_1_258_sspa%3Fcrid%3D2HX2SCFCK032L%26keywords%3Ddeep%2Blearning%26qid%3D1663460523%26sprefix%3Ddeep%2Blearnin%252Caps%252C449%26sr%3D8-258-spons%26psc%3D1>\n",
      "2022-09-18 02:22:25 [scrapy.downloadermiddlewares.redirect] DEBUG: Redirecting (302) to <GET https://www.amazon.com/Deep-Learning-TensorFlow-networks-intelligent/dp/1788831101/ref=sr_1_259_sspa?crid=2HX2SCFCK032L&keywords=deep+learning&qid=1663460523&sprefix=deep+learnin%2Caps%2C449&sr=8-259-spons&psc=1> from <GET https://www.amazon.com/sspa/click?ie=UTF8&spc=MToxODY3NTk1MTQyODQyODkyOjE2NjM0NjA1MjM6c3BfbXRmOjIwMDAwNTU0NjI1ODc3MTo6MDo6&sp_csd=d2lkZ2V0TmFtZT1zcF9tdGY&url=%2FDeep-Learning-TensorFlow-networks-intelligent%2Fdp%2F1788831101%2Fref%3Dsr_1_259_sspa%3Fcrid%3D2HX2SCFCK032L%26keywords%3Ddeep%2Blearning%26qid%3D1663460523%26sprefix%3Ddeep%2Blearnin%252Caps%252C449%26sr%3D8-259-spons%26psc%3D1>\n"
     ]
    },
    {
     "name": "stdout",
     "output_type": "stream",
     "text": [
      "214\n",
      "[] None 6 x 0.75 x 9 inches\n",
      "215\n",
      "['\\n            \\n              63%\\n            \\n          '] 4.3 out of 5 stars 8.5 x 0.64 x 11 inches\n"
     ]
    },
    {
     "name": "stderr",
     "output_type": "stream",
     "text": [
      "2022-09-18 02:22:26 [scrapy.downloadermiddlewares.redirect] DEBUG: Redirecting (302) to <GET https://www.amazon.com/Automated-Machine-Learning-AutoKeras-accessible/dp/1800567642/ref=sr_1_257_sspa?crid=2HX2SCFCK032L&keywords=deep+learning&qid=1663460523&sprefix=deep+learnin%2Caps%2C449&sr=8-257-spons&psc=1> from <GET https://www.amazon.com/sspa/click?ie=UTF8&spc=MToxODY3NTk1MTQyODQyODkyOjE2NjM0NjA1MjM6c3BfbXRmOjIwMDA2NzA0NjY1Njk3MTo6MDo6&sp_csd=d2lkZ2V0TmFtZT1zcF9tdGY&url=%2FAutomated-Machine-Learning-AutoKeras-accessible%2Fdp%2F1800567642%2Fref%3Dsr_1_257_sspa%3Fcrid%3D2HX2SCFCK032L%26keywords%3Ddeep%2Blearning%26qid%3D1663460523%26sprefix%3Ddeep%2Blearnin%252Caps%252C449%26sr%3D8-257-spons%26psc%3D1>\n",
      "2022-09-18 02:22:26 [scrapy.core.engine] DEBUG: Crawled (200) <GET https://www.amazon.com/Deep-Learning-fastai-Cookbook-easy/dp/1800208103/ref=sr_1_273_sspa?crid=2HX2SCFCK032L&keywords=deep+learning&qid=1663460523&sprefix=deep+learnin%2Caps%2C449&sr=8-273-spons&psc=1> (referer: https://www.amazon.com/s?k=deep+learning&page=6&crid=2HX2SCFCK032L&qid=1663460242&sprefix=deep+learnin%2Caps%2C449&ref=sr_pg_6)\n",
      "2022-09-18 02:22:26 [scrapy.core.engine] DEBUG: Crawled (200) <GET https://www.amazon.com/Learning-TensorFlow-Guide-Building-Systems/dp/1491978511/ref=sr_1_261?crid=2HX2SCFCK032L&keywords=deep+learning&qid=1663460523&sprefix=deep+learnin%2Caps%2C449&sr=8-261> (referer: https://www.amazon.com/s?k=deep+learning&page=6&crid=2HX2SCFCK032L&qid=1663460242&sprefix=deep+learnin%2Caps%2C449&ref=sr_pg_6)\n"
     ]
    },
    {
     "name": "stdout",
     "output_type": "stream",
     "text": [
      "216\n",
      "['\\n            \\n              49%\\n            \\n          '] 4.0 out of 5 stars None\n",
      "217\n",
      "['\\n            \\n              70%\\n            \\n          '] 4.7 out of 5 stars 7.5 x 0.7 x 9.25 inches\n",
      "218\n",
      "['\\n            \\n              60%\\n            \\n          '] 4.6 out of 5 stars 7.5 x 0.77 x 9.25 inches\n",
      "219\n",
      "['\\n            \\n              55%\\n            \\n          '] 3.9 out of 5 stars 7.01 x 0.51 x 9.17 inches\n"
     ]
    },
    {
     "name": "stderr",
     "output_type": "stream",
     "text": [
      "2022-09-18 02:22:27 [scrapy.core.engine] DEBUG: Crawled (200) <GET https://www.amazon.com/Deep-Learning-Examples-PyTorch-fastai-ebook/dp/B08KRH46DQ/ref=sr_1_252?crid=2HX2SCFCK032L&keywords=deep+learning&qid=1663460523&sprefix=deep+learnin%2Caps%2C449&sr=8-252> (referer: https://www.amazon.com/s?k=deep+learning&page=6&crid=2HX2SCFCK032L&qid=1663460242&sprefix=deep+learnin%2Caps%2C449&ref=sr_pg_6)\n",
      "2022-09-18 02:22:28 [scrapy.core.engine] DEBUG: Crawled (200) <GET https://www.amazon.com/Machine-and-Deep-Learning-in-Oncology_-Medical-Physics-and-Radiology/dp/3030830462/ref=sr_1_253?crid=2HX2SCFCK032L&keywords=deep+learning&qid=1663460523&sprefix=deep+learnin%2Caps%2C449&sr=8-253> (referer: https://www.amazon.com/s?k=deep+learning&page=6&crid=2HX2SCFCK032L&qid=1663460242&sprefix=deep+learnin%2Caps%2C449&ref=sr_pg_6)\n",
      "2022-09-18 02:22:28 [scrapy.core.engine] DEBUG: Crawled (200) <GET https://www.amazon.com/Deep-Learning-Patterns-and-Practices/dp/B09WXFQFH9/ref=sr_1_255?crid=2HX2SCFCK032L&keywords=deep+learning&qid=1663460523&sprefix=deep+learnin%2Caps%2C449&sr=8-255> (referer: https://www.amazon.com/s?k=deep+learning&page=6&crid=2HX2SCFCK032L&qid=1663460242&sprefix=deep+learnin%2Caps%2C449&ref=sr_pg_6)\n",
      "2022-09-18 02:22:28 [scrapy.core.engine] DEBUG: Crawled (200) <GET https://www.amazon.com/Python-Learning-Beginners-step-step-ebook/dp/B08959G3H8/ref=sr_1_254?crid=2HX2SCFCK032L&keywords=deep+learning&qid=1663460523&sprefix=deep+learnin%2Caps%2C449&sr=8-254> (referer: https://www.amazon.com/s?k=deep+learning&page=6&crid=2HX2SCFCK032L&qid=1663460242&sprefix=deep+learnin%2Caps%2C449&ref=sr_pg_6)\n",
      "2022-09-18 02:22:28 [scrapy.core.engine] DEBUG: Crawled (200) <GET https://www.amazon.com/State-Art-Learning-Models-TensorFlow-ebook/dp/B09DFHDWGF/ref=sr_1_256?crid=2HX2SCFCK032L&keywords=deep+learning&qid=1663460523&sprefix=deep+learnin%2Caps%2C449&sr=8-256> (referer: https://www.amazon.com/s?k=deep+learning&page=6&crid=2HX2SCFCK032L&qid=1663460242&sprefix=deep+learnin%2Caps%2C449&ref=sr_pg_6)\n"
     ]
    },
    {
     "name": "stdout",
     "output_type": "stream",
     "text": [
      "220\n",
      "['\\n            \\n              52%\\n            \\n          '] 3.6 out of 5 stars None\n"
     ]
    },
    {
     "name": "stderr",
     "output_type": "stream",
     "text": [
      "2022-09-18 02:22:28 [scrapy.core.engine] DEBUG: Crawled (200) <GET https://www.amazon.com/Redes-Neuronales-Deep-Learning-Spanish/dp/1731265387/ref=sr_1_250?crid=2HX2SCFCK032L&keywords=deep+learning&qid=1663460523&sprefix=deep+learnin%2Caps%2C449&sr=8-250> (referer: https://www.amazon.com/s?k=deep+learning&page=6&crid=2HX2SCFCK032L&qid=1663460242&sprefix=deep+learnin%2Caps%2C449&ref=sr_pg_6)\n",
      "2022-09-18 02:22:28 [scrapy.core.engine] DEBUG: Crawled (200) <GET https://www.amazon.com/Deep-Learning-Physical-Scientists-Accelerating/dp/1119408334/ref=sr_1_251?crid=2HX2SCFCK032L&keywords=deep+learning&qid=1663460523&sprefix=deep+learnin%2Caps%2C449&sr=8-251> (referer: https://www.amazon.com/s?k=deep+learning&page=6&crid=2HX2SCFCK032L&qid=1663460242&sprefix=deep+learnin%2Caps%2C449&ref=sr_pg_6)\n"
     ]
    },
    {
     "name": "stdout",
     "output_type": "stream",
     "text": [
      "221\n",
      "[] None 6.4 x 1.1 x 9.46 inches\n",
      "222\n",
      "['\\n            \\n              100%\\n            \\n          '] 5.0 out of 5 stars None\n"
     ]
    },
    {
     "name": "stderr",
     "output_type": "stream",
     "text": [
      "2022-09-18 02:22:28 [scrapy.core.engine] DEBUG: Crawled (200) <GET https://www.amazon.com/Deep-Learning-Game-Max-Pumperla/dp/1617295329/ref=sr_1_260_sspa?crid=2HX2SCFCK032L&keywords=deep+learning&qid=1663460523&sprefix=deep+learnin%2Caps%2C449&sr=8-260-spons&psc=1> (referer: https://www.amazon.com/s?k=deep+learning&page=6&crid=2HX2SCFCK032L&qid=1663460242&sprefix=deep+learnin%2Caps%2C449&ref=sr_pg_6)\n"
     ]
    },
    {
     "name": "stdout",
     "output_type": "stream",
     "text": [
      "223\n",
      "['\\n            \\n              58%\\n            \\n          '] 4.0 out of 5 stars None\n",
      "224\n",
      "['\\n            \\n              100%\\n            \\n          '] 5.0 out of 5 stars None\n",
      "225\n",
      "['\\n            \\n              72%\\n            \\n          '] 4.3 out of 5 stars 7.5 x 1.7 x 9.25 inches\n",
      "226\n",
      "['\\n            \\n              100%\\n            \\n          '] 5.0 out of 5 stars 6 x 0.66 x 9 inches\n",
      "227\n",
      "['\\n            \\n              65%\\n            \\n          '] 4.4 out of 5 stars 7.38 x 0.9 x 9.25 inches\n"
     ]
    },
    {
     "name": "stderr",
     "output_type": "stream",
     "text": [
      "2022-09-18 02:22:29 [scrapy.core.engine] DEBUG: Crawled (200) <GET https://www.amazon.com/Embedded-Deep-Learning-Architectures-Always/dp/303007577X/ref=sr_1_249?crid=2HX2SCFCK032L&keywords=deep+learning&qid=1663460523&sprefix=deep+learnin%2Caps%2C449&sr=8-249> (referer: https://www.amazon.com/s?k=deep+learning&page=6&crid=2HX2SCFCK032L&qid=1663460242&sprefix=deep+learnin%2Caps%2C449&ref=sr_pg_6)\n",
      "2022-09-18 02:22:30 [scrapy.core.engine] DEBUG: Crawled (200) <GET https://www.amazon.com/Learning-Unix-OS-Going-Terminal/dp/1491939982/ref=sr_1_247?crid=2HX2SCFCK032L&keywords=deep+learning&qid=1663460523&sprefix=deep+learnin%2Caps%2C449&sr=8-247> (referer: https://www.amazon.com/s?k=deep+learning&page=6&crid=2HX2SCFCK032L&qid=1663460242&sprefix=deep+learnin%2Caps%2C449&ref=sr_pg_6)\n"
     ]
    },
    {
     "name": "stdout",
     "output_type": "stream",
     "text": [
      "228\n",
      "['\\n            \\n              100%\\n            \\n          '] 5.0 out of 5 stars 6.1 x 0.51 x 9.25 inches\n"
     ]
    },
    {
     "name": "stderr",
     "output_type": "stream",
     "text": [
      "2022-09-18 02:22:30 [scrapy.downloadermiddlewares.redirect] DEBUG: Redirecting (302) to <GET https://www.amazon.com/Crash-Course-hands-introduction-reinforcement/dp/1838645357/ref=sr_1_244_sspa?crid=2HX2SCFCK032L&keywords=deep+learning&qid=1663460523&sprefix=deep+learnin%2Caps%2C449&sr=8-244-spons&psc=1> from <GET https://www.amazon.com/sspa/click?ie=UTF8&spc=MToxODY3NTk1MTQyODQyODkyOjE2NjM0NjA1MjM6c3BfYXRmX25leHQ6MjAwMDE5MTIzNjg0MzcxOjowOjo&sp_csd=d2lkZ2V0TmFtZT1zcF9hdGZfbmV4dA&url=%2FCrash-Course-hands-introduction-reinforcement%2Fdp%2F1838645357%2Fref%3Dsr_1_244_sspa%3Fcrid%3D2HX2SCFCK032L%26keywords%3Ddeep%2Blearning%26qid%3D1663460523%26sprefix%3Ddeep%2Blearnin%252Caps%252C449%26sr%3D8-244-spons%26psc%3D1>\n",
      "2022-09-18 02:22:30 [scrapy.core.engine] DEBUG: Crawled (200) <GET https://www.amazon.com/Deep-Machine-Learning-Comprehensive-Intelligence/dp/B08NDVJWSQ/ref=sr_1_258_sspa?crid=2HX2SCFCK032L&keywords=deep+learning&qid=1663460523&sprefix=deep+learnin%2Caps%2C449&sr=8-258-spons&psc=1> (referer: https://www.amazon.com/s?k=deep+learning&page=6&crid=2HX2SCFCK032L&qid=1663460242&sprefix=deep+learnin%2Caps%2C449&ref=sr_pg_6)\n",
      "2022-09-18 02:22:30 [scrapy.core.engine] DEBUG: Crawled (200) <GET https://www.amazon.com/Automated-Machine-Learning-AutoKeras-accessible/dp/1800567642/ref=sr_1_257_sspa?crid=2HX2SCFCK032L&keywords=deep+learning&qid=1663460523&sprefix=deep+learnin%2Caps%2C449&sr=8-257-spons&psc=1> (referer: https://www.amazon.com/s?k=deep+learning&page=6&crid=2HX2SCFCK032L&qid=1663460242&sprefix=deep+learnin%2Caps%2C449&ref=sr_pg_6)\n",
      "2022-09-18 02:22:30 [scrapy.core.engine] DEBUG: Crawled (200) <GET https://www.amazon.com/Deep-Learning-fastai-Cookbook-easy-ebook/dp/B0971LB85Z/ref=sr_1_248?crid=2HX2SCFCK032L&keywords=deep+learning&qid=1663460523&sprefix=deep+learnin%2Caps%2C449&sr=8-248> (referer: https://www.amazon.com/s?k=deep+learning&page=6&crid=2HX2SCFCK032L&qid=1663460242&sprefix=deep+learnin%2Caps%2C449&ref=sr_pg_6)\n",
      "2022-09-18 02:22:30 [scrapy.downloadermiddlewares.redirect] DEBUG: Redirecting (302) to <GET https://www.amazon.com/Hands-Music-Generation-Magenta-composition/dp/1838824413/ref=sr_1_243_sspa?crid=2HX2SCFCK032L&keywords=deep+learning&qid=1663460523&sprefix=deep+learnin%2Caps%2C449&sr=8-243-spons&psc=1> from <GET https://www.amazon.com/sspa/click?ie=UTF8&spc=MToxODY3NTk1MTQyODQyODkyOjE2NjM0NjA1MjM6c3BfYXRmX25leHQ6MjAwMDIwOTU1MjczODcxOjowOjo&sp_csd=d2lkZ2V0TmFtZT1zcF9hdGZfbmV4dA&url=%2FHands-Music-Generation-Magenta-composition%2Fdp%2F1838824413%2Fref%3Dsr_1_243_sspa%3Fcrid%3D2HX2SCFCK032L%26keywords%3Ddeep%2Blearning%26qid%3D1663460523%26sprefix%3Ddeep%2Blearnin%252Caps%252C449%26sr%3D8-243-spons%26psc%3D1>\n"
     ]
    },
    {
     "name": "stdout",
     "output_type": "stream",
     "text": [
      "229\n",
      "['\\n            \\n              56%\\n            \\n          '] 4.4 out of 5 stars 7 x 0.54 x 9.19 inches\n"
     ]
    },
    {
     "name": "stderr",
     "output_type": "stream",
     "text": [
      "2022-09-18 02:22:30 [scrapy.downloadermiddlewares.redirect] DEBUG: Redirecting (302) to <GET https://www.amazon.com/Deep-Reinforcement-Learning-Hands-optimization/dp/1838826998/ref=sr_1_242_sspa?crid=2HX2SCFCK032L&keywords=deep+learning&qid=1663460523&sprefix=deep+learnin%2Caps%2C449&sr=8-242-spons&psc=1> from <GET https://www.amazon.com/sspa/click?ie=UTF8&spc=MToxODY3NTk1MTQyODQyODkyOjE2NjM0NjA1MjM6c3BfYXRmX25leHQ6MjAwMDIwOTMwMTE0NTcxOjowOjo&sp_csd=d2lkZ2V0TmFtZT1zcF9hdGZfbmV4dA&url=%2FDeep-Reinforcement-Learning-Hands-optimization%2Fdp%2F1838826998%2Fref%3Dsr_1_242_sspa%3Fcrid%3D2HX2SCFCK032L%26keywords%3Ddeep%2Blearning%26qid%3D1663460523%26sprefix%3Ddeep%2Blearnin%252Caps%252C449%26sr%3D8-242-spons%26psc%3D1>\n"
     ]
    },
    {
     "name": "stdout",
     "output_type": "stream",
     "text": [
      "230\n",
      "['\\n            \\n              37%\\n            \\n          '] 3.7 out of 5 stars 6 x 1.02 x 9 inches\n",
      "231\n",
      "['\\n            \\n              65%\\n            \\n          '] 4.7 out of 5 stars 7.5 x 0.44 x 9.25 inches\n"
     ]
    },
    {
     "name": "stderr",
     "output_type": "stream",
     "text": [
      "2022-09-18 02:22:30 [scrapy.core.engine] DEBUG: Crawled (200) <GET https://www.amazon.com/Elements-Deep-Learning-Computer-Vision-ebook/dp/B097TNCSM8/ref=sr_1_245?crid=2HX2SCFCK032L&keywords=deep+learning&qid=1663460523&sprefix=deep+learnin%2Caps%2C449&sr=8-245> (referer: https://www.amazon.com/s?k=deep+learning&page=6&crid=2HX2SCFCK032L&qid=1663460242&sprefix=deep+learnin%2Caps%2C449&ref=sr_pg_6)\n"
     ]
    },
    {
     "name": "stdout",
     "output_type": "stream",
     "text": [
      "232\n",
      "['\\n            \\n              60%\\n            \\n          '] 4.6 out of 5 stars None\n"
     ]
    },
    {
     "name": "stderr",
     "output_type": "stream",
     "text": [
      "2022-09-18 02:22:31 [scrapy.core.engine] DEBUG: Crawled (200) <GET https://www.amazon.com/Deep-Learning-R-Abhijit-Ghatak-ebook/dp/B07QNDG1QF/ref=sr_1_246?crid=2HX2SCFCK032L&keywords=deep+learning&qid=1663460523&sprefix=deep+learnin%2Caps%2C449&sr=8-246> (referer: https://www.amazon.com/s?k=deep+learning&page=6&crid=2HX2SCFCK032L&qid=1663460242&sprefix=deep+learnin%2Caps%2C449&ref=sr_pg_6)\n"
     ]
    },
    {
     "name": "stdout",
     "output_type": "stream",
     "text": [
      "233\n",
      "['\\n            \\n              49%\\n            \\n          '] 3.6 out of 5 stars None\n"
     ]
    },
    {
     "name": "stderr",
     "output_type": "stream",
     "text": [
      "2022-09-18 02:22:31 [scrapy.core.engine] DEBUG: Crawled (200) <GET https://www.amazon.com/Deep-Learning-TensorFlow-networks-intelligent/dp/1788831101/ref=sr_1_259_sspa?crid=2HX2SCFCK032L&keywords=deep+learning&qid=1663460523&sprefix=deep+learnin%2Caps%2C449&sr=8-259-spons&psc=1> (referer: https://www.amazon.com/s?k=deep+learning&page=6&crid=2HX2SCFCK032L&qid=1663460242&sprefix=deep+learnin%2Caps%2C449&ref=sr_pg_6)\n"
     ]
    },
    {
     "name": "stdout",
     "output_type": "stream",
     "text": [
      "234\n",
      "['\\n            \\n              100%\\n            \\n          '] 5.0 out of 5 stars None\n"
     ]
    },
    {
     "name": "stderr",
     "output_type": "stream",
     "text": [
      "2022-09-18 02:22:31 [scrapy.core.engine] DEBUG: Crawled (200) <GET https://www.amazon.com/Electromagnetics-Empowered-Artificial-Intelligence-Electromagnetic/dp/1119853893/ref=sr_1_224?crid=2HX2SCFCK032L&keywords=deep+learning&qid=1663460513&sprefix=deep+learnin%2Caps%2C449&sr=8-224> (referer: https://www.amazon.com/s?k=deep+learning&page=5&crid=2HX2SCFCK032L&qid=1663460242&sprefix=deep+learnin%2Caps%2C449&ref=sr_pg_5)\n"
     ]
    },
    {
     "name": "stdout",
     "output_type": "stream",
     "text": [
      "235\n",
      "['\\n            \\n              11%\\n            \\n          '] 3.2 out of 5 stars 7.5 x 1.09 x 9.25 inches\n"
     ]
    },
    {
     "name": "stderr",
     "output_type": "stream",
     "text": [
      "2022-09-18 02:22:32 [scrapy.core.engine] DEBUG: Crawled (200) <GET https://www.amazon.com/Deep-Learning-Comprehensive-Shriram-Vasudevan-ebook/dp/B09NL97CQ5/ref=sr_1_223?crid=2HX2SCFCK032L&keywords=deep+learning&qid=1663460513&sprefix=deep+learnin%2Caps%2C449&sr=8-223> (referer: https://www.amazon.com/s?k=deep+learning&page=5&crid=2HX2SCFCK032L&qid=1663460242&sprefix=deep+learnin%2Caps%2C449&ref=sr_pg_5)\n"
     ]
    },
    {
     "name": "stdout",
     "output_type": "stream",
     "text": [
      "236\n",
      "[] None None\n"
     ]
    },
    {
     "name": "stderr",
     "output_type": "stream",
     "text": [
      "2022-09-18 02:22:32 [scrapy.core.engine] DEBUG: Crawled (200) <GET https://www.amazon.com/Practical-MATLAB-Deep-Learning-Projects-Based/dp/1484279115/ref=sr_1_221?crid=2HX2SCFCK032L&keywords=deep+learning&qid=1663460513&sprefix=deep+learnin%2Caps%2C449&sr=8-221> (referer: https://www.amazon.com/s?k=deep+learning&page=5&crid=2HX2SCFCK032L&qid=1663460242&sprefix=deep+learnin%2Caps%2C449&ref=sr_pg_5)\n",
      "2022-09-18 02:22:32 [scrapy.core.engine] DEBUG: Crawled (200) <GET https://www.amazon.com/Apprentissage-artificiel-Concepts-algorithmes-Learning/dp/2416001043/ref=sr_1_222?crid=2HX2SCFCK032L&keywords=deep+learning&qid=1663460513&sprefix=deep+learnin%2Caps%2C449&sr=8-222> (referer: https://www.amazon.com/s?k=deep+learning&page=5&crid=2HX2SCFCK032L&qid=1663460242&sprefix=deep+learnin%2Caps%2C449&ref=sr_pg_5)\n"
     ]
    },
    {
     "name": "stdout",
     "output_type": "stream",
     "text": [
      "237\n",
      "[] None None\n"
     ]
    },
    {
     "name": "stderr",
     "output_type": "stream",
     "text": [
      "2022-09-18 02:22:32 [scrapy.core.engine] DEBUG: Crawled (200) <GET https://www.amazon.com/Deep-Learning-Ecologies-Invitation-Teaching/dp/0999420208/ref=sr_1_220?crid=2HX2SCFCK032L&keywords=deep+learning&qid=1663460513&sprefix=deep+learnin%2Caps%2C449&sr=8-220> (referer: https://www.amazon.com/s?k=deep+learning&page=5&crid=2HX2SCFCK032L&qid=1663460242&sprefix=deep+learnin%2Caps%2C449&ref=sr_pg_5)\n"
     ]
    },
    {
     "name": "stdout",
     "output_type": "stream",
     "text": [
      "238\n",
      "[] None 7 x 0.73 x 10 inches\n",
      "239\n",
      "['\\n            \\n              74%\\n            \\n          '] 4.2 out of 5 stars 6.69 x 2.09 x 9.06 inches\n"
     ]
    },
    {
     "name": "stderr",
     "output_type": "stream",
     "text": [
      "2022-09-18 02:22:32 [scrapy.core.engine] DEBUG: Crawled (200) <GET https://www.amazon.com/Deep-Learning-Python-Hands-Beginners-ebook/dp/B07S92F892/ref=sr_1_219?crid=2HX2SCFCK032L&keywords=deep+learning&qid=1663460513&sprefix=deep+learnin%2Caps%2C449&sr=8-219> (referer: https://www.amazon.com/s?k=deep+learning&page=5&crid=2HX2SCFCK032L&qid=1663460242&sprefix=deep+learnin%2Caps%2C449&ref=sr_pg_5)\n",
      "2022-09-18 02:22:32 [scrapy.core.engine] DEBUG: Crawled (200) <GET https://www.amazon.com/Hands-Deep-Learning-practical-designing-ebook/dp/B085XXHKTP/ref=sr_1_218?crid=2HX2SCFCK032L&keywords=deep+learning&qid=1663460513&sprefix=deep+learnin%2Caps%2C449&sr=8-218> (referer: https://www.amazon.com/s?k=deep+learning&page=5&crid=2HX2SCFCK032L&qid=1663460242&sprefix=deep+learnin%2Caps%2C449&ref=sr_pg_5)\n"
     ]
    },
    {
     "name": "stdout",
     "output_type": "stream",
     "text": [
      "240\n",
      "['\\n            \\n              100%\\n            \\n          '] 5.0 out of 5 stars 8.5 x 0.34 x 11 inches\n",
      "241\n",
      "['\\n            \\n              22%\\n            \\n          '] 3.3 out of 5 stars None\n",
      "242\n",
      "['\\n            \\n              64%\\n            \\n          '] 4.3 out of 5 stars None\n"
     ]
    },
    {
     "name": "stderr",
     "output_type": "stream",
     "text": [
      "2022-09-18 02:22:33 [scrapy.core.engine] DEBUG: Crawled (200) <GET https://www.amazon.com/Crash-Course-hands-introduction-reinforcement/dp/1838645357/ref=sr_1_244_sspa?crid=2HX2SCFCK032L&keywords=deep+learning&qid=1663460523&sprefix=deep+learnin%2Caps%2C449&sr=8-244-spons&psc=1> (referer: https://www.amazon.com/s?k=deep+learning&page=6&crid=2HX2SCFCK032L&qid=1663460242&sprefix=deep+learnin%2Caps%2C449&ref=sr_pg_6)\n",
      "2022-09-18 02:22:33 [scrapy.core.engine] DEBUG: Crawled (200) <GET https://www.amazon.com/Learning-Biology-Medicine-Davide-Bacciu/dp/1800610939/ref=sr_1_217?crid=2HX2SCFCK032L&keywords=deep+learning&qid=1663460513&sprefix=deep+learnin%2Caps%2C449&sr=8-217> (referer: https://www.amazon.com/s?k=deep+learning&page=5&crid=2HX2SCFCK032L&qid=1663460242&sprefix=deep+learnin%2Caps%2C449&ref=sr_pg_5)\n"
     ]
    },
    {
     "name": "stdout",
     "output_type": "stream",
     "text": [
      "243\n",
      "['\\n            \\n              57%\\n            \\n          '] 4.2 out of 5 stars 7.5 x 0.82 x 9.25 inches\n"
     ]
    },
    {
     "name": "stderr",
     "output_type": "stream",
     "text": [
      "2022-09-18 02:22:34 [scrapy.core.engine] DEBUG: Crawled (200) <GET https://www.amazon.com/Deep-Learning-M-Melby-ebook/dp/B09DNY4PC4/ref=sr_1_216?crid=2HX2SCFCK032L&keywords=deep+learning&qid=1663460513&sprefix=deep+learnin%2Caps%2C449&sr=8-216> (referer: https://www.amazon.com/s?k=deep+learning&page=5&crid=2HX2SCFCK032L&qid=1663460242&sprefix=deep+learnin%2Caps%2C449&ref=sr_pg_5)\n",
      "2022-09-18 02:22:34 [scrapy.downloadermiddlewares.redirect] DEBUG: Redirecting (302) to <GET https://www.amazon.com/Graph-Powered-Machine-Learning-Alessandro-Nego/dp/1617295647/ref=sr_1_212_sspa?crid=2HX2SCFCK032L&keywords=deep+learning&qid=1663460513&sprefix=deep+learnin%2Caps%2C449&sr=8-212-spons&psc=1> from <GET https://www.amazon.com/sspa/click?ie=UTF8&spc=MTo1Njc4OTEyNDUxMzA4OTU1OjE2NjM0NjA1MTM6c3BfbXRmOjIwMDA0NzA4MzE5NzQ0MTo6MDo6&sp_csd=d2lkZ2V0TmFtZT1zcF9tdGY&url=%2FGraph-Powered-Machine-Learning-Alessandro-Nego%2Fdp%2F1617295647%2Fref%3Dsr_1_212_sspa%3Fcrid%3D2HX2SCFCK032L%26keywords%3Ddeep%2Blearning%26qid%3D1663460513%26sprefix%3Ddeep%2Blearnin%252Caps%252C449%26sr%3D8-212-spons%26psc%3D1>\n"
     ]
    },
    {
     "name": "stdout",
     "output_type": "stream",
     "text": [
      "244\n",
      "[] None 6 x 0.97 x 9 inches\n"
     ]
    },
    {
     "name": "stderr",
     "output_type": "stream",
     "text": [
      "2022-09-18 02:22:34 [scrapy.core.engine] DEBUG: Crawled (200) <GET https://www.amazon.com/Autonomous-Robotics-Learning-SpringerBriefs-Computer/dp/3319056026/ref=sr_1_215?crid=2HX2SCFCK032L&keywords=deep+learning&qid=1663460513&sprefix=deep+learnin%2Caps%2C449&sr=8-215> (referer: https://www.amazon.com/s?k=deep+learning&page=5&crid=2HX2SCFCK032L&qid=1663460242&sprefix=deep+learnin%2Caps%2C449&ref=sr_pg_5)\n",
      "2022-09-18 02:22:34 [scrapy.downloadermiddlewares.redirect] DEBUG: Redirecting (302) to <GET https://www.amazon.com/Mastering-Computer-Vision-TensorFlow-2-x/dp/1838827064/ref=sr_1_211_sspa?crid=2HX2SCFCK032L&keywords=deep+learning&qid=1663460513&sprefix=deep+learnin%2Caps%2C449&sr=8-211-spons&psc=1> from <GET https://www.amazon.com/sspa/click?ie=UTF8&spc=MTo1Njc4OTEyNDUxMzA4OTU1OjE2NjM0NjA1MTM6c3BfbXRmOjIwMDAyNDkxNjQ3Mzc3MTo6MDo6&sp_csd=d2lkZ2V0TmFtZT1zcF9tdGY&url=%2FMastering-Computer-Vision-TensorFlow-2-x%2Fdp%2F1838827064%2Fref%3Dsr_1_211_sspa%3Fcrid%3D2HX2SCFCK032L%26keywords%3Ddeep%2Blearning%26qid%3D1663460513%26sprefix%3Ddeep%2Blearnin%252Caps%252C449%26sr%3D8-211-spons%26psc%3D1>\n"
     ]
    },
    {
     "name": "stdout",
     "output_type": "stream",
     "text": [
      "245\n",
      "[] None None\n"
     ]
    },
    {
     "name": "stderr",
     "output_type": "stream",
     "text": [
      "2022-09-18 02:22:34 [scrapy.core.engine] DEBUG: Crawled (200) <GET https://www.amazon.com/Deep-Reinforcement-Learning-Hands-optimization/dp/1838826998/ref=sr_1_242_sspa?crid=2HX2SCFCK032L&keywords=deep+learning&qid=1663460523&sprefix=deep+learnin%2Caps%2C449&sr=8-242-spons&psc=1> (referer: https://www.amazon.com/s?k=deep+learning&page=6&crid=2HX2SCFCK032L&qid=1663460242&sprefix=deep+learnin%2Caps%2C449&ref=sr_pg_6)\n",
      "2022-09-18 02:22:34 [scrapy.downloadermiddlewares.redirect] DEBUG: Redirecting (302) to <GET https://www.amazon.com/DEEP-LEARNING-PYTHON-Beginners-Effective/dp/B08YS629F7/ref=sr_1_209_sspa?crid=2HX2SCFCK032L&keywords=deep+learning&qid=1663460513&sprefix=deep+learnin%2Caps%2C449&sr=8-209-spons&psc=1> from <GET https://www.amazon.com/sspa/click?ie=UTF8&spc=MTo1Njc4OTEyNDUxMzA4OTU1OjE2NjM0NjA1MTM6c3BfbXRmOjIwMDA1NTc3OTU0NzQ0MTo6MDo6&sp_csd=d2lkZ2V0TmFtZT1zcF9tdGY&url=%2FDEEP-LEARNING-PYTHON-Beginners-Effective%2Fdp%2FB08YS629F7%2Fref%3Dsr_1_209_sspa%3Fcrid%3D2HX2SCFCK032L%26keywords%3Ddeep%2Blearning%26qid%3D1663460513%26sprefix%3Ddeep%2Blearnin%252Caps%252C449%26sr%3D8-209-spons%26psc%3D1>\n",
      "2022-09-18 02:22:34 [scrapy.downloadermiddlewares.redirect] DEBUG: Redirecting (302) to <GET https://www.amazon.com/Inside-Deep-Learning-Algorithms-Models/dp/1617298638/ref=sr_1_210_sspa?crid=2HX2SCFCK032L&keywords=deep+learning&qid=1663460513&sprefix=deep+learnin%2Caps%2C449&sr=8-210-spons&psc=1> from <GET https://www.amazon.com/sspa/click?ie=UTF8&spc=MTo1Njc4OTEyNDUxMzA4OTU1OjE2NjM0NjA1MTM6c3BfbXRmOjIwMDA2ODI4NjU4NzQ0MTo6MDo6&sp_csd=d2lkZ2V0TmFtZT1zcF9tdGY&url=%2FInside-Deep-Learning-Algorithms-Models%2Fdp%2F1617298638%2Fref%3Dsr_1_210_sspa%3Fcrid%3D2HX2SCFCK032L%26keywords%3Ddeep%2Blearning%26qid%3D1663460513%26sprefix%3Ddeep%2Blearnin%252Caps%252C449%26sr%3D8-210-spons%26psc%3D1>\n",
      "2022-09-18 02:22:34 [scrapy.core.engine] DEBUG: Crawled (200) <GET https://www.amazon.com/Hands-Music-Generation-Magenta-composition/dp/1838824413/ref=sr_1_243_sspa?crid=2HX2SCFCK032L&keywords=deep+learning&qid=1663460523&sprefix=deep+learnin%2Caps%2C449&sr=8-243-spons&psc=1> (referer: https://www.amazon.com/s?k=deep+learning&page=6&crid=2HX2SCFCK032L&qid=1663460242&sprefix=deep+learnin%2Caps%2C449&ref=sr_pg_6)\n",
      "2022-09-18 02:22:34 [scrapy.core.engine] DEBUG: Crawled (200) <GET https://www.amazon.com/Artificial-Intelligence-Machine-Learning-Deep/dp/1683924673/ref=sr_1_214?crid=2HX2SCFCK032L&keywords=deep+learning&qid=1663460513&sprefix=deep+learnin%2Caps%2C449&sr=8-214> (referer: https://www.amazon.com/s?k=deep+learning&page=5&crid=2HX2SCFCK032L&qid=1663460242&sprefix=deep+learnin%2Caps%2C449&ref=sr_pg_5)\n"
     ]
    },
    {
     "name": "stdout",
     "output_type": "stream",
     "text": [
      "246\n",
      "['\\n            \\n              100%\\n            \\n          '] 5.0 out of 5 stars 6.1 x 0.18 x 9.25 inches\n",
      "247\n",
      "['\\n            \\n              75%\\n            \\n          '] 4.5 out of 5 stars 7.5 x 1.87 x 9.25 inches\n",
      "248\n",
      "['\\n            \\n              47%\\n            \\n          '] 4.5 out of 5 stars 7.5 x 0.82 x 9.25 inches\n"
     ]
    },
    {
     "name": "stderr",
     "output_type": "stream",
     "text": [
      "2022-09-18 02:22:35 [scrapy.core.engine] DEBUG: Crawled (200) <GET https://www.amazon.com/Culture-School-Learning-Revealing-Meaning/dp/0415743451/ref=sr_1_213?crid=2HX2SCFCK032L&keywords=deep+learning&qid=1663460513&sprefix=deep+learnin%2Caps%2C449&sr=8-213> (referer: https://www.amazon.com/s?k=deep+learning&page=5&crid=2HX2SCFCK032L&qid=1663460242&sprefix=deep+learnin%2Caps%2C449&ref=sr_pg_5)\n"
     ]
    },
    {
     "name": "stdout",
     "output_type": "stream",
     "text": [
      "249\n",
      "['\\n            \\n              37%\\n            \\n          '] 4.4 out of 5 stars 6.75 x 0.75 x 8.75 inches\n",
      "250\n",
      "['\\n            \\n              58%\\n            \\n          '] 4.4 out of 5 stars 6 x 0.61 x 9 inches\n"
     ]
    },
    {
     "name": "stderr",
     "output_type": "stream",
     "text": [
      "2022-09-18 02:22:36 [scrapy.core.engine] DEBUG: Crawled (200) <GET https://www.amazon.com/Practical-MATLAB-Deep-Learning-Project-Based/dp/1484251237/ref=sr_1_208?crid=2HX2SCFCK032L&keywords=deep+learning&qid=1663460513&sprefix=deep+learnin%2Caps%2C449&sr=8-208> (referer: https://www.amazon.com/s?k=deep+learning&page=5&crid=2HX2SCFCK032L&qid=1663460242&sprefix=deep+learnin%2Caps%2C449&ref=sr_pg_5)\n",
      "2022-09-18 02:22:36 [scrapy.core.engine] DEBUG: Crawled (200) <GET https://www.amazon.com/Hacking-Artificial-Intelligence-Deepfakes-Breaking-ebook/dp/B09X3RRKWB/ref=sr_1_204?crid=2HX2SCFCK032L&keywords=deep+learning&qid=1663460513&sprefix=deep+learnin%2Caps%2C449&sr=8-204> (referer: https://www.amazon.com/s?k=deep+learning&page=5&crid=2HX2SCFCK032L&qid=1663460242&sprefix=deep+learnin%2Caps%2C449&ref=sr_pg_5)\n",
      "2022-09-18 02:22:36 [scrapy.core.engine] DEBUG: Crawled (200) <GET https://www.amazon.com/Deep-Learning-Paul-Christoph-Feichtinger-ebook/dp/B0815XTG15/ref=sr_1_205?crid=2HX2SCFCK032L&keywords=deep+learning&qid=1663460513&sprefix=deep+learnin%2Caps%2C449&sr=8-205> (referer: https://www.amazon.com/s?k=deep+learning&page=5&crid=2HX2SCFCK032L&qid=1663460242&sprefix=deep+learnin%2Caps%2C449&ref=sr_pg_5)\n",
      "2022-09-18 02:22:36 [scrapy.core.engine] DEBUG: Crawled (200) <GET https://www.amazon.com/Deep-Reinforcement-Learning-Introduction-Managers-ebook/dp/B077RX4TMW/ref=sr_1_202?crid=2HX2SCFCK032L&keywords=deep+learning&qid=1663460513&sprefix=deep+learnin%2Caps%2C449&sr=8-202> (referer: https://www.amazon.com/s?k=deep+learning&page=5&crid=2HX2SCFCK032L&qid=1663460242&sprefix=deep+learnin%2Caps%2C449&ref=sr_pg_5)\n"
     ]
    },
    {
     "name": "stdout",
     "output_type": "stream",
     "text": [
      "251\n",
      "['\\n            \\n              51%\\n            \\n          '] 3.7 out of 5 stars 7.01 x 0.63 x 10 inches\n",
      "252\n",
      "[] None None\n"
     ]
    },
    {
     "name": "stderr",
     "output_type": "stream",
     "text": [
      "2022-09-18 02:22:36 [scrapy.core.engine] DEBUG: Crawled (200) <GET https://www.amazon.com/Deep-Learning-Robot-Dreams-Book-ebook/dp/B08644FLPM/ref=sr_1_206?crid=2HX2SCFCK032L&keywords=deep+learning&qid=1663460513&sprefix=deep+learnin%2Caps%2C449&sr=8-206> (referer: https://www.amazon.com/s?k=deep+learning&page=5&crid=2HX2SCFCK032L&qid=1663460242&sprefix=deep+learnin%2Caps%2C449&ref=sr_pg_5)\n",
      "2022-09-18 02:22:37 [scrapy.core.engine] DEBUG: Crawled (200) <GET https://www.amazon.com/Ultimate-Guide-Learning-Using-Python-ebook/dp/B08D8JB3K1/ref=sr_1_203?crid=2HX2SCFCK032L&keywords=deep+learning&qid=1663460513&sprefix=deep+learnin%2Caps%2C449&sr=8-203> (referer: https://www.amazon.com/s?k=deep+learning&page=5&crid=2HX2SCFCK032L&qid=1663460242&sprefix=deep+learnin%2Caps%2C449&ref=sr_pg_5)\n",
      "2022-09-18 02:22:37 [scrapy.core.engine] DEBUG: Crawled (200) <GET https://www.amazon.com/Deep-Work-Cal-Newport-audiobook/dp/B0189PVAWY/ref=sr_1_207?crid=2HX2SCFCK032L&keywords=deep+learning&qid=1663460513&sprefix=deep+learnin%2Caps%2C449&sr=8-207> (referer: https://www.amazon.com/s?k=deep+learning&page=5&crid=2HX2SCFCK032L&qid=1663460242&sprefix=deep+learnin%2Caps%2C449&ref=sr_pg_5)\n"
     ]
    },
    {
     "name": "stdout",
     "output_type": "stream",
     "text": [
      "253\n",
      "[] None None\n",
      "254\n",
      "['\\n            \\n              100%\\n            \\n          '] 4.0 out of 5 stars None\n",
      "255\n",
      "['\\n            \\n              49%\\n            \\n          '] 4.5 out of 5 stars None\n",
      "256\n",
      "['\\n            \\n              53%\\n            \\n          '] 4.1 out of 5 stars None\n",
      "257\n",
      "['\\n            \\n              73%\\n            \\n          '] 4.6 out of 5 stars None\n"
     ]
    },
    {
     "name": "stderr",
     "output_type": "stream",
     "text": [
      "2022-09-18 02:22:38 [scrapy.core.engine] DEBUG: Crawled (200) <GET https://www.amazon.com/Learning-Physics-Research-Martin-Erdmann-ebook/dp/B098NXWNLL/ref=sr_1_201?crid=2HX2SCFCK032L&keywords=deep+learning&qid=1663460513&sprefix=deep+learnin%2Caps%2C449&sr=8-201> (referer: https://www.amazon.com/s?k=deep+learning&page=5&crid=2HX2SCFCK032L&qid=1663460242&sprefix=deep+learnin%2Caps%2C449&ref=sr_pg_5)\n",
      "2022-09-18 02:22:38 [scrapy.core.engine] DEBUG: Crawled (200) <GET https://www.amazon.com/Graph-Powered-Machine-Learning-Alessandro-Nego/dp/1617295647/ref=sr_1_212_sspa?crid=2HX2SCFCK032L&keywords=deep+learning&qid=1663460513&sprefix=deep+learnin%2Caps%2C449&sr=8-212-spons&psc=1> (referer: https://www.amazon.com/s?k=deep+learning&page=5&crid=2HX2SCFCK032L&qid=1663460242&sprefix=deep+learnin%2Caps%2C449&ref=sr_pg_5)\n",
      "2022-09-18 02:22:38 [scrapy.core.engine] DEBUG: Crawled (200) <GET https://www.amazon.com/Inside-Deep-Learning-Algorithms-Models/dp/1617298638/ref=sr_1_210_sspa?crid=2HX2SCFCK032L&keywords=deep+learning&qid=1663460513&sprefix=deep+learnin%2Caps%2C449&sr=8-210-spons&psc=1> (referer: https://www.amazon.com/s?k=deep+learning&page=5&crid=2HX2SCFCK032L&qid=1663460242&sprefix=deep+learnin%2Caps%2C449&ref=sr_pg_5)\n"
     ]
    },
    {
     "name": "stdout",
     "output_type": "stream",
     "text": [
      "258\n",
      "['\\n            \\n              100%\\n            \\n          '] 5.0 out of 5 stars None\n",
      "259\n",
      "['\\n            \\n              74%\\n            \\n          '] 4.4 out of 5 stars 7.38 x 0.6 x 9.25 inches\n"
     ]
    },
    {
     "name": "stderr",
     "output_type": "stream",
     "text": [
      "2022-09-18 02:22:38 [scrapy.downloadermiddlewares.redirect] DEBUG: Redirecting (302) to <GET https://www.amazon.com/Grokking-Machine-Learning-Luis-Serrano/dp/1617295914/ref=sr_1_196_sspa?crid=2HX2SCFCK032L&keywords=deep+learning&qid=1663460513&sprefix=deep+learnin%2Caps%2C449&sr=8-196-spons&psc=1> from <GET https://www.amazon.com/sspa/click?ie=UTF8&spc=MTo1Njc4OTEyNDUxMzA4OTU1OjE2NjM0NjA1MTM6c3BfYXRmX25leHQ6MjAwMDQ3MDg0NTg3NDQxOjowOjo&sp_csd=d2lkZ2V0TmFtZT1zcF9hdGZfbmV4dA&url=%2FGrokking-Machine-Learning-Luis-Serrano%2Fdp%2F1617295914%2Fref%3Dsr_1_196_sspa%3Fcrid%3D2HX2SCFCK032L%26keywords%3Ddeep%2Blearning%26qid%3D1663460513%26sprefix%3Ddeep%2Blearnin%252Caps%252C449%26sr%3D8-196-spons%26psc%3D1>\n",
      "2022-09-18 02:22:38 [scrapy.downloadermiddlewares.redirect] DEBUG: Redirecting (302) to <GET https://www.amazon.com/Grokking-Artificial-Intelligence-Algorithms-Hurbans/dp/161729618X/ref=sr_1_195_sspa?crid=2HX2SCFCK032L&keywords=deep+learning&qid=1663460513&sprefix=deep+learnin%2Caps%2C449&sr=8-195-spons&psc=1> from <GET https://www.amazon.com/sspa/click?ie=UTF8&spc=MTo1Njc4OTEyNDUxMzA4OTU1OjE2NjM0NjA1MTM6c3BfYXRmX25leHQ6MjAwMDQ3MDk4MTI3NDQxOjowOjo&sp_csd=d2lkZ2V0TmFtZT1zcF9hdGZfbmV4dA&url=%2FGrokking-Artificial-Intelligence-Algorithms-Hurbans%2Fdp%2F161729618X%2Fref%3Dsr_1_195_sspa%3Fcrid%3D2HX2SCFCK032L%26keywords%3Ddeep%2Blearning%26qid%3D1663460513%26sprefix%3Ddeep%2Blearnin%252Caps%252C449%26sr%3D8-195-spons%26psc%3D1>\n",
      "2022-09-18 02:22:38 [scrapy.core.engine] DEBUG: Crawled (200) <GET https://www.amazon.com/Mastering-Computer-Vision-TensorFlow-2-x/dp/1838827064/ref=sr_1_211_sspa?crid=2HX2SCFCK032L&keywords=deep+learning&qid=1663460513&sprefix=deep+learnin%2Caps%2C449&sr=8-211-spons&psc=1> (referer: https://www.amazon.com/s?k=deep+learning&page=5&crid=2HX2SCFCK032L&qid=1663460242&sprefix=deep+learnin%2Caps%2C449&ref=sr_pg_5)\n"
     ]
    },
    {
     "name": "stdout",
     "output_type": "stream",
     "text": [
      "260\n",
      "['\\n            \\n              100%\\n            \\n          '] 5.0 out of 5 stars 7.38 x 1.7 x 9.25 inches\n"
     ]
    },
    {
     "name": "stderr",
     "output_type": "stream",
     "text": [
      "2022-09-18 02:22:38 [scrapy.core.engine] DEBUG: Crawled (200) <GET https://www.amazon.com/DEEP-LEARNING-PYTHON-Beginners-Effective/dp/B08YS629F7/ref=sr_1_209_sspa?crid=2HX2SCFCK032L&keywords=deep+learning&qid=1663460513&sprefix=deep+learnin%2Caps%2C449&sr=8-209-spons&psc=1> (referer: https://www.amazon.com/s?k=deep+learning&page=5&crid=2HX2SCFCK032L&qid=1663460242&sprefix=deep+learnin%2Caps%2C449&ref=sr_pg_5)\n",
      "2022-09-18 02:22:38 [scrapy.core.engine] DEBUG: Crawled (200) <GET https://www.amazon.com/Deep-Learning-Keras-Workshop-network-ebook/dp/B08Q8JJ45N/ref=sr_1_200?crid=2HX2SCFCK032L&keywords=deep+learning&qid=1663460513&sprefix=deep+learnin%2Caps%2C449&sr=8-200> (referer: https://www.amazon.com/s?k=deep+learning&page=5&crid=2HX2SCFCK032L&qid=1663460242&sprefix=deep+learnin%2Caps%2C449&ref=sr_pg_5)\n",
      "2022-09-18 02:22:38 [scrapy.downloadermiddlewares.redirect] DEBUG: Redirecting (302) to <GET https://www.amazon.com/Hands-Genetic-Algorithms-Python-intelligence/dp/1838557741/ref=sr_1_194_sspa?crid=2HX2SCFCK032L&keywords=deep+learning&qid=1663460513&sprefix=deep+learnin%2Caps%2C449&sr=8-194-spons&psc=1> from <GET https://www.amazon.com/sspa/click?ie=UTF8&spc=MTo1Njc4OTEyNDUxMzA4OTU1OjE2NjM0NjA1MTM6c3BfYXRmX25leHQ6MjAwMDIwOTU4MTMzODcxOjowOjo&sp_csd=d2lkZ2V0TmFtZT1zcF9hdGZfbmV4dA&url=%2FHands-Genetic-Algorithms-Python-intelligence%2Fdp%2F1838557741%2Fref%3Dsr_1_194_sspa%3Fcrid%3D2HX2SCFCK032L%26keywords%3Ddeep%2Blearning%26qid%3D1663460513%26sprefix%3Ddeep%2Blearnin%252Caps%252C449%26sr%3D8-194-spons%26psc%3D1>\n",
      "2022-09-18 02:22:38 [scrapy.downloadermiddlewares.redirect] DEBUG: Redirecting (302) to <GET https://www.amazon.com/Grokking-Reinforcement-Learning-Miguel-Morales/dp/1617295450/ref=sr_1_193_sspa?crid=2HX2SCFCK032L&keywords=deep+learning&qid=1663460513&sprefix=deep+learnin%2Caps%2C449&sr=8-193-spons&psc=1> from <GET https://www.amazon.com/sspa/click?ie=UTF8&spc=MTo1Njc4OTEyNDUxMzA4OTU1OjE2NjM0NjA1MTM6c3BfYXRmX25leHQ6MjAwMDM4NTEyNTE3NDQxOjowOjo&sp_csd=d2lkZ2V0TmFtZT1zcF9hdGZfbmV4dA&url=%2FGrokking-Reinforcement-Learning-Miguel-Morales%2Fdp%2F1617295450%2Fref%3Dsr_1_193_sspa%3Fcrid%3D2HX2SCFCK032L%26keywords%3Ddeep%2Blearning%26qid%3D1663460513%26sprefix%3Ddeep%2Blearnin%252Caps%252C449%26sr%3D8-193-spons%26psc%3D1>\n"
     ]
    },
    {
     "name": "stdout",
     "output_type": "stream",
     "text": [
      "261\n",
      "['\\n            \\n              48%\\n            \\n          '] 3.9 out of 5 stars 7.5 x 0.97 x 9.25 inches\n"
     ]
    },
    {
     "name": "stderr",
     "output_type": "stream",
     "text": [
      "2022-09-18 02:22:39 [scrapy.core.engine] DEBUG: Crawled (200) <GET https://www.amazon.com/Pro-Deep-Learning-TensorFlow-Mathematical/dp/1484230957/ref=sr_1_199?crid=2HX2SCFCK032L&keywords=deep+learning&qid=1663460513&sprefix=deep+learnin%2Caps%2C449&sr=8-199> (referer: https://www.amazon.com/s?k=deep+learning&page=5&crid=2HX2SCFCK032L&qid=1663460242&sprefix=deep+learnin%2Caps%2C449&ref=sr_pg_5)\n",
      "2022-09-18 02:22:39 [scrapy.core.engine] DEBUG: Crawled (200) <GET https://www.amazon.com/Neural-Networks-Deep-Learning-Blockchain/dp/1722149841/ref=sr_1_198?crid=2HX2SCFCK032L&keywords=deep+learning&qid=1663460513&sprefix=deep+learnin%2Caps%2C449&sr=8-198> (referer: https://www.amazon.com/s?k=deep+learning&page=5&crid=2HX2SCFCK032L&qid=1663460242&sprefix=deep+learnin%2Caps%2C449&ref=sr_pg_5)\n"
     ]
    },
    {
     "name": "stdout",
     "output_type": "stream",
     "text": [
      "262\n",
      "['\\n            \\n              51%\\n            \\n          '] 3.5 out of 5 stars 6 x 1.24 x 9 inches\n",
      "263\n",
      "['\\n            \\n              38%\\n            \\n          '] 4.1 out of 5 stars None\n",
      "264\n",
      "['\\n            \\n              61%\\n            \\n          '] 4.1 out of 5 stars 7.01 x 0.96 x 10 inches\n",
      "265\n",
      "['\\n            \\n              100%\\n            \\n          '] 5.0 out of 5 stars 8.5 x 0.33 x 11.02 inches\n"
     ]
    },
    {
     "name": "stderr",
     "output_type": "stream",
     "text": [
      "2022-09-18 02:22:41 [scrapy.core.engine] DEBUG: Crawled (200) <GET https://www.amazon.com/Deep-Nature-Play-Wholeness-Creativity/dp/1565893220/ref=sr_1_197?crid=2HX2SCFCK032L&keywords=deep+learning&qid=1663460513&sprefix=deep+learnin%2Caps%2C449&sr=8-197> (referer: https://www.amazon.com/s?k=deep+learning&page=5&crid=2HX2SCFCK032L&qid=1663460242&sprefix=deep+learnin%2Caps%2C449&ref=sr_pg_5)\n"
     ]
    },
    {
     "name": "stdout",
     "output_type": "stream",
     "text": [
      "266\n",
      "['\\n            \\n              87%\\n            \\n          '] 4.9 out of 5 stars 5.48 x 0.33 x 8.58 inches\n"
     ]
    },
    {
     "name": "stderr",
     "output_type": "stream",
     "text": [
      "2022-09-18 02:22:41 [scrapy.core.engine] DEBUG: Crawled (200) <GET https://www.amazon.com/Deep-Learning-PyTorch-Lightning-Productivity-ebook/dp/B0B49TGB9Q/ref=sr_1_175?crid=2HX2SCFCK032L&keywords=deep+learning&qid=1663460503&sprefix=deep+learnin%2Caps%2C449&sr=8-175> (referer: https://www.amazon.com/s?k=deep+learning&page=4&crid=2HX2SCFCK032L&qid=1663460242&sprefix=deep+learnin%2Caps%2C449&ref=sr_pg_4)\n"
     ]
    },
    {
     "name": "stdout",
     "output_type": "stream",
     "text": [
      "267\n",
      "[] None None\n"
     ]
    },
    {
     "name": "stderr",
     "output_type": "stream",
     "text": [
      "2022-09-18 02:22:42 [scrapy.core.engine] DEBUG: Crawled (200) <GET https://www.amazon.com/Practical-Machine-Learning-Darren-Cook/dp/149196460X/ref=sr_1_171?crid=2HX2SCFCK032L&keywords=deep+learning&qid=1663460503&sprefix=deep+learnin%2Caps%2C449&sr=8-171> (referer: https://www.amazon.com/s?k=deep+learning&page=4&crid=2HX2SCFCK032L&qid=1663460242&sprefix=deep+learnin%2Caps%2C449&ref=sr_pg_4)\n",
      "2022-09-18 02:22:42 [scrapy.core.engine] DEBUG: Crawled (200) <GET https://www.amazon.com/Learning-Approaches-Security-Threats-Environments/dp/1119884144/ref=sr_1_173?crid=2HX2SCFCK032L&keywords=deep+learning&qid=1663460503&sprefix=deep+learnin%2Caps%2C449&sr=8-173> (referer: https://www.amazon.com/s?k=deep+learning&page=4&crid=2HX2SCFCK032L&qid=1663460242&sprefix=deep+learnin%2Caps%2C449&ref=sr_pg_4)\n"
     ]
    },
    {
     "name": "stdout",
     "output_type": "stream",
     "text": [
      "268\n",
      "['\\n            \\n              64%\\n            \\n          '] 4.2 out of 5 stars 7 x 0.68 x 9.19 inches\n"
     ]
    },
    {
     "name": "stderr",
     "output_type": "stream",
     "text": [
      "2022-09-18 02:22:42 [scrapy.core.engine] DEBUG: Crawled (200) <GET https://www.amazon.com/Artificial-Intelligence-Deep-Learning-Pathology/dp/0323675387/ref=sr_1_174?crid=2HX2SCFCK032L&keywords=deep+learning&qid=1663460503&sprefix=deep+learnin%2Caps%2C449&sr=8-174> (referer: https://www.amazon.com/s?k=deep+learning&page=4&crid=2HX2SCFCK032L&qid=1663460242&sprefix=deep+learnin%2Caps%2C449&ref=sr_pg_4)\n",
      "2022-09-18 02:22:43 [scrapy.core.engine] DEBUG: Crawled (200) <GET https://www.amazon.com/Grokking-Artificial-Intelligence-Algorithms-Hurbans/dp/161729618X/ref=sr_1_195_sspa?crid=2HX2SCFCK032L&keywords=deep+learning&qid=1663460513&sprefix=deep+learnin%2Caps%2C449&sr=8-195-spons&psc=1> (referer: https://www.amazon.com/s?k=deep+learning&page=5&crid=2HX2SCFCK032L&qid=1663460242&sprefix=deep+learnin%2Caps%2C449&ref=sr_pg_5)\n",
      "2022-09-18 02:22:43 [scrapy.core.engine] DEBUG: Crawled (200) <GET https://www.amazon.com/Machine-Learning-Mathematics-Artificial-Intelligence/dp/B084BY1LDW/ref=sr_1_172?crid=2HX2SCFCK032L&keywords=deep+learning&qid=1663460503&sprefix=deep+learnin%2Caps%2C449&sr=8-172> (referer: https://www.amazon.com/s?k=deep+learning&page=4&crid=2HX2SCFCK032L&qid=1663460242&sprefix=deep+learnin%2Caps%2C449&ref=sr_pg_4)\n"
     ]
    },
    {
     "name": "stdout",
     "output_type": "stream",
     "text": [
      "269\n",
      "[] None None\n",
      "270\n",
      "['\\n            \\n              60%\\n            \\n          '] 4.1 out of 5 stars 7.5 x 9.25 inches\n",
      "271\n",
      "['\\n            \\n              78%\\n            \\n          '] 4.5 out of 5 stars 7.38 x 0.8 x 9.25 inches\n"
     ]
    },
    {
     "name": "stderr",
     "output_type": "stream",
     "text": [
      "2022-09-18 02:22:43 [scrapy.core.engine] DEBUG: Crawled (200) <GET https://www.amazon.com/Grokking-Machine-Learning-Luis-Serrano/dp/1617295914/ref=sr_1_196_sspa?crid=2HX2SCFCK032L&keywords=deep+learning&qid=1663460513&sprefix=deep+learnin%2Caps%2C449&sr=8-196-spons&psc=1> (referer: https://www.amazon.com/s?k=deep+learning&page=5&crid=2HX2SCFCK032L&qid=1663460242&sprefix=deep+learnin%2Caps%2C449&ref=sr_pg_5)\n"
     ]
    },
    {
     "name": "stdout",
     "output_type": "stream",
     "text": [
      "272\n",
      "['\\n            \\n              50%\\n            \\n          '] 4.0 out of 5 stars None\n",
      "273\n",
      "['\\n            \\n              72%\\n            \\n          '] 4.6 out of 5 stars 7.38 x 1.1 x 9.25 inches\n"
     ]
    },
    {
     "name": "stderr",
     "output_type": "stream",
     "text": [
      "2022-09-18 02:22:44 [scrapy.core.engine] DEBUG: Crawled (200) <GET https://www.amazon.com/Grokking-Reinforcement-Learning-Miguel-Morales/dp/1617295450/ref=sr_1_193_sspa?crid=2HX2SCFCK032L&keywords=deep+learning&qid=1663460513&sprefix=deep+learnin%2Caps%2C449&sr=8-193-spons&psc=1> (referer: https://www.amazon.com/s?k=deep+learning&page=5&crid=2HX2SCFCK032L&qid=1663460242&sprefix=deep+learnin%2Caps%2C449&ref=sr_pg_5)\n"
     ]
    },
    {
     "name": "stdout",
     "output_type": "stream",
     "text": [
      "274\n",
      "['\\n            \\n              82%\\n            \\n          '] 4.7 out of 5 stars 7.38 x 1 x 9.25 inches\n"
     ]
    },
    {
     "name": "stderr",
     "output_type": "stream",
     "text": [
      "2022-09-18 02:22:45 [scrapy.downloadermiddlewares.redirect] DEBUG: Redirecting (302) to <GET https://www.amazon.com/Deep-Learning-Python-Advanced-Guide/dp/B08RZC644T/ref=sr_1_164_sspa?crid=2HX2SCFCK032L&keywords=deep+learning&qid=1663460503&sprefix=deep+learnin%2Caps%2C449&sr=8-164-spons&psc=1> from <GET https://www.amazon.com/sspa/click?ie=UTF8&spc=MTo1NDgzOTE5NDI3NDU1NDEyOjE2NjM0NjA1MDM6c3BfbXRmOjIwMDA0NzA3NTE0NzQ0MTo6MDo6&sp_csd=d2lkZ2V0TmFtZT1zcF9tdGY&url=%2FDeep-Learning-Python-Advanced-Guide%2Fdp%2FB08RZC644T%2Fref%3Dsr_1_164_sspa%3Fcrid%3D2HX2SCFCK032L%26keywords%3Ddeep%2Blearning%26qid%3D1663460503%26sprefix%3Ddeep%2Blearnin%252Caps%252C449%26sr%3D8-164-spons%26psc%3D1>\n",
      "2022-09-18 02:22:45 [scrapy.core.engine] DEBUG: Crawled (200) <GET https://www.amazon.com/Neural-Networks-Quinn-Spencer-audiobook/dp/B07QGL3ND7/ref=sr_1_169?crid=2HX2SCFCK032L&keywords=deep+learning&qid=1663460503&sprefix=deep+learnin%2Caps%2C449&sr=8-169> (referer: https://www.amazon.com/s?k=deep+learning&page=4&crid=2HX2SCFCK032L&qid=1663460242&sprefix=deep+learnin%2Caps%2C449&ref=sr_pg_4)\n",
      "2022-09-18 02:22:45 [scrapy.downloadermiddlewares.redirect] DEBUG: Redirecting (302) to <GET https://www.amazon.com/Neural-Networks-Deep-Learning-Textbook/dp/3319944622/ref=sr_1_163_sspa?crid=2HX2SCFCK032L&keywords=deep+learning&qid=1663460503&sprefix=deep+learnin%2Caps%2C449&sr=8-163-spons&psc=1> from <GET https://www.amazon.com/sspa/click?ie=UTF8&spc=MTo1NDgzOTE5NDI3NDU1NDEyOjE2NjM0NjA1MDM6c3BfbXRmOjIwMDA1NTY5OTg5ODA5ODo6MDo6&sp_csd=d2lkZ2V0TmFtZT1zcF9tdGY&url=%2FNeural-Networks-Deep-Learning-Textbook%2Fdp%2F3319944622%2Fref%3Dsr_1_163_sspa%3Fcrid%3D2HX2SCFCK032L%26keywords%3Ddeep%2Blearning%26qid%3D1663460503%26sprefix%3Ddeep%2Blearnin%252Caps%252C449%26sr%3D8-163-spons%26psc%3D1>\n",
      "2022-09-18 02:22:45 [scrapy.downloadermiddlewares.redirect] DEBUG: Redirecting (302) to <GET https://www.amazon.com/Getting-started-Learning-Language-Processing/dp/9389898110/ref=sr_1_162_sspa?crid=2HX2SCFCK032L&keywords=deep+learning&qid=1663460503&sprefix=deep+learnin%2Caps%2C449&sr=8-162-spons&psc=1> from <GET https://www.amazon.com/sspa/click?ie=UTF8&spc=MTo1NDgzOTE5NDI3NDU1NDEyOjE2NjM0NjA1MDM6c3BfbXRmOjIwMDA2NTQ3OTIwNDY4MTo6MDo6&sp_csd=d2lkZ2V0TmFtZT1zcF9tdGY&url=%2FGetting-started-Learning-Language-Processing%2Fdp%2F9389898110%2Fref%3Dsr_1_162_sspa%3Fcrid%3D2HX2SCFCK032L%26keywords%3Ddeep%2Blearning%26qid%3D1663460503%26sprefix%3Ddeep%2Blearnin%252Caps%252C449%26sr%3D8-162-spons%26psc%3D1>\n",
      "2022-09-18 02:22:45 [scrapy.core.engine] DEBUG: Crawled (200) <GET https://www.amazon.com/Codeless-Deep-Learning-KNIME-architectures/dp/1800566611/ref=sr_1_166?crid=2HX2SCFCK032L&keywords=deep+learning&qid=1663460503&sprefix=deep+learnin%2Caps%2C449&sr=8-166> (referer: https://www.amazon.com/s?k=deep+learning&page=4&crid=2HX2SCFCK032L&qid=1663460242&sprefix=deep+learnin%2Caps%2C449&ref=sr_pg_4)\n"
     ]
    },
    {
     "name": "stdout",
     "output_type": "stream",
     "text": [
      "275\n",
      "[] None None\n"
     ]
    },
    {
     "name": "stderr",
     "output_type": "stream",
     "text": [
      "2022-09-18 02:22:45 [scrapy.core.engine] DEBUG: Crawled (200) <GET https://www.amazon.com/Machine-Learning-Biotechnology-Life-Sciences/dp/1801811911/ref=sr_1_168?crid=2HX2SCFCK032L&keywords=deep+learning&qid=1663460503&sprefix=deep+learnin%2Caps%2C449&sr=8-168> (referer: https://www.amazon.com/s?k=deep+learning&page=4&crid=2HX2SCFCK032L&qid=1663460242&sprefix=deep+learnin%2Caps%2C449&ref=sr_pg_4)\n",
      "2022-09-18 02:22:45 [scrapy.core.engine] DEBUG: Crawled (200) <GET https://www.amazon.com/Exploring-Deep-Dark-Gail-Gibbons/dp/0823446026/ref=sr_1_167?crid=2HX2SCFCK032L&keywords=deep+learning&qid=1663460503&sprefix=deep+learnin%2Caps%2C449&sr=8-167> (referer: https://www.amazon.com/s?k=deep+learning&page=4&crid=2HX2SCFCK032L&qid=1663460242&sprefix=deep+learnin%2Caps%2C449&ref=sr_pg_4)\n",
      "2022-09-18 02:22:45 [scrapy.downloadermiddlewares.redirect] DEBUG: Redirecting (302) to <GET https://www.amazon.com/Deep-Learning-Second-Francois-Chollet/dp/1633439844/ref=sr_1_161_sspa?crid=2HX2SCFCK032L&keywords=deep+learning&qid=1663460503&sprefix=deep+learnin%2Caps%2C449&sr=8-161-spons&psc=1> from <GET https://www.amazon.com/sspa/click?ie=UTF8&spc=MTo1NDgzOTE5NDI3NDU1NDEyOjE2NjM0NjA1MDM6c3BfbXRmOjIwMDA3MTUwNzczNjg5ODo6MDo6&sp_csd=d2lkZ2V0TmFtZT1zcF9tdGY&url=%2FDeep-Learning-Second-Francois-Chollet%2Fdp%2F1633439844%2Fref%3Dsr_1_161_sspa%3Fcrid%3D2HX2SCFCK032L%26keywords%3Ddeep%2Blearning%26qid%3D1663460503%26sprefix%3Ddeep%2Blearnin%252Caps%252C449%26sr%3D8-161-spons%26psc%3D1>\n"
     ]
    },
    {
     "name": "stdout",
     "output_type": "stream",
     "text": [
      "276\n",
      "['\\n            \\n              66%\\n            \\n          '] 4.4 out of 5 stars 7.5 x 0.87 x 9.25 inches\n",
      "277\n",
      "['\\n            \\n              57%\\n            \\n          '] 4.1 out of 5 stars 7.5 x 0.92 x 9.25 inches\n",
      "278\n",
      "['\\n            \\n              74%\\n            \\n          '] 4.6 out of 5 stars 8.38 x 0.1 x 10.97 inches\n"
     ]
    },
    {
     "name": "stderr",
     "output_type": "stream",
     "text": [
      "2022-09-18 02:22:46 [scrapy.core.engine] DEBUG: Crawled (200) <GET https://www.amazon.com/Computational-Methods-Deep-Learning-Applications-ebook/dp/B08PQG64RW/ref=sr_1_165?crid=2HX2SCFCK032L&keywords=deep+learning&qid=1663460503&sprefix=deep+learnin%2Caps%2C449&sr=8-165> (referer: https://www.amazon.com/s?k=deep+learning&page=4&crid=2HX2SCFCK032L&qid=1663460242&sprefix=deep+learnin%2Caps%2C449&ref=sr_pg_4)\n",
      "2022-09-18 02:22:46 [scrapy.core.engine] DEBUG: Crawled (200) <GET https://www.amazon.com/Homeschool-Planner-Monthly-Organizer-Inspiration/dp/B0B6792J3T/ref=sr_1_170?crid=2HX2SCFCK032L&keywords=deep+learning&qid=1663460503&sprefix=deep+learnin%2Caps%2C449&sr=8-170> (referer: https://www.amazon.com/s?k=deep+learning&page=4&crid=2HX2SCFCK032L&qid=1663460242&sprefix=deep+learnin%2Caps%2C449&ref=sr_pg_4)\n"
     ]
    },
    {
     "name": "stdout",
     "output_type": "stream",
     "text": [
      "279\n",
      "['\\n            \\n              100%\\n            \\n          '] 1.0 out of 5 stars None\n",
      "280\n",
      "['\\n            \\n              75%\\n            \\n          '] 4.7 out of 5 stars 8.5 x 0.52 x 11 inches\n"
     ]
    },
    {
     "name": "stderr",
     "output_type": "stream",
     "text": [
      "2022-09-18 02:22:47 [scrapy.core.engine] DEBUG: Crawled (200) <GET https://www.amazon.com/Deep-Learning-Biomedical-Data-Analysis-ebook/dp/B099DWL6NP/ref=sr_1_160?crid=2HX2SCFCK032L&keywords=deep+learning&qid=1663460503&sprefix=deep+learnin%2Caps%2C449&sr=8-160> (referer: https://www.amazon.com/s?k=deep+learning&page=4&crid=2HX2SCFCK032L&qid=1663460242&sprefix=deep+learnin%2Caps%2C449&ref=sr_pg_4)\n",
      "2022-09-18 02:22:47 [scrapy.core.engine] DEBUG: Crawled (200) <GET https://www.amazon.com/Learning-Applications-Advances-Intelligent-Computing/dp/9811518157/ref=sr_1_157?crid=2HX2SCFCK032L&keywords=deep+learning&qid=1663460503&sprefix=deep+learnin%2Caps%2C449&sr=8-157> (referer: https://www.amazon.com/s?k=deep+learning&page=4&crid=2HX2SCFCK032L&qid=1663460242&sprefix=deep+learnin%2Caps%2C449&ref=sr_pg_4)\n",
      "2022-09-18 02:22:48 [scrapy.core.engine] DEBUG: Crawled (200) <GET https://www.amazon.com/Deep-Learning-Python-Practices-PyTorch/dp/1484253639/ref=sr_1_158?crid=2HX2SCFCK032L&keywords=deep+learning&qid=1663460503&sprefix=deep+learnin%2Caps%2C449&sr=8-158> (referer: https://www.amazon.com/s?k=deep+learning&page=4&crid=2HX2SCFCK032L&qid=1663460242&sprefix=deep+learnin%2Caps%2C449&ref=sr_pg_4)\n",
      "2022-09-18 02:22:48 [scrapy.core.engine] DEBUG: Crawled (200) <GET https://www.amazon.com/Deep-Learning-Python-Advanced-Guide/dp/B08RZC644T/ref=sr_1_164_sspa?crid=2HX2SCFCK032L&keywords=deep+learning&qid=1663460503&sprefix=deep+learnin%2Caps%2C449&sr=8-164-spons&psc=1> (referer: https://www.amazon.com/s?k=deep+learning&page=4&crid=2HX2SCFCK032L&qid=1663460242&sprefix=deep+learnin%2Caps%2C449&ref=sr_pg_4)\n"
     ]
    },
    {
     "name": "stdout",
     "output_type": "stream",
     "text": [
      "281\n",
      "[] None None\n",
      "282\n",
      "[] None 6.1 x 0.45 x 9.25 inches\n"
     ]
    },
    {
     "name": "stderr",
     "output_type": "stream",
     "text": [
      "2022-09-18 02:22:48 [scrapy.core.engine] DEBUG: Crawled (200) <GET https://www.amazon.com/MASTERING-DEEP-LEARNING-FUNDAMENTALS-PYTHON-ebook/dp/B09V33RM14/ref=sr_1_155?crid=2HX2SCFCK032L&keywords=deep+learning&qid=1663460503&sprefix=deep+learnin%2Caps%2C449&sr=8-155> (referer: https://www.amazon.com/s?k=deep+learning&page=4&crid=2HX2SCFCK032L&qid=1663460242&sprefix=deep+learnin%2Caps%2C449&ref=sr_pg_4)\n",
      "2022-09-18 02:22:48 [scrapy.core.engine] DEBUG: Crawled (200) <GET https://www.amazon.com/Artificial-Intelligence-Healthcare-Intelligent-Simplified/dp/1954612028/ref=sr_1_159?crid=2HX2SCFCK032L&keywords=deep+learning&qid=1663460503&sprefix=deep+learnin%2Caps%2C449&sr=8-159> (referer: https://www.amazon.com/s?k=deep+learning&page=4&crid=2HX2SCFCK032L&qid=1663460242&sprefix=deep+learnin%2Caps%2C449&ref=sr_pg_4)\n"
     ]
    },
    {
     "name": "stdout",
     "output_type": "stream",
     "text": [
      "283\n",
      "['\\n            \\n              100%\\n            \\n          '] 4.0 out of 5 stars 6.1 x 0.73 x 9.25 inches\n",
      "284\n",
      "['\\n            \\n              33%\\n            \\n          '] 3.3 out of 5 stars 6 x 0.52 x 9 inches\n",
      "285\n",
      "['\\n            \\n              81%\\n            \\n          '] 4.5 out of 5 stars None\n",
      "286\n",
      "['\\n            \\n              76%\\n            \\n          '] 4.7 out of 5 stars 6 x 1.33 x 9 inches\n"
     ]
    },
    {
     "name": "stderr",
     "output_type": "stream",
     "text": [
      "2022-09-18 02:22:49 [scrapy.core.engine] DEBUG: Crawled (200) <GET https://www.amazon.com/Getting-started-Learning-Language-Processing/dp/9389898110/ref=sr_1_162_sspa?crid=2HX2SCFCK032L&keywords=deep+learning&qid=1663460503&sprefix=deep+learnin%2Caps%2C449&sr=8-162-spons&psc=1> (referer: https://www.amazon.com/s?k=deep+learning&page=4&crid=2HX2SCFCK032L&qid=1663460242&sprefix=deep+learnin%2Caps%2C449&ref=sr_pg_4)\n",
      "2022-09-18 02:22:50 [scrapy.core.engine] DEBUG: Crawled (200) <GET https://www.amazon.com/Python-Deep-Learning-techniques-architectures-ebook/dp/B07KQ29CQ3/ref=sr_1_154?crid=2HX2SCFCK032L&keywords=deep+learning&qid=1663460503&sprefix=deep+learnin%2Caps%2C449&sr=8-154> (referer: https://www.amazon.com/s?k=deep+learning&page=4&crid=2HX2SCFCK032L&qid=1663460242&sprefix=deep+learnin%2Caps%2C449&ref=sr_pg_4)\n",
      "2022-09-18 02:22:50 [scrapy.core.engine] DEBUG: Crawled (200) <GET https://www.amazon.com/Neural-Networks-Deep-Learning-Textbook/dp/3319944622/ref=sr_1_163_sspa?crid=2HX2SCFCK032L&keywords=deep+learning&qid=1663460503&sprefix=deep+learnin%2Caps%2C449&sr=8-163-spons&psc=1> (referer: https://www.amazon.com/s?k=deep+learning&page=4&crid=2HX2SCFCK032L&qid=1663460242&sprefix=deep+learnin%2Caps%2C449&ref=sr_pg_4)\n",
      "2022-09-18 02:22:50 [scrapy.core.engine] DEBUG: Crawled (200) <GET https://www.amazon.com/Deep-Learning-PyTorch-practical-approach/dp/1788624335/ref=sr_1_153?crid=2HX2SCFCK032L&keywords=deep+learning&qid=1663460503&sprefix=deep+learnin%2Caps%2C449&sr=8-153> (referer: https://www.amazon.com/s?k=deep+learning&page=4&crid=2HX2SCFCK032L&qid=1663460242&sprefix=deep+learnin%2Caps%2C449&ref=sr_pg_4)\n",
      "2022-09-18 02:22:50 [scrapy.core.engine] DEBUG: Crawled (200) <GET https://www.amazon.com/Hands-Genetic-Algorithms-Python-intelligence/dp/1838557741/ref=sr_1_194_sspa?crid=2HX2SCFCK032L&keywords=deep+learning&qid=1663460513&sprefix=deep+learnin%2Caps%2C449&sr=8-194-spons&psc=1> (referer: https://www.amazon.com/s?k=deep+learning&page=5&crid=2HX2SCFCK032L&qid=1663460242&sprefix=deep+learnin%2Caps%2C449&ref=sr_pg_5)\n"
     ]
    },
    {
     "name": "stdout",
     "output_type": "stream",
     "text": [
      "287\n",
      "['\\n            \\n              55%\\n            \\n          '] 4.6 out of 5 stars 7.5 x 0.91 x 9.25 inches\n"
     ]
    },
    {
     "name": "stderr",
     "output_type": "stream",
     "text": [
      "2022-09-18 02:22:50 [scrapy.downloadermiddlewares.redirect] DEBUG: Redirecting (302) to <GET https://www.amazon.com/Powerful-Brain-Unlock-Subconscious-Faster/dp/1952814189/ref=sr_1_148_sspa?crid=2HX2SCFCK032L&keywords=deep+learning&qid=1663460503&sprefix=deep+learnin%2Caps%2C449&sr=8-148-spons&psc=1> from <GET https://www.amazon.com/sspa/click?ie=UTF8&spc=MTo1NDgzOTE5NDI3NDU1NDEyOjE2NjM0NjA1MDM6c3BfYXRmX25leHQ6MjAwMDgzNTg3Njg5Nzk4OjowOjo&sp_csd=d2lkZ2V0TmFtZT1zcF9hdGZfbmV4dA&url=%2FPowerful-Brain-Unlock-Subconscious-Faster%2Fdp%2F1952814189%2Fref%3Dsr_1_148_sspa%3Fcrid%3D2HX2SCFCK032L%26keywords%3Ddeep%2Blearning%26qid%3D1663460503%26sprefix%3Ddeep%2Blearnin%252Caps%252C449%26sr%3D8-148-spons%26psc%3D1>\n"
     ]
    },
    {
     "name": "stdout",
     "output_type": "stream",
     "text": [
      "288\n",
      "['\\n            \\n              54%\\n            \\n          '] 4.2 out of 5 stars None\n",
      "289\n",
      "['\\n            \\n              69%\\n            \\n          '] 4.5 out of 5 stars 7 x 1.13 x 10 inches\n"
     ]
    },
    {
     "name": "stderr",
     "output_type": "stream",
     "text": [
      "2022-09-18 02:22:50 [scrapy.core.engine] DEBUG: Crawled (200) <GET https://www.amazon.com/Machine-Learning-Python-Cookbook-Preprocessing/dp/1491989386/ref=sr_1_152?crid=2HX2SCFCK032L&keywords=deep+learning&qid=1663460503&sprefix=deep+learnin%2Caps%2C449&sr=8-152> (referer: https://www.amazon.com/s?k=deep+learning&page=4&crid=2HX2SCFCK032L&qid=1663460242&sprefix=deep+learnin%2Caps%2C449&ref=sr_pg_4)\n",
      "2022-09-18 02:22:50 [scrapy.downloadermiddlewares.redirect] DEBUG: Redirecting (302) to <GET https://www.amazon.com/TensorFlow-Workshop-hands-building-real-world/dp/1800205252/ref=sr_1_146_sspa?crid=2HX2SCFCK032L&keywords=deep+learning&qid=1663460503&sprefix=deep+learnin%2Caps%2C449&sr=8-146-spons&psc=1> from <GET https://www.amazon.com/sspa/click?ie=UTF8&spc=MTo1NDgzOTE5NDI3NDU1NDEyOjE2NjM0NjA1MDM6c3BfYXRmX25leHQ6MjAwMDM0MTAzODgwMDk4OjowOjo&sp_csd=d2lkZ2V0TmFtZT1zcF9hdGZfbmV4dA&url=%2FTensorFlow-Workshop-hands-building-real-world%2Fdp%2F1800205252%2Fref%3Dsr_1_146_sspa%3Fcrid%3D2HX2SCFCK032L%26keywords%3Ddeep%2Blearning%26qid%3D1663460503%26sprefix%3Ddeep%2Blearnin%252Caps%252C449%26sr%3D8-146-spons%26psc%3D1>\n"
     ]
    },
    {
     "name": "stdout",
     "output_type": "stream",
     "text": [
      "290\n",
      "['\\n            \\n              46%\\n            \\n          '] 3.5 out of 5 stars 7.5 x 0.59 x 9.25 inches\n",
      "291\n",
      "['\\n            \\n              73%\\n            \\n          '] 4.6 out of 5 stars 7.5 x 0.78 x 9.25 inches\n"
     ]
    },
    {
     "name": "stderr",
     "output_type": "stream",
     "text": [
      "2022-09-18 02:22:50 [scrapy.downloadermiddlewares.redirect] DEBUG: Redirecting (302) to <GET https://www.amazon.com/Deep-Learning-Personalised-Healthcare-Services/dp/3110708000/ref=sr_1_147_sspa?crid=2HX2SCFCK032L&keywords=deep+learning&qid=1663460503&sprefix=deep+learnin%2Caps%2C449&sr=8-147-spons&psc=1> from <GET https://www.amazon.com/sspa/click?ie=UTF8&spc=MTo1NDgzOTE5NDI3NDU1NDEyOjE2NjM0NjA1MDM6c3BfYXRmX25leHQ6MjAwMDM4ODAyNjY0Mjk4OjowOjo&sp_csd=d2lkZ2V0TmFtZT1zcF9hdGZfbmV4dA&url=%2FDeep-Learning-Personalised-Healthcare-Services%2Fdp%2F3110708000%2Fref%3Dsr_1_147_sspa%3Fcrid%3D2HX2SCFCK032L%26keywords%3Ddeep%2Blearning%26qid%3D1663460503%26sprefix%3Ddeep%2Blearnin%252Caps%252C449%26sr%3D8-147-spons%26psc%3D1>\n",
      "2022-09-18 02:22:50 [scrapy.core.engine] DEBUG: Crawled (200) <GET https://www.amazon.com/Deep-Learning-Second-Francois-Chollet/dp/1633439844/ref=sr_1_161_sspa?crid=2HX2SCFCK032L&keywords=deep+learning&qid=1663460503&sprefix=deep+learnin%2Caps%2C449&sr=8-161-spons&psc=1> (referer: https://www.amazon.com/s?k=deep+learning&page=4&crid=2HX2SCFCK032L&qid=1663460242&sprefix=deep+learnin%2Caps%2C449&ref=sr_pg_4)\n"
     ]
    },
    {
     "name": "stdout",
     "output_type": "stream",
     "text": [
      "292\n",
      "['\\n            \\n              72%\\n            \\n          '] 4.5 out of 5 stars 7.01 x 0.76 x 9.17 inches\n",
      "293\n",
      "['\\n            \\n              82%\\n            \\n          '] 4.6 out of 5 stars 7.38 x 1.3 x 9.25 inches\n"
     ]
    },
    {
     "name": "stderr",
     "output_type": "stream",
     "text": [
      "2022-09-18 02:22:51 [scrapy.core.engine] DEBUG: Crawled (200) <GET https://www.amazon.com/High-Dimensional-Data-Analysis-Low-Dimensional-Models/dp/1108489737/ref=sr_1_149?crid=2HX2SCFCK032L&keywords=deep+learning&qid=1663460503&sprefix=deep+learnin%2Caps%2C449&sr=8-149> (referer: https://www.amazon.com/s?k=deep+learning&page=4&crid=2HX2SCFCK032L&qid=1663460242&sprefix=deep+learnin%2Caps%2C449&ref=sr_pg_4)\n",
      "2022-09-18 02:22:52 [scrapy.core.engine] DEBUG: Crawled (200) <GET https://www.amazon.com/Designing-Machine-Learning-Systems-Production-Ready/dp/1098107969/ref=sr_1_151?crid=2HX2SCFCK032L&keywords=deep+learning&qid=1663460503&sprefix=deep+learnin%2Caps%2C449&sr=8-151> (referer: https://www.amazon.com/s?k=deep+learning&page=4&crid=2HX2SCFCK032L&qid=1663460242&sprefix=deep+learnin%2Caps%2C449&ref=sr_pg_4)\n",
      "2022-09-18 02:22:52 [scrapy.core.engine] DEBUG: Crawled (200) <GET https://www.amazon.com/Deep-Learning-Earth-Sciences-Comprehensive/dp/1119646146/ref=sr_1_150?crid=2HX2SCFCK032L&keywords=deep+learning&qid=1663460503&sprefix=deep+learnin%2Caps%2C449&sr=8-150> (referer: https://www.amazon.com/s?k=deep+learning&page=4&crid=2HX2SCFCK032L&qid=1663460242&sprefix=deep+learnin%2Caps%2C449&ref=sr_pg_4)\n"
     ]
    },
    {
     "name": "stdout",
     "output_type": "stream",
     "text": [
      "294\n",
      "['\\n            \\n              81%\\n            \\n          '] 4.8 out of 5 stars 6.75 x 1.5 x 9.75 inches\n"
     ]
    },
    {
     "name": "stderr",
     "output_type": "stream",
     "text": [
      "2022-09-18 02:22:52 [scrapy.core.engine] DEBUG: Crawled (200) <GET https://www.amazon.com/Math-Architectures-Learning-Krishnendu-Chaudhury/dp/1617296481/ref=sr_1_123?crid=2HX2SCFCK032L&keywords=deep+learning&qid=1663460492&sprefix=deep+learnin%2Caps%2C449&sr=8-123> (referer: https://www.amazon.com/s?k=deep+learning&page=3&crid=2HX2SCFCK032L&qid=1663460242&sprefix=deep+learnin%2Caps%2C449&ref=sr_pg_3)\n"
     ]
    },
    {
     "name": "stdout",
     "output_type": "stream",
     "text": [
      "295\n",
      "['\\n            \\n              79%\\n            \\n          '] 4.7 out of 5 stars 7 x 0.75 x 9 inches\n",
      "296\n",
      "['\\n            \\n              100%\\n            \\n          '] 5.0 out of 5 stars 6.69 x 0.59 x 9.61 inches\n"
     ]
    },
    {
     "name": "stderr",
     "output_type": "stream",
     "text": [
      "2022-09-18 02:22:52 [scrapy.core.engine] DEBUG: Crawled (200) <GET https://www.amazon.com/Crash-Course-hands-introduction-reinforcement-ebook/dp/B07Z9DC228/ref=sr_1_122?crid=2HX2SCFCK032L&keywords=deep+learning&qid=1663460492&sprefix=deep+learnin%2Caps%2C449&sr=8-122> (referer: https://www.amazon.com/s?k=deep+learning&page=3&crid=2HX2SCFCK032L&qid=1663460242&sprefix=deep+learnin%2Caps%2C449&ref=sr_pg_3)\n"
     ]
    },
    {
     "name": "stdout",
     "output_type": "stream",
     "text": [
      "297\n",
      "[] None 7.38 x 1.13 x 9.25 inches\n"
     ]
    },
    {
     "name": "stderr",
     "output_type": "stream",
     "text": [
      "2022-09-18 02:22:53 [scrapy.core.engine] DEBUG: Crawled (200) <GET https://www.amazon.com/Programming-Machine-Learning-Zero-Deep/dp/1680506609/ref=sr_1_121?crid=2HX2SCFCK032L&keywords=deep+learning&qid=1663460492&sprefix=deep+learnin%2Caps%2C449&sr=8-121> (referer: https://www.amazon.com/s?k=deep+learning&page=3&crid=2HX2SCFCK032L&qid=1663460242&sprefix=deep+learnin%2Caps%2C449&ref=sr_pg_3)\n"
     ]
    },
    {
     "name": "stdout",
     "output_type": "stream",
     "text": [
      "298\n",
      "['\\n            \\n              57%\\n            \\n          '] 4.2 out of 5 stars None\n"
     ]
    },
    {
     "name": "stderr",
     "output_type": "stream",
     "text": [
      "2022-09-18 02:22:53 [scrapy.core.engine] DEBUG: Crawled (200) <GET https://www.amazon.com/DEEP-LEARNING-Fundamentos-Principiantes-Inteligencia/dp/1726172074/ref=sr_1_124?crid=2HX2SCFCK032L&keywords=deep+learning&qid=1663460492&sprefix=deep+learnin%2Caps%2C449&sr=8-124> (referer: https://www.amazon.com/s?k=deep+learning&page=3&crid=2HX2SCFCK032L&qid=1663460242&sprefix=deep+learnin%2Caps%2C449&ref=sr_pg_3)\n"
     ]
    },
    {
     "name": "stdout",
     "output_type": "stream",
     "text": [
      "299\n",
      "['\\n            \\n              83%\\n            \\n          '] 4.8 out of 5 stars 7.5 x 0.71 x 9.25 inches\n"
     ]
    },
    {
     "name": "stderr",
     "output_type": "stream",
     "text": [
      "2022-09-18 02:22:53 [scrapy.extensions.logstats] INFO: Crawled 306 pages (at 176 pages/min), scraped 0 items (at 0 items/min)\n"
     ]
    },
    {
     "name": "stdout",
     "output_type": "stream",
     "text": [
      "300\n",
      "['\\n            \\n              39%\\n            \\n          '] 3.7 out of 5 stars 6 x 0.2 x 9 inches\n"
     ]
    },
    {
     "name": "stderr",
     "output_type": "stream",
     "text": [
      "2022-09-18 02:22:53 [scrapy.core.engine] DEBUG: Crawled (200) <GET https://www.amazon.com/Python-Finance-Algorithmic-trading-MetaTraderTM5/dp/B0BB5DDB1Q/ref=sr_1_120?crid=2HX2SCFCK032L&keywords=deep+learning&qid=1663460492&sprefix=deep+learnin%2Caps%2C449&sr=8-120> (referer: https://www.amazon.com/s?k=deep+learning&page=3&crid=2HX2SCFCK032L&qid=1663460242&sprefix=deep+learnin%2Caps%2C449&ref=sr_pg_3)\n",
      "2022-09-18 02:22:54 [scrapy.core.engine] DEBUG: Crawled (200) <GET https://www.amazon.com/Beginning-Anomaly-Detection-Python-Based-Learning/dp/1484251768/ref=sr_1_156?crid=2HX2SCFCK032L&keywords=deep+learning&qid=1663460503&sprefix=deep+learnin%2Caps%2C449&sr=8-156> (referer: https://www.amazon.com/s?k=deep+learning&page=4&crid=2HX2SCFCK032L&qid=1663460242&sprefix=deep+learnin%2Caps%2C449&ref=sr_pg_4)\n",
      "2022-09-18 02:22:54 [scrapy.core.engine] DEBUG: Crawled (200) <GET https://www.amazon.com/Deep-Reinforcement-Learning-Fundamentals-Applications/dp/9811540942/ref=sr_1_118?crid=2HX2SCFCK032L&keywords=deep+learning&qid=1663460492&sprefix=deep+learnin%2Caps%2C449&sr=8-118> (referer: https://www.amazon.com/s?k=deep+learning&page=3&crid=2HX2SCFCK032L&qid=1663460242&sprefix=deep+learnin%2Caps%2C449&ref=sr_pg_3)\n"
     ]
    },
    {
     "name": "stdout",
     "output_type": "stream",
     "text": [
      "301\n",
      "['\\n            \\n              63%\\n            \\n          '] 4.6 out of 5 stars 6.69 x 0.74 x 9.61 inches\n"
     ]
    },
    {
     "name": "stderr",
     "output_type": "stream",
     "text": [
      "2022-09-18 02:22:54 [scrapy.downloadermiddlewares.redirect] DEBUG: Redirecting (302) to <GET https://www.amazon.com/Deep-Learning-Hadoop-Dipayan-Dev/dp/1787124762/ref=sr_1_116_sspa?crid=2HX2SCFCK032L&keywords=deep+learning&qid=1663460492&sprefix=deep+learnin%2Caps%2C449&sr=8-116-spons&psc=1> from <GET https://www.amazon.com/sspa/click?ie=UTF8&spc=MTo1MDA5MTIwMzE4NDkyNDgxOjE2NjM0NjA0OTI6c3BfbXRmOjIwMDAwNTE5NTM2NzY3MTo6MDo6&sp_csd=d2lkZ2V0TmFtZT1zcF9tdGY&url=%2FDeep-Learning-Hadoop-Dipayan-Dev%2Fdp%2F1787124762%2Fref%3Dsr_1_116_sspa%3Fcrid%3D2HX2SCFCK032L%26keywords%3Ddeep%2Blearning%26qid%3D1663460492%26sprefix%3Ddeep%2Blearnin%252Caps%252C449%26sr%3D8-116-spons%26psc%3D1>\n",
      "2022-09-18 02:22:54 [scrapy.core.engine] DEBUG: Crawled (200) <GET https://www.amazon.com/Deep-Learning-Personalised-Healthcare-Services/dp/3110708000/ref=sr_1_147_sspa?crid=2HX2SCFCK032L&keywords=deep+learning&qid=1663460503&sprefix=deep+learnin%2Caps%2C449&sr=8-147-spons&psc=1> (referer: https://www.amazon.com/s?k=deep+learning&page=4&crid=2HX2SCFCK032L&qid=1663460242&sprefix=deep+learnin%2Caps%2C449&ref=sr_pg_4)\n",
      "2022-09-18 02:22:54 [scrapy.core.engine] DEBUG: Crawled (200) <GET https://www.amazon.com/Deep-Learning-Disorienting-World-Wergin/dp/1108727158/ref=sr_1_119?crid=2HX2SCFCK032L&keywords=deep+learning&qid=1663460492&sprefix=deep+learnin%2Caps%2C449&sr=8-119> (referer: https://www.amazon.com/s?k=deep+learning&page=3&crid=2HX2SCFCK032L&qid=1663460242&sprefix=deep+learnin%2Caps%2C449&ref=sr_pg_3)\n"
     ]
    },
    {
     "name": "stdout",
     "output_type": "stream",
     "text": [
      "302\n",
      "['\\n            \\n              56%\\n            \\n          '] 4.3 out of 5 stars 7.01 x 0.98 x 10 inches\n",
      "303\n",
      "['\\n            \\n              50%\\n            \\n          '] 4.5 out of 5 stars 7.2 x 1 x 8.8 inches\n"
     ]
    },
    {
     "name": "stderr",
     "output_type": "stream",
     "text": [
      "2022-09-18 02:22:54 [scrapy.core.engine] DEBUG: Crawled (200) <GET https://www.amazon.com/Powerful-Brain-Unlock-Subconscious-Faster/dp/1952814189/ref=sr_1_148_sspa?crid=2HX2SCFCK032L&keywords=deep+learning&qid=1663460503&sprefix=deep+learnin%2Caps%2C449&sr=8-148-spons&psc=1> (referer: https://www.amazon.com/s?k=deep+learning&page=4&crid=2HX2SCFCK032L&qid=1663460242&sprefix=deep+learnin%2Caps%2C449&ref=sr_pg_4)\n",
      "2022-09-18 02:22:54 [scrapy.downloadermiddlewares.redirect] DEBUG: Redirecting (302) to <GET https://www.amazon.com/Deep-Learning-R-Francois-Chollet/dp/161729554X/ref=sr_1_115_sspa?crid=2HX2SCFCK032L&keywords=deep+learning&qid=1663460492&sprefix=deep+learnin%2Caps%2C449&sr=8-115-spons&psc=1> from <GET https://www.amazon.com/sspa/click?ie=UTF8&spc=MTo1MDA5MTIwMzE4NDkyNDgxOjE2NjM0NjA0OTI6c3BfbXRmOjIwMDAzODMxMzc3NzQ0MTo6MDo6&sp_csd=d2lkZ2V0TmFtZT1zcF9tdGY&url=%2FDeep-Learning-R-Francois-Chollet%2Fdp%2F161729554X%2Fref%3Dsr_1_115_sspa%3Fcrid%3D2HX2SCFCK032L%26keywords%3Ddeep%2Blearning%26qid%3D1663460492%26sprefix%3Ddeep%2Blearnin%252Caps%252C449%26sr%3D8-115-spons%26psc%3D1>\n",
      "2022-09-18 02:22:54 [scrapy.downloadermiddlewares.redirect] DEBUG: Redirecting (302) to <GET https://www.amazon.com/Deep-Learning-Production-Sergios-Karagiannakos/dp/6180033773/ref=sr_1_114_sspa?crid=2HX2SCFCK032L&keywords=deep+learning&qid=1663460492&sprefix=deep+learnin%2Caps%2C449&sr=8-114-spons&psc=1> from <GET https://www.amazon.com/sspa/click?ie=UTF8&spc=MTo1MDA5MTIwMzE4NDkyNDgxOjE2NjM0NjA0OTI6c3BfbXRmOjIwMDAyMzM4MDAzOTY5ODo6MDo6&sp_csd=d2lkZ2V0TmFtZT1zcF9tdGY&url=%2FDeep-Learning-Production-Sergios-Karagiannakos%2Fdp%2F6180033773%2Fref%3Dsr_1_114_sspa%3Fcrid%3D2HX2SCFCK032L%26keywords%3Ddeep%2Blearning%26qid%3D1663460492%26sprefix%3Ddeep%2Blearnin%252Caps%252C449%26sr%3D8-114-spons%26psc%3D1>\n",
      "2022-09-18 02:22:54 [scrapy.downloadermiddlewares.redirect] DEBUG: Redirecting (302) to <GET https://www.amazon.com/Mastering-OpenCV-Python-practical-processing/dp/1789344913/ref=sr_1_113_sspa?crid=2HX2SCFCK032L&keywords=deep+learning&qid=1663460492&sprefix=deep+learnin%2Caps%2C449&sr=8-113-spons&psc=1> from <GET https://www.amazon.com/sspa/click?ie=UTF8&spc=MTo1MDA5MTIwMzE4NDkyNDgxOjE2NjM0NjA0OTI6c3BfbXRmOjIwMDAxMTY2NDU3MTc3MTo6MDo6&sp_csd=d2lkZ2V0TmFtZT1zcF9tdGY&url=%2FMastering-OpenCV-Python-practical-processing%2Fdp%2F1789344913%2Fref%3Dsr_1_113_sspa%3Fcrid%3D2HX2SCFCK032L%26keywords%3Ddeep%2Blearning%26qid%3D1663460492%26sprefix%3Ddeep%2Blearnin%252Caps%252C449%26sr%3D8-113-spons%26psc%3D1>\n"
     ]
    },
    {
     "name": "stdout",
     "output_type": "stream",
     "text": [
      "304\n",
      "[] None 6.69 x 0.63 x 9.61 inches\n",
      "305\n",
      "['\\n            \\n              100%\\n            \\n          '] 5.0 out of 5 stars 5.9 x 0.4 x 8.9 inches\n"
     ]
    },
    {
     "name": "stderr",
     "output_type": "stream",
     "text": [
      "2022-09-18 02:22:55 [scrapy.core.engine] DEBUG: Crawled (200) <GET https://www.amazon.com/TensorFlow-Workshop-hands-building-real-world/dp/1800205252/ref=sr_1_146_sspa?crid=2HX2SCFCK032L&keywords=deep+learning&qid=1663460503&sprefix=deep+learnin%2Caps%2C449&sr=8-146-spons&psc=1> (referer: https://www.amazon.com/s?k=deep+learning&page=4&crid=2HX2SCFCK032L&qid=1663460242&sprefix=deep+learnin%2Caps%2C449&ref=sr_pg_4)\n"
     ]
    },
    {
     "name": "stdout",
     "output_type": "stream",
     "text": [
      "306\n",
      "['\\n            \\n              65%\\n            \\n          '] 4.1 out of 5 stars 5 x 0.45 x 8 inches\n",
      "307\n",
      "['\\n            \\n              54%\\n            \\n          '] 4.3 out of 5 stars 7.5 x 1.36 x 9.25 inches\n"
     ]
    },
    {
     "name": "stderr",
     "output_type": "stream",
     "text": [
      "2022-09-18 02:22:56 [scrapy.core.engine] DEBUG: Crawled (200) <GET https://www.amazon.com/intro-deep-learning-Manjunatha-Uppu-ebook/dp/B08FX7GK2H/ref=sr_1_112?crid=2HX2SCFCK032L&keywords=deep+learning&qid=1663460492&sprefix=deep+learnin%2Caps%2C449&sr=8-112> (referer: https://www.amazon.com/s?k=deep+learning&page=3&crid=2HX2SCFCK032L&qid=1663460242&sprefix=deep+learnin%2Caps%2C449&ref=sr_pg_3)\n",
      "2022-09-18 02:22:56 [scrapy.core.engine] DEBUG: Crawled (200) <GET https://www.amazon.com/Artificial-Intelligence-Engines-Introduction-Mathematics/dp/0956372813/ref=sr_1_117?crid=2HX2SCFCK032L&keywords=deep+learning&qid=1663460492&sprefix=deep+learnin%2Caps%2C449&sr=8-117> (referer: https://www.amazon.com/s?k=deep+learning&page=3&crid=2HX2SCFCK032L&qid=1663460242&sprefix=deep+learnin%2Caps%2C449&ref=sr_pg_3)\n",
      "2022-09-18 02:22:56 [scrapy.core.engine] DEBUG: Crawled (200) <GET https://www.amazon.com/Deep-Learning-Beginners-beginners-learning-ebook/dp/B086D29S1K/ref=sr_1_109?crid=2HX2SCFCK032L&keywords=deep+learning&qid=1663460492&sprefix=deep+learnin%2Caps%2C449&sr=8-109> (referer: https://www.amazon.com/s?k=deep+learning&page=3&crid=2HX2SCFCK032L&qid=1663460242&sprefix=deep+learnin%2Caps%2C449&ref=sr_pg_3)\n"
     ]
    },
    {
     "name": "stdout",
     "output_type": "stream",
     "text": [
      "308\n",
      "[] None None\n",
      "309\n",
      "['\\n            \\n              60%\\n            \\n          '] 4.3 out of 5 stars 6 x 0.49 x 9 inches\n"
     ]
    },
    {
     "name": "stderr",
     "output_type": "stream",
     "text": [
      "2022-09-18 02:22:57 [scrapy.core.engine] DEBUG: Crawled (200) <GET https://www.amazon.com/Ace-Data-Science-Interview-Questions/dp/0578973839/ref=sr_1_107?crid=2HX2SCFCK032L&keywords=deep+learning&qid=1663460492&sprefix=deep+learnin%2Caps%2C449&sr=8-107> (referer: https://www.amazon.com/s?k=deep+learning&page=3&crid=2HX2SCFCK032L&qid=1663460242&sprefix=deep+learnin%2Caps%2C449&ref=sr_pg_3)\n",
      "2022-09-18 02:22:57 [scrapy.core.engine] DEBUG: Crawled (200) <GET https://www.amazon.com/Deep-Learning-Fundamentals-Artificial-Intelligence/dp/1722222883/ref=sr_1_110?crid=2HX2SCFCK032L&keywords=deep+learning&qid=1663460492&sprefix=deep+learnin%2Caps%2C449&sr=8-110> (referer: https://www.amazon.com/s?k=deep+learning&page=3&crid=2HX2SCFCK032L&qid=1663460242&sprefix=deep+learnin%2Caps%2C449&ref=sr_pg_3)\n",
      "2022-09-18 02:22:57 [scrapy.core.engine] DEBUG: Crawled (200) <GET https://www.amazon.com/Hands-Machine-Learning-end-end/dp/1789955335/ref=sr_1_108?crid=2HX2SCFCK032L&keywords=deep+learning&qid=1663460492&sprefix=deep+learnin%2Caps%2C449&sr=8-108> (referer: https://www.amazon.com/s?k=deep+learning&page=3&crid=2HX2SCFCK032L&qid=1663460242&sprefix=deep+learnin%2Caps%2C449&ref=sr_pg_3)\n"
     ]
    },
    {
     "name": "stdout",
     "output_type": "stream",
     "text": [
      "310\n",
      "['\\n            \\n              77%\\n            \\n          '] 4.3 out of 5 stars None\n"
     ]
    },
    {
     "name": "stderr",
     "output_type": "stream",
     "text": [
      "2022-09-18 02:22:57 [scrapy.core.engine] DEBUG: Crawled (200) <GET https://www.amazon.com/Machine-Learning-Design-Patterns-Preparation/dp/1098115783/ref=sr_1_111?crid=2HX2SCFCK032L&keywords=deep+learning&qid=1663460492&sprefix=deep+learnin%2Caps%2C449&sr=8-111> (referer: https://www.amazon.com/s?k=deep+learning&page=3&crid=2HX2SCFCK032L&qid=1663460242&sprefix=deep+learnin%2Caps%2C449&ref=sr_pg_3)\n"
     ]
    },
    {
     "name": "stdout",
     "output_type": "stream",
     "text": [
      "311\n",
      "['\\n            \\n              77%\\n            \\n          '] 4.5 out of 5 stars 7 x 0.68 x 10 inches\n",
      "312\n",
      "[] None 5.98 x 0.19 x 9.02 inches\n",
      "313\n",
      "['\\n            \\n              64%\\n            \\n          '] 4.3 out of 5 stars 7.5 x 1.2 x 9.25 inches\n",
      "314\n",
      "['\\n            \\n              73%\\n            \\n          '] 4.6 out of 5 stars 9.06 x 0.94 x 6.85 inches\n"
     ]
    },
    {
     "name": "stderr",
     "output_type": "stream",
     "text": [
      "2022-09-18 02:22:57 [scrapy.core.engine] DEBUG: Crawled (200) <GET https://www.amazon.com/Machine-Learning-Design-Interview-System/dp/B09YQWX59Z/ref=sr_1_106?crid=2HX2SCFCK032L&keywords=deep+learning&qid=1663460492&sprefix=deep+learnin%2Caps%2C449&sr=8-106> (referer: https://www.amazon.com/s?k=deep+learning&page=3&crid=2HX2SCFCK032L&qid=1663460242&sprefix=deep+learnin%2Caps%2C449&ref=sr_pg_3)\n",
      "2022-09-18 02:22:58 [scrapy.core.engine] DEBUG: Crawled (200) <GET https://www.amazon.com/Deep-Learning-Hadoop-Dipayan-Dev/dp/1787124762/ref=sr_1_116_sspa?crid=2HX2SCFCK032L&keywords=deep+learning&qid=1663460492&sprefix=deep+learnin%2Caps%2C449&sr=8-116-spons&psc=1> (referer: https://www.amazon.com/s?k=deep+learning&page=3&crid=2HX2SCFCK032L&qid=1663460242&sprefix=deep+learnin%2Caps%2C449&ref=sr_pg_3)\n"
     ]
    },
    {
     "name": "stdout",
     "output_type": "stream",
     "text": [
      "315\n",
      "['\\n            \\n              47%\\n            \\n          '] 3.6 out of 5 stars 6 x 0.48 x 9 inches\n"
     ]
    },
    {
     "name": "stderr",
     "output_type": "stream",
     "text": [
      "2022-09-18 02:22:58 [scrapy.core.engine] DEBUG: Crawled (200) <GET https://www.amazon.com/Essentials-Deep-Learning-Unsupervised-Autoencoders-ebook/dp/B09MK462W8/ref=sr_1_103?crid=2HX2SCFCK032L&keywords=deep+learning&qid=1663460492&sprefix=deep+learnin%2Caps%2C449&sr=8-103> (referer: https://www.amazon.com/s?k=deep+learning&page=3&crid=2HX2SCFCK032L&qid=1663460242&sprefix=deep+learnin%2Caps%2C449&ref=sr_pg_3)\n",
      "2022-09-18 02:22:58 [scrapy.core.engine] DEBUG: Crawled (200) <GET https://www.amazon.com/Hands-Mathematics-Deep-Learning-mathematical/dp/1838647295/ref=sr_1_104?crid=2HX2SCFCK032L&keywords=deep+learning&qid=1663460492&sprefix=deep+learnin%2Caps%2C449&sr=8-104> (referer: https://www.amazon.com/s?k=deep+learning&page=3&crid=2HX2SCFCK032L&qid=1663460242&sprefix=deep+learnin%2Caps%2C449&ref=sr_pg_3)\n"
     ]
    },
    {
     "name": "stdout",
     "output_type": "stream",
     "text": [
      "316\n",
      "['\\n            \\n              74%\\n            \\n          '] 4.7 out of 5 stars 7.5 x 0.47 x 9.25 inches\n"
     ]
    },
    {
     "name": "stderr",
     "output_type": "stream",
     "text": [
      "2022-09-18 02:22:59 [scrapy.core.engine] DEBUG: Crawled (200) <GET https://www.amazon.com/Deep-Learning-Production-Sergios-Karagiannakos/dp/6180033773/ref=sr_1_114_sspa?crid=2HX2SCFCK032L&keywords=deep+learning&qid=1663460492&sprefix=deep+learnin%2Caps%2C449&sr=8-114-spons&psc=1> (referer: https://www.amazon.com/s?k=deep+learning&page=3&crid=2HX2SCFCK032L&qid=1663460242&sprefix=deep+learnin%2Caps%2C449&ref=sr_pg_3)\n",
      "2022-09-18 02:22:59 [scrapy.core.engine] DEBUG: Crawled (200) <GET https://www.amazon.com/Deep-Learning-R-Francois-Chollet/dp/161729554X/ref=sr_1_115_sspa?crid=2HX2SCFCK032L&keywords=deep+learning&qid=1663460492&sprefix=deep+learnin%2Caps%2C449&sr=8-115-spons&psc=1> (referer: https://www.amazon.com/s?k=deep+learning&page=3&crid=2HX2SCFCK032L&qid=1663460242&sprefix=deep+learnin%2Caps%2C449&ref=sr_pg_3)\n",
      "2022-09-18 02:22:59 [scrapy.downloadermiddlewares.redirect] DEBUG: Redirecting (302) to <GET https://www.amazon.com/Time-Forecasting-using-Deep-Learning/dp/9391392571/ref=sr_1_100_sspa?crid=2HX2SCFCK032L&keywords=deep+learning&qid=1663460492&sprefix=deep+learnin%2Caps%2C449&sr=8-100-spons&psc=1> from <GET https://www.amazon.com/sspa/click?ie=UTF8&spc=MTo1MDA5MTIwMzE4NDkyNDgxOjE2NjM0NjA0OTI6c3BfYXRmX25leHQ6MjAwMTAzODMzMDIwODgxOjowOjo&sp_csd=d2lkZ2V0TmFtZT1zcF9hdGZfbmV4dA&url=%2FTime-Forecasting-using-Deep-Learning%2Fdp%2F9391392571%2Fref%3Dsr_1_100_sspa%3Fcrid%3D2HX2SCFCK032L%26keywords%3Ddeep%2Blearning%26qid%3D1663460492%26sprefix%3Ddeep%2Blearnin%252Caps%252C449%26sr%3D8-100-spons%26psc%3D1>\n",
      "2022-09-18 02:22:59 [scrapy.core.engine] DEBUG: Crawled (200) <GET https://www.amazon.com/Intuitive-Exploration-Artificial-Intelligence-Applications-ebook/dp/B097QXXSDS/ref=sr_1_105?crid=2HX2SCFCK032L&keywords=deep+learning&qid=1663460492&sprefix=deep+learnin%2Caps%2C449&sr=8-105> (referer: https://www.amazon.com/s?k=deep+learning&page=3&crid=2HX2SCFCK032L&qid=1663460242&sprefix=deep+learnin%2Caps%2C449&ref=sr_pg_3)\n",
      "2022-09-18 02:22:59 [scrapy.downloadermiddlewares.redirect] DEBUG: Redirecting (302) to <GET https://www.amazon.com/Artificial-Intelligence-Ultimate-Internet-Comprehensive/dp/1647482674/ref=sr_1_99_sspa?crid=2HX2SCFCK032L&keywords=deep+learning&qid=1663460492&sprefix=deep+learnin%2Caps%2C449&sr=8-99-spons&psc=1> from <GET https://www.amazon.com/sspa/click?ie=UTF8&spc=MTo1MDA5MTIwMzE4NDkyNDgxOjE2NjM0NjA0OTI6c3BfYXRmX25leHQ6MjAwMDI0MDAyNjc1ODIxOjowOjo&sp_csd=d2lkZ2V0TmFtZT1zcF9hdGZfbmV4dA&url=%2FArtificial-Intelligence-Ultimate-Internet-Comprehensive%2Fdp%2F1647482674%2Fref%3Dsr_1_99_sspa%3Fcrid%3D2HX2SCFCK032L%26keywords%3Ddeep%2Blearning%26qid%3D1663460492%26sprefix%3Ddeep%2Blearnin%252Caps%252C449%26sr%3D8-99-spons%26psc%3D1>\n"
     ]
    },
    {
     "name": "stdout",
     "output_type": "stream",
     "text": [
      "317\n",
      "['\\n            \\n              100%\\n            \\n          '] 5.0 out of 5 stars None\n",
      "318\n",
      "['\\n            \\n              49%\\n            \\n          '] 4.0 out of 5 stars 7.5 x 0.82 x 9.25 inches\n"
     ]
    },
    {
     "name": "stderr",
     "output_type": "stream",
     "text": [
      "2022-09-18 02:22:59 [scrapy.downloadermiddlewares.redirect] DEBUG: Redirecting (302) to <GET https://www.amazon.com/Learning-Biology-Medicine-Davide-Bacciu/dp/1800610939/ref=sr_1_98_sspa?crid=2HX2SCFCK032L&keywords=deep+learning&qid=1663460492&sprefix=deep+learnin%2Caps%2C449&sr=8-98-spons&psc=1> from <GET https://www.amazon.com/sspa/click?ie=UTF8&spc=MTo1MDA5MTIwMzE4NDkyNDgxOjE2NjM0NjA0OTI6c3BfYXRmX25leHQ6MjAwMDUyMTU4NzIxMjk4OjowOjo&sp_csd=d2lkZ2V0TmFtZT1zcF9hdGZfbmV4dA&url=%2FLearning-Biology-Medicine-Davide-Bacciu%2Fdp%2F1800610939%2Fref%3Dsr_1_98_sspa%3Fcrid%3D2HX2SCFCK032L%26keywords%3Ddeep%2Blearning%26qid%3D1663460492%26sprefix%3Ddeep%2Blearnin%252Caps%252C449%26sr%3D8-98-spons%26psc%3D1>\n",
      "2022-09-18 02:22:59 [scrapy.downloadermiddlewares.redirect] DEBUG: Redirecting (302) to <GET https://www.amazon.com/Differentiation-Brain-Learner-Friendly-Neuroeducation-Differentiate/dp/1945349522/ref=sr_1_97_sspa?crid=2HX2SCFCK032L&keywords=deep+learning&qid=1663460492&sprefix=deep+learnin%2Caps%2C449&sr=8-97-spons&psc=1> from <GET https://www.amazon.com/sspa/click?ie=UTF8&spc=MTo1MDA5MTIwMzE4NDkyNDgxOjE2NjM0NjA0OTI6c3BfYXRmX25leHQ6MjAwMDA5OTk1MDM3OTYxOjowOjo&sp_csd=d2lkZ2V0TmFtZT1zcF9hdGZfbmV4dA&url=%2FDifferentiation-Brain-Learner-Friendly-Neuroeducation-Differentiate%2Fdp%2F1945349522%2Fref%3Dsr_1_97_sspa%3Fcrid%3D2HX2SCFCK032L%26keywords%3Ddeep%2Blearning%26qid%3D1663460492%26sprefix%3Ddeep%2Blearnin%252Caps%252C449%26sr%3D8-97-spons%26psc%3D1>\n"
     ]
    },
    {
     "name": "stdout",
     "output_type": "stream",
     "text": [
      "319\n",
      "['\\n            \\n              78%\\n            \\n          '] 4.7 out of 5 stars 7.5 x 0.53 x 9.25 inches\n",
      "320\n",
      "['\\n            \\n              76%\\n            \\n          '] 4.5 out of 5 stars 7.38 x 0.8 x 9.25 inches\n"
     ]
    },
    {
     "name": "stderr",
     "output_type": "stream",
     "text": [
      "2022-09-18 02:22:59 [scrapy.core.engine] DEBUG: Crawled (200) <GET https://www.amazon.com/PyTorch-Pocket-Reference-Building-Deploying/dp/149209000X/ref=sr_1_72?crid=2HX2SCFCK032L&keywords=deep+learning&qid=1663460473&sprefix=deep+learnin%2Caps%2C449&sr=8-72> (referer: https://www.amazon.com/s?k=deep+learning&page=2&crid=2HX2SCFCK032L&qid=1663460242&sprefix=deep+learnin%2Caps%2C449&ref=sr_pg_2)\n",
      "2022-09-18 02:22:59 [scrapy.core.engine] DEBUG: Crawled (200) <GET https://www.amazon.com/Mastering-OpenCV-Python-practical-processing/dp/1789344913/ref=sr_1_113_sspa?crid=2HX2SCFCK032L&keywords=deep+learning&qid=1663460492&sprefix=deep+learnin%2Caps%2C449&sr=8-113-spons&psc=1> (referer: https://www.amazon.com/s?k=deep+learning&page=3&crid=2HX2SCFCK032L&qid=1663460242&sprefix=deep+learnin%2Caps%2C449&ref=sr_pg_3)\n"
     ]
    },
    {
     "name": "stdout",
     "output_type": "stream",
     "text": [
      "321\n",
      "['\\n            \\n              100%\\n            \\n          '] 5.0 out of 5 stars None\n"
     ]
    },
    {
     "name": "stderr",
     "output_type": "stream",
     "text": [
      "2022-09-18 02:22:59 [scrapy.core.engine] DEBUG: Crawled (200) <GET https://www.amazon.com/Deep-Learning-NLP-Speech-Recognition/dp/3030145956/ref=sr_1_102?crid=2HX2SCFCK032L&keywords=deep+learning&qid=1663460492&sprefix=deep+learnin%2Caps%2C449&sr=8-102> (referer: https://www.amazon.com/s?k=deep+learning&page=3&crid=2HX2SCFCK032L&qid=1663460242&sprefix=deep+learnin%2Caps%2C449&ref=sr_pg_3)\n"
     ]
    },
    {
     "name": "stdout",
     "output_type": "stream",
     "text": [
      "322\n",
      "[] None None\n",
      "323\n",
      "['\\n            \\n              54%\\n            \\n          '] 4.0 out of 5 stars 7.5 x 1.2 x 9.25 inches\n"
     ]
    },
    {
     "name": "stderr",
     "output_type": "stream",
     "text": [
      "2022-09-18 02:23:00 [scrapy.core.engine] DEBUG: Crawled (200) <GET https://www.amazon.com/Artificial-Intelligence-Example-advanced-learning/dp/1839211539/ref=sr_1_101?crid=2HX2SCFCK032L&keywords=deep+learning&qid=1663460492&sprefix=deep+learnin%2Caps%2C449&sr=8-101> (referer: https://www.amazon.com/s?k=deep+learning&page=3&crid=2HX2SCFCK032L&qid=1663460242&sprefix=deep+learnin%2Caps%2C449&ref=sr_pg_3)\n"
     ]
    },
    {
     "name": "stdout",
     "output_type": "stream",
     "text": [
      "324\n",
      "['\\n            \\n              77%\\n            \\n          '] 4.6 out of 5 stars 7 x 1.38 x 10 inches\n"
     ]
    },
    {
     "name": "stderr",
     "output_type": "stream",
     "text": [
      "2022-09-18 02:23:00 [scrapy.downloadermiddlewares.redirect] DEBUG: Redirecting (302) to <GET https://www.amazon.com/Data-Scientist-Pocket-Guide-Terminologies/dp/9390684978/ref=sr_1_68_sspa?crid=2HX2SCFCK032L&keywords=deep+learning&qid=1663460473&sprefix=deep+learnin%2Caps%2C449&sr=8-68-spons&psc=1> from <GET https://www.amazon.com/sspa/click?ie=UTF8&spc=MTozNjU4MTEyNDI0ODc2MTYyOjE2NjM0NjA0NzM6c3BfbXRmOjIwMDA4MjUyMTY5NDQ4MTo6MDo6&sp_csd=d2lkZ2V0TmFtZT1zcF9tdGY&url=%2FData-Scientist-Pocket-Guide-Terminologies%2Fdp%2F9390684978%2Fref%3Dsr_1_68_sspa%3Fcrid%3D2HX2SCFCK032L%26keywords%3Ddeep%2Blearning%26qid%3D1663460473%26sprefix%3Ddeep%2Blearnin%252Caps%252C449%26sr%3D8-68-spons%26psc%3D1>\n"
     ]
    },
    {
     "name": "stdout",
     "output_type": "stream",
     "text": [
      "325\n",
      "['\\n            \\n              68%\\n            \\n          '] 4.2 out of 5 stars 7.5 x 1.31 x 9.25 inches\n"
     ]
    },
    {
     "name": "stderr",
     "output_type": "stream",
     "text": [
      "2022-09-18 02:23:00 [scrapy.downloadermiddlewares.redirect] DEBUG: Redirecting (302) to <GET https://www.amazon.com/Grokking-Deep-Learning-Andrew-Trask/dp/1617293709/ref=sr_1_67_sspa?crid=2HX2SCFCK032L&keywords=deep+learning&qid=1663460473&sprefix=deep+learnin%2Caps%2C449&sr=8-67-spons&psc=1> from <GET https://www.amazon.com/sspa/click?ie=UTF8&spc=MTozNjU4MTEyNDI0ODc2MTYyOjE2NjM0NjA0NzM6c3BfbXRmOjIwMDAzODUxMjM0NzQ0MTo6MDo6&sp_csd=d2lkZ2V0TmFtZT1zcF9tdGY&url=%2FGrokking-Deep-Learning-Andrew-Trask%2Fdp%2F1617293709%2Fref%3Dsr_1_67_sspa%3Fcrid%3D2HX2SCFCK032L%26keywords%3Ddeep%2Blearning%26qid%3D1663460473%26sprefix%3Ddeep%2Blearnin%252Caps%252C449%26sr%3D8-67-spons%26psc%3D1>\n",
      "2022-09-18 02:23:00 [scrapy.core.engine] DEBUG: Crawled (200) <GET https://www.amazon.com/Deep-Learning-PyTorch-Lightning-high-performance/dp/180056161X/ref=sr_1_75?crid=2HX2SCFCK032L&keywords=deep+learning&qid=1663460473&sprefix=deep+learnin%2Caps%2C449&sr=8-75> (referer: https://www.amazon.com/s?k=deep+learning&page=2&crid=2HX2SCFCK032L&qid=1663460242&sprefix=deep+learnin%2Caps%2C449&ref=sr_pg_2)\n",
      "2022-09-18 02:23:01 [scrapy.core.engine] DEBUG: Crawled (200) <GET https://www.amazon.com/Practical-Learning-Cloud-Mobile-Hands/dp/149203486X/ref=sr_1_73?crid=2HX2SCFCK032L&keywords=deep+learning&qid=1663460473&sprefix=deep+learnin%2Caps%2C449&sr=8-73> (referer: https://www.amazon.com/s?k=deep+learning&page=2&crid=2HX2SCFCK032L&qid=1663460242&sprefix=deep+learnin%2Caps%2C449&ref=sr_pg_2)\n",
      "2022-09-18 02:23:01 [scrapy.core.engine] DEBUG: Crawled (200) <GET https://www.amazon.com/Advanced-Deep-Learning-TensorFlow-Keras-ebook/dp/B0851D5YQQ/ref=sr_1_74?crid=2HX2SCFCK032L&keywords=deep+learning&qid=1663460473&sprefix=deep+learnin%2Caps%2C449&sr=8-74> (referer: https://www.amazon.com/s?k=deep+learning&page=2&crid=2HX2SCFCK032L&qid=1663460242&sprefix=deep+learnin%2Caps%2C449&ref=sr_pg_2)\n"
     ]
    },
    {
     "name": "stdout",
     "output_type": "stream",
     "text": [
      "326\n",
      "['\\n            \\n              80%\\n            \\n          '] 4.8 out of 5 stars 7.5 x 0.83 x 9.25 inches\n",
      "327\n",
      "['\\n            \\n              84%\\n            \\n          '] 4.6 out of 5 stars 7 x 1.68 x 9.19 inches\n"
     ]
    },
    {
     "name": "stderr",
     "output_type": "stream",
     "text": [
      "2022-09-18 02:23:01 [scrapy.core.engine] DEBUG: Crawled (200) <GET https://www.amazon.com/Presentation-Notebook-Classical-Conversations-Homeschool/dp/B0B6L5DSPN/ref=sr_1_71?crid=2HX2SCFCK032L&keywords=deep+learning&qid=1663460473&sprefix=deep+learnin%2Caps%2C449&sr=8-71> (referer: https://www.amazon.com/s?k=deep+learning&page=2&crid=2HX2SCFCK032L&qid=1663460242&sprefix=deep+learnin%2Caps%2C449&ref=sr_pg_2)\n"
     ]
    },
    {
     "name": "stdout",
     "output_type": "stream",
     "text": [
      "328\n",
      "['\\n            \\n              74%\\n            \\n          '] 4.5 out of 5 stars None\n",
      "329\n",
      "['\\n            \\n              100%\\n            \\n          '] 5.0 out of 5 stars 8 x 0.25 x 10 inches\n"
     ]
    },
    {
     "name": "stderr",
     "output_type": "stream",
     "text": [
      "2022-09-18 02:23:01 [scrapy.core.engine] DEBUG: Crawled (200) <GET https://www.amazon.com/Advanced-Deep-Learning-Python-next-generation/dp/178995617X/ref=sr_1_70?crid=2HX2SCFCK032L&keywords=deep+learning&qid=1663460473&sprefix=deep+learnin%2Caps%2C449&sr=8-70> (referer: https://www.amazon.com/s?k=deep+learning&page=2&crid=2HX2SCFCK032L&qid=1663460242&sprefix=deep+learnin%2Caps%2C449&ref=sr_pg_2)\n",
      "2022-09-18 02:23:01 [scrapy.core.engine] DEBUG: Crawled (200) <GET https://www.amazon.com/Time-Forecasting-using-Deep-Learning/dp/9391392571/ref=sr_1_100_sspa?crid=2HX2SCFCK032L&keywords=deep+learning&qid=1663460492&sprefix=deep+learnin%2Caps%2C449&sr=8-100-spons&psc=1> (referer: https://www.amazon.com/s?k=deep+learning&page=3&crid=2HX2SCFCK032L&qid=1663460242&sprefix=deep+learnin%2Caps%2C449&ref=sr_pg_3)\n",
      "2022-09-18 02:23:02 [scrapy.downloadermiddlewares.redirect] DEBUG: Redirecting (302) to <GET https://www.amazon.com/Deep-Learning-PyTorch-Lightning-high-performance/dp/180056161X/ref=sr_1_66_sspa?crid=2HX2SCFCK032L&keywords=deep+learning&qid=1663460473&sprefix=deep+learnin%2Caps%2C449&sr=8-66-spons&psc=1> from <GET https://www.amazon.com/sspa/click?ie=UTF8&spc=MTozNjU4MTEyNDI0ODc2MTYyOjE2NjM0NjA0NzM6c3BfbXRmOjIwMDAzOTAzNTY5NTY5ODo6MDo6&sp_csd=d2lkZ2V0TmFtZT1zcF9tdGY&url=%2FDeep-Learning-PyTorch-Lightning-high-performance%2Fdp%2F180056161X%2Fref%3Dsr_1_66_sspa%3Fcrid%3D2HX2SCFCK032L%26keywords%3Ddeep%2Blearning%26qid%3D1663460473%26sprefix%3Ddeep%2Blearnin%252Caps%252C449%26sr%3D8-66-spons%26psc%3D1>\n",
      "2022-09-18 02:23:02 [scrapy.downloadermiddlewares.redirect] DEBUG: Redirecting (302) to <GET https://www.amazon.com/Learning-Communications-Automatic-Target-Recognition/dp/163081637X/ref=sr_1_65_sspa?crid=2HX2SCFCK032L&keywords=deep+learning&qid=1663460473&sprefix=deep+learnin%2Caps%2C449&sr=8-65-spons&psc=1> from <GET https://www.amazon.com/sspa/click?ie=UTF8&spc=MTozNjU4MTEyNDI0ODc2MTYyOjE2NjM0NjA0NzM6c3BfbXRmOjIwMDA1MTczNTUyOTQ5ODo6MDo6&sp_csd=d2lkZ2V0TmFtZT1zcF9tdGY&url=%2FLearning-Communications-Automatic-Target-Recognition%2Fdp%2F163081637X%2Fref%3Dsr_1_65_sspa%3Fcrid%3D2HX2SCFCK032L%26keywords%3Ddeep%2Blearning%26qid%3D1663460473%26sprefix%3Ddeep%2Blearnin%252Caps%252C449%26sr%3D8-65-spons%26psc%3D1>\n",
      "2022-09-18 02:23:02 [scrapy.core.engine] DEBUG: Crawled (200) <GET https://www.amazon.com/Little-Learner-Straight-Line-Learning/dp/026254637X/ref=sr_1_69?crid=2HX2SCFCK032L&keywords=deep+learning&qid=1663460473&sprefix=deep+learnin%2Caps%2C449&sr=8-69> (referer: https://www.amazon.com/s?k=deep+learning&page=2&crid=2HX2SCFCK032L&qid=1663460242&sprefix=deep+learnin%2Caps%2C449&ref=sr_pg_2)\n"
     ]
    },
    {
     "name": "stdout",
     "output_type": "stream",
     "text": [
      "330\n",
      "['\\n            \\n              70%\\n            \\n          '] 4.6 out of 5 stars 7.5 x 1.06 x 9.25 inches\n",
      "331\n",
      "['\\n            \\n              55%\\n            \\n          '] 4.4 out of 5 stars 7.5 x 0.71 x 9.25 inches\n"
     ]
    },
    {
     "name": "stderr",
     "output_type": "stream",
     "text": [
      "2022-09-18 02:23:02 [scrapy.core.engine] DEBUG: Crawled (200) <GET https://www.amazon.com/Learning-Biology-Medicine-Davide-Bacciu/dp/1800610939/ref=sr_1_98_sspa?crid=2HX2SCFCK032L&keywords=deep+learning&qid=1663460492&sprefix=deep+learnin%2Caps%2C449&sr=8-98-spons&psc=1> (referer: https://www.amazon.com/s?k=deep+learning&page=3&crid=2HX2SCFCK032L&qid=1663460242&sprefix=deep+learnin%2Caps%2C449&ref=sr_pg_3)\n"
     ]
    },
    {
     "name": "stdout",
     "output_type": "stream",
     "text": [
      "332\n",
      "[] None None\n"
     ]
    },
    {
     "name": "stderr",
     "output_type": "stream",
     "text": [
      "2022-09-18 02:23:02 [scrapy.core.engine] DEBUG: Crawled (200) <GET https://www.amazon.com/Python-Machine-Learning-scikit-learn-TensorFlow/dp/1789955750/ref=sr_1_61?crid=2HX2SCFCK032L&keywords=deep+learning&qid=1663460473&sprefix=deep+learnin%2Caps%2C449&sr=8-61> (referer: https://www.amazon.com/s?k=deep+learning&page=2&crid=2HX2SCFCK032L&qid=1663460242&sprefix=deep+learnin%2Caps%2C449&ref=sr_pg_2)\n"
     ]
    },
    {
     "name": "stdout",
     "output_type": "stream",
     "text": [
      "333\n",
      "[] None 6 x 0.97 x 9 inches\n"
     ]
    },
    {
     "name": "stderr",
     "output_type": "stream",
     "text": [
      "2022-09-18 02:23:03 [scrapy.core.engine] DEBUG: Crawled (200) <GET https://www.amazon.com/Artificial-Intelligence-Ultimate-Internet-Comprehensive/dp/1647482674/ref=sr_1_99_sspa?crid=2HX2SCFCK032L&keywords=deep+learning&qid=1663460492&sprefix=deep+learnin%2Caps%2C449&sr=8-99-spons&psc=1> (referer: https://www.amazon.com/s?k=deep+learning&page=3&crid=2HX2SCFCK032L&qid=1663460242&sprefix=deep+learnin%2Caps%2C449&ref=sr_pg_3)\n",
      "2022-09-18 02:23:03 [scrapy.core.engine] DEBUG: Crawled (200) <GET https://www.amazon.com/Differentiation-Brain-Learner-Friendly-Neuroeducation-Differentiate/dp/1945349522/ref=sr_1_97_sspa?crid=2HX2SCFCK032L&keywords=deep+learning&qid=1663460492&sprefix=deep+learnin%2Caps%2C449&sr=8-97-spons&psc=1> (referer: https://www.amazon.com/s?k=deep+learning&page=3&crid=2HX2SCFCK032L&qid=1663460242&sprefix=deep+learnin%2Caps%2C449&ref=sr_pg_3)\n"
     ]
    },
    {
     "name": "stdout",
     "output_type": "stream",
     "text": [
      "334\n",
      "[] None None\n",
      "335\n",
      "['\\n            \\n              44%\\n            \\n          '] 4.0 out of 5 stars 6 x 0.56 x 9 inches\n",
      "336\n",
      "['\\n            \\n              82%\\n            \\n          '] 4.7 out of 5 stars 8.5 x 0.75 x 10.75 inches\n"
     ]
    },
    {
     "name": "stderr",
     "output_type": "stream",
     "text": [
      "2022-09-18 02:23:03 [scrapy.core.engine] DEBUG: Crawled (200) <GET https://www.amazon.com/Deep-Learning-Game-Max-Pumperla/dp/1617295329/ref=sr_1_64?crid=2HX2SCFCK032L&keywords=deep+learning&qid=1663460473&sprefix=deep+learnin%2Caps%2C449&sr=8-64> (referer: https://www.amazon.com/s?k=deep+learning&page=2&crid=2HX2SCFCK032L&qid=1663460242&sprefix=deep+learnin%2Caps%2C449&ref=sr_pg_2)\n",
      "2022-09-18 02:23:03 [scrapy.core.engine] DEBUG: Crawled (200) <GET https://www.amazon.com/Grokking-Deep-Learning-Andrew-Trask/dp/1617293709/ref=sr_1_67_sspa?crid=2HX2SCFCK032L&keywords=deep+learning&qid=1663460473&sprefix=deep+learnin%2Caps%2C449&sr=8-67-spons&psc=1> (referer: https://www.amazon.com/s?k=deep+learning&page=2&crid=2HX2SCFCK032L&qid=1663460242&sprefix=deep+learnin%2Caps%2C449&ref=sr_pg_2)\n"
     ]
    },
    {
     "name": "stdout",
     "output_type": "stream",
     "text": [
      "337\n",
      "['\\n            \\n              65%\\n            \\n          '] 4.4 out of 5 stars 7.38 x 0.9 x 9.25 inches\n"
     ]
    },
    {
     "name": "stderr",
     "output_type": "stream",
     "text": [
      "2022-09-18 02:23:04 [scrapy.core.engine] DEBUG: Crawled (200) <GET https://www.amazon.com/Programming-PyTorch-Deep-Learning-Applications/dp/1492045357/ref=sr_1_63?crid=2HX2SCFCK032L&keywords=deep+learning&qid=1663460473&sprefix=deep+learnin%2Caps%2C449&sr=8-63> (referer: https://www.amazon.com/s?k=deep+learning&page=2&crid=2HX2SCFCK032L&qid=1663460242&sprefix=deep+learnin%2Caps%2C449&ref=sr_pg_2)\n",
      "2022-09-18 02:23:04 [scrapy.core.engine] DEBUG: Crawled (200) <GET https://www.amazon.com/Data-Scientist-Pocket-Guide-Terminologies/dp/9390684978/ref=sr_1_68_sspa?crid=2HX2SCFCK032L&keywords=deep+learning&qid=1663460473&sprefix=deep+learnin%2Caps%2C449&sr=8-68-spons&psc=1> (referer: https://www.amazon.com/s?k=deep+learning&page=2&crid=2HX2SCFCK032L&qid=1663460242&sprefix=deep+learnin%2Caps%2C449&ref=sr_pg_2)\n"
     ]
    },
    {
     "name": "stdout",
     "output_type": "stream",
     "text": [
      "338\n",
      "['\\n            \\n              72%\\n            \\n          '] 4.4 out of 5 stars 7.38 x 0.7 x 9.25 inches\n"
     ]
    },
    {
     "name": "stderr",
     "output_type": "stream",
     "text": [
      "2022-09-18 02:23:04 [scrapy.core.engine] DEBUG: Crawled (200) <GET https://www.amazon.com/MATLAB-Deep-Learning-Artificial-Intelligence/dp/1484228448/ref=sr_1_62?crid=2HX2SCFCK032L&keywords=deep+learning&qid=1663460473&sprefix=deep+learnin%2Caps%2C449&sr=8-62> (referer: https://www.amazon.com/s?k=deep+learning&page=2&crid=2HX2SCFCK032L&qid=1663460242&sprefix=deep+learnin%2Caps%2C449&ref=sr_pg_2)\n"
     ]
    },
    {
     "name": "stdout",
     "output_type": "stream",
     "text": [
      "339\n",
      "['\\n            \\n              68%\\n            \\n          '] 4.1 out of 5 stars 7 x 0.46 x 9.19 inches\n",
      "340\n",
      "['\\n            \\n              70%\\n            \\n          '] 4.7 out of 5 stars 7.5 x 0.7 x 9.25 inches\n",
      "341\n",
      "['\\n            \\n              61%\\n            \\n          '] 4.2 out of 5 stars 6.1 x 0.39 x 9.25 inches\n"
     ]
    },
    {
     "name": "stderr",
     "output_type": "stream",
     "text": [
      "2022-09-18 02:23:05 [scrapy.core.engine] DEBUG: Crawled (200) <GET https://www.amazon.com/StatQuest-Illustrated-Guide-Machine-Learning/dp/B09ZCKR4H6/ref=sr_1_60?crid=2HX2SCFCK032L&keywords=deep+learning&qid=1663460473&sprefix=deep+learnin%2Caps%2C449&sr=8-60> (referer: https://www.amazon.com/s?k=deep+learning&page=2&crid=2HX2SCFCK032L&qid=1663460242&sprefix=deep+learnin%2Caps%2C449&ref=sr_pg_2)\n",
      "2022-09-18 02:23:05 [scrapy.core.engine] DEBUG: Crawled (200) <GET https://www.amazon.com/Learning-Communications-Automatic-Target-Recognition/dp/163081637X/ref=sr_1_58?crid=2HX2SCFCK032L&keywords=deep+learning&qid=1663460473&sprefix=deep+learnin%2Caps%2C449&sr=8-58> (referer: https://www.amazon.com/s?k=deep+learning&page=2&crid=2HX2SCFCK032L&qid=1663460242&sprefix=deep+learnin%2Caps%2C449&ref=sr_pg_2)\n",
      "2022-09-18 02:23:05 [scrapy.core.engine] DEBUG: Crawled (200) <GET https://www.amazon.com/Deep-Learning-Practitioners-Josh-Patterson/dp/1491914254/ref=sr_1_59?crid=2HX2SCFCK032L&keywords=deep+learning&qid=1663460473&sprefix=deep+learnin%2Caps%2C449&sr=8-59> (referer: https://www.amazon.com/s?k=deep+learning&page=2&crid=2HX2SCFCK032L&qid=1663460242&sprefix=deep+learnin%2Caps%2C449&ref=sr_pg_2)\n"
     ]
    },
    {
     "name": "stdout",
     "output_type": "stream",
     "text": [
      "342\n",
      "['\\n            \\n              87%\\n            \\n          '] 4.8 out of 5 stars 8.5 x 0.72 x 6.5 inches\n"
     ]
    },
    {
     "name": "stderr",
     "output_type": "stream",
     "text": [
      "2022-09-18 02:23:05 [scrapy.core.engine] DEBUG: Crawled (200) <GET https://www.amazon.com/Advanced-Methods-Learning-Computer-Recognition-ebook/dp/B09LCGSRPP/ref=sr_1_57?crid=2HX2SCFCK032L&keywords=deep+learning&qid=1663460473&sprefix=deep+learnin%2Caps%2C449&sr=8-57> (referer: https://www.amazon.com/s?k=deep+learning&page=2&crid=2HX2SCFCK032L&qid=1663460242&sprefix=deep+learnin%2Caps%2C449&ref=sr_pg_2)\n",
      "2022-09-18 02:23:05 [scrapy.core.engine] DEBUG: Crawled (200) <GET https://www.amazon.com/Deep-Learning-PyTorch-Lightning-high-performance/dp/180056161X/ref=sr_1_66_sspa?crid=2HX2SCFCK032L&keywords=deep+learning&qid=1663460473&sprefix=deep+learnin%2Caps%2C449&sr=8-66-spons&psc=1> (referer: https://www.amazon.com/s?k=deep+learning&page=2&crid=2HX2SCFCK032L&qid=1663460242&sprefix=deep+learnin%2Caps%2C449&ref=sr_pg_2)\n"
     ]
    },
    {
     "name": "stdout",
     "output_type": "stream",
     "text": [
      "343\n",
      "[] None 7.2 x 0.9 x 9.8 inches\n",
      "344\n",
      "['\\n            \\n              60%\\n            \\n          '] 4.2 out of 5 stars 7 x 1.07 x 9.19 inches\n"
     ]
    },
    {
     "name": "stderr",
     "output_type": "stream",
     "text": [
      "2022-09-18 02:23:06 [scrapy.downloadermiddlewares.redirect] DEBUG: Redirecting (302) to <GET https://www.amazon.com/Hands-Machine-Learning-end-end/dp/1789955335/ref=sr_1_52_sspa?crid=2HX2SCFCK032L&keywords=deep+learning&qid=1663460473&sprefix=deep+learnin%2Caps%2C449&sr=8-52-spons&psc=1> from <GET https://www.amazon.com/sspa/click?ie=UTF8&spc=MTozNjU4MTEyNDI0ODc2MTYyOjE2NjM0NjA0NzM6c3BfYXRmX25leHQ6MjAwMDI0OTE2NDgzNzcxOjowOjo&sp_csd=d2lkZ2V0TmFtZT1zcF9hdGZfbmV4dA&url=%2FHands-Machine-Learning-end-end%2Fdp%2F1789955335%2Fref%3Dsr_1_52_sspa%3Fcrid%3D2HX2SCFCK032L%26keywords%3Ddeep%2Blearning%26qid%3D1663460473%26sprefix%3Ddeep%2Blearnin%252Caps%252C449%26sr%3D8-52-spons%26psc%3D1>\n",
      "2022-09-18 02:23:06 [scrapy.core.engine] DEBUG: Crawled (200) <GET https://www.amazon.com/Learning-Communications-Automatic-Target-Recognition/dp/163081637X/ref=sr_1_65_sspa?crid=2HX2SCFCK032L&keywords=deep+learning&qid=1663460473&sprefix=deep+learnin%2Caps%2C449&sr=8-65-spons&psc=1> (referer: https://www.amazon.com/s?k=deep+learning&page=2&crid=2HX2SCFCK032L&qid=1663460242&sprefix=deep+learnin%2Caps%2C449&ref=sr_pg_2)\n"
     ]
    },
    {
     "name": "stdout",
     "output_type": "stream",
     "text": [
      "345\n",
      "[] None None\n",
      "346\n",
      "['\\n            \\n              80%\\n            \\n          '] 4.8 out of 5 stars 7.5 x 0.83 x 9.25 inches\n"
     ]
    },
    {
     "name": "stderr",
     "output_type": "stream",
     "text": [
      "2022-09-18 02:23:06 [scrapy.downloadermiddlewares.redirect] DEBUG: Redirecting (302) to <GET https://www.amazon.com/Modern-Computer-Vision-PyTorch-applications/dp/1839213477/ref=sr_1_51_sspa?crid=2HX2SCFCK032L&keywords=deep+learning&qid=1663460473&sprefix=deep+learnin%2Caps%2C449&sr=8-51-spons&psc=1> from <GET https://www.amazon.com/sspa/click?ie=UTF8&spc=MTozNjU4MTEyNDI0ODc2MTYyOjE2NjM0NjA0NzM6c3BfYXRmX25leHQ6MjAwMDQzMjI4OTM2OTcxOjowOjo&sp_csd=d2lkZ2V0TmFtZT1zcF9hdGZfbmV4dA&url=%2FModern-Computer-Vision-PyTorch-applications%2Fdp%2F1839213477%2Fref%3Dsr_1_51_sspa%3Fcrid%3D2HX2SCFCK032L%26keywords%3Ddeep%2Blearning%26qid%3D1663460473%26sprefix%3Ddeep%2Blearnin%252Caps%252C449%26sr%3D8-51-spons%26psc%3D1>\n",
      "2022-09-18 02:23:06 [scrapy.downloadermiddlewares.redirect] DEBUG: Redirecting (302) to <GET https://www.amazon.com/Hands-Deep-Learning-Apache-Spark/dp/1788994612/ref=sr_1_50_sspa?crid=2HX2SCFCK032L&keywords=deep+learning&qid=1663460473&sprefix=deep+learnin%2Caps%2C449&sr=8-50-spons&psc=1> from <GET https://www.amazon.com/sspa/click?ie=UTF8&spc=MTozNjU4MTEyNDI0ODc2MTYyOjE2NjM0NjA0NzM6c3BfYXRmX25leHQ6MjAwMDEwNTIyMTM0MzcxOjowOjo&sp_csd=d2lkZ2V0TmFtZT1zcF9hdGZfbmV4dA&url=%2FHands-Deep-Learning-Apache-Spark%2Fdp%2F1788994612%2Fref%3Dsr_1_50_sspa%3Fcrid%3D2HX2SCFCK032L%26keywords%3Ddeep%2Blearning%26qid%3D1663460473%26sprefix%3Ddeep%2Blearnin%252Caps%252C449%26sr%3D8-50-spons%26psc%3D1>\n",
      "2022-09-18 02:23:06 [scrapy.downloadermiddlewares.redirect] DEBUG: Redirecting (302) to <GET https://www.amazon.com/Essentials-Deep-Learning-Unsupervised-Autoencoders/dp/9391030351/ref=sr_1_20_sspa?crid=2HX2SCFCK032L&keywords=deep+learning&qid=1663460453&sprefix=deep+learnin%2Caps%2C449&sr=8-20-spons&psc=1> from <GET https://www.amazon.com/sspa/click?ie=UTF8&spc=MToxMjU1NDM5NTIwMjk1OTM0OjE2NjM0NjA0NTM6c3BfbXRmOjIwMDAzNTA2NTg4NzA5ODo6MDo6&sp_csd=d2lkZ2V0TmFtZT1zcF9tdGY&url=%2FEssentials-Deep-Learning-Unsupervised-Autoencoders%2Fdp%2F9391030351%2Fref%3Dsr_1_20_sspa%3Fcrid%3D2HX2SCFCK032L%26keywords%3Ddeep%2Blearning%26qid%3D1663460453%26sprefix%3Ddeep%2Blearnin%252Caps%252C449%26sr%3D8-20-spons%26psc%3D1>\n",
      "2022-09-18 02:23:06 [scrapy.downloadermiddlewares.redirect] DEBUG: Redirecting (302) to <GET https://www.amazon.com/Python-Machine-Learning-scikit-learn-TensorFlow/dp/1789955750/ref=sr_1_49_sspa?crid=2HX2SCFCK032L&keywords=deep+learning&qid=1663460473&sprefix=deep+learnin%2Caps%2C449&sr=8-49-spons&psc=1> from <GET https://www.amazon.com/sspa/click?ie=UTF8&spc=MTozNjU4MTEyNDI0ODc2MTYyOjE2NjM0NjA0NzM6c3BfYXRmX25leHQ6MjAwMDE0NDY3NDczOTcxOjowOjo&sp_csd=d2lkZ2V0TmFtZT1zcF9hdGZfbmV4dA&url=%2FPython-Machine-Learning-scikit-learn-TensorFlow%2Fdp%2F1789955750%2Fref%3Dsr_1_49_sspa%3Fcrid%3D2HX2SCFCK032L%26keywords%3Ddeep%2Blearning%26qid%3D1663460473%26sprefix%3Ddeep%2Blearnin%252Caps%252C449%26sr%3D8-49-spons%26psc%3D1>\n",
      "2022-09-18 02:23:06 [scrapy.core.engine] DEBUG: Crawled (200) <GET https://www.amazon.com/Synthetic-Learning-Springer-Optimization-Applications/dp/3030751775/ref=sr_1_56?crid=2HX2SCFCK032L&keywords=deep+learning&qid=1663460473&sprefix=deep+learnin%2Caps%2C449&sr=8-56> (referer: https://www.amazon.com/s?k=deep+learning&page=2&crid=2HX2SCFCK032L&qid=1663460242&sprefix=deep+learnin%2Caps%2C449&ref=sr_pg_2)\n"
     ]
    },
    {
     "name": "stdout",
     "output_type": "stream",
     "text": [
      "347\n",
      "[] None 7.2 x 0.9 x 9.8 inches\n"
     ]
    },
    {
     "name": "stderr",
     "output_type": "stream",
     "text": [
      "2022-09-18 02:23:06 [scrapy.core.engine] DEBUG: Crawled (200) <GET https://www.amazon.com/Deep-Reinforcement-Learning-Python-distributional/dp/1839210680/ref=sr_1_55?crid=2HX2SCFCK032L&keywords=deep+learning&qid=1663460473&sprefix=deep+learnin%2Caps%2C449&sr=8-55> (referer: https://www.amazon.com/s?k=deep+learning&page=2&crid=2HX2SCFCK032L&qid=1663460242&sprefix=deep+learnin%2Caps%2C449&ref=sr_pg_2)\n",
      "2022-09-18 02:23:06 [scrapy.downloadermiddlewares.redirect] DEBUG: Redirecting (302) to <GET https://www.amazon.com/Deep-Learning-Basics-Python-Implementation/dp/1800206135/ref=sr_1_19_sspa?crid=2HX2SCFCK032L&keywords=deep+learning&qid=1663460453&sprefix=deep+learnin%2Caps%2C449&sr=8-19-spons&psc=1> from <GET https://www.amazon.com/sspa/click?ie=UTF8&spc=MToxMjU1NDM5NTIwMjk1OTM0OjE2NjM0NjA0NTM6c3BfbXRmOjIwMDA1NjI3OTk5Njk3MTo6MDo6&sp_csd=d2lkZ2V0TmFtZT1zcF9tdGY&url=%2FDeep-Learning-Basics-Python-Implementation%2Fdp%2F1800206135%2Fref%3Dsr_1_19_sspa%3Fcrid%3D2HX2SCFCK032L%26keywords%3Ddeep%2Blearning%26qid%3D1663460453%26sprefix%3Ddeep%2Blearnin%252Caps%252C449%26sr%3D8-19-spons%26psc%3D1>\n",
      "2022-09-18 02:23:06 [scrapy.downloadermiddlewares.redirect] DEBUG: Redirecting (302) to <GET https://www.amazon.com/Generative-Deep-Learning-Teaching-Machines/dp/1492041947/ref=sr_1_18_sspa?crid=2HX2SCFCK032L&keywords=deep+learning&qid=1663460453&sprefix=deep+learnin%2Caps%2C449&sr=8-18-spons&psc=1> from <GET https://www.amazon.com/sspa/click?ie=UTF8&spc=MToxMjU1NDM5NTIwMjk1OTM0OjE2NjM0NjA0NTM6c3BfbXRmOjIwMDA3MTA0OTM1ODc5ODo6MDo6&sp_csd=d2lkZ2V0TmFtZT1zcF9tdGY&url=%2FGenerative-Deep-Learning-Teaching-Machines%2Fdp%2F1492041947%2Fref%3Dsr_1_18_sspa%3Fcrid%3D2HX2SCFCK032L%26keywords%3Ddeep%2Blearning%26qid%3D1663460453%26sprefix%3Ddeep%2Blearnin%252Caps%252C449%26sr%3D8-18-spons%26psc%3D1>\n",
      "2022-09-18 02:23:06 [scrapy.downloadermiddlewares.redirect] DEBUG: Redirecting (302) to <GET https://www.amazon.com/Deep-Learning-Life-Sciences-Microscopy/dp/1492039837/ref=sr_1_17_sspa?crid=2HX2SCFCK032L&keywords=deep+learning&qid=1663460453&sprefix=deep+learnin%2Caps%2C449&sr=8-17-spons&psc=1> from <GET https://www.amazon.com/sspa/click?ie=UTF8&spc=MToxMjU1NDM5NTIwMjk1OTM0OjE2NjM0NjA0NTM6c3BfbXRmOjIwMDA3MTA0OTM1ODg5ODo6MDo6&sp_csd=d2lkZ2V0TmFtZT1zcF9tdGY&url=%2FDeep-Learning-Life-Sciences-Microscopy%2Fdp%2F1492039837%2Fref%3Dsr_1_17_sspa%3Fcrid%3D2HX2SCFCK032L%26keywords%3Ddeep%2Blearning%26qid%3D1663460453%26sprefix%3Ddeep%2Blearnin%252Caps%252C449%26sr%3D8-17-spons%26psc%3D1>\n"
     ]
    },
    {
     "name": "stdout",
     "output_type": "stream",
     "text": [
      "348\n",
      "['\\n            \\n              50%\\n            \\n          '] 3.5 out of 5 stars 6.14 x 0.81 x 9.21 inches\n",
      "349\n",
      "['\\n            \\n              69%\\n            \\n          '] 4.4 out of 5 stars 7.5 x 1.72 x 9.25 inches\n"
     ]
    },
    {
     "name": "stderr",
     "output_type": "stream",
     "text": [
      "2022-09-18 02:23:07 [scrapy.core.engine] DEBUG: Crawled (200) <GET https://www.amazon.com/Deep-Learning-TensorFlow-Keras-reinforcement/dp/1803232919/ref=sr_1_53?crid=2HX2SCFCK032L&keywords=deep+learning&qid=1663460473&sprefix=deep+learnin%2Caps%2C449&sr=8-53> (referer: https://www.amazon.com/s?k=deep+learning&page=2&crid=2HX2SCFCK032L&qid=1663460242&sprefix=deep+learnin%2Caps%2C449&ref=sr_pg_2)\n",
      "2022-09-18 02:23:07 [scrapy.core.engine] DEBUG: Crawled (200) <GET https://www.amazon.com/Python-Machine-Learning-scikit-learn-TensorFlow/dp/1787125939/ref=sr_1_54?crid=2HX2SCFCK032L&keywords=deep+learning&qid=1663460473&sprefix=deep+learnin%2Caps%2C449&sr=8-54> (referer: https://www.amazon.com/s?k=deep+learning&page=2&crid=2HX2SCFCK032L&qid=1663460242&sprefix=deep+learnin%2Caps%2C449&ref=sr_pg_2)\n"
     ]
    },
    {
     "name": "stdout",
     "output_type": "stream",
     "text": [
      "350\n",
      "[] None None\n"
     ]
    },
    {
     "name": "stderr",
     "output_type": "stream",
     "text": [
      "2022-09-18 02:23:08 [scrapy.core.engine] DEBUG: Crawled (200) <GET https://www.amazon.com/Essentials-Deep-Learning-Unsupervised-Autoencoders/dp/9391030351/ref=sr_1_20_sspa?crid=2HX2SCFCK032L&keywords=deep+learning&qid=1663460453&sprefix=deep+learnin%2Caps%2C449&sr=8-20-spons&psc=1> (referer: https://www.amazon.com/s?k=deep+learning&crid=2HX2SCFCK032L&sprefix=deep+learnin%2Caps%2C449&ref=nb_sb_noss_2)\n",
      "2022-09-18 02:23:08 [scrapy.core.engine] DEBUG: Crawled (200) <GET https://www.amazon.com/Neural-Networks-Deep-Learning-Textbook/dp/3319944622/ref=sr_1_16?crid=2HX2SCFCK032L&keywords=deep+learning&qid=1663460453&sprefix=deep+learnin%2Caps%2C449&sr=8-16> (referer: https://www.amazon.com/s?k=deep+learning&crid=2HX2SCFCK032L&sprefix=deep+learnin%2Caps%2C449&ref=nb_sb_noss_2)\n"
     ]
    },
    {
     "name": "stdout",
     "output_type": "stream",
     "text": [
      "351\n",
      "['\\n            \\n              69%\\n            \\n          '] 4.5 out of 5 stars 7.5 x 1.41 x 9.25 inches\n"
     ]
    },
    {
     "name": "stderr",
     "output_type": "stream",
     "text": [
      "2022-09-18 02:23:08 [scrapy.core.engine] DEBUG: Crawled (200) <GET https://www.amazon.com/Hands-Machine-Learning-end-end/dp/1789955335/ref=sr_1_52_sspa?crid=2HX2SCFCK032L&keywords=deep+learning&qid=1663460473&sprefix=deep+learnin%2Caps%2C449&sr=8-52-spons&psc=1> (referer: https://www.amazon.com/s?k=deep+learning&page=2&crid=2HX2SCFCK032L&qid=1663460242&sprefix=deep+learnin%2Caps%2C449&ref=sr_pg_2)\n"
     ]
    },
    {
     "name": "stdout",
     "output_type": "stream",
     "text": [
      "352\n",
      "['\\n            \\n              100%\\n            \\n          '] 5.0 out of 5 stars 7.5 x 0.89 x 9.25 inches\n",
      "353\n",
      "['\\n            \\n              69%\\n            \\n          '] 4.5 out of 5 stars 7 x 1.13 x 10 inches\n"
     ]
    },
    {
     "name": "stderr",
     "output_type": "stream",
     "text": [
      "2022-09-18 02:23:08 [scrapy.core.engine] DEBUG: Crawled (200) <GET https://www.amazon.com/Hands-Deep-Learning-Apache-Spark/dp/1788994612/ref=sr_1_50_sspa?crid=2HX2SCFCK032L&keywords=deep+learning&qid=1663460473&sprefix=deep+learnin%2Caps%2C449&sr=8-50-spons&psc=1> (referer: https://www.amazon.com/s?k=deep+learning&page=2&crid=2HX2SCFCK032L&qid=1663460242&sprefix=deep+learnin%2Caps%2C449&ref=sr_pg_2)\n",
      "2022-09-18 02:23:09 [scrapy.core.engine] DEBUG: Crawled (200) <GET https://www.amazon.com/Modern-Computer-Vision-PyTorch-applications/dp/1839213477/ref=sr_1_51_sspa?crid=2HX2SCFCK032L&keywords=deep+learning&qid=1663460473&sprefix=deep+learnin%2Caps%2C449&sr=8-51-spons&psc=1> (referer: https://www.amazon.com/s?k=deep+learning&page=2&crid=2HX2SCFCK032L&qid=1663460242&sprefix=deep+learnin%2Caps%2C449&ref=sr_pg_2)\n",
      "2022-09-18 02:23:09 [scrapy.core.engine] DEBUG: Crawled (200) <GET https://www.amazon.com/Python-Machine-Learning-scikit-learn-TensorFlow/dp/1789955750/ref=sr_1_49_sspa?crid=2HX2SCFCK032L&keywords=deep+learning&qid=1663460473&sprefix=deep+learnin%2Caps%2C449&sr=8-49-spons&psc=1> (referer: https://www.amazon.com/s?k=deep+learning&page=2&crid=2HX2SCFCK032L&qid=1663460242&sprefix=deep+learnin%2Caps%2C449&ref=sr_pg_2)\n"
     ]
    },
    {
     "name": "stdout",
     "output_type": "stream",
     "text": [
      "354\n",
      "['\\n            \\n              64%\\n            \\n          '] 4.3 out of 5 stars 7.5 x 1.2 x 9.25 inches\n",
      "355\n",
      "['\\n            \\n              100%\\n            \\n          '] 4.0 out of 5 stars 7.5 x 0.73 x 9.25 inches\n",
      "356\n",
      "['\\n            \\n              82%\\n            \\n          '] 4.6 out of 5 stars 7.5 x 1.86 x 9.25 inches\n",
      "357\n",
      "['\\n            \\n              71%\\n            \\n          '] 4.5 out of 5 stars 7.5 x 1.74 x 9.25 inches\n"
     ]
    },
    {
     "name": "stderr",
     "output_type": "stream",
     "text": [
      "2022-09-18 02:23:09 [scrapy.core.engine] DEBUG: Crawled (200) <GET https://www.amazon.com/Deep-Learning-Basics-Python-Implementation/dp/1800206135/ref=sr_1_19_sspa?crid=2HX2SCFCK032L&keywords=deep+learning&qid=1663460453&sprefix=deep+learnin%2Caps%2C449&sr=8-19-spons&psc=1> (referer: https://www.amazon.com/s?k=deep+learning&crid=2HX2SCFCK032L&sprefix=deep+learnin%2Caps%2C449&ref=nb_sb_noss_2)\n",
      "2022-09-18 02:23:09 [scrapy.core.engine] DEBUG: Crawled (200) <GET https://www.amazon.com/Deep-Learning-Life-Sciences-Microscopy/dp/1492039837/ref=sr_1_17_sspa?crid=2HX2SCFCK032L&keywords=deep+learning&qid=1663460453&sprefix=deep+learnin%2Caps%2C449&sr=8-17-spons&psc=1> (referer: https://www.amazon.com/s?k=deep+learning&crid=2HX2SCFCK032L&sprefix=deep+learnin%2Caps%2C449&ref=nb_sb_noss_2)\n"
     ]
    },
    {
     "name": "stdout",
     "output_type": "stream",
     "text": [
      "358\n",
      "['\\n            \\n              61%\\n            \\n          '] 4.3 out of 5 stars 7.5 x 0.72 x 9.25 inches\n",
      "359\n",
      "['\\n            \\n              66%\\n            \\n          '] 4.2 out of 5 stars 7 x 0.5 x 9.19 inches\n"
     ]
    },
    {
     "name": "stderr",
     "output_type": "stream",
     "text": [
      "2022-09-18 02:23:10 [scrapy.core.engine] DEBUG: Crawled (200) <GET https://www.amazon.com/Generative-Deep-Learning-Teaching-Machines/dp/1492041947/ref=sr_1_18_sspa?crid=2HX2SCFCK032L&keywords=deep+learning&qid=1663460453&sprefix=deep+learnin%2Caps%2C449&sr=8-18-spons&psc=1> (referer: https://www.amazon.com/s?k=deep+learning&crid=2HX2SCFCK032L&sprefix=deep+learnin%2Caps%2C449&ref=nb_sb_noss_2)\n",
      "2022-09-18 02:23:10 [scrapy.core.engine] INFO: Closing spider (finished)\n",
      "2022-09-18 02:23:10 [scrapy.statscollectors] INFO: Dumping Scrapy stats:\n",
      "{'downloader/request_bytes': 435589,\n",
      " 'downloader/request_count': 438,\n",
      " 'downloader/request_method_count/GET': 438,\n",
      " 'downloader/response_bytes': 87349038,\n",
      " 'downloader/response_count': 438,\n",
      " 'downloader/response_status_count/200': 366,\n",
      " 'downloader/response_status_count/302': 72,\n",
      " 'elapsed_time_seconds': 137.071305,\n",
      " 'finish_reason': 'finished',\n",
      " 'finish_time': datetime.datetime(2022, 9, 18, 0, 23, 10, 588391),\n",
      " 'httpcompression/response_bytes': 423572858,\n",
      " 'httpcompression/response_count': 366,\n",
      " 'log_count/DEBUG': 443,\n",
      " 'log_count/INFO': 12,\n",
      " 'request_depth_max': 11,\n",
      " 'response_received_count': 366,\n",
      " 'scheduler/dequeued': 438,\n",
      " 'scheduler/dequeued/memory': 438,\n",
      " 'scheduler/enqueued': 438,\n",
      " 'scheduler/enqueued/memory': 438,\n",
      " 'start_time': datetime.datetime(2022, 9, 18, 0, 20, 53, 517086)}\n",
      "2022-09-18 02:23:10 [scrapy.core.engine] INFO: Spider closed (finished)\n"
     ]
    },
    {
     "name": "stdout",
     "output_type": "stream",
     "text": [
      "360\n",
      "['\\n            \\n              76%\\n            \\n          '] 4.5 out of 5 stars 7.01 x 0.69 x 9.17 inches\n"
     ]
    }
   ],
   "source": [
    "import scrapy\n",
    "import csv\n",
    "import time\n",
    "import scrapy_proxies\n",
    "from scrapy.crawler import CrawlerProcess\n",
    "import pandas as pd\n",
    "#import scrapy-fake-useragent\n",
    "class FirstWebsiteSpider(scrapy.Spider):\n",
    "    \n",
    "    rotate_user_agent = True   \n",
    "    name = 'first_website'\n",
    "    #https://www.amazon.com/s?k=data+science&i=stripbooks-intl-ship&page=3&crid=1YWU6OJK4L3BA&qid=1662895059&sprefix=data+science%2Cstripbooks-intl-ship%2C247&ref=sr_pg_3\n",
    "    allowed_domains = [\"www.amazon.com\"] #, \"https://www.amazon.com\"\n",
    "    handle_httpstatus_list = [503]\n",
    "    start_urls =[\"https://www.amazon.com/s?k=deep+learning&crid=2HX2SCFCK032L&sprefix=deep+learnin%2Caps%2C449&ref=nb_sb_noss_2\"] \n",
    "    list_items=[]\n",
    "    j=1\n",
    "    #download_delay = 3 #The number you write here will be how many seconds scrapy waits before sending another request.\n",
    "    #x=pd.DataFrame([])\n",
    "    n_page_to_scrape=7\n",
    "    items_in_page=60\n",
    "    RETRY_TIMES=20\n",
    "    #DOWNLOADER_MIDDLEWARES = {\n",
    "    #'scrapy.downloadermiddlewares.useragent.UserAgentMiddleware': None,\n",
    "    #'scrapy.downloadermiddlewares.retry.RetryMiddleware': None,\n",
    "    #'scrapy_fake_useragent.middleware.RandomUserAgentMiddleware': 400,\n",
    "    #'scrapy_fake_useragent.middleware.RetryUserAgentMiddleware': 401,\n",
    "    #}\n",
    "    FAKEUSERAGENT_PROVIDERS = [\n",
    "    'scrapy_fake_useragent.providers.FakeUserAgentProvider',  # this is the first provider we'll try\n",
    "    'scrapy_fake_useragent.providers.FakerProvider',  # if FakeUserAgentProvider fails, we'll use faker to generate a user-agent string for us\n",
    "    'scrapy_fake_useragent.providers.FixedUserAgentProvider',  # fall back to USER_AGENT value\n",
    "]\n",
    "    def parse(self, response):\n",
    "        print (response.request.headers['User-Agent'])\n",
    "    def parse(self, response):\n",
    "        #self.j=j\n",
    "        print(self.j)\n",
    "        #time.sleep(3)\n",
    "        next_page_url=f\"https://www.amazon.com/s?k=deep+learning&page={self.j}&crid=2HX2SCFCK032L&qid=1663460242&sprefix=deep+learnin%2Caps%2C449&ref=sr_pg_{self.j}\"\n",
    "        box=response.xpath(\"//div[@class='a-section a-spacing-small puis-padding-left-small puis-padding-right-small']\")             #(\"//h2[@class='a-size-mini a-spacing-none a-color-base s-line-clamp-3']\")\n",
    "        #print(box)\n",
    "                                 \n",
    "        #links=[]\n",
    "        #titles=[]\n",
    "        item={}\n",
    "        \n",
    "        for ind,i in enumerate(box):\n",
    "            #print('g')\n",
    "            #country_name = country.xpath(\".//text()\").get()\n",
    "            #title=i.xpath(\"//span[@class='a-size-base a-color-base a-text-normal']/text()\").getall()\n",
    "            title=i.xpath(\".//a[@class='a-link-normal s-underline-text s-underline-link-text s-link-style a-text-normal']/span/text()\").get()\n",
    "            link = i.xpath(\".//a[@class='a-link-normal s-underline-text s-underline-link-text s-link-style a-text-normal']/@href\").get()\n",
    "            author=i.xpath(\".//div[@class='a-row a-size-base a-color-secondary']/a[@class='a-size-base a-link-normal s-underline-text s-underline-link-text s-link-style']/text() | (.//div[@class='a-row a-size-base a-color-secondary']/a[@class='a-link-normal s-underline-text s-underline-link-text s-link-style']/text()) | (.//div[@class='a-row a-size-base a-color-secondary']/span[@class='a-size-base']/text())\").getall()\n",
    "            \n",
    "            #links.append(link)\n",
    "            #'a-link-normal s-underline-text s-underline-link-text s-link-style'\n",
    "            #titles.append(title)\n",
    "            print(title)\n",
    "            #//div[@class='a-section a-spacing-small puis-padding-left-small puis-padding-right-small']/*/*/a[@class='a-link-normal s-underline-text s-underline-link-text s-link-style a-text-normal']/@href  #print(title)\n",
    "            yield response.follow(url=link, callback=self.parse_book, meta={'ind':ind,'title':title,'author':author,'link':link})\n",
    "    \n",
    "  \n",
    "    # Getting data inside the \"link\" website\n",
    "    def parse_book(self, response):\n",
    "        #time.sleep(4)\n",
    "        # Getting country names and each row element inside the population table\n",
    "        title = response.request.meta['title']\n",
    "        ind = response.request.meta['ind']\n",
    "        link = response.request.meta['link']\n",
    "        author = response.request.meta['author']\n",
    "        #if author==[' ']:\n",
    "        price=response.xpath(\"//div[@id='buyNew_cbb']/div[@class='a-row']/div[@class='a-column a-span12 a-text-left']/span/text() | ((//a[@class='a-link-normal']/span[@class='a-color-price']/text())[1]) | (//a[@class='a-button-text']/span[@class='a-color-base']/span[@class='a-size-base a-color-price a-color-price']/text())\").get()\n",
    "        #//div[@id='buyNew_cbb']/div[@class='a-row']/div[@class='a-column a-span12 a-text-left']/span/text() | ((//a[@class='a-link-normal']/span[@class='a-color-price']/text())[1]) \n",
    "        #pages=response.xpath(\"//span[@class='a-list-item']/*[contains(text(),'pages')/text()\").get()\n",
    "        pages=response.xpath(\"//span[@class='a-list-item']/span[contains( text(),'pages')]/text()\").get()\n",
    "        language=response.xpath(\"//span[@class='a-text-bold'][contains(text(),'Language')]/following-sibling::span[1]/text()\").get()\n",
    "        publisher=response.xpath(\"//span[@class='a-text-bold'][contains(text(),'Publisher')]/following-sibling::span[1]/text()\").get()\n",
    "        dimensions=response.xpath(\"//span[@class='a-text-bold'][contains(text(),'Dimensions')]/following-sibling::span[1]/text()\").get()\n",
    "        weight=response.xpath(\"//span[@class='a-text-bold'][contains(text(),'Weight')]/following-sibling::span[1]/text()\").get()\n",
    "        avg_reviews=response.xpath(\"(//a[@class='a-popover-trigger a-declarative']/i[@class='a-icon a-icon-star a-star-5']/span[@class='a-icon-alt']/text())[1] | ((//a[@class='a-popover-trigger a-declarative']/i/span[@class='a-icon-alt'])[1]/text())\").get()\n",
    "        time.sleep(0.1)\n",
    "        star5=response.xpath(\"(//span[@class='a-size-base']/a[contains(text(),'%')])[1]/text()\").getall()\n",
    "        star4=response.xpath(\"(//span[@class='a-size-base']/a[contains(text(),'%')])[2]/text()\").getall()\n",
    "        star3=response.xpath(\"(//span[@class='a-size-base']/a[contains(text(),'%')])[3]/text()\").getall()\n",
    "        star2=response.xpath(\"(//span[@class='a-size-base']/a[contains(text(),'%')])[4]/text()\").getall()\n",
    "        star1=response.xpath(\"(//span[@class='a-size-base']/a[contains(text(),'%')])[5]/text()\").getall()\n",
    "        ISBN_13=response.xpath(\"//div[@id='isbn_feature_div']/div/div/span[contains(text(),'13')]/following-sibling::span[1]/text()\").get()\n",
    "        n_reviews=response.xpath(\"(//span[@class='a-declarative']/a[@class='a-link-normal']/span[@id='acrCustomerReviewText']/text())[1]\").get()\n",
    "        \n",
    "        #print(title)\n",
    "        #author= response.xpath(\"//span[@class='a-declarative']/a[@class='a-link-normal contributorNameID']/text()\").get()  # You can also use the whole class value  --> response.xpath('(//table[@class=\"table table-striped table-bordered table-hover table-condensed table-list\"])[1]/tbody/tr')\n",
    "            # Return data extracted\n",
    "        keys=['title','author','price','pages','avg_reviews','n_reviews','star5','star4','star3','star2','star1','dimensions','weight','language','publisher','ISBN_13','link']\n",
    "        values= [title,author,price,pages,avg_reviews,n_reviews,star5,star4,star3,star2,star1,dimensions,weight,language,publisher,ISBN_13,link]    #  {'title': title, 'author':author}\n",
    "        self.list_items.append(values)\n",
    "        item=dict(zip(keys, values))\n",
    "        print(len(self.list_items))\n",
    "        print(star5,avg_reviews,dimensions)\n",
    "        #print(title,author)\n",
    "        \n",
    "      \n",
    "        #if self.j >1:\n",
    "          #  next_page_url=f\"https://www.amazon.com/s?k=data+science&s=relevanceblender&page={self.j}&crid=2YKZLS0CJFDGI&qid=1663103507&sprefix=data+science%2Caps%2C828&ref=sr_pg_{self.j}\"\n",
    "        #else:\n",
    "            #next_page_url=self.start_urls[0]\n",
    "        #yield scrapy.Request(url=next_page_url, callback=self.parse_pagination, meta={'title':title,'author':author})\n",
    "        \n",
    "        #   def parse_pagination(self,response):\n",
    "        #title = response.request.meta['title']  \n",
    "        #author=response.request.meta['author'] \n",
    "        #print('va beeeeeneeeeeeeeeeeeeeeeeeeeeeeeeeeeeeeeeeeeeeeeeeeeeeeeeeeeeeeeeeeeeeeeeeeeeeeeeeeeeeeeeeeeeeeeeeee')\n",
    "        #if ind==\n",
    "        #print(ind)\n",
    "        \n",
    "        if ind==59:\n",
    "            time.sleep(3)\n",
    "            self.j+=1\n",
    "            next_page_url=f\"https://www.amazon.com/s?k=deep+learning&page={self.j}&crid=2HX2SCFCK032L&qid=1663460242&sprefix=deep+learnin%2Caps%2C449&ref=sr_pg_{self.j}\"\n",
    "            if next_page_url and self.j<self.n_page_to_scrape:\n",
    "                print('start_new_page')\n",
    "            \n",
    "                yield scrapy.Request(url=next_page_url, callback=self.parse)#,self.j \n",
    "            #time.sleep(10)\n",
    "         #,'authors','dates'      \n",
    "        if len(self.list_items)==(self.items_in_page): #self.j==self.n_page_to_scrape:\n",
    "            time.sleep(5)\n",
    "            print(self.list_items)\n",
    "            x=pd.DataFrame(self.list_items,columns=keys)\n",
    "            #print(x)\n",
    "            yield x.to_csv(\"outputfile2_python_deep_learning.csv\",sep=\",\")\n",
    "            #with open(\"outputfile.csv\", \"w\", newline=\"\") as f:\n",
    "                #writer = csv.DictWriter(f, ['titles','authors','dates'])\n",
    "                #writer.writeheader()           \n",
    "                #writer.writerows(self.list_items)\n",
    "                #print(self.list_items) #\n",
    "        if len(self.list_items)==359:#(self.n_page_to_scrape-2)*(self.items_in_page): #self.j==self.n_page_to_scrape:\n",
    "            #time.sleep(70)\n",
    "            #print(self.list_items)\n",
    "            y=pd.DataFrame(self.list_items,columns=keys)\n",
    "            #print(x)\n",
    "            yield y.to_csv(\"outputfile_final_deep_learning.csv\",sep=\",\")\n",
    "            #with open(\"outputfile.csv\", \"w\", newline=\"\") as f:\n",
    "                #writer = csv.DictWriter(f, ['titles','authors','dates'])\n",
    "                #writer.writeheader()           \n",
    "                #writer.writerows(self.list_items)\n",
    "                #print(self.list_items) #\n",
    "                \n",
    "#//div[@class='a-row']/a[@class='a-size-base a-link-normal s-underline-text s-underline-link-text s-link-style']/text() | ( //div[@class='a-#row']/span[@class='a-size-base']/text()\n",
    "process = CrawlerProcess({\n",
    "     #'USER_AGENT':'USER_AGENT':\"Mozilla/5.0 (Windows NT 10.0; Win64; x64) AppleWebKit/537.36 (KHTML, like Gecko) Chrome/105.0.0.0 Safari/537.36\"\n",
    "    'USER_AGENT':\"Mozilla/5.0 (Macintosh; Intel Mac OS X 10_15) AppleWebKit/605.1.15 (KHTML, like Gecko) Version/13.0.5 Safari/605.1.15\"#\n",
    "    #'USER_AGENT':'Mozilla/5.0 (compatible; MSIE 7.0; Windows NT 5.1)'\n",
    "  #'USER_AGENT':  \"Mozilla/4.0 (X11; Linux x86_64) AppleWebKit/537.36 (KHTML, like Gecko) Chrome/103.0.5060.53 Safari/537.36\",\n",
    "  #'USER_AGENT':  \"Mozilla/5.0 (Windows NT 10.0; Windows; x64) AppleWebKit/537.36 (KHTML, like Gecko) Chrome/103.0.5060.114 Safari/537.36\",\n",
    "  #'USER_AGENT':  \"Mozilla/5.0 (Macintosh; Intel Mac OS X 10_10_5) AppleWebKit/603.3.8 (KHTML, like Gecko) Version/10.1.2 Safari/603.3.8\",\n",
    "  #'USER_AGENT':  \"Mozilla/5.0 (Macintosh; Intel Mac OS X 10_15_7) AppleWebKit/605.1.15 (KHTML, like Gecko) Version/14.0 Safari/605.1.15\"\n",
    "  #'USER_AGENT':  \"Mozilla/5.0 (Macintosh; Intel Mac OS X 10_15_6) AppleWebKit/605.1.15 (KHTML, like Gecko) Version/14.0 Safari/605.1.15\"\n",
    "  #'USER_AGENT':  \"Mozilla/5.0 (Windows NT 10.0; Windows; x64) AppleWebKit/537.36 (KHTML, like Gecko) Chrome/103.0.5060.114 Safari/537.36\"\n",
    "  #'USER_AGENT':  \"Mozilla/5.0 (X11; Linux x86_64) AppleWebKit/537.36 (KHTML, like Gecko) Chrome/103.0.5060.53 Safari/537.36\"\n",
    "\n",
    "\n",
    "})\n",
    "\n",
    "process.crawl(FirstWebsiteSpider)\n",
    "process.start()\n"
   ]
  },
  {
   "cell_type": "code",
   "execution_count": 2,
   "id": "e13533af",
   "metadata": {},
   "outputs": [
    {
     "ename": "NameError",
     "evalue": "name 'response' is not defined",
     "output_type": "error",
     "traceback": [
      "\u001b[1;31m---------------------------------------------------------------------------\u001b[0m",
      "\u001b[1;31mNameError\u001b[0m                                 Traceback (most recent call last)",
      "\u001b[1;32m<ipython-input-2-38d765480056>\u001b[0m in \u001b[0;36m<module>\u001b[1;34m\u001b[0m\n\u001b[1;32m----> 1\u001b[1;33m \u001b[0mauthors\u001b[0m\u001b[1;33m,\u001b[0m\u001b[0mtitles\u001b[0m\u001b[1;33m=\u001b[0m\u001b[0mFirstWebsiteSpider\u001b[0m\u001b[1;33m.\u001b[0m\u001b[0mparse\u001b[0m\u001b[1;33m(\u001b[0m\u001b[0mscrapy\u001b[0m\u001b[1;33m.\u001b[0m\u001b[0mSpider\u001b[0m\u001b[1;33m,\u001b[0m\u001b[0mresponse\u001b[0m\u001b[1;33m)\u001b[0m\u001b[1;33m\u001b[0m\u001b[1;33m\u001b[0m\u001b[0m\n\u001b[0m",
      "\u001b[1;31mNameError\u001b[0m: name 'response' is not defined"
     ]
    }
   ],
   "source": [
    "authors,titles=FirstWebsiteSpider.parse(scrapy.Spider,response)"
   ]
  },
  {
   "cell_type": "code",
   "execution_count": null,
   "id": "08551c28",
   "metadata": {},
   "outputs": [],
   "source": [
    "@href='/s?k=data+science&amp;i=stripbooks-intl-ship&amp;page=3&amp;crid=20YNDMUXOLCJ6&amp;qid=1663030048&amp;sprefix=data+science%2Cstripbooks-intl-ship%2C314&amp;ref=sr_pg_3' "
   ]
  },
  {
   "cell_type": "code",
   "execution_count": 2,
   "id": "004de66d",
   "metadata": {},
   "outputs": [],
   "source": [
    "j=1\n",
    "p=f'/s?k=data+science&amp;i=stripbooks-intl-ship&amp;page={j}&amp;crid=20YNDMUXOLCJ6&amp;qid=1663030048&amp;sprefix=data+science%2Cstripbooks-intl-ship%2C314&amp;ref=sr_pg_{j}'"
   ]
  },
  {
   "cell_type": "code",
   "execution_count": 3,
   "id": "e413f5a4",
   "metadata": {},
   "outputs": [
    {
     "data": {
      "text/plain": [
       "'/s?k=data+science&amp;i=stripbooks-intl-ship&amp;page=1&amp;crid=20YNDMUXOLCJ6&amp;qid=1663030048&amp;sprefix=data+science%2Cstripbooks-intl-ship%2C314&amp;ref=sr_pg_1'"
      ]
     },
     "execution_count": 3,
     "metadata": {},
     "output_type": "execute_result"
    }
   ],
   "source": [
    "p"
   ]
  },
  {
   "cell_type": "code",
   "execution_count": null,
   "id": "25e7e5b4",
   "metadata": {},
   "outputs": [],
   "source": [
    "<a href=>3</a>"
   ]
  },
  {
   "cell_type": "code",
   "execution_count": 3,
   "id": "35f1fcab",
   "metadata": {},
   "outputs": [
    {
     "data": {
      "text/plain": [
       "'rit0'"
      ]
     },
     "execution_count": 3,
     "metadata": {},
     "output_type": "execute_result"
    }
   ],
   "source": [
    "u=0\n",
    "a=f'rit{u}'\n",
    "a"
   ]
  },
  {
   "cell_type": "code",
   "execution_count": 4,
   "id": "7acad823",
   "metadata": {},
   "outputs": [
    {
     "data": {
      "text/plain": [
       "'rit0'"
      ]
     },
     "execution_count": 4,
     "metadata": {},
     "output_type": "execute_result"
    }
   ],
   "source": [
    "u=1\n",
    "a"
   ]
  },
  {
   "cell_type": "code",
   "execution_count": 2,
   "id": "40f5e1b3",
   "metadata": {},
   "outputs": [],
   "source": []
  },
  {
   "cell_type": "code",
   "execution_count": 3,
   "id": "2c2ed70b",
   "metadata": {},
   "outputs": [
    {
     "data": {
      "text/plain": [
       "[3]"
      ]
     },
     "execution_count": 3,
     "metadata": {},
     "output_type": "execute_result"
    }
   ],
   "source": []
  },
  {
   "cell_type": "code",
   "execution_count": null,
   "id": "c9b908ea",
   "metadata": {},
   "outputs": [],
   "source": [
    "#print(item)    \n",
    "        self.j+=1\n",
    "        print(self.j)\n",
    "        next_page_url=f\"https://www.amazon.com/s?k=data+science&s=relevanceblender&page={self.j}&crid=2YKZLS0CJFDGI&qid=1663103507&sprefix=data+science%2Caps%2C828&ref=sr_pg_{self.j}\"\n",
    "        if next_page_url and self.j<self.n_page_to_scrape:\n",
    "            print('non va bene')\n",
    "            yield response.follow(url=next_page_url, callback=self.parse)#,self.j  \n",
    "         #,'authors','dates'\n",
    "        if self.j==self.n_page_to_scrape:\n",
    "            #print(self.list_items)\n",
    "            x=pd.DataFrame(self.list_items,columns=['title','author'])\n",
    "            #print(x)\n",
    "            yield x.to_csv(\"outputfile2.csv\",sep=\",\")\n",
    "        #yield response.follow(url=next_page_url, callback=self.parse_pagination, meta=item )"
   ]
  }
 ],
 "metadata": {
  "kernelspec": {
   "display_name": "Python 3",
   "language": "python",
   "name": "python3"
  },
  "language_info": {
   "codemirror_mode": {
    "name": "ipython",
    "version": 3
   },
   "file_extension": ".py",
   "mimetype": "text/x-python",
   "name": "python",
   "nbconvert_exporter": "python",
   "pygments_lexer": "ipython3",
   "version": "3.9.5"
  }
 },
 "nbformat": 4,
 "nbformat_minor": 5
}
