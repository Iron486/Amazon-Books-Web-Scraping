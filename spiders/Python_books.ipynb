{
 "cells": [
  {
   "cell_type": "code",
   "execution_count": 1,
   "id": "d3d3b34f",
   "metadata": {},
   "outputs": [
    {
     "name": "stdout",
     "output_type": "stream",
     "text": [
      "Collecting scrapy-fake-useragent\n",
      "  Downloading scrapy_fake_useragent-1.4.4-py2.py3-none-any.whl (6.8 kB)\n",
      "Collecting faker\n",
      "  Downloading Faker-14.2.0-py3-none-any.whl (1.6 MB)\n",
      "Collecting fake-useragent\n",
      "  Downloading fake-useragent-0.1.11.tar.gz (13 kB)\n",
      "Requirement already satisfied: python-dateutil>=2.4 in c:\\users\\diego\\anaconda3\\envs\\env1_cloned_tf\\lib\\site-packages (from faker->scrapy-fake-useragent) (2.8.1)\n",
      "Requirement already satisfied: six>=1.5 in c:\\users\\diego\\anaconda3\\envs\\env1_cloned_tf\\lib\\site-packages (from python-dateutil>=2.4->faker->scrapy-fake-useragent) (1.16.0)\n",
      "Building wheels for collected packages: fake-useragent\n",
      "  Building wheel for fake-useragent (setup.py): started\n",
      "  Building wheel for fake-useragent (setup.py): finished with status 'done'\n",
      "  Created wheel for fake-useragent: filename=fake_useragent-0.1.11-py3-none-any.whl size=13489 sha256=ce4d127febb5e2ab87b4e7f13c1d9cec99ced67420e5d0585f5ba4ff154d3046\n",
      "  Stored in directory: c:\\users\\diego\\appdata\\local\\pip\\cache\\wheels\\ae\\e7\\76\\7dd44644d065268ab0e1b4fa2e802fa4bb0157717b7d6c6d92\n",
      "Successfully built fake-useragent\n",
      "Installing collected packages: faker, fake-useragent, scrapy-fake-useragent\n",
      "Successfully installed fake-useragent-0.1.11 faker-14.2.0 scrapy-fake-useragent-1.4.4\n"
     ]
    }
   ],
   "source": [
    "#!pip install scrapy_proxies\n",
    "!pip install scrapy-fake-useragent"
   ]
  },
  {
   "cell_type": "code",
   "execution_count": 1,
   "id": "4502b396",
   "metadata": {},
   "outputs": [
    {
     "name": "stderr",
     "output_type": "stream",
     "text": [
      "2022-09-18 02:01:00 [scrapy.utils.log] INFO: Scrapy 2.6.2 started (bot: scrapybot)\n",
      "2022-09-18 02:01:00 [scrapy.utils.log] INFO: Versions: lxml 4.8.0.0, libxml2 2.9.12, cssselect 1.1.0, parsel 1.6.0, w3lib 1.22.0, Twisted 22.4.0, Python 3.9.5 (default, May 18 2021, 14:42:02) [MSC v.1916 64 bit (AMD64)], pyOpenSSL 20.0.1 (OpenSSL 1.1.1q  5 Jul 2022), cryptography 3.4.7, Platform Windows-10-10.0.22000-SP0\n",
      "2022-09-18 02:01:00 [scrapy.crawler] INFO: Overridden settings:\n",
      "{'USER_AGENT': 'Mozilla/5.0 (compatible; MSIE 7.0; Windows NT 5.1)'}\n",
      "2022-09-18 02:01:00 [scrapy.utils.log] DEBUG: Using reactor: twisted.internet.selectreactor.SelectReactor\n",
      "2022-09-18 02:01:00 [scrapy.extensions.telnet] INFO: Telnet Password: 535d4442f6f3a24c\n",
      "2022-09-18 02:01:00 [scrapy.middleware] INFO: Enabled extensions:\n",
      "['scrapy.extensions.corestats.CoreStats',\n",
      " 'scrapy.extensions.telnet.TelnetConsole',\n",
      " 'scrapy.extensions.logstats.LogStats']\n",
      "2022-09-18 02:01:01 [scrapy.middleware] INFO: Enabled downloader middlewares:\n",
      "['scrapy.downloadermiddlewares.httpauth.HttpAuthMiddleware',\n",
      " 'scrapy.downloadermiddlewares.downloadtimeout.DownloadTimeoutMiddleware',\n",
      " 'scrapy.downloadermiddlewares.defaultheaders.DefaultHeadersMiddleware',\n",
      " 'scrapy.downloadermiddlewares.useragent.UserAgentMiddleware',\n",
      " 'scrapy.downloadermiddlewares.retry.RetryMiddleware',\n",
      " 'scrapy.downloadermiddlewares.redirect.MetaRefreshMiddleware',\n",
      " 'scrapy.downloadermiddlewares.httpcompression.HttpCompressionMiddleware',\n",
      " 'scrapy.downloadermiddlewares.redirect.RedirectMiddleware',\n",
      " 'scrapy.downloadermiddlewares.cookies.CookiesMiddleware',\n",
      " 'scrapy.downloadermiddlewares.httpproxy.HttpProxyMiddleware',\n",
      " 'scrapy.downloadermiddlewares.stats.DownloaderStats']\n",
      "2022-09-18 02:01:01 [scrapy.middleware] INFO: Enabled spider middlewares:\n",
      "['scrapy.spidermiddlewares.httperror.HttpErrorMiddleware',\n",
      " 'scrapy.spidermiddlewares.offsite.OffsiteMiddleware',\n",
      " 'scrapy.spidermiddlewares.referer.RefererMiddleware',\n",
      " 'scrapy.spidermiddlewares.urllength.UrlLengthMiddleware',\n",
      " 'scrapy.spidermiddlewares.depth.DepthMiddleware']\n",
      "2022-09-18 02:01:01 [scrapy.middleware] INFO: Enabled item pipelines:\n",
      "[]\n",
      "2022-09-18 02:01:01 [scrapy.core.engine] INFO: Spider opened\n",
      "2022-09-18 02:01:01 [scrapy.extensions.logstats] INFO: Crawled 0 pages (at 0 pages/min), scraped 0 items (at 0 items/min)\n",
      "2022-09-18 02:01:01 [scrapy.extensions.telnet] INFO: Telnet console listening on 127.0.0.1:6024\n",
      "2022-09-18 02:01:03 [filelock] DEBUG: Attempting to acquire lock 2257688147472 on C:\\Users\\diego\\anaconda3\\envs\\env1_cloned_tf\\lib\\site-packages\\tldextract\\.suffix_cache/publicsuffix.org-tlds\\de84b5ca2167d4c83e38fb162f2e8738.tldextract.json.lock\n",
      "2022-09-18 02:01:03 [filelock] DEBUG: Lock 2257688147472 acquired on C:\\Users\\diego\\anaconda3\\envs\\env1_cloned_tf\\lib\\site-packages\\tldextract\\.suffix_cache/publicsuffix.org-tlds\\de84b5ca2167d4c83e38fb162f2e8738.tldextract.json.lock\n",
      "2022-09-18 02:01:03 [filelock] DEBUG: Attempting to release lock 2257688147472 on C:\\Users\\diego\\anaconda3\\envs\\env1_cloned_tf\\lib\\site-packages\\tldextract\\.suffix_cache/publicsuffix.org-tlds\\de84b5ca2167d4c83e38fb162f2e8738.tldextract.json.lock\n",
      "2022-09-18 02:01:03 [filelock] DEBUG: Lock 2257688147472 released on C:\\Users\\diego\\anaconda3\\envs\\env1_cloned_tf\\lib\\site-packages\\tldextract\\.suffix_cache/publicsuffix.org-tlds\\de84b5ca2167d4c83e38fb162f2e8738.tldextract.json.lock\n",
      "2022-09-18 02:01:03 [scrapy.core.engine] DEBUG: Crawled (200) <GET https://www.amazon.com/s?k=python&ref=nb_sb_noss> (referer: None)\n"
     ]
    },
    {
     "name": "stdout",
     "output_type": "stream",
     "text": [
      "1\n",
      "Python Crash Course, 2nd Edition: A Hands-On, Project-Based Introduction to Programming\n",
      "Python Programming for Beginners: The #1 Python Programming Crash Course for Beginners to Learn Python Coding Well & Fast (with Hands-On Exercises)\n",
      "Python Distilled (Developer's Library)\n",
      "Python Programming for Beginners: The Ultimate Crash Course to Learn Python in 7 Days with Step-by-Step Guidance and Hands-On Exercises\n",
      "Python Crash Course, 2nd Edition: A Hands-On, Project-Based Introduction to Programming\n",
      "Learning Python, 5th Edition\n",
      "Automate the Boring Stuff with Python, 2nd Edition: Practical Programming for Total Beginners\n",
      "Python Programming Language\n",
      "Python Programming for Beginners: The #1 Python Programming Crash Course for Beginners to Learn Python Coding Well & Fast (with Hands-On Exercises)\n",
      "Object-Oriented Python: Master OOP by Building Games and GUIs\n",
      "Python Programming for Beginners: The Ultimate Crash Course to Learn Python in 7 Days with Step-by-Step Guidance and Hands-On Exercises\n",
      "Python for Data Analysis: Data Wrangling with pandas, NumPy, and Jupyter\n",
      "Introducing Python: Modern Computing in Simple Packages\n",
      "The Big Book of Small Python Projects: 81 Easy Practice Programs\n",
      "Python\n",
      "Python for Everybody: Exploring Data in Python 3\n",
      "Python Programming For Beginners: The Most Updated Bible to Master Python From Scratch in Less Than 7 Minutes a Day | Learn How to Program With Hands-On Exercises\n",
      "Python and Algorithmic Thinking for the Complete Beginner (2nd Edition): Learn to Think Like a Programmer\n",
      "Python for Tweens and Teens - 2nd Edition (Full Color Version): Learn Computational and Algorithmic Thinking\n",
      "Data Visualization in Python with Pandas and Matplotlib\n",
      "Memorable Python: Learn Python Faster\n",
      "Python for Data Analysis: Data Wrangling with Pandas, NumPy, and IPython\n",
      "Beyond the Basic Stuff with Python: Best Practices for Writing Clean Code\n",
      "Python (2nd Edition): Learn Python in One Day and Learn It Well. Python for Beginners with Hands-on Project. (Learn Coding Fast with Hands-On Project Book 1)\n",
      "Fluent Python: Clear, Concise, and Effective Programming\n",
      "Python Programming For Beginners: The Most Updated Bible to Master Python From Scratch in Less Than 7 Minutes a Day | Learn How to Program With Hands-On Exercises\n",
      "Python 3: The Comprehensive Guide to Hands-On Python Programming\n",
      "The Python Bible 7 in 1: Volumes One To Seven (Beginner, Intermediate, Data Science, Machine Learning, Finance, Neural Networks, Computer Vision)\n",
      "Python for Data Science: A Hands-On Introduction\n",
      "Python All-in-One For Dummies (For Dummies (Computer/Tech))\n",
      "Robust Python: Write Clean and Maintainable Code\n",
      "Learn Python Programming: An in-depth introduction to the fundamentals of Python, 3rd Edition\n",
      "Python Coding for Kids Ages 10+: A Descriptive and Fun Guide to introduce Python Programming\n",
      "Learn Coding Basics in Hours with Python\n",
      "Python Programming: 3 Books in 1: The Complete Beginner’s Guide to Learning the Most Popular Programming Language\n",
      "Python GUI Programming with Tkinter: Design and build functional and user-friendly GUI applications, 2nd Edition\n",
      "Python Programming for Beginners: 2 Books in 1 - The Ultimate Step-by-Step Guide To Learn Python Programming Quickly with Practical Exercises (Computer Programming)\n",
      "Python Object-Oriented Programming: Build robust and maintainable object-oriented Python applications and libraries, 4th Edition\n",
      "Think Python: How to Think Like a Computer Scientist\n",
      "Python for Finance and Algorithmic trading (2nd edition): Machine Learning, Deep Learning, Time series Analysis, Risk and Portfolio Management for MetaTrader™5 Live Trading\n",
      "Machine Learning: 4 Books in 1: A Complete Overview for Beginners to Master the Basics of Python Programming and Understand How to Build Artificial Intelligence Through Data Science\n",
      "Boa Vs. Python\n",
      "Python for Beginners: 2 Books in 1: The Perfect Beginner's Guide to Learning How to Program with Python with a Crash Course + Workbook\n",
      "The Cyberwarrior Handbook: A Beginner's Guide to Hacking from Recon to Exploitation\n",
      "Deep Learning with Python\n",
      "Python - The Bible: 3 Manuscripts in 1 Book: Python Programming for Beginners - Python Programming for Intermediates - Python Programming for Advanced\n",
      "Developing Spark Applications with Python\n",
      "Python for Beginners: A Crash Course Guide to Learn Python in 1 Week\n",
      "Python Machine Learning Project\n",
      "Practical Statistics for Data Scientists: 50+ Essential Concepts Using R and Python\n",
      "PYTHON: Learn Coding Programs with Python Programming and Master Data Analysis & Analytics, Data Science and Machine Learning with the Complete Crash Course for Beginners - 5 Books in 1\n",
      "Mathematical Logic through Python\n",
      "Monty Python and the Holy Grail [Blu-ray]\n",
      "Complete Python & Data Science Online Course for Absolute Beginners\n",
      "Project Python Turtle Programming (Coding Supergirls Book 2)\n",
      "PYTHON: PROGRAMMING: A BEGINNER’S GUIDE TO LEARN PYTHON IN 7 DAYS\n",
      "Python Basics: A Practical Introduction to Python 3\n",
      "Python Programming: An Introduction to Computer Science, 3rd Ed.\n",
      "Monty Python And The Holy Grail\n",
      "Python 3 MCQ - Multiple Choice Questions n Answers for Tests, Quizzes - Python Students & Teachers: Python3 Programming Jobs QA (Python 3 Beginners Guide)\n"
     ]
    },
    {
     "name": "stderr",
     "output_type": "stream",
     "text": [
      "2022-09-18 02:01:03 [scrapy.downloadermiddlewares.redirect] DEBUG: Redirecting (302) to <GET https://www.amazon.com/Python-Crash-Course-2nd-Edition/dp/1593279280/ref=sr_1_1_sspa?keywords=python&qid=1663459261&sr=8-1-spons&psc=1&spLa=ZW5jcnlwdGVkUXVhbGlmaWVyPUExUjMwN0Q1SkRWMldTJmVuY3J5cHRlZElkPUEwOTIzMjc2M0FZRjcwTkpUMzg0RyZlbmNyeXB0ZWRBZElkPUEwODMxNTAzSFBFQjg1R1hRWkUwJndpZGdldE5hbWU9c3BfYXRmJmFjdGlvbj1jbGlja1JlZGlyZWN0JmRvTm90TG9nQ2xpY2s9dHJ1ZQ==> from <GET https://www.amazon.com/gp/slredirect/picassoRedirect.html/ref=pa_sp_atf_aps_sr_pg1_1?ie=UTF8&adId=A0831503HPEB85GXQZE0&url=%2FPython-Crash-Course-2nd-Edition%2Fdp%2F1593279280%2Fref%3Dsr_1_1_sspa%3Fkeywords%3Dpython%26qid%3D1663459261%26sr%3D8-1-spons%26psc%3D1&qualifier=1663459261&id=8731786596037934&widgetName=sp_atf>\n",
      "2022-09-18 02:01:03 [scrapy.downloadermiddlewares.redirect] DEBUG: Redirecting (302) to <GET https://www.amazon.com/Python-Programming-Beginners-Step-Hands/dp/B0B3S3RFQT/ref=sr_1_4_sspa?keywords=python&qid=1663459261&sr=8-4-spons&psc=1&spLa=ZW5jcnlwdGVkUXVhbGlmaWVyPUExUjMwN0Q1SkRWMldTJmVuY3J5cHRlZElkPUEwOTIzMjc2M0FZRjcwTkpUMzg0RyZlbmNyeXB0ZWRBZElkPUEwMDkwMjQyMzk5Uzk1UUREWkg1TiZ3aWRnZXROYW1lPXNwX2F0ZiZhY3Rpb249Y2xpY2tSZWRpcmVjdCZkb05vdExvZ0NsaWNrPXRydWU=> from <GET https://www.amazon.com/gp/slredirect/picassoRedirect.html/ref=pa_sp_atf_aps_sr_pg1_1?ie=UTF8&adId=A0090242399S95QDDZH5N&url=%2FPython-Programming-Beginners-Step-Hands%2Fdp%2FB0B3S3RFQT%2Fref%3Dsr_1_4_sspa%3Fkeywords%3Dpython%26qid%3D1663459261%26sr%3D8-4-spons%26psc%3D1&qualifier=1663459261&id=8731786596037934&widgetName=sp_atf>\n",
      "2022-09-18 02:01:03 [scrapy.downloadermiddlewares.redirect] DEBUG: Redirecting (302) to <GET https://www.amazon.com/Python-Programming-Beginners-Hands-Exercises/dp/B09TYJY819/ref=sr_1_2_sspa?keywords=python&qid=1663459261&sr=8-2-spons&psc=1&spLa=ZW5jcnlwdGVkUXVhbGlmaWVyPUExUjMwN0Q1SkRWMldTJmVuY3J5cHRlZElkPUEwOTIzMjc2M0FZRjcwTkpUMzg0RyZlbmNyeXB0ZWRBZElkPUEwNzY1NTA3M1BHNjhWRkFBNDYxSyZ3aWRnZXROYW1lPXNwX2F0ZiZhY3Rpb249Y2xpY2tSZWRpcmVjdCZkb05vdExvZ0NsaWNrPXRydWU=> from <GET https://www.amazon.com/gp/slredirect/picassoRedirect.html/ref=pa_sp_atf_aps_sr_pg1_1?ie=UTF8&adId=A07655073PG68VFAA461K&url=%2FPython-Programming-Beginners-Hands-Exercises%2Fdp%2FB09TYJY819%2Fref%3Dsr_1_2_sspa%3Fkeywords%3Dpython%26qid%3D1663459261%26sr%3D8-2-spons%26psc%3D1&qualifier=1663459261&id=8731786596037934&widgetName=sp_atf>\n",
      "2022-09-18 02:01:03 [scrapy.downloadermiddlewares.redirect] DEBUG: Redirecting (302) to <GET https://www.amazon.com/Python-Essential-Reference-Developers-Library/dp/0134173279/ref=sr_1_3_sspa?keywords=python&qid=1663459261&sr=8-3-spons&psc=1&spLa=ZW5jcnlwdGVkUXVhbGlmaWVyPUExUjMwN0Q1SkRWMldTJmVuY3J5cHRlZElkPUEwOTIzMjc2M0FZRjcwTkpUMzg0RyZlbmNyeXB0ZWRBZElkPUEwNzk2NzY0MlpOTlhQNENXN000SyZ3aWRnZXROYW1lPXNwX2F0ZiZhY3Rpb249Y2xpY2tSZWRpcmVjdCZkb05vdExvZ0NsaWNrPXRydWU=> from <GET https://www.amazon.com/gp/slredirect/picassoRedirect.html/ref=pa_sp_atf_aps_sr_pg1_1?ie=UTF8&adId=A07967642ZNNXP4CW7M4K&url=%2FPython-Essential-Reference-Developers-Library%2Fdp%2F0134173279%2Fref%3Dsr_1_3_sspa%3Fkeywords%3Dpython%26qid%3D1663459261%26sr%3D8-3-spons%26psc%3D1&qualifier=1663459261&id=8731786596037934&widgetName=sp_atf>\n",
      "2022-09-18 02:01:04 [scrapy.downloadermiddlewares.redirect] DEBUG: Redirecting (302) to <GET https://www.amazon.com/Data-Visualization-Python-Pandas-Matplotlib/dp/B0972TFYN8/ref=sr_1_20_sspa?keywords=python&qid=1663459261&sr=8-20-spons&psc=1&spLa=ZW5jcnlwdGVkUXVhbGlmaWVyPUExUjMwN0Q1SkRWMldTJmVuY3J5cHRlZElkPUEwOTIzMjc2M0FZRjcwTkpUMzg0RyZlbmNyeXB0ZWRBZElkPUEwNDcxNDk1MjY4NzdWN1FPNk1ONyZ3aWRnZXROYW1lPXNwX210ZiZhY3Rpb249Y2xpY2tSZWRpcmVjdCZkb05vdExvZ0NsaWNrPXRydWU=> from <GET https://www.amazon.com/gp/slredirect/picassoRedirect.html/ref=pa_sp_mtf_aps_sr_pg1_1?ie=UTF8&adId=A047149526877V7QO6MN7&url=%2FData-Visualization-Python-Pandas-Matplotlib%2Fdp%2FB0972TFYN8%2Fref%3Dsr_1_20_sspa%3Fkeywords%3Dpython%26qid%3D1663459261%26sr%3D8-20-spons%26psc%3D1&qualifier=1663459261&id=8731786596037934&widgetName=sp_mtf>\n",
      "2022-09-18 02:01:04 [scrapy.downloadermiddlewares.redirect] DEBUG: Redirecting (302) to <GET https://www.amazon.com/Python-Tweens-Teens-Computational-Algorithmic/dp/B09TMT49SD/ref=sr_1_19_sspa?keywords=python&qid=1663459261&sr=8-19-spons&psc=1&spLa=ZW5jcnlwdGVkUXVhbGlmaWVyPUExUjMwN0Q1SkRWMldTJmVuY3J5cHRlZElkPUEwOTIzMjc2M0FZRjcwTkpUMzg0RyZlbmNyeXB0ZWRBZElkPUEwODAyNjU5MUVZUU9aSERUQUhNOCZ3aWRnZXROYW1lPXNwX210ZiZhY3Rpb249Y2xpY2tSZWRpcmVjdCZkb05vdExvZ0NsaWNrPXRydWU=> from <GET https://www.amazon.com/gp/slredirect/picassoRedirect.html/ref=pa_sp_mtf_aps_sr_pg1_1?ie=UTF8&adId=A08026591EYQOZHDTAHM8&url=%2FPython-Tweens-Teens-Computational-Algorithmic%2Fdp%2FB09TMT49SD%2Fref%3Dsr_1_19_sspa%3Fkeywords%3Dpython%26qid%3D1663459261%26sr%3D8-19-spons%26psc%3D1&qualifier=1663459261&id=8731786596037934&widgetName=sp_mtf>\n",
      "2022-09-18 02:01:05 [scrapy.downloadermiddlewares.redirect] DEBUG: Redirecting (302) to <GET https://www.amazon.com/Python-Algorithmic-Thinking-Complete-Beginner/dp/1099184878/ref=sr_1_18_sspa?keywords=python&qid=1663459261&sr=8-18-spons&psc=1&spLa=ZW5jcnlwdGVkUXVhbGlmaWVyPUExUjMwN0Q1SkRWMldTJmVuY3J5cHRlZElkPUEwOTIzMjc2M0FZRjcwTkpUMzg0RyZlbmNyeXB0ZWRBZElkPUEwNzU0Mzc1M1FKMFYyMEdXVFU1VyZ3aWRnZXROYW1lPXNwX210ZiZhY3Rpb249Y2xpY2tSZWRpcmVjdCZkb05vdExvZ0NsaWNrPXRydWU=> from <GET https://www.amazon.com/gp/slredirect/picassoRedirect.html/ref=pa_sp_mtf_aps_sr_pg1_1?ie=UTF8&adId=A07543753QJ0V20GWTU5W&url=%2FPython-Algorithmic-Thinking-Complete-Beginner%2Fdp%2F1099184878%2Fref%3Dsr_1_18_sspa%3Fkeywords%3Dpython%26qid%3D1663459261%26sr%3D8-18-spons%26psc%3D1&qualifier=1663459261&id=8731786596037934&widgetName=sp_mtf>\n",
      "2022-09-18 02:01:05 [scrapy.downloadermiddlewares.redirect] DEBUG: Redirecting (302) to <GET https://www.amazon.com/Python-Programming-Beginners-Hands-Exercises/dp/B0BCCYXZMR/ref=sr_1_17_sspa?keywords=python&qid=1663459261&sr=8-17-spons&psc=1&spLa=ZW5jcnlwdGVkUXVhbGlmaWVyPUExUjMwN0Q1SkRWMldTJmVuY3J5cHRlZElkPUEwOTIzMjc2M0FZRjcwTkpUMzg0RyZlbmNyeXB0ZWRBZElkPUEwMTUwODY5UkhGNUZQN0tEMTBVJndpZGdldE5hbWU9c3BfbXRmJmFjdGlvbj1jbGlja1JlZGlyZWN0JmRvTm90TG9nQ2xpY2s9dHJ1ZQ==> from <GET https://www.amazon.com/gp/slredirect/picassoRedirect.html/ref=pa_sp_mtf_aps_sr_pg1_1?ie=UTF8&adId=A0150869RHF5FP7KD10U&url=%2FPython-Programming-Beginners-Hands-Exercises%2Fdp%2FB0BCCYXZMR%2Fref%3Dsr_1_17_sspa%3Fkeywords%3Dpython%26qid%3D1663459261%26sr%3D8-17-spons%26psc%3D1&qualifier=1663459261&id=8731786596037934&widgetName=sp_mtf>\n",
      "2022-09-18 02:01:05 [scrapy.core.engine] DEBUG: Crawled (200) <GET https://www.amazon.com/Python-Programming-Beginners-Hands-Exercises-ebook/dp/B0BCL3D56T/ref=sr_1_26?keywords=python&qid=1663459261&sr=8-26> (referer: https://www.amazon.com/s?k=python&ref=nb_sb_noss)\n",
      "2022-09-18 02:01:05 [scrapy.core.engine] DEBUG: Crawled (200) <GET https://www.amazon.com/Python-Data-Analysis-Wrangling-IPython/dp/1491957662/ref=sr_1_22?keywords=python&qid=1663459261&sr=8-22> (referer: https://www.amazon.com/s?k=python&ref=nb_sb_noss)\n"
     ]
    },
    {
     "name": "stdout",
     "output_type": "stream",
     "text": [
      "1\n",
      "['\\n            \\n              97%\\n            \\n          '] 5.0 out of 5 stars None\n"
     ]
    },
    {
     "name": "stderr",
     "output_type": "stream",
     "text": [
      "2022-09-18 02:01:06 [scrapy.core.engine] DEBUG: Crawled (200) <GET https://www.amazon.com/Memorable-Python-Learn-Faster-ebook/dp/B07ZXJKKSN/ref=sr_1_21?keywords=python&qid=1663459261&sr=8-21> (referer: https://www.amazon.com/s?k=python&ref=nb_sb_noss)\n",
      "2022-09-18 02:01:06 [scrapy.core.engine] DEBUG: Crawled (200) <GET https://www.amazon.com/Python-Beyond-Basics-Al-Sweigart/dp/1593279663/ref=sr_1_23?keywords=python&qid=1663459261&sr=8-23> (referer: https://www.amazon.com/s?k=python&ref=nb_sb_noss)\n",
      "2022-09-18 02:01:06 [scrapy.core.engine] DEBUG: Crawled (200) <GET https://www.amazon.com/Python-2nd-Beginners-Hands-Project-ebook/dp/B071Z2Q6TQ/ref=sr_1_24?keywords=python&qid=1663459261&sr=8-24> (referer: https://www.amazon.com/s?k=python&ref=nb_sb_noss)\n"
     ]
    },
    {
     "name": "stdout",
     "output_type": "stream",
     "text": [
      "2\n",
      "['\\n            \\n              76%\\n            \\n          '] 4.6 out of 5 stars 7 x 1.11 x 9.19 inches\n"
     ]
    },
    {
     "name": "stderr",
     "output_type": "stream",
     "text": [
      "2022-09-18 02:01:06 [scrapy.core.engine] DEBUG: Crawled (200) <GET https://www.amazon.com/Fluent-Python-Concise-Effective-Programming/dp/1492056359/ref=sr_1_25?keywords=python&qid=1663459261&sr=8-25> (referer: https://www.amazon.com/s?k=python&ref=nb_sb_noss)\n",
      "2022-09-18 02:01:06 [scrapy.core.engine] DEBUG: Crawled (200) <GET https://www.amazon.com/Python-Crash-Course-2nd-Edition/dp/1593279280/ref=sr_1_5?keywords=python&qid=1663459261&sr=8-5> (referer: https://www.amazon.com/s?k=python&ref=nb_sb_noss)\n"
     ]
    },
    {
     "name": "stdout",
     "output_type": "stream",
     "text": [
      "3\n",
      "['\\n            \\n              50%\\n            \\n          '] 4.5 out of 5 stars None\n",
      "4\n",
      "['\\n            \\n              80%\\n            \\n          '] 4.7 out of 5 stars 7 x 0.94 x 9.25 inches\n",
      "5\n",
      "['\\n            \\n              69%\\n            \\n          '] 4.5 out of 5 stars None\n",
      "6\n",
      "['\\n            \\n              85%\\n            \\n          '] 4.7 out of 5 stars 7 x 2 x 9.25 inches\n",
      "7\n",
      "['\\n            \\n              81%\\n            \\n          '] 4.7 out of 5 stars 7 x 1.2 x 9.25 inches\n"
     ]
    },
    {
     "name": "stderr",
     "output_type": "stream",
     "text": [
      "2022-09-18 02:01:08 [scrapy.core.engine] DEBUG: Crawled (200) <GET https://www.amazon.com/Python-Crash-Course-2nd-Edition/dp/1593279280/ref=sr_1_1_sspa?keywords=python&qid=1663459261&sr=8-1-spons&psc=1&spLa=ZW5jcnlwdGVkUXVhbGlmaWVyPUExUjMwN0Q1SkRWMldTJmVuY3J5cHRlZElkPUEwOTIzMjc2M0FZRjcwTkpUMzg0RyZlbmNyeXB0ZWRBZElkPUEwODMxNTAzSFBFQjg1R1hRWkUwJndpZGdldE5hbWU9c3BfYXRmJmFjdGlvbj1jbGlja1JlZGlyZWN0JmRvTm90TG9nQ2xpY2s9dHJ1ZQ==> (referer: https://www.amazon.com/s?k=python&ref=nb_sb_noss)\n",
      "2022-09-18 02:01:08 [scrapy.core.engine] DEBUG: Crawled (200) <GET https://www.amazon.com/Python-Programming-Beginners-Step-Hands/dp/B0B3S3RFQT/ref=sr_1_4_sspa?keywords=python&qid=1663459261&sr=8-4-spons&psc=1&spLa=ZW5jcnlwdGVkUXVhbGlmaWVyPUExUjMwN0Q1SkRWMldTJmVuY3J5cHRlZElkPUEwOTIzMjc2M0FZRjcwTkpUMzg0RyZlbmNyeXB0ZWRBZElkPUEwMDkwMjQyMzk5Uzk1UUREWkg1TiZ3aWRnZXROYW1lPXNwX2F0ZiZhY3Rpb249Y2xpY2tSZWRpcmVjdCZkb05vdExvZ0NsaWNrPXRydWU=> (referer: https://www.amazon.com/s?k=python&ref=nb_sb_noss)\n",
      "2022-09-18 02:01:08 [scrapy.core.engine] DEBUG: Crawled (200) <GET https://www.amazon.com/Python-Everybody-Exploring-Data/dp/1530051126/ref=sr_1_16?keywords=python&qid=1663459261&sr=8-16> (referer: https://www.amazon.com/s?k=python&ref=nb_sb_noss)\n",
      "2022-09-18 02:01:08 [scrapy.core.engine] DEBUG: Crawled (200) <GET https://www.amazon.com/Python-Programming-Beginners-Hands-Exercises/dp/B09TYJY819/ref=sr_1_2_sspa?keywords=python&qid=1663459261&sr=8-2-spons&psc=1&spLa=ZW5jcnlwdGVkUXVhbGlmaWVyPUExUjMwN0Q1SkRWMldTJmVuY3J5cHRlZElkPUEwOTIzMjc2M0FZRjcwTkpUMzg0RyZlbmNyeXB0ZWRBZElkPUEwNzY1NTA3M1BHNjhWRkFBNDYxSyZ3aWRnZXROYW1lPXNwX2F0ZiZhY3Rpb249Y2xpY2tSZWRpcmVjdCZkb05vdExvZ0NsaWNrPXRydWU=> (referer: https://www.amazon.com/s?k=python&ref=nb_sb_noss)\n",
      "2022-09-18 02:01:08 [scrapy.core.engine] DEBUG: Crawled (200) <GET https://www.amazon.com/Python-Essential-Reference-Developers-Library/dp/0134173279/ref=sr_1_3_sspa?keywords=python&qid=1663459261&sr=8-3-spons&psc=1&spLa=ZW5jcnlwdGVkUXVhbGlmaWVyPUExUjMwN0Q1SkRWMldTJmVuY3J5cHRlZElkPUEwOTIzMjc2M0FZRjcwTkpUMzg0RyZlbmNyeXB0ZWRBZElkPUEwNzk2NzY0MlpOTlhQNENXN000SyZ3aWRnZXROYW1lPXNwX2F0ZiZhY3Rpb249Y2xpY2tSZWRpcmVjdCZkb05vdExvZ0NsaWNrPXRydWU=> (referer: https://www.amazon.com/s?k=python&ref=nb_sb_noss)\n",
      "2022-09-18 02:01:08 [scrapy.core.engine] DEBUG: Crawled (200) <GET https://www.amazon.com/Python-Algorithmic-Thinking-Complete-Beginner/dp/1099184878/ref=sr_1_18_sspa?keywords=python&qid=1663459261&sr=8-18-spons&psc=1&spLa=ZW5jcnlwdGVkUXVhbGlmaWVyPUExUjMwN0Q1SkRWMldTJmVuY3J5cHRlZElkPUEwOTIzMjc2M0FZRjcwTkpUMzg0RyZlbmNyeXB0ZWRBZElkPUEwNzU0Mzc1M1FKMFYyMEdXVFU1VyZ3aWRnZXROYW1lPXNwX210ZiZhY3Rpb249Y2xpY2tSZWRpcmVjdCZkb05vdExvZ0NsaWNrPXRydWU=> (referer: https://www.amazon.com/s?k=python&ref=nb_sb_noss)\n"
     ]
    },
    {
     "name": "stdout",
     "output_type": "stream",
     "text": [
      "8\n",
      "['\\n            \\n              81%\\n            \\n          '] 4.7 out of 5 stars 7 x 1.2 x 9.25 inches\n",
      "9\n",
      "['\\n            \\n              77%\\n            \\n          '] 4.5 out of 5 stars 8 x 0.28 x 10 inches\n",
      "10\n",
      "['\\n            \\n              76%\\n            \\n          '] 4.6 out of 5 stars 7 x 0.56 x 10 inches\n",
      "11\n",
      "['\\n            \\n              66%\\n            \\n          '] 4.3 out of 5 stars 8 x 0.29 x 10 inches\n",
      "12\n",
      "['\\n            \\n              76%\\n            \\n          '] 4.6 out of 5 stars 6.9 x 0.8 x 9 inches\n"
     ]
    },
    {
     "name": "stderr",
     "output_type": "stream",
     "text": [
      "2022-09-18 02:01:09 [scrapy.core.engine] DEBUG: Crawled (200) <GET https://www.amazon.com/Data-Visualization-Python-Pandas-Matplotlib/dp/B0972TFYN8/ref=sr_1_20_sspa?keywords=python&qid=1663459261&sr=8-20-spons&psc=1&spLa=ZW5jcnlwdGVkUXVhbGlmaWVyPUExUjMwN0Q1SkRWMldTJmVuY3J5cHRlZElkPUEwOTIzMjc2M0FZRjcwTkpUMzg0RyZlbmNyeXB0ZWRBZElkPUEwNDcxNDk1MjY4NzdWN1FPNk1ONyZ3aWRnZXROYW1lPXNwX210ZiZhY3Rpb249Y2xpY2tSZWRpcmVjdCZkb05vdExvZ0NsaWNrPXRydWU=> (referer: https://www.amazon.com/s?k=python&ref=nb_sb_noss)\n",
      "2022-09-18 02:01:09 [scrapy.core.engine] DEBUG: Crawled (200) <GET https://www.amazon.com/Python-Tweens-Teens-Computational-Algorithmic/dp/B09TMT49SD/ref=sr_1_19_sspa?keywords=python&qid=1663459261&sr=8-19-spons&psc=1&spLa=ZW5jcnlwdGVkUXVhbGlmaWVyPUExUjMwN0Q1SkRWMldTJmVuY3J5cHRlZElkPUEwOTIzMjc2M0FZRjcwTkpUMzg0RyZlbmNyeXB0ZWRBZElkPUEwODAyNjU5MUVZUU9aSERUQUhNOCZ3aWRnZXROYW1lPXNwX210ZiZhY3Rpb249Y2xpY2tSZWRpcmVjdCZkb05vdExvZ0NsaWNrPXRydWU=> (referer: https://www.amazon.com/s?k=python&ref=nb_sb_noss)\n",
      "2022-09-18 02:01:09 [scrapy.core.engine] DEBUG: Crawled (200) <GET https://www.amazon.com/Monty-Python-Grail-Graham-Chapman/dp/B07PGCJM9V/ref=sr_1_59?keywords=python&qid=1663459261&sr=8-59> (referer: https://www.amazon.com/s?k=python&ref=nb_sb_noss)\n"
     ]
    },
    {
     "name": "stdout",
     "output_type": "stream",
     "text": [
      "13\n",
      "['\\n            \\n              72%\\n            \\n          '] 4.5 out of 5 stars 8 x 1.55 x 10 inches\n",
      "14\n",
      "['\\n            \\n              67%\\n            \\n          '] 4.1 out of 5 stars 7.44 x 1.05 x 9.69 inches\n",
      "15\n",
      "['\\n            \\n              72%\\n            \\n          '] 4.5 out of 5 stars 8.5 x 0.85 x 11 inches\n"
     ]
    },
    {
     "name": "stderr",
     "output_type": "stream",
     "text": [
      "2022-09-18 02:01:10 [scrapy.core.engine] DEBUG: Crawled (200) <GET https://www.amazon.com/Complete-Python-Science-Absolute-Beginners/dp/B0B96MY9M8/ref=sr_1_54?keywords=python&qid=1663459261&sr=8-54> (referer: https://www.amazon.com/s?k=python&ref=nb_sb_noss)\n"
     ]
    },
    {
     "name": "stdout",
     "output_type": "stream",
     "text": [
      "16\n",
      "[] None None\n",
      "17\n",
      "[] None None\n"
     ]
    },
    {
     "name": "stderr",
     "output_type": "stream",
     "text": [
      "2022-09-18 02:01:10 [scrapy.core.engine] DEBUG: Crawled (200) <GET https://www.amazon.com/Python-Programming-Beginners-Hands-Exercises/dp/B0BCCYXZMR/ref=sr_1_17_sspa?keywords=python&qid=1663459261&sr=8-17-spons&psc=1&spLa=ZW5jcnlwdGVkUXVhbGlmaWVyPUExUjMwN0Q1SkRWMldTJmVuY3J5cHRlZElkPUEwOTIzMjc2M0FZRjcwTkpUMzg0RyZlbmNyeXB0ZWRBZElkPUEwMTUwODY5UkhGNUZQN0tEMTBVJndpZGdldE5hbWU9c3BfbXRmJmFjdGlvbj1jbGlja1JlZGlyZWN0JmRvTm90TG9nQ2xpY2s9dHJ1ZQ==> (referer: https://www.amazon.com/s?k=python&ref=nb_sb_noss)\n",
      "2022-09-18 02:01:10 [scrapy.core.engine] DEBUG: Crawled (200) <GET https://www.amazon.com/PYTHON-PROGRAMMING-BEGINNERS-GUIDE-LEARN-ebook/dp/B01GSODGZC/ref=sr_1_56?keywords=python&qid=1663459261&sr=8-56> (referer: https://www.amazon.com/s?k=python&ref=nb_sb_noss)\n",
      "2022-09-18 02:01:10 [scrapy.core.engine] DEBUG: Crawled (200) <GET https://www.amazon.com/Python-MCQ-Questions-Programming-Beginners/dp/1523851104/ref=sr_1_60?keywords=python&qid=1663459261&sr=8-60> (referer: https://www.amazon.com/s?k=python&ref=nb_sb_noss)\n",
      "2022-09-18 02:01:11 [scrapy.core.engine] DEBUG: Crawled (200) <GET https://www.amazon.com/Python-Basics-Practical-Introduction/dp/1775093328/ref=sr_1_57?keywords=python&qid=1663459261&sr=8-57> (referer: https://www.amazon.com/s?k=python&ref=nb_sb_noss)\n"
     ]
    },
    {
     "name": "stdout",
     "output_type": "stream",
     "text": [
      "18\n",
      "['\\n            \\n              97%\\n            \\n          '] 5.0 out of 5 stars 8.5 x 0.2 x 11 inches\n",
      "19\n",
      "['\\n            \\n              66%\\n            \\n          '] 4.4 out of 5 stars None\n",
      "20\n",
      "['\\n            \\n              33%\\n            \\n          '] 2.7 out of 5 stars 8 x 0.35 x 10 inches\n"
     ]
    },
    {
     "name": "stderr",
     "output_type": "stream",
     "text": [
      "2022-09-18 02:01:14 [scrapy.core.engine] DEBUG: Crawled (200) <GET https://www.amazon.com/Project-Python-Turtle-Programming-Supergirls-ebook/dp/B09DM9PX1P/ref=sr_1_55?keywords=python&qid=1663459261&sr=8-55> (referer: https://www.amazon.com/s?k=python&ref=nb_sb_noss)\n",
      "2022-09-18 02:01:14 [scrapy.core.engine] DEBUG: Crawled (200) <GET https://www.amazon.com/Monty-Python-Holy-Grail-Blu-ray/dp/B013P0X0E4/ref=sr_1_53?keywords=python&qid=1663459261&sr=8-53> (referer: https://www.amazon.com/s?k=python&ref=nb_sb_noss)\n",
      "2022-09-18 02:01:14 [scrapy.core.engine] DEBUG: Crawled (200) <GET https://www.amazon.com/Mathematical-through-Python-Yannai-Gonczarowski/dp/1108949479/ref=sr_1_52?keywords=python&qid=1663459261&sr=8-52> (referer: https://www.amazon.com/s?k=python&ref=nb_sb_noss)\n",
      "2022-09-18 02:01:14 [scrapy.core.engine] DEBUG: Crawled (200) <GET https://www.amazon.com/Python-Programming-Introduction-Computer-Science/dp/1590282752/ref=sr_1_58?keywords=python&qid=1663459261&sr=8-58> (referer: https://www.amazon.com/s?k=python&ref=nb_sb_noss)\n"
     ]
    },
    {
     "name": "stdout",
     "output_type": "stream",
     "text": [
      "start_new_page\n",
      "21\n",
      "['\\n            \\n              78%\\n            \\n          '] 4.7 out of 5 stars 6 x 1.44 x 9 inches\n"
     ]
    },
    {
     "name": "stderr",
     "output_type": "stream",
     "text": [
      "2022-09-18 02:01:14 [scrapy.core.engine] DEBUG: Crawled (200) <GET https://www.amazon.com/Python-Machine-Learning-Project-RANDY-ebook/dp/B084Q4BJB4/ref=sr_1_49?keywords=python&qid=1663459261&sr=8-49> (referer: https://www.amazon.com/s?k=python&ref=nb_sb_noss)\n",
      "2022-09-18 02:01:14 [scrapy.core.engine] DEBUG: Crawled (200) <GET https://www.amazon.com/Practical-Statistics-Data-Scientists-Essential/dp/149207294X/ref=sr_1_50?keywords=python&qid=1663459261&sr=8-50> (referer: https://www.amazon.com/s?k=python&ref=nb_sb_noss)\n",
      "2022-09-18 02:01:14 [scrapy.core.engine] DEBUG: Crawled (200) <GET https://www.amazon.com/PYTHON-Programs-Programming-Analytics-Beginners-ebook/dp/B08T6FQ64Y/ref=sr_1_51?keywords=python&qid=1663459261&sr=8-51> (referer: https://www.amazon.com/s?k=python&ref=nb_sb_noss)\n",
      "2022-09-18 02:01:14 [scrapy.core.engine] DEBUG: Crawled (200) <GET https://www.amazon.com/Python-for-Beginners-audiobook/dp/B07N8HFHMX/ref=sr_1_48?keywords=python&qid=1663459261&sr=8-48> (referer: https://www.amazon.com/s?k=python&ref=nb_sb_noss)\n"
     ]
    },
    {
     "name": "stdout",
     "output_type": "stream",
     "text": [
      "22\n",
      "[] None None\n",
      "23\n",
      "['\\n            \\n              85%\\n            \\n          '] 4.7 out of 5 stars 0.7 x 7.5 x 5.4 inches; 2.4 Ounces\n",
      "24\n",
      "['\\n            \\n              100%\\n            \\n          '] 5.0 out of 5 stars 7 x 0.64 x 10 inches\n",
      "25\n",
      "['\\n            \\n              77%\\n            \\n          '] 4.6 out of 5 stars 7.5 x 1 x 9.2 inches\n",
      "26\n",
      "[] None None\n",
      "27\n",
      "['\\n            \\n              76%\\n            \\n          '] 4.6 out of 5 stars 7 x 0.9 x 9.1 inches\n",
      "28\n",
      "['\\n            \\n              61%\\n            \\n          '] 4.2 out of 5 stars None\n"
     ]
    },
    {
     "name": "stderr",
     "output_type": "stream",
     "text": [
      "2022-09-18 02:01:16 [scrapy.core.engine] DEBUG: Crawled (200) <GET https://www.amazon.com/Boa-Vs-Python-David-Hewlett/dp/B076JK1T3J/ref=sr_1_42?keywords=python&qid=1663459261&sr=8-42> (referer: https://www.amazon.com/s?k=python&ref=nb_sb_noss)\n"
     ]
    },
    {
     "name": "stdout",
     "output_type": "stream",
     "text": [
      "29\n",
      "['\\n            \\n              66%\\n            \\n          '] 4.3 out of 5 stars None\n"
     ]
    },
    {
     "name": "stderr",
     "output_type": "stream",
     "text": [
      "2022-09-18 02:01:16 [scrapy.core.engine] DEBUG: Crawled (200) <GET https://www.amazon.com/s?k=python&page=2&qid=1663458276&ref=sr_pg_2> (referer: https://www.amazon.com/Python-MCQ-Questions-Programming-Beginners/dp/1523851104/ref=sr_1_60?keywords=python&qid=1663459261&sr=8-60)\n"
     ]
    },
    {
     "name": "stdout",
     "output_type": "stream",
     "text": [
      "30\n",
      "[] None None\n",
      "2\n",
      "Become an Awesome Software Architect: Book 1: Foundation 2019\n",
      "Mastering Python Networking: Your one-stop solution to using Python for network automation, programmability, and DevOps, 3rd Edition\n",
      "Python for Programmers: with Big Data and Artificial Intelligence Case Studies\n",
      "Excel 2022: The Complete Illustrative Guide for Beginners to Learning any Fundamental, Formula, Function and Chart in Less than 5 Minutes with Simple and Real-Life Examples\n",
      "Python for Excel: A Modern Environment for Automation and Data Analysis\n",
      "Python for DevOps: Learn Ruthlessly Effective Automation\n",
      "Fluent Python: Clear, Concise, and Effective Programming\n",
      "Invent Your Own Computer Games with Python, 4th Edition\n",
      "Python Distilled (Developer's Library)\n",
      "CPython Internals: Your Guide to the Python 3 Interpreter\n",
      "Medusa\n",
      "Python Choose Your Weapon - Funny Computer Science Notebook: Coding Developer Notebook Gift For Those Who Love Programming (6 x 9) 120 Pages\n",
      "Python 3: Parte II - Entrada y Salida de Datos. Funciones. Excepciones (Aprende Python 3 Desde Cero y Fácilmente) (Spanish Edition)\n",
      "Black Hat Python, 2nd Edition: Python Programming for Hackers and Pentesters\n",
      "Python Pocket Reference: Python In Your Pocket (Pocket Reference (O'Reilly))\n",
      "Hands-On Data Structures and Algorithms with Python: Store, manipulate, and access data effectively and boost the performance of your applications, 3rd Edition\n",
      "Queen of the Pythons\n",
      "PYTHON 3: Parte III - Programación Orientada a Objetos (Aprende Python 3 Desde Cero y Fácilmente) (Spanish Edition)\n",
      "The Art of Clean Code: Best Practices to Eliminate Complexity and Simplify Your Life\n",
      "Murach's Python Programming (2nd Edition)\n",
      "Data Engineering with AWS: Learn how to design and build cloud-based data transformation pipelines using AWS\n",
      "PYTHON: 2 books in 1 : Learn python programming for beginners and machine learning\n",
      "Introduction to Radar With Python and Matlab\n",
      "Mastering Reinforcement Learning with Python: Build next-generation, self-learning models using reinforcement learning techniques and best practices\n",
      "Learn python programming for beginners: A beginner's guide comprehending python. Develop your programming skills and learn all the tricks with this crash course.\n",
      "Python Basics: A Practical Introduction to Python 3\n",
      "Python: Programming Basics for Absolute Beginners (Step-By-Step Python)\n",
      "Python Machine Learning: Complete and Clear Introduction to the Basics of Machine Learning with Python. Comprehensive Guide to Data Science and Analytics.\n",
      "Data Visualization in Python with Pandas and Matplotlib\n",
      "Python Crash Course, 3rd Edition\n",
      "The Recursive Book of Recursion: Ace the Coding Interview with Python and JavaScript\n",
      "Python GUI Programming with Tkinter: Design and build functional and user-friendly GUI applications, 2nd Edition\n",
      "Data Engineering with Python: Work with massive datasets to design data models and automate data pipelines using Python\n",
      "Machine Learning: 4 Books in 1: The #1 Beginner's Guide to Master the Basics of Python Programming, Learn the Art of Data Science and Build Artificial Intelligence\n",
      "Python for Finance: Mastering Data-Driven Finance\n",
      "Deep Learning with Python, Second Edition\n",
      "The Book of Dash: Build Dashboards with Python and Plotly\n",
      "Monster Python\n",
      "Computational Cell Physiology: With Examples In Python\n",
      "Architecture Patterns with Python: Enabling Test-Driven Development, Domain-Driven Design, and Event-Driven Microservices\n",
      "Python: Programming Basics for Absolute Beginners\n",
      "Monty Python, Shakespeare and English Renaissance Drama\n",
      "Effective Python: 90 Specific Ways to Write Better Python (Effective Software Development Series)\n",
      "Python: Quick Reference - Cheat Sheet - Print & Laminate\n",
      "Hands-On Data Preprocessing in Python: Learn how to effectively prepare data for successful data analytics\n",
      "Monty Python's Flying Circus: The Complete Series [Blu-ray]\n",
      "Applied Computational Thinking with Python: Design algorithmic solutions for complex and challenging real-world problems\n",
      "Advanced Python Scripting for ArcGIS Pro\n",
      "Python Programming for Beginners: An Introduction to the Python Computer Language and Computer Programming (Python, Python 3, Python Tutorial)\n",
      "Infrastructure as Code, Patterns and Practices: With examples in Python and Terraform\n",
      "Teach Yourself VISUALLY Python (Teach Yourself VISUALLY (Tech))\n",
      "Data Science Projects with Python: A case study approach to gaining valuable insights from real data with machine learning, 2nd Edition\n",
      "Python: 3 books in 1- Your complete guide to python programming with Python for Beginners, Python Data Analysis and Python Machine Learning (Programming Languages for Beginners)\n",
      "Python in a Nutshell: A Desktop Quick Reference\n",
      "Learn Python 3 the Hard Way: A Very Simple Introduction to the Terrifyingly Beautiful World of Computers and Code (Zed Shaw's Hard Way Series)\n",
      "Functional Python Programming: Use a functional approach to write succinct, expressive, and efficient Python code, 3rd Edition\n",
      "Django 4 By Example: Build powerful and reliable Python web applications from scratch, 4th Edition\n",
      "Time Series Analysis with Python Cookbook: Practical recipes for exploratory data analysis, data preparation, forecasting, and model evaluation\n",
      "Hands-On Machine Learning with Scikit-Learn, Keras, and TensorFlow: Concepts, Tools, and Techniques to Build Intelligent Systems\n",
      "Mastering Financial Pattern Recognition: Finding and Back-Testing Candlestick Patterns with Python\n"
     ]
    },
    {
     "name": "stderr",
     "output_type": "stream",
     "text": [
      "2022-09-18 02:01:16 [scrapy.core.engine] DEBUG: Crawled (200) <GET https://www.amazon.com/Developing-Applications-Python-Xavier-Morera-ebook/dp/B082TMY9VY/ref=sr_1_47?keywords=python&qid=1663459261&sr=8-47> (referer: https://www.amazon.com/s?k=python&ref=nb_sb_noss)\n",
      "2022-09-18 02:01:17 [scrapy.core.engine] DEBUG: Crawled (200) <GET https://www.amazon.com/Cyberwarrior-Handbook-Beginners-Hacking-Exploitation-ebook/dp/B0B7QX96FZ/ref=sr_1_44?keywords=python&qid=1663459261&sr=8-44> (referer: https://www.amazon.com/s?k=python&ref=nb_sb_noss)\n",
      "2022-09-18 02:01:17 [scrapy.core.engine] DEBUG: Crawled (200) <GET https://www.amazon.com/Python-Beginners-Perfect-Learning-Workbook/dp/B084VHN9M6/ref=sr_1_43?keywords=python&qid=1663459261&sr=8-43> (referer: https://www.amazon.com/s?k=python&ref=nb_sb_noss)\n"
     ]
    },
    {
     "name": "stdout",
     "output_type": "stream",
     "text": [
      "31\n",
      "['\\n            \\n              42%\\n            \\n          '] 3.6 out of 5 stars None\n"
     ]
    },
    {
     "name": "stderr",
     "output_type": "stream",
     "text": [
      "2022-09-18 02:01:17 [scrapy.core.engine] DEBUG: Crawled (200) <GET https://www.amazon.com/Machine-Learning-Programming-Understand-Intelligence/dp/B086R6JFLW/ref=sr_1_41?keywords=python&qid=1663459261&sr=8-41> (referer: https://www.amazon.com/s?k=python&ref=nb_sb_noss)\n",
      "2022-09-18 02:01:17 [scrapy.downloadermiddlewares.redirect] DEBUG: Redirecting (302) to <GET https://www.amazon.com/Python-GUI-Programming-Tkinter-user-friendly/dp/1801815925/ref=sr_1_36_sspa?keywords=python&qid=1663459261&sr=8-36-spons&psc=1&spLa=ZW5jcnlwdGVkUXVhbGlmaWVyPUExUjMwN0Q1SkRWMldTJmVuY3J5cHRlZElkPUEwOTIzMjc2M0FZRjcwTkpUMzg0RyZlbmNyeXB0ZWRBZElkPUEwNTE4MjAzVUFYRUdERVhJSkFCJndpZGdldE5hbWU9c3BfbXRmJmFjdGlvbj1jbGlja1JlZGlyZWN0JmRvTm90TG9nQ2xpY2s9dHJ1ZQ==> from <GET https://www.amazon.com/gp/slredirect/picassoRedirect.html/ref=pa_sp_mtf_aps_sr_pg1_1?ie=UTF8&adId=A0518203UAXEGDEXIJAB&url=%2FPython-GUI-Programming-Tkinter-user-friendly%2Fdp%2F1801815925%2Fref%3Dsr_1_36_sspa%3Fkeywords%3Dpython%26qid%3D1663459261%26sr%3D8-36-spons%26psc%3D1&qualifier=1663459261&id=8731786596037934&widgetName=sp_mtf>\n",
      "2022-09-18 02:01:17 [scrapy.core.engine] DEBUG: Crawled (200) <GET https://www.amazon.com/Python-Manuscripts-Programming-Beginners-Intermediates/dp/B07ZRY1YPV/ref=sr_1_46?keywords=python&qid=1663459261&sr=8-46> (referer: https://www.amazon.com/s?k=python&ref=nb_sb_noss)\n",
      "2022-09-18 02:01:17 [scrapy.core.engine] DEBUG: Crawled (200) <GET https://www.amazon.com/Deep-Learning-Python-Francois-Chollet/dp/1617294438/ref=sr_1_45?keywords=python&qid=1663459261&sr=8-45> (referer: https://www.amazon.com/s?k=python&ref=nb_sb_noss)\n"
     ]
    },
    {
     "name": "stdout",
     "output_type": "stream",
     "text": [
      "32\n",
      "[] None None\n",
      "33\n",
      "['\\n            \\n              63%\\n            \\n          '] 4.4 out of 5 stars None\n"
     ]
    },
    {
     "name": "stderr",
     "output_type": "stream",
     "text": [
      "2022-09-18 02:01:17 [scrapy.downloadermiddlewares.redirect] DEBUG: Redirecting (302) to <GET https://www.amazon.com/Python-Programming-Complete-Beginners-Learning/dp/B08TRLB4SD/ref=sr_1_35_sspa?keywords=python&qid=1663459261&sr=8-35-spons&psc=1&spLa=ZW5jcnlwdGVkUXVhbGlmaWVyPUExUjMwN0Q1SkRWMldTJmVuY3J5cHRlZElkPUEwOTIzMjc2M0FZRjcwTkpUMzg0RyZlbmNyeXB0ZWRBZElkPUEwMjQ4ODcxMk84S0lMVEQ0TDVKSiZ3aWRnZXROYW1lPXNwX210ZiZhY3Rpb249Y2xpY2tSZWRpcmVjdCZkb05vdExvZ0NsaWNrPXRydWU=> from <GET https://www.amazon.com/gp/slredirect/picassoRedirect.html/ref=pa_sp_mtf_aps_sr_pg1_1?ie=UTF8&adId=A02488712O8KILTD4L5JJ&url=%2FPython-Programming-Complete-Beginners-Learning%2Fdp%2FB08TRLB4SD%2Fref%3Dsr_1_35_sspa%3Fkeywords%3Dpython%26qid%3D1663459261%26sr%3D8-35-spons%26psc%3D1&qualifier=1663459261&id=8731786596037934&widgetName=sp_mtf>\n"
     ]
    },
    {
     "name": "stdout",
     "output_type": "stream",
     "text": [
      "34\n",
      "['\\n            \\n              31%\\n            \\n          '] 3.1 out of 5 stars None\n",
      "35\n",
      "['\\n            \\n              64%\\n            \\n          '] 4.3 out of 5 stars None\n"
     ]
    },
    {
     "name": "stderr",
     "output_type": "stream",
     "text": [
      "2022-09-18 02:01:17 [scrapy.downloadermiddlewares.redirect] DEBUG: Redirecting (302) to <GET https://www.amazon.com/Python-Coding-Kids-Ages-Descriptive/dp/B09VZ9R749/ref=sr_1_33_sspa?keywords=python&qid=1663459261&sr=8-33-spons&psc=1&spLa=ZW5jcnlwdGVkUXVhbGlmaWVyPUExUjMwN0Q1SkRWMldTJmVuY3J5cHRlZElkPUEwOTIzMjc2M0FZRjcwTkpUMzg0RyZlbmNyeXB0ZWRBZElkPUEwNjE2MTUzMzBQT1NGODhFSkhOMSZ3aWRnZXROYW1lPXNwX210ZiZhY3Rpb249Y2xpY2tSZWRpcmVjdCZkb05vdExvZ0NsaWNrPXRydWU=> from <GET https://www.amazon.com/gp/slredirect/picassoRedirect.html/ref=pa_sp_mtf_aps_sr_pg1_1?ie=UTF8&adId=A061615330POSF88EJHN1&url=%2FPython-Coding-Kids-Ages-Descriptive%2Fdp%2FB09VZ9R749%2Fref%3Dsr_1_33_sspa%3Fkeywords%3Dpython%26qid%3D1663459261%26sr%3D8-33-spons%26psc%3D1&qualifier=1663459261&id=8731786596037934&widgetName=sp_mtf>\n"
     ]
    },
    {
     "name": "stdout",
     "output_type": "stream",
     "text": [
      "36\n",
      "['\\n            \\n              76%\\n            \\n          '] 4.6 out of 5 stars 7.38 x 0.8 x 9.25 inches\n"
     ]
    },
    {
     "name": "stderr",
     "output_type": "stream",
     "text": [
      "2022-09-18 02:01:18 [scrapy.downloadermiddlewares.redirect] DEBUG: Redirecting (302) to <GET https://www.amazon.com/Learn-Coding-Basics-Hours-Python/dp/0997326476/ref=sr_1_34_sspa?keywords=python&qid=1663459261&sr=8-34-spons&psc=1&spLa=ZW5jcnlwdGVkUXVhbGlmaWVyPUExUjMwN0Q1SkRWMldTJmVuY3J5cHRlZElkPUEwOTIzMjc2M0FZRjcwTkpUMzg0RyZlbmNyeXB0ZWRBZElkPUEwMjc2MjAzMlNWUVdFR0U1UzdDWCZ3aWRnZXROYW1lPXNwX210ZiZhY3Rpb249Y2xpY2tSZWRpcmVjdCZkb05vdExvZ0NsaWNrPXRydWU=> from <GET https://www.amazon.com/gp/slredirect/picassoRedirect.html/ref=pa_sp_mtf_aps_sr_pg1_1?ie=UTF8&adId=A02762032SVQWEGE5S7CX&url=%2FLearn-Coding-Basics-Hours-Python%2Fdp%2F0997326476%2Fref%3Dsr_1_34_sspa%3Fkeywords%3Dpython%26qid%3D1663459261%26sr%3D8-34-spons%26psc%3D1&qualifier=1663459261&id=8731786596037934&widgetName=sp_mtf>\n",
      "2022-09-18 02:01:19 [scrapy.core.engine] DEBUG: Crawled (200) <GET https://www.amazon.com/Python-Object-Oriented-Programming-maintainable-object-oriented/dp/1801077266/ref=sr_1_38?keywords=python&qid=1663459261&sr=8-38> (referer: https://www.amazon.com/s?k=python&ref=nb_sb_noss)\n",
      "2022-09-18 02:01:19 [scrapy.core.engine] DEBUG: Crawled (200) <GET https://www.amazon.com/Think-Python-Like-Computer-Scientist/dp/1491939362/ref=sr_1_39?keywords=python&qid=1663459261&sr=8-39> (referer: https://www.amazon.com/s?k=python&ref=nb_sb_noss)\n",
      "2022-09-18 02:01:19 [scrapy.core.engine] DEBUG: Crawled (200) <GET https://www.amazon.com/Python-Programming-Beginners-Step-Step-ebook/dp/B0B3V6VCHV/ref=sr_1_37?keywords=python&qid=1663459261&sr=8-37> (referer: https://www.amazon.com/s?k=python&ref=nb_sb_noss)\n"
     ]
    },
    {
     "name": "stdout",
     "output_type": "stream",
     "text": [
      "37\n",
      "['\\n            \\n              58%\\n            \\n          '] 4.3 out of 5 stars 7.5 x 1.61 x 9.25 inches\n",
      "38\n",
      "['\\n            \\n              77%\\n            \\n          '] 4.6 out of 5 stars 7.01 x 0.61 x 9.17 inches\n"
     ]
    },
    {
     "name": "stderr",
     "output_type": "stream",
     "text": [
      "2022-09-18 02:01:19 [scrapy.core.engine] DEBUG: Crawled (200) <GET https://www.amazon.com/Learn-Python-Programming-depth-introduction/dp/1801815097/ref=sr_1_32?keywords=python&qid=1663459261&sr=8-32> (referer: https://www.amazon.com/s?k=python&ref=nb_sb_noss)\n"
     ]
    },
    {
     "name": "stdout",
     "output_type": "stream",
     "text": [
      "39\n",
      "['\\n            \\n              91%\\n            \\n          '] 4.9 out of 5 stars None\n"
     ]
    },
    {
     "name": "stderr",
     "output_type": "stream",
     "text": [
      "2022-09-18 02:01:20 [scrapy.core.engine] DEBUG: Crawled (200) <GET https://www.amazon.com/Python-Finance-Algorithmic-trading-MetaTraderTM5/dp/B0BB5DDB1Q/ref=sr_1_40?keywords=python&qid=1663459261&sr=8-40> (referer: https://www.amazon.com/s?k=python&ref=nb_sb_noss)\n",
      "2022-09-18 02:01:20 [scrapy.core.engine] DEBUG: Crawled (200) <GET https://www.amazon.com/Mastering-Financial-Pattern-Recognition-Back-Testing/dp/1098120477/ref=sr_1_108?keywords=python&qid=1663459274&sr=8-108> (referer: https://www.amazon.com/s?k=python&page=2&qid=1663458276&ref=sr_pg_2)\n",
      "2022-09-18 02:01:20 [scrapy.core.engine] DEBUG: Crawled (200) <GET https://www.amazon.com/Hands-Machine-Learning-Scikit-Learn-TensorFlow/dp/1098125975/ref=sr_1_107?keywords=python&qid=1663459274&sr=8-107> (referer: https://www.amazon.com/s?k=python&page=2&qid=1663458276&ref=sr_pg_2)\n",
      "2022-09-18 02:01:20 [scrapy.core.engine] DEBUG: Crawled (200) <GET https://www.amazon.com/Robust-Python-Write-Clean-Maintainable/dp/1098100662/ref=sr_1_31?keywords=python&qid=1663459261&sr=8-31> (referer: https://www.amazon.com/s?k=python&ref=nb_sb_noss)\n"
     ]
    },
    {
     "name": "stdout",
     "output_type": "stream",
     "text": [
      "40\n",
      "['\\n            \\n              52%\\n            \\n          '] 4.2 out of 5 stars 7.5 x 1.25 x 9.25 inches\n",
      "41\n",
      "['\\n            \\n              63%\\n            \\n          '] 4.6 out of 5 stars 6.69 x 0.74 x 9.61 inches\n",
      "42\n",
      "[] None None\n"
     ]
    },
    {
     "name": "stderr",
     "output_type": "stream",
     "text": [
      "2022-09-18 02:01:23 [scrapy.core.engine] DEBUG: Crawled (200) <GET https://www.amazon.com/Time-Analysis-Python-Cookbook-exploratory/dp/1801075549/ref=sr_1_106?keywords=python&qid=1663459274&sr=8-106> (referer: https://www.amazon.com/s?k=python&page=2&qid=1663458276&ref=sr_pg_2)\n",
      "2022-09-18 02:01:23 [scrapy.core.engine] DEBUG: Crawled (200) <GET https://www.amazon.com/Django-Example-powerful-reliable-applications/dp/1801813051/ref=sr_1_105?keywords=python&qid=1663459274&sr=8-105> (referer: https://www.amazon.com/s?k=python&page=2&qid=1663458276&ref=sr_pg_2)\n"
     ]
    },
    {
     "name": "stdout",
     "output_type": "stream",
     "text": [
      "start_new_page\n",
      "43\n",
      "[] None None\n"
     ]
    },
    {
     "name": "stderr",
     "output_type": "stream",
     "text": [
      "2022-09-18 02:01:23 [scrapy.core.engine] DEBUG: Crawled (200) <GET https://www.amazon.com/Python-GUI-Programming-Tkinter-user-friendly/dp/1801815925/ref=sr_1_36_sspa?keywords=python&qid=1663459261&sr=8-36-spons&psc=1&spLa=ZW5jcnlwdGVkUXVhbGlmaWVyPUExUjMwN0Q1SkRWMldTJmVuY3J5cHRlZElkPUEwOTIzMjc2M0FZRjcwTkpUMzg0RyZlbmNyeXB0ZWRBZElkPUEwNTE4MjAzVUFYRUdERVhJSkFCJndpZGdldE5hbWU9c3BfbXRmJmFjdGlvbj1jbGlja1JlZGlyZWN0JmRvTm90TG9nQ2xpY2s9dHJ1ZQ==> (referer: https://www.amazon.com/s?k=python&ref=nb_sb_noss)\n",
      "2022-09-18 02:01:23 [scrapy.core.engine] DEBUG: Crawled (200) <GET https://www.amazon.com/Functional-Python-Programming-functional-expressive-ebook/dp/B0B1N4PLL5/ref=sr_1_104?keywords=python&qid=1663459274&sr=8-104> (referer: https://www.amazon.com/s?k=python&page=2&qid=1663458276&ref=sr_pg_2)\n",
      "2022-09-18 02:01:23 [scrapy.core.engine] DEBUG: Crawled (200) <GET https://www.amazon.com/Learn-Python-Hard-Way-Introduction/dp/0134692888/ref=sr_1_103?keywords=python&qid=1663459274&sr=8-103> (referer: https://www.amazon.com/s?k=python&page=2&qid=1663458276&ref=sr_pg_2)\n",
      "2022-09-18 02:01:23 [scrapy.core.engine] DEBUG: Crawled (200) <GET https://www.amazon.com/Python-Programming-Complete-Beginners-Learning/dp/B08TRLB4SD/ref=sr_1_35_sspa?keywords=python&qid=1663459261&sr=8-35-spons&psc=1&spLa=ZW5jcnlwdGVkUXVhbGlmaWVyPUExUjMwN0Q1SkRWMldTJmVuY3J5cHRlZElkPUEwOTIzMjc2M0FZRjcwTkpUMzg0RyZlbmNyeXB0ZWRBZElkPUEwMjQ4ODcxMk84S0lMVEQ0TDVKSiZ3aWRnZXROYW1lPXNwX210ZiZhY3Rpb249Y2xpY2tSZWRpcmVjdCZkb05vdExvZ0NsaWNrPXRydWU=> (referer: https://www.amazon.com/s?k=python&ref=nb_sb_noss)\n",
      "2022-09-18 02:01:23 [scrapy.core.engine] DEBUG: Crawled (200) <GET https://www.amazon.com/Python-Coding-Kids-Ages-Descriptive/dp/B09VZ9R749/ref=sr_1_33_sspa?keywords=python&qid=1663459261&sr=8-33-spons&psc=1&spLa=ZW5jcnlwdGVkUXVhbGlmaWVyPUExUjMwN0Q1SkRWMldTJmVuY3J5cHRlZElkPUEwOTIzMjc2M0FZRjcwTkpUMzg0RyZlbmNyeXB0ZWRBZElkPUEwNjE2MTUzMzBQT1NGODhFSkhOMSZ3aWRnZXROYW1lPXNwX210ZiZhY3Rpb249Y2xpY2tSZWRpcmVjdCZkb05vdExvZ0NsaWNrPXRydWU=> (referer: https://www.amazon.com/s?k=python&ref=nb_sb_noss)\n"
     ]
    },
    {
     "name": "stdout",
     "output_type": "stream",
     "text": [
      "44\n",
      "['\\n            \\n              75%\\n            \\n          '] 4.5 out of 5 stars 7 x 1 x 9 inches\n",
      "45\n",
      "['\\n            \\n              86%\\n            \\n          '] 4.9 out of 5 stars 7.5 x 1.42 x 9.25 inches\n",
      "46\n",
      "['\\n            \\n              100%\\n            \\n          '] 5.0 out of 5 stars 7.5 x 1.73 x 9.25 inches\n",
      "47\n",
      "['\\n            \\n              67%\\n            \\n          '] 4.4 out of 5 stars 7.5 x 1.5 x 9.25 inches\n",
      "48\n",
      "[] None None\n",
      "49\n",
      "['\\n            \\n              70%\\n            \\n          '] 4.4 out of 5 stars 7 x 0.73 x 9.13 inches\n",
      "50\n",
      "['\\n            \\n              62%\\n            \\n          '] 4.1 out of 5 stars 8 x 0.75 x 10 inches\n",
      "51\n",
      "['\\n            \\n              80%\\n            \\n          '] 4.5 out of 5 stars 8 x 0.26 x 10 inches\n"
     ]
    },
    {
     "name": "stderr",
     "output_type": "stream",
     "text": [
      "2022-09-18 02:01:26 [scrapy.core.engine] DEBUG: Crawled (200) <GET https://www.amazon.com/Python-Nutshell-Desktop-Quick-Reference/dp/1098113551/ref=sr_1_102?keywords=python&qid=1663459274&sr=8-102> (referer: https://www.amazon.com/s?k=python&page=2&qid=1663458276&ref=sr_pg_2)\n",
      "2022-09-18 02:01:26 [scrapy.core.engine] DEBUG: Crawled (200) <GET https://www.amazon.com/Python-programming-Beginners-Programming-Languages/dp/B09RLRHNGS/ref=sr_1_101?keywords=python&qid=1663459274&sr=8-101> (referer: https://www.amazon.com/s?k=python&page=2&qid=1663458276&ref=sr_pg_2)\n",
      "2022-09-18 02:01:26 [scrapy.core.engine] DEBUG: Crawled (200) <GET https://www.amazon.com/Data-Science-Projects-Python-approach/dp/1800564481/ref=sr_1_100?keywords=python&qid=1663459274&sr=8-100> (referer: https://www.amazon.com/s?k=python&page=2&qid=1663458276&ref=sr_pg_2)\n",
      "2022-09-18 02:01:26 [scrapy.core.engine] DEBUG: Crawled (200) <GET https://www.amazon.com/Teach-Yourself-VISUALLY-Python-Tech/dp/1119860253/ref=sr_1_99?keywords=python&qid=1663459274&sr=8-99> (referer: https://www.amazon.com/s?k=python&page=2&qid=1663458276&ref=sr_pg_2)\n"
     ]
    },
    {
     "name": "stdout",
     "output_type": "stream",
     "text": [
      "52\n",
      "[] None None\n",
      "53\n",
      "['\\n            \\n              82%\\n            \\n          '] 4.7 out of 5 stars 6 x 1.07 x 9 inches\n"
     ]
    },
    {
     "name": "stderr",
     "output_type": "stream",
     "text": [
      "2022-09-18 02:01:26 [scrapy.core.engine] DEBUG: Crawled (200) <GET https://www.amazon.com/Learn-Coding-Basics-Hours-Python/dp/0997326476/ref=sr_1_34_sspa?keywords=python&qid=1663459261&sr=8-34-spons&psc=1&spLa=ZW5jcnlwdGVkUXVhbGlmaWVyPUExUjMwN0Q1SkRWMldTJmVuY3J5cHRlZElkPUEwOTIzMjc2M0FZRjcwTkpUMzg0RyZlbmNyeXB0ZWRBZElkPUEwMjc2MjAzMlNWUVdFR0U1UzdDWCZ3aWRnZXROYW1lPXNwX210ZiZhY3Rpb249Y2xpY2tSZWRpcmVjdCZkb05vdExvZ0NsaWNrPXRydWU=> (referer: https://www.amazon.com/s?k=python&ref=nb_sb_noss)\n"
     ]
    },
    {
     "name": "stdout",
     "output_type": "stream",
     "text": [
      "54\n",
      "['\\n            \\n              79%\\n            \\n          '] 4.6 out of 5 stars 7.5 x 0.98 x 9.25 inches\n",
      "55\n",
      "[] None 7.3 x 0.9 x 9.2 inches\n"
     ]
    },
    {
     "name": "stderr",
     "output_type": "stream",
     "text": [
      "2022-09-18 02:01:26 [scrapy.core.engine] DEBUG: Crawled (200) <GET https://www.amazon.com/Python-Programming-Beginners-Introduction-Computer-ebook/dp/B00N4IQRD4/ref=sr_1_97?keywords=python&qid=1663459274&sr=8-97> (referer: https://www.amazon.com/s?k=python&page=2&qid=1663458276&ref=sr_pg_2)\n",
      "2022-09-18 02:01:26 [scrapy.core.engine] DEBUG: Crawled (200) <GET https://www.amazon.com/Advanced-Python-Scripting-ArcGIS-Pro/dp/1589486188/ref=sr_1_96?keywords=python&qid=1663459274&sr=8-96> (referer: https://www.amazon.com/s?k=python&page=2&qid=1663458276&ref=sr_pg_2)\n"
     ]
    },
    {
     "name": "stdout",
     "output_type": "stream",
     "text": [
      "56\n",
      "['\\n            \\n              71%\\n            \\n          '] 4.5 out of 5 stars 8.5 x 0.25 x 11 inches\n"
     ]
    },
    {
     "name": "stderr",
     "output_type": "stream",
     "text": [
      "2022-09-18 02:01:27 [scrapy.core.engine] DEBUG: Crawled (200) <GET https://www.amazon.com/s?k=python&page=3&qid=1663458276&ref=sr_pg_3> (referer: https://www.amazon.com/Mastering-Financial-Pattern-Recognition-Back-Testing/dp/1098120477/ref=sr_1_108?keywords=python&qid=1663459274&sr=8-108)\n",
      "2022-09-18 02:01:27 [scrapy.core.engine] DEBUG: Crawled (200) <GET https://www.amazon.com/Patterns-Practices-Infrastructure-Code-Terraform/dp/1617298298/ref=sr_1_98?keywords=python&qid=1663459274&sr=8-98> (referer: https://www.amazon.com/s?k=python&page=2&qid=1663458276&ref=sr_pg_2)\n"
     ]
    },
    {
     "name": "stdout",
     "output_type": "stream",
     "text": [
      "57\n",
      "['\\n            \\n              72%\\n            \\n          '] 4.5 out of 5 stars None\n",
      "58\n",
      "['\\n            \\n              70%\\n            \\n          '] 4.4 out of 5 stars 8 x 0.75 x 9.75 inches\n",
      "3\n",
      "Python: - The Bible- 3 Manuscripts in 1 book: -Python Programming For Beginners -Python Programming For Intermediates -Python Programming for Advanced (Your place to learn Python with ease)\n",
      "59\n",
      "['\\n            \\n              75%\\n            \\n          '] 4.8 out of 5 stars 7.38 x 1.1 x 9.25 inches\n",
      "Python Automation Cookbook: 75 Python automation ideas for web scraping, data wrangling, and processing Excel, reports, emails, and more, 2nd Edition\n",
      "Python: For Beginners: A Crash Course Guide To Learn Python in 1 Week\n",
      "Bayesian Analysis with Python: Introduction to statistical modeling and probabilistic programming using PyMC3 and ArviZ, 2nd Edition\n",
      "Python for Algorithmic Trading: From Idea to Cloud Deployment\n",
      "Python: Programming Basics for Absolute Beginners\n",
      "Advanced Python Programming: Accelerate your Python programs using proven techniques and design patterns, 2nd Edition\n",
      "Clean Code: A Handbook of Agile Software Craftsmanship\n",
      "Serious Python: Black-Belt Advice on Deployment, Scalability, Testing, and More\n",
      "Python: Quick Reference - Cheat Sheet - Print & Laminate\n",
      "Python Data Science Handbook: Essential Tools for Working with Data\n",
      "Green Tree Pythons: Natural History and Captive Maintenance\n",
      "Python Programming for Beginners: An Introduction to the Python Computer Language and Computer Programming (Python, Python 3, Python Tutorial)\n",
      "Simulation with Python: Develop Simulation and Modeling in Natural Sciences, Engineering, and Social Sciences\n",
      "Learn Python Programming: This Book Will Teach You About the Language, Data Analysis, and Algorithms and Will Level up Your Skills in Computer Programming to Become an Expert Pythonista\n",
      "Expert Python Programming: Master Python by learning the best coding practices and advanced programming concepts, 4th Edition\n",
      "Web Development with Django: Learn to build modern web applications with a Python-based framework\n",
      "Practical Python Programming for IoT: Build advanced IoT projects using a Raspberry Pi 4, MQTT, RESTful APIs, WebSockets, and Python 3\n",
      "Python Natural Language Processing Cookbook: Over 50 recipes to understand, analyze, and generate text for implementing language processing tasks\n",
      "Learn Python Programming: An in-depth introduction to the fundamentals of Python, 3rd Edition\n",
      "An Introduction to Python Programming for Scientists and Engineers\n",
      "Python One-Liners: Write Concise, Eloquent Python Like a Professional\n",
      "Geometry for Programmers\n",
      "Functional Python Programming: Use a functional approach to write succinct, expressive, and efficient Python code, 3rd Edition\n",
      "From Social Science to Data Science: Key Data Collection and Analysis Skills in Python\n",
      "Introduction to Machine Learning with Python: A Guide for Data Scientists\n",
      "DATA STRUCTURE AND ALGORITHMS: BUILD IN PYTHON\n",
      "Monty Python's The Meaning of Life [Blu-ray]\n",
      "Building Python Microservices with FastAPI: Build secure, scalable, and structured Python microservices from design concepts to infrastructure\n",
      "Practical Discrete Mathematics: Discover math principles that fuel algorithms for computer science and machine learning with Python\n",
      "Python Passion's Ball Python Encyclopedia\n",
      "Python Automation Cookbook: 75 Python automation ideas for web scraping, data wrangling, and processing Excel, reports, emails, and more, 2nd Edition\n",
      "Easy Learning Design Patterns Python (2 Edition): Build Better and Reusable Object-Oriented Code (Easy Learning Python and design patterns and data structures and algorithms)\n",
      "Quantum Chemistry and Computing for the Curious: Illustrated with Python and Qiskit® code\n",
      "Python Feature Engineering Cookbook: Over 70 recipes for creating, engineering, and transforming features to build machine learning models\n",
      "Mastering Object-Oriented Python: Build powerful applications with reusable code using OOP design patterns and Python 3.7, 2nd Edition\n",
      "Python Tricks: A Buffet of Awesome Python Features\n",
      "Monty Python's The Meaning of Life\n",
      "Artificial Intelligence and Deep Learning with Python: Every Line of Code Explained For Readers New to AI and New to Python\n",
      "Python for Geospatial Data Analysis: Theory, Tools, and Practice for Location Intelligence\n",
      "Financial Theory with Python: A Gentle Introduction\n",
      "Monty Python's Flying Circus: Hidden Treasures\n",
      "Python for Kids: A Playful Introduction To Programming\n",
      "Publishing Python Packages: Test, share, and automate your projects\n",
      "Algorithmic Short Selling with Python: Refine your algorithmic trading edge, consistently generate investment ideas, and build a robust long/short product\n",
      "The Self-Taught Programmer: The Definitive Guide to Programming Professionally\n",
      "Data Visualization with Python and JavaScript: Scrape, Clean, Explore, and Transform Your Data\n",
      "The Well-Grounded Python Developer\n",
      "Scaling Python with Ray: Adventures in Cloud and Serverless Patterns\n",
      "Creative Coding in Python: 30+ Programming Projects in Art, Games, and More\n",
      "Kalman Filter Made Easy: A Beginners Guide to the Kalman Filter and Extended Kalman Filter with Real Life Examples Supported by Python Source Code\n",
      "Python Programming For Beginners: Learn The Basics Of Python Programming (Python Crash Course, Programming for Dummies)\n",
      "Python Tools for Scientists: An Introduction to Using Anaconda, JupyterLab, and Python's Scientific Libraries\n",
      "El lenguaje de programación Python de principio a fin (Spanish Edition)\n",
      "Building Versatile Mobile Apps with Python and REST: RESTful Web Services with Django and React\n",
      "Math Adventures with Python: An Illustrated Guide to Exploring Math with Code\n",
      "Murach's Python Programming\n",
      "Mastering Python: Write powerful and efficient code using the full range of Python's capabilities, 2nd Edition\n",
      "Python for Programmers: with Big Data and Artificial Intelligence Case Studies\n",
      "Starting Out with Python\n"
     ]
    },
    {
     "name": "stderr",
     "output_type": "stream",
     "text": [
      "2022-09-18 02:01:28 [scrapy.core.engine] DEBUG: Crawled (200) <GET https://www.amazon.com/Applied-Computational-Thinking-Python-algorithmic-ebook/dp/B08L5GPPR2/ref=sr_1_95?keywords=python&qid=1663459274&sr=8-95> (referer: https://www.amazon.com/s?k=python&page=2&qid=1663458276&ref=sr_pg_2)\n",
      "2022-09-18 02:01:28 [scrapy.core.engine] DEBUG: Crawled (200) <GET https://www.amazon.com/Hands-Data-Preprocessing-Python-effectively-ebook/dp/B09F6R8V2L/ref=sr_1_93?keywords=python&qid=1663459274&sr=8-93> (referer: https://www.amazon.com/s?k=python&page=2&qid=1663458276&ref=sr_pg_2)\n"
     ]
    },
    {
     "name": "stdout",
     "output_type": "stream",
     "text": [
      "60\n",
      "['\\n            \\n              87%\\n            \\n          '] 4.7 out of 5 stars None\n"
     ]
    },
    {
     "name": "stderr",
     "output_type": "stream",
     "text": [
      "2022-09-18 02:01:33 [scrapy.core.engine] DEBUG: Crawled (200) <GET https://www.amazon.com/Monty-Pythons-Flying-Circus-Complete/dp/B08HBKJXHT/ref=sr_1_94?keywords=python&qid=1663459274&sr=8-94> (referer: https://www.amazon.com/s?k=python&page=2&qid=1663458276&ref=sr_pg_2)\n",
      "2022-09-18 02:01:33 [scrapy.core.engine] DEBUG: Crawled (200) <GET https://www.amazon.com/Monty-Python-Shakespeare-English-Renaissance-ebook/dp/B00OM7AQ42/ref=sr_1_90?keywords=python&qid=1663459274&sr=8-90> (referer: https://www.amazon.com/s?k=python&page=2&qid=1663458276&ref=sr_pg_2)\n",
      "2022-09-18 02:01:33 [scrapy.core.engine] DEBUG: Crawled (200) <GET https://www.amazon.com/Effective-Python-Specific-Software-Development/dp/0134853989/ref=sr_1_91?keywords=python&qid=1663459274&sr=8-91> (referer: https://www.amazon.com/s?k=python&page=2&qid=1663458276&ref=sr_pg_2)\n",
      "2022-09-18 02:01:33 [scrapy.core.engine] DEBUG: Crawled (200) <GET https://www.amazon.com/Python-Programming-Beginners-Step-Step-ebook/dp/B07BWT2MR5/ref=sr_1_89?keywords=python&qid=1663459274&sr=8-89> (referer: https://www.amazon.com/s?k=python&page=2&qid=1663458276&ref=sr_pg_2)\n",
      "2022-09-18 02:01:33 [scrapy.core.engine] DEBUG: Crawled (200) <GET https://www.amazon.com/Monster-Python-Dai-Ji-Ping/dp/B09KGM3TJS/ref=sr_1_86?keywords=python&qid=1663459274&sr=8-86> (referer: https://www.amazon.com/s?k=python&page=2&qid=1663458276&ref=sr_pg_2)\n",
      "2022-09-18 02:01:33 [scrapy.core.engine] DEBUG: Crawled (200) <GET https://www.amazon.com/Python-Quick-Reference-Cheat-Laminate-ebook/dp/B00FFT883M/ref=sr_1_92?keywords=python&qid=1663459274&sr=8-92> (referer: https://www.amazon.com/s?k=python&page=2&qid=1663458276&ref=sr_pg_2)\n",
      "2022-09-18 02:01:34 [scrapy.core.engine] DEBUG: Crawled (200) <GET https://www.amazon.com/Architecture-Patterns-Python-Domain-Driven-Microservices/dp/1492052205/ref=sr_1_88?keywords=python&qid=1663459274&sr=8-88> (referer: https://www.amazon.com/s?k=python&page=2&qid=1663458276&ref=sr_pg_2)\n"
     ]
    },
    {
     "name": "stdout",
     "output_type": "stream",
     "text": [
      "[['Python Programming For Beginners: The Most Updated Bible to Master Python From Scratch in Less Than 7 Minutes a Day | Learn How to Program With Hands-On Exercises', ['by ', 'Leonard J. Ledger'], None, None, '5.0 out of 5 stars', '300 ratings', ['\\n            \\n              97%\\n            \\n          '], ['\\n            \\n              3%\\n            \\n          '], [], [], [], None, None, 'English', None, None, '/Python-Programming-Beginners-Hands-Exercises-ebook/dp/B0BCL3D56T/ref=sr_1_26?keywords=python&qid=1663459261&sr=8-26'], ['Python for Data Analysis: Data Wrangling with Pandas, NumPy, and IPython', ['by ', 'William McKinney'], '$53.99', '547 pages', '4.6 out of 5 stars', '1,631 ratings', ['\\n            \\n              76%\\n            \\n          '], ['\\n            \\n              15%\\n            \\n          '], ['\\n            \\n              5%\\n            \\n          '], ['\\n            \\n              2%\\n            \\n          '], ['\\n            \\n              2%\\n            \\n          '], '7 x 1.11 x 9.19 inches', '2.08 pounds', 'English', \"O'Reilly Media; 2nd edition (November 14, 2017)\", ' 978-1491957660', '/Python-Data-Analysis-Wrangling-IPython/dp/1491957662/ref=sr_1_22?keywords=python&qid=1663459261&sr=8-22'], ['Memorable Python: Learn Python Faster', ['by ', 'Jeff Hale'], ' $17.34 ', '167 pages', '4.5 out of 5 stars', '4 ratings', ['\\n            \\n              50%\\n            \\n          '], ['\\n            \\n              50%\\n            \\n          '], [], [], [], None, None, 'English', 'Memorable Tech (November 1, 2019)', None, '/Memorable-Python-Learn-Faster-ebook/dp/B07ZXJKKSN/ref=sr_1_21?keywords=python&qid=1663459261&sr=8-21'], ['Beyond the Basic Stuff with Python: Best Practices for Writing Clean Code', ['by ', 'Al Sweigart'], '$30.22', '384 pages', '4.7 out of 5 stars', '236 ratings', ['\\n            \\n              80%\\n            \\n          '], ['\\n            \\n              15%\\n            \\n          '], ['\\n            \\n              4%\\n            \\n          '], ['\\n            \\n              1%\\n            \\n          '], [], '7 x 0.94 x 9.25 inches', '1.6 pounds', 'English', 'No Starch Press (December 16, 2020)', ' 978-1593279660', '/Python-Beyond-Basics-Al-Sweigart/dp/1593279663/ref=sr_1_23?keywords=python&qid=1663459261&sr=8-23'], ['Python (2nd Edition): Learn Python in One Day and Learn It Well. Python for Beginners with Hands-on Project. (Learn Coding Fast with Hands-On Project Book 1)', [' '], None, '175 pages', '4.5 out of 5 stars', '1,476 ratings', ['\\n            \\n              69%\\n            \\n          '], ['\\n            \\n              19%\\n            \\n          '], ['\\n            \\n              8%\\n            \\n          '], ['\\n            \\n              2%\\n            \\n          '], ['\\n            \\n              2%\\n            \\n          '], None, None, 'Concepts are presented in a \"to-the-point\" style to cater to the busy individual. With this book, you can learn Python in just one day and start coding immediately. ', 'Learn Coding Fast; 2nd edition (May 10, 2017)', None, '/Python-2nd-Beginners-Hands-Project-ebook/dp/B071Z2Q6TQ/ref=sr_1_24?keywords=python&qid=1663459261&sr=8-24'], ['Fluent Python: Clear, Concise, and Effective Programming', ['by ', 'Luciano Ramalho'], '$50.99', '1012 pages', '4.7 out of 5 stars', '118 ratings', ['\\n            \\n              85%\\n            \\n          '], ['\\n            \\n              7%\\n            \\n          '], ['\\n            \\n              3%\\n            \\n          '], ['\\n            \\n              2%\\n            \\n          '], ['\\n            \\n              2%\\n            \\n          '], '7 x 2 x 9.25 inches', '3.48 pounds', 'English', \"O'Reilly Media; 2nd edition (May 10, 2022)\", ' 978-1492056355', '/Fluent-Python-Concise-Effective-Programming/dp/1492056359/ref=sr_1_25?keywords=python&qid=1663459261&sr=8-25'], ['Python Crash Course, 2nd Edition: A Hands-On, Project-Based Introduction to Programming', ['by ', 'Eric Matthes'], '$21.49', '544 pages', '4.7 out of 5 stars', '7,425 ratings', ['\\n            \\n              81%\\n            \\n          '], ['\\n            \\n              13%\\n            \\n          '], ['\\n            \\n              4%\\n            \\n          '], ['\\n            \\n              1%\\n            \\n          '], ['\\n            \\n              1%\\n            \\n          '], '7 x 1.2 x 9.25 inches', '2.3 pounds', '\"Brilliant.\"', 'No Starch Press; 2nd edition (May 3, 2019)', ' 978-1593279288', '/Python-Crash-Course-2nd-Edition/dp/1593279280/ref=sr_1_5?keywords=python&qid=1663459261&sr=8-5'], ['Python Crash Course, 2nd Edition: A Hands-On, Project-Based Introduction to Programming', ['by ', 'Eric Matthes'], '$21.49', '544 pages', '4.7 out of 5 stars', '7,425 ratings', ['\\n            \\n              81%\\n            \\n          '], ['\\n            \\n              13%\\n            \\n          '], ['\\n            \\n              4%\\n            \\n          '], ['\\n            \\n              1%\\n            \\n          '], ['\\n            \\n              1%\\n            \\n          '], '7 x 1.2 x 9.25 inches', '2.3 pounds', '\"Brilliant.\"', 'No Starch Press; 2nd edition (May 3, 2019)', ' 978-1593279288', '/gp/slredirect/picassoRedirect.html/ref=pa_sp_atf_aps_sr_pg1_1?ie=UTF8&adId=A0831503HPEB85GXQZE0&url=%2FPython-Crash-Course-2nd-Edition%2Fdp%2F1593279280%2Fref%3Dsr_1_1_sspa%3Fkeywords%3Dpython%26qid%3D1663459261%26sr%3D8-1-spons%26psc%3D1&qualifier=1663459261&id=8731786596037934&widgetName=sp_atf'], ['Python Programming for Beginners: The Ultimate Crash Course to Learn Python in 7 Days with Step-by-Step Guidance and Hands-On Exercises', ['by ', 'Andrew Park'], ' $13.95 ', '124 pages', '4.5 out of 5 stars', '183 ratings', ['\\n            \\n              77%\\n            \\n          '], ['\\n            \\n              13%\\n            \\n          '], ['\\n            \\n              2%\\n            \\n          '], ['\\n            \\n              2%\\n            \\n          '], ['\\n            \\n              5%\\n            \\n          '], '8 x 0.28 x 10 inches', '11.8 ounces', 'English', 'Independently published (June 17, 2022)', None, '/gp/slredirect/picassoRedirect.html/ref=pa_sp_atf_aps_sr_pg1_1?ie=UTF8&adId=A0090242399S95QDDZH5N&url=%2FPython-Programming-Beginners-Step-Hands%2Fdp%2FB0B3S3RFQT%2Fref%3Dsr_1_4_sspa%3Fkeywords%3Dpython%26qid%3D1663459261%26sr%3D8-4-spons%26psc%3D1&qualifier=1663459261&id=8731786596037934&widgetName=sp_atf'], ['Python for Everybody: Exploring Data in Python 3', ['by ', 'Dr. Charles Russell Severance', ', ', 'Sue Blumenberg', ', et al.'], '$9.99', '247 pages', '4.6 out of 5 stars', '2,467 ratings', ['\\n            \\n              76%\\n            \\n          '], ['\\n            \\n              15%\\n            \\n          '], ['\\n            \\n              5%\\n            \\n          '], ['\\n            \\n              2%\\n            \\n          '], ['\\n            \\n              2%\\n            \\n          '], '7 x 0.56 x 10 inches', '15.2 ounces', 'English', 'CreateSpace Independent Publishing Platform (April 9, 2016)', ' 978-1530051120', '/Python-Everybody-Exploring-Data/dp/1530051126/ref=sr_1_16?keywords=python&qid=1663459261&sr=8-16'], ['Python Programming for Beginners: The #1 Python Programming Crash Course for Beginners to Learn Python Coding Well & Fast (with Hands-On Exercises)', ['by ', 'Codeone Publishing'], '$19.45', '125 pages', '4.3 out of 5 stars', '347 ratings', ['\\n            \\n              66%\\n            \\n          '], ['\\n            \\n              17%\\n            \\n          '], ['\\n            \\n              6%\\n            \\n          '], ['\\n            \\n              6%\\n            \\n          '], ['\\n            \\n              5%\\n            \\n          '], '8 x 0.29 x 10 inches', '12 ounces', 'English', 'Independently published (March 11, 2022)', ' 979-8430918002', '/gp/slredirect/picassoRedirect.html/ref=pa_sp_atf_aps_sr_pg1_1?ie=UTF8&adId=A07655073PG68VFAA461K&url=%2FPython-Programming-Beginners-Hands-Exercises%2Fdp%2FB09TYJY819%2Fref%3Dsr_1_2_sspa%3Fkeywords%3Dpython%26qid%3D1663459261%26sr%3D8-2-spons%26psc%3D1&qualifier=1663459261&id=8731786596037934&widgetName=sp_atf'], [\"Python Distilled (Developer's Library)\", ['by ', 'David Beazley'], '$46.82', '352 pages', '4.6 out of 5 stars', '91 ratings', ['\\n            \\n              76%\\n            \\n          '], ['\\n            \\n              12%\\n            \\n          '], ['\\n            \\n              8%\\n            \\n          '], ['\\n            \\n              1%\\n            \\n          '], ['\\n            \\n              3%\\n            \\n          '], '6.9 x 0.8 x 9 inches', '1.28 pounds', 'English', 'Pearson; 1st edition (September 22, 2021)', ' 978-0134173276', '/gp/slredirect/picassoRedirect.html/ref=pa_sp_atf_aps_sr_pg1_1?ie=UTF8&adId=A07967642ZNNXP4CW7M4K&url=%2FPython-Essential-Reference-Developers-Library%2Fdp%2F0134173279%2Fref%3Dsr_1_3_sspa%3Fkeywords%3Dpython%26qid%3D1663459261%26sr%3D8-3-spons%26psc%3D1&qualifier=1663459261&id=8731786596037934&widgetName=sp_atf'], ['Python and Algorithmic Thinking for the Complete Beginner (2nd Edition): Learn to Think Like a Programmer', ['by ', 'Aristides S Bouras'], '$48.98', '688 pages', '4.5 out of 5 stars', '91 ratings', ['\\n            \\n              72%\\n            \\n          '], ['\\n            \\n              16%\\n            \\n          '], ['\\n            \\n              6%\\n            \\n          '], ['\\n            \\n              2%\\n            \\n          '], ['\\n            \\n              5%\\n            \\n          '], '8 x 1.55 x 10 inches', '2.96 pounds', 'English', 'Independently published (June 16, 2019)', ' 978-1099184871', '/gp/slredirect/picassoRedirect.html/ref=pa_sp_mtf_aps_sr_pg1_1?ie=UTF8&adId=A07543753QJ0V20GWTU5W&url=%2FPython-Algorithmic-Thinking-Complete-Beginner%2Fdp%2F1099184878%2Fref%3Dsr_1_18_sspa%3Fkeywords%3Dpython%26qid%3D1663459261%26sr%3D8-18-spons%26psc%3D1&qualifier=1663459261&id=8731786596037934&widgetName=sp_mtf'], ['Data Visualization in Python with Pandas and Matplotlib', ['by ', 'David Landup'], ' $45.93 ', '447 pages', '4.1 out of 5 stars', '19 ratings', ['\\n            \\n              67%\\n            \\n          '], ['\\n            \\n              7%\\n            \\n          '], ['\\n            \\n              7%\\n            \\n          '], ['\\n            \\n              7%\\n            \\n          '], ['\\n            \\n              12%\\n            \\n          '], '7.44 x 1.05 x 9.69 inches', '1.92 pounds', 'English', 'Independently published (June 16, 2021)', None, '/gp/slredirect/picassoRedirect.html/ref=pa_sp_mtf_aps_sr_pg1_1?ie=UTF8&adId=A047149526877V7QO6MN7&url=%2FData-Visualization-Python-Pandas-Matplotlib%2Fdp%2FB0972TFYN8%2Fref%3Dsr_1_20_sspa%3Fkeywords%3Dpython%26qid%3D1663459261%26sr%3D8-20-spons%26psc%3D1&qualifier=1663459261&id=8731786596037934&widgetName=sp_mtf'], ['Python for Tweens and Teens - 2nd Edition (Full Color Version): Learn Computational and Algorithmic Thinking', ['by ', 'Aristides Bouras'], ' $49.99 ', '360 pages', '4.5 out of 5 stars', '60 ratings', ['\\n            \\n              72%\\n            \\n          '], ['\\n            \\n              17%\\n            \\n          '], ['\\n            \\n              6%\\n            \\n          '], ['\\n            \\n              3%\\n            \\n          '], ['\\n            \\n              3%\\n            \\n          '], '8.5 x 0.85 x 11 inches', '2.26 pounds', 'English', 'Independently published (February 28, 2022)', None, '/gp/slredirect/picassoRedirect.html/ref=pa_sp_mtf_aps_sr_pg1_1?ie=UTF8&adId=A08026591EYQOZHDTAHM8&url=%2FPython-Tweens-Teens-Computational-Algorithmic%2Fdp%2FB09TMT49SD%2Fref%3Dsr_1_19_sspa%3Fkeywords%3Dpython%26qid%3D1663459261%26sr%3D8-19-spons%26psc%3D1&qualifier=1663459261&id=8731786596037934&widgetName=sp_mtf'], ['Monty Python And The Holy Grail', [], None, None, None, None, [], [], [], [], [], None, None, None, None, None, '/Monty-Python-Grail-Graham-Chapman/dp/B07PGCJM9V/ref=sr_1_59?keywords=python&qid=1663459261&sr=8-59'], ['Complete Python & Data Science Online Course for Absolute Beginners', ['by ', 'Mammoth Interactive'], None, None, None, None, [], [], [], [], [], None, None, None, None, None, '/Complete-Python-Science-Absolute-Beginners/dp/B0B96MY9M8/ref=sr_1_54?keywords=python&qid=1663459261&sr=8-54'], ['Python Programming For Beginners: The Most Updated Bible to Master Python From Scratch in Less Than 7 Minutes a Day | Learn How to Program With Hands-On Exercises', ['by ', 'Leonard J. Ledger'], ' $16.97 ', '88 pages', '5.0 out of 5 stars', '300 ratings', ['\\n            \\n              97%\\n            \\n          '], ['\\n            \\n              3%\\n            \\n          '], [], [], [], '8.5 x 0.2 x 11 inches', '10.1 ounces', 'English', 'Independently published (August 31, 2022)', None, '/gp/slredirect/picassoRedirect.html/ref=pa_sp_mtf_aps_sr_pg1_1?ie=UTF8&adId=A0150869RHF5FP7KD10U&url=%2FPython-Programming-Beginners-Hands-Exercises%2Fdp%2FB0BCCYXZMR%2Fref%3Dsr_1_17_sspa%3Fkeywords%3Dpython%26qid%3D1663459261%26sr%3D8-17-spons%26psc%3D1&qualifier=1663459261&id=8731786596037934&widgetName=sp_mtf'], ['PYTHON: PROGRAMMING: A BEGINNER’S GUIDE TO LEARN PYTHON IN 7 DAYS', ['by ', 'Ramsey Hamilton'], ' $0.99 ', '100 pages', '4.4 out of 5 stars', '5,278 ratings', ['\\n            \\n              66%\\n            \\n          '], ['\\n            \\n              17%\\n            \\n          '], ['\\n            \\n              11%\\n            \\n          '], ['\\n            \\n              3%\\n            \\n          '], ['\\n            \\n              4%\\n            \\n          '], None, None, 'English', None, None, '/PYTHON-PROGRAMMING-BEGINNERS-GUIDE-LEARN-ebook/dp/B01GSODGZC/ref=sr_1_56?keywords=python&qid=1663459261&sr=8-56'], ['Python 3 MCQ - Multiple Choice Questions n Answers for Tests, Quizzes - Python Students & Teachers: Python3 Programming Jobs QA (Python 3 Beginners Guide)', ['by ', 'S. C. Lewis'], ' $19.99 ', '152 pages', '2.7 out of 5 stars', '4 ratings', ['\\n            \\n              33%\\n            \\n          '], ['\\n            \\n              35%\\n            \\n          '], ['\\n            \\n              32%\\n            \\n          '], [], [], '8 x 0.35 x 10 inches', '11.2 ounces', 'English', 'CreateSpace Independent Publishing Platform; 1st edition (February 6, 2016)', None, '/Python-MCQ-Questions-Programming-Beginners/dp/1523851104/ref=sr_1_60?keywords=python&qid=1663459261&sr=8-60'], ['Python Basics: A Practical Introduction to Python 3', ['by ', 'David Amos', ', ', 'Dan Bader', ', et al.'], '$37.99', '635 pages', '4.7 out of 5 stars', '476 ratings', ['\\n            \\n              78%\\n            \\n          '], ['\\n            \\n              14%\\n            \\n          '], ['\\n            \\n              4%\\n            \\n          '], ['\\n            \\n              2%\\n            \\n          '], ['\\n            \\n              1%\\n            \\n          '], '6 x 1.44 x 9 inches', '1.85 pounds', 'English', 'Real Python (realpython.com) (March 16, 2021)', ' 978-1775093329', '/Python-Basics-Practical-Introduction/dp/1775093328/ref=sr_1_57?keywords=python&qid=1663459261&sr=8-57'], ['Project Python Turtle Programming (Coding Supergirls Book 2)', [' '], ' $0.99 ', '190 pages', None, None, [], [], [], [], [], None, None, 'English', None, None, '/Project-Python-Turtle-Programming-Supergirls-ebook/dp/B09DM9PX1P/ref=sr_1_55?keywords=python&qid=1663459261&sr=8-55'], ['Monty Python and the Holy Grail [Blu-ray]', [], ' $10.83 ', None, '4.7 out of 5 stars', '9,849 ratings', ['\\n            \\n              85%\\n            \\n          '], ['\\n            \\n              8%\\n            \\n          '], ['\\n            \\n              3%\\n            \\n          '], ['\\n            \\n              1%\\n            \\n          '], ['\\n            \\n              2%\\n            \\n          '], '0.7 x 7.5 x 5.4 inches; 2.4 Ounces', None, None, None, None, '/Monty-Python-Holy-Grail-Blu-ray/dp/B013P0X0E4/ref=sr_1_53?keywords=python&qid=1663459261&sr=8-53'], ['Mathematical Logic through Python', ['by ', 'Gonczarowski Yannai A.'], '$29.99', '284 pages', '5.0 out of 5 stars', '1 rating', ['\\n            \\n              100%\\n            \\n          '], [], [], [], [], '7 x 0.64 x 10 inches', '1.34 pounds', 'English', 'Cambridge University Press; New edition (September 15, 2022)', ' 978-1108949477', '/Mathematical-through-Python-Yannai-Gonczarowski/dp/1108949479/ref=sr_1_52?keywords=python&qid=1663459261&sr=8-52'], ['Python Programming: An Introduction to Computer Science, 3rd Ed.', ['by ', 'John Zelle'], '$42.75', '552 pages', '4.6 out of 5 stars', '376 ratings', ['\\n            \\n              77%\\n            \\n          '], ['\\n            \\n              12%\\n            \\n          '], ['\\n            \\n              6%\\n            \\n          '], ['\\n            \\n              2%\\n            \\n          '], ['\\n            \\n              3%\\n            \\n          '], '7.5 x 1 x 9.2 inches', '2.05 pounds', 'English', 'Franklin, Beedle & Associates; 3rd edition (August 8, 2016)', ' 978-1590282755', '/Python-Programming-Introduction-Computer-Science/dp/1590282752/ref=sr_1_58?keywords=python&qid=1663459261&sr=8-58'], ['Python Machine Learning Project', ['by ', 'RANDY MOORE'], None, '132 pages', None, None, [], [], [], [], [], None, None, 'English', None, None, '/Python-Machine-Learning-Project-RANDY-ebook/dp/B084Q4BJB4/ref=sr_1_49?keywords=python&qid=1663459261&sr=8-49'], ['Practical Statistics for Data Scientists: 50+ Essential Concepts Using R and Python', ['by ', 'Peter Bruce', ', ', 'Andrew Bruce', ', et al.'], '$24.88', '368 pages', '4.6 out of 5 stars', '655 ratings', ['\\n            \\n              76%\\n            \\n          '], ['\\n            \\n              14%\\n            \\n          '], ['\\n            \\n              6%\\n            \\n          '], ['\\n            \\n              2%\\n            \\n          '], ['\\n            \\n              2%\\n            \\n          '], '7 x 0.9 x 9.1 inches', '1.3 pounds', 'English', \"O'Reilly Media; 2nd edition (June 2, 2020)\", ' 978-1492072942', '/Practical-Statistics-Data-Scientists-Essential/dp/149207294X/ref=sr_1_50?keywords=python&qid=1663459261&sr=8-50'], ['PYTHON: Learn Coding Programs with Python Programming and Master Data Analysis & Analytics, Data Science and Machine Learning with the Complete Crash Course for Beginners - 5 Books in 1', ['by ', 'TechExp Academy'], None, '456 pages', '4.2 out of 5 stars', '282 ratings', ['\\n            \\n              61%\\n            \\n          '], ['\\n            \\n              14%\\n            \\n          '], ['\\n            \\n              11%\\n            \\n          '], ['\\n            \\n              5%\\n            \\n          '], ['\\n            \\n              8%\\n            \\n          '], None, None, 'English', None, None, '/PYTHON-Programs-Programming-Analytics-Beginners-ebook/dp/B08T6FQ64Y/ref=sr_1_51?keywords=python&qid=1663459261&sr=8-51'], ['Python for Beginners: A Crash Course Guide to Learn Python in 1 Week', ['by ', 'Timothy C. Needham', ', ', 'Zac Aleman', ', et al.'], None, None, '4.3 out of 5 stars', '3,034 ratings', ['\\n            \\n              66%\\n            \\n          '], ['\\n            \\n              16%\\n            \\n          '], ['\\n            \\n              10%\\n            \\n          '], ['\\n            \\n              3%\\n            \\n          '], ['\\n            \\n              5%\\n            \\n          '], None, None, None, None, None, '/Python-for-Beginners-audiobook/dp/B07N8HFHMX/ref=sr_1_48?keywords=python&qid=1663459261&sr=8-48'], ['Boa Vs. Python', [], None, None, None, None, [], [], [], [], [], None, None, None, None, None, '/Boa-Vs-Python-David-Hewlett/dp/B076JK1T3J/ref=sr_1_42?keywords=python&qid=1663459261&sr=8-42'], ['Developing Spark Applications with Python', ['by ', 'Xavier Morera', ' and ', 'Nereo Campos'], None, '111 pages', '3.6 out of 5 stars', '10 ratings', ['\\n            \\n              42%\\n            \\n          '], ['\\n            \\n              13%\\n            \\n          '], ['\\n            \\n              22%\\n            \\n          '], ['\\n            \\n              13%\\n            \\n          '], ['\\n            \\n              11%\\n            \\n          '], None, None, 'English', None, None, '/Developing-Applications-Python-Xavier-Morera-ebook/dp/B082TMY9VY/ref=sr_1_47?keywords=python&qid=1663459261&sr=8-47'], [\"The Cyberwarrior Handbook: A Beginner's Guide to Hacking from Recon to Exploitation\", ['by ', 'OccupyTheWeb'], None, None, None, None, [], [], [], [], [], None, None, 'English', 'No Starch Press (February 7, 2023)', None, '/Cyberwarrior-Handbook-Beginners-Hacking-Exploitation-ebook/dp/B0B7QX96FZ/ref=sr_1_44?keywords=python&qid=1663459261&sr=8-44'], [\"Python for Beginners: 2 Books in 1: The Perfect Beginner's Guide to Learning How to Program with Python with a Crash Course + Workbook\", ['by ', 'Programming Languages Academy', ', ', 'Matthew Kinsey', ', et al.'], None, None, '4.4 out of 5 stars', '295 ratings', ['\\n            \\n              63%\\n            \\n          '], ['\\n            \\n              22%\\n            \\n          '], ['\\n            \\n              7%\\n            \\n          '], ['\\n            \\n              3%\\n            \\n          '], ['\\n            \\n              4%\\n            \\n          '], None, None, None, None, None, '/Python-Beginners-Perfect-Learning-Workbook/dp/B084VHN9M6/ref=sr_1_43?keywords=python&qid=1663459261&sr=8-43'], ['Machine Learning: 4 Books in 1: A Complete Overview for Beginners to Master the Basics of Python Programming and Understand How to Build Artificial Intelligence Through Data Science', ['by ', 'Samuel Hack', ' and ', 'Sean Antony'], None, None, '3.1 out of 5 stars', '13 ratings', ['\\n            \\n              31%\\n            \\n          '], ['\\n            \\n              10%\\n            \\n          '], ['\\n            \\n              18%\\n            \\n          '], ['\\n            \\n              17%\\n            \\n          '], ['\\n            \\n              24%\\n            \\n          '], None, None, None, None, None, '/Machine-Learning-Programming-Understand-Intelligence/dp/B086R6JFLW/ref=sr_1_41?keywords=python&qid=1663459261&sr=8-41'], ['Python - The Bible: 3 Manuscripts in 1 Book: Python Programming for Beginners - Python Programming for Intermediates - Python Programming for Advanced', [' '], None, None, '4.3 out of 5 stars', '4,033 ratings', ['\\n            \\n              64%\\n            \\n          '], ['\\n            \\n              16%\\n            \\n          '], ['\\n            \\n              10%\\n            \\n          '], ['\\n            \\n              4%\\n            \\n          '], ['\\n            \\n              6%\\n            \\n          '], None, None, None, None, None, '/Python-Manuscripts-Programming-Beginners-Intermediates/dp/B07ZRY1YPV/ref=sr_1_46?keywords=python&qid=1663459261&sr=8-46'], ['Deep Learning with Python', ['by ', 'Francois Chollet'], '$32.49', '384 pages', '4.6 out of 5 stars', '1,349 ratings', ['\\n            \\n              76%\\n            \\n          '], ['\\n            \\n              13%\\n            \\n          '], ['\\n            \\n              4%\\n            \\n          '], ['\\n            \\n              2%\\n            \\n          '], ['\\n            \\n              4%\\n            \\n          '], '7.38 x 0.8 x 9.25 inches', '1.59 pounds', 'English', 'Manning; 1st edition (December 22, 2017)', ' 978-1617294433', '/Deep-Learning-Python-Francois-Chollet/dp/1617294438/ref=sr_1_45?keywords=python&qid=1663459261&sr=8-45'], ['Python Object-Oriented Programming: Build robust and maintainable object-oriented Python applications and libraries, 4th Edition', ['by ', 'Steven F. Lott', ' and ', 'Dusty Phillips'], '$38.24', '714 pages', '4.3 out of 5 stars', '62 ratings', ['\\n            \\n              58%\\n            \\n          '], ['\\n            \\n              19%\\n            \\n          '], ['\\n            \\n              17%\\n            \\n          '], ['\\n            \\n              3%\\n            \\n          '], ['\\n            \\n              2%\\n            \\n          '], '7.5 x 1.61 x 9.25 inches', '2.66 pounds', 'English', 'Packt Publishing; 4th ed. edition (July 2, 2021)', ' 978-1801077262', '/Python-Object-Oriented-Programming-maintainable-object-oriented/dp/1801077266/ref=sr_1_38?keywords=python&qid=1663459261&sr=8-38'], ['Think Python: How to Think Like a Computer Scientist', [' '], '$28.99', '289 pages', '4.6 out of 5 stars', '486 ratings', ['\\n            \\n              77%\\n            \\n          '], ['\\n            \\n              13%\\n            \\n          '], ['\\n            \\n              8%\\n            \\n          '], ['\\n            \\n              1%\\n            \\n          '], ['\\n            \\n              1%\\n            \\n          '], '7.01 x 0.61 x 9.17 inches', '1.14 pounds', 'English', \"O'Reilly Media; 2nd edition (January 26, 2016)\", ' 978-1491939369', '/Think-Python-Like-Computer-Scientist/dp/1491939362/ref=sr_1_39?keywords=python&qid=1663459261&sr=8-39'], ['Python Programming for Beginners: 2 Books in 1 - The Ultimate Step-by-Step Guide To Learn Python Programming Quickly with Practical Exercises (Computer Programming)', [' '], None, '203 pages', '4.9 out of 5 stars', '215 ratings', ['\\n            \\n              91%\\n            \\n          '], ['\\n            \\n              7%\\n            \\n          '], ['\\n            \\n              2%\\n            \\n          '], ['\\n            \\n              1%\\n            \\n          '], [], None, None, 'English', None, None, '/Python-Programming-Beginners-Step-Step-ebook/dp/B0B3V6VCHV/ref=sr_1_37?keywords=python&qid=1663459261&sr=8-37'], ['Learn Python Programming: An in-depth introduction to the fundamentals of Python, 3rd Edition', ['by ', 'Fabrizio Romano', ' and ', 'Heinrich Kruger'], '$37.11', '552 pages', '4.2 out of 5 stars', '34 ratings', ['\\n            \\n              52%\\n            \\n          '], ['\\n            \\n              27%\\n            \\n          '], ['\\n            \\n              12%\\n            \\n          '], ['\\n            \\n              5%\\n            \\n          '], ['\\n            \\n              5%\\n            \\n          '], '7.5 x 1.25 x 9.25 inches', '2.07 pounds', 'English', 'Packt Publishing; 3rd ed. edition (October 29, 2021)', ' 978-1801815093', '/Learn-Python-Programming-depth-introduction/dp/1801815097/ref=sr_1_32?keywords=python&qid=1663459261&sr=8-32'], ['Python for Finance and Algorithmic trading (2nd edition): Machine Learning, Deep Learning, Time series Analysis, Risk and Portfolio Management for MetaTrader™5 Live Trading', ['by ', 'Lucas Inglese'], ' $35.99 ', '325 pages', '4.6 out of 5 stars', '3 ratings', ['\\n            \\n              63%\\n            \\n          '], ['\\n            \\n              37%\\n            \\n          '], [], [], [], '6.69 x 0.74 x 9.61 inches', '1.45 pounds', 'English', 'Independently published (August 18, 2022)', None, '/Python-Finance-Algorithmic-trading-MetaTraderTM5/dp/B0BB5DDB1Q/ref=sr_1_40?keywords=python&qid=1663459261&sr=8-40'], ['Mastering Financial Pattern Recognition: Finding and Back-Testing Candlestick Patterns with Python', ['by ', 'Sofien Kaabar'], '$64.32', '300 pages', None, None, [], [], [], [], [], None, '1.11 pounds', 'English', \"O'Reilly Media; 1st edition (November 29, 2022)\", ' 978-1098120474', '/Mastering-Financial-Pattern-Recognition-Back-Testing/dp/1098120477/ref=sr_1_108?keywords=python&qid=1663459274&sr=8-108'], ['Hands-On Machine Learning with Scikit-Learn, Keras, and TensorFlow: Concepts, Tools, and Techniques to Build Intelligent Systems', ['by ', 'Aurélien Géron'], '$75.99', '850 pages', None, None, [], [], [], [], [], None, '1.11 pounds', 'English', \"O'Reilly Media; 3rd edition (November 15, 2022)\", ' 978-1098125974', '/Hands-Machine-Learning-Scikit-Learn-TensorFlow/dp/1098125975/ref=sr_1_107?keywords=python&qid=1663459274&sr=8-107'], ['Robust Python: Write Clean and Maintainable Code', ['by ', 'Patrick Viafore'], '$32.99', '380 pages', '4.5 out of 5 stars', '53 ratings', ['\\n            \\n              75%\\n            \\n          '], ['\\n            \\n              13%\\n            \\n          '], ['\\n            \\n              6%\\n            \\n          '], ['\\n            \\n              2%\\n            \\n          '], ['\\n            \\n              4%\\n            \\n          '], '7 x 1 x 9 inches', '1.33 pounds', 'English', \"O'Reilly Media; 1st edition (August 3, 2021)\", ' 978-1098100667', '/Robust-Python-Write-Clean-Maintainable/dp/1098100662/ref=sr_1_31?keywords=python&qid=1663459261&sr=8-31'], ['Time Series Analysis with Python Cookbook: Practical recipes for exploratory data analysis, data preparation, forecasting, and model evaluation', ['by ', 'Tarek A. Atwan'], '$47.49', '630 pages', '4.9 out of 5 stars', '10 ratings', ['\\n            \\n              86%\\n            \\n          '], ['\\n            \\n              14%\\n            \\n          '], [], [], [], '7.5 x 1.42 x 9.25 inches', '2.35 pounds', 'English', 'Packt Publishing (June 30, 2022)', ' 978-1801075541', '/Time-Analysis-Python-Cookbook-exploratory/dp/1801075549/ref=sr_1_106?keywords=python&qid=1663459274&sr=8-106'], ['Django 4 By Example: Build powerful and reliable Python web applications from scratch, 4th Edition', ['by ', 'Antonio Mele', ' and ', 'Bob Belderbos'], '$47.18', '764 pages', '5.0 out of 5 stars', '6 ratings', ['\\n            \\n              100%\\n            \\n          '], [], [], [], [], '7.5 x 1.73 x 9.25 inches', '2.84 pounds', 'English', 'Packt Publishing; 4th ed. edition (August 29, 2022)', ' 978-1801813051', '/Django-Example-powerful-reliable-applications/dp/1801813051/ref=sr_1_105?keywords=python&qid=1663459274&sr=8-105'], ['Python GUI Programming with Tkinter: Design and build functional and user-friendly GUI applications, 2nd Edition', ['by ', 'Alan D. Moore'], '$39.99', '664 pages', '4.4 out of 5 stars', '47 ratings', ['\\n            \\n              67%\\n            \\n          '], ['\\n            \\n              10%\\n            \\n          '], ['\\n            \\n              15%\\n            \\n          '], ['\\n            \\n              8%\\n            \\n          '], [], '7.5 x 1.5 x 9.25 inches', '2.47 pounds', 'English', 'Packt Publishing; 2nd ed. edition (October 28, 2021)', ' 978-1801815925', '/gp/slredirect/picassoRedirect.html/ref=pa_sp_mtf_aps_sr_pg1_1?ie=UTF8&adId=A0518203UAXEGDEXIJAB&url=%2FPython-GUI-Programming-Tkinter-user-friendly%2Fdp%2F1801815925%2Fref%3Dsr_1_36_sspa%3Fkeywords%3Dpython%26qid%3D1663459261%26sr%3D8-36-spons%26psc%3D1&qualifier=1663459261&id=8731786596037934&widgetName=sp_mtf'], ['Functional Python Programming: Use a functional approach to write succinct, expressive, and efficient Python code, 3rd Edition', ['by ', 'Steven F. Lott'], None, None, None, None, [], [], [], [], [], None, None, 'English', 'Packt Publishing (December 9, 2022)', None, '/Functional-Python-Programming-functional-expressive-ebook/dp/B0B1N4PLL5/ref=sr_1_104?keywords=python&qid=1663459274&sr=8-104'], [\"Learn Python 3 the Hard Way: A Very Simple Introduction to the Terrifyingly Beautiful World of Computers and Code (Zed Shaw's Hard Way Series)\", [' '], '$31.99', '320 pages', '4.4 out of 5 stars', '904 ratings', ['\\n            \\n              70%\\n            \\n          '], ['\\n            \\n              16%\\n            \\n          '], ['\\n            \\n              7%\\n            \\n          '], ['\\n            \\n              3%\\n            \\n          '], ['\\n            \\n              4%\\n            \\n          '], '7 x 0.73 x 9.13 inches', '1.15 pounds', 'English', 'Addison-Wesley Professional; 1st edition (June 27, 2017)', ' 978-0134692883', '/Learn-Python-Hard-Way-Introduction/dp/0134692888/ref=sr_1_103?keywords=python&qid=1663459274&sr=8-103'], ['Python Programming: 3 Books in 1: The Complete Beginner’s Guide to Learning the Most Popular Programming Language', ['by ', 'Dylan Penny'], '$23.99', '330 pages', '4.1 out of 5 stars', '45 ratings', ['\\n            \\n              62%\\n            \\n          '], ['\\n            \\n              18%\\n            \\n          '], ['\\n            \\n              5%\\n            \\n          '], ['\\n            \\n              3%\\n            \\n          '], ['\\n            \\n              12%\\n            \\n          '], '8 x 0.75 x 10 inches', '1.46 pounds', 'English', 'Independently published (January 22, 2021)', ' 979-8598955789', '/gp/slredirect/picassoRedirect.html/ref=pa_sp_mtf_aps_sr_pg1_1?ie=UTF8&adId=A02488712O8KILTD4L5JJ&url=%2FPython-Programming-Complete-Beginners-Learning%2Fdp%2FB08TRLB4SD%2Fref%3Dsr_1_35_sspa%3Fkeywords%3Dpython%26qid%3D1663459261%26sr%3D8-35-spons%26psc%3D1&qualifier=1663459261&id=8731786596037934&widgetName=sp_mtf'], ['Python Coding for Kids Ages 10+: A Descriptive and Fun Guide to introduce Python Programming', ['by ', 'Usama Makda', ' and ', 'Taimoor Bamazai'], ' $9.99 ', '113 pages', '4.5 out of 5 stars', '26 ratings', ['\\n            \\n              80%\\n            \\n          '], ['\\n            \\n              9%\\n            \\n          '], ['\\n            \\n              5%\\n            \\n          '], ['\\n            \\n              5%\\n            \\n          '], [], '8 x 0.26 x 10 inches', '11 ounces', 'English', 'Independently published (March 17, 2022)', None, '/gp/slredirect/picassoRedirect.html/ref=pa_sp_mtf_aps_sr_pg1_1?ie=UTF8&adId=A061615330POSF88EJHN1&url=%2FPython-Coding-Kids-Ages-Descriptive%2Fdp%2FB09VZ9R749%2Fref%3Dsr_1_33_sspa%3Fkeywords%3Dpython%26qid%3D1663459261%26sr%3D8-33-spons%26psc%3D1&qualifier=1663459261&id=8731786596037934&widgetName=sp_mtf'], ['Python in a Nutshell: A Desktop Quick Reference', ['by ', 'Alex Martelli', ', ', 'Anna Ravenscroft', ', et al.'], '$79.99', '600 pages', None, None, [], [], [], [], [], None, '1.11 pounds', 'English', \"O'Reilly Media; 4th edition (January 31, 2023)\", ' 978-1098113551', '/Python-Nutshell-Desktop-Quick-Reference/dp/1098113551/ref=sr_1_102?keywords=python&qid=1663459274&sr=8-102'], ['Python: 3 books in 1- Your complete guide to python programming with Python for Beginners, Python Data Analysis and Python Machine Learning (Programming Languages for Beginners)', [' '], '$24.95', '472 pages', '4.7 out of 5 stars', '119 ratings', ['\\n            \\n              82%\\n            \\n          '], ['\\n            \\n              10%\\n            \\n          '], ['\\n            \\n              4%\\n            \\n          '], ['\\n            \\n              2%\\n            \\n          '], ['\\n            \\n              1%\\n            \\n          '], '6 x 1.07 x 9 inches', '1.63 pounds', 'English', 'Independently published (February 4, 2022)', ' 979-8410695930', '/Python-programming-Beginners-Programming-Languages/dp/B09RLRHNGS/ref=sr_1_101?keywords=python&qid=1663459274&sr=8-101'], ['Data Science Projects with Python: A case study approach to gaining valuable insights from real data with machine learning, 2nd Edition', ['by ', 'Stephen Klosterman'], '$36.99', '432 pages', '4.6 out of 5 stars', '52 ratings', ['\\n            \\n              79%\\n            \\n          '], ['\\n            \\n              13%\\n            \\n          '], ['\\n            \\n              4%\\n            \\n          '], ['\\n            \\n              5%\\n            \\n          '], [], '7.5 x 0.98 x 9.25 inches', '1.63 pounds', 'English', 'Packt Publishing; 2nd ed. edition (July 29, 2021)', ' 978-1800564480', '/Data-Science-Projects-Python-approach/dp/1800564481/ref=sr_1_100?keywords=python&qid=1663459274&sr=8-100'], ['Teach Yourself VISUALLY Python (Teach Yourself VISUALLY (Tech))', ['by ', 'Ted Hart-Davis', ' and ', 'Guy Hart-Davis'], '$30.00', '304 pages', None, None, [], [], [], [], [], '7.3 x 0.9 x 9.2 inches', '1.35 pounds', 'English', 'Wiley; 1st edition (September 7, 2022)', ' 978-1119860259', '/Teach-Yourself-VISUALLY-Python-Tech/dp/1119860253/ref=sr_1_99?keywords=python&qid=1663459274&sr=8-99'], ['Learn Coding Basics in Hours with Python', ['by ', 'The Tech Academy', ', ', 'Jack C. Stanley', ', et al.'], ' $3.99 ', '108 pages', '4.5 out of 5 stars', '298 ratings', ['\\n            \\n              71%\\n            \\n          '], ['\\n            \\n              17%\\n            \\n          '], ['\\n            \\n              7%\\n            \\n          '], ['\\n            \\n              4%\\n            \\n          '], ['\\n            \\n              1%\\n            \\n          '], '8.5 x 0.25 x 11 inches', '8.8 ounces', 'English', 'Jack Stanley (November 17, 2017)', None, '/gp/slredirect/picassoRedirect.html/ref=pa_sp_mtf_aps_sr_pg1_1?ie=UTF8&adId=A02762032SVQWEGE5S7CX&url=%2FLearn-Coding-Basics-Hours-Python%2Fdp%2F0997326476%2Fref%3Dsr_1_34_sspa%3Fkeywords%3Dpython%26qid%3D1663459261%26sr%3D8-34-spons%26psc%3D1&qualifier=1663459261&id=8731786596037934&widgetName=sp_mtf'], ['Python Programming for Beginners: An Introduction to the Python Computer Language and Computer Programming (Python, Python 3, Python Tutorial)', ['by ', 'Jason Cannon'], None, '164 pages', '4.5 out of 5 stars', '976 ratings', ['\\n            \\n              72%\\n            \\n          '], ['\\n            \\n              15%\\n            \\n          '], ['\\n            \\n              8%\\n            \\n          '], ['\\n            \\n              2%\\n            \\n          '], ['\\n            \\n              2%\\n            \\n          '], None, None, 'English', None, None, '/Python-Programming-Beginners-Introduction-Computer-ebook/dp/B00N4IQRD4/ref=sr_1_97?keywords=python&qid=1663459274&sr=8-97'], ['Advanced Python Scripting for ArcGIS Pro', ['by ', 'Paul A. Zandbergen'], '$40.99', '290 pages', '4.4 out of 5 stars', '41 ratings', ['\\n            \\n              70%\\n            \\n          '], ['\\n            \\n              13%\\n            \\n          '], ['\\n            \\n              10%\\n            \\n          '], ['\\n            \\n              6%\\n            \\n          '], [], '8 x 0.75 x 9.75 inches', '1.75 pounds', 'English', 'Esri Press; 1st edition (July 14, 2020)', ' 978-1589486188', '/Advanced-Python-Scripting-ArcGIS-Pro/dp/1589486188/ref=sr_1_96?keywords=python&qid=1663459274&sr=8-96'], ['Infrastructure as Code, Patterns and Practices: With examples in Python and Terraform', ['by ', 'Rosemary Wang'], '$56.99', '400 pages', '4.8 out of 5 stars', '5 ratings', ['\\n            \\n              75%\\n            \\n          '], ['\\n            \\n              25%\\n            \\n          '], [], [], [], '7.38 x 1.1 x 9.25 inches', '1.37 pounds', 'English', 'Manning (August 30, 2022)', ' 978-1617298295', '/Patterns-Practices-Infrastructure-Code-Terraform/dp/1617298298/ref=sr_1_98?keywords=python&qid=1663459274&sr=8-98'], ['Applied Computational Thinking with Python: Design algorithmic solutions for complex and challenging real-world problems', ['by ', 'Sofía De Jesús', ' and ', 'Dayrene Martinez'], None, '420 pages', '4.7 out of 5 stars', '22 ratings', ['\\n            \\n              87%\\n            \\n          '], ['\\n            \\n              7%\\n            \\n          '], ['\\n            \\n              7%\\n            \\n          '], [], [], None, None, 'English', 'Packt Publishing; 1st edition (November 27, 2020)', None, '/Applied-Computational-Thinking-Python-algorithmic-ebook/dp/B08L5GPPR2/ref=sr_1_95?keywords=python&qid=1663459274&sr=8-95']]\n"
     ]
    },
    {
     "name": "stderr",
     "output_type": "stream",
     "text": [
      "2022-09-18 02:01:34 [scrapy.core.engine] DEBUG: Crawled (200) <GET https://www.amazon.com/Computational-Cell-Physiology-Examples-Python/dp/1661705146/ref=sr_1_87?keywords=python&qid=1663459274&sr=8-87> (referer: https://www.amazon.com/s?k=python&page=2&qid=1663458276&ref=sr_pg_2)\n"
     ]
    },
    {
     "name": "stdout",
     "output_type": "stream",
     "text": [
      "61\n",
      "['\\n            \\n              100%\\n            \\n          '] 5.0 out of 5 stars None\n",
      "62\n",
      "['\\n            \\n              88%\\n            \\n          '] 4.8 out of 5 stars 0.7 x 7.5 x 5.4 inches; 8.82 Ounces\n",
      "63\n",
      "['\\n            \\n              100%\\n            \\n          '] 5.0 out of 5 stars None\n",
      "64\n",
      "['\\n            \\n              82%\\n            \\n          '] 4.7 out of 5 stars 7 x 0.9 x 9 inches\n",
      "65\n",
      "['\\n            \\n              54%\\n            \\n          '] 4.0 out of 5 stars None\n",
      "66\n",
      "[] None None\n",
      "67\n",
      "['\\n            \\n              28%\\n            \\n          '] 3.0 out of 5 stars None\n",
      "68\n",
      "['\\n            \\n              75%\\n            \\n          '] 4.6 out of 5 stars 7 x 0.64 x 9.19 inches\n",
      "69\n",
      "['\\n            \\n              100%\\n            \\n          '] 5.0 out of 5 stars 8 x 1.17 x 10 inches\n"
     ]
    },
    {
     "name": "stderr",
     "output_type": "stream",
     "text": [
      "2022-09-18 02:01:36 [scrapy.core.engine] DEBUG: Crawled (200) <GET https://www.amazon.com/Starting-Out-Python-Tony-Gaddis-ebook/dp/B0BDKKS4FT/ref=sr_1_156?keywords=python&qid=1663459285&sr=8-156> (referer: https://www.amazon.com/s?k=python&page=3&qid=1663458276&ref=sr_pg_3)\n",
      "2022-09-18 02:01:36 [scrapy.core.engine] DEBUG: Crawled (200) <GET https://www.amazon.com/Python-Dash-Analysis-Visualization-Plotly/dp/1718502222/ref=sr_1_85?keywords=python&qid=1663459274&sr=8-85> (referer: https://www.amazon.com/s?k=python&page=2&qid=1663458276&ref=sr_pg_2)\n"
     ]
    },
    {
     "name": "stdout",
     "output_type": "stream",
     "text": [
      "70\n",
      "['\\n            \\n              82%\\n            \\n          '] 4.6 out of 5 stars None\n"
     ]
    },
    {
     "name": "stderr",
     "output_type": "stream",
     "text": [
      "2022-09-18 02:01:39 [scrapy.core.engine] DEBUG: Crawled (200) <GET https://www.amazon.com/Machine-Learning-Programming-Artificial-Intelligence/dp/B0B6XLFWPL/ref=sr_1_82?keywords=python&qid=1663459274&sr=8-82> (referer: https://www.amazon.com/s?k=python&page=2&qid=1663458276&ref=sr_pg_2)\n",
      "2022-09-18 02:01:39 [scrapy.core.engine] DEBUG: Crawled (200) <GET https://www.amazon.com/Learning-Python-Second-Fran%C3%A7ois-Chollet/dp/1617296864/ref=sr_1_84?keywords=python&qid=1663459274&sr=8-84> (referer: https://www.amazon.com/s?k=python&page=2&qid=1663458276&ref=sr_pg_2)\n",
      "2022-09-18 02:01:39 [scrapy.core.engine] DEBUG: Crawled (200) <GET https://www.amazon.com/Python-Finance-Mastering-Data-Driven/dp/1492024333/ref=sr_1_83?keywords=python&qid=1663459274&sr=8-83> (referer: https://www.amazon.com/s?k=python&page=2&qid=1663458276&ref=sr_pg_2)\n",
      "2022-09-18 02:01:39 [scrapy.core.engine] DEBUG: Crawled (200) <GET https://www.amazon.com/Data-Engineering-Python-datasets-pipelines/dp/183921418X/ref=sr_1_81?keywords=python&qid=1663459274&sr=8-81> (referer: https://www.amazon.com/s?k=python&page=2&qid=1663458276&ref=sr_pg_2)\n",
      "2022-09-18 02:01:39 [scrapy.core.engine] DEBUG: Crawled (200) <GET https://www.amazon.com/Python-GUI-Programming-Tkinter-user-friendly/dp/1801815925/ref=sr_1_80?keywords=python&qid=1663459274&sr=8-80> (referer: https://www.amazon.com/s?k=python&page=2&qid=1663458276&ref=sr_pg_2)\n",
      "2022-09-18 02:01:39 [scrapy.core.engine] DEBUG: Crawled (200) <GET https://www.amazon.com/Python-Programmers-Artificial-Intelligence-Studies/dp/0135224330/ref=sr_1_155?keywords=python&qid=1663459285&sr=8-155> (referer: https://www.amazon.com/s?k=python&page=3&qid=1663458276&ref=sr_pg_3)\n"
     ]
    },
    {
     "name": "stdout",
     "output_type": "stream",
     "text": [
      "start_new_page\n",
      "71\n",
      "[] None 6.89 x 0.57 x 9.06 inches\n"
     ]
    },
    {
     "name": "stderr",
     "output_type": "stream",
     "text": [
      "2022-09-18 02:01:39 [scrapy.core.engine] DEBUG: Crawled (200) <GET https://www.amazon.com/Mastering-Python-powerful-efficient-capabilities/dp/1800207727/ref=sr_1_154?keywords=python&qid=1663459285&sr=8-154> (referer: https://www.amazon.com/s?k=python&page=3&qid=1663458276&ref=sr_pg_3)\n",
      "2022-09-18 02:01:39 [scrapy.core.engine] DEBUG: Crawled (200) <GET https://www.amazon.com/Murachs-Python-Programming-Michael-Urban/dp/1890774979/ref=sr_1_153?keywords=python&qid=1663459285&sr=8-153> (referer: https://www.amazon.com/s?k=python&page=3&qid=1663458276&ref=sr_pg_3)\n"
     ]
    },
    {
     "name": "stdout",
     "output_type": "stream",
     "text": [
      "72\n",
      "['\\n            \\n              81%\\n            \\n          '] 4.6 out of 5 stars 6 x 0.78 x 9 inches\n",
      "73\n",
      "['\\n            \\n              82%\\n            \\n          '] 4.6 out of 5 stars 7.38 x 1.4 x 9.25 inches\n",
      "74\n",
      "['\\n            \\n              76%\\n            \\n          '] 4.6 out of 5 stars 7 x 1.6 x 9.1 inches\n",
      "75\n",
      "['\\n            \\n              58%\\n            \\n          '] 4.2 out of 5 stars 7.5 x 0.81 x 9.25 inches\n",
      "76\n",
      "['\\n            \\n              67%\\n            \\n          '] 4.4 out of 5 stars 7.5 x 1.5 x 9.25 inches\n",
      "77\n",
      "['\\n            \\n              70%\\n            \\n          '] 4.4 out of 5 stars 7.1 x 1.2 x 9.1 inches\n",
      "78\n",
      "['\\n            \\n              71%\\n            \\n          '] 4.7 out of 5 stars 7.5 x 1.6 x 9.25 inches\n",
      "79\n",
      "['\\n            \\n              72%\\n            \\n          '] 4.5 out of 5 stars 8 x 1.5 x 9.9 inches\n"
     ]
    },
    {
     "name": "stderr",
     "output_type": "stream",
     "text": [
      "2022-09-18 02:01:41 [scrapy.core.engine] DEBUG: Crawled (200) <GET https://www.amazon.com/Python-Tools-Scientists-Introduction-JupyterLab-ebook/dp/B09WJXRNWT/ref=sr_1_149?keywords=python&qid=1663459285&sr=8-149> (referer: https://www.amazon.com/s?k=python&page=3&qid=1663458276&ref=sr_pg_3)\n",
      "2022-09-18 02:01:42 [scrapy.core.engine] DEBUG: Crawled (200) <GET https://www.amazon.com/Python-Programming-Beginners-Basics-Dummies-ebook/dp/B07GXZMYWC/ref=sr_1_148?keywords=python&qid=1663459285&sr=8-148> (referer: https://www.amazon.com/s?k=python&page=3&qid=1663458276&ref=sr_pg_3)\n",
      "2022-09-18 02:01:42 [scrapy.core.engine] DEBUG: Crawled (200) <GET https://www.amazon.com/lenguaje-programaci%C3%B3n-Python-principio-Spanish/dp/B0B5Q283BL/ref=sr_1_150?keywords=python&qid=1663459285&sr=8-150> (referer: https://www.amazon.com/s?k=python&page=3&qid=1663458276&ref=sr_pg_3)\n"
     ]
    },
    {
     "name": "stdout",
     "output_type": "stream",
     "text": [
      "80\n",
      "[] None None\n"
     ]
    },
    {
     "name": "stderr",
     "output_type": "stream",
     "text": [
      "2022-09-18 02:01:42 [scrapy.core.engine] DEBUG: Crawled (200) <GET https://www.amazon.com/Math-Adventures-Python-Illustrated-Exploring/dp/1593278675/ref=sr_1_152?keywords=python&qid=1663459285&sr=8-152> (referer: https://www.amazon.com/s?k=python&page=3&qid=1663458276&ref=sr_pg_3)\n",
      "2022-09-18 02:01:42 [scrapy.core.engine] DEBUG: Crawled (200) <GET https://www.amazon.com/Building-Versatile-Mobile-Apps-Python/dp/1484263324/ref=sr_1_151?keywords=python&qid=1663459285&sr=8-151> (referer: https://www.amazon.com/s?k=python&page=3&qid=1663458276&ref=sr_pg_3)\n"
     ]
    },
    {
     "name": "stdout",
     "output_type": "stream",
     "text": [
      "81\n",
      "['\\n            \\n              63%\\n            \\n          '] 4.3 out of 5 stars None\n",
      "82\n",
      "['\\n            \\n              100%\\n            \\n          '] 5.0 out of 5 stars 6.89 x 1.66 x 9.37 inches\n"
     ]
    },
    {
     "name": "stderr",
     "output_type": "stream",
     "text": [
      "2022-09-18 02:01:42 [scrapy.core.engine] DEBUG: Crawled (200) <GET https://www.amazon.com/Kalman-Filter-Made-Easy-Beginners/dp/B0B9FQBDRD/ref=sr_1_147?keywords=python&qid=1663459285&sr=8-147> (referer: https://www.amazon.com/s?k=python&page=3&qid=1663458276&ref=sr_pg_3)\n",
      "2022-09-18 02:01:42 [scrapy.core.engine] DEBUG: Crawled (200) <GET https://www.amazon.com/Scaling-Python-Ray-Adventures-Serverless/dp/1098118804/ref=sr_1_145?keywords=python&qid=1663459285&sr=8-145> (referer: https://www.amazon.com/s?k=python&page=3&qid=1663458276&ref=sr_pg_3)\n"
     ]
    },
    {
     "name": "stdout",
     "output_type": "stream",
     "text": [
      "83\n",
      "['\\n            \\n              66%\\n            \\n          '] 4.4 out of 5 stars 7.06 x 0.8 x 9.31 inches\n",
      "84\n",
      "['\\n            \\n              56%\\n            \\n          '] 4.0 out of 5 stars 6.1 x 0.82 x 9.25 inches\n"
     ]
    },
    {
     "name": "stderr",
     "output_type": "stream",
     "text": [
      "2022-09-18 02:01:43 [scrapy.core.engine] DEBUG: Crawled (200) <GET https://www.amazon.com/s?k=python&page=4&qid=1663458276&ref=sr_pg_4> (referer: https://www.amazon.com/Starting-Out-Python-Tony-Gaddis-ebook/dp/B0BDKKS4FT/ref=sr_1_156?keywords=python&qid=1663459285&sr=8-156)\n"
     ]
    },
    {
     "name": "stdout",
     "output_type": "stream",
     "text": [
      "85\n",
      "['\\n            \\n              62%\\n            \\n          '] 3.5 out of 5 stars 8.5 x 0.22 x 11 inches\n",
      "86\n",
      "[] None None\n",
      "4\n",
      "Python machine learning: the complete beginner's guide to deep learning with python. Learn to use Scikit-learn and Pandas\n",
      "PYTHON CRASH COURSE: A PRACTICAL BEGINNER'S GUIDE TO LEARN PYTHON IN 7 DAYS OR LESS, INTRODUCING YOU INTO THE WORLD OF DATA SCIENCE, ARTIFICIAL INTELLIGENCE AND MACHINE LEARNING, WITH HANDS-ON PROJECT\n",
      "Build Your Own Programming Language: A programmer's guide to designing compilers, interpreters, and DSLs for solving modern computing problems\n",
      "Algorithms and Data Structures for Massive Datasets\n",
      "Math Adventures with Python: An Illustrated Guide to Exploring Math with Code\n",
      "Murach's Python Programming\n",
      "Mastering Python: Write powerful and efficient code using the full range of Python's capabilities, 2nd Edition\n",
      "Python for Programmers: with Big Data and Artificial Intelligence Case Studies\n",
      "Python Coding and Programming: Start to Learn the Hard Core of Computer Programming, Data Analysis and Coding Project in Python\n",
      "Python for Data Analysis: A Beginners Guide to Master the Fundamentals of Data Science and Data Analysis by Using Pandas, Numpy and Ipython (Programming Languages for Beginners)\n",
      "Murach's Python for Data Analysis (Training & Reference)\n",
      "Learn to Code by Solving Problems: A Python Programming Primer\n",
      "Python para Principiantes: 2 Libros en 1: Programación de Python para principiantes + Libro de trabajo de Python (Spanish Edition)\n",
      "Practical Python Programming for IoT: Build advanced IoT projects using a Raspberry Pi 4, MQTT, RESTful APIs, WebSockets, and Python 3\n",
      "Learn to Code with Python 3 Online Course\n",
      "Dive Into Algorithms: A Pythonic Adventure for the Intrepid Beginner\n",
      "Python Interview Questions: Brush up for your next Python interview with 240+ solutions on most common challenging interview questions (English Edition)\n",
      "Python: 2 Manuscripts in 1 book: -Python For Beginners -Python 3 Guide\n",
      "Hands-On Data Preprocessing in Python: Learn how to effectively prepare data for successful data analytics\n",
      "Hands-On Explainable AI (XAI) with Python: Interpret, visualize, explain, and integrate reliable AI for fair, secure, and trustworthy AI apps\n",
      "Fundamentals of Python: Data Structures (MindTap Course List)\n",
      "Python Cheat Sheet, Cover the Basic Python Syntaxes, A Reference Guide: Python Programming Synatx Book, Syntax Table & Chart, Quick Study Workbook (Syntax Series)\n",
      "Clean Code in Python: Develop maintainable and efficient code, 2nd Edition\n",
      "Monty Python's The Meaning of Life\n",
      "Python for SAS Users: A SAS-Oriented Introduction to Python\n",
      "Problem Solving with Algorithms and Data Structures Using Python SECOND EDITION\n",
      "Automating Excel with Python: Processing Spreadsheets with OpenPyXL and Python\n",
      "Mastering GUI Programming with Python: Develop impressive cross-platform GUI applications with PyQt\n",
      "Real-World Python: A Hacker's Guide to Solving Problems with Code\n",
      "Python Data Science Handbook: Essential Tools for Working with Data\n",
      "Python for ArcGIS Pro: Automate cartography and data analysis using ArcPy, ArcGIS API for Python, Notebooks, and pandas\n",
      "A Blueprint for Production-Ready Web Applications: Leverage industry best practices to create complete web apps with Python, TypeScript, and AWS\n",
      "Practical Deep Reinforcement Learning with Python: Concise Implementation of Algorithms, Simplified Maths, and Effective Use of TensorFlow and PyTorch (English Edition)\n",
      "Hands-On Data Structures and Algorithms with Python: Store, manipulate, and access data effectively and boost the performance of your applications, 3rd Edition\n",
      "Easy Learning Python 3: Python for Beginner's Guide (Easy Learning Python and design patterns and data structures and algorithms)\n",
      "Full-Color Illustration Data Structrues & Algorithms Python: Easy and Interesting to Learn Through Full-Color Diagrams (Python Foundation & Design Patterns & Data Structures & Algorithms)\n",
      "Python Data Analysis: Perform data collection, data processing, wrangling, visualization, and model building using Python, 3rd Edition\n",
      "Data Structures and Algorithms in Python\n",
      "Coding Projects in Python (Computer Coding for Kids)\n",
      "Quantum Chemistry and Computing for the Curious: Illustrated with Python and Qiskit® code\n",
      "Web Scraping with Python: Collecting More Data from the Modern Web\n",
      "Cracking Codes with Python: An Introduction to Building and Breaking Ciphers\n",
      "Machine Learning for Absolute Beginners: A Plain English Introduction (Third Edition) (Machine Learning with Python for Beginners Book 1)\n",
      "Python for Cybersecurity: Using Python for Cyber Offense and Defense\n",
      "The Complete Python Online Course: Beginner to Advanced\n",
      "Practical Python Data Wrangling and Data Quality: Getting Started with Reading, Cleaning, and Analyzing Data\n",
      "Dead Simple Python: Idiomatic Python for the Impatient Programmer\n",
      "Data Analysis with Python and PySpark\n",
      "Fundamentals of Programming: Using Python\n",
      "Building Python Web APIs with FastAPI: A fast-paced guide to building high-performance, robust web APIs with very little boilerplate code\n",
      "Coding for Kids Python: A Comprehensive Guide that Can Teach Children to Code with Simple Methods\n",
      "My Pet Ball Python Logbook: Record All Important Details About Your Ball Python Snake\n",
      "Metaprogramming with Python: A programmer's guide to writing reusable code to build smarter applications\n",
      "Mastering Python for Networking and Security: Leverage the scripts and libraries of Python version 3.7 and beyond to overcome networking and security issues, 2nd Edition\n",
      "Create GUI Applications with Python & Qt6 (PyQt6 Edition): The hands-on guide to making apps with Python\n",
      "Python Workbook: Learn Python in one day and Learn It Well (Workbook with Questions, Solutions and Projects) (Learn Coding Fast Workbook 1)\n",
      "Interpretable Machine Learning with Python: Learn to build interpretable high-performance models with hands-on real-world examples\n",
      "Machine Learning Guide for Oil and Gas Using Python: A Step-by-Step Breakdown with Data, Algorithms, Codes, and Applications\n",
      "Starting Out with Python\n",
      "Python Django For Web Development: Build Web Applications In Python Using Django Framework\n"
     ]
    },
    {
     "name": "stderr",
     "output_type": "stream",
     "text": [
      "2022-09-18 02:01:44 [scrapy.core.engine] DEBUG: Crawled (200) <GET https://www.amazon.com/Data-Visualization-Python-JavaScript-Transform/dp/1098111877/ref=sr_1_143?keywords=python&qid=1663459285&sr=8-143> (referer: https://www.amazon.com/s?k=python&page=3&qid=1663458276&ref=sr_pg_3)\n",
      "2022-09-18 02:01:44 [scrapy.core.engine] DEBUG: Crawled (200) <GET https://www.amazon.com/Creative-Coding-Python-Programming-Projects/dp/1631595814/ref=sr_1_146?keywords=python&qid=1663459285&sr=8-146> (referer: https://www.amazon.com/s?k=python&page=3&qid=1663458276&ref=sr_pg_3)\n",
      "2022-09-18 02:01:44 [scrapy.core.engine] DEBUG: Crawled (200) <GET https://www.amazon.com/Well-Grounded-Python-Developer-Doug-Farrell/dp/1617297445/ref=sr_1_144?keywords=python&qid=1663459285&sr=8-144> (referer: https://www.amazon.com/s?k=python&page=3&qid=1663458276&ref=sr_pg_3)\n"
     ]
    },
    {
     "name": "stdout",
     "output_type": "stream",
     "text": [
      "87\n",
      "[] None None\n",
      "88\n",
      "['\\n            \\n              78%\\n            \\n          '] 4.7 out of 5 stars 8.4 x 0.75 x 9.55 inches\n"
     ]
    },
    {
     "name": "stderr",
     "output_type": "stream",
     "text": [
      "2022-09-18 02:01:44 [scrapy.core.engine] DEBUG: Crawled (200) <GET https://www.amazon.com/Algorithmic-Short-Selling-Python-consistently/dp/1801815194/ref=sr_1_141?keywords=python&qid=1663459285&sr=8-141> (referer: https://www.amazon.com/s?k=python&page=3&qid=1663458276&ref=sr_pg_3)\n",
      "2022-09-18 02:01:45 [scrapy.core.engine] DEBUG: Crawled (200) <GET https://www.amazon.com/Self-Taught-Programmer-Definitive-Programming-Professionally-ebook/dp/B01M01YDQA/ref=sr_1_142?keywords=python&qid=1663459285&sr=8-142> (referer: https://www.amazon.com/s?k=python&page=3&qid=1663458276&ref=sr_pg_3)\n"
     ]
    },
    {
     "name": "stdout",
     "output_type": "stream",
     "text": [
      "89\n",
      "[] None 7.38 x 0.94 x 9.25 inches\n",
      "90\n",
      "['\\n            \\n              89%\\n            \\n          '] 4.9 out of 5 stars 7.5 x 0.85 x 9.25 inches\n"
     ]
    },
    {
     "name": "stderr",
     "output_type": "stream",
     "text": [
      "2022-09-18 02:01:45 [scrapy.core.engine] DEBUG: Crawled (200) <GET https://www.amazon.com/Monty-Pythons-Meaning-Life-Cleese/dp/B09SM7BK9S/ref=sr_1_134?keywords=python&qid=1663459285&sr=8-134> (referer: https://www.amazon.com/s?k=python&page=3&qid=1663458276&ref=sr_pg_3)\n",
      "2022-09-18 02:01:45 [scrapy.core.engine] DEBUG: Crawled (200) <GET https://www.amazon.com/Publishing-Python-Packages-Dane-Hillard/dp/161729991X/ref=sr_1_140?keywords=python&qid=1663459285&sr=8-140> (referer: https://www.amazon.com/s?k=python&page=3&qid=1663458276&ref=sr_pg_3)\n"
     ]
    },
    {
     "name": "stdout",
     "output_type": "stream",
     "text": [
      "91\n",
      "['\\n            \\n              72%\\n            \\n          '] 4.5 out of 5 stars None\n"
     ]
    },
    {
     "name": "stderr",
     "output_type": "stream",
     "text": [
      "2022-09-18 02:01:45 [scrapy.downloadermiddlewares.redirect] DEBUG: Redirecting (302) to <GET https://www.amazon.com/Mastering-Object-Oriented-Python-powerful-applications/dp/1789531365/ref=sr_1_132_sspa?keywords=python&qid=1663459285&sr=8-132-spons&psc=1&spLa=ZW5jcnlwdGVkUXVhbGlmaWVyPUEyTzhBRFBIQVg0RUJSJmVuY3J5cHRlZElkPUEwMzY4ODMzMU9HMDZPRkgyUldEQiZlbmNyeXB0ZWRBZElkPUEwNzc3MTQ1MzQ2RDNWNzJRRTZMMyZ3aWRnZXROYW1lPXNwX210ZiZhY3Rpb249Y2xpY2tSZWRpcmVjdCZkb05vdExvZ0NsaWNrPXRydWU=> from <GET https://www.amazon.com/gp/slredirect/picassoRedirect.html/ref=pa_sp_mtf_aps_sr_pg3_1?ie=UTF8&adId=A0777145346D3V72QE6L3&url=%2FMastering-Object-Oriented-Python-powerful-applications%2Fdp%2F1789531365%2Fref%3Dsr_1_132_sspa%3Fkeywords%3Dpython%26qid%3D1663459285%26sr%3D8-132-spons%26psc%3D1&qualifier=1663459285&id=824607835465787&widgetName=sp_mtf>\n",
      "2022-09-18 02:01:45 [scrapy.downloadermiddlewares.redirect] DEBUG: Redirecting (302) to <GET https://www.amazon.com/Python-Feature-Engineering-Cookbook-transforming/dp/1789806313/ref=sr_1_131_sspa?keywords=python&qid=1663459285&sr=8-131-spons&psc=1&spLa=ZW5jcnlwdGVkUXVhbGlmaWVyPUEyTzhBRFBIQVg0RUJSJmVuY3J5cHRlZElkPUEwMzY4ODMzMU9HMDZPRkgyUldEQiZlbmNyeXB0ZWRBZElkPUEwMzU1NDI1MkZCWlpCU0Y2NFlUSyZ3aWRnZXROYW1lPXNwX210ZiZhY3Rpb249Y2xpY2tSZWRpcmVjdCZkb05vdExvZ0NsaWNrPXRydWU=> from <GET https://www.amazon.com/gp/slredirect/picassoRedirect.html/ref=pa_sp_mtf_aps_sr_pg3_1?ie=UTF8&adId=A03554252FBZZBSF64YTK&url=%2FPython-Feature-Engineering-Cookbook-transforming%2Fdp%2F1789806313%2Fref%3Dsr_1_131_sspa%3Fkeywords%3Dpython%26qid%3D1663459285%26sr%3D8-131-spons%26psc%3D1&qualifier=1663459285&id=824607835465787&widgetName=sp_mtf>\n",
      "2022-09-18 02:01:45 [scrapy.downloadermiddlewares.redirect] DEBUG: Redirecting (302) to <GET https://www.amazon.com/Quantum-Chemistry-Computing-Curious-Illustrated/dp/1803243902/ref=sr_1_130_sspa?keywords=python&qid=1663459285&sr=8-130-spons&psc=1&spLa=ZW5jcnlwdGVkUXVhbGlmaWVyPUEyTzhBRFBIQVg0RUJSJmVuY3J5cHRlZElkPUEwMzY4ODMzMU9HMDZPRkgyUldEQiZlbmNyeXB0ZWRBZElkPUEwNTM0MDAzSTJFQTNSTTUxNllEJndpZGdldE5hbWU9c3BfbXRmJmFjdGlvbj1jbGlja1JlZGlyZWN0JmRvTm90TG9nQ2xpY2s9dHJ1ZQ==> from <GET https://www.amazon.com/gp/slredirect/picassoRedirect.html/ref=pa_sp_mtf_aps_sr_pg3_1?ie=UTF8&adId=A0534003I2EA3RM516YD&url=%2FQuantum-Chemistry-Computing-Curious-Illustrated%2Fdp%2F1803243902%2Fref%3Dsr_1_130_sspa%3Fkeywords%3Dpython%26qid%3D1663459285%26sr%3D8-130-spons%26psc%3D1&qualifier=1663459285&id=824607835465787&widgetName=sp_mtf>\n"
     ]
    },
    {
     "name": "stdout",
     "output_type": "stream",
     "text": [
      "92\n",
      "[] None None\n",
      "93\n",
      "[] None 7.38 x 0.69 x 9.25 inches\n"
     ]
    },
    {
     "name": "stderr",
     "output_type": "stream",
     "text": [
      "2022-09-18 02:01:46 [scrapy.core.engine] DEBUG: Crawled (200) <GET https://www.amazon.com/Monty-Pythons-Flying-Circus-Treasures/dp/1787393216/ref=sr_1_138?keywords=python&qid=1663459285&sr=8-138> (referer: https://www.amazon.com/s?k=python&page=3&qid=1663458276&ref=sr_pg_3)\n",
      "2022-09-18 02:01:46 [scrapy.core.engine] DEBUG: Crawled (200) <GET https://www.amazon.com/Python-Kids-Playful-Introduction-Programming/dp/1593274076/ref=sr_1_139?keywords=python&qid=1663459285&sr=8-139> (referer: https://www.amazon.com/s?k=python&page=3&qid=1663458276&ref=sr_pg_3)\n"
     ]
    },
    {
     "name": "stdout",
     "output_type": "stream",
     "text": [
      "94\n",
      "['\\n            \\n              87%\\n            \\n          '] 4.8 out of 5 stars 9.33 x 0.75 x 11.26 inches\n"
     ]
    },
    {
     "name": "stderr",
     "output_type": "stream",
     "text": [
      "2022-09-18 02:01:46 [scrapy.core.engine] DEBUG: Crawled (200) <GET https://www.amazon.com/Python-Geospatial-Data-Analysis-Intelligence/dp/109810479X/ref=sr_1_136?keywords=python&qid=1663459285&sr=8-136> (referer: https://www.amazon.com/s?k=python&page=3&qid=1663458276&ref=sr_pg_3)\n"
     ]
    },
    {
     "name": "stdout",
     "output_type": "stream",
     "text": [
      "95\n",
      "['\\n            \\n              75%\\n            \\n          '] 4.6 out of 5 stars 7.06 x 0.96 x 9.31 inches\n"
     ]
    },
    {
     "name": "stderr",
     "output_type": "stream",
     "text": [
      "2022-09-18 02:01:47 [scrapy.core.engine] DEBUG: Crawled (200) <GET https://www.amazon.com/Financial-Theory-Python-Gentle-Introduction/dp/1098104358/ref=sr_1_137?keywords=python&qid=1663459285&sr=8-137> (referer: https://www.amazon.com/s?k=python&page=3&qid=1663458276&ref=sr_pg_3)\n"
     ]
    },
    {
     "name": "stdout",
     "output_type": "stream",
     "text": [
      "96\n",
      "[] None None\n"
     ]
    },
    {
     "name": "stderr",
     "output_type": "stream",
     "text": [
      "2022-09-18 02:01:47 [scrapy.core.engine] DEBUG: Crawled (200) <GET https://www.amazon.com/Artificial-Intelligence-Deep-Learning-Python/dp/B09QNZBZMN/ref=sr_1_135?keywords=python&qid=1663459285&sr=8-135> (referer: https://www.amazon.com/s?k=python&page=3&qid=1663458276&ref=sr_pg_3)\n"
     ]
    },
    {
     "name": "stdout",
     "output_type": "stream",
     "text": [
      "97\n",
      "['\\n            \\n              58%\\n            \\n          '] 4.3 out of 5 stars 6.75 x 0.5 x 8.75 inches\n"
     ]
    },
    {
     "name": "stderr",
     "output_type": "stream",
     "text": [
      "2022-09-18 02:01:47 [scrapy.core.engine] DEBUG: Crawled (200) <GET https://www.amazon.com/Python-Tricks-Buffet-Awesome-Features-ebook/dp/B0785Q7GSY/ref=sr_1_133?keywords=python&qid=1663459285&sr=8-133> (referer: https://www.amazon.com/s?k=python&page=3&qid=1663458276&ref=sr_pg_3)\n"
     ]
    },
    {
     "name": "stdout",
     "output_type": "stream",
     "text": [
      "98\n",
      "['\\n            \\n              100%\\n            \\n          '] 5.0 out of 5 stars 8 x 0.65 x 10 inches\n"
     ]
    },
    {
     "name": "stderr",
     "output_type": "stream",
     "text": [
      "2022-09-18 02:01:48 [scrapy.core.engine] DEBUG: Crawled (200) <GET https://www.amazon.com/Starting-Out-Python-Tony-Gaddis-ebook/dp/B0B1VKVFLF/ref=sr_1_203?keywords=python&qid=1663459301&sr=8-203> (referer: https://www.amazon.com/s?k=python&page=4&qid=1663458276&ref=sr_pg_4)\n"
     ]
    },
    {
     "name": "stdout",
     "output_type": "stream",
     "text": [
      "99\n",
      "['\\n            \\n              76%\\n            \\n          '] 4.7 out of 5 stars None\n"
     ]
    },
    {
     "name": "stderr",
     "output_type": "stream",
     "text": [
      "2022-09-18 02:01:48 [scrapy.core.engine] DEBUG: Crawled (200) <GET https://www.amazon.com/Python-Django-Web-Development-Applications-ebook/dp/B0B6PZF996/ref=sr_1_204?keywords=python&qid=1663459301&sr=8-204> (referer: https://www.amazon.com/s?k=python&page=4&qid=1663458276&ref=sr_pg_4)\n"
     ]
    },
    {
     "name": "stdout",
     "output_type": "stream",
     "text": [
      "100\n",
      "['\\n            \\n              50%\\n            \\n          '] 4.5 out of 5 stars None\n",
      "101\n",
      "['\\n            \\n              100%\\n            \\n          '] 5.0 out of 5 stars None\n"
     ]
    },
    {
     "name": "stderr",
     "output_type": "stream",
     "text": [
      "2022-09-18 02:01:51 [scrapy.core.engine] DEBUG: Crawled (200) <GET https://www.amazon.com/Machine-Learning-Guide-Using-Python/dp/0128219297/ref=sr_1_202?keywords=python&qid=1663459301&sr=8-202> (referer: https://www.amazon.com/s?k=python&page=4&qid=1663458276&ref=sr_pg_4)\n",
      "2022-09-18 02:01:51 [scrapy.core.engine] DEBUG: Crawled (200) <GET https://www.amazon.com/Interpretable-Machine-Learning-Python-hands/dp/180020390X/ref=sr_1_201?keywords=python&qid=1663459301&sr=8-201> (referer: https://www.amazon.com/s?k=python&page=4&qid=1663458276&ref=sr_pg_4)\n",
      "2022-09-18 02:01:51 [scrapy.core.engine] DEBUG: Crawled (200) <GET https://www.amazon.com/Create-Applications-Python-PyQt6-hands/dp/B0B1CK5ZZ1/ref=sr_1_199?keywords=python&qid=1663459301&sr=8-199> (referer: https://www.amazon.com/s?k=python&page=4&qid=1663458276&ref=sr_pg_4)\n",
      "2022-09-18 02:01:51 [scrapy.core.engine] DEBUG: Crawled (200) <GET https://www.amazon.com/Python-Workbook-Questions-Solutions-Projects-ebook/dp/B07WH99L1J/ref=sr_1_200?keywords=python&qid=1663459301&sr=8-200> (referer: https://www.amazon.com/s?k=python&page=4&qid=1663458276&ref=sr_pg_4)\n",
      "2022-09-18 02:01:51 [scrapy.core.engine] DEBUG: Crawled (200) <GET https://www.amazon.com/Mastering-Object-Oriented-Python-powerful-applications/dp/1789531365/ref=sr_1_132_sspa?keywords=python&qid=1663459285&sr=8-132-spons&psc=1&spLa=ZW5jcnlwdGVkUXVhbGlmaWVyPUEyTzhBRFBIQVg0RUJSJmVuY3J5cHRlZElkPUEwMzY4ODMzMU9HMDZPRkgyUldEQiZlbmNyeXB0ZWRBZElkPUEwNzc3MTQ1MzQ2RDNWNzJRRTZMMyZ3aWRnZXROYW1lPXNwX210ZiZhY3Rpb249Y2xpY2tSZWRpcmVjdCZkb05vdExvZ0NsaWNrPXRydWU=> (referer: https://www.amazon.com/s?k=python&page=3&qid=1663458276&ref=sr_pg_3)\n",
      "2022-09-18 02:01:51 [scrapy.core.engine] DEBUG: Crawled (200) <GET https://www.amazon.com/Mastering-Python-Networking-Security-networking/dp/1839217162/ref=sr_1_198?keywords=python&qid=1663459301&sr=8-198> (referer: https://www.amazon.com/s?k=python&page=4&qid=1663458276&ref=sr_pg_4)\n"
     ]
    },
    {
     "name": "stdout",
     "output_type": "stream",
     "text": [
      "start_new_page\n"
     ]
    },
    {
     "name": "stderr",
     "output_type": "stream",
     "text": [
      "2022-09-18 02:01:51 [scrapy.core.engine] DEBUG: Crawled (200) <GET https://www.amazon.com/Quantum-Chemistry-Computing-Curious-Illustrated/dp/1803243902/ref=sr_1_130_sspa?keywords=python&qid=1663459285&sr=8-130-spons&psc=1&spLa=ZW5jcnlwdGVkUXVhbGlmaWVyPUEyTzhBRFBIQVg0RUJSJmVuY3J5cHRlZElkPUEwMzY4ODMzMU9HMDZPRkgyUldEQiZlbmNyeXB0ZWRBZElkPUEwNTM0MDAzSTJFQTNSTTUxNllEJndpZGdldE5hbWU9c3BfbXRmJmFjdGlvbj1jbGlja1JlZGlyZWN0JmRvTm90TG9nQ2xpY2s9dHJ1ZQ==> (referer: https://www.amazon.com/s?k=python&page=3&qid=1663458276&ref=sr_pg_3)\n",
      "2022-09-18 02:01:51 [scrapy.core.engine] DEBUG: Crawled (200) <GET https://www.amazon.com/Python-Feature-Engineering-Cookbook-transforming/dp/1789806313/ref=sr_1_131_sspa?keywords=python&qid=1663459285&sr=8-131-spons&psc=1&spLa=ZW5jcnlwdGVkUXVhbGlmaWVyPUEyTzhBRFBIQVg0RUJSJmVuY3J5cHRlZElkPUEwMzY4ODMzMU9HMDZPRkgyUldEQiZlbmNyeXB0ZWRBZElkPUEwMzU1NDI1MkZCWlpCU0Y2NFlUSyZ3aWRnZXROYW1lPXNwX210ZiZhY3Rpb249Y2xpY2tSZWRpcmVjdCZkb05vdExvZ0NsaWNrPXRydWU=> (referer: https://www.amazon.com/s?k=python&page=3&qid=1663458276&ref=sr_pg_3)\n"
     ]
    },
    {
     "name": "stdout",
     "output_type": "stream",
     "text": [
      "102\n",
      "['\\n            \\n              100%\\n            \\n          '] 5.0 out of 5 stars 5.98 x 1.08 x 9.02 inches\n",
      "103\n",
      "['\\n            \\n              76%\\n            \\n          '] 4.6 out of 5 stars 7.5 x 1.66 x 9.25 inches\n",
      "104\n",
      "['\\n            \\n              50%\\n            \\n          '] 4.0 out of 5 stars 7 x 1.8 x 10 inches\n",
      "105\n",
      "['\\n            \\n              67%\\n            \\n          '] 4.4 out of 5 stars None\n",
      "106\n",
      "['\\n            \\n              73%\\n            \\n          '] 4.6 out of 5 stars 7.5 x 1.74 x 9.25 inches\n",
      "107\n",
      "['\\n            \\n              86%\\n            \\n          '] 4.9 out of 5 stars 7.5 x 1.22 x 9.25 inches\n",
      "108\n",
      "['\\n            \\n              84%\\n            \\n          '] 4.8 out of 5 stars 7.5 x 0.84 x 9.25 inches\n",
      "109\n",
      "['\\n            \\n              61%\\n            \\n          '] 4.0 out of 5 stars 7.5 x 0.84 x 9.25 inches\n"
     ]
    },
    {
     "name": "stderr",
     "output_type": "stream",
     "text": [
      "2022-09-18 02:01:53 [scrapy.core.engine] DEBUG: Crawled (200) <GET https://www.amazon.com/Fundamentals-Programming-Python-Bruce-Embry-ebook/dp/B08KWHWMC9/ref=sr_1_193?keywords=python&qid=1663459301&sr=8-193> (referer: https://www.amazon.com/s?k=python&page=4&qid=1663458276&ref=sr_pg_4)\n",
      "2022-09-18 02:01:54 [scrapy.core.engine] DEBUG: Crawled (200) <GET https://www.amazon.com/Metaprogramming-Python-programmers-reusable-applications/dp/1838554653/ref=sr_1_197?keywords=python&qid=1663459301&sr=8-197> (referer: https://www.amazon.com/s?k=python&page=4&qid=1663458276&ref=sr_pg_4)\n",
      "2022-09-18 02:01:54 [scrapy.core.engine] DEBUG: Crawled (200) <GET https://www.amazon.com/Building-Python-APIs-FastAPI-high-performance/dp/1801076634/ref=sr_1_194?keywords=python&qid=1663459301&sr=8-194> (referer: https://www.amazon.com/s?k=python&page=4&qid=1663458276&ref=sr_pg_4)\n"
     ]
    },
    {
     "name": "stdout",
     "output_type": "stream",
     "text": [
      "110\n",
      "['\\n            \\n              65%\\n            \\n          '] 4.5 out of 5 stars None\n"
     ]
    },
    {
     "name": "stderr",
     "output_type": "stream",
     "text": [
      "2022-09-18 02:01:54 [scrapy.core.engine] DEBUG: Crawled (200) <GET https://www.amazon.com/Dead-Simple-Python-Idiomatic-Programmers/dp/1718500920/ref=sr_1_191?keywords=python&qid=1663459301&sr=8-191> (referer: https://www.amazon.com/s?k=python&page=4&qid=1663458276&ref=sr_pg_4)\n",
      "2022-09-18 02:01:54 [scrapy.core.engine] DEBUG: Crawled (200) <GET https://www.amazon.com/Pet-Ball-Python-Logbook-Important/dp/B09PMHYQQ7/ref=sr_1_196?keywords=python&qid=1663459301&sr=8-196> (referer: https://www.amazon.com/s?k=python&page=4&qid=1663458276&ref=sr_pg_4)\n",
      "2022-09-18 02:01:54 [scrapy.core.engine] DEBUG: Crawled (200) <GET https://www.amazon.com/Analysis-Python-PySpark-Jonathan-Rioux/dp/1617297208/ref=sr_1_192?keywords=python&qid=1663459301&sr=8-192> (referer: https://www.amazon.com/s?k=python&page=4&qid=1663458276&ref=sr_pg_4)\n",
      "2022-09-18 02:01:54 [scrapy.core.engine] DEBUG: Crawled (200) <GET https://www.amazon.com/Coding-Kids-Python-Comprehensive-Children/dp/1956913211/ref=sr_1_195?keywords=python&qid=1663459301&sr=8-195> (referer: https://www.amazon.com/s?k=python&page=4&qid=1663458276&ref=sr_pg_4)\n"
     ]
    },
    {
     "name": "stdout",
     "output_type": "stream",
     "text": [
      "111\n",
      "[] None 7.5 x 0.91 x 9.25 inches\n",
      "112\n",
      "['\\n            \\n              58%\\n            \\n          '] 4.4 out of 5 stars 7.5 x 0.49 x 9.25 inches\n"
     ]
    },
    {
     "name": "stderr",
     "output_type": "stream",
     "text": [
      "2022-09-18 02:01:54 [scrapy.core.engine] DEBUG: Crawled (200) <GET https://www.amazon.com/Complete-Python-Online-Course-Beginner-Advanced/dp/B0B6MVLMND/ref=sr_1_189?keywords=python&qid=1663459301&sr=8-189> (referer: https://www.amazon.com/s?k=python&page=4&qid=1663458276&ref=sr_pg_4)\n"
     ]
    },
    {
     "name": "stdout",
     "output_type": "stream",
     "text": [
      "113\n",
      "[] None 0.04 x 0.04 x 0.04 inches\n",
      "114\n",
      "['\\n            \\n              100%\\n            \\n          '] 5.0 out of 5 stars 6 x 0.28 x 9 inches\n"
     ]
    },
    {
     "name": "stderr",
     "output_type": "stream",
     "text": [
      "2022-09-18 02:01:55 [scrapy.core.engine] DEBUG: Crawled (200) <GET https://www.amazon.com/s?k=python&page=5&qid=1663458276&ref=sr_pg_5> (referer: https://www.amazon.com/Python-Django-Web-Development-Applications-ebook/dp/B0B6PZF996/ref=sr_1_204?keywords=python&qid=1663459301&sr=8-204)\n"
     ]
    },
    {
     "name": "stdout",
     "output_type": "stream",
     "text": [
      "115\n",
      "['\\n            \\n              80%\\n            \\n          '] 4.8 out of 5 stars 7.38 x 1 x 9.25 inches\n",
      "116\n",
      "['\\n            \\n              41%\\n            \\n          '] 4.0 out of 5 stars 6 x 0.31 x 9 inches\n"
     ]
    },
    {
     "name": "stderr",
     "output_type": "stream",
     "text": [
      "2022-09-18 02:01:55 [scrapy.core.engine] DEBUG: Crawled (200) <GET https://www.amazon.com/Practical-Python-Data-Wrangling-Quality/dp/1492091502/ref=sr_1_190?keywords=python&qid=1663459301&sr=8-190> (referer: https://www.amazon.com/s?k=python&page=4&qid=1663458276&ref=sr_pg_4)\n"
     ]
    },
    {
     "name": "stdout",
     "output_type": "stream",
     "text": [
      "117\n",
      "[] 3.4 out of 5 stars None\n",
      "5\n",
      "Microsoft Power BI Cookbook: Gain expertise in Power BI with over 90 hands-on recipes, tips, and use cases, 2nd Edition\n",
      "118\n",
      "['\\n            \\n              50%\\n            \\n          '] 3.5 out of 5 stars 7 x 0.75 x 9.25 inches\n",
      "C# for Tweens and Teens - 2nd Edition (Black & White Version): Learn Computational and Algorithmic Thinking\n",
      "Clean Code in Python: Develop maintainable and efficient code, 2nd Edition\n",
      "Continuous Delivery with Docker and Jenkins: Create secure applications by building complete CI/CD pipelines, 2nd Edition\n",
      "Data Analysis with Python and PySpark\n",
      "Building Python Web APIs with FastAPI: A fast-paced guide to building high-performance, robust web APIs with very little boilerplate code\n",
      "Coding for Kids Python: A Comprehensive Guide that Can Teach Children to Code with Simple Methods\n",
      "My Pet Ball Python Logbook: Record All Important Details About Your Ball Python Snake\n",
      "Mastering Python for Networking and Security: Leverage the scripts and libraries of Python version 3.7 and beyond to overcome networking and security issues, 2nd Edition\n",
      "Create GUI Applications with Python & Qt6 (PyQt6 Edition): The hands-on guide to making apps with Python\n",
      "Interpretable Machine Learning with Python: Learn to build interpretable high-performance models with hands-on real-world examples\n",
      "Machine Learning Guide for Oil and Gas Using Python: A Step-by-Step Breakdown with Data, Algorithms, Codes, and Applications\n",
      "Monty Python and the Holy Grail (Special Edition)\n",
      "Python: All That Jumping\n",
      "Python Django For Web Development: Build Web Applications In Python Using Django Framework\n",
      "Learn Python Quickly: A Complete Beginner’s Guide to Learning Python, Even If You’re New to Programming (Crash Course With Hands-On Project)\n",
      "Algebra Part 1 (Quickstudy Reference Guides - Academic)\n",
      "Python: 3 books in 1- Your complete guide to python programming with Python for Beginners, Python Data Analysis and Python Machine Learning (Programming Languages for Beginners)\n",
      "Python for ArcGIS Pro: Automate cartography and data analysis using ArcPy, ArcGIS API for Python, Notebooks, and pandas\n",
      "Python Object-Oriented Programming: Build robust and maintainable object-oriented Python applications and libraries, 4th Edition\n",
      "Python in 24 Hours, Sams Teach Yourself\n",
      "Introduction to Computation and Programming Using Python, third edition: With Application to Computational Modeling and Understanding Data\n",
      "Python 3 Standard Library by Example, The (Developer's Library)\n",
      "Genetic Algorithms with Python\n",
      "Effective Pandas: Patterns for Data Manipulation (Treading on Python)\n",
      "Fundamentals of Python: First Programs\n",
      "Python & Machine Learning for Financial Analysis Online Course\n",
      "Ball Pythons as Pets: Ball Python breeding, where to buy, types, care, temperament, cost, health, handling, husbandry, diet, and much more included! Caring For Your Ball Python\n",
      "Illustrated Guide to Python 3: A Complete Walkthrough of Beginning Python with Unique Illustrations Showing how Python Really Works. Now covering Python 3.6 (Treading on Python)\n",
      "Python: Programming: Your Step By Step Guide To Easily Learn Python in 7 Days (Python for Beginners, Python Programming for Beginners, Learn Python, Python Language) (Programming Languages Book 6)\n",
      "Spoiling Python's Schemes\n",
      "Data Structures & Algorithms in Python (Developer's Library)\n",
      "Learn Quantum Computing with Python and IBM Quantum Experience: A hands-on introduction to quantum computing and writing your own quantum programs with Python\n",
      "Python Programming: The Ultimate Beginners Guide to Learn Python Programming Step-by-Step (Computer Programming)\n",
      "Teach Yourself VISUALLY Python (Teach Yourself VISUALLY (Tech))\n",
      "Advanced Python Programming: Accelerate your Python programs using proven techniques and design patterns, 2nd Edition\n",
      "Python Machine Learning - Second Edition: Machine Learning and Deep Learning with Python, scikit-learn, and TensorFlow\n",
      "Support Vector Machines (SVM) using Python | Online Course\n",
      "Data Science for Marketing Analytics: A practical guide to forming a killer marketing strategy through data analysis with Python, 2nd Edition\n",
      "Python in easy steps\n",
      "Python Cookbook, Third Edition\n",
      "Intuitive Python: Productive Development for Projects that Last\n",
      "Python Testing with pytest: Simple, Rapid, Effective, and Scalable\n",
      "Learn Quantum Computing with Python and IBM Quantum: Write your own practical quantum programs with Python, 2nd Edition\n",
      "Python for Microcontrollers: Getting Started with MicroPython\n",
      "Data Visualization in Python\n",
      "Python for Serious Beginners: A Practical Introduction to Modern Python with Simple Hands-on Projects (Real Programming Lessons for Smart Learners Book 1)\n",
      "Deep Learning with PyTorch Step-by-Step: A Beginner's Guide: Volume II: Computer Vision\n",
      "Learning Python with Raspberry Pi\n",
      "Applied Mathematics with Open-Source Software: Operational Research Problems with Python and R (Chapman & Hall/CRC Series in Operations Research)\n",
      "Python for Data Science For Dummies\n",
      "Head First Python: A Brain-Friendly Guide\n",
      "Python3 101 MCQ - Multiple Choice Questions Answers for Jobs, Tests and Quizzes: Python3 Programming QA (Python 3 Beginners Guide)\n",
      "Learn More Python 3 the Hard Way: The Next Step for New Python Programmers (Zed Shaw's Hard Way Series)\n",
      "Scientific Computing with Python: High-performance scientific computing with NumPy, SciPy, and pandas, 2nd Edition\n",
      "Mastering Python for Bioinformatics: How to Write Flexible, Documented, Tested Python Code for Research Computing\n",
      "Python Programming and Visualization for Scientists\n",
      "Python Simplified: A Guide to Programming in Python\n",
      "Python Workout: 50 ten-minute exercises\n",
      "The Complete Monty Python's Flying Circus 16 Ton Megaset\n"
     ]
    },
    {
     "name": "stderr",
     "output_type": "stream",
     "text": [
      "2022-09-18 02:01:56 [scrapy.core.engine] DEBUG: Crawled (200) <GET https://www.amazon.com/Python-Cybersecurity-Using-Offense-Defense/dp/1119850649/ref=sr_1_188?keywords=python&qid=1663459301&sr=8-188> (referer: https://www.amazon.com/s?k=python&page=4&qid=1663458276&ref=sr_pg_4)\n",
      "2022-09-18 02:01:56 [scrapy.core.engine] DEBUG: Crawled (200) <GET https://www.amazon.com/Quantum-Chemistry-Computing-Curious-Illustrated/dp/1803243902/ref=sr_1_184?keywords=python&qid=1663459301&sr=8-184> (referer: https://www.amazon.com/s?k=python&page=4&qid=1663458276&ref=sr_pg_4)\n",
      "2022-09-18 02:01:56 [scrapy.downloadermiddlewares.redirect] DEBUG: Redirecting (302) to <GET https://www.amazon.com/Full-Color-Illustration-Structrues-Algorithms-Python/dp/B09HG19N7C/ref=sr_1_180_sspa?keywords=python&qid=1663459301&sr=8-180-spons&psc=1&spLa=ZW5jcnlwdGVkUXVhbGlmaWVyPUEyMDdaWTBJSjdNUTNLJmVuY3J5cHRlZElkPUEwMDI1NDkxMkdTOFlPWURUTURSSCZlbmNyeXB0ZWRBZElkPUEwNjMxODUyWVQxWFJXMVA5TVYzJndpZGdldE5hbWU9c3BfbXRmJmFjdGlvbj1jbGlja1JlZGlyZWN0JmRvTm90TG9nQ2xpY2s9dHJ1ZQ==> from <GET https://www.amazon.com/gp/slredirect/picassoRedirect.html/ref=pa_sp_mtf_aps_sr_pg4_1?ie=UTF8&adId=A0631852YT1XRW1P9MV3&url=%2FFull-Color-Illustration-Structrues-Algorithms-Python%2Fdp%2FB09HG19N7C%2Fref%3Dsr_1_180_sspa%3Fkeywords%3Dpython%26qid%3D1663459301%26sr%3D8-180-spons%26psc%3D1&qualifier=1663459301&id=4885880324769557&widgetName=sp_mtf>\n",
      "2022-09-18 02:01:57 [scrapy.core.engine] DEBUG: Crawled (200) <GET https://www.amazon.com/Machine-Learning-Absolute-Beginners-Introduction-ebook/dp/B08RWBSKQB/ref=sr_1_187?keywords=python&qid=1663459301&sr=8-187> (referer: https://www.amazon.com/s?k=python&page=4&qid=1663458276&ref=sr_pg_4)\n",
      "2022-09-18 02:01:57 [scrapy.core.engine] DEBUG: Crawled (200) <GET https://www.amazon.com/Cracking-Codes-Python-Introduction-Building/dp/1593278225/ref=sr_1_186?keywords=python&qid=1663459301&sr=8-186> (referer: https://www.amazon.com/s?k=python&page=4&qid=1663458276&ref=sr_pg_4)\n"
     ]
    },
    {
     "name": "stdout",
     "output_type": "stream",
     "text": [
      "119\n",
      "['\\n            \\n              85%\\n            \\n          '] 4.6 out of 5 stars 7.38 x 0.55 x 9.25 inches\n",
      "120\n",
      "['\\n            \\n              84%\\n            \\n          '] 4.8 out of 5 stars 7.5 x 0.84 x 9.25 inches\n"
     ]
    },
    {
     "name": "stderr",
     "output_type": "stream",
     "text": [
      "2022-09-18 02:01:57 [scrapy.downloadermiddlewares.redirect] DEBUG: Redirecting (302) to <GET https://www.amazon.com/Easy-Learning-Python-Beginners-Guide/dp/1092328122/ref=sr_1_179_sspa?keywords=python&qid=1663459301&sr=8-179-spons&psc=1&spLa=ZW5jcnlwdGVkUXVhbGlmaWVyPUEyMDdaWTBJSjdNUTNLJmVuY3J5cHRlZElkPUEwMDI1NDkxMkdTOFlPWURUTURSSCZlbmNyeXB0ZWRBZElkPUEwNDI4MzUyMlVTMjdLSzFTM1VYUSZ3aWRnZXROYW1lPXNwX210ZiZhY3Rpb249Y2xpY2tSZWRpcmVjdCZkb05vdExvZ0NsaWNrPXRydWU=> from <GET https://www.amazon.com/gp/slredirect/picassoRedirect.html/ref=pa_sp_mtf_aps_sr_pg4_1?ie=UTF8&adId=A04283522US27KK1S3UXQ&url=%2FEasy-Learning-Python-Beginners-Guide%2Fdp%2F1092328122%2Fref%3Dsr_1_179_sspa%3Fkeywords%3Dpython%26qid%3D1663459301%26sr%3D8-179-spons%26psc%3D1&qualifier=1663459301&id=4885880324769557&widgetName=sp_mtf>\n",
      "2022-09-18 02:01:57 [scrapy.core.engine] DEBUG: Crawled (200) <GET https://www.amazon.com/Web-Scraping-Python-Collecting-Modern/dp/1491985577/ref=sr_1_185?keywords=python&qid=1663459301&sr=8-185> (referer: https://www.amazon.com/s?k=python&page=4&qid=1663458276&ref=sr_pg_4)\n",
      "2022-09-18 02:01:57 [scrapy.downloadermiddlewares.redirect] DEBUG: Redirecting (302) to <GET https://www.amazon.com/Practical-Deep-Reinforcement-Learning-Python/dp/9355512058/ref=sr_1_177_sspa?keywords=python&qid=1663459301&sr=8-177-spons&psc=1&spLa=ZW5jcnlwdGVkUXVhbGlmaWVyPUEyMDdaWTBJSjdNUTNLJmVuY3J5cHRlZElkPUEwMDI1NDkxMkdTOFlPWURUTURSSCZlbmNyeXB0ZWRBZElkPUEwNDMwOTc2MU1FMklXWVRYNFRCSSZ3aWRnZXROYW1lPXNwX210ZiZhY3Rpb249Y2xpY2tSZWRpcmVjdCZkb05vdExvZ0NsaWNrPXRydWU=> from <GET https://www.amazon.com/gp/slredirect/picassoRedirect.html/ref=pa_sp_mtf_aps_sr_pg4_1?ie=UTF8&adId=A04309761ME2IWYTX4TBI&url=%2FPractical-Deep-Reinforcement-Learning-Python%2Fdp%2F9355512058%2Fref%3Dsr_1_177_sspa%3Fkeywords%3Dpython%26qid%3D1663459301%26sr%3D8-177-spons%26psc%3D1&qualifier=1663459301&id=4885880324769557&widgetName=sp_mtf>\n"
     ]
    },
    {
     "name": "stdout",
     "output_type": "stream",
     "text": [
      "121\n",
      "['\\n            \\n              68%\\n            \\n          '] 4.5 out of 5 stars None\n"
     ]
    },
    {
     "name": "stderr",
     "output_type": "stream",
     "text": [
      "2022-09-18 02:01:57 [scrapy.core.engine] DEBUG: Crawled (200) <GET https://www.amazon.com/Coding-Projects-Python-DK/dp/1465461884/ref=sr_1_183?keywords=python&qid=1663459301&sr=8-183> (referer: https://www.amazon.com/s?k=python&page=4&qid=1663458276&ref=sr_pg_4)\n",
      "2022-09-18 02:01:57 [scrapy.core.engine] DEBUG: Crawled (200) <GET https://www.amazon.com/Python-Data-Analysis-collection-visualization/dp/1789955246/ref=sr_1_181?keywords=python&qid=1663459301&sr=8-181> (referer: https://www.amazon.com/s?k=python&page=4&qid=1663458276&ref=sr_pg_4)\n"
     ]
    },
    {
     "name": "stdout",
     "output_type": "stream",
     "text": [
      "122\n",
      "['\\n            \\n              82%\\n            \\n          '] 4.7 out of 5 stars 7.06 x 0.94 x 9.25 inches\n",
      "123\n",
      "['\\n            \\n              76%\\n            \\n          '] 4.6 out of 5 stars 7 x 0.65 x 9.19 inches\n"
     ]
    },
    {
     "name": "stderr",
     "output_type": "stream",
     "text": [
      "2022-09-18 02:01:58 [scrapy.downloadermiddlewares.redirect] DEBUG: Redirecting (302) to <GET https://www.amazon.com/Hands-Data-Structures-Algorithms-Python/dp/1801073449/ref=sr_1_178_sspa?keywords=python&qid=1663459301&sr=8-178-spons&psc=1&spLa=ZW5jcnlwdGVkUXVhbGlmaWVyPUEyMDdaWTBJSjdNUTNLJmVuY3J5cHRlZElkPUEwMDI1NDkxMkdTOFlPWURUTURSSCZlbmNyeXB0ZWRBZElkPUEwOTM2ODQxMU5OOE82S0dWR0xPUCZ3aWRnZXROYW1lPXNwX210ZiZhY3Rpb249Y2xpY2tSZWRpcmVjdCZkb05vdExvZ0NsaWNrPXRydWU=> from <GET https://www.amazon.com/gp/slredirect/picassoRedirect.html/ref=pa_sp_mtf_aps_sr_pg4_1?ie=UTF8&adId=A09368411NN8O6KGVGLOP&url=%2FHands-Data-Structures-Algorithms-Python%2Fdp%2F1801073449%2Fref%3Dsr_1_178_sspa%3Fkeywords%3Dpython%26qid%3D1663459301%26sr%3D8-178-spons%26psc%3D1&qualifier=1663459301&id=4885880324769557&widgetName=sp_mtf>\n"
     ]
    },
    {
     "name": "stdout",
     "output_type": "stream",
     "text": [
      "124\n",
      "['\\n            \\n              79%\\n            \\n          '] 4.6 out of 5 stars 7.75 x 0.63 x 9.19 inches\n",
      "125\n",
      "['\\n            \\n              84%\\n            \\n          '] 4.7 out of 5 stars 7.5 x 1.08 x 9.25 inches\n"
     ]
    },
    {
     "name": "stderr",
     "output_type": "stream",
     "text": [
      "2022-09-18 02:01:58 [scrapy.core.engine] DEBUG: Crawled (200) <GET https://www.amazon.com/Structures-Algorithms-Python-Michael-Goodrich/dp/1118290275/ref=sr_1_182?keywords=python&qid=1663459301&sr=8-182> (referer: https://www.amazon.com/s?k=python&page=4&qid=1663458276&ref=sr_pg_4)\n"
     ]
    },
    {
     "name": "stdout",
     "output_type": "stream",
     "text": [
      "126\n",
      "['\\n            \\n              68%\\n            \\n          '] 4.3 out of 5 stars 7.7 x 1.4 x 9.4 inches\n"
     ]
    },
    {
     "name": "stderr",
     "output_type": "stream",
     "text": [
      "2022-09-18 02:01:59 [scrapy.core.engine] DEBUG: Crawled (200) <GET https://www.amazon.com/Blueprint-Production-Ready-Web-Applications-TypeScript-ebook/dp/B0B4DVHQCG/ref=sr_1_176?keywords=python&qid=1663459301&sr=8-176> (referer: https://www.amazon.com/s?k=python&page=4&qid=1663458276&ref=sr_pg_4)\n",
      "2022-09-18 02:01:59 [scrapy.core.engine] DEBUG: Crawled (200) <GET https://www.amazon.com/Python-Data-Science-Handbook-Essential/dp/1491912057/ref=sr_1_174?keywords=python&qid=1663459301&sr=8-174> (referer: https://www.amazon.com/s?k=python&page=4&qid=1663458276&ref=sr_pg_4)\n"
     ]
    },
    {
     "name": "stdout",
     "output_type": "stream",
     "text": [
      "127\n",
      "[] None None\n",
      "128\n",
      "['\\n            \\n              75%\\n            \\n          '] 4.6 out of 5 stars 7 x 1.11 x 9.19 inches\n"
     ]
    },
    {
     "name": "stderr",
     "output_type": "stream",
     "text": [
      "2022-09-18 02:02:00 [scrapy.core.engine] DEBUG: Crawled (200) <GET https://www.amazon.com/Python-Workout-50-Essential-Exercises/dp/1617295507/ref=sr_1_251?keywords=python&qid=1663459313&sr=8-251> (referer: https://www.amazon.com/s?k=python&page=5&qid=1663458276&ref=sr_pg_5)\n",
      "2022-09-18 02:02:00 [scrapy.core.engine] DEBUG: Crawled (200) <GET https://www.amazon.com/Python-ArcGIS-Pro-Automate-cartography/dp/1803241667/ref=sr_1_175?keywords=python&qid=1663459301&sr=8-175> (referer: https://www.amazon.com/s?k=python&page=4&qid=1663458276&ref=sr_pg_4)\n",
      "2022-09-18 02:02:00 [scrapy.core.engine] DEBUG: Crawled (200) <GET https://www.amazon.com/Complete-Pythons-Flying-Circus-Megaset/dp/B0009XRZ92/ref=sr_1_252?keywords=python&qid=1663459313&sr=8-252> (referer: https://www.amazon.com/s?k=python&page=5&qid=1663458276&ref=sr_pg_5)\n",
      "2022-09-18 02:02:00 [scrapy.core.engine] DEBUG: Crawled (200) <GET https://www.amazon.com/Python-Simplified-Guide-Programming/dp/B09WPZSQKH/ref=sr_1_250?keywords=python&qid=1663459313&sr=8-250> (referer: https://www.amazon.com/s?k=python&page=5&qid=1663458276&ref=sr_pg_5)\n"
     ]
    },
    {
     "name": "stdout",
     "output_type": "stream",
     "text": [
      "129\n",
      "['\\n            \\n              88%\\n            \\n          '] 4.9 out of 5 stars 7.38 x 0.6 x 9.25 inches\n",
      "130\n",
      "['\\n            \\n              84%\\n            \\n          '] 4.7 out of 5 stars 7.5 x 1.32 x 9.25 inches\n",
      "131\n",
      "['\\n            \\n              89%\\n            \\n          '] 4.8 out of 5 stars 7.75 x 5.5 x 4.75 inches; 3.05 Pounds\n"
     ]
    },
    {
     "name": "stderr",
     "output_type": "stream",
     "text": [
      "2022-09-18 02:02:04 [scrapy.core.engine] DEBUG: Crawled (200) <GET https://www.amazon.com/Real-World-Python-Hackers-Solving-Problems/dp/1718500629/ref=sr_1_173?keywords=python&qid=1663459301&sr=8-173> (referer: https://www.amazon.com/s?k=python&page=4&qid=1663458276&ref=sr_pg_4)\n",
      "2022-09-18 02:02:04 [scrapy.extensions.logstats] INFO: Crawled 138 pages (at 138 pages/min), scraped 0 items (at 0 items/min)\n",
      "2022-09-18 02:02:04 [scrapy.core.engine] DEBUG: Crawled (200) <GET https://www.amazon.com/Full-Color-Illustration-Structrues-Algorithms-Python/dp/B09HG19N7C/ref=sr_1_180_sspa?keywords=python&qid=1663459301&sr=8-180-spons&psc=1&spLa=ZW5jcnlwdGVkUXVhbGlmaWVyPUEyMDdaWTBJSjdNUTNLJmVuY3J5cHRlZElkPUEwMDI1NDkxMkdTOFlPWURUTURSSCZlbmNyeXB0ZWRBZElkPUEwNjMxODUyWVQxWFJXMVA5TVYzJndpZGdldE5hbWU9c3BfbXRmJmFjdGlvbj1jbGlja1JlZGlyZWN0JmRvTm90TG9nQ2xpY2s9dHJ1ZQ==> (referer: https://www.amazon.com/s?k=python&page=4&qid=1663458276&ref=sr_pg_4)\n",
      "2022-09-18 02:02:04 [scrapy.core.engine] DEBUG: Crawled (200) <GET https://www.amazon.com/Python-Programming-Visualization-Scientists-Decaria/dp/0972903356/ref=sr_1_249?keywords=python&qid=1663459313&sr=8-249> (referer: https://www.amazon.com/s?k=python&page=5&qid=1663458276&ref=sr_pg_5)\n",
      "2022-09-18 02:02:04 [scrapy.core.engine] DEBUG: Crawled (200) <GET https://www.amazon.com/Easy-Learning-Python-Beginners-Guide/dp/1092328122/ref=sr_1_179_sspa?keywords=python&qid=1663459301&sr=8-179-spons&psc=1&spLa=ZW5jcnlwdGVkUXVhbGlmaWVyPUEyMDdaWTBJSjdNUTNLJmVuY3J5cHRlZElkPUEwMDI1NDkxMkdTOFlPWURUTURSSCZlbmNyeXB0ZWRBZElkPUEwNDI4MzUyMlVTMjdLSzFTM1VYUSZ3aWRnZXROYW1lPXNwX210ZiZhY3Rpb249Y2xpY2tSZWRpcmVjdCZkb05vdExvZ0NsaWNrPXRydWU=> (referer: https://www.amazon.com/s?k=python&page=4&qid=1663458276&ref=sr_pg_4)\n"
     ]
    },
    {
     "name": "stdout",
     "output_type": "stream",
     "text": [
      "start_new_page\n"
     ]
    },
    {
     "name": "stderr",
     "output_type": "stream",
     "text": [
      "2022-09-18 02:02:04 [scrapy.core.engine] DEBUG: Crawled (200) <GET https://www.amazon.com/Learn-More-Python-Hard-Way/dp/0134123484/ref=sr_1_246?keywords=python&qid=1663459313&sr=8-246> (referer: https://www.amazon.com/s?k=python&page=5&qid=1663458276&ref=sr_pg_5)\n",
      "2022-09-18 02:02:04 [scrapy.core.engine] DEBUG: Crawled (200) <GET https://www.amazon.com/Scientific-Computing-Python-High-performance-scientific/dp/1838822321/ref=sr_1_247?keywords=python&qid=1663459313&sr=8-247> (referer: https://www.amazon.com/s?k=python&page=5&qid=1663458276&ref=sr_pg_5)\n"
     ]
    },
    {
     "name": "stdout",
     "output_type": "stream",
     "text": [
      "132\n",
      "[] None 6 x 0.15 x 9 inches\n",
      "133\n",
      "['\\n            \\n              78%\\n            \\n          '] 4.7 out of 5 stars 7 x 0.93 x 9.25 inches\n",
      "134\n",
      "[] None 8 x 0.62 x 10 inches\n",
      "135\n",
      "['\\n            \\n              100%\\n            \\n          '] 5.0 out of 5 stars 8.25 x 0.77 x 11 inches\n"
     ]
    },
    {
     "name": "stderr",
     "output_type": "stream",
     "text": [
      "2022-09-18 02:02:05 [scrapy.core.engine] DEBUG: Crawled (200) <GET https://www.amazon.com/Practical-Deep-Reinforcement-Learning-Python/dp/9355512058/ref=sr_1_177_sspa?keywords=python&qid=1663459301&sr=8-177-spons&psc=1&spLa=ZW5jcnlwdGVkUXVhbGlmaWVyPUEyMDdaWTBJSjdNUTNLJmVuY3J5cHRlZElkPUEwMDI1NDkxMkdTOFlPWURUTURSSCZlbmNyeXB0ZWRBZElkPUEwNDMwOTc2MU1FMklXWVRYNFRCSSZ3aWRnZXROYW1lPXNwX210ZiZhY3Rpb249Y2xpY2tSZWRpcmVjdCZkb05vdExvZ0NsaWNrPXRydWU=> (referer: https://www.amazon.com/s?k=python&page=4&qid=1663458276&ref=sr_pg_4)\n"
     ]
    },
    {
     "name": "stdout",
     "output_type": "stream",
     "text": [
      "136\n",
      "['\\n            \\n              42%\\n            \\n          '] 3.9 out of 5 stars 8 x 0.43 x 10 inches\n",
      "137\n",
      "['\\n            \\n              77%\\n            \\n          '] 4.6 out of 5 stars 6.9 x 0.6 x 9 inches\n",
      "138\n",
      "['\\n            \\n              72%\\n            \\n          '] 4.6 out of 5 stars 7.5 x 0.89 x 9.25 inches\n",
      "139\n",
      "['\\n            \\n              100%\\n            \\n          '] 5.0 out of 5 stars 7.5 x 0.9 x 9.25 inches\n"
     ]
    },
    {
     "name": "stderr",
     "output_type": "stream",
     "text": [
      "2022-09-18 02:02:07 [scrapy.core.engine] DEBUG: Crawled (200) <GET https://www.amazon.com/Hands-Data-Structures-Algorithms-Python/dp/1801073449/ref=sr_1_178_sspa?keywords=python&qid=1663459301&sr=8-178-spons&psc=1&spLa=ZW5jcnlwdGVkUXVhbGlmaWVyPUEyMDdaWTBJSjdNUTNLJmVuY3J5cHRlZElkPUEwMDI1NDkxMkdTOFlPWURUTURSSCZlbmNyeXB0ZWRBZElkPUEwOTM2ODQxMU5OOE82S0dWR0xPUCZ3aWRnZXROYW1lPXNwX210ZiZhY3Rpb249Y2xpY2tSZWRpcmVjdCZkb05vdExvZ0NsaWNrPXRydWU=> (referer: https://www.amazon.com/s?k=python&page=4&qid=1663458276&ref=sr_pg_4)\n",
      "2022-09-18 02:02:07 [scrapy.core.engine] DEBUG: Crawled (200) <GET https://www.amazon.com/Mastering-Python-Bioinformatics-Documented-Computing/dp/1098100883/ref=sr_1_248?keywords=python&qid=1663459313&sr=8-248> (referer: https://www.amazon.com/s?k=python&page=5&qid=1663458276&ref=sr_pg_5)\n",
      "2022-09-18 02:02:07 [scrapy.core.engine] DEBUG: Crawled (200) <GET https://www.amazon.com/Python-Data-Science-Dummies-Computer/dp/1119547628/ref=sr_1_243?keywords=python&qid=1663459313&sr=8-243> (referer: https://www.amazon.com/s?k=python&page=5&qid=1663458276&ref=sr_pg_5)\n"
     ]
    },
    {
     "name": "stdout",
     "output_type": "stream",
     "text": [
      "140\n",
      "['\\n            \\n              58%\\n            \\n          '] 4.6 out of 5 stars 7.5 x 1.12 x 9.25 inches\n"
     ]
    },
    {
     "name": "stderr",
     "output_type": "stream",
     "text": [
      "2022-09-18 02:02:07 [scrapy.core.engine] DEBUG: Crawled (200) <GET https://www.amazon.com/Applied-Mathematics-Open-Source-Software-Operational-ebook/dp/B09ZH4JQ81/ref=sr_1_242?keywords=python&qid=1663459313&sr=8-242> (referer: https://www.amazon.com/s?k=python&page=5&qid=1663458276&ref=sr_pg_5)\n",
      "2022-09-18 02:02:07 [scrapy.core.engine] DEBUG: Crawled (200) <GET https://www.amazon.com/Python3-101-MCQ-Questions-Programming/dp/1523829222/ref=sr_1_245?keywords=python&qid=1663459313&sr=8-245> (referer: https://www.amazon.com/s?k=python&page=5&qid=1663458276&ref=sr_pg_5)\n"
     ]
    },
    {
     "name": "stdout",
     "output_type": "stream",
     "text": [
      "141\n",
      "['\\n            \\n              100%\\n            \\n          '] 5.0 out of 5 stars 7 x 1 x 9 inches\n",
      "142\n",
      "['\\n            \\n              62%\\n            \\n          '] 4.4 out of 5 stars 7.4 x 1.2 x 9.2 inches\n"
     ]
    },
    {
     "name": "stderr",
     "output_type": "stream",
     "text": [
      "2022-09-18 02:02:08 [scrapy.core.engine] DEBUG: Crawled (200) <GET https://www.amazon.com/Head-First-Python-Brain-Friendly-Guide/dp/1491919531/ref=sr_1_244?keywords=python&qid=1663459313&sr=8-244> (referer: https://www.amazon.com/s?k=python&page=5&qid=1663458276&ref=sr_pg_5)\n"
     ]
    },
    {
     "name": "stdout",
     "output_type": "stream",
     "text": [
      "143\n",
      "['\\n            \\n              100%\\n            \\n          '] 5.0 out of 5 stars None\n",
      "144\n",
      "['\\n            \\n              51%\\n            \\n          '] 3.9 out of 5 stars 8 x 0.08 x 10 inches\n"
     ]
    },
    {
     "name": "stderr",
     "output_type": "stream",
     "text": [
      "2022-09-18 02:02:08 [scrapy.core.engine] DEBUG: Crawled (200) <GET https://www.amazon.com/Deep-Learning-PyTorch-Step-Step/dp/B09QNZWW66/ref=sr_1_240?keywords=python&qid=1663459313&sr=8-240> (referer: https://www.amazon.com/s?k=python&page=5&qid=1663458276&ref=sr_pg_5)\n",
      "2022-09-18 02:02:08 [scrapy.core.engine] DEBUG: Crawled (200) <GET https://www.amazon.com/Learning-Python-Raspberry-Alex-Bradbury/dp/1118717058/ref=sr_1_241?keywords=python&qid=1663459313&sr=8-241> (referer: https://www.amazon.com/s?k=python&page=5&qid=1663458276&ref=sr_pg_5)\n"
     ]
    },
    {
     "name": "stdout",
     "output_type": "stream",
     "text": [
      "145\n",
      "['\\n            \\n              75%\\n            \\n          '] 4.6 out of 5 stars 8 x 1.3 x 9.2 inches\n",
      "146\n",
      "['\\n            \\n              79%\\n            \\n          '] 4.8 out of 5 stars 7 x 0.9 x 10 inches\n",
      "147\n",
      "['\\n            \\n              53%\\n            \\n          '] 4.2 out of 5 stars 7.5 x 0.7 x 9.2 inches\n"
     ]
    },
    {
     "name": "stderr",
     "output_type": "stream",
     "text": [
      "2022-09-18 02:02:09 [scrapy.core.engine] DEBUG: Crawled (200) <GET https://www.amazon.com/Python-Absolute-Beginners-Introduction-Hands-ebook/dp/B09M7P9WCZ/ref=sr_1_239?keywords=python&qid=1663459313&sr=8-239> (referer: https://www.amazon.com/s?k=python&page=5&qid=1663458276&ref=sr_pg_5)\n",
      "2022-09-18 02:02:09 [scrapy.core.engine] DEBUG: Crawled (200) <GET https://www.amazon.com/s?k=python&page=6&qid=1663458276&ref=sr_pg_6> (referer: https://www.amazon.com/Complete-Pythons-Flying-Circus-Megaset/dp/B0009XRZ92/ref=sr_1_252?keywords=python&qid=1663459313&sr=8-252)\n"
     ]
    },
    {
     "name": "stdout",
     "output_type": "stream",
     "text": [
      "148\n",
      "['\\n            \\n              100%\\n            \\n          '] 4.0 out of 5 stars None\n",
      "6\n",
      "Windows 11 for Beginners 2022: The Most Updated All-in-One Guide to Master All the Features of your PC and Make it Faster and Protected | Learn how Operate with Windows 11 in 7 Days or Less\n",
      "Digital Forensics and Incident Response: Incident response techniques and procedures to respond to modern cyber threats, 2nd Edition\n",
      "Learn JavaScript Quickly: A Complete Beginner’s Guide to Learning JavaScript, Even If You’re New to Programming (Crash Course With Hands-On Project)\n",
      "IoT and Edge Computing for Architects: Implementing edge and IoT systems from sensors to clouds with communication systems, analytics, and security, 2nd Edition\n",
      "Python Simplified: A Guide to Programming in Python\n",
      "Python Workout: 50 ten-minute exercises\n",
      "A Smarter Way to Learn Python: Learn it faster. Remember it longer.\n",
      "Defeating the Python Spirit: Discover the Symptoms of this Spirits and How it Operates, Contains Dangerous Prayers and Decrees to Break Free From its ... Demonic Strongholds, Breaking Demonic Curs)\n",
      "Interactive Data Visualization with Python: Present your data as an effective and compelling story, 2nd Edition\n",
      "Foundations of Statistics for Data Scientists: With R and Python (Chapman & Hall/CRC Texts in Statistical Science)\n",
      "Python Testing with pytest: Simple, Rapid, Effective, and Scalable\n",
      "Machine Learning for Time-Series with Python: Forecast, predict, and detect anomalies with state-of-the-art machine learning methods\n",
      "The Greedy Python/Ready-to-Read Level 1 (The World of Eric Carle)\n",
      "Python Machine Learning By Example: Build intelligent systems using Python, TensorFlow 2, PyTorch, and scikit-learn, 3rd Edition\n",
      "Violent Python: A Cookbook for Hackers, Forensic Analysts, Penetration Testers and Security Engineers\n",
      "Programming ArcGIS Pro with Python (2nd Edition)\n",
      "PYTHON PROGRAMMING: 3 BOOKS IN 1: The Complete guide to Learn Everything you Need to Know about Python\n",
      "Django 4 By Example: Build powerful and reliable Python web applications from scratch, 4th Edition\n",
      "Python for Beginners: The Biggest Python Programming Crash Course for Beginners | Learn Python Coding Like a PRO in 7 Days! + Hands-On Workbook\n",
      "Foundational Python for Data Science (Addison-Wesley Data & Analytics Series)\n",
      "Quantitative Finance with Python: A Practical Guide to Investment Management, Trading, and Financial Engineering (Chapman and Hall/CRC Financial Mathematics Series)\n",
      "101 Labs - Python: Hands-on Python Certification Training Labs\n",
      "SQL QuickStart Guide: The Simplified Beginner's Guide to Managing, Analyzing, and Manipulating Data With SQL\n",
      "The Complete Recession Proof Excel, Machine Learning, Python Online Course\n",
      "Algorithmic Trading with Python: Quantitative Methods and Strategy Development\n",
      "Learn Python 3.0 VISUALLY: with 99 Interactive Exercises and Quizzes (Learn Visually)\n",
      "Practical Deep Learning: A Python-Based Introduction\n",
      "Artificial Intelligence in Finance: A Python-Based Guide\n",
      "Flask Web Development: Developing Web Applications with Python\n",
      "Python Flash Cards: Syntax, Concepts, and Examples\n",
      "Python Scripting for ArcGIS Pro\n",
      "Monty Python's And Now For Something Completely Different: The Best of Monty Python's Flying Circus\n",
      "Python: The Complete Crash Course to Learn Python in One Week Machine Learning and Deep Learning with Hands-On Exercises\n",
      "Algorithms Python (2 Edition): Easy to learn algorithms through full-color diagrams. (Easy Learning Python and design patterns and data structures and algorithms)\n",
      "Pandas 1.x Cookbook: Practical recipes for scientific computing, time series analysis, and exploratory data analysis using Python, 2nd Edition\n",
      "The Pythonic Way: An Architect’s Guide to Conventions and Best Practices for the Design, Development, Testing, and Management of Enterprise Python Code (English Edition)\n",
      "SQL: 3 books 1 - The Ultimate Beginner, Intermediate & Expert Guides To Master SQL Programming Quickly with Practical Exercises\n",
      "Hyperparameter Tuning with Python: Boost your machine learning model's performance via hyperparameter tuning\n",
      "Python Crash Course: Python Programming Is the Ultimate Crash Course to Programming with Python Coding Language Ideal to Learn Faster Computer Programming: The Best Approach with Practical Exercises\n",
      "Ethical Hacking: A Hands-on Introduction to Breaking In\n",
      "Python Machine Learning: Machine Learning and Deep Learning with Python, scikit-learn, and TensorFlow 2, 3rd Edition\n",
      "Modern Time Series Anomaly Detection: With Python & R Code Examples\n",
      "Classic Computer Science Problems in Python\n",
      "Pragmatic Python Programming: Learning Python the Smart Way\n",
      "Deep Learning with PyTorch Lightning: Swiftly build high-performance Artificial Intelligence (AI) models using Python\n",
      "Network Programming in Python: The Basic: A Detailed Guide to Python 3 Network Programming and Management (English Edition)\n",
      "Hands-On Genetic Algorithms with Python: Applying genetic algorithms to solve real-world deep learning and artificial intelligence problems\n",
      "Python and Sql Programming: 2 Books in 1: “ Python Coding and Sql Coding for beginners “\n",
      "Machine Learning: Make Your Own Recommender System (Machine Learning with Python for Beginners Book 3)\n",
      "Think Bayes: Bayesian Statistics in Python (O'reilly)\n",
      "Python in a Nutshell: A Desktop Quick Reference\n",
      "Using Python for Principles of Econometrics\n",
      "Programming with MicroPython: Embedded Programming with Microcontrollers and Python\n",
      "Interpretable Machine Learning with Python: Build explainable, fair, and robust high-performance models with hands-on, real-world examples, 2nd Edition\n",
      "Doing Math with Python: Use Programming to Explore Algebra, Statistics, Calculus, and More!\n",
      "High Performance Python: Practical Performant Programming for Humans\n",
      "Python Workbook: Exercises For Beginners With Solutions (Coding Exercises For Beginners)\n",
      "Hands-On Python BEGINNER: with 162 Exercises, 3 Projects, 3 Assignments & Final Exam\n",
      "Machine Learning with PyTorch and Scikit-Learn: Develop machine learning and deep learning models with Python\n",
      "Python Programming: The Ultimate Beginners Guide to Learn Python Programming Step-by-Step (Computer Programming)\n"
     ]
    },
    {
     "name": "stderr",
     "output_type": "stream",
     "text": [
      "2022-09-18 02:02:09 [scrapy.core.engine] DEBUG: Crawled (200) <GET https://www.amazon.com/Learn-Quantum-Computing-Python-IBM-ebook/dp/B09X25XSV5/ref=sr_1_236?keywords=python&qid=1663459313&sr=8-236> (referer: https://www.amazon.com/s?k=python&page=5&qid=1663458276&ref=sr_pg_5)\n",
      "2022-09-18 02:02:09 [scrapy.core.engine] DEBUG: Crawled (200) <GET https://www.amazon.com/Data-Visualization-Python-Daniel-Nelson/dp/B08TZ9LWWX/ref=sr_1_238?keywords=python&qid=1663459313&sr=8-238> (referer: https://www.amazon.com/s?k=python&page=5&qid=1663458276&ref=sr_pg_5)\n"
     ]
    },
    {
     "name": "stdout",
     "output_type": "stream",
     "text": [
      "149\n",
      "[] None None\n"
     ]
    },
    {
     "name": "stderr",
     "output_type": "stream",
     "text": [
      "2022-09-18 02:02:10 [scrapy.core.engine] DEBUG: Crawled (200) <GET https://www.amazon.com/Support-Vector-Machines-Python-Online/dp/B0BFGF6Q44/ref=sr_1_230?keywords=python&qid=1663459313&sr=8-230> (referer: https://www.amazon.com/s?k=python&page=5&qid=1663458276&ref=sr_pg_5)\n"
     ]
    },
    {
     "name": "stdout",
     "output_type": "stream",
     "text": [
      "150\n",
      "['\\n            \\n              55%\\n            \\n          '] 3.3 out of 5 stars 8.5 x 0.81 x 11 inches\n"
     ]
    },
    {
     "name": "stderr",
     "output_type": "stream",
     "text": [
      "2022-09-18 02:02:10 [scrapy.core.engine] DEBUG: Crawled (200) <GET https://www.amazon.com/Intuitive-Python-Productive-Development-Projects/dp/1680508237/ref=sr_1_234?keywords=python&qid=1663459313&sr=8-234> (referer: https://www.amazon.com/s?k=python&page=5&qid=1663458276&ref=sr_pg_5)\n",
      "2022-09-18 02:02:10 [scrapy.downloadermiddlewares.redirect] DEBUG: Redirecting (302) to <GET https://www.amazon.com/Advanced-Python-Programming-Accelerate-techniques/dp/1801814015/ref=sr_1_228_sspa?keywords=python&qid=1663459313&sr=8-228-spons&psc=1&spLa=ZW5jcnlwdGVkUXVhbGlmaWVyPUExMVdYSkNMR0FBTEhJJmVuY3J5cHRlZElkPUEwOTY3MzAwM1Q1N0pDN1UzWVdDMSZlbmNyeXB0ZWRBZElkPUEwMjAwOTkxM0xRRzBLMVhWU05NRSZ3aWRnZXROYW1lPXNwX210ZiZhY3Rpb249Y2xpY2tSZWRpcmVjdCZkb05vdExvZ0NsaWNrPXRydWU=> from <GET https://www.amazon.com/gp/slredirect/picassoRedirect.html/ref=pa_sp_mtf_aps_sr_pg5_1?ie=UTF8&adId=A02009913LQG0K1XVSNME&url=%2FAdvanced-Python-Programming-Accelerate-techniques%2Fdp%2F1801814015%2Fref%3Dsr_1_228_sspa%3Fkeywords%3Dpython%26qid%3D1663459313%26sr%3D8-228-spons%26psc%3D1&qualifier=1663459313&id=2056184904598566&widgetName=sp_mtf>\n",
      "2022-09-18 02:02:10 [scrapy.core.engine] DEBUG: Crawled (200) <GET https://www.amazon.com/Python-Microcontrollers-Getting-Started-MicroPython/dp/1259644537/ref=sr_1_237?keywords=python&qid=1663459313&sr=8-237> (referer: https://www.amazon.com/s?k=python&page=5&qid=1663458276&ref=sr_pg_5)\n",
      "2022-09-18 02:02:10 [scrapy.core.engine] DEBUG: Crawled (200) <GET https://www.amazon.com/Python-Testing-pytest-Effective-Scalable/dp/1680508601/ref=sr_1_235?keywords=python&qid=1663459313&sr=8-235> (referer: https://www.amazon.com/s?k=python&page=5&qid=1663458276&ref=sr_pg_5)\n"
     ]
    },
    {
     "name": "stdout",
     "output_type": "stream",
     "text": [
      "151\n",
      "[] None None\n",
      "152\n",
      "['\\n            \\n              100%\\n            \\n          '] 5.0 out of 5 stars 7.5 x 0.3 x 9.25 inches\n",
      "153\n",
      "['\\n            \\n              52%\\n            \\n          '] 4.2 out of 5 stars 7.1 x 0.62 x 9 inches\n"
     ]
    },
    {
     "name": "stderr",
     "output_type": "stream",
     "text": [
      "2022-09-18 02:02:11 [scrapy.downloadermiddlewares.redirect] DEBUG: Redirecting (302) to <GET https://www.amazon.com/Quantum-Computing-Python-Experience-hands/dp/1838981004/ref=sr_1_225_sspa?keywords=python&qid=1663459313&sr=8-225-spons&psc=1&spLa=ZW5jcnlwdGVkUXVhbGlmaWVyPUExMVdYSkNMR0FBTEhJJmVuY3J5cHRlZElkPUEwOTY3MzAwM1Q1N0pDN1UzWVdDMSZlbmNyeXB0ZWRBZElkPUEwMzg0MzExM0VXUVBaUkczUkRQMyZ3aWRnZXROYW1lPXNwX210ZiZhY3Rpb249Y2xpY2tSZWRpcmVjdCZkb05vdExvZ0NsaWNrPXRydWU=> from <GET https://www.amazon.com/gp/slredirect/picassoRedirect.html/ref=pa_sp_mtf_aps_sr_pg5_1?ie=UTF8&adId=A03843113EWQPZRG3RDP3&url=%2FQuantum-Computing-Python-Experience-hands%2Fdp%2F1838981004%2Fref%3Dsr_1_225_sspa%3Fkeywords%3Dpython%26qid%3D1663459313%26sr%3D8-225-spons%26psc%3D1&qualifier=1663459313&id=2056184904598566&widgetName=sp_mtf>\n",
      "2022-09-18 02:02:11 [scrapy.downloadermiddlewares.redirect] DEBUG: Redirecting (302) to <GET https://www.amazon.com/Teach-Yourself-VISUALLY-Python-Tech/dp/1119860253/ref=sr_1_227_sspa?keywords=python&qid=1663459313&sr=8-227-spons&psc=1&spLa=ZW5jcnlwdGVkUXVhbGlmaWVyPUExMVdYSkNMR0FBTEhJJmVuY3J5cHRlZElkPUEwOTY3MzAwM1Q1N0pDN1UzWVdDMSZlbmNyeXB0ZWRBZElkPUEwODkxNDkzMlZFSUJGSEZIMk5QRSZ3aWRnZXROYW1lPXNwX210ZiZhY3Rpb249Y2xpY2tSZWRpcmVjdCZkb05vdExvZ0NsaWNrPXRydWU=> from <GET https://www.amazon.com/gp/slredirect/picassoRedirect.html/ref=pa_sp_mtf_aps_sr_pg5_1?ie=UTF8&adId=A08914932VEIBFHFH2NPE&url=%2FTeach-Yourself-VISUALLY-Python-Tech%2Fdp%2F1119860253%2Fref%3Dsr_1_227_sspa%3Fkeywords%3Dpython%26qid%3D1663459313%26sr%3D8-227-spons%26psc%3D1&qualifier=1663459313&id=2056184904598566&widgetName=sp_mtf>\n",
      "2022-09-18 02:02:11 [scrapy.core.engine] DEBUG: Crawled (200) <GET https://www.amazon.com/Python-Cookbook-Third-David-Beazley/dp/1449340377/ref=sr_1_233?keywords=python&qid=1663459313&sr=8-233> (referer: https://www.amazon.com/s?k=python&page=5&qid=1663458276&ref=sr_pg_5)\n",
      "2022-09-18 02:02:11 [scrapy.downloadermiddlewares.redirect] DEBUG: Redirecting (302) to <GET https://www.amazon.com/Python-Programming-Beginners-Step-Step/dp/B09NRZM47B/ref=sr_1_226_sspa?keywords=python&qid=1663459313&sr=8-226-spons&psc=1&spLa=ZW5jcnlwdGVkUXVhbGlmaWVyPUExMVdYSkNMR0FBTEhJJmVuY3J5cHRlZElkPUEwOTY3MzAwM1Q1N0pDN1UzWVdDMSZlbmNyeXB0ZWRBZElkPUEwMDI1OTc5MVFMMTFIWjNYVDBUSiZ3aWRnZXROYW1lPXNwX210ZiZhY3Rpb249Y2xpY2tSZWRpcmVjdCZkb05vdExvZ0NsaWNrPXRydWU=> from <GET https://www.amazon.com/gp/slredirect/picassoRedirect.html/ref=pa_sp_mtf_aps_sr_pg5_1?ie=UTF8&adId=A00259791QL11HZ3XT0TJ&url=%2FPython-Programming-Beginners-Step-Step%2Fdp%2FB09NRZM47B%2Fref%3Dsr_1_226_sspa%3Fkeywords%3Dpython%26qid%3D1663459313%26sr%3D8-226-spons%26psc%3D1&qualifier=1663459313&id=2056184904598566&widgetName=sp_mtf>\n"
     ]
    },
    {
     "name": "stdout",
     "output_type": "stream",
     "text": [
      "154\n",
      "['\\n            \\n              68%\\n            \\n          '] 4.5 out of 5 stars 7.5 x 0.58 x 9.25 inches\n",
      "155\n",
      "['\\n            \\n              77%\\n            \\n          '] 4.6 out of 5 stars 7 x 1.41 x 9.19 inches\n"
     ]
    },
    {
     "name": "stderr",
     "output_type": "stream",
     "text": [
      "2022-09-18 02:02:12 [scrapy.core.engine] DEBUG: Crawled (200) <GET https://www.amazon.com/Python-easy-steps-Covers-3-7/dp/1840788127/ref=sr_1_232?keywords=python&qid=1663459313&sr=8-232> (referer: https://www.amazon.com/s?k=python&page=5&qid=1663458276&ref=sr_pg_5)\n",
      "2022-09-18 02:02:12 [scrapy.core.engine] DEBUG: Crawled (200) <GET https://www.amazon.com/Python-Machine-Learning-scikit-learn-TensorFlow/dp/1787125939/ref=sr_1_229?keywords=python&qid=1663459313&sr=8-229> (referer: https://www.amazon.com/s?k=python&page=5&qid=1663458276&ref=sr_pg_5)\n",
      "2022-09-18 02:02:12 [scrapy.core.engine] DEBUG: Crawled (200) <GET https://www.amazon.com/Data-Science-Marketing-Analytics-practical/dp/1800560478/ref=sr_1_231?keywords=python&qid=1663459313&sr=8-231> (referer: https://www.amazon.com/s?k=python&page=5&qid=1663458276&ref=sr_pg_5)\n"
     ]
    },
    {
     "name": "stdout",
     "output_type": "stream",
     "text": [
      "156\n",
      "['\\n            \\n              75%\\n            \\n          '] 4.6 out of 5 stars 7.25 x 0.5 x 9 inches\n",
      "157\n",
      "['\\n            \\n              69%\\n            \\n          '] 4.5 out of 5 stars 7.5 x 1.41 x 9.25 inches\n",
      "158\n",
      "['\\n            \\n              61%\\n            \\n          '] 4.6 out of 5 stars 7.5 x 1.44 x 9.25 inches\n"
     ]
    },
    {
     "name": "stderr",
     "output_type": "stream",
     "text": [
      "2022-09-18 02:02:13 [scrapy.core.engine] DEBUG: Crawled (200) <GET https://www.amazon.com/Structures-Algorithms-Python-Developers-Library-ebook/dp/B0B1WJF1K9/ref=sr_1_224?keywords=python&qid=1663459313&sr=8-224> (referer: https://www.amazon.com/s?k=python&page=5&qid=1663458276&ref=sr_pg_5)\n",
      "2022-09-18 02:02:13 [scrapy.core.engine] DEBUG: Crawled (200) <GET https://www.amazon.com/Spoiling-Pythons-Schemes-Bobbie-Merck/dp/0929263022/ref=sr_1_223?keywords=python&qid=1663459313&sr=8-223> (referer: https://www.amazon.com/s?k=python&page=5&qid=1663458276&ref=sr_pg_5)\n"
     ]
    },
    {
     "name": "stdout",
     "output_type": "stream",
     "text": [
      "159\n",
      "[] None None\n"
     ]
    },
    {
     "name": "stderr",
     "output_type": "stream",
     "text": [
      "2022-09-18 02:02:13 [scrapy.core.engine] DEBUG: Crawled (200) <GET https://www.amazon.com/Machine-Learning-PyTorch-Scikit-Learn-learning/dp/1801819319/ref=sr_1_299?keywords=python&qid=1663459326&sr=8-299> (referer: https://www.amazon.com/s?k=python&page=6&qid=1663458276&ref=sr_pg_6)\n",
      "2022-09-18 02:02:13 [scrapy.core.engine] DEBUG: Crawled (200) <GET https://www.amazon.com/Python-Programming-Beginners-Step-Step/dp/B09NRZM47B/ref=sr_1_300?keywords=python&qid=1663459326&sr=8-300> (referer: https://www.amazon.com/s?k=python&page=6&qid=1663458276&ref=sr_pg_6)\n",
      "2022-09-18 02:02:13 [scrapy.core.engine] DEBUG: Crawled (200) <GET https://www.amazon.com/Hands-Python-Exercises-Projects-Assignments-ebook/dp/B09JM2ZCKW/ref=sr_1_298?keywords=python&qid=1663459326&sr=8-298> (referer: https://www.amazon.com/s?k=python&page=6&qid=1663458276&ref=sr_pg_6)\n"
     ]
    },
    {
     "name": "stdout",
     "output_type": "stream",
     "text": [
      "160\n",
      "['\\n            \\n              78%\\n            \\n          '] 4.8 out of 5 stars None\n",
      "161\n",
      "['\\n            \\n              82%\\n            \\n          '] 4.7 out of 5 stars 7.5 x 1.74 x 9.25 inches\n",
      "162\n",
      "['\\n            \\n              72%\\n            \\n          '] 4.5 out of 5 stars 5 x 0.34 x 8 inches\n"
     ]
    },
    {
     "name": "stderr",
     "output_type": "stream",
     "text": [
      "2022-09-18 02:02:17 [scrapy.core.engine] DEBUG: Crawled (200) <GET https://www.amazon.com/Advanced-Python-Programming-Accelerate-techniques/dp/1801814015/ref=sr_1_228_sspa?keywords=python&qid=1663459313&sr=8-228-spons&psc=1&spLa=ZW5jcnlwdGVkUXVhbGlmaWVyPUExMVdYSkNMR0FBTEhJJmVuY3J5cHRlZElkPUEwOTY3MzAwM1Q1N0pDN1UzWVdDMSZlbmNyeXB0ZWRBZElkPUEwMjAwOTkxM0xRRzBLMVhWU05NRSZ3aWRnZXROYW1lPXNwX210ZiZhY3Rpb249Y2xpY2tSZWRpcmVjdCZkb05vdExvZ0NsaWNrPXRydWU=> (referer: https://www.amazon.com/s?k=python&page=5&qid=1663458276&ref=sr_pg_5)\n",
      "2022-09-18 02:02:17 [scrapy.core.engine] DEBUG: Crawled (200) <GET https://www.amazon.com/Python-Workbook-Exercises-Beginners-Solutions/dp/B095QCM6HH/ref=sr_1_297?keywords=python&qid=1663459326&sr=8-297> (referer: https://www.amazon.com/s?k=python&page=6&qid=1663458276&ref=sr_pg_6)\n",
      "2022-09-18 02:02:17 [scrapy.core.engine] DEBUG: Crawled (200) <GET https://www.amazon.com/High-Performance-Python-Performant-Programming/dp/1492055026/ref=sr_1_296?keywords=python&qid=1663459326&sr=8-296> (referer: https://www.amazon.com/s?k=python&page=6&qid=1663458276&ref=sr_pg_6)\n",
      "2022-09-18 02:02:17 [scrapy.core.engine] DEBUG: Crawled (200) <GET https://www.amazon.com/Python-Programming-Beginners-Step-Step/dp/B09NRZM47B/ref=sr_1_226_sspa?keywords=python&qid=1663459313&sr=8-226-spons&psc=1&spLa=ZW5jcnlwdGVkUXVhbGlmaWVyPUExMVdYSkNMR0FBTEhJJmVuY3J5cHRlZElkPUEwOTY3MzAwM1Q1N0pDN1UzWVdDMSZlbmNyeXB0ZWRBZElkPUEwMDI1OTc5MVFMMTFIWjNYVDBUSiZ3aWRnZXROYW1lPXNwX210ZiZhY3Rpb249Y2xpY2tSZWRpcmVjdCZkb05vdExvZ0NsaWNrPXRydWU=> (referer: https://www.amazon.com/s?k=python&page=5&qid=1663458276&ref=sr_pg_5)\n",
      "2022-09-18 02:02:17 [scrapy.core.engine] DEBUG: Crawled (200) <GET https://www.amazon.com/Doing-Math-Python-Programming-Statistics/dp/1593276400/ref=sr_1_295?keywords=python&qid=1663459326&sr=8-295> (referer: https://www.amazon.com/s?k=python&page=6&qid=1663458276&ref=sr_pg_6)\n"
     ]
    },
    {
     "name": "stdout",
     "output_type": "stream",
     "text": [
      "163\n",
      "['\\n            \\n              69%\\n            \\n          '] 4.5 out of 5 stars None\n",
      "164\n",
      "['\\n            \\n              65%\\n            \\n          '] 4.3 out of 5 stars 7.5 x 1.37 x 9.25 inches\n",
      "165\n",
      "['\\n            \\n              80%\\n            \\n          '] 4.7 out of 5 stars 6.9 x 1.4 x 9.1 inches\n",
      "166\n",
      "['\\n            \\n              36%\\n            \\n          '] 3.9 out of 5 stars 7.3 x 0.1 x 9.2 inches\n",
      "167\n",
      "['\\n            \\n              72%\\n            \\n          '] 4.5 out of 5 stars 5 x 0.34 x 8 inches\n"
     ]
    },
    {
     "name": "stderr",
     "output_type": "stream",
     "text": [
      "2022-09-18 02:02:18 [scrapy.core.engine] DEBUG: Crawled (200) <GET https://www.amazon.com/Quantum-Computing-Python-Experience-hands/dp/1838981004/ref=sr_1_225_sspa?keywords=python&qid=1663459313&sr=8-225-spons&psc=1&spLa=ZW5jcnlwdGVkUXVhbGlmaWVyPUExMVdYSkNMR0FBTEhJJmVuY3J5cHRlZElkPUEwOTY3MzAwM1Q1N0pDN1UzWVdDMSZlbmNyeXB0ZWRBZElkPUEwMzg0MzExM0VXUVBaUkczUkRQMyZ3aWRnZXROYW1lPXNwX210ZiZhY3Rpb249Y2xpY2tSZWRpcmVjdCZkb05vdExvZ0NsaWNrPXRydWU=> (referer: https://www.amazon.com/s?k=python&page=5&qid=1663458276&ref=sr_pg_5)\n",
      "2022-09-18 02:02:18 [scrapy.core.engine] DEBUG: Crawled (200) <GET https://www.amazon.com/Teach-Yourself-VISUALLY-Python-Tech/dp/1119860253/ref=sr_1_227_sspa?keywords=python&qid=1663459313&sr=8-227-spons&psc=1&spLa=ZW5jcnlwdGVkUXVhbGlmaWVyPUExMVdYSkNMR0FBTEhJJmVuY3J5cHRlZElkPUEwOTY3MzAwM1Q1N0pDN1UzWVdDMSZlbmNyeXB0ZWRBZElkPUEwODkxNDkzMlZFSUJGSEZIMk5QRSZ3aWRnZXROYW1lPXNwX210ZiZhY3Rpb249Y2xpY2tSZWRpcmVjdCZkb05vdExvZ0NsaWNrPXRydWU=> (referer: https://www.amazon.com/s?k=python&page=5&qid=1663458276&ref=sr_pg_5)\n",
      "2022-09-18 02:02:18 [scrapy.core.engine] DEBUG: Crawled (200) <GET https://www.amazon.com/Interpretable-Machine-Learning-Python-hands/dp/180323542X/ref=sr_1_294?keywords=python&qid=1663459326&sr=8-294> (referer: https://www.amazon.com/s?k=python&page=6&qid=1663458276&ref=sr_pg_6)\n"
     ]
    },
    {
     "name": "stdout",
     "output_type": "stream",
     "text": [
      "168\n",
      "['\\n            \\n              73%\\n            \\n          '] 4.5 out of 5 stars 7.06 x 0.65 x 9.25 inches\n",
      "169\n",
      "['\\n            \\n              71%\\n            \\n          '] 4.5 out of 5 stars 7.5 x 1.15 x 9.25 inches\n",
      "170\n",
      "[] None 7.3 x 0.9 x 9.2 inches\n",
      "171\n",
      "[] None None\n"
     ]
    },
    {
     "name": "stderr",
     "output_type": "stream",
     "text": [
      "2022-09-18 02:02:19 [scrapy.core.engine] DEBUG: Crawled (200) <GET https://www.amazon.com/Machine-Learning-Recommender-System-Beginners-ebook/dp/B07DWS346Y/ref=sr_1_289?keywords=python&qid=1663459326&sr=8-289> (referer: https://www.amazon.com/s?k=python&page=6&qid=1663458276&ref=sr_pg_6)\n",
      "2022-09-18 02:02:20 [scrapy.core.engine] DEBUG: Crawled (200) <GET https://www.amazon.com/Python-Nutshell-Desktop-Quick-Reference/dp/144939292X/ref=sr_1_291?keywords=python&qid=1663459326&sr=8-291> (referer: https://www.amazon.com/s?k=python&page=6&qid=1663458276&ref=sr_pg_6)\n",
      "2022-09-18 02:02:20 [scrapy.core.engine] DEBUG: Crawled (200) <GET https://www.amazon.com/Programming-MicroPython-Embedded-Microcontrollers-Python/dp/1491972734/ref=sr_1_293?keywords=python&qid=1663459326&sr=8-293> (referer: https://www.amazon.com/s?k=python&page=6&qid=1663458276&ref=sr_pg_6)\n",
      "2022-09-18 02:02:20 [scrapy.core.engine] DEBUG: Crawled (200) <GET https://www.amazon.com/Python-Principles-Econometrics-Constantin-Colonescu/dp/B09NGXSYKD/ref=sr_1_292?keywords=python&qid=1663459326&sr=8-292> (referer: https://www.amazon.com/s?k=python&page=6&qid=1663458276&ref=sr_pg_6)\n",
      "2022-09-18 02:02:20 [scrapy.core.engine] DEBUG: Crawled (200) <GET https://www.amazon.com/Think-Bayes-Bayesian-Statistics-Python/dp/149208946X/ref=sr_1_290?keywords=python&qid=1663459326&sr=8-290> (referer: https://www.amazon.com/s?k=python&page=6&qid=1663458276&ref=sr_pg_6)\n"
     ]
    },
    {
     "name": "stdout",
     "output_type": "stream",
     "text": [
      "172\n",
      "['\\n            \\n              54%\\n            \\n          '] 4.2 out of 5 stars None\n",
      "173\n",
      "['\\n            \\n              70%\\n            \\n          '] 4.5 out of 5 stars 6 x 1.54 x 9 inches\n"
     ]
    },
    {
     "name": "stderr",
     "output_type": "stream",
     "text": [
      "2022-09-18 02:02:20 [scrapy.core.engine] DEBUG: Crawled (200) <GET https://www.amazon.com/Python-Sql-Programming-Coding-beginners-ebook/dp/B084Q9JNJW/ref=sr_1_288?keywords=python&qid=1663459326&sr=8-288> (referer: https://www.amazon.com/s?k=python&page=6&qid=1663458276&ref=sr_pg_6)\n",
      "2022-09-18 02:02:20 [scrapy.core.engine] DEBUG: Crawled (200) <GET https://www.amazon.com/Network-Programming-Python-Detailed-Management/dp/9355512570/ref=sr_1_286?keywords=python&qid=1663459326&sr=8-286> (referer: https://www.amazon.com/s?k=python&page=6&qid=1663458276&ref=sr_pg_6)\n",
      "2022-09-18 02:02:20 [scrapy.core.engine] DEBUG: Crawled (200) <GET https://www.amazon.com/Hands-Genetic-Algorithms-Python-intelligence/dp/1838557741/ref=sr_1_287?keywords=python&qid=1663459326&sr=8-287> (referer: https://www.amazon.com/s?k=python&page=6&qid=1663458276&ref=sr_pg_6)\n"
     ]
    },
    {
     "name": "stdout",
     "output_type": "stream",
     "text": [
      "174\n",
      "['\\n            \\n              57%\\n            \\n          '] 4.1 out of 5 stars 7 x 0.4 x 9.2 inches\n",
      "175\n",
      "['\\n            \\n              100%\\n            \\n          '] 5.0 out of 5 stars 7.44 x 0.86 x 9.69 inches\n",
      "176\n",
      "['\\n            \\n              79%\\n            \\n          '] 4.5 out of 5 stars 7 x 0.75 x 9 inches\n",
      "177\n",
      "[] None 7.5 x 1.18 x 9.25 inches\n",
      "178\n",
      "['\\n            \\n              61%\\n            \\n          '] 4.2 out of 5 stars None\n",
      "179\n",
      "['\\n            \\n              73%\\n            \\n          '] 4.6 out of 5 stars 7.5 x 0.78 x 9.25 inches\n"
     ]
    },
    {
     "name": "stderr",
     "output_type": "stream",
     "text": [
      "2022-09-18 02:02:22 [scrapy.core.engine] DEBUG: Crawled (200) <GET https://www.amazon.com/Pragmatic-Python-Programming-Learning-Smart-ebook/dp/B0BB23VTHL/ref=sr_1_284?keywords=python&qid=1663459326&sr=8-284> (referer: https://www.amazon.com/s?k=python&page=6&qid=1663458276&ref=sr_pg_6)\n",
      "2022-09-18 02:02:22 [scrapy.core.engine] DEBUG: Crawled (200) <GET https://www.amazon.com/Deep-Learning-PyTorch-Lightning-high-performance/dp/180056161X/ref=sr_1_285?keywords=python&qid=1663459326&sr=8-285> (referer: https://www.amazon.com/s?k=python&page=6&qid=1663458276&ref=sr_pg_6)\n"
     ]
    },
    {
     "name": "stdout",
     "output_type": "stream",
     "text": [
      "180\n",
      "[] None None\n"
     ]
    },
    {
     "name": "stderr",
     "output_type": "stream",
     "text": [
      "2022-09-18 02:02:22 [scrapy.core.engine] DEBUG: Crawled (200) <GET https://www.amazon.com/Classic-Computer-Science-Problems-Python/dp/1617295981/ref=sr_1_283?keywords=python&qid=1663459326&sr=8-283> (referer: https://www.amazon.com/s?k=python&page=6&qid=1663458276&ref=sr_pg_6)\n",
      "2022-09-18 02:02:22 [scrapy.downloadermiddlewares.redirect] DEBUG: Redirecting (302) to <GET https://www.amazon.com/Pythonic-Way-Architects-Conventions-Development/dp/9391030122/ref=sr_1_276_sspa?keywords=python&qid=1663459326&sr=8-276-spons&psc=1&spLa=ZW5jcnlwdGVkUXVhbGlmaWVyPUEzUEZJU1BBTFNBSDVFJmVuY3J5cHRlZElkPUEwNzQwNjYwMUw1WkU3QUwxNzY1OSZlbmNyeXB0ZWRBZElkPUEwOTY5MDY1VUZWSjBCUldDUFMwJndpZGdldE5hbWU9c3BfbXRmJmFjdGlvbj1jbGlja1JlZGlyZWN0JmRvTm90TG9nQ2xpY2s9dHJ1ZQ==> from <GET https://www.amazon.com/gp/slredirect/picassoRedirect.html/ref=pa_sp_mtf_aps_sr_pg6_1?ie=UTF8&adId=A0969065UFVJ0BRWCPS0&url=%2FPythonic-Way-Architects-Conventions-Development%2Fdp%2F9391030122%2Fref%3Dsr_1_276_sspa%3Fkeywords%3Dpython%26qid%3D1663459326%26sr%3D8-276-spons%26psc%3D1&qualifier=1663459326&id=6192604472233120&widgetName=sp_mtf>\n",
      "2022-09-18 02:02:22 [scrapy.core.engine] DEBUG: Crawled (200) <GET https://www.amazon.com/Modern-Time-Anomaly-Detection-Examples/dp/B0B3K59ZNH/ref=sr_1_282?keywords=python&qid=1663459326&sr=8-282> (referer: https://www.amazon.com/s?k=python&page=6&qid=1663458276&ref=sr_pg_6)\n",
      "2022-09-18 02:02:23 [scrapy.core.engine] DEBUG: Crawled (200) <GET https://www.amazon.com/Python-Machine-Learning-scikit-learn-TensorFlow/dp/1789955750/ref=sr_1_281?keywords=python&qid=1663459326&sr=8-281> (referer: https://www.amazon.com/s?k=python&page=6&qid=1663458276&ref=sr_pg_6)\n"
     ]
    },
    {
     "name": "stdout",
     "output_type": "stream",
     "text": [
      "181\n",
      "['\\n            \\n              80%\\n            \\n          '] 4.8 out of 5 stars 7.5 x 0.83 x 9.25 inches\n"
     ]
    },
    {
     "name": "stderr",
     "output_type": "stream",
     "text": [
      "2022-09-18 02:02:23 [scrapy.core.engine] DEBUG: Crawled (200) <GET https://www.amazon.com/Python-Crash-Course-Erick-Myers-audiobook/dp/B07Y2HJNWV/ref=sr_1_279?keywords=python&qid=1663459326&sr=8-279> (referer: https://www.amazon.com/s?k=python&page=6&qid=1663458276&ref=sr_pg_6)\n",
      "2022-09-18 02:02:23 [scrapy.downloadermiddlewares.redirect] DEBUG: Redirecting (302) to <GET https://www.amazon.com/Python-Complete-Learning-Hands-Exercises/dp/B0BCS3YSV8/ref=sr_1_273_sspa?keywords=python&qid=1663459326&sr=8-273-spons&psc=1&spLa=ZW5jcnlwdGVkUXVhbGlmaWVyPUEzUEZJU1BBTFNBSDVFJmVuY3J5cHRlZElkPUEwNzQwNjYwMUw1WkU3QUwxNzY1OSZlbmNyeXB0ZWRBZElkPUEwMTc1NjQ0MkcyMUpGOFdCVko4ViZ3aWRnZXROYW1lPXNwX210ZiZhY3Rpb249Y2xpY2tSZWRpcmVjdCZkb05vdExvZ0NsaWNrPXRydWU=> from <GET https://www.amazon.com/gp/slredirect/picassoRedirect.html/ref=pa_sp_mtf_aps_sr_pg6_1?ie=UTF8&adId=A01756442G21JF8WBVJ8V&url=%2FPython-Complete-Learning-Hands-Exercises%2Fdp%2FB0BCS3YSV8%2Fref%3Dsr_1_273_sspa%3Fkeywords%3Dpython%26qid%3D1663459326%26sr%3D8-273-spons%26psc%3D1&qualifier=1663459326&id=6192604472233120&widgetName=sp_mtf>\n",
      "2022-09-18 02:02:23 [scrapy.downloadermiddlewares.redirect] DEBUG: Redirecting (302) to <GET https://www.amazon.com/Algorithms-Python-algorithms-full-color-structures/dp/B0B5GH84TM/ref=sr_1_274_sspa?keywords=python&qid=1663459326&sr=8-274-spons&psc=1&spLa=ZW5jcnlwdGVkUXVhbGlmaWVyPUEzUEZJU1BBTFNBSDVFJmVuY3J5cHRlZElkPUEwNzQwNjYwMUw1WkU3QUwxNzY1OSZlbmNyeXB0ZWRBZElkPUEwMjAxNjEyMUM3QUk2RUwyTlVKWiZ3aWRnZXROYW1lPXNwX210ZiZhY3Rpb249Y2xpY2tSZWRpcmVjdCZkb05vdExvZ0NsaWNrPXRydWU=> from <GET https://www.amazon.com/gp/slredirect/picassoRedirect.html/ref=pa_sp_mtf_aps_sr_pg6_1?ie=UTF8&adId=A02016121C7AI6EL2NUJZ&url=%2FAlgorithms-Python-algorithms-full-color-structures%2Fdp%2FB0B5GH84TM%2Fref%3Dsr_1_274_sspa%3Fkeywords%3Dpython%26qid%3D1663459326%26sr%3D8-274-spons%26psc%3D1&qualifier=1663459326&id=6192604472233120&widgetName=sp_mtf>\n",
      "2022-09-18 02:02:23 [scrapy.downloadermiddlewares.redirect] DEBUG: Redirecting (302) to <GET https://www.amazon.com/Pandas-1-x-Cookbook-scientific-exploratory/dp/1839213108/ref=sr_1_275_sspa?keywords=python&qid=1663459326&sr=8-275-spons&psc=1&spLa=ZW5jcnlwdGVkUXVhbGlmaWVyPUEzUEZJU1BBTFNBSDVFJmVuY3J5cHRlZElkPUEwNzQwNjYwMUw1WkU3QUwxNzY1OSZlbmNyeXB0ZWRBZElkPUEwNjczNDI3MVFZSTA0M0xWSzZKWiZ3aWRnZXROYW1lPXNwX210ZiZhY3Rpb249Y2xpY2tSZWRpcmVjdCZkb05vdExvZ0NsaWNrPXRydWU=> from <GET https://www.amazon.com/gp/slredirect/picassoRedirect.html/ref=pa_sp_mtf_aps_sr_pg6_1?ie=UTF8&adId=A06734271QYI043LVK6JZ&url=%2FPandas-1-x-Cookbook-scientific-exploratory%2Fdp%2F1839213108%2Fref%3Dsr_1_275_sspa%3Fkeywords%3Dpython%26qid%3D1663459326%26sr%3D8-275-spons%26psc%3D1&qualifier=1663459326&id=6192604472233120&widgetName=sp_mtf>\n"
     ]
    },
    {
     "name": "stdout",
     "output_type": "stream",
     "text": [
      "182\n",
      "['\\n            \\n              66%\\n            \\n          '] 4.4 out of 5 stars 7.38 x 0.5 x 9.25 inches\n",
      "183\n",
      "[] None 8.5 x 0.3 x 11 inches\n"
     ]
    },
    {
     "name": "stderr",
     "output_type": "stream",
     "text": [
      "2022-09-18 02:02:23 [scrapy.core.engine] DEBUG: Crawled (200) <GET https://www.amazon.com/Ethical-Hacking-Hands-Introduction-Breaking/dp/1718501870/ref=sr_1_280?keywords=python&qid=1663459326&sr=8-280> (referer: https://www.amazon.com/s?k=python&page=6&qid=1663458276&ref=sr_pg_6)\n",
      "2022-09-18 02:02:23 [scrapy.core.engine] DEBUG: Crawled (200) <GET https://www.amazon.com/Hyperparameter-Tuning-Python-performance-hyperparameter/dp/180323587X/ref=sr_1_278?keywords=python&qid=1663459326&sr=8-278> (referer: https://www.amazon.com/s?k=python&page=6&qid=1663458276&ref=sr_pg_6)\n"
     ]
    },
    {
     "name": "stdout",
     "output_type": "stream",
     "text": [
      "184\n",
      "['\\n            \\n              71%\\n            \\n          '] 4.5 out of 5 stars 7.5 x 1.74 x 9.25 inches\n",
      "185\n",
      "['\\n            \\n              27%\\n            \\n          '] 3.3 out of 5 stars None\n",
      "186\n",
      "['\\n            \\n              100%\\n            \\n          '] 5.0 out of 5 stars 7.5 x 0.69 x 9.25 inches\n",
      "187\n",
      "['\\n            \\n              84%\\n            \\n          '] 4.8 out of 5 stars 6.9 x 0.9 x 9.1 inches\n"
     ]
    },
    {
     "name": "stderr",
     "output_type": "stream",
     "text": [
      "2022-09-18 02:02:24 [scrapy.core.engine] DEBUG: Crawled (200) <GET https://www.amazon.com/SQL-Intermediate-Programming-Practical-Exercises/dp/B0B5MM3RMK/ref=sr_1_277?keywords=python&qid=1663459326&sr=8-277> (referer: https://www.amazon.com/s?k=python&page=6&qid=1663458276&ref=sr_pg_6)\n"
     ]
    },
    {
     "name": "stdout",
     "output_type": "stream",
     "text": [
      "188\n",
      "['\\n            \\n              93%\\n            \\n          '] 4.9 out of 5 stars 7 x 0.78 x 10 inches\n"
     ]
    },
    {
     "name": "stderr",
     "output_type": "stream",
     "text": [
      "2022-09-18 02:02:25 [scrapy.core.engine] DEBUG: Crawled (200) <GET https://www.amazon.com/Python-Flash-Cards-Concepts-Examples/dp/1593278969/ref=sr_1_270?keywords=python&qid=1663459326&sr=8-270> (referer: https://www.amazon.com/s?k=python&page=6&qid=1663458276&ref=sr_pg_6)\n",
      "2022-09-18 02:02:25 [scrapy.core.engine] DEBUG: Crawled (200) <GET https://www.amazon.com/Monty-Pythons-Something-Completely-Different/dp/0767827724/ref=sr_1_272?keywords=python&qid=1663459326&sr=8-272> (referer: https://www.amazon.com/s?k=python&page=6&qid=1663458276&ref=sr_pg_6)\n",
      "2022-09-18 02:02:26 [scrapy.core.engine] DEBUG: Crawled (200) <GET https://www.amazon.com/Pythonic-Way-Architects-Conventions-Development/dp/9391030122/ref=sr_1_276_sspa?keywords=python&qid=1663459326&sr=8-276-spons&psc=1&spLa=ZW5jcnlwdGVkUXVhbGlmaWVyPUEzUEZJU1BBTFNBSDVFJmVuY3J5cHRlZElkPUEwNzQwNjYwMUw1WkU3QUwxNzY1OSZlbmNyeXB0ZWRBZElkPUEwOTY5MDY1VUZWSjBCUldDUFMwJndpZGdldE5hbWU9c3BfbXRmJmFjdGlvbj1jbGlja1JlZGlyZWN0JmRvTm90TG9nQ2xpY2s9dHJ1ZQ==> (referer: https://www.amazon.com/s?k=python&page=6&qid=1663458276&ref=sr_pg_6)\n",
      "2022-09-18 02:02:26 [scrapy.core.engine] DEBUG: Crawled (200) <GET https://www.amazon.com/Deep-Learning-Beginners-Python-Based-Introduction/dp/1718500742/ref=sr_1_267?keywords=python&qid=1663459326&sr=8-267> (referer: https://www.amazon.com/s?k=python&page=6&qid=1663458276&ref=sr_pg_6)\n",
      "2022-09-18 02:02:26 [scrapy.core.engine] DEBUG: Crawled (200) <GET https://www.amazon.com/Flask-Web-Development-Developing-Applications/dp/1491991739/ref=sr_1_269?keywords=python&qid=1663459326&sr=8-269> (referer: https://www.amazon.com/s?k=python&page=6&qid=1663458276&ref=sr_pg_6)\n"
     ]
    },
    {
     "name": "stdout",
     "output_type": "stream",
     "text": [
      "189\n",
      "['\\n            \\n              77%\\n            \\n          '] 4.7 out of 5 stars 5.44 x 1.96 x 7.25 inches\n",
      "190\n",
      "['\\n            \\n              78%\\n            \\n          '] 4.7 out of 5 stars 7.5 x 5.38 x 0.6 inches; 2.4 Ounces\n",
      "191\n",
      "['\\n            \\n              100%\\n            \\n          '] 5.0 out of 5 stars 7.5 x 1.16 x 9.25 inches\n",
      "192\n",
      "['\\n            \\n              85%\\n            \\n          '] 4.8 out of 5 stars 7.06 x 1.13 x 9.25 inches\n"
     ]
    },
    {
     "name": "stderr",
     "output_type": "stream",
     "text": [
      "2022-09-18 02:02:26 [scrapy.core.engine] DEBUG: Crawled (200) <GET https://www.amazon.com/Python-Scripting-ArcGIS-Paul-Zandbergen/dp/1589484991/ref=sr_1_271?keywords=python&qid=1663459326&sr=8-271> (referer: https://www.amazon.com/s?k=python&page=6&qid=1663458276&ref=sr_pg_6)\n",
      "2022-09-18 02:02:26 [scrapy.core.engine] DEBUG: Crawled (200) <GET https://www.amazon.com/Artificial-Intelligence-Finance-Python-Based-Guide/dp/1492055433/ref=sr_1_268?keywords=python&qid=1663459326&sr=8-268> (referer: https://www.amazon.com/s?k=python&page=6&qid=1663458276&ref=sr_pg_6)\n"
     ]
    },
    {
     "name": "stdout",
     "output_type": "stream",
     "text": [
      "193\n",
      "['\\n            \\n              71%\\n            \\n          '] 4.5 out of 5 stars 7 x 0.66 x 9.19 inches\n"
     ]
    },
    {
     "name": "stderr",
     "output_type": "stream",
     "text": [
      "2022-09-18 02:02:27 [scrapy.core.engine] DEBUG: Crawled (200) <GET https://www.amazon.com/Complete-Recession-Machine-Learning-Python/dp/B0B94YBTRH/ref=sr_1_264?keywords=python&qid=1663459326&sr=8-264> (referer: https://www.amazon.com/s?k=python&page=6&qid=1663458276&ref=sr_pg_6)\n"
     ]
    },
    {
     "name": "stdout",
     "output_type": "stream",
     "text": [
      "194\n",
      "['\\n            \\n              69%\\n            \\n          '] 4.5 out of 5 stars 8 x 1 x 9.75 inches\n",
      "195\n",
      "['\\n            \\n              71%\\n            \\n          '] 4.3 out of 5 stars 7 x 0.96 x 9.19 inches\n"
     ]
    },
    {
     "name": "stderr",
     "output_type": "stream",
     "text": [
      "2022-09-18 02:02:27 [scrapy.core.engine] DEBUG: Crawled (200) <GET https://www.amazon.com/Learn-Python-3-0-VISUALLY-Interactive-ebook/dp/B00YI58B9U/ref=sr_1_266?keywords=python&qid=1663459326&sr=8-266> (referer: https://www.amazon.com/s?k=python&page=6&qid=1663458276&ref=sr_pg_6)\n"
     ]
    },
    {
     "name": "stdout",
     "output_type": "stream",
     "text": [
      "196\n",
      "[] None None\n"
     ]
    },
    {
     "name": "stderr",
     "output_type": "stream",
     "text": [
      "2022-09-18 02:02:28 [scrapy.downloadermiddlewares.redirect] DEBUG: Redirecting (302) to <GET https://www.amazon.com/Foundational-Python-Science-Addison-Wesley-Analytics/dp/0136624359/ref=sr_1_260_sspa?keywords=python&qid=1663459326&sr=8-260-spons&psc=1&spLa=ZW5jcnlwdGVkUXVhbGlmaWVyPUEzUEZJU1BBTFNBSDVFJmVuY3J5cHRlZElkPUEwNzQwNjYwMUw1WkU3QUwxNzY1OSZlbmNyeXB0ZWRBZElkPUEwMTIzNDY5MjkzS09HWFJVMFdEWSZ3aWRnZXROYW1lPXNwX210ZiZhY3Rpb249Y2xpY2tSZWRpcmVjdCZkb05vdExvZ0NsaWNrPXRydWU=> from <GET https://www.amazon.com/gp/slredirect/picassoRedirect.html/ref=pa_sp_mtf_aps_sr_pg6_1?ie=UTF8&adId=A0123469293KOGXRU0WDY&url=%2FFoundational-Python-Science-Addison-Wesley-Analytics%2Fdp%2F0136624359%2Fref%3Dsr_1_260_sspa%3Fkeywords%3Dpython%26qid%3D1663459326%26sr%3D8-260-spons%26psc%3D1&qualifier=1663459326&id=6192604472233120&widgetName=sp_mtf>\n"
     ]
    },
    {
     "name": "stdout",
     "output_type": "stream",
     "text": [
      "197\n",
      "['\\n            \\n              52%\\n            \\n          '] 4.2 out of 5 stars None\n"
     ]
    },
    {
     "name": "stderr",
     "output_type": "stream",
     "text": [
      "2022-09-18 02:02:28 [scrapy.core.engine] DEBUG: Crawled (200) <GET https://www.amazon.com/Algorithms-Python-algorithms-full-color-structures/dp/B0B5GH84TM/ref=sr_1_274_sspa?keywords=python&qid=1663459326&sr=8-274-spons&psc=1&spLa=ZW5jcnlwdGVkUXVhbGlmaWVyPUEzUEZJU1BBTFNBSDVFJmVuY3J5cHRlZElkPUEwNzQwNjYwMUw1WkU3QUwxNzY1OSZlbmNyeXB0ZWRBZElkPUEwMjAxNjEyMUM3QUk2RUwyTlVKWiZ3aWRnZXROYW1lPXNwX210ZiZhY3Rpb249Y2xpY2tSZWRpcmVjdCZkb05vdExvZ0NsaWNrPXRydWU=> (referer: https://www.amazon.com/s?k=python&page=6&qid=1663458276&ref=sr_pg_6)\n",
      "2022-09-18 02:02:28 [scrapy.core.engine] DEBUG: Crawled (200) <GET https://www.amazon.com/Algorithmic-Trading-Python-Quantitative-Development/dp/B086Y6H6YG/ref=sr_1_265?keywords=python&qid=1663459326&sr=8-265> (referer: https://www.amazon.com/s?k=python&page=6&qid=1663458276&ref=sr_pg_6)\n"
     ]
    },
    {
     "name": "stdout",
     "output_type": "stream",
     "text": [
      "198\n",
      "[] None 8 x 0.64 x 10 inches\n"
     ]
    },
    {
     "name": "stderr",
     "output_type": "stream",
     "text": [
      "2022-09-18 02:02:28 [scrapy.downloadermiddlewares.redirect] DEBUG: Redirecting (302) to <GET https://www.amazon.com/Django-Example-powerful-reliable-applications/dp/1801813051/ref=sr_1_258_sspa?keywords=python&qid=1663459326&sr=8-258-spons&psc=1&spLa=ZW5jcnlwdGVkUXVhbGlmaWVyPUEzUEZJU1BBTFNBSDVFJmVuY3J5cHRlZElkPUEwNzQwNjYwMUw1WkU3QUwxNzY1OSZlbmNyeXB0ZWRBZElkPUEwNjU0MDAxM1BaSTJBRFROSk1ZQyZ3aWRnZXROYW1lPXNwX210ZiZhY3Rpb249Y2xpY2tSZWRpcmVjdCZkb05vdExvZ0NsaWNrPXRydWU=> from <GET https://www.amazon.com/gp/slredirect/picassoRedirect.html/ref=pa_sp_mtf_aps_sr_pg6_1?ie=UTF8&adId=A06540013PZI2ADTNJMYC&url=%2FDjango-Example-powerful-reliable-applications%2Fdp%2F1801813051%2Fref%3Dsr_1_258_sspa%3Fkeywords%3Dpython%26qid%3D1663459326%26sr%3D8-258-spons%26psc%3D1&qualifier=1663459326&id=6192604472233120&widgetName=sp_mtf>\n",
      "2022-09-18 02:02:29 [scrapy.core.engine] DEBUG: Crawled (200) <GET https://www.amazon.com/Pandas-1-x-Cookbook-scientific-exploratory/dp/1839213108/ref=sr_1_275_sspa?keywords=python&qid=1663459326&sr=8-275-spons&psc=1&spLa=ZW5jcnlwdGVkUXVhbGlmaWVyPUEzUEZJU1BBTFNBSDVFJmVuY3J5cHRlZElkPUEwNzQwNjYwMUw1WkU3QUwxNzY1OSZlbmNyeXB0ZWRBZElkPUEwNjczNDI3MVFZSTA0M0xWSzZKWiZ3aWRnZXROYW1lPXNwX210ZiZhY3Rpb249Y2xpY2tSZWRpcmVjdCZkb05vdExvZ0NsaWNrPXRydWU=> (referer: https://www.amazon.com/s?k=python&page=6&qid=1663458276&ref=sr_pg_6)\n"
     ]
    },
    {
     "name": "stdout",
     "output_type": "stream",
     "text": [
      "199\n",
      "['\\n            \\n              61%\\n            \\n          '] 4.2 out of 5 stars 8.5 x 0.29 x 11 inches\n"
     ]
    },
    {
     "name": "stderr",
     "output_type": "stream",
     "text": [
      "2022-09-18 02:02:29 [scrapy.downloadermiddlewares.redirect] DEBUG: Redirecting (302) to <GET https://www.amazon.com/PYTHON-PROGRAMMING-Complete-Everything-Python/dp/B087CRNF1W/ref=sr_1_257_sspa?keywords=python&qid=1663459326&sr=8-257-spons&psc=1&spLa=ZW5jcnlwdGVkUXVhbGlmaWVyPUEzUEZJU1BBTFNBSDVFJmVuY3J5cHRlZElkPUEwNzQwNjYwMUw1WkU3QUwxNzY1OSZlbmNyeXB0ZWRBZElkPUEwNjUwNTIxMUkxUlFJRjU0WUg3SyZ3aWRnZXROYW1lPXNwX210ZiZhY3Rpb249Y2xpY2tSZWRpcmVjdCZkb05vdExvZ0NsaWNrPXRydWU=> from <GET https://www.amazon.com/gp/slredirect/picassoRedirect.html/ref=pa_sp_mtf_aps_sr_pg6_1?ie=UTF8&adId=A06505211I1RQIF54YH7K&url=%2FPYTHON-PROGRAMMING-Complete-Everything-Python%2Fdp%2FB087CRNF1W%2Fref%3Dsr_1_257_sspa%3Fkeywords%3Dpython%26qid%3D1663459326%26sr%3D8-257-spons%26psc%3D1&qualifier=1663459326&id=6192604472233120&widgetName=sp_mtf>\n",
      "2022-09-18 02:02:29 [scrapy.core.engine] DEBUG: Crawled (200) <GET https://www.amazon.com/Python-Complete-Learning-Hands-Exercises/dp/B0BCS3YSV8/ref=sr_1_273_sspa?keywords=python&qid=1663459326&sr=8-273-spons&psc=1&spLa=ZW5jcnlwdGVkUXVhbGlmaWVyPUEzUEZJU1BBTFNBSDVFJmVuY3J5cHRlZElkPUEwNzQwNjYwMUw1WkU3QUwxNzY1OSZlbmNyeXB0ZWRBZElkPUEwMTc1NjQ0MkcyMUpGOFdCVko4ViZ3aWRnZXROYW1lPXNwX210ZiZhY3Rpb249Y2xpY2tSZWRpcmVjdCZkb05vdExvZ0NsaWNrPXRydWU=> (referer: https://www.amazon.com/s?k=python&page=6&qid=1663458276&ref=sr_pg_6)\n",
      "2022-09-18 02:02:29 [scrapy.downloadermiddlewares.redirect] DEBUG: Redirecting (302) to <GET https://www.amazon.com/Python-Beginners-Books-Programming-Workbook/dp/1654414018/ref=sr_1_259_sspa?keywords=python&qid=1663459326&sr=8-259-spons&psc=1&spLa=ZW5jcnlwdGVkUXVhbGlmaWVyPUEzUEZJU1BBTFNBSDVFJmVuY3J5cHRlZElkPUEwNzQwNjYwMUw1WkU3QUwxNzY1OSZlbmNyeXB0ZWRBZElkPUEwOTIyMTk0MURSSE82TkMyR1JLMyZ3aWRnZXROYW1lPXNwX210ZiZhY3Rpb249Y2xpY2tSZWRpcmVjdCZkb05vdExvZ0NsaWNrPXRydWU=> from <GET https://www.amazon.com/gp/slredirect/picassoRedirect.html/ref=pa_sp_mtf_aps_sr_pg6_1?ie=UTF8&adId=A09221941DRHO6NC2GRK3&url=%2FPython-Beginners-Books-Programming-Workbook%2Fdp%2F1654414018%2Fref%3Dsr_1_259_sspa%3Fkeywords%3Dpython%26qid%3D1663459326%26sr%3D8-259-spons%26psc%3D1&qualifier=1663459326&id=6192604472233120&widgetName=sp_mtf>\n"
     ]
    },
    {
     "name": "stdout",
     "output_type": "stream",
     "text": [
      "200\n",
      "['\\n            \\n              63%\\n            \\n          '] 4.3 out of 5 stars 7.5 x 1.41 x 9.25 inches\n"
     ]
    },
    {
     "name": "stderr",
     "output_type": "stream",
     "text": [
      "2022-09-18 02:02:29 [scrapy.core.engine] DEBUG: Crawled (200) <GET https://www.amazon.com/101-Labs-Hands-Certification-Training-ebook/dp/B09JFJN3C5/ref=sr_1_262?keywords=python&qid=1663459326&sr=8-262> (referer: https://www.amazon.com/s?k=python&page=6&qid=1663458276&ref=sr_pg_6)\n"
     ]
    },
    {
     "name": "stdout",
     "output_type": "stream",
     "text": [
      "201\n",
      "[] None 6 x 0.52 x 9 inches\n",
      "202\n",
      "['\\n            \\n              70%\\n            \\n          '] 4.4 out of 5 stars None\n"
     ]
    },
    {
     "name": "stderr",
     "output_type": "stream",
     "text": [
      "2022-09-18 02:02:30 [scrapy.core.engine] DEBUG: Crawled (200) <GET https://www.amazon.com/SQL-QuickStart-Guide-Simplified-Manipulating/dp/1945051752/ref=sr_1_263?keywords=python&qid=1663459326&sr=8-263> (referer: https://www.amazon.com/s?k=python&page=6&qid=1663458276&ref=sr_pg_6)\n",
      "2022-09-18 02:02:30 [scrapy.core.engine] DEBUG: Crawled (200) <GET https://www.amazon.com/Quantitative-Finance-Python-Engineering-Mathematics/dp/1032014431/ref=sr_1_261?keywords=python&qid=1663459326&sr=8-261> (referer: https://www.amazon.com/s?k=python&page=6&qid=1663458276&ref=sr_pg_6)\n"
     ]
    },
    {
     "name": "stdout",
     "output_type": "stream",
     "text": [
      "203\n",
      "['\\n            \\n              73%\\n            \\n          '] 4.6 out of 5 stars 7.5 x 0.57 x 9.25 inches\n",
      "204\n",
      "[] None 7.5 x 1.5 x 10.5 inches\n"
     ]
    },
    {
     "name": "stderr",
     "output_type": "stream",
     "text": [
      "2022-09-18 02:02:31 [scrapy.core.engine] DEBUG: Crawled (200) <GET https://www.amazon.com/Python-Machine-Learning-Example-scikit-learn/dp/1800209711/ref=sr_1_254?keywords=python&qid=1663459326&sr=8-254> (referer: https://www.amazon.com/s?k=python&page=6&qid=1663458276&ref=sr_pg_6)\n",
      "2022-09-18 02:02:31 [scrapy.core.engine] DEBUG: Crawled (200) <GET https://www.amazon.com/Violent-Python-Cookbook-Penetration-Engineers/dp/1597499579/ref=sr_1_255?keywords=python&qid=1663459326&sr=8-255> (referer: https://www.amazon.com/s?k=python&page=6&qid=1663458276&ref=sr_pg_6)\n",
      "2022-09-18 02:02:32 [scrapy.core.engine] DEBUG: Crawled (200) <GET https://www.amazon.com/Foundational-Python-Science-Addison-Wesley-Analytics/dp/0136624359/ref=sr_1_260_sspa?keywords=python&qid=1663459326&sr=8-260-spons&psc=1&spLa=ZW5jcnlwdGVkUXVhbGlmaWVyPUEzUEZJU1BBTFNBSDVFJmVuY3J5cHRlZElkPUEwNzQwNjYwMUw1WkU3QUwxNzY1OSZlbmNyeXB0ZWRBZElkPUEwMTIzNDY5MjkzS09HWFJVMFdEWSZ3aWRnZXROYW1lPXNwX210ZiZhY3Rpb249Y2xpY2tSZWRpcmVjdCZkb05vdExvZ0NsaWNrPXRydWU=> (referer: https://www.amazon.com/s?k=python&page=6&qid=1663458276&ref=sr_pg_6)\n",
      "2022-09-18 02:02:32 [scrapy.core.engine] DEBUG: Crawled (200) <GET https://www.amazon.com/Machine-Learning-Time-Python-state/dp/1801819629/ref=sr_1_252?keywords=python&qid=1663459326&sr=8-252> (referer: https://www.amazon.com/s?k=python&page=6&qid=1663458276&ref=sr_pg_6)\n"
     ]
    },
    {
     "name": "stdout",
     "output_type": "stream",
     "text": [
      "205\n",
      "['\\n            \\n              75%\\n            \\n          '] 4.5 out of 5 stars 7.5 x 1.19 x 9.25 inches\n",
      "206\n",
      "['\\n            \\n              74%\\n            \\n          '] 4.5 out of 5 stars 7.52 x 0.61 x 9.25 inches\n",
      "207\n",
      "['\\n            \\n              50%\\n            \\n          '] 4.3 out of 5 stars 7 x 0.6 x 9 inches\n"
     ]
    },
    {
     "name": "stderr",
     "output_type": "stream",
     "text": [
      "2022-09-18 02:02:32 [scrapy.core.engine] DEBUG: Crawled (200) <GET https://www.amazon.com/Greedy-Python-World-Eric-Carle/dp/1442445769/ref=sr_1_253?keywords=python&qid=1663459326&sr=8-253> (referer: https://www.amazon.com/s?k=python&page=6&qid=1663458276&ref=sr_pg_6)\n",
      "2022-09-18 02:02:32 [scrapy.core.engine] DEBUG: Crawled (200) <GET https://www.amazon.com/Programming-ArcGIS-Pro-Python-2nd/dp/B092XJP26H/ref=sr_1_256?keywords=python&qid=1663459326&sr=8-256> (referer: https://www.amazon.com/s?k=python&page=6&qid=1663458276&ref=sr_pg_6)\n"
     ]
    },
    {
     "name": "stdout",
     "output_type": "stream",
     "text": [
      "208\n",
      "['\\n            \\n              53%\\n            \\n          '] 4.0 out of 5 stars 7.5 x 0.84 x 9.25 inches\n"
     ]
    },
    {
     "name": "stderr",
     "output_type": "stream",
     "text": [
      "2022-09-18 02:02:33 [scrapy.core.engine] DEBUG: Crawled (200) <GET https://www.amazon.com/Foundations-Statistics-Data-Scientists-Statistical/dp/0367748452/ref=sr_1_250?keywords=python&qid=1663459326&sr=8-250> (referer: https://www.amazon.com/s?k=python&page=6&qid=1663458276&ref=sr_pg_6)\n",
      "2022-09-18 02:02:33 [scrapy.core.engine] DEBUG: Crawled (200) <GET https://www.amazon.com/Python-Testing-pytest-Effective-Scalable/dp/1680502409/ref=sr_1_251?keywords=python&qid=1663459326&sr=8-251> (referer: https://www.amazon.com/s?k=python&page=6&qid=1663458276&ref=sr_pg_6)\n"
     ]
    },
    {
     "name": "stdout",
     "output_type": "stream",
     "text": [
      "209\n",
      "['\\n            \\n              81%\\n            \\n          '] 4.7 out of 5 stars 6 x 1 x 9 inches\n",
      "210\n",
      "['\\n            \\n              100%\\n            \\n          '] 5.0 out of 5 stars 7.5 x 0.6 x 9.25 inches\n",
      "211\n",
      "['\\n            \\n              100%\\n            \\n          '] 5.0 out of 5 stars 7.1 x 1.2 x 9.9 inches\n",
      "212\n",
      "['\\n            \\n              70%\\n            \\n          '] 4.5 out of 5 stars 7.5 x 0.46 x 9.25 inches\n"
     ]
    },
    {
     "name": "stderr",
     "output_type": "stream",
     "text": [
      "2022-09-18 02:02:33 [scrapy.core.engine] DEBUG: Crawled (200) <GET https://www.amazon.com/Django-Example-powerful-reliable-applications/dp/1801813051/ref=sr_1_258_sspa?keywords=python&qid=1663459326&sr=8-258-spons&psc=1&spLa=ZW5jcnlwdGVkUXVhbGlmaWVyPUEzUEZJU1BBTFNBSDVFJmVuY3J5cHRlZElkPUEwNzQwNjYwMUw1WkU3QUwxNzY1OSZlbmNyeXB0ZWRBZElkPUEwNjU0MDAxM1BaSTJBRFROSk1ZQyZ3aWRnZXROYW1lPXNwX210ZiZhY3Rpb249Y2xpY2tSZWRpcmVjdCZkb05vdExvZ0NsaWNrPXRydWU=> (referer: https://www.amazon.com/s?k=python&page=6&qid=1663458276&ref=sr_pg_6)\n",
      "2022-09-18 02:02:34 [scrapy.downloadermiddlewares.redirect] DEBUG: Redirecting (302) to <GET https://www.amazon.com/IoT-Edge-Computing-Architects-communication/dp/1839214805/ref=sr_1_244_sspa?keywords=python&qid=1663459326&sr=8-244-spons&psc=1&spLa=ZW5jcnlwdGVkUXVhbGlmaWVyPUEzUEZJU1BBTFNBSDVFJmVuY3J5cHRlZElkPUEwNzQwNjYwMUw1WkU3QUwxNzY1OSZlbmNyeXB0ZWRBZElkPUEwNzI2MDY2MUMzTTRQMlo4MFI4VyZ3aWRnZXROYW1lPXNwX2F0Zl9uZXh0JmFjdGlvbj1jbGlja1JlZGlyZWN0JmRvTm90TG9nQ2xpY2s9dHJ1ZQ==> from <GET https://www.amazon.com/gp/slredirect/picassoRedirect.html/ref=pa_sp_atf_next_aps_sr_pg6_1?ie=UTF8&adId=A07260661C3M4P2Z80R8W&url=%2FIoT-Edge-Computing-Architects-communication%2Fdp%2F1839214805%2Fref%3Dsr_1_244_sspa%3Fkeywords%3Dpython%26qid%3D1663459326%26sr%3D8-244-spons%26psc%3D1&qualifier=1663459326&id=6192604472233120&widgetName=sp_atf_next>\n"
     ]
    },
    {
     "name": "stdout",
     "output_type": "stream",
     "text": [
      "213\n",
      "['\\n            \\n              100%\\n            \\n          '] 5.0 out of 5 stars 7.5 x 1.73 x 9.25 inches\n"
     ]
    },
    {
     "name": "stderr",
     "output_type": "stream",
     "text": [
      "2022-09-18 02:02:34 [scrapy.core.engine] DEBUG: Crawled (200) <GET https://www.amazon.com/Interactive-Data-Visualization-Python-compelling/dp/1800200943/ref=sr_1_249?keywords=python&qid=1663459326&sr=8-249> (referer: https://www.amazon.com/s?k=python&page=6&qid=1663458276&ref=sr_pg_6)\n",
      "2022-09-18 02:02:34 [scrapy.downloadermiddlewares.redirect] DEBUG: Redirecting (302) to <GET https://www.amazon.com/Learn-JavaScript-Quickly-Programming-Hands/dp/1951791479/ref=sr_1_243_sspa?keywords=python&qid=1663459326&sr=8-243-spons&psc=1&spLa=ZW5jcnlwdGVkUXVhbGlmaWVyPUEzUEZJU1BBTFNBSDVFJmVuY3J5cHRlZElkPUEwNzQwNjYwMUw1WkU3QUwxNzY1OSZlbmNyeXB0ZWRBZElkPUEwNzY1NzMwMjM3UVFGV1FOTktTNSZ3aWRnZXROYW1lPXNwX2F0Zl9uZXh0JmFjdGlvbj1jbGlja1JlZGlyZWN0JmRvTm90TG9nQ2xpY2s9dHJ1ZQ==> from <GET https://www.amazon.com/gp/slredirect/picassoRedirect.html/ref=pa_sp_atf_next_aps_sr_pg6_1?ie=UTF8&adId=A0765730237QQFWQNNKS5&url=%2FLearn-JavaScript-Quickly-Programming-Hands%2Fdp%2F1951791479%2Fref%3Dsr_1_243_sspa%3Fkeywords%3Dpython%26qid%3D1663459326%26sr%3D8-243-spons%26psc%3D1&qualifier=1663459326&id=6192604472233120&widgetName=sp_atf_next>\n",
      "2022-09-18 02:02:34 [scrapy.core.engine] DEBUG: Crawled (200) <GET https://www.amazon.com/PYTHON-PROGRAMMING-Complete-Everything-Python/dp/B087CRNF1W/ref=sr_1_257_sspa?keywords=python&qid=1663459326&sr=8-257-spons&psc=1&spLa=ZW5jcnlwdGVkUXVhbGlmaWVyPUEzUEZJU1BBTFNBSDVFJmVuY3J5cHRlZElkPUEwNzQwNjYwMUw1WkU3QUwxNzY1OSZlbmNyeXB0ZWRBZElkPUEwNjUwNTIxMUkxUlFJRjU0WUg3SyZ3aWRnZXROYW1lPXNwX210ZiZhY3Rpb249Y2xpY2tSZWRpcmVjdCZkb05vdExvZ0NsaWNrPXRydWU=> (referer: https://www.amazon.com/s?k=python&page=6&qid=1663458276&ref=sr_pg_6)\n",
      "2022-09-18 02:02:34 [scrapy.downloadermiddlewares.redirect] DEBUG: Redirecting (302) to <GET https://www.amazon.com/Digital-Forensics-Incident-Response-techniques/dp/183864900X/ref=sr_1_242_sspa?keywords=python&qid=1663459326&sr=8-242-spons&psc=1&spLa=ZW5jcnlwdGVkUXVhbGlmaWVyPUEzUEZJU1BBTFNBSDVFJmVuY3J5cHRlZElkPUEwNzQwNjYwMUw1WkU3QUwxNzY1OSZlbmNyeXB0ZWRBZElkPUEwMTAzOTUxMlhGR0QwTUZCUFBUTCZ3aWRnZXROYW1lPXNwX2F0Zl9uZXh0JmFjdGlvbj1jbGlja1JlZGlyZWN0JmRvTm90TG9nQ2xpY2s9dHJ1ZQ==> from <GET https://www.amazon.com/gp/slredirect/picassoRedirect.html/ref=pa_sp_atf_next_aps_sr_pg6_1?ie=UTF8&adId=A01039512XFGD0MFBPPTL&url=%2FDigital-Forensics-Incident-Response-techniques%2Fdp%2F183864900X%2Fref%3Dsr_1_242_sspa%3Fkeywords%3Dpython%26qid%3D1663459326%26sr%3D8-242-spons%26psc%3D1&qualifier=1663459326&id=6192604472233120&widgetName=sp_atf_next>\n",
      "2022-09-18 02:02:34 [scrapy.downloadermiddlewares.redirect] DEBUG: Redirecting (302) to <GET https://www.amazon.com/Windows-Beginners-2022-All-One/dp/B0BB5RRQ81/ref=sr_1_241_sspa?keywords=python&qid=1663459326&sr=8-241-spons&psc=1&spLa=ZW5jcnlwdGVkUXVhbGlmaWVyPUEzUEZJU1BBTFNBSDVFJmVuY3J5cHRlZElkPUEwNzQwNjYwMUw1WkU3QUwxNzY1OSZlbmNyeXB0ZWRBZElkPUEwNjMwMDAxMkVTRFoyUDlSWk9JRyZ3aWRnZXROYW1lPXNwX2F0Zl9uZXh0JmFjdGlvbj1jbGlja1JlZGlyZWN0JmRvTm90TG9nQ2xpY2s9dHJ1ZQ==> from <GET https://www.amazon.com/gp/slredirect/picassoRedirect.html/ref=pa_sp_atf_next_aps_sr_pg6_1?ie=UTF8&adId=A06300012ESDZ2P9RZOIG&url=%2FWindows-Beginners-2022-All-One%2Fdp%2FB0BB5RRQ81%2Fref%3Dsr_1_241_sspa%3Fkeywords%3Dpython%26qid%3D1663459326%26sr%3D8-241-spons%26psc%3D1&qualifier=1663459326&id=6192604472233120&widgetName=sp_atf_next>\n"
     ]
    },
    {
     "name": "stdout",
     "output_type": "stream",
     "text": [
      "214\n",
      "['\\n            \\n              58%\\n            \\n          '] 4.3 out of 5 stars 7.5 x 0.85 x 9.25 inches\n"
     ]
    },
    {
     "name": "stderr",
     "output_type": "stream",
     "text": [
      "2022-09-18 02:02:35 [scrapy.core.engine] DEBUG: Crawled (200) <GET https://www.amazon.com/Defeating-Python-Spirit-Dangerous-Stronghold/dp/B08VBH5P4V/ref=sr_1_248?keywords=python&qid=1663459326&sr=8-248> (referer: https://www.amazon.com/s?k=python&page=6&qid=1663458276&ref=sr_pg_6)\n",
      "2022-09-18 02:02:35 [scrapy.core.engine] DEBUG: Crawled (200) <GET https://www.amazon.com/Smarter-Way-Learn-Python-Remember/dp/1974431479/ref=sr_1_247?keywords=python&qid=1663459326&sr=8-247> (referer: https://www.amazon.com/s?k=python&page=6&qid=1663458276&ref=sr_pg_6)\n"
     ]
    },
    {
     "name": "stdout",
     "output_type": "stream",
     "text": [
      "215\n",
      "['\\n            \\n              67%\\n            \\n          '] 4.4 out of 5 stars 6 x 1.36 x 9 inches\n"
     ]
    },
    {
     "name": "stderr",
     "output_type": "stream",
     "text": [
      "2022-09-18 02:02:35 [scrapy.core.engine] DEBUG: Crawled (200) <GET https://www.amazon.com/Python-Workout-50-Essential-Exercises/dp/1617295507/ref=sr_1_246?keywords=python&qid=1663459326&sr=8-246> (referer: https://www.amazon.com/s?k=python&page=6&qid=1663458276&ref=sr_pg_6)\n"
     ]
    },
    {
     "name": "stdout",
     "output_type": "stream",
     "text": [
      "216\n",
      "['\\n            \\n              79%\\n            \\n          '] 4.7 out of 5 stars 5.5 x 0.37 x 8.5 inches\n",
      "217\n",
      "['\\n            \\n              75%\\n            \\n          '] 4.6 out of 5 stars 7 x 0.5 x 10 inches\n"
     ]
    },
    {
     "name": "stderr",
     "output_type": "stream",
     "text": [
      "2022-09-18 02:02:35 [scrapy.core.engine] DEBUG: Crawled (200) <GET https://www.amazon.com/Python-Machine-Learning-Financial-Analysis-Online-Course/dp/B0B6PZ7959/ref=sr_1_219?keywords=python&qid=1663459313&sr=8-219> (referer: https://www.amazon.com/s?k=python&page=5&qid=1663458276&ref=sr_pg_5)\n"
     ]
    },
    {
     "name": "stdout",
     "output_type": "stream",
     "text": [
      "218\n",
      "['\\n            \\n              88%\\n            \\n          '] 4.9 out of 5 stars 7.38 x 0.6 x 9.25 inches\n"
     ]
    },
    {
     "name": "stderr",
     "output_type": "stream",
     "text": [
      "2022-09-18 02:02:35 [scrapy.core.engine] DEBUG: Crawled (200) <GET https://www.amazon.com/Python-Beginners-Books-Programming-Workbook/dp/1654414018/ref=sr_1_259_sspa?keywords=python&qid=1663459326&sr=8-259-spons&psc=1&spLa=ZW5jcnlwdGVkUXVhbGlmaWVyPUEzUEZJU1BBTFNBSDVFJmVuY3J5cHRlZElkPUEwNzQwNjYwMUw1WkU3QUwxNzY1OSZlbmNyeXB0ZWRBZElkPUEwOTIyMTk0MURSSE82TkMyR1JLMyZ3aWRnZXROYW1lPXNwX210ZiZhY3Rpb249Y2xpY2tSZWRpcmVjdCZkb05vdExvZ0NsaWNrPXRydWU=> (referer: https://www.amazon.com/s?k=python&page=6&qid=1663458276&ref=sr_pg_6)\n",
      "2022-09-18 02:02:35 [scrapy.core.engine] DEBUG: Crawled (200) <GET https://www.amazon.com/Python-Simplified-Guide-Programming/dp/B09WPZSQKH/ref=sr_1_245?keywords=python&qid=1663459326&sr=8-245> (referer: https://www.amazon.com/s?k=python&page=6&qid=1663458276&ref=sr_pg_6)\n"
     ]
    },
    {
     "name": "stdout",
     "output_type": "stream",
     "text": [
      "219\n",
      "[] None None\n",
      "220\n",
      "['\\n            \\n              63%\\n            \\n          '] 4.4 out of 5 stars 6 x 0.47 x 9 inches\n",
      "221\n",
      "[] None 6 x 0.15 x 9 inches\n"
     ]
    },
    {
     "name": "stderr",
     "output_type": "stream",
     "text": [
      "2022-09-18 02:02:37 [scrapy.core.engine] DEBUG: Crawled (200) <GET https://www.amazon.com/Fundamentals-Python-Programs-Kenneth-Lambert/dp/133756009X/ref=sr_1_218?keywords=python&qid=1663459313&sr=8-218> (referer: https://www.amazon.com/s?k=python&page=5&qid=1663458276&ref=sr_pg_5)\n",
      "2022-09-18 02:02:37 [scrapy.core.engine] DEBUG: Crawled (200) <GET https://www.amazon.com/Python-Programming-Easily-Beginners-Language-ebook/dp/B01N1ZXVPL/ref=sr_1_222?keywords=python&qid=1663459313&sr=8-222> (referer: https://www.amazon.com/s?k=python&page=5&qid=1663458276&ref=sr_pg_5)\n",
      "2022-09-18 02:02:37 [scrapy.core.engine] DEBUG: Crawled (200) <GET https://www.amazon.com/Illustrated-Guide-Python-Walkthrough-Illustrations/dp/1977921752/ref=sr_1_221?keywords=python&qid=1663459313&sr=8-221> (referer: https://www.amazon.com/s?k=python&page=5&qid=1663458276&ref=sr_pg_5)\n"
     ]
    },
    {
     "name": "stdout",
     "output_type": "stream",
     "text": [
      "222\n",
      "['\\n            \\n              69%\\n            \\n          '] 4.4 out of 5 stars 7.5 x 0.75 x 9.25 inches\n",
      "223\n",
      "['\\n            \\n              56%\\n            \\n          '] 4.1 out of 5 stars None\n"
     ]
    },
    {
     "name": "stderr",
     "output_type": "stream",
     "text": [
      "2022-09-18 02:02:38 [scrapy.core.engine] DEBUG: Crawled (200) <GET https://www.amazon.com/Ball-Pythons-Pets-temperament-husbandry/dp/194628601X/ref=sr_1_220?keywords=python&qid=1663459313&sr=8-220> (referer: https://www.amazon.com/s?k=python&page=5&qid=1663458276&ref=sr_pg_5)\n",
      "2022-09-18 02:02:38 [scrapy.core.engine] DEBUG: Crawled (200) <GET https://www.amazon.com/IoT-Edge-Computing-Architects-communication/dp/1839214805/ref=sr_1_244_sspa?keywords=python&qid=1663459326&sr=8-244-spons&psc=1&spLa=ZW5jcnlwdGVkUXVhbGlmaWVyPUEzUEZJU1BBTFNBSDVFJmVuY3J5cHRlZElkPUEwNzQwNjYwMUw1WkU3QUwxNzY1OSZlbmNyeXB0ZWRBZElkPUEwNzI2MDY2MUMzTTRQMlo4MFI4VyZ3aWRnZXROYW1lPXNwX2F0Zl9uZXh0JmFjdGlvbj1jbGlja1JlZGlyZWN0JmRvTm90TG9nQ2xpY2s9dHJ1ZQ==> (referer: https://www.amazon.com/s?k=python&page=6&qid=1663458276&ref=sr_pg_6)\n"
     ]
    },
    {
     "name": "stdout",
     "output_type": "stream",
     "text": [
      "224\n",
      "['\\n            \\n              72%\\n            \\n          '] 4.5 out of 5 stars 5 x 0.58 x 8 inches\n"
     ]
    },
    {
     "name": "stderr",
     "output_type": "stream",
     "text": [
      "2022-09-18 02:02:38 [scrapy.core.engine] DEBUG: Crawled (200) <GET https://www.amazon.com/Effective-Pandas-Patterns-Manipulation-Treading/dp/B09MYXXSFM/ref=sr_1_217?keywords=python&qid=1663459313&sr=8-217> (referer: https://www.amazon.com/s?k=python&page=5&qid=1663458276&ref=sr_pg_5)\n",
      "2022-09-18 02:02:38 [scrapy.core.engine] DEBUG: Crawled (200) <GET https://www.amazon.com/Digital-Forensics-Incident-Response-techniques/dp/183864900X/ref=sr_1_242_sspa?keywords=python&qid=1663459326&sr=8-242-spons&psc=1&spLa=ZW5jcnlwdGVkUXVhbGlmaWVyPUEzUEZJU1BBTFNBSDVFJmVuY3J5cHRlZElkPUEwNzQwNjYwMUw1WkU3QUwxNzY1OSZlbmNyeXB0ZWRBZElkPUEwMTAzOTUxMlhGR0QwTUZCUFBUTCZ3aWRnZXROYW1lPXNwX2F0Zl9uZXh0JmFjdGlvbj1jbGlja1JlZGlyZWN0JmRvTm90TG9nQ2xpY2s9dHJ1ZQ==> (referer: https://www.amazon.com/s?k=python&page=6&qid=1663458276&ref=sr_pg_6)\n"
     ]
    },
    {
     "name": "stdout",
     "output_type": "stream",
     "text": [
      "225\n",
      "['\\n            \\n              68%\\n            \\n          '] 4.5 out of 5 stars 6 x 0.3 x 9 inches\n",
      "226\n",
      "['\\n            \\n              66%\\n            \\n          '] 4.5 out of 5 stars 7.5 x 1.43 x 9.25 inches\n"
     ]
    },
    {
     "name": "stderr",
     "output_type": "stream",
     "text": [
      "2022-09-18 02:02:38 [scrapy.downloadermiddlewares.redirect] DEBUG: Redirecting (302) to <GET https://www.amazon.com/Python-Object-Oriented-Programming-maintainable-object-oriented/dp/1801077266/ref=sr_1_212_sspa?keywords=python&qid=1663459313&sr=8-212-spons&psc=1&spLa=ZW5jcnlwdGVkUXVhbGlmaWVyPUExMVdYSkNMR0FBTEhJJmVuY3J5cHRlZElkPUEwOTY3MzAwM1Q1N0pDN1UzWVdDMSZlbmNyeXB0ZWRBZElkPUEwODkwNTI0MVVMOU9ZUFNOQ0wzNSZ3aWRnZXROYW1lPXNwX210ZiZhY3Rpb249Y2xpY2tSZWRpcmVjdCZkb05vdExvZ0NsaWNrPXRydWU=> from <GET https://www.amazon.com/gp/slredirect/picassoRedirect.html/ref=pa_sp_mtf_aps_sr_pg5_1?ie=UTF8&adId=A08905241UL9OYPSNCL35&url=%2FPython-Object-Oriented-Programming-maintainable-object-oriented%2Fdp%2F1801077266%2Fref%3Dsr_1_212_sspa%3Fkeywords%3Dpython%26qid%3D1663459313%26sr%3D8-212-spons%26psc%3D1&qualifier=1663459313&id=2056184904598566&widgetName=sp_mtf>\n",
      "2022-09-18 02:02:38 [scrapy.core.engine] DEBUG: Crawled (200) <GET https://www.amazon.com/Learn-JavaScript-Quickly-Programming-Hands/dp/1951791479/ref=sr_1_243_sspa?keywords=python&qid=1663459326&sr=8-243-spons&psc=1&spLa=ZW5jcnlwdGVkUXVhbGlmaWVyPUEzUEZJU1BBTFNBSDVFJmVuY3J5cHRlZElkPUEwNzQwNjYwMUw1WkU3QUwxNzY1OSZlbmNyeXB0ZWRBZElkPUEwNzY1NzMwMjM3UVFGV1FOTktTNSZ3aWRnZXROYW1lPXNwX2F0Zl9uZXh0JmFjdGlvbj1jbGlja1JlZGlyZWN0JmRvTm90TG9nQ2xpY2s9dHJ1ZQ==> (referer: https://www.amazon.com/s?k=python&page=6&qid=1663458276&ref=sr_pg_6)\n",
      "2022-09-18 02:02:38 [scrapy.downloadermiddlewares.redirect] DEBUG: Redirecting (302) to <GET https://www.amazon.com/Python-ArcGIS-Pro-Automate-cartography/dp/1803241667/ref=sr_1_211_sspa?keywords=python&qid=1663459313&sr=8-211-spons&psc=1&spLa=ZW5jcnlwdGVkUXVhbGlmaWVyPUExMVdYSkNMR0FBTEhJJmVuY3J5cHRlZElkPUEwOTY3MzAwM1Q1N0pDN1UzWVdDMSZlbmNyeXB0ZWRBZElkPUEwMDYyMjQxQTlCMlE4TUkxUzA1JndpZGdldE5hbWU9c3BfbXRmJmFjdGlvbj1jbGlja1JlZGlyZWN0JmRvTm90TG9nQ2xpY2s9dHJ1ZQ==> from <GET https://www.amazon.com/gp/slredirect/picassoRedirect.html/ref=pa_sp_mtf_aps_sr_pg5_1?ie=UTF8&adId=A0062241A9B2Q8MI1S05&url=%2FPython-ArcGIS-Pro-Automate-cartography%2Fdp%2F1803241667%2Fref%3Dsr_1_211_sspa%3Fkeywords%3Dpython%26qid%3D1663459313%26sr%3D8-211-spons%26psc%3D1&qualifier=1663459313&id=2056184904598566&widgetName=sp_mtf>\n"
     ]
    },
    {
     "name": "stdout",
     "output_type": "stream",
     "text": [
      "227\n",
      "['\\n            \\n              85%\\n            \\n          '] 4.7 out of 5 stars 7 x 1.17 x 9 inches\n",
      "228\n",
      "['\\n            \\n              75%\\n            \\n          '] 4.6 out of 5 stars 7.5 x 1.01 x 9.25 inches\n"
     ]
    },
    {
     "name": "stderr",
     "output_type": "stream",
     "text": [
      "2022-09-18 02:02:39 [scrapy.downloadermiddlewares.redirect] DEBUG: Redirecting (302) to <GET https://www.amazon.com/Algebra-Part-Quickstudy-Reference-Guides/dp/1572227354/ref=sr_1_209_sspa?keywords=python&qid=1663459313&sr=8-209-spons&psc=1&spLa=ZW5jcnlwdGVkUXVhbGlmaWVyPUExMVdYSkNMR0FBTEhJJmVuY3J5cHRlZElkPUEwOTY3MzAwM1Q1N0pDN1UzWVdDMSZlbmNyeXB0ZWRBZElkPUEwNjczMzMyMzlRS0g2OUNJNzVLWSZ3aWRnZXROYW1lPXNwX210ZiZhY3Rpb249Y2xpY2tSZWRpcmVjdCZkb05vdExvZ0NsaWNrPXRydWU=> from <GET https://www.amazon.com/gp/slredirect/picassoRedirect.html/ref=pa_sp_mtf_aps_sr_pg5_1?ie=UTF8&adId=A067333239QKH69CI75KY&url=%2FAlgebra-Part-Quickstudy-Reference-Guides%2Fdp%2F1572227354%2Fref%3Dsr_1_209_sspa%3Fkeywords%3Dpython%26qid%3D1663459313%26sr%3D8-209-spons%26psc%3D1&qualifier=1663459313&id=2056184904598566&widgetName=sp_mtf>\n",
      "2022-09-18 02:02:39 [scrapy.downloadermiddlewares.redirect] DEBUG: Redirecting (302) to <GET https://www.amazon.com/Python-programming-Beginners-Programming-Languages/dp/B09RLRHNGS/ref=sr_1_210_sspa?keywords=python&qid=1663459313&sr=8-210-spons&psc=1&spLa=ZW5jcnlwdGVkUXVhbGlmaWVyPUExMVdYSkNMR0FBTEhJJmVuY3J5cHRlZElkPUEwOTY3MzAwM1Q1N0pDN1UzWVdDMSZlbmNyeXB0ZWRBZElkPUEwMDM3NDg2NEhONlYxV0ZZNkNUJndpZGdldE5hbWU9c3BfbXRmJmFjdGlvbj1jbGlja1JlZGlyZWN0JmRvTm90TG9nQ2xpY2s9dHJ1ZQ==> from <GET https://www.amazon.com/gp/slredirect/picassoRedirect.html/ref=pa_sp_mtf_aps_sr_pg5_1?ie=UTF8&adId=A00374864HN6V1WFY6CT&url=%2FPython-programming-Beginners-Programming-Languages%2Fdp%2FB09RLRHNGS%2Fref%3Dsr_1_210_sspa%3Fkeywords%3Dpython%26qid%3D1663459313%26sr%3D8-210-spons%26psc%3D1&qualifier=1663459313&id=2056184904598566&widgetName=sp_mtf>\n"
     ]
    },
    {
     "name": "stdout",
     "output_type": "stream",
     "text": [
      "229\n",
      "['\\n            \\n              70%\\n            \\n          '] 4.5 out of 5 stars 8.5 x 0.4 x 11 inches\n"
     ]
    },
    {
     "name": "stderr",
     "output_type": "stream",
     "text": [
      "2022-09-18 02:02:39 [scrapy.core.engine] DEBUG: Crawled (200) <GET https://www.amazon.com/Windows-Beginners-2022-All-One/dp/B0BB5RRQ81/ref=sr_1_241_sspa?keywords=python&qid=1663459326&sr=8-241-spons&psc=1&spLa=ZW5jcnlwdGVkUXVhbGlmaWVyPUEzUEZJU1BBTFNBSDVFJmVuY3J5cHRlZElkPUEwNzQwNjYwMUw1WkU3QUwxNzY1OSZlbmNyeXB0ZWRBZElkPUEwNjMwMDAxMkVTRFoyUDlSWk9JRyZ3aWRnZXROYW1lPXNwX2F0Zl9uZXh0JmFjdGlvbj1jbGlja1JlZGlyZWN0JmRvTm90TG9nQ2xpY2s9dHJ1ZQ==> (referer: https://www.amazon.com/s?k=python&page=6&qid=1663458276&ref=sr_pg_6)\n",
      "2022-09-18 02:02:40 [scrapy.core.engine] DEBUG: Crawled (200) <GET https://www.amazon.com/Genetic-Algorithms-Python-Clinton-Sheppard/dp/1540324001/ref=sr_1_216?keywords=python&qid=1663459313&sr=8-216> (referer: https://www.amazon.com/s?k=python&page=5&qid=1663458276&ref=sr_pg_5)\n"
     ]
    },
    {
     "name": "stdout",
     "output_type": "stream",
     "text": [
      "230\n",
      "['\\n            \\n              96%\\n            \\n          '] 5.0 out of 5 stars 8.5 x 0.26 x 11 inches\n"
     ]
    },
    {
     "name": "stderr",
     "output_type": "stream",
     "text": [
      "2022-09-18 02:02:40 [scrapy.core.engine] DEBUG: Crawled (200) <GET https://www.amazon.com/Python-Standard-Library-Example-Developers/dp/0134291050/ref=sr_1_215?keywords=python&qid=1663459313&sr=8-215> (referer: https://www.amazon.com/s?k=python&page=5&qid=1663458276&ref=sr_pg_5)\n",
      "2022-09-18 02:02:40 [scrapy.core.engine] DEBUG: Crawled (200) <GET https://www.amazon.com/Sams-Teach-Yourself-Python-Hours/dp/0672336871/ref=sr_1_213?keywords=python&qid=1663459313&sr=8-213> (referer: https://www.amazon.com/s?k=python&page=5&qid=1663458276&ref=sr_pg_5)\n",
      "2022-09-18 02:02:40 [scrapy.core.engine] DEBUG: Crawled (200) <GET https://www.amazon.com/Introduction-Computation-Programming-Using-Python/dp/0262542366/ref=sr_1_214?keywords=python&qid=1663459313&sr=8-214> (referer: https://www.amazon.com/s?k=python&page=5&qid=1663458276&ref=sr_pg_5)\n"
     ]
    },
    {
     "name": "stdout",
     "output_type": "stream",
     "text": [
      "231\n",
      "['\\n            \\n              70%\\n            \\n          '] 4.4 out of 5 stars 7.44 x 0.96 x 9.69 inches\n",
      "232\n",
      "['\\n            \\n              74%\\n            \\n          '] 4.5 out of 5 stars 7.1 x 2.15 x 9.1 inches\n",
      "233\n",
      "['\\n            \\n              65%\\n            \\n          '] 4.2 out of 5 stars 7 x 0.8 x 9 inches\n",
      "234\n",
      "['\\n            \\n              76%\\n            \\n          '] 4.6 out of 5 stars 7 x 1.32 x 9.06 inches\n"
     ]
    },
    {
     "name": "stderr",
     "output_type": "stream",
     "text": [
      "2022-09-18 02:02:41 [scrapy.core.engine] DEBUG: Crawled (200) <GET https://www.amazon.com/Python-Jumping-John-Yoon-Ph-D/dp/B0B9QYSV74/ref=sr_1_206?keywords=python&qid=1663459313&sr=8-206> (referer: https://www.amazon.com/s?k=python&page=5&qid=1663458276&ref=sr_pg_5)\n"
     ]
    },
    {
     "name": "stdout",
     "output_type": "stream",
     "text": [
      "235\n",
      "[] None 7.5 x 0.43 x 9.25 inches\n"
     ]
    },
    {
     "name": "stderr",
     "output_type": "stream",
     "text": [
      "2022-09-18 02:02:42 [scrapy.core.engine] DEBUG: Crawled (200) <GET https://www.amazon.com/Learn-Python-Quickly-Programming-Hands/dp/1951791274/ref=sr_1_208?keywords=python&qid=1663459313&sr=8-208> (referer: https://www.amazon.com/s?k=python&page=5&qid=1663458276&ref=sr_pg_5)\n"
     ]
    },
    {
     "name": "stdout",
     "output_type": "stream",
     "text": [
      "236\n",
      "['\\n            \\n              62%\\n            \\n          '] 4.4 out of 5 stars 7 x 0.4 x 10 inches\n"
     ]
    },
    {
     "name": "stderr",
     "output_type": "stream",
     "text": [
      "2022-09-18 02:02:42 [scrapy.core.engine] DEBUG: Crawled (200) <GET https://www.amazon.com/Python-Django-Web-Development-Applications-ebook/dp/B0B6PZF996/ref=sr_1_207?keywords=python&qid=1663459313&sr=8-207> (referer: https://www.amazon.com/s?k=python&page=5&qid=1663458276&ref=sr_pg_5)\n",
      "2022-09-18 02:02:42 [scrapy.core.engine] DEBUG: Crawled (200) <GET https://www.amazon.com/Machine-Learning-Guide-Using-Python/dp/0128219297/ref=sr_1_204?keywords=python&qid=1663459313&sr=8-204> (referer: https://www.amazon.com/s?k=python&page=5&qid=1663458276&ref=sr_pg_5)\n"
     ]
    },
    {
     "name": "stdout",
     "output_type": "stream",
     "text": [
      "237\n",
      "['\\n            \\n              100%\\n            \\n          '] 5.0 out of 5 stars None\n"
     ]
    },
    {
     "name": "stderr",
     "output_type": "stream",
     "text": [
      "2022-09-18 02:02:43 [scrapy.core.engine] DEBUG: Crawled (200) <GET https://www.amazon.com/Interpretable-Machine-Learning-Python-hands/dp/180020390X/ref=sr_1_203?keywords=python&qid=1663459313&sr=8-203> (referer: https://www.amazon.com/s?k=python&page=5&qid=1663458276&ref=sr_pg_5)\n"
     ]
    },
    {
     "name": "stdout",
     "output_type": "stream",
     "text": [
      "238\n",
      "['\\n            \\n              100%\\n            \\n          '] 5.0 out of 5 stars 5.98 x 1.08 x 9.02 inches\n"
     ]
    },
    {
     "name": "stderr",
     "output_type": "stream",
     "text": [
      "2022-09-18 02:02:43 [scrapy.core.engine] DEBUG: Crawled (200) <GET https://www.amazon.com/Monty-Python-Holy-Grail-Special/dp/B00005O3VC/ref=sr_1_205?keywords=python&qid=1663459313&sr=8-205> (referer: https://www.amazon.com/s?k=python&page=5&qid=1663458276&ref=sr_pg_5)\n",
      "2022-09-18 02:02:43 [scrapy.core.engine] DEBUG: Crawled (200) <GET https://www.amazon.com/Python-ArcGIS-Pro-Automate-cartography/dp/1803241667/ref=sr_1_211_sspa?keywords=python&qid=1663459313&sr=8-211-spons&psc=1&spLa=ZW5jcnlwdGVkUXVhbGlmaWVyPUExMVdYSkNMR0FBTEhJJmVuY3J5cHRlZElkPUEwOTY3MzAwM1Q1N0pDN1UzWVdDMSZlbmNyeXB0ZWRBZElkPUEwMDYyMjQxQTlCMlE4TUkxUzA1JndpZGdldE5hbWU9c3BfbXRmJmFjdGlvbj1jbGlja1JlZGlyZWN0JmRvTm90TG9nQ2xpY2s9dHJ1ZQ==> (referer: https://www.amazon.com/s?k=python&page=5&qid=1663458276&ref=sr_pg_5)\n"
     ]
    },
    {
     "name": "stdout",
     "output_type": "stream",
     "text": [
      "239\n",
      "['\\n            \\n              76%\\n            \\n          '] 4.6 out of 5 stars 7.5 x 1.66 x 9.25 inches\n"
     ]
    },
    {
     "name": "stderr",
     "output_type": "stream",
     "text": [
      "2022-09-18 02:02:43 [scrapy.core.engine] DEBUG: Crawled (200) <GET https://www.amazon.com/Python-Object-Oriented-Programming-maintainable-object-oriented/dp/1801077266/ref=sr_1_212_sspa?keywords=python&qid=1663459313&sr=8-212-spons&psc=1&spLa=ZW5jcnlwdGVkUXVhbGlmaWVyPUExMVdYSkNMR0FBTEhJJmVuY3J5cHRlZElkPUEwOTY3MzAwM1Q1N0pDN1UzWVdDMSZlbmNyeXB0ZWRBZElkPUEwODkwNTI0MVVMOU9ZUFNOQ0wzNSZ3aWRnZXROYW1lPXNwX210ZiZhY3Rpb249Y2xpY2tSZWRpcmVjdCZkb05vdExvZ0NsaWNrPXRydWU=> (referer: https://www.amazon.com/s?k=python&page=5&qid=1663458276&ref=sr_pg_5)\n",
      "2022-09-18 02:02:43 [scrapy.core.engine] DEBUG: Crawled (200) <GET https://www.amazon.com/Create-Applications-Python-PyQt6-hands/dp/B0B1CK5ZZ1/ref=sr_1_202?keywords=python&qid=1663459313&sr=8-202> (referer: https://www.amazon.com/s?k=python&page=5&qid=1663458276&ref=sr_pg_5)\n"
     ]
    },
    {
     "name": "stdout",
     "output_type": "stream",
     "text": [
      "240\n",
      "['\\n            \\n              85%\\n            \\n          '] 4.7 out of 5 stars 7.5 x 5.5 x 0.5 inches; 3.2 Ounces\n",
      "241\n",
      "['\\n            \\n              84%\\n            \\n          '] 4.7 out of 5 stars 7.5 x 1.32 x 9.25 inches\n",
      "242\n",
      "['\\n            \\n              58%\\n            \\n          '] 4.3 out of 5 stars 7.5 x 1.61 x 9.25 inches\n",
      "243\n",
      "['\\n            \\n              50%\\n            \\n          '] 4.0 out of 5 stars 7 x 1.8 x 10 inches\n"
     ]
    },
    {
     "name": "stderr",
     "output_type": "stream",
     "text": [
      "2022-09-18 02:02:44 [scrapy.downloadermiddlewares.redirect] DEBUG: Redirecting (302) to <GET https://www.amazon.com/Continuous-Delivery-Docker-Jenkins-applications/dp/1838552189/ref=sr_1_196_sspa?keywords=python&qid=1663459313&sr=8-196-spons&psc=1&spLa=ZW5jcnlwdGVkUXVhbGlmaWVyPUExMVdYSkNMR0FBTEhJJmVuY3J5cHRlZElkPUEwOTY3MzAwM1Q1N0pDN1UzWVdDMSZlbmNyeXB0ZWRBZElkPUEwNTY4ODczMlcwWVhSTjFWNVBFJndpZGdldE5hbWU9c3BfYXRmX25leHQmYWN0aW9uPWNsaWNrUmVkaXJlY3QmZG9Ob3RMb2dDbGljaz10cnVl> from <GET https://www.amazon.com/gp/slredirect/picassoRedirect.html/ref=pa_sp_atf_next_aps_sr_pg5_1?ie=UTF8&adId=A05688732W0YXRN1V5PE&url=%2FContinuous-Delivery-Docker-Jenkins-applications%2Fdp%2F1838552189%2Fref%3Dsr_1_196_sspa%3Fkeywords%3Dpython%26qid%3D1663459313%26sr%3D8-196-spons%26psc%3D1&qualifier=1663459313&id=2056184904598566&widgetName=sp_atf_next>\n",
      "2022-09-18 02:02:44 [scrapy.core.engine] DEBUG: Crawled (200) <GET https://www.amazon.com/Python-programming-Beginners-Programming-Languages/dp/B09RLRHNGS/ref=sr_1_210_sspa?keywords=python&qid=1663459313&sr=8-210-spons&psc=1&spLa=ZW5jcnlwdGVkUXVhbGlmaWVyPUExMVdYSkNMR0FBTEhJJmVuY3J5cHRlZElkPUEwOTY3MzAwM1Q1N0pDN1UzWVdDMSZlbmNyeXB0ZWRBZElkPUEwMDM3NDg2NEhONlYxV0ZZNkNUJndpZGdldE5hbWU9c3BfbXRmJmFjdGlvbj1jbGlja1JlZGlyZWN0JmRvTm90TG9nQ2xpY2s9dHJ1ZQ==> (referer: https://www.amazon.com/s?k=python&page=5&qid=1663458276&ref=sr_pg_5)\n",
      "2022-09-18 02:02:44 [scrapy.downloadermiddlewares.redirect] DEBUG: Redirecting (302) to <GET https://www.amazon.com/Clean-Code-Python-maintainable-efficient/dp/1800560214/ref=sr_1_195_sspa?keywords=python&qid=1663459313&sr=8-195-spons&psc=1&spLa=ZW5jcnlwdGVkUXVhbGlmaWVyPUExMVdYSkNMR0FBTEhJJmVuY3J5cHRlZElkPUEwOTY3MzAwM1Q1N0pDN1UzWVdDMSZlbmNyeXB0ZWRBZElkPUEwNjAxNDQwMVBBMlIzNTNCVDZDRCZ3aWRnZXROYW1lPXNwX2F0Zl9uZXh0JmFjdGlvbj1jbGlja1JlZGlyZWN0JmRvTm90TG9nQ2xpY2s9dHJ1ZQ==> from <GET https://www.amazon.com/gp/slredirect/picassoRedirect.html/ref=pa_sp_atf_next_aps_sr_pg5_1?ie=UTF8&adId=A06014401PA2R353BT6CD&url=%2FClean-Code-Python-maintainable-efficient%2Fdp%2F1800560214%2Fref%3Dsr_1_195_sspa%3Fkeywords%3Dpython%26qid%3D1663459313%26sr%3D8-195-spons%26psc%3D1&qualifier=1663459313&id=2056184904598566&widgetName=sp_atf_next>\n",
      "2022-09-18 02:02:44 [scrapy.downloadermiddlewares.redirect] DEBUG: Redirecting (302) to <GET https://www.amazon.com/Tweens-Teens-Computational-Algorithmic-Thinking/dp/B09TMYQB25/ref=sr_1_194_sspa?keywords=python&qid=1663459313&sr=8-194-spons&psc=1&spLa=ZW5jcnlwdGVkUXVhbGlmaWVyPUExMVdYSkNMR0FBTEhJJmVuY3J5cHRlZElkPUEwOTY3MzAwM1Q1N0pDN1UzWVdDMSZlbmNyeXB0ZWRBZElkPUEwMDgxMDI2MkVFNkMwNVExQ1ZLSCZ3aWRnZXROYW1lPXNwX2F0Zl9uZXh0JmFjdGlvbj1jbGlja1JlZGlyZWN0JmRvTm90TG9nQ2xpY2s9dHJ1ZQ==> from <GET https://www.amazon.com/gp/slredirect/picassoRedirect.html/ref=pa_sp_atf_next_aps_sr_pg5_1?ie=UTF8&adId=A00810262EE6C05Q1CVKH&url=%2FTweens-Teens-Computational-Algorithmic-Thinking%2Fdp%2FB09TMYQB25%2Fref%3Dsr_1_194_sspa%3Fkeywords%3Dpython%26qid%3D1663459313%26sr%3D8-194-spons%26psc%3D1&qualifier=1663459313&id=2056184904598566&widgetName=sp_atf_next>\n",
      "2022-09-18 02:02:44 [scrapy.core.engine] DEBUG: Crawled (200) <GET https://www.amazon.com/Mastering-Python-Networking-Security-networking/dp/1839217162/ref=sr_1_201?keywords=python&qid=1663459313&sr=8-201> (referer: https://www.amazon.com/s?k=python&page=5&qid=1663458276&ref=sr_pg_5)\n"
     ]
    },
    {
     "name": "stdout",
     "output_type": "stream",
     "text": [
      "244\n",
      "['\\n            \\n              82%\\n            \\n          '] 4.7 out of 5 stars 6 x 1.07 x 9 inches\n"
     ]
    },
    {
     "name": "stderr",
     "output_type": "stream",
     "text": [
      "2022-09-18 02:02:45 [scrapy.core.engine] DEBUG: Crawled (200) <GET https://www.amazon.com/Pet-Ball-Python-Logbook-Important/dp/B09PMHYQQ7/ref=sr_1_200?keywords=python&qid=1663459313&sr=8-200> (referer: https://www.amazon.com/s?k=python&page=5&qid=1663458276&ref=sr_pg_5)\n"
     ]
    },
    {
     "name": "stdout",
     "output_type": "stream",
     "text": [
      "245\n",
      "['\\n            \\n              86%\\n            \\n          '] 4.9 out of 5 stars 7.5 x 1.22 x 9.25 inches\n"
     ]
    },
    {
     "name": "stderr",
     "output_type": "stream",
     "text": [
      "2022-09-18 02:02:45 [scrapy.core.engine] DEBUG: Crawled (200) <GET https://www.amazon.com/Algebra-Part-Quickstudy-Reference-Guides/dp/1572227354/ref=sr_1_209_sspa?keywords=python&qid=1663459313&sr=8-209-spons&psc=1&spLa=ZW5jcnlwdGVkUXVhbGlmaWVyPUExMVdYSkNMR0FBTEhJJmVuY3J5cHRlZElkPUEwOTY3MzAwM1Q1N0pDN1UzWVdDMSZlbmNyeXB0ZWRBZElkPUEwNjczMzMyMzlRS0g2OUNJNzVLWSZ3aWRnZXROYW1lPXNwX210ZiZhY3Rpb249Y2xpY2tSZWRpcmVjdCZkb05vdExvZ0NsaWNrPXRydWU=> (referer: https://www.amazon.com/s?k=python&page=5&qid=1663458276&ref=sr_pg_5)\n"
     ]
    },
    {
     "name": "stdout",
     "output_type": "stream",
     "text": [
      "246\n",
      "['\\n            \\n              100%\\n            \\n          '] 5.0 out of 5 stars 6 x 0.28 x 9 inches\n"
     ]
    },
    {
     "name": "stderr",
     "output_type": "stream",
     "text": [
      "2022-09-18 02:02:45 [scrapy.core.engine] DEBUG: Crawled (200) <GET https://www.amazon.com/Building-Python-APIs-FastAPI-high-performance/dp/1801076634/ref=sr_1_198?keywords=python&qid=1663459313&sr=8-198> (referer: https://www.amazon.com/s?k=python&page=5&qid=1663458276&ref=sr_pg_5)\n"
     ]
    },
    {
     "name": "stdout",
     "output_type": "stream",
     "text": [
      "247\n",
      "['\\n            \\n              79%\\n            \\n          '] 4.7 out of 5 stars 8.5 x 11 x 0.06 inches\n"
     ]
    },
    {
     "name": "stderr",
     "output_type": "stream",
     "text": [
      "2022-09-18 02:02:46 [scrapy.core.engine] DEBUG: Crawled (200) <GET https://www.amazon.com/Analysis-Python-PySpark-Jonathan-Rioux/dp/1617297208/ref=sr_1_197?keywords=python&qid=1663459313&sr=8-197> (referer: https://www.amazon.com/s?k=python&page=5&qid=1663458276&ref=sr_pg_5)\n",
      "2022-09-18 02:02:46 [scrapy.core.engine] DEBUG: Crawled (200) <GET https://www.amazon.com/Coding-Kids-Python-Comprehensive-Children/dp/1956913211/ref=sr_1_199?keywords=python&qid=1663459313&sr=8-199> (referer: https://www.amazon.com/s?k=python&page=5&qid=1663458276&ref=sr_pg_5)\n"
     ]
    },
    {
     "name": "stdout",
     "output_type": "stream",
     "text": [
      "248\n",
      "['\\n            \\n              58%\\n            \\n          '] 4.4 out of 5 stars 7.5 x 0.49 x 9.25 inches\n"
     ]
    },
    {
     "name": "stderr",
     "output_type": "stream",
     "text": [
      "2022-09-18 02:02:46 [scrapy.downloadermiddlewares.redirect] DEBUG: Redirecting (302) to <GET https://www.amazon.com/Microsoft-Power-Cookbook-expertise-hands/dp/1801813043/ref=sr_1_193_sspa?keywords=python&qid=1663459313&sr=8-193-spons&psc=1&spLa=ZW5jcnlwdGVkUXVhbGlmaWVyPUExMVdYSkNMR0FBTEhJJmVuY3J5cHRlZElkPUEwOTY3MzAwM1Q1N0pDN1UzWVdDMSZlbmNyeXB0ZWRBZElkPUEwNjE2ODEyMUhKVEJROENaMEExTiZ3aWRnZXROYW1lPXNwX2F0Zl9uZXh0JmFjdGlvbj1jbGlja1JlZGlyZWN0JmRvTm90TG9nQ2xpY2s9dHJ1ZQ==> from <GET https://www.amazon.com/gp/slredirect/picassoRedirect.html/ref=pa_sp_atf_next_aps_sr_pg5_1?ie=UTF8&adId=A06168121HJTBQ8CZ0A1N&url=%2FMicrosoft-Power-Cookbook-expertise-hands%2Fdp%2F1801813043%2Fref%3Dsr_1_193_sspa%3Fkeywords%3Dpython%26qid%3D1663459313%26sr%3D8-193-spons%26psc%3D1&qualifier=1663459313&id=2056184904598566&widgetName=sp_atf_next>\n"
     ]
    },
    {
     "name": "stdout",
     "output_type": "stream",
     "text": [
      "249\n",
      "['\\n            \\n              80%\\n            \\n          '] 4.8 out of 5 stars 7.38 x 1 x 9.25 inches\n",
      "250\n",
      "['\\n            \\n              41%\\n            \\n          '] 4.0 out of 5 stars 6 x 0.31 x 9 inches\n"
     ]
    },
    {
     "name": "stderr",
     "output_type": "stream",
     "text": [
      "2022-09-18 02:02:47 [scrapy.core.engine] DEBUG: Crawled (200) <GET https://www.amazon.com/Mastering-GUI-Programming-Python-cross-platform/dp/178961290X/ref=sr_1_172?keywords=python&qid=1663459301&sr=8-172> (referer: https://www.amazon.com/s?k=python&page=4&qid=1663458276&ref=sr_pg_4)\n",
      "2022-09-18 02:02:47 [scrapy.core.engine] DEBUG: Crawled (200) <GET https://www.amazon.com/Automating-Excel-Python-Processing-Spreadsheets/dp/B09M5551W2/ref=sr_1_171?keywords=python&qid=1663459301&sr=8-171> (referer: https://www.amazon.com/s?k=python&page=4&qid=1663458276&ref=sr_pg_4)\n",
      "2022-09-18 02:02:47 [scrapy.core.engine] DEBUG: Crawled (200) <GET https://www.amazon.com/Problem-Solving-Algorithms-Structures-Python/dp/1590282574/ref=sr_1_170?keywords=python&qid=1663459301&sr=8-170> (referer: https://www.amazon.com/s?k=python&page=4&qid=1663458276&ref=sr_pg_4)\n"
     ]
    },
    {
     "name": "stdout",
     "output_type": "stream",
     "text": [
      "251\n",
      "['\\n            \\n              60%\\n            \\n          '] 4.3 out of 5 stars 7.5 x 1.23 x 9.25 inches\n",
      "252\n",
      "['\\n            \\n              100%\\n            \\n          '] 5.0 out of 5 stars 8.5 x 0.51 x 11 inches\n",
      "253\n",
      "['\\n            \\n              73%\\n            \\n          '] 4.6 out of 5 stars 7.5 x 0.9 x 9.2 inches\n"
     ]
    },
    {
     "name": "stderr",
     "output_type": "stream",
     "text": [
      "2022-09-18 02:02:48 [scrapy.core.engine] DEBUG: Crawled (200) <GET https://www.amazon.com/Monty-Pythons-Meaning-Graham-Chapman/dp/B000A2UBNE/ref=sr_1_168?keywords=python&qid=1663459301&sr=8-168> (referer: https://www.amazon.com/s?k=python&page=4&qid=1663458276&ref=sr_pg_4)\n",
      "2022-09-18 02:02:48 [scrapy.core.engine] DEBUG: Crawled (200) <GET https://www.amazon.com/Clean-Code-Python-maintainable-efficient/dp/1800560214/ref=sr_1_167?keywords=python&qid=1663459301&sr=8-167> (referer: https://www.amazon.com/s?k=python&page=4&qid=1663458276&ref=sr_pg_4)\n",
      "2022-09-18 02:02:49 [scrapy.core.engine] DEBUG: Crawled (200) <GET https://www.amazon.com/Continuous-Delivery-Docker-Jenkins-applications/dp/1838552189/ref=sr_1_196_sspa?keywords=python&qid=1663459313&sr=8-196-spons&psc=1&spLa=ZW5jcnlwdGVkUXVhbGlmaWVyPUExMVdYSkNMR0FBTEhJJmVuY3J5cHRlZElkPUEwOTY3MzAwM1Q1N0pDN1UzWVdDMSZlbmNyeXB0ZWRBZElkPUEwNTY4ODczMlcwWVhSTjFWNVBFJndpZGdldE5hbWU9c3BfYXRmX25leHQmYWN0aW9uPWNsaWNrUmVkaXJlY3QmZG9Ob3RMb2dDbGljaz10cnVl> (referer: https://www.amazon.com/s?k=python&page=5&qid=1663458276&ref=sr_pg_5)\n",
      "2022-09-18 02:02:49 [scrapy.core.engine] DEBUG: Crawled (200) <GET https://www.amazon.com/Python-SAS-Users-SAS-Oriented-Introduction/dp/1484250001/ref=sr_1_169?keywords=python&qid=1663459301&sr=8-169> (referer: https://www.amazon.com/s?k=python&page=4&qid=1663458276&ref=sr_pg_4)\n",
      "2022-09-18 02:02:49 [scrapy.downloadermiddlewares.redirect] DEBUG: Redirecting (302) to <GET https://www.amazon.com/Hands-Explainable-XAI-Python-trustworthy/dp/1800208138/ref=sr_1_164_sspa?keywords=python&qid=1663459301&sr=8-164-spons&psc=1&spLa=ZW5jcnlwdGVkUXVhbGlmaWVyPUEyMDdaWTBJSjdNUTNLJmVuY3J5cHRlZElkPUEwMDI1NDkxMkdTOFlPWURUTURSSCZlbmNyeXB0ZWRBZElkPUExMDIzMDA2M1Q4UUM3TUpFS0M1VCZ3aWRnZXROYW1lPXNwX210ZiZhY3Rpb249Y2xpY2tSZWRpcmVjdCZkb05vdExvZ0NsaWNrPXRydWU=> from <GET https://www.amazon.com/gp/slredirect/picassoRedirect.html/ref=pa_sp_mtf_aps_sr_pg4_1?ie=UTF8&adId=A10230063T8QC7MJEKC5T&url=%2FHands-Explainable-XAI-Python-trustworthy%2Fdp%2F1800208138%2Fref%3Dsr_1_164_sspa%3Fkeywords%3Dpython%26qid%3D1663459301%26sr%3D8-164-spons%26psc%3D1&qualifier=1663459301&id=4885880324769557&widgetName=sp_mtf>\n",
      "2022-09-18 02:02:49 [scrapy.downloadermiddlewares.redirect] DEBUG: Redirecting (302) to <GET https://www.amazon.com/Hands-Data-Preprocessing-Python-effectively/dp/1801072132/ref=sr_1_163_sspa?keywords=python&qid=1663459301&sr=8-163-spons&psc=1&spLa=ZW5jcnlwdGVkUXVhbGlmaWVyPUEyMDdaWTBJSjdNUTNLJmVuY3J5cHRlZElkPUEwMDI1NDkxMkdTOFlPWURUTURSSCZlbmNyeXB0ZWRBZElkPUEwMzE5MDE0Mlo5U1dXVTI0NjJCTSZ3aWRnZXROYW1lPXNwX210ZiZhY3Rpb249Y2xpY2tSZWRpcmVjdCZkb05vdExvZ0NsaWNrPXRydWU=> from <GET https://www.amazon.com/gp/slredirect/picassoRedirect.html/ref=pa_sp_mtf_aps_sr_pg4_1?ie=UTF8&adId=A03190142Z9SWWU2462BM&url=%2FHands-Data-Preprocessing-Python-effectively%2Fdp%2F1801072132%2Fref%3Dsr_1_163_sspa%3Fkeywords%3Dpython%26qid%3D1663459301%26sr%3D8-163-spons%26psc%3D1&qualifier=1663459301&id=4885880324769557&widgetName=sp_mtf>\n"
     ]
    },
    {
     "name": "stdout",
     "output_type": "stream",
     "text": [
      "254\n",
      "['\\n            \\n              82%\\n            \\n          '] 4.7 out of 5 stars 5.31 x 7.52 x 0.71 inches; 3.2 Ounces\n",
      "255\n",
      "['\\n            \\n              78%\\n            \\n          '] 4.6 out of 5 stars 7.5 x 0.96 x 9.25 inches\n"
     ]
    },
    {
     "name": "stderr",
     "output_type": "stream",
     "text": [
      "2022-09-18 02:02:49 [scrapy.core.engine] DEBUG: Crawled (200) <GET https://www.amazon.com/Clean-Code-Python-maintainable-efficient/dp/1800560214/ref=sr_1_195_sspa?keywords=python&qid=1663459313&sr=8-195-spons&psc=1&spLa=ZW5jcnlwdGVkUXVhbGlmaWVyPUExMVdYSkNMR0FBTEhJJmVuY3J5cHRlZElkPUEwOTY3MzAwM1Q1N0pDN1UzWVdDMSZlbmNyeXB0ZWRBZElkPUEwNjAxNDQwMVBBMlIzNTNCVDZDRCZ3aWRnZXROYW1lPXNwX2F0Zl9uZXh0JmFjdGlvbj1jbGlja1JlZGlyZWN0JmRvTm90TG9nQ2xpY2s9dHJ1ZQ==> (referer: https://www.amazon.com/s?k=python&page=5&qid=1663458276&ref=sr_pg_5)\n",
      "2022-09-18 02:02:49 [scrapy.downloadermiddlewares.redirect] DEBUG: Redirecting (302) to <GET https://www.amazon.com/Python-Manuscripts-Python-Beginners-Guide/dp/1728913489/ref=sr_1_162_sspa?keywords=python&qid=1663459301&sr=8-162-spons&psc=1&spLa=ZW5jcnlwdGVkUXVhbGlmaWVyPUEyMDdaWTBJSjdNUTNLJmVuY3J5cHRlZElkPUEwMDI1NDkxMkdTOFlPWURUTURSSCZlbmNyeXB0ZWRBZElkPUEwNzU5NDc0MzNKTDRXVEdXMzJNQiZ3aWRnZXROYW1lPXNwX210ZiZhY3Rpb249Y2xpY2tSZWRpcmVjdCZkb05vdExvZ0NsaWNrPXRydWU=> from <GET https://www.amazon.com/gp/slredirect/picassoRedirect.html/ref=pa_sp_mtf_aps_sr_pg4_1?ie=UTF8&adId=A075947433JL4WTGW32MB&url=%2FPython-Manuscripts-Python-Beginners-Guide%2Fdp%2F1728913489%2Fref%3Dsr_1_162_sspa%3Fkeywords%3Dpython%26qid%3D1663459301%26sr%3D8-162-spons%26psc%3D1&qualifier=1663459301&id=4885880324769557&widgetName=sp_mtf>\n",
      "2022-09-18 02:02:49 [scrapy.downloadermiddlewares.redirect] DEBUG: Redirecting (302) to <GET https://www.amazon.com/Python-Interview-Questions-interview-challenging/dp/9389898463/ref=sr_1_161_sspa?keywords=python&qid=1663459301&sr=8-161-spons&psc=1&spLa=ZW5jcnlwdGVkUXVhbGlmaWVyPUEyMDdaWTBJSjdNUTNLJmVuY3J5cHRlZElkPUEwMDI1NDkxMkdTOFlPWURUTURSSCZlbmNyeXB0ZWRBZElkPUEwNTQ5ODMxMlo0OTBDNE1OOERHOCZ3aWRnZXROYW1lPXNwX210ZiZhY3Rpb249Y2xpY2tSZWRpcmVjdCZkb05vdExvZ0NsaWNrPXRydWU=> from <GET https://www.amazon.com/gp/slredirect/picassoRedirect.html/ref=pa_sp_mtf_aps_sr_pg4_1?ie=UTF8&adId=A05498312Z490C4MN8DG8&url=%2FPython-Interview-Questions-interview-challenging%2Fdp%2F9389898463%2Fref%3Dsr_1_161_sspa%3Fkeywords%3Dpython%26qid%3D1663459301%26sr%3D8-161-spons%26psc%3D1&qualifier=1663459301&id=4885880324769557&widgetName=sp_mtf>\n"
     ]
    },
    {
     "name": "stdout",
     "output_type": "stream",
     "text": [
      "256\n",
      "['\\n            \\n              60%\\n            \\n          '] 4.4 out of 5 stars 7.5 x 0.79 x 9.25 inches\n",
      "257\n",
      "['\\n            \\n              68%\\n            \\n          '] 4.4 out of 5 stars 7.01 x 1.02 x 10 inches\n",
      "258\n",
      "['\\n            \\n              78%\\n            \\n          '] 4.6 out of 5 stars 7.5 x 0.96 x 9.25 inches\n"
     ]
    },
    {
     "name": "stderr",
     "output_type": "stream",
     "text": [
      "2022-09-18 02:02:50 [scrapy.core.engine] DEBUG: Crawled (200) <GET https://www.amazon.com/Python-Cheat-Sheet-Syntaxes-Reference/dp/B09V111KJM/ref=sr_1_166?keywords=python&qid=1663459301&sr=8-166> (referer: https://www.amazon.com/s?k=python&page=4&qid=1663458276&ref=sr_pg_4)\n",
      "2022-09-18 02:02:50 [scrapy.core.engine] DEBUG: Crawled (200) <GET https://www.amazon.com/Tweens-Teens-Computational-Algorithmic-Thinking/dp/B09TMYQB25/ref=sr_1_194_sspa?keywords=python&qid=1663459313&sr=8-194-spons&psc=1&spLa=ZW5jcnlwdGVkUXVhbGlmaWVyPUExMVdYSkNMR0FBTEhJJmVuY3J5cHRlZElkPUEwOTY3MzAwM1Q1N0pDN1UzWVdDMSZlbmNyeXB0ZWRBZElkPUEwMDgxMDI2MkVFNkMwNVExQ1ZLSCZ3aWRnZXROYW1lPXNwX2F0Zl9uZXh0JmFjdGlvbj1jbGlja1JlZGlyZWN0JmRvTm90TG9nQ2xpY2s9dHJ1ZQ==> (referer: https://www.amazon.com/s?k=python&page=5&qid=1663458276&ref=sr_pg_5)\n",
      "2022-09-18 02:02:50 [scrapy.core.engine] DEBUG: Crawled (200) <GET https://www.amazon.com/Learn-Code-Python-3-Online-Course/dp/B0B6NDDSQM/ref=sr_1_159?keywords=python&qid=1663459301&sr=8-159> (referer: https://www.amazon.com/s?k=python&page=4&qid=1663458276&ref=sr_pg_4)\n"
     ]
    },
    {
     "name": "stdout",
     "output_type": "stream",
     "text": [
      "259\n",
      "['\\n            \\n              100%\\n            \\n          '] 5.0 out of 5 stars 7.44 x 0.38 x 9.69 inches\n",
      "260\n",
      "['\\n            \\n              49%\\n            \\n          '] 4.1 out of 5 stars 8.5 x 0.86 x 11 inches\n",
      "261\n",
      "[] 5.0 out of 5 stars None\n"
     ]
    },
    {
     "name": "stderr",
     "output_type": "stream",
     "text": [
      "2022-09-18 02:02:51 [scrapy.core.engine] DEBUG: Crawled (200) <GET https://www.amazon.com/Fundamentals-Python-Structures-MindTap-Course/dp/0357122755/ref=sr_1_165?keywords=python&qid=1663459301&sr=8-165> (referer: https://www.amazon.com/s?k=python&page=4&qid=1663458276&ref=sr_pg_4)\n",
      "2022-09-18 02:02:52 [scrapy.core.engine] DEBUG: Crawled (200) <GET https://www.amazon.com/Microsoft-Power-Cookbook-expertise-hands/dp/1801813043/ref=sr_1_193_sspa?keywords=python&qid=1663459313&sr=8-193-spons&psc=1&spLa=ZW5jcnlwdGVkUXVhbGlmaWVyPUExMVdYSkNMR0FBTEhJJmVuY3J5cHRlZElkPUEwOTY3MzAwM1Q1N0pDN1UzWVdDMSZlbmNyeXB0ZWRBZElkPUEwNjE2ODEyMUhKVEJROENaMEExTiZ3aWRnZXROYW1lPXNwX2F0Zl9uZXh0JmFjdGlvbj1jbGlja1JlZGlyZWN0JmRvTm90TG9nQ2xpY2s9dHJ1ZQ==> (referer: https://www.amazon.com/s?k=python&page=5&qid=1663458276&ref=sr_pg_5)\n"
     ]
    },
    {
     "name": "stdout",
     "output_type": "stream",
     "text": [
      "262\n",
      "['\\n            \\n              56%\\n            \\n          '] 4.2 out of 5 stars 7.5 x 0.75 x 9 inches\n"
     ]
    },
    {
     "name": "stderr",
     "output_type": "stream",
     "text": [
      "2022-09-18 02:02:52 [scrapy.core.engine] DEBUG: Crawled (200) <GET https://www.amazon.com/Algorithms-Adventurous-Bradford-Tuckfield/dp/1718500688/ref=sr_1_160?keywords=python&qid=1663459301&sr=8-160> (referer: https://www.amazon.com/s?k=python&page=4&qid=1663458276&ref=sr_pg_4)\n"
     ]
    },
    {
     "name": "stdout",
     "output_type": "stream",
     "text": [
      "263\n",
      "['\\n            \\n              77%\\n            \\n          '] 4.7 out of 5 stars 7.5 x 1.48 x 9.25 inches\n",
      "264\n",
      "['\\n            \\n              69%\\n            \\n          '] 4.5 out of 5 stars 7 x 0.63 x 9.25 inches\n"
     ]
    },
    {
     "name": "stderr",
     "output_type": "stream",
     "text": [
      "2022-09-18 02:02:52 [scrapy.core.engine] DEBUG: Crawled (200) <GET https://www.amazon.com/Murachs-Python-Analysis-Scott-McCoy/dp/1943872767/ref=sr_1_155?keywords=python&qid=1663459301&sr=8-155> (referer: https://www.amazon.com/s?k=python&page=4&qid=1663458276&ref=sr_pg_4)\n",
      "2022-09-18 02:02:53 [scrapy.core.engine] DEBUG: Crawled (200) <GET https://www.amazon.com/Program-Solving-Problems-Daniel-Zingaro/dp/1718501323/ref=sr_1_156?keywords=python&qid=1663459301&sr=8-156> (referer: https://www.amazon.com/s?k=python&page=4&qid=1663458276&ref=sr_pg_4)\n"
     ]
    },
    {
     "name": "stdout",
     "output_type": "stream",
     "text": [
      "265\n",
      "['\\n            \\n              69%\\n            \\n          '] 4.6 out of 5 stars 7.75 x 1.5 x 9.75 inches\n"
     ]
    },
    {
     "name": "stderr",
     "output_type": "stream",
     "text": [
      "2022-09-18 02:02:53 [scrapy.core.engine] DEBUG: Crawled (200) <GET https://www.amazon.com/Hands-Data-Preprocessing-Python-effectively/dp/1801072132/ref=sr_1_163_sspa?keywords=python&qid=1663459301&sr=8-163-spons&psc=1&spLa=ZW5jcnlwdGVkUXVhbGlmaWVyPUEyMDdaWTBJSjdNUTNLJmVuY3J5cHRlZElkPUEwMDI1NDkxMkdTOFlPWURUTURSSCZlbmNyeXB0ZWRBZElkPUEwMzE5MDE0Mlo5U1dXVTI0NjJCTSZ3aWRnZXROYW1lPXNwX210ZiZhY3Rpb249Y2xpY2tSZWRpcmVjdCZkb05vdExvZ0NsaWNrPXRydWU=> (referer: https://www.amazon.com/s?k=python&page=4&qid=1663458276&ref=sr_pg_4)\n"
     ]
    },
    {
     "name": "stdout",
     "output_type": "stream",
     "text": [
      "266\n",
      "['\\n            \\n              78%\\n            \\n          '] 4.7 out of 5 stars 7 x 0.78 x 9.05 inches\n"
     ]
    },
    {
     "name": "stderr",
     "output_type": "stream",
     "text": [
      "2022-09-18 02:02:53 [scrapy.core.engine] DEBUG: Crawled (200) <GET https://www.amazon.com/Practical-Python-Programming-IoT-WebSockets/dp/1838982469/ref=sr_1_158?keywords=python&qid=1663459301&sr=8-158> (referer: https://www.amazon.com/s?k=python&page=4&qid=1663458276&ref=sr_pg_4)\n"
     ]
    },
    {
     "name": "stdout",
     "output_type": "stream",
     "text": [
      "267\n",
      "['\\n            \\n              100%\\n            \\n          '] 5.0 out of 5 stars 7.5 x 1.36 x 9.25 inches\n"
     ]
    },
    {
     "name": "stderr",
     "output_type": "stream",
     "text": [
      "2022-09-18 02:02:54 [scrapy.core.engine] DEBUG: Crawled (200) <GET https://www.amazon.com/Python-para-Principiantes-Programaci%C3%B3n-principiantes/dp/B087SG2H2X/ref=sr_1_157?keywords=python&qid=1663459301&sr=8-157> (referer: https://www.amazon.com/s?k=python&page=4&qid=1663458276&ref=sr_pg_4)\n"
     ]
    },
    {
     "name": "stdout",
     "output_type": "stream",
     "text": [
      "268\n",
      "['\\n            \\n              60%\\n            \\n          '] 4.4 out of 5 stars 7.5 x 1.17 x 9.25 inches\n",
      "269\n",
      "['\\n            \\n              70%\\n            \\n          '] 4.3 out of 5 stars 6 x 0.53 x 9 inches\n"
     ]
    },
    {
     "name": "stderr",
     "output_type": "stream",
     "text": [
      "2022-09-18 02:02:54 [scrapy.core.engine] DEBUG: Crawled (200) <GET https://www.amazon.com/Hands-Explainable-XAI-Python-trustworthy/dp/1800208138/ref=sr_1_164_sspa?keywords=python&qid=1663459301&sr=8-164-spons&psc=1&spLa=ZW5jcnlwdGVkUXVhbGlmaWVyPUEyMDdaWTBJSjdNUTNLJmVuY3J5cHRlZElkPUEwMDI1NDkxMkdTOFlPWURUTURSSCZlbmNyeXB0ZWRBZElkPUExMDIzMDA2M1Q4UUM3TUpFS0M1VCZ3aWRnZXROYW1lPXNwX210ZiZhY3Rpb249Y2xpY2tSZWRpcmVjdCZkb05vdExvZ0NsaWNrPXRydWU=> (referer: https://www.amazon.com/s?k=python&page=4&qid=1663458276&ref=sr_pg_4)\n"
     ]
    },
    {
     "name": "stdout",
     "output_type": "stream",
     "text": [
      "270\n",
      "['\\n            \\n              38%\\n            \\n          '] 3.8 out of 5 stars 7.5 x 1.03 x 9.25 inches\n"
     ]
    },
    {
     "name": "stderr",
     "output_type": "stream",
     "text": [
      "2022-09-18 02:02:55 [scrapy.core.engine] DEBUG: Crawled (200) <GET https://www.amazon.com/Python-Data-Analysis-Beginners-Fundamentals/dp/B09DMP86NY/ref=sr_1_154?keywords=python&qid=1663459301&sr=8-154> (referer: https://www.amazon.com/s?k=python&page=4&qid=1663458276&ref=sr_pg_4)\n",
      "2022-09-18 02:02:55 [scrapy.core.engine] DEBUG: Crawled (200) <GET https://www.amazon.com/Python-Coding-and-Programming-audiobook/dp/B081DVZRR2/ref=sr_1_153?keywords=python&qid=1663459301&sr=8-153> (referer: https://www.amazon.com/s?k=python&page=4&qid=1663458276&ref=sr_pg_4)\n"
     ]
    },
    {
     "name": "stdout",
     "output_type": "stream",
     "text": [
      "271\n",
      "['\\n            \\n              61%\\n            \\n          '] 4.3 out of 5 stars 6 x 0.39 x 9 inches\n"
     ]
    },
    {
     "name": "stderr",
     "output_type": "stream",
     "text": [
      "2022-09-18 02:02:55 [scrapy.core.engine] DEBUG: Crawled (200) <GET https://www.amazon.com/Python-Interview-Questions-interview-challenging/dp/9389898463/ref=sr_1_161_sspa?keywords=python&qid=1663459301&sr=8-161-spons&psc=1&spLa=ZW5jcnlwdGVkUXVhbGlmaWVyPUEyMDdaWTBJSjdNUTNLJmVuY3J5cHRlZElkPUEwMDI1NDkxMkdTOFlPWURUTURSSCZlbmNyeXB0ZWRBZElkPUEwNTQ5ODMxMlo0OTBDNE1OOERHOCZ3aWRnZXROYW1lPXNwX210ZiZhY3Rpb249Y2xpY2tSZWRpcmVjdCZkb05vdExvZ0NsaWNrPXRydWU=> (referer: https://www.amazon.com/s?k=python&page=4&qid=1663458276&ref=sr_pg_4)\n",
      "2022-09-18 02:02:56 [scrapy.downloadermiddlewares.redirect] DEBUG: Redirecting (302) to <GET https://www.amazon.com/Build-Your-Own-Programming-Language/dp/1800204809/ref=sr_1_147_sspa?keywords=python&qid=1663459301&sr=8-147-spons&psc=1&spLa=ZW5jcnlwdGVkUXVhbGlmaWVyPUEyMDdaWTBJSjdNUTNLJmVuY3J5cHRlZElkPUEwMDI1NDkxMkdTOFlPWURUTURSSCZlbmNyeXB0ZWRBZElkPUEwNTk0ODczMVEwNVo0NlVQSUYwTiZ3aWRnZXROYW1lPXNwX2F0Zl9uZXh0JmFjdGlvbj1jbGlja1JlZGlyZWN0JmRvTm90TG9nQ2xpY2s9dHJ1ZQ==> from <GET https://www.amazon.com/gp/slredirect/picassoRedirect.html/ref=pa_sp_atf_next_aps_sr_pg4_1?ie=UTF8&adId=A05948731Q05Z46UPIF0N&url=%2FBuild-Your-Own-Programming-Language%2Fdp%2F1800204809%2Fref%3Dsr_1_147_sspa%3Fkeywords%3Dpython%26qid%3D1663459301%26sr%3D8-147-spons%26psc%3D1&qualifier=1663459301&id=4885880324769557&widgetName=sp_atf_next>\n",
      "2022-09-18 02:02:56 [scrapy.core.engine] DEBUG: Crawled (200) <GET https://www.amazon.com/Python-Manuscripts-Python-Beginners-Guide/dp/1728913489/ref=sr_1_162_sspa?keywords=python&qid=1663459301&sr=8-162-spons&psc=1&spLa=ZW5jcnlwdGVkUXVhbGlmaWVyPUEyMDdaWTBJSjdNUTNLJmVuY3J5cHRlZElkPUEwMDI1NDkxMkdTOFlPWURUTURSSCZlbmNyeXB0ZWRBZElkPUEwNzU5NDc0MzNKTDRXVEdXMzJNQiZ3aWRnZXROYW1lPXNwX210ZiZhY3Rpb249Y2xpY2tSZWRpcmVjdCZkb05vdExvZ0NsaWNrPXRydWU=> (referer: https://www.amazon.com/s?k=python&page=4&qid=1663458276&ref=sr_pg_4)\n",
      "2022-09-18 02:02:56 [scrapy.downloadermiddlewares.redirect] DEBUG: Redirecting (302) to <GET https://www.amazon.com/Algorithms-Data-Structures-Massive-Datasets/dp/1617298034/ref=sr_1_148_sspa?keywords=python&qid=1663459301&sr=8-148-spons&psc=1&spLa=ZW5jcnlwdGVkUXVhbGlmaWVyPUEyMDdaWTBJSjdNUTNLJmVuY3J5cHRlZElkPUEwMDI1NDkxMkdTOFlPWURUTURSSCZlbmNyeXB0ZWRBZElkPUEwMjQ3Nzg2MzY1SVc4MzlYTkg2SiZ3aWRnZXROYW1lPXNwX2F0Zl9uZXh0JmFjdGlvbj1jbGlja1JlZGlyZWN0JmRvTm90TG9nQ2xpY2s9dHJ1ZQ==> from <GET https://www.amazon.com/gp/slredirect/picassoRedirect.html/ref=pa_sp_atf_next_aps_sr_pg4_1?ie=UTF8&adId=A0247786365IW839XNH6J&url=%2FAlgorithms-Data-Structures-Massive-Datasets%2Fdp%2F1617298034%2Fref%3Dsr_1_148_sspa%3Fkeywords%3Dpython%26qid%3D1663459301%26sr%3D8-148-spons%26psc%3D1&qualifier=1663459301&id=4885880324769557&widgetName=sp_atf_next>\n"
     ]
    },
    {
     "name": "stdout",
     "output_type": "stream",
     "text": [
      "272\n",
      "['\\n            \\n              47%\\n            \\n          '] 3.9 out of 5 stars None\n"
     ]
    },
    {
     "name": "stderr",
     "output_type": "stream",
     "text": [
      "2022-09-18 02:02:56 [scrapy.core.engine] DEBUG: Crawled (200) <GET https://www.amazon.com/Mastering-Python-powerful-efficient-capabilities/dp/1800207727/ref=sr_1_151?keywords=python&qid=1663459301&sr=8-151> (referer: https://www.amazon.com/s?k=python&page=4&qid=1663458276&ref=sr_pg_4)\n",
      "2022-09-18 02:02:56 [scrapy.downloadermiddlewares.redirect] DEBUG: Redirecting (302) to <GET https://www.amazon.com/PYTHON-CRASH-COURSE-INTELLIGENCE-HANDS/dp/B08JDTNQGD/ref=sr_1_146_sspa?keywords=python&qid=1663459301&sr=8-146-spons&psc=1&spLa=ZW5jcnlwdGVkUXVhbGlmaWVyPUEyMDdaWTBJSjdNUTNLJmVuY3J5cHRlZElkPUEwMDI1NDkxMkdTOFlPWURUTURSSCZlbmNyeXB0ZWRBZElkPUEwOTgyMjI3Mk1EOEk5SE5DMkxGUSZ3aWRnZXROYW1lPXNwX2F0Zl9uZXh0JmFjdGlvbj1jbGlja1JlZGlyZWN0JmRvTm90TG9nQ2xpY2s9dHJ1ZQ==> from <GET https://www.amazon.com/gp/slredirect/picassoRedirect.html/ref=pa_sp_atf_next_aps_sr_pg4_1?ie=UTF8&adId=A09822272MD8I9HNC2LFQ&url=%2FPYTHON-CRASH-COURSE-INTELLIGENCE-HANDS%2Fdp%2FB08JDTNQGD%2Fref%3Dsr_1_146_sspa%3Fkeywords%3Dpython%26qid%3D1663459301%26sr%3D8-146-spons%26psc%3D1&qualifier=1663459301&id=4885880324769557&widgetName=sp_atf_next>\n",
      "2022-09-18 02:02:56 [scrapy.downloadermiddlewares.redirect] DEBUG: Redirecting (302) to <GET https://www.amazon.com/Easy-Learning-Design-Patterns-Python/dp/B086PLBYSZ/ref=sr_1_129_sspa?keywords=python&qid=1663459285&sr=8-129-spons&psc=1&spLa=ZW5jcnlwdGVkUXVhbGlmaWVyPUEyTzhBRFBIQVg0RUJSJmVuY3J5cHRlZElkPUEwMzY4ODMzMU9HMDZPRkgyUldEQiZlbmNyeXB0ZWRBZElkPUEwMTk1MDM5TThGSjQzSTZUTzhKJndpZGdldE5hbWU9c3BfbXRmJmFjdGlvbj1jbGlja1JlZGlyZWN0JmRvTm90TG9nQ2xpY2s9dHJ1ZQ==> from <GET https://www.amazon.com/gp/slredirect/picassoRedirect.html/ref=pa_sp_mtf_aps_sr_pg3_1?ie=UTF8&adId=A0195039M8FJ43I6TO8J&url=%2FEasy-Learning-Design-Patterns-Python%2Fdp%2FB086PLBYSZ%2Fref%3Dsr_1_129_sspa%3Fkeywords%3Dpython%26qid%3D1663459285%26sr%3D8-129-spons%26psc%3D1&qualifier=1663459285&id=824607835465787&widgetName=sp_mtf>\n",
      "2022-09-18 02:02:56 [scrapy.downloadermiddlewares.redirect] DEBUG: Redirecting (302) to <GET https://www.amazon.com/Python-machine-learning-beginners-Scikit-learn/dp/B08KGZZQT3/ref=sr_1_145_sspa?keywords=python&qid=1663459301&sr=8-145-spons&psc=1&spLa=ZW5jcnlwdGVkUXVhbGlmaWVyPUEyMDdaWTBJSjdNUTNLJmVuY3J5cHRlZElkPUEwMDI1NDkxMkdTOFlPWURUTURSSCZlbmNyeXB0ZWRBZElkPUEwMjY5MDQ2M1VKV0I0VFk5MkNCSCZ3aWRnZXROYW1lPXNwX2F0Zl9uZXh0JmFjdGlvbj1jbGlja1JlZGlyZWN0JmRvTm90TG9nQ2xpY2s9dHJ1ZQ==> from <GET https://www.amazon.com/gp/slredirect/picassoRedirect.html/ref=pa_sp_atf_next_aps_sr_pg4_1?ie=UTF8&adId=A02690463UJWB4TY92CBH&url=%2FPython-machine-learning-beginners-Scikit-learn%2Fdp%2FB08KGZZQT3%2Fref%3Dsr_1_145_sspa%3Fkeywords%3Dpython%26qid%3D1663459301%26sr%3D8-145-spons%26psc%3D1&qualifier=1663459301&id=4885880324769557&widgetName=sp_atf_next>\n"
     ]
    },
    {
     "name": "stdout",
     "output_type": "stream",
     "text": [
      "273\n",
      "['\\n            \\n              21%\\n            \\n          '] 3.1 out of 5 stars 6 x 0.33 x 9 inches\n",
      "274\n",
      "['\\n            \\n              56%\\n            \\n          '] 4.1 out of 5 stars 6 x 0.58 x 9 inches\n",
      "275\n",
      "['\\n            \\n              71%\\n            \\n          '] 4.7 out of 5 stars 7.5 x 1.6 x 9.25 inches\n"
     ]
    },
    {
     "name": "stderr",
     "output_type": "stream",
     "text": [
      "2022-09-18 02:02:57 [scrapy.core.engine] DEBUG: Crawled (200) <GET https://www.amazon.com/Murachs-Python-Programming-Michael-Urban/dp/1890774979/ref=sr_1_150?keywords=python&qid=1663459301&sr=8-150> (referer: https://www.amazon.com/s?k=python&page=4&qid=1663458276&ref=sr_pg_4)\n",
      "2022-09-18 02:02:57 [scrapy.core.engine] DEBUG: Crawled (200) <GET https://www.amazon.com/Python-Programmers-Artificial-Intelligence-Studies/dp/0135224330/ref=sr_1_152?keywords=python&qid=1663459301&sr=8-152> (referer: https://www.amazon.com/s?k=python&page=4&qid=1663458276&ref=sr_pg_4)\n"
     ]
    },
    {
     "name": "stdout",
     "output_type": "stream",
     "text": [
      "276\n",
      "['\\n            \\n              72%\\n            \\n          '] 4.5 out of 5 stars 8 x 1.5 x 9.9 inches\n"
     ]
    },
    {
     "name": "stderr",
     "output_type": "stream",
     "text": [
      "2022-09-18 02:02:57 [scrapy.core.engine] DEBUG: Crawled (200) <GET https://www.amazon.com/Math-Adventures-Python-Illustrated-Exploring/dp/1593278675/ref=sr_1_149?keywords=python&qid=1663459301&sr=8-149> (referer: https://www.amazon.com/s?k=python&page=4&qid=1663458276&ref=sr_pg_4)\n"
     ]
    },
    {
     "name": "stdout",
     "output_type": "stream",
     "text": [
      "277\n",
      "['\\n            \\n              70%\\n            \\n          '] 4.4 out of 5 stars 7.1 x 1.2 x 9.1 inches\n",
      "278\n",
      "['\\n            \\n              66%\\n            \\n          '] 4.4 out of 5 stars 7.06 x 0.8 x 9.31 inches\n"
     ]
    },
    {
     "name": "stderr",
     "output_type": "stream",
     "text": [
      "2022-09-18 02:02:58 [scrapy.core.engine] DEBUG: Crawled (200) <GET https://www.amazon.com/Practical-Discrete-Mathematics-principles-algorithms/dp/1838983147/ref=sr_1_126?keywords=python&qid=1663459285&sr=8-126> (referer: https://www.amazon.com/s?k=python&page=3&qid=1663458276&ref=sr_pg_3)\n",
      "2022-09-18 02:02:58 [scrapy.core.engine] DEBUG: Crawled (200) <GET https://www.amazon.com/Python-Passions-Ball-Encyclopedia/dp/1508708797/ref=sr_1_127?keywords=python&qid=1663459285&sr=8-127> (referer: https://www.amazon.com/s?k=python&page=3&qid=1663458276&ref=sr_pg_3)\n",
      "2022-09-18 02:02:58 [scrapy.core.engine] DEBUG: Crawled (200) <GET https://www.amazon.com/Building-Python-Microservices-FastAPI-infrastructure-ebook/dp/B0B18C8F6N/ref=sr_1_125?keywords=python&qid=1663459285&sr=8-125> (referer: https://www.amazon.com/s?k=python&page=3&qid=1663458276&ref=sr_pg_3)\n"
     ]
    },
    {
     "name": "stdout",
     "output_type": "stream",
     "text": [
      "279\n",
      "['\\n            \\n              65%\\n            \\n          '] 4.3 out of 5 stars 7.5 x 0.75 x 9.25 inches\n",
      "280\n",
      "['\\n            \\n              64%\\n            \\n          '] 4.4 out of 5 stars 5.98 x 0.18 x 9.02 inches\n"
     ]
    },
    {
     "name": "stderr",
     "output_type": "stream",
     "text": [
      "2022-09-18 02:02:59 [scrapy.core.engine] DEBUG: Crawled (200) <GET https://www.amazon.com/Python-Automation-Cookbook-automation-processing/dp/1800207085/ref=sr_1_128?keywords=python&qid=1663459285&sr=8-128> (referer: https://www.amazon.com/s?k=python&page=3&qid=1663458276&ref=sr_pg_3)\n"
     ]
    },
    {
     "name": "stdout",
     "output_type": "stream",
     "text": [
      "281\n",
      "['\\n            \\n              100%\\n            \\n          '] 5.0 out of 5 stars None\n"
     ]
    },
    {
     "name": "stderr",
     "output_type": "stream",
     "text": [
      "2022-09-18 02:02:59 [scrapy.core.engine] DEBUG: Crawled (200) <GET https://www.amazon.com/Build-Your-Own-Programming-Language/dp/1800204809/ref=sr_1_147_sspa?keywords=python&qid=1663459301&sr=8-147-spons&psc=1&spLa=ZW5jcnlwdGVkUXVhbGlmaWVyPUEyMDdaWTBJSjdNUTNLJmVuY3J5cHRlZElkPUEwMDI1NDkxMkdTOFlPWURUTURSSCZlbmNyeXB0ZWRBZElkPUEwNTk0ODczMVEwNVo0NlVQSUYwTiZ3aWRnZXROYW1lPXNwX2F0Zl9uZXh0JmFjdGlvbj1jbGlja1JlZGlyZWN0JmRvTm90TG9nQ2xpY2s9dHJ1ZQ==> (referer: https://www.amazon.com/s?k=python&page=4&qid=1663458276&ref=sr_pg_4)\n"
     ]
    },
    {
     "name": "stdout",
     "output_type": "stream",
     "text": [
      "282\n",
      "['\\n            \\n              71%\\n            \\n          '] 4.4 out of 5 stars 7.5 x 1.19 x 9.25 inches\n",
      "283\n",
      "['\\n            \\n              57%\\n            \\n          '] 4.3 out of 5 stars 7.5 x 1.12 x 9.25 inches\n"
     ]
    },
    {
     "name": "stderr",
     "output_type": "stream",
     "text": [
      "2022-09-18 02:03:01 [scrapy.core.engine] DEBUG: Crawled (200) <GET https://www.amazon.com/DATA-STRUCTURE-ALGORITHMS-BUILD-PYTHON/dp/B0B1J7H6QL/ref=sr_1_123?keywords=python&qid=1663459285&sr=8-123> (referer: https://www.amazon.com/s?k=python&page=3&qid=1663458276&ref=sr_pg_3)\n",
      "2022-09-18 02:03:01 [scrapy.core.engine] DEBUG: Crawled (200) <GET https://www.amazon.com/Algorithms-Data-Structures-Massive-Datasets/dp/1617298034/ref=sr_1_148_sspa?keywords=python&qid=1663459301&sr=8-148-spons&psc=1&spLa=ZW5jcnlwdGVkUXVhbGlmaWVyPUEyMDdaWTBJSjdNUTNLJmVuY3J5cHRlZElkPUEwMDI1NDkxMkdTOFlPWURUTURSSCZlbmNyeXB0ZWRBZElkPUEwMjQ3Nzg2MzY1SVc4MzlYTkg2SiZ3aWRnZXROYW1lPXNwX2F0Zl9uZXh0JmFjdGlvbj1jbGlja1JlZGlyZWN0JmRvTm90TG9nQ2xpY2s9dHJ1ZQ==> (referer: https://www.amazon.com/s?k=python&page=4&qid=1663458276&ref=sr_pg_4)\n",
      "2022-09-18 02:03:01 [scrapy.core.engine] DEBUG: Crawled (200) <GET https://www.amazon.com/Monty-Pythons-Meaning-Life-Blu-ray/dp/B07G24KRCL/ref=sr_1_124?keywords=python&qid=1663459285&sr=8-124> (referer: https://www.amazon.com/s?k=python&page=3&qid=1663458276&ref=sr_pg_3)\n",
      "2022-09-18 02:03:01 [scrapy.core.engine] DEBUG: Crawled (200) <GET https://www.amazon.com/Social-Science-Data-Collection-Analysis-ebook/dp/B0B5HCJTR5/ref=sr_1_121?keywords=python&qid=1663459285&sr=8-121> (referer: https://www.amazon.com/s?k=python&page=3&qid=1663458276&ref=sr_pg_3)\n",
      "2022-09-18 02:03:01 [scrapy.core.engine] DEBUG: Crawled (200) <GET https://www.amazon.com/Introduction-Machine-Learning-Python-Scientists/dp/1449369413/ref=sr_1_122?keywords=python&qid=1663459285&sr=8-122> (referer: https://www.amazon.com/s?k=python&page=3&qid=1663458276&ref=sr_pg_3)\n",
      "2022-09-18 02:03:01 [scrapy.extensions.logstats] INFO: Crawled 294 pages (at 156 pages/min), scraped 0 items (at 0 items/min)\n"
     ]
    },
    {
     "name": "stdout",
     "output_type": "stream",
     "text": [
      "284\n",
      "[] None 6 x 0.82 x 9 inches\n"
     ]
    },
    {
     "name": "stderr",
     "output_type": "stream",
     "text": [
      "2022-09-18 02:03:01 [scrapy.core.engine] DEBUG: Crawled (200) <GET https://www.amazon.com/Easy-Learning-Design-Patterns-Python/dp/B086PLBYSZ/ref=sr_1_129_sspa?keywords=python&qid=1663459285&sr=8-129-spons&psc=1&spLa=ZW5jcnlwdGVkUXVhbGlmaWVyPUEyTzhBRFBIQVg0RUJSJmVuY3J5cHRlZElkPUEwMzY4ODMzMU9HMDZPRkgyUldEQiZlbmNyeXB0ZWRBZElkPUEwMTk1MDM5TThGSjQzSTZUTzhKJndpZGdldE5hbWU9c3BfbXRmJmFjdGlvbj1jbGlja1JlZGlyZWN0JmRvTm90TG9nQ2xpY2s9dHJ1ZQ==> (referer: https://www.amazon.com/s?k=python&page=3&qid=1663458276&ref=sr_pg_3)\n",
      "2022-09-18 02:03:01 [scrapy.core.engine] DEBUG: Crawled (200) <GET https://www.amazon.com/PYTHON-CRASH-COURSE-INTELLIGENCE-HANDS/dp/B08JDTNQGD/ref=sr_1_146_sspa?keywords=python&qid=1663459301&sr=8-146-spons&psc=1&spLa=ZW5jcnlwdGVkUXVhbGlmaWVyPUEyMDdaWTBJSjdNUTNLJmVuY3J5cHRlZElkPUEwMDI1NDkxMkdTOFlPWURUTURSSCZlbmNyeXB0ZWRBZElkPUEwOTgyMjI3Mk1EOEk5SE5DMkxGUSZ3aWRnZXROYW1lPXNwX2F0Zl9uZXh0JmFjdGlvbj1jbGlja1JlZGlyZWN0JmRvTm90TG9nQ2xpY2s9dHJ1ZQ==> (referer: https://www.amazon.com/s?k=python&page=4&qid=1663458276&ref=sr_pg_4)\n"
     ]
    },
    {
     "name": "stdout",
     "output_type": "stream",
     "text": [
      "285\n",
      "['\\n            \\n              38%\\n            \\n          '] 3.8 out of 5 stars 7.38 x 0.8 x 9.25 inches\n",
      "286\n",
      "['\\n            \\n              82%\\n            \\n          '] 4.7 out of 5 stars 6.75 x 5.3 x 0.35 inches; 2.4 Ounces\n"
     ]
    },
    {
     "name": "stderr",
     "output_type": "stream",
     "text": [
      "2022-09-18 02:03:01 [scrapy.downloadermiddlewares.redirect] DEBUG: Redirecting (302) to <GET https://www.amazon.com/Learn-Python-Programming-depth-introduction/dp/1801815097/ref=sr_1_116_sspa?keywords=python&qid=1663459285&sr=8-116-spons&psc=1&spLa=ZW5jcnlwdGVkUXVhbGlmaWVyPUEyTzhBRFBIQVg0RUJSJmVuY3J5cHRlZElkPUEwMzY4ODMzMU9HMDZPRkgyUldEQiZlbmNyeXB0ZWRBZElkPUEwNDcyNzE2Mlo3QjkwRUcxWVBDWSZ3aWRnZXROYW1lPXNwX210ZiZhY3Rpb249Y2xpY2tSZWRpcmVjdCZkb05vdExvZ0NsaWNrPXRydWU=> from <GET https://www.amazon.com/gp/slredirect/picassoRedirect.html/ref=pa_sp_mtf_aps_sr_pg3_1?ie=UTF8&adId=A04727162Z7B90EG1YPCY&url=%2FLearn-Python-Programming-depth-introduction%2Fdp%2F1801815097%2Fref%3Dsr_1_116_sspa%3Fkeywords%3Dpython%26qid%3D1663459285%26sr%3D8-116-spons%26psc%3D1&qualifier=1663459285&id=824607835465787&widgetName=sp_mtf>\n"
     ]
    },
    {
     "name": "stdout",
     "output_type": "stream",
     "text": [
      "287\n",
      "[] None None\n",
      "288\n",
      "['\\n            \\n              76%\\n            \\n          '] 4.5 out of 5 stars 7 x 0.82 x 9.19 inches\n"
     ]
    },
    {
     "name": "stderr",
     "output_type": "stream",
     "text": [
      "2022-09-18 02:03:02 [scrapy.core.engine] DEBUG: Crawled (200) <GET https://www.amazon.com/Python-machine-learning-beginners-Scikit-learn/dp/B08KGZZQT3/ref=sr_1_145_sspa?keywords=python&qid=1663459301&sr=8-145-spons&psc=1&spLa=ZW5jcnlwdGVkUXVhbGlmaWVyPUEyMDdaWTBJSjdNUTNLJmVuY3J5cHRlZElkPUEwMDI1NDkxMkdTOFlPWURUTURSSCZlbmNyeXB0ZWRBZElkPUEwMjY5MDQ2M1VKV0I0VFk5MkNCSCZ3aWRnZXROYW1lPXNwX2F0Zl9uZXh0JmFjdGlvbj1jbGlja1JlZGlyZWN0JmRvTm90TG9nQ2xpY2s9dHJ1ZQ==> (referer: https://www.amazon.com/s?k=python&page=4&qid=1663458276&ref=sr_pg_4)\n"
     ]
    },
    {
     "name": "stdout",
     "output_type": "stream",
     "text": [
      "289\n",
      "['\\n            \\n              70%\\n            \\n          '] 4.7 out of 5 stars 8 x 0.24 x 10 inches\n",
      "290\n",
      "['\\n            \\n              60%\\n            \\n          '] 3.8 out of 5 stars 6 x 0.33 x 9 inches\n"
     ]
    },
    {
     "name": "stderr",
     "output_type": "stream",
     "text": [
      "2022-09-18 02:03:02 [scrapy.downloadermiddlewares.redirect] DEBUG: Redirecting (302) to <GET https://www.amazon.com/Python-Natural-Language-Processing-Cookbook/dp/1838987312/ref=sr_1_115_sspa?keywords=python&qid=1663459285&sr=8-115-spons&psc=1&spLa=ZW5jcnlwdGVkUXVhbGlmaWVyPUEyTzhBRFBIQVg0RUJSJmVuY3J5cHRlZElkPUEwMzY4ODMzMU9HMDZPRkgyUldEQiZlbmNyeXB0ZWRBZElkPUEwMzQyODY1MkoyRzFBNzBaM0syMSZ3aWRnZXROYW1lPXNwX210ZiZhY3Rpb249Y2xpY2tSZWRpcmVjdCZkb05vdExvZ0NsaWNrPXRydWU=> from <GET https://www.amazon.com/gp/slredirect/picassoRedirect.html/ref=pa_sp_mtf_aps_sr_pg3_1?ie=UTF8&adId=A03428652J2G1A70Z3K21&url=%2FPython-Natural-Language-Processing-Cookbook%2Fdp%2F1838987312%2Fref%3Dsr_1_115_sspa%3Fkeywords%3Dpython%26qid%3D1663459285%26sr%3D8-115-spons%26psc%3D1&qualifier=1663459285&id=824607835465787&widgetName=sp_mtf>\n",
      "2022-09-18 02:03:02 [scrapy.downloadermiddlewares.redirect] DEBUG: Redirecting (302) to <GET https://www.amazon.com/Practical-Python-Programming-IoT-WebSockets/dp/1838982469/ref=sr_1_114_sspa?keywords=python&qid=1663459285&sr=8-114-spons&psc=1&spLa=ZW5jcnlwdGVkUXVhbGlmaWVyPUEyTzhBRFBIQVg0RUJSJmVuY3J5cHRlZElkPUEwMzY4ODMzMU9HMDZPRkgyUldEQiZlbmNyeXB0ZWRBZElkPUExMDI1MDU0MTcxM0JDUTdKOFBZSyZ3aWRnZXROYW1lPXNwX210ZiZhY3Rpb249Y2xpY2tSZWRpcmVjdCZkb05vdExvZ0NsaWNrPXRydWU=> from <GET https://www.amazon.com/gp/slredirect/picassoRedirect.html/ref=pa_sp_mtf_aps_sr_pg3_1?ie=UTF8&adId=A10250541713BCQ7J8PYK&url=%2FPractical-Python-Programming-IoT-WebSockets%2Fdp%2F1838982469%2Fref%3Dsr_1_114_sspa%3Fkeywords%3Dpython%26qid%3D1663459285%26sr%3D8-114-spons%26psc%3D1&qualifier=1663459285&id=824607835465787&widgetName=sp_mtf>\n",
      "2022-09-18 02:03:02 [scrapy.downloadermiddlewares.redirect] DEBUG: Redirecting (302) to <GET https://www.amazon.com/Web-Development-Django-applications-Python-based/dp/1839212500/ref=sr_1_113_sspa?keywords=python&qid=1663459285&sr=8-113-spons&psc=1&spLa=ZW5jcnlwdGVkUXVhbGlmaWVyPUEyTzhBRFBIQVg0RUJSJmVuY3J5cHRlZElkPUEwMzY4ODMzMU9HMDZPRkgyUldEQiZlbmNyeXB0ZWRBZElkPUEwMTQ1NjI3M1FJSlQ3QjgyM0dFVyZ3aWRnZXROYW1lPXNwX210ZiZhY3Rpb249Y2xpY2tSZWRpcmVjdCZkb05vdExvZ0NsaWNrPXRydWU=> from <GET https://www.amazon.com/gp/slredirect/picassoRedirect.html/ref=pa_sp_mtf_aps_sr_pg3_1?ie=UTF8&adId=A01456273QIJT7B823GEW&url=%2FWeb-Development-Django-applications-Python-based%2Fdp%2F1839212500%2Fref%3Dsr_1_113_sspa%3Fkeywords%3Dpython%26qid%3D1663459285%26sr%3D8-113-spons%26psc%3D1&qualifier=1663459285&id=824607835465787&widgetName=sp_mtf>\n"
     ]
    },
    {
     "name": "stdout",
     "output_type": "stream",
     "text": [
      "291\n",
      "['\\n            \\n              51%\\n            \\n          '] 3.3 out of 5 stars 6 x 0.23 x 9 inches\n"
     ]
    },
    {
     "name": "stderr",
     "output_type": "stream",
     "text": [
      "2022-09-18 02:03:03 [scrapy.core.engine] DEBUG: Crawled (200) <GET https://www.amazon.com/Functional-Python-Programming-functional-expressive-ebook/dp/B0B1N4PLL5/ref=sr_1_120?keywords=python&qid=1663459285&sr=8-120> (referer: https://www.amazon.com/s?k=python&page=3&qid=1663458276&ref=sr_pg_3)\n",
      "2022-09-18 02:03:03 [scrapy.core.engine] DEBUG: Crawled (200) <GET https://www.amazon.com/Green-Tree-Pythons-Natural-Maintenance/dp/1541385799/ref=sr_1_108?keywords=python&qid=1663459285&sr=8-108> (referer: https://www.amazon.com/s?k=python&page=3&qid=1663458276&ref=sr_pg_3)\n"
     ]
    },
    {
     "name": "stdout",
     "output_type": "stream",
     "text": [
      "292\n",
      "[] None None\n"
     ]
    },
    {
     "name": "stderr",
     "output_type": "stream",
     "text": [
      "2022-09-18 02:03:03 [scrapy.core.engine] DEBUG: Crawled (200) <GET https://www.amazon.com/Introduction-Python-Programming-Scientists-Engineers/dp/1108701124/ref=sr_1_117?keywords=python&qid=1663459285&sr=8-117> (referer: https://www.amazon.com/s?k=python&page=3&qid=1663458276&ref=sr_pg_3)\n",
      "2022-09-18 02:03:03 [scrapy.core.engine] DEBUG: Crawled (200) <GET https://www.amazon.com/Learn-Python-Programming-depth-introduction/dp/1801815097/ref=sr_1_116_sspa?keywords=python&qid=1663459285&sr=8-116-spons&psc=1&spLa=ZW5jcnlwdGVkUXVhbGlmaWVyPUEyTzhBRFBIQVg0RUJSJmVuY3J5cHRlZElkPUEwMzY4ODMzMU9HMDZPRkgyUldEQiZlbmNyeXB0ZWRBZElkPUEwNDcyNzE2Mlo3QjkwRUcxWVBDWSZ3aWRnZXROYW1lPXNwX210ZiZhY3Rpb249Y2xpY2tSZWRpcmVjdCZkb05vdExvZ0NsaWNrPXRydWU=> (referer: https://www.amazon.com/s?k=python&page=3&qid=1663458276&ref=sr_pg_3)\n",
      "2022-09-18 02:03:03 [scrapy.core.engine] DEBUG: Crawled (200) <GET https://www.amazon.com/Geometry-Programmers-Oleksandr-Kaleniuk/dp/1633439607/ref=sr_1_119?keywords=python&qid=1663459285&sr=8-119> (referer: https://www.amazon.com/s?k=python&page=3&qid=1663458276&ref=sr_pg_3)\n"
     ]
    },
    {
     "name": "stdout",
     "output_type": "stream",
     "text": [
      "293\n",
      "[] None None\n"
     ]
    },
    {
     "name": "stderr",
     "output_type": "stream",
     "text": [
      "2022-09-18 02:03:04 [scrapy.core.engine] DEBUG: Crawled (200) <GET https://www.amazon.com/Python-Quick-Reference-Cheat-Laminate-ebook/dp/B00FFT883M/ref=sr_1_106?keywords=python&qid=1663459285&sr=8-106> (referer: https://www.amazon.com/s?k=python&page=3&qid=1663458276&ref=sr_pg_3)\n",
      "2022-09-18 02:03:04 [scrapy.core.engine] DEBUG: Crawled (200) <GET https://www.amazon.com/Python-One-Liners-Concise-Eloquent-Professional/dp/1718500505/ref=sr_1_118?keywords=python&qid=1663459285&sr=8-118> (referer: https://www.amazon.com/s?k=python&page=3&qid=1663458276&ref=sr_pg_3)\n",
      "2022-09-18 02:03:04 [scrapy.core.engine] DEBUG: Crawled (200) <GET https://www.amazon.com/Practical-Python-Programming-IoT-WebSockets/dp/1838982469/ref=sr_1_114_sspa?keywords=python&qid=1663459285&sr=8-114-spons&psc=1&spLa=ZW5jcnlwdGVkUXVhbGlmaWVyPUEyTzhBRFBIQVg0RUJSJmVuY3J5cHRlZElkPUEwMzY4ODMzMU9HMDZPRkgyUldEQiZlbmNyeXB0ZWRBZElkPUExMDI1MDU0MTcxM0JDUTdKOFBZSyZ3aWRnZXROYW1lPXNwX210ZiZhY3Rpb249Y2xpY2tSZWRpcmVjdCZkb05vdExvZ0NsaWNrPXRydWU=> (referer: https://www.amazon.com/s?k=python&page=3&qid=1663458276&ref=sr_pg_3)\n"
     ]
    },
    {
     "name": "stdout",
     "output_type": "stream",
     "text": [
      "294\n",
      "[] None 7.5 x 1.13 x 9.7 inches\n",
      "295\n",
      "[] None None\n",
      "296\n",
      "[] None 7.38 x 1.06 x 9.25 inches\n",
      "297\n",
      "[] None None\n"
     ]
    },
    {
     "name": "stderr",
     "output_type": "stream",
     "text": [
      "2022-09-18 02:03:04 [scrapy.core.engine] DEBUG: Crawled (200) <GET https://www.amazon.com/Expert-Python-Programming-practices-programming/dp/1801071101/ref=sr_1_112?keywords=python&qid=1663459285&sr=8-112> (referer: https://www.amazon.com/s?k=python&page=3&qid=1663458276&ref=sr_pg_3)\n",
      "2022-09-18 02:03:04 [scrapy.core.engine] DEBUG: Crawled (200) <GET https://www.amazon.com/Simulation-Python-Modeling-Sciences-Engineering/dp/1484281845/ref=sr_1_110?keywords=python&qid=1663459285&sr=8-110> (referer: https://www.amazon.com/s?k=python&page=3&qid=1663458276&ref=sr_pg_3)\n",
      "2022-09-18 02:03:04 [scrapy.core.engine] DEBUG: Crawled (200) <GET https://www.amazon.com/Python-Programming-Beginners-Introduction-Computer-ebook/dp/B00N4IQRD4/ref=sr_1_109?keywords=python&qid=1663459285&sr=8-109> (referer: https://www.amazon.com/s?k=python&page=3&qid=1663458276&ref=sr_pg_3)\n"
     ]
    },
    {
     "name": "stdout",
     "output_type": "stream",
     "text": [
      "298\n",
      "['\\n            \\n              81%\\n            \\n          '] 4.8 out of 5 stars 7.06 x 0.53 x 9.25 inches\n",
      "299\n",
      "[] None None\n",
      "300\n",
      "['\\n            \\n              76%\\n            \\n          '] 4.5 out of 5 stars 7.5 x 1.42 x 9.25 inches\n",
      "301\n",
      "[] None 7 x 0.39 x 10 inches\n"
     ]
    },
    {
     "name": "stderr",
     "output_type": "stream",
     "text": [
      "2022-09-18 02:03:05 [scrapy.core.engine] DEBUG: Crawled (200) <GET https://www.amazon.com/Learn-Python-Programming-audiobook/dp/B081QMFNL2/ref=sr_1_111?keywords=python&qid=1663459285&sr=8-111> (referer: https://www.amazon.com/s?k=python&page=3&qid=1663458276&ref=sr_pg_3)\n"
     ]
    },
    {
     "name": "stdout",
     "output_type": "stream",
     "text": [
      "302\n",
      "['\\n            \\n              72%\\n            \\n          '] 4.5 out of 5 stars None\n",
      "303\n",
      "['\\n            \\n              45%\\n            \\n          '] 3.2 out of 5 stars None\n"
     ]
    },
    {
     "name": "stderr",
     "output_type": "stream",
     "text": [
      "2022-09-18 02:03:06 [scrapy.core.engine] DEBUG: Crawled (200) <GET https://www.amazon.com/Python-Data-Science-Handbook-Essential/dp/1098121228/ref=sr_1_107?keywords=python&qid=1663459285&sr=8-107> (referer: https://www.amazon.com/s?k=python&page=3&qid=1663458276&ref=sr_pg_3)\n",
      "2022-09-18 02:03:06 [scrapy.downloadermiddlewares.redirect] DEBUG: Redirecting (302) to <GET https://www.amazon.com/Bayesian-Analysis-Python-Introduction-probabilistic/dp/1789341655/ref=sr_1_100_sspa?keywords=python&qid=1663459285&sr=8-100-spons&psc=1&spLa=ZW5jcnlwdGVkUXVhbGlmaWVyPUEyTzhBRFBIQVg0RUJSJmVuY3J5cHRlZElkPUEwMzY4ODMzMU9HMDZPRkgyUldEQiZlbmNyeXB0ZWRBZElkPUExMDM3OTAyMVpTS1hZRVFWVUY4MiZ3aWRnZXROYW1lPXNwX2F0Zl9uZXh0JmFjdGlvbj1jbGlja1JlZGlyZWN0JmRvTm90TG9nQ2xpY2s9dHJ1ZQ==> from <GET https://www.amazon.com/gp/slredirect/picassoRedirect.html/ref=pa_sp_atf_next_aps_sr_pg3_1?ie=UTF8&adId=A10379021ZSKXYEQVUF82&url=%2FBayesian-Analysis-Python-Introduction-probabilistic%2Fdp%2F1789341655%2Fref%3Dsr_1_100_sspa%3Fkeywords%3Dpython%26qid%3D1663459285%26sr%3D8-100-spons%26psc%3D1&qualifier=1663459285&id=824607835465787&widgetName=sp_atf_next>\n"
     ]
    },
    {
     "name": "stdout",
     "output_type": "stream",
     "text": [
      "304\n",
      "[] None None\n"
     ]
    },
    {
     "name": "stderr",
     "output_type": "stream",
     "text": [
      "2022-09-18 02:03:07 [scrapy.downloadermiddlewares.redirect] DEBUG: Redirecting (302) to <GET https://www.amazon.com/Python-Beginners-Crash-Course-Guide/dp/1549776673/ref=sr_1_99_sspa?keywords=python&qid=1663459285&sr=8-99-spons&psc=1&spLa=ZW5jcnlwdGVkUXVhbGlmaWVyPUEyTzhBRFBIQVg0RUJSJmVuY3J5cHRlZElkPUEwMzY4ODMzMU9HMDZPRkgyUldEQiZlbmNyeXB0ZWRBZElkPUEwMDMxMTUwMVpZNVJPNTg4RVhFNCZ3aWRnZXROYW1lPXNwX2F0Zl9uZXh0JmFjdGlvbj1jbGlja1JlZGlyZWN0JmRvTm90TG9nQ2xpY2s9dHJ1ZQ==> from <GET https://www.amazon.com/gp/slredirect/picassoRedirect.html/ref=pa_sp_atf_next_aps_sr_pg3_1?ie=UTF8&adId=A00311501ZY5RO588EXE4&url=%2FPython-Beginners-Crash-Course-Guide%2Fdp%2F1549776673%2Fref%3Dsr_1_99_sspa%3Fkeywords%3Dpython%26qid%3D1663459285%26sr%3D8-99-spons%26psc%3D1&qualifier=1663459285&id=824607835465787&widgetName=sp_atf_next>\n",
      "2022-09-18 02:03:08 [scrapy.core.engine] DEBUG: Crawled (200) <GET https://www.amazon.com/Advanced-Python-Programming-Accelerate-techniques/dp/1801814015/ref=sr_1_103?keywords=python&qid=1663459285&sr=8-103> (referer: https://www.amazon.com/s?k=python&page=3&qid=1663458276&ref=sr_pg_3)\n",
      "2022-09-18 02:03:08 [scrapy.core.engine] DEBUG: Crawled (200) <GET https://www.amazon.com/Web-Development-Django-applications-Python-based/dp/1839212500/ref=sr_1_113_sspa?keywords=python&qid=1663459285&sr=8-113-spons&psc=1&spLa=ZW5jcnlwdGVkUXVhbGlmaWVyPUEyTzhBRFBIQVg0RUJSJmVuY3J5cHRlZElkPUEwMzY4ODMzMU9HMDZPRkgyUldEQiZlbmNyeXB0ZWRBZElkPUEwMTQ1NjI3M1FJSlQ3QjgyM0dFVyZ3aWRnZXROYW1lPXNwX210ZiZhY3Rpb249Y2xpY2tSZWRpcmVjdCZkb05vdExvZ0NsaWNrPXRydWU=> (referer: https://www.amazon.com/s?k=python&page=3&qid=1663458276&ref=sr_pg_3)\n",
      "2022-09-18 02:03:08 [scrapy.core.engine] DEBUG: Crawled (200) <GET https://www.amazon.com/Python-Algorithmic-Trading-Cloud-Deployment/dp/149205335X/ref=sr_1_101?keywords=python&qid=1663459285&sr=8-101> (referer: https://www.amazon.com/s?k=python&page=3&qid=1663458276&ref=sr_pg_3)\n",
      "2022-09-18 02:03:08 [scrapy.downloadermiddlewares.redirect] DEBUG: Redirecting (302) to <GET https://www.amazon.com/Python-Automation-Cookbook-automation-processing/dp/1800207085/ref=sr_1_98_sspa?keywords=python&qid=1663459285&sr=8-98-spons&psc=1&spLa=ZW5jcnlwdGVkUXVhbGlmaWVyPUEyTzhBRFBIQVg0RUJSJmVuY3J5cHRlZElkPUEwMzY4ODMzMU9HMDZPRkgyUldEQiZlbmNyeXB0ZWRBZElkPUEwMzI2Mjg5MUEyN0k3RVdSVDE0SyZ3aWRnZXROYW1lPXNwX2F0Zl9uZXh0JmFjdGlvbj1jbGlja1JlZGlyZWN0JmRvTm90TG9nQ2xpY2s9dHJ1ZQ==> from <GET https://www.amazon.com/gp/slredirect/picassoRedirect.html/ref=pa_sp_atf_next_aps_sr_pg3_1?ie=UTF8&adId=A03262891A27I7EWRT14K&url=%2FPython-Automation-Cookbook-automation-processing%2Fdp%2F1800207085%2Fref%3Dsr_1_98_sspa%3Fkeywords%3Dpython%26qid%3D1663459285%26sr%3D8-98-spons%26psc%3D1&qualifier=1663459285&id=824607835465787&widgetName=sp_atf_next>\n"
     ]
    },
    {
     "name": "stdout",
     "output_type": "stream",
     "text": [
      "305\n",
      "['\\n            \\n              65%\\n            \\n          '] 4.3 out of 5 stars 7.5 x 1.37 x 9.25 inches\n",
      "306\n",
      "['\\n            \\n              70%\\n            \\n          '] 4.5 out of 5 stars 7.5 x 1.87 x 9.25 inches\n"
     ]
    },
    {
     "name": "stderr",
     "output_type": "stream",
     "text": [
      "2022-09-18 02:03:09 [scrapy.downloadermiddlewares.redirect] DEBUG: Redirecting (302) to <GET https://www.amazon.com/Python-Manuscripts-Programming-Beginners-Intermediates/dp/1980953902/ref=sr_1_97_sspa?keywords=python&qid=1663459285&sr=8-97-spons&psc=1&spLa=ZW5jcnlwdGVkUXVhbGlmaWVyPUEyTzhBRFBIQVg0RUJSJmVuY3J5cHRlZElkPUEwMzY4ODMzMU9HMDZPRkgyUldEQiZlbmNyeXB0ZWRBZElkPUEwNzAzODAwMlNOWEZaSVhESk5GSSZ3aWRnZXROYW1lPXNwX2F0Zl9uZXh0JmFjdGlvbj1jbGlja1JlZGlyZWN0JmRvTm90TG9nQ2xpY2s9dHJ1ZQ==> from <GET https://www.amazon.com/gp/slredirect/picassoRedirect.html/ref=pa_sp_atf_next_aps_sr_pg3_1?ie=UTF8&adId=A07038002SNXFZIXDJNFI&url=%2FPython-Manuscripts-Programming-Beginners-Intermediates%2Fdp%2F1980953902%2Fref%3Dsr_1_97_sspa%3Fkeywords%3Dpython%26qid%3D1663459285%26sr%3D8-97-spons%26psc%3D1&qualifier=1663459285&id=824607835465787&widgetName=sp_atf_next>\n",
      "2022-09-18 02:03:09 [scrapy.core.engine] DEBUG: Crawled (200) <GET https://www.amazon.com/Clean-Code-Handbook-Software-Craftsmanship/dp/0132350882/ref=sr_1_104?keywords=python&qid=1663459285&sr=8-104> (referer: https://www.amazon.com/s?k=python&page=3&qid=1663458276&ref=sr_pg_3)\n",
      "2022-09-18 02:03:09 [scrapy.core.engine] DEBUG: Crawled (200) <GET https://www.amazon.com/Serious-Python-Black-Belt-Deployment-Scalability/dp/1593278780/ref=sr_1_105?keywords=python&qid=1663459285&sr=8-105> (referer: https://www.amazon.com/s?k=python&page=3&qid=1663458276&ref=sr_pg_3)\n",
      "2022-09-18 02:03:09 [scrapy.core.engine] DEBUG: Crawled (200) <GET https://www.amazon.com/Python-Natural-Language-Processing-Cookbook/dp/1838987312/ref=sr_1_115_sspa?keywords=python&qid=1663459285&sr=8-115-spons&psc=1&spLa=ZW5jcnlwdGVkUXVhbGlmaWVyPUEyTzhBRFBIQVg0RUJSJmVuY3J5cHRlZElkPUEwMzY4ODMzMU9HMDZPRkgyUldEQiZlbmNyeXB0ZWRBZElkPUEwMzQyODY1MkoyRzFBNzBaM0syMSZ3aWRnZXROYW1lPXNwX210ZiZhY3Rpb249Y2xpY2tSZWRpcmVjdCZkb05vdExvZ0NsaWNrPXRydWU=> (referer: https://www.amazon.com/s?k=python&page=3&qid=1663458276&ref=sr_pg_3)\n"
     ]
    },
    {
     "name": "stdout",
     "output_type": "stream",
     "text": [
      "307\n",
      "['\\n            \\n              66%\\n            \\n          '] 4.3 out of 5 stars 7 x 0.9 x 9.1 inches\n"
     ]
    },
    {
     "name": "stderr",
     "output_type": "stream",
     "text": [
      "2022-09-18 02:03:09 [scrapy.core.engine] DEBUG: Crawled (200) <GET https://www.amazon.com/Python-Programming-Beginners-Step-Step-ebook/dp/B07BWT2MR5/ref=sr_1_102?keywords=python&qid=1663459285&sr=8-102> (referer: https://www.amazon.com/s?k=python&page=3&qid=1663458276&ref=sr_pg_3)\n",
      "2022-09-18 02:03:09 [scrapy.downloadermiddlewares.redirect] DEBUG: Redirecting (302) to <GET https://www.amazon.com/Python-Programming-Beginners-Step-Step/dp/1987518977/ref=sr_1_75_sspa?keywords=python&qid=1663459274&sr=8-75-spons&psc=1&spLa=ZW5jcnlwdGVkUXVhbGlmaWVyPUEyWU1VNk1aM0lMM0cmZW5jcnlwdGVkSWQ9QTA2NjIwMDIxNjJYUEY2S0RIVkVJJmVuY3J5cHRlZEFkSWQ9QTA0Nzg0NDRQV1ZZV0o0VVMwSEMmd2lkZ2V0TmFtZT1zcF9tdGYmYWN0aW9uPWNsaWNrUmVkaXJlY3QmZG9Ob3RMb2dDbGljaz10cnVl> from <GET https://www.amazon.com/gp/slredirect/picassoRedirect.html/ref=pa_sp_mtf_aps_sr_pg2_1?ie=UTF8&adId=A0478444PWVYWJ4US0HC&url=%2FPython-Programming-Beginners-Step-Step%2Fdp%2F1987518977%2Fref%3Dsr_1_75_sspa%3Fkeywords%3Dpython%26qid%3D1663459274%26sr%3D8-75-spons%26psc%3D1&qualifier=1663459274&id=4039912833702572&widgetName=sp_mtf>\n",
      "2022-09-18 02:03:09 [scrapy.downloadermiddlewares.redirect] DEBUG: Redirecting (302) to <GET https://www.amazon.com/Python-Basics-Practical-Introduction/dp/1775093328/ref=sr_1_74_sspa?keywords=python&qid=1663459274&sr=8-74-spons&psc=1&spLa=ZW5jcnlwdGVkUXVhbGlmaWVyPUEyWU1VNk1aM0lMM0cmZW5jcnlwdGVkSWQ9QTA2NjIwMDIxNjJYUEY2S0RIVkVJJmVuY3J5cHRlZEFkSWQ9QTA5MTg2NzMxV1VLWVg2MkZOSEhNJndpZGdldE5hbWU9c3BfbXRmJmFjdGlvbj1jbGlja1JlZGlyZWN0JmRvTm90TG9nQ2xpY2s9dHJ1ZQ==> from <GET https://www.amazon.com/gp/slredirect/picassoRedirect.html/ref=pa_sp_mtf_aps_sr_pg2_1?ie=UTF8&adId=A09186731WUKYX62FNHHM&url=%2FPython-Basics-Practical-Introduction%2Fdp%2F1775093328%2Fref%3Dsr_1_74_sspa%3Fkeywords%3Dpython%26qid%3D1663459274%26sr%3D8-74-spons%26psc%3D1&qualifier=1663459274&id=4039912833702572&widgetName=sp_mtf>\n"
     ]
    },
    {
     "name": "stdout",
     "output_type": "stream",
     "text": [
      "308\n",
      "['\\n            \\n              81%\\n            \\n          '] 4.7 out of 5 stars 7 x 1.1 x 9.2 inches\n",
      "309\n",
      "['\\n            \\n              79%\\n            \\n          '] 4.7 out of 5 stars 7.06 x 0.57 x 9.25 inches\n"
     ]
    },
    {
     "name": "stderr",
     "output_type": "stream",
     "text": [
      "2022-09-18 02:03:09 [scrapy.downloadermiddlewares.redirect] DEBUG: Redirecting (302) to <GET https://www.amazon.com/Mastering-Reinforcement-Learning-Python-next-generation/dp/1838644148/ref=sr_1_72_sspa?keywords=python&qid=1663459274&sr=8-72-spons&psc=1&spLa=ZW5jcnlwdGVkUXVhbGlmaWVyPUEyWU1VNk1aM0lMM0cmZW5jcnlwdGVkSWQ9QTA2NjIwMDIxNjJYUEY2S0RIVkVJJmVuY3J5cHRlZEFkSWQ9QTAxMDQ0MDQyODhBSUJZMlBFSEwmd2lkZ2V0TmFtZT1zcF9tdGYmYWN0aW9uPWNsaWNrUmVkaXJlY3QmZG9Ob3RMb2dDbGljaz10cnVl> from <GET https://www.amazon.com/gp/slredirect/picassoRedirect.html/ref=pa_sp_mtf_aps_sr_pg2_1?ie=UTF8&adId=A0104404288AIBY2PEHL&url=%2FMastering-Reinforcement-Learning-Python-next-generation%2Fdp%2F1838644148%2Fref%3Dsr_1_72_sspa%3Fkeywords%3Dpython%26qid%3D1663459274%26sr%3D8-72-spons%26psc%3D1&qualifier=1663459274&id=4039912833702572&widgetName=sp_mtf>\n",
      "2022-09-18 02:03:09 [scrapy.downloadermiddlewares.redirect] DEBUG: Redirecting (302) to <GET https://www.amazon.com/Learn-python-programming-beginners-comprehending/dp/B08KH3PXN5/ref=sr_1_73_sspa?keywords=python&qid=1663459274&sr=8-73-spons&psc=1&spLa=ZW5jcnlwdGVkUXVhbGlmaWVyPUEyWU1VNk1aM0lMM0cmZW5jcnlwdGVkSWQ9QTA2NjIwMDIxNjJYUEY2S0RIVkVJJmVuY3J5cHRlZEFkSWQ9QTA3NDY1OTBITEpTQTUwNzRCUDEmd2lkZ2V0TmFtZT1zcF9tdGYmYWN0aW9uPWNsaWNrUmVkaXJlY3QmZG9Ob3RMb2dDbGljaz10cnVl> from <GET https://www.amazon.com/gp/slredirect/picassoRedirect.html/ref=pa_sp_mtf_aps_sr_pg2_1?ie=UTF8&adId=A0746590HLJSA5074BP1&url=%2FLearn-python-programming-beginners-comprehending%2Fdp%2FB08KH3PXN5%2Fref%3Dsr_1_73_sspa%3Fkeywords%3Dpython%26qid%3D1663459274%26sr%3D8-73-spons%26psc%3D1&qualifier=1663459274&id=4039912833702572&widgetName=sp_mtf>\n"
     ]
    },
    {
     "name": "stdout",
     "output_type": "stream",
     "text": [
      "310\n",
      "['\\n            \\n              61%\\n            \\n          '] 4.2 out of 5 stars 7.5 x 0.64 x 9.25 inches\n",
      "311\n",
      "['\\n            \\n              54%\\n            \\n          '] 4.0 out of 5 stars None\n"
     ]
    },
    {
     "name": "stderr",
     "output_type": "stream",
     "text": [
      "2022-09-18 02:03:10 [scrapy.core.engine] DEBUG: Crawled (200) <GET https://www.amazon.com/Python-Crash-Course-Eric-Matthes/dp/1718502702/ref=sr_1_78?keywords=python&qid=1663459274&sr=8-78> (referer: https://www.amazon.com/s?k=python&page=2&qid=1663458276&ref=sr_pg_2)\n",
      "2022-09-18 02:03:10 [scrapy.core.engine] DEBUG: Crawled (200) <GET https://www.amazon.com/Python-Manuscripts-Programming-Beginners-Intermediates/dp/1980953902/ref=sr_1_97_sspa?keywords=python&qid=1663459285&sr=8-97-spons&psc=1&spLa=ZW5jcnlwdGVkUXVhbGlmaWVyPUEyTzhBRFBIQVg0RUJSJmVuY3J5cHRlZElkPUEwMzY4ODMzMU9HMDZPRkgyUldEQiZlbmNyeXB0ZWRBZElkPUEwNzAzODAwMlNOWEZaSVhESk5GSSZ3aWRnZXROYW1lPXNwX2F0Zl9uZXh0JmFjdGlvbj1jbGlja1JlZGlyZWN0JmRvTm90TG9nQ2xpY2s9dHJ1ZQ==> (referer: https://www.amazon.com/s?k=python&page=3&qid=1663458276&ref=sr_pg_3)\n",
      "2022-09-18 02:03:11 [scrapy.downloadermiddlewares.redirect] DEBUG: Redirecting (302) to <GET https://www.amazon.com/Python-Machine-Learning-Introduction-Comprehensive/dp/B08C71D22X/ref=sr_1_76_sspa?keywords=python&qid=1663459274&sr=8-76-spons&psc=1&spLa=ZW5jcnlwdGVkUXVhbGlmaWVyPUEyWU1VNk1aM0lMM0cmZW5jcnlwdGVkSWQ9QTA2NjIwMDIxNjJYUEY2S0RIVkVJJmVuY3J5cHRlZEFkSWQ9QTA2Mzk4OTgzQlpEQ1hGVE4xTUUzJndpZGdldE5hbWU9c3BfbXRmJmFjdGlvbj1jbGlja1JlZGlyZWN0JmRvTm90TG9nQ2xpY2s9dHJ1ZQ==> from <GET https://www.amazon.com/gp/slredirect/picassoRedirect.html/ref=pa_sp_mtf_aps_sr_pg2_1?ie=UTF8&adId=A06398983BZDCXFTN1ME3&url=%2FPython-Machine-Learning-Introduction-Comprehensive%2Fdp%2FB08C71D22X%2Fref%3Dsr_1_76_sspa%3Fkeywords%3Dpython%26qid%3D1663459274%26sr%3D8-76-spons%26psc%3D1&qualifier=1663459274&id=4039912833702572&widgetName=sp_mtf>\n",
      "2022-09-18 02:03:11 [scrapy.downloadermiddlewares.redirect] DEBUG: Redirecting (302) to <GET https://www.amazon.com/Introduction-Python-Matlab-Andrew-Harrison/dp/1630815977/ref=sr_1_71_sspa?keywords=python&qid=1663459274&sr=8-71-spons&psc=1&spLa=ZW5jcnlwdGVkUXVhbGlmaWVyPUEyWU1VNk1aM0lMM0cmZW5jcnlwdGVkSWQ9QTA2NjIwMDIxNjJYUEY2S0RIVkVJJmVuY3J5cHRlZEFkSWQ9QTA1NzY5MDIzQ0swRURHTEZaOUhEJndpZGdldE5hbWU9c3BfbXRmJmFjdGlvbj1jbGlja1JlZGlyZWN0JmRvTm90TG9nQ2xpY2s9dHJ1ZQ==> from <GET https://www.amazon.com/gp/slredirect/picassoRedirect.html/ref=pa_sp_mtf_aps_sr_pg2_1?ie=UTF8&adId=A05769023CK0EDGLFZ9HD&url=%2FIntroduction-Python-Matlab-Andrew-Harrison%2Fdp%2F1630815977%2Fref%3Dsr_1_71_sspa%3Fkeywords%3Dpython%26qid%3D1663459274%26sr%3D8-71-spons%26psc%3D1&qualifier=1663459274&id=4039912833702572&widgetName=sp_mtf>\n"
     ]
    },
    {
     "name": "stdout",
     "output_type": "stream",
     "text": [
      "312\n",
      "[] None 0.04 x 0.04 x 0.04 inches\n",
      "313\n",
      "[] None None\n"
     ]
    },
    {
     "name": "stderr",
     "output_type": "stream",
     "text": [
      "2022-09-18 02:03:11 [scrapy.downloadermiddlewares.redirect] DEBUG: Redirecting (302) to <GET https://www.amazon.com/PYTHON-programming-beginners-machine-learning/dp/B08M255TD5/ref=sr_1_70_sspa?keywords=python&qid=1663459274&sr=8-70-spons&psc=1&spLa=ZW5jcnlwdGVkUXVhbGlmaWVyPUEyWU1VNk1aM0lMM0cmZW5jcnlwdGVkSWQ9QTA2NjIwMDIxNjJYUEY2S0RIVkVJJmVuY3J5cHRlZEFkSWQ9QTAzMjU0MzYxUzFGTjRZVUY2V0tDJndpZGdldE5hbWU9c3BfbXRmJmFjdGlvbj1jbGlja1JlZGlyZWN0JmRvTm90TG9nQ2xpY2s9dHJ1ZQ==> from <GET https://www.amazon.com/gp/slredirect/picassoRedirect.html/ref=pa_sp_mtf_aps_sr_pg2_1?ie=UTF8&adId=A03254361S1FN4YUF6WKC&url=%2FPYTHON-programming-beginners-machine-learning%2Fdp%2FB08M255TD5%2Fref%3Dsr_1_70_sspa%3Fkeywords%3Dpython%26qid%3D1663459274%26sr%3D8-70-spons%26psc%3D1&qualifier=1663459274&id=4039912833702572&widgetName=sp_mtf>\n",
      "2022-09-18 02:03:11 [scrapy.downloadermiddlewares.redirect] DEBUG: Redirecting (302) to <GET https://www.amazon.com/Data-Engineering-AWS-Gareth-Eagar/dp/1800560419/ref=sr_1_69_sspa?keywords=python&qid=1663459274&sr=8-69-spons&psc=1&spLa=ZW5jcnlwdGVkUXVhbGlmaWVyPUEyWU1VNk1aM0lMM0cmZW5jcnlwdGVkSWQ9QTA2NjIwMDIxNjJYUEY2S0RIVkVJJmVuY3J5cHRlZEFkSWQ9QTAzMjg5NzgxT0FDQ1paQUNUR0FHJndpZGdldE5hbWU9c3BfbXRmJmFjdGlvbj1jbGlja1JlZGlyZWN0JmRvTm90TG9nQ2xpY2s9dHJ1ZQ==> from <GET https://www.amazon.com/gp/slredirect/picassoRedirect.html/ref=pa_sp_mtf_aps_sr_pg2_1?ie=UTF8&adId=A03289781OACCZZACTGAG&url=%2FData-Engineering-AWS-Gareth-Eagar%2Fdp%2F1800560419%2Fref%3Dsr_1_69_sspa%3Fkeywords%3Dpython%26qid%3D1663459274%26sr%3D8-69-spons%26psc%3D1&qualifier=1663459274&id=4039912833702572&widgetName=sp_mtf>\n",
      "2022-09-18 02:03:11 [scrapy.core.engine] DEBUG: Crawled (200) <GET https://www.amazon.com/Python-Programming-Beginners-Step-Step/dp/1987518977/ref=sr_1_75_sspa?keywords=python&qid=1663459274&sr=8-75-spons&psc=1&spLa=ZW5jcnlwdGVkUXVhbGlmaWVyPUEyWU1VNk1aM0lMM0cmZW5jcnlwdGVkSWQ9QTA2NjIwMDIxNjJYUEY2S0RIVkVJJmVuY3J5cHRlZEFkSWQ9QTA0Nzg0NDRQV1ZZV0o0VVMwSEMmd2lkZ2V0TmFtZT1zcF9tdGYmYWN0aW9uPWNsaWNrUmVkaXJlY3QmZG9Ob3RMb2dDbGljaz10cnVl> (referer: https://www.amazon.com/s?k=python&page=2&qid=1663458276&ref=sr_pg_2)\n",
      "2022-09-18 02:03:12 [scrapy.core.engine] DEBUG: Crawled (200) <GET https://www.amazon.com/Recursive-Book-Recursion-Interview-Javascript/dp/1718502028/ref=sr_1_79?keywords=python&qid=1663459274&sr=8-79> (referer: https://www.amazon.com/s?k=python&page=2&qid=1663458276&ref=sr_pg_2)\n"
     ]
    },
    {
     "name": "stdout",
     "output_type": "stream",
     "text": [
      "314\n",
      "[] None None\n"
     ]
    },
    {
     "name": "stderr",
     "output_type": "stream",
     "text": [
      "2022-09-18 02:03:12 [scrapy.core.engine] DEBUG: Crawled (200) <GET https://www.amazon.com/Bayesian-Analysis-Python-Introduction-probabilistic/dp/1789341655/ref=sr_1_100_sspa?keywords=python&qid=1663459285&sr=8-100-spons&psc=1&spLa=ZW5jcnlwdGVkUXVhbGlmaWVyPUEyTzhBRFBIQVg0RUJSJmVuY3J5cHRlZElkPUEwMzY4ODMzMU9HMDZPRkgyUldEQiZlbmNyeXB0ZWRBZElkPUExMDM3OTAyMVpTS1hZRVFWVUY4MiZ3aWRnZXROYW1lPXNwX2F0Zl9uZXh0JmFjdGlvbj1jbGlja1JlZGlyZWN0JmRvTm90TG9nQ2xpY2s9dHJ1ZQ==> (referer: https://www.amazon.com/s?k=python&page=3&qid=1663458276&ref=sr_pg_3)\n"
     ]
    },
    {
     "name": "stdout",
     "output_type": "stream",
     "text": [
      "315\n",
      "['\\n            \\n              100%\\n            \\n          '] 5.0 out of 5 stars 6.8 x 0.6 x 8.9 inches\n"
     ]
    },
    {
     "name": "stderr",
     "output_type": "stream",
     "text": [
      "2022-09-18 02:03:12 [scrapy.core.engine] DEBUG: Crawled (200) <GET https://www.amazon.com/Python-Automation-Cookbook-automation-processing/dp/1800207085/ref=sr_1_98_sspa?keywords=python&qid=1663459285&sr=8-98-spons&psc=1&spLa=ZW5jcnlwdGVkUXVhbGlmaWVyPUEyTzhBRFBIQVg0RUJSJmVuY3J5cHRlZElkPUEwMzY4ODMzMU9HMDZPRkgyUldEQiZlbmNyeXB0ZWRBZElkPUEwMzI2Mjg5MUEyN0k3RVdSVDE0SyZ3aWRnZXROYW1lPXNwX2F0Zl9uZXh0JmFjdGlvbj1jbGlja1JlZGlyZWN0JmRvTm90TG9nQ2xpY2s9dHJ1ZQ==> (referer: https://www.amazon.com/s?k=python&page=3&qid=1663458276&ref=sr_pg_3)\n",
      "2022-09-18 02:03:12 [scrapy.core.engine] DEBUG: Crawled (200) <GET https://www.amazon.com/Python-Beginners-Crash-Course-Guide/dp/1549776673/ref=sr_1_99_sspa?keywords=python&qid=1663459285&sr=8-99-spons&psc=1&spLa=ZW5jcnlwdGVkUXVhbGlmaWVyPUEyTzhBRFBIQVg0RUJSJmVuY3J5cHRlZElkPUEwMzY4ODMzMU9HMDZPRkgyUldEQiZlbmNyeXB0ZWRBZElkPUEwMDMxMTUwMVpZNVJPNTg4RVhFNCZ3aWRnZXROYW1lPXNwX2F0Zl9uZXh0JmFjdGlvbj1jbGlja1JlZGlyZWN0JmRvTm90TG9nQ2xpY2s9dHJ1ZQ==> (referer: https://www.amazon.com/s?k=python&page=3&qid=1663458276&ref=sr_pg_3)\n",
      "2022-09-18 02:03:12 [scrapy.core.engine] DEBUG: Crawled (200) <GET https://www.amazon.com/Data-Visualization-Python-Pandas-Matplotlib/dp/B0972TFYN8/ref=sr_1_77?keywords=python&qid=1663459274&sr=8-77> (referer: https://www.amazon.com/s?k=python&page=2&qid=1663458276&ref=sr_pg_2)\n"
     ]
    },
    {
     "name": "stdout",
     "output_type": "stream",
     "text": [
      "316\n",
      "['\\n            \\n              55%\\n            \\n          '] 4.1 out of 5 stars 7.5 x 0.81 x 9.25 inches\n",
      "317\n",
      "['\\n            \\n              71%\\n            \\n          '] 4.4 out of 5 stars 7.5 x 1.19 x 9.25 inches\n",
      "318\n",
      "['\\n            \\n              66%\\n            \\n          '] 4.3 out of 5 stars 6 x 0.31 x 9 inches\n",
      "319\n",
      "['\\n            \\n              67%\\n            \\n          '] 4.1 out of 5 stars 7.44 x 1.05 x 9.69 inches\n"
     ]
    },
    {
     "name": "stderr",
     "output_type": "stream",
     "text": [
      "2022-09-18 02:03:14 [scrapy.core.engine] DEBUG: Crawled (200) <GET https://www.amazon.com/Murachs-Python-Programming-Joel-Murach/dp/1943872740/ref=sr_1_68?keywords=python&qid=1663459274&sr=8-68> (referer: https://www.amazon.com/s?k=python&page=2&qid=1663458276&ref=sr_pg_2)\n",
      "2022-09-18 02:03:14 [scrapy.core.engine] DEBUG: Crawled (200) <GET https://www.amazon.com/Mastering-Reinforcement-Learning-Python-next-generation/dp/1838644148/ref=sr_1_72_sspa?keywords=python&qid=1663459274&sr=8-72-spons&psc=1&spLa=ZW5jcnlwdGVkUXVhbGlmaWVyPUEyWU1VNk1aM0lMM0cmZW5jcnlwdGVkSWQ9QTA2NjIwMDIxNjJYUEY2S0RIVkVJJmVuY3J5cHRlZEFkSWQ9QTAxMDQ0MDQyODhBSUJZMlBFSEwmd2lkZ2V0TmFtZT1zcF9tdGYmYWN0aW9uPWNsaWNrUmVkaXJlY3QmZG9Ob3RMb2dDbGljaz10cnVl> (referer: https://www.amazon.com/s?k=python&page=2&qid=1663458276&ref=sr_pg_2)\n"
     ]
    },
    {
     "name": "stdout",
     "output_type": "stream",
     "text": [
      "320\n",
      "['\\n            \\n              80%\\n            \\n          '] 4.6 out of 5 stars None\n",
      "321\n",
      "['\\n            \\n              67%\\n            \\n          '] 4.4 out of 5 stars 7.5 x 1.23 x 9.25 inches\n"
     ]
    },
    {
     "name": "stderr",
     "output_type": "stream",
     "text": [
      "2022-09-18 02:03:15 [scrapy.core.engine] DEBUG: Crawled (200) <GET https://www.amazon.com/Art-Clean-Code-Practices-Complexity/dp/1718502184/ref=sr_1_67?keywords=python&qid=1663459274&sr=8-67> (referer: https://www.amazon.com/s?k=python&page=2&qid=1663458276&ref=sr_pg_2)\n",
      "2022-09-18 02:03:15 [scrapy.core.engine] DEBUG: Crawled (200) <GET https://www.amazon.com/Python-Basics-Practical-Introduction/dp/1775093328/ref=sr_1_74_sspa?keywords=python&qid=1663459274&sr=8-74-spons&psc=1&spLa=ZW5jcnlwdGVkUXVhbGlmaWVyPUEyWU1VNk1aM0lMM0cmZW5jcnlwdGVkSWQ9QTA2NjIwMDIxNjJYUEY2S0RIVkVJJmVuY3J5cHRlZEFkSWQ9QTA5MTg2NzMxV1VLWVg2MkZOSEhNJndpZGdldE5hbWU9c3BfbXRmJmFjdGlvbj1jbGlja1JlZGlyZWN0JmRvTm90TG9nQ2xpY2s9dHJ1ZQ==> (referer: https://www.amazon.com/s?k=python&page=2&qid=1663458276&ref=sr_pg_2)\n",
      "2022-09-18 02:03:15 [scrapy.core.engine] DEBUG: Crawled (200) <GET https://www.amazon.com/Learn-python-programming-beginners-comprehending/dp/B08KH3PXN5/ref=sr_1_73_sspa?keywords=python&qid=1663459274&sr=8-73-spons&psc=1&spLa=ZW5jcnlwdGVkUXVhbGlmaWVyPUEyWU1VNk1aM0lMM0cmZW5jcnlwdGVkSWQ9QTA2NjIwMDIxNjJYUEY2S0RIVkVJJmVuY3J5cHRlZEFkSWQ9QTA3NDY1OTBITEpTQTUwNzRCUDEmd2lkZ2V0TmFtZT1zcF9tdGYmYWN0aW9uPWNsaWNrUmVkaXJlY3QmZG9Ob3RMb2dDbGljaz10cnVl> (referer: https://www.amazon.com/s?k=python&page=2&qid=1663458276&ref=sr_pg_2)\n",
      "2022-09-18 02:03:15 [scrapy.core.engine] DEBUG: Crawled (200) <GET https://www.amazon.com/Introduction-Python-Matlab-Andrew-Harrison/dp/1630815977/ref=sr_1_71_sspa?keywords=python&qid=1663459274&sr=8-71-spons&psc=1&spLa=ZW5jcnlwdGVkUXVhbGlmaWVyPUEyWU1VNk1aM0lMM0cmZW5jcnlwdGVkSWQ9QTA2NjIwMDIxNjJYUEY2S0RIVkVJJmVuY3J5cHRlZEFkSWQ9QTA1NzY5MDIzQ0swRURHTEZaOUhEJndpZGdldE5hbWU9c3BfbXRmJmFjdGlvbj1jbGlja1JlZGlyZWN0JmRvTm90TG9nQ2xpY2s9dHJ1ZQ==> (referer: https://www.amazon.com/s?k=python&page=2&qid=1663458276&ref=sr_pg_2)\n",
      "2022-09-18 02:03:15 [scrapy.core.engine] DEBUG: Crawled (200) <GET https://www.amazon.com/PYTHON-Programaci%C3%B3n-Orientada-Objetos-F%C3%A1cilmente/dp/B08VF9WFVF/ref=sr_1_66?keywords=python&qid=1663459274&sr=8-66> (referer: https://www.amazon.com/s?k=python&page=2&qid=1663458276&ref=sr_pg_2)\n"
     ]
    },
    {
     "name": "stdout",
     "output_type": "stream",
     "text": [
      "322\n",
      "['\\n            \\n              63%\\n            \\n          '] 4.3 out of 5 stars 7 x 0.55 x 9.25 inches\n",
      "323\n",
      "['\\n            \\n              78%\\n            \\n          '] 4.7 out of 5 stars 6 x 1.44 x 9 inches\n",
      "324\n",
      "['\\n            \\n              60%\\n            \\n          '] 3.9 out of 5 stars 6 x 0.33 x 9 inches\n",
      "325\n",
      "['\\n            \\n              52%\\n            \\n          '] 4.1 out of 5 stars None\n"
     ]
    },
    {
     "name": "stderr",
     "output_type": "stream",
     "text": [
      "2022-09-18 02:03:16 [scrapy.core.engine] DEBUG: Crawled (200) <GET https://www.amazon.com/Python-Machine-Learning-Introduction-Comprehensive/dp/B08C71D22X/ref=sr_1_76_sspa?keywords=python&qid=1663459274&sr=8-76-spons&psc=1&spLa=ZW5jcnlwdGVkUXVhbGlmaWVyPUEyWU1VNk1aM0lMM0cmZW5jcnlwdGVkSWQ9QTA2NjIwMDIxNjJYUEY2S0RIVkVJJmVuY3J5cHRlZEFkSWQ9QTA2Mzk4OTgzQlpEQ1hGVE4xTUUzJndpZGdldE5hbWU9c3BfbXRmJmFjdGlvbj1jbGlja1JlZGlyZWN0JmRvTm90TG9nQ2xpY2s9dHJ1ZQ==> (referer: https://www.amazon.com/s?k=python&page=2&qid=1663458276&ref=sr_pg_2)\n",
      "2022-09-18 02:03:16 [scrapy.core.engine] DEBUG: Crawled (200) <GET https://www.amazon.com/Queen-Pythons/dp/B07W3J1ZFK/ref=sr_1_65?keywords=python&qid=1663459274&sr=8-65> (referer: https://www.amazon.com/s?k=python&page=2&qid=1663458276&ref=sr_pg_2)\n",
      "2022-09-18 02:03:16 [scrapy.core.engine] DEBUG: Crawled (200) <GET https://www.amazon.com/Hands-Data-Structures-Algorithms-Python/dp/1801073449/ref=sr_1_64?keywords=python&qid=1663459274&sr=8-64> (referer: https://www.amazon.com/s?k=python&page=2&qid=1663458276&ref=sr_pg_2)\n"
     ]
    },
    {
     "name": "stdout",
     "output_type": "stream",
     "text": [
      "326\n",
      "['\\n            \\n              39%\\n            \\n          '] 4.1 out of 5 stars 6 x 0.14 x 9 inches\n",
      "327\n",
      "['\\n            \\n              68%\\n            \\n          '] 4.1 out of 5 stars 6 x 0.27 x 9 inches\n",
      "328\n",
      "[] None None\n"
     ]
    },
    {
     "name": "stderr",
     "output_type": "stream",
     "text": [
      "2022-09-18 02:03:16 [scrapy.core.engine] DEBUG: Crawled (200) <GET https://www.amazon.com/Python-Choose-Your-Weapon-Programming/dp/B09M53PVX6/ref=sr_1_60?keywords=python&qid=1663459274&sr=8-60> (referer: https://www.amazon.com/s?k=python&page=2&qid=1663458276&ref=sr_pg_2)\n",
      "2022-09-18 02:03:16 [scrapy.core.engine] DEBUG: Crawled (200) <GET https://www.amazon.com/CPython-Internals-Guide-Python-Interpreter/dp/1775093344/ref=sr_1_58?keywords=python&qid=1663459274&sr=8-58> (referer: https://www.amazon.com/s?k=python&page=2&qid=1663458276&ref=sr_pg_2)\n"
     ]
    },
    {
     "name": "stdout",
     "output_type": "stream",
     "text": [
      "329\n",
      "[] None None\n",
      "330\n",
      "[] None None\n",
      "331\n",
      "[] None None\n"
     ]
    },
    {
     "name": "stderr",
     "output_type": "stream",
     "text": [
      "2022-09-18 02:03:17 [scrapy.core.engine] DEBUG: Crawled (200) <GET https://www.amazon.com/PYTHON-programming-beginners-machine-learning/dp/B08M255TD5/ref=sr_1_70_sspa?keywords=python&qid=1663459274&sr=8-70-spons&psc=1&spLa=ZW5jcnlwdGVkUXVhbGlmaWVyPUEyWU1VNk1aM0lMM0cmZW5jcnlwdGVkSWQ9QTA2NjIwMDIxNjJYUEY2S0RIVkVJJmVuY3J5cHRlZEFkSWQ9QTAzMjU0MzYxUzFGTjRZVUY2V0tDJndpZGdldE5hbWU9c3BfbXRmJmFjdGlvbj1jbGlja1JlZGlyZWN0JmRvTm90TG9nQ2xpY2s9dHJ1ZQ==> (referer: https://www.amazon.com/s?k=python&page=2&qid=1663458276&ref=sr_pg_2)\n",
      "2022-09-18 02:03:17 [scrapy.core.engine] DEBUG: Crawled (200) <GET https://www.amazon.com/Invent-Your-Computer-Games-Python/dp/1593277954/ref=sr_1_56?keywords=python&qid=1663459274&sr=8-56> (referer: https://www.amazon.com/s?k=python&page=2&qid=1663458276&ref=sr_pg_2)\n"
     ]
    },
    {
     "name": "stdout",
     "output_type": "stream",
     "text": [
      "332\n",
      "['\\n            \\n              36%\\n            \\n          '] 3.7 out of 5 stars 6 x 0.55 x 9 inches\n"
     ]
    },
    {
     "name": "stderr",
     "output_type": "stream",
     "text": [
      "2022-09-18 02:03:18 [scrapy.core.engine] DEBUG: Crawled (200) <GET https://www.amazon.com/Medusa-Megan-Purvis/dp/B09FFXBYQK/ref=sr_1_59?keywords=python&qid=1663459274&sr=8-59> (referer: https://www.amazon.com/s?k=python&page=2&qid=1663458276&ref=sr_pg_2)\n"
     ]
    },
    {
     "name": "stdout",
     "output_type": "stream",
     "text": [
      "333\n",
      "[] None None\n"
     ]
    },
    {
     "name": "stderr",
     "output_type": "stream",
     "text": [
      "2022-09-18 02:03:18 [scrapy.core.engine] DEBUG: Crawled (200) <GET https://www.amazon.com/Black-Hat-Python-2nd-Programming/dp/1718501129/ref=sr_1_62?keywords=python&qid=1663459274&sr=8-62> (referer: https://www.amazon.com/s?k=python&page=2&qid=1663458276&ref=sr_pg_2)\n",
      "2022-09-18 02:03:18 [scrapy.core.engine] DEBUG: Crawled (200) <GET https://www.amazon.com/Python-Pocket-Reference-Your-OReilly/dp/1449357016/ref=sr_1_63?keywords=python&qid=1663459274&sr=8-63> (referer: https://www.amazon.com/s?k=python&page=2&qid=1663458276&ref=sr_pg_2)\n"
     ]
    },
    {
     "name": "stdout",
     "output_type": "stream",
     "text": [
      "334\n",
      "[] None None\n"
     ]
    },
    {
     "name": "stderr",
     "output_type": "stream",
     "text": [
      "2022-09-18 02:03:18 [scrapy.downloadermiddlewares.redirect] DEBUG: Redirecting (302) to <GET https://www.amazon.com/Python-Programmers-Artificial-Intelligence-Studies/dp/0135224330/ref=sr_1_51_sspa?keywords=python&qid=1663459274&sr=8-51-spons&psc=1&spLa=ZW5jcnlwdGVkUXVhbGlmaWVyPUEyWU1VNk1aM0lMM0cmZW5jcnlwdGVkSWQ9QTA2NjIwMDIxNjJYUEY2S0RIVkVJJmVuY3J5cHRlZEFkSWQ9QTAxMjM2MjUzSUpKR1JGQUdQN080JndpZGdldE5hbWU9c3BfYXRmX25leHQmYWN0aW9uPWNsaWNrUmVkaXJlY3QmZG9Ob3RMb2dDbGljaz10cnVl> from <GET https://www.amazon.com/gp/slredirect/picassoRedirect.html/ref=pa_sp_atf_next_aps_sr_pg2_1?ie=UTF8&adId=A01236253IJJGRFAGP7O4&url=%2FPython-Programmers-Artificial-Intelligence-Studies%2Fdp%2F0135224330%2Fref%3Dsr_1_51_sspa%3Fkeywords%3Dpython%26qid%3D1663459274%26sr%3D8-51-spons%26psc%3D1&qualifier=1663459274&id=4039912833702572&widgetName=sp_atf_next>\n",
      "2022-09-18 02:03:18 [scrapy.downloadermiddlewares.redirect] DEBUG: Redirecting (302) to <GET https://www.amazon.com/Excel-2022-Illustrative-Beginners-Fundamental/dp/B0B1JZYHHX/ref=sr_1_52_sspa?keywords=python&qid=1663459274&sr=8-52-spons&psc=1&spLa=ZW5jcnlwdGVkUXVhbGlmaWVyPUEyWU1VNk1aM0lMM0cmZW5jcnlwdGVkSWQ9QTA2NjIwMDIxNjJYUEY2S0RIVkVJJmVuY3J5cHRlZEFkSWQ9QTA1OTA5MzBHTEk1UDA4U01XN1kmd2lkZ2V0TmFtZT1zcF9hdGZfbmV4dCZhY3Rpb249Y2xpY2tSZWRpcmVjdCZkb05vdExvZ0NsaWNrPXRydWU=> from <GET https://www.amazon.com/gp/slredirect/picassoRedirect.html/ref=pa_sp_atf_next_aps_sr_pg2_1?ie=UTF8&adId=A0590930GLI5P08SMW7Y&url=%2FExcel-2022-Illustrative-Beginners-Fundamental%2Fdp%2FB0B1JZYHHX%2Fref%3Dsr_1_52_sspa%3Fkeywords%3Dpython%26qid%3D1663459274%26sr%3D8-52-spons%26psc%3D1&qualifier=1663459274&id=4039912833702572&widgetName=sp_atf_next>\n"
     ]
    },
    {
     "name": "stdout",
     "output_type": "stream",
     "text": [
      "335\n",
      "['\\n            \\n              82%\\n            \\n          '] 4.7 out of 5 stars 6.9 x 0.7 x 9.1 inches\n",
      "336\n",
      "['\\n            \\n              70%\\n            \\n          '] 4.5 out of 5 stars 4.25 x 0.5 x 7 inches\n"
     ]
    },
    {
     "name": "stderr",
     "output_type": "stream",
     "text": [
      "2022-09-18 02:03:19 [scrapy.downloadermiddlewares.redirect] DEBUG: Redirecting (302) to <GET https://www.amazon.com/Mastering-Python-Networking-automation-programmability/dp/1839214678/ref=sr_1_50_sspa?keywords=python&qid=1663459274&sr=8-50-spons&psc=1&spLa=ZW5jcnlwdGVkUXVhbGlmaWVyPUEyWU1VNk1aM0lMM0cmZW5jcnlwdGVkSWQ9QTA2NjIwMDIxNjJYUEY2S0RIVkVJJmVuY3J5cHRlZEFkSWQ9QTAyNjMwMTNRTVhUMjdBNTJHUCZ3aWRnZXROYW1lPXNwX2F0Zl9uZXh0JmFjdGlvbj1jbGlja1JlZGlyZWN0JmRvTm90TG9nQ2xpY2s9dHJ1ZQ==> from <GET https://www.amazon.com/gp/slredirect/picassoRedirect.html/ref=pa_sp_atf_next_aps_sr_pg2_1?ie=UTF8&adId=A0263013QMXT27A52GP&url=%2FMastering-Python-Networking-automation-programmability%2Fdp%2F1839214678%2Fref%3Dsr_1_50_sspa%3Fkeywords%3Dpython%26qid%3D1663459274%26sr%3D8-50-spons%26psc%3D1&qualifier=1663459274&id=4039912833702572&widgetName=sp_atf_next>\n",
      "2022-09-18 02:03:20 [scrapy.core.engine] DEBUG: Crawled (200) <GET https://www.amazon.com/Python-Entrada-Funciones-Excepciones-F%C3%A1cilmente/dp/B08TZDYJ72/ref=sr_1_61?keywords=python&qid=1663459274&sr=8-61> (referer: https://www.amazon.com/s?k=python&page=2&qid=1663458276&ref=sr_pg_2)\n"
     ]
    },
    {
     "name": "stdout",
     "output_type": "stream",
     "text": [
      "337\n",
      "['\\n            \\n              61%\\n            \\n          '] 4.5 out of 5 stars 6 x 0.15 x 9 inches\n"
     ]
    },
    {
     "name": "stderr",
     "output_type": "stream",
     "text": [
      "2022-09-18 02:03:21 [scrapy.core.engine] DEBUG: Crawled (200) <GET https://www.amazon.com/Python-Excel-Environment-Automation-Analysis/dp/1492081000/ref=sr_1_53?keywords=python&qid=1663459274&sr=8-53> (referer: https://www.amazon.com/s?k=python&page=2&qid=1663458276&ref=sr_pg_2)\n",
      "2022-09-18 02:03:22 [scrapy.core.engine] DEBUG: Crawled (200) <GET https://www.amazon.com/Python-All-One-Dummies-Computer/dp/1119787602/ref=sr_1_30?keywords=python&qid=1663459261&sr=8-30> (referer: https://www.amazon.com/s?k=python&ref=nb_sb_noss)\n"
     ]
    },
    {
     "name": "stdout",
     "output_type": "stream",
     "text": [
      "338\n",
      "['\\n            \\n              72%\\n            \\n          '] 4.5 out of 5 stars 7 x 0.7 x 9.19 inches\n"
     ]
    },
    {
     "name": "stderr",
     "output_type": "stream",
     "text": [
      "2022-09-18 02:03:22 [scrapy.core.engine] DEBUG: Crawled (200) <GET https://www.amazon.com/Python-Data-Science-Example-Vasiliev/dp/1718502206/ref=sr_1_29?keywords=python&qid=1663459261&sr=8-29> (referer: https://www.amazon.com/s?k=python&ref=nb_sb_noss)\n",
      "2022-09-18 02:03:22 [scrapy.core.engine] DEBUG: Crawled (200) <GET https://www.amazon.com/Data-Engineering-AWS-Gareth-Eagar/dp/1800560419/ref=sr_1_69_sspa?keywords=python&qid=1663459274&sr=8-69-spons&psc=1&spLa=ZW5jcnlwdGVkUXVhbGlmaWVyPUEyWU1VNk1aM0lMM0cmZW5jcnlwdGVkSWQ9QTA2NjIwMDIxNjJYUEY2S0RIVkVJJmVuY3J5cHRlZEFkSWQ9QTAzMjg5NzgxT0FDQ1paQUNUR0FHJndpZGdldE5hbWU9c3BfbXRmJmFjdGlvbj1jbGlja1JlZGlyZWN0JmRvTm90TG9nQ2xpY2s9dHJ1ZQ==> (referer: https://www.amazon.com/s?k=python&page=2&qid=1663458276&ref=sr_pg_2)\n"
     ]
    },
    {
     "name": "stdout",
     "output_type": "stream",
     "text": [
      "339\n",
      "[] None None\n"
     ]
    },
    {
     "name": "stderr",
     "output_type": "stream",
     "text": [
      "2022-09-18 02:03:22 [scrapy.core.engine] DEBUG: Crawled (200) <GET https://www.amazon.com/Python-DevOps-Ruthlessly-Effective-Automation/dp/149205769X/ref=sr_1_54?keywords=python&qid=1663459274&sr=8-54> (referer: https://www.amazon.com/s?k=python&page=2&qid=1663458276&ref=sr_pg_2)\n",
      "2022-09-18 02:03:22 [scrapy.core.engine] DEBUG: Crawled (200) <GET https://www.amazon.com/Python-Comprehensive-Guide-Hands-Programming/dp/149322302X/ref=sr_1_27?keywords=python&qid=1663459261&sr=8-27> (referer: https://www.amazon.com/s?k=python&ref=nb_sb_noss)\n"
     ]
    },
    {
     "name": "stdout",
     "output_type": "stream",
     "text": [
      "340\n",
      "[] None None\n",
      "341\n",
      "['\\n            \\n              63%\\n            \\n          '] 4.4 out of 5 stars 7.5 x 1.09 x 9.25 inches\n"
     ]
    },
    {
     "name": "stderr",
     "output_type": "stream",
     "text": [
      "2022-09-18 02:03:22 [scrapy.core.engine] DEBUG: Crawled (200) <GET https://www.amazon.com/Big-Book-Small-Python-Programming/dp/1718501242/ref=sr_1_14?keywords=python&qid=1663459261&sr=8-14> (referer: https://www.amazon.com/s?k=python&ref=nb_sb_noss)\n",
      "2022-09-18 02:03:22 [scrapy.downloadermiddlewares.redirect] DEBUG: Redirecting (302) to <GET https://www.amazon.com/Become-Awesome-Software-Architect-Foundation/dp/1697271065/ref=sr_1_49_sspa?keywords=python&qid=1663459274&sr=8-49-spons&psc=1&spLa=ZW5jcnlwdGVkUXVhbGlmaWVyPUEyWU1VNk1aM0lMM0cmZW5jcnlwdGVkSWQ9QTA2NjIwMDIxNjJYUEY2S0RIVkVJJmVuY3J5cHRlZEFkSWQ9QTAyMjg2NDVJMkMzVDZCQzlKSEImd2lkZ2V0TmFtZT1zcF9hdGZfbmV4dCZhY3Rpb249Y2xpY2tSZWRpcmVjdCZkb05vdExvZ0NsaWNrPXRydWU=> from <GET https://www.amazon.com/gp/slredirect/picassoRedirect.html/ref=pa_sp_atf_next_aps_sr_pg2_1?ie=UTF8&adId=A0228645I2C3T6BC9JHB&url=%2FBecome-Awesome-Software-Architect-Foundation%2Fdp%2F1697271065%2Fref%3Dsr_1_49_sspa%3Fkeywords%3Dpython%26qid%3D1663459274%26sr%3D8-49-spons%26psc%3D1&qualifier=1663459274&id=4039912833702572&widgetName=sp_atf_next>\n"
     ]
    },
    {
     "name": "stdout",
     "output_type": "stream",
     "text": [
      "342\n",
      "['\\n            \\n              73%\\n            \\n          '] 4.5 out of 5 stars 7.01 x 1.02 x 9.17 inches\n",
      "343\n",
      "[] None None\n",
      "344\n",
      "[] None None\n"
     ]
    },
    {
     "name": "stderr",
     "output_type": "stream",
     "text": [
      "2022-09-18 02:03:23 [scrapy.core.engine] DEBUG: Crawled (200) <GET https://www.amazon.com/Python-Frayne-Rosanoff/dp/B083ZJM2XM/ref=sr_1_15?keywords=python&qid=1663459261&sr=8-15> (referer: https://www.amazon.com/s?k=python&ref=nb_sb_noss)\n",
      "2022-09-18 02:03:23 [scrapy.core.engine] DEBUG: Crawled (200) <GET https://www.amazon.com/Excel-2022-Illustrative-Beginners-Fundamental/dp/B0B1JZYHHX/ref=sr_1_52_sspa?keywords=python&qid=1663459274&sr=8-52-spons&psc=1&spLa=ZW5jcnlwdGVkUXVhbGlmaWVyPUEyWU1VNk1aM0lMM0cmZW5jcnlwdGVkSWQ9QTA2NjIwMDIxNjJYUEY2S0RIVkVJJmVuY3J5cHRlZEFkSWQ9QTA1OTA5MzBHTEk1UDA4U01XN1kmd2lkZ2V0TmFtZT1zcF9hdGZfbmV4dCZhY3Rpb249Y2xpY2tSZWRpcmVjdCZkb05vdExvZ0NsaWNrPXRydWU=> (referer: https://www.amazon.com/s?k=python&page=2&qid=1663458276&ref=sr_pg_2)\n",
      "2022-09-18 02:03:23 [scrapy.core.engine] DEBUG: Crawled (200) <GET https://www.amazon.com/Python-Programming-Beginners-Step-Hands/dp/B0B3S3RFQT/ref=sr_1_11?keywords=python&qid=1663459261&sr=8-11> (referer: https://www.amazon.com/s?k=python&ref=nb_sb_noss)\n",
      "2022-09-18 02:03:23 [scrapy.core.engine] DEBUG: Crawled (200) <GET https://www.amazon.com/Python-Essential-Reference-Developers-Library/dp/0134173279/ref=sr_1_57?keywords=python&qid=1663459274&sr=8-57> (referer: https://www.amazon.com/s?k=python&page=2&qid=1663458276&ref=sr_pg_2)\n",
      "2022-09-18 02:03:23 [scrapy.core.engine] DEBUG: Crawled (200) <GET https://www.amazon.com/Fluent-Python-Concise-Effective-Programming/dp/1491946008/ref=sr_1_55?keywords=python&qid=1663459274&sr=8-55> (referer: https://www.amazon.com/s?k=python&page=2&qid=1663458276&ref=sr_pg_2)\n"
     ]
    },
    {
     "name": "stdout",
     "output_type": "stream",
     "text": [
      "345\n",
      "[] None None\n",
      "346\n",
      "[] None None\n"
     ]
    },
    {
     "name": "stderr",
     "output_type": "stream",
     "text": [
      "2022-09-18 02:03:24 [scrapy.core.engine] DEBUG: Crawled (200) <GET https://www.amazon.com/Object-Oriented-Python-Master-Building-Games/dp/1718502060/ref=sr_1_10?keywords=python&qid=1663459261&sr=8-10> (referer: https://www.amazon.com/s?k=python&ref=nb_sb_noss)\n"
     ]
    },
    {
     "name": "stdout",
     "output_type": "stream",
     "text": [
      "347\n",
      "[] None None\n",
      "348\n",
      "['\\n            \\n              76%\\n            \\n          '] 4.6 out of 5 stars 6.9 x 0.8 x 9 inches\n"
     ]
    },
    {
     "name": "stderr",
     "output_type": "stream",
     "text": [
      "2022-09-18 02:03:24 [scrapy.core.engine] DEBUG: Crawled (200) <GET https://www.amazon.com/Python-Programming-Beginners-Hands-Exercises/dp/B09TYJY819/ref=sr_1_9?keywords=python&qid=1663459261&sr=8-9> (referer: https://www.amazon.com/s?k=python&ref=nb_sb_noss)\n",
      "2022-09-18 02:03:24 [scrapy.core.engine] DEBUG: Crawled (200) <GET https://www.amazon.com/Python-Programming-Language-Berajah-Jayne/dp/1423241886/ref=sr_1_8?keywords=python&qid=1663459261&sr=8-8> (referer: https://www.amazon.com/s?k=python&ref=nb_sb_noss)\n"
     ]
    },
    {
     "name": "stdout",
     "output_type": "stream",
     "text": [
      "349\n",
      "['\\n            \\n              80%\\n            \\n          '] 4.6 out of 5 stars 7 x 1.57 x 9.19 inches\n",
      "350\n",
      "[] None None\n"
     ]
    },
    {
     "name": "stderr",
     "output_type": "stream",
     "text": [
      "2022-09-18 02:03:24 [scrapy.core.engine] DEBUG: Crawled (200) <GET https://www.amazon.com/Python-Bible-Beginner-Intermediate-Learning/dp/B0863R7BZS/ref=sr_1_28?keywords=python&qid=1663459261&sr=8-28> (referer: https://www.amazon.com/s?k=python&ref=nb_sb_noss)\n",
      "2022-09-18 02:03:24 [scrapy.core.engine] DEBUG: Crawled (200) <GET https://www.amazon.com/Become-Awesome-Software-Architect-Foundation/dp/1697271065/ref=sr_1_49_sspa?keywords=python&qid=1663459274&sr=8-49-spons&psc=1&spLa=ZW5jcnlwdGVkUXVhbGlmaWVyPUEyWU1VNk1aM0lMM0cmZW5jcnlwdGVkSWQ9QTA2NjIwMDIxNjJYUEY2S0RIVkVJJmVuY3J5cHRlZEFkSWQ9QTAyMjg2NDVJMkMzVDZCQzlKSEImd2lkZ2V0TmFtZT1zcF9hdGZfbmV4dCZhY3Rpb249Y2xpY2tSZWRpcmVjdCZkb05vdExvZ0NsaWNrPXRydWU=> (referer: https://www.amazon.com/s?k=python&page=2&qid=1663458276&ref=sr_pg_2)\n"
     ]
    },
    {
     "name": "stdout",
     "output_type": "stream",
     "text": [
      "351\n",
      "[] None None\n",
      "352\n",
      "[] None None\n"
     ]
    },
    {
     "name": "stderr",
     "output_type": "stream",
     "text": [
      "2022-09-18 02:03:25 [scrapy.core.engine] DEBUG: Crawled (200) <GET https://www.amazon.com/Python-Programmers-Artificial-Intelligence-Studies/dp/0135224330/ref=sr_1_51_sspa?keywords=python&qid=1663459274&sr=8-51-spons&psc=1&spLa=ZW5jcnlwdGVkUXVhbGlmaWVyPUEyWU1VNk1aM0lMM0cmZW5jcnlwdGVkSWQ9QTA2NjIwMDIxNjJYUEY2S0RIVkVJJmVuY3J5cHRlZEFkSWQ9QTAxMjM2MjUzSUpKR1JGQUdQN080JndpZGdldE5hbWU9c3BfYXRmX25leHQmYWN0aW9uPWNsaWNrUmVkaXJlY3QmZG9Ob3RMb2dDbGljaz10cnVl> (referer: https://www.amazon.com/s?k=python&page=2&qid=1663458276&ref=sr_pg_2)\n"
     ]
    },
    {
     "name": "stdout",
     "output_type": "stream",
     "text": [
      "353\n",
      "['\\n            \\n              71%\\n            \\n          '] 4.5 out of 5 stars 5 x 1.27 x 8 inches\n",
      "354\n",
      "[] None None\n",
      "355\n",
      "['\\n            \\n              70%\\n            \\n          '] 4.4 out of 5 stars 7.1 x 1.2 x 9.1 inches\n"
     ]
    },
    {
     "name": "stderr",
     "output_type": "stream",
     "text": [
      "2022-09-18 02:03:25 [scrapy.core.engine] DEBUG: Crawled (200) <GET https://www.amazon.com/Mastering-Python-Networking-automation-programmability/dp/1839214678/ref=sr_1_50_sspa?keywords=python&qid=1663459274&sr=8-50-spons&psc=1&spLa=ZW5jcnlwdGVkUXVhbGlmaWVyPUEyWU1VNk1aM0lMM0cmZW5jcnlwdGVkSWQ9QTA2NjIwMDIxNjJYUEY2S0RIVkVJJmVuY3J5cHRlZEFkSWQ9QTAyNjMwMTNRTVhUMjdBNTJHUCZ3aWRnZXROYW1lPXNwX2F0Zl9uZXh0JmFjdGlvbj1jbGlja1JlZGlyZWN0JmRvTm90TG9nQ2xpY2s9dHJ1ZQ==> (referer: https://www.amazon.com/s?k=python&page=2&qid=1663458276&ref=sr_pg_2)\n",
      "2022-09-18 02:03:25 [scrapy.core.engine] DEBUG: Crawled (200) <GET https://www.amazon.com/Python-Data-Analysis-Wrangling-Jupyter/dp/109810403X/ref=sr_1_12?keywords=python&qid=1663459261&sr=8-12> (referer: https://www.amazon.com/s?k=python&ref=nb_sb_noss)\n"
     ]
    },
    {
     "name": "stdout",
     "output_type": "stream",
     "text": [
      "356\n",
      "['\\n            \\n              76%\\n            \\n          '] 4.6 out of 5 stars 7.5 x 1.3 x 9.25 inches\n",
      "357\n",
      "['\\n            \\n              100%\\n            \\n          '] 5.0 out of 5 stars 9.1 x 1.2 x 6.9 inches\n"
     ]
    },
    {
     "name": "stderr",
     "output_type": "stream",
     "text": [
      "2022-09-18 02:03:27 [scrapy.core.engine] DEBUG: Crawled (200) <GET https://www.amazon.com/Automate-Boring-Stuff-Python-2nd/dp/1593279922/ref=sr_1_7?keywords=python&qid=1663459261&sr=8-7> (referer: https://www.amazon.com/s?k=python&ref=nb_sb_noss)\n"
     ]
    },
    {
     "name": "stdout",
     "output_type": "stream",
     "text": [
      "358\n",
      "['\\n            \\n              82%\\n            \\n          '] 4.7 out of 5 stars 7 x 1.31 x 9.31 inches\n"
     ]
    },
    {
     "name": "stderr",
     "output_type": "stream",
     "text": [
      "2022-09-18 02:03:28 [scrapy.core.engine] DEBUG: Crawled (200) <GET https://www.amazon.com/Introducing-Python-Modern-Computing-Packages/dp/1492051365/ref=sr_1_13?keywords=python&qid=1663459261&sr=8-13> (referer: https://www.amazon.com/s?k=python&ref=nb_sb_noss)\n",
      "2022-09-18 02:03:28 [scrapy.core.engine] DEBUG: Crawled (200) <GET https://www.amazon.com/Learning-Python-5th-Mark-Lutz/dp/1449355730/ref=sr_1_6?keywords=python&qid=1663459261&sr=8-6> (referer: https://www.amazon.com/s?k=python&ref=nb_sb_noss)\n",
      "2022-09-18 02:03:28 [scrapy.core.engine] INFO: Closing spider (finished)\n",
      "2022-09-18 02:03:28 [scrapy.statscollectors] INFO: Dumping Scrapy stats:\n",
      "{'downloader/request_bytes': 370651,\n",
      " 'downloader/request_count': 438,\n",
      " 'downloader/request_method_count/GET': 438,\n",
      " 'downloader/response_bytes': 81659466,\n",
      " 'downloader/response_count': 438,\n",
      " 'downloader/response_status_count/200': 366,\n",
      " 'downloader/response_status_count/302': 72,\n",
      " 'elapsed_time_seconds': 147.136148,\n",
      " 'finish_reason': 'finished',\n",
      " 'finish_time': datetime.datetime(2022, 9, 18, 0, 3, 28, 490806),\n",
      " 'httpcompression/response_bytes': 422401757,\n",
      " 'httpcompression/response_count': 366,\n",
      " 'log_count/DEBUG': 443,\n",
      " 'log_count/INFO': 12,\n",
      " 'request_depth_max': 11,\n",
      " 'response_received_count': 366,\n",
      " 'scheduler/dequeued': 438,\n",
      " 'scheduler/dequeued/memory': 438,\n",
      " 'scheduler/enqueued': 438,\n",
      " 'scheduler/enqueued/memory': 438,\n",
      " 'start_time': datetime.datetime(2022, 9, 18, 0, 1, 1, 354658)}\n",
      "2022-09-18 02:03:28 [scrapy.core.engine] INFO: Spider closed (finished)\n"
     ]
    },
    {
     "name": "stdout",
     "output_type": "stream",
     "text": [
      "359\n",
      "['\\n            \\n              81%\\n            \\n          '] 4.7 out of 5 stars 6.93 x 1.34 x 9.06 inches\n",
      "360\n",
      "['\\n            \\n              74%\\n            \\n          '] 4.5 out of 5 stars 7 x 2.8 x 9.19 inches\n"
     ]
    }
   ],
   "source": [
    "import scrapy\n",
    "import csv\n",
    "import time\n",
    "import scrapy_proxies\n",
    "from scrapy.crawler import CrawlerProcess\n",
    "import pandas as pd\n",
    "#import scrapy-fake-useragent\n",
    "class FirstWebsiteSpider(scrapy.Spider):\n",
    "    \n",
    "    rotate_user_agent = True   \n",
    "    name = 'first_website'\n",
    "    #https://www.amazon.com/s?k=data+science&i=stripbooks-intl-ship&page=3&crid=1YWU6OJK4L3BA&qid=1662895059&sprefix=data+science%2Cstripbooks-intl-ship%2C247&ref=sr_pg_3\n",
    "    allowed_domains = [\"www.amazon.com\"] #, \"https://www.amazon.com\"\n",
    "    handle_httpstatus_list = [503]\n",
    "    start_urls =[\"https://www.amazon.com/s?k=python&ref=nb_sb_noss\"] \n",
    "    list_items=[]\n",
    "    j=1\n",
    "    #download_delay = 3 #The number you write here will be how many seconds scrapy waits before sending another request.\n",
    "    #x=pd.DataFrame([])\n",
    "    n_page_to_scrape=7\n",
    "    items_in_page=60\n",
    "    RETRY_TIMES=20\n",
    "    #DOWNLOADER_MIDDLEWARES = {\n",
    "    #'scrapy.downloadermiddlewares.useragent.UserAgentMiddleware': None,\n",
    "    #'scrapy.downloadermiddlewares.retry.RetryMiddleware': None,\n",
    "    #'scrapy_fake_useragent.middleware.RandomUserAgentMiddleware': 400,\n",
    "    #'scrapy_fake_useragent.middleware.RetryUserAgentMiddleware': 401,\n",
    "    #}\n",
    "    FAKEUSERAGENT_PROVIDERS = [\n",
    "    'scrapy_fake_useragent.providers.FakeUserAgentProvider',  # this is the first provider we'll try\n",
    "    'scrapy_fake_useragent.providers.FakerProvider',  # if FakeUserAgentProvider fails, we'll use faker to generate a user-agent string for us\n",
    "    'scrapy_fake_useragent.providers.FixedUserAgentProvider',  # fall back to USER_AGENT value\n",
    "]\n",
    "    def parse(self, response):\n",
    "        print (response.request.headers['User-Agent'])\n",
    "    def parse(self, response):\n",
    "        #self.j=j\n",
    "        print(self.j)\n",
    "        #time.sleep(3)\n",
    "        next_page_url=f\"https://www.amazon.com/s?k=python&page={self.j}&qid=1663458276&ref=sr_pg_{self.j}\"\n",
    "        box=response.xpath(\"//div[@class='a-section a-spacing-small puis-padding-left-small puis-padding-right-small']\")             #(\"//h2[@class='a-size-mini a-spacing-none a-color-base s-line-clamp-3']\")\n",
    "        #print(box)\n",
    "                                 \n",
    "        #links=[]\n",
    "        #titles=[]\n",
    "        item={}\n",
    "        \n",
    "        for ind,i in enumerate(box):\n",
    "            #print('g')\n",
    "            #country_name = country.xpath(\".//text()\").get()\n",
    "            #title=i.xpath(\"//span[@class='a-size-base a-color-base a-text-normal']/text()\").getall()\n",
    "            title=i.xpath(\".//a[@class='a-link-normal s-underline-text s-underline-link-text s-link-style a-text-normal']/span/text()\").get()\n",
    "            link = i.xpath(\".//a[@class='a-link-normal s-underline-text s-underline-link-text s-link-style a-text-normal']/@href\").get()\n",
    "            author=i.xpath(\".//div[@class='a-row a-size-base a-color-secondary']/a[@class='a-size-base a-link-normal s-underline-text s-underline-link-text s-link-style']/text() | (.//div[@class='a-row a-size-base a-color-secondary']/a[@class='a-link-normal s-underline-text s-underline-link-text s-link-style']/text()) | (.//div[@class='a-row a-size-base a-color-secondary']/span[@class='a-size-base']/text())\").getall()\n",
    "            \n",
    "            #links.append(link)\n",
    "            #'a-link-normal s-underline-text s-underline-link-text s-link-style'\n",
    "            #titles.append(title)\n",
    "            print(title)\n",
    "            #//div[@class='a-section a-spacing-small puis-padding-left-small puis-padding-right-small']/*/*/a[@class='a-link-normal s-underline-text s-underline-link-text s-link-style a-text-normal']/@href  #print(title)\n",
    "            yield response.follow(url=link, callback=self.parse_book, meta={'ind':ind,'title':title,'author':author,'link':link})\n",
    "    \n",
    "  \n",
    "    # Getting data inside the \"link\" website\n",
    "    def parse_book(self, response):\n",
    "        #time.sleep(4)\n",
    "        # Getting country names and each row element inside the population table\n",
    "        title = response.request.meta['title']\n",
    "        ind = response.request.meta['ind']\n",
    "        link = response.request.meta['link']\n",
    "        author = response.request.meta['author']\n",
    "        #if author==[' ']:\n",
    "        price=response.xpath(\"//div[@id='buyNew_cbb']/div[@class='a-row']/div[@class='a-column a-span12 a-text-left']/span/text() | ((//a[@class='a-link-normal']/span[@class='a-color-price']/text())[1]) | (//a[@class='a-button-text']/span[@class='a-color-base']/span[@class='a-size-base a-color-price a-color-price']/text())\").get()\n",
    "        #//div[@id='buyNew_cbb']/div[@class='a-row']/div[@class='a-column a-span12 a-text-left']/span/text() | ((//a[@class='a-link-normal']/span[@class='a-color-price']/text())[1]) \n",
    "        #pages=response.xpath(\"//span[@class='a-list-item']/*[contains(text(),'pages')/text()\").get()\n",
    "        pages=response.xpath(\"//span[@class='a-list-item']/span[contains( text(),'pages')]/text()\").get()\n",
    "        language=response.xpath(\"//span[@class='a-text-bold'][contains(text(),'Language')]/following-sibling::span[1]/text()\").get()\n",
    "        publisher=response.xpath(\"//span[@class='a-text-bold'][contains(text(),'Publisher')]/following-sibling::span[1]/text()\").get()\n",
    "        dimensions=response.xpath(\"//span[@class='a-text-bold'][contains(text(),'Dimensions')]/following-sibling::span[1]/text()\").get()\n",
    "        weight=response.xpath(\"//span[@class='a-text-bold'][contains(text(),'Weight')]/following-sibling::span[1]/text()\").get()\n",
    "        avg_reviews=response.xpath(\"(//a[@class='a-popover-trigger a-declarative']/i[@class='a-icon a-icon-star a-star-5']/span[@class='a-icon-alt']/text())[1] | ((//a[@class='a-popover-trigger a-declarative']/i/span[@class='a-icon-alt'])[1]/text())\").get()\n",
    "        time.sleep(0.1)\n",
    "        star5=response.xpath(\"(//span[@class='a-size-base']/a[contains(text(),'%')])[1]/text()\").getall()\n",
    "        star4=response.xpath(\"(//span[@class='a-size-base']/a[contains(text(),'%')])[2]/text()\").getall()\n",
    "        star3=response.xpath(\"(//span[@class='a-size-base']/a[contains(text(),'%')])[3]/text()\").getall()\n",
    "        star2=response.xpath(\"(//span[@class='a-size-base']/a[contains(text(),'%')])[4]/text()\").getall()\n",
    "        star1=response.xpath(\"(//span[@class='a-size-base']/a[contains(text(),'%')])[5]/text()\").getall()\n",
    "        ISBN_13=response.xpath(\"//div[@id='isbn_feature_div']/div/div/span[contains(text(),'13')]/following-sibling::span[1]/text()\").get()\n",
    "        n_reviews=response.xpath(\"(//span[@class='a-declarative']/a[@class='a-link-normal']/span[@id='acrCustomerReviewText']/text())[1]\").get()\n",
    "        \n",
    "        #print(title)\n",
    "        #author= response.xpath(\"//span[@class='a-declarative']/a[@class='a-link-normal contributorNameID']/text()\").get()  # You can also use the whole class value  --> response.xpath('(//table[@class=\"table table-striped table-bordered table-hover table-condensed table-list\"])[1]/tbody/tr')\n",
    "            # Return data extracted\n",
    "        keys=['title','author','price','pages','avg_reviews','n_reviews','star5','star4','star3','star2','star1','dimensions','weight','language','publisher','ISBN_13','link']\n",
    "        values= [title,author,price,pages,avg_reviews,n_reviews,star5,star4,star3,star2,star1,dimensions,weight,language,publisher,ISBN_13,link]    #  {'title': title, 'author':author}\n",
    "        self.list_items.append(values)\n",
    "        item=dict(zip(keys, values))\n",
    "        print(len(self.list_items))\n",
    "        print(star5,avg_reviews,dimensions)\n",
    "        #print(title,author)\n",
    "        \n",
    "      \n",
    "        #if self.j >1:\n",
    "          #  next_page_url=f\"https://www.amazon.com/s?k=data+science&s=relevanceblender&page={self.j}&crid=2YKZLS0CJFDGI&qid=1663103507&sprefix=data+science%2Caps%2C828&ref=sr_pg_{self.j}\"\n",
    "        #else:\n",
    "            #next_page_url=self.start_urls[0]\n",
    "        #yield scrapy.Request(url=next_page_url, callback=self.parse_pagination, meta={'title':title,'author':author})\n",
    "        \n",
    "        #   def parse_pagination(self,response):\n",
    "        #title = response.request.meta['title']  \n",
    "        #author=response.request.meta['author'] \n",
    "        #print('va beeeeeneeeeeeeeeeeeeeeeeeeeeeeeeeeeeeeeeeeeeeeeeeeeeeeeeeeeeeeeeeeeeeeeeeeeeeeeeeeeeeeeeeeeeeeeeeee')\n",
    "        #if ind==\n",
    "        #print(ind)\n",
    "        \n",
    "        if ind==59:\n",
    "            time.sleep(3)\n",
    "            self.j+=1\n",
    "            next_page_url=f\"https://www.amazon.com/s?k=python&page={self.j}&qid=1663458276&ref=sr_pg_{self.j}\"\n",
    "            if next_page_url and self.j<self.n_page_to_scrape:\n",
    "                print('start_new_page')\n",
    "            \n",
    "                yield scrapy.Request(url=next_page_url, callback=self.parse)#,self.j \n",
    "            #time.sleep(10)\n",
    "         #,'authors','dates'      \n",
    "        if len(self.list_items)==(self.items_in_page): #self.j==self.n_page_to_scrape:\n",
    "            time.sleep(5)\n",
    "            print(self.list_items)\n",
    "            x=pd.DataFrame(self.list_items,columns=keys)\n",
    "            #print(x)\n",
    "            yield x.to_csv(\"outputfile2_python.csv\",sep=\",\")\n",
    "            #with open(\"outputfile.csv\", \"w\", newline=\"\") as f:\n",
    "                #writer = csv.DictWriter(f, ['titles','authors','dates'])\n",
    "                #writer.writeheader()           \n",
    "                #writer.writerows(self.list_items)\n",
    "                #print(self.list_items) #\n",
    "        if len(self.list_items)==359:#(self.n_page_to_scrape-2)*(self.items_in_page): #self.j==self.n_page_to_scrape:\n",
    "            #time.sleep(70)\n",
    "            #print(self.list_items)\n",
    "            y=pd.DataFrame(self.list_items,columns=keys)\n",
    "            #print(x)\n",
    "            yield y.to_csv(\"outputfile_final_python.csv\",sep=\",\")\n",
    "            #with open(\"outputfile.csv\", \"w\", newline=\"\") as f:\n",
    "                #writer = csv.DictWriter(f, ['titles','authors','dates'])\n",
    "                #writer.writeheader()           \n",
    "                #writer.writerows(self.list_items)\n",
    "                #print(self.list_items) #\n",
    "                \n",
    "#//div[@class='a-row']/a[@class='a-size-base a-link-normal s-underline-text s-underline-link-text s-link-style']/text() | ( //div[@class='a-#row']/span[@class='a-size-base']/text()\n",
    "process = CrawlerProcess({\n",
    "     #'USER_AGENT':'USER_AGENT':\"Mozilla/5.0 (Windows NT 10.0; Win64; x64) AppleWebKit/537.36 (KHTML, like Gecko) Chrome/105.0.0.0 Safari/537.36\"\n",
    "    #'USER_AGENT':\"Mozilla/5.0 (Macintosh; Intel Mac OS X 10_15) AppleWebKit/605.1.15 (KHTML, like Gecko) Version/13.0.5 Safari/605.1.15\"#\n",
    "    'USER_AGENT':'Mozilla/5.0 (compatible; MSIE 7.0; Windows NT 5.1)'\n",
    "  #'USER_AGENT':  \"Mozilla/4.0 (X11; Linux x86_64) AppleWebKit/537.36 (KHTML, like Gecko) Chrome/103.0.5060.53 Safari/537.36\",\n",
    "  #'USER_AGENT':  \"Mozilla/5.0 (Windows NT 10.0; Windows; x64) AppleWebKit/537.36 (KHTML, like Gecko) Chrome/103.0.5060.114 Safari/537.36\",\n",
    "  #'USER_AGENT':  \"Mozilla/5.0 (Macintosh; Intel Mac OS X 10_10_5) AppleWebKit/603.3.8 (KHTML, like Gecko) Version/10.1.2 Safari/603.3.8\",\n",
    "  #'USER_AGENT':  \"Mozilla/5.0 (Macintosh; Intel Mac OS X 10_15_7) AppleWebKit/605.1.15 (KHTML, like Gecko) Version/14.0 Safari/605.1.15\"\n",
    "  #'USER_AGENT':  \"Mozilla/5.0 (Macintosh; Intel Mac OS X 10_15_6) AppleWebKit/605.1.15 (KHTML, like Gecko) Version/14.0 Safari/605.1.15\"\n",
    "  #'USER_AGENT':  \"Mozilla/5.0 (Windows NT 10.0; Windows; x64) AppleWebKit/537.36 (KHTML, like Gecko) Chrome/103.0.5060.114 Safari/537.36\"\n",
    "  #'USER_AGENT':  \"Mozilla/5.0 (X11; Linux x86_64) AppleWebKit/537.36 (KHTML, like Gecko) Chrome/103.0.5060.53 Safari/537.36\"\n",
    "\n",
    "\n",
    "})\n",
    "\n",
    "process.crawl(FirstWebsiteSpider)\n",
    "process.start()\n"
   ]
  },
  {
   "cell_type": "code",
   "execution_count": 2,
   "id": "e13533af",
   "metadata": {},
   "outputs": [
    {
     "ename": "NameError",
     "evalue": "name 'response' is not defined",
     "output_type": "error",
     "traceback": [
      "\u001b[1;31m---------------------------------------------------------------------------\u001b[0m",
      "\u001b[1;31mNameError\u001b[0m                                 Traceback (most recent call last)",
      "\u001b[1;32m<ipython-input-2-38d765480056>\u001b[0m in \u001b[0;36m<module>\u001b[1;34m\u001b[0m\n\u001b[1;32m----> 1\u001b[1;33m \u001b[0mauthors\u001b[0m\u001b[1;33m,\u001b[0m\u001b[0mtitles\u001b[0m\u001b[1;33m=\u001b[0m\u001b[0mFirstWebsiteSpider\u001b[0m\u001b[1;33m.\u001b[0m\u001b[0mparse\u001b[0m\u001b[1;33m(\u001b[0m\u001b[0mscrapy\u001b[0m\u001b[1;33m.\u001b[0m\u001b[0mSpider\u001b[0m\u001b[1;33m,\u001b[0m\u001b[0mresponse\u001b[0m\u001b[1;33m)\u001b[0m\u001b[1;33m\u001b[0m\u001b[1;33m\u001b[0m\u001b[0m\n\u001b[0m",
      "\u001b[1;31mNameError\u001b[0m: name 'response' is not defined"
     ]
    }
   ],
   "source": [
    "authors,titles=FirstWebsiteSpider.parse(scrapy.Spider,response)"
   ]
  },
  {
   "cell_type": "code",
   "execution_count": null,
   "id": "08551c28",
   "metadata": {},
   "outputs": [],
   "source": [
    "@href='/s?k=data+science&amp;i=stripbooks-intl-ship&amp;page=3&amp;crid=20YNDMUXOLCJ6&amp;qid=1663030048&amp;sprefix=data+science%2Cstripbooks-intl-ship%2C314&amp;ref=sr_pg_3' "
   ]
  },
  {
   "cell_type": "code",
   "execution_count": 2,
   "id": "004de66d",
   "metadata": {},
   "outputs": [],
   "source": [
    "j=1\n",
    "p=f'/s?k=data+science&amp;i=stripbooks-intl-ship&amp;page={j}&amp;crid=20YNDMUXOLCJ6&amp;qid=1663030048&amp;sprefix=data+science%2Cstripbooks-intl-ship%2C314&amp;ref=sr_pg_{j}'"
   ]
  },
  {
   "cell_type": "code",
   "execution_count": 3,
   "id": "e413f5a4",
   "metadata": {},
   "outputs": [
    {
     "data": {
      "text/plain": [
       "'/s?k=data+science&amp;i=stripbooks-intl-ship&amp;page=1&amp;crid=20YNDMUXOLCJ6&amp;qid=1663030048&amp;sprefix=data+science%2Cstripbooks-intl-ship%2C314&amp;ref=sr_pg_1'"
      ]
     },
     "execution_count": 3,
     "metadata": {},
     "output_type": "execute_result"
    }
   ],
   "source": [
    "p"
   ]
  },
  {
   "cell_type": "code",
   "execution_count": null,
   "id": "25e7e5b4",
   "metadata": {},
   "outputs": [],
   "source": [
    "<a href=>3</a>"
   ]
  },
  {
   "cell_type": "code",
   "execution_count": 3,
   "id": "35f1fcab",
   "metadata": {},
   "outputs": [
    {
     "data": {
      "text/plain": [
       "'rit0'"
      ]
     },
     "execution_count": 3,
     "metadata": {},
     "output_type": "execute_result"
    }
   ],
   "source": [
    "u=0\n",
    "a=f'rit{u}'\n",
    "a"
   ]
  },
  {
   "cell_type": "code",
   "execution_count": 4,
   "id": "7acad823",
   "metadata": {},
   "outputs": [
    {
     "data": {
      "text/plain": [
       "'rit0'"
      ]
     },
     "execution_count": 4,
     "metadata": {},
     "output_type": "execute_result"
    }
   ],
   "source": [
    "u=1\n",
    "a"
   ]
  },
  {
   "cell_type": "code",
   "execution_count": 2,
   "id": "40f5e1b3",
   "metadata": {},
   "outputs": [],
   "source": []
  },
  {
   "cell_type": "code",
   "execution_count": 3,
   "id": "2c2ed70b",
   "metadata": {},
   "outputs": [
    {
     "data": {
      "text/plain": [
       "[3]"
      ]
     },
     "execution_count": 3,
     "metadata": {},
     "output_type": "execute_result"
    }
   ],
   "source": []
  },
  {
   "cell_type": "code",
   "execution_count": null,
   "id": "c9b908ea",
   "metadata": {},
   "outputs": [],
   "source": [
    "#print(item)    \n",
    "        self.j+=1\n",
    "        print(self.j)\n",
    "        next_page_url=f\"https://www.amazon.com/s?k=data+science&s=relevanceblender&page={self.j}&crid=2YKZLS0CJFDGI&qid=1663103507&sprefix=data+science%2Caps%2C828&ref=sr_pg_{self.j}\"\n",
    "        if next_page_url and self.j<self.n_page_to_scrape:\n",
    "            print('non va bene')\n",
    "            yield response.follow(url=next_page_url, callback=self.parse)#,self.j  \n",
    "         #,'authors','dates'\n",
    "        if self.j==self.n_page_to_scrape:\n",
    "            #print(self.list_items)\n",
    "            x=pd.DataFrame(self.list_items,columns=['title','author'])\n",
    "            #print(x)\n",
    "            yield x.to_csv(\"outputfile2.csv\",sep=\",\")\n",
    "        #yield response.follow(url=next_page_url, callback=self.parse_pagination, meta=item )"
   ]
  }
 ],
 "metadata": {
  "kernelspec": {
   "display_name": "Python 3",
   "language": "python",
   "name": "python3"
  },
  "language_info": {
   "codemirror_mode": {
    "name": "ipython",
    "version": 3
   },
   "file_extension": ".py",
   "mimetype": "text/x-python",
   "name": "python",
   "nbconvert_exporter": "python",
   "pygments_lexer": "ipython3",
   "version": "3.9.5"
  }
 },
 "nbformat": 4,
 "nbformat_minor": 5
}
